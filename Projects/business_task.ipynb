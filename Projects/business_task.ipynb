{
 "cells": [
  {
   "cell_type": "markdown",
   "metadata": {
    "toc": true
   },
   "source": [
    "<h1>Содержание<span class=\"tocSkip\"></span></h1>\n",
    "<div class=\"toc\"><ul class=\"toc-item\"><li><span><a href=\"#Загрузка-и-подготовка-данных\" data-toc-modified-id=\"Загрузка-и-подготовка-данных-1\"><span class=\"toc-item-num\">1&nbsp;&nbsp;</span>Загрузка и подготовка данных</a></span><ul class=\"toc-item\"><li><span><a href=\"#Загрузка-данных\" data-toc-modified-id=\"Загрузка-данных-1.1\"><span class=\"toc-item-num\">1.1&nbsp;&nbsp;</span>Загрузка данных</a></span></li><li><span><a href=\"#Предобработка-данных\" data-toc-modified-id=\"Предобработка-данных-1.2\"><span class=\"toc-item-num\">1.2&nbsp;&nbsp;</span>Предобработка данных</a></span></li><li><span><a href=\"#Исследовательский-анализ-данных\" data-toc-modified-id=\"Исследовательский-анализ-данных-1.3\"><span class=\"toc-item-num\">1.3&nbsp;&nbsp;</span>Исследовательский анализ данных</a></span><ul class=\"toc-item\"><li><span><a href=\"#Анализ-данных-1-го-региона\" data-toc-modified-id=\"Анализ-данных-1-го-региона-1.3.1\"><span class=\"toc-item-num\">1.3.1&nbsp;&nbsp;</span>Анализ данных 1-го региона</a></span></li><li><span><a href=\"#Анализ-данных-2-го-региона\" data-toc-modified-id=\"Анализ-данных-2-го-региона-1.3.2\"><span class=\"toc-item-num\">1.3.2&nbsp;&nbsp;</span>Анализ данных 2-го региона</a></span></li><li><span><a href=\"#Анализ-данных-3-го-региона\" data-toc-modified-id=\"Анализ-данных-3-го-региона-1.3.3\"><span class=\"toc-item-num\">1.3.3&nbsp;&nbsp;</span>Анализ данных 3-го региона</a></span></li></ul></li><li><span><a href=\"#Корреляционный-анализ\" data-toc-modified-id=\"Корреляционный-анализ-1.4\"><span class=\"toc-item-num\">1.4&nbsp;&nbsp;</span>Корреляционный анализ</a></span></li><li><span><a href=\"#Вывод-по-разделу\" data-toc-modified-id=\"Вывод-по-разделу-1.5\"><span class=\"toc-item-num\">1.5&nbsp;&nbsp;</span>Вывод по разделу</a></span></li></ul></li><li><span><a href=\"#Обучение-и-проверка-модели\" data-toc-modified-id=\"Обучение-и-проверка-модели-2\"><span class=\"toc-item-num\">2&nbsp;&nbsp;</span>Обучение и проверка модели</a></span></li><li><span><a href=\"#Подготовка-к-расчёту-прибыли\" data-toc-modified-id=\"Подготовка-к-расчёту-прибыли-3\"><span class=\"toc-item-num\">3&nbsp;&nbsp;</span>Подготовка к расчёту прибыли</a></span></li><li><span><a href=\"#Расчёт-прибыли-и-рисков\" data-toc-modified-id=\"Расчёт-прибыли-и-рисков-4\"><span class=\"toc-item-num\">4&nbsp;&nbsp;</span>Расчёт прибыли и рисков</a></span></li><li><span><a href=\"#Общий-вывод\" data-toc-modified-id=\"Общий-вывод-5\"><span class=\"toc-item-num\">5&nbsp;&nbsp;</span>Общий вывод</a></span></li><li><span><a href=\"#Чек-лист-готовности-проекта\" data-toc-modified-id=\"Чек-лист-готовности-проекта-6\"><span class=\"toc-item-num\">6&nbsp;&nbsp;</span>Чек-лист готовности проекта</a></span></li></ul></div>"
   ]
  },
  {
   "cell_type": "markdown",
   "metadata": {},
   "source": [
    "# Выбор локации для скважины"
   ]
  },
  {
   "cell_type": "markdown",
   "metadata": {},
   "source": [
    "Допустим, мы работаем в добывающей компании «ГлавРосГосНефть». Нужно решить, где бурить новую скважину.\n",
    "\n",
    "Нам предоставлены пробы нефти в трёх регионах: в каждом 100 000 месторождений, где измерили качество нефти и объём её запасов. Необходимо построить модель машинного обучения, которая поможет определить регион, где добыча принесёт наибольшую прибыль, и проанализировать возможную прибыль и риски техникой *Bootstrap.*\n",
    "\n",
    "Шаги для выбора локации:\n",
    "\n",
    "- В избранном регионе ищут месторождения, для каждого определяют значения признаков;\n",
    "- Строят модель и оценивают объём запасов;\n",
    "- Выбирают месторождения с самым высокими оценками значений. Количество месторождений зависит от бюджета компании и стоимости разработки одной скважины;\n",
    "- Прибыль равна суммарной прибыли отобранных месторождений."
   ]
  },
  {
   "cell_type": "markdown",
   "metadata": {},
   "source": [
    "## Загрузка и подготовка данных"
   ]
  },
  {
   "cell_type": "markdown",
   "metadata": {},
   "source": [
    "### Загрузка данных"
   ]
  },
  {
   "cell_type": "code",
   "execution_count": 1,
   "metadata": {},
   "outputs": [],
   "source": [
    "# Импортируем нужные библиотеки\n",
    "import pandas as pd\n",
    "import matplotlib.pyplot as plt\n",
    "import seaborn as sns\n",
    "import numpy as np\n",
    "from sklearn.model_selection import train_test_split\n",
    "from sklearn.preprocessing import StandardScaler, MinMaxScaler\n",
    "from sklearn.linear_model import LinearRegression\n",
    "from sklearn.metrics import mean_squared_error\n",
    "from scipy import stats as st"
   ]
  },
  {
   "cell_type": "code",
   "execution_count": 2,
   "metadata": {},
   "outputs": [],
   "source": [
    "# Задаем значения констант\n",
    "RANDOM_STATE = 42\n",
    "TEST_SIZE = 0.25\n",
    "\n",
    "STATE = np.random.RandomState(12345)"
   ]
  },
  {
   "cell_type": "code",
   "execution_count": 3,
   "metadata": {},
   "outputs": [],
   "source": [
    "# Функция для вывода графика количественных признаков\n",
    "def graph_quant_feature(df, col_name, col_title):\n",
    "    \n",
    "    \"\"\"\n",
    "    Функция в качестве аргументов принимает датафрейм, название столбца, для которого необходимо вывести график, \n",
    "    и общее название для 2-х графиков. Она выводит гистограмму и диаграмму размаха для полученных данных\n",
    "    \"\"\"\n",
    "    \n",
    "    fig, axes = plt.subplots(nrows=1, ncols=2, figsize=(12,6))\n",
    "    \n",
    "    bins = int(np.log2(len(df[col_name])) + 1)\n",
    "    \n",
    "    sns.histplot(df[col_name], bins=bins, ax=axes[0], palette='deep', edgecolor='black')\n",
    "    axes[0].set_xlabel(f'Количественный признак для столбца \\'{col_name}\\'')\n",
    "    axes[0].set_ylabel('Количество месторождений')\n",
    "    axes[0].set_title('Гистограмма')\n",
    "    axes[0].grid(True)\n",
    "    \n",
    "    sns.boxplot(data=df[col_name], orient='h', ax=axes[1], color='orange')\n",
    "    axes[1].set_xlabel(f'Количественная характеристика для столбца \\'{col_name}\\'')\n",
    "    axes[1].set_title('Диаграмма размаха')\n",
    "    \n",
    "    plt.suptitle(col_title)\n",
    "    plt.show()\n",
    "    \n",
    "    print(f'Рассмотрим описательную статистику:\\n{df[col_name].describe()}')"
   ]
  },
  {
   "cell_type": "code",
   "execution_count": 4,
   "metadata": {},
   "outputs": [],
   "source": [
    "# Функция для вывода графика категориальных признаков\n",
    "def graph_cat_feature(df, col_name, col_title):\n",
    "      \n",
    "    \"\"\"\n",
    "    Функция в качестве аргументов принимает датафрейм, название столбца, для которого необходимо вывести график, \n",
    "    и название самого графика. Она выводит столбчатый график для полученных данных\n",
    "    \"\"\"\n",
    "      \n",
    "    plt.figure(figsize=(6, 6))\n",
    "    sns.countplot(data=df, x=col_name, palette='deep', edgecolor='black')\n",
    "    plt.title(col_title)\n",
    "    plt.ylabel('Количество месторождений')\n",
    "    plt.xlabel(f'Значение столбца \\'{col_name}\\'')\n",
    "    plt.xticks(rotation=0)\n",
    "    plt.show()"
   ]
  },
  {
   "cell_type": "code",
   "execution_count": 5,
   "metadata": {},
   "outputs": [],
   "source": [
    "# Функция для построения корреляционной матрицы\n",
    "def corr_plot(df):\n",
    "      \n",
    "    \"\"\"\n",
    "    Функция в качестве аргументов принимает датафрейм и строит тепловую карту (heatmap) корреляционной матрицы \n",
    "    на основе переданных данных\n",
    "    \"\"\"\n",
    "      \n",
    "    plt.figure(figsize=(6, 5))\n",
    "    sns.heatmap(df.corr(method='spearman'), annot=True, fmt=\".2f\", cmap='coolwarm')\n",
    "    plt.title('Корреляционная матрица признаков')\n",
    "    plt.tight_layout()\n",
    "    plt.show()"
   ]
  },
  {
   "cell_type": "code",
   "execution_count": 6,
   "metadata": {},
   "outputs": [],
   "source": [
    "# Функция для обучения и проверки модели для каждого региона\n",
    "def product_predict(df):\n",
    "    \n",
    "    \"\"\"\n",
    "    Функция принимает на вход датафрейм, содержащий столбцы id, product и признаки f0, f1, f2. \n",
    "    Она выполняет разделение данных на обучающую и валидационную выборки, масштабирование признаков \n",
    "    с помощью StandardScaler, обучение модели линейной регрессии и предсказание целевого признака. \n",
    "    В процессе работы функция возвращает и выводит формы выборок, таблицу с предсказанными и фактическими \n",
    "    значениями (y_pred и y_valid), значение метрики RMSE, а также средний объём предсказанного сырья.\n",
    "    \"\"\"\n",
    "    \n",
    "    X = df.drop(['id', 'product'], axis=1)\n",
    "    y = df['product']\n",
    "    \n",
    "    X_train, X_valid, y_train, y_valid = train_test_split(X, y, test_size=TEST_SIZE, random_state=RANDOM_STATE)\n",
    "    print('Формы тренировочной и тестовой выборок: ', X_train.shape, X_valid.shape)\n",
    "    \n",
    "    \n",
    "    scaler = StandardScaler()\n",
    "    X_train = scaler.fit_transform(X_train)\n",
    "    X_valid = scaler.transform(X_valid)\n",
    "    \n",
    "    model = LinearRegression()\n",
    "    model.fit(X_train, y_train)\n",
    "    \n",
    "    y_pred = model.predict(X_valid)\n",
    "    result_df = pd.concat([pd.Series(y_pred.round(2), name='y_pred'),\n",
    "                           pd.Series(y_valid.values.round(2), name='y_valid')], axis=1)\n",
    "\n",
    "    print(result_df.head())\n",
    "    \n",
    "    rmse = np.sqrt(mean_squared_error(y_valid, y_pred))\n",
    "    print('RMSE:', rmse.round(2))\n",
    "\n",
    "    avg_product_stock = y_pred.sum() / len(y_pred)\n",
    "    print('Cредний запас предсказанного сырья:', avg_product_stock.round(2), '\\n')\n",
    "    \n",
    "    return y_pred, y_valid, rmse, avg_product_stock"
   ]
  },
  {
   "cell_type": "code",
   "execution_count": 7,
   "metadata": {},
   "outputs": [],
   "source": [
    "# Функция для подсчёта прибыли по 200 отобранным скважинам\n",
    "def calculate_profit(y_pred, y_valid, num_top_wells, income_per_unit, campaign_budget):\n",
    "    \n",
    "    \"\"\"\n",
    "    Функция calculate_profit принимает на вход массив предсказанных значений, фактические значения целевого \n",
    "    признака, количество лучших скважин для выбора, доход с одной единицы продукции и общий бюджет кампании. \n",
    "    Она формирует датафрейм с предсказаниями и реальными значениями, выбирает заданное число скважин \n",
    "    с наибольшими предсказанными значениями, рассчитывает суммарный фактический объём сырья для этих скважин, \n",
    "    умножает его на доход с единицы продукции и вычитает из этого бюджета кампании. Возвращает итоговую прибыль.\n",
    "    \"\"\"\n",
    "    \n",
    "    combined_df = pd.DataFrame({'y_pred': y_pred, 'y_valid': y_valid.values})\n",
    "    \n",
    "    top_wells = combined_df.sort_values(by='y_pred', ascending=False)[:num_top_wells]\n",
    "    \n",
    "    total_profit = top_wells['y_valid'].sum() * income_per_unit - campaign_budget\n",
    "    \n",
    "    return total_profit"
   ]
  },
  {
   "cell_type": "code",
   "execution_count": 8,
   "metadata": {},
   "outputs": [],
   "source": [
    "# Функция для вывода прибыли, доверительного интервала и риска убытков для определенного региона\n",
    "def regional_analytics(y_pred, y_valid, num_top_wells, income_per_unit, campaign_budget, num_research_points, reg_num):\n",
    "    \n",
    "    \"\"\"\n",
    "    Функция принимает предсказанные значения объёмов сырья, фактические значения, количество отбираемых \n",
    "    лучших скважин, доход с одной единицы сырья, бюджет на разработку, количество исследуемых точек \n",
    "    в одном регионе и номер региона. С помощью бутстрэп-метода функция 1000 раз случайно выбирает скважины \n",
    "    с возвращением, рассчитывает прибыль с учётом выбранных параметров, а затем вычисляет среднюю прибыль, \n",
    "    95%-й доверительный интервал и риск убытков. Эти значения выводятся на экран в виде отчёта по региону.\n",
    "    \"\"\"\n",
    "    \n",
    "    profits = []\n",
    "\n",
    "    combined = pd.DataFrame({'y_pred': y_pred, 'y_valid': y_valid.values})\n",
    "\n",
    "    for i in range(1000):\n",
    "        sample = combined.sample(n=num_research_points, replace=True, random_state=STATE)\n",
    "        profit = calculate_profit(sample['y_pred'], sample['y_valid'], num_top_wells, \n",
    "                                  income_per_unit, campaign_budget)\n",
    "        profits.append(profit)\n",
    "\n",
    "    profits = pd.Series(profits)\n",
    "    \n",
    "    lower = profits.quantile(0.025)\n",
    "    upper = profits.quantile(0.975)\n",
    "    \n",
    "    mean_profit = profits.mean()\n",
    "    \n",
    "    risk = (profits < 0).mean()\n",
    "\n",
    "    print(f'Регион {reg_num}:\\n'\n",
    "          f'Средняя прибыль: {mean_profit.round(2)} руб.\\n'\n",
    "          f'95%-й доверительный интервал: [{lower.round(2)}; {upper.round(2)}] руб.\\n'\n",
    "          f'Риск убытков: {risk:.2%}\\n')"
   ]
  },
  {
   "cell_type": "code",
   "execution_count": 9,
   "metadata": {},
   "outputs": [
    {
     "data": {
      "text/html": [
       "<div>\n",
       "<style scoped>\n",
       "    .dataframe tbody tr th:only-of-type {\n",
       "        vertical-align: middle;\n",
       "    }\n",
       "\n",
       "    .dataframe tbody tr th {\n",
       "        vertical-align: top;\n",
       "    }\n",
       "\n",
       "    .dataframe thead th {\n",
       "        text-align: right;\n",
       "    }\n",
       "</style>\n",
       "<table border=\"1\" class=\"dataframe\">\n",
       "  <thead>\n",
       "    <tr style=\"text-align: right;\">\n",
       "      <th></th>\n",
       "      <th>id</th>\n",
       "      <th>f0</th>\n",
       "      <th>f1</th>\n",
       "      <th>f2</th>\n",
       "      <th>product</th>\n",
       "    </tr>\n",
       "  </thead>\n",
       "  <tbody>\n",
       "    <tr>\n",
       "      <th>0</th>\n",
       "      <td>txEyH</td>\n",
       "      <td>0.705745</td>\n",
       "      <td>-0.497823</td>\n",
       "      <td>1.221170</td>\n",
       "      <td>105.280062</td>\n",
       "    </tr>\n",
       "    <tr>\n",
       "      <th>1</th>\n",
       "      <td>2acmU</td>\n",
       "      <td>1.334711</td>\n",
       "      <td>-0.340164</td>\n",
       "      <td>4.365080</td>\n",
       "      <td>73.037750</td>\n",
       "    </tr>\n",
       "    <tr>\n",
       "      <th>2</th>\n",
       "      <td>409Wp</td>\n",
       "      <td>1.022732</td>\n",
       "      <td>0.151990</td>\n",
       "      <td>1.419926</td>\n",
       "      <td>85.265647</td>\n",
       "    </tr>\n",
       "    <tr>\n",
       "      <th>3</th>\n",
       "      <td>iJLyR</td>\n",
       "      <td>-0.032172</td>\n",
       "      <td>0.139033</td>\n",
       "      <td>2.978566</td>\n",
       "      <td>168.620776</td>\n",
       "    </tr>\n",
       "    <tr>\n",
       "      <th>4</th>\n",
       "      <td>Xdl7t</td>\n",
       "      <td>1.988431</td>\n",
       "      <td>0.155413</td>\n",
       "      <td>4.751769</td>\n",
       "      <td>154.036647</td>\n",
       "    </tr>\n",
       "  </tbody>\n",
       "</table>\n",
       "</div>"
      ],
      "text/plain": [
       "      id        f0        f1        f2     product\n",
       "0  txEyH  0.705745 -0.497823  1.221170  105.280062\n",
       "1  2acmU  1.334711 -0.340164  4.365080   73.037750\n",
       "2  409Wp  1.022732  0.151990  1.419926   85.265647\n",
       "3  iJLyR -0.032172  0.139033  2.978566  168.620776\n",
       "4  Xdl7t  1.988431  0.155413  4.751769  154.036647"
      ]
     },
     "execution_count": 9,
     "metadata": {},
     "output_type": "execute_result"
    }
   ],
   "source": [
    "# Загружаем данные геологоразведки 1-го региона\n",
    "geo_data_1 = pd.read_csv('/datasets/geo_data_0.csv')\n",
    "\n",
    "# Выводим первые 5 строк загруженных данных\n",
    "geo_data_1.head()"
   ]
  },
  {
   "cell_type": "code",
   "execution_count": 10,
   "metadata": {
    "scrolled": true
   },
   "outputs": [
    {
     "name": "stdout",
     "output_type": "stream",
     "text": [
      "<class 'pandas.core.frame.DataFrame'>\n",
      "RangeIndex: 100000 entries, 0 to 99999\n",
      "Data columns (total 5 columns):\n",
      " #   Column   Non-Null Count   Dtype  \n",
      "---  ------   --------------   -----  \n",
      " 0   id       100000 non-null  object \n",
      " 1   f0       100000 non-null  float64\n",
      " 2   f1       100000 non-null  float64\n",
      " 3   f2       100000 non-null  float64\n",
      " 4   product  100000 non-null  float64\n",
      "dtypes: float64(4), object(1)\n",
      "memory usage: 3.8+ MB\n"
     ]
    }
   ],
   "source": [
    "# Выводим основную информацию по загруженным данным\n",
    "geo_data_1.info()"
   ]
  },
  {
   "cell_type": "code",
   "execution_count": 11,
   "metadata": {},
   "outputs": [
    {
     "data": {
      "text/html": [
       "<div>\n",
       "<style scoped>\n",
       "    .dataframe tbody tr th:only-of-type {\n",
       "        vertical-align: middle;\n",
       "    }\n",
       "\n",
       "    .dataframe tbody tr th {\n",
       "        vertical-align: top;\n",
       "    }\n",
       "\n",
       "    .dataframe thead th {\n",
       "        text-align: right;\n",
       "    }\n",
       "</style>\n",
       "<table border=\"1\" class=\"dataframe\">\n",
       "  <thead>\n",
       "    <tr style=\"text-align: right;\">\n",
       "      <th></th>\n",
       "      <th>id</th>\n",
       "      <th>f0</th>\n",
       "      <th>f1</th>\n",
       "      <th>f2</th>\n",
       "      <th>product</th>\n",
       "    </tr>\n",
       "  </thead>\n",
       "  <tbody>\n",
       "    <tr>\n",
       "      <th>0</th>\n",
       "      <td>kBEdx</td>\n",
       "      <td>-15.001348</td>\n",
       "      <td>-8.276000</td>\n",
       "      <td>-0.005876</td>\n",
       "      <td>3.179103</td>\n",
       "    </tr>\n",
       "    <tr>\n",
       "      <th>1</th>\n",
       "      <td>62mP7</td>\n",
       "      <td>14.272088</td>\n",
       "      <td>-3.475083</td>\n",
       "      <td>0.999183</td>\n",
       "      <td>26.953261</td>\n",
       "    </tr>\n",
       "    <tr>\n",
       "      <th>2</th>\n",
       "      <td>vyE1P</td>\n",
       "      <td>6.263187</td>\n",
       "      <td>-5.948386</td>\n",
       "      <td>5.001160</td>\n",
       "      <td>134.766305</td>\n",
       "    </tr>\n",
       "    <tr>\n",
       "      <th>3</th>\n",
       "      <td>KcrkZ</td>\n",
       "      <td>-13.081196</td>\n",
       "      <td>-11.506057</td>\n",
       "      <td>4.999415</td>\n",
       "      <td>137.945408</td>\n",
       "    </tr>\n",
       "    <tr>\n",
       "      <th>4</th>\n",
       "      <td>AHL4O</td>\n",
       "      <td>12.702195</td>\n",
       "      <td>-8.147433</td>\n",
       "      <td>5.004363</td>\n",
       "      <td>134.766305</td>\n",
       "    </tr>\n",
       "  </tbody>\n",
       "</table>\n",
       "</div>"
      ],
      "text/plain": [
       "      id         f0         f1        f2     product\n",
       "0  kBEdx -15.001348  -8.276000 -0.005876    3.179103\n",
       "1  62mP7  14.272088  -3.475083  0.999183   26.953261\n",
       "2  vyE1P   6.263187  -5.948386  5.001160  134.766305\n",
       "3  KcrkZ -13.081196 -11.506057  4.999415  137.945408\n",
       "4  AHL4O  12.702195  -8.147433  5.004363  134.766305"
      ]
     },
     "execution_count": 11,
     "metadata": {},
     "output_type": "execute_result"
    }
   ],
   "source": [
    "# Загружаем данные геологоразведки 2-го региона\n",
    "geo_data_2 = pd.read_csv('/datasets/geo_data_1.csv')\n",
    "\n",
    "# Выводим первые 5 строк загруженных данных\n",
    "geo_data_2.head()"
   ]
  },
  {
   "cell_type": "code",
   "execution_count": 12,
   "metadata": {},
   "outputs": [
    {
     "name": "stdout",
     "output_type": "stream",
     "text": [
      "<class 'pandas.core.frame.DataFrame'>\n",
      "RangeIndex: 100000 entries, 0 to 99999\n",
      "Data columns (total 5 columns):\n",
      " #   Column   Non-Null Count   Dtype  \n",
      "---  ------   --------------   -----  \n",
      " 0   id       100000 non-null  object \n",
      " 1   f0       100000 non-null  float64\n",
      " 2   f1       100000 non-null  float64\n",
      " 3   f2       100000 non-null  float64\n",
      " 4   product  100000 non-null  float64\n",
      "dtypes: float64(4), object(1)\n",
      "memory usage: 3.8+ MB\n"
     ]
    }
   ],
   "source": [
    "# Выводим основную информацию по загруженным данным\n",
    "geo_data_2.info()"
   ]
  },
  {
   "cell_type": "code",
   "execution_count": 13,
   "metadata": {},
   "outputs": [
    {
     "data": {
      "text/html": [
       "<div>\n",
       "<style scoped>\n",
       "    .dataframe tbody tr th:only-of-type {\n",
       "        vertical-align: middle;\n",
       "    }\n",
       "\n",
       "    .dataframe tbody tr th {\n",
       "        vertical-align: top;\n",
       "    }\n",
       "\n",
       "    .dataframe thead th {\n",
       "        text-align: right;\n",
       "    }\n",
       "</style>\n",
       "<table border=\"1\" class=\"dataframe\">\n",
       "  <thead>\n",
       "    <tr style=\"text-align: right;\">\n",
       "      <th></th>\n",
       "      <th>id</th>\n",
       "      <th>f0</th>\n",
       "      <th>f1</th>\n",
       "      <th>f2</th>\n",
       "      <th>product</th>\n",
       "    </tr>\n",
       "  </thead>\n",
       "  <tbody>\n",
       "    <tr>\n",
       "      <th>0</th>\n",
       "      <td>fwXo0</td>\n",
       "      <td>-1.146987</td>\n",
       "      <td>0.963328</td>\n",
       "      <td>-0.828965</td>\n",
       "      <td>27.758673</td>\n",
       "    </tr>\n",
       "    <tr>\n",
       "      <th>1</th>\n",
       "      <td>WJtFt</td>\n",
       "      <td>0.262778</td>\n",
       "      <td>0.269839</td>\n",
       "      <td>-2.530187</td>\n",
       "      <td>56.069697</td>\n",
       "    </tr>\n",
       "    <tr>\n",
       "      <th>2</th>\n",
       "      <td>ovLUW</td>\n",
       "      <td>0.194587</td>\n",
       "      <td>0.289035</td>\n",
       "      <td>-5.586433</td>\n",
       "      <td>62.871910</td>\n",
       "    </tr>\n",
       "    <tr>\n",
       "      <th>3</th>\n",
       "      <td>q6cA6</td>\n",
       "      <td>2.236060</td>\n",
       "      <td>-0.553760</td>\n",
       "      <td>0.930038</td>\n",
       "      <td>114.572842</td>\n",
       "    </tr>\n",
       "    <tr>\n",
       "      <th>4</th>\n",
       "      <td>WPMUX</td>\n",
       "      <td>-0.515993</td>\n",
       "      <td>1.716266</td>\n",
       "      <td>5.899011</td>\n",
       "      <td>149.600746</td>\n",
       "    </tr>\n",
       "  </tbody>\n",
       "</table>\n",
       "</div>"
      ],
      "text/plain": [
       "      id        f0        f1        f2     product\n",
       "0  fwXo0 -1.146987  0.963328 -0.828965   27.758673\n",
       "1  WJtFt  0.262778  0.269839 -2.530187   56.069697\n",
       "2  ovLUW  0.194587  0.289035 -5.586433   62.871910\n",
       "3  q6cA6  2.236060 -0.553760  0.930038  114.572842\n",
       "4  WPMUX -0.515993  1.716266  5.899011  149.600746"
      ]
     },
     "execution_count": 13,
     "metadata": {},
     "output_type": "execute_result"
    }
   ],
   "source": [
    "# Загружаем данные геологоразведки 3-го региона\n",
    "geo_data_3 = pd.read_csv('/datasets/geo_data_2.csv')\n",
    "\n",
    "# Выводим первые 5 строк загруженных данных\n",
    "geo_data_3.head()"
   ]
  },
  {
   "cell_type": "code",
   "execution_count": 14,
   "metadata": {},
   "outputs": [
    {
     "name": "stdout",
     "output_type": "stream",
     "text": [
      "<class 'pandas.core.frame.DataFrame'>\n",
      "RangeIndex: 100000 entries, 0 to 99999\n",
      "Data columns (total 5 columns):\n",
      " #   Column   Non-Null Count   Dtype  \n",
      "---  ------   --------------   -----  \n",
      " 0   id       100000 non-null  object \n",
      " 1   f0       100000 non-null  float64\n",
      " 2   f1       100000 non-null  float64\n",
      " 3   f2       100000 non-null  float64\n",
      " 4   product  100000 non-null  float64\n",
      "dtypes: float64(4), object(1)\n",
      "memory usage: 3.8+ MB\n"
     ]
    }
   ],
   "source": [
    "# Выводим основную информацию по загруженным данным\n",
    "geo_data_3.info()"
   ]
  },
  {
   "cell_type": "markdown",
   "metadata": {},
   "source": [
    "**Выводы:**\n",
    "- Нам предоставлены данные о пробах нефти из трёх регионов. В каждом регионе представлено по 100 000 месторождений с измерениями качества нефти и объёма её запасов.\n",
    "- Значения столбцов:\n",
    "    - id — уникальный идентификатор скважины;\n",
    "    - f0, f1, f2 — три признака точек (неважно, что они означают, но сами признаки значимы);\n",
    "    - product — объём запасов в скважине (тыс. баррелей).\n",
    "- В предоставленных данных отсутствуют пропущенные значения.\n",
    "- На первый взгляд, данные соответствуют заявленным типам.\n",
    "- Столбцы оформлены в соответствии с установленными стандартами."
   ]
  },
  {
   "cell_type": "markdown",
   "metadata": {},
   "source": [
    "### Предобработка данных"
   ]
  },
  {
   "cell_type": "markdown",
   "metadata": {},
   "source": [
    "Поиск дубликатов"
   ]
  },
  {
   "cell_type": "code",
   "execution_count": 15,
   "metadata": {},
   "outputs": [
    {
     "name": "stdout",
     "output_type": "stream",
     "text": [
      "В 1-м датафрейме 0 явных дубликатов\n",
      "Во 2-м датафрейме 0 явных дубликатов\n",
      "В 3-м датафрейме 0 явных дубликатов\n"
     ]
    }
   ],
   "source": [
    "print(f'В 1-м датафрейме {geo_data_1.duplicated().sum()} явных дубликатов\\n'\n",
    "       f'Во 2-м датафрейме {geo_data_2.duplicated().sum()} явных дубликатов\\n'\n",
    "       f'В 3-м датафрейме {geo_data_3.duplicated().sum()} явных дубликатов')"
   ]
  },
  {
   "cell_type": "markdown",
   "metadata": {},
   "source": [
    "Изучим датафреймы на наличие неявных дубликатов"
   ]
  },
  {
   "cell_type": "code",
   "execution_count": 16,
   "metadata": {},
   "outputs": [
    {
     "data": {
      "text/plain": [
       "99990"
      ]
     },
     "execution_count": 16,
     "metadata": {},
     "output_type": "execute_result"
    }
   ],
   "source": [
    "# Рассмотрим число уникальных идентификаторов скважин в 1-м регионе\n",
    "geo_data_1['id'].nunique()"
   ]
  },
  {
   "cell_type": "code",
   "execution_count": 17,
   "metadata": {},
   "outputs": [
    {
     "data": {
      "text/html": [
       "<div>\n",
       "<style scoped>\n",
       "    .dataframe tbody tr th:only-of-type {\n",
       "        vertical-align: middle;\n",
       "    }\n",
       "\n",
       "    .dataframe tbody tr th {\n",
       "        vertical-align: top;\n",
       "    }\n",
       "\n",
       "    .dataframe thead th {\n",
       "        text-align: right;\n",
       "    }\n",
       "</style>\n",
       "<table border=\"1\" class=\"dataframe\">\n",
       "  <thead>\n",
       "    <tr style=\"text-align: right;\">\n",
       "      <th></th>\n",
       "      <th>id</th>\n",
       "      <th>f0</th>\n",
       "      <th>f1</th>\n",
       "      <th>f2</th>\n",
       "      <th>product</th>\n",
       "    </tr>\n",
       "  </thead>\n",
       "  <tbody>\n",
       "    <tr>\n",
       "      <th>66136</th>\n",
       "      <td>74z30</td>\n",
       "      <td>1.084962</td>\n",
       "      <td>-0.312358</td>\n",
       "      <td>6.990771</td>\n",
       "      <td>127.643327</td>\n",
       "    </tr>\n",
       "    <tr>\n",
       "      <th>64022</th>\n",
       "      <td>74z30</td>\n",
       "      <td>0.741456</td>\n",
       "      <td>0.459229</td>\n",
       "      <td>5.153109</td>\n",
       "      <td>140.771492</td>\n",
       "    </tr>\n",
       "    <tr>\n",
       "      <th>51970</th>\n",
       "      <td>A5aEY</td>\n",
       "      <td>-0.180335</td>\n",
       "      <td>0.935548</td>\n",
       "      <td>-2.094773</td>\n",
       "      <td>33.020205</td>\n",
       "    </tr>\n",
       "    <tr>\n",
       "      <th>3389</th>\n",
       "      <td>A5aEY</td>\n",
       "      <td>-0.039949</td>\n",
       "      <td>0.156872</td>\n",
       "      <td>0.209861</td>\n",
       "      <td>89.249364</td>\n",
       "    </tr>\n",
       "    <tr>\n",
       "      <th>69163</th>\n",
       "      <td>AGS9W</td>\n",
       "      <td>-0.933795</td>\n",
       "      <td>0.116194</td>\n",
       "      <td>-3.655896</td>\n",
       "      <td>19.230453</td>\n",
       "    </tr>\n",
       "    <tr>\n",
       "      <th>42529</th>\n",
       "      <td>AGS9W</td>\n",
       "      <td>1.454747</td>\n",
       "      <td>-0.479651</td>\n",
       "      <td>0.683380</td>\n",
       "      <td>126.370504</td>\n",
       "    </tr>\n",
       "    <tr>\n",
       "      <th>931</th>\n",
       "      <td>HZww2</td>\n",
       "      <td>0.755284</td>\n",
       "      <td>0.368511</td>\n",
       "      <td>1.863211</td>\n",
       "      <td>30.681774</td>\n",
       "    </tr>\n",
       "    <tr>\n",
       "      <th>7530</th>\n",
       "      <td>HZww2</td>\n",
       "      <td>1.061194</td>\n",
       "      <td>-0.373969</td>\n",
       "      <td>10.430210</td>\n",
       "      <td>158.828695</td>\n",
       "    </tr>\n",
       "    <tr>\n",
       "      <th>63593</th>\n",
       "      <td>QcMuo</td>\n",
       "      <td>0.635635</td>\n",
       "      <td>-0.473422</td>\n",
       "      <td>0.862670</td>\n",
       "      <td>64.578675</td>\n",
       "    </tr>\n",
       "    <tr>\n",
       "      <th>1949</th>\n",
       "      <td>QcMuo</td>\n",
       "      <td>0.506563</td>\n",
       "      <td>-0.323775</td>\n",
       "      <td>-2.215583</td>\n",
       "      <td>75.496502</td>\n",
       "    </tr>\n",
       "    <tr>\n",
       "      <th>75715</th>\n",
       "      <td>Tdehs</td>\n",
       "      <td>0.112079</td>\n",
       "      <td>0.430296</td>\n",
       "      <td>3.218993</td>\n",
       "      <td>60.964018</td>\n",
       "    </tr>\n",
       "    <tr>\n",
       "      <th>21426</th>\n",
       "      <td>Tdehs</td>\n",
       "      <td>0.829407</td>\n",
       "      <td>0.298807</td>\n",
       "      <td>-0.049563</td>\n",
       "      <td>96.035308</td>\n",
       "    </tr>\n",
       "    <tr>\n",
       "      <th>92341</th>\n",
       "      <td>TtcGQ</td>\n",
       "      <td>0.110711</td>\n",
       "      <td>1.022689</td>\n",
       "      <td>0.911381</td>\n",
       "      <td>101.318008</td>\n",
       "    </tr>\n",
       "    <tr>\n",
       "      <th>60140</th>\n",
       "      <td>TtcGQ</td>\n",
       "      <td>0.569276</td>\n",
       "      <td>-0.104876</td>\n",
       "      <td>6.440215</td>\n",
       "      <td>85.350186</td>\n",
       "    </tr>\n",
       "    <tr>\n",
       "      <th>89582</th>\n",
       "      <td>bsk9y</td>\n",
       "      <td>0.398908</td>\n",
       "      <td>-0.400253</td>\n",
       "      <td>10.122376</td>\n",
       "      <td>163.433078</td>\n",
       "    </tr>\n",
       "    <tr>\n",
       "      <th>97785</th>\n",
       "      <td>bsk9y</td>\n",
       "      <td>0.378429</td>\n",
       "      <td>0.005837</td>\n",
       "      <td>0.160827</td>\n",
       "      <td>160.637302</td>\n",
       "    </tr>\n",
       "    <tr>\n",
       "      <th>41724</th>\n",
       "      <td>bxg6G</td>\n",
       "      <td>-0.823752</td>\n",
       "      <td>0.546319</td>\n",
       "      <td>3.630479</td>\n",
       "      <td>93.007798</td>\n",
       "    </tr>\n",
       "    <tr>\n",
       "      <th>1364</th>\n",
       "      <td>bxg6G</td>\n",
       "      <td>0.411645</td>\n",
       "      <td>0.856830</td>\n",
       "      <td>-3.653440</td>\n",
       "      <td>73.604260</td>\n",
       "    </tr>\n",
       "    <tr>\n",
       "      <th>16633</th>\n",
       "      <td>fiKDv</td>\n",
       "      <td>0.157341</td>\n",
       "      <td>1.028359</td>\n",
       "      <td>5.585586</td>\n",
       "      <td>95.817889</td>\n",
       "    </tr>\n",
       "    <tr>\n",
       "      <th>90815</th>\n",
       "      <td>fiKDv</td>\n",
       "      <td>0.049883</td>\n",
       "      <td>0.841313</td>\n",
       "      <td>6.394613</td>\n",
       "      <td>137.346586</td>\n",
       "    </tr>\n",
       "  </tbody>\n",
       "</table>\n",
       "</div>"
      ],
      "text/plain": [
       "          id        f0        f1         f2     product\n",
       "66136  74z30  1.084962 -0.312358   6.990771  127.643327\n",
       "64022  74z30  0.741456  0.459229   5.153109  140.771492\n",
       "51970  A5aEY -0.180335  0.935548  -2.094773   33.020205\n",
       "3389   A5aEY -0.039949  0.156872   0.209861   89.249364\n",
       "69163  AGS9W -0.933795  0.116194  -3.655896   19.230453\n",
       "42529  AGS9W  1.454747 -0.479651   0.683380  126.370504\n",
       "931    HZww2  0.755284  0.368511   1.863211   30.681774\n",
       "7530   HZww2  1.061194 -0.373969  10.430210  158.828695\n",
       "63593  QcMuo  0.635635 -0.473422   0.862670   64.578675\n",
       "1949   QcMuo  0.506563 -0.323775  -2.215583   75.496502\n",
       "75715  Tdehs  0.112079  0.430296   3.218993   60.964018\n",
       "21426  Tdehs  0.829407  0.298807  -0.049563   96.035308\n",
       "92341  TtcGQ  0.110711  1.022689   0.911381  101.318008\n",
       "60140  TtcGQ  0.569276 -0.104876   6.440215   85.350186\n",
       "89582  bsk9y  0.398908 -0.400253  10.122376  163.433078\n",
       "97785  bsk9y  0.378429  0.005837   0.160827  160.637302\n",
       "41724  bxg6G -0.823752  0.546319   3.630479   93.007798\n",
       "1364   bxg6G  0.411645  0.856830  -3.653440   73.604260\n",
       "16633  fiKDv  0.157341  1.028359   5.585586   95.817889\n",
       "90815  fiKDv  0.049883  0.841313   6.394613  137.346586"
      ]
     },
     "execution_count": 17,
     "metadata": {},
     "output_type": "execute_result"
    }
   ],
   "source": [
    "# Найдем повторяющиеся значения\n",
    "geo_data_1[geo_data_1.duplicated('id', keep=False)].sort_values(by='id')"
   ]
  },
  {
   "cell_type": "markdown",
   "metadata": {},
   "source": [
    "Поскольку количество таких значений невелико, предлагаю удалить первые строки с повторяющимися id, так как вторые экземпляры геоданных, вероятно, были получены позже и могут быть более актуальными"
   ]
  },
  {
   "cell_type": "code",
   "execution_count": 18,
   "metadata": {},
   "outputs": [],
   "source": [
    "# Удаляем дубликаты\n",
    "geo_data_1 = geo_data_1[~geo_data_1.duplicated(subset='id', keep='last')]"
   ]
  },
  {
   "cell_type": "code",
   "execution_count": 19,
   "metadata": {},
   "outputs": [
    {
     "data": {
      "text/html": [
       "<div>\n",
       "<style scoped>\n",
       "    .dataframe tbody tr th:only-of-type {\n",
       "        vertical-align: middle;\n",
       "    }\n",
       "\n",
       "    .dataframe tbody tr th {\n",
       "        vertical-align: top;\n",
       "    }\n",
       "\n",
       "    .dataframe thead th {\n",
       "        text-align: right;\n",
       "    }\n",
       "</style>\n",
       "<table border=\"1\" class=\"dataframe\">\n",
       "  <thead>\n",
       "    <tr style=\"text-align: right;\">\n",
       "      <th></th>\n",
       "      <th>id</th>\n",
       "      <th>f0</th>\n",
       "      <th>f1</th>\n",
       "      <th>f2</th>\n",
       "      <th>product</th>\n",
       "    </tr>\n",
       "  </thead>\n",
       "  <tbody>\n",
       "    <tr>\n",
       "      <th>51970</th>\n",
       "      <td>A5aEY</td>\n",
       "      <td>-0.180335</td>\n",
       "      <td>0.935548</td>\n",
       "      <td>-2.094773</td>\n",
       "      <td>33.020205</td>\n",
       "    </tr>\n",
       "    <tr>\n",
       "      <th>66136</th>\n",
       "      <td>74z30</td>\n",
       "      <td>1.084962</td>\n",
       "      <td>-0.312358</td>\n",
       "      <td>6.990771</td>\n",
       "      <td>127.643327</td>\n",
       "    </tr>\n",
       "  </tbody>\n",
       "</table>\n",
       "</div>"
      ],
      "text/plain": [
       "          id        f0        f1        f2     product\n",
       "51970  A5aEY -0.180335  0.935548 -2.094773   33.020205\n",
       "66136  74z30  1.084962 -0.312358  6.990771  127.643327"
      ]
     },
     "execution_count": 19,
     "metadata": {},
     "output_type": "execute_result"
    }
   ],
   "source": [
    "# Проверяем правильность преобразований\n",
    "geo_data_1[geo_data_1.index.isin([66136, 64022, 51970, 3389])]"
   ]
  },
  {
   "cell_type": "markdown",
   "metadata": {},
   "source": [
    "Аналогичные действия проведем с другими датафреймами"
   ]
  },
  {
   "cell_type": "code",
   "execution_count": 20,
   "metadata": {},
   "outputs": [
    {
     "data": {
      "text/plain": [
       "99996"
      ]
     },
     "execution_count": 20,
     "metadata": {},
     "output_type": "execute_result"
    }
   ],
   "source": [
    "# Рассмотрим число уникальных идентификаторов скважин во 2-м регионе\n",
    "geo_data_2['id'].nunique()"
   ]
  },
  {
   "cell_type": "code",
   "execution_count": 21,
   "metadata": {},
   "outputs": [
    {
     "data": {
      "text/html": [
       "<div>\n",
       "<style scoped>\n",
       "    .dataframe tbody tr th:only-of-type {\n",
       "        vertical-align: middle;\n",
       "    }\n",
       "\n",
       "    .dataframe tbody tr th {\n",
       "        vertical-align: top;\n",
       "    }\n",
       "\n",
       "    .dataframe thead th {\n",
       "        text-align: right;\n",
       "    }\n",
       "</style>\n",
       "<table border=\"1\" class=\"dataframe\">\n",
       "  <thead>\n",
       "    <tr style=\"text-align: right;\">\n",
       "      <th></th>\n",
       "      <th>id</th>\n",
       "      <th>f0</th>\n",
       "      <th>f1</th>\n",
       "      <th>f2</th>\n",
       "      <th>product</th>\n",
       "    </tr>\n",
       "  </thead>\n",
       "  <tbody>\n",
       "    <tr>\n",
       "      <th>5849</th>\n",
       "      <td>5ltQ6</td>\n",
       "      <td>-3.435401</td>\n",
       "      <td>-12.296043</td>\n",
       "      <td>1.999796</td>\n",
       "      <td>57.085625</td>\n",
       "    </tr>\n",
       "    <tr>\n",
       "      <th>84461</th>\n",
       "      <td>5ltQ6</td>\n",
       "      <td>18.213839</td>\n",
       "      <td>2.191999</td>\n",
       "      <td>3.993869</td>\n",
       "      <td>107.813044</td>\n",
       "    </tr>\n",
       "    <tr>\n",
       "      <th>1305</th>\n",
       "      <td>LHZR0</td>\n",
       "      <td>11.170835</td>\n",
       "      <td>-1.945066</td>\n",
       "      <td>3.002872</td>\n",
       "      <td>80.859783</td>\n",
       "    </tr>\n",
       "    <tr>\n",
       "      <th>41906</th>\n",
       "      <td>LHZR0</td>\n",
       "      <td>-8.989672</td>\n",
       "      <td>-4.286607</td>\n",
       "      <td>2.009139</td>\n",
       "      <td>57.085625</td>\n",
       "    </tr>\n",
       "    <tr>\n",
       "      <th>2721</th>\n",
       "      <td>bfPNe</td>\n",
       "      <td>-9.494442</td>\n",
       "      <td>-5.463692</td>\n",
       "      <td>4.006042</td>\n",
       "      <td>110.992147</td>\n",
       "    </tr>\n",
       "    <tr>\n",
       "      <th>82178</th>\n",
       "      <td>bfPNe</td>\n",
       "      <td>-6.202799</td>\n",
       "      <td>-4.820045</td>\n",
       "      <td>2.995107</td>\n",
       "      <td>84.038886</td>\n",
       "    </tr>\n",
       "    <tr>\n",
       "      <th>47591</th>\n",
       "      <td>wt4Uk</td>\n",
       "      <td>-9.091098</td>\n",
       "      <td>-8.109279</td>\n",
       "      <td>-0.002314</td>\n",
       "      <td>3.179103</td>\n",
       "    </tr>\n",
       "    <tr>\n",
       "      <th>82873</th>\n",
       "      <td>wt4Uk</td>\n",
       "      <td>10.259972</td>\n",
       "      <td>-9.376355</td>\n",
       "      <td>4.994297</td>\n",
       "      <td>134.766305</td>\n",
       "    </tr>\n",
       "  </tbody>\n",
       "</table>\n",
       "</div>"
      ],
      "text/plain": [
       "          id         f0         f1        f2     product\n",
       "5849   5ltQ6  -3.435401 -12.296043  1.999796   57.085625\n",
       "84461  5ltQ6  18.213839   2.191999  3.993869  107.813044\n",
       "1305   LHZR0  11.170835  -1.945066  3.002872   80.859783\n",
       "41906  LHZR0  -8.989672  -4.286607  2.009139   57.085625\n",
       "2721   bfPNe  -9.494442  -5.463692  4.006042  110.992147\n",
       "82178  bfPNe  -6.202799  -4.820045  2.995107   84.038886\n",
       "47591  wt4Uk  -9.091098  -8.109279 -0.002314    3.179103\n",
       "82873  wt4Uk  10.259972  -9.376355  4.994297  134.766305"
      ]
     },
     "execution_count": 21,
     "metadata": {},
     "output_type": "execute_result"
    }
   ],
   "source": [
    "# Найдем повторяющиеся значения\n",
    "geo_data_2[geo_data_2.duplicated('id', keep=False)].sort_values(by='id')"
   ]
  },
  {
   "cell_type": "code",
   "execution_count": 22,
   "metadata": {},
   "outputs": [],
   "source": [
    "# Удаляем дубликаты\n",
    "geo_data_2 = geo_data_2[~geo_data_2.duplicated(subset='id', keep='last')]"
   ]
  },
  {
   "cell_type": "code",
   "execution_count": 23,
   "metadata": {},
   "outputs": [
    {
     "data": {
      "text/html": [
       "<div>\n",
       "<style scoped>\n",
       "    .dataframe tbody tr th:only-of-type {\n",
       "        vertical-align: middle;\n",
       "    }\n",
       "\n",
       "    .dataframe tbody tr th {\n",
       "        vertical-align: top;\n",
       "    }\n",
       "\n",
       "    .dataframe thead th {\n",
       "        text-align: right;\n",
       "    }\n",
       "</style>\n",
       "<table border=\"1\" class=\"dataframe\">\n",
       "  <thead>\n",
       "    <tr style=\"text-align: right;\">\n",
       "      <th></th>\n",
       "      <th>id</th>\n",
       "      <th>f0</th>\n",
       "      <th>f1</th>\n",
       "      <th>f2</th>\n",
       "      <th>product</th>\n",
       "    </tr>\n",
       "  </thead>\n",
       "  <tbody>\n",
       "    <tr>\n",
       "      <th>41906</th>\n",
       "      <td>LHZR0</td>\n",
       "      <td>-8.989672</td>\n",
       "      <td>-4.286607</td>\n",
       "      <td>2.009139</td>\n",
       "      <td>57.085625</td>\n",
       "    </tr>\n",
       "    <tr>\n",
       "      <th>84461</th>\n",
       "      <td>5ltQ6</td>\n",
       "      <td>18.213839</td>\n",
       "      <td>2.191999</td>\n",
       "      <td>3.993869</td>\n",
       "      <td>107.813044</td>\n",
       "    </tr>\n",
       "  </tbody>\n",
       "</table>\n",
       "</div>"
      ],
      "text/plain": [
       "          id         f0        f1        f2     product\n",
       "41906  LHZR0  -8.989672 -4.286607  2.009139   57.085625\n",
       "84461  5ltQ6  18.213839  2.191999  3.993869  107.813044"
      ]
     },
     "execution_count": 23,
     "metadata": {},
     "output_type": "execute_result"
    }
   ],
   "source": [
    "# Проверяем правильность преобразований\n",
    "geo_data_2[geo_data_2.index.isin([5849, 84461, 1305, 41906])]"
   ]
  },
  {
   "cell_type": "code",
   "execution_count": 24,
   "metadata": {},
   "outputs": [
    {
     "data": {
      "text/plain": [
       "99996"
      ]
     },
     "execution_count": 24,
     "metadata": {},
     "output_type": "execute_result"
    }
   ],
   "source": [
    "# Рассмотрим число уникальных идентификаторов скважин в 3-м регионе\n",
    "geo_data_3['id'].nunique()"
   ]
  },
  {
   "cell_type": "code",
   "execution_count": 25,
   "metadata": {},
   "outputs": [
    {
     "data": {
      "text/html": [
       "<div>\n",
       "<style scoped>\n",
       "    .dataframe tbody tr th:only-of-type {\n",
       "        vertical-align: middle;\n",
       "    }\n",
       "\n",
       "    .dataframe tbody tr th {\n",
       "        vertical-align: top;\n",
       "    }\n",
       "\n",
       "    .dataframe thead th {\n",
       "        text-align: right;\n",
       "    }\n",
       "</style>\n",
       "<table border=\"1\" class=\"dataframe\">\n",
       "  <thead>\n",
       "    <tr style=\"text-align: right;\">\n",
       "      <th></th>\n",
       "      <th>id</th>\n",
       "      <th>f0</th>\n",
       "      <th>f1</th>\n",
       "      <th>f2</th>\n",
       "      <th>product</th>\n",
       "    </tr>\n",
       "  </thead>\n",
       "  <tbody>\n",
       "    <tr>\n",
       "      <th>45404</th>\n",
       "      <td>KUPhW</td>\n",
       "      <td>0.231846</td>\n",
       "      <td>-1.698941</td>\n",
       "      <td>4.990775</td>\n",
       "      <td>11.716299</td>\n",
       "    </tr>\n",
       "    <tr>\n",
       "      <th>55967</th>\n",
       "      <td>KUPhW</td>\n",
       "      <td>1.211150</td>\n",
       "      <td>3.176408</td>\n",
       "      <td>5.543540</td>\n",
       "      <td>132.831802</td>\n",
       "    </tr>\n",
       "    <tr>\n",
       "      <th>11449</th>\n",
       "      <td>VF7Jo</td>\n",
       "      <td>2.122656</td>\n",
       "      <td>-0.858275</td>\n",
       "      <td>5.746001</td>\n",
       "      <td>181.716817</td>\n",
       "    </tr>\n",
       "    <tr>\n",
       "      <th>49564</th>\n",
       "      <td>VF7Jo</td>\n",
       "      <td>-0.883115</td>\n",
       "      <td>0.560537</td>\n",
       "      <td>0.723601</td>\n",
       "      <td>136.233420</td>\n",
       "    </tr>\n",
       "    <tr>\n",
       "      <th>44378</th>\n",
       "      <td>Vcm5J</td>\n",
       "      <td>-1.229484</td>\n",
       "      <td>-2.439204</td>\n",
       "      <td>1.222909</td>\n",
       "      <td>137.968290</td>\n",
       "    </tr>\n",
       "    <tr>\n",
       "      <th>95090</th>\n",
       "      <td>Vcm5J</td>\n",
       "      <td>2.587702</td>\n",
       "      <td>1.986875</td>\n",
       "      <td>2.482245</td>\n",
       "      <td>92.327572</td>\n",
       "    </tr>\n",
       "    <tr>\n",
       "      <th>28039</th>\n",
       "      <td>xCHr8</td>\n",
       "      <td>1.633027</td>\n",
       "      <td>0.368135</td>\n",
       "      <td>-2.378367</td>\n",
       "      <td>6.120525</td>\n",
       "    </tr>\n",
       "    <tr>\n",
       "      <th>43233</th>\n",
       "      <td>xCHr8</td>\n",
       "      <td>-0.847066</td>\n",
       "      <td>2.101796</td>\n",
       "      <td>5.597130</td>\n",
       "      <td>184.388641</td>\n",
       "    </tr>\n",
       "  </tbody>\n",
       "</table>\n",
       "</div>"
      ],
      "text/plain": [
       "          id        f0        f1        f2     product\n",
       "45404  KUPhW  0.231846 -1.698941  4.990775   11.716299\n",
       "55967  KUPhW  1.211150  3.176408  5.543540  132.831802\n",
       "11449  VF7Jo  2.122656 -0.858275  5.746001  181.716817\n",
       "49564  VF7Jo -0.883115  0.560537  0.723601  136.233420\n",
       "44378  Vcm5J -1.229484 -2.439204  1.222909  137.968290\n",
       "95090  Vcm5J  2.587702  1.986875  2.482245   92.327572\n",
       "28039  xCHr8  1.633027  0.368135 -2.378367    6.120525\n",
       "43233  xCHr8 -0.847066  2.101796  5.597130  184.388641"
      ]
     },
     "execution_count": 25,
     "metadata": {},
     "output_type": "execute_result"
    }
   ],
   "source": [
    "# Найдем повторяющиеся значения\n",
    "geo_data_3[geo_data_3.duplicated('id', keep=False)].sort_values(by='id')"
   ]
  },
  {
   "cell_type": "code",
   "execution_count": 26,
   "metadata": {},
   "outputs": [],
   "source": [
    "# Удаляем дубликаты\n",
    "geo_data_3 = geo_data_3[~geo_data_3.duplicated(subset='id', keep='last')]"
   ]
  },
  {
   "cell_type": "code",
   "execution_count": 27,
   "metadata": {},
   "outputs": [
    {
     "data": {
      "text/html": [
       "<div>\n",
       "<style scoped>\n",
       "    .dataframe tbody tr th:only-of-type {\n",
       "        vertical-align: middle;\n",
       "    }\n",
       "\n",
       "    .dataframe tbody tr th {\n",
       "        vertical-align: top;\n",
       "    }\n",
       "\n",
       "    .dataframe thead th {\n",
       "        text-align: right;\n",
       "    }\n",
       "</style>\n",
       "<table border=\"1\" class=\"dataframe\">\n",
       "  <thead>\n",
       "    <tr style=\"text-align: right;\">\n",
       "      <th></th>\n",
       "      <th>id</th>\n",
       "      <th>f0</th>\n",
       "      <th>f1</th>\n",
       "      <th>f2</th>\n",
       "      <th>product</th>\n",
       "    </tr>\n",
       "  </thead>\n",
       "  <tbody>\n",
       "    <tr>\n",
       "      <th>49564</th>\n",
       "      <td>VF7Jo</td>\n",
       "      <td>-0.883115</td>\n",
       "      <td>0.560537</td>\n",
       "      <td>0.723601</td>\n",
       "      <td>136.233420</td>\n",
       "    </tr>\n",
       "    <tr>\n",
       "      <th>55967</th>\n",
       "      <td>KUPhW</td>\n",
       "      <td>1.211150</td>\n",
       "      <td>3.176408</td>\n",
       "      <td>5.543540</td>\n",
       "      <td>132.831802</td>\n",
       "    </tr>\n",
       "  </tbody>\n",
       "</table>\n",
       "</div>"
      ],
      "text/plain": [
       "          id        f0        f1        f2     product\n",
       "49564  VF7Jo -0.883115  0.560537  0.723601  136.233420\n",
       "55967  KUPhW  1.211150  3.176408  5.543540  132.831802"
      ]
     },
     "execution_count": 27,
     "metadata": {},
     "output_type": "execute_result"
    }
   ],
   "source": [
    "# Проверяем правильность преобразований\n",
    "geo_data_3[geo_data_3.index.isin([45404, 55967, 11449, 49564])]"
   ]
  },
  {
   "cell_type": "markdown",
   "metadata": {},
   "source": [
    "### Исследовательский анализ данных"
   ]
  },
  {
   "cell_type": "markdown",
   "metadata": {},
   "source": [
    "#### Анализ данных 1-го региона"
   ]
  },
  {
   "cell_type": "code",
   "execution_count": 28,
   "metadata": {},
   "outputs": [
    {
     "name": "stdout",
     "output_type": "stream",
     "text": [
      "<class 'pandas.core.frame.DataFrame'>\n",
      "Int64Index: 99990 entries, 0 to 99999\n",
      "Data columns (total 5 columns):\n",
      " #   Column   Non-Null Count  Dtype  \n",
      "---  ------   --------------  -----  \n",
      " 0   id       99990 non-null  object \n",
      " 1   f0       99990 non-null  float64\n",
      " 2   f1       99990 non-null  float64\n",
      " 3   f2       99990 non-null  float64\n",
      " 4   product  99990 non-null  float64\n",
      "dtypes: float64(4), object(1)\n",
      "memory usage: 4.6+ MB\n"
     ]
    }
   ],
   "source": [
    "# Выводим общую информацию\n",
    "geo_data_1.info()"
   ]
  },
  {
   "cell_type": "code",
   "execution_count": 29,
   "metadata": {},
   "outputs": [
    {
     "data": {
      "text/html": [
       "<div>\n",
       "<style scoped>\n",
       "    .dataframe tbody tr th:only-of-type {\n",
       "        vertical-align: middle;\n",
       "    }\n",
       "\n",
       "    .dataframe tbody tr th {\n",
       "        vertical-align: top;\n",
       "    }\n",
       "\n",
       "    .dataframe thead th {\n",
       "        text-align: right;\n",
       "    }\n",
       "</style>\n",
       "<table border=\"1\" class=\"dataframe\">\n",
       "  <thead>\n",
       "    <tr style=\"text-align: right;\">\n",
       "      <th></th>\n",
       "      <th>f0</th>\n",
       "      <th>f1</th>\n",
       "      <th>f2</th>\n",
       "      <th>product</th>\n",
       "    </tr>\n",
       "  </thead>\n",
       "  <tbody>\n",
       "    <tr>\n",
       "      <th>count</th>\n",
       "      <td>99990.000000</td>\n",
       "      <td>99990.000000</td>\n",
       "      <td>99990.000000</td>\n",
       "      <td>99990.000000</td>\n",
       "    </tr>\n",
       "    <tr>\n",
       "      <th>mean</th>\n",
       "      <td>0.500412</td>\n",
       "      <td>0.250149</td>\n",
       "      <td>2.502656</td>\n",
       "      <td>92.499482</td>\n",
       "    </tr>\n",
       "    <tr>\n",
       "      <th>std</th>\n",
       "      <td>0.871867</td>\n",
       "      <td>0.504434</td>\n",
       "      <td>3.248155</td>\n",
       "      <td>44.289431</td>\n",
       "    </tr>\n",
       "    <tr>\n",
       "      <th>min</th>\n",
       "      <td>-1.408605</td>\n",
       "      <td>-0.848218</td>\n",
       "      <td>-12.088328</td>\n",
       "      <td>0.000000</td>\n",
       "    </tr>\n",
       "    <tr>\n",
       "      <th>25%</th>\n",
       "      <td>-0.072683</td>\n",
       "      <td>-0.200877</td>\n",
       "      <td>0.287887</td>\n",
       "      <td>56.496838</td>\n",
       "    </tr>\n",
       "    <tr>\n",
       "      <th>50%</th>\n",
       "      <td>0.502340</td>\n",
       "      <td>0.250252</td>\n",
       "      <td>2.516005</td>\n",
       "      <td>91.849972</td>\n",
       "    </tr>\n",
       "    <tr>\n",
       "      <th>75%</th>\n",
       "      <td>1.073626</td>\n",
       "      <td>0.700654</td>\n",
       "      <td>4.714970</td>\n",
       "      <td>128.564269</td>\n",
       "    </tr>\n",
       "    <tr>\n",
       "      <th>max</th>\n",
       "      <td>2.362331</td>\n",
       "      <td>1.343769</td>\n",
       "      <td>16.003790</td>\n",
       "      <td>185.364347</td>\n",
       "    </tr>\n",
       "  </tbody>\n",
       "</table>\n",
       "</div>"
      ],
      "text/plain": [
       "                 f0            f1            f2       product\n",
       "count  99990.000000  99990.000000  99990.000000  99990.000000\n",
       "mean       0.500412      0.250149      2.502656     92.499482\n",
       "std        0.871867      0.504434      3.248155     44.289431\n",
       "min       -1.408605     -0.848218    -12.088328      0.000000\n",
       "25%       -0.072683     -0.200877      0.287887     56.496838\n",
       "50%        0.502340      0.250252      2.516005     91.849972\n",
       "75%        1.073626      0.700654      4.714970    128.564269\n",
       "max        2.362331      1.343769     16.003790    185.364347"
      ]
     },
     "execution_count": 29,
     "metadata": {},
     "output_type": "execute_result"
    }
   ],
   "source": [
    "# Рассмотрим описательную статистику\n",
    "geo_data_1.describe()"
   ]
  },
  {
   "cell_type": "code",
   "execution_count": 30,
   "metadata": {},
   "outputs": [
    {
     "data": {
      "image/png": "[encoded data removed]",
      "text/plain": [
       "<Figure size 864x432 with 2 Axes>"
      ]
     },
     "metadata": {
      "needs_background": "light"
     },
     "output_type": "display_data"
    },
    {
     "name": "stdout",
     "output_type": "stream",
     "text": [
      "Рассмотрим описательную статистику:\n",
      "count    99990.000000\n",
      "mean         0.500412\n",
      "std          0.871867\n",
      "min         -1.408605\n",
      "25%         -0.072683\n",
      "50%          0.502340\n",
      "75%          1.073626\n",
      "max          2.362331\n",
      "Name: f0, dtype: float64\n"
     ]
    }
   ],
   "source": [
    "# Строим график\n",
    "graph_quant_feature(geo_data_1, 'f0', 'Статистические данные по столбцу \\'f0\\'')"
   ]
  },
  {
   "cell_type": "code",
   "execution_count": 31,
   "metadata": {},
   "outputs": [
    {
     "data": {
      "image/png": "[encoded data removed]",
      "text/plain": [
       "<Figure size 864x432 with 2 Axes>"
      ]
     },
     "metadata": {
      "needs_background": "light"
     },
     "output_type": "display_data"
    },
    {
     "name": "stdout",
     "output_type": "stream",
     "text": [
      "Рассмотрим описательную статистику:\n",
      "count    99990.000000\n",
      "mean         0.250149\n",
      "std          0.504434\n",
      "min         -0.848218\n",
      "25%         -0.200877\n",
      "50%          0.250252\n",
      "75%          0.700654\n",
      "max          1.343769\n",
      "Name: f1, dtype: float64\n"
     ]
    }
   ],
   "source": [
    "# Строим график\n",
    "graph_quant_feature(geo_data_1, 'f1', 'Статистические данные по столбцу \\'f1\\'')"
   ]
  },
  {
   "cell_type": "code",
   "execution_count": 32,
   "metadata": {},
   "outputs": [
    {
     "data": {
      "image/png": "[encoded data removed]",
      "text/plain": [
       "<Figure size 864x432 with 2 Axes>"
      ]
     },
     "metadata": {
      "needs_background": "light"
     },
     "output_type": "display_data"
    },
    {
     "name": "stdout",
     "output_type": "stream",
     "text": [
      "Рассмотрим описательную статистику:\n",
      "count    99990.000000\n",
      "mean         2.502656\n",
      "std          3.248155\n",
      "min        -12.088328\n",
      "25%          0.287887\n",
      "50%          2.516005\n",
      "75%          4.714970\n",
      "max         16.003790\n",
      "Name: f2, dtype: float64\n"
     ]
    }
   ],
   "source": [
    "# Строим график\n",
    "graph_quant_feature(geo_data_1, 'f2', 'Статистические данные по столбцу \\'f2\\'')"
   ]
  },
  {
   "cell_type": "code",
   "execution_count": 33,
   "metadata": {},
   "outputs": [
    {
     "data": {
      "image/png": "[encoded data removed]",
      "text/plain": [
       "<Figure size 864x432 with 2 Axes>"
      ]
     },
     "metadata": {
      "needs_background": "light"
     },
     "output_type": "display_data"
    },
    {
     "name": "stdout",
     "output_type": "stream",
     "text": [
      "Рассмотрим описательную статистику:\n",
      "count    99990.000000\n",
      "mean        92.499482\n",
      "std         44.289431\n",
      "min          0.000000\n",
      "25%         56.496838\n",
      "50%         91.849972\n",
      "75%        128.564269\n",
      "max        185.364347\n",
      "Name: product, dtype: float64\n"
     ]
    }
   ],
   "source": [
    "# Строим график\n",
    "graph_quant_feature(geo_data_1, 'product', 'Объём запасов в скважине')"
   ]
  },
  {
   "cell_type": "markdown",
   "metadata": {},
   "source": [
    "Были проанализированы описательные статистики по всем имеющимся данным 1-го региона. Согласно гистограмме, приблизительно нормальное распределение наблюдается лишь у признака *f2*, однако именно он содержит значительное количество выбросов."
   ]
  },
  {
   "cell_type": "markdown",
   "metadata": {},
   "source": [
    "#### Анализ данных 2-го региона"
   ]
  },
  {
   "cell_type": "code",
   "execution_count": 34,
   "metadata": {},
   "outputs": [
    {
     "name": "stdout",
     "output_type": "stream",
     "text": [
      "<class 'pandas.core.frame.DataFrame'>\n",
      "Int64Index: 99996 entries, 0 to 99999\n",
      "Data columns (total 5 columns):\n",
      " #   Column   Non-Null Count  Dtype  \n",
      "---  ------   --------------  -----  \n",
      " 0   id       99996 non-null  object \n",
      " 1   f0       99996 non-null  float64\n",
      " 2   f1       99996 non-null  float64\n",
      " 3   f2       99996 non-null  float64\n",
      " 4   product  99996 non-null  float64\n",
      "dtypes: float64(4), object(1)\n",
      "memory usage: 4.6+ MB\n"
     ]
    }
   ],
   "source": [
    "# Выводим общую информацию\n",
    "geo_data_2.info()"
   ]
  },
  {
   "cell_type": "code",
   "execution_count": 35,
   "metadata": {},
   "outputs": [
    {
     "data": {
      "text/html": [
       "<div>\n",
       "<style scoped>\n",
       "    .dataframe tbody tr th:only-of-type {\n",
       "        vertical-align: middle;\n",
       "    }\n",
       "\n",
       "    .dataframe tbody tr th {\n",
       "        vertical-align: top;\n",
       "    }\n",
       "\n",
       "    .dataframe thead th {\n",
       "        text-align: right;\n",
       "    }\n",
       "</style>\n",
       "<table border=\"1\" class=\"dataframe\">\n",
       "  <thead>\n",
       "    <tr style=\"text-align: right;\">\n",
       "      <th></th>\n",
       "      <th>f0</th>\n",
       "      <th>f1</th>\n",
       "      <th>f2</th>\n",
       "      <th>product</th>\n",
       "    </tr>\n",
       "  </thead>\n",
       "  <tbody>\n",
       "    <tr>\n",
       "      <th>count</th>\n",
       "      <td>99996.000000</td>\n",
       "      <td>99996.000000</td>\n",
       "      <td>99996.000000</td>\n",
       "      <td>99996.000000</td>\n",
       "    </tr>\n",
       "    <tr>\n",
       "      <th>mean</th>\n",
       "      <td>1.141450</td>\n",
       "      <td>-4.796493</td>\n",
       "      <td>2.494551</td>\n",
       "      <td>68.825232</td>\n",
       "    </tr>\n",
       "    <tr>\n",
       "      <th>std</th>\n",
       "      <td>8.965922</td>\n",
       "      <td>5.119900</td>\n",
       "      <td>1.703579</td>\n",
       "      <td>45.944649</td>\n",
       "    </tr>\n",
       "    <tr>\n",
       "      <th>min</th>\n",
       "      <td>-31.609576</td>\n",
       "      <td>-26.358598</td>\n",
       "      <td>-0.018144</td>\n",
       "      <td>0.000000</td>\n",
       "    </tr>\n",
       "    <tr>\n",
       "      <th>25%</th>\n",
       "      <td>-6.298525</td>\n",
       "      <td>-8.267985</td>\n",
       "      <td>1.000021</td>\n",
       "      <td>26.953261</td>\n",
       "    </tr>\n",
       "    <tr>\n",
       "      <th>50%</th>\n",
       "      <td>1.153190</td>\n",
       "      <td>-4.813005</td>\n",
       "      <td>2.011479</td>\n",
       "      <td>57.085625</td>\n",
       "    </tr>\n",
       "    <tr>\n",
       "      <th>75%</th>\n",
       "      <td>8.621015</td>\n",
       "      <td>-1.332704</td>\n",
       "      <td>3.999904</td>\n",
       "      <td>107.813044</td>\n",
       "    </tr>\n",
       "    <tr>\n",
       "      <th>max</th>\n",
       "      <td>29.421755</td>\n",
       "      <td>18.734063</td>\n",
       "      <td>5.019721</td>\n",
       "      <td>137.945408</td>\n",
       "    </tr>\n",
       "  </tbody>\n",
       "</table>\n",
       "</div>"
      ],
      "text/plain": [
       "                 f0            f1            f2       product\n",
       "count  99996.000000  99996.000000  99996.000000  99996.000000\n",
       "mean       1.141450     -4.796493      2.494551     68.825232\n",
       "std        8.965922      5.119900      1.703579     45.944649\n",
       "min      -31.609576    -26.358598     -0.018144      0.000000\n",
       "25%       -6.298525     -8.267985      1.000021     26.953261\n",
       "50%        1.153190     -4.813005      2.011479     57.085625\n",
       "75%        8.621015     -1.332704      3.999904    107.813044\n",
       "max       29.421755     18.734063      5.019721    137.945408"
      ]
     },
     "execution_count": 35,
     "metadata": {},
     "output_type": "execute_result"
    }
   ],
   "source": [
    "# Рассмотрим описательную статистику\n",
    "geo_data_2.describe()"
   ]
  },
  {
   "cell_type": "code",
   "execution_count": 36,
   "metadata": {},
   "outputs": [
    {
     "data": {
      "image/png": "[encoded data removed]",
      "text/plain": [
       "<Figure size 864x432 with 2 Axes>"
      ]
     },
     "metadata": {
      "needs_background": "light"
     },
     "output_type": "display_data"
    },
    {
     "name": "stdout",
     "output_type": "stream",
     "text": [
      "Рассмотрим описательную статистику:\n",
      "count    99996.000000\n",
      "mean         1.141450\n",
      "std          8.965922\n",
      "min        -31.609576\n",
      "25%         -6.298525\n",
      "50%          1.153190\n",
      "75%          8.621015\n",
      "max         29.421755\n",
      "Name: f0, dtype: float64\n"
     ]
    }
   ],
   "source": [
    "# Строим график\n",
    "graph_quant_feature(geo_data_2, 'f0', 'Статистические данные по столбцу \\'f0\\'')"
   ]
  },
  {
   "cell_type": "code",
   "execution_count": 37,
   "metadata": {},
   "outputs": [
    {
     "data": {
      "image/png": "[encoded data removed]",
      "text/plain": [
       "<Figure size 864x432 with 2 Axes>"
      ]
     },
     "metadata": {
      "needs_background": "light"
     },
     "output_type": "display_data"
    },
    {
     "name": "stdout",
     "output_type": "stream",
     "text": [
      "Рассмотрим описательную статистику:\n",
      "count    99996.000000\n",
      "mean        -4.796493\n",
      "std          5.119900\n",
      "min        -26.358598\n",
      "25%         -8.267985\n",
      "50%         -4.813005\n",
      "75%         -1.332704\n",
      "max         18.734063\n",
      "Name: f1, dtype: float64\n"
     ]
    }
   ],
   "source": [
    "# Строим график\n",
    "graph_quant_feature(geo_data_2, 'f1', 'Статистические данные по столбцу \\'f1\\'')"
   ]
  },
  {
   "cell_type": "code",
   "execution_count": 38,
   "metadata": {},
   "outputs": [
    {
     "data": {
      "image/png": "[encoded data removed]",
      "text/plain": [
       "<Figure size 864x432 with 2 Axes>"
      ]
     },
     "metadata": {
      "needs_background": "light"
     },
     "output_type": "display_data"
    },
    {
     "name": "stdout",
     "output_type": "stream",
     "text": [
      "Рассмотрим описательную статистику:\n",
      "count    99996.000000\n",
      "mean         2.494551\n",
      "std          1.703579\n",
      "min         -0.018144\n",
      "25%          1.000021\n",
      "50%          2.011479\n",
      "75%          3.999904\n",
      "max          5.019721\n",
      "Name: f2, dtype: float64\n"
     ]
    }
   ],
   "source": [
    "# Строим график\n",
    "graph_quant_feature(geo_data_2, 'f2', 'Статистические данные по столбцу \\'f2\\'')"
   ]
  },
  {
   "cell_type": "code",
   "execution_count": 39,
   "metadata": {},
   "outputs": [
    {
     "data": {
      "image/png": "[encoded data removed]",
      "text/plain": [
       "<Figure size 864x432 with 2 Axes>"
      ]
     },
     "metadata": {
      "needs_background": "light"
     },
     "output_type": "display_data"
    },
    {
     "name": "stdout",
     "output_type": "stream",
     "text": [
      "Рассмотрим описательную статистику:\n",
      "count    99996.000000\n",
      "mean        68.825232\n",
      "std         45.944649\n",
      "min          0.000000\n",
      "25%         26.953261\n",
      "50%         57.085625\n",
      "75%        107.813044\n",
      "max        137.945408\n",
      "Name: product, dtype: float64\n"
     ]
    }
   ],
   "source": [
    "# Строим график\n",
    "graph_quant_feature(geo_data_2, 'product', 'Объём запасов в скважине')"
   ]
  },
  {
   "cell_type": "markdown",
   "metadata": {},
   "source": [
    "Были проанализированы описательные статистики по всем данным 2-го региона. Согласно гистограмме, приблизительно нормальное распределение наблюдается только у признака *f1*. На диаграммах размаха признаков *f0* и *f1* выявлены выбросы. Гистограммы признаков *f2* и *product* по форме ближе к распределениям категориальных, а не количественных признаков."
   ]
  },
  {
   "cell_type": "markdown",
   "metadata": {},
   "source": [
    "#### Анализ данных 3-го региона"
   ]
  },
  {
   "cell_type": "code",
   "execution_count": 40,
   "metadata": {},
   "outputs": [
    {
     "name": "stdout",
     "output_type": "stream",
     "text": [
      "<class 'pandas.core.frame.DataFrame'>\n",
      "Int64Index: 99996 entries, 0 to 99999\n",
      "Data columns (total 5 columns):\n",
      " #   Column   Non-Null Count  Dtype  \n",
      "---  ------   --------------  -----  \n",
      " 0   id       99996 non-null  object \n",
      " 1   f0       99996 non-null  float64\n",
      " 2   f1       99996 non-null  float64\n",
      " 3   f2       99996 non-null  float64\n",
      " 4   product  99996 non-null  float64\n",
      "dtypes: float64(4), object(1)\n",
      "memory usage: 4.6+ MB\n"
     ]
    }
   ],
   "source": [
    "# Выводим общую информацию\n",
    "geo_data_3.info()"
   ]
  },
  {
   "cell_type": "code",
   "execution_count": 41,
   "metadata": {},
   "outputs": [
    {
     "data": {
      "text/html": [
       "<div>\n",
       "<style scoped>\n",
       "    .dataframe tbody tr th:only-of-type {\n",
       "        vertical-align: middle;\n",
       "    }\n",
       "\n",
       "    .dataframe tbody tr th {\n",
       "        vertical-align: top;\n",
       "    }\n",
       "\n",
       "    .dataframe thead th {\n",
       "        text-align: right;\n",
       "    }\n",
       "</style>\n",
       "<table border=\"1\" class=\"dataframe\">\n",
       "  <thead>\n",
       "    <tr style=\"text-align: right;\">\n",
       "      <th></th>\n",
       "      <th>f0</th>\n",
       "      <th>f1</th>\n",
       "      <th>f2</th>\n",
       "      <th>product</th>\n",
       "    </tr>\n",
       "  </thead>\n",
       "  <tbody>\n",
       "    <tr>\n",
       "      <th>count</th>\n",
       "      <td>99996.000000</td>\n",
       "      <td>99996.000000</td>\n",
       "      <td>99996.000000</td>\n",
       "      <td>99996.000000</td>\n",
       "    </tr>\n",
       "    <tr>\n",
       "      <th>mean</th>\n",
       "      <td>0.001995</td>\n",
       "      <td>-0.002034</td>\n",
       "      <td>2.495132</td>\n",
       "      <td>95.000425</td>\n",
       "    </tr>\n",
       "    <tr>\n",
       "      <th>std</th>\n",
       "      <td>1.732054</td>\n",
       "      <td>1.730424</td>\n",
       "      <td>3.473453</td>\n",
       "      <td>44.748112</td>\n",
       "    </tr>\n",
       "    <tr>\n",
       "      <th>min</th>\n",
       "      <td>-8.760004</td>\n",
       "      <td>-7.084020</td>\n",
       "      <td>-11.970335</td>\n",
       "      <td>0.000000</td>\n",
       "    </tr>\n",
       "    <tr>\n",
       "      <th>25%</th>\n",
       "      <td>-1.162288</td>\n",
       "      <td>-1.174805</td>\n",
       "      <td>0.130359</td>\n",
       "      <td>59.452094</td>\n",
       "    </tr>\n",
       "    <tr>\n",
       "      <th>50%</th>\n",
       "      <td>0.009411</td>\n",
       "      <td>-0.009433</td>\n",
       "      <td>2.484236</td>\n",
       "      <td>94.925613</td>\n",
       "    </tr>\n",
       "    <tr>\n",
       "      <th>75%</th>\n",
       "      <td>1.158477</td>\n",
       "      <td>1.163760</td>\n",
       "      <td>4.858720</td>\n",
       "      <td>130.590822</td>\n",
       "    </tr>\n",
       "    <tr>\n",
       "      <th>max</th>\n",
       "      <td>7.238262</td>\n",
       "      <td>7.844801</td>\n",
       "      <td>16.739402</td>\n",
       "      <td>190.029838</td>\n",
       "    </tr>\n",
       "  </tbody>\n",
       "</table>\n",
       "</div>"
      ],
      "text/plain": [
       "                 f0            f1            f2       product\n",
       "count  99996.000000  99996.000000  99996.000000  99996.000000\n",
       "mean       0.001995     -0.002034      2.495132     95.000425\n",
       "std        1.732054      1.730424      3.473453     44.748112\n",
       "min       -8.760004     -7.084020    -11.970335      0.000000\n",
       "25%       -1.162288     -1.174805      0.130359     59.452094\n",
       "50%        0.009411     -0.009433      2.484236     94.925613\n",
       "75%        1.158477      1.163760      4.858720    130.590822\n",
       "max        7.238262      7.844801     16.739402    190.029838"
      ]
     },
     "execution_count": 41,
     "metadata": {},
     "output_type": "execute_result"
    }
   ],
   "source": [
    "# Рассмотрим описательную статистику\n",
    "geo_data_3.describe()"
   ]
  },
  {
   "cell_type": "code",
   "execution_count": 42,
   "metadata": {},
   "outputs": [
    {
     "data": {
      "image/png": "[encoded data removed]",
      "text/plain": [
       "<Figure size 864x432 with 2 Axes>"
      ]
     },
     "metadata": {
      "needs_background": "light"
     },
     "output_type": "display_data"
    },
    {
     "name": "stdout",
     "output_type": "stream",
     "text": [
      "Рассмотрим описательную статистику:\n",
      "count    99996.000000\n",
      "mean         0.001995\n",
      "std          1.732054\n",
      "min         -8.760004\n",
      "25%         -1.162288\n",
      "50%          0.009411\n",
      "75%          1.158477\n",
      "max          7.238262\n",
      "Name: f0, dtype: float64\n"
     ]
    }
   ],
   "source": [
    "# Строим график\n",
    "graph_quant_feature(geo_data_3, 'f0', 'Статистические данные по столбцу \\'f0\\'')"
   ]
  },
  {
   "cell_type": "code",
   "execution_count": 43,
   "metadata": {},
   "outputs": [
    {
     "data": {
      "image/png": "[encoded data removed]",
      "text/plain": [
       "<Figure size 864x432 with 2 Axes>"
      ]
     },
     "metadata": {
      "needs_background": "light"
     },
     "output_type": "display_data"
    },
    {
     "name": "stdout",
     "output_type": "stream",
     "text": [
      "Рассмотрим описательную статистику:\n",
      "count    99996.000000\n",
      "mean        -0.002034\n",
      "std          1.730424\n",
      "min         -7.084020\n",
      "25%         -1.174805\n",
      "50%         -0.009433\n",
      "75%          1.163760\n",
      "max          7.844801\n",
      "Name: f1, dtype: float64\n"
     ]
    }
   ],
   "source": [
    "# Строим график\n",
    "graph_quant_feature(geo_data_3, 'f1', 'Статистические данные по столбцу \\'f1\\'')"
   ]
  },
  {
   "cell_type": "code",
   "execution_count": 44,
   "metadata": {},
   "outputs": [
    {
     "data": {
      "image/png": "[encoded data removed]",
      "text/plain": [
       "<Figure size 864x432 with 2 Axes>"
      ]
     },
     "metadata": {
      "needs_background": "light"
     },
     "output_type": "display_data"
    },
    {
     "name": "stdout",
     "output_type": "stream",
     "text": [
      "Рассмотрим описательную статистику:\n",
      "count    99996.000000\n",
      "mean         2.495132\n",
      "std          3.473453\n",
      "min        -11.970335\n",
      "25%          0.130359\n",
      "50%          2.484236\n",
      "75%          4.858720\n",
      "max         16.739402\n",
      "Name: f2, dtype: float64\n"
     ]
    }
   ],
   "source": [
    "# Строим график\n",
    "graph_quant_feature(geo_data_3, 'f2', 'Статистические данные по столбцу \\'f2\\'')"
   ]
  },
  {
   "cell_type": "code",
   "execution_count": 45,
   "metadata": {},
   "outputs": [
    {
     "data": {
      "image/png": "[encoded data removed]",
      "text/plain": [
       "<Figure size 864x432 with 2 Axes>"
      ]
     },
     "metadata": {
      "needs_background": "light"
     },
     "output_type": "display_data"
    },
    {
     "name": "stdout",
     "output_type": "stream",
     "text": [
      "Рассмотрим описательную статистику:\n",
      "count    99996.000000\n",
      "mean        95.000425\n",
      "std         44.748112\n",
      "min          0.000000\n",
      "25%         59.452094\n",
      "50%         94.925613\n",
      "75%        130.590822\n",
      "max        190.029838\n",
      "Name: product, dtype: float64\n"
     ]
    }
   ],
   "source": [
    "# Строим график\n",
    "graph_quant_feature(geo_data_3, 'product', 'Объём запасов в скважине')"
   ]
  },
  {
   "cell_type": "markdown",
   "metadata": {},
   "source": [
    "Были проанализированы описательные статистики по всем данным 3-го региона. Согласно гистограммам, приблизительно нормальное распределение наблюдается у всех признаков, за исключением *product*. На диаграммах размаха признаков *f0*, *f1* и *f2* выявлены выбросы."
   ]
  },
  {
   "cell_type": "markdown",
   "metadata": {},
   "source": [
    "### Корреляционный анализ"
   ]
  },
  {
   "cell_type": "code",
   "execution_count": 46,
   "metadata": {},
   "outputs": [
    {
     "data": {
      "image/png": "[encoded data removed]",
      "text/plain": [
       "<Figure size 432x360 with 2 Axes>"
      ]
     },
     "metadata": {
      "needs_background": "light"
     },
     "output_type": "display_data"
    }
   ],
   "source": [
    "# Строим корреляционную матрицу для данных 1-го региона\n",
    "corr_plot(geo_data_1)"
   ]
  },
  {
   "cell_type": "code",
   "execution_count": 47,
   "metadata": {},
   "outputs": [
    {
     "data": {
      "image/png": "[encoded data removed]",
      "text/plain": [
       "<Figure size 432x360 with 2 Axes>"
      ]
     },
     "metadata": {
      "needs_background": "light"
     },
     "output_type": "display_data"
    }
   ],
   "source": [
    "# Строим корреляционную матрицу для данных 2-го региона\n",
    "corr_plot(geo_data_2)"
   ]
  },
  {
   "cell_type": "code",
   "execution_count": 48,
   "metadata": {},
   "outputs": [
    {
     "data": {
      "image/png": "[encoded data removed]",
      "text/plain": [
       "<Figure size 432x360 with 2 Axes>"
      ]
     },
     "metadata": {
      "needs_background": "light"
     },
     "output_type": "display_data"
    }
   ],
   "source": [
    "# Строим корреляционную матрицу для данных 3-го региона\n",
    "corr_plot(geo_data_3)"
   ]
  },
  {
   "cell_type": "markdown",
   "metadata": {},
   "source": [
    "Признаки *f0* и *f1* слабо коррелируют с целевым признаком *product*, тогда как *f2* оказывает на него сравнительно более сильное влияние. В случае данных 2-го региона коэффициент корреляции между *f2* и *product* равен 1."
   ]
  },
  {
   "cell_type": "markdown",
   "metadata": {},
   "source": [
    "### Вывод по разделу"
   ]
  },
  {
   "cell_type": "markdown",
   "metadata": {},
   "source": [
    "- Были рассмотрены входные данные о месторождениях в трёх регионах.\n",
    "- Пропущенные значения отсутствуют. Небольшое количество дубликатов по столбцу id (10, 6 и 6 для каждого из регионов соответственно) было удалено.\n",
    "- Исследовательский анализ данных показал, что многие признаки не имеют нормального распределения, а также в данных присутствуют выбросы. Эти факторы могут негативно сказаться на качестве моделей линейной регрессии.\n",
    "- Признаки f0 и f1 слабо коррелируют с целевым признаком product, тогда как f2 демонстрирует относительно более сильную зависимость."
   ]
  },
  {
   "cell_type": "markdown",
   "metadata": {},
   "source": [
    "## Обучение и проверка модели"
   ]
  },
  {
   "cell_type": "code",
   "execution_count": 49,
   "metadata": {},
   "outputs": [
    {
     "name": "stdout",
     "output_type": "stream",
     "text": [
      "Для 1-го региона:\n",
      "Формы тренировочной и тестовой выборок:  (74992, 3) (24998, 3)\n",
      "   y_pred  y_valid\n",
      "0   85.82    46.42\n",
      "1  119.65    77.33\n",
      "2  117.03   149.72\n",
      "3   78.88    93.44\n",
      "4   96.90   127.21\n",
      "RMSE: 37.81\n",
      "Cредний запас предсказанного сырья: 92.37 \n",
      "\n",
      "Для 2-го региона:\n",
      "Формы тренировочной и тестовой выборок:  (74997, 3) (24999, 3)\n",
      "   y_pred  y_valid\n",
      "0    2.44     3.18\n",
      "1   25.49    26.95\n",
      "2   55.51    53.91\n",
      "3   27.40    26.95\n",
      "4    0.23     0.00\n",
      "RMSE: 0.89\n",
      "Cредний запас предсказанного сырья: 69.04 \n",
      "\n",
      "Для 3-го региона:\n",
      "Формы тренировочной и тестовой выборок:  (74997, 3) (24999, 3)\n",
      "   y_pred  y_valid\n",
      "0   76.06   131.92\n",
      "1   90.06   165.46\n",
      "2  120.63   102.11\n",
      "3   63.22    34.08\n",
      "4  141.18   138.08\n",
      "RMSE: 40.14\n",
      "Cредний запас предсказанного сырья: 94.92 \n",
      "\n"
     ]
    }
   ],
   "source": [
    "# С помощью функции product_predict получаем предсказанное значение объёма запасов в скважине, \n",
    "# его фактическое значение, RMSE модели и средний запас предсказанного сырья\n",
    "print('Для 1-го региона:')\n",
    "y_pred_1, y_valid_1, rmse_1, avg_product_stock_1 = product_predict(geo_data_1)\n",
    "\n",
    "print('Для 2-го региона:')\n",
    "y_pred_2, y_valid_2, rmse_2, avg_product_stock_2 = product_predict(geo_data_2)\n",
    "\n",
    "print('Для 3-го региона:')\n",
    "y_pred_3, y_valid_3, rmse_3, avg_product_stock_3 = product_predict(geo_data_3)"
   ]
  },
  {
   "cell_type": "markdown",
   "metadata": {},
   "source": [
    "**Вывод по разделу:**\n",
    "- В 1-м и 3-м регионах наблюдается высокий предсказанный средний запас (около 93 тыс. баррелей), однако значения RMSE (37.81 и 40.14 соответственно) также достаточно велики. Это, вероятно, связано с наличием большого количества выбросов в данных и слабой корреляцией между входными признаками и целевым признаком.\n",
    "- Во 2-м регионе модель показала очень низкое значение RMSE (0.89), предсказав средний запас на уровне ~69 тыс. баррелей. Высокая точность предсказания, скорее всего, обусловлена сильной корреляцией признака f2 с целевой переменной."
   ]
  },
  {
   "cell_type": "markdown",
   "metadata": {},
   "source": [
    "## Подготовка к расчёту прибыли"
   ]
  },
  {
   "cell_type": "code",
   "execution_count": 50,
   "metadata": {},
   "outputs": [],
   "source": [
    "# Сохраняем ключевые значения для расчётов\n",
    "num_research_points = 500\n",
    "num_best_points = 200\n",
    "budget = 10 ** 10\n",
    "income_per_unit = 450000"
   ]
  },
  {
   "cell_type": "markdown",
   "metadata": {},
   "source": [
    "Чтобы выйти в безубыток, необходимо, чтобы совокупный доход от 200 точек как минимум покрывал общий бюджет"
   ]
  },
  {
   "cell_type": "code",
   "execution_count": 51,
   "metadata": {},
   "outputs": [
    {
     "name": "stdout",
     "output_type": "stream",
     "text": [
      "Достаточный объём сырья для безубыточной разработки новой скважины - 111.11 тыс. баррелей\n"
     ]
    }
   ],
   "source": [
    "# Вычисляем достаточный объём сырья для безубыточной разработки новой скважины\n",
    "sufficient_volume = budget / (income_per_unit * 200)\n",
    "print('Достаточный объём сырья для безубыточной разработки новой скважины -', round(sufficient_volume, 2), \n",
    "      'тыс. баррелей')"
   ]
  },
  {
   "cell_type": "markdown",
   "metadata": {},
   "source": [
    "Учитывая, что модель предсказала максимальный средний объём сырья для самого перспективного региона на уровне 94.92 тыс. баррелей, ни один из регионов не соответствует условию безубыточности"
   ]
  },
  {
   "cell_type": "code",
   "execution_count": 52,
   "metadata": {},
   "outputs": [
    {
     "name": "stdout",
     "output_type": "stream",
     "text": [
      "Регион 1: не хватает 18.75 тыс. баррелей\n",
      "Регион 2: не хватает 42.07 тыс. баррелей\n",
      "Регион 3: не хватает 16.19 тыс. баррелей\n"
     ]
    }
   ],
   "source": [
    "print(f'Регион 1: не хватает', round(sufficient_volume - avg_product_stock_1, 2), 'тыс. баррелей')\n",
    "print(f'Регион 2: не хватает', round(sufficient_volume - avg_product_stock_2, 2), 'тыс. баррелей')\n",
    "print(f'Регион 3: не хватает', round(sufficient_volume - avg_product_stock_3, 2), 'тыс. баррелей')"
   ]
  },
  {
   "cell_type": "markdown",
   "metadata": {},
   "source": [
    "**Вывод по разделу:**\n",
    "Во всех трёх регионах средний предсказанный объём добычи на одну скважину недостаточен для выхода проекта на безубыточность. Разница между требуемым и фактическим объёмом составляет:\n",
    "- для 1-го региона — 18.75 тыс. баррелей,\n",
    "- для 2-го региона — 42.07 тыс. баррелей,\n",
    "- для 3-го региона — 16.19 тыс. баррелей."
   ]
  },
  {
   "cell_type": "markdown",
   "metadata": {},
   "source": [
    "## Расчёт прибыли и рисков "
   ]
  },
  {
   "cell_type": "markdown",
   "metadata": {},
   "source": [
    "При разведке региона исследуют 500 точек, из которых с помощью машинного обучения выбирают 200 лучших для разработки.\n",
    "Бюджет на разработку скважин в регионе — 10 млрд рублей.\n",
    "При нынешних ценах один баррель сырья приносит 450 рублей дохода. Доход с каждой единицы продукта составляет 450 тыс. рублей, поскольку объём указан в тысячах баррелей.\n",
    "После оценки рисков нужно оставить лишь те регионы, в которых вероятность убытков меньше 2.5%. Среди них выбирают регион с наибольшей средней прибылью."
   ]
  },
  {
   "cell_type": "code",
   "execution_count": 53,
   "metadata": {},
   "outputs": [
    {
     "name": "stdout",
     "output_type": "stream",
     "text": [
      "Прибыль в 1-м регионе составила: 3594247240.81 руб.\n"
     ]
    }
   ],
   "source": [
    "# Рассчитываем прибыль по выбранным скважинам для 1-го региона\n",
    "print('Прибыль в 1-м регионе составила:', \n",
    "      round(calculate_profit(y_pred_1, y_valid_1, num_best_points, income_per_unit, budget),2), 'руб.')"
   ]
  },
  {
   "cell_type": "code",
   "execution_count": 54,
   "metadata": {},
   "outputs": [
    {
     "name": "stdout",
     "output_type": "stream",
     "text": [
      "Прибыль во 2-м регионе составила: 2415086696.68 руб.\n"
     ]
    }
   ],
   "source": [
    "# Рассчитываем прибыль по выбранным скважинам для 2-го региона\n",
    "print('Прибыль во 2-м регионе составила:', \n",
    "      round(calculate_profit(y_pred_2, y_valid_2, num_best_points, income_per_unit, budget),2), 'руб.')"
   ]
  },
  {
   "cell_type": "code",
   "execution_count": 55,
   "metadata": {},
   "outputs": [
    {
     "name": "stdout",
     "output_type": "stream",
     "text": [
      "Прибыль в 3-м регионе составила: 2427999783.94 руб.\n"
     ]
    }
   ],
   "source": [
    "# Рассчитываем прибыль по выбранным скважинам для 3-го региона\n",
    "print('Прибыль в 3-м регионе составила:', \n",
    "      round(calculate_profit(y_pred_3, y_valid_3, num_best_points, income_per_unit, budget),2), 'руб.')"
   ]
  },
  {
   "cell_type": "markdown",
   "metadata": {},
   "source": [
    "Прибыль в каждом из регионов превышает 10 миллиардов рублей."
   ]
  },
  {
   "cell_type": "markdown",
   "metadata": {},
   "source": [
    "Посчитаем риски убытков и среднюю прибыль для каждого региона"
   ]
  },
  {
   "cell_type": "code",
   "execution_count": 56,
   "metadata": {},
   "outputs": [
    {
     "name": "stdout",
     "output_type": "stream",
     "text": [
      "Регион 1:\n",
      "Средняя прибыль: 397966606.96 руб.\n",
      "95%-й доверительный интервал: [-107956506.89; 899629462.1] руб.\n",
      "Риск убытков: 7.60%\n",
      "\n",
      "Регион 2:\n",
      "Средняя прибыль: 453499017.82 руб.\n",
      "95%-й доверительный интервал: [75988886.28; 826565157.87] руб.\n",
      "Риск убытков: 0.60%\n",
      "\n",
      "Регион 3:\n",
      "Средняя прибыль: 335371203.5 руб.\n",
      "95%-й доверительный интервал: [-159804812.84; 870123195.63] руб.\n",
      "Риск убытков: 9.80%\n",
      "\n"
     ]
    }
   ],
   "source": [
    "# С помощью функции regional_analytics выводим все основные данные для каждого района\n",
    "regional_analytics(y_pred_1, y_valid_1, num_best_points, income_per_unit, budget, num_research_points, 1)\n",
    "regional_analytics(y_pred_2, y_valid_2, num_best_points, income_per_unit, budget, num_research_points, 2)\n",
    "regional_analytics(y_pred_3, y_valid_3, num_best_points, income_per_unit, budget, num_research_points, 3)"
   ]
  },
  {
   "cell_type": "markdown",
   "metadata": {},
   "source": [
    "**Вывод по разделу:**\n",
    "- Выполнен расчёт прибыли на основе фактических запасов сырья в топ-200 месторождениях с наибольшими предсказанными значениями. Эти данные показывают, что отобранные месторождения окупают затраты на разработку, поскольку прибыль во всех случаях превышает 10 миллиардов рублей.\n",
    "- С учётом проверки на случайных выборках (Bootstrap-анализа), для бурения новых скважин рекомендуется выбрать второй регион, так как только он соответствует критерию: вероятность убытков составляет менее 2.5%."
   ]
  },
  {
   "cell_type": "markdown",
   "metadata": {},
   "source": [
    "## Общий вывод"
   ]
  },
  {
   "cell_type": "markdown",
   "metadata": {},
   "source": [
    "В исследовании использовались данные о 100000 скважин в трёх регионах, включающие уникальный идентификатор, объём запасов сырья (целевой признак) и три признака, потенциально влияющих на объём добычи. Пропущенных значений не обнаружено, но были удалены дубликаты по столбцу *id* (в количестве 10, 6 и 6 соответственно для регионов 1, 2 и 3).\n",
    "\n",
    "На основе анализа данных и построения моделей линейной регрессии, только второй регион показал высокую точность предсказаний и минимальный риск убытков. Несмотря на то что средний запас на одну скважину недостаточен для безубыточности во всех регионах, расчёт по топ-200 месторождениям с наибольшим предсказанным потенциалом показал положительную прибыль. Учитывая результаты Bootstrap-анализа, к разработке рекомендуется 2-й регион — как наиболее надёжный и прибыльный."
   ]
  }
 ],
 "metadata": {
  "ExecuteTimeLog": [
   {
    "duration": 12,
    "start_time": "2025-03-28T16:34:30.916Z"
   },
   {
    "duration": 8,
    "start_time": "2025-04-16T03:46:34.246Z"
   },
   {
    "duration": 8,
    "start_time": "2025-04-16T05:09:28.100Z"
   },
   {
    "duration": 3,
    "start_time": "2025-04-16T05:09:52.419Z"
   },
   {
    "duration": 4,
    "start_time": "2025-04-16T06:09:07.925Z"
   },
   {
    "duration": 4,
    "start_time": "2025-04-16T06:09:52.131Z"
   },
   {
    "duration": 1404,
    "start_time": "2025-04-16T06:18:54.892Z"
   },
   {
    "duration": 3,
    "start_time": "2025-04-16T06:18:56.299Z"
   },
   {
    "duration": 151,
    "start_time": "2025-04-16T06:18:56.304Z"
   },
   {
    "duration": 16,
    "start_time": "2025-04-16T06:19:25.947Z"
   },
   {
    "duration": 138,
    "start_time": "2025-04-16T06:23:35.769Z"
   },
   {
    "duration": 137,
    "start_time": "2025-04-16T06:23:49.982Z"
   },
   {
    "duration": 141,
    "start_time": "2025-04-16T06:23:58.224Z"
   },
   {
    "duration": 133,
    "start_time": "2025-04-16T06:24:13.879Z"
   },
   {
    "duration": 21,
    "start_time": "2025-04-16T06:24:31.498Z"
   },
   {
    "duration": 138,
    "start_time": "2025-04-16T06:24:32.869Z"
   },
   {
    "duration": 15,
    "start_time": "2025-04-16T06:24:33.132Z"
   },
   {
    "duration": 149,
    "start_time": "2025-04-16T06:25:16.913Z"
   },
   {
    "duration": 16,
    "start_time": "2025-04-16T06:25:17.501Z"
   },
   {
    "duration": 1470,
    "start_time": "2025-04-16T06:55:21.104Z"
   },
   {
    "duration": 4,
    "start_time": "2025-04-16T06:55:22.577Z"
   },
   {
    "duration": 8,
    "start_time": "2025-04-16T06:55:22.583Z"
   },
   {
    "duration": 202,
    "start_time": "2025-04-16T06:55:22.592Z"
   },
   {
    "duration": 16,
    "start_time": "2025-04-16T06:55:22.796Z"
   },
   {
    "duration": 144,
    "start_time": "2025-04-16T06:55:22.813Z"
   },
   {
    "duration": 22,
    "start_time": "2025-04-16T06:55:22.958Z"
   },
   {
    "duration": 155,
    "start_time": "2025-04-16T06:55:22.981Z"
   },
   {
    "duration": 15,
    "start_time": "2025-04-16T06:55:23.137Z"
   },
   {
    "duration": 57,
    "start_time": "2025-04-16T06:56:10.260Z"
   },
   {
    "duration": 103,
    "start_time": "2025-04-16T07:01:19.301Z"
   },
   {
    "duration": 47,
    "start_time": "2025-04-16T07:01:24.397Z"
   },
   {
    "duration": 53,
    "start_time": "2025-04-16T07:02:05.079Z"
   },
   {
    "duration": 54,
    "start_time": "2025-04-16T07:02:09.320Z"
   },
   {
    "duration": 154,
    "start_time": "2025-04-16T07:04:44.850Z"
   },
   {
    "duration": 141,
    "start_time": "2025-04-16T07:04:55.836Z"
   },
   {
    "duration": 134,
    "start_time": "2025-04-16T07:05:29.915Z"
   },
   {
    "duration": 26,
    "start_time": "2025-04-16T07:05:47.746Z"
   },
   {
    "duration": 27,
    "start_time": "2025-04-16T07:06:09.105Z"
   },
   {
    "duration": 27,
    "start_time": "2025-04-16T07:06:14.755Z"
   },
   {
    "duration": 35,
    "start_time": "2025-04-16T07:08:11.621Z"
   },
   {
    "duration": 35,
    "start_time": "2025-04-16T07:09:11.353Z"
   },
   {
    "duration": 31,
    "start_time": "2025-04-16T07:09:22.121Z"
   },
   {
    "duration": 34,
    "start_time": "2025-04-16T07:09:38.045Z"
   },
   {
    "duration": 35,
    "start_time": "2025-04-16T07:09:58.000Z"
   },
   {
    "duration": 141,
    "start_time": "2025-04-16T07:10:38.977Z"
   },
   {
    "duration": 140,
    "start_time": "2025-04-16T07:10:54.800Z"
   },
   {
    "duration": 26,
    "start_time": "2025-04-16T07:12:16.580Z"
   },
   {
    "duration": 24,
    "start_time": "2025-04-16T07:12:16.872Z"
   },
   {
    "duration": 33,
    "start_time": "2025-04-16T07:12:56.785Z"
   },
   {
    "duration": 25,
    "start_time": "2025-04-16T07:12:59.373Z"
   },
   {
    "duration": 24,
    "start_time": "2025-04-16T07:12:59.597Z"
   },
   {
    "duration": 33,
    "start_time": "2025-04-16T07:13:01.414Z"
   },
   {
    "duration": 1432,
    "start_time": "2025-04-16T07:17:58.131Z"
   },
   {
    "duration": 3,
    "start_time": "2025-04-16T07:17:59.565Z"
   },
   {
    "duration": 15,
    "start_time": "2025-04-16T07:17:59.569Z"
   },
   {
    "duration": 169,
    "start_time": "2025-04-16T07:17:59.586Z"
   },
   {
    "duration": 15,
    "start_time": "2025-04-16T07:17:59.757Z"
   },
   {
    "duration": 149,
    "start_time": "2025-04-16T07:17:59.774Z"
   },
   {
    "duration": 14,
    "start_time": "2025-04-16T07:17:59.924Z"
   },
   {
    "duration": 147,
    "start_time": "2025-04-16T07:17:59.940Z"
   },
   {
    "duration": 15,
    "start_time": "2025-04-16T07:18:00.089Z"
   },
   {
    "duration": 162,
    "start_time": "2025-04-16T07:18:00.106Z"
   },
   {
    "duration": 23,
    "start_time": "2025-04-16T07:18:00.270Z"
   },
   {
    "duration": 61,
    "start_time": "2025-04-16T07:18:00.294Z"
   },
   {
    "duration": 51,
    "start_time": "2025-04-16T07:18:00.356Z"
   },
   {
    "duration": 72,
    "start_time": "2025-04-16T07:18:00.409Z"
   },
   {
    "duration": 24,
    "start_time": "2025-04-16T07:18:00.483Z"
   },
   {
    "duration": 47,
    "start_time": "2025-04-16T07:18:00.509Z"
   },
   {
    "duration": 27,
    "start_time": "2025-04-16T07:37:35.206Z"
   },
   {
    "duration": 109,
    "start_time": "2025-04-16T07:37:36.127Z"
   },
   {
    "duration": 10,
    "start_time": "2025-04-16T07:38:21.448Z"
   },
   {
    "duration": 1510,
    "start_time": "2025-04-16T07:53:43.943Z"
   },
   {
    "duration": 3,
    "start_time": "2025-04-16T07:53:45.455Z"
   },
   {
    "duration": 38,
    "start_time": "2025-04-16T07:53:45.459Z"
   },
   {
    "duration": 154,
    "start_time": "2025-04-16T07:53:45.500Z"
   },
   {
    "duration": 16,
    "start_time": "2025-04-16T07:53:45.656Z"
   },
   {
    "duration": 141,
    "start_time": "2025-04-16T07:53:45.673Z"
   },
   {
    "duration": 14,
    "start_time": "2025-04-16T07:53:45.816Z"
   },
   {
    "duration": 147,
    "start_time": "2025-04-16T07:53:45.832Z"
   },
   {
    "duration": 15,
    "start_time": "2025-04-16T07:53:45.982Z"
   },
   {
    "duration": 143,
    "start_time": "2025-04-16T07:53:45.999Z"
   },
   {
    "duration": 32,
    "start_time": "2025-04-16T07:53:46.144Z"
   },
   {
    "duration": 32,
    "start_time": "2025-04-16T07:53:46.177Z"
   },
   {
    "duration": 24,
    "start_time": "2025-04-16T07:53:46.211Z"
   },
   {
    "duration": 30,
    "start_time": "2025-04-16T07:53:46.238Z"
   },
   {
    "duration": 25,
    "start_time": "2025-04-16T07:53:46.270Z"
   },
   {
    "duration": 30,
    "start_time": "2025-04-16T07:53:46.297Z"
   },
   {
    "duration": 51,
    "start_time": "2025-04-16T07:53:46.328Z"
   },
   {
    "duration": 10,
    "start_time": "2025-04-16T07:53:46.381Z"
   },
   {
    "duration": 23,
    "start_time": "2025-04-16T07:53:46.393Z"
   },
   {
    "duration": 55,
    "start_time": "2025-04-16T07:53:46.418Z"
   },
   {
    "duration": 27,
    "start_time": "2025-04-16T07:53:46.475Z"
   },
   {
    "duration": 9,
    "start_time": "2025-04-16T07:53:46.504Z"
   },
   {
    "duration": 28,
    "start_time": "2025-04-16T07:56:53.072Z"
   },
   {
    "duration": 1401,
    "start_time": "2025-04-16T07:56:57.797Z"
   },
   {
    "duration": 5,
    "start_time": "2025-04-16T07:56:59.200Z"
   },
   {
    "duration": 10,
    "start_time": "2025-04-16T07:56:59.206Z"
   },
   {
    "duration": 157,
    "start_time": "2025-04-16T07:56:59.217Z"
   },
   {
    "duration": 16,
    "start_time": "2025-04-16T07:56:59.377Z"
   },
   {
    "duration": 150,
    "start_time": "2025-04-16T07:56:59.395Z"
   },
   {
    "duration": 24,
    "start_time": "2025-04-16T07:56:59.547Z"
   },
   {
    "duration": 140,
    "start_time": "2025-04-16T07:56:59.572Z"
   },
   {
    "duration": 15,
    "start_time": "2025-04-16T07:56:59.714Z"
   },
   {
    "duration": 132,
    "start_time": "2025-04-16T07:56:59.731Z"
   },
   {
    "duration": 23,
    "start_time": "2025-04-16T07:56:59.865Z"
   },
   {
    "duration": 29,
    "start_time": "2025-04-16T07:56:59.890Z"
   },
   {
    "duration": 54,
    "start_time": "2025-04-16T07:56:59.921Z"
   },
   {
    "duration": 11,
    "start_time": "2025-04-16T07:56:59.978Z"
   },
   {
    "duration": 74,
    "start_time": "2025-04-16T07:56:59.991Z"
   },
   {
    "duration": 76,
    "start_time": "2025-04-16T07:57:00.067Z"
   },
   {
    "duration": 31,
    "start_time": "2025-04-16T07:57:00.145Z"
   },
   {
    "duration": 52,
    "start_time": "2025-04-16T07:57:00.178Z"
   },
   {
    "duration": 44,
    "start_time": "2025-04-16T07:57:00.232Z"
   },
   {
    "duration": 31,
    "start_time": "2025-04-16T07:57:00.278Z"
   },
   {
    "duration": 62,
    "start_time": "2025-04-16T07:57:00.311Z"
   },
   {
    "duration": 44,
    "start_time": "2025-04-16T07:57:00.375Z"
   },
   {
    "duration": 132,
    "start_time": "2025-04-16T07:57:22.921Z"
   },
   {
    "duration": 27,
    "start_time": "2025-04-16T07:58:22.501Z"
   },
   {
    "duration": 1478,
    "start_time": "2025-04-16T07:58:42.229Z"
   },
   {
    "duration": 3,
    "start_time": "2025-04-16T07:58:43.709Z"
   },
   {
    "duration": 7,
    "start_time": "2025-04-16T07:58:43.713Z"
   },
   {
    "duration": 149,
    "start_time": "2025-04-16T07:58:43.721Z"
   },
   {
    "duration": 15,
    "start_time": "2025-04-16T07:58:43.872Z"
   },
   {
    "duration": 156,
    "start_time": "2025-04-16T07:58:43.889Z"
   },
   {
    "duration": 23,
    "start_time": "2025-04-16T07:58:44.047Z"
   },
   {
    "duration": 157,
    "start_time": "2025-04-16T07:58:44.072Z"
   },
   {
    "duration": 15,
    "start_time": "2025-04-16T07:58:44.231Z"
   },
   {
    "duration": 128,
    "start_time": "2025-04-16T07:58:44.262Z"
   },
   {
    "duration": 24,
    "start_time": "2025-04-16T07:58:44.392Z"
   },
   {
    "duration": 46,
    "start_time": "2025-04-16T07:58:44.417Z"
   },
   {
    "duration": 23,
    "start_time": "2025-04-16T07:58:44.465Z"
   },
   {
    "duration": 9,
    "start_time": "2025-04-16T07:58:44.491Z"
   },
   {
    "duration": 32,
    "start_time": "2025-04-16T07:58:44.501Z"
   },
   {
    "duration": 44,
    "start_time": "2025-04-16T07:58:44.535Z"
   },
   {
    "duration": 24,
    "start_time": "2025-04-16T07:58:44.580Z"
   },
   {
    "duration": 9,
    "start_time": "2025-04-16T07:58:44.606Z"
   },
   {
    "duration": 24,
    "start_time": "2025-04-16T07:58:44.616Z"
   },
   {
    "duration": 28,
    "start_time": "2025-04-16T07:58:44.662Z"
   },
   {
    "duration": 24,
    "start_time": "2025-04-16T07:58:44.692Z"
   },
   {
    "duration": 10,
    "start_time": "2025-04-16T07:58:44.717Z"
   },
   {
    "duration": 30,
    "start_time": "2025-04-16T07:59:31.540Z"
   },
   {
    "duration": 1447,
    "start_time": "2025-04-16T07:59:34.750Z"
   },
   {
    "duration": 3,
    "start_time": "2025-04-16T07:59:36.199Z"
   },
   {
    "duration": 23,
    "start_time": "2025-04-16T07:59:36.204Z"
   },
   {
    "duration": 183,
    "start_time": "2025-04-16T07:59:36.230Z"
   },
   {
    "duration": 15,
    "start_time": "2025-04-16T07:59:36.415Z"
   },
   {
    "duration": 151,
    "start_time": "2025-04-16T07:59:36.432Z"
   },
   {
    "duration": 16,
    "start_time": "2025-04-16T07:59:36.585Z"
   },
   {
    "duration": 144,
    "start_time": "2025-04-16T07:59:36.603Z"
   },
   {
    "duration": 24,
    "start_time": "2025-04-16T07:59:36.749Z"
   },
   {
    "duration": 135,
    "start_time": "2025-04-16T07:59:36.776Z"
   },
   {
    "duration": 25,
    "start_time": "2025-04-16T07:59:36.913Z"
   },
   {
    "duration": 46,
    "start_time": "2025-04-16T07:59:36.941Z"
   },
   {
    "duration": 26,
    "start_time": "2025-04-16T07:59:36.989Z"
   },
   {
    "duration": 17,
    "start_time": "2025-04-16T07:59:37.016Z"
   },
   {
    "duration": 47,
    "start_time": "2025-04-16T07:59:37.035Z"
   },
   {
    "duration": 46,
    "start_time": "2025-04-16T07:59:37.084Z"
   },
   {
    "duration": 46,
    "start_time": "2025-04-16T07:59:37.131Z"
   },
   {
    "duration": 21,
    "start_time": "2025-04-16T07:59:37.179Z"
   },
   {
    "duration": 44,
    "start_time": "2025-04-16T07:59:37.203Z"
   },
   {
    "duration": 35,
    "start_time": "2025-04-16T07:59:37.248Z"
   },
   {
    "duration": 40,
    "start_time": "2025-04-16T07:59:37.287Z"
   },
   {
    "duration": 32,
    "start_time": "2025-04-16T07:59:37.330Z"
   },
   {
    "duration": 1457,
    "start_time": "2025-04-16T08:01:17.271Z"
   },
   {
    "duration": 3,
    "start_time": "2025-04-16T08:01:18.730Z"
   },
   {
    "duration": 29,
    "start_time": "2025-04-16T08:01:18.735Z"
   },
   {
    "duration": 163,
    "start_time": "2025-04-16T08:01:18.765Z"
   },
   {
    "duration": 16,
    "start_time": "2025-04-16T08:01:18.931Z"
   },
   {
    "duration": 146,
    "start_time": "2025-04-16T08:01:18.948Z"
   },
   {
    "duration": 14,
    "start_time": "2025-04-16T08:01:19.096Z"
   },
   {
    "duration": 167,
    "start_time": "2025-04-16T08:01:19.112Z"
   },
   {
    "duration": 15,
    "start_time": "2025-04-16T08:01:19.280Z"
   },
   {
    "duration": 141,
    "start_time": "2025-04-16T08:01:19.296Z"
   },
   {
    "duration": 30,
    "start_time": "2025-04-16T08:01:19.439Z"
   },
   {
    "duration": 32,
    "start_time": "2025-04-16T08:01:19.471Z"
   },
   {
    "duration": 26,
    "start_time": "2025-04-16T08:01:19.505Z"
   },
   {
    "duration": 64,
    "start_time": "2025-04-16T08:01:19.533Z"
   },
   {
    "duration": 28,
    "start_time": "2025-04-16T08:01:19.599Z"
   },
   {
    "duration": 28,
    "start_time": "2025-04-16T08:01:19.629Z"
   },
   {
    "duration": 30,
    "start_time": "2025-04-16T08:01:19.658Z"
   },
   {
    "duration": 22,
    "start_time": "2025-04-16T08:01:19.690Z"
   },
   {
    "duration": 32,
    "start_time": "2025-04-16T08:01:19.713Z"
   },
   {
    "duration": 33,
    "start_time": "2025-04-16T08:01:19.747Z"
   },
   {
    "duration": 29,
    "start_time": "2025-04-16T08:01:19.781Z"
   },
   {
    "duration": 10,
    "start_time": "2025-04-16T08:01:19.812Z"
   },
   {
    "duration": 29,
    "start_time": "2025-04-16T08:02:39.264Z"
   },
   {
    "duration": 1433,
    "start_time": "2025-04-16T08:02:52.498Z"
   },
   {
    "duration": 4,
    "start_time": "2025-04-16T08:02:53.932Z"
   },
   {
    "duration": 15,
    "start_time": "2025-04-16T08:02:53.937Z"
   },
   {
    "duration": 157,
    "start_time": "2025-04-16T08:02:53.954Z"
   },
   {
    "duration": 15,
    "start_time": "2025-04-16T08:02:54.113Z"
   },
   {
    "duration": 159,
    "start_time": "2025-04-16T08:02:54.130Z"
   },
   {
    "duration": 15,
    "start_time": "2025-04-16T08:02:54.291Z"
   },
   {
    "duration": 145,
    "start_time": "2025-04-16T08:02:54.308Z"
   },
   {
    "duration": 19,
    "start_time": "2025-04-16T08:02:54.455Z"
   },
   {
    "duration": 147,
    "start_time": "2025-04-16T08:02:54.477Z"
   },
   {
    "duration": 25,
    "start_time": "2025-04-16T08:02:54.626Z"
   },
   {
    "duration": 34,
    "start_time": "2025-04-16T08:02:54.663Z"
   },
   {
    "duration": 23,
    "start_time": "2025-04-16T08:02:54.699Z"
   },
   {
    "duration": 9,
    "start_time": "2025-04-16T08:02:54.724Z"
   },
   {
    "duration": 25,
    "start_time": "2025-04-16T08:02:54.763Z"
   },
   {
    "duration": 32,
    "start_time": "2025-04-16T08:02:54.790Z"
   },
   {
    "duration": 47,
    "start_time": "2025-04-16T08:02:54.824Z"
   },
   {
    "duration": 11,
    "start_time": "2025-04-16T08:02:54.873Z"
   },
   {
    "duration": 41,
    "start_time": "2025-04-16T08:02:54.886Z"
   },
   {
    "duration": 46,
    "start_time": "2025-04-16T08:02:54.929Z"
   },
   {
    "duration": 24,
    "start_time": "2025-04-16T08:02:54.977Z"
   },
   {
    "duration": 9,
    "start_time": "2025-04-16T08:02:55.003Z"
   },
   {
    "duration": 6,
    "start_time": "2025-04-16T08:11:16.158Z"
   },
   {
    "duration": 10,
    "start_time": "2025-04-16T08:13:12.031Z"
   },
   {
    "duration": 10,
    "start_time": "2025-04-16T08:13:23.463Z"
   },
   {
    "duration": 1719,
    "start_time": "2025-04-16T08:19:18.542Z"
   },
   {
    "duration": 3,
    "start_time": "2025-04-16T08:19:20.263Z"
   },
   {
    "duration": 35,
    "start_time": "2025-04-16T08:19:20.268Z"
   },
   {
    "duration": 9,
    "start_time": "2025-04-16T08:19:20.305Z"
   },
   {
    "duration": 171,
    "start_time": "2025-04-16T08:19:20.317Z"
   },
   {
    "duration": 16,
    "start_time": "2025-04-16T08:19:20.490Z"
   },
   {
    "duration": 204,
    "start_time": "2025-04-16T08:19:20.507Z"
   },
   {
    "duration": 15,
    "start_time": "2025-04-16T08:19:20.713Z"
   },
   {
    "duration": 196,
    "start_time": "2025-04-16T08:19:20.730Z"
   },
   {
    "duration": 16,
    "start_time": "2025-04-16T08:19:20.928Z"
   },
   {
    "duration": 153,
    "start_time": "2025-04-16T08:19:20.946Z"
   },
   {
    "duration": 25,
    "start_time": "2025-04-16T08:19:21.101Z"
   },
   {
    "duration": 53,
    "start_time": "2025-04-16T08:19:21.128Z"
   },
   {
    "duration": 27,
    "start_time": "2025-04-16T08:19:21.184Z"
   },
   {
    "duration": 9,
    "start_time": "2025-04-16T08:19:21.213Z"
   },
   {
    "duration": 67,
    "start_time": "2025-04-16T08:19:21.224Z"
   },
   {
    "duration": 37,
    "start_time": "2025-04-16T08:19:21.292Z"
   },
   {
    "duration": 40,
    "start_time": "2025-04-16T08:19:21.330Z"
   },
   {
    "duration": 10,
    "start_time": "2025-04-16T08:19:21.372Z"
   },
   {
    "duration": 37,
    "start_time": "2025-04-16T08:19:21.385Z"
   },
   {
    "duration": 53,
    "start_time": "2025-04-16T08:19:21.424Z"
   },
   {
    "duration": 27,
    "start_time": "2025-04-16T08:19:21.479Z"
   },
   {
    "duration": 10,
    "start_time": "2025-04-16T08:19:21.508Z"
   },
   {
    "duration": 28,
    "start_time": "2025-04-16T08:19:21.520Z"
   },
   {
    "duration": 128,
    "start_time": "2025-04-16T08:19:21.549Z"
   },
   {
    "duration": 0,
    "start_time": "2025-04-16T08:19:21.678Z"
   },
   {
    "duration": 2,
    "start_time": "2025-04-16T08:19:31.786Z"
   },
   {
    "duration": 17,
    "start_time": "2025-04-16T08:19:33.960Z"
   },
   {
    "duration": 1520,
    "start_time": "2025-04-16T08:20:56.040Z"
   },
   {
    "duration": 6,
    "start_time": "2025-04-16T08:20:57.562Z"
   },
   {
    "duration": 5,
    "start_time": "2025-04-16T08:20:57.570Z"
   },
   {
    "duration": 7,
    "start_time": "2025-04-16T08:20:57.577Z"
   },
   {
    "duration": 158,
    "start_time": "2025-04-16T08:20:57.585Z"
   },
   {
    "duration": 24,
    "start_time": "2025-04-16T08:20:57.745Z"
   },
   {
    "duration": 154,
    "start_time": "2025-04-16T08:20:57.772Z"
   },
   {
    "duration": 14,
    "start_time": "2025-04-16T08:20:57.927Z"
   },
   {
    "duration": 152,
    "start_time": "2025-04-16T08:20:57.943Z"
   },
   {
    "duration": 14,
    "start_time": "2025-04-16T08:20:58.098Z"
   },
   {
    "duration": 139,
    "start_time": "2025-04-16T08:20:58.114Z"
   },
   {
    "duration": 36,
    "start_time": "2025-04-16T08:20:58.254Z"
   },
   {
    "duration": 31,
    "start_time": "2025-04-16T08:20:58.292Z"
   },
   {
    "duration": 40,
    "start_time": "2025-04-16T08:20:58.324Z"
   },
   {
    "duration": 9,
    "start_time": "2025-04-16T08:20:58.375Z"
   },
   {
    "duration": 25,
    "start_time": "2025-04-16T08:20:58.386Z"
   },
   {
    "duration": 38,
    "start_time": "2025-04-16T08:20:58.413Z"
   },
   {
    "duration": 42,
    "start_time": "2025-04-16T08:20:58.452Z"
   },
   {
    "duration": 9,
    "start_time": "2025-04-16T08:20:58.496Z"
   },
   {
    "duration": 35,
    "start_time": "2025-04-16T08:20:58.506Z"
   },
   {
    "duration": 42,
    "start_time": "2025-04-16T08:20:58.543Z"
   },
   {
    "duration": 27,
    "start_time": "2025-04-16T08:20:58.587Z"
   },
   {
    "duration": 9,
    "start_time": "2025-04-16T08:20:58.616Z"
   },
   {
    "duration": 48,
    "start_time": "2025-04-16T08:20:58.626Z"
   },
   {
    "duration": 3,
    "start_time": "2025-04-16T08:20:58.676Z"
   },
   {
    "duration": 13,
    "start_time": "2025-04-16T08:20:58.680Z"
   },
   {
    "duration": 401,
    "start_time": "2025-04-16T08:22:27.805Z"
   },
   {
    "duration": 6,
    "start_time": "2025-04-16T08:23:36.992Z"
   },
   {
    "duration": 351,
    "start_time": "2025-04-16T08:23:40.762Z"
   },
   {
    "duration": 357,
    "start_time": "2025-04-16T08:26:12.942Z"
   },
   {
    "duration": 425,
    "start_time": "2025-04-16T08:26:38.716Z"
   },
   {
    "duration": 337,
    "start_time": "2025-04-16T08:27:08.991Z"
   },
   {
    "duration": 305,
    "start_time": "2025-04-16T08:27:09.516Z"
   },
   {
    "duration": 388,
    "start_time": "2025-04-16T08:27:17.186Z"
   },
   {
    "duration": 328,
    "start_time": "2025-04-16T08:28:40.402Z"
   },
   {
    "duration": 15,
    "start_time": "2025-04-16T08:29:38.230Z"
   },
   {
    "duration": 354,
    "start_time": "2025-04-16T08:29:54.553Z"
   },
   {
    "duration": 353,
    "start_time": "2025-04-16T08:30:32.652Z"
   },
   {
    "duration": 437,
    "start_time": "2025-04-16T08:30:41.403Z"
   },
   {
    "duration": 350,
    "start_time": "2025-04-16T08:31:09.268Z"
   },
   {
    "duration": 15,
    "start_time": "2025-04-16T08:31:45.586Z"
   },
   {
    "duration": 328,
    "start_time": "2025-04-16T08:32:00.105Z"
   },
   {
    "duration": 340,
    "start_time": "2025-04-16T08:32:09.264Z"
   },
   {
    "duration": 351,
    "start_time": "2025-04-16T08:32:17.354Z"
   },
   {
    "duration": 351,
    "start_time": "2025-04-16T08:32:25.100Z"
   },
   {
    "duration": 408,
    "start_time": "2025-04-16T08:32:33.379Z"
   },
   {
    "duration": 5,
    "start_time": "2025-04-16T08:56:10.203Z"
   },
   {
    "duration": 4,
    "start_time": "2025-04-16T08:56:18.903Z"
   },
   {
    "duration": 41,
    "start_time": "2025-04-16T08:58:48.256Z"
   },
   {
    "duration": 46,
    "start_time": "2025-04-16T08:59:16.044Z"
   },
   {
    "duration": 36,
    "start_time": "2025-04-16T08:59:54.852Z"
   },
   {
    "duration": 36,
    "start_time": "2025-04-16T09:00:09.038Z"
   },
   {
    "duration": 1434,
    "start_time": "2025-04-16T09:01:43.164Z"
   },
   {
    "duration": 3,
    "start_time": "2025-04-16T09:01:44.600Z"
   },
   {
    "duration": 5,
    "start_time": "2025-04-16T09:01:44.604Z"
   },
   {
    "duration": 6,
    "start_time": "2025-04-16T09:01:44.611Z"
   },
   {
    "duration": 7,
    "start_time": "2025-04-16T09:01:44.619Z"
   },
   {
    "duration": 159,
    "start_time": "2025-04-16T09:01:44.628Z"
   },
   {
    "duration": 15,
    "start_time": "2025-04-16T09:01:44.789Z"
   },
   {
    "duration": 169,
    "start_time": "2025-04-16T09:01:44.806Z"
   },
   {
    "duration": 18,
    "start_time": "2025-04-16T09:01:44.977Z"
   },
   {
    "duration": 175,
    "start_time": "2025-04-16T09:01:44.997Z"
   },
   {
    "duration": 15,
    "start_time": "2025-04-16T09:01:45.173Z"
   },
   {
    "duration": 162,
    "start_time": "2025-04-16T09:01:45.190Z"
   },
   {
    "duration": 31,
    "start_time": "2025-04-16T09:01:45.354Z"
   },
   {
    "duration": 39,
    "start_time": "2025-04-16T09:01:45.389Z"
   },
   {
    "duration": 49,
    "start_time": "2025-04-16T09:01:45.430Z"
   },
   {
    "duration": 18,
    "start_time": "2025-04-16T09:01:45.482Z"
   },
   {
    "duration": 29,
    "start_time": "2025-04-16T09:01:45.502Z"
   },
   {
    "duration": 54,
    "start_time": "2025-04-16T09:01:45.533Z"
   },
   {
    "duration": 28,
    "start_time": "2025-04-16T09:01:45.588Z"
   },
   {
    "duration": 10,
    "start_time": "2025-04-16T09:01:45.618Z"
   },
   {
    "duration": 58,
    "start_time": "2025-04-16T09:01:45.629Z"
   },
   {
    "duration": 29,
    "start_time": "2025-04-16T09:01:45.689Z"
   },
   {
    "duration": 51,
    "start_time": "2025-04-16T09:01:45.719Z"
   },
   {
    "duration": 11,
    "start_time": "2025-04-16T09:01:45.773Z"
   },
   {
    "duration": 18,
    "start_time": "2025-04-16T09:01:45.785Z"
   },
   {
    "duration": 62,
    "start_time": "2025-04-16T09:01:45.804Z"
   },
   {
    "duration": 377,
    "start_time": "2025-04-16T09:01:45.869Z"
   },
   {
    "duration": 338,
    "start_time": "2025-04-16T09:01:46.248Z"
   },
   {
    "duration": 342,
    "start_time": "2025-04-16T09:01:46.588Z"
   },
   {
    "duration": 453,
    "start_time": "2025-04-16T09:01:46.931Z"
   },
   {
    "duration": 14,
    "start_time": "2025-04-16T09:01:47.386Z"
   },
   {
    "duration": 39,
    "start_time": "2025-04-16T09:01:47.402Z"
   },
   {
    "duration": 370,
    "start_time": "2025-04-16T09:01:47.462Z"
   },
   {
    "duration": 367,
    "start_time": "2025-04-16T09:01:47.835Z"
   },
   {
    "duration": 352,
    "start_time": "2025-04-16T09:01:48.204Z"
   },
   {
    "duration": 354,
    "start_time": "2025-04-16T09:01:48.569Z"
   },
   {
    "duration": 14,
    "start_time": "2025-04-16T09:01:48.924Z"
   },
   {
    "duration": 55,
    "start_time": "2025-04-16T09:01:48.940Z"
   },
   {
    "duration": 366,
    "start_time": "2025-04-16T09:01:48.996Z"
   },
   {
    "duration": 457,
    "start_time": "2025-04-16T09:01:49.366Z"
   },
   {
    "duration": 378,
    "start_time": "2025-04-16T09:01:49.827Z"
   },
   {
    "duration": 367,
    "start_time": "2025-04-16T09:01:50.207Z"
   },
   {
    "duration": 11,
    "start_time": "2025-04-16T09:05:58.707Z"
   },
   {
    "duration": 14,
    "start_time": "2025-04-16T09:06:05.179Z"
   },
   {
    "duration": 19,
    "start_time": "2025-04-16T09:06:11.862Z"
   },
   {
    "duration": 18,
    "start_time": "2025-04-16T09:06:24.047Z"
   },
   {
    "duration": 481,
    "start_time": "2025-04-16T09:30:41.365Z"
   },
   {
    "duration": 449,
    "start_time": "2025-04-16T09:31:03.580Z"
   },
   {
    "duration": 492,
    "start_time": "2025-04-16T09:31:11.425Z"
   },
   {
    "duration": 426,
    "start_time": "2025-04-16T09:31:21.598Z"
   },
   {
    "duration": 441,
    "start_time": "2025-04-16T09:31:28.674Z"
   },
   {
    "duration": 4,
    "start_time": "2025-04-16T09:35:38.738Z"
   },
   {
    "duration": 543,
    "start_time": "2025-04-16T09:35:58.879Z"
   },
   {
    "duration": 475,
    "start_time": "2025-04-16T09:36:02.241Z"
   },
   {
    "duration": 4,
    "start_time": "2025-04-16T09:36:32.484Z"
   },
   {
    "duration": 453,
    "start_time": "2025-04-16T09:36:40.162Z"
   },
   {
    "duration": 442,
    "start_time": "2025-04-16T09:36:42.185Z"
   },
   {
    "duration": 1457,
    "start_time": "2025-04-16T09:37:25.517Z"
   },
   {
    "duration": 4,
    "start_time": "2025-04-16T09:37:26.977Z"
   },
   {
    "duration": 4,
    "start_time": "2025-04-16T09:37:26.982Z"
   },
   {
    "duration": 25,
    "start_time": "2025-04-16T09:37:26.988Z"
   },
   {
    "duration": 8,
    "start_time": "2025-04-16T09:37:27.015Z"
   },
   {
    "duration": 23,
    "start_time": "2025-04-16T09:37:27.025Z"
   },
   {
    "duration": 162,
    "start_time": "2025-04-16T09:37:27.049Z"
   },
   {
    "duration": 15,
    "start_time": "2025-04-16T09:37:27.213Z"
   },
   {
    "duration": 180,
    "start_time": "2025-04-16T09:37:27.229Z"
   },
   {
    "duration": 14,
    "start_time": "2025-04-16T09:37:27.412Z"
   },
   {
    "duration": 155,
    "start_time": "2025-04-16T09:37:27.428Z"
   },
   {
    "duration": 14,
    "start_time": "2025-04-16T09:37:27.585Z"
   },
   {
    "duration": 142,
    "start_time": "2025-04-16T09:37:27.600Z"
   },
   {
    "duration": 37,
    "start_time": "2025-04-16T09:37:27.743Z"
   },
   {
    "duration": 31,
    "start_time": "2025-04-16T09:37:27.782Z"
   },
   {
    "duration": 23,
    "start_time": "2025-04-16T09:37:27.815Z"
   },
   {
    "duration": 35,
    "start_time": "2025-04-16T09:37:27.840Z"
   },
   {
    "duration": 22,
    "start_time": "2025-04-16T09:37:27.879Z"
   },
   {
    "duration": 27,
    "start_time": "2025-04-16T09:37:27.903Z"
   },
   {
    "duration": 44,
    "start_time": "2025-04-16T09:37:27.931Z"
   },
   {
    "duration": 9,
    "start_time": "2025-04-16T09:37:27.979Z"
   },
   {
    "duration": 23,
    "start_time": "2025-04-16T09:37:27.990Z"
   },
   {
    "duration": 27,
    "start_time": "2025-04-16T09:37:28.014Z"
   },
   {
    "duration": 49,
    "start_time": "2025-04-16T09:37:28.043Z"
   },
   {
    "duration": 9,
    "start_time": "2025-04-16T09:37:28.094Z"
   },
   {
    "duration": 66,
    "start_time": "2025-04-16T09:37:28.104Z"
   },
   {
    "duration": 60,
    "start_time": "2025-04-16T09:37:28.172Z"
   },
   {
    "duration": 358,
    "start_time": "2025-04-16T09:37:28.235Z"
   },
   {
    "duration": 322,
    "start_time": "2025-04-16T09:37:28.596Z"
   },
   {
    "duration": 356,
    "start_time": "2025-04-16T09:37:28.919Z"
   },
   {
    "duration": 408,
    "start_time": "2025-04-16T09:37:29.277Z"
   },
   {
    "duration": 15,
    "start_time": "2025-04-16T09:37:29.687Z"
   },
   {
    "duration": 34,
    "start_time": "2025-04-16T09:37:29.703Z"
   },
   {
    "duration": 367,
    "start_time": "2025-04-16T09:37:29.739Z"
   },
   {
    "duration": 446,
    "start_time": "2025-04-16T09:37:30.108Z"
   },
   {
    "duration": 346,
    "start_time": "2025-04-16T09:37:30.562Z"
   },
   {
    "duration": 368,
    "start_time": "2025-04-16T09:37:30.910Z"
   },
   {
    "duration": 18,
    "start_time": "2025-04-16T09:37:31.280Z"
   },
   {
    "duration": 75,
    "start_time": "2025-04-16T09:37:31.300Z"
   },
   {
    "duration": 359,
    "start_time": "2025-04-16T09:37:31.377Z"
   },
   {
    "duration": 449,
    "start_time": "2025-04-16T09:37:31.738Z"
   },
   {
    "duration": 343,
    "start_time": "2025-04-16T09:37:32.189Z"
   },
   {
    "duration": 343,
    "start_time": "2025-04-16T09:37:32.533Z"
   },
   {
    "duration": 454,
    "start_time": "2025-04-16T09:37:32.878Z"
   },
   {
    "duration": 505,
    "start_time": "2025-04-16T09:37:33.335Z"
   },
   {
    "duration": 486,
    "start_time": "2025-04-16T09:37:33.841Z"
   },
   {
    "duration": 1551,
    "start_time": "2025-04-16T11:14:02.270Z"
   },
   {
    "duration": 3,
    "start_time": "2025-04-16T11:14:03.823Z"
   },
   {
    "duration": 18,
    "start_time": "2025-04-16T11:14:03.827Z"
   },
   {
    "duration": 6,
    "start_time": "2025-04-16T11:14:03.846Z"
   },
   {
    "duration": 5,
    "start_time": "2025-04-16T11:14:03.854Z"
   },
   {
    "duration": 66,
    "start_time": "2025-04-16T11:14:03.860Z"
   },
   {
    "duration": 168,
    "start_time": "2025-04-16T11:14:03.928Z"
   },
   {
    "duration": 15,
    "start_time": "2025-04-16T11:14:04.098Z"
   },
   {
    "duration": 158,
    "start_time": "2025-04-16T11:14:04.114Z"
   },
   {
    "duration": 15,
    "start_time": "2025-04-16T11:14:04.274Z"
   },
   {
    "duration": 163,
    "start_time": "2025-04-16T11:14:04.291Z"
   },
   {
    "duration": 17,
    "start_time": "2025-04-16T11:14:04.456Z"
   },
   {
    "duration": 134,
    "start_time": "2025-04-16T11:14:04.475Z"
   },
   {
    "duration": 22,
    "start_time": "2025-04-16T11:14:04.612Z"
   },
   {
    "duration": 39,
    "start_time": "2025-04-16T11:14:04.635Z"
   },
   {
    "duration": 31,
    "start_time": "2025-04-16T11:14:04.676Z"
   },
   {
    "duration": 13,
    "start_time": "2025-04-16T11:14:04.709Z"
   },
   {
    "duration": 145,
    "start_time": "2025-04-16T11:14:04.723Z"
   },
   {
    "duration": 54,
    "start_time": "2025-04-16T11:14:04.870Z"
   },
   {
    "duration": 28,
    "start_time": "2025-04-16T11:14:04.925Z"
   },
   {
    "duration": 9,
    "start_time": "2025-04-16T11:14:04.955Z"
   },
   {
    "duration": 60,
    "start_time": "2025-04-16T11:14:04.965Z"
   },
   {
    "duration": 32,
    "start_time": "2025-04-16T11:14:05.026Z"
   },
   {
    "duration": 30,
    "start_time": "2025-04-16T11:14:05.060Z"
   },
   {
    "duration": 12,
    "start_time": "2025-04-16T11:14:05.092Z"
   },
   {
    "duration": 132,
    "start_time": "2025-04-16T11:14:05.105Z"
   },
   {
    "duration": 57,
    "start_time": "2025-04-16T11:14:05.238Z"
   },
   {
    "duration": 355,
    "start_time": "2025-04-16T11:14:05.297Z"
   },
   {
    "duration": 299,
    "start_time": "2025-04-16T11:14:05.653Z"
   },
   {
    "duration": 322,
    "start_time": "2025-04-16T11:14:05.954Z"
   },
   {
    "duration": 404,
    "start_time": "2025-04-16T11:14:06.277Z"
   },
   {
    "duration": 14,
    "start_time": "2025-04-16T11:14:06.683Z"
   },
   {
    "duration": 56,
    "start_time": "2025-04-16T11:14:06.699Z"
   },
   {
    "duration": 391,
    "start_time": "2025-04-16T11:14:06.756Z"
   },
   {
    "duration": 313,
    "start_time": "2025-04-16T11:14:07.149Z"
   },
   {
    "duration": 319,
    "start_time": "2025-04-16T11:14:07.464Z"
   },
   {
    "duration": 357,
    "start_time": "2025-04-16T11:14:07.784Z"
   },
   {
    "duration": 27,
    "start_time": "2025-04-16T11:14:08.142Z"
   },
   {
    "duration": 36,
    "start_time": "2025-04-16T11:14:08.171Z"
   },
   {
    "duration": 353,
    "start_time": "2025-04-16T11:14:08.209Z"
   },
   {
    "duration": 427,
    "start_time": "2025-04-16T11:14:08.566Z"
   },
   {
    "duration": 322,
    "start_time": "2025-04-16T11:14:08.994Z"
   },
   {
    "duration": 312,
    "start_time": "2025-04-16T11:14:09.318Z"
   },
   {
    "duration": 496,
    "start_time": "2025-04-16T11:14:09.632Z"
   },
   {
    "duration": 442,
    "start_time": "2025-04-16T11:14:10.130Z"
   },
   {
    "duration": 429,
    "start_time": "2025-04-16T11:14:10.573Z"
   },
   {
    "duration": 8,
    "start_time": "2025-04-16T11:14:42.899Z"
   },
   {
    "duration": 8,
    "start_time": "2025-04-16T11:14:54.858Z"
   },
   {
    "duration": 5,
    "start_time": "2025-04-16T11:56:03.583Z"
   },
   {
    "duration": 127,
    "start_time": "2025-04-16T11:58:34.245Z"
   },
   {
    "duration": 4,
    "start_time": "2025-04-16T11:58:39.776Z"
   },
   {
    "duration": 103,
    "start_time": "2025-04-16T12:00:22.173Z"
   },
   {
    "duration": 25,
    "start_time": "2025-04-16T12:00:28.884Z"
   },
   {
    "duration": 25,
    "start_time": "2025-04-16T12:00:35.241Z"
   },
   {
    "duration": 5,
    "start_time": "2025-04-16T12:01:00.698Z"
   },
   {
    "duration": 135,
    "start_time": "2025-04-16T12:01:01.829Z"
   },
   {
    "duration": 4,
    "start_time": "2025-04-16T12:02:16.462Z"
   },
   {
    "duration": 79,
    "start_time": "2025-04-16T12:02:18.784Z"
   },
   {
    "duration": 5,
    "start_time": "2025-04-16T12:06:26.943Z"
   },
   {
    "duration": 5,
    "start_time": "2025-04-16T12:07:19.468Z"
   },
   {
    "duration": 3,
    "start_time": "2025-04-16T12:07:21.533Z"
   },
   {
    "duration": 477,
    "start_time": "2025-04-16T12:07:22.693Z"
   },
   {
    "duration": 5,
    "start_time": "2025-04-16T12:07:42.307Z"
   },
   {
    "duration": 3,
    "start_time": "2025-04-16T12:07:42.947Z"
   },
   {
    "duration": 543,
    "start_time": "2025-04-16T12:07:43.323Z"
   },
   {
    "duration": 4,
    "start_time": "2025-04-16T12:08:27.070Z"
   },
   {
    "duration": 2,
    "start_time": "2025-04-16T12:08:27.403Z"
   },
   {
    "duration": 638,
    "start_time": "2025-04-16T12:08:27.626Z"
   },
   {
    "duration": 5,
    "start_time": "2025-04-16T12:08:46.338Z"
   },
   {
    "duration": 2,
    "start_time": "2025-04-16T12:08:46.962Z"
   },
   {
    "duration": 597,
    "start_time": "2025-04-16T12:08:47.367Z"
   },
   {
    "duration": 5,
    "start_time": "2025-04-16T12:10:37.217Z"
   },
   {
    "duration": 2,
    "start_time": "2025-04-16T12:10:37.867Z"
   },
   {
    "duration": 449,
    "start_time": "2025-04-16T12:10:38.114Z"
   },
   {
    "duration": 5,
    "start_time": "2025-04-16T12:11:02.358Z"
   },
   {
    "duration": 3,
    "start_time": "2025-04-16T12:11:02.878Z"
   },
   {
    "duration": 515,
    "start_time": "2025-04-16T12:11:03.250Z"
   },
   {
    "duration": 6,
    "start_time": "2025-04-16T12:14:03.922Z"
   },
   {
    "duration": 3,
    "start_time": "2025-04-16T12:14:04.458Z"
   },
   {
    "duration": 488,
    "start_time": "2025-04-16T12:14:05.281Z"
   },
   {
    "duration": 5,
    "start_time": "2025-04-16T12:14:17.092Z"
   },
   {
    "duration": 2,
    "start_time": "2025-04-16T12:14:17.454Z"
   },
   {
    "duration": 529,
    "start_time": "2025-04-16T12:14:17.737Z"
   },
   {
    "duration": 1431,
    "start_time": "2025-04-16T12:41:34.431Z"
   },
   {
    "duration": 2,
    "start_time": "2025-04-16T12:41:35.864Z"
   },
   {
    "duration": 27,
    "start_time": "2025-04-16T12:41:35.868Z"
   },
   {
    "duration": 22,
    "start_time": "2025-04-16T12:41:35.897Z"
   },
   {
    "duration": 8,
    "start_time": "2025-04-16T12:41:35.922Z"
   },
   {
    "duration": 6,
    "start_time": "2025-04-16T12:41:35.932Z"
   },
   {
    "duration": 141,
    "start_time": "2025-04-16T12:41:35.940Z"
   },
   {
    "duration": 15,
    "start_time": "2025-04-16T12:41:36.083Z"
   },
   {
    "duration": 158,
    "start_time": "2025-04-16T12:41:36.100Z"
   },
   {
    "duration": 15,
    "start_time": "2025-04-16T12:41:36.260Z"
   },
   {
    "duration": 148,
    "start_time": "2025-04-16T12:41:36.277Z"
   },
   {
    "duration": 18,
    "start_time": "2025-04-16T12:41:36.427Z"
   },
   {
    "duration": 140,
    "start_time": "2025-04-16T12:41:36.447Z"
   },
   {
    "duration": 20,
    "start_time": "2025-04-16T12:41:36.591Z"
   },
   {
    "duration": 32,
    "start_time": "2025-04-16T12:41:36.612Z"
   },
   {
    "duration": 37,
    "start_time": "2025-04-16T12:41:36.645Z"
   },
   {
    "duration": 9,
    "start_time": "2025-04-16T12:41:36.683Z"
   },
   {
    "duration": 34,
    "start_time": "2025-04-16T12:41:36.694Z"
   },
   {
    "duration": 40,
    "start_time": "2025-04-16T12:41:36.730Z"
   },
   {
    "duration": 25,
    "start_time": "2025-04-16T12:41:36.772Z"
   },
   {
    "duration": 13,
    "start_time": "2025-04-16T12:41:36.799Z"
   },
   {
    "duration": 25,
    "start_time": "2025-04-16T12:41:36.814Z"
   },
   {
    "duration": 53,
    "start_time": "2025-04-16T12:41:36.840Z"
   },
   {
    "duration": 32,
    "start_time": "2025-04-16T12:41:36.895Z"
   },
   {
    "duration": 8,
    "start_time": "2025-04-16T12:41:36.929Z"
   },
   {
    "duration": 30,
    "start_time": "2025-04-16T12:41:36.939Z"
   },
   {
    "duration": 36,
    "start_time": "2025-04-16T12:41:36.970Z"
   },
   {
    "duration": 340,
    "start_time": "2025-04-16T12:41:37.008Z"
   },
   {
    "duration": 279,
    "start_time": "2025-04-16T12:41:37.350Z"
   },
   {
    "duration": 310,
    "start_time": "2025-04-16T12:41:37.631Z"
   },
   {
    "duration": 400,
    "start_time": "2025-04-16T12:41:37.942Z"
   },
   {
    "duration": 26,
    "start_time": "2025-04-16T12:41:38.343Z"
   },
   {
    "duration": 35,
    "start_time": "2025-04-16T12:41:38.370Z"
   },
   {
    "duration": 311,
    "start_time": "2025-04-16T12:41:38.407Z"
   },
   {
    "duration": 310,
    "start_time": "2025-04-16T12:41:38.719Z"
   },
   {
    "duration": 305,
    "start_time": "2025-04-16T12:41:39.030Z"
   },
   {
    "duration": 325,
    "start_time": "2025-04-16T12:41:39.337Z"
   },
   {
    "duration": 14,
    "start_time": "2025-04-16T12:41:39.664Z"
   },
   {
    "duration": 35,
    "start_time": "2025-04-16T12:41:39.679Z"
   },
   {
    "duration": 356,
    "start_time": "2025-04-16T12:41:39.716Z"
   },
   {
    "duration": 431,
    "start_time": "2025-04-16T12:41:40.076Z"
   },
   {
    "duration": 316,
    "start_time": "2025-04-16T12:41:40.508Z"
   },
   {
    "duration": 316,
    "start_time": "2025-04-16T12:41:40.825Z"
   },
   {
    "duration": 469,
    "start_time": "2025-04-16T12:41:41.143Z"
   },
   {
    "duration": 524,
    "start_time": "2025-04-16T12:41:41.614Z"
   },
   {
    "duration": 461,
    "start_time": "2025-04-16T12:41:42.140Z"
   },
   {
    "duration": 3,
    "start_time": "2025-04-16T12:41:42.603Z"
   },
   {
    "duration": 458,
    "start_time": "2025-04-16T12:41:42.607Z"
   },
   {
    "duration": 6,
    "start_time": "2025-04-16T12:46:23.165Z"
   },
   {
    "duration": 1792,
    "start_time": "2025-04-16T12:46:29.631Z"
   },
   {
    "duration": 3,
    "start_time": "2025-04-16T12:46:31.425Z"
   },
   {
    "duration": 50,
    "start_time": "2025-04-16T12:46:31.429Z"
   },
   {
    "duration": 160,
    "start_time": "2025-04-16T12:46:31.482Z"
   },
   {
    "duration": 32,
    "start_time": "2025-04-16T12:46:31.644Z"
   },
   {
    "duration": 24,
    "start_time": "2025-04-16T12:46:31.678Z"
   },
   {
    "duration": 154,
    "start_time": "2025-04-16T12:46:31.704Z"
   },
   {
    "duration": 14,
    "start_time": "2025-04-16T12:46:31.860Z"
   },
   {
    "duration": 149,
    "start_time": "2025-04-16T12:46:31.875Z"
   },
   {
    "duration": 14,
    "start_time": "2025-04-16T12:46:32.027Z"
   },
   {
    "duration": 135,
    "start_time": "2025-04-16T12:46:32.042Z"
   },
   {
    "duration": 13,
    "start_time": "2025-04-16T12:46:32.179Z"
   },
   {
    "duration": 152,
    "start_time": "2025-04-16T12:46:32.193Z"
   },
   {
    "duration": 26,
    "start_time": "2025-04-16T12:46:32.347Z"
   },
   {
    "duration": 58,
    "start_time": "2025-04-16T12:46:32.375Z"
   },
   {
    "duration": 62,
    "start_time": "2025-04-16T12:46:32.435Z"
   },
   {
    "duration": 28,
    "start_time": "2025-04-16T12:46:32.498Z"
   },
   {
    "duration": 28,
    "start_time": "2025-04-16T12:46:32.527Z"
   },
   {
    "duration": 29,
    "start_time": "2025-04-16T12:46:32.557Z"
   },
   {
    "duration": 25,
    "start_time": "2025-04-16T12:46:32.587Z"
   },
   {
    "duration": 25,
    "start_time": "2025-04-16T12:46:32.614Z"
   },
   {
    "duration": 33,
    "start_time": "2025-04-16T12:46:32.641Z"
   },
   {
    "duration": 46,
    "start_time": "2025-04-16T12:46:32.676Z"
   },
   {
    "duration": 78,
    "start_time": "2025-04-16T12:46:32.724Z"
   },
   {
    "duration": 34,
    "start_time": "2025-04-16T12:46:32.804Z"
   },
   {
    "duration": 17,
    "start_time": "2025-04-16T12:46:32.840Z"
   },
   {
    "duration": 66,
    "start_time": "2025-04-16T12:46:32.859Z"
   },
   {
    "duration": 345,
    "start_time": "2025-04-16T12:46:32.928Z"
   },
   {
    "duration": 289,
    "start_time": "2025-04-16T12:46:33.274Z"
   },
   {
    "duration": 318,
    "start_time": "2025-04-16T12:46:33.565Z"
   },
   {
    "duration": 421,
    "start_time": "2025-04-16T12:46:33.884Z"
   },
   {
    "duration": 13,
    "start_time": "2025-04-16T12:46:34.307Z"
   },
   {
    "duration": 55,
    "start_time": "2025-04-16T12:46:34.322Z"
   },
   {
    "duration": 323,
    "start_time": "2025-04-16T12:46:34.378Z"
   },
   {
    "duration": 297,
    "start_time": "2025-04-16T12:46:34.702Z"
   },
   {
    "duration": 305,
    "start_time": "2025-04-16T12:46:35.000Z"
   },
   {
    "duration": 318,
    "start_time": "2025-04-16T12:46:35.306Z"
   },
   {
    "duration": 13,
    "start_time": "2025-04-16T12:46:35.626Z"
   },
   {
    "duration": 57,
    "start_time": "2025-04-16T12:46:35.641Z"
   },
   {
    "duration": 312,
    "start_time": "2025-04-16T12:46:35.699Z"
   },
   {
    "duration": 411,
    "start_time": "2025-04-16T12:46:36.012Z"
   },
   {
    "duration": 318,
    "start_time": "2025-04-16T12:46:36.425Z"
   },
   {
    "duration": 302,
    "start_time": "2025-04-16T12:46:36.745Z"
   },
   {
    "duration": 462,
    "start_time": "2025-04-16T12:46:37.048Z"
   },
   {
    "duration": 405,
    "start_time": "2025-04-16T12:46:37.512Z"
   },
   {
    "duration": 447,
    "start_time": "2025-04-16T12:46:37.919Z"
   },
   {
    "duration": 2,
    "start_time": "2025-04-16T12:46:38.368Z"
   },
   {
    "duration": 413,
    "start_time": "2025-04-16T12:46:38.371Z"
   },
   {
    "duration": 1410,
    "start_time": "2025-04-16T13:02:04.509Z"
   },
   {
    "duration": 2,
    "start_time": "2025-04-16T13:02:05.921Z"
   },
   {
    "duration": 18,
    "start_time": "2025-04-16T13:02:05.924Z"
   },
   {
    "duration": 16,
    "start_time": "2025-04-16T13:02:05.943Z"
   },
   {
    "duration": 56,
    "start_time": "2025-04-16T13:02:05.960Z"
   },
   {
    "duration": 30,
    "start_time": "2025-04-16T13:02:06.017Z"
   },
   {
    "duration": 198,
    "start_time": "2025-04-16T13:02:06.049Z"
   },
   {
    "duration": 18,
    "start_time": "2025-04-16T13:02:06.249Z"
   },
   {
    "duration": 138,
    "start_time": "2025-04-16T13:02:06.268Z"
   },
   {
    "duration": 14,
    "start_time": "2025-04-16T13:02:06.408Z"
   },
   {
    "duration": 141,
    "start_time": "2025-04-16T13:02:06.423Z"
   },
   {
    "duration": 14,
    "start_time": "2025-04-16T13:02:06.566Z"
   },
   {
    "duration": 133,
    "start_time": "2025-04-16T13:02:06.582Z"
   },
   {
    "duration": 22,
    "start_time": "2025-04-16T13:02:06.716Z"
   },
   {
    "duration": 45,
    "start_time": "2025-04-16T13:02:06.739Z"
   },
   {
    "duration": 24,
    "start_time": "2025-04-16T13:02:06.786Z"
   },
   {
    "duration": 17,
    "start_time": "2025-04-16T13:02:06.812Z"
   },
   {
    "duration": 41,
    "start_time": "2025-04-16T13:02:06.830Z"
   },
   {
    "duration": 29,
    "start_time": "2025-04-16T13:02:06.873Z"
   },
   {
    "duration": 34,
    "start_time": "2025-04-16T13:02:06.904Z"
   },
   {
    "duration": 24,
    "start_time": "2025-04-16T13:02:06.939Z"
   },
   {
    "duration": 24,
    "start_time": "2025-04-16T13:02:06.965Z"
   },
   {
    "duration": 46,
    "start_time": "2025-04-16T13:02:06.990Z"
   },
   {
    "duration": 36,
    "start_time": "2025-04-16T13:02:07.037Z"
   },
   {
    "duration": 32,
    "start_time": "2025-04-16T13:02:07.074Z"
   },
   {
    "duration": 25,
    "start_time": "2025-04-16T13:02:07.107Z"
   },
   {
    "duration": 42,
    "start_time": "2025-04-16T13:02:07.134Z"
   },
   {
    "duration": 341,
    "start_time": "2025-04-16T13:02:07.179Z"
   },
   {
    "duration": 293,
    "start_time": "2025-04-16T13:02:07.521Z"
   },
   {
    "duration": 359,
    "start_time": "2025-04-16T13:02:07.816Z"
   },
   {
    "duration": 408,
    "start_time": "2025-04-16T13:02:08.177Z"
   },
   {
    "duration": 15,
    "start_time": "2025-04-16T13:02:08.587Z"
   },
   {
    "duration": 42,
    "start_time": "2025-04-16T13:02:08.604Z"
   },
   {
    "duration": 327,
    "start_time": "2025-04-16T13:02:08.662Z"
   },
   {
    "duration": 322,
    "start_time": "2025-04-16T13:02:08.991Z"
   },
   {
    "duration": 321,
    "start_time": "2025-04-16T13:02:09.315Z"
   },
   {
    "duration": 335,
    "start_time": "2025-04-16T13:02:09.638Z"
   },
   {
    "duration": 14,
    "start_time": "2025-04-16T13:02:09.975Z"
   },
   {
    "duration": 34,
    "start_time": "2025-04-16T13:02:09.991Z"
   },
   {
    "duration": 354,
    "start_time": "2025-04-16T13:02:10.027Z"
   },
   {
    "duration": 431,
    "start_time": "2025-04-16T13:02:10.384Z"
   },
   {
    "duration": 315,
    "start_time": "2025-04-16T13:02:10.817Z"
   },
   {
    "duration": 316,
    "start_time": "2025-04-16T13:02:11.134Z"
   },
   {
    "duration": 456,
    "start_time": "2025-04-16T13:02:11.452Z"
   },
   {
    "duration": 407,
    "start_time": "2025-04-16T13:02:11.910Z"
   },
   {
    "duration": 402,
    "start_time": "2025-04-16T13:02:12.319Z"
   },
   {
    "duration": 2,
    "start_time": "2025-04-16T13:02:12.723Z"
   },
   {
    "duration": 461,
    "start_time": "2025-04-16T13:02:12.726Z"
   },
   {
    "duration": 8,
    "start_time": "2025-04-16T13:10:13.080Z"
   },
   {
    "duration": 376,
    "start_time": "2025-04-16T13:11:26.304Z"
   },
   {
    "duration": 1436,
    "start_time": "2025-04-16T13:15:14.060Z"
   },
   {
    "duration": 2,
    "start_time": "2025-04-16T13:15:15.498Z"
   },
   {
    "duration": 83,
    "start_time": "2025-04-16T13:15:15.502Z"
   },
   {
    "duration": 84,
    "start_time": "2025-04-16T13:15:15.588Z"
   },
   {
    "duration": 38,
    "start_time": "2025-04-16T13:15:15.673Z"
   },
   {
    "duration": 97,
    "start_time": "2025-04-16T13:15:15.712Z"
   },
   {
    "duration": 187,
    "start_time": "2025-04-16T13:15:15.810Z"
   },
   {
    "duration": 15,
    "start_time": "2025-04-16T13:15:15.999Z"
   },
   {
    "duration": 162,
    "start_time": "2025-04-16T13:15:16.015Z"
   },
   {
    "duration": 15,
    "start_time": "2025-04-16T13:15:16.180Z"
   },
   {
    "duration": 141,
    "start_time": "2025-04-16T13:15:16.196Z"
   },
   {
    "duration": 14,
    "start_time": "2025-04-16T13:15:16.339Z"
   },
   {
    "duration": 125,
    "start_time": "2025-04-16T13:15:16.361Z"
   },
   {
    "duration": 22,
    "start_time": "2025-04-16T13:15:16.488Z"
   },
   {
    "duration": 29,
    "start_time": "2025-04-16T13:15:16.512Z"
   },
   {
    "duration": 24,
    "start_time": "2025-04-16T13:15:16.561Z"
   },
   {
    "duration": 10,
    "start_time": "2025-04-16T13:15:16.587Z"
   },
   {
    "duration": 24,
    "start_time": "2025-04-16T13:15:16.599Z"
   },
   {
    "duration": 59,
    "start_time": "2025-04-16T13:15:16.625Z"
   },
   {
    "duration": 27,
    "start_time": "2025-04-16T13:15:16.686Z"
   },
   {
    "duration": 29,
    "start_time": "2025-04-16T13:15:16.714Z"
   },
   {
    "duration": 24,
    "start_time": "2025-04-16T13:15:16.745Z"
   },
   {
    "duration": 27,
    "start_time": "2025-04-16T13:15:16.771Z"
   },
   {
    "duration": 23,
    "start_time": "2025-04-16T13:15:16.799Z"
   },
   {
    "duration": 18,
    "start_time": "2025-04-16T13:15:16.823Z"
   },
   {
    "duration": 28,
    "start_time": "2025-04-16T13:15:16.843Z"
   },
   {
    "duration": 33,
    "start_time": "2025-04-16T13:15:16.873Z"
   },
   {
    "duration": 338,
    "start_time": "2025-04-16T13:15:16.910Z"
   },
   {
    "duration": 275,
    "start_time": "2025-04-16T13:15:17.249Z"
   },
   {
    "duration": 291,
    "start_time": "2025-04-16T13:15:17.526Z"
   },
   {
    "duration": 395,
    "start_time": "2025-04-16T13:15:17.818Z"
   },
   {
    "duration": 16,
    "start_time": "2025-04-16T13:15:18.215Z"
   },
   {
    "duration": 52,
    "start_time": "2025-04-16T13:15:18.233Z"
   },
   {
    "duration": 343,
    "start_time": "2025-04-16T13:15:18.287Z"
   },
   {
    "duration": 296,
    "start_time": "2025-04-16T13:15:18.631Z"
   },
   {
    "duration": 298,
    "start_time": "2025-04-16T13:15:18.929Z"
   },
   {
    "duration": 311,
    "start_time": "2025-04-16T13:15:19.228Z"
   },
   {
    "duration": 30,
    "start_time": "2025-04-16T13:15:19.541Z"
   },
   {
    "duration": 38,
    "start_time": "2025-04-16T13:15:19.573Z"
   },
   {
    "duration": 311,
    "start_time": "2025-04-16T13:15:19.613Z"
   },
   {
    "duration": 429,
    "start_time": "2025-04-16T13:15:19.926Z"
   },
   {
    "duration": 300,
    "start_time": "2025-04-16T13:15:20.362Z"
   },
   {
    "duration": 299,
    "start_time": "2025-04-16T13:15:20.663Z"
   },
   {
    "duration": 440,
    "start_time": "2025-04-16T13:15:20.964Z"
   },
   {
    "duration": 402,
    "start_time": "2025-04-16T13:15:21.405Z"
   },
   {
    "duration": 403,
    "start_time": "2025-04-16T13:15:21.808Z"
   },
   {
    "duration": 3,
    "start_time": "2025-04-16T13:15:22.212Z"
   },
   {
    "duration": 548,
    "start_time": "2025-04-16T13:15:22.216Z"
   },
   {
    "duration": 597,
    "start_time": "2025-04-16T13:15:22.766Z"
   },
   {
    "duration": 140,
    "start_time": "2025-04-16T13:15:23.366Z"
   },
   {
    "duration": 3,
    "start_time": "2025-04-16T13:15:44.903Z"
   },
   {
    "duration": 102,
    "start_time": "2025-04-16T13:34:23.598Z"
   },
   {
    "duration": 4,
    "start_time": "2025-04-16T13:34:26.650Z"
   },
   {
    "duration": 4,
    "start_time": "2025-04-16T13:34:27.459Z"
   },
   {
    "duration": 4,
    "start_time": "2025-04-16T13:34:39.579Z"
   },
   {
    "duration": 6,
    "start_time": "2025-04-16T13:37:08.492Z"
   },
   {
    "duration": 4,
    "start_time": "2025-04-16T13:37:48.847Z"
   },
   {
    "duration": 3,
    "start_time": "2025-04-16T13:37:56.632Z"
   },
   {
    "duration": 2,
    "start_time": "2025-04-16T13:42:59.261Z"
   },
   {
    "duration": 4,
    "start_time": "2025-04-16T13:43:03.402Z"
   },
   {
    "duration": 10,
    "start_time": "2025-04-16T13:43:09.377Z"
   },
   {
    "duration": 3,
    "start_time": "2025-04-16T13:43:15.131Z"
   },
   {
    "duration": 87,
    "start_time": "2025-04-16T13:43:23.873Z"
   },
   {
    "duration": 4,
    "start_time": "2025-04-16T13:43:26.688Z"
   },
   {
    "duration": 4,
    "start_time": "2025-04-16T13:52:46.792Z"
   },
   {
    "duration": 4,
    "start_time": "2025-04-16T13:53:07.978Z"
   },
   {
    "duration": 4,
    "start_time": "2025-04-16T13:53:43.573Z"
   },
   {
    "duration": 4,
    "start_time": "2025-04-16T13:55:21.941Z"
   },
   {
    "duration": 76,
    "start_time": "2025-04-16T13:56:05.911Z"
   },
   {
    "duration": 4,
    "start_time": "2025-04-16T13:56:09.459Z"
   },
   {
    "duration": 4,
    "start_time": "2025-04-16T13:56:28.042Z"
   },
   {
    "duration": 4,
    "start_time": "2025-04-16T13:56:33.605Z"
   },
   {
    "duration": 4,
    "start_time": "2025-04-16T13:56:49.205Z"
   },
   {
    "duration": 4,
    "start_time": "2025-04-16T14:39:18.308Z"
   },
   {
    "duration": 9,
    "start_time": "2025-04-16T14:39:24.238Z"
   },
   {
    "duration": 8,
    "start_time": "2025-04-16T14:39:31.193Z"
   },
   {
    "duration": 8,
    "start_time": "2025-04-16T14:39:34.556Z"
   },
   {
    "duration": 4,
    "start_time": "2025-04-16T14:39:42.193Z"
   },
   {
    "duration": 4,
    "start_time": "2025-04-16T15:00:44.915Z"
   },
   {
    "duration": 12,
    "start_time": "2025-04-16T15:03:18.263Z"
   },
   {
    "duration": 4,
    "start_time": "2025-04-16T15:03:20.320Z"
   },
   {
    "duration": 9,
    "start_time": "2025-04-16T15:03:20.772Z"
   },
   {
    "duration": 3,
    "start_time": "2025-04-16T15:05:21.896Z"
   },
   {
    "duration": 8,
    "start_time": "2025-04-16T15:05:22.506Z"
   },
   {
    "duration": 4,
    "start_time": "2025-04-16T15:06:06.531Z"
   },
   {
    "duration": 4,
    "start_time": "2025-04-16T15:19:59.845Z"
   },
   {
    "duration": 9,
    "start_time": "2025-04-16T15:19:59.883Z"
   },
   {
    "duration": 4,
    "start_time": "2025-04-16T15:20:19.262Z"
   },
   {
    "duration": 8,
    "start_time": "2025-04-16T15:20:20.359Z"
   },
   {
    "duration": 4,
    "start_time": "2025-04-16T15:22:50.653Z"
   },
   {
    "duration": 9,
    "start_time": "2025-04-16T15:22:51.497Z"
   },
   {
    "duration": 1414,
    "start_time": "2025-04-16T15:23:01.710Z"
   },
   {
    "duration": 2,
    "start_time": "2025-04-16T15:23:03.126Z"
   },
   {
    "duration": 7,
    "start_time": "2025-04-16T15:23:03.129Z"
   },
   {
    "duration": 13,
    "start_time": "2025-04-16T15:23:03.137Z"
   },
   {
    "duration": 13,
    "start_time": "2025-04-16T15:23:03.152Z"
   },
   {
    "duration": 38,
    "start_time": "2025-04-16T15:23:03.166Z"
   },
   {
    "duration": 182,
    "start_time": "2025-04-16T15:23:03.206Z"
   },
   {
    "duration": 14,
    "start_time": "2025-04-16T15:23:03.390Z"
   },
   {
    "duration": 145,
    "start_time": "2025-04-16T15:23:03.406Z"
   },
   {
    "duration": 19,
    "start_time": "2025-04-16T15:23:03.553Z"
   },
   {
    "duration": 155,
    "start_time": "2025-04-16T15:23:03.574Z"
   },
   {
    "duration": 15,
    "start_time": "2025-04-16T15:23:03.731Z"
   },
   {
    "duration": 140,
    "start_time": "2025-04-16T15:23:03.748Z"
   },
   {
    "duration": 20,
    "start_time": "2025-04-16T15:23:03.891Z"
   },
   {
    "duration": 31,
    "start_time": "2025-04-16T15:23:03.913Z"
   },
   {
    "duration": 25,
    "start_time": "2025-04-16T15:23:03.961Z"
   },
   {
    "duration": 46,
    "start_time": "2025-04-16T15:23:03.988Z"
   },
   {
    "duration": 42,
    "start_time": "2025-04-16T15:23:04.036Z"
   },
   {
    "duration": 147,
    "start_time": "2025-04-16T15:23:04.080Z"
   },
   {
    "duration": 29,
    "start_time": "2025-04-16T15:23:04.228Z"
   },
   {
    "duration": 11,
    "start_time": "2025-04-16T15:23:04.259Z"
   },
   {
    "duration": 31,
    "start_time": "2025-04-16T15:23:04.272Z"
   },
   {
    "duration": 68,
    "start_time": "2025-04-16T15:23:04.305Z"
   },
   {
    "duration": 31,
    "start_time": "2025-04-16T15:23:04.374Z"
   },
   {
    "duration": 15,
    "start_time": "2025-04-16T15:23:04.407Z"
   },
   {
    "duration": 14,
    "start_time": "2025-04-16T15:23:04.424Z"
   },
   {
    "duration": 49,
    "start_time": "2025-04-16T15:23:04.440Z"
   },
   {
    "duration": 322,
    "start_time": "2025-04-16T15:23:04.490Z"
   },
   {
    "duration": 272,
    "start_time": "2025-04-16T15:23:04.814Z"
   },
   {
    "duration": 304,
    "start_time": "2025-04-16T15:23:05.088Z"
   },
   {
    "duration": 376,
    "start_time": "2025-04-16T15:23:05.393Z"
   },
   {
    "duration": 14,
    "start_time": "2025-04-16T15:23:05.772Z"
   },
   {
    "duration": 43,
    "start_time": "2025-04-16T15:23:05.788Z"
   },
   {
    "duration": 306,
    "start_time": "2025-04-16T15:23:05.833Z"
   },
   {
    "duration": 303,
    "start_time": "2025-04-16T15:23:06.140Z"
   },
   {
    "duration": 320,
    "start_time": "2025-04-16T15:23:06.445Z"
   },
   {
    "duration": 323,
    "start_time": "2025-04-16T15:23:06.767Z"
   },
   {
    "duration": 14,
    "start_time": "2025-04-16T15:23:07.092Z"
   },
   {
    "duration": 58,
    "start_time": "2025-04-16T15:23:07.107Z"
   },
   {
    "duration": 310,
    "start_time": "2025-04-16T15:23:07.167Z"
   },
   {
    "duration": 411,
    "start_time": "2025-04-16T15:23:07.481Z"
   },
   {
    "duration": 351,
    "start_time": "2025-04-16T15:23:07.894Z"
   },
   {
    "duration": 322,
    "start_time": "2025-04-16T15:23:08.247Z"
   },
   {
    "duration": 439,
    "start_time": "2025-04-16T15:23:08.571Z"
   },
   {
    "duration": 414,
    "start_time": "2025-04-16T15:23:09.011Z"
   },
   {
    "duration": 402,
    "start_time": "2025-04-16T15:23:09.427Z"
   },
   {
    "duration": 409,
    "start_time": "2025-04-16T15:23:09.863Z"
   },
   {
    "duration": 5,
    "start_time": "2025-04-16T15:23:10.361Z"
   },
   {
    "duration": 103,
    "start_time": "2025-04-16T15:23:10.368Z"
   },
   {
    "duration": 9,
    "start_time": "2025-04-16T15:23:10.473Z"
   },
   {
    "duration": 6,
    "start_time": "2025-04-16T15:23:10.483Z"
   },
   {
    "duration": 97,
    "start_time": "2025-04-16T15:23:10.490Z"
   },
   {
    "duration": 100,
    "start_time": "2025-04-16T15:25:11.926Z"
   },
   {
    "duration": 7,
    "start_time": "2025-04-16T15:25:30.429Z"
   },
   {
    "duration": 9558,
    "start_time": "2025-04-16T15:25:30.926Z"
   },
   {
    "duration": 2140,
    "start_time": "2025-04-17T04:24:55.324Z"
   },
   {
    "duration": 3,
    "start_time": "2025-04-17T04:24:57.466Z"
   },
   {
    "duration": 67,
    "start_time": "2025-04-17T04:24:57.470Z"
   },
   {
    "duration": 12,
    "start_time": "2025-04-17T04:24:57.540Z"
   },
   {
    "duration": 6,
    "start_time": "2025-04-17T04:24:57.553Z"
   },
   {
    "duration": 11,
    "start_time": "2025-04-17T04:24:57.560Z"
   },
   {
    "duration": 316,
    "start_time": "2025-04-17T04:24:57.573Z"
   },
   {
    "duration": 13,
    "start_time": "2025-04-17T04:24:57.891Z"
   },
   {
    "duration": 156,
    "start_time": "2025-04-17T04:24:57.905Z"
   },
   {
    "duration": 13,
    "start_time": "2025-04-17T04:24:58.063Z"
   },
   {
    "duration": 194,
    "start_time": "2025-04-17T04:24:58.078Z"
   },
   {
    "duration": 16,
    "start_time": "2025-04-17T04:24:58.274Z"
   },
   {
    "duration": 163,
    "start_time": "2025-04-17T04:24:58.292Z"
   },
   {
    "duration": 23,
    "start_time": "2025-04-17T04:24:58.458Z"
   },
   {
    "duration": 30,
    "start_time": "2025-04-17T04:24:58.482Z"
   },
   {
    "duration": 32,
    "start_time": "2025-04-17T04:24:58.537Z"
   },
   {
    "duration": 9,
    "start_time": "2025-04-17T04:24:58.571Z"
   },
   {
    "duration": 23,
    "start_time": "2025-04-17T04:24:58.581Z"
   },
   {
    "duration": 61,
    "start_time": "2025-04-17T04:24:58.605Z"
   },
   {
    "duration": 27,
    "start_time": "2025-04-17T04:24:58.668Z"
   },
   {
    "duration": 9,
    "start_time": "2025-04-17T04:24:58.696Z"
   },
   {
    "duration": 55,
    "start_time": "2025-04-17T04:24:58.707Z"
   },
   {
    "duration": 30,
    "start_time": "2025-04-17T04:24:58.764Z"
   },
   {
    "duration": 27,
    "start_time": "2025-04-17T04:24:58.795Z"
   },
   {
    "duration": 14,
    "start_time": "2025-04-17T04:24:58.836Z"
   },
   {
    "duration": 13,
    "start_time": "2025-04-17T04:24:58.852Z"
   },
   {
    "duration": 36,
    "start_time": "2025-04-17T04:24:58.866Z"
   },
   {
    "duration": 410,
    "start_time": "2025-04-17T04:24:58.905Z"
   },
   {
    "duration": 308,
    "start_time": "2025-04-17T04:24:59.316Z"
   },
   {
    "duration": 357,
    "start_time": "2025-04-17T04:24:59.626Z"
   },
   {
    "duration": 404,
    "start_time": "2025-04-17T04:24:59.984Z"
   },
   {
    "duration": 15,
    "start_time": "2025-04-17T04:25:00.389Z"
   },
   {
    "duration": 65,
    "start_time": "2025-04-17T04:25:00.405Z"
   },
   {
    "duration": 334,
    "start_time": "2025-04-17T04:25:00.472Z"
   },
   {
    "duration": 330,
    "start_time": "2025-04-17T04:25:00.808Z"
   },
   {
    "duration": 333,
    "start_time": "2025-04-17T04:25:01.140Z"
   },
   {
    "duration": 369,
    "start_time": "2025-04-17T04:25:01.475Z"
   },
   {
    "duration": 17,
    "start_time": "2025-04-17T04:25:01.846Z"
   },
   {
    "duration": 38,
    "start_time": "2025-04-17T04:25:01.865Z"
   },
   {
    "duration": 354,
    "start_time": "2025-04-17T04:25:01.905Z"
   },
   {
    "duration": 444,
    "start_time": "2025-04-17T04:25:02.261Z"
   },
   {
    "duration": 350,
    "start_time": "2025-04-17T04:25:02.707Z"
   },
   {
    "duration": 336,
    "start_time": "2025-04-17T04:25:03.059Z"
   },
   {
    "duration": 508,
    "start_time": "2025-04-17T04:25:03.396Z"
   },
   {
    "duration": 483,
    "start_time": "2025-04-17T04:25:03.906Z"
   },
   {
    "duration": 521,
    "start_time": "2025-04-17T04:25:04.392Z"
   },
   {
    "duration": 522,
    "start_time": "2025-04-17T04:25:04.915Z"
   },
   {
    "duration": 7,
    "start_time": "2025-04-17T04:25:05.442Z"
   },
   {
    "duration": 93,
    "start_time": "2025-04-17T04:25:05.451Z"
   },
   {
    "duration": 16,
    "start_time": "2025-04-17T04:25:05.546Z"
   },
   {
    "duration": 11,
    "start_time": "2025-04-17T04:25:05.564Z"
   },
   {
    "duration": 17,
    "start_time": "2025-04-17T04:25:05.576Z"
   },
   {
    "duration": 10503,
    "start_time": "2025-04-17T04:25:05.594Z"
   },
   {
    "duration": 433,
    "start_time": "2025-04-17T06:53:29.824Z"
   },
   {
    "duration": 434,
    "start_time": "2025-04-17T06:53:34.522Z"
   },
   {
    "duration": 463,
    "start_time": "2025-04-17T06:53:40.904Z"
   },
   {
    "duration": 5,
    "start_time": "2025-04-17T06:55:34.433Z"
   },
   {
    "duration": 6,
    "start_time": "2025-04-17T06:56:14.182Z"
   },
   {
    "duration": 4,
    "start_time": "2025-04-17T06:56:21.569Z"
   },
   {
    "duration": 6,
    "start_time": "2025-04-17T06:56:21.886Z"
   },
   {
    "duration": 6,
    "start_time": "2025-04-17T06:56:36.825Z"
   },
   {
    "duration": 110,
    "start_time": "2025-04-17T06:59:10.177Z"
   },
   {
    "duration": 9,
    "start_time": "2025-04-17T06:59:25.823Z"
   },
   {
    "duration": 12,
    "start_time": "2025-04-17T06:59:41.627Z"
   },
   {
    "duration": 12,
    "start_time": "2025-04-17T06:59:46.350Z"
   },
   {
    "duration": 4,
    "start_time": "2025-04-17T07:00:23.662Z"
   },
   {
    "duration": 4,
    "start_time": "2025-04-17T07:07:31.113Z"
   },
   {
    "duration": 6,
    "start_time": "2025-04-17T07:07:44.154Z"
   },
   {
    "duration": 4,
    "start_time": "2025-04-17T07:07:52.929Z"
   },
   {
    "duration": 5,
    "start_time": "2025-04-17T07:07:59.228Z"
   },
   {
    "duration": 6,
    "start_time": "2025-04-17T07:08:05.560Z"
   },
   {
    "duration": 6,
    "start_time": "2025-04-17T07:09:06.413Z"
   },
   {
    "duration": 5,
    "start_time": "2025-04-17T07:09:28.420Z"
   },
   {
    "duration": 4,
    "start_time": "2025-04-17T07:19:41.554Z"
   },
   {
    "duration": 9,
    "start_time": "2025-04-17T07:20:30.999Z"
   },
   {
    "duration": 9,
    "start_time": "2025-04-17T07:21:55.105Z"
   },
   {
    "duration": 10,
    "start_time": "2025-04-17T07:21:55.749Z"
   },
   {
    "duration": 1450,
    "start_time": "2025-04-17T07:24:56.482Z"
   },
   {
    "duration": 6,
    "start_time": "2025-04-17T07:24:57.934Z"
   },
   {
    "duration": 14,
    "start_time": "2025-04-17T07:24:57.941Z"
   },
   {
    "duration": 10,
    "start_time": "2025-04-17T07:24:57.956Z"
   },
   {
    "duration": 23,
    "start_time": "2025-04-17T07:24:57.968Z"
   },
   {
    "duration": 10,
    "start_time": "2025-04-17T07:24:57.995Z"
   },
   {
    "duration": 23,
    "start_time": "2025-04-17T07:24:58.006Z"
   },
   {
    "duration": 173,
    "start_time": "2025-04-17T07:24:58.031Z"
   },
   {
    "duration": 15,
    "start_time": "2025-04-17T07:24:58.205Z"
   },
   {
    "duration": 169,
    "start_time": "2025-04-17T07:24:58.222Z"
   },
   {
    "duration": 15,
    "start_time": "2025-04-17T07:24:58.393Z"
   },
   {
    "duration": 158,
    "start_time": "2025-04-17T07:24:58.409Z"
   },
   {
    "duration": 14,
    "start_time": "2025-04-17T07:24:58.569Z"
   },
   {
    "duration": 175,
    "start_time": "2025-04-17T07:24:58.588Z"
   },
   {
    "duration": 24,
    "start_time": "2025-04-17T07:24:58.764Z"
   },
   {
    "duration": 31,
    "start_time": "2025-04-17T07:24:58.789Z"
   },
   {
    "duration": 37,
    "start_time": "2025-04-17T07:24:58.837Z"
   },
   {
    "duration": 97,
    "start_time": "2025-04-17T07:24:58.876Z"
   },
   {
    "duration": 31,
    "start_time": "2025-04-17T07:24:58.975Z"
   },
   {
    "duration": 49,
    "start_time": "2025-04-17T07:24:59.008Z"
   },
   {
    "duration": 35,
    "start_time": "2025-04-17T07:24:59.060Z"
   },
   {
    "duration": 9,
    "start_time": "2025-04-17T07:24:59.097Z"
   },
   {
    "duration": 44,
    "start_time": "2025-04-17T07:24:59.108Z"
   },
   {
    "duration": 32,
    "start_time": "2025-04-17T07:24:59.154Z"
   },
   {
    "duration": 55,
    "start_time": "2025-04-17T07:24:59.188Z"
   },
   {
    "duration": 12,
    "start_time": "2025-04-17T07:24:59.245Z"
   },
   {
    "duration": 17,
    "start_time": "2025-04-17T07:24:59.259Z"
   },
   {
    "duration": 50,
    "start_time": "2025-04-17T07:24:59.277Z"
   },
   {
    "duration": 378,
    "start_time": "2025-04-17T07:24:59.341Z"
   },
   {
    "duration": 307,
    "start_time": "2025-04-17T07:24:59.720Z"
   },
   {
    "duration": 358,
    "start_time": "2025-04-17T07:25:00.041Z"
   },
   {
    "duration": 410,
    "start_time": "2025-04-17T07:25:00.401Z"
   },
   {
    "duration": 33,
    "start_time": "2025-04-17T07:25:00.812Z"
   },
   {
    "duration": 35,
    "start_time": "2025-04-17T07:25:00.849Z"
   },
   {
    "duration": 417,
    "start_time": "2025-04-17T07:25:00.885Z"
   },
   {
    "duration": 354,
    "start_time": "2025-04-17T07:25:01.304Z"
   },
   {
    "duration": 339,
    "start_time": "2025-04-17T07:25:01.661Z"
   },
   {
    "duration": 363,
    "start_time": "2025-04-17T07:25:02.002Z"
   },
   {
    "duration": 16,
    "start_time": "2025-04-17T07:25:02.367Z"
   },
   {
    "duration": 57,
    "start_time": "2025-04-17T07:25:02.385Z"
   },
   {
    "duration": 344,
    "start_time": "2025-04-17T07:25:02.448Z"
   },
   {
    "duration": 435,
    "start_time": "2025-04-17T07:25:02.794Z"
   },
   {
    "duration": 334,
    "start_time": "2025-04-17T07:25:03.236Z"
   },
   {
    "duration": 331,
    "start_time": "2025-04-17T07:25:03.572Z"
   },
   {
    "duration": 505,
    "start_time": "2025-04-17T07:25:03.905Z"
   },
   {
    "duration": 486,
    "start_time": "2025-04-17T07:25:04.412Z"
   },
   {
    "duration": 499,
    "start_time": "2025-04-17T07:25:04.900Z"
   },
   {
    "duration": 443,
    "start_time": "2025-04-17T07:25:05.401Z"
   },
   {
    "duration": 3,
    "start_time": "2025-04-17T07:25:05.846Z"
   },
   {
    "duration": 197,
    "start_time": "2025-04-17T07:25:05.850Z"
   },
   {
    "duration": 10,
    "start_time": "2025-04-17T07:25:06.053Z"
   },
   {
    "duration": 46,
    "start_time": "2025-04-17T07:25:06.065Z"
   },
   {
    "duration": 141,
    "start_time": "2025-04-17T07:25:06.113Z"
   },
   {
    "duration": 50,
    "start_time": "2025-04-17T07:25:06.256Z"
   },
   {
    "duration": 51,
    "start_time": "2025-04-17T07:25:06.308Z"
   },
   {
    "duration": 10707,
    "start_time": "2025-04-17T07:25:06.361Z"
   },
   {
    "duration": 9,
    "start_time": "2025-04-17T07:29:07.618Z"
   },
   {
    "duration": 8,
    "start_time": "2025-04-17T07:29:40.552Z"
   },
   {
    "duration": 8,
    "start_time": "2025-04-17T07:29:49.516Z"
   },
   {
    "duration": 1422,
    "start_time": "2025-04-17T08:40:59.294Z"
   },
   {
    "duration": 3,
    "start_time": "2025-04-17T08:41:00.718Z"
   },
   {
    "duration": 31,
    "start_time": "2025-04-17T08:41:00.723Z"
   },
   {
    "duration": 16,
    "start_time": "2025-04-17T08:41:00.755Z"
   },
   {
    "duration": 25,
    "start_time": "2025-04-17T08:41:00.773Z"
   },
   {
    "duration": 19,
    "start_time": "2025-04-17T08:41:00.799Z"
   },
   {
    "duration": 29,
    "start_time": "2025-04-17T08:41:00.820Z"
   },
   {
    "duration": 204,
    "start_time": "2025-04-17T08:41:00.850Z"
   },
   {
    "duration": 15,
    "start_time": "2025-04-17T08:41:01.055Z"
   },
   {
    "duration": 157,
    "start_time": "2025-04-17T08:41:01.071Z"
   },
   {
    "duration": 17,
    "start_time": "2025-04-17T08:41:01.229Z"
   },
   {
    "duration": 239,
    "start_time": "2025-04-17T08:41:01.248Z"
   },
   {
    "duration": 15,
    "start_time": "2025-04-17T08:41:01.489Z"
   },
   {
    "duration": 212,
    "start_time": "2025-04-17T08:41:01.507Z"
   },
   {
    "duration": 34,
    "start_time": "2025-04-17T08:41:01.721Z"
   },
   {
    "duration": 97,
    "start_time": "2025-04-17T08:41:01.757Z"
   },
   {
    "duration": 31,
    "start_time": "2025-04-17T08:41:01.856Z"
   },
   {
    "duration": 24,
    "start_time": "2025-04-17T08:41:01.889Z"
   },
   {
    "duration": 37,
    "start_time": "2025-04-17T08:41:01.915Z"
   },
   {
    "duration": 33,
    "start_time": "2025-04-17T08:41:01.954Z"
   },
   {
    "duration": 36,
    "start_time": "2025-04-17T08:41:01.989Z"
   },
   {
    "duration": 28,
    "start_time": "2025-04-17T08:41:02.026Z"
   },
   {
    "duration": 96,
    "start_time": "2025-04-17T08:41:02.056Z"
   },
   {
    "duration": 32,
    "start_time": "2025-04-17T08:41:02.154Z"
   },
   {
    "duration": 81,
    "start_time": "2025-04-17T08:41:02.188Z"
   },
   {
    "duration": 49,
    "start_time": "2025-04-17T08:41:02.270Z"
   },
   {
    "duration": 41,
    "start_time": "2025-04-17T08:41:02.321Z"
   },
   {
    "duration": 59,
    "start_time": "2025-04-17T08:41:02.364Z"
   },
   {
    "duration": 368,
    "start_time": "2025-04-17T08:41:02.425Z"
   },
   {
    "duration": 308,
    "start_time": "2025-04-17T08:41:02.794Z"
   },
   {
    "duration": 356,
    "start_time": "2025-04-17T08:41:03.104Z"
   },
   {
    "duration": 422,
    "start_time": "2025-04-17T08:41:03.461Z"
   },
   {
    "duration": 13,
    "start_time": "2025-04-17T08:41:03.884Z"
   },
   {
    "duration": 59,
    "start_time": "2025-04-17T08:41:03.899Z"
   },
   {
    "duration": 453,
    "start_time": "2025-04-17T08:41:03.960Z"
   },
   {
    "duration": 344,
    "start_time": "2025-04-17T08:41:04.416Z"
   },
   {
    "duration": 346,
    "start_time": "2025-04-17T08:41:04.762Z"
   },
   {
    "duration": 353,
    "start_time": "2025-04-17T08:41:05.110Z"
   },
   {
    "duration": 15,
    "start_time": "2025-04-17T08:41:05.464Z"
   },
   {
    "duration": 69,
    "start_time": "2025-04-17T08:41:05.481Z"
   },
   {
    "duration": 340,
    "start_time": "2025-04-17T08:41:05.553Z"
   },
   {
    "duration": 457,
    "start_time": "2025-04-17T08:41:05.894Z"
   },
   {
    "duration": 332,
    "start_time": "2025-04-17T08:41:06.353Z"
   },
   {
    "duration": 360,
    "start_time": "2025-04-17T08:41:06.687Z"
   },
   {
    "duration": 444,
    "start_time": "2025-04-17T08:41:07.053Z"
   },
   {
    "duration": 488,
    "start_time": "2025-04-17T08:41:07.499Z"
   },
   {
    "duration": 504,
    "start_time": "2025-04-17T08:41:07.989Z"
   },
   {
    "duration": 450,
    "start_time": "2025-04-17T08:41:08.495Z"
   },
   {
    "duration": 4,
    "start_time": "2025-04-17T08:41:08.955Z"
   },
   {
    "duration": 104,
    "start_time": "2025-04-17T08:41:08.961Z"
   },
   {
    "duration": 18,
    "start_time": "2025-04-17T08:41:09.067Z"
   },
   {
    "duration": 8,
    "start_time": "2025-04-17T08:41:09.087Z"
   },
   {
    "duration": 9,
    "start_time": "2025-04-17T08:41:09.097Z"
   },
   {
    "duration": 22,
    "start_time": "2025-04-17T08:41:09.107Z"
   },
   {
    "duration": 81,
    "start_time": "2025-04-17T08:41:09.131Z"
   },
   {
    "duration": 10644,
    "start_time": "2025-04-17T08:41:09.214Z"
   },
   {
    "duration": 124,
    "start_time": "2025-04-17T08:45:16.833Z"
   },
   {
    "duration": 12,
    "start_time": "2025-04-17T08:46:10.117Z"
   },
   {
    "duration": 6,
    "start_time": "2025-04-17T08:47:24.728Z"
   },
   {
    "duration": 5,
    "start_time": "2025-04-17T08:47:31.529Z"
   },
   {
    "duration": 8,
    "start_time": "2025-04-17T08:47:42.050Z"
   },
   {
    "duration": 11,
    "start_time": "2025-04-17T08:47:57.086Z"
   },
   {
    "duration": 6,
    "start_time": "2025-04-17T08:48:07.746Z"
   },
   {
    "duration": 16,
    "start_time": "2025-04-17T08:48:11.433Z"
   },
   {
    "duration": 8,
    "start_time": "2025-04-17T08:48:21.235Z"
   },
   {
    "duration": 19,
    "start_time": "2025-04-17T08:48:33.632Z"
   },
   {
    "duration": 13,
    "start_time": "2025-04-17T08:48:53.750Z"
   },
   {
    "duration": 12,
    "start_time": "2025-04-17T08:49:02.817Z"
   },
   {
    "duration": 4,
    "start_time": "2025-04-17T08:56:04.703Z"
   },
   {
    "duration": 1500,
    "start_time": "2025-04-17T08:56:11.901Z"
   },
   {
    "duration": 3,
    "start_time": "2025-04-17T08:56:13.403Z"
   },
   {
    "duration": 12,
    "start_time": "2025-04-17T08:56:13.407Z"
   },
   {
    "duration": 6,
    "start_time": "2025-04-17T08:56:13.420Z"
   },
   {
    "duration": 23,
    "start_time": "2025-04-17T08:56:13.441Z"
   },
   {
    "duration": 8,
    "start_time": "2025-04-17T08:56:13.466Z"
   },
   {
    "duration": 25,
    "start_time": "2025-04-17T08:56:13.475Z"
   },
   {
    "duration": 177,
    "start_time": "2025-04-17T08:56:13.501Z"
   },
   {
    "duration": 15,
    "start_time": "2025-04-17T08:56:13.680Z"
   },
   {
    "duration": 167,
    "start_time": "2025-04-17T08:56:13.697Z"
   },
   {
    "duration": 17,
    "start_time": "2025-04-17T08:56:13.866Z"
   },
   {
    "duration": 159,
    "start_time": "2025-04-17T08:56:13.885Z"
   },
   {
    "duration": 21,
    "start_time": "2025-04-17T08:56:14.051Z"
   },
   {
    "duration": 155,
    "start_time": "2025-04-17T08:56:14.076Z"
   },
   {
    "duration": 37,
    "start_time": "2025-04-17T08:56:14.233Z"
   },
   {
    "duration": 39,
    "start_time": "2025-04-17T08:56:14.272Z"
   },
   {
    "duration": 42,
    "start_time": "2025-04-17T08:56:14.313Z"
   },
   {
    "duration": 13,
    "start_time": "2025-04-17T08:56:14.357Z"
   },
   {
    "duration": 45,
    "start_time": "2025-04-17T08:56:14.372Z"
   },
   {
    "duration": 49,
    "start_time": "2025-04-17T08:56:14.438Z"
   },
   {
    "duration": 28,
    "start_time": "2025-04-17T08:56:14.489Z"
   },
   {
    "duration": 32,
    "start_time": "2025-04-17T08:56:14.518Z"
   },
   {
    "duration": 32,
    "start_time": "2025-04-17T08:56:14.554Z"
   },
   {
    "duration": 29,
    "start_time": "2025-04-17T08:56:14.589Z"
   },
   {
    "duration": 34,
    "start_time": "2025-04-17T08:56:14.619Z"
   },
   {
    "duration": 113,
    "start_time": "2025-04-17T08:56:14.661Z"
   },
   {
    "duration": 37,
    "start_time": "2025-04-17T08:56:14.776Z"
   },
   {
    "duration": 49,
    "start_time": "2025-04-17T08:56:14.815Z"
   },
   {
    "duration": 391,
    "start_time": "2025-04-17T08:56:14.866Z"
   },
   {
    "duration": 326,
    "start_time": "2025-04-17T08:56:15.261Z"
   },
   {
    "duration": 359,
    "start_time": "2025-04-17T08:56:15.588Z"
   },
   {
    "duration": 418,
    "start_time": "2025-04-17T08:56:15.952Z"
   },
   {
    "duration": 14,
    "start_time": "2025-04-17T08:56:16.372Z"
   },
   {
    "duration": 59,
    "start_time": "2025-04-17T08:56:16.388Z"
   },
   {
    "duration": 341,
    "start_time": "2025-04-17T08:56:16.449Z"
   },
   {
    "duration": 335,
    "start_time": "2025-04-17T08:56:16.792Z"
   },
   {
    "duration": 363,
    "start_time": "2025-04-17T08:56:17.129Z"
   },
   {
    "duration": 369,
    "start_time": "2025-04-17T08:56:17.493Z"
   },
   {
    "duration": 14,
    "start_time": "2025-04-17T08:56:17.863Z"
   },
   {
    "duration": 76,
    "start_time": "2025-04-17T08:56:17.878Z"
   },
   {
    "duration": 363,
    "start_time": "2025-04-17T08:56:17.958Z"
   },
   {
    "duration": 455,
    "start_time": "2025-04-17T08:56:18.322Z"
   },
   {
    "duration": 397,
    "start_time": "2025-04-17T08:56:18.778Z"
   },
   {
    "duration": 380,
    "start_time": "2025-04-17T08:56:19.177Z"
   },
   {
    "duration": 465,
    "start_time": "2025-04-17T08:56:19.559Z"
   },
   {
    "duration": 473,
    "start_time": "2025-04-17T08:56:20.026Z"
   },
   {
    "duration": 521,
    "start_time": "2025-04-17T08:56:20.502Z"
   },
   {
    "duration": 438,
    "start_time": "2025-04-17T08:56:21.025Z"
   },
   {
    "duration": 8,
    "start_time": "2025-04-17T08:56:21.539Z"
   },
   {
    "duration": 101,
    "start_time": "2025-04-17T08:56:21.554Z"
   },
   {
    "duration": 29,
    "start_time": "2025-04-17T08:56:21.657Z"
   },
   {
    "duration": 25,
    "start_time": "2025-04-17T08:56:21.688Z"
   },
   {
    "duration": 8,
    "start_time": "2025-04-17T08:56:21.715Z"
   },
   {
    "duration": 9,
    "start_time": "2025-04-17T08:56:21.725Z"
   },
   {
    "duration": 13,
    "start_time": "2025-04-17T08:56:21.736Z"
   },
   {
    "duration": 164,
    "start_time": "2025-04-17T08:56:21.751Z"
   },
   {
    "duration": 0,
    "start_time": "2025-04-17T08:56:21.917Z"
   },
   {
    "duration": 0,
    "start_time": "2025-04-17T08:56:21.918Z"
   },
   {
    "duration": 13,
    "start_time": "2025-04-17T08:58:18.936Z"
   },
   {
    "duration": 4,
    "start_time": "2025-04-17T08:58:19.607Z"
   },
   {
    "duration": 3500,
    "start_time": "2025-04-17T08:58:20.448Z"
   },
   {
    "duration": 1445,
    "start_time": "2025-04-17T08:59:09.442Z"
   },
   {
    "duration": 3,
    "start_time": "2025-04-17T08:59:10.889Z"
   },
   {
    "duration": 19,
    "start_time": "2025-04-17T08:59:10.894Z"
   },
   {
    "duration": 33,
    "start_time": "2025-04-17T08:59:10.915Z"
   },
   {
    "duration": 12,
    "start_time": "2025-04-17T08:59:10.950Z"
   },
   {
    "duration": 123,
    "start_time": "2025-04-17T08:59:10.964Z"
   },
   {
    "duration": 34,
    "start_time": "2025-04-17T08:59:11.088Z"
   },
   {
    "duration": 170,
    "start_time": "2025-04-17T08:59:11.123Z"
   },
   {
    "duration": 14,
    "start_time": "2025-04-17T08:59:11.295Z"
   },
   {
    "duration": 153,
    "start_time": "2025-04-17T08:59:11.311Z"
   },
   {
    "duration": 15,
    "start_time": "2025-04-17T08:59:11.465Z"
   },
   {
    "duration": 154,
    "start_time": "2025-04-17T08:59:11.481Z"
   },
   {
    "duration": 16,
    "start_time": "2025-04-17T08:59:11.645Z"
   },
   {
    "duration": 132,
    "start_time": "2025-04-17T08:59:11.664Z"
   },
   {
    "duration": 22,
    "start_time": "2025-04-17T08:59:11.798Z"
   },
   {
    "duration": 45,
    "start_time": "2025-04-17T08:59:11.822Z"
   },
   {
    "duration": 24,
    "start_time": "2025-04-17T08:59:11.869Z"
   },
   {
    "duration": 10,
    "start_time": "2025-04-17T08:59:11.894Z"
   },
   {
    "duration": 56,
    "start_time": "2025-04-17T08:59:11.906Z"
   },
   {
    "duration": 29,
    "start_time": "2025-04-17T08:59:11.964Z"
   },
   {
    "duration": 45,
    "start_time": "2025-04-17T08:59:11.994Z"
   },
   {
    "duration": 10,
    "start_time": "2025-04-17T08:59:12.048Z"
   },
   {
    "duration": 23,
    "start_time": "2025-04-17T08:59:12.060Z"
   },
   {
    "duration": 29,
    "start_time": "2025-04-17T08:59:12.085Z"
   },
   {
    "duration": 63,
    "start_time": "2025-04-17T08:59:12.116Z"
   },
   {
    "duration": 12,
    "start_time": "2025-04-17T08:59:12.181Z"
   },
   {
    "duration": 19,
    "start_time": "2025-04-17T08:59:12.195Z"
   },
   {
    "duration": 60,
    "start_time": "2025-04-17T08:59:12.215Z"
   },
   {
    "duration": 370,
    "start_time": "2025-04-17T08:59:12.276Z"
   },
   {
    "duration": 313,
    "start_time": "2025-04-17T08:59:12.647Z"
   },
   {
    "duration": 339,
    "start_time": "2025-04-17T08:59:12.961Z"
   },
   {
    "duration": 419,
    "start_time": "2025-04-17T08:59:13.302Z"
   },
   {
    "duration": 26,
    "start_time": "2025-04-17T08:59:13.723Z"
   },
   {
    "duration": 36,
    "start_time": "2025-04-17T08:59:13.751Z"
   },
   {
    "duration": 352,
    "start_time": "2025-04-17T08:59:13.789Z"
   },
   {
    "duration": 360,
    "start_time": "2025-04-17T08:59:14.142Z"
   },
   {
    "duration": 349,
    "start_time": "2025-04-17T08:59:14.504Z"
   },
   {
    "duration": 346,
    "start_time": "2025-04-17T08:59:14.855Z"
   },
   {
    "duration": 14,
    "start_time": "2025-04-17T08:59:15.203Z"
   },
   {
    "duration": 101,
    "start_time": "2025-04-17T08:59:15.218Z"
   },
   {
    "duration": 406,
    "start_time": "2025-04-17T08:59:15.323Z"
   },
   {
    "duration": 457,
    "start_time": "2025-04-17T08:59:15.731Z"
   },
   {
    "duration": 360,
    "start_time": "2025-04-17T08:59:16.189Z"
   },
   {
    "duration": 334,
    "start_time": "2025-04-17T08:59:16.551Z"
   },
   {
    "duration": 519,
    "start_time": "2025-04-17T08:59:16.887Z"
   },
   {
    "duration": 503,
    "start_time": "2025-04-17T08:59:17.408Z"
   },
   {
    "duration": 486,
    "start_time": "2025-04-17T08:59:17.913Z"
   },
   {
    "duration": 543,
    "start_time": "2025-04-17T08:59:18.401Z"
   },
   {
    "duration": 7,
    "start_time": "2025-04-17T08:59:18.946Z"
   },
   {
    "duration": 115,
    "start_time": "2025-04-17T08:59:18.955Z"
   },
   {
    "duration": 44,
    "start_time": "2025-04-17T08:59:19.071Z"
   },
   {
    "duration": 8,
    "start_time": "2025-04-17T08:59:19.117Z"
   },
   {
    "duration": 16,
    "start_time": "2025-04-17T08:59:19.127Z"
   },
   {
    "duration": 8,
    "start_time": "2025-04-17T08:59:19.149Z"
   },
   {
    "duration": 11,
    "start_time": "2025-04-17T08:59:19.159Z"
   },
   {
    "duration": 35,
    "start_time": "2025-04-17T08:59:19.171Z"
   },
   {
    "duration": 3598,
    "start_time": "2025-04-17T08:59:19.208Z"
   },
   {
    "duration": 13,
    "start_time": "2025-04-17T09:06:34.892Z"
   },
   {
    "duration": 145,
    "start_time": "2025-04-17T09:06:44.313Z"
   },
   {
    "duration": 3,
    "start_time": "2025-04-17T09:06:51.658Z"
   },
   {
    "duration": 4,
    "start_time": "2025-04-17T09:07:46.361Z"
   },
   {
    "duration": 4,
    "start_time": "2025-04-17T09:07:46.626Z"
   },
   {
    "duration": 3905,
    "start_time": "2025-04-17T09:07:47.213Z"
   },
   {
    "duration": 9,
    "start_time": "2025-04-17T09:20:37.469Z"
   },
   {
    "duration": 6,
    "start_time": "2025-04-17T09:20:39.752Z"
   },
   {
    "duration": 12,
    "start_time": "2025-04-17T09:20:40.039Z"
   },
   {
    "duration": 9,
    "start_time": "2025-04-17T09:22:48.830Z"
   },
   {
    "duration": 15,
    "start_time": "2025-04-17T09:22:49.265Z"
   },
   {
    "duration": 3,
    "start_time": "2025-04-17T09:22:56.103Z"
   },
   {
    "duration": 1249,
    "start_time": "2025-04-17T09:23:01.548Z"
   },
   {
    "duration": 5,
    "start_time": "2025-04-17T09:23:14.566Z"
   },
   {
    "duration": 3643,
    "start_time": "2025-04-17T09:23:14.836Z"
   },
   {
    "duration": 5,
    "start_time": "2025-04-17T09:24:05.905Z"
   },
   {
    "duration": 3500,
    "start_time": "2025-04-17T09:24:06.872Z"
   },
   {
    "duration": 11,
    "start_time": "2025-04-17T09:25:07.740Z"
   },
   {
    "duration": 3527,
    "start_time": "2025-04-17T09:25:08.164Z"
   },
   {
    "duration": 5,
    "start_time": "2025-04-17T09:26:20.350Z"
   },
   {
    "duration": 3467,
    "start_time": "2025-04-17T09:26:22.941Z"
   },
   {
    "duration": 5,
    "start_time": "2025-04-17T09:26:50.950Z"
   },
   {
    "duration": 1255,
    "start_time": "2025-04-17T09:26:51.276Z"
   },
   {
    "duration": 5,
    "start_time": "2025-04-17T09:26:58.804Z"
   },
   {
    "duration": 3792,
    "start_time": "2025-04-17T09:27:00.832Z"
   },
   {
    "duration": 82,
    "start_time": "2025-04-17T09:27:35.468Z"
   },
   {
    "duration": 3449,
    "start_time": "2025-04-17T09:27:36.318Z"
   },
   {
    "duration": 79,
    "start_time": "2025-04-17T09:27:44.687Z"
   },
   {
    "duration": 84,
    "start_time": "2025-04-17T09:28:45.385Z"
   },
   {
    "duration": 126,
    "start_time": "2025-04-17T09:28:54.490Z"
   },
   {
    "duration": 93,
    "start_time": "2025-04-17T09:29:00.193Z"
   },
   {
    "duration": 7,
    "start_time": "2025-04-17T09:29:06.868Z"
   },
   {
    "duration": 3527,
    "start_time": "2025-04-17T09:29:08.986Z"
   },
   {
    "duration": 5,
    "start_time": "2025-04-17T09:29:25.750Z"
   },
   {
    "duration": 3414,
    "start_time": "2025-04-17T09:29:27.966Z"
   },
   {
    "duration": 5,
    "start_time": "2025-04-17T09:29:38.125Z"
   },
   {
    "duration": 3458,
    "start_time": "2025-04-17T09:29:39.017Z"
   },
   {
    "duration": 1465,
    "start_time": "2025-04-17T09:31:40.416Z"
   },
   {
    "duration": 3,
    "start_time": "2025-04-17T09:31:41.883Z"
   },
   {
    "duration": 7,
    "start_time": "2025-04-17T09:31:41.888Z"
   },
   {
    "duration": 10,
    "start_time": "2025-04-17T09:31:41.896Z"
   },
   {
    "duration": 22,
    "start_time": "2025-04-17T09:31:41.908Z"
   },
   {
    "duration": 18,
    "start_time": "2025-04-17T09:31:41.932Z"
   },
   {
    "duration": 13,
    "start_time": "2025-04-17T09:31:41.952Z"
   },
   {
    "duration": 165,
    "start_time": "2025-04-17T09:31:41.967Z"
   },
   {
    "duration": 28,
    "start_time": "2025-04-17T09:31:42.134Z"
   },
   {
    "duration": 155,
    "start_time": "2025-04-17T09:31:42.164Z"
   },
   {
    "duration": 27,
    "start_time": "2025-04-17T09:31:42.321Z"
   },
   {
    "duration": 153,
    "start_time": "2025-04-17T09:31:42.350Z"
   },
   {
    "duration": 13,
    "start_time": "2025-04-17T09:31:42.505Z"
   },
   {
    "duration": 160,
    "start_time": "2025-04-17T09:31:42.521Z"
   },
   {
    "duration": 23,
    "start_time": "2025-04-17T09:31:42.682Z"
   },
   {
    "duration": 43,
    "start_time": "2025-04-17T09:31:42.707Z"
   },
   {
    "duration": 25,
    "start_time": "2025-04-17T09:31:42.752Z"
   },
   {
    "duration": 10,
    "start_time": "2025-04-17T09:31:42.779Z"
   },
   {
    "duration": 41,
    "start_time": "2025-04-17T09:31:42.791Z"
   },
   {
    "duration": 43,
    "start_time": "2025-04-17T09:31:42.843Z"
   },
   {
    "duration": 31,
    "start_time": "2025-04-17T09:31:42.887Z"
   },
   {
    "duration": 10,
    "start_time": "2025-04-17T09:31:42.919Z"
   },
   {
    "duration": 45,
    "start_time": "2025-04-17T09:31:42.930Z"
   },
   {
    "duration": 31,
    "start_time": "2025-04-17T09:31:42.977Z"
   },
   {
    "duration": 39,
    "start_time": "2025-04-17T09:31:43.010Z"
   },
   {
    "duration": 10,
    "start_time": "2025-04-17T09:31:43.051Z"
   },
   {
    "duration": 37,
    "start_time": "2025-04-17T09:31:43.062Z"
   },
   {
    "duration": 49,
    "start_time": "2025-04-17T09:31:43.100Z"
   },
   {
    "duration": 378,
    "start_time": "2025-04-17T09:31:43.150Z"
   },
   {
    "duration": 328,
    "start_time": "2025-04-17T09:31:43.531Z"
   },
   {
    "duration": 334,
    "start_time": "2025-04-17T09:31:43.861Z"
   },
   {
    "duration": 479,
    "start_time": "2025-04-17T09:31:44.197Z"
   },
   {
    "duration": 14,
    "start_time": "2025-04-17T09:31:44.678Z"
   },
   {
    "duration": 56,
    "start_time": "2025-04-17T09:31:44.693Z"
   },
   {
    "duration": 354,
    "start_time": "2025-04-17T09:31:44.751Z"
   },
   {
    "duration": 339,
    "start_time": "2025-04-17T09:31:45.106Z"
   },
   {
    "duration": 346,
    "start_time": "2025-04-17T09:31:45.447Z"
   },
   {
    "duration": 363,
    "start_time": "2025-04-17T09:31:45.795Z"
   },
   {
    "duration": 15,
    "start_time": "2025-04-17T09:31:46.160Z"
   },
   {
    "duration": 35,
    "start_time": "2025-04-17T09:31:46.177Z"
   },
   {
    "duration": 362,
    "start_time": "2025-04-17T09:31:46.216Z"
   },
   {
    "duration": 468,
    "start_time": "2025-04-17T09:31:46.579Z"
   },
   {
    "duration": 348,
    "start_time": "2025-04-17T09:31:47.049Z"
   },
   {
    "duration": 357,
    "start_time": "2025-04-17T09:31:47.398Z"
   },
   {
    "duration": 450,
    "start_time": "2025-04-17T09:31:47.756Z"
   },
   {
    "duration": 499,
    "start_time": "2025-04-17T09:31:48.208Z"
   },
   {
    "duration": 511,
    "start_time": "2025-04-17T09:31:48.709Z"
   },
   {
    "duration": 526,
    "start_time": "2025-04-17T09:31:49.222Z"
   },
   {
    "duration": 3,
    "start_time": "2025-04-17T09:31:49.751Z"
   },
   {
    "duration": 93,
    "start_time": "2025-04-17T09:31:49.756Z"
   },
   {
    "duration": 12,
    "start_time": "2025-04-17T09:31:49.852Z"
   },
   {
    "duration": 19,
    "start_time": "2025-04-17T09:31:49.866Z"
   },
   {
    "duration": 20,
    "start_time": "2025-04-17T09:31:49.887Z"
   },
   {
    "duration": 38,
    "start_time": "2025-04-17T09:31:49.909Z"
   },
   {
    "duration": 5,
    "start_time": "2025-04-17T09:31:49.949Z"
   },
   {
    "duration": 3703,
    "start_time": "2025-04-17T09:31:49.956Z"
   },
   {
    "duration": 5,
    "start_time": "2025-04-17T09:33:23.294Z"
   },
   {
    "duration": 3508,
    "start_time": "2025-04-17T09:33:24.275Z"
   },
   {
    "duration": 6,
    "start_time": "2025-04-17T09:36:07.005Z"
   },
   {
    "duration": 3607,
    "start_time": "2025-04-17T09:36:07.471Z"
   },
   {
    "duration": 1478,
    "start_time": "2025-04-17T09:53:44.953Z"
   },
   {
    "duration": 10,
    "start_time": "2025-04-17T09:53:46.433Z"
   },
   {
    "duration": 17,
    "start_time": "2025-04-17T09:53:46.446Z"
   },
   {
    "duration": 13,
    "start_time": "2025-04-17T09:53:46.465Z"
   },
   {
    "duration": 16,
    "start_time": "2025-04-17T09:53:46.480Z"
   },
   {
    "duration": 28,
    "start_time": "2025-04-17T09:53:46.498Z"
   },
   {
    "duration": 11,
    "start_time": "2025-04-17T09:53:46.528Z"
   },
   {
    "duration": 17,
    "start_time": "2025-04-17T09:53:46.540Z"
   },
   {
    "duration": 187,
    "start_time": "2025-04-17T09:53:46.558Z"
   },
   {
    "duration": 17,
    "start_time": "2025-04-17T09:53:46.748Z"
   },
   {
    "duration": 147,
    "start_time": "2025-04-17T09:53:46.767Z"
   },
   {
    "duration": 13,
    "start_time": "2025-04-17T09:53:46.916Z"
   },
   {
    "duration": 235,
    "start_time": "2025-04-17T09:53:46.930Z"
   },
   {
    "duration": 15,
    "start_time": "2025-04-17T09:53:47.166Z"
   },
   {
    "duration": 166,
    "start_time": "2025-04-17T09:53:47.182Z"
   },
   {
    "duration": 68,
    "start_time": "2025-04-17T09:53:47.351Z"
   },
   {
    "duration": 60,
    "start_time": "2025-04-17T09:53:47.421Z"
   },
   {
    "duration": 27,
    "start_time": "2025-04-17T09:53:47.483Z"
   },
   {
    "duration": 59,
    "start_time": "2025-04-17T09:53:47.512Z"
   },
   {
    "duration": 32,
    "start_time": "2025-04-17T09:53:47.572Z"
   },
   {
    "duration": 49,
    "start_time": "2025-04-17T09:53:47.605Z"
   },
   {
    "duration": 93,
    "start_time": "2025-04-17T09:53:47.657Z"
   },
   {
    "duration": 11,
    "start_time": "2025-04-17T09:53:47.752Z"
   },
   {
    "duration": 34,
    "start_time": "2025-04-17T09:53:47.765Z"
   },
   {
    "duration": 52,
    "start_time": "2025-04-17T09:53:47.801Z"
   },
   {
    "duration": 27,
    "start_time": "2025-04-17T09:53:47.855Z"
   },
   {
    "duration": 17,
    "start_time": "2025-04-17T09:53:47.884Z"
   },
   {
    "duration": 64,
    "start_time": "2025-04-17T09:53:47.906Z"
   },
   {
    "duration": 94,
    "start_time": "2025-04-17T09:53:47.972Z"
   },
   {
    "duration": 377,
    "start_time": "2025-04-17T09:53:48.068Z"
   },
   {
    "duration": 309,
    "start_time": "2025-04-17T09:53:48.452Z"
   },
   {
    "duration": 388,
    "start_time": "2025-04-17T09:53:48.763Z"
   },
   {
    "duration": 415,
    "start_time": "2025-04-17T09:53:49.154Z"
   },
   {
    "duration": 14,
    "start_time": "2025-04-17T09:53:49.571Z"
   },
   {
    "duration": 145,
    "start_time": "2025-04-17T09:53:49.586Z"
   },
   {
    "duration": 358,
    "start_time": "2025-04-17T09:53:49.732Z"
   },
   {
    "duration": 360,
    "start_time": "2025-04-17T09:53:50.092Z"
   },
   {
    "duration": 354,
    "start_time": "2025-04-17T09:53:50.454Z"
   },
   {
    "duration": 382,
    "start_time": "2025-04-17T09:53:50.810Z"
   },
   {
    "duration": 14,
    "start_time": "2025-04-17T09:53:51.193Z"
   },
   {
    "duration": 70,
    "start_time": "2025-04-17T09:53:51.209Z"
   },
   {
    "duration": 467,
    "start_time": "2025-04-17T09:53:51.281Z"
   },
   {
    "duration": 456,
    "start_time": "2025-04-17T09:53:51.750Z"
   },
   {
    "duration": 354,
    "start_time": "2025-04-17T09:53:52.208Z"
   },
   {
    "duration": 381,
    "start_time": "2025-04-17T09:53:52.564Z"
   },
   {
    "duration": 454,
    "start_time": "2025-04-17T09:53:52.951Z"
   },
   {
    "duration": 517,
    "start_time": "2025-04-17T09:53:53.407Z"
   },
   {
    "duration": 492,
    "start_time": "2025-04-17T09:53:53.926Z"
   },
   {
    "duration": 515,
    "start_time": "2025-04-17T09:53:54.421Z"
   },
   {
    "duration": 90,
    "start_time": "2025-04-17T09:53:54.949Z"
   },
   {
    "duration": 18,
    "start_time": "2025-04-17T09:53:55.042Z"
   },
   {
    "duration": 39,
    "start_time": "2025-04-17T09:53:55.062Z"
   },
   {
    "duration": 21,
    "start_time": "2025-04-17T09:53:55.103Z"
   },
   {
    "duration": 7,
    "start_time": "2025-04-17T09:53:55.126Z"
   },
   {
    "duration": 20,
    "start_time": "2025-04-17T09:53:55.135Z"
   },
   {
    "duration": 3539,
    "start_time": "2025-04-17T09:53:55.157Z"
   },
   {
    "duration": 1864,
    "start_time": "2025-04-17T09:56:10.519Z"
   },
   {
    "duration": 4,
    "start_time": "2025-04-17T09:56:12.385Z"
   },
   {
    "duration": 14,
    "start_time": "2025-04-17T09:56:12.390Z"
   },
   {
    "duration": 10,
    "start_time": "2025-04-17T09:56:12.406Z"
   },
   {
    "duration": 7,
    "start_time": "2025-04-17T09:56:12.417Z"
   },
   {
    "duration": 26,
    "start_time": "2025-04-17T09:56:12.426Z"
   },
   {
    "duration": 6,
    "start_time": "2025-04-17T09:56:12.453Z"
   },
   {
    "duration": 20,
    "start_time": "2025-04-17T09:56:12.461Z"
   },
   {
    "duration": 180,
    "start_time": "2025-04-17T09:56:12.482Z"
   },
   {
    "duration": 16,
    "start_time": "2025-04-17T09:56:12.664Z"
   },
   {
    "duration": 160,
    "start_time": "2025-04-17T09:56:12.682Z"
   },
   {
    "duration": 17,
    "start_time": "2025-04-17T09:56:12.844Z"
   },
   {
    "duration": 149,
    "start_time": "2025-04-17T09:56:12.862Z"
   },
   {
    "duration": 15,
    "start_time": "2025-04-17T09:56:13.013Z"
   },
   {
    "duration": 180,
    "start_time": "2025-04-17T09:56:13.030Z"
   },
   {
    "duration": 40,
    "start_time": "2025-04-17T09:56:13.212Z"
   },
   {
    "duration": 171,
    "start_time": "2025-04-17T09:56:13.254Z"
   },
   {
    "duration": 30,
    "start_time": "2025-04-17T09:56:13.427Z"
   },
   {
    "duration": 12,
    "start_time": "2025-04-17T09:56:13.459Z"
   },
   {
    "duration": 28,
    "start_time": "2025-04-17T09:56:13.472Z"
   },
   {
    "duration": 56,
    "start_time": "2025-04-17T09:56:13.501Z"
   },
   {
    "duration": 51,
    "start_time": "2025-04-17T09:56:13.559Z"
   },
   {
    "duration": 10,
    "start_time": "2025-04-17T09:56:13.611Z"
   },
   {
    "duration": 122,
    "start_time": "2025-04-17T09:56:13.622Z"
   },
   {
    "duration": 35,
    "start_time": "2025-04-17T09:56:13.747Z"
   },
   {
    "duration": 30,
    "start_time": "2025-04-17T09:56:13.784Z"
   },
   {
    "duration": 34,
    "start_time": "2025-04-17T09:56:13.815Z"
   },
   {
    "duration": 22,
    "start_time": "2025-04-17T09:56:13.854Z"
   },
   {
    "duration": 60,
    "start_time": "2025-04-17T09:56:13.878Z"
   },
   {
    "duration": 368,
    "start_time": "2025-04-17T09:56:13.949Z"
   },
   {
    "duration": 356,
    "start_time": "2025-04-17T09:56:14.319Z"
   },
   {
    "duration": 363,
    "start_time": "2025-04-17T09:56:14.677Z"
   },
   {
    "duration": 432,
    "start_time": "2025-04-17T09:56:15.045Z"
   },
   {
    "duration": 15,
    "start_time": "2025-04-17T09:56:15.478Z"
   },
   {
    "duration": 56,
    "start_time": "2025-04-17T09:56:15.495Z"
   },
   {
    "duration": 419,
    "start_time": "2025-04-17T09:56:15.553Z"
   },
   {
    "duration": 353,
    "start_time": "2025-04-17T09:56:15.973Z"
   },
   {
    "duration": 354,
    "start_time": "2025-04-17T09:56:16.328Z"
   },
   {
    "duration": 365,
    "start_time": "2025-04-17T09:56:16.683Z"
   },
   {
    "duration": 14,
    "start_time": "2025-04-17T09:56:17.053Z"
   },
   {
    "duration": 44,
    "start_time": "2025-04-17T09:56:17.069Z"
   },
   {
    "duration": 357,
    "start_time": "2025-04-17T09:56:17.114Z"
   },
   {
    "duration": 493,
    "start_time": "2025-04-17T09:56:17.473Z"
   },
   {
    "duration": 343,
    "start_time": "2025-04-17T09:56:17.968Z"
   },
   {
    "duration": 350,
    "start_time": "2025-04-17T09:56:18.313Z"
   },
   {
    "duration": 460,
    "start_time": "2025-04-17T09:56:18.665Z"
   },
   {
    "duration": 474,
    "start_time": "2025-04-17T09:56:19.127Z"
   },
   {
    "duration": 492,
    "start_time": "2025-04-17T09:56:19.603Z"
   },
   {
    "duration": 446,
    "start_time": "2025-04-17T09:56:20.097Z"
   },
   {
    "duration": 3,
    "start_time": "2025-04-17T09:56:20.546Z"
   },
   {
    "duration": 99,
    "start_time": "2025-04-17T09:56:20.551Z"
   },
   {
    "duration": 55,
    "start_time": "2025-04-17T09:56:20.652Z"
   },
   {
    "duration": 55,
    "start_time": "2025-04-17T09:56:20.709Z"
   },
   {
    "duration": 34,
    "start_time": "2025-04-17T09:56:20.766Z"
   },
   {
    "duration": 29,
    "start_time": "2025-04-17T09:56:20.802Z"
   },
   {
    "duration": 3583,
    "start_time": "2025-04-17T09:56:20.832Z"
   },
   {
    "duration": 63,
    "start_time": "2025-04-17T09:56:24.419Z"
   },
   {
    "duration": 1469,
    "start_time": "2025-04-17T10:04:40.842Z"
   },
   {
    "duration": 3,
    "start_time": "2025-04-17T10:04:42.313Z"
   },
   {
    "duration": 29,
    "start_time": "2025-04-17T10:04:42.318Z"
   },
   {
    "duration": 8,
    "start_time": "2025-04-17T10:04:42.353Z"
   },
   {
    "duration": 34,
    "start_time": "2025-04-17T10:04:42.363Z"
   },
   {
    "duration": 16,
    "start_time": "2025-04-17T10:04:42.399Z"
   },
   {
    "duration": 27,
    "start_time": "2025-04-17T10:04:42.417Z"
   },
   {
    "duration": 13,
    "start_time": "2025-04-17T10:04:42.446Z"
   },
   {
    "duration": 188,
    "start_time": "2025-04-17T10:04:42.461Z"
   },
   {
    "duration": 16,
    "start_time": "2025-04-17T10:04:42.651Z"
   },
   {
    "duration": 180,
    "start_time": "2025-04-17T10:04:42.669Z"
   },
   {
    "duration": 15,
    "start_time": "2025-04-17T10:04:42.851Z"
   },
   {
    "duration": 144,
    "start_time": "2025-04-17T10:04:42.867Z"
   },
   {
    "duration": 14,
    "start_time": "2025-04-17T10:04:43.012Z"
   },
   {
    "duration": 136,
    "start_time": "2025-04-17T10:04:43.028Z"
   },
   {
    "duration": 22,
    "start_time": "2025-04-17T10:04:43.166Z"
   },
   {
    "duration": 55,
    "start_time": "2025-04-17T10:04:43.190Z"
   },
   {
    "duration": 28,
    "start_time": "2025-04-17T10:04:43.247Z"
   },
   {
    "duration": 10,
    "start_time": "2025-04-17T10:04:43.277Z"
   },
   {
    "duration": 116,
    "start_time": "2025-04-17T10:04:43.289Z"
   },
   {
    "duration": 74,
    "start_time": "2025-04-17T10:04:43.407Z"
   },
   {
    "duration": 34,
    "start_time": "2025-04-17T10:04:43.483Z"
   },
   {
    "duration": 9,
    "start_time": "2025-04-17T10:04:43.519Z"
   },
   {
    "duration": 64,
    "start_time": "2025-04-17T10:04:43.530Z"
   },
   {
    "duration": 168,
    "start_time": "2025-04-17T10:04:43.596Z"
   },
   {
    "duration": 35,
    "start_time": "2025-04-17T10:04:43.766Z"
   },
   {
    "duration": 10,
    "start_time": "2025-04-17T10:04:43.803Z"
   },
   {
    "duration": 41,
    "start_time": "2025-04-17T10:04:43.817Z"
   },
   {
    "duration": 38,
    "start_time": "2025-04-17T10:04:43.859Z"
   },
   {
    "duration": 383,
    "start_time": "2025-04-17T10:04:43.899Z"
   },
   {
    "duration": 360,
    "start_time": "2025-04-17T10:04:44.283Z"
   },
   {
    "duration": 355,
    "start_time": "2025-04-17T10:04:44.651Z"
   },
   {
    "duration": 440,
    "start_time": "2025-04-17T10:04:45.008Z"
   },
   {
    "duration": 14,
    "start_time": "2025-04-17T10:04:45.453Z"
   },
   {
    "duration": 45,
    "start_time": "2025-04-17T10:04:45.469Z"
   },
   {
    "duration": 357,
    "start_time": "2025-04-17T10:04:45.515Z"
   },
   {
    "duration": 347,
    "start_time": "2025-04-17T10:04:45.874Z"
   },
   {
    "duration": 357,
    "start_time": "2025-04-17T10:04:46.222Z"
   },
   {
    "duration": 372,
    "start_time": "2025-04-17T10:04:46.581Z"
   },
   {
    "duration": 16,
    "start_time": "2025-04-17T10:04:46.954Z"
   },
   {
    "duration": 36,
    "start_time": "2025-04-17T10:04:46.972Z"
   },
   {
    "duration": 376,
    "start_time": "2025-04-17T10:04:47.009Z"
   },
   {
    "duration": 489,
    "start_time": "2025-04-17T10:04:47.387Z"
   },
   {
    "duration": 343,
    "start_time": "2025-04-17T10:04:47.878Z"
   },
   {
    "duration": 354,
    "start_time": "2025-04-17T10:04:48.223Z"
   },
   {
    "duration": 484,
    "start_time": "2025-04-17T10:04:48.578Z"
   },
   {
    "duration": 488,
    "start_time": "2025-04-17T10:04:49.064Z"
   },
   {
    "duration": 445,
    "start_time": "2025-04-17T10:04:49.554Z"
   },
   {
    "duration": 452,
    "start_time": "2025-04-17T10:04:50.001Z"
   },
   {
    "duration": 4,
    "start_time": "2025-04-17T10:04:50.457Z"
   },
   {
    "duration": 103,
    "start_time": "2025-04-17T10:04:50.538Z"
   },
   {
    "duration": 35,
    "start_time": "2025-04-17T10:04:50.643Z"
   },
   {
    "duration": 72,
    "start_time": "2025-04-17T10:04:50.680Z"
   },
   {
    "duration": 19,
    "start_time": "2025-04-17T10:04:50.753Z"
   },
   {
    "duration": 82,
    "start_time": "2025-04-17T10:04:50.774Z"
   },
   {
    "duration": 3531,
    "start_time": "2025-04-17T10:04:50.858Z"
   },
   {
    "duration": 51,
    "start_time": "2025-04-17T12:01:55.025Z"
   },
   {
    "duration": 1363,
    "start_time": "2025-04-17T12:02:11.191Z"
   },
   {
    "duration": 3,
    "start_time": "2025-04-17T12:02:12.556Z"
   },
   {
    "duration": 6,
    "start_time": "2025-04-17T12:02:12.561Z"
   },
   {
    "duration": 20,
    "start_time": "2025-04-17T12:02:12.568Z"
   },
   {
    "duration": 12,
    "start_time": "2025-04-17T12:02:12.590Z"
   },
   {
    "duration": 8,
    "start_time": "2025-04-17T12:02:12.604Z"
   },
   {
    "duration": 5,
    "start_time": "2025-04-17T12:02:12.614Z"
   },
   {
    "duration": 8,
    "start_time": "2025-04-17T12:02:12.621Z"
   },
   {
    "duration": 169,
    "start_time": "2025-04-17T12:02:12.631Z"
   },
   {
    "duration": 15,
    "start_time": "2025-04-17T12:02:12.804Z"
   },
   {
    "duration": 151,
    "start_time": "2025-04-17T12:02:12.821Z"
   },
   {
    "duration": 16,
    "start_time": "2025-04-17T12:02:12.974Z"
   },
   {
    "duration": 235,
    "start_time": "2025-04-17T12:02:12.992Z"
   },
   {
    "duration": 14,
    "start_time": "2025-04-17T12:02:13.230Z"
   },
   {
    "duration": 158,
    "start_time": "2025-04-17T12:02:13.246Z"
   },
   {
    "duration": 26,
    "start_time": "2025-04-17T12:02:13.406Z"
   },
   {
    "duration": 33,
    "start_time": "2025-04-17T12:02:13.434Z"
   },
   {
    "duration": 51,
    "start_time": "2025-04-17T12:02:13.469Z"
   },
   {
    "duration": 10,
    "start_time": "2025-04-17T12:02:13.522Z"
   },
   {
    "duration": 25,
    "start_time": "2025-04-17T12:02:13.534Z"
   },
   {
    "duration": 57,
    "start_time": "2025-04-17T12:02:13.561Z"
   },
   {
    "duration": 103,
    "start_time": "2025-04-17T12:02:13.620Z"
   },
   {
    "duration": 10,
    "start_time": "2025-04-17T12:02:13.725Z"
   },
   {
    "duration": 122,
    "start_time": "2025-04-17T12:02:13.736Z"
   },
   {
    "duration": 73,
    "start_time": "2025-04-17T12:02:13.860Z"
   },
   {
    "duration": 28,
    "start_time": "2025-04-17T12:02:13.935Z"
   },
   {
    "duration": 37,
    "start_time": "2025-04-17T12:02:13.965Z"
   },
   {
    "duration": 14,
    "start_time": "2025-04-17T12:02:14.004Z"
   },
   {
    "duration": 46,
    "start_time": "2025-04-17T12:02:14.020Z"
   },
   {
    "duration": 379,
    "start_time": "2025-04-17T12:02:14.068Z"
   },
   {
    "duration": 322,
    "start_time": "2025-04-17T12:02:14.449Z"
   },
   {
    "duration": 353,
    "start_time": "2025-04-17T12:02:14.773Z"
   },
   {
    "duration": 435,
    "start_time": "2025-04-17T12:02:15.128Z"
   },
   {
    "duration": 16,
    "start_time": "2025-04-17T12:02:15.565Z"
   },
   {
    "duration": 134,
    "start_time": "2025-04-17T12:02:15.582Z"
   },
   {
    "duration": 360,
    "start_time": "2025-04-17T12:02:15.717Z"
   },
   {
    "duration": 363,
    "start_time": "2025-04-17T12:02:16.079Z"
   },
   {
    "duration": 349,
    "start_time": "2025-04-17T12:02:16.443Z"
   },
   {
    "duration": 374,
    "start_time": "2025-04-17T12:02:16.793Z"
   },
   {
    "duration": 16,
    "start_time": "2025-04-17T12:02:17.170Z"
   },
   {
    "duration": 42,
    "start_time": "2025-04-17T12:02:17.208Z"
   },
   {
    "duration": 404,
    "start_time": "2025-04-17T12:02:17.252Z"
   },
   {
    "duration": 481,
    "start_time": "2025-04-17T12:02:17.658Z"
   },
   {
    "duration": 383,
    "start_time": "2025-04-17T12:02:18.141Z"
   },
   {
    "duration": 349,
    "start_time": "2025-04-17T12:02:18.526Z"
   },
   {
    "duration": 492,
    "start_time": "2025-04-17T12:02:18.877Z"
   },
   {
    "duration": 498,
    "start_time": "2025-04-17T12:02:19.372Z"
   },
   {
    "duration": 488,
    "start_time": "2025-04-17T12:02:19.873Z"
   },
   {
    "duration": 543,
    "start_time": "2025-04-17T12:02:20.363Z"
   },
   {
    "duration": 93,
    "start_time": "2025-04-17T12:02:20.911Z"
   },
   {
    "duration": 91,
    "start_time": "2025-04-17T12:02:21.006Z"
   },
   {
    "duration": 76,
    "start_time": "2025-04-17T12:02:21.099Z"
   },
   {
    "duration": 56,
    "start_time": "2025-04-17T12:02:21.177Z"
   },
   {
    "duration": 50,
    "start_time": "2025-04-17T12:02:21.235Z"
   },
   {
    "duration": 58,
    "start_time": "2025-04-17T12:02:21.286Z"
   },
   {
    "duration": 3618,
    "start_time": "2025-04-17T12:02:21.345Z"
   },
   {
    "duration": 8,
    "start_time": "2025-04-17T12:02:24.964Z"
   },
   {
    "duration": 1694,
    "start_time": "2025-04-17T13:48:54.756Z"
   },
   {
    "duration": 4,
    "start_time": "2025-04-17T13:48:56.453Z"
   },
   {
    "duration": 21,
    "start_time": "2025-04-17T13:48:56.460Z"
   },
   {
    "duration": 20,
    "start_time": "2025-04-17T13:48:56.482Z"
   },
   {
    "duration": 74,
    "start_time": "2025-04-17T13:48:56.504Z"
   },
   {
    "duration": 32,
    "start_time": "2025-04-17T13:48:56.579Z"
   },
   {
    "duration": 11,
    "start_time": "2025-04-17T13:48:56.613Z"
   },
   {
    "duration": 8,
    "start_time": "2025-04-17T13:48:56.626Z"
   },
   {
    "duration": 168,
    "start_time": "2025-04-17T13:48:56.636Z"
   },
   {
    "duration": 17,
    "start_time": "2025-04-17T13:48:56.805Z"
   },
   {
    "duration": 150,
    "start_time": "2025-04-17T13:48:56.823Z"
   },
   {
    "duration": 14,
    "start_time": "2025-04-17T13:48:56.975Z"
   },
   {
    "duration": 177,
    "start_time": "2025-04-17T13:48:56.991Z"
   },
   {
    "duration": 17,
    "start_time": "2025-04-17T13:48:57.171Z"
   },
   {
    "duration": 167,
    "start_time": "2025-04-17T13:48:57.190Z"
   },
   {
    "duration": 25,
    "start_time": "2025-04-17T13:48:57.359Z"
   },
   {
    "duration": 108,
    "start_time": "2025-04-17T13:48:57.385Z"
   },
   {
    "duration": 33,
    "start_time": "2025-04-17T13:48:57.494Z"
   },
   {
    "duration": 65,
    "start_time": "2025-04-17T13:48:57.528Z"
   },
   {
    "duration": 26,
    "start_time": "2025-04-17T13:48:57.594Z"
   },
   {
    "duration": 38,
    "start_time": "2025-04-17T13:48:57.621Z"
   },
   {
    "duration": 43,
    "start_time": "2025-04-17T13:48:57.661Z"
   },
   {
    "duration": 10,
    "start_time": "2025-04-17T13:48:57.706Z"
   },
   {
    "duration": 26,
    "start_time": "2025-04-17T13:48:57.717Z"
   },
   {
    "duration": 34,
    "start_time": "2025-04-17T13:48:57.744Z"
   },
   {
    "duration": 29,
    "start_time": "2025-04-17T13:48:57.803Z"
   },
   {
    "duration": 9,
    "start_time": "2025-04-17T13:48:57.834Z"
   },
   {
    "duration": 31,
    "start_time": "2025-04-17T13:48:57.844Z"
   },
   {
    "duration": 54,
    "start_time": "2025-04-17T13:48:57.877Z"
   },
   {
    "duration": 417,
    "start_time": "2025-04-17T13:48:57.933Z"
   },
   {
    "duration": 313,
    "start_time": "2025-04-17T13:48:58.352Z"
   },
   {
    "duration": 352,
    "start_time": "2025-04-17T13:48:58.667Z"
   },
   {
    "duration": 433,
    "start_time": "2025-04-17T13:48:59.021Z"
   },
   {
    "duration": 16,
    "start_time": "2025-04-17T13:48:59.456Z"
   },
   {
    "duration": 59,
    "start_time": "2025-04-17T13:48:59.474Z"
   },
   {
    "duration": 348,
    "start_time": "2025-04-17T13:48:59.535Z"
   },
   {
    "duration": 350,
    "start_time": "2025-04-17T13:48:59.885Z"
   },
   {
    "duration": 372,
    "start_time": "2025-04-17T13:49:00.237Z"
   },
   {
    "duration": 393,
    "start_time": "2025-04-17T13:49:00.611Z"
   },
   {
    "duration": 17,
    "start_time": "2025-04-17T13:49:01.006Z"
   },
   {
    "duration": 51,
    "start_time": "2025-04-17T13:49:01.028Z"
   },
   {
    "duration": 374,
    "start_time": "2025-04-17T13:49:01.082Z"
   },
   {
    "duration": 502,
    "start_time": "2025-04-17T13:49:01.459Z"
   },
   {
    "duration": 355,
    "start_time": "2025-04-17T13:49:01.963Z"
   },
   {
    "duration": 351,
    "start_time": "2025-04-17T13:49:02.320Z"
   },
   {
    "duration": 601,
    "start_time": "2025-04-17T13:49:02.673Z"
   },
   {
    "duration": 491,
    "start_time": "2025-04-17T13:49:03.276Z"
   },
   {
    "duration": 492,
    "start_time": "2025-04-17T13:49:03.769Z"
   },
   {
    "duration": 462,
    "start_time": "2025-04-17T13:49:04.262Z"
   },
   {
    "duration": 81,
    "start_time": "2025-04-17T13:49:04.725Z"
   },
   {
    "duration": 96,
    "start_time": "2025-04-17T13:49:04.809Z"
   },
   {
    "duration": 6,
    "start_time": "2025-04-17T13:49:04.906Z"
   },
   {
    "duration": 16,
    "start_time": "2025-04-17T13:49:04.913Z"
   },
   {
    "duration": 17,
    "start_time": "2025-04-17T13:49:04.931Z"
   },
   {
    "duration": 15,
    "start_time": "2025-04-17T13:49:04.950Z"
   },
   {
    "duration": 3747,
    "start_time": "2025-04-17T13:49:04.967Z"
   },
   {
    "duration": 8,
    "start_time": "2025-04-17T13:49:08.716Z"
   },
   {
    "duration": 4,
    "start_time": "2025-04-17T13:55:10.920Z"
   },
   {
    "duration": 8,
    "start_time": "2025-04-17T13:55:38.193Z"
   }
  ],
  "kernelspec": {
   "display_name": "Python [conda env:practicum]",
   "language": "python",
   "name": "conda-env-practicum-py"
  },
  "language_info": {
   "codemirror_mode": {
    "name": "ipython",
    "version": 3
   },
   "file_extension": ".py",
   "mimetype": "text/x-python",
   "name": "python",
   "nbconvert_exporter": "python",
   "pygments_lexer": "ipython3",
   "version": "3.11.12"
  },
  "toc": {
   "base_numbering": 1,
   "nav_menu": {},
   "number_sections": true,
   "sideBar": true,
   "skip_h1_title": true,
   "title_cell": "Содержание",
   "title_sidebar": "Contents",
   "toc_cell": true,
   "toc_position": {},
   "toc_section_display": true,
   "toc_window_display": false
  }
 },
 "nbformat": 4,
 "nbformat_minor": 4
}
