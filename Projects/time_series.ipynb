{
 "cells": [
  {
   "cell_type": "markdown",
   "metadata": {
    "toc": true
   },
   "source": [
    "<h1>Содержание<span class=\"tocSkip\"></span></h1>\n",
    "<div class=\"toc\"><ul class=\"toc-item\"><li><span><a href=\"#Подготовка\" data-toc-modified-id=\"Подготовка-1\"><span class=\"toc-item-num\">1&nbsp;&nbsp;</span>Подготовка</a></span></li><li><span><a href=\"#Анализ\" data-toc-modified-id=\"Анализ-2\"><span class=\"toc-item-num\">2&nbsp;&nbsp;</span>Анализ</a></span></li><li><span><a href=\"#Обучение\" data-toc-modified-id=\"Обучение-3\"><span class=\"toc-item-num\">3&nbsp;&nbsp;</span>Обучение</a></span><ul class=\"toc-item\"><li><span><a href=\"#Создание-признаков\" data-toc-modified-id=\"Создание-признаков-3.1\"><span class=\"toc-item-num\">3.1&nbsp;&nbsp;</span>Создание признаков</a></span></li><li><span><a href=\"#Разделение-датасета-на-выборки\" data-toc-modified-id=\"Разделение-датасета-на-выборки-3.2\"><span class=\"toc-item-num\">3.2&nbsp;&nbsp;</span>Разделение датасета на выборки</a></span></li><li><span><a href=\"#Обучение-моделей\" data-toc-modified-id=\"Обучение-моделей-3.3\"><span class=\"toc-item-num\">3.3&nbsp;&nbsp;</span>Обучение моделей</a></span></li><li><span><a href=\"#Вывод-по-разделу\" data-toc-modified-id=\"Вывод-по-разделу-3.4\"><span class=\"toc-item-num\">3.4&nbsp;&nbsp;</span>Вывод по разделу</a></span></li></ul></li><li><span><a href=\"#Тестирование\" data-toc-modified-id=\"Тестирование-4\"><span class=\"toc-item-num\">4&nbsp;&nbsp;</span>Тестирование</a></span></li><li><span><a href=\"#Общий-вывод\" data-toc-modified-id=\"Общий-вывод-5\"><span class=\"toc-item-num\">5&nbsp;&nbsp;</span>Общий вывод</a></span></li></ul></div>"
   ]
  },
  {
   "cell_type": "markdown",
   "metadata": {},
   "source": [
    "#  Прогнозирование заказов такси"
   ]
  },
  {
   "cell_type": "markdown",
   "metadata": {},
   "source": [
    "Компания «Чётенькое такси» собрала исторические данные о заказах такси в аэропортах. Чтобы привлекать больше водителей в период пиковой нагрузки, нужно спрогнозировать количество заказов такси на следующий час.\n",
    "\n",
    "Задачи:\n",
    "\n",
    "1. Загрузить данные и выполнить их ресемплирование по одному часу.\n",
    "2. Проанализировать данные.\n",
    "3. Обучить разные модели с различными гиперпараметрами.\n",
    "4. Проверить данные на тестовой выборке и сделать выводы."
   ]
  },
  {
   "cell_type": "markdown",
   "metadata": {},
   "source": [
    "## Подготовка"
   ]
  },
  {
   "cell_type": "code",
   "execution_count": 1,
   "metadata": {},
   "outputs": [],
   "source": [
    "# Импортируем нужные библиотеки\n",
    "import pandas as pd\n",
    "import matplotlib.pyplot as plt\n",
    "import seaborn as sns\n",
    "import numpy as np\n",
    "from statsmodels.tsa.seasonal import seasonal_decompose\n",
    "from sklearn.model_selection import train_test_split\n",
    "from sklearn.ensemble import RandomForestRegressor\n",
    "from lightgbm import LGBMRegressor\n",
    "from catboost import CatBoostRegressor\n",
    "from sklearn.tree import DecisionTreeRegressor\n",
    "from sklearn.linear_model import LinearRegression\n",
    "from sklearn.model_selection import RandomizedSearchCV, GridSearchCV, TimeSeriesSplit\n",
    "from sklearn.metrics import mean_squared_error"
   ]
  },
  {
   "cell_type": "code",
   "execution_count": 2,
   "metadata": {},
   "outputs": [],
   "source": [
    "# Задаем значения констант\n",
    "dict_of_month = {\n",
    "                    3: 'Март',\n",
    "                    4: 'Апрель',\n",
    "                    5: 'Май',\n",
    "                    6: 'Июнь',\n",
    "                    7: 'Июль',\n",
    "                    8: 'Август'\n",
    "                }\n",
    "\n",
    "list_days = ['Пн', 'Вт', 'Ср', 'Чт', 'Пт', 'Сб', 'Вс']\n",
    "\n",
    "MAX_LAG = 5\n",
    "\n",
    "RANDOM_STATE = 42\n",
    "TEST_SIZE = 0.1\n",
    "cv = 3"
   ]
  },
  {
   "cell_type": "code",
   "execution_count": 3,
   "metadata": {},
   "outputs": [],
   "source": [
    "# Функция для вывода графика количественных признаков\n",
    "def graph_quant_feature(df, col_name, col_title):\n",
    "    \n",
    "    \"\"\"\n",
    "    Функция в качестве аргументов принимает датафрейм, название столбца, для которого необходимо вывести график, \n",
    "    и общее название для 2-х графиков. Она выводит гистограмму и диаграмму размаха для полученных данных\n",
    "    \"\"\"\n",
    "    \n",
    "    fig, axes = plt.subplots(nrows=1, ncols=2, figsize=(12,6))\n",
    "    \n",
    "    bins = int(np.log2(len(df[col_name])) + 1)\n",
    "    \n",
    "    sns.histplot(df[col_name], bins=bins, ax=axes[0], palette='deep', edgecolor='black')\n",
    "    axes[0].set_xlabel('Число заказов такси')\n",
    "    axes[0].set_ylabel('Количество наблюдений')\n",
    "    axes[0].set_title('Гистограмма')\n",
    "    axes[0].grid(True)\n",
    "    \n",
    "    sns.boxplot(x=df[col_name], orient='h', ax=axes[1], color='orange')\n",
    "    axes[1].set_xlabel('Число заказов такси')\n",
    "    axes[1].set_title('Диаграмма размаха')\n",
    "    \n",
    "    plt.suptitle(col_title)\n",
    "    plt.show()\n",
    "    \n",
    "    print(f'Рассмотрим описательную статистику:\\n{df[col_name].describe()}')"
   ]
  },
  {
   "cell_type": "code",
   "execution_count": 4,
   "metadata": {},
   "outputs": [],
   "source": [
    "# Функция подбора гиперпараметров для модели \n",
    "def best_model_search(model, params, X, y, cv, grid_search=True, vb=0):\n",
    "    \n",
    "    \"\"\"\n",
    "    Выполняет подбор гиперпараметров для модели с использованием кросс-валидации.\n",
    "\n",
    "    Parameters:\n",
    "    ----------\n",
    "    model : sklearn-модель\n",
    "        Объект модели, для которой производится подбор гиперпараметров.\n",
    "    params : dict\n",
    "        Словарь с параметрами и их значениями для перебора.\n",
    "    X : pandas.DataFrame или numpy.ndarray\n",
    "        Признаки обучающей выборки.\n",
    "    y : pandas.Series или numpy.ndarray\n",
    "        Целевая переменная.\n",
    "    randomized_search : bool, по умолчанию True\n",
    "        Если True — используется GridSearchCV, иначе RandomizedSearchCV.\n",
    "    cv : объект кросс-валидации (например, TimeSeriesSplit)\n",
    "        Метод разбиения выборки на тренировочную и валидационную.\n",
    "    vb : int, по умолчанию 0\n",
    "        Уровень логирования (verbose) при обучении.\n",
    "\n",
    "    Возвращает:\n",
    "    -----------\n",
    "    best_model : sklearn-модель\n",
    "        Лучшая модель с оптимальными гиперпараметрами, обученная на всей выборке.\n",
    "    \n",
    "    Также добавляет в глобальный список `results` информацию о модели: \n",
    "    название, лучшие параметры, RMSE по кросс-валидации и время обучения.\n",
    "    \"\"\"\n",
    "    \n",
    "    if grid_search:\n",
    "        grid = GridSearchCV(model,\n",
    "                            params, \n",
    "                            scoring='neg_root_mean_squared_error',\n",
    "                            cv=cv,\n",
    "                            n_jobs=-1,\n",
    "                            verbose=vb)\n",
    "        \n",
    "    else:   \n",
    "        grid = RandomizedSearchCV(model,\n",
    "                                  params, \n",
    "                                  scoring='neg_root_mean_squared_error',\n",
    "                                  cv=cv,\n",
    "                                  n_jobs=-1,\n",
    "                                  verbose=vb,\n",
    "                                  random_state=RANDOM_STATE)\n",
    "        \n",
    "    grid.fit(X, y)\n",
    "      \n",
    "    # Метрика и время лучшей модели\n",
    "    best_model = grid.best_estimator_\n",
    "    rmse_cv = -grid.best_score_\n",
    "    mean_fit_time = grid.cv_results_['mean_fit_time'][grid.best_index_]\n",
    "    mean_score_time = grid.cv_results_['mean_score_time'][grid.best_index_]\n",
    "    \n",
    "    results.append({\n",
    "        'Model': grid.estimator.__class__.__name__,\n",
    "        'Best Params': grid.best_params_,\n",
    "        'Best RMSE (CV)': rmse_cv,\n",
    "        'Mean Fit Time (s)': mean_fit_time,\n",
    "        'Mean Score Time (s)': mean_score_time\n",
    "    })\n",
    "    \n",
    "    return best_model"
   ]
  },
  {
   "cell_type": "code",
   "execution_count": 5,
   "metadata": {},
   "outputs": [
    {
     "data": {
      "text/html": [
       "<div>\n",
       "<style scoped>\n",
       "    .dataframe tbody tr th:only-of-type {\n",
       "        vertical-align: middle;\n",
       "    }\n",
       "\n",
       "    .dataframe tbody tr th {\n",
       "        vertical-align: top;\n",
       "    }\n",
       "\n",
       "    .dataframe thead th {\n",
       "        text-align: right;\n",
       "    }\n",
       "</style>\n",
       "<table border=\"1\" class=\"dataframe\">\n",
       "  <thead>\n",
       "    <tr style=\"text-align: right;\">\n",
       "      <th></th>\n",
       "      <th>datetime</th>\n",
       "      <th>num_orders</th>\n",
       "    </tr>\n",
       "  </thead>\n",
       "  <tbody>\n",
       "    <tr>\n",
       "      <th>0</th>\n",
       "      <td>2018-03-01 00:00:00</td>\n",
       "      <td>9</td>\n",
       "    </tr>\n",
       "    <tr>\n",
       "      <th>1</th>\n",
       "      <td>2018-03-01 00:10:00</td>\n",
       "      <td>14</td>\n",
       "    </tr>\n",
       "    <tr>\n",
       "      <th>2</th>\n",
       "      <td>2018-03-01 00:20:00</td>\n",
       "      <td>28</td>\n",
       "    </tr>\n",
       "    <tr>\n",
       "      <th>3</th>\n",
       "      <td>2018-03-01 00:30:00</td>\n",
       "      <td>20</td>\n",
       "    </tr>\n",
       "    <tr>\n",
       "      <th>4</th>\n",
       "      <td>2018-03-01 00:40:00</td>\n",
       "      <td>32</td>\n",
       "    </tr>\n",
       "  </tbody>\n",
       "</table>\n",
       "</div>"
      ],
      "text/plain": [
       "              datetime  num_orders\n",
       "0  2018-03-01 00:00:00           9\n",
       "1  2018-03-01 00:10:00          14\n",
       "2  2018-03-01 00:20:00          28\n",
       "3  2018-03-01 00:30:00          20\n",
       "4  2018-03-01 00:40:00          32"
      ]
     },
     "execution_count": 5,
     "metadata": {},
     "output_type": "execute_result"
    }
   ],
   "source": [
    "# Загружаем данные о заказах такси в аэропортах.\n",
    "try:\n",
    "    df = pd.read_csv('/datasets/taxi.csv')\n",
    "    \n",
    "except Exception as e:\n",
    "    print(f\"Произошла ошибка: {e}\")\n",
    "\n",
    "# Выводим первые 5 строк загруженных данных\n",
    "df.head()"
   ]
  },
  {
   "cell_type": "code",
   "execution_count": 6,
   "metadata": {
    "scrolled": true
   },
   "outputs": [
    {
     "name": "stdout",
     "output_type": "stream",
     "text": [
      "<class 'pandas.core.frame.DataFrame'>\n",
      "RangeIndex: 26496 entries, 0 to 26495\n",
      "Data columns (total 2 columns):\n",
      " #   Column      Non-Null Count  Dtype \n",
      "---  ------      --------------  ----- \n",
      " 0   datetime    26496 non-null  object\n",
      " 1   num_orders  26496 non-null  int64 \n",
      "dtypes: int64(1), object(1)\n",
      "memory usage: 414.1+ KB\n"
     ]
    }
   ],
   "source": [
    "# Выводим основную информацию по загруженным данным\n",
    "df.info()"
   ]
  },
  {
   "cell_type": "markdown",
   "metadata": {},
   "source": [
    "Названия столбцов соответствуют принятым стандартам, однако данные в столбце datetime следует привести к типу datetime для удобства обработки и анализа"
   ]
  },
  {
   "cell_type": "code",
   "execution_count": 7,
   "metadata": {},
   "outputs": [],
   "source": [
    "# Преобразуем столбец 'datetime' в формат datetime\n",
    "df['datetime'] = pd.to_datetime(df['datetime'])"
   ]
  },
  {
   "cell_type": "code",
   "execution_count": 8,
   "metadata": {},
   "outputs": [
    {
     "name": "stdout",
     "output_type": "stream",
     "text": [
      "Начало: 2018-03-01 00:00:00 \n",
      "Конец: 2018-08-31 23:50:00\n"
     ]
    }
   ],
   "source": [
    "# Находим временной интервал в данных\n",
    "print('Начало:', df['datetime'].min(),\n",
    "     '\\nКонец:', df['datetime'].max())"
   ]
  },
  {
   "cell_type": "code",
   "execution_count": 9,
   "metadata": {},
   "outputs": [
    {
     "data": {
      "text/html": [
       "<div>\n",
       "<style scoped>\n",
       "    .dataframe tbody tr th:only-of-type {\n",
       "        vertical-align: middle;\n",
       "    }\n",
       "\n",
       "    .dataframe tbody tr th {\n",
       "        vertical-align: top;\n",
       "    }\n",
       "\n",
       "    .dataframe thead th {\n",
       "        text-align: right;\n",
       "    }\n",
       "</style>\n",
       "<table border=\"1\" class=\"dataframe\">\n",
       "  <thead>\n",
       "    <tr style=\"text-align: right;\">\n",
       "      <th></th>\n",
       "      <th>num_orders</th>\n",
       "    </tr>\n",
       "  </thead>\n",
       "  <tbody>\n",
       "    <tr>\n",
       "      <th>count</th>\n",
       "      <td>26496.000000</td>\n",
       "    </tr>\n",
       "    <tr>\n",
       "      <th>mean</th>\n",
       "      <td>14.070463</td>\n",
       "    </tr>\n",
       "    <tr>\n",
       "      <th>std</th>\n",
       "      <td>9.211330</td>\n",
       "    </tr>\n",
       "    <tr>\n",
       "      <th>min</th>\n",
       "      <td>0.000000</td>\n",
       "    </tr>\n",
       "    <tr>\n",
       "      <th>25%</th>\n",
       "      <td>8.000000</td>\n",
       "    </tr>\n",
       "    <tr>\n",
       "      <th>50%</th>\n",
       "      <td>13.000000</td>\n",
       "    </tr>\n",
       "    <tr>\n",
       "      <th>75%</th>\n",
       "      <td>19.000000</td>\n",
       "    </tr>\n",
       "    <tr>\n",
       "      <th>max</th>\n",
       "      <td>119.000000</td>\n",
       "    </tr>\n",
       "  </tbody>\n",
       "</table>\n",
       "</div>"
      ],
      "text/plain": [
       "         num_orders\n",
       "count  26496.000000\n",
       "mean      14.070463\n",
       "std        9.211330\n",
       "min        0.000000\n",
       "25%        8.000000\n",
       "50%       13.000000\n",
       "75%       19.000000\n",
       "max      119.000000"
      ]
     },
     "execution_count": 9,
     "metadata": {},
     "output_type": "execute_result"
    }
   ],
   "source": [
    "# Рассмотрим описательную статистику\n",
    "df.describe()"
   ]
  },
  {
   "cell_type": "markdown",
   "metadata": {},
   "source": [
    "Число заказов такси за 10-минутный интервал варьируется от 0 до 119, в среднем составляя 14 заказов"
   ]
  },
  {
   "cell_type": "code",
   "execution_count": 10,
   "metadata": {},
   "outputs": [
    {
     "data": {
      "text/plain": [
       "0"
      ]
     },
     "execution_count": 10,
     "metadata": {},
     "output_type": "execute_result"
    }
   ],
   "source": [
    "# Найдем число полных дубликатов\n",
    "df.duplicated().sum()"
   ]
  },
  {
   "cell_type": "code",
   "execution_count": 11,
   "metadata": {},
   "outputs": [
    {
     "data": {
      "text/html": [
       "<div>\n",
       "<style scoped>\n",
       "    .dataframe tbody tr th:only-of-type {\n",
       "        vertical-align: middle;\n",
       "    }\n",
       "\n",
       "    .dataframe tbody tr th {\n",
       "        vertical-align: top;\n",
       "    }\n",
       "\n",
       "    .dataframe thead th {\n",
       "        text-align: right;\n",
       "    }\n",
       "</style>\n",
       "<table border=\"1\" class=\"dataframe\">\n",
       "  <thead>\n",
       "    <tr style=\"text-align: right;\">\n",
       "      <th></th>\n",
       "      <th>num_orders</th>\n",
       "    </tr>\n",
       "    <tr>\n",
       "      <th>datetime</th>\n",
       "      <th></th>\n",
       "    </tr>\n",
       "  </thead>\n",
       "  <tbody>\n",
       "    <tr>\n",
       "      <th>2018-03-01 00:00:00</th>\n",
       "      <td>9</td>\n",
       "    </tr>\n",
       "    <tr>\n",
       "      <th>2018-03-01 00:10:00</th>\n",
       "      <td>14</td>\n",
       "    </tr>\n",
       "    <tr>\n",
       "      <th>2018-03-01 00:20:00</th>\n",
       "      <td>28</td>\n",
       "    </tr>\n",
       "    <tr>\n",
       "      <th>2018-03-01 00:30:00</th>\n",
       "      <td>20</td>\n",
       "    </tr>\n",
       "    <tr>\n",
       "      <th>2018-03-01 00:40:00</th>\n",
       "      <td>32</td>\n",
       "    </tr>\n",
       "  </tbody>\n",
       "</table>\n",
       "</div>"
      ],
      "text/plain": [
       "                     num_orders\n",
       "datetime                       \n",
       "2018-03-01 00:00:00           9\n",
       "2018-03-01 00:10:00          14\n",
       "2018-03-01 00:20:00          28\n",
       "2018-03-01 00:30:00          20\n",
       "2018-03-01 00:40:00          32"
      ]
     },
     "execution_count": 11,
     "metadata": {},
     "output_type": "execute_result"
    }
   ],
   "source": [
    "# Установим дату индексом датафрейма\n",
    "df = df.set_index('datetime')\n",
    "\n",
    "# Проверяем корректность преобразований\n",
    "df.head()"
   ]
  },
  {
   "cell_type": "code",
   "execution_count": 12,
   "metadata": {},
   "outputs": [
    {
     "data": {
      "text/plain": [
       "True"
      ]
     },
     "execution_count": 12,
     "metadata": {},
     "output_type": "execute_result"
    }
   ],
   "source": [
    "# Проверяем, в хронологическом ли порядке расположены даты и время\n",
    "df.index.is_monotonic"
   ]
  },
  {
   "cell_type": "code",
   "execution_count": 13,
   "metadata": {},
   "outputs": [
    {
     "data": {
      "text/html": [
       "<div>\n",
       "<style scoped>\n",
       "    .dataframe tbody tr th:only-of-type {\n",
       "        vertical-align: middle;\n",
       "    }\n",
       "\n",
       "    .dataframe tbody tr th {\n",
       "        vertical-align: top;\n",
       "    }\n",
       "\n",
       "    .dataframe thead th {\n",
       "        text-align: right;\n",
       "    }\n",
       "</style>\n",
       "<table border=\"1\" class=\"dataframe\">\n",
       "  <thead>\n",
       "    <tr style=\"text-align: right;\">\n",
       "      <th></th>\n",
       "      <th>num_orders</th>\n",
       "    </tr>\n",
       "    <tr>\n",
       "      <th>datetime</th>\n",
       "      <th></th>\n",
       "    </tr>\n",
       "  </thead>\n",
       "  <tbody>\n",
       "    <tr>\n",
       "      <th>2018-03-01 00:00:00</th>\n",
       "      <td>124</td>\n",
       "    </tr>\n",
       "    <tr>\n",
       "      <th>2018-03-01 01:00:00</th>\n",
       "      <td>85</td>\n",
       "    </tr>\n",
       "    <tr>\n",
       "      <th>2018-03-01 02:00:00</th>\n",
       "      <td>71</td>\n",
       "    </tr>\n",
       "    <tr>\n",
       "      <th>2018-03-01 03:00:00</th>\n",
       "      <td>66</td>\n",
       "    </tr>\n",
       "    <tr>\n",
       "      <th>2018-03-01 04:00:00</th>\n",
       "      <td>43</td>\n",
       "    </tr>\n",
       "  </tbody>\n",
       "</table>\n",
       "</div>"
      ],
      "text/plain": [
       "                     num_orders\n",
       "datetime                       \n",
       "2018-03-01 00:00:00         124\n",
       "2018-03-01 01:00:00          85\n",
       "2018-03-01 02:00:00          71\n",
       "2018-03-01 03:00:00          66\n",
       "2018-03-01 04:00:00          43"
      ]
     },
     "execution_count": 13,
     "metadata": {},
     "output_type": "execute_result"
    }
   ],
   "source": [
    "# Выполним ресемплирование по каждому часу\n",
    "resample_df = df.resample('1H').sum()\n",
    "resample_df.head()"
   ]
  },
  {
   "cell_type": "code",
   "execution_count": 14,
   "metadata": {},
   "outputs": [
    {
     "data": {
      "text/plain": [
       "4416"
      ]
     },
     "execution_count": 14,
     "metadata": {},
     "output_type": "execute_result"
    }
   ],
   "source": [
    "# Найдем число записией после ресемплирования\n",
    "resample_df['num_orders'].count()"
   ]
  },
  {
   "cell_type": "markdown",
   "metadata": {},
   "source": [
    "**Вывод по разделу:**\n",
    "- В исходных данных содержится 26496 записей о количестве заказов такси в аэропортах в различные временные промежутки.\n",
    "- Данные охватывают период в 6 месяцев — с 1 марта по 31 августа 2018 года (с интервалом по 10 минут).\n",
    "- Названия столбцов приведены в соответствие с общепринятыми стандартами.\n",
    "- Признак времени был преобразован к типу datetime для удобства последующей работы с ним.\n",
    "- Данные представлены в хронологическом порядке.\n",
    "- После проведения ресемплирования в данных осталось 4416 записей."
   ]
  },
  {
   "cell_type": "markdown",
   "metadata": {},
   "source": [
    "## Анализ"
   ]
  },
  {
   "cell_type": "code",
   "execution_count": 15,
   "metadata": {},
   "outputs": [
    {
     "data": {
      "image/png": "[encoded data removed]",
      "text/plain": [
       "<Figure size 864x432 with 2 Axes>"
      ]
     },
     "metadata": {
      "needs_background": "light"
     },
     "output_type": "display_data"
    },
    {
     "name": "stdout",
     "output_type": "stream",
     "text": [
      "Рассмотрим описательную статистику:\n",
      "count    4416.000000\n",
      "mean       84.422781\n",
      "std        45.023853\n",
      "min         0.000000\n",
      "25%        54.000000\n",
      "50%        78.000000\n",
      "75%       107.000000\n",
      "max       462.000000\n",
      "Name: num_orders, dtype: float64\n"
     ]
    }
   ],
   "source": [
    "# Рассмотрим распределение количества заказов за 1 час\n",
    "graph_quant_feature(resample_df, 'num_orders', 'smth')"
   ]
  },
  {
   "cell_type": "markdown",
   "metadata": {},
   "source": [
    "Большинство наблюдений показывают, что чаще всего в течение одного часа заказывают такси от 54 до 107 раз, в среднем - 84, а значения выше 200 можно считать аномальными"
   ]
  },
  {
   "cell_type": "code",
   "execution_count": 16,
   "metadata": {},
   "outputs": [
    {
     "data": {
      "image/png": "[encoded data removed]",
      "text/plain": [
       "<Figure size 864x576 with 1 Axes>"
      ]
     },
     "metadata": {
      "needs_background": "light"
     },
     "output_type": "display_data"
    }
   ],
   "source": [
    "# Строим график скользящего среднего по неделям\n",
    "resample_df['rolling_mean'] = resample_df['num_orders'].rolling(168).mean()\n",
    "\n",
    "plt.figure(figsize=(12, 8))\n",
    "\n",
    "plt.plot(resample_df['num_orders'], label='Исходный ряд', alpha=0.7)    \n",
    "plt.plot(resample_df['rolling_mean'], label='Скользящее среднее (недяля)', color='green')\n",
    "\n",
    "plt.title('Скользящее среднее количества заказов такси')\n",
    "plt.xlabel('Дата')\n",
    "plt.ylabel('Число заказов')\n",
    "plt.legend()\n",
    "plt.grid(True)\n",
    "plt.show()"
   ]
  },
  {
   "cell_type": "code",
   "execution_count": 17,
   "metadata": {},
   "outputs": [
    {
     "data": {
      "text/html": [
       "<div>\n",
       "<style scoped>\n",
       "    .dataframe tbody tr th:only-of-type {\n",
       "        vertical-align: middle;\n",
       "    }\n",
       "\n",
       "    .dataframe tbody tr th {\n",
       "        vertical-align: top;\n",
       "    }\n",
       "\n",
       "    .dataframe thead th {\n",
       "        text-align: right;\n",
       "    }\n",
       "</style>\n",
       "<table border=\"1\" class=\"dataframe\">\n",
       "  <thead>\n",
       "    <tr style=\"text-align: right;\">\n",
       "      <th></th>\n",
       "      <th>num_orders</th>\n",
       "      <th>rolling_mean</th>\n",
       "      <th>month</th>\n",
       "    </tr>\n",
       "    <tr>\n",
       "      <th>datetime</th>\n",
       "      <th></th>\n",
       "      <th></th>\n",
       "      <th></th>\n",
       "    </tr>\n",
       "  </thead>\n",
       "  <tbody>\n",
       "    <tr>\n",
       "      <th>2018-06-11 13:00:00</th>\n",
       "      <td>68</td>\n",
       "      <td>78.148810</td>\n",
       "      <td>6</td>\n",
       "    </tr>\n",
       "    <tr>\n",
       "      <th>2018-06-24 06:00:00</th>\n",
       "      <td>29</td>\n",
       "      <td>84.523810</td>\n",
       "      <td>6</td>\n",
       "    </tr>\n",
       "    <tr>\n",
       "      <th>2018-06-17 21:00:00</th>\n",
       "      <td>83</td>\n",
       "      <td>85.309524</td>\n",
       "      <td>6</td>\n",
       "    </tr>\n",
       "    <tr>\n",
       "      <th>2018-05-20 11:00:00</th>\n",
       "      <td>51</td>\n",
       "      <td>77.333333</td>\n",
       "      <td>5</td>\n",
       "    </tr>\n",
       "    <tr>\n",
       "      <th>2018-07-20 18:00:00</th>\n",
       "      <td>108</td>\n",
       "      <td>100.375000</td>\n",
       "      <td>7</td>\n",
       "    </tr>\n",
       "  </tbody>\n",
       "</table>\n",
       "</div>"
      ],
      "text/plain": [
       "                     num_orders  rolling_mean  month\n",
       "datetime                                            \n",
       "2018-06-11 13:00:00          68     78.148810      6\n",
       "2018-06-24 06:00:00          29     84.523810      6\n",
       "2018-06-17 21:00:00          83     85.309524      6\n",
       "2018-05-20 11:00:00          51     77.333333      5\n",
       "2018-07-20 18:00:00         108    100.375000      7"
      ]
     },
     "execution_count": 17,
     "metadata": {},
     "output_type": "execute_result"
    }
   ],
   "source": [
    "# Добавим номер месяца в датасет\n",
    "resample_df['month'] = resample_df.index.month\n",
    "\n",
    "# Проверяем корректность преобразований\n",
    "resample_df.sample(5)"
   ]
  },
  {
   "cell_type": "code",
   "execution_count": 18,
   "metadata": {},
   "outputs": [
    {
     "data": {
      "image/png": "[encoded data removed]",
      "text/plain": [
       "<Figure size 720x432 with 1 Axes>"
      ]
     },
     "metadata": {
      "needs_background": "light"
     },
     "output_type": "display_data"
    }
   ],
   "source": [
    "# Строим столбчатую диаграмму\n",
    "plt.figure(figsize=(10, 6))\n",
    "\n",
    "month_avg = resample_df.groupby('month')['num_orders'].mean().reset_index()\n",
    "\n",
    "sns.barplot(data=month_avg, x='month', y='num_orders', palette='Blues')\n",
    "\n",
    "plt.title('Среднее количество заказов такси по месяцам')\n",
    "plt.xlabel('Номер месяца')\n",
    "plt.ylabel('Среднее число заказов')\n",
    "plt.xticks(rotation=0)\n",
    "plt.grid(True, axis='y')\n",
    "plt.tight_layout()\n",
    "plt.show()"
   ]
  },
  {
   "cell_type": "markdown",
   "metadata": {},
   "source": [
    "На графиках заметна тенденция роста среднего количества заказов такси по мере приближения к концу анализируемого периода"
   ]
  },
  {
   "cell_type": "markdown",
   "metadata": {},
   "source": [
    "Выявить полноценную сезонность не представляется возможным, поскольку данные охватывают лишь шестимесячный период в пределах одного года. Тем не менее, можно проанализировать тенденции внутри каждого месяца"
   ]
  },
  {
   "cell_type": "code",
   "execution_count": 19,
   "metadata": {},
   "outputs": [
    {
     "data": {
      "image/png": "[encoded data removed]",
      "text/plain": [
       "<Figure size 864x720 with 6 Axes>"
      ]
     },
     "metadata": {
      "needs_background": "light"
     },
     "output_type": "display_data"
    }
   ],
   "source": [
    "# Строим график столбчатой диаграммы для каждого месяца отдельно\n",
    "fig, axes = plt.subplots(nrows=3, ncols=2, figsize=(12, 10))\n",
    "axes = axes.flatten()\n",
    "\n",
    "for i, month in enumerate(range(3, 9)):\n",
    "    \n",
    "    month_data = resample_df[resample_df['month'] == month]\n",
    "    \n",
    "    sns.barplot(x=month_data.index.day, y=month_data['num_orders'], ax=axes[i], palette='Blues')\n",
    "    \n",
    "    axes[i].set_title(f'Число заказов за {dict_of_month[month]}')\n",
    "    axes[i].set_xlabel('День месяца')\n",
    "    axes[i].set_ylabel('Число заказов')\n",
    "    axes[i].grid(True)\n",
    "\n",
    "plt.tight_layout()\n",
    "plt.show()"
   ]
  },
  {
   "cell_type": "markdown",
   "metadata": {},
   "source": [
    "Наблюдается снижение числа заказов примерно к 5-му дню месяца, за которым следует рост, обычно продолжающийся до конца месяца"
   ]
  },
  {
   "cell_type": "code",
   "execution_count": 20,
   "metadata": {},
   "outputs": [
    {
     "data": {
      "text/html": [
       "<div>\n",
       "<style scoped>\n",
       "    .dataframe tbody tr th:only-of-type {\n",
       "        vertical-align: middle;\n",
       "    }\n",
       "\n",
       "    .dataframe tbody tr th {\n",
       "        vertical-align: top;\n",
       "    }\n",
       "\n",
       "    .dataframe thead th {\n",
       "        text-align: right;\n",
       "    }\n",
       "</style>\n",
       "<table border=\"1\" class=\"dataframe\">\n",
       "  <thead>\n",
       "    <tr style=\"text-align: right;\">\n",
       "      <th></th>\n",
       "      <th>num_orders</th>\n",
       "      <th>rolling_mean</th>\n",
       "      <th>month</th>\n",
       "      <th>day_of_month</th>\n",
       "      <th>weekday</th>\n",
       "    </tr>\n",
       "    <tr>\n",
       "      <th>datetime</th>\n",
       "      <th></th>\n",
       "      <th></th>\n",
       "      <th></th>\n",
       "      <th></th>\n",
       "      <th></th>\n",
       "    </tr>\n",
       "  </thead>\n",
       "  <tbody>\n",
       "    <tr>\n",
       "      <th>2018-06-25 09:00:00</th>\n",
       "      <td>101</td>\n",
       "      <td>85.005952</td>\n",
       "      <td>6</td>\n",
       "      <td>25</td>\n",
       "      <td>0</td>\n",
       "    </tr>\n",
       "    <tr>\n",
       "      <th>2018-08-17 23:00:00</th>\n",
       "      <td>155</td>\n",
       "      <td>124.803571</td>\n",
       "      <td>8</td>\n",
       "      <td>17</td>\n",
       "      <td>4</td>\n",
       "    </tr>\n",
       "    <tr>\n",
       "      <th>2018-07-19 23:00:00</th>\n",
       "      <td>152</td>\n",
       "      <td>99.869048</td>\n",
       "      <td>7</td>\n",
       "      <td>19</td>\n",
       "      <td>3</td>\n",
       "    </tr>\n",
       "    <tr>\n",
       "      <th>2018-06-03 14:00:00</th>\n",
       "      <td>68</td>\n",
       "      <td>74.726190</td>\n",
       "      <td>6</td>\n",
       "      <td>3</td>\n",
       "      <td>6</td>\n",
       "    </tr>\n",
       "    <tr>\n",
       "      <th>2018-05-10 06:00:00</th>\n",
       "      <td>18</td>\n",
       "      <td>65.226190</td>\n",
       "      <td>5</td>\n",
       "      <td>10</td>\n",
       "      <td>3</td>\n",
       "    </tr>\n",
       "  </tbody>\n",
       "</table>\n",
       "</div>"
      ],
      "text/plain": [
       "                     num_orders  rolling_mean  month  day_of_month  weekday\n",
       "datetime                                                                   \n",
       "2018-06-25 09:00:00         101     85.005952      6            25        0\n",
       "2018-08-17 23:00:00         155    124.803571      8            17        4\n",
       "2018-07-19 23:00:00         152     99.869048      7            19        3\n",
       "2018-06-03 14:00:00          68     74.726190      6             3        6\n",
       "2018-05-10 06:00:00          18     65.226190      5            10        3"
      ]
     },
     "execution_count": 20,
     "metadata": {},
     "output_type": "execute_result"
    }
   ],
   "source": [
    "# Добавим номер дня месяца и дня недели в датасет\n",
    "resample_df['day_of_month'] = resample_df.index.day\n",
    "resample_df['weekday'] = resample_df.index.weekday\n",
    "\n",
    "# Проверяем корректность преобразований\n",
    "resample_df.sample(5)"
   ]
  },
  {
   "cell_type": "code",
   "execution_count": 21,
   "metadata": {},
   "outputs": [
    {
     "data": {
      "image/png": "[encoded data removed]",
      "text/plain": [
       "<Figure size 576x432 with 1 Axes>"
      ]
     },
     "metadata": {
      "needs_background": "light"
     },
     "output_type": "display_data"
    }
   ],
   "source": [
    "# Строим график медианного значения числа поездок по дням недели\n",
    "median_by_weekday = resample_df.groupby('weekday')['num_orders'].median()\n",
    "\n",
    "plt.figure(figsize=(8, 6))\n",
    "\n",
    "sns.barplot(x=list_days, y=median_by_weekday, palette='Blues')\n",
    "\n",
    "plt.title('Медиана числа поездок по дням недели')\n",
    "plt.xlabel('День недели')\n",
    "plt.ylabel('Медиана числа поездок в час')\n",
    "plt.grid(True, axis='y')\n",
    "plt.tight_layout()\n",
    "plt.show()"
   ]
  },
  {
   "cell_type": "markdown",
   "metadata": {},
   "source": [
    "При сравнении медианного значения числа поездок самыми популярными днями недели являются пятница, понедельник и среда, а наименьшее количество заказов наблюдается во вторник, воскресенье и субботу"
   ]
  },
  {
   "cell_type": "code",
   "execution_count": 22,
   "metadata": {},
   "outputs": [],
   "source": [
    "# Разложение временного ряда на тренд, сезонность и остаток\n",
    "decomposed = seasonal_decompose(resample_df.iloc[:, :1])"
   ]
  },
  {
   "cell_type": "code",
   "execution_count": 23,
   "metadata": {},
   "outputs": [
    {
     "data": {
      "image/png": "[encoded data removed]",
      "text/plain": [
       "<Figure size 720x576 with 1 Axes>"
      ]
     },
     "metadata": {
      "needs_background": "light"
     },
     "output_type": "display_data"
    }
   ],
   "source": [
    "# Строим график тренда заказов такси\n",
    "plt.figure(figsize=(10, 8))\n",
    "\n",
    "decomposed.trend.plot()\n",
    "\n",
    "plt.title('Тренд заказов такси')\n",
    "plt.xlabel('Дата')\n",
    "plt.ylabel('Число заказов')\n",
    "plt.legend()\n",
    "plt.grid(True)\n",
    "plt.tight_layout()\n",
    "plt.show()"
   ]
  },
  {
   "cell_type": "markdown",
   "metadata": {},
   "source": [
    "На графике наблюдается явный восходящий тренд на всем участке рассматриваемых данных, с резким ростом в августе"
   ]
  },
  {
   "cell_type": "code",
   "execution_count": 24,
   "metadata": {},
   "outputs": [
    {
     "data": {
      "image/png": "[encoded data removed]",
      "text/plain": [
       "<Figure size 720x576 with 1 Axes>"
      ]
     },
     "metadata": {
      "needs_background": "light"
     },
     "output_type": "display_data"
    }
   ],
   "source": [
    "# Строим график остатков\n",
    "plt.figure(figsize=(10, 8))\n",
    "\n",
    "decomposed.resid.plot()\n",
    "\n",
    "plt.title('Остатки заказов такси')\n",
    "plt.xlabel('Дата')\n",
    "plt.ylabel('Остатки')\n",
    "plt.legend()\n",
    "plt.grid(True)\n",
    "plt.tight_layout()\n",
    "plt.show()"
   ]
  },
  {
   "cell_type": "markdown",
   "metadata": {},
   "source": [
    "На графике остатков видны выбросы в августе, что может свидетельствовать о аномальных значениях числа заказов в этом месяце."
   ]
  },
  {
   "cell_type": "markdown",
   "metadata": {},
   "source": [
    "Исходя из личного опыта, добавим отдельную переменную — час дня, поскольку многие регулярные рейсы вылетают и прилетают в одно и то же время, что приводит к повышенному спросу на такси в эти часы"
   ]
  },
  {
   "cell_type": "code",
   "execution_count": 25,
   "metadata": {},
   "outputs": [
    {
     "data": {
      "text/html": [
       "<div>\n",
       "<style scoped>\n",
       "    .dataframe tbody tr th:only-of-type {\n",
       "        vertical-align: middle;\n",
       "    }\n",
       "\n",
       "    .dataframe tbody tr th {\n",
       "        vertical-align: top;\n",
       "    }\n",
       "\n",
       "    .dataframe thead th {\n",
       "        text-align: right;\n",
       "    }\n",
       "</style>\n",
       "<table border=\"1\" class=\"dataframe\">\n",
       "  <thead>\n",
       "    <tr style=\"text-align: right;\">\n",
       "      <th></th>\n",
       "      <th>num_orders</th>\n",
       "      <th>rolling_mean</th>\n",
       "      <th>month</th>\n",
       "      <th>day_of_month</th>\n",
       "      <th>weekday</th>\n",
       "      <th>hour</th>\n",
       "    </tr>\n",
       "    <tr>\n",
       "      <th>datetime</th>\n",
       "      <th></th>\n",
       "      <th></th>\n",
       "      <th></th>\n",
       "      <th></th>\n",
       "      <th></th>\n",
       "      <th></th>\n",
       "    </tr>\n",
       "  </thead>\n",
       "  <tbody>\n",
       "    <tr>\n",
       "      <th>2018-03-07 02:00:00</th>\n",
       "      <td>24</td>\n",
       "      <td>NaN</td>\n",
       "      <td>3</td>\n",
       "      <td>7</td>\n",
       "      <td>2</td>\n",
       "      <td>2</td>\n",
       "    </tr>\n",
       "    <tr>\n",
       "      <th>2018-08-25 08:00:00</th>\n",
       "      <td>108</td>\n",
       "      <td>133.35119</td>\n",
       "      <td>8</td>\n",
       "      <td>25</td>\n",
       "      <td>5</td>\n",
       "      <td>8</td>\n",
       "    </tr>\n",
       "    <tr>\n",
       "      <th>2018-07-02 20:00:00</th>\n",
       "      <td>89</td>\n",
       "      <td>90.25000</td>\n",
       "      <td>7</td>\n",
       "      <td>2</td>\n",
       "      <td>0</td>\n",
       "      <td>20</td>\n",
       "    </tr>\n",
       "  </tbody>\n",
       "</table>\n",
       "</div>"
      ],
      "text/plain": [
       "                     num_orders  rolling_mean  month  day_of_month  weekday  \\\n",
       "datetime                                                                      \n",
       "2018-03-07 02:00:00          24           NaN      3             7        2   \n",
       "2018-08-25 08:00:00         108     133.35119      8            25        5   \n",
       "2018-07-02 20:00:00          89      90.25000      7             2        0   \n",
       "\n",
       "                     hour  \n",
       "datetime                   \n",
       "2018-03-07 02:00:00     2  \n",
       "2018-08-25 08:00:00     8  \n",
       "2018-07-02 20:00:00    20  "
      ]
     },
     "execution_count": 25,
     "metadata": {},
     "output_type": "execute_result"
    }
   ],
   "source": [
    "# Добавим час дня в датасет\n",
    "resample_df['hour'] = resample_df.index.hour\n",
    "\n",
    "# Проверяем корректность преобразований\n",
    "resample_df.sample(3)"
   ]
  },
  {
   "cell_type": "markdown",
   "metadata": {},
   "source": [
    "Рассмотрим сезонность"
   ]
  },
  {
   "cell_type": "code",
   "execution_count": 26,
   "metadata": {},
   "outputs": [
    {
     "data": {
      "image/png": "[encoded data removed]",
      "text/plain": [
       "<Figure size 864x576 with 2 Axes>"
      ]
     },
     "metadata": {
      "needs_background": "light"
     },
     "output_type": "display_data"
    }
   ],
   "source": [
    "fig, axes = plt.subplots(2, 1, figsize=(12, 8))\n",
    "\n",
    "week_df = resample_df['num_orders']['2018-04-01' : '2018-04-07']\n",
    "seasonal_decompose(week_df).seasonal.plot(ax=axes[0])\n",
    "axes[0].set_xlabel('Дата')\n",
    "axes[0].set_ylabel('Отклонение от тренда')\n",
    "axes[0].set_title('Сезонная компонента (сутки)')\n",
    "axes[0].grid(True)\n",
    "\n",
    "month_df = resample_df['num_orders'].resample('1D').sum()['2018-04-01' : '2018-05-01']\n",
    "seasonal_decompose(month_df).seasonal.plot(ax=axes[1])\n",
    "axes[1].set_xlabel('Дата')\n",
    "axes[1].set_ylabel('Отклонение от тренда')\n",
    "axes[1].set_title('Сезонная компонента (неделя)')\n",
    "axes[1].grid(True)\n",
    "\n",
    "plt.tight_layout()\n",
    "plt.show()"
   ]
  },
  {
   "cell_type": "markdown",
   "metadata": {},
   "source": [
    "Из графиков можно сделать вывод, что спрос на такси значительно снижается ночью, что отражается в меньшем количестве заказов. С утра начинается рост заказов, который продолжается до вечера, достигая пика в районе полуночи. На графике, отображающем сезонность в течение недели, видно, что в понедельник и особенно в пятницу количество заказов достигает пиковых значений, в то время как во вторник наблюдается минимум."
   ]
  },
  {
   "cell_type": "markdown",
   "metadata": {},
   "source": [
    "**Вывод по разделу:**\n",
    "- Число заказов такси в течение часа варьируется от 54 до 107, в среднем — 84. Значения выше 200 считаются аномальными.\n",
    "- На графиках видно, что количество заказов растет в конце периода, с пиком в августе\n",
    "- В течение месяца также наблюдается увеличение числа заказов такси ближе к концу месяца.\n",
    "- Чаще всего заказы такси делают в пятницу, реже — во вторник.\n",
    "- В датасет добавлены новые признаки: номер месяца (month), день месяца (day_of_month), день недели (weekday) и час дня (hour)."
   ]
  },
  {
   "cell_type": "markdown",
   "metadata": {},
   "source": [
    "## Обучение"
   ]
  },
  {
   "cell_type": "markdown",
   "metadata": {},
   "source": [
    "### Создание признаков"
   ]
  },
  {
   "cell_type": "markdown",
   "metadata": {},
   "source": [
    "Изменим параметр скользящего среднего (rolling_mean), установив окно в 3 часа и исключив текущее значение из расчета"
   ]
  },
  {
   "cell_type": "code",
   "execution_count": 27,
   "metadata": {},
   "outputs": [
    {
     "data": {
      "text/html": [
       "<div>\n",
       "<style scoped>\n",
       "    .dataframe tbody tr th:only-of-type {\n",
       "        vertical-align: middle;\n",
       "    }\n",
       "\n",
       "    .dataframe tbody tr th {\n",
       "        vertical-align: top;\n",
       "    }\n",
       "\n",
       "    .dataframe thead th {\n",
       "        text-align: right;\n",
       "    }\n",
       "</style>\n",
       "<table border=\"1\" class=\"dataframe\">\n",
       "  <thead>\n",
       "    <tr style=\"text-align: right;\">\n",
       "      <th></th>\n",
       "      <th>num_orders</th>\n",
       "      <th>rolling_mean</th>\n",
       "      <th>month</th>\n",
       "      <th>day_of_month</th>\n",
       "      <th>weekday</th>\n",
       "      <th>hour</th>\n",
       "    </tr>\n",
       "    <tr>\n",
       "      <th>datetime</th>\n",
       "      <th></th>\n",
       "      <th></th>\n",
       "      <th></th>\n",
       "      <th></th>\n",
       "      <th></th>\n",
       "      <th></th>\n",
       "    </tr>\n",
       "  </thead>\n",
       "  <tbody>\n",
       "    <tr>\n",
       "      <th>2018-07-02 10:00:00</th>\n",
       "      <td>133</td>\n",
       "      <td>73.000000</td>\n",
       "      <td>7</td>\n",
       "      <td>2</td>\n",
       "      <td>0</td>\n",
       "      <td>10</td>\n",
       "    </tr>\n",
       "    <tr>\n",
       "      <th>2018-07-06 18:00:00</th>\n",
       "      <td>122</td>\n",
       "      <td>104.333333</td>\n",
       "      <td>7</td>\n",
       "      <td>6</td>\n",
       "      <td>4</td>\n",
       "      <td>18</td>\n",
       "    </tr>\n",
       "    <tr>\n",
       "      <th>2018-03-18 17:00:00</th>\n",
       "      <td>40</td>\n",
       "      <td>59.666667</td>\n",
       "      <td>3</td>\n",
       "      <td>18</td>\n",
       "      <td>6</td>\n",
       "      <td>17</td>\n",
       "    </tr>\n",
       "  </tbody>\n",
       "</table>\n",
       "</div>"
      ],
      "text/plain": [
       "                     num_orders  rolling_mean  month  day_of_month  weekday  \\\n",
       "datetime                                                                      \n",
       "2018-07-02 10:00:00         133     73.000000      7             2        0   \n",
       "2018-07-06 18:00:00         122    104.333333      7             6        4   \n",
       "2018-03-18 17:00:00          40     59.666667      3            18        6   \n",
       "\n",
       "                     hour  \n",
       "datetime                   \n",
       "2018-07-02 10:00:00    10  \n",
       "2018-07-06 18:00:00    18  \n",
       "2018-03-18 17:00:00    17  "
      ]
     },
     "execution_count": 27,
     "metadata": {},
     "output_type": "execute_result"
    }
   ],
   "source": [
    "# Вносим изменения\n",
    "resample_df['rolling_mean'] = resample_df['num_orders'].shift().rolling(3).mean()\n",
    "\n",
    "# Проверяем корректность преобразований\n",
    "resample_df.sample(3)"
   ]
  },
  {
   "cell_type": "code",
   "execution_count": 28,
   "metadata": {},
   "outputs": [
    {
     "data": {
      "text/html": [
       "<div>\n",
       "<style scoped>\n",
       "    .dataframe tbody tr th:only-of-type {\n",
       "        vertical-align: middle;\n",
       "    }\n",
       "\n",
       "    .dataframe tbody tr th {\n",
       "        vertical-align: top;\n",
       "    }\n",
       "\n",
       "    .dataframe thead th {\n",
       "        text-align: right;\n",
       "    }\n",
       "</style>\n",
       "<table border=\"1\" class=\"dataframe\">\n",
       "  <thead>\n",
       "    <tr style=\"text-align: right;\">\n",
       "      <th></th>\n",
       "      <th>num_orders</th>\n",
       "      <th>rolling_mean</th>\n",
       "      <th>month</th>\n",
       "      <th>day_of_month</th>\n",
       "      <th>weekday</th>\n",
       "      <th>hour</th>\n",
       "      <th>lag_1</th>\n",
       "      <th>lag_2</th>\n",
       "      <th>lag_3</th>\n",
       "      <th>lag_4</th>\n",
       "      <th>lag_5</th>\n",
       "    </tr>\n",
       "    <tr>\n",
       "      <th>datetime</th>\n",
       "      <th></th>\n",
       "      <th></th>\n",
       "      <th></th>\n",
       "      <th></th>\n",
       "      <th></th>\n",
       "      <th></th>\n",
       "      <th></th>\n",
       "      <th></th>\n",
       "      <th></th>\n",
       "      <th></th>\n",
       "      <th></th>\n",
       "    </tr>\n",
       "  </thead>\n",
       "  <tbody>\n",
       "    <tr>\n",
       "      <th>2018-03-01 00:00:00</th>\n",
       "      <td>124</td>\n",
       "      <td>NaN</td>\n",
       "      <td>3</td>\n",
       "      <td>1</td>\n",
       "      <td>3</td>\n",
       "      <td>0</td>\n",
       "      <td>NaN</td>\n",
       "      <td>NaN</td>\n",
       "      <td>NaN</td>\n",
       "      <td>NaN</td>\n",
       "      <td>NaN</td>\n",
       "    </tr>\n",
       "    <tr>\n",
       "      <th>2018-03-01 01:00:00</th>\n",
       "      <td>85</td>\n",
       "      <td>NaN</td>\n",
       "      <td>3</td>\n",
       "      <td>1</td>\n",
       "      <td>3</td>\n",
       "      <td>1</td>\n",
       "      <td>124.0</td>\n",
       "      <td>NaN</td>\n",
       "      <td>NaN</td>\n",
       "      <td>NaN</td>\n",
       "      <td>NaN</td>\n",
       "    </tr>\n",
       "    <tr>\n",
       "      <th>2018-03-01 02:00:00</th>\n",
       "      <td>71</td>\n",
       "      <td>NaN</td>\n",
       "      <td>3</td>\n",
       "      <td>1</td>\n",
       "      <td>3</td>\n",
       "      <td>2</td>\n",
       "      <td>85.0</td>\n",
       "      <td>124.0</td>\n",
       "      <td>NaN</td>\n",
       "      <td>NaN</td>\n",
       "      <td>NaN</td>\n",
       "    </tr>\n",
       "    <tr>\n",
       "      <th>2018-03-01 03:00:00</th>\n",
       "      <td>66</td>\n",
       "      <td>93.333333</td>\n",
       "      <td>3</td>\n",
       "      <td>1</td>\n",
       "      <td>3</td>\n",
       "      <td>3</td>\n",
       "      <td>71.0</td>\n",
       "      <td>85.0</td>\n",
       "      <td>124.0</td>\n",
       "      <td>NaN</td>\n",
       "      <td>NaN</td>\n",
       "    </tr>\n",
       "    <tr>\n",
       "      <th>2018-03-01 04:00:00</th>\n",
       "      <td>43</td>\n",
       "      <td>74.000000</td>\n",
       "      <td>3</td>\n",
       "      <td>1</td>\n",
       "      <td>3</td>\n",
       "      <td>4</td>\n",
       "      <td>66.0</td>\n",
       "      <td>71.0</td>\n",
       "      <td>85.0</td>\n",
       "      <td>124.0</td>\n",
       "      <td>NaN</td>\n",
       "    </tr>\n",
       "    <tr>\n",
       "      <th>2018-03-01 05:00:00</th>\n",
       "      <td>6</td>\n",
       "      <td>60.000000</td>\n",
       "      <td>3</td>\n",
       "      <td>1</td>\n",
       "      <td>3</td>\n",
       "      <td>5</td>\n",
       "      <td>43.0</td>\n",
       "      <td>66.0</td>\n",
       "      <td>71.0</td>\n",
       "      <td>85.0</td>\n",
       "      <td>124.0</td>\n",
       "    </tr>\n",
       "    <tr>\n",
       "      <th>2018-03-01 06:00:00</th>\n",
       "      <td>12</td>\n",
       "      <td>38.333333</td>\n",
       "      <td>3</td>\n",
       "      <td>1</td>\n",
       "      <td>3</td>\n",
       "      <td>6</td>\n",
       "      <td>6.0</td>\n",
       "      <td>43.0</td>\n",
       "      <td>66.0</td>\n",
       "      <td>71.0</td>\n",
       "      <td>85.0</td>\n",
       "    </tr>\n",
       "  </tbody>\n",
       "</table>\n",
       "</div>"
      ],
      "text/plain": [
       "                     num_orders  rolling_mean  month  day_of_month  weekday  \\\n",
       "datetime                                                                      \n",
       "2018-03-01 00:00:00         124           NaN      3             1        3   \n",
       "2018-03-01 01:00:00          85           NaN      3             1        3   \n",
       "2018-03-01 02:00:00          71           NaN      3             1        3   \n",
       "2018-03-01 03:00:00          66     93.333333      3             1        3   \n",
       "2018-03-01 04:00:00          43     74.000000      3             1        3   \n",
       "2018-03-01 05:00:00           6     60.000000      3             1        3   \n",
       "2018-03-01 06:00:00          12     38.333333      3             1        3   \n",
       "\n",
       "                     hour  lag_1  lag_2  lag_3  lag_4  lag_5  \n",
       "datetime                                                      \n",
       "2018-03-01 00:00:00     0    NaN    NaN    NaN    NaN    NaN  \n",
       "2018-03-01 01:00:00     1  124.0    NaN    NaN    NaN    NaN  \n",
       "2018-03-01 02:00:00     2   85.0  124.0    NaN    NaN    NaN  \n",
       "2018-03-01 03:00:00     3   71.0   85.0  124.0    NaN    NaN  \n",
       "2018-03-01 04:00:00     4   66.0   71.0   85.0  124.0    NaN  \n",
       "2018-03-01 05:00:00     5   43.0   66.0   71.0   85.0  124.0  \n",
       "2018-03-01 06:00:00     6    6.0   43.0   66.0   71.0   85.0  "
      ]
     },
     "execution_count": 28,
     "metadata": {},
     "output_type": "execute_result"
    }
   ],
   "source": [
    "# Создаем отстающие признаки\n",
    "for lag in range(1, MAX_LAG + 1):\n",
    "    resample_df[f'lag_{lag}'] = resample_df['num_orders'].shift(lag) \n",
    "    \n",
    "# Проверяем корректность преобразований\n",
    "resample_df.head(7)"
   ]
  },
  {
   "cell_type": "code",
   "execution_count": 29,
   "metadata": {},
   "outputs": [
    {
     "data": {
      "text/html": [
       "<div>\n",
       "<style scoped>\n",
       "    .dataframe tbody tr th:only-of-type {\n",
       "        vertical-align: middle;\n",
       "    }\n",
       "\n",
       "    .dataframe tbody tr th {\n",
       "        vertical-align: top;\n",
       "    }\n",
       "\n",
       "    .dataframe thead th {\n",
       "        text-align: right;\n",
       "    }\n",
       "</style>\n",
       "<table border=\"1\" class=\"dataframe\">\n",
       "  <thead>\n",
       "    <tr style=\"text-align: right;\">\n",
       "      <th></th>\n",
       "      <th>num_orders</th>\n",
       "      <th>rolling_mean</th>\n",
       "      <th>month</th>\n",
       "      <th>day_of_month</th>\n",
       "      <th>weekday</th>\n",
       "      <th>hour</th>\n",
       "      <th>lag_1</th>\n",
       "      <th>lag_2</th>\n",
       "      <th>lag_3</th>\n",
       "      <th>lag_4</th>\n",
       "      <th>lag_5</th>\n",
       "    </tr>\n",
       "    <tr>\n",
       "      <th>datetime</th>\n",
       "      <th></th>\n",
       "      <th></th>\n",
       "      <th></th>\n",
       "      <th></th>\n",
       "      <th></th>\n",
       "      <th></th>\n",
       "      <th></th>\n",
       "      <th></th>\n",
       "      <th></th>\n",
       "      <th></th>\n",
       "      <th></th>\n",
       "    </tr>\n",
       "  </thead>\n",
       "  <tbody>\n",
       "    <tr>\n",
       "      <th>2018-03-01 05:00:00</th>\n",
       "      <td>6</td>\n",
       "      <td>60.000000</td>\n",
       "      <td>3</td>\n",
       "      <td>1</td>\n",
       "      <td>3</td>\n",
       "      <td>5</td>\n",
       "      <td>43.0</td>\n",
       "      <td>66.0</td>\n",
       "      <td>71.0</td>\n",
       "      <td>85.0</td>\n",
       "      <td>124.0</td>\n",
       "    </tr>\n",
       "    <tr>\n",
       "      <th>2018-03-01 06:00:00</th>\n",
       "      <td>12</td>\n",
       "      <td>38.333333</td>\n",
       "      <td>3</td>\n",
       "      <td>1</td>\n",
       "      <td>3</td>\n",
       "      <td>6</td>\n",
       "      <td>6.0</td>\n",
       "      <td>43.0</td>\n",
       "      <td>66.0</td>\n",
       "      <td>71.0</td>\n",
       "      <td>85.0</td>\n",
       "    </tr>\n",
       "    <tr>\n",
       "      <th>2018-03-01 07:00:00</th>\n",
       "      <td>15</td>\n",
       "      <td>20.333333</td>\n",
       "      <td>3</td>\n",
       "      <td>1</td>\n",
       "      <td>3</td>\n",
       "      <td>7</td>\n",
       "      <td>12.0</td>\n",
       "      <td>6.0</td>\n",
       "      <td>43.0</td>\n",
       "      <td>66.0</td>\n",
       "      <td>71.0</td>\n",
       "    </tr>\n",
       "    <tr>\n",
       "      <th>2018-03-01 08:00:00</th>\n",
       "      <td>34</td>\n",
       "      <td>11.000000</td>\n",
       "      <td>3</td>\n",
       "      <td>1</td>\n",
       "      <td>3</td>\n",
       "      <td>8</td>\n",
       "      <td>15.0</td>\n",
       "      <td>12.0</td>\n",
       "      <td>6.0</td>\n",
       "      <td>43.0</td>\n",
       "      <td>66.0</td>\n",
       "    </tr>\n",
       "    <tr>\n",
       "      <th>2018-03-01 09:00:00</th>\n",
       "      <td>69</td>\n",
       "      <td>20.333333</td>\n",
       "      <td>3</td>\n",
       "      <td>1</td>\n",
       "      <td>3</td>\n",
       "      <td>9</td>\n",
       "      <td>34.0</td>\n",
       "      <td>15.0</td>\n",
       "      <td>12.0</td>\n",
       "      <td>6.0</td>\n",
       "      <td>43.0</td>\n",
       "    </tr>\n",
       "  </tbody>\n",
       "</table>\n",
       "</div>"
      ],
      "text/plain": [
       "                     num_orders  rolling_mean  month  day_of_month  weekday  \\\n",
       "datetime                                                                      \n",
       "2018-03-01 05:00:00           6     60.000000      3             1        3   \n",
       "2018-03-01 06:00:00          12     38.333333      3             1        3   \n",
       "2018-03-01 07:00:00          15     20.333333      3             1        3   \n",
       "2018-03-01 08:00:00          34     11.000000      3             1        3   \n",
       "2018-03-01 09:00:00          69     20.333333      3             1        3   \n",
       "\n",
       "                     hour  lag_1  lag_2  lag_3  lag_4  lag_5  \n",
       "datetime                                                      \n",
       "2018-03-01 05:00:00     5   43.0   66.0   71.0   85.0  124.0  \n",
       "2018-03-01 06:00:00     6    6.0   43.0   66.0   71.0   85.0  \n",
       "2018-03-01 07:00:00     7   12.0    6.0   43.0   66.0   71.0  \n",
       "2018-03-01 08:00:00     8   15.0   12.0    6.0   43.0   66.0  \n",
       "2018-03-01 09:00:00     9   34.0   15.0   12.0    6.0   43.0  "
      ]
     },
     "execution_count": 29,
     "metadata": {},
     "output_type": "execute_result"
    }
   ],
   "source": [
    "# Удалим все запипси с пустыми значениями\n",
    "resample_df.dropna(inplace=True)\n",
    "\n",
    "# Проверяем корректность преобразований\n",
    "resample_df.head()"
   ]
  },
  {
   "cell_type": "markdown",
   "metadata": {},
   "source": [
    "### Разделение датасета на выборки"
   ]
  },
  {
   "cell_type": "code",
   "execution_count": 30,
   "metadata": {},
   "outputs": [
    {
     "data": {
      "text/plain": [
       "((3969, 10), (442, 10))"
      ]
     },
     "execution_count": 30,
     "metadata": {},
     "output_type": "execute_result"
    }
   ],
   "source": [
    "# Разделяем исходные данные на обучающую и тестовую выборки\n",
    "X = resample_df.drop('num_orders', axis=1)\n",
    "y = resample_df['num_orders']\n",
    "\n",
    "cat_cols = resample_df.select_dtypes(include='int64').columns.tolist()[1:]\n",
    "resample_df[cat_cols] = resample_df[cat_cols].astype('category')\n",
    "\n",
    "num_cols = resample_df.select_dtypes(include='float64').columns.tolist()\n",
    "\n",
    "X_train, X_test, y_train, y_test = train_test_split(\n",
    "                                                    X, \n",
    "                                                    y, \n",
    "                                                    test_size=TEST_SIZE, \n",
    "                                                    random_state=RANDOM_STATE)\n",
    "\n",
    "# Рассмотрим размеры сформированных выборок\n",
    "X_train.shape, X_test.shape"
   ]
  },
  {
   "cell_type": "markdown",
   "metadata": {},
   "source": [
    "Проверяем, что данные разделились правильно"
   ]
  },
  {
   "cell_type": "code",
   "execution_count": 31,
   "metadata": {},
   "outputs": [
    {
     "data": {
      "text/plain": [
       "[Timestamp('2018-08-13 12:00:00', freq='H'),\n",
       " Timestamp('2018-08-13 13:00:00', freq='H')]"
      ]
     },
     "execution_count": 31,
     "metadata": {},
     "output_type": "execute_result"
    }
   ],
   "source": [
    "# Последние 2 записи в тренировочной выборке\n",
    "X_train[-2:].index.to_list()"
   ]
  },
  {
   "cell_type": "code",
   "execution_count": 32,
   "metadata": {},
   "outputs": [
    {
     "data": {
      "text/plain": [
       "[Timestamp('2018-08-13 14:00:00', freq='H'),\n",
       " Timestamp('2018-08-13 15:00:00', freq='H')]"
      ]
     },
     "execution_count": 32,
     "metadata": {},
     "output_type": "execute_result"
    }
   ],
   "source": [
    "# Первые 2 записи в тестовой выборке\n",
    "X_test[:2].index.to_list()"
   ]
  },
  {
   "cell_type": "markdown",
   "metadata": {},
   "source": [
    "Нет необходимости кодировать категориальные признаки, так как они уже представлены в виде порядковых номеров (месяц, день недели, час). Стандартизация количественных признаков также не является обязательной для используемых мной моделей"
   ]
  },
  {
   "cell_type": "markdown",
   "metadata": {},
   "source": [
    "### Обучение моделей"
   ]
  },
  {
   "cell_type": "code",
   "execution_count": 33,
   "metadata": {},
   "outputs": [],
   "source": [
    "# Создаем список для хранения результатов работы моделей\n",
    "results = []"
   ]
  },
  {
   "cell_type": "code",
   "execution_count": 34,
   "metadata": {},
   "outputs": [],
   "source": [
    "# Определяем TimeSeriesSplit для кросс-валидации с сохранением временного порядка\n",
    "tscv = TimeSeriesSplit(n_splits=5)"
   ]
  },
  {
   "cell_type": "markdown",
   "metadata": {},
   "source": [
    "С помощью функции best_model_search подбирается наилучшая модель и её параметры для решения задачи, с оценкой качества по метрике RMSE"
   ]
  },
  {
   "cell_type": "code",
   "execution_count": 35,
   "metadata": {},
   "outputs": [],
   "source": [
    "# DecisionTree\n",
    "tree_model = DecisionTreeRegressor(random_state=RANDOM_STATE)\n",
    "tree_params = {\n",
    "    'max_depth': [3, 5, 7],\n",
    "    'min_samples_split': [2, 5, 10]\n",
    "}\n",
    "best_tree = best_model_search(tree_model, tree_params, X_train, y_train, cv=tscv)"
   ]
  },
  {
   "cell_type": "code",
   "execution_count": 36,
   "metadata": {},
   "outputs": [],
   "source": [
    "# RandomForest\n",
    "model = RandomForestRegressor(random_state=RANDOM_STATE)\n",
    "rf_params = {\n",
    "    'n_estimators': [10, 20, 50],\n",
    "    'max_depth': [3, 5, 7]\n",
    "}\n",
    "\n",
    "best_rf = best_model_search(model, rf_params, X_train, y_train, cv=tscv)"
   ]
  },
  {
   "cell_type": "code",
   "execution_count": 37,
   "metadata": {},
   "outputs": [],
   "source": [
    "# LightGBM\n",
    "lgb_model = LGBMRegressor(random_state=RANDOM_STATE)\n",
    "lgb_params = {\n",
    "    'n_estimators': [10, 50],\n",
    "    'max_depth': [7, 10],\n",
    "    'learning_rate': [0.01, 0.1]\n",
    "}\n",
    "best_lgb = best_model_search(lgb_model, lgb_params, X_train, y_train, cv=tscv)"
   ]
  },
  {
   "cell_type": "code",
   "execution_count": 38,
   "metadata": {},
   "outputs": [],
   "source": [
    "# CatBoost\n",
    "cat_model = CatBoostRegressor(verbose=0, random_state=RANDOM_STATE)\n",
    "cat_params = {\n",
    "    'iterations': [10, 50],\n",
    "    'depth': [7, 10],\n",
    "    'learning_rate': [0.01, 0.1]\n",
    "}\n",
    "best_cat = best_model_search(cat_model, cat_params, X_train, y_train, cv=tscv)"
   ]
  },
  {
   "cell_type": "code",
   "execution_count": 39,
   "metadata": {},
   "outputs": [
    {
     "data": {
      "text/html": [
       "<div>\n",
       "<style scoped>\n",
       "    .dataframe tbody tr th:only-of-type {\n",
       "        vertical-align: middle;\n",
       "    }\n",
       "\n",
       "    .dataframe tbody tr th {\n",
       "        vertical-align: top;\n",
       "    }\n",
       "\n",
       "    .dataframe thead th {\n",
       "        text-align: right;\n",
       "    }\n",
       "</style>\n",
       "<table border=\"1\" class=\"dataframe\">\n",
       "  <thead>\n",
       "    <tr style=\"text-align: right;\">\n",
       "      <th></th>\n",
       "      <th>Model</th>\n",
       "      <th>Best Params</th>\n",
       "      <th>Best RMSE (CV)</th>\n",
       "      <th>Mean Fit Time (s)</th>\n",
       "      <th>Mean Score Time (s)</th>\n",
       "    </tr>\n",
       "  </thead>\n",
       "  <tbody>\n",
       "    <tr>\n",
       "      <th>2</th>\n",
       "      <td>LGBMRegressor</td>\n",
       "      <td>{'learning_rate': 0.1, 'max_depth': 7, 'n_estimators': 50}</td>\n",
       "      <td>25.305540</td>\n",
       "      <td>0.339937</td>\n",
       "      <td>0.058926</td>\n",
       "    </tr>\n",
       "    <tr>\n",
       "      <th>3</th>\n",
       "      <td>CatBoostRegressor</td>\n",
       "      <td>{'depth': 7, 'iterations': 50, 'learning_rate': 0.1}</td>\n",
       "      <td>26.613591</td>\n",
       "      <td>0.869719</td>\n",
       "      <td>0.001985</td>\n",
       "    </tr>\n",
       "    <tr>\n",
       "      <th>1</th>\n",
       "      <td>RandomForestRegressor</td>\n",
       "      <td>{'max_depth': 7, 'n_estimators': 50}</td>\n",
       "      <td>27.079987</td>\n",
       "      <td>0.258221</td>\n",
       "      <td>0.008335</td>\n",
       "    </tr>\n",
       "    <tr>\n",
       "      <th>0</th>\n",
       "      <td>DecisionTreeRegressor</td>\n",
       "      <td>{'max_depth': 7, 'min_samples_split': 10}</td>\n",
       "      <td>28.940416</td>\n",
       "      <td>0.008961</td>\n",
       "      <td>0.001805</td>\n",
       "    </tr>\n",
       "  </tbody>\n",
       "</table>\n",
       "</div>"
      ],
      "text/plain": [
       "                   Model  \\\n",
       "2  LGBMRegressor           \n",
       "3  CatBoostRegressor       \n",
       "1  RandomForestRegressor   \n",
       "0  DecisionTreeRegressor   \n",
       "\n",
       "                                                  Best Params  Best RMSE (CV)  \\\n",
       "2  {'learning_rate': 0.1, 'max_depth': 7, 'n_estimators': 50}  25.305540        \n",
       "3  {'depth': 7, 'iterations': 50, 'learning_rate': 0.1}        26.613591        \n",
       "1  {'max_depth': 7, 'n_estimators': 50}                        27.079987        \n",
       "0  {'max_depth': 7, 'min_samples_split': 10}                   28.940416        \n",
       "\n",
       "   Mean Fit Time (s)  Mean Score Time (s)  \n",
       "2  0.339937           0.058926             \n",
       "3  0.869719           0.001985             \n",
       "1  0.258221           0.008335             \n",
       "0  0.008961           0.001805             "
      ]
     },
     "execution_count": 39,
     "metadata": {},
     "output_type": "execute_result"
    }
   ],
   "source": [
    "# Создаем DataFrame из результатов и сортируем по полученной метрике RMSE\n",
    "results_df = pd.DataFrame(results).sort_values('Best RMSE (CV)')\n",
    "\n",
    "pd.options.display.max_colwidth = 0\n",
    "\n",
    "results_df"
   ]
  },
  {
   "cell_type": "markdown",
   "metadata": {},
   "source": [
    "Наилучшие результаты показала модель LGBMRegressor, которая и будет выбрана для проверки на тестовых данных"
   ]
  },
  {
   "cell_type": "markdown",
   "metadata": {},
   "source": [
    "### Вывод по разделу"
   ]
  },
  {
   "cell_type": "markdown",
   "metadata": {},
   "source": [
    "На данном этапе были сформированы вспомогательные признаки, направленные на улучшение предсказательной способности модели. Обучающая и тестовая выборки были подготовлены с учётом особенностей временных рядов. Для моделей машинного обучения был проведён подбор гиперпараметров и оценка качества с использованием метрики RMSE и кросс-валидации. По результатам сравнения была выбрана модель LightGBM, продемонстрировавшая лучшее качество."
   ]
  },
  {
   "cell_type": "markdown",
   "metadata": {},
   "source": [
    "## Тестирование"
   ]
  },
  {
   "cell_type": "code",
   "execution_count": 40,
   "metadata": {},
   "outputs": [
    {
     "data": {
      "text/plain": [
       "hour            484\n",
       "month           138\n",
       "lag_1           134\n",
       "lag_4           116\n",
       "lag_2           113\n",
       "weekday         109\n",
       "lag_5           106\n",
       "rolling_mean    102\n",
       "lag_3           102\n",
       "day_of_month    86 \n",
       "dtype: int32"
      ]
     },
     "execution_count": 40,
     "metadata": {},
     "output_type": "execute_result"
    }
   ],
   "source": [
    "# Рассмотрим важность признаков\n",
    "importances = pd.Series(best_lgb.feature_importances_,\n",
    "                        index=X_train.columns)\n",
    "\n",
    "importances.sort_values(ascending=False)"
   ]
  },
  {
   "cell_type": "markdown",
   "metadata": {},
   "source": [
    "Наибольшее влияние на число заказов оказывает час дня, что вполне логично, поскольку большинство рейсов прибывают и отправляются в одно и то же время, а значит, к этому времени наблюдается и повышенный спрос"
   ]
  },
  {
   "cell_type": "code",
   "execution_count": 41,
   "metadata": {
    "scrolled": true
   },
   "outputs": [
    {
     "name": "stdout",
     "output_type": "stream",
     "text": [
      "RMSE LightGBM на тестовой выборке: 44.99\n"
     ]
    }
   ],
   "source": [
    "# Оценка качества модели LightGBM на тестовой выборке\n",
    "y_pred_lgb = best_lgb.predict(X_test)\n",
    "rmse_test = np.sqrt(mean_squared_error(y_test, y_pred_lgb)).round(2)\n",
    "\n",
    "print('RMSE LightGBM на тестовой выборке:', rmse_test)"
   ]
  },
  {
   "cell_type": "markdown",
   "metadata": {},
   "source": [
    "Значение RMSE на тестовой выборке значительно хуже, чем на тренировочной, но всё ещё соответствует условиям задачи (RMSE не превышает 48)."
   ]
  },
  {
   "cell_type": "markdown",
   "metadata": {},
   "source": [
    "Рассмотрим на графике разницу между предсказанными и фактическими значениями"
   ]
  },
  {
   "cell_type": "code",
   "execution_count": 42,
   "metadata": {},
   "outputs": [
    {
     "data": {
      "text/html": [
       "<div>\n",
       "<style scoped>\n",
       "    .dataframe tbody tr th:only-of-type {\n",
       "        vertical-align: middle;\n",
       "    }\n",
       "\n",
       "    .dataframe tbody tr th {\n",
       "        vertical-align: top;\n",
       "    }\n",
       "\n",
       "    .dataframe thead th {\n",
       "        text-align: right;\n",
       "    }\n",
       "</style>\n",
       "<table border=\"1\" class=\"dataframe\">\n",
       "  <thead>\n",
       "    <tr style=\"text-align: right;\">\n",
       "      <th></th>\n",
       "      <th>true</th>\n",
       "      <th>pred</th>\n",
       "    </tr>\n",
       "    <tr>\n",
       "      <th>datetime</th>\n",
       "      <th></th>\n",
       "      <th></th>\n",
       "    </tr>\n",
       "  </thead>\n",
       "  <tbody>\n",
       "    <tr>\n",
       "      <th>2018-08-13 14:00:00</th>\n",
       "      <td>102</td>\n",
       "      <td>108.0</td>\n",
       "    </tr>\n",
       "    <tr>\n",
       "      <th>2018-08-13 15:00:00</th>\n",
       "      <td>175</td>\n",
       "      <td>116.0</td>\n",
       "    </tr>\n",
       "    <tr>\n",
       "      <th>2018-08-13 16:00:00</th>\n",
       "      <td>144</td>\n",
       "      <td>136.0</td>\n",
       "    </tr>\n",
       "    <tr>\n",
       "      <th>2018-08-13 17:00:00</th>\n",
       "      <td>152</td>\n",
       "      <td>138.0</td>\n",
       "    </tr>\n",
       "    <tr>\n",
       "      <th>2018-08-13 18:00:00</th>\n",
       "      <td>104</td>\n",
       "      <td>107.0</td>\n",
       "    </tr>\n",
       "  </tbody>\n",
       "</table>\n",
       "</div>"
      ],
      "text/plain": [
       "                     true   pred\n",
       "datetime                        \n",
       "2018-08-13 14:00:00  102   108.0\n",
       "2018-08-13 15:00:00  175   116.0\n",
       "2018-08-13 16:00:00  144   136.0\n",
       "2018-08-13 17:00:00  152   138.0\n",
       "2018-08-13 18:00:00  104   107.0"
      ]
     },
     "execution_count": 42,
     "metadata": {},
     "output_type": "execute_result"
    }
   ],
   "source": [
    "df_result = pd.DataFrame(y_test)\n",
    "df_result['pred'] = y_pred_lgb.round(0)\n",
    "df_result.columns = ['true', 'pred']\n",
    "\n",
    "df_result.head()"
   ]
  },
  {
   "cell_type": "code",
   "execution_count": 43,
   "metadata": {},
   "outputs": [
    {
     "data": {
      "image/png": "[encoded data removed]",
      "text/plain": [
       "<Figure size 720x360 with 1 Axes>"
      ]
     },
     "metadata": {
      "needs_background": "light"
     },
     "output_type": "display_data"
    }
   ],
   "source": [
    "# Строим график разницы между предсказанными и фактическими значениями\n",
    "df_result.resample('1H').sum().plot(figsize=(10, 5))\n",
    "\n",
    "plt.title('Разница между true/pred values')\n",
    "plt.xlabel('Дата')\n",
    "plt.ylabel('Количество заказов')\n",
    "\n",
    "plt.legend()\n",
    "plt.grid(True)\n",
    "plt.tight_layout()\n",
    "plt.show()"
   ]
  },
  {
   "cell_type": "markdown",
   "metadata": {},
   "source": [
    "Как видно из графика, модель смогла подстроиться и предсказать типичные значения, однако для выбросов она дала неверные результаты"
   ]
  },
  {
   "cell_type": "markdown",
   "metadata": {},
   "source": [
    "## Общий вывод"
   ]
  },
  {
   "cell_type": "markdown",
   "metadata": {},
   "source": [
    "В данном исследовании была представлена информация о 26496 значениях количества заказов, разбитых на 10-минутные интервалы, охватывающих период в шесть месяцев — с 1 марта по 31 августа 2018 года. После ресемплирования с агрегированием по каждому часу в датасете осталось 4416 записей.\n",
    "\n",
    "Анализ показал наличие восходящего тренда — количество заказов увеличивается ближе к концу рассматриваемого периода, достигая пика в августе. Наиболее часто заказы поступают по пятницам, а наименее активно — по вторникам. В течение часа количество заказов варьируется от 54 до 107, среднее значение составляет 84. Значения, превышающие 200, считаются аномальными.\n",
    "\n",
    "Для повышения качества обучения моделей в данные были добавлены новые календарные признаки (номер месяца, день месяца, день недели, час дня), скользящее среднее, а также пять отстающих (лаговых) значений для каждой записи.\n",
    "\n",
    "Обучающая и тестовая выборки были сформированы с учётом специфики временных рядов. Для моделей машинного обучения был проведён подбор гиперпараметров и оценка качества с использованием кросс-валидации и метрики RMSE. По итогам сравнительного анализа была выбрана модель LightGBM, показавшая лучшее качество. Наиболее важным признаком, влияющим на целевую переменную, оказался определённый час дня.\n",
    "\n",
    "На тестовой выборке модель LightGBM достигла значения RMSE, равного 44.99. Она успешно воспроизвела типичные значения, однако на аномальных выбросах дала менее точные результаты."
   ]
  }
 ],
 "metadata": {
  "ExecuteTimeLog": [
   {
    "duration": 1514,
    "start_time": "2025-05-09T06:23:28.781Z"
   },
   {
    "duration": 0,
    "start_time": "2025-05-09T06:23:30.296Z"
   },
   {
    "duration": 0,
    "start_time": "2025-05-09T06:23:30.298Z"
   },
   {
    "duration": 340,
    "start_time": "2025-05-09T06:23:35.602Z"
   },
   {
    "duration": 3,
    "start_time": "2025-05-09T06:23:36.761Z"
   },
   {
    "duration": 42,
    "start_time": "2025-05-09T06:23:37.182Z"
   },
   {
    "duration": 14,
    "start_time": "2025-05-09T06:23:51.600Z"
   },
   {
    "duration": 49,
    "start_time": "2025-05-09T06:27:12.981Z"
   },
   {
    "duration": 37,
    "start_time": "2025-05-09T06:27:24.901Z"
   },
   {
    "duration": 25,
    "start_time": "2025-05-09T06:28:02.328Z"
   },
   {
    "duration": 1189,
    "start_time": "2025-05-09T06:28:15.571Z"
   },
   {
    "duration": 1241,
    "start_time": "2025-05-09T06:29:02.730Z"
   },
   {
    "duration": 91,
    "start_time": "2025-05-09T06:29:15.727Z"
   },
   {
    "duration": 1214,
    "start_time": "2025-05-09T06:29:20.432Z"
   },
   {
    "duration": 10,
    "start_time": "2025-05-09T06:30:14.643Z"
   },
   {
    "duration": 14,
    "start_time": "2025-05-09T06:30:26.945Z"
   },
   {
    "duration": 20,
    "start_time": "2025-05-09T06:30:34.375Z"
   },
   {
    "duration": 13,
    "start_time": "2025-05-09T06:33:01.412Z"
   },
   {
    "duration": 13,
    "start_time": "2025-05-09T06:33:05.860Z"
   },
   {
    "duration": 14,
    "start_time": "2025-05-09T06:33:11.508Z"
   },
   {
    "duration": 1561,
    "start_time": "2025-05-09T06:44:16.429Z"
   },
   {
    "duration": 3,
    "start_time": "2025-05-09T06:44:17.992Z"
   },
   {
    "duration": 103,
    "start_time": "2025-05-09T06:44:17.996Z"
   },
   {
    "duration": 14,
    "start_time": "2025-05-09T06:44:18.100Z"
   },
   {
    "duration": 9,
    "start_time": "2025-05-09T06:44:18.116Z"
   },
   {
    "duration": 24,
    "start_time": "2025-05-09T06:44:18.126Z"
   },
   {
    "duration": 6,
    "start_time": "2025-05-09T06:44:56.686Z"
   },
   {
    "duration": 9,
    "start_time": "2025-05-09T06:45:20.571Z"
   },
   {
    "duration": 4,
    "start_time": "2025-05-09T06:55:34.767Z"
   },
   {
    "duration": 117,
    "start_time": "2025-05-09T06:55:37.267Z"
   },
   {
    "duration": 9,
    "start_time": "2025-05-09T06:55:42.412Z"
   },
   {
    "duration": 4,
    "start_time": "2025-05-09T06:57:15.564Z"
   },
   {
    "duration": 7,
    "start_time": "2025-05-09T06:59:37.338Z"
   },
   {
    "duration": 9,
    "start_time": "2025-05-09T06:59:42.872Z"
   },
   {
    "duration": 5,
    "start_time": "2025-05-09T07:00:39.281Z"
   },
   {
    "duration": 1556,
    "start_time": "2025-05-09T07:01:32.631Z"
   },
   {
    "duration": 3,
    "start_time": "2025-05-09T07:01:34.189Z"
   },
   {
    "duration": 67,
    "start_time": "2025-05-09T07:01:34.194Z"
   },
   {
    "duration": 15,
    "start_time": "2025-05-09T07:01:34.262Z"
   },
   {
    "duration": 32,
    "start_time": "2025-05-09T07:01:34.279Z"
   },
   {
    "duration": 5,
    "start_time": "2025-05-09T07:01:34.312Z"
   },
   {
    "duration": 72,
    "start_time": "2025-05-09T07:01:34.318Z"
   },
   {
    "duration": 22,
    "start_time": "2025-05-09T07:01:34.393Z"
   },
   {
    "duration": 26,
    "start_time": "2025-05-09T07:01:34.417Z"
   },
   {
    "duration": 19,
    "start_time": "2025-05-09T07:01:34.445Z"
   },
   {
    "duration": 15,
    "start_time": "2025-05-09T07:01:46.005Z"
   },
   {
    "duration": 10,
    "start_time": "2025-05-09T07:17:31.562Z"
   },
   {
    "duration": 10,
    "start_time": "2025-05-09T07:17:39.519Z"
   },
   {
    "duration": 4,
    "start_time": "2025-05-09T07:17:56.870Z"
   },
   {
    "duration": 1508,
    "start_time": "2025-05-09T07:21:29.442Z"
   },
   {
    "duration": 3,
    "start_time": "2025-05-09T07:21:30.952Z"
   },
   {
    "duration": 48,
    "start_time": "2025-05-09T07:21:30.956Z"
   },
   {
    "duration": 13,
    "start_time": "2025-05-09T07:21:31.006Z"
   },
   {
    "duration": 39,
    "start_time": "2025-05-09T07:21:31.021Z"
   },
   {
    "duration": 35,
    "start_time": "2025-05-09T07:21:31.061Z"
   },
   {
    "duration": 35,
    "start_time": "2025-05-09T07:21:31.098Z"
   },
   {
    "duration": 11,
    "start_time": "2025-05-09T07:21:31.135Z"
   },
   {
    "duration": 14,
    "start_time": "2025-05-09T07:21:31.147Z"
   },
   {
    "duration": 19,
    "start_time": "2025-05-09T07:21:31.163Z"
   },
   {
    "duration": 4,
    "start_time": "2025-05-09T07:21:31.185Z"
   },
   {
    "duration": 390,
    "start_time": "2025-05-09T07:28:05.268Z"
   },
   {
    "duration": 295,
    "start_time": "2025-05-09T07:28:47.134Z"
   },
   {
    "duration": 366,
    "start_time": "2025-05-09T07:28:55.463Z"
   },
   {
    "duration": 10,
    "start_time": "2025-05-09T07:29:16.034Z"
   },
   {
    "duration": 6,
    "start_time": "2025-05-09T07:29:44.173Z"
   },
   {
    "duration": 6,
    "start_time": "2025-05-09T07:30:06.111Z"
   },
   {
    "duration": 282,
    "start_time": "2025-05-09T07:30:27.222Z"
   },
   {
    "duration": 6,
    "start_time": "2025-05-09T07:34:40.341Z"
   },
   {
    "duration": 287,
    "start_time": "2025-05-09T07:34:42.627Z"
   },
   {
    "duration": 330,
    "start_time": "2025-05-09T07:38:06.511Z"
   },
   {
    "duration": 303,
    "start_time": "2025-05-09T07:38:23.888Z"
   },
   {
    "duration": 338,
    "start_time": "2025-05-09T07:39:00.337Z"
   },
   {
    "duration": 340,
    "start_time": "2025-05-09T07:39:18.452Z"
   },
   {
    "duration": 303,
    "start_time": "2025-05-09T07:39:31.027Z"
   },
   {
    "duration": 356,
    "start_time": "2025-05-09T07:39:34.038Z"
   },
   {
    "duration": 322,
    "start_time": "2025-05-09T07:42:34.256Z"
   },
   {
    "duration": 373,
    "start_time": "2025-05-09T07:43:54.440Z"
   },
   {
    "duration": 6,
    "start_time": "2025-05-09T07:45:05.047Z"
   },
   {
    "duration": 266,
    "start_time": "2025-05-09T07:45:07.608Z"
   },
   {
    "duration": 286,
    "start_time": "2025-05-09T07:45:43.007Z"
   },
   {
    "duration": 316,
    "start_time": "2025-05-09T07:45:52.445Z"
   },
   {
    "duration": 327,
    "start_time": "2025-05-09T07:46:10.613Z"
   },
   {
    "duration": 353,
    "start_time": "2025-05-09T07:46:27.534Z"
   },
   {
    "duration": 174,
    "start_time": "2025-05-09T08:21:35.194Z"
   },
   {
    "duration": 161,
    "start_time": "2025-05-09T08:25:38.404Z"
   },
   {
    "duration": 326,
    "start_time": "2025-05-09T08:26:51.201Z"
   },
   {
    "duration": 156,
    "start_time": "2025-05-09T08:27:06.906Z"
   },
   {
    "duration": 12,
    "start_time": "2025-05-09T08:28:44.751Z"
   },
   {
    "duration": 9,
    "start_time": "2025-05-09T08:29:06.294Z"
   },
   {
    "duration": 13,
    "start_time": "2025-05-09T08:29:09.179Z"
   },
   {
    "duration": 13,
    "start_time": "2025-05-09T08:30:17.742Z"
   },
   {
    "duration": 14,
    "start_time": "2025-05-09T08:30:23.587Z"
   },
   {
    "duration": 13,
    "start_time": "2025-05-09T08:30:30.953Z"
   },
   {
    "duration": 337,
    "start_time": "2025-05-09T08:30:46.760Z"
   },
   {
    "duration": 249,
    "start_time": "2025-05-09T08:34:35.530Z"
   },
   {
    "duration": 268,
    "start_time": "2025-05-09T08:35:27.421Z"
   },
   {
    "duration": 169,
    "start_time": "2025-05-09T08:36:37.807Z"
   },
   {
    "duration": 151,
    "start_time": "2025-05-09T08:36:44.561Z"
   },
   {
    "duration": 161,
    "start_time": "2025-05-09T08:39:12.656Z"
   },
   {
    "duration": 165,
    "start_time": "2025-05-09T08:39:17.789Z"
   },
   {
    "duration": 158,
    "start_time": "2025-05-09T08:39:26.129Z"
   },
   {
    "duration": 177,
    "start_time": "2025-05-09T08:39:31.326Z"
   },
   {
    "duration": 161,
    "start_time": "2025-05-09T08:39:36.671Z"
   },
   {
    "duration": 13,
    "start_time": "2025-05-09T08:42:19.123Z"
   },
   {
    "duration": 9,
    "start_time": "2025-05-09T08:42:33.473Z"
   },
   {
    "duration": 162,
    "start_time": "2025-05-09T08:46:37.325Z"
   },
   {
    "duration": 139,
    "start_time": "2025-05-09T08:51:21.210Z"
   },
   {
    "duration": 7,
    "start_time": "2025-05-09T08:52:00.178Z"
   },
   {
    "duration": 1348,
    "start_time": "2025-05-09T08:52:36.145Z"
   },
   {
    "duration": 853,
    "start_time": "2025-05-09T08:52:43.907Z"
   },
   {
    "duration": 7,
    "start_time": "2025-05-09T08:52:48.236Z"
   },
   {
    "duration": 954,
    "start_time": "2025-05-09T08:52:58.776Z"
   },
   {
    "duration": 1175,
    "start_time": "2025-05-09T08:53:08.096Z"
   },
   {
    "duration": 6,
    "start_time": "2025-05-09T08:53:14.774Z"
   },
   {
    "duration": 7,
    "start_time": "2025-05-09T08:53:58.011Z"
   },
   {
    "duration": 6,
    "start_time": "2025-05-09T08:54:13.660Z"
   },
   {
    "duration": 884,
    "start_time": "2025-05-09T08:54:32.646Z"
   },
   {
    "duration": 165,
    "start_time": "2025-05-09T08:54:47.546Z"
   },
   {
    "duration": 283,
    "start_time": "2025-05-09T08:56:12.571Z"
   },
   {
    "duration": 972,
    "start_time": "2025-05-09T08:57:03.020Z"
   },
   {
    "duration": 177,
    "start_time": "2025-05-09T08:57:23.320Z"
   },
   {
    "duration": 10,
    "start_time": "2025-05-09T08:58:25.705Z"
   },
   {
    "duration": 1724,
    "start_time": "2025-05-09T09:01:10.237Z"
   },
   {
    "duration": 1472,
    "start_time": "2025-05-09T09:01:30.052Z"
   },
   {
    "duration": 967,
    "start_time": "2025-05-09T09:02:01.060Z"
   },
   {
    "duration": 1776,
    "start_time": "2025-05-09T09:04:15.293Z"
   },
   {
    "duration": 1509,
    "start_time": "2025-05-09T09:04:48.628Z"
   },
   {
    "duration": 1529,
    "start_time": "2025-05-09T09:05:10.245Z"
   },
   {
    "duration": 1311,
    "start_time": "2025-05-09T09:06:05.383Z"
   },
   {
    "duration": 412,
    "start_time": "2025-05-09T09:06:15.336Z"
   },
   {
    "duration": 1176,
    "start_time": "2025-05-09T09:07:12.060Z"
   },
   {
    "duration": 401,
    "start_time": "2025-05-09T09:07:19.966Z"
   },
   {
    "duration": 412,
    "start_time": "2025-05-09T09:07:52.839Z"
   },
   {
    "duration": 411,
    "start_time": "2025-05-09T09:08:54.105Z"
   },
   {
    "duration": 404,
    "start_time": "2025-05-09T09:10:40.745Z"
   },
   {
    "duration": 1529,
    "start_time": "2025-05-09T09:12:01.826Z"
   },
   {
    "duration": 3,
    "start_time": "2025-05-09T09:12:03.357Z"
   },
   {
    "duration": 20,
    "start_time": "2025-05-09T09:12:03.361Z"
   },
   {
    "duration": 71,
    "start_time": "2025-05-09T09:12:03.383Z"
   },
   {
    "duration": 12,
    "start_time": "2025-05-09T09:12:03.456Z"
   },
   {
    "duration": 14,
    "start_time": "2025-05-09T09:12:03.469Z"
   },
   {
    "duration": 24,
    "start_time": "2025-05-09T09:12:03.485Z"
   },
   {
    "duration": 13,
    "start_time": "2025-05-09T09:12:03.511Z"
   },
   {
    "duration": 10,
    "start_time": "2025-05-09T09:12:03.526Z"
   },
   {
    "duration": 15,
    "start_time": "2025-05-09T09:12:03.538Z"
   },
   {
    "duration": 14,
    "start_time": "2025-05-09T09:12:03.554Z"
   },
   {
    "duration": 4,
    "start_time": "2025-05-09T09:12:03.570Z"
   },
   {
    "duration": 313,
    "start_time": "2025-05-09T09:12:03.576Z"
   },
   {
    "duration": 435,
    "start_time": "2025-05-09T09:12:03.890Z"
   },
   {
    "duration": 196,
    "start_time": "2025-05-09T09:12:04.327Z"
   },
   {
    "duration": 13,
    "start_time": "2025-05-09T09:12:04.525Z"
   },
   {
    "duration": 64,
    "start_time": "2025-05-09T09:12:04.540Z"
   },
   {
    "duration": 14,
    "start_time": "2025-05-09T09:12:04.606Z"
   },
   {
    "duration": 1027,
    "start_time": "2025-05-09T09:14:07.133Z"
   },
   {
    "duration": 737,
    "start_time": "2025-05-09T09:17:07.889Z"
   },
   {
    "duration": 1005,
    "start_time": "2025-05-09T09:17:17.164Z"
   },
   {
    "duration": 1160,
    "start_time": "2025-05-09T09:17:34.581Z"
   },
   {
    "duration": 1023,
    "start_time": "2025-05-09T09:19:14.492Z"
   },
   {
    "duration": 28,
    "start_time": "2025-05-09T09:21:19.014Z"
   },
   {
    "duration": 120,
    "start_time": "2025-05-09T09:21:43.239Z"
   },
   {
    "duration": 9,
    "start_time": "2025-05-09T09:21:52.656Z"
   },
   {
    "duration": 13,
    "start_time": "2025-05-09T09:21:57.634Z"
   },
   {
    "duration": 11,
    "start_time": "2025-05-09T09:22:33.247Z"
   },
   {
    "duration": 8,
    "start_time": "2025-05-09T09:22:40.845Z"
   },
   {
    "duration": 6,
    "start_time": "2025-05-09T09:22:56.162Z"
   },
   {
    "duration": 219,
    "start_time": "2025-05-09T09:24:01.499Z"
   },
   {
    "duration": 230,
    "start_time": "2025-05-09T09:25:01.785Z"
   },
   {
    "duration": 303,
    "start_time": "2025-05-09T09:25:11.368Z"
   },
   {
    "duration": 1560,
    "start_time": "2025-05-09T09:26:54.255Z"
   },
   {
    "duration": 2,
    "start_time": "2025-05-09T09:26:55.818Z"
   },
   {
    "duration": 34,
    "start_time": "2025-05-09T09:26:55.822Z"
   },
   {
    "duration": 67,
    "start_time": "2025-05-09T09:26:55.858Z"
   },
   {
    "duration": 13,
    "start_time": "2025-05-09T09:26:55.927Z"
   },
   {
    "duration": 11,
    "start_time": "2025-05-09T09:26:55.941Z"
   },
   {
    "duration": 12,
    "start_time": "2025-05-09T09:26:55.953Z"
   },
   {
    "duration": 11,
    "start_time": "2025-05-09T09:26:55.967Z"
   },
   {
    "duration": 8,
    "start_time": "2025-05-09T09:26:55.980Z"
   },
   {
    "duration": 6,
    "start_time": "2025-05-09T09:26:55.989Z"
   },
   {
    "duration": 19,
    "start_time": "2025-05-09T09:26:55.996Z"
   },
   {
    "duration": 4,
    "start_time": "2025-05-09T09:26:56.037Z"
   },
   {
    "duration": 271,
    "start_time": "2025-05-09T09:26:56.042Z"
   },
   {
    "duration": 429,
    "start_time": "2025-05-09T09:26:56.316Z"
   },
   {
    "duration": 156,
    "start_time": "2025-05-09T09:26:56.746Z"
   },
   {
    "duration": 1055,
    "start_time": "2025-05-09T09:26:56.904Z"
   },
   {
    "duration": 24,
    "start_time": "2025-05-09T09:26:57.960Z"
   },
   {
    "duration": 10,
    "start_time": "2025-05-09T09:26:57.986Z"
   },
   {
    "duration": 243,
    "start_time": "2025-05-09T09:26:57.997Z"
   },
   {
    "duration": 227,
    "start_time": "2025-05-09T09:26:58.242Z"
   },
   {
    "duration": 3,
    "start_time": "2025-05-09T09:26:58.471Z"
   },
   {
    "duration": 1476,
    "start_time": "2025-05-09T09:30:51.495Z"
   },
   {
    "duration": 3,
    "start_time": "2025-05-09T09:30:52.973Z"
   },
   {
    "duration": 12,
    "start_time": "2025-05-09T09:30:52.977Z"
   },
   {
    "duration": 128,
    "start_time": "2025-05-09T09:30:52.990Z"
   },
   {
    "duration": 13,
    "start_time": "2025-05-09T09:30:53.121Z"
   },
   {
    "duration": 12,
    "start_time": "2025-05-09T09:30:53.135Z"
   },
   {
    "duration": 16,
    "start_time": "2025-05-09T09:30:53.149Z"
   },
   {
    "duration": 32,
    "start_time": "2025-05-09T09:30:53.166Z"
   },
   {
    "duration": 21,
    "start_time": "2025-05-09T09:30:53.200Z"
   },
   {
    "duration": 10,
    "start_time": "2025-05-09T09:30:53.223Z"
   },
   {
    "duration": 32,
    "start_time": "2025-05-09T09:30:53.234Z"
   },
   {
    "duration": 5,
    "start_time": "2025-05-09T09:30:53.268Z"
   },
   {
    "duration": 286,
    "start_time": "2025-05-09T09:30:53.274Z"
   },
   {
    "duration": 438,
    "start_time": "2025-05-09T09:30:53.563Z"
   },
   {
    "duration": 167,
    "start_time": "2025-05-09T09:30:54.003Z"
   },
   {
    "duration": 1040,
    "start_time": "2025-05-09T09:30:54.171Z"
   },
   {
    "duration": 35,
    "start_time": "2025-05-09T09:30:55.213Z"
   },
   {
    "duration": 12,
    "start_time": "2025-05-09T09:30:55.250Z"
   },
   {
    "duration": 220,
    "start_time": "2025-05-09T09:30:55.264Z"
   },
   {
    "duration": 228,
    "start_time": "2025-05-09T09:30:55.485Z"
   },
   {
    "duration": 3,
    "start_time": "2025-05-09T09:30:55.715Z"
   },
   {
    "duration": 127,
    "start_time": "2025-05-09T09:34:47.491Z"
   },
   {
    "duration": 19,
    "start_time": "2025-05-09T09:34:50.490Z"
   },
   {
    "duration": 12,
    "start_time": "2025-05-09T09:35:03.777Z"
   },
   {
    "duration": 13,
    "start_time": "2025-05-09T09:35:07.181Z"
   },
   {
    "duration": 1505,
    "start_time": "2025-05-09T09:36:06.353Z"
   },
   {
    "duration": 3,
    "start_time": "2025-05-09T09:36:07.859Z"
   },
   {
    "duration": 30,
    "start_time": "2025-05-09T09:36:07.863Z"
   },
   {
    "duration": 65,
    "start_time": "2025-05-09T09:36:07.895Z"
   },
   {
    "duration": 12,
    "start_time": "2025-05-09T09:36:07.962Z"
   },
   {
    "duration": 13,
    "start_time": "2025-05-09T09:36:07.975Z"
   },
   {
    "duration": 33,
    "start_time": "2025-05-09T09:36:07.989Z"
   },
   {
    "duration": 16,
    "start_time": "2025-05-09T09:36:08.024Z"
   },
   {
    "duration": 8,
    "start_time": "2025-05-09T09:36:08.042Z"
   },
   {
    "duration": 30,
    "start_time": "2025-05-09T09:36:08.052Z"
   },
   {
    "duration": 33,
    "start_time": "2025-05-09T09:36:08.084Z"
   },
   {
    "duration": 12,
    "start_time": "2025-05-09T09:36:08.119Z"
   },
   {
    "duration": 6,
    "start_time": "2025-05-09T09:36:08.132Z"
   },
   {
    "duration": 263,
    "start_time": "2025-05-09T09:36:08.140Z"
   },
   {
    "duration": 432,
    "start_time": "2025-05-09T09:36:08.405Z"
   },
   {
    "duration": 173,
    "start_time": "2025-05-09T09:36:08.839Z"
   },
   {
    "duration": 1025,
    "start_time": "2025-05-09T09:36:09.014Z"
   },
   {
    "duration": 22,
    "start_time": "2025-05-09T09:36:10.041Z"
   },
   {
    "duration": 10,
    "start_time": "2025-05-09T09:36:10.065Z"
   },
   {
    "duration": 242,
    "start_time": "2025-05-09T09:36:10.077Z"
   },
   {
    "duration": 229,
    "start_time": "2025-05-09T09:36:10.321Z"
   },
   {
    "duration": 3,
    "start_time": "2025-05-09T09:36:10.552Z"
   },
   {
    "duration": 4,
    "start_time": "2025-05-09T09:41:24.214Z"
   },
   {
    "duration": 1574,
    "start_time": "2025-05-09T10:37:07.626Z"
   },
   {
    "duration": 4,
    "start_time": "2025-05-09T10:37:09.202Z"
   },
   {
    "duration": 7,
    "start_time": "2025-05-09T10:37:09.208Z"
   },
   {
    "duration": 72,
    "start_time": "2025-05-09T10:37:09.217Z"
   },
   {
    "duration": 12,
    "start_time": "2025-05-09T10:37:09.291Z"
   },
   {
    "duration": 9,
    "start_time": "2025-05-09T10:37:09.305Z"
   },
   {
    "duration": 20,
    "start_time": "2025-05-09T10:37:09.316Z"
   },
   {
    "duration": 27,
    "start_time": "2025-05-09T10:37:09.338Z"
   },
   {
    "duration": 8,
    "start_time": "2025-05-09T10:37:09.367Z"
   },
   {
    "duration": 4,
    "start_time": "2025-05-09T10:37:09.377Z"
   },
   {
    "duration": 12,
    "start_time": "2025-05-09T10:37:09.382Z"
   },
   {
    "duration": 3,
    "start_time": "2025-05-09T10:37:09.396Z"
   },
   {
    "duration": 305,
    "start_time": "2025-05-09T10:37:09.401Z"
   },
   {
    "duration": 473,
    "start_time": "2025-05-09T10:37:09.710Z"
   },
   {
    "duration": 0,
    "start_time": "2025-05-09T10:37:10.185Z"
   },
   {
    "duration": 0,
    "start_time": "2025-05-09T10:37:10.186Z"
   },
   {
    "duration": 0,
    "start_time": "2025-05-09T10:37:10.188Z"
   },
   {
    "duration": 0,
    "start_time": "2025-05-09T10:37:10.189Z"
   },
   {
    "duration": 0,
    "start_time": "2025-05-09T10:37:10.191Z"
   },
   {
    "duration": 282,
    "start_time": "2025-05-09T10:37:46.811Z"
   },
   {
    "duration": 239,
    "start_time": "2025-05-09T10:38:13.727Z"
   },
   {
    "duration": 161,
    "start_time": "2025-05-09T10:38:16.510Z"
   },
   {
    "duration": 1028,
    "start_time": "2025-05-09T10:38:17.228Z"
   },
   {
    "duration": 8,
    "start_time": "2025-05-09T10:38:23.632Z"
   },
   {
    "duration": 282,
    "start_time": "2025-05-09T10:38:24.526Z"
   },
   {
    "duration": 351,
    "start_time": "2025-05-09T10:39:04.888Z"
   },
   {
    "duration": 281,
    "start_time": "2025-05-09T10:40:56.638Z"
   },
   {
    "duration": 249,
    "start_time": "2025-05-09T10:41:12.482Z"
   },
   {
    "duration": 257,
    "start_time": "2025-05-09T10:41:16.986Z"
   },
   {
    "duration": 263,
    "start_time": "2025-05-09T10:41:20.985Z"
   },
   {
    "duration": 266,
    "start_time": "2025-05-09T10:41:44.105Z"
   },
   {
    "duration": 12,
    "start_time": "2025-05-09T10:44:37.366Z"
   },
   {
    "duration": 12,
    "start_time": "2025-05-09T10:45:17.948Z"
   },
   {
    "duration": 4,
    "start_time": "2025-05-09T10:50:25.042Z"
   },
   {
    "duration": 1090,
    "start_time": "2025-05-09T10:50:45.329Z"
   },
   {
    "duration": 968,
    "start_time": "2025-05-09T10:50:55.361Z"
   },
   {
    "duration": 227,
    "start_time": "2025-05-09T10:51:54.067Z"
   },
   {
    "duration": 8,
    "start_time": "2025-05-09T10:55:05.600Z"
   },
   {
    "duration": 288,
    "start_time": "2025-05-09T10:56:52.994Z"
   },
   {
    "duration": 19,
    "start_time": "2025-05-09T10:58:40.010Z"
   },
   {
    "duration": 242,
    "start_time": "2025-05-09T10:58:57.638Z"
   },
   {
    "duration": 246,
    "start_time": "2025-05-09T11:00:08.649Z"
   },
   {
    "duration": 319,
    "start_time": "2025-05-09T11:01:20.092Z"
   },
   {
    "duration": 314,
    "start_time": "2025-05-09T11:01:31.897Z"
   },
   {
    "duration": 255,
    "start_time": "2025-05-09T11:01:36.342Z"
   },
   {
    "duration": 272,
    "start_time": "2025-05-09T11:01:47.197Z"
   },
   {
    "duration": 298,
    "start_time": "2025-05-09T11:02:26.585Z"
   },
   {
    "duration": 286,
    "start_time": "2025-05-09T11:02:33.304Z"
   },
   {
    "duration": 154,
    "start_time": "2025-05-09T11:02:41.777Z"
   },
   {
    "duration": 289,
    "start_time": "2025-05-09T11:05:55.891Z"
   },
   {
    "duration": 303,
    "start_time": "2025-05-09T11:06:56.476Z"
   },
   {
    "duration": 292,
    "start_time": "2025-05-09T11:07:08.002Z"
   },
   {
    "duration": 304,
    "start_time": "2025-05-09T11:07:16.769Z"
   },
   {
    "duration": 282,
    "start_time": "2025-05-09T11:08:39.135Z"
   },
   {
    "duration": 14,
    "start_time": "2025-05-09T11:10:54.779Z"
   },
   {
    "duration": 80,
    "start_time": "2025-05-09T11:11:13.130Z"
   },
   {
    "duration": 16,
    "start_time": "2025-05-09T11:11:34.753Z"
   },
   {
    "duration": 17,
    "start_time": "2025-05-09T11:11:55.860Z"
   },
   {
    "duration": 7,
    "start_time": "2025-05-09T11:12:42.737Z"
   },
   {
    "duration": 184,
    "start_time": "2025-05-09T11:12:51.298Z"
   },
   {
    "duration": 9,
    "start_time": "2025-05-09T11:13:05.870Z"
   },
   {
    "duration": 14,
    "start_time": "2025-05-09T11:13:07.796Z"
   },
   {
    "duration": 196,
    "start_time": "2025-05-09T11:13:08.050Z"
   },
   {
    "duration": 12,
    "start_time": "2025-05-09T11:14:46.501Z"
   },
   {
    "duration": 15,
    "start_time": "2025-05-09T11:14:59.026Z"
   },
   {
    "duration": 12,
    "start_time": "2025-05-09T11:15:15.480Z"
   },
   {
    "duration": 6,
    "start_time": "2025-05-09T11:15:17.898Z"
   },
   {
    "duration": 208,
    "start_time": "2025-05-09T11:15:22.099Z"
   },
   {
    "duration": 386,
    "start_time": "2025-05-09T11:17:34.684Z"
   },
   {
    "duration": 1560,
    "start_time": "2025-05-09T11:21:42.511Z"
   },
   {
    "duration": 4,
    "start_time": "2025-05-09T11:21:44.073Z"
   },
   {
    "duration": 7,
    "start_time": "2025-05-09T11:21:44.079Z"
   },
   {
    "duration": 66,
    "start_time": "2025-05-09T11:21:44.087Z"
   },
   {
    "duration": 12,
    "start_time": "2025-05-09T11:21:44.156Z"
   },
   {
    "duration": 8,
    "start_time": "2025-05-09T11:21:44.170Z"
   },
   {
    "duration": 13,
    "start_time": "2025-05-09T11:21:44.180Z"
   },
   {
    "duration": 28,
    "start_time": "2025-05-09T11:21:44.195Z"
   },
   {
    "duration": 8,
    "start_time": "2025-05-09T11:21:44.236Z"
   },
   {
    "duration": 9,
    "start_time": "2025-05-09T11:21:44.246Z"
   },
   {
    "duration": 7,
    "start_time": "2025-05-09T11:21:44.257Z"
   },
   {
    "duration": 13,
    "start_time": "2025-05-09T11:21:44.266Z"
   },
   {
    "duration": 5,
    "start_time": "2025-05-09T11:21:44.281Z"
   },
   {
    "duration": 312,
    "start_time": "2025-05-09T11:21:44.289Z"
   },
   {
    "duration": 415,
    "start_time": "2025-05-09T11:21:44.602Z"
   },
   {
    "duration": 159,
    "start_time": "2025-05-09T11:21:45.019Z"
   },
   {
    "duration": 1006,
    "start_time": "2025-05-09T11:21:45.180Z"
   },
   {
    "duration": 141,
    "start_time": "2025-05-09T11:21:46.188Z"
   },
   {
    "duration": 0,
    "start_time": "2025-05-09T11:21:46.335Z"
   },
   {
    "duration": 0,
    "start_time": "2025-05-09T11:21:46.337Z"
   },
   {
    "duration": 0,
    "start_time": "2025-05-09T11:21:46.338Z"
   },
   {
    "duration": 0,
    "start_time": "2025-05-09T11:21:46.339Z"
   },
   {
    "duration": 282,
    "start_time": "2025-05-09T11:23:21.214Z"
   },
   {
    "duration": 145,
    "start_time": "2025-05-09T11:23:38.174Z"
   },
   {
    "duration": 304,
    "start_time": "2025-05-09T11:23:41.680Z"
   },
   {
    "duration": 289,
    "start_time": "2025-05-09T11:23:50.065Z"
   },
   {
    "duration": 1520,
    "start_time": "2025-05-09T11:24:25.551Z"
   },
   {
    "duration": 3,
    "start_time": "2025-05-09T11:24:27.073Z"
   },
   {
    "duration": 8,
    "start_time": "2025-05-09T11:24:27.078Z"
   },
   {
    "duration": 43,
    "start_time": "2025-05-09T11:24:27.087Z"
   },
   {
    "duration": 10,
    "start_time": "2025-05-09T11:24:27.133Z"
   },
   {
    "duration": 21,
    "start_time": "2025-05-09T11:24:27.145Z"
   },
   {
    "duration": 25,
    "start_time": "2025-05-09T11:24:27.167Z"
   },
   {
    "duration": 14,
    "start_time": "2025-05-09T11:24:27.193Z"
   },
   {
    "duration": 7,
    "start_time": "2025-05-09T11:24:27.209Z"
   },
   {
    "duration": 7,
    "start_time": "2025-05-09T11:24:27.218Z"
   },
   {
    "duration": 9,
    "start_time": "2025-05-09T11:24:27.226Z"
   },
   {
    "duration": 12,
    "start_time": "2025-05-09T11:24:27.236Z"
   },
   {
    "duration": 4,
    "start_time": "2025-05-09T11:24:27.249Z"
   },
   {
    "duration": 270,
    "start_time": "2025-05-09T11:24:27.255Z"
   },
   {
    "duration": 419,
    "start_time": "2025-05-09T11:24:27.526Z"
   },
   {
    "duration": 293,
    "start_time": "2025-05-09T11:24:27.947Z"
   },
   {
    "duration": 1017,
    "start_time": "2025-05-09T11:24:28.242Z"
   },
   {
    "duration": 321,
    "start_time": "2025-05-09T11:24:29.261Z"
   },
   {
    "duration": 7,
    "start_time": "2025-05-09T11:24:29.584Z"
   },
   {
    "duration": 287,
    "start_time": "2025-05-09T11:24:29.592Z"
   },
   {
    "duration": 319,
    "start_time": "2025-05-09T11:24:29.881Z"
   },
   {
    "duration": 15,
    "start_time": "2025-05-09T11:24:30.202Z"
   },
   {
    "duration": 482,
    "start_time": "2025-05-09T11:24:46.191Z"
   },
   {
    "duration": 413,
    "start_time": "2025-05-09T11:24:51.066Z"
   },
   {
    "duration": 276,
    "start_time": "2025-05-09T11:24:55.726Z"
   },
   {
    "duration": 417,
    "start_time": "2025-05-09T11:24:59.874Z"
   },
   {
    "duration": 11,
    "start_time": "2025-05-09T11:27:37.819Z"
   },
   {
    "duration": 10,
    "start_time": "2025-05-09T11:27:44.285Z"
   },
   {
    "duration": 13,
    "start_time": "2025-05-09T11:27:46.931Z"
   },
   {
    "duration": 1492,
    "start_time": "2025-05-09T11:30:08.590Z"
   },
   {
    "duration": 4,
    "start_time": "2025-05-09T11:30:10.084Z"
   },
   {
    "duration": 12,
    "start_time": "2025-05-09T11:30:10.090Z"
   },
   {
    "duration": 85,
    "start_time": "2025-05-09T11:30:10.104Z"
   },
   {
    "duration": 12,
    "start_time": "2025-05-09T11:30:10.191Z"
   },
   {
    "duration": 16,
    "start_time": "2025-05-09T11:30:10.205Z"
   },
   {
    "duration": 16,
    "start_time": "2025-05-09T11:30:10.223Z"
   },
   {
    "duration": 26,
    "start_time": "2025-05-09T11:30:10.241Z"
   },
   {
    "duration": 7,
    "start_time": "2025-05-09T11:30:10.269Z"
   },
   {
    "duration": 7,
    "start_time": "2025-05-09T11:30:10.278Z"
   },
   {
    "duration": 26,
    "start_time": "2025-05-09T11:30:10.286Z"
   },
   {
    "duration": 20,
    "start_time": "2025-05-09T11:30:10.314Z"
   },
   {
    "duration": 11,
    "start_time": "2025-05-09T11:30:10.336Z"
   },
   {
    "duration": 260,
    "start_time": "2025-05-09T11:30:10.350Z"
   },
   {
    "duration": 421,
    "start_time": "2025-05-09T11:30:10.612Z"
   },
   {
    "duration": 10,
    "start_time": "2025-05-09T11:30:11.036Z"
   },
   {
    "duration": 357,
    "start_time": "2025-05-09T11:30:11.048Z"
   },
   {
    "duration": 1024,
    "start_time": "2025-05-09T11:30:11.407Z"
   },
   {
    "duration": 11,
    "start_time": "2025-05-09T11:30:12.436Z"
   },
   {
    "duration": 287,
    "start_time": "2025-05-09T11:30:12.449Z"
   },
   {
    "duration": 7,
    "start_time": "2025-05-09T11:30:12.738Z"
   },
   {
    "duration": 523,
    "start_time": "2025-05-09T11:30:12.746Z"
   },
   {
    "duration": 418,
    "start_time": "2025-05-09T11:30:13.271Z"
   },
   {
    "duration": 16,
    "start_time": "2025-05-09T11:30:13.690Z"
   },
   {
    "duration": 1443,
    "start_time": "2025-05-09T11:32:17.567Z"
   },
   {
    "duration": 1330,
    "start_time": "2025-05-09T11:32:29.993Z"
   },
   {
    "duration": 932,
    "start_time": "2025-05-09T11:33:16.881Z"
   },
   {
    "duration": 13,
    "start_time": "2025-05-09T11:33:45.137Z"
   },
   {
    "duration": 1470,
    "start_time": "2025-05-09T11:33:49.580Z"
   },
   {
    "duration": 4,
    "start_time": "2025-05-09T11:33:51.052Z"
   },
   {
    "duration": 11,
    "start_time": "2025-05-09T11:33:51.057Z"
   },
   {
    "duration": 56,
    "start_time": "2025-05-09T11:33:51.070Z"
   },
   {
    "duration": 13,
    "start_time": "2025-05-09T11:33:51.129Z"
   },
   {
    "duration": 16,
    "start_time": "2025-05-09T11:33:51.143Z"
   },
   {
    "duration": 8,
    "start_time": "2025-05-09T11:33:51.160Z"
   },
   {
    "duration": 14,
    "start_time": "2025-05-09T11:33:51.170Z"
   },
   {
    "duration": 8,
    "start_time": "2025-05-09T11:33:51.186Z"
   },
   {
    "duration": 21,
    "start_time": "2025-05-09T11:33:51.196Z"
   },
   {
    "duration": 19,
    "start_time": "2025-05-09T11:33:51.218Z"
   },
   {
    "duration": 25,
    "start_time": "2025-05-09T11:33:51.239Z"
   },
   {
    "duration": 4,
    "start_time": "2025-05-09T11:33:51.265Z"
   },
   {
    "duration": 265,
    "start_time": "2025-05-09T11:33:51.272Z"
   },
   {
    "duration": 406,
    "start_time": "2025-05-09T11:33:51.539Z"
   },
   {
    "duration": 10,
    "start_time": "2025-05-09T11:33:51.947Z"
   },
   {
    "duration": 353,
    "start_time": "2025-05-09T11:33:51.958Z"
   },
   {
    "duration": 14,
    "start_time": "2025-05-09T11:33:52.312Z"
   },
   {
    "duration": 950,
    "start_time": "2025-05-09T11:33:52.336Z"
   },
   {
    "duration": 10,
    "start_time": "2025-05-09T11:33:53.288Z"
   },
   {
    "duration": 294,
    "start_time": "2025-05-09T11:33:53.300Z"
   },
   {
    "duration": 9,
    "start_time": "2025-05-09T11:33:53.595Z"
   },
   {
    "duration": 445,
    "start_time": "2025-05-09T11:33:53.605Z"
   },
   {
    "duration": 454,
    "start_time": "2025-05-09T11:33:54.052Z"
   },
   {
    "duration": 12,
    "start_time": "2025-05-09T11:33:54.508Z"
   },
   {
    "duration": 1022,
    "start_time": "2025-05-09T11:35:41.608Z"
   },
   {
    "duration": 5209,
    "start_time": "2025-05-09T11:37:35.380Z"
   },
   {
    "duration": 1014,
    "start_time": "2025-05-09T11:38:13.529Z"
   },
   {
    "duration": 5194,
    "start_time": "2025-05-09T11:40:54.011Z"
   },
   {
    "duration": 5097,
    "start_time": "2025-05-09T11:41:48.250Z"
   },
   {
    "duration": 14,
    "start_time": "2025-05-09T11:43:13.952Z"
   },
   {
    "duration": 10,
    "start_time": "2025-05-09T11:43:36.296Z"
   },
   {
    "duration": 14,
    "start_time": "2025-05-09T11:43:50.670Z"
   },
   {
    "duration": 1556,
    "start_time": "2025-05-09T11:44:54.237Z"
   },
   {
    "duration": 4,
    "start_time": "2025-05-09T11:44:55.795Z"
   },
   {
    "duration": 13,
    "start_time": "2025-05-09T11:44:55.801Z"
   },
   {
    "duration": 61,
    "start_time": "2025-05-09T11:44:55.816Z"
   },
   {
    "duration": 14,
    "start_time": "2025-05-09T11:44:55.879Z"
   },
   {
    "duration": 59,
    "start_time": "2025-05-09T11:44:55.894Z"
   },
   {
    "duration": 9,
    "start_time": "2025-05-09T11:44:55.955Z"
   },
   {
    "duration": 13,
    "start_time": "2025-05-09T11:44:55.966Z"
   },
   {
    "duration": 8,
    "start_time": "2025-05-09T11:44:55.980Z"
   },
   {
    "duration": 8,
    "start_time": "2025-05-09T11:44:55.991Z"
   },
   {
    "duration": 5,
    "start_time": "2025-05-09T11:44:56.000Z"
   },
   {
    "duration": 46,
    "start_time": "2025-05-09T11:44:56.006Z"
   },
   {
    "duration": 4,
    "start_time": "2025-05-09T11:44:56.054Z"
   },
   {
    "duration": 276,
    "start_time": "2025-05-09T11:44:56.060Z"
   },
   {
    "duration": 423,
    "start_time": "2025-05-09T11:44:56.338Z"
   },
   {
    "duration": 10,
    "start_time": "2025-05-09T11:44:56.763Z"
   },
   {
    "duration": 445,
    "start_time": "2025-05-09T11:44:56.775Z"
   },
   {
    "duration": 5537,
    "start_time": "2025-05-09T11:44:57.221Z"
   },
   {
    "duration": 14,
    "start_time": "2025-05-09T11:45:02.760Z"
   },
   {
    "duration": 345,
    "start_time": "2025-05-09T11:45:02.776Z"
   },
   {
    "duration": 20,
    "start_time": "2025-05-09T11:45:03.123Z"
   },
   {
    "duration": 618,
    "start_time": "2025-05-09T11:45:03.145Z"
   },
   {
    "duration": 433,
    "start_time": "2025-05-09T11:45:03.765Z"
   },
   {
    "duration": 14,
    "start_time": "2025-05-09T12:19:48.228Z"
   },
   {
    "duration": 12,
    "start_time": "2025-05-09T12:23:22.175Z"
   },
   {
    "duration": 10,
    "start_time": "2025-05-09T12:23:49.166Z"
   },
   {
    "duration": 11,
    "start_time": "2025-05-09T12:37:08.121Z"
   },
   {
    "duration": 11,
    "start_time": "2025-05-09T12:37:22.128Z"
   },
   {
    "duration": 12,
    "start_time": "2025-05-09T12:37:27.773Z"
   },
   {
    "duration": 11,
    "start_time": "2025-05-09T12:37:30.945Z"
   },
   {
    "duration": 13,
    "start_time": "2025-05-09T12:38:30.249Z"
   },
   {
    "duration": 15,
    "start_time": "2025-05-09T12:38:42.650Z"
   },
   {
    "duration": 11,
    "start_time": "2025-05-09T12:39:51.156Z"
   },
   {
    "duration": 4,
    "start_time": "2025-05-09T12:45:06.065Z"
   },
   {
    "duration": 18,
    "start_time": "2025-05-09T12:45:10.249Z"
   },
   {
    "duration": 16,
    "start_time": "2025-05-09T12:45:17.567Z"
   },
   {
    "duration": 18,
    "start_time": "2025-05-09T12:45:38.578Z"
   },
   {
    "duration": 3,
    "start_time": "2025-05-09T12:56:07.456Z"
   },
   {
    "duration": 20,
    "start_time": "2025-05-09T12:57:17.074Z"
   },
   {
    "duration": 12,
    "start_time": "2025-05-09T12:57:29.976Z"
   },
   {
    "duration": 11,
    "start_time": "2025-05-09T13:00:17.045Z"
   },
   {
    "duration": 4,
    "start_time": "2025-05-09T13:00:17.915Z"
   },
   {
    "duration": 4,
    "start_time": "2025-05-09T13:00:18.764Z"
   },
   {
    "duration": 11,
    "start_time": "2025-05-09T13:00:32.558Z"
   },
   {
    "duration": 11,
    "start_time": "2025-05-09T13:00:46.924Z"
   },
   {
    "duration": 4,
    "start_time": "2025-05-09T13:00:47.530Z"
   },
   {
    "duration": 4,
    "start_time": "2025-05-09T13:00:48.086Z"
   },
   {
    "duration": 1662,
    "start_time": "2025-05-10T05:32:36.763Z"
   },
   {
    "duration": 4,
    "start_time": "2025-05-10T05:32:38.427Z"
   },
   {
    "duration": 44,
    "start_time": "2025-05-10T05:32:38.432Z"
   },
   {
    "duration": 92,
    "start_time": "2025-05-10T05:32:38.478Z"
   },
   {
    "duration": 13,
    "start_time": "2025-05-10T05:32:38.573Z"
   },
   {
    "duration": 35,
    "start_time": "2025-05-10T05:32:38.587Z"
   },
   {
    "duration": 37,
    "start_time": "2025-05-10T05:32:38.623Z"
   },
   {
    "duration": 47,
    "start_time": "2025-05-10T05:32:38.662Z"
   },
   {
    "duration": 7,
    "start_time": "2025-05-10T05:32:38.711Z"
   },
   {
    "duration": 10,
    "start_time": "2025-05-10T05:32:38.720Z"
   },
   {
    "duration": 3,
    "start_time": "2025-05-10T05:32:38.731Z"
   },
   {
    "duration": 17,
    "start_time": "2025-05-10T05:32:38.736Z"
   },
   {
    "duration": 4,
    "start_time": "2025-05-10T05:32:38.754Z"
   },
   {
    "duration": 242,
    "start_time": "2025-05-10T05:32:38.761Z"
   },
   {
    "duration": 390,
    "start_time": "2025-05-10T05:32:39.005Z"
   },
   {
    "duration": 9,
    "start_time": "2025-05-10T05:32:39.397Z"
   },
   {
    "duration": 357,
    "start_time": "2025-05-10T05:32:39.408Z"
   },
   {
    "duration": 4901,
    "start_time": "2025-05-10T05:32:39.766Z"
   },
   {
    "duration": 11,
    "start_time": "2025-05-10T05:32:44.669Z"
   },
   {
    "duration": 281,
    "start_time": "2025-05-10T05:32:44.681Z"
   },
   {
    "duration": 8,
    "start_time": "2025-05-10T05:32:44.964Z"
   },
   {
    "duration": 412,
    "start_time": "2025-05-10T05:32:44.973Z"
   },
   {
    "duration": 407,
    "start_time": "2025-05-10T05:32:45.387Z"
   },
   {
    "duration": 11,
    "start_time": "2025-05-10T05:32:45.796Z"
   },
   {
    "duration": 11,
    "start_time": "2025-05-10T05:32:45.808Z"
   },
   {
    "duration": 17,
    "start_time": "2025-05-10T05:32:45.821Z"
   },
   {
    "duration": 36,
    "start_time": "2025-05-10T05:32:45.840Z"
   },
   {
    "duration": 11,
    "start_time": "2025-05-10T05:32:45.878Z"
   },
   {
    "duration": 4,
    "start_time": "2025-05-10T05:32:45.891Z"
   },
   {
    "duration": 5,
    "start_time": "2025-05-10T05:32:45.896Z"
   },
   {
    "duration": 12,
    "start_time": "2025-05-10T05:34:14.659Z"
   },
   {
    "duration": 12,
    "start_time": "2025-05-10T05:34:23.373Z"
   },
   {
    "duration": 14,
    "start_time": "2025-05-10T05:42:05.234Z"
   },
   {
    "duration": 13,
    "start_time": "2025-05-10T05:42:21.603Z"
   },
   {
    "duration": 1428,
    "start_time": "2025-05-10T05:44:35.754Z"
   },
   {
    "duration": 4,
    "start_time": "2025-05-10T05:44:37.184Z"
   },
   {
    "duration": 14,
    "start_time": "2025-05-10T05:44:37.189Z"
   },
   {
    "duration": 52,
    "start_time": "2025-05-10T05:44:37.205Z"
   },
   {
    "duration": 13,
    "start_time": "2025-05-10T05:44:37.260Z"
   },
   {
    "duration": 35,
    "start_time": "2025-05-10T05:44:37.274Z"
   },
   {
    "duration": 21,
    "start_time": "2025-05-10T05:44:37.311Z"
   },
   {
    "duration": 12,
    "start_time": "2025-05-10T05:44:37.334Z"
   },
   {
    "duration": 6,
    "start_time": "2025-05-10T05:44:37.348Z"
   },
   {
    "duration": 23,
    "start_time": "2025-05-10T05:44:37.356Z"
   },
   {
    "duration": 18,
    "start_time": "2025-05-10T05:44:37.381Z"
   },
   {
    "duration": 27,
    "start_time": "2025-05-10T05:44:37.400Z"
   },
   {
    "duration": 5,
    "start_time": "2025-05-10T05:44:37.428Z"
   },
   {
    "duration": 242,
    "start_time": "2025-05-10T05:44:37.436Z"
   },
   {
    "duration": 435,
    "start_time": "2025-05-10T05:44:37.680Z"
   },
   {
    "duration": 10,
    "start_time": "2025-05-10T05:44:38.116Z"
   },
   {
    "duration": 294,
    "start_time": "2025-05-10T05:44:38.127Z"
   },
   {
    "duration": 4927,
    "start_time": "2025-05-10T05:44:38.423Z"
   },
   {
    "duration": 15,
    "start_time": "2025-05-10T05:44:43.351Z"
   },
   {
    "duration": 265,
    "start_time": "2025-05-10T05:44:43.368Z"
   },
   {
    "duration": 8,
    "start_time": "2025-05-10T05:44:43.634Z"
   },
   {
    "duration": 431,
    "start_time": "2025-05-10T05:44:43.643Z"
   },
   {
    "duration": 424,
    "start_time": "2025-05-10T05:44:44.075Z"
   },
   {
    "duration": 10,
    "start_time": "2025-05-10T05:44:44.500Z"
   },
   {
    "duration": 68,
    "start_time": "2025-05-10T05:44:44.512Z"
   },
   {
    "duration": 16,
    "start_time": "2025-05-10T05:44:44.582Z"
   },
   {
    "duration": 26,
    "start_time": "2025-05-10T05:44:44.600Z"
   },
   {
    "duration": 20,
    "start_time": "2025-05-10T05:44:44.628Z"
   },
   {
    "duration": 26,
    "start_time": "2025-05-10T05:44:44.650Z"
   },
   {
    "duration": 37,
    "start_time": "2025-05-10T05:44:44.677Z"
   },
   {
    "duration": 12,
    "start_time": "2025-05-10T05:44:44.716Z"
   },
   {
    "duration": 5,
    "start_time": "2025-05-10T05:44:44.730Z"
   },
   {
    "duration": 6,
    "start_time": "2025-05-10T05:47:29.987Z"
   },
   {
    "duration": 13,
    "start_time": "2025-05-10T05:48:18.206Z"
   },
   {
    "duration": 11,
    "start_time": "2025-05-10T05:48:44.529Z"
   },
   {
    "duration": 11,
    "start_time": "2025-05-10T05:48:50.494Z"
   },
   {
    "duration": 5,
    "start_time": "2025-05-10T05:52:32.127Z"
   },
   {
    "duration": 5,
    "start_time": "2025-05-10T05:52:39.622Z"
   },
   {
    "duration": 6,
    "start_time": "2025-05-10T05:52:45.476Z"
   },
   {
    "duration": 1534,
    "start_time": "2025-05-10T05:56:07.664Z"
   },
   {
    "duration": 4,
    "start_time": "2025-05-10T05:56:09.199Z"
   },
   {
    "duration": 8,
    "start_time": "2025-05-10T05:56:09.204Z"
   },
   {
    "duration": 46,
    "start_time": "2025-05-10T05:56:09.214Z"
   },
   {
    "duration": 12,
    "start_time": "2025-05-10T05:56:09.262Z"
   },
   {
    "duration": 14,
    "start_time": "2025-05-10T05:56:09.276Z"
   },
   {
    "duration": 10,
    "start_time": "2025-05-10T05:56:09.292Z"
   },
   {
    "duration": 13,
    "start_time": "2025-05-10T05:56:09.303Z"
   },
   {
    "duration": 8,
    "start_time": "2025-05-10T05:56:09.317Z"
   },
   {
    "duration": 8,
    "start_time": "2025-05-10T05:56:09.327Z"
   },
   {
    "duration": 82,
    "start_time": "2025-05-10T05:56:09.337Z"
   },
   {
    "duration": 18,
    "start_time": "2025-05-10T05:56:09.421Z"
   },
   {
    "duration": 4,
    "start_time": "2025-05-10T05:56:09.440Z"
   },
   {
    "duration": 240,
    "start_time": "2025-05-10T05:56:09.445Z"
   },
   {
    "duration": 460,
    "start_time": "2025-05-10T05:56:09.687Z"
   },
   {
    "duration": 9,
    "start_time": "2025-05-10T05:56:10.149Z"
   },
   {
    "duration": 279,
    "start_time": "2025-05-10T05:56:10.159Z"
   },
   {
    "duration": 4931,
    "start_time": "2025-05-10T05:56:10.440Z"
   },
   {
    "duration": 12,
    "start_time": "2025-05-10T05:56:15.372Z"
   },
   {
    "duration": 350,
    "start_time": "2025-05-10T05:56:15.385Z"
   },
   {
    "duration": 7,
    "start_time": "2025-05-10T05:56:15.737Z"
   },
   {
    "duration": 449,
    "start_time": "2025-05-10T05:56:15.746Z"
   },
   {
    "duration": 422,
    "start_time": "2025-05-10T05:56:16.196Z"
   },
   {
    "duration": 12,
    "start_time": "2025-05-10T05:56:16.620Z"
   },
   {
    "duration": 10,
    "start_time": "2025-05-10T05:56:16.634Z"
   },
   {
    "duration": 21,
    "start_time": "2025-05-10T05:56:16.663Z"
   },
   {
    "duration": 18,
    "start_time": "2025-05-10T05:56:16.686Z"
   },
   {
    "duration": 11,
    "start_time": "2025-05-10T05:56:16.708Z"
   },
   {
    "duration": 18,
    "start_time": "2025-05-10T05:56:16.721Z"
   },
   {
    "duration": 8,
    "start_time": "2025-05-10T05:56:16.762Z"
   },
   {
    "duration": 13,
    "start_time": "2025-05-10T05:56:16.772Z"
   },
   {
    "duration": 10,
    "start_time": "2025-05-10T05:56:16.786Z"
   },
   {
    "duration": 2,
    "start_time": "2025-05-10T06:24:16.156Z"
   },
   {
    "duration": 122,
    "start_time": "2025-05-10T06:36:32.420Z"
   },
   {
    "duration": 1452,
    "start_time": "2025-05-10T06:49:50.122Z"
   },
   {
    "duration": 5,
    "start_time": "2025-05-10T06:49:51.576Z"
   },
   {
    "duration": 63,
    "start_time": "2025-05-10T06:49:51.582Z"
   },
   {
    "duration": 50,
    "start_time": "2025-05-10T06:49:51.646Z"
   },
   {
    "duration": 11,
    "start_time": "2025-05-10T06:49:51.698Z"
   },
   {
    "duration": 34,
    "start_time": "2025-05-10T06:49:51.711Z"
   },
   {
    "duration": 10,
    "start_time": "2025-05-10T06:49:51.746Z"
   },
   {
    "duration": 20,
    "start_time": "2025-05-10T06:49:51.757Z"
   },
   {
    "duration": 11,
    "start_time": "2025-05-10T06:49:51.778Z"
   },
   {
    "duration": 9,
    "start_time": "2025-05-10T06:49:51.791Z"
   },
   {
    "duration": 42,
    "start_time": "2025-05-10T06:49:51.801Z"
   },
   {
    "duration": 18,
    "start_time": "2025-05-10T06:49:51.845Z"
   },
   {
    "duration": 4,
    "start_time": "2025-05-10T06:49:51.865Z"
   },
   {
    "duration": 255,
    "start_time": "2025-05-10T06:49:51.873Z"
   },
   {
    "duration": 401,
    "start_time": "2025-05-10T06:49:52.130Z"
   },
   {
    "duration": 10,
    "start_time": "2025-05-10T06:49:52.533Z"
   },
   {
    "duration": 284,
    "start_time": "2025-05-10T06:49:52.544Z"
   },
   {
    "duration": 4766,
    "start_time": "2025-05-10T06:49:52.830Z"
   },
   {
    "duration": 12,
    "start_time": "2025-05-10T06:49:57.598Z"
   },
   {
    "duration": 407,
    "start_time": "2025-05-10T06:49:57.612Z"
   },
   {
    "duration": 8,
    "start_time": "2025-05-10T06:49:58.021Z"
   },
   {
    "duration": 404,
    "start_time": "2025-05-10T06:49:58.031Z"
   },
   {
    "duration": 407,
    "start_time": "2025-05-10T06:49:58.436Z"
   },
   {
    "duration": 10,
    "start_time": "2025-05-10T06:49:58.844Z"
   },
   {
    "duration": 9,
    "start_time": "2025-05-10T06:49:58.862Z"
   },
   {
    "duration": 33,
    "start_time": "2025-05-10T06:49:58.873Z"
   },
   {
    "duration": 15,
    "start_time": "2025-05-10T06:49:58.907Z"
   },
   {
    "duration": 10,
    "start_time": "2025-05-10T06:49:58.923Z"
   },
   {
    "duration": 21,
    "start_time": "2025-05-10T06:49:58.934Z"
   },
   {
    "duration": 7,
    "start_time": "2025-05-10T06:49:58.956Z"
   },
   {
    "duration": 2,
    "start_time": "2025-05-10T06:49:58.965Z"
   },
   {
    "duration": 3,
    "start_time": "2025-05-10T06:49:58.968Z"
   },
   {
    "duration": 5,
    "start_time": "2025-05-10T06:49:58.973Z"
   },
   {
    "duration": 2818,
    "start_time": "2025-05-10T06:49:58.979Z"
   },
   {
    "duration": 0,
    "start_time": "2025-05-10T06:50:01.799Z"
   },
   {
    "duration": 0,
    "start_time": "2025-05-10T06:50:01.800Z"
   },
   {
    "duration": 0,
    "start_time": "2025-05-10T06:50:01.801Z"
   },
   {
    "duration": 0,
    "start_time": "2025-05-10T06:50:01.803Z"
   },
   {
    "duration": 5,
    "start_time": "2025-05-10T06:50:38.212Z"
   },
   {
    "duration": 2664,
    "start_time": "2025-05-10T06:50:39.675Z"
   },
   {
    "duration": 15,
    "start_time": "2025-05-10T06:50:44.014Z"
   },
   {
    "duration": 20,
    "start_time": "2025-05-10T06:50:59.374Z"
   },
   {
    "duration": 6,
    "start_time": "2025-05-10T06:52:40.627Z"
   },
   {
    "duration": 2755,
    "start_time": "2025-05-10T06:52:42.051Z"
   },
   {
    "duration": 17,
    "start_time": "2025-05-10T06:52:45.750Z"
   },
   {
    "duration": 5,
    "start_time": "2025-05-10T06:52:53.976Z"
   },
   {
    "duration": 2692,
    "start_time": "2025-05-10T06:52:55.402Z"
   },
   {
    "duration": 17,
    "start_time": "2025-05-10T06:52:59.090Z"
   },
   {
    "duration": 1429,
    "start_time": "2025-05-10T06:53:25.046Z"
   },
   {
    "duration": 3,
    "start_time": "2025-05-10T06:53:26.477Z"
   },
   {
    "duration": 13,
    "start_time": "2025-05-10T06:53:26.481Z"
   },
   {
    "duration": 52,
    "start_time": "2025-05-10T06:53:26.495Z"
   },
   {
    "duration": 13,
    "start_time": "2025-05-10T06:53:26.549Z"
   },
   {
    "duration": 8,
    "start_time": "2025-05-10T06:53:26.563Z"
   },
   {
    "duration": 27,
    "start_time": "2025-05-10T06:53:26.572Z"
   },
   {
    "duration": 20,
    "start_time": "2025-05-10T06:53:26.601Z"
   },
   {
    "duration": 7,
    "start_time": "2025-05-10T06:53:26.623Z"
   },
   {
    "duration": 9,
    "start_time": "2025-05-10T06:53:26.631Z"
   },
   {
    "duration": 4,
    "start_time": "2025-05-10T06:53:26.641Z"
   },
   {
    "duration": 17,
    "start_time": "2025-05-10T06:53:26.646Z"
   },
   {
    "duration": 4,
    "start_time": "2025-05-10T06:53:26.664Z"
   },
   {
    "duration": 248,
    "start_time": "2025-05-10T06:53:26.671Z"
   },
   {
    "duration": 431,
    "start_time": "2025-05-10T06:53:26.920Z"
   },
   {
    "duration": 9,
    "start_time": "2025-05-10T06:53:27.353Z"
   },
   {
    "duration": 266,
    "start_time": "2025-05-10T06:53:27.364Z"
   },
   {
    "duration": 4883,
    "start_time": "2025-05-10T06:53:27.631Z"
   },
   {
    "duration": 11,
    "start_time": "2025-05-10T06:53:32.516Z"
   },
   {
    "duration": 382,
    "start_time": "2025-05-10T06:53:32.528Z"
   },
   {
    "duration": 7,
    "start_time": "2025-05-10T06:53:32.912Z"
   },
   {
    "duration": 418,
    "start_time": "2025-05-10T06:53:32.921Z"
   },
   {
    "duration": 436,
    "start_time": "2025-05-10T06:53:33.341Z"
   },
   {
    "duration": 10,
    "start_time": "2025-05-10T06:53:33.778Z"
   },
   {
    "duration": 14,
    "start_time": "2025-05-10T06:53:33.790Z"
   },
   {
    "duration": 17,
    "start_time": "2025-05-10T06:53:33.805Z"
   },
   {
    "duration": 39,
    "start_time": "2025-05-10T06:53:33.823Z"
   },
   {
    "duration": 11,
    "start_time": "2025-05-10T06:53:33.864Z"
   },
   {
    "duration": 11,
    "start_time": "2025-05-10T06:53:33.876Z"
   },
   {
    "duration": 8,
    "start_time": "2025-05-10T06:53:33.888Z"
   },
   {
    "duration": 43,
    "start_time": "2025-05-10T06:53:33.898Z"
   },
   {
    "duration": 15,
    "start_time": "2025-05-10T06:53:33.943Z"
   },
   {
    "duration": 25,
    "start_time": "2025-05-10T06:53:33.960Z"
   },
   {
    "duration": 2701,
    "start_time": "2025-05-10T06:53:33.986Z"
   },
   {
    "duration": 11,
    "start_time": "2025-05-10T06:53:36.688Z"
   },
   {
    "duration": 1518,
    "start_time": "2025-05-10T08:12:09.478Z"
   },
   {
    "duration": 5,
    "start_time": "2025-05-10T08:12:10.998Z"
   },
   {
    "duration": 7,
    "start_time": "2025-05-10T08:12:11.004Z"
   },
   {
    "duration": 127,
    "start_time": "2025-05-10T08:12:11.012Z"
   },
   {
    "duration": 0,
    "start_time": "2025-05-10T08:12:11.141Z"
   },
   {
    "duration": 0,
    "start_time": "2025-05-10T08:12:11.143Z"
   },
   {
    "duration": 0,
    "start_time": "2025-05-10T08:12:11.144Z"
   },
   {
    "duration": 0,
    "start_time": "2025-05-10T08:12:11.145Z"
   },
   {
    "duration": 0,
    "start_time": "2025-05-10T08:12:11.146Z"
   },
   {
    "duration": 0,
    "start_time": "2025-05-10T08:12:11.161Z"
   },
   {
    "duration": 1,
    "start_time": "2025-05-10T08:12:11.162Z"
   },
   {
    "duration": 0,
    "start_time": "2025-05-10T08:12:11.164Z"
   },
   {
    "duration": 0,
    "start_time": "2025-05-10T08:12:11.164Z"
   },
   {
    "duration": 0,
    "start_time": "2025-05-10T08:12:11.165Z"
   },
   {
    "duration": 0,
    "start_time": "2025-05-10T08:12:11.166Z"
   },
   {
    "duration": 0,
    "start_time": "2025-05-10T08:12:11.167Z"
   },
   {
    "duration": 0,
    "start_time": "2025-05-10T08:12:11.168Z"
   },
   {
    "duration": 0,
    "start_time": "2025-05-10T08:12:11.169Z"
   },
   {
    "duration": 0,
    "start_time": "2025-05-10T08:12:11.170Z"
   },
   {
    "duration": 0,
    "start_time": "2025-05-10T08:12:11.171Z"
   },
   {
    "duration": 0,
    "start_time": "2025-05-10T08:12:11.172Z"
   },
   {
    "duration": 0,
    "start_time": "2025-05-10T08:12:11.173Z"
   },
   {
    "duration": 0,
    "start_time": "2025-05-10T08:12:11.174Z"
   },
   {
    "duration": 0,
    "start_time": "2025-05-10T08:12:11.175Z"
   },
   {
    "duration": 0,
    "start_time": "2025-05-10T08:12:11.176Z"
   },
   {
    "duration": 0,
    "start_time": "2025-05-10T08:12:11.176Z"
   },
   {
    "duration": 0,
    "start_time": "2025-05-10T08:12:11.178Z"
   },
   {
    "duration": 0,
    "start_time": "2025-05-10T08:12:11.178Z"
   },
   {
    "duration": 0,
    "start_time": "2025-05-10T08:12:11.180Z"
   },
   {
    "duration": 0,
    "start_time": "2025-05-10T08:12:11.180Z"
   },
   {
    "duration": 0,
    "start_time": "2025-05-10T08:12:11.181Z"
   },
   {
    "duration": 0,
    "start_time": "2025-05-10T08:12:11.182Z"
   },
   {
    "duration": 0,
    "start_time": "2025-05-10T08:12:11.183Z"
   },
   {
    "duration": 0,
    "start_time": "2025-05-10T08:12:11.184Z"
   },
   {
    "duration": 0,
    "start_time": "2025-05-10T08:12:11.185Z"
   },
   {
    "duration": 0,
    "start_time": "2025-05-10T08:12:11.186Z"
   },
   {
    "duration": 0,
    "start_time": "2025-05-10T08:12:11.187Z"
   },
   {
    "duration": 0,
    "start_time": "2025-05-10T08:12:11.188Z"
   },
   {
    "duration": 0,
    "start_time": "2025-05-10T08:12:11.189Z"
   },
   {
    "duration": 0,
    "start_time": "2025-05-10T08:12:11.189Z"
   },
   {
    "duration": 0,
    "start_time": "2025-05-10T08:12:11.191Z"
   },
   {
    "duration": 1455,
    "start_time": "2025-05-10T08:14:08.326Z"
   },
   {
    "duration": 4,
    "start_time": "2025-05-10T08:14:09.782Z"
   },
   {
    "duration": 6,
    "start_time": "2025-05-10T08:14:09.788Z"
   },
   {
    "duration": 6,
    "start_time": "2025-05-10T08:14:09.796Z"
   },
   {
    "duration": 58,
    "start_time": "2025-05-10T08:14:09.804Z"
   },
   {
    "duration": 13,
    "start_time": "2025-05-10T08:14:09.864Z"
   },
   {
    "duration": 22,
    "start_time": "2025-05-10T08:14:09.878Z"
   },
   {
    "duration": 9,
    "start_time": "2025-05-10T08:14:09.902Z"
   },
   {
    "duration": 14,
    "start_time": "2025-05-10T08:14:09.913Z"
   },
   {
    "duration": 9,
    "start_time": "2025-05-10T08:14:09.929Z"
   },
   {
    "duration": 30,
    "start_time": "2025-05-10T08:14:09.940Z"
   },
   {
    "duration": 7,
    "start_time": "2025-05-10T08:14:09.972Z"
   },
   {
    "duration": 16,
    "start_time": "2025-05-10T08:14:09.981Z"
   },
   {
    "duration": 4,
    "start_time": "2025-05-10T08:14:10.000Z"
   },
   {
    "duration": 286,
    "start_time": "2025-05-10T08:14:10.005Z"
   },
   {
    "duration": 418,
    "start_time": "2025-05-10T08:14:10.293Z"
   },
   {
    "duration": 10,
    "start_time": "2025-05-10T08:14:10.712Z"
   },
   {
    "duration": 295,
    "start_time": "2025-05-10T08:14:10.724Z"
   },
   {
    "duration": 4872,
    "start_time": "2025-05-10T08:14:11.021Z"
   },
   {
    "duration": 10,
    "start_time": "2025-05-10T08:14:15.895Z"
   },
   {
    "duration": 399,
    "start_time": "2025-05-10T08:14:15.907Z"
   },
   {
    "duration": 8,
    "start_time": "2025-05-10T08:14:16.308Z"
   },
   {
    "duration": 456,
    "start_time": "2025-05-10T08:14:16.318Z"
   },
   {
    "duration": 414,
    "start_time": "2025-05-10T08:14:16.775Z"
   },
   {
    "duration": 10,
    "start_time": "2025-05-10T08:14:17.190Z"
   },
   {
    "duration": 13,
    "start_time": "2025-05-10T08:14:17.201Z"
   },
   {
    "duration": 17,
    "start_time": "2025-05-10T08:14:17.215Z"
   },
   {
    "duration": 37,
    "start_time": "2025-05-10T08:14:17.233Z"
   },
   {
    "duration": 11,
    "start_time": "2025-05-10T08:14:17.271Z"
   },
   {
    "duration": 5,
    "start_time": "2025-05-10T08:14:17.283Z"
   },
   {
    "duration": 7,
    "start_time": "2025-05-10T08:14:17.290Z"
   },
   {
    "duration": 4,
    "start_time": "2025-05-10T08:14:17.298Z"
   },
   {
    "duration": 4,
    "start_time": "2025-05-10T08:14:17.303Z"
   },
   {
    "duration": 70,
    "start_time": "2025-05-10T08:14:17.308Z"
   },
   {
    "duration": 551,
    "start_time": "2025-05-10T08:14:17.380Z"
   },
   {
    "duration": 1978,
    "start_time": "2025-05-10T08:14:17.934Z"
   },
   {
    "duration": 8564,
    "start_time": "2025-05-10T08:14:19.914Z"
   },
   {
    "duration": 31499,
    "start_time": "2025-05-10T08:14:28.480Z"
   },
   {
    "duration": 12,
    "start_time": "2025-05-10T08:14:59.981Z"
   },
   {
    "duration": 30,
    "start_time": "2025-05-10T08:14:59.994Z"
   },
   {
    "duration": 39,
    "start_time": "2025-05-10T08:15:00.029Z"
   },
   {
    "duration": 6,
    "start_time": "2025-05-10T08:17:16.546Z"
   },
   {
    "duration": 1399,
    "start_time": "2025-05-10T08:17:21.382Z"
   },
   {
    "duration": 3,
    "start_time": "2025-05-10T08:17:22.783Z"
   },
   {
    "duration": 9,
    "start_time": "2025-05-10T08:17:22.788Z"
   },
   {
    "duration": 78,
    "start_time": "2025-05-10T08:17:22.798Z"
   },
   {
    "duration": 45,
    "start_time": "2025-05-10T08:17:22.878Z"
   },
   {
    "duration": 12,
    "start_time": "2025-05-10T08:17:22.925Z"
   },
   {
    "duration": 16,
    "start_time": "2025-05-10T08:17:22.938Z"
   },
   {
    "duration": 7,
    "start_time": "2025-05-10T08:17:22.955Z"
   },
   {
    "duration": 18,
    "start_time": "2025-05-10T08:17:22.964Z"
   },
   {
    "duration": 7,
    "start_time": "2025-05-10T08:17:22.983Z"
   },
   {
    "duration": 21,
    "start_time": "2025-05-10T08:17:22.992Z"
   },
   {
    "duration": 24,
    "start_time": "2025-05-10T08:17:23.014Z"
   },
   {
    "duration": 14,
    "start_time": "2025-05-10T08:17:23.040Z"
   },
   {
    "duration": 4,
    "start_time": "2025-05-10T08:17:23.057Z"
   },
   {
    "duration": 252,
    "start_time": "2025-05-10T08:17:23.063Z"
   },
   {
    "duration": 398,
    "start_time": "2025-05-10T08:17:23.317Z"
   },
   {
    "duration": 9,
    "start_time": "2025-05-10T08:17:23.716Z"
   },
   {
    "duration": 290,
    "start_time": "2025-05-10T08:17:23.726Z"
   },
   {
    "duration": 4702,
    "start_time": "2025-05-10T08:17:24.018Z"
   },
   {
    "duration": 12,
    "start_time": "2025-05-10T08:17:28.721Z"
   },
   {
    "duration": 381,
    "start_time": "2025-05-10T08:17:28.735Z"
   },
   {
    "duration": 8,
    "start_time": "2025-05-10T08:17:29.118Z"
   },
   {
    "duration": 460,
    "start_time": "2025-05-10T08:17:29.127Z"
   },
   {
    "duration": 432,
    "start_time": "2025-05-10T08:17:29.589Z"
   },
   {
    "duration": 13,
    "start_time": "2025-05-10T08:17:30.023Z"
   },
   {
    "duration": 101,
    "start_time": "2025-05-10T08:17:30.038Z"
   },
   {
    "duration": 31,
    "start_time": "2025-05-10T08:17:30.141Z"
   },
   {
    "duration": 34,
    "start_time": "2025-05-10T08:17:30.174Z"
   },
   {
    "duration": 23,
    "start_time": "2025-05-10T08:17:30.209Z"
   },
   {
    "duration": 117,
    "start_time": "2025-05-10T08:17:30.233Z"
   },
   {
    "duration": 35,
    "start_time": "2025-05-10T08:17:30.352Z"
   },
   {
    "duration": 34,
    "start_time": "2025-05-10T08:17:30.389Z"
   },
   {
    "duration": 32,
    "start_time": "2025-05-10T08:17:30.425Z"
   },
   {
    "duration": 66,
    "start_time": "2025-05-10T08:17:30.460Z"
   },
   {
    "duration": 515,
    "start_time": "2025-05-10T08:17:30.527Z"
   },
   {
    "duration": 2011,
    "start_time": "2025-05-10T08:17:31.044Z"
   },
   {
    "duration": 14812,
    "start_time": "2025-05-10T08:17:33.057Z"
   },
   {
    "duration": 84656,
    "start_time": "2025-05-10T08:17:47.871Z"
   },
   {
    "duration": 12,
    "start_time": "2025-05-10T08:19:12.528Z"
   },
   {
    "duration": 4,
    "start_time": "2025-05-10T08:19:12.542Z"
   },
   {
    "duration": 3,
    "start_time": "2025-05-10T08:19:12.549Z"
   },
   {
    "duration": 1425,
    "start_time": "2025-05-10T08:38:07.174Z"
   },
   {
    "duration": 3,
    "start_time": "2025-05-10T08:38:08.601Z"
   },
   {
    "duration": 6,
    "start_time": "2025-05-10T08:38:08.605Z"
   },
   {
    "duration": 7,
    "start_time": "2025-05-10T08:38:08.612Z"
   },
   {
    "duration": 53,
    "start_time": "2025-05-10T08:38:08.621Z"
   },
   {
    "duration": 11,
    "start_time": "2025-05-10T08:38:08.676Z"
   },
   {
    "duration": 8,
    "start_time": "2025-05-10T08:38:08.688Z"
   },
   {
    "duration": 5,
    "start_time": "2025-05-10T08:38:08.697Z"
   },
   {
    "duration": 12,
    "start_time": "2025-05-10T08:38:08.703Z"
   },
   {
    "duration": 7,
    "start_time": "2025-05-10T08:38:08.716Z"
   },
   {
    "duration": 6,
    "start_time": "2025-05-10T08:38:08.724Z"
   },
   {
    "duration": 31,
    "start_time": "2025-05-10T08:38:08.732Z"
   },
   {
    "duration": 15,
    "start_time": "2025-05-10T08:38:08.764Z"
   },
   {
    "duration": 4,
    "start_time": "2025-05-10T08:38:08.782Z"
   },
   {
    "duration": 260,
    "start_time": "2025-05-10T08:38:08.788Z"
   },
   {
    "duration": 405,
    "start_time": "2025-05-10T08:38:09.050Z"
   },
   {
    "duration": 10,
    "start_time": "2025-05-10T08:38:09.456Z"
   },
   {
    "duration": 274,
    "start_time": "2025-05-10T08:38:09.467Z"
   },
   {
    "duration": 4857,
    "start_time": "2025-05-10T08:38:09.743Z"
   },
   {
    "duration": 12,
    "start_time": "2025-05-10T08:38:14.601Z"
   },
   {
    "duration": 400,
    "start_time": "2025-05-10T08:38:14.614Z"
   },
   {
    "duration": 7,
    "start_time": "2025-05-10T08:38:15.016Z"
   },
   {
    "duration": 460,
    "start_time": "2025-05-10T08:38:15.025Z"
   },
   {
    "duration": 408,
    "start_time": "2025-05-10T08:38:15.487Z"
   },
   {
    "duration": 11,
    "start_time": "2025-05-10T08:38:15.896Z"
   },
   {
    "duration": 22,
    "start_time": "2025-05-10T08:38:15.909Z"
   },
   {
    "duration": 63,
    "start_time": "2025-05-10T08:38:15.932Z"
   },
   {
    "duration": 15,
    "start_time": "2025-05-10T08:38:15.997Z"
   },
   {
    "duration": 116,
    "start_time": "2025-05-10T08:38:16.014Z"
   },
   {
    "duration": 0,
    "start_time": "2025-05-10T08:38:16.132Z"
   },
   {
    "duration": 0,
    "start_time": "2025-05-10T08:38:16.133Z"
   },
   {
    "duration": 0,
    "start_time": "2025-05-10T08:38:16.134Z"
   },
   {
    "duration": 0,
    "start_time": "2025-05-10T08:38:16.136Z"
   },
   {
    "duration": 0,
    "start_time": "2025-05-10T08:38:16.137Z"
   },
   {
    "duration": 0,
    "start_time": "2025-05-10T08:38:16.138Z"
   },
   {
    "duration": 0,
    "start_time": "2025-05-10T08:38:16.139Z"
   },
   {
    "duration": 0,
    "start_time": "2025-05-10T08:38:16.140Z"
   },
   {
    "duration": 0,
    "start_time": "2025-05-10T08:38:16.141Z"
   },
   {
    "duration": 0,
    "start_time": "2025-05-10T08:38:16.142Z"
   },
   {
    "duration": 0,
    "start_time": "2025-05-10T08:38:16.162Z"
   },
   {
    "duration": 13,
    "start_time": "2025-05-10T08:38:34.524Z"
   },
   {
    "duration": 19,
    "start_time": "2025-05-10T08:38:35.696Z"
   },
   {
    "duration": 1429,
    "start_time": "2025-05-10T08:40:42.017Z"
   },
   {
    "duration": 3,
    "start_time": "2025-05-10T08:40:43.448Z"
   },
   {
    "duration": 21,
    "start_time": "2025-05-10T08:40:43.453Z"
   },
   {
    "duration": 7,
    "start_time": "2025-05-10T08:40:43.475Z"
   },
   {
    "duration": 57,
    "start_time": "2025-05-10T08:40:43.484Z"
   },
   {
    "duration": 11,
    "start_time": "2025-05-10T08:40:43.543Z"
   },
   {
    "duration": 10,
    "start_time": "2025-05-10T08:40:43.555Z"
   },
   {
    "duration": 6,
    "start_time": "2025-05-10T08:40:43.566Z"
   },
   {
    "duration": 17,
    "start_time": "2025-05-10T08:40:43.574Z"
   },
   {
    "duration": 8,
    "start_time": "2025-05-10T08:40:43.593Z"
   },
   {
    "duration": 10,
    "start_time": "2025-05-10T08:40:43.603Z"
   },
   {
    "duration": 4,
    "start_time": "2025-05-10T08:40:43.615Z"
   },
   {
    "duration": 46,
    "start_time": "2025-05-10T08:40:43.621Z"
   },
   {
    "duration": 4,
    "start_time": "2025-05-10T08:40:43.670Z"
   },
   {
    "duration": 253,
    "start_time": "2025-05-10T08:40:43.675Z"
   },
   {
    "duration": 422,
    "start_time": "2025-05-10T08:40:43.929Z"
   },
   {
    "duration": 9,
    "start_time": "2025-05-10T08:40:44.353Z"
   },
   {
    "duration": 350,
    "start_time": "2025-05-10T08:40:44.364Z"
   },
   {
    "duration": 4866,
    "start_time": "2025-05-10T08:40:44.715Z"
   },
   {
    "duration": 11,
    "start_time": "2025-05-10T08:40:49.583Z"
   },
   {
    "duration": 415,
    "start_time": "2025-05-10T08:40:49.595Z"
   },
   {
    "duration": 10,
    "start_time": "2025-05-10T08:40:50.012Z"
   },
   {
    "duration": 453,
    "start_time": "2025-05-10T08:40:50.024Z"
   },
   {
    "duration": 416,
    "start_time": "2025-05-10T08:40:50.478Z"
   },
   {
    "duration": 10,
    "start_time": "2025-05-10T08:40:50.896Z"
   },
   {
    "duration": 47,
    "start_time": "2025-05-10T08:40:50.908Z"
   },
   {
    "duration": 51,
    "start_time": "2025-05-10T08:40:50.957Z"
   },
   {
    "duration": 23,
    "start_time": "2025-05-10T08:40:51.009Z"
   },
   {
    "duration": 16,
    "start_time": "2025-05-10T08:40:51.033Z"
   },
   {
    "duration": 4,
    "start_time": "2025-05-10T08:40:51.051Z"
   },
   {
    "duration": 22,
    "start_time": "2025-05-10T08:40:51.056Z"
   },
   {
    "duration": 7,
    "start_time": "2025-05-10T08:40:51.080Z"
   },
   {
    "duration": 4,
    "start_time": "2025-05-10T08:40:51.089Z"
   },
   {
    "duration": 69,
    "start_time": "2025-05-10T08:40:51.094Z"
   },
   {
    "duration": 535,
    "start_time": "2025-05-10T08:40:51.165Z"
   },
   {
    "duration": 4938,
    "start_time": "2025-05-10T08:40:51.702Z"
   },
   {
    "duration": 38729,
    "start_time": "2025-05-10T08:40:56.642Z"
   },
   {
    "duration": 85774,
    "start_time": "2025-05-10T08:41:35.373Z"
   },
   {
    "duration": 12,
    "start_time": "2025-05-10T08:43:01.148Z"
   },
   {
    "duration": 11,
    "start_time": "2025-05-10T08:43:34.743Z"
   },
   {
    "duration": 5,
    "start_time": "2025-05-10T09:05:15.953Z"
   },
   {
    "duration": 14,
    "start_time": "2025-05-10T09:08:09.920Z"
   },
   {
    "duration": 6,
    "start_time": "2025-05-10T09:09:24.935Z"
   },
   {
    "duration": 12,
    "start_time": "2025-05-10T09:09:54.701Z"
   },
   {
    "duration": 10,
    "start_time": "2025-05-10T09:19:02.965Z"
   },
   {
    "duration": 5,
    "start_time": "2025-05-10T09:19:04.220Z"
   },
   {
    "duration": 1465,
    "start_time": "2025-05-10T09:22:22.544Z"
   },
   {
    "duration": 3,
    "start_time": "2025-05-10T09:22:24.011Z"
   },
   {
    "duration": 6,
    "start_time": "2025-05-10T09:22:24.016Z"
   },
   {
    "duration": 5,
    "start_time": "2025-05-10T09:22:24.024Z"
   },
   {
    "duration": 43,
    "start_time": "2025-05-10T09:22:24.031Z"
   },
   {
    "duration": 13,
    "start_time": "2025-05-10T09:22:24.076Z"
   },
   {
    "duration": 9,
    "start_time": "2025-05-10T09:22:24.090Z"
   },
   {
    "duration": 8,
    "start_time": "2025-05-10T09:22:24.101Z"
   },
   {
    "duration": 18,
    "start_time": "2025-05-10T09:22:24.111Z"
   },
   {
    "duration": 10,
    "start_time": "2025-05-10T09:22:24.131Z"
   },
   {
    "duration": 8,
    "start_time": "2025-05-10T09:22:24.163Z"
   },
   {
    "duration": 74,
    "start_time": "2025-05-10T09:22:24.173Z"
   },
   {
    "duration": 14,
    "start_time": "2025-05-10T09:22:24.249Z"
   },
   {
    "duration": 5,
    "start_time": "2025-05-10T09:22:24.266Z"
   },
   {
    "duration": 261,
    "start_time": "2025-05-10T09:22:24.272Z"
   },
   {
    "duration": 405,
    "start_time": "2025-05-10T09:22:24.534Z"
   },
   {
    "duration": 10,
    "start_time": "2025-05-10T09:22:24.941Z"
   },
   {
    "duration": 275,
    "start_time": "2025-05-10T09:22:24.952Z"
   },
   {
    "duration": 4740,
    "start_time": "2025-05-10T09:22:25.229Z"
   },
   {
    "duration": 11,
    "start_time": "2025-05-10T09:22:29.971Z"
   },
   {
    "duration": 416,
    "start_time": "2025-05-10T09:22:29.984Z"
   },
   {
    "duration": 8,
    "start_time": "2025-05-10T09:22:30.402Z"
   },
   {
    "duration": 446,
    "start_time": "2025-05-10T09:22:30.411Z"
   },
   {
    "duration": 428,
    "start_time": "2025-05-10T09:22:30.859Z"
   },
   {
    "duration": 11,
    "start_time": "2025-05-10T09:22:31.289Z"
   },
   {
    "duration": 11,
    "start_time": "2025-05-10T09:22:31.302Z"
   },
   {
    "duration": 18,
    "start_time": "2025-05-10T09:22:31.314Z"
   },
   {
    "duration": 43,
    "start_time": "2025-05-10T09:22:31.334Z"
   },
   {
    "duration": 75,
    "start_time": "2025-05-10T09:22:31.379Z"
   },
   {
    "duration": 4,
    "start_time": "2025-05-10T09:22:31.455Z"
   },
   {
    "duration": 22,
    "start_time": "2025-05-10T09:22:31.461Z"
   },
   {
    "duration": 26,
    "start_time": "2025-05-10T09:22:31.484Z"
   },
   {
    "duration": 17,
    "start_time": "2025-05-10T09:22:31.512Z"
   },
   {
    "duration": 34,
    "start_time": "2025-05-10T09:22:31.531Z"
   },
   {
    "duration": 546,
    "start_time": "2025-05-10T09:22:31.567Z"
   },
   {
    "duration": 4969,
    "start_time": "2025-05-10T09:22:32.114Z"
   },
   {
    "duration": 22384,
    "start_time": "2025-05-10T09:22:37.085Z"
   },
   {
    "duration": 84731,
    "start_time": "2025-05-10T09:22:59.471Z"
   },
   {
    "duration": 14,
    "start_time": "2025-05-10T09:24:24.205Z"
   },
   {
    "duration": 27,
    "start_time": "2025-05-10T09:24:24.220Z"
   },
   {
    "duration": 147,
    "start_time": "2025-05-10T09:24:24.251Z"
   },
   {
    "duration": 0,
    "start_time": "2025-05-10T09:24:24.399Z"
   },
   {
    "duration": 0,
    "start_time": "2025-05-10T09:24:24.400Z"
   },
   {
    "duration": 0,
    "start_time": "2025-05-10T09:24:24.401Z"
   },
   {
    "duration": 8,
    "start_time": "2025-05-10T09:26:34.319Z"
   },
   {
    "duration": 6,
    "start_time": "2025-05-10T09:26:36.220Z"
   },
   {
    "duration": 9,
    "start_time": "2025-05-10T09:26:38.583Z"
   },
   {
    "duration": 331,
    "start_time": "2025-05-10T09:26:45.513Z"
   },
   {
    "duration": 301,
    "start_time": "2025-05-10T09:27:16.146Z"
   },
   {
    "duration": 205,
    "start_time": "2025-05-10T09:27:19.105Z"
   },
   {
    "duration": 338,
    "start_time": "2025-05-10T09:27:24.115Z"
   },
   {
    "duration": 341,
    "start_time": "2025-05-10T09:27:27.513Z"
   },
   {
    "duration": 334,
    "start_time": "2025-05-10T09:27:54.937Z"
   },
   {
    "duration": 344,
    "start_time": "2025-05-10T09:28:09.172Z"
   },
   {
    "duration": 441,
    "start_time": "2025-05-10T09:28:14.224Z"
   },
   {
    "duration": 370,
    "start_time": "2025-05-10T09:28:36.772Z"
   },
   {
    "duration": 205,
    "start_time": "2025-05-10T09:30:21.080Z"
   },
   {
    "duration": 85,
    "start_time": "2025-05-10T09:30:31.095Z"
   },
   {
    "duration": 349,
    "start_time": "2025-05-10T09:30:40.463Z"
   },
   {
    "duration": 326,
    "start_time": "2025-05-10T09:32:24.339Z"
   },
   {
    "duration": 361,
    "start_time": "2025-05-10T09:32:41.263Z"
   },
   {
    "duration": 351,
    "start_time": "2025-05-10T09:35:03.437Z"
   },
   {
    "duration": 221,
    "start_time": "2025-05-10T09:35:08.392Z"
   },
   {
    "duration": 341,
    "start_time": "2025-05-10T09:35:11.750Z"
   },
   {
    "duration": 13,
    "start_time": "2025-05-10T10:16:21.166Z"
   },
   {
    "duration": 1555,
    "start_time": "2025-05-10T10:20:15.030Z"
   },
   {
    "duration": 4,
    "start_time": "2025-05-10T10:20:16.587Z"
   },
   {
    "duration": 14,
    "start_time": "2025-05-10T10:20:16.593Z"
   },
   {
    "duration": 6,
    "start_time": "2025-05-10T10:20:16.608Z"
   },
   {
    "duration": 49,
    "start_time": "2025-05-10T10:20:16.616Z"
   },
   {
    "duration": 12,
    "start_time": "2025-05-10T10:20:16.666Z"
   },
   {
    "duration": 36,
    "start_time": "2025-05-10T10:20:16.679Z"
   },
   {
    "duration": 4,
    "start_time": "2025-05-10T10:20:16.717Z"
   },
   {
    "duration": 21,
    "start_time": "2025-05-10T10:20:16.722Z"
   },
   {
    "duration": 10,
    "start_time": "2025-05-10T10:20:16.744Z"
   },
   {
    "duration": 36,
    "start_time": "2025-05-10T10:20:16.755Z"
   },
   {
    "duration": 21,
    "start_time": "2025-05-10T10:20:16.792Z"
   },
   {
    "duration": 21,
    "start_time": "2025-05-10T10:20:16.815Z"
   },
   {
    "duration": 5,
    "start_time": "2025-05-10T10:20:16.839Z"
   },
   {
    "duration": 259,
    "start_time": "2025-05-10T10:20:16.845Z"
   },
   {
    "duration": 421,
    "start_time": "2025-05-10T10:20:17.106Z"
   },
   {
    "duration": 10,
    "start_time": "2025-05-10T10:20:17.528Z"
   },
   {
    "duration": 281,
    "start_time": "2025-05-10T10:20:17.540Z"
   },
   {
    "duration": 5098,
    "start_time": "2025-05-10T10:20:17.822Z"
   },
   {
    "duration": 12,
    "start_time": "2025-05-10T10:20:22.922Z"
   },
   {
    "duration": 386,
    "start_time": "2025-05-10T10:20:22.935Z"
   },
   {
    "duration": 8,
    "start_time": "2025-05-10T10:20:23.322Z"
   },
   {
    "duration": 450,
    "start_time": "2025-05-10T10:20:23.331Z"
   },
   {
    "duration": 431,
    "start_time": "2025-05-10T10:20:23.783Z"
   },
   {
    "duration": 12,
    "start_time": "2025-05-10T10:20:24.215Z"
   },
   {
    "duration": 15,
    "start_time": "2025-05-10T10:20:24.229Z"
   },
   {
    "duration": 28,
    "start_time": "2025-05-10T10:20:24.262Z"
   },
   {
    "duration": 16,
    "start_time": "2025-05-10T10:20:24.292Z"
   },
   {
    "duration": 21,
    "start_time": "2025-05-10T10:20:24.309Z"
   },
   {
    "duration": 5,
    "start_time": "2025-05-10T10:20:24.332Z"
   },
   {
    "duration": 5,
    "start_time": "2025-05-10T10:20:24.362Z"
   },
   {
    "duration": 79,
    "start_time": "2025-05-10T10:20:24.369Z"
   },
   {
    "duration": 3,
    "start_time": "2025-05-10T10:20:24.450Z"
   },
   {
    "duration": 34,
    "start_time": "2025-05-10T10:20:24.454Z"
   },
   {
    "duration": 542,
    "start_time": "2025-05-10T10:20:24.489Z"
   },
   {
    "duration": 5130,
    "start_time": "2025-05-10T10:20:25.033Z"
   },
   {
    "duration": 175257,
    "start_time": "2025-05-10T10:20:30.164Z"
   },
   {
    "duration": 0,
    "start_time": "2025-05-10T10:23:25.423Z"
   },
   {
    "duration": 0,
    "start_time": "2025-05-10T10:23:25.424Z"
   },
   {
    "duration": 0,
    "start_time": "2025-05-10T10:23:25.426Z"
   },
   {
    "duration": 0,
    "start_time": "2025-05-10T10:23:25.428Z"
   },
   {
    "duration": 0,
    "start_time": "2025-05-10T10:23:25.429Z"
   },
   {
    "duration": 0,
    "start_time": "2025-05-10T10:23:25.431Z"
   },
   {
    "duration": 0,
    "start_time": "2025-05-10T10:23:25.432Z"
   },
   {
    "duration": 1476,
    "start_time": "2025-05-10T10:23:34.995Z"
   },
   {
    "duration": 4,
    "start_time": "2025-05-10T10:23:36.473Z"
   },
   {
    "duration": 30,
    "start_time": "2025-05-10T10:23:36.478Z"
   },
   {
    "duration": 26,
    "start_time": "2025-05-10T10:23:36.509Z"
   },
   {
    "duration": 74,
    "start_time": "2025-05-10T10:23:36.537Z"
   },
   {
    "duration": 12,
    "start_time": "2025-05-10T10:23:36.612Z"
   },
   {
    "duration": 33,
    "start_time": "2025-05-10T10:23:36.625Z"
   },
   {
    "duration": 11,
    "start_time": "2025-05-10T10:23:36.659Z"
   },
   {
    "duration": 27,
    "start_time": "2025-05-10T10:23:36.672Z"
   },
   {
    "duration": 27,
    "start_time": "2025-05-10T10:23:36.700Z"
   },
   {
    "duration": 13,
    "start_time": "2025-05-10T10:23:36.728Z"
   },
   {
    "duration": 83,
    "start_time": "2025-05-10T10:23:36.743Z"
   },
   {
    "duration": 22,
    "start_time": "2025-05-10T10:23:36.827Z"
   },
   {
    "duration": 4,
    "start_time": "2025-05-10T10:23:36.852Z"
   },
   {
    "duration": 291,
    "start_time": "2025-05-10T10:23:36.857Z"
   },
   {
    "duration": 397,
    "start_time": "2025-05-10T10:23:37.150Z"
   },
   {
    "duration": 10,
    "start_time": "2025-05-10T10:23:37.549Z"
   },
   {
    "duration": 290,
    "start_time": "2025-05-10T10:23:37.560Z"
   },
   {
    "duration": 4904,
    "start_time": "2025-05-10T10:23:37.862Z"
   },
   {
    "duration": 12,
    "start_time": "2025-05-10T10:23:42.768Z"
   },
   {
    "duration": 439,
    "start_time": "2025-05-10T10:23:42.782Z"
   },
   {
    "duration": 11,
    "start_time": "2025-05-10T10:23:43.224Z"
   },
   {
    "duration": 432,
    "start_time": "2025-05-10T10:23:43.236Z"
   },
   {
    "duration": 439,
    "start_time": "2025-05-10T10:23:43.670Z"
   },
   {
    "duration": 10,
    "start_time": "2025-05-10T10:23:44.111Z"
   },
   {
    "duration": 23,
    "start_time": "2025-05-10T10:23:44.123Z"
   },
   {
    "duration": 21,
    "start_time": "2025-05-10T10:23:44.147Z"
   },
   {
    "duration": 25,
    "start_time": "2025-05-10T10:23:44.170Z"
   },
   {
    "duration": 20,
    "start_time": "2025-05-10T10:23:44.197Z"
   },
   {
    "duration": 3,
    "start_time": "2025-05-10T10:23:44.219Z"
   },
   {
    "duration": 16,
    "start_time": "2025-05-10T10:23:44.224Z"
   },
   {
    "duration": 3,
    "start_time": "2025-05-10T10:23:44.263Z"
   },
   {
    "duration": 7,
    "start_time": "2025-05-10T10:23:44.268Z"
   },
   {
    "duration": 416,
    "start_time": "2025-05-10T10:23:44.276Z"
   },
   {
    "duration": 5040,
    "start_time": "2025-05-10T10:23:44.694Z"
   },
   {
    "duration": 1449,
    "start_time": "2025-05-10T10:31:49.882Z"
   },
   {
    "duration": 4,
    "start_time": "2025-05-10T10:31:51.333Z"
   },
   {
    "duration": 6,
    "start_time": "2025-05-10T10:31:51.338Z"
   },
   {
    "duration": 19,
    "start_time": "2025-05-10T10:31:51.345Z"
   },
   {
    "duration": 45,
    "start_time": "2025-05-10T10:31:51.366Z"
   },
   {
    "duration": 12,
    "start_time": "2025-05-10T10:31:51.412Z"
   },
   {
    "duration": 8,
    "start_time": "2025-05-10T10:31:51.426Z"
   },
   {
    "duration": 10,
    "start_time": "2025-05-10T10:31:51.435Z"
   },
   {
    "duration": 25,
    "start_time": "2025-05-10T10:31:51.446Z"
   },
   {
    "duration": 10,
    "start_time": "2025-05-10T10:31:51.473Z"
   },
   {
    "duration": 7,
    "start_time": "2025-05-10T10:31:51.484Z"
   },
   {
    "duration": 20,
    "start_time": "2025-05-10T10:31:51.493Z"
   },
   {
    "duration": 14,
    "start_time": "2025-05-10T10:31:51.514Z"
   },
   {
    "duration": 3,
    "start_time": "2025-05-10T10:31:51.531Z"
   },
   {
    "duration": 266,
    "start_time": "2025-05-10T10:31:51.536Z"
   },
   {
    "duration": 419,
    "start_time": "2025-05-10T10:31:51.804Z"
   },
   {
    "duration": 10,
    "start_time": "2025-05-10T10:31:52.224Z"
   },
   {
    "duration": 308,
    "start_time": "2025-05-10T10:31:52.235Z"
   },
   {
    "duration": 4861,
    "start_time": "2025-05-10T10:31:52.545Z"
   },
   {
    "duration": 13,
    "start_time": "2025-05-10T10:31:57.407Z"
   },
   {
    "duration": 391,
    "start_time": "2025-05-10T10:31:57.421Z"
   },
   {
    "duration": 9,
    "start_time": "2025-05-10T10:31:57.813Z"
   },
   {
    "duration": 465,
    "start_time": "2025-05-10T10:31:57.823Z"
   },
   {
    "duration": 418,
    "start_time": "2025-05-10T10:31:58.290Z"
   },
   {
    "duration": 11,
    "start_time": "2025-05-10T10:31:58.709Z"
   },
   {
    "duration": 10,
    "start_time": "2025-05-10T10:31:58.722Z"
   },
   {
    "duration": 33,
    "start_time": "2025-05-10T10:31:58.734Z"
   },
   {
    "duration": 16,
    "start_time": "2025-05-10T10:31:58.769Z"
   },
   {
    "duration": 18,
    "start_time": "2025-05-10T10:31:58.787Z"
   },
   {
    "duration": 4,
    "start_time": "2025-05-10T10:31:58.807Z"
   },
   {
    "duration": 12,
    "start_time": "2025-05-10T10:31:58.813Z"
   },
   {
    "duration": 39,
    "start_time": "2025-05-10T10:31:58.827Z"
   },
   {
    "duration": 8,
    "start_time": "2025-05-10T10:31:58.868Z"
   },
   {
    "duration": 432,
    "start_time": "2025-05-10T10:31:58.878Z"
   },
   {
    "duration": 5077,
    "start_time": "2025-05-10T10:31:59.312Z"
   },
   {
    "duration": 23299,
    "start_time": "2025-05-10T10:32:04.390Z"
   },
   {
    "duration": 0,
    "start_time": "2025-05-10T10:32:27.692Z"
   },
   {
    "duration": 0,
    "start_time": "2025-05-10T10:32:27.694Z"
   },
   {
    "duration": 0,
    "start_time": "2025-05-10T10:32:27.695Z"
   },
   {
    "duration": 0,
    "start_time": "2025-05-10T10:32:27.697Z"
   },
   {
    "duration": 0,
    "start_time": "2025-05-10T10:32:27.699Z"
   },
   {
    "duration": 0,
    "start_time": "2025-05-10T10:32:27.700Z"
   },
   {
    "duration": 0,
    "start_time": "2025-05-10T10:32:27.702Z"
   },
   {
    "duration": 1602,
    "start_time": "2025-05-10T10:32:41.656Z"
   },
   {
    "duration": 4,
    "start_time": "2025-05-10T10:32:43.262Z"
   },
   {
    "duration": 7,
    "start_time": "2025-05-10T10:32:43.267Z"
   },
   {
    "duration": 9,
    "start_time": "2025-05-10T10:32:43.277Z"
   },
   {
    "duration": 40,
    "start_time": "2025-05-10T10:32:43.289Z"
   },
   {
    "duration": 11,
    "start_time": "2025-05-10T10:32:43.330Z"
   },
   {
    "duration": 22,
    "start_time": "2025-05-10T10:32:43.343Z"
   },
   {
    "duration": 10,
    "start_time": "2025-05-10T10:32:43.367Z"
   },
   {
    "duration": 14,
    "start_time": "2025-05-10T10:32:43.379Z"
   },
   {
    "duration": 9,
    "start_time": "2025-05-10T10:32:43.394Z"
   },
   {
    "duration": 8,
    "start_time": "2025-05-10T10:32:43.405Z"
   },
   {
    "duration": 17,
    "start_time": "2025-05-10T10:32:43.415Z"
   },
   {
    "duration": 39,
    "start_time": "2025-05-10T10:32:43.433Z"
   },
   {
    "duration": 4,
    "start_time": "2025-05-10T10:32:43.475Z"
   },
   {
    "duration": 265,
    "start_time": "2025-05-10T10:32:43.481Z"
   },
   {
    "duration": 415,
    "start_time": "2025-05-10T10:32:43.748Z"
   },
   {
    "duration": 11,
    "start_time": "2025-05-10T10:32:44.165Z"
   },
   {
    "duration": 356,
    "start_time": "2025-05-10T10:32:44.178Z"
   },
   {
    "duration": 4955,
    "start_time": "2025-05-10T10:32:44.536Z"
   },
   {
    "duration": 13,
    "start_time": "2025-05-10T10:32:49.493Z"
   },
   {
    "duration": 421,
    "start_time": "2025-05-10T10:32:49.508Z"
   },
   {
    "duration": 10,
    "start_time": "2025-05-10T10:32:49.931Z"
   },
   {
    "duration": 464,
    "start_time": "2025-05-10T10:32:49.942Z"
   },
   {
    "duration": 400,
    "start_time": "2025-05-10T10:32:50.407Z"
   },
   {
    "duration": 11,
    "start_time": "2025-05-10T10:32:50.809Z"
   },
   {
    "duration": 51,
    "start_time": "2025-05-10T10:32:50.822Z"
   },
   {
    "duration": 17,
    "start_time": "2025-05-10T10:32:50.875Z"
   },
   {
    "duration": 20,
    "start_time": "2025-05-10T10:32:50.894Z"
   },
   {
    "duration": 17,
    "start_time": "2025-05-10T10:32:50.916Z"
   },
   {
    "duration": 6,
    "start_time": "2025-05-10T10:32:50.935Z"
   },
   {
    "duration": 23,
    "start_time": "2025-05-10T10:32:50.943Z"
   },
   {
    "duration": 3,
    "start_time": "2025-05-10T10:32:50.967Z"
   },
   {
    "duration": 8,
    "start_time": "2025-05-10T10:32:50.971Z"
   },
   {
    "duration": 410,
    "start_time": "2025-05-10T10:32:50.980Z"
   },
   {
    "duration": 5029,
    "start_time": "2025-05-10T10:32:51.391Z"
   },
   {
    "duration": 16107,
    "start_time": "2025-05-10T10:32:56.421Z"
   },
   {
    "duration": 0,
    "start_time": "2025-05-10T10:33:12.530Z"
   },
   {
    "duration": 0,
    "start_time": "2025-05-10T10:33:12.531Z"
   },
   {
    "duration": 0,
    "start_time": "2025-05-10T10:33:12.532Z"
   },
   {
    "duration": 0,
    "start_time": "2025-05-10T10:33:12.533Z"
   },
   {
    "duration": 0,
    "start_time": "2025-05-10T10:33:12.534Z"
   },
   {
    "duration": 0,
    "start_time": "2025-05-10T10:33:12.535Z"
   },
   {
    "duration": 0,
    "start_time": "2025-05-10T10:33:12.536Z"
   },
   {
    "duration": 1585,
    "start_time": "2025-05-10T10:33:30.229Z"
   },
   {
    "duration": 4,
    "start_time": "2025-05-10T10:33:31.816Z"
   },
   {
    "duration": 10,
    "start_time": "2025-05-10T10:33:31.821Z"
   },
   {
    "duration": 6,
    "start_time": "2025-05-10T10:33:31.832Z"
   },
   {
    "duration": 54,
    "start_time": "2025-05-10T10:33:31.840Z"
   },
   {
    "duration": 12,
    "start_time": "2025-05-10T10:33:31.895Z"
   },
   {
    "duration": 8,
    "start_time": "2025-05-10T10:33:31.908Z"
   },
   {
    "duration": 6,
    "start_time": "2025-05-10T10:33:31.917Z"
   },
   {
    "duration": 13,
    "start_time": "2025-05-10T10:33:31.924Z"
   },
   {
    "duration": 7,
    "start_time": "2025-05-10T10:33:31.963Z"
   },
   {
    "duration": 28,
    "start_time": "2025-05-10T10:33:31.971Z"
   },
   {
    "duration": 5,
    "start_time": "2025-05-10T10:33:32.001Z"
   },
   {
    "duration": 11,
    "start_time": "2025-05-10T10:33:32.008Z"
   },
   {
    "duration": 4,
    "start_time": "2025-05-10T10:33:32.022Z"
   },
   {
    "duration": 287,
    "start_time": "2025-05-10T10:33:32.027Z"
   },
   {
    "duration": 397,
    "start_time": "2025-05-10T10:33:32.315Z"
   },
   {
    "duration": 10,
    "start_time": "2025-05-10T10:33:32.713Z"
   },
   {
    "duration": 296,
    "start_time": "2025-05-10T10:33:32.725Z"
   },
   {
    "duration": 4988,
    "start_time": "2025-05-10T10:33:33.023Z"
   },
   {
    "duration": 10,
    "start_time": "2025-05-10T10:33:38.013Z"
   },
   {
    "duration": 388,
    "start_time": "2025-05-10T10:33:38.024Z"
   },
   {
    "duration": 7,
    "start_time": "2025-05-10T10:33:38.413Z"
   },
   {
    "duration": 390,
    "start_time": "2025-05-10T10:33:38.421Z"
   },
   {
    "duration": 391,
    "start_time": "2025-05-10T10:33:38.812Z"
   },
   {
    "duration": 11,
    "start_time": "2025-05-10T10:33:39.204Z"
   },
   {
    "duration": 27,
    "start_time": "2025-05-10T10:33:39.216Z"
   },
   {
    "duration": 22,
    "start_time": "2025-05-10T10:33:39.244Z"
   },
   {
    "duration": 15,
    "start_time": "2025-05-10T10:33:39.267Z"
   },
   {
    "duration": 15,
    "start_time": "2025-05-10T10:33:39.283Z"
   },
   {
    "duration": 4,
    "start_time": "2025-05-10T10:33:39.299Z"
   },
   {
    "duration": 4,
    "start_time": "2025-05-10T10:33:39.304Z"
   },
   {
    "duration": 3,
    "start_time": "2025-05-10T10:33:39.310Z"
   },
   {
    "duration": 3,
    "start_time": "2025-05-10T10:33:39.314Z"
   },
   {
    "duration": 431,
    "start_time": "2025-05-10T10:33:39.318Z"
   },
   {
    "duration": 5065,
    "start_time": "2025-05-10T10:33:39.750Z"
   },
   {
    "duration": 1448,
    "start_time": "2025-05-10T10:37:38.566Z"
   },
   {
    "duration": 4,
    "start_time": "2025-05-10T10:37:40.016Z"
   },
   {
    "duration": 8,
    "start_time": "2025-05-10T10:37:40.021Z"
   },
   {
    "duration": 20,
    "start_time": "2025-05-10T10:37:40.031Z"
   },
   {
    "duration": 57,
    "start_time": "2025-05-10T10:37:40.054Z"
   },
   {
    "duration": 14,
    "start_time": "2025-05-10T10:37:40.113Z"
   },
   {
    "duration": 8,
    "start_time": "2025-05-10T10:37:40.128Z"
   },
   {
    "duration": 9,
    "start_time": "2025-05-10T10:37:40.138Z"
   },
   {
    "duration": 19,
    "start_time": "2025-05-10T10:37:40.148Z"
   },
   {
    "duration": 10,
    "start_time": "2025-05-10T10:37:40.169Z"
   },
   {
    "duration": 10,
    "start_time": "2025-05-10T10:37:40.181Z"
   },
   {
    "duration": 5,
    "start_time": "2025-05-10T10:37:40.192Z"
   },
   {
    "duration": 11,
    "start_time": "2025-05-10T10:37:40.198Z"
   },
   {
    "duration": 4,
    "start_time": "2025-05-10T10:37:40.213Z"
   },
   {
    "duration": 284,
    "start_time": "2025-05-10T10:37:40.219Z"
   },
   {
    "duration": 438,
    "start_time": "2025-05-10T10:37:40.505Z"
   },
   {
    "duration": 9,
    "start_time": "2025-05-10T10:37:40.945Z"
   },
   {
    "duration": 321,
    "start_time": "2025-05-10T10:37:40.956Z"
   },
   {
    "duration": 4935,
    "start_time": "2025-05-10T10:37:41.279Z"
   },
   {
    "duration": 11,
    "start_time": "2025-05-10T10:37:46.215Z"
   },
   {
    "duration": 415,
    "start_time": "2025-05-10T10:37:46.228Z"
   },
   {
    "duration": 20,
    "start_time": "2025-05-10T10:37:46.645Z"
   },
   {
    "duration": 421,
    "start_time": "2025-05-10T10:37:46.667Z"
   },
   {
    "duration": 444,
    "start_time": "2025-05-10T10:37:47.090Z"
   },
   {
    "duration": 12,
    "start_time": "2025-05-10T10:37:47.535Z"
   },
   {
    "duration": 20,
    "start_time": "2025-05-10T10:37:47.548Z"
   },
   {
    "duration": 25,
    "start_time": "2025-05-10T10:37:47.570Z"
   },
   {
    "duration": 15,
    "start_time": "2025-05-10T10:37:47.597Z"
   },
   {
    "duration": 15,
    "start_time": "2025-05-10T10:37:47.613Z"
   },
   {
    "duration": 38,
    "start_time": "2025-05-10T10:37:47.629Z"
   },
   {
    "duration": 13,
    "start_time": "2025-05-10T10:37:47.670Z"
   },
   {
    "duration": 4,
    "start_time": "2025-05-10T10:37:47.685Z"
   },
   {
    "duration": 9,
    "start_time": "2025-05-10T10:37:47.692Z"
   },
   {
    "duration": 485,
    "start_time": "2025-05-10T10:37:47.703Z"
   },
   {
    "duration": 5096,
    "start_time": "2025-05-10T10:37:48.190Z"
   },
   {
    "duration": 1455,
    "start_time": "2025-05-10T10:42:23.591Z"
   },
   {
    "duration": 4,
    "start_time": "2025-05-10T10:42:25.047Z"
   },
   {
    "duration": 26,
    "start_time": "2025-05-10T10:42:25.052Z"
   },
   {
    "duration": 14,
    "start_time": "2025-05-10T10:42:25.079Z"
   },
   {
    "duration": 54,
    "start_time": "2025-05-10T10:42:25.095Z"
   },
   {
    "duration": 12,
    "start_time": "2025-05-10T10:42:25.150Z"
   },
   {
    "duration": 15,
    "start_time": "2025-05-10T10:42:25.163Z"
   },
   {
    "duration": 79,
    "start_time": "2025-05-10T10:42:25.179Z"
   },
   {
    "duration": 25,
    "start_time": "2025-05-10T10:42:25.260Z"
   },
   {
    "duration": 7,
    "start_time": "2025-05-10T10:42:25.287Z"
   },
   {
    "duration": 15,
    "start_time": "2025-05-10T10:42:25.295Z"
   },
   {
    "duration": 17,
    "start_time": "2025-05-10T10:42:25.312Z"
   },
   {
    "duration": 14,
    "start_time": "2025-05-10T10:42:25.331Z"
   },
   {
    "duration": 4,
    "start_time": "2025-05-10T10:42:25.347Z"
   },
   {
    "duration": 245,
    "start_time": "2025-05-10T10:42:25.352Z"
   },
   {
    "duration": 428,
    "start_time": "2025-05-10T10:42:25.599Z"
   },
   {
    "duration": 10,
    "start_time": "2025-05-10T10:42:26.028Z"
   },
   {
    "duration": 280,
    "start_time": "2025-05-10T10:42:26.039Z"
   },
   {
    "duration": 4873,
    "start_time": "2025-05-10T10:42:26.321Z"
   },
   {
    "duration": 12,
    "start_time": "2025-05-10T10:42:31.196Z"
   },
   {
    "duration": 415,
    "start_time": "2025-05-10T10:42:31.210Z"
   },
   {
    "duration": 8,
    "start_time": "2025-05-10T10:42:31.626Z"
   },
   {
    "duration": 421,
    "start_time": "2025-05-10T10:42:31.635Z"
   },
   {
    "duration": 445,
    "start_time": "2025-05-10T10:42:32.057Z"
   },
   {
    "duration": 11,
    "start_time": "2025-05-10T10:42:32.504Z"
   },
   {
    "duration": 21,
    "start_time": "2025-05-10T10:42:32.516Z"
   },
   {
    "duration": 26,
    "start_time": "2025-05-10T10:42:32.539Z"
   },
   {
    "duration": 42,
    "start_time": "2025-05-10T10:42:32.567Z"
   },
   {
    "duration": 15,
    "start_time": "2025-05-10T10:42:32.611Z"
   },
   {
    "duration": 6,
    "start_time": "2025-05-10T10:42:32.628Z"
   },
   {
    "duration": 5,
    "start_time": "2025-05-10T10:42:32.635Z"
   },
   {
    "duration": 3,
    "start_time": "2025-05-10T10:42:32.642Z"
   },
   {
    "duration": 6,
    "start_time": "2025-05-10T10:42:32.646Z"
   },
   {
    "duration": 403,
    "start_time": "2025-05-10T10:42:32.663Z"
   },
   {
    "duration": 5168,
    "start_time": "2025-05-10T10:42:33.068Z"
   },
   {
    "duration": 351934,
    "start_time": "2025-05-10T10:42:38.237Z"
   },
   {
    "duration": 24266,
    "start_time": "2025-05-10T10:48:30.173Z"
   },
   {
    "duration": 11,
    "start_time": "2025-05-10T10:48:54.440Z"
   },
   {
    "duration": 89,
    "start_time": "2025-05-10T10:48:54.452Z"
   },
   {
    "duration": 9,
    "start_time": "2025-05-10T10:48:54.543Z"
   },
   {
    "duration": 5,
    "start_time": "2025-05-10T10:48:54.555Z"
   },
   {
    "duration": 18,
    "start_time": "2025-05-10T10:48:54.561Z"
   },
   {
    "duration": 370,
    "start_time": "2025-05-10T10:48:54.580Z"
   },
   {
    "duration": 1420,
    "start_time": "2025-05-10T10:51:08.902Z"
   },
   {
    "duration": 4,
    "start_time": "2025-05-10T10:51:10.323Z"
   },
   {
    "duration": 6,
    "start_time": "2025-05-10T10:51:10.328Z"
   },
   {
    "duration": 9,
    "start_time": "2025-05-10T10:51:10.336Z"
   },
   {
    "duration": 43,
    "start_time": "2025-05-10T10:51:10.346Z"
   },
   {
    "duration": 13,
    "start_time": "2025-05-10T10:51:10.391Z"
   },
   {
    "duration": 10,
    "start_time": "2025-05-10T10:51:10.405Z"
   },
   {
    "duration": 6,
    "start_time": "2025-05-10T10:51:10.416Z"
   },
   {
    "duration": 13,
    "start_time": "2025-05-10T10:51:10.423Z"
   },
   {
    "duration": 9,
    "start_time": "2025-05-10T10:51:10.464Z"
   },
   {
    "duration": 9,
    "start_time": "2025-05-10T10:51:10.474Z"
   },
   {
    "duration": 7,
    "start_time": "2025-05-10T10:51:10.485Z"
   },
   {
    "duration": 14,
    "start_time": "2025-05-10T10:51:10.494Z"
   },
   {
    "duration": 4,
    "start_time": "2025-05-10T10:51:10.510Z"
   },
   {
    "duration": 274,
    "start_time": "2025-05-10T10:51:10.515Z"
   },
   {
    "duration": 424,
    "start_time": "2025-05-10T10:51:10.791Z"
   },
   {
    "duration": 10,
    "start_time": "2025-05-10T10:51:11.216Z"
   },
   {
    "duration": 376,
    "start_time": "2025-05-10T10:51:11.228Z"
   },
   {
    "duration": 4809,
    "start_time": "2025-05-10T10:51:11.606Z"
   },
   {
    "duration": 11,
    "start_time": "2025-05-10T10:51:16.417Z"
   },
   {
    "duration": 406,
    "start_time": "2025-05-10T10:51:16.429Z"
   },
   {
    "duration": 9,
    "start_time": "2025-05-10T10:51:16.836Z"
   },
   {
    "duration": 455,
    "start_time": "2025-05-10T10:51:16.847Z"
   },
   {
    "duration": 399,
    "start_time": "2025-05-10T10:51:17.303Z"
   },
   {
    "duration": 10,
    "start_time": "2025-05-10T10:51:17.704Z"
   },
   {
    "duration": 86,
    "start_time": "2025-05-10T10:51:17.716Z"
   },
   {
    "duration": 45,
    "start_time": "2025-05-10T10:51:17.804Z"
   },
   {
    "duration": 38,
    "start_time": "2025-05-10T10:51:17.854Z"
   },
   {
    "duration": 22,
    "start_time": "2025-05-10T10:51:17.894Z"
   },
   {
    "duration": 6,
    "start_time": "2025-05-10T10:51:17.921Z"
   },
   {
    "duration": 8,
    "start_time": "2025-05-10T10:51:17.930Z"
   },
   {
    "duration": 6,
    "start_time": "2025-05-10T10:51:17.943Z"
   },
   {
    "duration": 12,
    "start_time": "2025-05-10T10:51:17.951Z"
   },
   {
    "duration": 414,
    "start_time": "2025-05-10T10:51:17.965Z"
   },
   {
    "duration": 5019,
    "start_time": "2025-05-10T10:51:18.381Z"
   },
   {
    "duration": 576777,
    "start_time": "2025-05-10T10:51:23.402Z"
   },
   {
    "duration": 0,
    "start_time": "2025-05-10T11:01:00.181Z"
   },
   {
    "duration": 0,
    "start_time": "2025-05-10T11:01:00.182Z"
   },
   {
    "duration": 0,
    "start_time": "2025-05-10T11:01:00.184Z"
   },
   {
    "duration": 0,
    "start_time": "2025-05-10T11:01:00.185Z"
   },
   {
    "duration": 0,
    "start_time": "2025-05-10T11:01:00.186Z"
   },
   {
    "duration": 0,
    "start_time": "2025-05-10T11:01:00.187Z"
   },
   {
    "duration": 0,
    "start_time": "2025-05-10T11:01:00.188Z"
   },
   {
    "duration": 1603,
    "start_time": "2025-05-10T11:02:53.833Z"
   },
   {
    "duration": 3,
    "start_time": "2025-05-10T11:02:55.438Z"
   },
   {
    "duration": 12,
    "start_time": "2025-05-10T11:02:55.443Z"
   },
   {
    "duration": 13,
    "start_time": "2025-05-10T11:02:55.463Z"
   },
   {
    "duration": 56,
    "start_time": "2025-05-10T11:02:55.479Z"
   },
   {
    "duration": 12,
    "start_time": "2025-05-10T11:02:55.536Z"
   },
   {
    "duration": 10,
    "start_time": "2025-05-10T11:02:55.550Z"
   },
   {
    "duration": 14,
    "start_time": "2025-05-10T11:02:55.563Z"
   },
   {
    "duration": 18,
    "start_time": "2025-05-10T11:02:55.579Z"
   },
   {
    "duration": 11,
    "start_time": "2025-05-10T11:02:55.599Z"
   },
   {
    "duration": 8,
    "start_time": "2025-05-10T11:02:55.611Z"
   },
   {
    "duration": 7,
    "start_time": "2025-05-10T11:02:55.620Z"
   },
   {
    "duration": 42,
    "start_time": "2025-05-10T11:02:55.628Z"
   },
   {
    "duration": 6,
    "start_time": "2025-05-10T11:02:55.675Z"
   },
   {
    "duration": 263,
    "start_time": "2025-05-10T11:02:55.683Z"
   },
   {
    "duration": 439,
    "start_time": "2025-05-10T11:02:55.949Z"
   },
   {
    "duration": 11,
    "start_time": "2025-05-10T11:02:56.390Z"
   },
   {
    "duration": 339,
    "start_time": "2025-05-10T11:02:56.403Z"
   },
   {
    "duration": 5230,
    "start_time": "2025-05-10T11:02:56.743Z"
   },
   {
    "duration": 16,
    "start_time": "2025-05-10T11:03:01.975Z"
   },
   {
    "duration": 425,
    "start_time": "2025-05-10T11:03:01.993Z"
   },
   {
    "duration": 8,
    "start_time": "2025-05-10T11:03:02.420Z"
   },
   {
    "duration": 507,
    "start_time": "2025-05-10T11:03:02.430Z"
   },
   {
    "duration": 441,
    "start_time": "2025-05-10T11:03:02.939Z"
   },
   {
    "duration": 14,
    "start_time": "2025-05-10T11:03:03.383Z"
   },
   {
    "duration": 28,
    "start_time": "2025-05-10T11:03:03.398Z"
   },
   {
    "duration": 19,
    "start_time": "2025-05-10T11:03:03.428Z"
   },
   {
    "duration": 28,
    "start_time": "2025-05-10T11:03:03.449Z"
   },
   {
    "duration": 26,
    "start_time": "2025-05-10T11:03:03.479Z"
   },
   {
    "duration": 5,
    "start_time": "2025-05-10T11:03:03.507Z"
   },
   {
    "duration": 20,
    "start_time": "2025-05-10T11:03:03.513Z"
   },
   {
    "duration": 4,
    "start_time": "2025-05-10T11:03:03.535Z"
   },
   {
    "duration": 4,
    "start_time": "2025-05-10T11:03:03.540Z"
   },
   {
    "duration": 496,
    "start_time": "2025-05-10T11:03:03.545Z"
   },
   {
    "duration": 5215,
    "start_time": "2025-05-10T11:03:04.043Z"
   },
   {
    "duration": 474401,
    "start_time": "2025-05-10T11:03:09.262Z"
   },
   {
    "duration": 36255,
    "start_time": "2025-05-10T11:11:03.664Z"
   },
   {
    "duration": 12,
    "start_time": "2025-05-10T11:11:39.921Z"
   },
   {
    "duration": 13,
    "start_time": "2025-05-10T11:11:39.934Z"
   },
   {
    "duration": 16,
    "start_time": "2025-05-10T11:11:39.948Z"
   },
   {
    "duration": 6,
    "start_time": "2025-05-10T11:11:39.968Z"
   },
   {
    "duration": 30,
    "start_time": "2025-05-10T11:11:39.975Z"
   },
   {
    "duration": 411,
    "start_time": "2025-05-10T11:11:40.006Z"
   },
   {
    "duration": 1514,
    "start_time": "2025-05-10T11:17:34.868Z"
   },
   {
    "duration": 3,
    "start_time": "2025-05-10T11:17:36.384Z"
   },
   {
    "duration": 23,
    "start_time": "2025-05-10T11:17:36.389Z"
   },
   {
    "duration": 19,
    "start_time": "2025-05-10T11:17:36.414Z"
   },
   {
    "duration": 53,
    "start_time": "2025-05-10T11:17:36.436Z"
   },
   {
    "duration": 13,
    "start_time": "2025-05-10T11:17:36.491Z"
   },
   {
    "duration": 17,
    "start_time": "2025-05-10T11:17:36.505Z"
   },
   {
    "duration": 8,
    "start_time": "2025-05-10T11:17:36.524Z"
   },
   {
    "duration": 29,
    "start_time": "2025-05-10T11:17:36.534Z"
   },
   {
    "duration": 10,
    "start_time": "2025-05-10T11:17:36.567Z"
   },
   {
    "duration": 77,
    "start_time": "2025-05-10T11:17:36.579Z"
   },
   {
    "duration": 10,
    "start_time": "2025-05-10T11:17:36.659Z"
   },
   {
    "duration": 24,
    "start_time": "2025-05-10T11:17:36.672Z"
   },
   {
    "duration": 19,
    "start_time": "2025-05-10T11:17:36.698Z"
   },
   {
    "duration": 253,
    "start_time": "2025-05-10T11:17:36.719Z"
   },
   {
    "duration": 494,
    "start_time": "2025-05-10T11:17:36.977Z"
   },
   {
    "duration": 12,
    "start_time": "2025-05-10T11:17:37.473Z"
   },
   {
    "duration": 384,
    "start_time": "2025-05-10T11:17:37.487Z"
   },
   {
    "duration": 5034,
    "start_time": "2025-05-10T11:17:37.874Z"
   },
   {
    "duration": 12,
    "start_time": "2025-05-10T11:17:42.910Z"
   },
   {
    "duration": 386,
    "start_time": "2025-05-10T11:17:42.924Z"
   },
   {
    "duration": 7,
    "start_time": "2025-05-10T11:17:43.312Z"
   },
   {
    "duration": 449,
    "start_time": "2025-05-10T11:17:43.321Z"
   },
   {
    "duration": 430,
    "start_time": "2025-05-10T11:17:43.771Z"
   },
   {
    "duration": 13,
    "start_time": "2025-05-10T11:17:44.203Z"
   },
   {
    "duration": 10,
    "start_time": "2025-05-10T11:17:44.218Z"
   },
   {
    "duration": 40,
    "start_time": "2025-05-10T11:17:44.230Z"
   },
   {
    "duration": 20,
    "start_time": "2025-05-10T11:17:44.274Z"
   },
   {
    "duration": 16,
    "start_time": "2025-05-10T11:17:44.296Z"
   },
   {
    "duration": 21,
    "start_time": "2025-05-10T11:17:44.314Z"
   },
   {
    "duration": 18,
    "start_time": "2025-05-10T11:17:44.337Z"
   },
   {
    "duration": 5,
    "start_time": "2025-05-10T11:17:44.361Z"
   },
   {
    "duration": 10,
    "start_time": "2025-05-10T11:17:44.368Z"
   },
   {
    "duration": 131,
    "start_time": "2025-05-10T11:17:44.380Z"
   },
   {
    "duration": 0,
    "start_time": "2025-05-10T11:17:44.513Z"
   },
   {
    "duration": 0,
    "start_time": "2025-05-10T11:17:44.514Z"
   },
   {
    "duration": 0,
    "start_time": "2025-05-10T11:17:44.515Z"
   },
   {
    "duration": 0,
    "start_time": "2025-05-10T11:17:44.516Z"
   },
   {
    "duration": 0,
    "start_time": "2025-05-10T11:17:44.517Z"
   },
   {
    "duration": 0,
    "start_time": "2025-05-10T11:17:44.518Z"
   },
   {
    "duration": 0,
    "start_time": "2025-05-10T11:17:44.519Z"
   },
   {
    "duration": 0,
    "start_time": "2025-05-10T11:17:44.521Z"
   },
   {
    "duration": 0,
    "start_time": "2025-05-10T11:17:44.522Z"
   },
   {
    "duration": 1501,
    "start_time": "2025-05-10T11:20:37.024Z"
   },
   {
    "duration": 3,
    "start_time": "2025-05-10T11:20:38.527Z"
   },
   {
    "duration": 7,
    "start_time": "2025-05-10T11:20:38.532Z"
   },
   {
    "duration": 9,
    "start_time": "2025-05-10T11:20:38.541Z"
   },
   {
    "duration": 41,
    "start_time": "2025-05-10T11:20:38.561Z"
   },
   {
    "duration": 12,
    "start_time": "2025-05-10T11:20:38.604Z"
   },
   {
    "duration": 48,
    "start_time": "2025-05-10T11:20:38.617Z"
   },
   {
    "duration": 17,
    "start_time": "2025-05-10T11:20:38.667Z"
   },
   {
    "duration": 26,
    "start_time": "2025-05-10T11:20:38.686Z"
   },
   {
    "duration": 6,
    "start_time": "2025-05-10T11:20:38.714Z"
   },
   {
    "duration": 7,
    "start_time": "2025-05-10T11:20:38.722Z"
   },
   {
    "duration": 30,
    "start_time": "2025-05-10T11:20:38.730Z"
   },
   {
    "duration": 14,
    "start_time": "2025-05-10T11:20:38.762Z"
   },
   {
    "duration": 7,
    "start_time": "2025-05-10T11:20:38.778Z"
   },
   {
    "duration": 256,
    "start_time": "2025-05-10T11:20:38.786Z"
   },
   {
    "duration": 415,
    "start_time": "2025-05-10T11:20:39.044Z"
   },
   {
    "duration": 10,
    "start_time": "2025-05-10T11:20:39.461Z"
   },
   {
    "duration": 261,
    "start_time": "2025-05-10T11:20:39.472Z"
   },
   {
    "duration": 4891,
    "start_time": "2025-05-10T11:20:39.735Z"
   },
   {
    "duration": 12,
    "start_time": "2025-05-10T11:20:44.627Z"
   },
   {
    "duration": 371,
    "start_time": "2025-05-10T11:20:44.640Z"
   },
   {
    "duration": 9,
    "start_time": "2025-05-10T11:20:45.013Z"
   },
   {
    "duration": 483,
    "start_time": "2025-05-10T11:20:45.024Z"
   },
   {
    "duration": 409,
    "start_time": "2025-05-10T11:20:45.508Z"
   },
   {
    "duration": 10,
    "start_time": "2025-05-10T11:20:45.919Z"
   },
   {
    "duration": 13,
    "start_time": "2025-05-10T11:20:45.931Z"
   },
   {
    "duration": 32,
    "start_time": "2025-05-10T11:20:45.946Z"
   },
   {
    "duration": 17,
    "start_time": "2025-05-10T11:20:45.980Z"
   },
   {
    "duration": 17,
    "start_time": "2025-05-10T11:20:45.998Z"
   },
   {
    "duration": 4,
    "start_time": "2025-05-10T11:20:46.016Z"
   },
   {
    "duration": 30,
    "start_time": "2025-05-10T11:20:46.022Z"
   },
   {
    "duration": 10,
    "start_time": "2025-05-10T11:20:46.053Z"
   },
   {
    "duration": 12,
    "start_time": "2025-05-10T11:20:46.065Z"
   },
   {
    "duration": 430,
    "start_time": "2025-05-10T11:20:46.079Z"
   },
   {
    "duration": 5068,
    "start_time": "2025-05-10T11:20:46.511Z"
   },
   {
    "duration": 8781,
    "start_time": "2025-05-10T11:20:51.581Z"
   },
   {
    "duration": 13557,
    "start_time": "2025-05-10T11:21:00.364Z"
   },
   {
    "duration": 11,
    "start_time": "2025-05-10T11:21:13.922Z"
   },
   {
    "duration": 11,
    "start_time": "2025-05-10T11:21:13.934Z"
   },
   {
    "duration": 9,
    "start_time": "2025-05-10T11:21:13.946Z"
   },
   {
    "duration": 5,
    "start_time": "2025-05-10T11:21:13.958Z"
   },
   {
    "duration": 11,
    "start_time": "2025-05-10T11:21:13.965Z"
   },
   {
    "duration": 385,
    "start_time": "2025-05-10T11:21:13.977Z"
   },
   {
    "duration": 1461,
    "start_time": "2025-05-10T11:23:37.499Z"
   },
   {
    "duration": 4,
    "start_time": "2025-05-10T11:23:38.962Z"
   },
   {
    "duration": 102,
    "start_time": "2025-05-10T11:23:38.968Z"
   },
   {
    "duration": 7,
    "start_time": "2025-05-10T11:23:39.072Z"
   },
   {
    "duration": 44,
    "start_time": "2025-05-10T11:23:39.081Z"
   },
   {
    "duration": 12,
    "start_time": "2025-05-10T11:23:39.126Z"
   },
   {
    "duration": 22,
    "start_time": "2025-05-10T11:23:39.139Z"
   },
   {
    "duration": 19,
    "start_time": "2025-05-10T11:23:39.163Z"
   },
   {
    "duration": 16,
    "start_time": "2025-05-10T11:23:39.183Z"
   },
   {
    "duration": 7,
    "start_time": "2025-05-10T11:23:39.200Z"
   },
   {
    "duration": 9,
    "start_time": "2025-05-10T11:23:39.209Z"
   },
   {
    "duration": 6,
    "start_time": "2025-05-10T11:23:39.220Z"
   },
   {
    "duration": 16,
    "start_time": "2025-05-10T11:23:39.227Z"
   },
   {
    "duration": 4,
    "start_time": "2025-05-10T11:23:39.246Z"
   },
   {
    "duration": 249,
    "start_time": "2025-05-10T11:23:39.262Z"
   },
   {
    "duration": 458,
    "start_time": "2025-05-10T11:23:39.513Z"
   },
   {
    "duration": 14,
    "start_time": "2025-05-10T11:23:39.973Z"
   },
   {
    "duration": 322,
    "start_time": "2025-05-10T11:23:39.989Z"
   },
   {
    "duration": 4880,
    "start_time": "2025-05-10T11:23:40.313Z"
   },
   {
    "duration": 12,
    "start_time": "2025-05-10T11:23:45.195Z"
   },
   {
    "duration": 400,
    "start_time": "2025-05-10T11:23:45.208Z"
   },
   {
    "duration": 7,
    "start_time": "2025-05-10T11:23:45.610Z"
   },
   {
    "duration": 434,
    "start_time": "2025-05-10T11:23:45.619Z"
   },
   {
    "duration": 446,
    "start_time": "2025-05-10T11:23:46.055Z"
   },
   {
    "duration": 12,
    "start_time": "2025-05-10T11:23:46.503Z"
   },
   {
    "duration": 10,
    "start_time": "2025-05-10T11:23:46.517Z"
   },
   {
    "duration": 41,
    "start_time": "2025-05-10T11:23:46.529Z"
   },
   {
    "duration": 16,
    "start_time": "2025-05-10T11:23:46.573Z"
   },
   {
    "duration": 17,
    "start_time": "2025-05-10T11:23:46.591Z"
   },
   {
    "duration": 73,
    "start_time": "2025-05-10T11:23:46.610Z"
   },
   {
    "duration": 6,
    "start_time": "2025-05-10T11:23:46.685Z"
   },
   {
    "duration": 7,
    "start_time": "2025-05-10T11:23:46.692Z"
   },
   {
    "duration": 3,
    "start_time": "2025-05-10T11:23:46.701Z"
   },
   {
    "duration": 406,
    "start_time": "2025-05-10T11:23:46.706Z"
   },
   {
    "duration": 5187,
    "start_time": "2025-05-10T11:23:47.114Z"
   },
   {
    "duration": 8170,
    "start_time": "2025-05-10T11:23:52.303Z"
   },
   {
    "duration": 24197,
    "start_time": "2025-05-10T11:24:00.563Z"
   },
   {
    "duration": 12,
    "start_time": "2025-05-10T11:24:24.762Z"
   },
   {
    "duration": 8,
    "start_time": "2025-05-10T11:24:24.775Z"
   },
   {
    "duration": 13,
    "start_time": "2025-05-10T11:24:24.784Z"
   },
   {
    "duration": 5,
    "start_time": "2025-05-10T11:24:24.801Z"
   },
   {
    "duration": 56,
    "start_time": "2025-05-10T11:24:24.807Z"
   },
   {
    "duration": 424,
    "start_time": "2025-05-10T11:24:24.865Z"
   },
   {
    "duration": 1607,
    "start_time": "2025-05-10T11:25:00.630Z"
   },
   {
    "duration": 4,
    "start_time": "2025-05-10T11:25:02.239Z"
   },
   {
    "duration": 43,
    "start_time": "2025-05-10T11:25:02.244Z"
   },
   {
    "duration": 48,
    "start_time": "2025-05-10T11:25:02.289Z"
   },
   {
    "duration": 99,
    "start_time": "2025-05-10T11:25:02.340Z"
   },
   {
    "duration": 12,
    "start_time": "2025-05-10T11:25:02.441Z"
   },
   {
    "duration": 47,
    "start_time": "2025-05-10T11:25:02.454Z"
   },
   {
    "duration": 34,
    "start_time": "2025-05-10T11:25:02.503Z"
   },
   {
    "duration": 21,
    "start_time": "2025-05-10T11:25:02.539Z"
   },
   {
    "duration": 107,
    "start_time": "2025-05-10T11:25:02.562Z"
   },
   {
    "duration": 55,
    "start_time": "2025-05-10T11:25:02.670Z"
   },
   {
    "duration": 7,
    "start_time": "2025-05-10T11:25:02.727Z"
   },
   {
    "duration": 17,
    "start_time": "2025-05-10T11:25:02.736Z"
   },
   {
    "duration": 45,
    "start_time": "2025-05-10T11:25:02.756Z"
   },
   {
    "duration": 269,
    "start_time": "2025-05-10T11:25:02.803Z"
   },
   {
    "duration": 413,
    "start_time": "2025-05-10T11:25:03.074Z"
   },
   {
    "duration": 10,
    "start_time": "2025-05-10T11:25:03.489Z"
   },
   {
    "duration": 319,
    "start_time": "2025-05-10T11:25:03.501Z"
   },
   {
    "duration": 5041,
    "start_time": "2025-05-10T11:25:03.821Z"
   },
   {
    "duration": 14,
    "start_time": "2025-05-10T11:25:08.864Z"
   },
   {
    "duration": 413,
    "start_time": "2025-05-10T11:25:08.880Z"
   },
   {
    "duration": 8,
    "start_time": "2025-05-10T11:25:09.294Z"
   },
   {
    "duration": 475,
    "start_time": "2025-05-10T11:25:09.303Z"
   },
   {
    "duration": 443,
    "start_time": "2025-05-10T11:25:09.780Z"
   },
   {
    "duration": 10,
    "start_time": "2025-05-10T11:25:10.224Z"
   },
   {
    "duration": 9,
    "start_time": "2025-05-10T11:25:10.235Z"
   },
   {
    "duration": 34,
    "start_time": "2025-05-10T11:25:10.245Z"
   },
   {
    "duration": 17,
    "start_time": "2025-05-10T11:25:10.280Z"
   },
   {
    "duration": 14,
    "start_time": "2025-05-10T11:25:10.298Z"
   },
   {
    "duration": 32,
    "start_time": "2025-05-10T11:25:10.314Z"
   },
   {
    "duration": 9,
    "start_time": "2025-05-10T11:25:10.347Z"
   },
   {
    "duration": 6,
    "start_time": "2025-05-10T11:25:10.357Z"
   },
   {
    "duration": 8,
    "start_time": "2025-05-10T11:25:10.365Z"
   },
   {
    "duration": 391,
    "start_time": "2025-05-10T11:25:10.374Z"
   },
   {
    "duration": 5127,
    "start_time": "2025-05-10T11:25:10.766Z"
   },
   {
    "duration": 8176,
    "start_time": "2025-05-10T11:25:15.895Z"
   },
   {
    "duration": 23805,
    "start_time": "2025-05-10T11:25:24.073Z"
   },
   {
    "duration": 12,
    "start_time": "2025-05-10T11:25:47.880Z"
   },
   {
    "duration": 52,
    "start_time": "2025-05-10T11:25:47.893Z"
   },
   {
    "duration": 15,
    "start_time": "2025-05-10T11:25:47.948Z"
   },
   {
    "duration": 10,
    "start_time": "2025-05-10T11:25:47.969Z"
   },
   {
    "duration": 13,
    "start_time": "2025-05-10T11:25:47.982Z"
   },
   {
    "duration": 402,
    "start_time": "2025-05-10T11:25:47.998Z"
   },
   {
    "duration": 1463,
    "start_time": "2025-05-10T11:26:08.730Z"
   },
   {
    "duration": 5,
    "start_time": "2025-05-10T11:26:10.195Z"
   },
   {
    "duration": 32,
    "start_time": "2025-05-10T11:26:10.201Z"
   },
   {
    "duration": 33,
    "start_time": "2025-05-10T11:26:10.235Z"
   },
   {
    "duration": 72,
    "start_time": "2025-05-10T11:26:10.269Z"
   },
   {
    "duration": 12,
    "start_time": "2025-05-10T11:26:10.343Z"
   },
   {
    "duration": 10,
    "start_time": "2025-05-10T11:26:10.356Z"
   },
   {
    "duration": 7,
    "start_time": "2025-05-10T11:26:10.367Z"
   },
   {
    "duration": 19,
    "start_time": "2025-05-10T11:26:10.375Z"
   },
   {
    "duration": 7,
    "start_time": "2025-05-10T11:26:10.396Z"
   },
   {
    "duration": 7,
    "start_time": "2025-05-10T11:26:10.405Z"
   },
   {
    "duration": 6,
    "start_time": "2025-05-10T11:26:10.413Z"
   },
   {
    "duration": 17,
    "start_time": "2025-05-10T11:26:10.421Z"
   },
   {
    "duration": 4,
    "start_time": "2025-05-10T11:26:10.439Z"
   },
   {
    "duration": 254,
    "start_time": "2025-05-10T11:26:10.462Z"
   },
   {
    "duration": 418,
    "start_time": "2025-05-10T11:26:10.717Z"
   },
   {
    "duration": 12,
    "start_time": "2025-05-10T11:26:11.137Z"
   },
   {
    "duration": 273,
    "start_time": "2025-05-10T11:26:11.150Z"
   },
   {
    "duration": 4952,
    "start_time": "2025-05-10T11:26:11.425Z"
   },
   {
    "duration": 11,
    "start_time": "2025-05-10T11:26:16.379Z"
   },
   {
    "duration": 412,
    "start_time": "2025-05-10T11:26:16.391Z"
   },
   {
    "duration": 8,
    "start_time": "2025-05-10T11:26:16.805Z"
   },
   {
    "duration": 409,
    "start_time": "2025-05-10T11:26:16.814Z"
   },
   {
    "duration": 427,
    "start_time": "2025-05-10T11:26:17.225Z"
   },
   {
    "duration": 14,
    "start_time": "2025-05-10T11:26:17.654Z"
   },
   {
    "duration": 10,
    "start_time": "2025-05-10T11:26:17.669Z"
   },
   {
    "duration": 33,
    "start_time": "2025-05-10T11:26:17.680Z"
   },
   {
    "duration": 26,
    "start_time": "2025-05-10T11:26:17.716Z"
   },
   {
    "duration": 33,
    "start_time": "2025-05-10T11:26:17.743Z"
   },
   {
    "duration": 35,
    "start_time": "2025-05-10T11:26:17.778Z"
   },
   {
    "duration": 34,
    "start_time": "2025-05-10T11:26:17.815Z"
   },
   {
    "duration": 113,
    "start_time": "2025-05-10T11:26:17.851Z"
   },
   {
    "duration": 4,
    "start_time": "2025-05-10T11:26:17.966Z"
   },
   {
    "duration": 415,
    "start_time": "2025-05-10T11:26:17.972Z"
   },
   {
    "duration": 5096,
    "start_time": "2025-05-10T11:26:18.389Z"
   },
   {
    "duration": 11384,
    "start_time": "2025-05-10T11:26:23.487Z"
   },
   {
    "duration": 32998,
    "start_time": "2025-05-10T11:26:34.872Z"
   },
   {
    "duration": 11,
    "start_time": "2025-05-10T11:27:07.872Z"
   },
   {
    "duration": 72,
    "start_time": "2025-05-10T11:27:07.885Z"
   },
   {
    "duration": 14,
    "start_time": "2025-05-10T11:27:07.959Z"
   },
   {
    "duration": 8,
    "start_time": "2025-05-10T11:27:07.976Z"
   },
   {
    "duration": 14,
    "start_time": "2025-05-10T11:27:07.986Z"
   },
   {
    "duration": 412,
    "start_time": "2025-05-10T11:27:08.002Z"
   },
   {
    "duration": 1466,
    "start_time": "2025-05-10T11:28:43.943Z"
   },
   {
    "duration": 4,
    "start_time": "2025-05-10T11:28:45.411Z"
   },
   {
    "duration": 14,
    "start_time": "2025-05-10T11:28:45.417Z"
   },
   {
    "duration": 19,
    "start_time": "2025-05-10T11:28:45.433Z"
   },
   {
    "duration": 49,
    "start_time": "2025-05-10T11:28:45.454Z"
   },
   {
    "duration": 12,
    "start_time": "2025-05-10T11:28:45.505Z"
   },
   {
    "duration": 8,
    "start_time": "2025-05-10T11:28:45.519Z"
   },
   {
    "duration": 10,
    "start_time": "2025-05-10T11:28:45.529Z"
   },
   {
    "duration": 13,
    "start_time": "2025-05-10T11:28:45.541Z"
   },
   {
    "duration": 8,
    "start_time": "2025-05-10T11:28:45.562Z"
   },
   {
    "duration": 8,
    "start_time": "2025-05-10T11:28:45.572Z"
   },
   {
    "duration": 24,
    "start_time": "2025-05-10T11:28:45.582Z"
   },
   {
    "duration": 16,
    "start_time": "2025-05-10T11:28:45.608Z"
   },
   {
    "duration": 5,
    "start_time": "2025-05-10T11:28:45.628Z"
   },
   {
    "duration": 271,
    "start_time": "2025-05-10T11:28:45.635Z"
   },
   {
    "duration": 487,
    "start_time": "2025-05-10T11:28:45.908Z"
   },
   {
    "duration": 9,
    "start_time": "2025-05-10T11:28:46.397Z"
   },
   {
    "duration": 311,
    "start_time": "2025-05-10T11:28:46.408Z"
   },
   {
    "duration": 4999,
    "start_time": "2025-05-10T11:28:46.721Z"
   },
   {
    "duration": 11,
    "start_time": "2025-05-10T11:28:51.722Z"
   },
   {
    "duration": 378,
    "start_time": "2025-05-10T11:28:51.735Z"
   },
   {
    "duration": 7,
    "start_time": "2025-05-10T11:28:52.115Z"
   },
   {
    "duration": 427,
    "start_time": "2025-05-10T11:28:52.124Z"
   },
   {
    "duration": 462,
    "start_time": "2025-05-10T11:28:52.552Z"
   },
   {
    "duration": 15,
    "start_time": "2025-05-10T11:28:53.017Z"
   },
   {
    "duration": 61,
    "start_time": "2025-05-10T11:28:53.034Z"
   },
   {
    "duration": 54,
    "start_time": "2025-05-10T11:28:53.097Z"
   },
   {
    "duration": 18,
    "start_time": "2025-05-10T11:28:53.153Z"
   },
   {
    "duration": 17,
    "start_time": "2025-05-10T11:28:53.172Z"
   },
   {
    "duration": 28,
    "start_time": "2025-05-10T11:28:53.190Z"
   },
   {
    "duration": 9,
    "start_time": "2025-05-10T11:28:53.220Z"
   },
   {
    "duration": 10,
    "start_time": "2025-05-10T11:28:53.231Z"
   },
   {
    "duration": 4,
    "start_time": "2025-05-10T11:28:53.243Z"
   },
   {
    "duration": 439,
    "start_time": "2025-05-10T11:28:53.248Z"
   },
   {
    "duration": 5113,
    "start_time": "2025-05-10T11:28:53.689Z"
   },
   {
    "duration": 97765,
    "start_time": "2025-05-10T11:28:58.803Z"
   },
   {
    "duration": 83,
    "start_time": "2025-05-10T11:30:36.569Z"
   },
   {
    "duration": 0,
    "start_time": "2025-05-10T11:30:36.654Z"
   },
   {
    "duration": 0,
    "start_time": "2025-05-10T11:30:36.655Z"
   },
   {
    "duration": 0,
    "start_time": "2025-05-10T11:30:36.657Z"
   },
   {
    "duration": 0,
    "start_time": "2025-05-10T11:30:36.658Z"
   },
   {
    "duration": 0,
    "start_time": "2025-05-10T11:30:36.659Z"
   },
   {
    "duration": 0,
    "start_time": "2025-05-10T11:30:36.660Z"
   },
   {
    "duration": 86405,
    "start_time": "2025-05-10T11:30:55.937Z"
   },
   {
    "duration": 12,
    "start_time": "2025-05-10T11:32:22.344Z"
   },
   {
    "duration": 24,
    "start_time": "2025-05-10T11:32:22.358Z"
   },
   {
    "duration": 36,
    "start_time": "2025-05-10T11:32:22.384Z"
   },
   {
    "duration": 6,
    "start_time": "2025-05-10T11:32:22.422Z"
   },
   {
    "duration": 11,
    "start_time": "2025-05-10T11:32:22.429Z"
   },
   {
    "duration": 405,
    "start_time": "2025-05-10T11:32:22.462Z"
   },
   {
    "duration": 1521,
    "start_time": "2025-05-10T11:33:25.595Z"
   },
   {
    "duration": 4,
    "start_time": "2025-05-10T11:33:27.118Z"
   },
   {
    "duration": 7,
    "start_time": "2025-05-10T11:33:27.123Z"
   },
   {
    "duration": 7,
    "start_time": "2025-05-10T11:33:27.132Z"
   },
   {
    "duration": 57,
    "start_time": "2025-05-10T11:33:27.141Z"
   },
   {
    "duration": 11,
    "start_time": "2025-05-10T11:33:27.200Z"
   },
   {
    "duration": 10,
    "start_time": "2025-05-10T11:33:27.213Z"
   },
   {
    "duration": 5,
    "start_time": "2025-05-10T11:33:27.224Z"
   },
   {
    "duration": 15,
    "start_time": "2025-05-10T11:33:27.230Z"
   },
   {
    "duration": 12,
    "start_time": "2025-05-10T11:33:27.263Z"
   },
   {
    "duration": 10,
    "start_time": "2025-05-10T11:33:27.277Z"
   },
   {
    "duration": 12,
    "start_time": "2025-05-10T11:33:27.288Z"
   },
   {
    "duration": 27,
    "start_time": "2025-05-10T11:33:27.302Z"
   },
   {
    "duration": 4,
    "start_time": "2025-05-10T11:33:27.332Z"
   },
   {
    "duration": 285,
    "start_time": "2025-05-10T11:33:27.338Z"
   },
   {
    "duration": 498,
    "start_time": "2025-05-10T11:33:27.625Z"
   },
   {
    "duration": 10,
    "start_time": "2025-05-10T11:33:28.125Z"
   },
   {
    "duration": 312,
    "start_time": "2025-05-10T11:33:28.137Z"
   },
   {
    "duration": 5554,
    "start_time": "2025-05-10T11:33:28.451Z"
   },
   {
    "duration": 11,
    "start_time": "2025-05-10T11:33:34.008Z"
   },
   {
    "duration": 430,
    "start_time": "2025-05-10T11:33:34.021Z"
   },
   {
    "duration": 24,
    "start_time": "2025-05-10T11:33:34.453Z"
   },
   {
    "duration": 447,
    "start_time": "2025-05-10T11:33:34.479Z"
   },
   {
    "duration": 460,
    "start_time": "2025-05-10T11:33:34.928Z"
   },
   {
    "duration": 11,
    "start_time": "2025-05-10T11:33:35.390Z"
   },
   {
    "duration": 30,
    "start_time": "2025-05-10T11:33:35.403Z"
   },
   {
    "duration": 30,
    "start_time": "2025-05-10T11:33:35.435Z"
   },
   {
    "duration": 28,
    "start_time": "2025-05-10T11:33:35.467Z"
   },
   {
    "duration": 17,
    "start_time": "2025-05-10T11:33:35.497Z"
   },
   {
    "duration": 5,
    "start_time": "2025-05-10T11:33:35.516Z"
   },
   {
    "duration": 20,
    "start_time": "2025-05-10T11:33:35.523Z"
   },
   {
    "duration": 11,
    "start_time": "2025-05-10T11:33:35.545Z"
   },
   {
    "duration": 4,
    "start_time": "2025-05-10T11:33:35.562Z"
   },
   {
    "duration": 479,
    "start_time": "2025-05-10T11:33:35.568Z"
   },
   {
    "duration": 5320,
    "start_time": "2025-05-10T11:33:36.048Z"
   },
   {
    "duration": 133801,
    "start_time": "2025-05-10T11:33:41.369Z"
   },
   {
    "duration": 89394,
    "start_time": "2025-05-10T11:35:55.173Z"
   },
   {
    "duration": 12,
    "start_time": "2025-05-10T11:37:24.569Z"
   },
   {
    "duration": 27,
    "start_time": "2025-05-10T11:37:24.583Z"
   },
   {
    "duration": 16,
    "start_time": "2025-05-10T11:37:24.612Z"
   },
   {
    "duration": 7,
    "start_time": "2025-05-10T11:37:24.661Z"
   },
   {
    "duration": 68,
    "start_time": "2025-05-10T11:37:24.669Z"
   },
   {
    "duration": 345,
    "start_time": "2025-05-10T11:37:24.739Z"
   },
   {
    "duration": 1524,
    "start_time": "2025-05-10T11:39:29.325Z"
   },
   {
    "duration": 3,
    "start_time": "2025-05-10T11:39:30.851Z"
   },
   {
    "duration": 10,
    "start_time": "2025-05-10T11:39:30.856Z"
   },
   {
    "duration": 40,
    "start_time": "2025-05-10T11:39:30.869Z"
   },
   {
    "duration": 59,
    "start_time": "2025-05-10T11:39:30.911Z"
   },
   {
    "duration": 12,
    "start_time": "2025-05-10T11:39:30.971Z"
   },
   {
    "duration": 30,
    "start_time": "2025-05-10T11:39:30.985Z"
   },
   {
    "duration": 5,
    "start_time": "2025-05-10T11:39:31.017Z"
   },
   {
    "duration": 12,
    "start_time": "2025-05-10T11:39:31.023Z"
   },
   {
    "duration": 7,
    "start_time": "2025-05-10T11:39:31.038Z"
   },
   {
    "duration": 75,
    "start_time": "2025-05-10T11:39:31.047Z"
   },
   {
    "duration": 4,
    "start_time": "2025-05-10T11:39:31.124Z"
   },
   {
    "duration": 13,
    "start_time": "2025-05-10T11:39:31.130Z"
   },
   {
    "duration": 3,
    "start_time": "2025-05-10T11:39:31.145Z"
   },
   {
    "duration": 256,
    "start_time": "2025-05-10T11:39:31.150Z"
   },
   {
    "duration": 479,
    "start_time": "2025-05-10T11:39:31.408Z"
   },
   {
    "duration": 14,
    "start_time": "2025-05-10T11:39:31.889Z"
   },
   {
    "duration": 377,
    "start_time": "2025-05-10T11:39:31.905Z"
   },
   {
    "duration": 5010,
    "start_time": "2025-05-10T11:39:32.284Z"
   },
   {
    "duration": 12,
    "start_time": "2025-05-10T11:39:37.295Z"
   },
   {
    "duration": 422,
    "start_time": "2025-05-10T11:39:37.309Z"
   },
   {
    "duration": 7,
    "start_time": "2025-05-10T11:39:37.733Z"
   },
   {
    "duration": 458,
    "start_time": "2025-05-10T11:39:37.742Z"
   },
   {
    "duration": 403,
    "start_time": "2025-05-10T11:39:38.201Z"
   },
   {
    "duration": 10,
    "start_time": "2025-05-10T11:39:38.605Z"
   },
   {
    "duration": 24,
    "start_time": "2025-05-10T11:39:38.616Z"
   },
   {
    "duration": 26,
    "start_time": "2025-05-10T11:39:38.641Z"
   },
   {
    "duration": 88,
    "start_time": "2025-05-10T11:39:38.670Z"
   },
   {
    "duration": 16,
    "start_time": "2025-05-10T11:39:38.759Z"
   },
   {
    "duration": 10,
    "start_time": "2025-05-10T11:39:38.777Z"
   },
   {
    "duration": 16,
    "start_time": "2025-05-10T11:39:38.789Z"
   },
   {
    "duration": 12,
    "start_time": "2025-05-10T11:39:38.806Z"
   },
   {
    "duration": 7,
    "start_time": "2025-05-10T11:39:38.820Z"
   },
   {
    "duration": 414,
    "start_time": "2025-05-10T11:39:38.828Z"
   },
   {
    "duration": 5073,
    "start_time": "2025-05-10T11:39:39.243Z"
   },
   {
    "duration": 47154,
    "start_time": "2025-05-10T11:39:44.318Z"
   },
   {
    "duration": 32969,
    "start_time": "2025-05-10T11:40:31.474Z"
   },
   {
    "duration": 13,
    "start_time": "2025-05-10T11:41:04.445Z"
   },
   {
    "duration": 21,
    "start_time": "2025-05-10T11:41:04.460Z"
   },
   {
    "duration": 35,
    "start_time": "2025-05-10T11:41:04.483Z"
   },
   {
    "duration": 6,
    "start_time": "2025-05-10T11:41:04.519Z"
   },
   {
    "duration": 37,
    "start_time": "2025-05-10T11:41:04.526Z"
   },
   {
    "duration": 413,
    "start_time": "2025-05-10T11:41:04.565Z"
   },
   {
    "duration": 378,
    "start_time": "2025-05-10T11:42:27.746Z"
   },
   {
    "duration": 70,
    "start_time": "2025-05-10T16:46:40.185Z"
   },
   {
    "duration": 2566,
    "start_time": "2025-05-10T16:46:50.114Z"
   },
   {
    "duration": 5,
    "start_time": "2025-05-10T16:46:52.682Z"
   },
   {
    "duration": 31,
    "start_time": "2025-05-10T16:46:52.689Z"
   },
   {
    "duration": 10,
    "start_time": "2025-05-10T16:46:52.729Z"
   },
   {
    "duration": 128,
    "start_time": "2025-05-10T16:46:52.745Z"
   },
   {
    "duration": 15,
    "start_time": "2025-05-10T16:46:52.875Z"
   },
   {
    "duration": 74,
    "start_time": "2025-05-10T16:46:52.892Z"
   },
   {
    "duration": 14,
    "start_time": "2025-05-10T16:46:52.968Z"
   },
   {
    "duration": 15,
    "start_time": "2025-05-10T16:46:52.984Z"
   },
   {
    "duration": 23,
    "start_time": "2025-05-10T16:46:53.001Z"
   },
   {
    "duration": 17,
    "start_time": "2025-05-10T16:46:53.026Z"
   },
   {
    "duration": 49,
    "start_time": "2025-05-10T16:46:53.045Z"
   },
   {
    "duration": 81,
    "start_time": "2025-05-10T16:46:53.096Z"
   },
   {
    "duration": 13,
    "start_time": "2025-05-10T16:46:53.181Z"
   },
   {
    "duration": 360,
    "start_time": "2025-05-10T16:46:53.196Z"
   },
   {
    "duration": 571,
    "start_time": "2025-05-10T16:46:53.558Z"
   },
   {
    "duration": 15,
    "start_time": "2025-05-10T16:46:54.134Z"
   },
   {
    "duration": 445,
    "start_time": "2025-05-10T16:46:54.151Z"
   },
   {
    "duration": 2463,
    "start_time": "2025-05-10T16:46:54.598Z"
   },
   {
    "duration": 0,
    "start_time": "2025-05-10T16:46:57.063Z"
   },
   {
    "duration": 0,
    "start_time": "2025-05-10T16:46:57.064Z"
   },
   {
    "duration": 0,
    "start_time": "2025-05-10T16:46:57.065Z"
   },
   {
    "duration": 0,
    "start_time": "2025-05-10T16:46:57.067Z"
   },
   {
    "duration": 0,
    "start_time": "2025-05-10T16:46:57.068Z"
   },
   {
    "duration": 0,
    "start_time": "2025-05-10T16:46:57.069Z"
   },
   {
    "duration": 0,
    "start_time": "2025-05-10T16:46:57.071Z"
   },
   {
    "duration": 0,
    "start_time": "2025-05-10T16:46:57.072Z"
   },
   {
    "duration": 0,
    "start_time": "2025-05-10T16:46:57.073Z"
   },
   {
    "duration": 0,
    "start_time": "2025-05-10T16:46:57.074Z"
   },
   {
    "duration": 0,
    "start_time": "2025-05-10T16:46:57.075Z"
   },
   {
    "duration": 0,
    "start_time": "2025-05-10T16:46:57.076Z"
   },
   {
    "duration": 0,
    "start_time": "2025-05-10T16:46:57.078Z"
   },
   {
    "duration": 0,
    "start_time": "2025-05-10T16:46:57.079Z"
   },
   {
    "duration": 0,
    "start_time": "2025-05-10T16:46:57.110Z"
   },
   {
    "duration": 0,
    "start_time": "2025-05-10T16:46:57.111Z"
   },
   {
    "duration": 0,
    "start_time": "2025-05-10T16:46:57.112Z"
   },
   {
    "duration": 0,
    "start_time": "2025-05-10T16:46:57.113Z"
   },
   {
    "duration": 0,
    "start_time": "2025-05-10T16:46:57.114Z"
   },
   {
    "duration": 1,
    "start_time": "2025-05-10T16:46:57.115Z"
   },
   {
    "duration": 0,
    "start_time": "2025-05-10T16:46:57.117Z"
   },
   {
    "duration": 0,
    "start_time": "2025-05-10T16:46:57.118Z"
   },
   {
    "duration": 0,
    "start_time": "2025-05-10T16:46:57.119Z"
   },
   {
    "duration": 0,
    "start_time": "2025-05-10T16:46:57.120Z"
   },
   {
    "duration": 0,
    "start_time": "2025-05-10T16:46:57.121Z"
   },
   {
    "duration": 1652,
    "start_time": "2025-05-10T16:47:35.337Z"
   },
   {
    "duration": 4,
    "start_time": "2025-05-10T16:47:36.991Z"
   },
   {
    "duration": 19,
    "start_time": "2025-05-10T16:47:36.996Z"
   },
   {
    "duration": 32,
    "start_time": "2025-05-10T16:47:37.017Z"
   },
   {
    "duration": 145,
    "start_time": "2025-05-10T16:47:37.052Z"
   },
   {
    "duration": 34,
    "start_time": "2025-05-10T16:47:37.199Z"
   },
   {
    "duration": 20,
    "start_time": "2025-05-10T16:47:37.244Z"
   },
   {
    "duration": 18,
    "start_time": "2025-05-10T16:47:37.266Z"
   },
   {
    "duration": 49,
    "start_time": "2025-05-10T16:47:37.285Z"
   },
   {
    "duration": 10,
    "start_time": "2025-05-10T16:47:37.337Z"
   },
   {
    "duration": 19,
    "start_time": "2025-05-10T16:47:37.349Z"
   },
   {
    "duration": 5,
    "start_time": "2025-05-10T16:47:37.370Z"
   },
   {
    "duration": 18,
    "start_time": "2025-05-10T16:47:37.378Z"
   },
   {
    "duration": 13,
    "start_time": "2025-05-10T16:47:37.405Z"
   },
   {
    "duration": 336,
    "start_time": "2025-05-10T16:47:37.422Z"
   },
   {
    "duration": 529,
    "start_time": "2025-05-10T16:47:37.760Z"
   },
   {
    "duration": 20,
    "start_time": "2025-05-10T16:47:38.292Z"
   },
   {
    "duration": 371,
    "start_time": "2025-05-10T16:47:38.314Z"
   },
   {
    "duration": 6360,
    "start_time": "2025-05-10T16:47:38.687Z"
   },
   {
    "duration": 14,
    "start_time": "2025-05-10T16:47:45.049Z"
   },
   {
    "duration": 447,
    "start_time": "2025-05-10T16:47:45.065Z"
   },
   {
    "duration": 14,
    "start_time": "2025-05-10T16:47:45.514Z"
   },
   {
    "duration": 542,
    "start_time": "2025-05-10T16:47:45.530Z"
   },
   {
    "duration": 516,
    "start_time": "2025-05-10T16:47:46.074Z"
   },
   {
    "duration": 37,
    "start_time": "2025-05-10T16:47:46.592Z"
   },
   {
    "duration": 678,
    "start_time": "2025-05-10T16:47:46.636Z"
   },
   {
    "duration": 167,
    "start_time": "2025-05-10T16:47:47.316Z"
   },
   {
    "duration": 0,
    "start_time": "2025-05-10T16:47:47.485Z"
   },
   {
    "duration": 0,
    "start_time": "2025-05-10T16:47:47.486Z"
   },
   {
    "duration": 0,
    "start_time": "2025-05-10T16:47:47.487Z"
   },
   {
    "duration": 0,
    "start_time": "2025-05-10T16:47:47.488Z"
   },
   {
    "duration": 0,
    "start_time": "2025-05-10T16:47:47.489Z"
   },
   {
    "duration": 0,
    "start_time": "2025-05-10T16:47:47.491Z"
   },
   {
    "duration": 0,
    "start_time": "2025-05-10T16:47:47.508Z"
   },
   {
    "duration": 0,
    "start_time": "2025-05-10T16:47:47.509Z"
   },
   {
    "duration": 0,
    "start_time": "2025-05-10T16:47:47.509Z"
   },
   {
    "duration": 0,
    "start_time": "2025-05-10T16:47:47.510Z"
   },
   {
    "duration": 0,
    "start_time": "2025-05-10T16:47:47.511Z"
   },
   {
    "duration": 0,
    "start_time": "2025-05-10T16:47:47.516Z"
   },
   {
    "duration": 0,
    "start_time": "2025-05-10T16:47:47.516Z"
   },
   {
    "duration": 0,
    "start_time": "2025-05-10T16:47:47.517Z"
   },
   {
    "duration": 0,
    "start_time": "2025-05-10T16:47:47.518Z"
   },
   {
    "duration": 0,
    "start_time": "2025-05-10T16:47:47.522Z"
   },
   {
    "duration": 0,
    "start_time": "2025-05-10T16:47:47.523Z"
   },
   {
    "duration": 0,
    "start_time": "2025-05-10T16:47:47.523Z"
   },
   {
    "duration": 15,
    "start_time": "2025-05-10T16:49:31.556Z"
   },
   {
    "duration": 26,
    "start_time": "2025-05-10T16:49:37.070Z"
   },
   {
    "duration": 1785,
    "start_time": "2025-05-10T16:49:53.479Z"
   },
   {
    "duration": 4,
    "start_time": "2025-05-10T16:49:55.266Z"
   },
   {
    "duration": 80,
    "start_time": "2025-05-10T16:49:55.272Z"
   },
   {
    "duration": 41,
    "start_time": "2025-05-10T16:49:55.354Z"
   },
   {
    "duration": 78,
    "start_time": "2025-05-10T16:49:55.398Z"
   },
   {
    "duration": 14,
    "start_time": "2025-05-10T16:49:55.478Z"
   },
   {
    "duration": 31,
    "start_time": "2025-05-10T16:49:55.495Z"
   },
   {
    "duration": 22,
    "start_time": "2025-05-10T16:49:55.528Z"
   },
   {
    "duration": 14,
    "start_time": "2025-05-10T16:49:55.553Z"
   },
   {
    "duration": 12,
    "start_time": "2025-05-10T16:49:55.569Z"
   },
   {
    "duration": 36,
    "start_time": "2025-05-10T16:49:55.583Z"
   },
   {
    "duration": 10,
    "start_time": "2025-05-10T16:49:55.623Z"
   },
   {
    "duration": 38,
    "start_time": "2025-05-10T16:49:55.635Z"
   },
   {
    "duration": 6,
    "start_time": "2025-05-10T16:49:55.678Z"
   },
   {
    "duration": 354,
    "start_time": "2025-05-10T16:49:55.686Z"
   },
   {
    "duration": 503,
    "start_time": "2025-05-10T16:49:56.042Z"
   },
   {
    "duration": 11,
    "start_time": "2025-05-10T16:49:56.547Z"
   },
   {
    "duration": 348,
    "start_time": "2025-05-10T16:49:56.560Z"
   },
   {
    "duration": 6187,
    "start_time": "2025-05-10T16:49:56.912Z"
   },
   {
    "duration": 16,
    "start_time": "2025-05-10T16:50:03.107Z"
   },
   {
    "duration": 503,
    "start_time": "2025-05-10T16:50:03.125Z"
   },
   {
    "duration": 9,
    "start_time": "2025-05-10T16:50:03.630Z"
   },
   {
    "duration": 514,
    "start_time": "2025-05-10T16:50:03.640Z"
   },
   {
    "duration": 490,
    "start_time": "2025-05-10T16:50:04.157Z"
   },
   {
    "duration": 13,
    "start_time": "2025-05-10T16:50:04.649Z"
   },
   {
    "duration": 167,
    "start_time": "2025-05-10T16:50:04.664Z"
   },
   {
    "duration": 0,
    "start_time": "2025-05-10T16:50:04.833Z"
   },
   {
    "duration": 0,
    "start_time": "2025-05-10T16:50:04.834Z"
   },
   {
    "duration": 0,
    "start_time": "2025-05-10T16:50:04.835Z"
   },
   {
    "duration": 0,
    "start_time": "2025-05-10T16:50:04.836Z"
   },
   {
    "duration": 0,
    "start_time": "2025-05-10T16:50:04.838Z"
   },
   {
    "duration": 0,
    "start_time": "2025-05-10T16:50:04.839Z"
   },
   {
    "duration": 0,
    "start_time": "2025-05-10T16:50:04.840Z"
   },
   {
    "duration": 0,
    "start_time": "2025-05-10T16:50:04.841Z"
   },
   {
    "duration": 0,
    "start_time": "2025-05-10T16:50:04.843Z"
   },
   {
    "duration": 0,
    "start_time": "2025-05-10T16:50:04.844Z"
   },
   {
    "duration": 0,
    "start_time": "2025-05-10T16:50:04.845Z"
   },
   {
    "duration": 0,
    "start_time": "2025-05-10T16:50:04.847Z"
   },
   {
    "duration": 0,
    "start_time": "2025-05-10T16:50:04.848Z"
   },
   {
    "duration": 0,
    "start_time": "2025-05-10T16:50:04.849Z"
   },
   {
    "duration": 0,
    "start_time": "2025-05-10T16:50:04.851Z"
   },
   {
    "duration": 0,
    "start_time": "2025-05-10T16:50:04.853Z"
   },
   {
    "duration": 0,
    "start_time": "2025-05-10T16:50:04.855Z"
   },
   {
    "duration": 0,
    "start_time": "2025-05-10T16:50:04.857Z"
   },
   {
    "duration": 0,
    "start_time": "2025-05-10T16:50:04.858Z"
   },
   {
    "duration": 0,
    "start_time": "2025-05-10T16:50:04.905Z"
   },
   {
    "duration": 16,
    "start_time": "2025-05-10T16:50:21.283Z"
   },
   {
    "duration": 13,
    "start_time": "2025-05-10T16:50:26.498Z"
   },
   {
    "duration": 12,
    "start_time": "2025-05-10T16:50:31.300Z"
   },
   {
    "duration": 15,
    "start_time": "2025-05-10T16:50:51.620Z"
   },
   {
    "duration": 427,
    "start_time": "2025-05-10T16:53:51.308Z"
   },
   {
    "duration": 406,
    "start_time": "2025-05-10T16:54:07.849Z"
   },
   {
    "duration": 16,
    "start_time": "2025-05-10T16:54:16.796Z"
   },
   {
    "duration": 300,
    "start_time": "2025-05-10T16:54:55.052Z"
   },
   {
    "duration": 294,
    "start_time": "2025-05-10T17:00:37.613Z"
   },
   {
    "duration": 367,
    "start_time": "2025-05-10T17:01:19.714Z"
   },
   {
    "duration": 463,
    "start_time": "2025-05-10T17:02:25.382Z"
   },
   {
    "duration": 506,
    "start_time": "2025-05-10T17:04:03.716Z"
   },
   {
    "duration": 341,
    "start_time": "2025-05-10T17:07:20.228Z"
   },
   {
    "duration": 399,
    "start_time": "2025-05-10T17:07:52.646Z"
   },
   {
    "duration": 396,
    "start_time": "2025-05-10T17:09:42.121Z"
   },
   {
    "duration": 288,
    "start_time": "2025-05-10T17:09:45.796Z"
   },
   {
    "duration": 11,
    "start_time": "2025-05-10T17:11:01.419Z"
   },
   {
    "duration": 219,
    "start_time": "2025-05-10T17:12:15.785Z"
   },
   {
    "duration": 373,
    "start_time": "2025-05-10T17:12:23.983Z"
   },
   {
    "duration": 574,
    "start_time": "2025-05-10T17:13:34.985Z"
   },
   {
    "duration": 623,
    "start_time": "2025-05-10T17:16:25.540Z"
   },
   {
    "duration": 568,
    "start_time": "2025-05-10T17:17:20.260Z"
   },
   {
    "duration": 761,
    "start_time": "2025-05-10T17:20:28.646Z"
   },
   {
    "duration": 592,
    "start_time": "2025-05-10T17:22:03.398Z"
   },
   {
    "duration": 582,
    "start_time": "2025-05-10T17:22:18.123Z"
   },
   {
    "duration": 1726,
    "start_time": "2025-05-10T17:24:57.881Z"
   },
   {
    "duration": 4,
    "start_time": "2025-05-10T17:24:59.609Z"
   },
   {
    "duration": 6,
    "start_time": "2025-05-10T17:24:59.615Z"
   },
   {
    "duration": 7,
    "start_time": "2025-05-10T17:24:59.623Z"
   },
   {
    "duration": 50,
    "start_time": "2025-05-10T17:24:59.633Z"
   },
   {
    "duration": 32,
    "start_time": "2025-05-10T17:24:59.684Z"
   },
   {
    "duration": 19,
    "start_time": "2025-05-10T17:24:59.717Z"
   },
   {
    "duration": 6,
    "start_time": "2025-05-10T17:24:59.738Z"
   },
   {
    "duration": 27,
    "start_time": "2025-05-10T17:24:59.746Z"
   },
   {
    "duration": 33,
    "start_time": "2025-05-10T17:24:59.777Z"
   },
   {
    "duration": 9,
    "start_time": "2025-05-10T17:24:59.812Z"
   },
   {
    "duration": 7,
    "start_time": "2025-05-10T17:24:59.823Z"
   },
   {
    "duration": 15,
    "start_time": "2025-05-10T17:24:59.832Z"
   },
   {
    "duration": 5,
    "start_time": "2025-05-10T17:24:59.850Z"
   },
   {
    "duration": 324,
    "start_time": "2025-05-10T17:24:59.857Z"
   },
   {
    "duration": 475,
    "start_time": "2025-05-10T17:25:00.182Z"
   },
   {
    "duration": 10,
    "start_time": "2025-05-10T17:25:00.659Z"
   },
   {
    "duration": 313,
    "start_time": "2025-05-10T17:25:00.671Z"
   },
   {
    "duration": 3545,
    "start_time": "2025-05-10T17:25:00.986Z"
   },
   {
    "duration": 0,
    "start_time": "2025-05-10T17:25:04.533Z"
   },
   {
    "duration": 0,
    "start_time": "2025-05-10T17:25:04.534Z"
   },
   {
    "duration": 0,
    "start_time": "2025-05-10T17:25:04.536Z"
   },
   {
    "duration": 0,
    "start_time": "2025-05-10T17:25:04.538Z"
   },
   {
    "duration": 0,
    "start_time": "2025-05-10T17:25:04.540Z"
   },
   {
    "duration": 0,
    "start_time": "2025-05-10T17:25:04.541Z"
   },
   {
    "duration": 0,
    "start_time": "2025-05-10T17:25:04.543Z"
   },
   {
    "duration": 0,
    "start_time": "2025-05-10T17:25:04.544Z"
   },
   {
    "duration": 0,
    "start_time": "2025-05-10T17:25:04.546Z"
   },
   {
    "duration": 0,
    "start_time": "2025-05-10T17:25:04.547Z"
   },
   {
    "duration": 0,
    "start_time": "2025-05-10T17:25:04.549Z"
   },
   {
    "duration": 0,
    "start_time": "2025-05-10T17:25:04.550Z"
   },
   {
    "duration": 0,
    "start_time": "2025-05-10T17:25:04.551Z"
   },
   {
    "duration": 0,
    "start_time": "2025-05-10T17:25:04.552Z"
   },
   {
    "duration": 0,
    "start_time": "2025-05-10T17:25:04.553Z"
   },
   {
    "duration": 0,
    "start_time": "2025-05-10T17:25:04.554Z"
   },
   {
    "duration": 0,
    "start_time": "2025-05-10T17:25:04.555Z"
   },
   {
    "duration": 0,
    "start_time": "2025-05-10T17:25:04.556Z"
   },
   {
    "duration": 0,
    "start_time": "2025-05-10T17:25:04.557Z"
   },
   {
    "duration": 0,
    "start_time": "2025-05-10T17:25:04.604Z"
   },
   {
    "duration": 0,
    "start_time": "2025-05-10T17:25:04.606Z"
   },
   {
    "duration": 0,
    "start_time": "2025-05-10T17:25:04.607Z"
   },
   {
    "duration": 0,
    "start_time": "2025-05-10T17:25:04.608Z"
   },
   {
    "duration": 0,
    "start_time": "2025-05-10T17:25:04.609Z"
   },
   {
    "duration": 0,
    "start_time": "2025-05-10T17:25:04.610Z"
   },
   {
    "duration": 517,
    "start_time": "2025-05-10T17:25:39.832Z"
   },
   {
    "duration": 682,
    "start_time": "2025-05-10T17:27:47.482Z"
   },
   {
    "duration": 618,
    "start_time": "2025-05-10T17:28:14.081Z"
   },
   {
    "duration": 1791,
    "start_time": "2025-05-10T17:30:14.095Z"
   },
   {
    "duration": 4,
    "start_time": "2025-05-10T17:30:15.888Z"
   },
   {
    "duration": 11,
    "start_time": "2025-05-10T17:30:15.893Z"
   },
   {
    "duration": 19,
    "start_time": "2025-05-10T17:30:15.906Z"
   },
   {
    "duration": 52,
    "start_time": "2025-05-10T17:30:15.926Z"
   },
   {
    "duration": 14,
    "start_time": "2025-05-10T17:30:15.980Z"
   },
   {
    "duration": 28,
    "start_time": "2025-05-10T17:30:15.996Z"
   },
   {
    "duration": 5,
    "start_time": "2025-05-10T17:30:16.027Z"
   },
   {
    "duration": 22,
    "start_time": "2025-05-10T17:30:16.034Z"
   },
   {
    "duration": 12,
    "start_time": "2025-05-10T17:30:16.059Z"
   },
   {
    "duration": 11,
    "start_time": "2025-05-10T17:30:16.073Z"
   },
   {
    "duration": 5,
    "start_time": "2025-05-10T17:30:16.104Z"
   },
   {
    "duration": 36,
    "start_time": "2025-05-10T17:30:16.112Z"
   },
   {
    "duration": 6,
    "start_time": "2025-05-10T17:30:16.150Z"
   },
   {
    "duration": 314,
    "start_time": "2025-05-10T17:30:16.159Z"
   },
   {
    "duration": 486,
    "start_time": "2025-05-10T17:30:16.475Z"
   },
   {
    "duration": 11,
    "start_time": "2025-05-10T17:30:16.963Z"
   },
   {
    "duration": 379,
    "start_time": "2025-05-10T17:30:16.975Z"
   },
   {
    "duration": 5723,
    "start_time": "2025-05-10T17:30:17.356Z"
   },
   {
    "duration": 31,
    "start_time": "2025-05-10T17:30:23.081Z"
   },
   {
    "duration": 484,
    "start_time": "2025-05-10T17:30:23.114Z"
   },
   {
    "duration": 8,
    "start_time": "2025-05-10T17:30:23.604Z"
   },
   {
    "duration": 468,
    "start_time": "2025-05-10T17:30:23.615Z"
   },
   {
    "duration": 469,
    "start_time": "2025-05-10T17:30:24.085Z"
   },
   {
    "duration": 13,
    "start_time": "2025-05-10T17:30:24.556Z"
   },
   {
    "duration": 590,
    "start_time": "2025-05-10T17:30:24.572Z"
   },
   {
    "duration": 16,
    "start_time": "2025-05-10T17:30:25.164Z"
   },
   {
    "duration": 38,
    "start_time": "2025-05-10T17:30:25.183Z"
   },
   {
    "duration": 106,
    "start_time": "2025-05-10T17:30:25.223Z"
   },
   {
    "duration": 23,
    "start_time": "2025-05-10T17:30:25.330Z"
   },
   {
    "duration": 5,
    "start_time": "2025-05-10T17:30:25.355Z"
   },
   {
    "duration": 7,
    "start_time": "2025-05-10T17:30:25.362Z"
   },
   {
    "duration": 3,
    "start_time": "2025-05-10T17:30:25.371Z"
   },
   {
    "duration": 5,
    "start_time": "2025-05-10T17:30:25.376Z"
   },
   {
    "duration": 482,
    "start_time": "2025-05-10T17:30:25.405Z"
   },
   {
    "duration": 5701,
    "start_time": "2025-05-10T17:30:25.889Z"
   },
   {
    "duration": 1866,
    "start_time": "2025-05-10T17:34:34.017Z"
   },
   {
    "duration": 4,
    "start_time": "2025-05-10T17:34:35.885Z"
   },
   {
    "duration": 19,
    "start_time": "2025-05-10T17:34:35.892Z"
   },
   {
    "duration": 11,
    "start_time": "2025-05-10T17:34:35.918Z"
   },
   {
    "duration": 108,
    "start_time": "2025-05-10T17:34:35.932Z"
   },
   {
    "duration": 16,
    "start_time": "2025-05-10T17:34:36.042Z"
   },
   {
    "duration": 20,
    "start_time": "2025-05-10T17:34:36.059Z"
   },
   {
    "duration": 14,
    "start_time": "2025-05-10T17:34:36.081Z"
   },
   {
    "duration": 31,
    "start_time": "2025-05-10T17:34:36.103Z"
   },
   {
    "duration": 35,
    "start_time": "2025-05-10T17:34:36.136Z"
   },
   {
    "duration": 19,
    "start_time": "2025-05-10T17:34:36.173Z"
   },
   {
    "duration": 7,
    "start_time": "2025-05-10T17:34:36.194Z"
   },
   {
    "duration": 29,
    "start_time": "2025-05-10T17:34:36.203Z"
   },
   {
    "duration": 5,
    "start_time": "2025-05-10T17:34:36.236Z"
   },
   {
    "duration": 329,
    "start_time": "2025-05-10T17:34:36.243Z"
   },
   {
    "duration": 519,
    "start_time": "2025-05-10T17:34:36.574Z"
   },
   {
    "duration": 14,
    "start_time": "2025-05-10T17:34:37.095Z"
   },
   {
    "duration": 409,
    "start_time": "2025-05-10T17:34:37.113Z"
   },
   {
    "duration": 6167,
    "start_time": "2025-05-10T17:34:37.525Z"
   },
   {
    "duration": 21,
    "start_time": "2025-05-10T17:34:43.694Z"
   },
   {
    "duration": 476,
    "start_time": "2025-05-10T17:34:43.718Z"
   },
   {
    "duration": 20,
    "start_time": "2025-05-10T17:34:44.196Z"
   },
   {
    "duration": 490,
    "start_time": "2025-05-10T17:34:44.219Z"
   },
   {
    "duration": 516,
    "start_time": "2025-05-10T17:34:44.712Z"
   },
   {
    "duration": 16,
    "start_time": "2025-05-10T17:34:45.230Z"
   },
   {
    "duration": 697,
    "start_time": "2025-05-10T17:34:45.248Z"
   },
   {
    "duration": 16,
    "start_time": "2025-05-10T17:34:45.947Z"
   },
   {
    "duration": 54,
    "start_time": "2025-05-10T17:34:45.966Z"
   },
   {
    "duration": 23,
    "start_time": "2025-05-10T17:34:46.023Z"
   },
   {
    "duration": 18,
    "start_time": "2025-05-10T17:34:46.048Z"
   },
   {
    "duration": 5,
    "start_time": "2025-05-10T17:34:46.068Z"
   },
   {
    "duration": 37,
    "start_time": "2025-05-10T17:34:46.074Z"
   },
   {
    "duration": 10,
    "start_time": "2025-05-10T17:34:46.118Z"
   },
   {
    "duration": 4,
    "start_time": "2025-05-10T17:34:46.130Z"
   },
   {
    "duration": 558,
    "start_time": "2025-05-10T17:34:46.136Z"
   },
   {
    "duration": 5906,
    "start_time": "2025-05-10T17:34:46.698Z"
   },
   {
    "duration": 1699,
    "start_time": "2025-05-10T18:40:15.600Z"
   },
   {
    "duration": 4,
    "start_time": "2025-05-10T18:40:17.301Z"
   },
   {
    "duration": 12,
    "start_time": "2025-05-10T18:40:17.306Z"
   },
   {
    "duration": 108,
    "start_time": "2025-05-10T18:40:17.320Z"
   },
   {
    "duration": 46,
    "start_time": "2025-05-10T18:40:17.430Z"
   },
   {
    "duration": 117,
    "start_time": "2025-05-10T18:40:17.478Z"
   },
   {
    "duration": 21,
    "start_time": "2025-05-10T18:40:17.600Z"
   },
   {
    "duration": 19,
    "start_time": "2025-05-10T18:40:17.623Z"
   },
   {
    "duration": 37,
    "start_time": "2025-05-10T18:40:17.644Z"
   },
   {
    "duration": 80,
    "start_time": "2025-05-10T18:40:17.682Z"
   },
   {
    "duration": 39,
    "start_time": "2025-05-10T18:40:17.763Z"
   },
   {
    "duration": 27,
    "start_time": "2025-05-10T18:40:17.804Z"
   },
   {
    "duration": 16,
    "start_time": "2025-05-10T18:40:17.833Z"
   },
   {
    "duration": 20,
    "start_time": "2025-05-10T18:40:17.853Z"
   },
   {
    "duration": 286,
    "start_time": "2025-05-10T18:40:17.875Z"
   },
   {
    "duration": 515,
    "start_time": "2025-05-10T18:40:18.162Z"
   },
   {
    "duration": 11,
    "start_time": "2025-05-10T18:40:18.679Z"
   },
   {
    "duration": 299,
    "start_time": "2025-05-10T18:40:18.692Z"
   },
   {
    "duration": 5716,
    "start_time": "2025-05-10T18:40:18.993Z"
   },
   {
    "duration": 13,
    "start_time": "2025-05-10T18:40:24.711Z"
   },
   {
    "duration": 439,
    "start_time": "2025-05-10T18:40:24.726Z"
   },
   {
    "duration": 10,
    "start_time": "2025-05-10T18:40:25.167Z"
   },
   {
    "duration": 484,
    "start_time": "2025-05-10T18:40:25.180Z"
   },
   {
    "duration": 500,
    "start_time": "2025-05-10T18:40:25.666Z"
   },
   {
    "duration": 15,
    "start_time": "2025-05-10T18:40:26.169Z"
   },
   {
    "duration": 599,
    "start_time": "2025-05-10T18:40:26.187Z"
   },
   {
    "duration": 24,
    "start_time": "2025-05-10T18:40:26.788Z"
   },
   {
    "duration": 23,
    "start_time": "2025-05-10T18:40:26.814Z"
   },
   {
    "duration": 22,
    "start_time": "2025-05-10T18:40:26.839Z"
   },
   {
    "duration": 48,
    "start_time": "2025-05-10T18:40:26.864Z"
   },
   {
    "duration": 5,
    "start_time": "2025-05-10T18:40:26.914Z"
   },
   {
    "duration": 11,
    "start_time": "2025-05-10T18:40:26.921Z"
   },
   {
    "duration": 4,
    "start_time": "2025-05-10T18:40:26.934Z"
   },
   {
    "duration": 23,
    "start_time": "2025-05-10T18:40:26.940Z"
   },
   {
    "duration": 486,
    "start_time": "2025-05-10T18:40:26.965Z"
   },
   {
    "duration": 5974,
    "start_time": "2025-05-10T18:40:27.452Z"
   },
   {
    "duration": 1543,
    "start_time": "2025-05-10T19:25:52.027Z"
   },
   {
    "duration": 4,
    "start_time": "2025-05-10T19:25:53.573Z"
   },
   {
    "duration": 137,
    "start_time": "2025-05-10T19:25:53.579Z"
   },
   {
    "duration": 81,
    "start_time": "2025-05-10T19:25:53.718Z"
   },
   {
    "duration": 44,
    "start_time": "2025-05-10T19:25:53.803Z"
   },
   {
    "duration": 14,
    "start_time": "2025-05-10T19:25:53.849Z"
   },
   {
    "duration": 130,
    "start_time": "2025-05-10T19:25:53.865Z"
   },
   {
    "duration": 10,
    "start_time": "2025-05-10T19:25:53.997Z"
   },
   {
    "duration": 19,
    "start_time": "2025-05-10T19:25:54.009Z"
   },
   {
    "duration": 9,
    "start_time": "2025-05-10T19:25:54.029Z"
   },
   {
    "duration": 9,
    "start_time": "2025-05-10T19:25:54.040Z"
   },
   {
    "duration": 24,
    "start_time": "2025-05-10T19:25:54.051Z"
   },
   {
    "duration": 28,
    "start_time": "2025-05-10T19:25:54.077Z"
   },
   {
    "duration": 5,
    "start_time": "2025-05-10T19:25:54.108Z"
   },
   {
    "duration": 296,
    "start_time": "2025-05-10T19:25:54.115Z"
   },
   {
    "duration": 460,
    "start_time": "2025-05-10T19:25:54.413Z"
   },
   {
    "duration": 10,
    "start_time": "2025-05-10T19:25:54.875Z"
   },
   {
    "duration": 308,
    "start_time": "2025-05-10T19:25:54.886Z"
   },
   {
    "duration": 5396,
    "start_time": "2025-05-10T19:25:55.203Z"
   },
   {
    "duration": 13,
    "start_time": "2025-05-10T19:26:00.600Z"
   },
   {
    "duration": 465,
    "start_time": "2025-05-10T19:26:00.615Z"
   },
   {
    "duration": 25,
    "start_time": "2025-05-10T19:26:01.082Z"
   },
   {
    "duration": 483,
    "start_time": "2025-05-10T19:26:01.108Z"
   },
   {
    "duration": 503,
    "start_time": "2025-05-10T19:26:01.592Z"
   },
   {
    "duration": 16,
    "start_time": "2025-05-10T19:26:02.097Z"
   },
   {
    "duration": 623,
    "start_time": "2025-05-10T19:26:02.114Z"
   },
   {
    "duration": 12,
    "start_time": "2025-05-10T19:26:02.739Z"
   },
   {
    "duration": 129,
    "start_time": "2025-05-10T19:26:02.753Z"
   },
   {
    "duration": 34,
    "start_time": "2025-05-10T19:26:02.884Z"
   },
   {
    "duration": 24,
    "start_time": "2025-05-10T19:26:02.920Z"
   },
   {
    "duration": 25,
    "start_time": "2025-05-10T19:26:02.946Z"
   },
   {
    "duration": 22,
    "start_time": "2025-05-10T19:26:02.972Z"
   },
   {
    "duration": 9,
    "start_time": "2025-05-10T19:26:02.996Z"
   },
   {
    "duration": 29,
    "start_time": "2025-05-10T19:26:03.007Z"
   },
   {
    "duration": 496,
    "start_time": "2025-05-10T19:26:03.038Z"
   },
   {
    "duration": 5753,
    "start_time": "2025-05-10T19:26:03.536Z"
   },
   {
    "duration": 1810,
    "start_time": "2025-05-11T03:24:48.418Z"
   },
   {
    "duration": 4,
    "start_time": "2025-05-11T03:24:50.231Z"
   },
   {
    "duration": 14,
    "start_time": "2025-05-11T03:24:50.237Z"
   },
   {
    "duration": 25,
    "start_time": "2025-05-11T03:24:50.253Z"
   },
   {
    "duration": 159,
    "start_time": "2025-05-11T03:24:50.280Z"
   },
   {
    "duration": 13,
    "start_time": "2025-05-11T03:24:50.440Z"
   },
   {
    "duration": 106,
    "start_time": "2025-05-11T03:24:50.455Z"
   },
   {
    "duration": 28,
    "start_time": "2025-05-11T03:24:50.563Z"
   },
   {
    "duration": 21,
    "start_time": "2025-05-11T03:24:50.593Z"
   },
   {
    "duration": 24,
    "start_time": "2025-05-11T03:24:50.616Z"
   },
   {
    "duration": 37,
    "start_time": "2025-05-11T03:24:50.642Z"
   },
   {
    "duration": 29,
    "start_time": "2025-05-11T03:24:50.681Z"
   },
   {
    "duration": 34,
    "start_time": "2025-05-11T03:24:50.712Z"
   },
   {
    "duration": 16,
    "start_time": "2025-05-11T03:24:50.750Z"
   },
   {
    "duration": 293,
    "start_time": "2025-05-11T03:24:50.768Z"
   },
   {
    "duration": 446,
    "start_time": "2025-05-11T03:24:51.064Z"
   },
   {
    "duration": 9,
    "start_time": "2025-05-11T03:24:51.513Z"
   },
   {
    "duration": 398,
    "start_time": "2025-05-11T03:24:51.524Z"
   },
   {
    "duration": 5475,
    "start_time": "2025-05-11T03:24:51.924Z"
   },
   {
    "duration": 12,
    "start_time": "2025-05-11T03:24:57.404Z"
   },
   {
    "duration": 436,
    "start_time": "2025-05-11T03:24:57.418Z"
   },
   {
    "duration": 8,
    "start_time": "2025-05-11T03:24:57.855Z"
   },
   {
    "duration": 451,
    "start_time": "2025-05-11T03:24:57.864Z"
   },
   {
    "duration": 441,
    "start_time": "2025-05-11T03:24:58.317Z"
   },
   {
    "duration": 11,
    "start_time": "2025-05-11T03:24:58.760Z"
   },
   {
    "duration": 569,
    "start_time": "2025-05-11T03:24:58.772Z"
   },
   {
    "duration": 11,
    "start_time": "2025-05-11T03:24:59.343Z"
   },
   {
    "duration": 52,
    "start_time": "2025-05-11T03:24:59.356Z"
   },
   {
    "duration": 18,
    "start_time": "2025-05-11T03:24:59.409Z"
   },
   {
    "duration": 19,
    "start_time": "2025-05-11T03:24:59.428Z"
   },
   {
    "duration": 5,
    "start_time": "2025-05-11T03:24:59.448Z"
   },
   {
    "duration": 6,
    "start_time": "2025-05-11T03:24:59.454Z"
   },
   {
    "duration": 6,
    "start_time": "2025-05-11T03:24:59.462Z"
   },
   {
    "duration": 35,
    "start_time": "2025-05-11T03:24:59.470Z"
   },
   {
    "duration": 457,
    "start_time": "2025-05-11T03:24:59.507Z"
   },
   {
    "duration": 5655,
    "start_time": "2025-05-11T03:24:59.966Z"
   },
   {
    "duration": 11088,
    "start_time": "2025-05-11T03:25:05.623Z"
   },
   {
    "duration": 37685,
    "start_time": "2025-05-11T03:25:16.713Z"
   },
   {
    "duration": 13,
    "start_time": "2025-05-11T03:25:54.399Z"
   },
   {
    "duration": 8,
    "start_time": "2025-05-11T03:25:54.414Z"
   },
   {
    "duration": 30,
    "start_time": "2025-05-11T03:25:54.425Z"
   },
   {
    "duration": 12,
    "start_time": "2025-05-11T03:25:54.456Z"
   },
   {
    "duration": 480,
    "start_time": "2025-05-11T03:25:54.470Z"
   },
   {
    "duration": 1535,
    "start_time": "2025-05-11T03:31:24.065Z"
   },
   {
    "duration": 3,
    "start_time": "2025-05-11T03:31:25.602Z"
   },
   {
    "duration": 18,
    "start_time": "2025-05-11T03:31:25.607Z"
   },
   {
    "duration": 21,
    "start_time": "2025-05-11T03:31:25.627Z"
   },
   {
    "duration": 51,
    "start_time": "2025-05-11T03:31:25.650Z"
   },
   {
    "duration": 13,
    "start_time": "2025-05-11T03:31:25.702Z"
   },
   {
    "duration": 25,
    "start_time": "2025-05-11T03:31:25.717Z"
   },
   {
    "duration": 23,
    "start_time": "2025-05-11T03:31:25.744Z"
   },
   {
    "duration": 22,
    "start_time": "2025-05-11T03:31:25.769Z"
   },
   {
    "duration": 11,
    "start_time": "2025-05-11T03:31:25.792Z"
   },
   {
    "duration": 20,
    "start_time": "2025-05-11T03:31:25.805Z"
   },
   {
    "duration": 39,
    "start_time": "2025-05-11T03:31:25.827Z"
   },
   {
    "duration": 25,
    "start_time": "2025-05-11T03:31:25.868Z"
   },
   {
    "duration": 4,
    "start_time": "2025-05-11T03:31:25.896Z"
   },
   {
    "duration": 306,
    "start_time": "2025-05-11T03:31:25.901Z"
   },
   {
    "duration": 445,
    "start_time": "2025-05-11T03:31:26.209Z"
   },
   {
    "duration": 9,
    "start_time": "2025-05-11T03:31:26.656Z"
   },
   {
    "duration": 312,
    "start_time": "2025-05-11T03:31:26.667Z"
   },
   {
    "duration": 5546,
    "start_time": "2025-05-11T03:31:26.981Z"
   },
   {
    "duration": 11,
    "start_time": "2025-05-11T03:31:32.529Z"
   },
   {
    "duration": 426,
    "start_time": "2025-05-11T03:31:32.541Z"
   },
   {
    "duration": 7,
    "start_time": "2025-05-11T03:31:32.969Z"
   },
   {
    "duration": 466,
    "start_time": "2025-05-11T03:31:32.977Z"
   },
   {
    "duration": 424,
    "start_time": "2025-05-11T03:31:33.445Z"
   },
   {
    "duration": 11,
    "start_time": "2025-05-11T03:31:33.871Z"
   },
   {
    "duration": 567,
    "start_time": "2025-05-11T03:31:33.884Z"
   },
   {
    "duration": 11,
    "start_time": "2025-05-11T03:31:34.452Z"
   },
   {
    "duration": 41,
    "start_time": "2025-05-11T03:31:34.465Z"
   },
   {
    "duration": 99,
    "start_time": "2025-05-11T03:31:34.508Z"
   },
   {
    "duration": 57,
    "start_time": "2025-05-11T03:31:34.609Z"
   },
   {
    "duration": 4,
    "start_time": "2025-05-11T03:31:34.668Z"
   },
   {
    "duration": 38,
    "start_time": "2025-05-11T03:31:34.674Z"
   },
   {
    "duration": 20,
    "start_time": "2025-05-11T03:31:34.714Z"
   },
   {
    "duration": 18,
    "start_time": "2025-05-11T03:31:34.736Z"
   },
   {
    "duration": 479,
    "start_time": "2025-05-11T03:31:34.756Z"
   },
   {
    "duration": 5574,
    "start_time": "2025-05-11T03:31:35.236Z"
   },
   {
    "duration": 11995,
    "start_time": "2025-05-11T03:31:40.811Z"
   },
   {
    "duration": 36938,
    "start_time": "2025-05-11T03:31:52.809Z"
   },
   {
    "duration": 13,
    "start_time": "2025-05-11T03:32:29.749Z"
   },
   {
    "duration": 5,
    "start_time": "2025-05-11T03:32:29.764Z"
   },
   {
    "duration": 11,
    "start_time": "2025-05-11T03:32:29.773Z"
   },
   {
    "duration": 31,
    "start_time": "2025-05-11T03:32:29.785Z"
   },
   {
    "duration": 488,
    "start_time": "2025-05-11T03:32:29.817Z"
   }
  ],
  "kernelspec": {
   "display_name": "Python [conda env:practicum]",
   "language": "python",
   "name": "conda-env-practicum-py"
  },
  "language_info": {
   "codemirror_mode": {
    "name": "ipython",
    "version": 3
   },
   "file_extension": ".py",
   "mimetype": "text/x-python",
   "name": "python",
   "nbconvert_exporter": "python",
   "pygments_lexer": "ipython3",
   "version": "3.11.12"
  },
  "toc": {
   "base_numbering": 1,
   "nav_menu": {},
   "number_sections": true,
   "sideBar": true,
   "skip_h1_title": true,
   "title_cell": "Содержание",
   "title_sidebar": "Contents",
   "toc_cell": true,
   "toc_position": {
    "height": "calc(100% - 180px)",
    "left": "10px",
    "top": "150px",
    "width": "165px"
   },
   "toc_section_display": true,
   "toc_window_display": false
  }
 },
 "nbformat": 4,
 "nbformat_minor": 4
}
