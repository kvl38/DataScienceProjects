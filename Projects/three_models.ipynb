{
 "cells": [
  {
   "cell_type": "markdown",
   "metadata": {
    "toc": true
   },
   "source": [
    "<h1>Содержание<span class=\"tocSkip\"></span></h1>\n",
    "<div class=\"toc\"><ul class=\"toc-item\"><li><span><a href=\"#Подготовка-данных\" data-toc-modified-id=\"Подготовка-данных-1\"><span class=\"toc-item-num\">1&nbsp;&nbsp;</span>Подготовка данных</a></span><ul class=\"toc-item\"><li><span><a href=\"#Загрузка-данных\" data-toc-modified-id=\"Загрузка-данных-1.1\"><span class=\"toc-item-num\">1.1&nbsp;&nbsp;</span>Загрузка данных</a></span></li><li><span><a href=\"#Предобработка-данных\" data-toc-modified-id=\"Предобработка-данных-1.2\"><span class=\"toc-item-num\">1.2&nbsp;&nbsp;</span>Предобработка данных</a></span><ul class=\"toc-item\"><li><span><a href=\"#Заполнение-пропущенных-значений\" data-toc-modified-id=\"Заполнение-пропущенных-значений-1.2.1\"><span class=\"toc-item-num\">1.2.1&nbsp;&nbsp;</span>Заполнение пропущенных значений</a></span></li><li><span><a href=\"#Поиск-дубликатов\" data-toc-modified-id=\"Поиск-дубликатов-1.2.2\"><span class=\"toc-item-num\">1.2.2&nbsp;&nbsp;</span>Поиск дубликатов</a></span></li><li><span><a href=\"#Неинформативные-признаки\" data-toc-modified-id=\"Неинформативные-признаки-1.2.3\"><span class=\"toc-item-num\">1.2.3&nbsp;&nbsp;</span>Неинформативные признаки</a></span></li></ul></li><li><span><a href=\"#Исследовательский-анализ-данных\" data-toc-modified-id=\"Исследовательский-анализ-данных-1.3\"><span class=\"toc-item-num\">1.3&nbsp;&nbsp;</span>Исследовательский анализ данных</a></span><ul class=\"toc-item\"><li><span><a href=\"#Цена-авто\" data-toc-modified-id=\"Цена-авто-1.3.1\"><span class=\"toc-item-num\">1.3.1&nbsp;&nbsp;</span>Цена авто</a></span></li><li><span><a href=\"#Мощность-авто\" data-toc-modified-id=\"Мощность-авто-1.3.2\"><span class=\"toc-item-num\">1.3.2&nbsp;&nbsp;</span>Мощность авто</a></span></li><li><span><a href=\"#Год-регистрации-автомобиля\" data-toc-modified-id=\"Год-регистрации-автомобиля-1.3.3\"><span class=\"toc-item-num\">1.3.3&nbsp;&nbsp;</span>Год регистрации автомобиля</a></span></li><li><span><a href=\"#Пробег-авто\" data-toc-modified-id=\"Пробег-авто-1.3.4\"><span class=\"toc-item-num\">1.3.4&nbsp;&nbsp;</span>Пробег авто</a></span></li><li><span><a href=\"#Тип-автомобильного-кузова\" data-toc-modified-id=\"Тип-автомобильного-кузова-1.3.5\"><span class=\"toc-item-num\">1.3.5&nbsp;&nbsp;</span>Тип автомобильного кузова</a></span></li><li><span><a href=\"#Тип-коробки-передач\" data-toc-modified-id=\"Тип-коробки-передач-1.3.6\"><span class=\"toc-item-num\">1.3.6&nbsp;&nbsp;</span>Тип коробки передач</a></span></li><li><span><a href=\"#Модель-автомобиля\" data-toc-modified-id=\"Модель-автомобиля-1.3.7\"><span class=\"toc-item-num\">1.3.7&nbsp;&nbsp;</span>Модель автомобиля</a></span></li><li><span><a href=\"#Тип-топлива\" data-toc-modified-id=\"Тип-топлива-1.3.8\"><span class=\"toc-item-num\">1.3.8&nbsp;&nbsp;</span>Тип топлива</a></span></li><li><span><a href=\"#Марка-автомобиля\" data-toc-modified-id=\"Марка-автомобиля-1.3.9\"><span class=\"toc-item-num\">1.3.9&nbsp;&nbsp;</span>Марка автомобиля</a></span></li><li><span><a href=\"#Была-машина-в-ремонте-или-нет\" data-toc-modified-id=\"Была-машина-в-ремонте-или-нет-1.3.10\"><span class=\"toc-item-num\">1.3.10&nbsp;&nbsp;</span>Была машина в ремонте или нет</a></span></li></ul></li><li><span><a href=\"#Корреляционный-анализ\" data-toc-modified-id=\"Корреляционный-анализ-1.4\"><span class=\"toc-item-num\">1.4&nbsp;&nbsp;</span>Корреляционный анализ</a></span></li><li><span><a href=\"#Вывод-по-разделу\" data-toc-modified-id=\"Вывод-по-разделу-1.5\"><span class=\"toc-item-num\">1.5&nbsp;&nbsp;</span>Вывод по разделу</a></span></li></ul></li><li><span><a href=\"#Обучение-моделей\" data-toc-modified-id=\"Обучение-моделей-2\"><span class=\"toc-item-num\">2&nbsp;&nbsp;</span>Обучение моделей</a></span><ul class=\"toc-item\"><li><span><a href=\"#RandomForest\" data-toc-modified-id=\"RandomForest-2.1\"><span class=\"toc-item-num\">2.1&nbsp;&nbsp;</span>RandomForest</a></span></li><li><span><a href=\"#LightGBM\" data-toc-modified-id=\"LightGBM-2.2\"><span class=\"toc-item-num\">2.2&nbsp;&nbsp;</span>LightGBM</a></span></li><li><span><a href=\"#CatBoost\" data-toc-modified-id=\"CatBoost-2.3\"><span class=\"toc-item-num\">2.3&nbsp;&nbsp;</span>CatBoost</a></span></li><li><span><a href=\"#Вывод-по-разделу\" data-toc-modified-id=\"Вывод-по-разделу-2.4\"><span class=\"toc-item-num\">2.4&nbsp;&nbsp;</span>Вывод по разделу</a></span></li></ul></li><li><span><a href=\"#Анализ-моделей\" data-toc-modified-id=\"Анализ-моделей-3\"><span class=\"toc-item-num\">3&nbsp;&nbsp;</span>Анализ моделей</a></span></li><li><span><a href=\"#Общий-вывод\" data-toc-modified-id=\"Общий-вывод-4\"><span class=\"toc-item-num\">4&nbsp;&nbsp;</span>Общий вывод</a></span></li></ul></div>"
   ]
  },
  {
   "cell_type": "markdown",
   "metadata": {},
   "source": [
    "# Определение стоимости автомобилей"
   ]
  },
  {
   "cell_type": "markdown",
   "metadata": {},
   "source": [
    "Сервис по продаже автомобилей с пробегом «Не бит, не крашен» разрабатывает приложение для привлечения новых клиентов. В нём можно быстро узнать рыночную стоимость своего автомобиля. В вашем распоряжении исторические данные: технические характеристики, комплектации и цены автомобилей. Вам нужно построить модель для определения стоимости. \n",
    "\n",
    "Заказчику важны:\n",
    "\n",
    "- качество предсказания;\n",
    "- скорость предсказания;\n",
    "- время обучения."
   ]
  },
  {
   "cell_type": "markdown",
   "metadata": {},
   "source": [
    "## Подготовка данных"
   ]
  },
  {
   "cell_type": "markdown",
   "metadata": {},
   "source": [
    "### Загрузка данных"
   ]
  },
  {
   "cell_type": "code",
   "execution_count": 1,
   "metadata": {},
   "outputs": [],
   "source": [
    "# Установим библиотеку\n",
    "!pip install phik -q\n",
    "!pip install --upgrade scikit-learn -q\n",
    "!pip install category_encoders -q"
   ]
  },
  {
   "cell_type": "code",
   "execution_count": 2,
   "metadata": {},
   "outputs": [],
   "source": [
    "# Импортируем нужные библиотеки\n",
    "import pandas as pd\n",
    "import matplotlib.pyplot as plt\n",
    "import seaborn as sns\n",
    "import numpy as np\n",
    "import phik\n",
    "from sklearn.model_selection import train_test_split, cross_val_score\n",
    "from sklearn.preprocessing import OneHotEncoder, StandardScaler, MinMaxScaler, OrdinalEncoder, LabelEncoder\n",
    "from sklearn.pipeline import Pipeline\n",
    "from sklearn.compose import ColumnTransformer\n",
    "from sklearn.impute import SimpleImputer\n",
    "from sklearn.ensemble import RandomForestRegressor\n",
    "from lightgbm import LGBMRegressor\n",
    "from catboost import CatBoostRegressor\n",
    "from sklearn.model_selection import RandomizedSearchCV, GridSearchCV\n",
    "from sklearn.metrics import mean_squared_error\n",
    "import warnings\n",
    "from category_encoders import TargetEncoder\n",
    "import time"
   ]
  },
  {
   "cell_type": "code",
   "execution_count": 3,
   "metadata": {},
   "outputs": [],
   "source": [
    "# Задаем значения констант\n",
    "RANDOM_STATE = 42\n",
    "TEST_SIZE = 0.25\n",
    "cv = 3"
   ]
  },
  {
   "cell_type": "code",
   "execution_count": 4,
   "metadata": {},
   "outputs": [],
   "source": [
    "# Функция для вывода графика количественных признаков\n",
    "def graph_quant_feature(df, col_name, col_title):\n",
    "    \n",
    "    \"\"\"\n",
    "    Функция в качестве аргументов принимает датафрейм, название столбца, для которого необходимо вывести график, \n",
    "    и общее название для 2-х графиков. Она выводит гистограмму и диаграмму размаха для полученных данных\n",
    "    \"\"\"\n",
    "    \n",
    "    fig, axes = plt.subplots(nrows=1, ncols=2, figsize=(12,6))\n",
    "    \n",
    "    bins = int(np.log2(len(df[col_name])) + 1)\n",
    "    \n",
    "    sns.histplot(df[col_name], bins=bins, ax=axes[0], palette='deep', edgecolor='black')\n",
    "    axes[0].set_xlabel(f'Количественный признак для столбца \\'{col_name}\\'')\n",
    "    axes[0].set_ylabel('Количество автомобилей')\n",
    "    axes[0].set_title('Гистограмма')\n",
    "    axes[0].grid(True)\n",
    "    \n",
    "    sns.boxplot(x=df[col_name], orient='h', ax=axes[1], color='orange')\n",
    "    axes[1].set_xlabel(f'Количественная характеристика для столбца \\'{col_name}\\'')\n",
    "    axes[1].set_title('Диаграмма размаха')\n",
    "    \n",
    "    plt.suptitle(col_title)\n",
    "    plt.show()\n",
    "    \n",
    "    print(f'Рассмотрим описательную статистику:\\n{df[col_name].describe()}')"
   ]
  },
  {
   "cell_type": "code",
   "execution_count": 5,
   "metadata": {},
   "outputs": [],
   "source": [
    "# Функция для вывода графика категориальных признаков\n",
    "def graph_cat_feature(df, col_name, col_title):\n",
    "      \n",
    "    \"\"\"\n",
    "    Функция в качестве аргументов принимает датафрейм, название столбца, для которого необходимо вывести график, \n",
    "    и название самого графика. Она выводит столбчатый график для полученных данных\n",
    "    \"\"\"\n",
    "      \n",
    "    plt.figure(figsize=(6, 6))\n",
    "    sns.countplot(data=df, x=col_name, palette='deep', edgecolor='black')\n",
    "    plt.title(col_title)\n",
    "    plt.ylabel('Количество автомобилей')\n",
    "    plt.xlabel(f'Значение столбца \\'{col_name}\\'')\n",
    "    plt.xticks(rotation=45)\n",
    "    plt.show()"
   ]
  },
  {
   "cell_type": "code",
   "execution_count": 6,
   "metadata": {},
   "outputs": [],
   "source": [
    "# Функция для удаления выбросов\n",
    "def remove_outliers(df, column):\n",
    "    \n",
    "    \"\"\"\n",
    "    Функция в качестве аргументов принимает датафрейм и название столбца, в котором необходимо удалить выбросы.  \n",
    "    Возвращает датафрейм без выбросов в указанном столбце\n",
    "    \"\"\"\n",
    "    \n",
    "    Q1 = df[column].quantile(0.25)\n",
    "    print('Q1:', Q1)\n",
    "    Q3 = df[column].quantile(0.75)\n",
    "    print('Q3:', Q3)\n",
    "    IQR = Q3 - Q1\n",
    "    print('IQR:', IQR)\n",
    "    \n",
    "    lower_bound = Q1 - 1.5 * IQR\n",
    "    print('Нижняя граница:', lower_bound)\n",
    "    upper_bound = Q3 + 1.5 * IQR\n",
    "    print('Верхняя граница:', upper_bound)\n",
    "    \n",
    "    deletion_condition = (df[column] >= lower_bound) & (df[column] <= upper_bound)\n",
    "    print('Число удаляемых строк:', df[~deletion_condition][column].count())\n",
    "    \n",
    "    return df[deletion_condition]"
   ]
  },
  {
   "cell_type": "code",
   "execution_count": 7,
   "metadata": {},
   "outputs": [
    {
     "data": {
      "text/html": [
       "<div>\n",
       "<style scoped>\n",
       "    .dataframe tbody tr th:only-of-type {\n",
       "        vertical-align: middle;\n",
       "    }\n",
       "\n",
       "    .dataframe tbody tr th {\n",
       "        vertical-align: top;\n",
       "    }\n",
       "\n",
       "    .dataframe thead th {\n",
       "        text-align: right;\n",
       "    }\n",
       "</style>\n",
       "<table border=\"1\" class=\"dataframe\">\n",
       "  <thead>\n",
       "    <tr style=\"text-align: right;\">\n",
       "      <th></th>\n",
       "      <th>DateCrawled</th>\n",
       "      <th>Price</th>\n",
       "      <th>VehicleType</th>\n",
       "      <th>RegistrationYear</th>\n",
       "      <th>Gearbox</th>\n",
       "      <th>Power</th>\n",
       "      <th>Model</th>\n",
       "      <th>Kilometer</th>\n",
       "      <th>RegistrationMonth</th>\n",
       "      <th>FuelType</th>\n",
       "      <th>Brand</th>\n",
       "      <th>Repaired</th>\n",
       "      <th>DateCreated</th>\n",
       "      <th>NumberOfPictures</th>\n",
       "      <th>PostalCode</th>\n",
       "      <th>LastSeen</th>\n",
       "    </tr>\n",
       "  </thead>\n",
       "  <tbody>\n",
       "    <tr>\n",
       "      <th>0</th>\n",
       "      <td>2016-03-24 11:52:17</td>\n",
       "      <td>480</td>\n",
       "      <td>NaN</td>\n",
       "      <td>1993</td>\n",
       "      <td>manual</td>\n",
       "      <td>0</td>\n",
       "      <td>golf</td>\n",
       "      <td>150000</td>\n",
       "      <td>0</td>\n",
       "      <td>petrol</td>\n",
       "      <td>volkswagen</td>\n",
       "      <td>NaN</td>\n",
       "      <td>2016-03-24 00:00:00</td>\n",
       "      <td>0</td>\n",
       "      <td>70435</td>\n",
       "      <td>2016-04-07 03:16:57</td>\n",
       "    </tr>\n",
       "    <tr>\n",
       "      <th>1</th>\n",
       "      <td>2016-03-24 10:58:45</td>\n",
       "      <td>18300</td>\n",
       "      <td>coupe</td>\n",
       "      <td>2011</td>\n",
       "      <td>manual</td>\n",
       "      <td>190</td>\n",
       "      <td>NaN</td>\n",
       "      <td>125000</td>\n",
       "      <td>5</td>\n",
       "      <td>gasoline</td>\n",
       "      <td>audi</td>\n",
       "      <td>yes</td>\n",
       "      <td>2016-03-24 00:00:00</td>\n",
       "      <td>0</td>\n",
       "      <td>66954</td>\n",
       "      <td>2016-04-07 01:46:50</td>\n",
       "    </tr>\n",
       "    <tr>\n",
       "      <th>2</th>\n",
       "      <td>2016-03-14 12:52:21</td>\n",
       "      <td>9800</td>\n",
       "      <td>suv</td>\n",
       "      <td>2004</td>\n",
       "      <td>auto</td>\n",
       "      <td>163</td>\n",
       "      <td>grand</td>\n",
       "      <td>125000</td>\n",
       "      <td>8</td>\n",
       "      <td>gasoline</td>\n",
       "      <td>jeep</td>\n",
       "      <td>NaN</td>\n",
       "      <td>2016-03-14 00:00:00</td>\n",
       "      <td>0</td>\n",
       "      <td>90480</td>\n",
       "      <td>2016-04-05 12:47:46</td>\n",
       "    </tr>\n",
       "    <tr>\n",
       "      <th>3</th>\n",
       "      <td>2016-03-17 16:54:04</td>\n",
       "      <td>1500</td>\n",
       "      <td>small</td>\n",
       "      <td>2001</td>\n",
       "      <td>manual</td>\n",
       "      <td>75</td>\n",
       "      <td>golf</td>\n",
       "      <td>150000</td>\n",
       "      <td>6</td>\n",
       "      <td>petrol</td>\n",
       "      <td>volkswagen</td>\n",
       "      <td>no</td>\n",
       "      <td>2016-03-17 00:00:00</td>\n",
       "      <td>0</td>\n",
       "      <td>91074</td>\n",
       "      <td>2016-03-17 17:40:17</td>\n",
       "    </tr>\n",
       "    <tr>\n",
       "      <th>4</th>\n",
       "      <td>2016-03-31 17:25:20</td>\n",
       "      <td>3600</td>\n",
       "      <td>small</td>\n",
       "      <td>2008</td>\n",
       "      <td>manual</td>\n",
       "      <td>69</td>\n",
       "      <td>fabia</td>\n",
       "      <td>90000</td>\n",
       "      <td>7</td>\n",
       "      <td>gasoline</td>\n",
       "      <td>skoda</td>\n",
       "      <td>no</td>\n",
       "      <td>2016-03-31 00:00:00</td>\n",
       "      <td>0</td>\n",
       "      <td>60437</td>\n",
       "      <td>2016-04-06 10:17:21</td>\n",
       "    </tr>\n",
       "  </tbody>\n",
       "</table>\n",
       "</div>"
      ],
      "text/plain": [
       "           DateCrawled  Price VehicleType  RegistrationYear Gearbox  Power  \\\n",
       "0  2016-03-24 11:52:17    480         NaN              1993  manual      0   \n",
       "1  2016-03-24 10:58:45  18300       coupe              2011  manual    190   \n",
       "2  2016-03-14 12:52:21   9800         suv              2004    auto    163   \n",
       "3  2016-03-17 16:54:04   1500       small              2001  manual     75   \n",
       "4  2016-03-31 17:25:20   3600       small              2008  manual     69   \n",
       "\n",
       "   Model  Kilometer  RegistrationMonth  FuelType       Brand Repaired  \\\n",
       "0   golf     150000                  0    petrol  volkswagen      NaN   \n",
       "1    NaN     125000                  5  gasoline        audi      yes   \n",
       "2  grand     125000                  8  gasoline        jeep      NaN   \n",
       "3   golf     150000                  6    petrol  volkswagen       no   \n",
       "4  fabia      90000                  7  gasoline       skoda       no   \n",
       "\n",
       "           DateCreated  NumberOfPictures  PostalCode             LastSeen  \n",
       "0  2016-03-24 00:00:00                 0       70435  2016-04-07 03:16:57  \n",
       "1  2016-03-24 00:00:00                 0       66954  2016-04-07 01:46:50  \n",
       "2  2016-03-14 00:00:00                 0       90480  2016-04-05 12:47:46  \n",
       "3  2016-03-17 00:00:00                 0       91074  2016-03-17 17:40:17  \n",
       "4  2016-03-31 00:00:00                 0       60437  2016-04-06 10:17:21  "
      ]
     },
     "execution_count": 7,
     "metadata": {},
     "output_type": "execute_result"
    }
   ],
   "source": [
    "# Загружаем данные о технических характеристиках, комплектации и ценах автомобилей\n",
    "try:\n",
    "    df = pd.read_csv('/datasets/autos.csv')\n",
    "    \n",
    "except Exception as e:\n",
    "    print(f\"Произошла ошибка: {e}\")\n",
    "\n",
    "# Выводим первые 5 строк загруженных данных\n",
    "df.head()"
   ]
  },
  {
   "cell_type": "code",
   "execution_count": 8,
   "metadata": {},
   "outputs": [
    {
     "name": "stdout",
     "output_type": "stream",
     "text": [
      "<class 'pandas.core.frame.DataFrame'>\n",
      "RangeIndex: 354369 entries, 0 to 354368\n",
      "Data columns (total 16 columns):\n",
      " #   Column             Non-Null Count   Dtype \n",
      "---  ------             --------------   ----- \n",
      " 0   DateCrawled        354369 non-null  object\n",
      " 1   Price              354369 non-null  int64 \n",
      " 2   VehicleType        316879 non-null  object\n",
      " 3   RegistrationYear   354369 non-null  int64 \n",
      " 4   Gearbox            334536 non-null  object\n",
      " 5   Power              354369 non-null  int64 \n",
      " 6   Model              334664 non-null  object\n",
      " 7   Kilometer          354369 non-null  int64 \n",
      " 8   RegistrationMonth  354369 non-null  int64 \n",
      " 9   FuelType           321474 non-null  object\n",
      " 10  Brand              354369 non-null  object\n",
      " 11  Repaired           283215 non-null  object\n",
      " 12  DateCreated        354369 non-null  object\n",
      " 13  NumberOfPictures   354369 non-null  int64 \n",
      " 14  PostalCode         354369 non-null  int64 \n",
      " 15  LastSeen           354369 non-null  object\n",
      "dtypes: int64(7), object(9)\n",
      "memory usage: 43.3+ MB\n"
     ]
    }
   ],
   "source": [
    "# Выводим основную информацию по загруженным данным\n",
    "df.info()"
   ]
  },
  {
   "cell_type": "markdown",
   "metadata": {},
   "source": [
    "**Выводы:**\n",
    "- В исходных данных представлена информация о технических характеристиках 354369 автомобилей.\n",
    "- В признаках VehicleType, Gearbox, Model, FuelType, Repaired имеются пропущенные значения.\n",
    "- Временные признаки DateCrawled, DateCreated, LastSeen рекомендуется привести к типу datetime для удобства анализа.\n",
    "- Остальные признаки соответствуют своим изначальным типам данных.\n",
    "- Обнаружены аномальные значения, например — 0 в столбце Power (мощность в л. с.).\n",
    "- Названия столбцов оформлены в стиле UpperCamelCase; оставим их без изменений."
   ]
  },
  {
   "cell_type": "markdown",
   "metadata": {},
   "source": [
    "### Предобработка данных"
   ]
  },
  {
   "cell_type": "markdown",
   "metadata": {},
   "source": [
    "#### Заполнение пропущенных значений"
   ]
  },
  {
   "cell_type": "code",
   "execution_count": 9,
   "metadata": {},
   "outputs": [
    {
     "data": {
      "text/plain": [
       "DateCrawled              0\n",
       "Price                    0\n",
       "VehicleType          37490\n",
       "RegistrationYear         0\n",
       "Gearbox              19833\n",
       "Power                    0\n",
       "Model                19705\n",
       "Kilometer                0\n",
       "RegistrationMonth        0\n",
       "FuelType             32895\n",
       "Brand                    0\n",
       "Repaired             71154\n",
       "DateCreated              0\n",
       "NumberOfPictures         0\n",
       "PostalCode               0\n",
       "LastSeen                 0\n",
       "dtype: int64"
      ]
     },
     "execution_count": 9,
     "metadata": {},
     "output_type": "execute_result"
    }
   ],
   "source": [
    "# Рассмотрим столбцы с пропущенными значениями\n",
    "df.isna().sum()"
   ]
  },
  {
   "cell_type": "code",
   "execution_count": 10,
   "metadata": {},
   "outputs": [
    {
     "name": "stdout",
     "output_type": "stream",
     "text": [
      "Для признака VehicleType:\n",
      "sedan          91457\n",
      "small          79831\n",
      "wagon          65166\n",
      "bus            28775\n",
      "convertible    20203\n",
      "coupe          16163\n",
      "suv            11996\n",
      "other           3288\n",
      "Name: VehicleType, dtype: int64 \n",
      "\n",
      "Для признака Gearbox:\n",
      "manual    268251\n",
      "auto       66285\n",
      "Name: Gearbox, dtype: int64 \n",
      "\n",
      "Для признака Model:\n",
      "golf                  29232\n",
      "other                 24421\n",
      "3er                   19761\n",
      "polo                  13066\n",
      "corsa                 12570\n",
      "                      ...  \n",
      "serie_2                   8\n",
      "serie_3                   4\n",
      "rangerover                4\n",
      "serie_1                   2\n",
      "range_rover_evoque        2\n",
      "Name: Model, Length: 250, dtype: int64 \n",
      "\n",
      "Для признака FuelType:\n",
      "petrol      216352\n",
      "gasoline     98720\n",
      "lpg           5310\n",
      "cng            565\n",
      "hybrid         233\n",
      "other          204\n",
      "electric        90\n",
      "Name: FuelType, dtype: int64 \n",
      "\n",
      "Для признака Repaired:\n",
      "no     247161\n",
      "yes     36054\n",
      "Name: Repaired, dtype: int64 \n",
      "\n"
     ]
    }
   ],
   "source": [
    "# Изучим количество повторений каждого уникального значения в столбцах с пропусками\n",
    "for column in ['VehicleType', 'Gearbox', 'Model', 'FuelType', 'Repaired']:\n",
    "    print(f\"Для признака {column}:\\n{df[column].value_counts()} \\n\")"
   ]
  },
  {
   "cell_type": "markdown",
   "metadata": {},
   "source": [
    "В ходе изучения данных было принято решение заполнить столбцы VehicleType и Model значением *Unknown*, так как замена на моду исказила бы распределение данных, которое часто влияет на итоговую цену автомобиля. В то время как столбцы Gearbox, FuelType и Repaired можно заменить на моду, так как количество пропущенных значений в этих столбцах не окажет существенного влияния на распределение данных. Удаление строк с пропущенными значениями не представляется возможным, так как их число достаточно велико, и это может привести к удалению значительного объема важных данных для обучения моделей машинного обучения"
   ]
  },
  {
   "cell_type": "code",
   "execution_count": 11,
   "metadata": {},
   "outputs": [
    {
     "data": {
      "text/plain": [
       "DateCrawled          0\n",
       "Price                0\n",
       "VehicleType          0\n",
       "RegistrationYear     0\n",
       "Gearbox              0\n",
       "Power                0\n",
       "Model                0\n",
       "Kilometer            0\n",
       "RegistrationMonth    0\n",
       "FuelType             0\n",
       "Brand                0\n",
       "Repaired             0\n",
       "DateCreated          0\n",
       "NumberOfPictures     0\n",
       "PostalCode           0\n",
       "LastSeen             0\n",
       "dtype: int64"
      ]
     },
     "execution_count": 11,
     "metadata": {},
     "output_type": "execute_result"
    }
   ],
   "source": [
    "# Заполнение пропусков \n",
    "df['VehicleType'] = df['VehicleType'].fillna('Unknown')\n",
    "df['Model'] = df['Model'].fillna('Unknown')\n",
    "\n",
    "df['Gearbox'] = df['Gearbox'].fillna(df['Gearbox'].mode()[0])\n",
    "df['FuelType'] = df['FuelType'].fillna(df['FuelType'].mode()[0])\n",
    "df['Repaired'] = df['Repaired'].fillna(df['Repaired'].mode()[0])\n",
    "\n",
    "# Проверяем, что пропуски отсутствуют\n",
    "df.isna().sum()"
   ]
  },
  {
   "cell_type": "markdown",
   "metadata": {},
   "source": [
    "#### Поиск дубликатов"
   ]
  },
  {
   "cell_type": "code",
   "execution_count": 12,
   "metadata": {},
   "outputs": [
    {
     "data": {
      "text/plain": [
       "5"
      ]
     },
     "execution_count": 12,
     "metadata": {},
     "output_type": "execute_result"
    }
   ],
   "source": [
    "# Найдем число полных дубликатов\n",
    "df.duplicated().sum()"
   ]
  },
  {
   "cell_type": "code",
   "execution_count": 13,
   "metadata": {},
   "outputs": [
    {
     "data": {
      "text/plain": [
       "0"
      ]
     },
     "execution_count": 13,
     "metadata": {},
     "output_type": "execute_result"
    }
   ],
   "source": [
    "# Удаляем полные дубликаты\n",
    "df = df.drop_duplicates()\n",
    "\n",
    "# Проверяем корректность преобразований\n",
    "df.duplicated().sum()"
   ]
  },
  {
   "cell_type": "code",
   "execution_count": 14,
   "metadata": {},
   "outputs": [
    {
     "data": {
      "text/plain": [
       "56542"
      ]
     },
     "execution_count": 14,
     "metadata": {},
     "output_type": "execute_result"
    }
   ],
   "source": [
    "# Рассмотрим количество дубликатов по основным столбцам, относящимся к характеристикам автомобилей\n",
    "df.duplicated(subset=['Price', 'VehicleType', 'RegistrationYear', 'Gearbox', 'Power', 'Model', \n",
    "                      'Kilometer', 'FuelType', 'Brand', 'Repaired']).sum()"
   ]
  },
  {
   "cell_type": "markdown",
   "metadata": {},
   "source": [
    "Число таких дубликатов достаточно велико по отношению ко всему объему данных, что неудивительно — автомобили с похожими характеристиками, как правило, имеют схожую стоимость. Конечно, существует вероятность, что некоторые машины повторно встречаются в объявлениях, однако учесть все возможные факторы достаточно сложно. Поэтому оставим эти данные без изменений и будем рассчитывать на то, что модель машинного обучения сможет лучше выявлять зависимости при наличии повторяющихся записей"
   ]
  },
  {
   "cell_type": "markdown",
   "metadata": {},
   "source": [
    "В ходе анализа уникальных значений в каждом столбце не было выявлено неявных дубликатов. Однако было обнаружено множество аномальных значений, которые будут рассмотрены далее в отчёте"
   ]
  },
  {
   "cell_type": "markdown",
   "metadata": {},
   "source": [
    "#### Неинформативные признаки"
   ]
  },
  {
   "cell_type": "markdown",
   "metadata": {},
   "source": [
    "Наша цель - научиться определять рыночную стоимость автомобиля. Следовательно, для обучения моделей машинного обучения необходимо оставить только те информативные признаки, которые описывают характеристики автомобиля и действительно влияют на его цену."
   ]
  },
  {
   "cell_type": "markdown",
   "metadata": {},
   "source": [
    "На цену автомобиля не оказывают влияния временные признаки, связанные с анкетой и пользователем:\n",
    "- DateCrawled — дата скачивания анкеты из базы,\n",
    "- RegistrationMonth — месяц регистрации автомобиля,\n",
    "- DateCreated — дата создания анкеты,\n",
    "- LastSeen — дата последней активности пользователя,\n",
    "- PostalCode — почтовый индекс владельца анкеты (пользователя).\n",
    "\n",
    "Кроме того, признак NumberOfPictures — количество фотографий автомобиля — не является информативным, так как содержит только одно значение: 0"
   ]
  },
  {
   "cell_type": "code",
   "execution_count": 15,
   "metadata": {},
   "outputs": [
    {
     "data": {
      "text/plain": [
       "1"
      ]
     },
     "execution_count": 15,
     "metadata": {},
     "output_type": "execute_result"
    }
   ],
   "source": [
    "# Число уникальных значений в столбце NumberOfPictures\n",
    "df['NumberOfPictures'].nunique()"
   ]
  },
  {
   "cell_type": "code",
   "execution_count": 16,
   "metadata": {},
   "outputs": [
    {
     "data": {
      "text/plain": [
       "'2016-04-07 00:00:00'"
      ]
     },
     "execution_count": 16,
     "metadata": {},
     "output_type": "execute_result"
    }
   ],
   "source": [
    "# Для проверки корректности данных фиксируем дату последнего создания объявления\n",
    "last_entry = df['DateCreated'].max()\n",
    "last_entry"
   ]
  },
  {
   "cell_type": "code",
   "execution_count": 17,
   "metadata": {},
   "outputs": [
    {
     "name": "stdout",
     "output_type": "stream",
     "text": [
      "Index(['Price', 'VehicleType', 'RegistrationYear', 'Gearbox', 'Power', 'Model',\n",
      "       'Kilometer', 'FuelType', 'Brand', 'Repaired'],\n",
      "      dtype='object')\n"
     ]
    }
   ],
   "source": [
    "# Удаляем неинформативные столбцы\n",
    "df.drop(columns=['DateCrawled', 'RegistrationMonth', 'DateCreated', 'LastSeen', 'PostalCode', 'NumberOfPictures'], inplace=True)\n",
    "\n",
    "# Проверяем корректность преобразований\n",
    "print(df.columns)"
   ]
  },
  {
   "cell_type": "markdown",
   "metadata": {},
   "source": [
    "### Исследовательский анализ данных"
   ]
  },
  {
   "cell_type": "code",
   "execution_count": 18,
   "metadata": {},
   "outputs": [
    {
     "name": "stdout",
     "output_type": "stream",
     "text": [
      "<class 'pandas.core.frame.DataFrame'>\n",
      "Int64Index: 354364 entries, 0 to 354368\n",
      "Data columns (total 10 columns):\n",
      " #   Column            Non-Null Count   Dtype \n",
      "---  ------            --------------   ----- \n",
      " 0   Price             354364 non-null  int64 \n",
      " 1   VehicleType       354364 non-null  object\n",
      " 2   RegistrationYear  354364 non-null  int64 \n",
      " 3   Gearbox           354364 non-null  object\n",
      " 4   Power             354364 non-null  int64 \n",
      " 5   Model             354364 non-null  object\n",
      " 6   Kilometer         354364 non-null  int64 \n",
      " 7   FuelType          354364 non-null  object\n",
      " 8   Brand             354364 non-null  object\n",
      " 9   Repaired          354364 non-null  object\n",
      "dtypes: int64(4), object(6)\n",
      "memory usage: 29.7+ MB\n"
     ]
    }
   ],
   "source": [
    "# Выводим общую информацию\n",
    "df.info()"
   ]
  },
  {
   "cell_type": "code",
   "execution_count": 19,
   "metadata": {},
   "outputs": [
    {
     "data": {
      "text/html": [
       "<div>\n",
       "<style scoped>\n",
       "    .dataframe tbody tr th:only-of-type {\n",
       "        vertical-align: middle;\n",
       "    }\n",
       "\n",
       "    .dataframe tbody tr th {\n",
       "        vertical-align: top;\n",
       "    }\n",
       "\n",
       "    .dataframe thead th {\n",
       "        text-align: right;\n",
       "    }\n",
       "</style>\n",
       "<table border=\"1\" class=\"dataframe\">\n",
       "  <thead>\n",
       "    <tr style=\"text-align: right;\">\n",
       "      <th></th>\n",
       "      <th>Price</th>\n",
       "      <th>RegistrationYear</th>\n",
       "      <th>Power</th>\n",
       "      <th>Kilometer</th>\n",
       "    </tr>\n",
       "  </thead>\n",
       "  <tbody>\n",
       "    <tr>\n",
       "      <th>count</th>\n",
       "      <td>354364.000000</td>\n",
       "      <td>354364.000000</td>\n",
       "      <td>354364.000000</td>\n",
       "      <td>354364.000000</td>\n",
       "    </tr>\n",
       "    <tr>\n",
       "      <th>mean</th>\n",
       "      <td>4416.655608</td>\n",
       "      <td>2004.234471</td>\n",
       "      <td>110.093723</td>\n",
       "      <td>128211.373051</td>\n",
       "    </tr>\n",
       "    <tr>\n",
       "      <th>std</th>\n",
       "      <td>4514.159690</td>\n",
       "      <td>90.228593</td>\n",
       "      <td>189.851590</td>\n",
       "      <td>37905.136957</td>\n",
       "    </tr>\n",
       "    <tr>\n",
       "      <th>min</th>\n",
       "      <td>0.000000</td>\n",
       "      <td>1000.000000</td>\n",
       "      <td>0.000000</td>\n",
       "      <td>5000.000000</td>\n",
       "    </tr>\n",
       "    <tr>\n",
       "      <th>25%</th>\n",
       "      <td>1050.000000</td>\n",
       "      <td>1999.000000</td>\n",
       "      <td>69.000000</td>\n",
       "      <td>125000.000000</td>\n",
       "    </tr>\n",
       "    <tr>\n",
       "      <th>50%</th>\n",
       "      <td>2700.000000</td>\n",
       "      <td>2003.000000</td>\n",
       "      <td>105.000000</td>\n",
       "      <td>150000.000000</td>\n",
       "    </tr>\n",
       "    <tr>\n",
       "      <th>75%</th>\n",
       "      <td>6400.000000</td>\n",
       "      <td>2008.000000</td>\n",
       "      <td>143.000000</td>\n",
       "      <td>150000.000000</td>\n",
       "    </tr>\n",
       "    <tr>\n",
       "      <th>max</th>\n",
       "      <td>20000.000000</td>\n",
       "      <td>9999.000000</td>\n",
       "      <td>20000.000000</td>\n",
       "      <td>150000.000000</td>\n",
       "    </tr>\n",
       "  </tbody>\n",
       "</table>\n",
       "</div>"
      ],
      "text/plain": [
       "               Price  RegistrationYear          Power      Kilometer\n",
       "count  354364.000000     354364.000000  354364.000000  354364.000000\n",
       "mean     4416.655608       2004.234471     110.093723  128211.373051\n",
       "std      4514.159690         90.228593     189.851590   37905.136957\n",
       "min         0.000000       1000.000000       0.000000    5000.000000\n",
       "25%      1050.000000       1999.000000      69.000000  125000.000000\n",
       "50%      2700.000000       2003.000000     105.000000  150000.000000\n",
       "75%      6400.000000       2008.000000     143.000000  150000.000000\n",
       "max     20000.000000       9999.000000   20000.000000  150000.000000"
      ]
     },
     "execution_count": 19,
     "metadata": {},
     "output_type": "execute_result"
    }
   ],
   "source": [
    "# Рассмотрим описательную статистику\n",
    "df.describe()"
   ]
  },
  {
   "cell_type": "markdown",
   "metadata": {},
   "source": [
    "Сразу бросаются в глаза аномально высокие значения во всех столбцах. Удалим эти выбросы, а затем проанализируем распределение всех признаков, описывающих характеристики автомобилей"
   ]
  },
  {
   "cell_type": "markdown",
   "metadata": {},
   "source": [
    "#### Цена авто"
   ]
  },
  {
   "cell_type": "code",
   "execution_count": 20,
   "metadata": {},
   "outputs": [
    {
     "name": "stdout",
     "output_type": "stream",
     "text": [
      "Q1: 1050.0\n",
      "Q3: 6400.0\n",
      "IQR: 5350.0\n",
      "Нижняя граница: -6975.0\n",
      "Верхняя граница: 14425.0\n",
      "Число удаляемых строк: 18979\n"
     ]
    }
   ],
   "source": [
    "# Удаляем выбросы в столбце, используя метод межквартильного размаха (IQR)\n",
    "df = remove_outliers(df, 'Price')"
   ]
  },
  {
   "cell_type": "markdown",
   "metadata": {},
   "source": [
    "Считаю, что автомобили с ценой менее 100 евро также следует удалить, так как такие значения выглядят неправдоподобно. Вряд ли кто-то действительно отдает машину практически бесплатно — скорее всего, это ошибки в системе"
   ]
  },
  {
   "cell_type": "code",
   "execution_count": 21,
   "metadata": {},
   "outputs": [
    {
     "data": {
      "text/plain": [
       "0"
      ]
     },
     "execution_count": 21,
     "metadata": {},
     "output_type": "execute_result"
    }
   ],
   "source": [
    "# Удаляем строки\n",
    "df = df[df['Price'] >= 100]\n",
    "\n",
    "# Проверяем корректность преобразований\n",
    "df[df['Price'] < 100]['Price'].count()"
   ]
  },
  {
   "cell_type": "code",
   "execution_count": 22,
   "metadata": {
    "scrolled": true
   },
   "outputs": [
    {
     "data": {
      "image/png": "[encoded data removed]",
      "text/plain": [
       "<Figure size 864x432 with 2 Axes>"
      ]
     },
     "metadata": {
      "needs_background": "light"
     },
     "output_type": "display_data"
    },
    {
     "name": "stdout",
     "output_type": "stream",
     "text": [
      "Рассмотрим описательную статистику:\n",
      "count    322071.000000\n",
      "mean       3864.252808\n",
      "std        3461.420078\n",
      "min         100.000000\n",
      "25%        1150.000000\n",
      "50%        2650.000000\n",
      "75%        5750.000000\n",
      "max       14400.000000\n",
      "Name: Price, dtype: float64\n"
     ]
    }
   ],
   "source": [
    "# Строим график\n",
    "graph_quant_feature(df, 'Price', 'Цена (евро)')"
   ]
  },
  {
   "cell_type": "markdown",
   "metadata": {},
   "source": [
    "#### Мощность авто"
   ]
  },
  {
   "cell_type": "code",
   "execution_count": 23,
   "metadata": {},
   "outputs": [
    {
     "name": "stdout",
     "output_type": "stream",
     "text": [
      "Q1: 68.0\n",
      "Q3: 140.0\n",
      "IQR: 72.0\n",
      "Нижняя граница: -40.0\n",
      "Верхняя граница: 248.0\n",
      "Число удаляемых строк: 5579\n"
     ]
    }
   ],
   "source": [
    "# Удаляем выбросы в столбце, используя метод межквартильного размаха (IQR)\n",
    "df = remove_outliers(df, 'Power')"
   ]
  },
  {
   "cell_type": "markdown",
   "metadata": {},
   "source": [
    "Значения мощности менее 40 л.с. считаю аномально низкими, поэтому такие записи также будут удалены из данных"
   ]
  },
  {
   "cell_type": "code",
   "execution_count": 24,
   "metadata": {},
   "outputs": [
    {
     "data": {
      "text/plain": [
       "0"
      ]
     },
     "execution_count": 24,
     "metadata": {},
     "output_type": "execute_result"
    }
   ],
   "source": [
    "# Удаляем строки\n",
    "df = df[df['Power'] >= 40]\n",
    "\n",
    "# Проверяем корректность преобразований\n",
    "df[df['Power'] < 40]['Power'].count()"
   ]
  },
  {
   "cell_type": "code",
   "execution_count": 25,
   "metadata": {},
   "outputs": [
    {
     "data": {
      "image/png": "[encoded data removed]",
      "text/plain": [
       "<Figure size 864x432 with 2 Axes>"
      ]
     },
     "metadata": {
      "needs_background": "light"
     },
     "output_type": "display_data"
    },
    {
     "name": "stdout",
     "output_type": "stream",
     "text": [
      "Рассмотрим описательную статистику:\n",
      "count    280710.000000\n",
      "mean        113.312853\n",
      "std          43.509500\n",
      "min          40.000000\n",
      "25%          75.000000\n",
      "50%         107.000000\n",
      "75%         140.000000\n",
      "max         248.000000\n",
      "Name: Power, dtype: float64\n"
     ]
    }
   ],
   "source": [
    "# Строим график\n",
    "graph_quant_feature(df, 'Power', 'Мощность (л. с.)')"
   ]
  },
  {
   "cell_type": "markdown",
   "metadata": {},
   "source": [
    "#### Год регистрации автомобиля"
   ]
  },
  {
   "cell_type": "markdown",
   "metadata": {},
   "source": [
    "В этом столбце обнаружено множество аномальных значений, не поддающихся логическому объяснению. Поскольку корректно восстановить такие данные невозможно, соответствующие записи будут исключены из датасета"
   ]
  },
  {
   "cell_type": "code",
   "execution_count": 26,
   "metadata": {},
   "outputs": [
    {
     "data": {
      "text/plain": [
       "'2016-04-07 00:00:00'"
      ]
     },
     "execution_count": 26,
     "metadata": {},
     "output_type": "execute_result"
    }
   ],
   "source": [
    "# Выводим последнюю дату создания анкеты\n",
    "last_entry"
   ]
  },
  {
   "cell_type": "code",
   "execution_count": 27,
   "metadata": {},
   "outputs": [],
   "source": [
    "# Создаем список с годами регистрации авто, которые хотим оставить\n",
    "valid_years = list(range(1980, 2017))"
   ]
  },
  {
   "cell_type": "code",
   "execution_count": 28,
   "metadata": {},
   "outputs": [],
   "source": [
    "# Удаляем аномальные значения\n",
    "df = df[df['RegistrationYear'].isin(valid_years)]"
   ]
  },
  {
   "cell_type": "code",
   "execution_count": 29,
   "metadata": {},
   "outputs": [
    {
     "data": {
      "image/png": "[encoded data removed]",
      "text/plain": [
       "<Figure size 864x432 with 2 Axes>"
      ]
     },
     "metadata": {
      "needs_background": "light"
     },
     "output_type": "display_data"
    },
    {
     "name": "stdout",
     "output_type": "stream",
     "text": [
      "Рассмотрим описательную статистику:\n",
      "count    269486.000000\n",
      "mean       2002.687754\n",
      "std           5.735264\n",
      "min        1980.000000\n",
      "25%        1999.000000\n",
      "50%        2003.000000\n",
      "75%        2007.000000\n",
      "max        2016.000000\n",
      "Name: RegistrationYear, dtype: float64\n"
     ]
    }
   ],
   "source": [
    "# Строим график\n",
    "graph_quant_feature(df, 'RegistrationYear', 'RegistrationYear')"
   ]
  },
  {
   "cell_type": "markdown",
   "metadata": {},
   "source": [
    "#### Пробег авто"
   ]
  },
  {
   "cell_type": "code",
   "execution_count": 30,
   "metadata": {},
   "outputs": [
    {
     "data": {
      "image/png": "[encoded data removed]",
      "text/plain": [
       "<Figure size 432x432 with 1 Axes>"
      ]
     },
     "metadata": {
      "needs_background": "light"
     },
     "output_type": "display_data"
    }
   ],
   "source": [
    "# Строим график\n",
    "graph_cat_feature(df, 'Kilometer', 'Пробег авто')"
   ]
  },
  {
   "cell_type": "markdown",
   "metadata": {},
   "source": [
    "Вероятно, на сайте допускается указание только округлённых значений пробега. Максимальный пробег составляет 150 тыс. км, что объясняет его преобладание: большинство автомобилей преодолели именно эту отметку"
   ]
  },
  {
   "cell_type": "markdown",
   "metadata": {},
   "source": [
    "#### Тип автомобильного кузова"
   ]
  },
  {
   "cell_type": "code",
   "execution_count": 31,
   "metadata": {},
   "outputs": [
    {
     "data": {
      "image/png": "[encoded data removed]",
      "text/plain": [
       "<Figure size 432x432 with 1 Axes>"
      ]
     },
     "metadata": {
      "needs_background": "light"
     },
     "output_type": "display_data"
    }
   ],
   "source": [
    "# Строим график\n",
    "graph_cat_feature(df, 'VehicleType', 'Тип автомобильного кузова')"
   ]
  },
  {
   "cell_type": "markdown",
   "metadata": {},
   "source": [
    "Здесь преобладают автомобили классов sedan, small и wagon"
   ]
  },
  {
   "cell_type": "markdown",
   "metadata": {},
   "source": [
    "#### Тип коробки передач"
   ]
  },
  {
   "cell_type": "code",
   "execution_count": 32,
   "metadata": {},
   "outputs": [
    {
     "data": {
      "image/png": "[encoded data removed]",
      "text/plain": [
       "<Figure size 432x432 with 1 Axes>"
      ]
     },
     "metadata": {
      "needs_background": "light"
     },
     "output_type": "display_data"
    }
   ],
   "source": [
    "# Строим график\n",
    "graph_cat_feature(df, 'Gearbox', 'Тип коробки передач')"
   ]
  },
  {
   "cell_type": "markdown",
   "metadata": {},
   "source": [
    "В выборке автомобили с механической коробкой передач (manual) представлены почти в 5 раз чаще, чем с автоматической"
   ]
  },
  {
   "cell_type": "markdown",
   "metadata": {},
   "source": [
    "#### Модель автомобиля"
   ]
  },
  {
   "cell_type": "code",
   "execution_count": 33,
   "metadata": {},
   "outputs": [
    {
     "data": {
      "text/plain": [
       "248"
      ]
     },
     "execution_count": 33,
     "metadata": {},
     "output_type": "execute_result"
    }
   ],
   "source": [
    "# Найдем число уникальных значений для этого признака\n",
    "df['Model'].nunique()"
   ]
  },
  {
   "cell_type": "markdown",
   "metadata": {},
   "source": [
    "Число уникальных значений для категориального признака очень большое. Рассмотрим топ-15 самых популярных моделей автомобилей"
   ]
  },
  {
   "cell_type": "code",
   "execution_count": 34,
   "metadata": {},
   "outputs": [
    {
     "data": {
      "image/png": "[encoded data removed]",
      "text/plain": [
       "<Figure size 432x432 with 1 Axes>"
      ]
     },
     "metadata": {
      "needs_background": "light"
     },
     "output_type": "display_data"
    }
   ],
   "source": [
    "# Строим график\n",
    "graph_cat_feature(df[df['Model'].isin(df['Model'].value_counts().head(15).index)], 'Model', 'Модель автомобиля')"
   ]
  },
  {
   "cell_type": "markdown",
   "metadata": {},
   "source": [
    "#### Тип топлива"
   ]
  },
  {
   "cell_type": "code",
   "execution_count": 35,
   "metadata": {},
   "outputs": [
    {
     "data": {
      "text/plain": [
       "petrol      187477\n",
       "gasoline     77207\n",
       "lpg           4100\n",
       "cng            474\n",
       "hybrid         152\n",
       "other           49\n",
       "electric        27\n",
       "Name: FuelType, dtype: int64"
      ]
     },
     "execution_count": 35,
     "metadata": {},
     "output_type": "execute_result"
    }
   ],
   "source": [
    "# Рассмотрим количество повторений каждого уникального значения в столбце\n",
    "df['FuelType'].value_counts()"
   ]
  },
  {
   "cell_type": "markdown",
   "metadata": {},
   "source": [
    "Здесь наблюдается явное доминирование двух классов: gasoline и petrol. Поскольку оба термина обозначают одно и то же — бензин — их следует объединить в одну категорию"
   ]
  },
  {
   "cell_type": "code",
   "execution_count": 36,
   "metadata": {},
   "outputs": [
    {
     "data": {
      "text/plain": [
       "petrol      264684\n",
       "lpg           4100\n",
       "cng            474\n",
       "hybrid         152\n",
       "other           49\n",
       "electric        27\n",
       "Name: FuelType, dtype: int64"
      ]
     },
     "execution_count": 36,
     "metadata": {},
     "output_type": "execute_result"
    }
   ],
   "source": [
    "# Замена\n",
    "df['FuelType'] = df['FuelType'].replace({'gasoline': 'petrol'})\n",
    "\n",
    "# Проверяем корректность преобразований\n",
    "df['FuelType'].value_counts()"
   ]
  },
  {
   "cell_type": "code",
   "execution_count": 37,
   "metadata": {},
   "outputs": [
    {
     "data": {
      "image/png": "[encoded data removed]",
      "text/plain": [
       "<Figure size 432x432 with 1 Axes>"
      ]
     },
     "metadata": {
      "needs_background": "light"
     },
     "output_type": "display_data"
    }
   ],
   "source": [
    "# Строим график\n",
    "graph_cat_feature(df, 'FuelType', 'Тип топлива')"
   ]
  },
  {
   "cell_type": "markdown",
   "metadata": {},
   "source": [
    "#### Марка автомобиля"
   ]
  },
  {
   "cell_type": "code",
   "execution_count": 38,
   "metadata": {},
   "outputs": [
    {
     "data": {
      "text/plain": [
       "40"
      ]
     },
     "execution_count": 38,
     "metadata": {},
     "output_type": "execute_result"
    }
   ],
   "source": [
    "# Найдем число уникальных значений для этого признака\n",
    "df['Brand'].nunique()"
   ]
  },
  {
   "cell_type": "markdown",
   "metadata": {},
   "source": [
    "Число уникальных значений для категориального признака достаточно большое. Рассмотрим топ-10 самых популярных марок автомобилей"
   ]
  },
  {
   "cell_type": "code",
   "execution_count": 39,
   "metadata": {},
   "outputs": [
    {
     "data": {
      "image/png": "[encoded data removed]",
      "text/plain": [
       "<Figure size 432x432 with 1 Axes>"
      ]
     },
     "metadata": {
      "needs_background": "light"
     },
     "output_type": "display_data"
    }
   ],
   "source": [
    "# Строим график\n",
    "graph_cat_feature(df[df['Brand'].isin(df['Brand'].value_counts().head(10).index)], 'Brand', 'Марка автомобиля')"
   ]
  },
  {
   "cell_type": "markdown",
   "metadata": {},
   "source": [
    "В выборке преобладают автомобили марок Volkswagen, Opel и BMW"
   ]
  },
  {
   "cell_type": "markdown",
   "metadata": {},
   "source": [
    "#### Была машина в ремонте или нет"
   ]
  },
  {
   "cell_type": "code",
   "execution_count": 40,
   "metadata": {},
   "outputs": [
    {
     "data": {
      "image/png": "[encoded data removed]",
      "text/plain": [
       "<Figure size 432x432 with 1 Axes>"
      ]
     },
     "metadata": {
      "needs_background": "light"
     },
     "output_type": "display_data"
    }
   ],
   "source": [
    "# Строим график\n",
    "graph_cat_feature(df, 'Repaired', 'Была машина в ремонте или нет')"
   ]
  },
  {
   "cell_type": "markdown",
   "metadata": {},
   "source": [
    "### Корреляционный анализ"
   ]
  },
  {
   "cell_type": "code",
   "execution_count": 41,
   "metadata": {},
   "outputs": [
    {
     "data": {
      "image/png": "[encoded data removed]",
      "text/plain": [
       "<Figure size 864x576 with 2 Axes>"
      ]
     },
     "metadata": {
      "needs_background": "light"
     },
     "output_type": "display_data"
    }
   ],
   "source": [
    "# Создаём список количественных признаков\n",
    "interval_columns = ['Price', 'RegistrationYear', 'Power']\n",
    "\n",
    "# Построим корреляционную матрицу для всех признаков\n",
    "plt.figure(figsize=(12, 8))\n",
    "sns.heatmap(df.phik_matrix(verbose=False, interval_cols=interval_columns), annot=True, fmt=\".2f\", cmap='coolwarm')\n",
    "plt.title('Корреляционная матрица')\n",
    "plt.show()"
   ]
  },
  {
   "cell_type": "markdown",
   "metadata": {},
   "source": [
    "**Выводы**:\n",
    "- После преобразований в столбце FuelType, его влияние на целевой признак Price стало практически нулевым.\n",
    "-  Как и ожидалось: марка автомобиля (Brand) полностью коррелирует с моделью (Model) — коэффициент корреляции равен 1, так как каждая марка производит уникальные модели.\n",
    "- Тип кузова (VehicleType) также сильно коррелирует с моделью автомобиля (коэффициент корреляции = 0.9), поскольку одна и та же модель, как правило, сохраняет тип кузова на протяжении всего срока выпуска.\n",
    "- Мощность автомобиля (Power) коррелирует с моделью (коэффициент корреляции = 0.8), так как модели обычно имеют фиксированные характеристики мощности.\n",
    "- Наибольшую положительную корреляцию с целевым признаком Price имеют следующие признаки:\n",
    "    - RegistrationYear — год регистрации автомобиля (коэффициент корреляции = 0.69),\n",
    "    - Model — модель автомобиля (коэффициент корреляции = 0.55),\n",
    "    - Power — мощность двигателя в лошадиных силах (коэффициент корреляции = 0.49)"
   ]
  },
  {
   "cell_type": "markdown",
   "metadata": {},
   "source": [
    "На данном этапе оставим все признаки без изменений. Однако при поиске оптимальной модели рассмотрим возможность исключения некоторых признаков (например, FuelType и Brand), чтобы снизить коллинеарность. Это позволит модели лучше фокусироваться на одном информативном признаке, а не пытаться выбрать между двумя, дублирующими друг друга по смыслу"
   ]
  },
  {
   "cell_type": "markdown",
   "metadata": {},
   "source": [
    "### Вывод по разделу"
   ]
  },
  {
   "cell_type": "markdown",
   "metadata": {},
   "source": [
    "На данном этапе были загружены и изучены данные, заполнены пропущенные значения и обработаны аномалии в отдельных столбцах. Неинформативные признаки — DateCrawled, RegistrationMonth, DateCreated, LastSeen, PostalCode, NumberOfPictures — были удалены из выборки.\n",
    "Также был проведён исследовательский и корреляционный анализ, который позволил глубже изучить структуру данных и выявить взаимосвязи между признаками."
   ]
  },
  {
   "cell_type": "markdown",
   "metadata": {},
   "source": [
    "## Обучение моделей"
   ]
  },
  {
   "cell_type": "markdown",
   "metadata": {},
   "source": [
    "Из-за большого числа уникальных категорий не используем get_dummies и OHE — слишком много признаков, что замедляет обучение. Применяем OrdinalEncoder с заменой неизвестных значений на -1. Мультиколлинеарные признаки оставляем, так как с ними качество на кросс-валидации выше. Метрику, среднее время обучения и предсказания берём из GridSearchCV"
   ]
  },
  {
   "cell_type": "code",
   "execution_count": 42,
   "metadata": {},
   "outputs": [
    {
     "data": {
      "text/plain": [
       "((202114, 9), (67372, 9))"
      ]
     },
     "execution_count": 42,
     "metadata": {},
     "output_type": "execute_result"
    }
   ],
   "source": [
    "# Разделяем исходные данные на обучающую и тестовую выборки\n",
    "X = df.drop('Price', axis=1)\n",
    "y = df['Price']\n",
    "\n",
    "cat_cols = ['VehicleType', 'Gearbox', 'Model', 'FuelType', 'Brand', 'Repaired']\n",
    "num_cols = ['RegistrationYear', 'Power', 'Kilometer']\n",
    "\n",
    "# Разделение до кодирования\n",
    "X_train, X_test, y_train, y_test = train_test_split(\n",
    "                                                    X, \n",
    "                                                    y, \n",
    "                                                    test_size=TEST_SIZE, \n",
    "                                                    random_state=RANDOM_STATE)\n",
    "\n",
    "# Рассмотрим размеры сформированных выборок\n",
    "X_train.shape, X_test.shape"
   ]
  },
  {
   "cell_type": "code",
   "execution_count": 43,
   "metadata": {},
   "outputs": [],
   "source": [
    "X_train_cat = X_train.copy()\n",
    "X_test_cat = X_test.copy()\n",
    "\n",
    "X_train_cat[cat_cols] = X_train.copy()[cat_cols].astype('category')\n",
    "X_test_cat[cat_cols] = X_test.copy()[cat_cols].astype('category')"
   ]
  },
  {
   "cell_type": "code",
   "execution_count": 44,
   "metadata": {},
   "outputs": [],
   "source": [
    "# Кодирование категориальных признаков\n",
    "encoder = OrdinalEncoder(handle_unknown='use_encoded_value', unknown_value=-1)\n",
    "X_train[cat_cols] = encoder.fit_transform(X_train[cat_cols])\n",
    "X_test[cat_cols] = encoder.transform(X_test[cat_cols])"
   ]
  },
  {
   "cell_type": "code",
   "execution_count": 45,
   "metadata": {},
   "outputs": [],
   "source": [
    "# Создаем список для хранения результатов работы моделей\n",
    "results = []"
   ]
  },
  {
   "cell_type": "markdown",
   "metadata": {},
   "source": [
    "### RandomForest"
   ]
  },
  {
   "cell_type": "code",
   "execution_count": 46,
   "metadata": {},
   "outputs": [],
   "source": [
    "# RandomForest\n",
    "rf_params = {'n_estimators': [10, 20, 50], \n",
    "             'max_depth': [5, 10]}\n",
    "\n",
    "rf_grid = GridSearchCV(\n",
    "                        RandomForestRegressor(random_state=RANDOM_STATE),\n",
    "                        rf_params,\n",
    "                        cv=cv,\n",
    "                        scoring='neg_root_mean_squared_error',\n",
    "                        n_jobs=-1)\n",
    "\n",
    "rf_grid.fit(X_train, y_train)\n",
    "\n",
    "# Метрика и время лучшей модели\n",
    "mean_fit_time = rf_grid.cv_results_['mean_fit_time'][rf_grid.best_index_]\n",
    "mean_score_time = rf_grid.cv_results_['mean_score_time'][rf_grid.best_index_]\n",
    "rmse_cv = -rf_grid.best_score_\n",
    "\n",
    "results.append({\n",
    "    'Model': 'RandomForest',\n",
    "    'Best Params': rf_grid.best_params_,\n",
    "    'RMSE (CV)': rmse_cv,\n",
    "    'Mean Fit Time (s)': mean_fit_time,\n",
    "    'Mean Score Time (s)': mean_score_time\n",
    "})"
   ]
  },
  {
   "cell_type": "markdown",
   "metadata": {},
   "source": [
    "### LightGBM"
   ]
  },
  {
   "cell_type": "code",
   "execution_count": 47,
   "metadata": {},
   "outputs": [],
   "source": [
    "# LightGBM\n",
    "lgb_params = {'n_estimators': [10, 20, 50], \n",
    "              'max_depth': [5, 10]}\n",
    "\n",
    "lgb_grid = GridSearchCV(\n",
    "                        LGBMRegressor(random_state=RANDOM_STATE, learning_rate=0.1),\n",
    "                        lgb_params,\n",
    "                        cv=cv,\n",
    "                        scoring='neg_root_mean_squared_error',\n",
    "                        n_jobs=-1)\n",
    "\n",
    "warnings.filterwarnings(\"ignore\", message=\"Using categorical_feature in Dataset.\")\n",
    "lgb_grid.fit(X_train, y_train, categorical_feature=cat_cols)\n",
    "\n",
    "# Метрика и время лучшей модели\n",
    "mean_fit_time = lgb_grid.cv_results_['mean_fit_time'][lgb_grid.best_index_]\n",
    "mean_score_time = lgb_grid.cv_results_['mean_score_time'][lgb_grid.best_index_]\n",
    "rmse_cv = -lgb_grid.best_score_\n",
    "\n",
    "results.append({\n",
    "    'Model': 'LightGBM',\n",
    "    'Best Params': lgb_grid.best_params_,\n",
    "    'RMSE (CV)': rmse_cv,\n",
    "    'Mean Fit Time (s)': mean_fit_time,\n",
    "    'Mean Score Time (s)': mean_score_time\n",
    "})"
   ]
  },
  {
   "cell_type": "markdown",
   "metadata": {},
   "source": [
    "### CatBoost"
   ]
  },
  {
   "cell_type": "code",
   "execution_count": 48,
   "metadata": {},
   "outputs": [],
   "source": [
    "# CatBoost\n",
    "cat_feature_indices = [X_train.columns.get_loc(col) for col in cat_cols]\n",
    "\n",
    "cat_params = {'iterations': [10, 20, 50], \n",
    "              'depth': [5, 10]}\n",
    "\n",
    "cat_grid = GridSearchCV(\n",
    "                        CatBoostRegressor(cat_features=cat_feature_indices, learning_rate=0.1, \n",
    "                                          random_state=RANDOM_STATE, verbose=0),\n",
    "                        cat_params,\n",
    "                        cv=cv,\n",
    "                        scoring='neg_root_mean_squared_error',\n",
    "                        n_jobs=-1)\n",
    "\n",
    "cat_grid.fit(X_train_cat, y_train, cat_features=cat_feature_indices)\n",
    "\n",
    "# Метрика и время лучшей модели\n",
    "mean_fit_time = cat_grid.cv_results_['mean_fit_time'][cat_grid.best_index_]\n",
    "mean_score_time = cat_grid.cv_results_['mean_score_time'][cat_grid.best_index_]\n",
    "rmse_cv = -cat_grid.best_score_\n",
    "\n",
    "results.append({\n",
    "    'Model': 'CatBoost',\n",
    "    'Best Params': cat_grid.best_params_,\n",
    "    'RMSE (CV)': rmse_cv,\n",
    "    'Mean Fit Time (s)': mean_fit_time,\n",
    "    'Mean Score Time (s)': mean_score_time\n",
    "})\n"
   ]
  },
  {
   "cell_type": "markdown",
   "metadata": {},
   "source": [
    "### Вывод по разделу"
   ]
  },
  {
   "cell_type": "code",
   "execution_count": 49,
   "metadata": {},
   "outputs": [
    {
     "data": {
      "text/html": [
       "<div>\n",
       "<style scoped>\n",
       "    .dataframe tbody tr th:only-of-type {\n",
       "        vertical-align: middle;\n",
       "    }\n",
       "\n",
       "    .dataframe tbody tr th {\n",
       "        vertical-align: top;\n",
       "    }\n",
       "\n",
       "    .dataframe thead th {\n",
       "        text-align: right;\n",
       "    }\n",
       "</style>\n",
       "<table border=\"1\" class=\"dataframe\">\n",
       "  <thead>\n",
       "    <tr style=\"text-align: right;\">\n",
       "      <th></th>\n",
       "      <th>Model</th>\n",
       "      <th>Best Params</th>\n",
       "      <th>RMSE (CV)</th>\n",
       "      <th>Mean Fit Time (s)</th>\n",
       "      <th>Mean Score Time (s)</th>\n",
       "    </tr>\n",
       "  </thead>\n",
       "  <tbody>\n",
       "    <tr>\n",
       "      <th>1</th>\n",
       "      <td>LightGBM</td>\n",
       "      <td>{'max_depth': 10, 'n_estimators': 50}</td>\n",
       "      <td>1311.616481</td>\n",
       "      <td>2.035431</td>\n",
       "      <td>0.433807</td>\n",
       "    </tr>\n",
       "    <tr>\n",
       "      <th>2</th>\n",
       "      <td>CatBoost</td>\n",
       "      <td>{'depth': 10, 'iterations': 50}</td>\n",
       "      <td>1372.887089</td>\n",
       "      <td>4.561195</td>\n",
       "      <td>0.065180</td>\n",
       "    </tr>\n",
       "    <tr>\n",
       "      <th>0</th>\n",
       "      <td>RandomForest</td>\n",
       "      <td>{'max_depth': 10, 'n_estimators': 50}</td>\n",
       "      <td>1478.564233</td>\n",
       "      <td>8.124816</td>\n",
       "      <td>0.293685</td>\n",
       "    </tr>\n",
       "  </tbody>\n",
       "</table>\n",
       "</div>"
      ],
      "text/plain": [
       "          Model                            Best Params    RMSE (CV)  \\\n",
       "1      LightGBM  {'max_depth': 10, 'n_estimators': 50}  1311.616481   \n",
       "2      CatBoost        {'depth': 10, 'iterations': 50}  1372.887089   \n",
       "0  RandomForest  {'max_depth': 10, 'n_estimators': 50}  1478.564233   \n",
       "\n",
       "   Mean Fit Time (s)  Mean Score Time (s)  \n",
       "1           2.035431             0.433807  \n",
       "2           4.561195             0.065180  \n",
       "0           8.124816             0.293685  "
      ]
     },
     "execution_count": 49,
     "metadata": {},
     "output_type": "execute_result"
    }
   ],
   "source": [
    "# Создаем DataFrame из результатов и сортируем по полученной метрике RMSE\n",
    "results_df = pd.DataFrame(results).sort_values('RMSE (CV)')\n",
    "results_df"
   ]
  },
  {
   "cell_type": "markdown",
   "metadata": {},
   "source": [
    "На данном этапе была подготовлена выборка для обучения моделей RandomForest, LightGBM и CatBoost. По результатам кросс-валидации, с учетом времени обучения и метрики качества (RMSE), наилучшей оказалась модель LightGBM — её и будем анализировать на тестовых данных."
   ]
  },
  {
   "cell_type": "markdown",
   "metadata": {},
   "source": [
    "## Анализ моделей"
   ]
  },
  {
   "cell_type": "code",
   "execution_count": 50,
   "metadata": {},
   "outputs": [
    {
     "data": {
      "text/plain": [
       "Model               464\n",
       "RegistrationYear    347\n",
       "Power               195\n",
       "Kilometer           143\n",
       "Brand               128\n",
       "VehicleType         122\n",
       "Repaired             85\n",
       "Gearbox              16\n",
       "FuelType              0\n",
       "dtype: int32"
      ]
     },
     "execution_count": 50,
     "metadata": {},
     "output_type": "execute_result"
    }
   ],
   "source": [
    "# Рассмотрим важность признаков\n",
    "importances = pd.Series(lgb_grid.best_estimator_.feature_importances_,\n",
    "                        index=X_train.columns)\n",
    "\n",
    "importances.sort_values(ascending=False)"
   ]
  },
  {
   "cell_type": "markdown",
   "metadata": {},
   "source": [
    "Из анализа важности признаков видно, что наибольший вклад в предсказание вносят признаки Model, RegistrationYear и Power. В то же время, как и следовало ожидать, признак FuelType, имеющий почти одну категорию, не несёт значимой информации для модели"
   ]
  },
  {
   "cell_type": "code",
   "execution_count": 51,
   "metadata": {
    "scrolled": true
   },
   "outputs": [
    {
     "name": "stdout",
     "output_type": "stream",
     "text": [
      "RMSE LightGBM на тестовой выборке: 1306.7785956718074\n"
     ]
    }
   ],
   "source": [
    "# Оценка качества модели LightGBM на тестовой выборке\n",
    "y_pred = lgb_grid.best_estimator_.predict(X_test)\n",
    "rmse_test = np.sqrt(mean_squared_error(y_test, y_pred))\n",
    "\n",
    "print('RMSE LightGBM на тестовой выборке:', rmse_test)"
   ]
  },
  {
   "cell_type": "markdown",
   "metadata": {},
   "source": [
    "Модель LightGBM показала отличный результат на тестовых данных: качество остаётся стабильным"
   ]
  },
  {
   "cell_type": "markdown",
   "metadata": {},
   "source": [
    "## Общий вывод"
   ]
  },
  {
   "cell_type": "markdown",
   "metadata": {},
   "source": [
    "В данном исследовании изначально содержались данные о 354368 автомобилях. После обработки пропущенных значений, удаления дубликатов и аномальных записей, которые невозможно было логически заполнить, для анализа осталось 279261 наблюдение. Также были удалены временные признаки, не влияющие на формирование цены автомобиля.\n",
    "\n",
    "В рамках исследования были протестированы три модели: RandomForest, LightGBM и CatBoost. Для каждой из них был выполнен подбор гиперпараметров, что позволило добиться наилучших значений метрики RMSE.\n",
    "\n",
    "По совокупности критериев — качество предсказания, скорость предсказания и время обучения — наиболее подходящей моделью оказалась LightGBM, продемонстрировавшая высокую точность при приемлемом времени обучения и предсказания."
   ]
  }
 ],
 "metadata": {
  "ExecuteTimeLog": [
   {
    "duration": 10,
    "start_time": "2025-05-05T05:19:18.017Z"
   },
   {
    "duration": 1741,
    "start_time": "2025-05-05T05:19:26.203Z"
   },
   {
    "duration": 992,
    "start_time": "2025-05-05T05:19:27.946Z"
   },
   {
    "duration": 1061,
    "start_time": "2025-05-05T05:20:01.289Z"
   },
   {
    "duration": 973,
    "start_time": "2025-05-05T05:20:05.392Z"
   },
   {
    "duration": 152,
    "start_time": "2025-05-05T05:21:17.229Z"
   },
   {
    "duration": 145,
    "start_time": "2025-05-05T05:37:03.404Z"
   },
   {
    "duration": 24,
    "start_time": "2025-05-05T05:38:17.955Z"
   },
   {
    "duration": 48,
    "start_time": "2025-05-05T05:38:26.767Z"
   },
   {
    "duration": 39,
    "start_time": "2025-05-05T05:38:54.041Z"
   },
   {
    "duration": 20,
    "start_time": "2025-05-05T05:39:01.286Z"
   },
   {
    "duration": 40,
    "start_time": "2025-05-05T05:39:52.871Z"
   },
   {
    "duration": 1243,
    "start_time": "2025-05-05T05:41:13.895Z"
   },
   {
    "duration": 42,
    "start_time": "2025-05-05T05:41:20.273Z"
   },
   {
    "duration": 67,
    "start_time": "2025-05-05T05:42:01.471Z"
   },
   {
    "duration": 40,
    "start_time": "2025-05-05T05:42:02.134Z"
   },
   {
    "duration": 39,
    "start_time": "2025-05-05T05:42:02.528Z"
   },
   {
    "duration": 196,
    "start_time": "2025-05-05T05:53:46.437Z"
   },
   {
    "duration": 195,
    "start_time": "2025-05-05T05:54:10.647Z"
   },
   {
    "duration": 203,
    "start_time": "2025-05-05T05:54:31.038Z"
   },
   {
    "duration": 215,
    "start_time": "2025-05-05T05:54:51.132Z"
   },
   {
    "duration": 196,
    "start_time": "2025-05-05T05:55:04.396Z"
   },
   {
    "duration": 202,
    "start_time": "2025-05-05T05:55:12.915Z"
   },
   {
    "duration": 203,
    "start_time": "2025-05-05T05:55:22.550Z"
   },
   {
    "duration": 1064,
    "start_time": "2025-05-05T05:58:34.702Z"
   },
   {
    "duration": 196,
    "start_time": "2025-05-05T05:58:51.649Z"
   },
   {
    "duration": 222,
    "start_time": "2025-05-05T05:59:02.365Z"
   },
   {
    "duration": 197,
    "start_time": "2025-05-05T05:59:19.507Z"
   },
   {
    "duration": 29,
    "start_time": "2025-05-05T06:05:03.014Z"
   },
   {
    "duration": 56,
    "start_time": "2025-05-05T06:05:29.204Z"
   },
   {
    "duration": 44,
    "start_time": "2025-05-05T06:05:50.010Z"
   },
   {
    "duration": 59,
    "start_time": "2025-05-05T06:08:54.116Z"
   },
   {
    "duration": 32,
    "start_time": "2025-05-05T06:17:13.577Z"
   },
   {
    "duration": 27,
    "start_time": "2025-05-05T06:17:17.007Z"
   },
   {
    "duration": 32,
    "start_time": "2025-05-05T06:17:22.886Z"
   },
   {
    "duration": 384,
    "start_time": "2025-05-05T06:18:28.169Z"
   },
   {
    "duration": 540,
    "start_time": "2025-05-05T06:21:08.942Z"
   },
   {
    "duration": 553,
    "start_time": "2025-05-05T06:21:12.971Z"
   },
   {
    "duration": 24,
    "start_time": "2025-05-05T06:21:19.879Z"
   },
   {
    "duration": 180,
    "start_time": "2025-05-05T06:23:08.693Z"
   },
   {
    "duration": 198,
    "start_time": "2025-05-05T06:23:45.033Z"
   },
   {
    "duration": 238,
    "start_time": "2025-05-05T06:24:26.652Z"
   },
   {
    "duration": 1090,
    "start_time": "2025-05-05T06:25:45.490Z"
   },
   {
    "duration": 1172,
    "start_time": "2025-05-05T06:26:14.236Z"
   },
   {
    "duration": 24,
    "start_time": "2025-05-05T06:26:17.400Z"
   },
   {
    "duration": 239,
    "start_time": "2025-05-05T06:26:19.544Z"
   },
   {
    "duration": 204,
    "start_time": "2025-05-05T06:27:38.152Z"
   },
   {
    "duration": 19,
    "start_time": "2025-05-05T06:55:25.886Z"
   },
   {
    "duration": 10,
    "start_time": "2025-05-05T06:56:33.602Z"
   },
   {
    "duration": 9,
    "start_time": "2025-05-05T06:56:40.976Z"
   },
   {
    "duration": 8,
    "start_time": "2025-05-05T06:57:01.947Z"
   },
   {
    "duration": 37,
    "start_time": "2025-05-05T06:58:14.779Z"
   },
   {
    "duration": 10,
    "start_time": "2025-05-05T06:59:00.194Z"
   },
   {
    "duration": 16,
    "start_time": "2025-05-05T06:59:19.192Z"
   },
   {
    "duration": 47,
    "start_time": "2025-05-05T06:59:27.496Z"
   },
   {
    "duration": 57,
    "start_time": "2025-05-05T06:59:44.680Z"
   },
   {
    "duration": 397,
    "start_time": "2025-05-05T06:59:56.732Z"
   },
   {
    "duration": 45,
    "start_time": "2025-05-05T07:00:02.780Z"
   },
   {
    "duration": 491,
    "start_time": "2025-05-05T07:00:17.320Z"
   },
   {
    "duration": 40,
    "start_time": "2025-05-05T07:01:27.168Z"
   },
   {
    "duration": 334,
    "start_time": "2025-05-05T07:04:52.922Z"
   },
   {
    "duration": 399,
    "start_time": "2025-05-05T07:05:02.824Z"
   },
   {
    "duration": 391,
    "start_time": "2025-05-05T07:05:46.517Z"
   },
   {
    "duration": 430,
    "start_time": "2025-05-05T07:05:52.447Z"
   },
   {
    "duration": 25,
    "start_time": "2025-05-05T07:06:09.398Z"
   },
   {
    "duration": 59,
    "start_time": "2025-05-05T07:06:14.471Z"
   },
   {
    "duration": 4,
    "start_time": "2025-05-05T07:07:13.549Z"
   },
   {
    "duration": 3917,
    "start_time": "2025-05-05T07:07:43.296Z"
   },
   {
    "duration": 1640,
    "start_time": "2025-05-05T07:07:47.216Z"
   },
   {
    "duration": 7,
    "start_time": "2025-05-05T07:07:48.857Z"
   },
   {
    "duration": 1133,
    "start_time": "2025-05-05T07:07:48.867Z"
   },
   {
    "duration": 203,
    "start_time": "2025-05-05T07:07:50.004Z"
   },
   {
    "duration": 204,
    "start_time": "2025-05-05T07:07:50.209Z"
   },
   {
    "duration": 222,
    "start_time": "2025-05-05T07:07:50.415Z"
   },
   {
    "duration": 387,
    "start_time": "2025-05-05T07:07:50.639Z"
   },
   {
    "duration": 576,
    "start_time": "2025-05-05T07:07:51.028Z"
   },
   {
    "duration": 1188,
    "start_time": "2025-05-05T07:07:51.606Z"
   },
   {
    "duration": 224,
    "start_time": "2025-05-05T07:07:52.795Z"
   },
   {
    "duration": 15,
    "start_time": "2025-05-05T07:07:53.021Z"
   },
   {
    "duration": 19,
    "start_time": "2025-05-05T07:07:53.038Z"
   },
   {
    "duration": 2762,
    "start_time": "2025-05-05T07:08:52.518Z"
   },
   {
    "duration": 1997,
    "start_time": "2025-05-05T07:08:55.283Z"
   },
   {
    "duration": 3,
    "start_time": "2025-05-05T07:08:57.285Z"
   },
   {
    "duration": 1092,
    "start_time": "2025-05-05T07:08:57.292Z"
   },
   {
    "duration": 190,
    "start_time": "2025-05-05T07:08:58.386Z"
   },
   {
    "duration": 176,
    "start_time": "2025-05-05T07:08:58.578Z"
   },
   {
    "duration": 210,
    "start_time": "2025-05-05T07:08:58.762Z"
   },
   {
    "duration": 372,
    "start_time": "2025-05-05T07:08:58.975Z"
   },
   {
    "duration": 543,
    "start_time": "2025-05-05T07:08:59.350Z"
   },
   {
    "duration": 1126,
    "start_time": "2025-05-05T07:08:59.896Z"
   },
   {
    "duration": 215,
    "start_time": "2025-05-05T07:09:01.024Z"
   },
   {
    "duration": 34,
    "start_time": "2025-05-05T07:09:01.241Z"
   },
   {
    "duration": 8,
    "start_time": "2025-05-05T07:09:01.277Z"
   },
   {
    "duration": 264622,
    "start_time": "2025-05-05T07:09:01.286Z"
   },
   {
    "duration": 719,
    "start_time": "2025-05-05T07:13:44.008Z"
   },
   {
    "duration": 551,
    "start_time": "2025-05-05T07:13:54.693Z"
   },
   {
    "duration": 2805,
    "start_time": "2025-05-05T07:14:45.432Z"
   },
   {
    "duration": 1567,
    "start_time": "2025-05-05T07:14:48.240Z"
   },
   {
    "duration": 3,
    "start_time": "2025-05-05T07:14:49.808Z"
   },
   {
    "duration": 1095,
    "start_time": "2025-05-05T07:14:49.813Z"
   },
   {
    "duration": 193,
    "start_time": "2025-05-05T07:14:50.910Z"
   },
   {
    "duration": 174,
    "start_time": "2025-05-05T07:14:51.105Z"
   },
   {
    "duration": 220,
    "start_time": "2025-05-05T07:14:51.281Z"
   },
   {
    "duration": 375,
    "start_time": "2025-05-05T07:14:51.503Z"
   },
   {
    "duration": 562,
    "start_time": "2025-05-05T07:14:51.880Z"
   },
   {
    "duration": 1162,
    "start_time": "2025-05-05T07:14:52.444Z"
   },
   {
    "duration": 211,
    "start_time": "2025-05-05T07:14:53.608Z"
   },
   {
    "duration": 15,
    "start_time": "2025-05-05T07:14:53.820Z"
   },
   {
    "duration": 259,
    "start_time": "2025-05-05T07:14:53.837Z"
   },
   {
    "duration": 2940,
    "start_time": "2025-05-05T07:21:08.860Z"
   },
   {
    "duration": 1586,
    "start_time": "2025-05-05T07:21:11.803Z"
   },
   {
    "duration": 3,
    "start_time": "2025-05-05T07:21:13.391Z"
   },
   {
    "duration": 1296,
    "start_time": "2025-05-05T07:21:13.396Z"
   },
   {
    "duration": 192,
    "start_time": "2025-05-05T07:21:14.694Z"
   },
   {
    "duration": 180,
    "start_time": "2025-05-05T07:21:14.889Z"
   },
   {
    "duration": 341,
    "start_time": "2025-05-05T07:21:15.071Z"
   },
   {
    "duration": 356,
    "start_time": "2025-05-05T07:21:15.414Z"
   },
   {
    "duration": 615,
    "start_time": "2025-05-05T07:21:15.773Z"
   },
   {
    "duration": 1180,
    "start_time": "2025-05-05T07:21:16.390Z"
   },
   {
    "duration": 214,
    "start_time": "2025-05-05T07:21:17.573Z"
   },
   {
    "duration": 14,
    "start_time": "2025-05-05T07:21:17.789Z"
   },
   {
    "duration": 12,
    "start_time": "2025-05-05T07:21:17.805Z"
   },
   {
    "duration": 2,
    "start_time": "2025-05-05T07:21:17.820Z"
   },
   {
    "duration": 2862,
    "start_time": "2025-05-05T07:22:50.988Z"
   },
   {
    "duration": 1630,
    "start_time": "2025-05-05T07:22:53.854Z"
   },
   {
    "duration": 4,
    "start_time": "2025-05-05T07:22:55.485Z"
   },
   {
    "duration": 1103,
    "start_time": "2025-05-05T07:22:55.491Z"
   },
   {
    "duration": 222,
    "start_time": "2025-05-05T07:22:56.596Z"
   },
   {
    "duration": 192,
    "start_time": "2025-05-05T07:22:56.820Z"
   },
   {
    "duration": 216,
    "start_time": "2025-05-05T07:22:57.014Z"
   },
   {
    "duration": 465,
    "start_time": "2025-05-05T07:22:57.232Z"
   },
   {
    "duration": 583,
    "start_time": "2025-05-05T07:22:57.699Z"
   },
   {
    "duration": 1157,
    "start_time": "2025-05-05T07:22:58.284Z"
   },
   {
    "duration": 200,
    "start_time": "2025-05-05T07:22:59.443Z"
   },
   {
    "duration": 27,
    "start_time": "2025-05-05T07:22:59.646Z"
   },
   {
    "duration": 6,
    "start_time": "2025-05-05T07:22:59.674Z"
   },
   {
    "duration": 3,
    "start_time": "2025-05-05T07:22:59.683Z"
   },
   {
    "duration": 108586,
    "start_time": "2025-05-05T07:22:59.688Z"
   },
   {
    "duration": 15,
    "start_time": "2025-05-05T07:27:29.073Z"
   },
   {
    "duration": 9,
    "start_time": "2025-05-05T07:45:37.790Z"
   },
   {
    "duration": 7,
    "start_time": "2025-05-05T07:45:48.204Z"
   },
   {
    "duration": 9,
    "start_time": "2025-05-05T07:45:50.772Z"
   },
   {
    "duration": 30,
    "start_time": "2025-05-05T07:47:16.981Z"
   },
   {
    "duration": 2643,
    "start_time": "2025-05-05T07:50:32.536Z"
   },
   {
    "duration": 1494,
    "start_time": "2025-05-05T07:50:35.182Z"
   },
   {
    "duration": 3,
    "start_time": "2025-05-05T07:50:36.677Z"
   },
   {
    "duration": 1093,
    "start_time": "2025-05-05T07:50:36.682Z"
   },
   {
    "duration": 162,
    "start_time": "2025-05-05T07:50:37.777Z"
   },
   {
    "duration": 160,
    "start_time": "2025-05-05T07:50:37.941Z"
   },
   {
    "duration": 189,
    "start_time": "2025-05-05T07:50:38.103Z"
   },
   {
    "duration": 310,
    "start_time": "2025-05-05T07:50:38.294Z"
   },
   {
    "duration": 508,
    "start_time": "2025-05-05T07:50:38.606Z"
   },
   {
    "duration": 1049,
    "start_time": "2025-05-05T07:50:39.116Z"
   },
   {
    "duration": 195,
    "start_time": "2025-05-05T07:50:40.167Z"
   },
   {
    "duration": 9,
    "start_time": "2025-05-05T07:50:40.363Z"
   },
   {
    "duration": 108,
    "start_time": "2025-05-05T07:50:40.373Z"
   },
   {
    "duration": 105,
    "start_time": "2025-05-05T07:54:41.202Z"
   },
   {
    "duration": 68,
    "start_time": "2025-05-05T07:55:08.024Z"
   },
   {
    "duration": 2618,
    "start_time": "2025-05-05T07:58:45.500Z"
   },
   {
    "duration": 1461,
    "start_time": "2025-05-05T07:58:48.120Z"
   },
   {
    "duration": 3,
    "start_time": "2025-05-05T07:58:49.582Z"
   },
   {
    "duration": 12,
    "start_time": "2025-05-05T07:58:49.587Z"
   },
   {
    "duration": 29,
    "start_time": "2025-05-05T07:58:49.601Z"
   },
   {
    "duration": 1012,
    "start_time": "2025-05-05T07:58:49.632Z"
   },
   {
    "duration": 171,
    "start_time": "2025-05-05T07:58:50.646Z"
   },
   {
    "duration": 159,
    "start_time": "2025-05-05T07:58:50.819Z"
   },
   {
    "duration": 183,
    "start_time": "2025-05-05T07:58:50.980Z"
   },
   {
    "duration": 333,
    "start_time": "2025-05-05T07:58:51.165Z"
   },
   {
    "duration": 504,
    "start_time": "2025-05-05T07:58:51.499Z"
   },
   {
    "duration": 1065,
    "start_time": "2025-05-05T07:58:52.005Z"
   },
   {
    "duration": 196,
    "start_time": "2025-05-05T07:58:53.071Z"
   },
   {
    "duration": 8,
    "start_time": "2025-05-05T07:58:53.268Z"
   },
   {
    "duration": 58,
    "start_time": "2025-05-05T07:58:53.277Z"
   },
   {
    "duration": 121,
    "start_time": "2025-05-05T07:58:53.337Z"
   },
   {
    "duration": 68,
    "start_time": "2025-05-05T07:58:53.460Z"
   },
   {
    "duration": 515,
    "start_time": "2025-05-05T07:59:43.256Z"
   },
   {
    "duration": 26,
    "start_time": "2025-05-05T08:02:06.085Z"
   },
   {
    "duration": 22,
    "start_time": "2025-05-05T08:02:28.326Z"
   },
   {
    "duration": 28,
    "start_time": "2025-05-05T08:04:46.715Z"
   },
   {
    "duration": 39,
    "start_time": "2025-05-05T08:09:34.031Z"
   },
   {
    "duration": 527,
    "start_time": "2025-05-05T08:14:26.079Z"
   },
   {
    "duration": 2811,
    "start_time": "2025-05-05T08:14:31.909Z"
   },
   {
    "duration": 1601,
    "start_time": "2025-05-05T08:14:34.723Z"
   },
   {
    "duration": 3,
    "start_time": "2025-05-05T08:14:36.326Z"
   },
   {
    "duration": 76,
    "start_time": "2025-05-05T08:14:36.331Z"
   },
   {
    "duration": 219,
    "start_time": "2025-05-05T08:14:36.410Z"
   },
   {
    "duration": 1337,
    "start_time": "2025-05-05T08:14:36.633Z"
   },
   {
    "duration": 178,
    "start_time": "2025-05-05T08:14:37.972Z"
   },
   {
    "duration": 168,
    "start_time": "2025-05-05T08:14:38.152Z"
   },
   {
    "duration": 199,
    "start_time": "2025-05-05T08:14:38.322Z"
   },
   {
    "duration": 547,
    "start_time": "2025-05-05T08:14:38.522Z"
   },
   {
    "duration": 537,
    "start_time": "2025-05-05T08:14:39.070Z"
   },
   {
    "duration": 1134,
    "start_time": "2025-05-05T08:14:39.609Z"
   },
   {
    "duration": 207,
    "start_time": "2025-05-05T08:14:40.744Z"
   },
   {
    "duration": 10,
    "start_time": "2025-05-05T08:14:40.960Z"
   },
   {
    "duration": 43,
    "start_time": "2025-05-05T08:14:40.973Z"
   },
   {
    "duration": 127,
    "start_time": "2025-05-05T08:14:41.018Z"
   },
   {
    "duration": 103,
    "start_time": "2025-05-05T08:14:41.147Z"
   },
   {
    "duration": 610,
    "start_time": "2025-05-05T08:14:41.252Z"
   },
   {
    "duration": 27,
    "start_time": "2025-05-05T08:14:41.864Z"
   },
   {
    "duration": 601,
    "start_time": "2025-05-05T08:14:41.894Z"
   },
   {
    "duration": 495,
    "start_time": "2025-05-05T08:16:21.673Z"
   },
   {
    "duration": 6,
    "start_time": "2025-05-05T08:16:48.383Z"
   },
   {
    "duration": 32,
    "start_time": "2025-05-05T08:17:01.180Z"
   },
   {
    "duration": 122,
    "start_time": "2025-05-05T08:17:56.286Z"
   },
   {
    "duration": 25,
    "start_time": "2025-05-05T08:18:16.425Z"
   },
   {
    "duration": 13,
    "start_time": "2025-05-05T08:23:43.833Z"
   },
   {
    "duration": 12,
    "start_time": "2025-05-05T08:23:53.823Z"
   },
   {
    "duration": 53,
    "start_time": "2025-05-05T08:25:54.625Z"
   },
   {
    "duration": 38,
    "start_time": "2025-05-05T08:26:08.686Z"
   },
   {
    "duration": 599,
    "start_time": "2025-05-05T08:26:14.251Z"
   },
   {
    "duration": 2716,
    "start_time": "2025-05-05T08:27:12.055Z"
   },
   {
    "duration": 1533,
    "start_time": "2025-05-05T08:27:14.774Z"
   },
   {
    "duration": 2,
    "start_time": "2025-05-05T08:27:16.309Z"
   },
   {
    "duration": 21,
    "start_time": "2025-05-05T08:27:16.314Z"
   },
   {
    "duration": 22,
    "start_time": "2025-05-05T08:27:16.337Z"
   },
   {
    "duration": 1089,
    "start_time": "2025-05-05T08:27:16.361Z"
   },
   {
    "duration": 215,
    "start_time": "2025-05-05T08:27:17.452Z"
   },
   {
    "duration": 432,
    "start_time": "2025-05-05T08:27:17.669Z"
   },
   {
    "duration": 187,
    "start_time": "2025-05-05T08:27:18.103Z"
   },
   {
    "duration": 320,
    "start_time": "2025-05-05T08:27:18.294Z"
   },
   {
    "duration": 536,
    "start_time": "2025-05-05T08:27:18.616Z"
   },
   {
    "duration": 1107,
    "start_time": "2025-05-05T08:27:19.154Z"
   },
   {
    "duration": 203,
    "start_time": "2025-05-05T08:27:20.263Z"
   },
   {
    "duration": 9,
    "start_time": "2025-05-05T08:27:20.468Z"
   },
   {
    "duration": 59,
    "start_time": "2025-05-05T08:27:20.479Z"
   },
   {
    "duration": 127,
    "start_time": "2025-05-05T08:27:20.539Z"
   },
   {
    "duration": 93,
    "start_time": "2025-05-05T08:27:20.667Z"
   },
   {
    "duration": 702,
    "start_time": "2025-05-05T08:27:20.762Z"
   },
   {
    "duration": 22,
    "start_time": "2025-05-05T08:27:21.466Z"
   },
   {
    "duration": 494,
    "start_time": "2025-05-05T08:27:21.489Z"
   },
   {
    "duration": 33,
    "start_time": "2025-05-05T08:27:21.984Z"
   },
   {
    "duration": 109,
    "start_time": "2025-05-05T08:27:22.019Z"
   },
   {
    "duration": 45,
    "start_time": "2025-05-05T08:27:22.131Z"
   },
   {
    "duration": 493,
    "start_time": "2025-05-05T08:27:22.178Z"
   },
   {
    "duration": 123,
    "start_time": "2025-05-05T08:27:42.403Z"
   },
   {
    "duration": 483,
    "start_time": "2025-05-05T08:27:43.347Z"
   },
   {
    "duration": 20,
    "start_time": "2025-05-05T08:28:11.148Z"
   },
   {
    "duration": 11,
    "start_time": "2025-05-05T08:31:55.980Z"
   },
   {
    "duration": 485,
    "start_time": "2025-05-05T08:32:58.428Z"
   },
   {
    "duration": 34,
    "start_time": "2025-05-05T08:33:16.537Z"
   },
   {
    "duration": 115,
    "start_time": "2025-05-05T08:35:12.352Z"
   },
   {
    "duration": 12,
    "start_time": "2025-05-05T08:35:15.016Z"
   },
   {
    "duration": 25,
    "start_time": "2025-05-05T08:35:15.492Z"
   },
   {
    "duration": 10,
    "start_time": "2025-05-05T08:35:32.891Z"
   },
   {
    "duration": 24,
    "start_time": "2025-05-05T08:35:33.588Z"
   },
   {
    "duration": 24,
    "start_time": "2025-05-05T08:36:01.495Z"
   },
   {
    "duration": 44,
    "start_time": "2025-05-05T08:36:18.733Z"
   },
   {
    "duration": 2657,
    "start_time": "2025-05-05T08:38:06.757Z"
   },
   {
    "duration": 1519,
    "start_time": "2025-05-05T08:38:09.416Z"
   },
   {
    "duration": 3,
    "start_time": "2025-05-05T08:38:10.936Z"
   },
   {
    "duration": 51,
    "start_time": "2025-05-05T08:38:10.940Z"
   },
   {
    "duration": 20,
    "start_time": "2025-05-05T08:38:10.995Z"
   },
   {
    "duration": 1031,
    "start_time": "2025-05-05T08:38:11.018Z"
   },
   {
    "duration": 168,
    "start_time": "2025-05-05T08:38:12.051Z"
   },
   {
    "duration": 153,
    "start_time": "2025-05-05T08:38:12.221Z"
   },
   {
    "duration": 193,
    "start_time": "2025-05-05T08:38:12.376Z"
   },
   {
    "duration": 309,
    "start_time": "2025-05-05T08:38:12.571Z"
   },
   {
    "duration": 553,
    "start_time": "2025-05-05T08:38:12.882Z"
   },
   {
    "duration": 1048,
    "start_time": "2025-05-05T08:38:13.437Z"
   },
   {
    "duration": 190,
    "start_time": "2025-05-05T08:38:14.487Z"
   },
   {
    "duration": 10,
    "start_time": "2025-05-05T08:38:14.680Z"
   },
   {
    "duration": 143,
    "start_time": "2025-05-05T08:38:14.691Z"
   },
   {
    "duration": 195,
    "start_time": "2025-05-05T08:38:14.836Z"
   },
   {
    "duration": 112,
    "start_time": "2025-05-05T08:38:15.032Z"
   },
   {
    "duration": 540,
    "start_time": "2025-05-05T08:38:15.146Z"
   },
   {
    "duration": 24,
    "start_time": "2025-05-05T08:38:15.689Z"
   },
   {
    "duration": 710,
    "start_time": "2025-05-05T08:38:15.715Z"
   },
   {
    "duration": 48,
    "start_time": "2025-05-05T08:38:16.428Z"
   },
   {
    "duration": 6,
    "start_time": "2025-05-05T08:38:16.478Z"
   },
   {
    "duration": 59,
    "start_time": "2025-05-05T08:38:16.487Z"
   },
   {
    "duration": 14,
    "start_time": "2025-05-05T08:38:16.549Z"
   },
   {
    "duration": 45,
    "start_time": "2025-05-05T08:38:16.565Z"
   },
   {
    "duration": 627,
    "start_time": "2025-05-05T08:38:16.612Z"
   },
   {
    "duration": 541,
    "start_time": "2025-05-05T08:38:17.242Z"
   },
   {
    "duration": 35,
    "start_time": "2025-05-05T08:38:17.785Z"
   },
   {
    "duration": 10,
    "start_time": "2025-05-05T08:38:17.822Z"
   },
   {
    "duration": 132,
    "start_time": "2025-05-05T08:38:17.834Z"
   },
   {
    "duration": 14,
    "start_time": "2025-05-05T08:38:17.968Z"
   },
   {
    "duration": 36,
    "start_time": "2025-05-05T08:39:05.037Z"
   },
   {
    "duration": 12,
    "start_time": "2025-05-05T08:39:36.678Z"
   },
   {
    "duration": 34,
    "start_time": "2025-05-05T08:39:37.535Z"
   },
   {
    "duration": 9,
    "start_time": "2025-05-05T08:39:53.196Z"
   },
   {
    "duration": 28,
    "start_time": "2025-05-05T08:39:54.150Z"
   },
   {
    "duration": 36,
    "start_time": "2025-05-05T08:40:19.012Z"
   },
   {
    "duration": 483,
    "start_time": "2025-05-05T08:40:26.679Z"
   },
   {
    "duration": 8,
    "start_time": "2025-05-05T08:43:14.398Z"
   },
   {
    "duration": 11,
    "start_time": "2025-05-05T08:46:10.536Z"
   },
   {
    "duration": 17,
    "start_time": "2025-05-05T08:46:10.943Z"
   },
   {
    "duration": 17,
    "start_time": "2025-05-05T08:46:16.190Z"
   },
   {
    "duration": 33,
    "start_time": "2025-05-05T08:46:27.439Z"
   },
   {
    "duration": 1521,
    "start_time": "2025-05-05T08:46:28.176Z"
   },
   {
    "duration": 2685,
    "start_time": "2025-05-05T08:46:34.510Z"
   },
   {
    "duration": 1524,
    "start_time": "2025-05-05T08:46:37.197Z"
   },
   {
    "duration": 3,
    "start_time": "2025-05-05T08:46:38.723Z"
   },
   {
    "duration": 169,
    "start_time": "2025-05-05T08:46:38.728Z"
   },
   {
    "duration": 86,
    "start_time": "2025-05-05T08:46:38.899Z"
   },
   {
    "duration": 1024,
    "start_time": "2025-05-05T08:46:38.987Z"
   },
   {
    "duration": 163,
    "start_time": "2025-05-05T08:46:40.012Z"
   },
   {
    "duration": 159,
    "start_time": "2025-05-05T08:46:40.177Z"
   },
   {
    "duration": 187,
    "start_time": "2025-05-05T08:46:40.338Z"
   },
   {
    "duration": 313,
    "start_time": "2025-05-05T08:46:40.526Z"
   },
   {
    "duration": 546,
    "start_time": "2025-05-05T08:46:40.841Z"
   },
   {
    "duration": 1056,
    "start_time": "2025-05-05T08:46:41.389Z"
   },
   {
    "duration": 194,
    "start_time": "2025-05-05T08:46:42.446Z"
   },
   {
    "duration": 18,
    "start_time": "2025-05-05T08:46:42.643Z"
   },
   {
    "duration": 56,
    "start_time": "2025-05-05T08:46:42.663Z"
   },
   {
    "duration": 181,
    "start_time": "2025-05-05T08:46:42.721Z"
   },
   {
    "duration": 134,
    "start_time": "2025-05-05T08:46:42.904Z"
   },
   {
    "duration": 534,
    "start_time": "2025-05-05T08:46:43.040Z"
   },
   {
    "duration": 24,
    "start_time": "2025-05-05T08:46:43.577Z"
   },
   {
    "duration": 547,
    "start_time": "2025-05-05T08:46:43.603Z"
   },
   {
    "duration": 38,
    "start_time": "2025-05-05T08:46:44.152Z"
   },
   {
    "duration": 6,
    "start_time": "2025-05-05T08:46:44.192Z"
   },
   {
    "duration": 39,
    "start_time": "2025-05-05T08:46:44.199Z"
   },
   {
    "duration": 49,
    "start_time": "2025-05-05T08:46:44.239Z"
   },
   {
    "duration": 595,
    "start_time": "2025-05-05T08:46:44.290Z"
   },
   {
    "duration": 540,
    "start_time": "2025-05-05T08:46:44.887Z"
   },
   {
    "duration": 44,
    "start_time": "2025-05-05T08:46:45.429Z"
   },
   {
    "duration": 23,
    "start_time": "2025-05-05T08:46:45.474Z"
   },
   {
    "duration": 29,
    "start_time": "2025-05-05T08:46:45.499Z"
   },
   {
    "duration": 45,
    "start_time": "2025-05-05T08:46:45.530Z"
   },
   {
    "duration": 1859,
    "start_time": "2025-05-05T08:46:45.576Z"
   },
   {
    "duration": 0,
    "start_time": "2025-05-05T08:46:47.437Z"
   },
   {
    "duration": 63,
    "start_time": "2025-05-05T08:51:19.278Z"
   },
   {
    "duration": 4,
    "start_time": "2025-05-05T08:53:36.576Z"
   },
   {
    "duration": 2720,
    "start_time": "2025-05-05T08:54:03.924Z"
   },
   {
    "duration": 1533,
    "start_time": "2025-05-05T08:54:06.647Z"
   },
   {
    "duration": 2,
    "start_time": "2025-05-05T08:54:08.182Z"
   },
   {
    "duration": 41,
    "start_time": "2025-05-05T08:54:08.186Z"
   },
   {
    "duration": 60,
    "start_time": "2025-05-05T08:54:08.230Z"
   },
   {
    "duration": 1056,
    "start_time": "2025-05-05T08:54:08.292Z"
   },
   {
    "duration": 169,
    "start_time": "2025-05-05T08:54:09.350Z"
   },
   {
    "duration": 158,
    "start_time": "2025-05-05T08:54:09.521Z"
   },
   {
    "duration": 196,
    "start_time": "2025-05-05T08:54:09.681Z"
   },
   {
    "duration": 330,
    "start_time": "2025-05-05T08:54:09.879Z"
   },
   {
    "duration": 539,
    "start_time": "2025-05-05T08:54:10.211Z"
   },
   {
    "duration": 1106,
    "start_time": "2025-05-05T08:54:10.751Z"
   },
   {
    "duration": 200,
    "start_time": "2025-05-05T08:54:11.861Z"
   },
   {
    "duration": 14,
    "start_time": "2025-05-05T08:54:12.066Z"
   },
   {
    "duration": 54,
    "start_time": "2025-05-05T08:54:12.082Z"
   },
   {
    "duration": 176,
    "start_time": "2025-05-05T08:54:12.138Z"
   },
   {
    "duration": 79,
    "start_time": "2025-05-05T08:54:12.316Z"
   },
   {
    "duration": 5,
    "start_time": "2025-05-05T08:54:12.397Z"
   },
   {
    "duration": 68,
    "start_time": "2025-05-05T08:54:12.404Z"
   },
   {
    "duration": 564,
    "start_time": "2025-05-05T08:54:12.474Z"
   },
   {
    "duration": 50,
    "start_time": "2025-05-05T08:54:13.040Z"
   },
   {
    "duration": 482,
    "start_time": "2025-05-05T08:54:13.092Z"
   },
   {
    "duration": 31,
    "start_time": "2025-05-05T08:54:13.576Z"
   },
   {
    "duration": 6,
    "start_time": "2025-05-05T08:54:13.610Z"
   },
   {
    "duration": 19,
    "start_time": "2025-05-05T08:54:13.618Z"
   },
   {
    "duration": 51,
    "start_time": "2025-05-05T08:54:13.638Z"
   },
   {
    "duration": 579,
    "start_time": "2025-05-05T08:54:13.691Z"
   },
   {
    "duration": 471,
    "start_time": "2025-05-05T08:54:14.272Z"
   },
   {
    "duration": 42,
    "start_time": "2025-05-05T08:54:14.745Z"
   },
   {
    "duration": 112,
    "start_time": "2025-05-05T08:54:14.789Z"
   },
   {
    "duration": 191,
    "start_time": "2025-05-05T08:54:14.903Z"
   },
   {
    "duration": 50,
    "start_time": "2025-05-05T08:54:15.096Z"
   },
   {
    "duration": 1670,
    "start_time": "2025-05-05T08:54:15.148Z"
   },
   {
    "duration": 0,
    "start_time": "2025-05-05T08:54:16.820Z"
   },
   {
    "duration": 2914,
    "start_time": "2025-05-05T08:56:25.195Z"
   },
   {
    "duration": 1604,
    "start_time": "2025-05-05T08:56:28.113Z"
   },
   {
    "duration": 3,
    "start_time": "2025-05-05T08:56:29.719Z"
   },
   {
    "duration": 35,
    "start_time": "2025-05-05T08:56:29.724Z"
   },
   {
    "duration": 237,
    "start_time": "2025-05-05T08:56:29.763Z"
   },
   {
    "duration": 1190,
    "start_time": "2025-05-05T08:56:30.001Z"
   },
   {
    "duration": 189,
    "start_time": "2025-05-05T08:56:31.193Z"
   },
   {
    "duration": 178,
    "start_time": "2025-05-05T08:56:31.384Z"
   },
   {
    "duration": 236,
    "start_time": "2025-05-05T08:56:31.565Z"
   },
   {
    "duration": 369,
    "start_time": "2025-05-05T08:56:31.803Z"
   },
   {
    "duration": 575,
    "start_time": "2025-05-05T08:56:32.174Z"
   },
   {
    "duration": 1185,
    "start_time": "2025-05-05T08:56:32.751Z"
   },
   {
    "duration": 224,
    "start_time": "2025-05-05T08:56:33.938Z"
   },
   {
    "duration": 12,
    "start_time": "2025-05-05T08:56:34.167Z"
   },
   {
    "duration": 103,
    "start_time": "2025-05-05T08:56:34.181Z"
   },
   {
    "duration": 126,
    "start_time": "2025-05-05T08:56:34.286Z"
   },
   {
    "duration": 95,
    "start_time": "2025-05-05T08:56:34.415Z"
   },
   {
    "duration": 5,
    "start_time": "2025-05-05T08:56:34.512Z"
   },
   {
    "duration": 83,
    "start_time": "2025-05-05T08:56:34.519Z"
   },
   {
    "duration": 57,
    "start_time": "2025-05-05T08:56:34.604Z"
   },
   {
    "duration": 571,
    "start_time": "2025-05-05T08:56:34.669Z"
   },
   {
    "duration": 41,
    "start_time": "2025-05-05T08:56:35.242Z"
   },
   {
    "duration": 498,
    "start_time": "2025-05-05T08:56:35.285Z"
   },
   {
    "duration": 30,
    "start_time": "2025-05-05T08:56:35.784Z"
   },
   {
    "duration": 9,
    "start_time": "2025-05-05T08:56:35.815Z"
   },
   {
    "duration": 57,
    "start_time": "2025-05-05T08:56:35.826Z"
   },
   {
    "duration": 149,
    "start_time": "2025-05-05T08:56:35.885Z"
   },
   {
    "duration": 614,
    "start_time": "2025-05-05T08:56:36.036Z"
   },
   {
    "duration": 536,
    "start_time": "2025-05-05T08:56:36.652Z"
   },
   {
    "duration": 31,
    "start_time": "2025-05-05T08:56:37.190Z"
   },
   {
    "duration": 51,
    "start_time": "2025-05-05T08:56:37.223Z"
   },
   {
    "duration": 55,
    "start_time": "2025-05-05T08:56:37.277Z"
   },
   {
    "duration": 29,
    "start_time": "2025-05-05T08:56:37.334Z"
   },
   {
    "duration": 1663,
    "start_time": "2025-05-05T08:56:37.365Z"
   },
   {
    "duration": 0,
    "start_time": "2025-05-05T08:56:39.031Z"
   },
   {
    "duration": 2831,
    "start_time": "2025-05-05T08:58:49.929Z"
   },
   {
    "duration": 1650,
    "start_time": "2025-05-05T08:58:52.764Z"
   },
   {
    "duration": 3,
    "start_time": "2025-05-05T08:58:54.416Z"
   },
   {
    "duration": 20,
    "start_time": "2025-05-05T08:58:54.421Z"
   },
   {
    "duration": 35,
    "start_time": "2025-05-05T08:58:54.442Z"
   },
   {
    "duration": 1129,
    "start_time": "2025-05-05T08:58:54.478Z"
   },
   {
    "duration": 195,
    "start_time": "2025-05-05T08:58:55.610Z"
   },
   {
    "duration": 175,
    "start_time": "2025-05-05T08:58:55.807Z"
   },
   {
    "duration": 204,
    "start_time": "2025-05-05T08:58:55.984Z"
   },
   {
    "duration": 364,
    "start_time": "2025-05-05T08:58:56.191Z"
   },
   {
    "duration": 597,
    "start_time": "2025-05-05T08:58:56.565Z"
   },
   {
    "duration": 1170,
    "start_time": "2025-05-05T08:58:57.164Z"
   },
   {
    "duration": 201,
    "start_time": "2025-05-05T08:58:58.335Z"
   },
   {
    "duration": 9,
    "start_time": "2025-05-05T08:58:58.537Z"
   },
   {
    "duration": 48,
    "start_time": "2025-05-05T08:58:58.560Z"
   },
   {
    "duration": 120,
    "start_time": "2025-05-05T08:58:58.610Z"
   },
   {
    "duration": 86,
    "start_time": "2025-05-05T08:58:58.731Z"
   },
   {
    "duration": 4,
    "start_time": "2025-05-05T08:58:58.819Z"
   },
   {
    "duration": 278,
    "start_time": "2025-05-05T08:58:58.825Z"
   },
   {
    "duration": 47,
    "start_time": "2025-05-05T08:58:59.105Z"
   },
   {
    "duration": 38,
    "start_time": "2025-05-05T08:58:59.162Z"
   },
   {
    "duration": 31,
    "start_time": "2025-05-05T08:58:59.203Z"
   },
   {
    "duration": 499,
    "start_time": "2025-05-05T08:58:59.236Z"
   },
   {
    "duration": 545,
    "start_time": "2025-05-05T08:58:59.736Z"
   },
   {
    "duration": 503,
    "start_time": "2025-05-05T08:59:00.283Z"
   },
   {
    "duration": 22,
    "start_time": "2025-05-05T08:59:00.788Z"
   },
   {
    "duration": 855,
    "start_time": "2025-05-05T08:59:00.811Z"
   },
   {
    "duration": 27,
    "start_time": "2025-05-05T08:59:01.672Z"
   },
   {
    "duration": 280,
    "start_time": "2025-05-05T08:59:01.701Z"
   },
   {
    "duration": 293,
    "start_time": "2025-05-05T08:59:01.983Z"
   },
   {
    "duration": 36,
    "start_time": "2025-05-05T08:59:02.278Z"
   },
   {
    "duration": 492,
    "start_time": "2025-05-05T08:59:02.316Z"
   },
   {
    "duration": 451,
    "start_time": "2025-05-05T08:59:02.810Z"
   },
   {
    "duration": 33,
    "start_time": "2025-05-05T08:59:03.264Z"
   },
   {
    "duration": 14,
    "start_time": "2025-05-05T08:59:03.299Z"
   },
   {
    "duration": 60,
    "start_time": "2025-05-05T08:59:03.315Z"
   },
   {
    "duration": 26,
    "start_time": "2025-05-05T08:59:03.377Z"
   },
   {
    "duration": 1875,
    "start_time": "2025-05-05T08:59:03.406Z"
   },
   {
    "duration": 0,
    "start_time": "2025-05-05T08:59:05.283Z"
   },
   {
    "duration": 5,
    "start_time": "2025-05-05T09:02:11.586Z"
   },
   {
    "duration": 2644,
    "start_time": "2025-05-05T09:02:49.758Z"
   },
   {
    "duration": 1493,
    "start_time": "2025-05-05T09:02:52.404Z"
   },
   {
    "duration": 3,
    "start_time": "2025-05-05T09:02:53.898Z"
   },
   {
    "duration": 99,
    "start_time": "2025-05-05T09:02:53.903Z"
   },
   {
    "duration": 36,
    "start_time": "2025-05-05T09:02:54.005Z"
   },
   {
    "duration": 1039,
    "start_time": "2025-05-05T09:02:54.043Z"
   },
   {
    "duration": 177,
    "start_time": "2025-05-05T09:02:55.084Z"
   },
   {
    "duration": 159,
    "start_time": "2025-05-05T09:02:55.263Z"
   },
   {
    "duration": 185,
    "start_time": "2025-05-05T09:02:55.425Z"
   },
   {
    "duration": 334,
    "start_time": "2025-05-05T09:02:55.612Z"
   },
   {
    "duration": 525,
    "start_time": "2025-05-05T09:02:55.947Z"
   },
   {
    "duration": 1137,
    "start_time": "2025-05-05T09:02:56.474Z"
   },
   {
    "duration": 190,
    "start_time": "2025-05-05T09:02:57.612Z"
   },
   {
    "duration": 8,
    "start_time": "2025-05-05T09:02:57.806Z"
   },
   {
    "duration": 55,
    "start_time": "2025-05-05T09:02:57.815Z"
   },
   {
    "duration": 110,
    "start_time": "2025-05-05T09:02:57.871Z"
   },
   {
    "duration": 95,
    "start_time": "2025-05-05T09:02:57.983Z"
   },
   {
    "duration": 5,
    "start_time": "2025-05-05T09:02:58.079Z"
   },
   {
    "duration": 65,
    "start_time": "2025-05-05T09:02:58.086Z"
   },
   {
    "duration": 59,
    "start_time": "2025-05-05T09:02:58.152Z"
   },
   {
    "duration": 50,
    "start_time": "2025-05-05T09:02:58.213Z"
   },
   {
    "duration": 80,
    "start_time": "2025-05-05T09:02:58.265Z"
   },
   {
    "duration": 466,
    "start_time": "2025-05-05T09:02:58.347Z"
   },
   {
    "duration": 493,
    "start_time": "2025-05-05T09:02:58.815Z"
   },
   {
    "duration": 463,
    "start_time": "2025-05-05T09:02:59.310Z"
   },
   {
    "duration": 21,
    "start_time": "2025-05-05T09:02:59.775Z"
   },
   {
    "duration": 537,
    "start_time": "2025-05-05T09:02:59.798Z"
   },
   {
    "duration": 33,
    "start_time": "2025-05-05T09:03:00.337Z"
   },
   {
    "duration": 193,
    "start_time": "2025-05-05T09:03:00.372Z"
   },
   {
    "duration": 113,
    "start_time": "2025-05-05T09:03:00.567Z"
   },
   {
    "duration": 51,
    "start_time": "2025-05-05T09:03:00.682Z"
   },
   {
    "duration": 493,
    "start_time": "2025-05-05T09:03:00.735Z"
   },
   {
    "duration": 441,
    "start_time": "2025-05-05T09:03:01.230Z"
   },
   {
    "duration": 28,
    "start_time": "2025-05-05T09:03:01.673Z"
   },
   {
    "duration": 26,
    "start_time": "2025-05-05T09:03:01.703Z"
   },
   {
    "duration": 67,
    "start_time": "2025-05-05T09:03:01.731Z"
   },
   {
    "duration": 114,
    "start_time": "2025-05-05T09:03:01.800Z"
   },
   {
    "duration": 1969,
    "start_time": "2025-05-05T09:03:01.916Z"
   },
   {
    "duration": 0,
    "start_time": "2025-05-05T09:03:03.887Z"
   },
   {
    "duration": 11,
    "start_time": "2025-05-05T09:38:51.022Z"
   },
   {
    "duration": 159,
    "start_time": "2025-05-05T09:38:56.260Z"
   },
   {
    "duration": 5,
    "start_time": "2025-05-05T09:39:34.389Z"
   },
   {
    "duration": 2953,
    "start_time": "2025-05-05T09:46:53.887Z"
   },
   {
    "duration": 1903,
    "start_time": "2025-05-05T09:46:56.843Z"
   },
   {
    "duration": 3,
    "start_time": "2025-05-05T09:46:58.748Z"
   },
   {
    "duration": 20,
    "start_time": "2025-05-05T09:46:58.754Z"
   },
   {
    "duration": 25,
    "start_time": "2025-05-05T09:46:58.777Z"
   },
   {
    "duration": 33,
    "start_time": "2025-05-05T09:46:58.804Z"
   },
   {
    "duration": 1098,
    "start_time": "2025-05-05T09:46:58.838Z"
   },
   {
    "duration": 186,
    "start_time": "2025-05-05T09:46:59.938Z"
   },
   {
    "duration": 168,
    "start_time": "2025-05-05T09:47:00.126Z"
   },
   {
    "duration": 333,
    "start_time": "2025-05-05T09:47:00.296Z"
   },
   {
    "duration": 394,
    "start_time": "2025-05-05T09:47:00.631Z"
   },
   {
    "duration": 583,
    "start_time": "2025-05-05T09:47:01.027Z"
   },
   {
    "duration": 1223,
    "start_time": "2025-05-05T09:47:01.611Z"
   },
   {
    "duration": 209,
    "start_time": "2025-05-05T09:47:02.837Z"
   },
   {
    "duration": 18,
    "start_time": "2025-05-05T09:47:03.047Z"
   },
   {
    "duration": 68,
    "start_time": "2025-05-05T09:47:03.067Z"
   },
   {
    "duration": 200,
    "start_time": "2025-05-05T09:47:03.137Z"
   },
   {
    "duration": 178,
    "start_time": "2025-05-05T09:47:03.339Z"
   },
   {
    "duration": 70,
    "start_time": "2025-05-05T09:47:03.519Z"
   },
   {
    "duration": 540,
    "start_time": "2025-05-05T09:47:03.593Z"
   },
   {
    "duration": 67,
    "start_time": "2025-05-05T09:47:04.135Z"
   },
   {
    "duration": 736,
    "start_time": "2025-05-05T09:47:04.203Z"
   },
   {
    "duration": 533,
    "start_time": "2025-05-05T09:47:04.941Z"
   },
   {
    "duration": 48,
    "start_time": "2025-05-05T09:47:05.476Z"
   },
   {
    "duration": 99,
    "start_time": "2025-05-05T09:47:05.526Z"
   },
   {
    "duration": 661,
    "start_time": "2025-05-05T09:47:05.627Z"
   },
   {
    "duration": 571,
    "start_time": "2025-05-05T09:47:06.290Z"
   },
   {
    "duration": 179,
    "start_time": "2025-05-05T09:47:06.864Z"
   },
   {
    "duration": 19,
    "start_time": "2025-05-05T09:47:07.045Z"
   },
   {
    "duration": 28,
    "start_time": "2025-05-05T09:47:07.066Z"
   },
   {
    "duration": 25,
    "start_time": "2025-05-05T09:48:06.532Z"
   },
   {
    "duration": 40,
    "start_time": "2025-05-05T09:48:17.045Z"
   },
   {
    "duration": 36,
    "start_time": "2025-05-05T09:49:04.190Z"
   },
   {
    "duration": 33,
    "start_time": "2025-05-05T09:49:07.050Z"
   },
   {
    "duration": 32,
    "start_time": "2025-05-05T09:49:14.827Z"
   },
   {
    "duration": 22,
    "start_time": "2025-05-05T09:50:12.362Z"
   },
   {
    "duration": 9,
    "start_time": "2025-05-05T09:50:31.237Z"
   },
   {
    "duration": 10,
    "start_time": "2025-05-05T09:50:39.027Z"
   },
   {
    "duration": 23,
    "start_time": "2025-05-05T09:51:37.263Z"
   },
   {
    "duration": 22,
    "start_time": "2025-05-05T09:51:43.176Z"
   },
   {
    "duration": 20,
    "start_time": "2025-05-05T09:53:15.943Z"
   },
   {
    "duration": 49,
    "start_time": "2025-05-05T09:53:30.623Z"
   },
   {
    "duration": 32,
    "start_time": "2025-05-05T09:53:44.847Z"
   },
   {
    "duration": 36,
    "start_time": "2025-05-05T09:53:54.402Z"
   },
   {
    "duration": 20,
    "start_time": "2025-05-05T09:53:58.129Z"
   },
   {
    "duration": 35,
    "start_time": "2025-05-05T09:54:40.083Z"
   },
   {
    "duration": 2753,
    "start_time": "2025-05-05T09:56:05.903Z"
   },
   {
    "duration": 1600,
    "start_time": "2025-05-05T09:56:08.660Z"
   },
   {
    "duration": 3,
    "start_time": "2025-05-05T09:56:10.263Z"
   },
   {
    "duration": 124,
    "start_time": "2025-05-05T09:56:10.268Z"
   },
   {
    "duration": 100,
    "start_time": "2025-05-05T09:56:10.394Z"
   },
   {
    "duration": 39,
    "start_time": "2025-05-05T09:56:10.496Z"
   },
   {
    "duration": 1053,
    "start_time": "2025-05-05T09:56:10.537Z"
   },
   {
    "duration": 179,
    "start_time": "2025-05-05T09:56:11.591Z"
   },
   {
    "duration": 162,
    "start_time": "2025-05-05T09:56:11.771Z"
   },
   {
    "duration": 199,
    "start_time": "2025-05-05T09:56:11.936Z"
   },
   {
    "duration": 346,
    "start_time": "2025-05-05T09:56:12.137Z"
   },
   {
    "duration": 551,
    "start_time": "2025-05-05T09:56:12.485Z"
   },
   {
    "duration": 1127,
    "start_time": "2025-05-05T09:56:13.038Z"
   },
   {
    "duration": 208,
    "start_time": "2025-05-05T09:56:14.168Z"
   },
   {
    "duration": 9,
    "start_time": "2025-05-05T09:56:14.378Z"
   },
   {
    "duration": 134,
    "start_time": "2025-05-05T09:56:14.389Z"
   },
   {
    "duration": 129,
    "start_time": "2025-05-05T09:56:14.525Z"
   },
   {
    "duration": 71,
    "start_time": "2025-05-05T09:56:14.656Z"
   },
   {
    "duration": 87,
    "start_time": "2025-05-05T09:56:14.729Z"
   },
   {
    "duration": 62,
    "start_time": "2025-05-05T09:56:14.819Z"
   },
   {
    "duration": 530,
    "start_time": "2025-05-05T09:56:14.884Z"
   },
   {
    "duration": 73,
    "start_time": "2025-05-05T09:56:15.416Z"
   },
   {
    "duration": 461,
    "start_time": "2025-05-05T09:56:15.491Z"
   },
   {
    "duration": 463,
    "start_time": "2025-05-05T09:56:15.954Z"
   },
   {
    "duration": 52,
    "start_time": "2025-05-05T09:56:16.419Z"
   },
   {
    "duration": 47,
    "start_time": "2025-05-05T09:56:16.473Z"
   },
   {
    "duration": 611,
    "start_time": "2025-05-05T09:56:16.522Z"
   },
   {
    "duration": 561,
    "start_time": "2025-05-05T09:56:17.137Z"
   },
   {
    "duration": 156,
    "start_time": "2025-05-05T09:56:17.700Z"
   },
   {
    "duration": 6,
    "start_time": "2025-05-05T09:56:17.861Z"
   },
   {
    "duration": 16,
    "start_time": "2025-05-05T09:56:17.869Z"
   },
   {
    "duration": 19,
    "start_time": "2025-05-05T09:58:45.707Z"
   },
   {
    "duration": 1710,
    "start_time": "2025-05-05T09:58:50.667Z"
   },
   {
    "duration": 2735,
    "start_time": "2025-05-05T09:59:07.498Z"
   },
   {
    "duration": 1566,
    "start_time": "2025-05-05T09:59:10.236Z"
   },
   {
    "duration": 4,
    "start_time": "2025-05-05T09:59:11.804Z"
   },
   {
    "duration": 15,
    "start_time": "2025-05-05T09:59:11.810Z"
   },
   {
    "duration": 9,
    "start_time": "2025-05-05T09:59:11.827Z"
   },
   {
    "duration": 21,
    "start_time": "2025-05-05T09:59:11.838Z"
   },
   {
    "duration": 1062,
    "start_time": "2025-05-05T09:59:11.862Z"
   },
   {
    "duration": 192,
    "start_time": "2025-05-05T09:59:12.926Z"
   },
   {
    "duration": 175,
    "start_time": "2025-05-05T09:59:13.120Z"
   },
   {
    "duration": 199,
    "start_time": "2025-05-05T09:59:13.297Z"
   },
   {
    "duration": 432,
    "start_time": "2025-05-05T09:59:13.498Z"
   },
   {
    "duration": 542,
    "start_time": "2025-05-05T09:59:13.932Z"
   },
   {
    "duration": 1169,
    "start_time": "2025-05-05T09:59:14.476Z"
   },
   {
    "duration": 205,
    "start_time": "2025-05-05T09:59:15.649Z"
   },
   {
    "duration": 37,
    "start_time": "2025-05-05T09:59:15.860Z"
   },
   {
    "duration": 60,
    "start_time": "2025-05-05T09:59:15.899Z"
   },
   {
    "duration": 124,
    "start_time": "2025-05-05T09:59:15.961Z"
   },
   {
    "duration": 85,
    "start_time": "2025-05-05T09:59:16.087Z"
   },
   {
    "duration": 59,
    "start_time": "2025-05-05T09:59:16.175Z"
   },
   {
    "duration": 59,
    "start_time": "2025-05-05T09:59:16.236Z"
   },
   {
    "duration": 727,
    "start_time": "2025-05-05T09:59:16.297Z"
   },
   {
    "duration": 64,
    "start_time": "2025-05-05T09:59:17.026Z"
   },
   {
    "duration": 26,
    "start_time": "2025-05-05T09:59:17.092Z"
   },
   {
    "duration": 1613,
    "start_time": "2025-05-05T09:59:17.120Z"
   },
   {
    "duration": 0,
    "start_time": "2025-05-05T09:59:18.736Z"
   },
   {
    "duration": 0,
    "start_time": "2025-05-05T09:59:18.737Z"
   },
   {
    "duration": 0,
    "start_time": "2025-05-05T09:59:18.739Z"
   },
   {
    "duration": 0,
    "start_time": "2025-05-05T09:59:18.740Z"
   },
   {
    "duration": 0,
    "start_time": "2025-05-05T09:59:18.742Z"
   },
   {
    "duration": 0,
    "start_time": "2025-05-05T09:59:18.762Z"
   },
   {
    "duration": 0,
    "start_time": "2025-05-05T09:59:18.763Z"
   },
   {
    "duration": 0,
    "start_time": "2025-05-05T09:59:18.764Z"
   },
   {
    "duration": 29,
    "start_time": "2025-05-05T09:59:32.132Z"
   },
   {
    "duration": 1550,
    "start_time": "2025-05-05T09:59:32.692Z"
   },
   {
    "duration": 1610,
    "start_time": "2025-05-05T09:59:48.382Z"
   },
   {
    "duration": 2615,
    "start_time": "2025-05-05T10:00:41.128Z"
   },
   {
    "duration": 1540,
    "start_time": "2025-05-05T10:00:43.745Z"
   },
   {
    "duration": 3,
    "start_time": "2025-05-05T10:00:45.287Z"
   },
   {
    "duration": 160,
    "start_time": "2025-05-05T10:00:45.292Z"
   },
   {
    "duration": 311,
    "start_time": "2025-05-05T10:00:45.454Z"
   },
   {
    "duration": 61,
    "start_time": "2025-05-05T10:00:45.767Z"
   },
   {
    "duration": 1065,
    "start_time": "2025-05-05T10:00:45.830Z"
   },
   {
    "duration": 178,
    "start_time": "2025-05-05T10:00:46.897Z"
   },
   {
    "duration": 149,
    "start_time": "2025-05-05T10:00:47.077Z"
   },
   {
    "duration": 240,
    "start_time": "2025-05-05T10:00:47.228Z"
   },
   {
    "duration": 347,
    "start_time": "2025-05-05T10:00:47.470Z"
   },
   {
    "duration": 514,
    "start_time": "2025-05-05T10:00:47.819Z"
   },
   {
    "duration": 1046,
    "start_time": "2025-05-05T10:00:48.334Z"
   },
   {
    "duration": 195,
    "start_time": "2025-05-05T10:00:49.383Z"
   },
   {
    "duration": 8,
    "start_time": "2025-05-05T10:00:49.580Z"
   },
   {
    "duration": 68,
    "start_time": "2025-05-05T10:00:49.590Z"
   },
   {
    "duration": 190,
    "start_time": "2025-05-05T10:00:49.660Z"
   },
   {
    "duration": 86,
    "start_time": "2025-05-05T10:00:49.851Z"
   },
   {
    "duration": 54,
    "start_time": "2025-05-05T10:00:49.939Z"
   },
   {
    "duration": 35,
    "start_time": "2025-05-05T10:00:49.995Z"
   },
   {
    "duration": 500,
    "start_time": "2025-05-05T10:00:50.032Z"
   },
   {
    "duration": 59,
    "start_time": "2025-05-05T10:00:50.534Z"
   },
   {
    "duration": 96,
    "start_time": "2025-05-05T10:00:50.595Z"
   },
   {
    "duration": 1661,
    "start_time": "2025-05-05T10:00:50.692Z"
   },
   {
    "duration": 0,
    "start_time": "2025-05-05T10:00:52.355Z"
   },
   {
    "duration": 0,
    "start_time": "2025-05-05T10:00:52.356Z"
   },
   {
    "duration": 0,
    "start_time": "2025-05-05T10:00:52.360Z"
   },
   {
    "duration": 0,
    "start_time": "2025-05-05T10:00:52.361Z"
   },
   {
    "duration": 0,
    "start_time": "2025-05-05T10:00:52.362Z"
   },
   {
    "duration": 0,
    "start_time": "2025-05-05T10:00:52.363Z"
   },
   {
    "duration": 0,
    "start_time": "2025-05-05T10:00:52.365Z"
   },
   {
    "duration": 0,
    "start_time": "2025-05-05T10:00:52.366Z"
   },
   {
    "duration": 1590,
    "start_time": "2025-05-05T10:01:58.195Z"
   },
   {
    "duration": 1573,
    "start_time": "2025-05-05T10:02:07.661Z"
   },
   {
    "duration": 1430,
    "start_time": "2025-05-05T10:03:13.285Z"
   },
   {
    "duration": 2697,
    "start_time": "2025-05-05T10:04:20.000Z"
   },
   {
    "duration": 1521,
    "start_time": "2025-05-05T10:04:22.700Z"
   },
   {
    "duration": 3,
    "start_time": "2025-05-05T10:04:24.223Z"
   },
   {
    "duration": 51,
    "start_time": "2025-05-05T10:04:24.228Z"
   },
   {
    "duration": 7,
    "start_time": "2025-05-05T10:04:24.282Z"
   },
   {
    "duration": 337,
    "start_time": "2025-05-05T10:04:24.291Z"
   },
   {
    "duration": 1066,
    "start_time": "2025-05-05T10:04:24.630Z"
   },
   {
    "duration": 178,
    "start_time": "2025-05-05T10:04:25.698Z"
   },
   {
    "duration": 169,
    "start_time": "2025-05-05T10:04:25.878Z"
   },
   {
    "duration": 186,
    "start_time": "2025-05-05T10:04:26.049Z"
   },
   {
    "duration": 498,
    "start_time": "2025-05-05T10:04:26.237Z"
   },
   {
    "duration": 564,
    "start_time": "2025-05-05T10:04:26.738Z"
   },
   {
    "duration": 1126,
    "start_time": "2025-05-05T10:04:27.303Z"
   },
   {
    "duration": 198,
    "start_time": "2025-05-05T10:04:28.432Z"
   },
   {
    "duration": 8,
    "start_time": "2025-05-05T10:04:28.632Z"
   },
   {
    "duration": 57,
    "start_time": "2025-05-05T10:04:28.642Z"
   },
   {
    "duration": 128,
    "start_time": "2025-05-05T10:04:28.701Z"
   },
   {
    "duration": 73,
    "start_time": "2025-05-05T10:04:28.831Z"
   },
   {
    "duration": 63,
    "start_time": "2025-05-05T10:04:28.905Z"
   },
   {
    "duration": 38,
    "start_time": "2025-05-05T10:04:28.970Z"
   },
   {
    "duration": 525,
    "start_time": "2025-05-05T10:04:29.010Z"
   },
   {
    "duration": 62,
    "start_time": "2025-05-05T10:04:29.537Z"
   },
   {
    "duration": 3,
    "start_time": "2025-05-05T10:04:29.601Z"
   },
   {
    "duration": 456,
    "start_time": "2025-05-05T10:04:29.606Z"
   },
   {
    "duration": 452,
    "start_time": "2025-05-05T10:04:30.064Z"
   },
   {
    "duration": 51,
    "start_time": "2025-05-05T10:04:30.518Z"
   },
   {
    "duration": 51,
    "start_time": "2025-05-05T10:04:30.570Z"
   },
   {
    "duration": 571,
    "start_time": "2025-05-05T10:04:30.623Z"
   },
   {
    "duration": 522,
    "start_time": "2025-05-05T10:04:31.196Z"
   },
   {
    "duration": 155,
    "start_time": "2025-05-05T10:04:31.721Z"
   },
   {
    "duration": 5,
    "start_time": "2025-05-05T10:04:31.878Z"
   },
   {
    "duration": 18,
    "start_time": "2025-05-05T10:04:31.885Z"
   },
   {
    "duration": 19,
    "start_time": "2025-05-05T10:04:57.719Z"
   },
   {
    "duration": 1563,
    "start_time": "2025-05-05T10:04:58.230Z"
   },
   {
    "duration": 2582,
    "start_time": "2025-05-05T10:05:42.099Z"
   },
   {
    "duration": 1484,
    "start_time": "2025-05-05T10:05:44.684Z"
   },
   {
    "duration": 3,
    "start_time": "2025-05-05T10:05:46.170Z"
   },
   {
    "duration": 100,
    "start_time": "2025-05-05T10:05:46.174Z"
   },
   {
    "duration": 32,
    "start_time": "2025-05-05T10:05:46.277Z"
   },
   {
    "duration": 102,
    "start_time": "2025-05-05T10:05:46.310Z"
   },
   {
    "duration": 1137,
    "start_time": "2025-05-05T10:05:46.414Z"
   },
   {
    "duration": 174,
    "start_time": "2025-05-05T10:05:47.553Z"
   },
   {
    "duration": 163,
    "start_time": "2025-05-05T10:05:47.729Z"
   },
   {
    "duration": 191,
    "start_time": "2025-05-05T10:05:47.894Z"
   },
   {
    "duration": 330,
    "start_time": "2025-05-05T10:05:48.087Z"
   },
   {
    "duration": 505,
    "start_time": "2025-05-05T10:05:48.418Z"
   },
   {
    "duration": 1096,
    "start_time": "2025-05-05T10:05:48.925Z"
   },
   {
    "duration": 210,
    "start_time": "2025-05-05T10:05:50.024Z"
   },
   {
    "duration": 9,
    "start_time": "2025-05-05T10:05:50.236Z"
   },
   {
    "duration": 83,
    "start_time": "2025-05-05T10:05:50.247Z"
   },
   {
    "duration": 162,
    "start_time": "2025-05-05T10:05:50.332Z"
   },
   {
    "duration": 101,
    "start_time": "2025-05-05T10:05:50.496Z"
   },
   {
    "duration": 62,
    "start_time": "2025-05-05T10:05:50.599Z"
   },
   {
    "duration": 37,
    "start_time": "2025-05-05T10:05:50.663Z"
   },
   {
    "duration": 524,
    "start_time": "2025-05-05T10:05:50.703Z"
   },
   {
    "duration": 60,
    "start_time": "2025-05-05T10:05:51.229Z"
   },
   {
    "duration": 25,
    "start_time": "2025-05-05T10:05:51.290Z"
   },
   {
    "duration": 1581,
    "start_time": "2025-05-05T10:05:51.317Z"
   },
   {
    "duration": 0,
    "start_time": "2025-05-05T10:05:52.901Z"
   },
   {
    "duration": 0,
    "start_time": "2025-05-05T10:05:52.902Z"
   },
   {
    "duration": 0,
    "start_time": "2025-05-05T10:05:52.903Z"
   },
   {
    "duration": 0,
    "start_time": "2025-05-05T10:05:52.904Z"
   },
   {
    "duration": 0,
    "start_time": "2025-05-05T10:05:52.905Z"
   },
   {
    "duration": 1,
    "start_time": "2025-05-05T10:05:52.906Z"
   },
   {
    "duration": 0,
    "start_time": "2025-05-05T10:05:52.908Z"
   },
   {
    "duration": 0,
    "start_time": "2025-05-05T10:05:52.909Z"
   },
   {
    "duration": 2744,
    "start_time": "2025-05-05T10:06:43.457Z"
   },
   {
    "duration": 1602,
    "start_time": "2025-05-05T10:06:46.204Z"
   },
   {
    "duration": 3,
    "start_time": "2025-05-05T10:06:47.807Z"
   },
   {
    "duration": 7,
    "start_time": "2025-05-05T10:06:47.811Z"
   },
   {
    "duration": 5,
    "start_time": "2025-05-05T10:06:47.821Z"
   },
   {
    "duration": 19,
    "start_time": "2025-05-05T10:06:47.828Z"
   },
   {
    "duration": 1037,
    "start_time": "2025-05-05T10:06:47.849Z"
   },
   {
    "duration": 180,
    "start_time": "2025-05-05T10:06:48.888Z"
   },
   {
    "duration": 151,
    "start_time": "2025-05-05T10:06:49.070Z"
   },
   {
    "duration": 197,
    "start_time": "2025-05-05T10:06:49.223Z"
   },
   {
    "duration": 313,
    "start_time": "2025-05-05T10:06:49.422Z"
   },
   {
    "duration": 549,
    "start_time": "2025-05-05T10:06:49.737Z"
   },
   {
    "duration": 1056,
    "start_time": "2025-05-05T10:06:50.287Z"
   },
   {
    "duration": 188,
    "start_time": "2025-05-05T10:06:51.346Z"
   },
   {
    "duration": 9,
    "start_time": "2025-05-05T10:06:51.536Z"
   },
   {
    "duration": 108,
    "start_time": "2025-05-05T10:06:51.547Z"
   },
   {
    "duration": 252,
    "start_time": "2025-05-05T10:06:51.657Z"
   },
   {
    "duration": 88,
    "start_time": "2025-05-05T10:06:51.911Z"
   },
   {
    "duration": 68,
    "start_time": "2025-05-05T10:06:52.002Z"
   },
   {
    "duration": 37,
    "start_time": "2025-05-05T10:06:52.072Z"
   },
   {
    "duration": 522,
    "start_time": "2025-05-05T10:06:52.111Z"
   },
   {
    "duration": 66,
    "start_time": "2025-05-05T10:06:52.635Z"
   },
   {
    "duration": 25,
    "start_time": "2025-05-05T10:06:52.703Z"
   },
   {
    "duration": 437,
    "start_time": "2025-05-05T10:06:52.730Z"
   },
   {
    "duration": 463,
    "start_time": "2025-05-05T10:06:53.168Z"
   },
   {
    "duration": 51,
    "start_time": "2025-05-05T10:06:53.633Z"
   },
   {
    "duration": 81,
    "start_time": "2025-05-05T10:06:53.687Z"
   },
   {
    "duration": 578,
    "start_time": "2025-05-05T10:06:53.770Z"
   },
   {
    "duration": 596,
    "start_time": "2025-05-05T10:06:54.349Z"
   },
   {
    "duration": 202,
    "start_time": "2025-05-05T10:06:54.947Z"
   },
   {
    "duration": 12,
    "start_time": "2025-05-05T10:06:55.151Z"
   },
   {
    "duration": 20,
    "start_time": "2025-05-05T10:06:55.165Z"
   },
   {
    "duration": 2692,
    "start_time": "2025-05-05T10:07:31.167Z"
   },
   {
    "duration": 1583,
    "start_time": "2025-05-05T10:07:33.862Z"
   },
   {
    "duration": 3,
    "start_time": "2025-05-05T10:07:35.447Z"
   },
   {
    "duration": 206,
    "start_time": "2025-05-05T10:07:35.452Z"
   },
   {
    "duration": 125,
    "start_time": "2025-05-05T10:07:35.660Z"
   },
   {
    "duration": 46,
    "start_time": "2025-05-05T10:07:35.786Z"
   },
   {
    "duration": 1097,
    "start_time": "2025-05-05T10:07:35.834Z"
   },
   {
    "duration": 163,
    "start_time": "2025-05-05T10:07:36.933Z"
   },
   {
    "duration": 163,
    "start_time": "2025-05-05T10:07:37.098Z"
   },
   {
    "duration": 198,
    "start_time": "2025-05-05T10:07:37.263Z"
   },
   {
    "duration": 437,
    "start_time": "2025-05-05T10:07:37.463Z"
   },
   {
    "duration": 538,
    "start_time": "2025-05-05T10:07:37.902Z"
   },
   {
    "duration": 1058,
    "start_time": "2025-05-05T10:07:38.442Z"
   },
   {
    "duration": 187,
    "start_time": "2025-05-05T10:07:39.502Z"
   },
   {
    "duration": 8,
    "start_time": "2025-05-05T10:07:39.691Z"
   },
   {
    "duration": 135,
    "start_time": "2025-05-05T10:07:39.701Z"
   },
   {
    "duration": 126,
    "start_time": "2025-05-05T10:07:39.838Z"
   },
   {
    "duration": 72,
    "start_time": "2025-05-05T10:07:39.966Z"
   },
   {
    "duration": 72,
    "start_time": "2025-05-05T10:07:40.040Z"
   },
   {
    "duration": 34,
    "start_time": "2025-05-05T10:07:40.114Z"
   },
   {
    "duration": 488,
    "start_time": "2025-05-05T10:07:40.150Z"
   },
   {
    "duration": 62,
    "start_time": "2025-05-05T10:07:40.640Z"
   },
   {
    "duration": 57,
    "start_time": "2025-05-05T10:07:40.704Z"
   },
   {
    "duration": 412,
    "start_time": "2025-05-05T10:07:40.763Z"
   },
   {
    "duration": 420,
    "start_time": "2025-05-05T10:07:41.176Z"
   },
   {
    "duration": 36,
    "start_time": "2025-05-05T10:07:41.598Z"
   },
   {
    "duration": 56,
    "start_time": "2025-05-05T10:07:41.636Z"
   },
   {
    "duration": 530,
    "start_time": "2025-05-05T10:07:41.694Z"
   },
   {
    "duration": 494,
    "start_time": "2025-05-05T10:07:42.225Z"
   },
   {
    "duration": 172,
    "start_time": "2025-05-05T10:07:42.720Z"
   },
   {
    "duration": 5,
    "start_time": "2025-05-05T10:07:42.894Z"
   },
   {
    "duration": 25,
    "start_time": "2025-05-05T10:07:42.902Z"
   },
   {
    "duration": 29,
    "start_time": "2025-05-05T10:08:56.859Z"
   },
   {
    "duration": 395,
    "start_time": "2025-05-05T10:09:04.442Z"
   },
   {
    "duration": 6,
    "start_time": "2025-05-05T10:11:58.379Z"
   },
   {
    "duration": 2,
    "start_time": "2025-05-05T10:12:06.848Z"
   },
   {
    "duration": 24,
    "start_time": "2025-05-05T10:12:29.976Z"
   },
   {
    "duration": 397,
    "start_time": "2025-05-05T10:12:30.796Z"
   },
   {
    "duration": 2688,
    "start_time": "2025-05-05T10:12:40.277Z"
   },
   {
    "duration": 1591,
    "start_time": "2025-05-05T10:12:42.968Z"
   },
   {
    "duration": 2,
    "start_time": "2025-05-05T10:12:44.561Z"
   },
   {
    "duration": 151,
    "start_time": "2025-05-05T10:12:44.565Z"
   },
   {
    "duration": 22,
    "start_time": "2025-05-05T10:12:44.718Z"
   },
   {
    "duration": 58,
    "start_time": "2025-05-05T10:12:44.741Z"
   },
   {
    "duration": 1070,
    "start_time": "2025-05-05T10:12:44.801Z"
   },
   {
    "duration": 169,
    "start_time": "2025-05-05T10:12:45.873Z"
   },
   {
    "duration": 154,
    "start_time": "2025-05-05T10:12:46.045Z"
   },
   {
    "duration": 289,
    "start_time": "2025-05-05T10:12:46.200Z"
   },
   {
    "duration": 347,
    "start_time": "2025-05-05T10:12:46.491Z"
   },
   {
    "duration": 521,
    "start_time": "2025-05-05T10:12:46.840Z"
   },
   {
    "duration": 1100,
    "start_time": "2025-05-05T10:12:47.363Z"
   },
   {
    "duration": 195,
    "start_time": "2025-05-05T10:12:48.467Z"
   },
   {
    "duration": 8,
    "start_time": "2025-05-05T10:12:48.664Z"
   },
   {
    "duration": 45,
    "start_time": "2025-05-05T10:12:48.674Z"
   },
   {
    "duration": 120,
    "start_time": "2025-05-05T10:12:48.721Z"
   },
   {
    "duration": 75,
    "start_time": "2025-05-05T10:12:48.843Z"
   },
   {
    "duration": 65,
    "start_time": "2025-05-05T10:12:48.920Z"
   },
   {
    "duration": 37,
    "start_time": "2025-05-05T10:12:48.987Z"
   },
   {
    "duration": 495,
    "start_time": "2025-05-05T10:12:49.026Z"
   },
   {
    "duration": 59,
    "start_time": "2025-05-05T10:12:49.523Z"
   },
   {
    "duration": 79,
    "start_time": "2025-05-05T10:12:49.583Z"
   },
   {
    "duration": 412,
    "start_time": "2025-05-05T10:12:49.663Z"
   },
   {
    "duration": 3,
    "start_time": "2025-05-05T10:12:50.077Z"
   },
   {
    "duration": 24,
    "start_time": "2025-05-05T10:12:50.082Z"
   },
   {
    "duration": 561,
    "start_time": "2025-05-05T10:12:50.108Z"
   },
   {
    "duration": 32,
    "start_time": "2025-05-05T10:12:50.671Z"
   },
   {
    "duration": 56,
    "start_time": "2025-05-05T10:12:50.705Z"
   },
   {
    "duration": 441,
    "start_time": "2025-05-05T10:12:50.762Z"
   },
   {
    "duration": 497,
    "start_time": "2025-05-05T10:12:51.205Z"
   },
   {
    "duration": 174,
    "start_time": "2025-05-05T10:12:51.704Z"
   },
   {
    "duration": 5,
    "start_time": "2025-05-05T10:12:51.880Z"
   },
   {
    "duration": 19,
    "start_time": "2025-05-05T10:12:51.887Z"
   },
   {
    "duration": 148,
    "start_time": "2025-05-05T10:16:17.978Z"
   },
   {
    "duration": 294,
    "start_time": "2025-05-05T10:16:24.490Z"
   },
   {
    "duration": 5,
    "start_time": "2025-05-05T10:16:46.117Z"
   },
   {
    "duration": 323,
    "start_time": "2025-05-05T10:16:49.945Z"
   },
   {
    "duration": 155,
    "start_time": "2025-05-05T10:16:52.687Z"
   },
   {
    "duration": 262,
    "start_time": "2025-05-05T10:18:05.883Z"
   },
   {
    "duration": 3719,
    "start_time": "2025-05-05T10:18:46.646Z"
   },
   {
    "duration": 20,
    "start_time": "2025-05-05T10:19:15.928Z"
   },
   {
    "duration": 32,
    "start_time": "2025-05-05T10:21:49.019Z"
   },
   {
    "duration": 31,
    "start_time": "2025-05-05T10:22:05.642Z"
   },
   {
    "duration": 30,
    "start_time": "2025-05-05T10:22:10.378Z"
   },
   {
    "duration": 150,
    "start_time": "2025-05-05T10:22:18.992Z"
   },
   {
    "duration": 30,
    "start_time": "2025-05-05T10:23:02.202Z"
   },
   {
    "duration": 274,
    "start_time": "2025-05-05T10:24:32.839Z"
   },
   {
    "duration": 380,
    "start_time": "2025-05-05T10:24:44.434Z"
   },
   {
    "duration": 328,
    "start_time": "2025-05-05T10:24:52.788Z"
   },
   {
    "duration": 32,
    "start_time": "2025-05-05T10:25:24.307Z"
   },
   {
    "duration": 31,
    "start_time": "2025-05-05T10:26:17.724Z"
   },
   {
    "duration": 32,
    "start_time": "2025-05-05T10:26:22.104Z"
   },
   {
    "duration": 294,
    "start_time": "2025-05-05T10:28:51.743Z"
   },
   {
    "duration": 626,
    "start_time": "2025-05-05T10:30:29.062Z"
   },
   {
    "duration": 443,
    "start_time": "2025-05-05T10:30:57.418Z"
   },
   {
    "duration": 48,
    "start_time": "2025-05-05T10:31:37.467Z"
   },
   {
    "duration": 381,
    "start_time": "2025-05-05T10:32:22.799Z"
   },
   {
    "duration": 402,
    "start_time": "2025-05-05T10:32:27.176Z"
   },
   {
    "duration": 331,
    "start_time": "2025-05-05T10:32:31.039Z"
   },
   {
    "duration": 2630,
    "start_time": "2025-05-05T10:33:58.626Z"
   },
   {
    "duration": 1524,
    "start_time": "2025-05-05T10:34:01.259Z"
   },
   {
    "duration": 3,
    "start_time": "2025-05-05T10:34:02.785Z"
   },
   {
    "duration": 85,
    "start_time": "2025-05-05T10:34:02.789Z"
   },
   {
    "duration": 65,
    "start_time": "2025-05-05T10:34:02.876Z"
   },
   {
    "duration": 42,
    "start_time": "2025-05-05T10:34:02.942Z"
   },
   {
    "duration": 1056,
    "start_time": "2025-05-05T10:34:02.986Z"
   },
   {
    "duration": 193,
    "start_time": "2025-05-05T10:34:04.045Z"
   },
   {
    "duration": 166,
    "start_time": "2025-05-05T10:34:04.239Z"
   },
   {
    "duration": 189,
    "start_time": "2025-05-05T10:34:04.407Z"
   },
   {
    "duration": 354,
    "start_time": "2025-05-05T10:34:04.598Z"
   },
   {
    "duration": 530,
    "start_time": "2025-05-05T10:34:04.954Z"
   },
   {
    "duration": 1102,
    "start_time": "2025-05-05T10:34:05.487Z"
   },
   {
    "duration": 226,
    "start_time": "2025-05-05T10:34:06.592Z"
   },
   {
    "duration": 68,
    "start_time": "2025-05-05T10:34:06.820Z"
   },
   {
    "duration": 66,
    "start_time": "2025-05-05T10:34:06.889Z"
   },
   {
    "duration": 120,
    "start_time": "2025-05-05T10:34:06.957Z"
   },
   {
    "duration": 73,
    "start_time": "2025-05-05T10:34:07.079Z"
   },
   {
    "duration": 62,
    "start_time": "2025-05-05T10:34:07.154Z"
   },
   {
    "duration": 48,
    "start_time": "2025-05-05T10:34:07.218Z"
   },
   {
    "duration": 506,
    "start_time": "2025-05-05T10:34:07.267Z"
   },
   {
    "duration": 43,
    "start_time": "2025-05-05T10:34:07.775Z"
   },
   {
    "duration": 117,
    "start_time": "2025-05-05T10:34:07.820Z"
   },
   {
    "duration": 396,
    "start_time": "2025-05-05T10:34:07.939Z"
   },
   {
    "duration": 3,
    "start_time": "2025-05-05T10:34:08.338Z"
   },
   {
    "duration": 64,
    "start_time": "2025-05-05T10:34:08.343Z"
   },
   {
    "duration": 521,
    "start_time": "2025-05-05T10:34:08.409Z"
   },
   {
    "duration": 241,
    "start_time": "2025-05-05T10:34:08.932Z"
   },
   {
    "duration": 328,
    "start_time": "2025-05-05T10:34:09.175Z"
   },
   {
    "duration": 272,
    "start_time": "2025-05-05T10:34:09.505Z"
   },
   {
    "duration": 36,
    "start_time": "2025-05-05T10:34:09.779Z"
   },
   {
    "duration": 417,
    "start_time": "2025-05-05T10:34:09.816Z"
   },
   {
    "duration": 328,
    "start_time": "2025-05-05T10:34:10.235Z"
   },
   {
    "duration": 35,
    "start_time": "2025-05-05T10:34:10.565Z"
   },
   {
    "duration": 395,
    "start_time": "2025-05-05T10:34:10.602Z"
   },
   {
    "duration": 266,
    "start_time": "2025-05-05T10:34:10.998Z"
   },
   {
    "duration": 12,
    "start_time": "2025-05-05T10:34:11.266Z"
   },
   {
    "duration": 76,
    "start_time": "2025-05-05T10:42:08.841Z"
   },
   {
    "duration": 6,
    "start_time": "2025-05-05T10:44:03.854Z"
   },
   {
    "duration": 35,
    "start_time": "2025-05-05T10:46:04.912Z"
   },
   {
    "duration": 11,
    "start_time": "2025-05-05T10:48:22.431Z"
   },
   {
    "duration": 5576,
    "start_time": "2025-05-05T10:48:59.898Z"
   },
   {
    "duration": 2623,
    "start_time": "2025-05-05T10:49:39.546Z"
   },
   {
    "duration": 1538,
    "start_time": "2025-05-05T10:49:42.172Z"
   },
   {
    "duration": 4,
    "start_time": "2025-05-05T10:49:43.712Z"
   },
   {
    "duration": 161,
    "start_time": "2025-05-05T10:49:43.718Z"
   },
   {
    "duration": 119,
    "start_time": "2025-05-05T10:49:43.882Z"
   },
   {
    "duration": 20,
    "start_time": "2025-05-05T10:49:44.003Z"
   },
   {
    "duration": 1046,
    "start_time": "2025-05-05T10:49:44.025Z"
   },
   {
    "duration": 178,
    "start_time": "2025-05-05T10:49:45.073Z"
   },
   {
    "duration": 169,
    "start_time": "2025-05-05T10:49:45.253Z"
   },
   {
    "duration": 202,
    "start_time": "2025-05-05T10:49:45.424Z"
   },
   {
    "duration": 354,
    "start_time": "2025-05-05T10:49:45.628Z"
   },
   {
    "duration": 534,
    "start_time": "2025-05-05T10:49:45.984Z"
   },
   {
    "duration": 1146,
    "start_time": "2025-05-05T10:49:46.520Z"
   },
   {
    "duration": 198,
    "start_time": "2025-05-05T10:49:47.669Z"
   },
   {
    "duration": 9,
    "start_time": "2025-05-05T10:49:47.869Z"
   },
   {
    "duration": 170,
    "start_time": "2025-05-05T10:49:47.879Z"
   },
   {
    "duration": 133,
    "start_time": "2025-05-05T10:49:48.051Z"
   },
   {
    "duration": 112,
    "start_time": "2025-05-05T10:49:48.186Z"
   },
   {
    "duration": 67,
    "start_time": "2025-05-05T10:49:48.300Z"
   },
   {
    "duration": 38,
    "start_time": "2025-05-05T10:49:48.368Z"
   },
   {
    "duration": 546,
    "start_time": "2025-05-05T10:49:48.407Z"
   },
   {
    "duration": 43,
    "start_time": "2025-05-05T10:49:48.960Z"
   },
   {
    "duration": 296,
    "start_time": "2025-05-05T10:49:49.005Z"
   },
   {
    "duration": 405,
    "start_time": "2025-05-05T10:49:49.303Z"
   },
   {
    "duration": 3,
    "start_time": "2025-05-05T10:49:49.710Z"
   },
   {
    "duration": 266,
    "start_time": "2025-05-05T10:49:49.715Z"
   },
   {
    "duration": 571,
    "start_time": "2025-05-05T10:49:49.983Z"
   },
   {
    "duration": 238,
    "start_time": "2025-05-05T10:49:50.555Z"
   },
   {
    "duration": 338,
    "start_time": "2025-05-05T10:49:50.795Z"
   },
   {
    "duration": 271,
    "start_time": "2025-05-05T10:49:51.135Z"
   },
   {
    "duration": 36,
    "start_time": "2025-05-05T10:49:51.408Z"
   },
   {
    "duration": 358,
    "start_time": "2025-05-05T10:49:51.461Z"
   },
   {
    "duration": 331,
    "start_time": "2025-05-05T10:49:51.822Z"
   },
   {
    "duration": 34,
    "start_time": "2025-05-05T10:49:52.160Z"
   },
   {
    "duration": 92,
    "start_time": "2025-05-05T10:49:52.196Z"
   },
   {
    "duration": 388,
    "start_time": "2025-05-05T10:49:52.290Z"
   },
   {
    "duration": 268,
    "start_time": "2025-05-05T10:49:52.680Z"
   },
   {
    "duration": 5576,
    "start_time": "2025-05-05T10:49:52.950Z"
   },
   {
    "duration": 7,
    "start_time": "2025-05-05T10:50:44.725Z"
   },
   {
    "duration": 2664,
    "start_time": "2025-05-05T10:50:50.285Z"
   },
   {
    "duration": 1597,
    "start_time": "2025-05-05T10:50:52.951Z"
   },
   {
    "duration": 2,
    "start_time": "2025-05-05T10:50:54.550Z"
   },
   {
    "duration": 9,
    "start_time": "2025-05-05T10:50:54.554Z"
   },
   {
    "duration": 5,
    "start_time": "2025-05-05T10:50:54.566Z"
   },
   {
    "duration": 17,
    "start_time": "2025-05-05T10:50:54.572Z"
   },
   {
    "duration": 1032,
    "start_time": "2025-05-05T10:50:54.590Z"
   },
   {
    "duration": 171,
    "start_time": "2025-05-05T10:50:55.624Z"
   },
   {
    "duration": 222,
    "start_time": "2025-05-05T10:50:55.797Z"
   },
   {
    "duration": 195,
    "start_time": "2025-05-05T10:50:56.021Z"
   },
   {
    "duration": 323,
    "start_time": "2025-05-05T10:50:56.218Z"
   },
   {
    "duration": 556,
    "start_time": "2025-05-05T10:50:56.543Z"
   },
   {
    "duration": 1087,
    "start_time": "2025-05-05T10:50:57.101Z"
   },
   {
    "duration": 195,
    "start_time": "2025-05-05T10:50:58.191Z"
   },
   {
    "duration": 9,
    "start_time": "2025-05-05T10:50:58.387Z"
   },
   {
    "duration": 176,
    "start_time": "2025-05-05T10:50:58.397Z"
   },
   {
    "duration": 24,
    "start_time": "2025-05-05T10:50:58.575Z"
   },
   {
    "duration": 189,
    "start_time": "2025-05-05T10:50:58.600Z"
   },
   {
    "duration": 274,
    "start_time": "2025-05-05T10:50:58.790Z"
   },
   {
    "duration": 54,
    "start_time": "2025-05-05T10:50:59.066Z"
   },
   {
    "duration": 55,
    "start_time": "2025-05-05T10:50:59.122Z"
   },
   {
    "duration": 498,
    "start_time": "2025-05-05T10:50:59.179Z"
   },
   {
    "duration": 46,
    "start_time": "2025-05-05T10:50:59.679Z"
   },
   {
    "duration": 110,
    "start_time": "2025-05-05T10:50:59.727Z"
   },
   {
    "duration": 444,
    "start_time": "2025-05-05T10:50:59.839Z"
   },
   {
    "duration": 3,
    "start_time": "2025-05-05T10:51:00.286Z"
   },
   {
    "duration": 285,
    "start_time": "2025-05-05T10:51:00.292Z"
   },
   {
    "duration": 1054,
    "start_time": "2025-05-05T10:51:00.580Z"
   },
   {
    "duration": 241,
    "start_time": "2025-05-05T10:51:01.636Z"
   },
   {
    "duration": 341,
    "start_time": "2025-05-05T10:51:01.879Z"
   },
   {
    "duration": 277,
    "start_time": "2025-05-05T10:51:02.223Z"
   },
   {
    "duration": 36,
    "start_time": "2025-05-05T10:51:02.502Z"
   },
   {
    "duration": 368,
    "start_time": "2025-05-05T10:51:02.540Z"
   },
   {
    "duration": 330,
    "start_time": "2025-05-05T10:51:02.910Z"
   },
   {
    "duration": 43,
    "start_time": "2025-05-05T10:51:03.243Z"
   },
   {
    "duration": 81,
    "start_time": "2025-05-05T10:51:03.287Z"
   },
   {
    "duration": 378,
    "start_time": "2025-05-05T10:51:03.370Z"
   },
   {
    "duration": 282,
    "start_time": "2025-05-05T10:51:03.750Z"
   },
   {
    "duration": 5607,
    "start_time": "2025-05-05T10:51:04.034Z"
   },
   {
    "duration": 527,
    "start_time": "2025-05-05T10:51:44.873Z"
   },
   {
    "duration": 24,
    "start_time": "2025-05-05T10:52:17.905Z"
   },
   {
    "duration": 23,
    "start_time": "2025-05-05T10:52:29.384Z"
   },
   {
    "duration": 27,
    "start_time": "2025-05-05T10:52:47.164Z"
   },
   {
    "duration": 32,
    "start_time": "2025-05-05T10:55:54.896Z"
   },
   {
    "duration": 36,
    "start_time": "2025-05-05T10:55:55.527Z"
   },
   {
    "duration": 299,
    "start_time": "2025-05-05T10:59:30.579Z"
   },
   {
    "duration": 2710,
    "start_time": "2025-05-05T10:59:40.757Z"
   },
   {
    "duration": 1564,
    "start_time": "2025-05-05T10:59:43.471Z"
   },
   {
    "duration": 3,
    "start_time": "2025-05-05T10:59:45.037Z"
   },
   {
    "duration": 60,
    "start_time": "2025-05-05T10:59:45.043Z"
   },
   {
    "duration": 29,
    "start_time": "2025-05-05T10:59:45.105Z"
   },
   {
    "duration": 67,
    "start_time": "2025-05-05T10:59:45.136Z"
   },
   {
    "duration": 1142,
    "start_time": "2025-05-05T10:59:45.205Z"
   },
   {
    "duration": 176,
    "start_time": "2025-05-05T10:59:46.349Z"
   },
   {
    "duration": 169,
    "start_time": "2025-05-05T10:59:46.527Z"
   },
   {
    "duration": 227,
    "start_time": "2025-05-05T10:59:46.698Z"
   },
   {
    "duration": 355,
    "start_time": "2025-05-05T10:59:46.927Z"
   },
   {
    "duration": 587,
    "start_time": "2025-05-05T10:59:47.284Z"
   },
   {
    "duration": 1134,
    "start_time": "2025-05-05T10:59:47.873Z"
   },
   {
    "duration": 207,
    "start_time": "2025-05-05T10:59:49.010Z"
   },
   {
    "duration": 13,
    "start_time": "2025-05-05T10:59:49.219Z"
   },
   {
    "duration": 68,
    "start_time": "2025-05-05T10:59:49.234Z"
   },
   {
    "duration": 115,
    "start_time": "2025-05-05T10:59:49.304Z"
   },
   {
    "duration": 79,
    "start_time": "2025-05-05T10:59:49.421Z"
   },
   {
    "duration": 65,
    "start_time": "2025-05-05T10:59:49.502Z"
   },
   {
    "duration": 37,
    "start_time": "2025-05-05T10:59:49.569Z"
   },
   {
    "duration": 556,
    "start_time": "2025-05-05T10:59:49.608Z"
   },
   {
    "duration": 49,
    "start_time": "2025-05-05T10:59:50.166Z"
   },
   {
    "duration": 45,
    "start_time": "2025-05-05T10:59:50.217Z"
   },
   {
    "duration": 436,
    "start_time": "2025-05-05T10:59:50.264Z"
   },
   {
    "duration": 3,
    "start_time": "2025-05-05T10:59:50.702Z"
   },
   {
    "duration": 166,
    "start_time": "2025-05-05T10:59:50.707Z"
   },
   {
    "duration": 604,
    "start_time": "2025-05-05T10:59:50.875Z"
   },
   {
    "duration": 245,
    "start_time": "2025-05-05T10:59:51.482Z"
   },
   {
    "duration": 386,
    "start_time": "2025-05-05T10:59:51.730Z"
   },
   {
    "duration": 281,
    "start_time": "2025-05-05T10:59:52.119Z"
   },
   {
    "duration": 63,
    "start_time": "2025-05-05T10:59:52.403Z"
   },
   {
    "duration": 439,
    "start_time": "2025-05-05T10:59:52.469Z"
   },
   {
    "duration": 52,
    "start_time": "2025-05-05T10:59:52.910Z"
   },
   {
    "duration": 191,
    "start_time": "2025-05-05T10:59:52.964Z"
   },
   {
    "duration": 298,
    "start_time": "2025-05-05T10:59:53.157Z"
   },
   {
    "duration": 37,
    "start_time": "2025-05-05T10:59:53.461Z"
   },
   {
    "duration": 420,
    "start_time": "2025-05-05T10:59:53.500Z"
   },
   {
    "duration": 307,
    "start_time": "2025-05-05T10:59:53.923Z"
   },
   {
    "duration": 5942,
    "start_time": "2025-05-05T10:59:54.232Z"
   },
   {
    "duration": 65,
    "start_time": "2025-05-05T11:26:23.813Z"
   },
   {
    "duration": 13,
    "start_time": "2025-05-05T11:33:03.842Z"
   },
   {
    "duration": 85,
    "start_time": "2025-05-05T11:48:13.808Z"
   },
   {
    "duration": 2794,
    "start_time": "2025-05-05T11:50:06.001Z"
   },
   {
    "duration": 1522,
    "start_time": "2025-05-05T11:50:08.799Z"
   },
   {
    "duration": 3,
    "start_time": "2025-05-05T11:50:10.324Z"
   },
   {
    "duration": 175,
    "start_time": "2025-05-05T11:50:10.329Z"
   },
   {
    "duration": 250,
    "start_time": "2025-05-05T11:50:10.506Z"
   },
   {
    "duration": 37,
    "start_time": "2025-05-05T11:50:10.758Z"
   },
   {
    "duration": 1067,
    "start_time": "2025-05-05T11:50:10.797Z"
   },
   {
    "duration": 170,
    "start_time": "2025-05-05T11:50:11.866Z"
   },
   {
    "duration": 47,
    "start_time": "2025-05-05T11:50:12.038Z"
   },
   {
    "duration": 159,
    "start_time": "2025-05-05T11:50:12.088Z"
   },
   {
    "duration": 413,
    "start_time": "2025-05-05T11:50:12.249Z"
   },
   {
    "duration": 333,
    "start_time": "2025-05-05T11:50:12.665Z"
   },
   {
    "duration": 517,
    "start_time": "2025-05-05T11:50:13.000Z"
   },
   {
    "duration": 1055,
    "start_time": "2025-05-05T11:50:13.522Z"
   },
   {
    "duration": 210,
    "start_time": "2025-05-05T11:50:14.579Z"
   },
   {
    "duration": 10,
    "start_time": "2025-05-05T11:50:14.792Z"
   },
   {
    "duration": 278,
    "start_time": "2025-05-05T11:50:14.804Z"
   },
   {
    "duration": 443,
    "start_time": "2025-05-05T11:50:15.084Z"
   },
   {
    "duration": 98,
    "start_time": "2025-05-05T11:50:15.529Z"
   },
   {
    "duration": 61,
    "start_time": "2025-05-05T11:50:15.629Z"
   },
   {
    "duration": 39,
    "start_time": "2025-05-05T11:50:15.692Z"
   },
   {
    "duration": 496,
    "start_time": "2025-05-05T11:50:15.732Z"
   },
   {
    "duration": 61,
    "start_time": "2025-05-05T11:50:16.230Z"
   },
   {
    "duration": 53,
    "start_time": "2025-05-05T11:50:16.292Z"
   },
   {
    "duration": 436,
    "start_time": "2025-05-05T11:50:16.347Z"
   },
   {
    "duration": 3,
    "start_time": "2025-05-05T11:50:16.785Z"
   },
   {
    "duration": 35,
    "start_time": "2025-05-05T11:50:16.790Z"
   },
   {
    "duration": 564,
    "start_time": "2025-05-05T11:50:16.827Z"
   },
   {
    "duration": 292,
    "start_time": "2025-05-05T11:50:17.393Z"
   },
   {
    "duration": 334,
    "start_time": "2025-05-05T11:50:17.687Z"
   },
   {
    "duration": 269,
    "start_time": "2025-05-05T11:50:18.022Z"
   },
   {
    "duration": 35,
    "start_time": "2025-05-05T11:50:18.293Z"
   },
   {
    "duration": 354,
    "start_time": "2025-05-05T11:50:18.330Z"
   },
   {
    "duration": 34,
    "start_time": "2025-05-05T11:50:18.685Z"
   },
   {
    "duration": 86,
    "start_time": "2025-05-05T11:50:18.721Z"
   },
   {
    "duration": 298,
    "start_time": "2025-05-05T11:50:18.809Z"
   },
   {
    "duration": 35,
    "start_time": "2025-05-05T11:50:19.109Z"
   },
   {
    "duration": 378,
    "start_time": "2025-05-05T11:50:19.161Z"
   },
   {
    "duration": 276,
    "start_time": "2025-05-05T11:50:19.540Z"
   },
   {
    "duration": 5503,
    "start_time": "2025-05-05T11:50:19.818Z"
   },
   {
    "duration": 92,
    "start_time": "2025-05-05T11:50:25.325Z"
   },
   {
    "duration": 13,
    "start_time": "2025-05-05T12:20:01.570Z"
   },
   {
    "duration": 65,
    "start_time": "2025-05-05T12:21:39.481Z"
   },
   {
    "duration": 9,
    "start_time": "2025-05-05T12:24:48.450Z"
   },
   {
    "duration": 20,
    "start_time": "2025-05-05T12:24:59.473Z"
   },
   {
    "duration": 224,
    "start_time": "2025-05-05T12:25:36.091Z"
   },
   {
    "duration": 2684,
    "start_time": "2025-05-05T12:47:43.010Z"
   },
   {
    "duration": 1633,
    "start_time": "2025-05-05T12:47:45.696Z"
   },
   {
    "duration": 3,
    "start_time": "2025-05-05T12:47:47.331Z"
   },
   {
    "duration": 28,
    "start_time": "2025-05-05T12:47:47.335Z"
   },
   {
    "duration": 18,
    "start_time": "2025-05-05T12:47:47.366Z"
   },
   {
    "duration": 15,
    "start_time": "2025-05-05T12:47:47.385Z"
   },
   {
    "duration": 1050,
    "start_time": "2025-05-05T12:47:47.402Z"
   },
   {
    "duration": 175,
    "start_time": "2025-05-05T12:47:48.455Z"
   },
   {
    "duration": 158,
    "start_time": "2025-05-05T12:47:48.632Z"
   },
   {
    "duration": 190,
    "start_time": "2025-05-05T12:47:48.791Z"
   },
   {
    "duration": 356,
    "start_time": "2025-05-05T12:47:48.983Z"
   },
   {
    "duration": 525,
    "start_time": "2025-05-05T12:47:49.341Z"
   },
   {
    "duration": 1080,
    "start_time": "2025-05-05T12:47:49.868Z"
   },
   {
    "duration": 199,
    "start_time": "2025-05-05T12:47:50.951Z"
   },
   {
    "duration": 15,
    "start_time": "2025-05-05T12:47:51.152Z"
   },
   {
    "duration": 47,
    "start_time": "2025-05-05T12:47:51.168Z"
   },
   {
    "duration": 115,
    "start_time": "2025-05-05T12:47:51.216Z"
   },
   {
    "duration": 79,
    "start_time": "2025-05-05T12:47:51.333Z"
   },
   {
    "duration": 66,
    "start_time": "2025-05-05T12:47:51.413Z"
   },
   {
    "duration": 92,
    "start_time": "2025-05-05T12:47:51.481Z"
   },
   {
    "duration": 485,
    "start_time": "2025-05-05T12:47:51.576Z"
   },
   {
    "duration": 45,
    "start_time": "2025-05-05T12:47:52.062Z"
   },
   {
    "duration": 25,
    "start_time": "2025-05-05T12:47:52.109Z"
   },
   {
    "duration": 439,
    "start_time": "2025-05-05T12:47:52.136Z"
   },
   {
    "duration": 3,
    "start_time": "2025-05-05T12:47:52.577Z"
   },
   {
    "duration": 200,
    "start_time": "2025-05-05T12:47:52.582Z"
   },
   {
    "duration": 546,
    "start_time": "2025-05-05T12:47:52.784Z"
   },
   {
    "duration": 242,
    "start_time": "2025-05-05T12:47:53.332Z"
   },
   {
    "duration": 334,
    "start_time": "2025-05-05T12:47:53.576Z"
   },
   {
    "duration": 273,
    "start_time": "2025-05-05T12:47:53.913Z"
   },
   {
    "duration": 37,
    "start_time": "2025-05-05T12:47:54.188Z"
   },
   {
    "duration": 370,
    "start_time": "2025-05-05T12:47:54.227Z"
   },
   {
    "duration": 38,
    "start_time": "2025-05-05T12:47:54.600Z"
   },
   {
    "duration": 215,
    "start_time": "2025-05-05T12:47:54.639Z"
   },
   {
    "duration": 336,
    "start_time": "2025-05-05T12:47:54.855Z"
   },
   {
    "duration": 35,
    "start_time": "2025-05-05T12:47:55.193Z"
   },
   {
    "duration": 404,
    "start_time": "2025-05-05T12:47:55.230Z"
   },
   {
    "duration": 279,
    "start_time": "2025-05-05T12:47:55.636Z"
   },
   {
    "duration": 5576,
    "start_time": "2025-05-05T12:47:55.917Z"
   },
   {
    "duration": 24,
    "start_time": "2025-05-05T12:48:01.495Z"
   },
   {
    "duration": 123,
    "start_time": "2025-05-05T12:48:01.524Z"
   },
   {
    "duration": 14,
    "start_time": "2025-05-05T12:48:01.649Z"
   },
   {
    "duration": 316,
    "start_time": "2025-05-05T12:48:01.665Z"
   },
   {
    "duration": 0,
    "start_time": "2025-05-05T12:48:01.983Z"
   },
   {
    "duration": 0,
    "start_time": "2025-05-05T12:48:01.984Z"
   },
   {
    "duration": 0,
    "start_time": "2025-05-05T12:48:01.985Z"
   },
   {
    "duration": 0,
    "start_time": "2025-05-05T12:48:01.986Z"
   },
   {
    "duration": 0,
    "start_time": "2025-05-05T12:48:01.987Z"
   },
   {
    "duration": 0,
    "start_time": "2025-05-05T12:48:01.988Z"
   },
   {
    "duration": 10502,
    "start_time": "2025-05-05T12:48:59.967Z"
   },
   {
    "duration": 1576,
    "start_time": "2025-05-05T12:49:10.472Z"
   },
   {
    "duration": 12,
    "start_time": "2025-05-05T12:49:12.051Z"
   },
   {
    "duration": 41,
    "start_time": "2025-05-05T12:49:12.065Z"
   },
   {
    "duration": 87,
    "start_time": "2025-05-05T12:49:12.109Z"
   },
   {
    "duration": 43,
    "start_time": "2025-05-05T12:49:12.198Z"
   },
   {
    "duration": 1097,
    "start_time": "2025-05-05T12:49:12.243Z"
   },
   {
    "duration": 344,
    "start_time": "2025-05-05T12:49:13.343Z"
   },
   {
    "duration": 164,
    "start_time": "2025-05-05T12:49:13.690Z"
   },
   {
    "duration": 190,
    "start_time": "2025-05-05T12:49:13.862Z"
   },
   {
    "duration": 348,
    "start_time": "2025-05-05T12:49:14.054Z"
   },
   {
    "duration": 608,
    "start_time": "2025-05-05T12:49:14.404Z"
   },
   {
    "duration": 1144,
    "start_time": "2025-05-05T12:49:15.020Z"
   },
   {
    "duration": 224,
    "start_time": "2025-05-05T12:49:16.170Z"
   },
   {
    "duration": 8,
    "start_time": "2025-05-05T12:49:16.396Z"
   },
   {
    "duration": 133,
    "start_time": "2025-05-05T12:49:16.406Z"
   },
   {
    "duration": 245,
    "start_time": "2025-05-05T12:49:16.541Z"
   },
   {
    "duration": 95,
    "start_time": "2025-05-05T12:49:16.789Z"
   },
   {
    "duration": 95,
    "start_time": "2025-05-05T12:49:16.886Z"
   },
   {
    "duration": 39,
    "start_time": "2025-05-05T12:49:16.983Z"
   },
   {
    "duration": 524,
    "start_time": "2025-05-05T12:49:17.024Z"
   },
   {
    "duration": 50,
    "start_time": "2025-05-05T12:49:17.551Z"
   },
   {
    "duration": 25,
    "start_time": "2025-05-05T12:49:17.603Z"
   },
   {
    "duration": 449,
    "start_time": "2025-05-05T12:49:17.629Z"
   },
   {
    "duration": 3,
    "start_time": "2025-05-05T12:49:18.080Z"
   },
   {
    "duration": 43,
    "start_time": "2025-05-05T12:49:18.085Z"
   },
   {
    "duration": 563,
    "start_time": "2025-05-05T12:49:18.130Z"
   },
   {
    "duration": 236,
    "start_time": "2025-05-05T12:49:18.694Z"
   },
   {
    "duration": 347,
    "start_time": "2025-05-05T12:49:18.932Z"
   },
   {
    "duration": 282,
    "start_time": "2025-05-05T12:49:19.281Z"
   },
   {
    "duration": 38,
    "start_time": "2025-05-05T12:49:19.564Z"
   },
   {
    "duration": 368,
    "start_time": "2025-05-05T12:49:19.604Z"
   },
   {
    "duration": 33,
    "start_time": "2025-05-05T12:49:19.974Z"
   },
   {
    "duration": 78,
    "start_time": "2025-05-05T12:49:20.009Z"
   },
   {
    "duration": 306,
    "start_time": "2025-05-05T12:49:20.089Z"
   },
   {
    "duration": 35,
    "start_time": "2025-05-05T12:49:20.397Z"
   },
   {
    "duration": 597,
    "start_time": "2025-05-05T12:49:20.434Z"
   },
   {
    "duration": 282,
    "start_time": "2025-05-05T12:49:21.033Z"
   },
   {
    "duration": 5702,
    "start_time": "2025-05-05T12:49:21.316Z"
   },
   {
    "duration": 19,
    "start_time": "2025-05-05T12:49:27.020Z"
   },
   {
    "duration": 103,
    "start_time": "2025-05-05T12:49:27.047Z"
   },
   {
    "duration": 20,
    "start_time": "2025-05-05T12:49:27.152Z"
   },
   {
    "duration": 7,
    "start_time": "2025-05-05T12:49:27.174Z"
   },
   {
    "duration": 7,
    "start_time": "2025-05-05T12:49:27.183Z"
   },
   {
    "duration": 7,
    "start_time": "2025-05-05T12:49:27.192Z"
   },
   {
    "duration": 11,
    "start_time": "2025-05-05T12:49:27.201Z"
   },
   {
    "duration": 161,
    "start_time": "2025-05-05T12:49:27.214Z"
   },
   {
    "duration": 0,
    "start_time": "2025-05-05T12:49:27.376Z"
   },
   {
    "duration": 0,
    "start_time": "2025-05-05T12:49:27.378Z"
   },
   {
    "duration": 6,
    "start_time": "2025-05-05T12:56:56.320Z"
   },
   {
    "duration": 47,
    "start_time": "2025-05-05T12:56:56.741Z"
   },
   {
    "duration": 6186,
    "start_time": "2025-05-05T12:57:34.527Z"
   },
   {
    "duration": 1446,
    "start_time": "2025-05-05T12:57:40.716Z"
   },
   {
    "duration": 4,
    "start_time": "2025-05-05T12:57:42.163Z"
   },
   {
    "duration": 30,
    "start_time": "2025-05-05T12:57:42.169Z"
   },
   {
    "duration": 13,
    "start_time": "2025-05-05T12:57:42.202Z"
   },
   {
    "duration": 14,
    "start_time": "2025-05-05T12:57:42.217Z"
   },
   {
    "duration": 1029,
    "start_time": "2025-05-05T12:57:42.233Z"
   },
   {
    "duration": 171,
    "start_time": "2025-05-05T12:57:43.264Z"
   },
   {
    "duration": 162,
    "start_time": "2025-05-05T12:57:43.437Z"
   },
   {
    "duration": 198,
    "start_time": "2025-05-05T12:57:43.601Z"
   },
   {
    "duration": 554,
    "start_time": "2025-05-05T12:57:43.801Z"
   },
   {
    "duration": 558,
    "start_time": "2025-05-05T12:57:44.361Z"
   },
   {
    "duration": 1197,
    "start_time": "2025-05-05T12:57:44.921Z"
   },
   {
    "duration": 240,
    "start_time": "2025-05-05T12:57:46.123Z"
   },
   {
    "duration": 10,
    "start_time": "2025-05-05T12:57:46.365Z"
   },
   {
    "duration": 75,
    "start_time": "2025-05-05T12:57:46.377Z"
   },
   {
    "duration": 268,
    "start_time": "2025-05-05T12:57:46.454Z"
   },
   {
    "duration": 169,
    "start_time": "2025-05-05T12:57:46.724Z"
   },
   {
    "duration": 106,
    "start_time": "2025-05-05T12:57:46.895Z"
   },
   {
    "duration": 41,
    "start_time": "2025-05-05T12:57:47.004Z"
   },
   {
    "duration": 625,
    "start_time": "2025-05-05T12:57:47.060Z"
   },
   {
    "duration": 47,
    "start_time": "2025-05-05T12:57:47.687Z"
   },
   {
    "duration": 61,
    "start_time": "2025-05-05T12:57:47.735Z"
   },
   {
    "duration": 687,
    "start_time": "2025-05-05T12:57:47.798Z"
   },
   {
    "duration": 4,
    "start_time": "2025-05-05T12:57:48.488Z"
   },
   {
    "duration": 95,
    "start_time": "2025-05-05T12:57:48.495Z"
   },
   {
    "duration": 748,
    "start_time": "2025-05-05T12:57:48.592Z"
   },
   {
    "duration": 247,
    "start_time": "2025-05-05T12:57:49.342Z"
   },
   {
    "duration": 369,
    "start_time": "2025-05-05T12:57:49.591Z"
   },
   {
    "duration": 280,
    "start_time": "2025-05-05T12:57:49.962Z"
   },
   {
    "duration": 41,
    "start_time": "2025-05-05T12:57:50.244Z"
   },
   {
    "duration": 385,
    "start_time": "2025-05-05T12:57:50.288Z"
   },
   {
    "duration": 46,
    "start_time": "2025-05-05T12:57:50.676Z"
   },
   {
    "duration": 210,
    "start_time": "2025-05-05T12:57:50.724Z"
   },
   {
    "duration": 327,
    "start_time": "2025-05-05T12:57:50.936Z"
   },
   {
    "duration": 38,
    "start_time": "2025-05-05T12:57:51.264Z"
   },
   {
    "duration": 401,
    "start_time": "2025-05-05T12:57:51.304Z"
   },
   {
    "duration": 275,
    "start_time": "2025-05-05T12:57:51.707Z"
   },
   {
    "duration": 5642,
    "start_time": "2025-05-05T12:57:51.984Z"
   },
   {
    "duration": 13,
    "start_time": "2025-05-05T12:57:57.627Z"
   },
   {
    "duration": 77,
    "start_time": "2025-05-05T12:57:57.645Z"
   },
   {
    "duration": 3,
    "start_time": "2025-05-05T12:57:57.724Z"
   },
   {
    "duration": 8,
    "start_time": "2025-05-05T12:57:57.729Z"
   },
   {
    "duration": 22,
    "start_time": "2025-05-05T12:57:57.739Z"
   },
   {
    "duration": 7,
    "start_time": "2025-05-05T12:57:57.763Z"
   },
   {
    "duration": 157,
    "start_time": "2025-05-05T12:57:57.771Z"
   },
   {
    "duration": 0,
    "start_time": "2025-05-05T12:57:57.931Z"
   },
   {
    "duration": 1,
    "start_time": "2025-05-05T12:57:57.932Z"
   },
   {
    "duration": 8,
    "start_time": "2025-05-05T13:00:56.952Z"
   },
   {
    "duration": 5953,
    "start_time": "2025-05-05T13:03:48.102Z"
   },
   {
    "duration": 1509,
    "start_time": "2025-05-05T13:03:54.058Z"
   },
   {
    "duration": 2,
    "start_time": "2025-05-05T13:03:55.569Z"
   },
   {
    "duration": 14,
    "start_time": "2025-05-05T13:03:55.573Z"
   },
   {
    "duration": 13,
    "start_time": "2025-05-05T13:03:55.590Z"
   },
   {
    "duration": 45,
    "start_time": "2025-05-05T13:03:55.605Z"
   },
   {
    "duration": 1033,
    "start_time": "2025-05-05T13:03:55.652Z"
   },
   {
    "duration": 219,
    "start_time": "2025-05-05T13:03:56.687Z"
   },
   {
    "duration": 169,
    "start_time": "2025-05-05T13:03:56.908Z"
   },
   {
    "duration": 192,
    "start_time": "2025-05-05T13:03:57.079Z"
   },
   {
    "duration": 381,
    "start_time": "2025-05-05T13:03:57.272Z"
   },
   {
    "duration": 542,
    "start_time": "2025-05-05T13:03:57.655Z"
   },
   {
    "duration": 1103,
    "start_time": "2025-05-05T13:03:58.199Z"
   },
   {
    "duration": 209,
    "start_time": "2025-05-05T13:03:59.305Z"
   },
   {
    "duration": 9,
    "start_time": "2025-05-05T13:03:59.516Z"
   },
   {
    "duration": 61,
    "start_time": "2025-05-05T13:03:59.527Z"
   },
   {
    "duration": 115,
    "start_time": "2025-05-05T13:03:59.590Z"
   },
   {
    "duration": 79,
    "start_time": "2025-05-05T13:03:59.707Z"
   },
   {
    "duration": 56,
    "start_time": "2025-05-05T13:03:59.788Z"
   },
   {
    "duration": 221,
    "start_time": "2025-05-05T13:03:59.860Z"
   },
   {
    "duration": 495,
    "start_time": "2025-05-05T13:04:00.083Z"
   },
   {
    "duration": 46,
    "start_time": "2025-05-05T13:04:00.580Z"
   },
   {
    "duration": 276,
    "start_time": "2025-05-05T13:04:00.627Z"
   },
   {
    "duration": 485,
    "start_time": "2025-05-05T13:04:00.905Z"
   },
   {
    "duration": 3,
    "start_time": "2025-05-05T13:04:01.392Z"
   },
   {
    "duration": 42,
    "start_time": "2025-05-05T13:04:01.397Z"
   },
   {
    "duration": 598,
    "start_time": "2025-05-05T13:04:01.441Z"
   },
   {
    "duration": 244,
    "start_time": "2025-05-05T13:04:02.041Z"
   },
   {
    "duration": 340,
    "start_time": "2025-05-05T13:04:02.287Z"
   },
   {
    "duration": 280,
    "start_time": "2025-05-05T13:04:02.629Z"
   },
   {
    "duration": 58,
    "start_time": "2025-05-05T13:04:02.911Z"
   },
   {
    "duration": 359,
    "start_time": "2025-05-05T13:04:02.971Z"
   },
   {
    "duration": 42,
    "start_time": "2025-05-05T13:04:03.332Z"
   },
   {
    "duration": 100,
    "start_time": "2025-05-05T13:04:03.375Z"
   },
   {
    "duration": 297,
    "start_time": "2025-05-05T13:04:03.476Z"
   },
   {
    "duration": 37,
    "start_time": "2025-05-05T13:04:03.775Z"
   },
   {
    "duration": 662,
    "start_time": "2025-05-05T13:04:03.814Z"
   },
   {
    "duration": 289,
    "start_time": "2025-05-05T13:04:04.478Z"
   },
   {
    "duration": 5776,
    "start_time": "2025-05-05T13:04:04.769Z"
   },
   {
    "duration": 16,
    "start_time": "2025-05-05T13:04:10.548Z"
   },
   {
    "duration": 255,
    "start_time": "2025-05-05T13:04:10.568Z"
   },
   {
    "duration": 4,
    "start_time": "2025-05-05T13:04:10.825Z"
   },
   {
    "duration": 125,
    "start_time": "2025-05-05T13:04:10.831Z"
   },
   {
    "duration": 11,
    "start_time": "2025-05-05T13:04:10.958Z"
   },
   {
    "duration": 12,
    "start_time": "2025-05-05T13:04:10.971Z"
   },
   {
    "duration": 6239,
    "start_time": "2025-05-05T13:20:23.131Z"
   },
   {
    "duration": 1483,
    "start_time": "2025-05-05T13:20:29.373Z"
   },
   {
    "duration": 2,
    "start_time": "2025-05-05T13:20:30.858Z"
   },
   {
    "duration": 208,
    "start_time": "2025-05-05T13:20:30.862Z"
   },
   {
    "duration": 67,
    "start_time": "2025-05-05T13:20:31.073Z"
   },
   {
    "duration": 42,
    "start_time": "2025-05-05T13:20:31.142Z"
   },
   {
    "duration": 1103,
    "start_time": "2025-05-05T13:20:31.186Z"
   },
   {
    "duration": 174,
    "start_time": "2025-05-05T13:20:32.291Z"
   },
   {
    "duration": 162,
    "start_time": "2025-05-05T13:20:32.467Z"
   },
   {
    "duration": 432,
    "start_time": "2025-05-05T13:20:32.631Z"
   },
   {
    "duration": 324,
    "start_time": "2025-05-05T13:20:33.066Z"
   },
   {
    "duration": 571,
    "start_time": "2025-05-05T13:20:33.392Z"
   },
   {
    "duration": 1117,
    "start_time": "2025-05-05T13:20:33.965Z"
   },
   {
    "duration": 199,
    "start_time": "2025-05-05T13:20:35.085Z"
   },
   {
    "duration": 9,
    "start_time": "2025-05-05T13:20:35.286Z"
   },
   {
    "duration": 127,
    "start_time": "2025-05-05T13:20:35.297Z"
   },
   {
    "duration": 152,
    "start_time": "2025-05-05T13:20:35.426Z"
   },
   {
    "duration": 143,
    "start_time": "2025-05-05T13:20:35.580Z"
   },
   {
    "duration": 68,
    "start_time": "2025-05-05T13:20:35.725Z"
   },
   {
    "duration": 56,
    "start_time": "2025-05-05T13:20:35.795Z"
   },
   {
    "duration": 508,
    "start_time": "2025-05-05T13:20:35.853Z"
   },
   {
    "duration": 48,
    "start_time": "2025-05-05T13:20:36.363Z"
   },
   {
    "duration": 51,
    "start_time": "2025-05-05T13:20:36.413Z"
   },
   {
    "duration": 461,
    "start_time": "2025-05-05T13:20:36.467Z"
   },
   {
    "duration": 3,
    "start_time": "2025-05-05T13:20:36.931Z"
   },
   {
    "duration": 153,
    "start_time": "2025-05-05T13:20:36.936Z"
   },
   {
    "duration": 575,
    "start_time": "2025-05-05T13:20:37.091Z"
   },
   {
    "duration": 253,
    "start_time": "2025-05-05T13:20:37.669Z"
   },
   {
    "duration": 359,
    "start_time": "2025-05-05T13:20:37.924Z"
   },
   {
    "duration": 275,
    "start_time": "2025-05-05T13:20:38.285Z"
   },
   {
    "duration": 51,
    "start_time": "2025-05-05T13:20:38.562Z"
   },
   {
    "duration": 430,
    "start_time": "2025-05-05T13:20:38.615Z"
   },
   {
    "duration": 38,
    "start_time": "2025-05-05T13:20:39.047Z"
   },
   {
    "duration": 60,
    "start_time": "2025-05-05T13:20:39.087Z"
   },
   {
    "duration": 299,
    "start_time": "2025-05-05T13:20:39.162Z"
   },
   {
    "duration": 37,
    "start_time": "2025-05-05T13:20:39.463Z"
   },
   {
    "duration": 403,
    "start_time": "2025-05-05T13:20:39.501Z"
   },
   {
    "duration": 283,
    "start_time": "2025-05-05T13:20:39.906Z"
   },
   {
    "duration": 5648,
    "start_time": "2025-05-05T13:20:40.190Z"
   },
   {
    "duration": 20,
    "start_time": "2025-05-05T13:20:45.840Z"
   },
   {
    "duration": 131,
    "start_time": "2025-05-05T13:20:45.866Z"
   },
   {
    "duration": 3,
    "start_time": "2025-05-05T13:20:45.999Z"
   },
   {
    "duration": 6,
    "start_time": "2025-05-05T13:20:46.005Z"
   },
   {
    "duration": 17,
    "start_time": "2025-05-05T13:20:46.013Z"
   },
   {
    "duration": 6,
    "start_time": "2025-05-05T13:20:46.032Z"
   },
   {
    "duration": 6230,
    "start_time": "2025-05-05T13:29:25.601Z"
   },
   {
    "duration": 1526,
    "start_time": "2025-05-05T13:29:31.835Z"
   },
   {
    "duration": 3,
    "start_time": "2025-05-05T13:29:33.363Z"
   },
   {
    "duration": 45,
    "start_time": "2025-05-05T13:29:33.368Z"
   },
   {
    "duration": 16,
    "start_time": "2025-05-05T13:29:33.415Z"
   },
   {
    "duration": 17,
    "start_time": "2025-05-05T13:29:33.433Z"
   },
   {
    "duration": 1058,
    "start_time": "2025-05-05T13:29:33.451Z"
   },
   {
    "duration": 167,
    "start_time": "2025-05-05T13:29:34.511Z"
   },
   {
    "duration": 214,
    "start_time": "2025-05-05T13:29:34.680Z"
   },
   {
    "duration": 279,
    "start_time": "2025-05-05T13:29:34.896Z"
   },
   {
    "duration": 343,
    "start_time": "2025-05-05T13:29:35.177Z"
   },
   {
    "duration": 540,
    "start_time": "2025-05-05T13:29:35.522Z"
   },
   {
    "duration": 1112,
    "start_time": "2025-05-05T13:29:36.064Z"
   },
   {
    "duration": 203,
    "start_time": "2025-05-05T13:29:37.180Z"
   },
   {
    "duration": 9,
    "start_time": "2025-05-05T13:29:37.385Z"
   },
   {
    "duration": 116,
    "start_time": "2025-05-05T13:29:37.396Z"
   },
   {
    "duration": 146,
    "start_time": "2025-05-05T13:29:37.515Z"
   },
   {
    "duration": 80,
    "start_time": "2025-05-05T13:29:37.663Z"
   },
   {
    "duration": 72,
    "start_time": "2025-05-05T13:29:37.746Z"
   },
   {
    "duration": 56,
    "start_time": "2025-05-05T13:29:37.821Z"
   },
   {
    "duration": 505,
    "start_time": "2025-05-05T13:29:37.878Z"
   },
   {
    "duration": 47,
    "start_time": "2025-05-05T13:29:38.384Z"
   },
   {
    "duration": 48,
    "start_time": "2025-05-05T13:29:38.434Z"
   },
   {
    "duration": 453,
    "start_time": "2025-05-05T13:29:38.484Z"
   },
   {
    "duration": 3,
    "start_time": "2025-05-05T13:29:38.938Z"
   },
   {
    "duration": 207,
    "start_time": "2025-05-05T13:29:38.943Z"
   },
   {
    "duration": 552,
    "start_time": "2025-05-05T13:29:39.152Z"
   },
   {
    "duration": 233,
    "start_time": "2025-05-05T13:29:39.705Z"
   },
   {
    "duration": 343,
    "start_time": "2025-05-05T13:29:39.940Z"
   },
   {
    "duration": 276,
    "start_time": "2025-05-05T13:29:40.285Z"
   },
   {
    "duration": 51,
    "start_time": "2025-05-05T13:29:40.562Z"
   },
   {
    "duration": 370,
    "start_time": "2025-05-05T13:29:40.615Z"
   },
   {
    "duration": 36,
    "start_time": "2025-05-05T13:29:40.987Z"
   },
   {
    "duration": 164,
    "start_time": "2025-05-05T13:29:41.025Z"
   },
   {
    "duration": 296,
    "start_time": "2025-05-05T13:29:41.191Z"
   },
   {
    "duration": 37,
    "start_time": "2025-05-05T13:29:41.489Z"
   },
   {
    "duration": 397,
    "start_time": "2025-05-05T13:29:41.529Z"
   },
   {
    "duration": 281,
    "start_time": "2025-05-05T13:29:41.928Z"
   },
   {
    "duration": 5675,
    "start_time": "2025-05-05T13:29:42.211Z"
   },
   {
    "duration": 15,
    "start_time": "2025-05-05T13:29:47.888Z"
   },
   {
    "duration": 128,
    "start_time": "2025-05-05T13:29:47.910Z"
   },
   {
    "duration": 4,
    "start_time": "2025-05-05T13:29:48.039Z"
   },
   {
    "duration": 16,
    "start_time": "2025-05-05T13:29:48.045Z"
   },
   {
    "duration": 5,
    "start_time": "2025-05-05T13:29:48.063Z"
   },
   {
    "duration": 8,
    "start_time": "2025-05-05T13:29:48.069Z"
   },
   {
    "duration": 1400835,
    "start_time": "2025-05-05T13:29:48.079Z"
   },
   {
    "duration": 0,
    "start_time": "2025-05-05T13:53:08.916Z"
   },
   {
    "duration": 0,
    "start_time": "2025-05-05T13:53:08.917Z"
   },
   {
    "duration": 0,
    "start_time": "2025-05-05T13:53:08.918Z"
   },
   {
    "duration": 6157,
    "start_time": "2025-05-05T13:53:33.198Z"
   },
   {
    "duration": 1616,
    "start_time": "2025-05-05T13:53:39.358Z"
   },
   {
    "duration": 3,
    "start_time": "2025-05-05T13:53:40.975Z"
   },
   {
    "duration": 69,
    "start_time": "2025-05-05T13:53:40.980Z"
   },
   {
    "duration": 106,
    "start_time": "2025-05-05T13:53:41.052Z"
   },
   {
    "duration": 28,
    "start_time": "2025-05-05T13:53:41.160Z"
   },
   {
    "duration": 1059,
    "start_time": "2025-05-05T13:53:41.190Z"
   },
   {
    "duration": 175,
    "start_time": "2025-05-05T13:53:42.250Z"
   },
   {
    "duration": 163,
    "start_time": "2025-05-05T13:53:42.427Z"
   },
   {
    "duration": 193,
    "start_time": "2025-05-05T13:53:42.592Z"
   },
   {
    "duration": 356,
    "start_time": "2025-05-05T13:53:42.787Z"
   },
   {
    "duration": 570,
    "start_time": "2025-05-05T13:53:43.145Z"
   },
   {
    "duration": 1107,
    "start_time": "2025-05-05T13:53:43.717Z"
   },
   {
    "duration": 218,
    "start_time": "2025-05-05T13:53:44.828Z"
   },
   {
    "duration": 13,
    "start_time": "2025-05-05T13:53:45.048Z"
   },
   {
    "duration": 184,
    "start_time": "2025-05-05T13:53:45.063Z"
   },
   {
    "duration": 427,
    "start_time": "2025-05-05T13:53:45.249Z"
   },
   {
    "duration": 77,
    "start_time": "2025-05-05T13:53:45.677Z"
   },
   {
    "duration": 61,
    "start_time": "2025-05-05T13:53:45.756Z"
   },
   {
    "duration": 50,
    "start_time": "2025-05-05T13:53:45.819Z"
   },
   {
    "duration": 520,
    "start_time": "2025-05-05T13:53:45.871Z"
   },
   {
    "duration": 49,
    "start_time": "2025-05-05T13:53:46.394Z"
   },
   {
    "duration": 231,
    "start_time": "2025-05-05T13:53:46.460Z"
   },
   {
    "duration": 568,
    "start_time": "2025-05-05T13:53:46.693Z"
   },
   {
    "duration": 3,
    "start_time": "2025-05-05T13:53:47.263Z"
   },
   {
    "duration": 109,
    "start_time": "2025-05-05T13:53:47.269Z"
   },
   {
    "duration": 594,
    "start_time": "2025-05-05T13:53:47.380Z"
   },
   {
    "duration": 250,
    "start_time": "2025-05-05T13:53:47.976Z"
   },
   {
    "duration": 354,
    "start_time": "2025-05-05T13:53:48.228Z"
   },
   {
    "duration": 280,
    "start_time": "2025-05-05T13:53:48.584Z"
   },
   {
    "duration": 37,
    "start_time": "2025-05-05T13:53:48.866Z"
   },
   {
    "duration": 368,
    "start_time": "2025-05-05T13:53:48.904Z"
   },
   {
    "duration": 37,
    "start_time": "2025-05-05T13:53:49.274Z"
   },
   {
    "duration": 134,
    "start_time": "2025-05-05T13:53:49.313Z"
   },
   {
    "duration": 352,
    "start_time": "2025-05-05T13:53:49.449Z"
   },
   {
    "duration": 36,
    "start_time": "2025-05-05T13:53:49.803Z"
   },
   {
    "duration": 400,
    "start_time": "2025-05-05T13:53:49.841Z"
   },
   {
    "duration": 284,
    "start_time": "2025-05-05T13:53:50.244Z"
   },
   {
    "duration": 5596,
    "start_time": "2025-05-05T13:53:50.530Z"
   },
   {
    "duration": 170,
    "start_time": "2025-05-05T13:53:56.128Z"
   },
   {
    "duration": 0,
    "start_time": "2025-05-05T13:53:56.300Z"
   },
   {
    "duration": 0,
    "start_time": "2025-05-05T13:53:56.301Z"
   },
   {
    "duration": 0,
    "start_time": "2025-05-05T13:53:56.302Z"
   },
   {
    "duration": 0,
    "start_time": "2025-05-05T13:53:56.303Z"
   },
   {
    "duration": 0,
    "start_time": "2025-05-05T13:53:56.305Z"
   },
   {
    "duration": 0,
    "start_time": "2025-05-05T13:53:56.306Z"
   },
   {
    "duration": 0,
    "start_time": "2025-05-05T13:53:56.307Z"
   },
   {
    "duration": 0,
    "start_time": "2025-05-05T13:53:56.309Z"
   },
   {
    "duration": 0,
    "start_time": "2025-05-05T13:53:56.310Z"
   },
   {
    "duration": 174,
    "start_time": "2025-05-05T13:54:37.271Z"
   },
   {
    "duration": 153,
    "start_time": "2025-05-05T13:56:17.124Z"
   },
   {
    "duration": 160,
    "start_time": "2025-05-05T13:58:49.878Z"
   },
   {
    "duration": 844,
    "start_time": "2025-05-05T13:59:57.088Z"
   },
   {
    "duration": 20,
    "start_time": "2025-05-05T14:02:13.147Z"
   },
   {
    "duration": 6091,
    "start_time": "2025-05-05T14:04:50.707Z"
   },
   {
    "duration": 1479,
    "start_time": "2025-05-05T14:04:56.801Z"
   },
   {
    "duration": 3,
    "start_time": "2025-05-05T14:04:58.282Z"
   },
   {
    "duration": 44,
    "start_time": "2025-05-05T14:04:58.287Z"
   },
   {
    "duration": 45,
    "start_time": "2025-05-05T14:04:58.335Z"
   },
   {
    "duration": 26,
    "start_time": "2025-05-05T14:04:58.382Z"
   },
   {
    "duration": 1062,
    "start_time": "2025-05-05T14:04:58.410Z"
   },
   {
    "duration": 174,
    "start_time": "2025-05-05T14:04:59.474Z"
   },
   {
    "duration": 164,
    "start_time": "2025-05-05T14:04:59.649Z"
   },
   {
    "duration": 199,
    "start_time": "2025-05-05T14:04:59.814Z"
   },
   {
    "duration": 339,
    "start_time": "2025-05-05T14:05:00.014Z"
   },
   {
    "duration": 542,
    "start_time": "2025-05-05T14:05:00.360Z"
   },
   {
    "duration": 1141,
    "start_time": "2025-05-05T14:05:00.903Z"
   },
   {
    "duration": 216,
    "start_time": "2025-05-05T14:05:02.049Z"
   },
   {
    "duration": 9,
    "start_time": "2025-05-05T14:05:02.267Z"
   },
   {
    "duration": 141,
    "start_time": "2025-05-05T14:05:02.278Z"
   },
   {
    "duration": 135,
    "start_time": "2025-05-05T14:05:02.422Z"
   },
   {
    "duration": 89,
    "start_time": "2025-05-05T14:05:02.559Z"
   },
   {
    "duration": 80,
    "start_time": "2025-05-05T14:05:02.650Z"
   },
   {
    "duration": 39,
    "start_time": "2025-05-05T14:05:02.732Z"
   },
   {
    "duration": 598,
    "start_time": "2025-05-05T14:05:02.772Z"
   },
   {
    "duration": 121,
    "start_time": "2025-05-05T14:05:03.372Z"
   },
   {
    "duration": 278,
    "start_time": "2025-05-05T14:05:03.495Z"
   },
   {
    "duration": 602,
    "start_time": "2025-05-05T14:05:03.774Z"
   },
   {
    "duration": 3,
    "start_time": "2025-05-05T14:05:04.378Z"
   },
   {
    "duration": 109,
    "start_time": "2025-05-05T14:05:04.382Z"
   },
   {
    "duration": 599,
    "start_time": "2025-05-05T14:05:04.492Z"
   },
   {
    "duration": 245,
    "start_time": "2025-05-05T14:05:05.094Z"
   },
   {
    "duration": 346,
    "start_time": "2025-05-05T14:05:05.341Z"
   },
   {
    "duration": 273,
    "start_time": "2025-05-05T14:05:05.689Z"
   },
   {
    "duration": 36,
    "start_time": "2025-05-05T14:05:05.965Z"
   },
   {
    "duration": 464,
    "start_time": "2025-05-05T14:05:06.003Z"
   },
   {
    "duration": 34,
    "start_time": "2025-05-05T14:05:06.469Z"
   },
   {
    "duration": 440,
    "start_time": "2025-05-05T14:05:06.504Z"
   },
   {
    "duration": 323,
    "start_time": "2025-05-05T14:05:06.946Z"
   },
   {
    "duration": 37,
    "start_time": "2025-05-05T14:05:07.270Z"
   },
   {
    "duration": 578,
    "start_time": "2025-05-05T14:05:07.308Z"
   },
   {
    "duration": 281,
    "start_time": "2025-05-05T14:05:07.888Z"
   },
   {
    "duration": 5643,
    "start_time": "2025-05-05T14:05:08.171Z"
   },
   {
    "duration": 815436,
    "start_time": "2025-05-05T14:05:13.816Z"
   },
   {
    "duration": 0,
    "start_time": "2025-05-05T14:18:49.254Z"
   },
   {
    "duration": 0,
    "start_time": "2025-05-05T14:18:49.255Z"
   },
   {
    "duration": 0,
    "start_time": "2025-05-05T14:18:49.260Z"
   },
   {
    "duration": 0,
    "start_time": "2025-05-05T14:18:49.261Z"
   },
   {
    "duration": 0,
    "start_time": "2025-05-05T14:18:49.262Z"
   },
   {
    "duration": 0,
    "start_time": "2025-05-05T14:18:49.263Z"
   },
   {
    "duration": 0,
    "start_time": "2025-05-05T14:18:49.264Z"
   },
   {
    "duration": 0,
    "start_time": "2025-05-05T14:18:49.265Z"
   },
   {
    "duration": 0,
    "start_time": "2025-05-05T14:18:49.266Z"
   },
   {
    "duration": 0,
    "start_time": "2025-05-05T14:18:49.267Z"
   },
   {
    "duration": 82,
    "start_time": "2025-05-05T14:20:16.790Z"
   },
   {
    "duration": 5935,
    "start_time": "2025-05-05T14:21:35.876Z"
   },
   {
    "duration": 1418,
    "start_time": "2025-05-05T14:21:41.814Z"
   },
   {
    "duration": 3,
    "start_time": "2025-05-05T14:21:43.233Z"
   },
   {
    "duration": 90,
    "start_time": "2025-05-05T14:21:43.238Z"
   },
   {
    "duration": 34,
    "start_time": "2025-05-05T14:21:43.331Z"
   },
   {
    "duration": 38,
    "start_time": "2025-05-05T14:21:43.367Z"
   },
   {
    "duration": 1120,
    "start_time": "2025-05-05T14:21:43.406Z"
   },
   {
    "duration": 161,
    "start_time": "2025-05-05T14:21:44.528Z"
   },
   {
    "duration": 207,
    "start_time": "2025-05-05T14:21:44.690Z"
   },
   {
    "duration": 189,
    "start_time": "2025-05-05T14:21:44.899Z"
   },
   {
    "duration": 320,
    "start_time": "2025-05-05T14:21:45.089Z"
   },
   {
    "duration": 543,
    "start_time": "2025-05-05T14:21:45.410Z"
   },
   {
    "duration": 1061,
    "start_time": "2025-05-05T14:21:45.954Z"
   },
   {
    "duration": 193,
    "start_time": "2025-05-05T14:21:47.019Z"
   },
   {
    "duration": 8,
    "start_time": "2025-05-05T14:21:47.214Z"
   },
   {
    "duration": 110,
    "start_time": "2025-05-05T14:21:47.224Z"
   },
   {
    "duration": 114,
    "start_time": "2025-05-05T14:21:47.336Z"
   },
   {
    "duration": 212,
    "start_time": "2025-05-05T14:21:47.452Z"
   },
   {
    "duration": 59,
    "start_time": "2025-05-05T14:21:47.666Z"
   },
   {
    "duration": 57,
    "start_time": "2025-05-05T14:21:47.727Z"
   },
   {
    "duration": 479,
    "start_time": "2025-05-05T14:21:47.785Z"
   },
   {
    "duration": 44,
    "start_time": "2025-05-05T14:21:48.266Z"
   },
   {
    "duration": 406,
    "start_time": "2025-05-05T14:21:48.312Z"
   },
   {
    "duration": 393,
    "start_time": "2025-05-05T14:21:48.720Z"
   },
   {
    "duration": 3,
    "start_time": "2025-05-05T14:21:49.115Z"
   },
   {
    "duration": 177,
    "start_time": "2025-05-05T14:21:49.120Z"
   },
   {
    "duration": 525,
    "start_time": "2025-05-05T14:21:49.299Z"
   },
   {
    "duration": 231,
    "start_time": "2025-05-05T14:21:49.825Z"
   },
   {
    "duration": 331,
    "start_time": "2025-05-05T14:21:50.057Z"
   },
   {
    "duration": 266,
    "start_time": "2025-05-05T14:21:50.389Z"
   },
   {
    "duration": 35,
    "start_time": "2025-05-05T14:21:50.657Z"
   },
   {
    "duration": 359,
    "start_time": "2025-05-05T14:21:50.694Z"
   },
   {
    "duration": 37,
    "start_time": "2025-05-05T14:21:51.055Z"
   },
   {
    "duration": 75,
    "start_time": "2025-05-05T14:21:51.094Z"
   },
   {
    "duration": 398,
    "start_time": "2025-05-05T14:21:51.170Z"
   },
   {
    "duration": 35,
    "start_time": "2025-05-05T14:21:51.569Z"
   },
   {
    "duration": 383,
    "start_time": "2025-05-05T14:21:51.606Z"
   },
   {
    "duration": 280,
    "start_time": "2025-05-05T14:21:51.991Z"
   },
   {
    "duration": 5553,
    "start_time": "2025-05-05T14:21:52.273Z"
   },
   {
    "duration": 5888,
    "start_time": "2025-05-05T14:28:19.036Z"
   },
   {
    "duration": 1532,
    "start_time": "2025-05-05T14:28:24.927Z"
   },
   {
    "duration": 2,
    "start_time": "2025-05-05T14:28:26.462Z"
   },
   {
    "duration": 256,
    "start_time": "2025-05-05T14:28:26.466Z"
   },
   {
    "duration": 14,
    "start_time": "2025-05-05T14:28:26.725Z"
   },
   {
    "duration": 29,
    "start_time": "2025-05-05T14:28:26.741Z"
   },
   {
    "duration": 1039,
    "start_time": "2025-05-05T14:28:26.773Z"
   },
   {
    "duration": 176,
    "start_time": "2025-05-05T14:28:27.814Z"
   },
   {
    "duration": 173,
    "start_time": "2025-05-05T14:28:27.992Z"
   },
   {
    "duration": 185,
    "start_time": "2025-05-05T14:28:28.167Z"
   },
   {
    "duration": 330,
    "start_time": "2025-05-05T14:28:28.354Z"
   },
   {
    "duration": 524,
    "start_time": "2025-05-05T14:28:28.686Z"
   },
   {
    "duration": 1097,
    "start_time": "2025-05-05T14:28:29.212Z"
   },
   {
    "duration": 206,
    "start_time": "2025-05-05T14:28:30.313Z"
   },
   {
    "duration": 9,
    "start_time": "2025-05-05T14:28:30.521Z"
   },
   {
    "duration": 153,
    "start_time": "2025-05-05T14:28:30.532Z"
   },
   {
    "duration": 131,
    "start_time": "2025-05-05T14:28:30.687Z"
   },
   {
    "duration": 124,
    "start_time": "2025-05-05T14:28:30.820Z"
   },
   {
    "duration": 122,
    "start_time": "2025-05-05T14:28:30.946Z"
   },
   {
    "duration": 37,
    "start_time": "2025-05-05T14:28:31.070Z"
   },
   {
    "duration": 488,
    "start_time": "2025-05-05T14:28:31.109Z"
   },
   {
    "duration": 62,
    "start_time": "2025-05-05T14:28:31.599Z"
   },
   {
    "duration": 26,
    "start_time": "2025-05-05T14:28:31.663Z"
   },
   {
    "duration": 418,
    "start_time": "2025-05-05T14:28:31.690Z"
   },
   {
    "duration": 3,
    "start_time": "2025-05-05T14:28:32.110Z"
   },
   {
    "duration": 85,
    "start_time": "2025-05-05T14:28:32.114Z"
   },
   {
    "duration": 569,
    "start_time": "2025-05-05T14:28:32.201Z"
   },
   {
    "duration": 232,
    "start_time": "2025-05-05T14:28:32.771Z"
   },
   {
    "duration": 335,
    "start_time": "2025-05-05T14:28:33.005Z"
   },
   {
    "duration": 268,
    "start_time": "2025-05-05T14:28:33.342Z"
   },
   {
    "duration": 36,
    "start_time": "2025-05-05T14:28:33.612Z"
   },
   {
    "duration": 335,
    "start_time": "2025-05-05T14:28:33.662Z"
   },
   {
    "duration": 35,
    "start_time": "2025-05-05T14:28:33.998Z"
   },
   {
    "duration": 77,
    "start_time": "2025-05-05T14:28:34.034Z"
   },
   {
    "duration": 301,
    "start_time": "2025-05-05T14:28:34.112Z"
   },
   {
    "duration": 48,
    "start_time": "2025-05-05T14:28:34.415Z"
   },
   {
    "duration": 384,
    "start_time": "2025-05-05T14:28:34.465Z"
   },
   {
    "duration": 292,
    "start_time": "2025-05-05T14:28:34.851Z"
   },
   {
    "duration": 5557,
    "start_time": "2025-05-05T14:28:35.145Z"
   },
   {
    "duration": 77,
    "start_time": "2025-05-05T14:28:40.704Z"
   },
   {
    "duration": 6076,
    "start_time": "2025-05-05T14:28:40.785Z"
   },
   {
    "duration": 69,
    "start_time": "2025-05-05T14:28:46.863Z"
   },
   {
    "duration": 13924,
    "start_time": "2025-05-05T14:28:46.934Z"
   },
   {
    "duration": 21,
    "start_time": "2025-05-05T14:29:00.860Z"
   },
   {
    "duration": 5905,
    "start_time": "2025-05-05T14:29:56.333Z"
   },
   {
    "duration": 1507,
    "start_time": "2025-05-05T14:30:02.240Z"
   },
   {
    "duration": 3,
    "start_time": "2025-05-05T14:30:03.749Z"
   },
   {
    "duration": 181,
    "start_time": "2025-05-05T14:30:03.754Z"
   },
   {
    "duration": 61,
    "start_time": "2025-05-05T14:30:03.938Z"
   },
   {
    "duration": 73,
    "start_time": "2025-05-05T14:30:04.001Z"
   },
   {
    "duration": 1053,
    "start_time": "2025-05-05T14:30:04.076Z"
   },
   {
    "duration": 183,
    "start_time": "2025-05-05T14:30:05.131Z"
   },
   {
    "duration": 162,
    "start_time": "2025-05-05T14:30:05.315Z"
   },
   {
    "duration": 194,
    "start_time": "2025-05-05T14:30:05.479Z"
   },
   {
    "duration": 397,
    "start_time": "2025-05-05T14:30:05.675Z"
   },
   {
    "duration": 531,
    "start_time": "2025-05-05T14:30:06.074Z"
   },
   {
    "duration": 1131,
    "start_time": "2025-05-05T14:30:06.607Z"
   },
   {
    "duration": 194,
    "start_time": "2025-05-05T14:30:07.741Z"
   },
   {
    "duration": 8,
    "start_time": "2025-05-05T14:30:07.937Z"
   },
   {
    "duration": 74,
    "start_time": "2025-05-05T14:30:07.947Z"
   },
   {
    "duration": 144,
    "start_time": "2025-05-05T14:30:08.023Z"
   },
   {
    "duration": 134,
    "start_time": "2025-05-05T14:30:08.169Z"
   },
   {
    "duration": 61,
    "start_time": "2025-05-05T14:30:08.304Z"
   },
   {
    "duration": 41,
    "start_time": "2025-05-05T14:30:08.367Z"
   },
   {
    "duration": 497,
    "start_time": "2025-05-05T14:30:08.410Z"
   },
   {
    "duration": 65,
    "start_time": "2025-05-05T14:30:08.908Z"
   },
   {
    "duration": 67,
    "start_time": "2025-05-05T14:30:08.975Z"
   },
   {
    "duration": 394,
    "start_time": "2025-05-05T14:30:09.044Z"
   },
   {
    "duration": 3,
    "start_time": "2025-05-05T14:30:09.440Z"
   },
   {
    "duration": 349,
    "start_time": "2025-05-05T14:30:09.445Z"
   },
   {
    "duration": 537,
    "start_time": "2025-05-05T14:30:09.796Z"
   },
   {
    "duration": 232,
    "start_time": "2025-05-05T14:30:10.335Z"
   },
   {
    "duration": 333,
    "start_time": "2025-05-05T14:30:10.569Z"
   },
   {
    "duration": 273,
    "start_time": "2025-05-05T14:30:10.905Z"
   },
   {
    "duration": 36,
    "start_time": "2025-05-05T14:30:11.179Z"
   },
   {
    "duration": 417,
    "start_time": "2025-05-05T14:30:11.217Z"
   },
   {
    "duration": 42,
    "start_time": "2025-05-05T14:30:11.636Z"
   },
   {
    "duration": 85,
    "start_time": "2025-05-05T14:30:11.679Z"
   },
   {
    "duration": 291,
    "start_time": "2025-05-05T14:30:11.766Z"
   },
   {
    "duration": 36,
    "start_time": "2025-05-05T14:30:12.060Z"
   },
   {
    "duration": 381,
    "start_time": "2025-05-05T14:30:12.098Z"
   },
   {
    "duration": 263,
    "start_time": "2025-05-05T14:30:12.481Z"
   },
   {
    "duration": 5460,
    "start_time": "2025-05-05T14:30:12.746Z"
   },
   {
    "duration": 66,
    "start_time": "2025-05-05T14:30:18.207Z"
   },
   {
    "duration": 5821,
    "start_time": "2025-05-05T14:30:18.277Z"
   },
   {
    "duration": 0,
    "start_time": "2025-05-05T14:30:24.099Z"
   },
   {
    "duration": 0,
    "start_time": "2025-05-05T14:30:24.101Z"
   },
   {
    "duration": 0,
    "start_time": "2025-05-05T14:30:24.102Z"
   },
   {
    "duration": 0,
    "start_time": "2025-05-05T14:30:24.103Z"
   },
   {
    "duration": 5942,
    "start_time": "2025-05-05T14:36:36.975Z"
   },
   {
    "duration": 1431,
    "start_time": "2025-05-05T14:36:42.920Z"
   },
   {
    "duration": 2,
    "start_time": "2025-05-05T14:36:44.353Z"
   },
   {
    "duration": 37,
    "start_time": "2025-05-05T14:36:44.360Z"
   },
   {
    "duration": 13,
    "start_time": "2025-05-05T14:36:44.399Z"
   },
   {
    "duration": 8,
    "start_time": "2025-05-05T14:36:44.414Z"
   },
   {
    "duration": 1066,
    "start_time": "2025-05-05T14:36:44.424Z"
   },
   {
    "duration": 157,
    "start_time": "2025-05-05T14:36:45.492Z"
   },
   {
    "duration": 333,
    "start_time": "2025-05-05T14:36:45.651Z"
   },
   {
    "duration": 196,
    "start_time": "2025-05-05T14:36:45.986Z"
   },
   {
    "duration": 341,
    "start_time": "2025-05-05T14:36:46.184Z"
   },
   {
    "duration": 590,
    "start_time": "2025-05-05T14:36:46.526Z"
   },
   {
    "duration": 1128,
    "start_time": "2025-05-05T14:36:47.118Z"
   },
   {
    "duration": 204,
    "start_time": "2025-05-05T14:36:48.250Z"
   },
   {
    "duration": 8,
    "start_time": "2025-05-05T14:36:48.455Z"
   },
   {
    "duration": 39,
    "start_time": "2025-05-05T14:36:48.465Z"
   },
   {
    "duration": 134,
    "start_time": "2025-05-05T14:36:48.506Z"
   },
   {
    "duration": 78,
    "start_time": "2025-05-05T14:36:48.642Z"
   },
   {
    "duration": 72,
    "start_time": "2025-05-05T14:36:48.722Z"
   },
   {
    "duration": 33,
    "start_time": "2025-05-05T14:36:48.796Z"
   },
   {
    "duration": 530,
    "start_time": "2025-05-05T14:36:48.831Z"
   },
   {
    "duration": 47,
    "start_time": "2025-05-05T14:36:49.363Z"
   },
   {
    "duration": 26,
    "start_time": "2025-05-05T14:36:49.411Z"
   },
   {
    "duration": 427,
    "start_time": "2025-05-05T14:36:49.462Z"
   },
   {
    "duration": 3,
    "start_time": "2025-05-05T14:36:49.891Z"
   },
   {
    "duration": 42,
    "start_time": "2025-05-05T14:36:49.896Z"
   },
   {
    "duration": 557,
    "start_time": "2025-05-05T14:36:49.940Z"
   },
   {
    "duration": 244,
    "start_time": "2025-05-05T14:36:50.499Z"
   },
   {
    "duration": 341,
    "start_time": "2025-05-05T14:36:50.745Z"
   },
   {
    "duration": 284,
    "start_time": "2025-05-05T14:36:51.087Z"
   },
   {
    "duration": 40,
    "start_time": "2025-05-05T14:36:51.373Z"
   },
   {
    "duration": 364,
    "start_time": "2025-05-05T14:36:51.415Z"
   },
   {
    "duration": 33,
    "start_time": "2025-05-05T14:36:51.781Z"
   },
   {
    "duration": 78,
    "start_time": "2025-05-05T14:36:51.816Z"
   },
   {
    "duration": 303,
    "start_time": "2025-05-05T14:36:51.896Z"
   },
   {
    "duration": 36,
    "start_time": "2025-05-05T14:36:52.200Z"
   },
   {
    "duration": 391,
    "start_time": "2025-05-05T14:36:52.237Z"
   },
   {
    "duration": 271,
    "start_time": "2025-05-05T14:36:52.629Z"
   },
   {
    "duration": 5592,
    "start_time": "2025-05-05T14:36:52.901Z"
   },
   {
    "duration": 75,
    "start_time": "2025-05-05T14:36:58.495Z"
   },
   {
    "duration": 5797,
    "start_time": "2025-05-05T14:36:58.574Z"
   },
   {
    "duration": 127,
    "start_time": "2025-05-05T14:37:04.373Z"
   },
   {
    "duration": 13535,
    "start_time": "2025-05-05T14:37:04.501Z"
   },
   {
    "duration": 29,
    "start_time": "2025-05-05T14:37:18.038Z"
   },
   {
    "duration": 492152,
    "start_time": "2025-05-05T14:37:18.068Z"
   },
   {
    "duration": 5966,
    "start_time": "2025-05-05T14:47:30.870Z"
   },
   {
    "duration": 1607,
    "start_time": "2025-05-05T14:47:36.839Z"
   },
   {
    "duration": 3,
    "start_time": "2025-05-05T14:47:38.448Z"
   },
   {
    "duration": 24,
    "start_time": "2025-05-05T14:47:38.452Z"
   },
   {
    "duration": 37,
    "start_time": "2025-05-05T14:47:38.478Z"
   },
   {
    "duration": 22,
    "start_time": "2025-05-05T14:47:38.516Z"
   },
   {
    "duration": 1026,
    "start_time": "2025-05-05T14:47:38.540Z"
   },
   {
    "duration": 164,
    "start_time": "2025-05-05T14:47:39.568Z"
   },
   {
    "duration": 217,
    "start_time": "2025-05-05T14:47:39.734Z"
   },
   {
    "duration": 185,
    "start_time": "2025-05-05T14:47:39.952Z"
   },
   {
    "duration": 318,
    "start_time": "2025-05-05T14:47:40.139Z"
   },
   {
    "duration": 519,
    "start_time": "2025-05-05T14:47:40.458Z"
   },
   {
    "duration": 1101,
    "start_time": "2025-05-05T14:47:40.979Z"
   },
   {
    "duration": 203,
    "start_time": "2025-05-05T14:47:42.085Z"
   },
   {
    "duration": 10,
    "start_time": "2025-05-05T14:47:42.290Z"
   },
   {
    "duration": 60,
    "start_time": "2025-05-05T14:47:42.301Z"
   },
   {
    "duration": 109,
    "start_time": "2025-05-05T14:47:42.363Z"
   },
   {
    "duration": 69,
    "start_time": "2025-05-05T14:47:42.475Z"
   },
   {
    "duration": 57,
    "start_time": "2025-05-05T14:47:42.561Z"
   },
   {
    "duration": 104,
    "start_time": "2025-05-05T14:47:42.620Z"
   },
   {
    "duration": 483,
    "start_time": "2025-05-05T14:47:42.726Z"
   },
   {
    "duration": 61,
    "start_time": "2025-05-05T14:47:43.211Z"
   },
   {
    "duration": 27,
    "start_time": "2025-05-05T14:47:43.274Z"
   },
   {
    "duration": 582,
    "start_time": "2025-05-05T14:47:43.303Z"
   },
   {
    "duration": 3,
    "start_time": "2025-05-05T14:47:43.888Z"
   },
   {
    "duration": 46,
    "start_time": "2025-05-05T14:47:43.893Z"
   },
   {
    "duration": 543,
    "start_time": "2025-05-05T14:47:43.941Z"
   },
   {
    "duration": 259,
    "start_time": "2025-05-05T14:47:44.486Z"
   },
   {
    "duration": 363,
    "start_time": "2025-05-05T14:47:44.747Z"
   },
   {
    "duration": 278,
    "start_time": "2025-05-05T14:47:45.112Z"
   },
   {
    "duration": 132,
    "start_time": "2025-05-05T14:47:45.392Z"
   },
   {
    "duration": 413,
    "start_time": "2025-05-05T14:47:45.526Z"
   },
   {
    "duration": 38,
    "start_time": "2025-05-05T14:47:45.941Z"
   },
   {
    "duration": 74,
    "start_time": "2025-05-05T14:47:45.981Z"
   },
   {
    "duration": 308,
    "start_time": "2025-05-05T14:47:46.057Z"
   },
   {
    "duration": 38,
    "start_time": "2025-05-05T14:47:46.367Z"
   },
   {
    "duration": 417,
    "start_time": "2025-05-05T14:47:46.407Z"
   },
   {
    "duration": 288,
    "start_time": "2025-05-05T14:47:46.826Z"
   },
   {
    "duration": 5598,
    "start_time": "2025-05-05T14:47:47.116Z"
   },
   {
    "duration": 226672,
    "start_time": "2025-05-05T14:47:52.716Z"
   },
   {
    "duration": 0,
    "start_time": "2025-05-05T14:51:39.390Z"
   },
   {
    "duration": 0,
    "start_time": "2025-05-05T14:51:39.391Z"
   },
   {
    "duration": 0,
    "start_time": "2025-05-05T14:51:39.393Z"
   },
   {
    "duration": 0,
    "start_time": "2025-05-05T14:51:39.394Z"
   },
   {
    "duration": 0,
    "start_time": "2025-05-05T14:51:39.395Z"
   },
   {
    "duration": 0,
    "start_time": "2025-05-05T14:51:39.397Z"
   },
   {
    "duration": 0,
    "start_time": "2025-05-05T14:51:39.399Z"
   },
   {
    "duration": 64851,
    "start_time": "2025-05-05T14:52:22.537Z"
   },
   {
    "duration": 5998,
    "start_time": "2025-05-05T14:57:33.539Z"
   },
   {
    "duration": 1501,
    "start_time": "2025-05-05T14:57:39.540Z"
   },
   {
    "duration": 3,
    "start_time": "2025-05-05T14:57:41.043Z"
   },
   {
    "duration": 67,
    "start_time": "2025-05-05T14:57:41.048Z"
   },
   {
    "duration": 5,
    "start_time": "2025-05-05T14:57:41.118Z"
   },
   {
    "duration": 32,
    "start_time": "2025-05-05T14:57:41.124Z"
   },
   {
    "duration": 1036,
    "start_time": "2025-05-05T14:57:41.158Z"
   },
   {
    "duration": 179,
    "start_time": "2025-05-05T14:57:42.196Z"
   },
   {
    "duration": 159,
    "start_time": "2025-05-05T14:57:42.377Z"
   },
   {
    "duration": 189,
    "start_time": "2025-05-05T14:57:42.538Z"
   },
   {
    "duration": 345,
    "start_time": "2025-05-05T14:57:42.729Z"
   },
   {
    "duration": 523,
    "start_time": "2025-05-05T14:57:43.076Z"
   },
   {
    "duration": 1105,
    "start_time": "2025-05-05T14:57:43.600Z"
   },
   {
    "duration": 206,
    "start_time": "2025-05-05T14:57:44.709Z"
   },
   {
    "duration": 9,
    "start_time": "2025-05-05T14:57:44.917Z"
   },
   {
    "duration": 66,
    "start_time": "2025-05-05T14:57:44.928Z"
   },
   {
    "duration": 115,
    "start_time": "2025-05-05T14:57:44.996Z"
   },
   {
    "duration": 110,
    "start_time": "2025-05-05T14:57:45.113Z"
   },
   {
    "duration": 81,
    "start_time": "2025-05-05T14:57:45.225Z"
   },
   {
    "duration": 37,
    "start_time": "2025-05-05T14:57:45.308Z"
   },
   {
    "duration": 754,
    "start_time": "2025-05-05T14:57:45.347Z"
   },
   {
    "duration": 45,
    "start_time": "2025-05-05T14:57:46.102Z"
   },
   {
    "duration": 26,
    "start_time": "2025-05-05T14:57:46.161Z"
   },
   {
    "duration": 425,
    "start_time": "2025-05-05T14:57:46.188Z"
   },
   {
    "duration": 3,
    "start_time": "2025-05-05T14:57:46.615Z"
   },
   {
    "duration": 66,
    "start_time": "2025-05-05T14:57:46.619Z"
   },
   {
    "duration": 603,
    "start_time": "2025-05-05T14:57:46.688Z"
   },
   {
    "duration": 270,
    "start_time": "2025-05-05T14:57:47.293Z"
   },
   {
    "duration": 344,
    "start_time": "2025-05-05T14:57:47.565Z"
   },
   {
    "duration": 274,
    "start_time": "2025-05-05T14:57:47.911Z"
   },
   {
    "duration": 36,
    "start_time": "2025-05-05T14:57:48.187Z"
   },
   {
    "duration": 365,
    "start_time": "2025-05-05T14:57:48.225Z"
   },
   {
    "duration": 36,
    "start_time": "2025-05-05T14:57:48.592Z"
   },
   {
    "duration": 80,
    "start_time": "2025-05-05T14:57:48.630Z"
   },
   {
    "duration": 292,
    "start_time": "2025-05-05T14:57:48.712Z"
   },
   {
    "duration": 37,
    "start_time": "2025-05-05T14:57:49.007Z"
   },
   {
    "duration": 407,
    "start_time": "2025-05-05T14:57:49.061Z"
   },
   {
    "duration": 275,
    "start_time": "2025-05-05T14:57:49.470Z"
   },
   {
    "duration": 5567,
    "start_time": "2025-05-05T14:57:49.747Z"
   },
   {
    "duration": 86,
    "start_time": "2025-05-05T14:57:55.316Z"
   },
   {
    "duration": 697,
    "start_time": "2025-05-05T14:57:55.408Z"
   },
   {
    "duration": 86,
    "start_time": "2025-05-05T14:57:56.107Z"
   },
   {
    "duration": 16,
    "start_time": "2025-05-05T14:57:56.195Z"
   },
   {
    "duration": 0,
    "start_time": "2025-05-05T14:57:56.214Z"
   },
   {
    "duration": 0,
    "start_time": "2025-05-05T14:57:56.216Z"
   },
   {
    "duration": 0,
    "start_time": "2025-05-05T14:57:56.218Z"
   },
   {
    "duration": 0,
    "start_time": "2025-05-05T14:57:56.220Z"
   },
   {
    "duration": 0,
    "start_time": "2025-05-05T14:57:56.221Z"
   },
   {
    "duration": 0,
    "start_time": "2025-05-05T14:57:56.223Z"
   },
   {
    "duration": 192,
    "start_time": "2025-05-05T14:58:38.836Z"
   },
   {
    "duration": 425295,
    "start_time": "2025-05-05T14:58:39.468Z"
   },
   {
    "duration": 106,
    "start_time": "2025-05-05T15:05:44.767Z"
   },
   {
    "duration": 6170,
    "start_time": "2025-05-05T15:16:39.231Z"
   },
   {
    "duration": 1557,
    "start_time": "2025-05-05T15:16:45.405Z"
   },
   {
    "duration": 3,
    "start_time": "2025-05-05T15:16:46.964Z"
   },
   {
    "duration": 7,
    "start_time": "2025-05-05T15:16:46.968Z"
   },
   {
    "duration": 42,
    "start_time": "2025-05-05T15:16:46.978Z"
   },
   {
    "duration": 51,
    "start_time": "2025-05-05T15:16:47.021Z"
   },
   {
    "duration": 1196,
    "start_time": "2025-05-05T15:16:47.074Z"
   },
   {
    "duration": 179,
    "start_time": "2025-05-05T15:16:48.272Z"
   },
   {
    "duration": 162,
    "start_time": "2025-05-05T15:16:48.454Z"
   },
   {
    "duration": 196,
    "start_time": "2025-05-05T15:16:48.618Z"
   },
   {
    "duration": 419,
    "start_time": "2025-05-05T15:16:48.817Z"
   },
   {
    "duration": 551,
    "start_time": "2025-05-05T15:16:49.238Z"
   },
   {
    "duration": 1256,
    "start_time": "2025-05-05T15:16:49.791Z"
   },
   {
    "duration": 259,
    "start_time": "2025-05-05T15:16:51.060Z"
   },
   {
    "duration": 13,
    "start_time": "2025-05-05T15:16:51.321Z"
   },
   {
    "duration": 77,
    "start_time": "2025-05-05T15:16:51.336Z"
   },
   {
    "duration": 442,
    "start_time": "2025-05-05T15:16:51.415Z"
   },
   {
    "duration": 244,
    "start_time": "2025-05-05T15:16:51.862Z"
   },
   {
    "duration": 82,
    "start_time": "2025-05-05T15:16:52.109Z"
   },
   {
    "duration": 51,
    "start_time": "2025-05-05T15:16:52.196Z"
   },
   {
    "duration": 840,
    "start_time": "2025-05-05T15:16:52.263Z"
   },
   {
    "duration": 78,
    "start_time": "2025-05-05T15:16:53.106Z"
   },
   {
    "duration": 58,
    "start_time": "2025-05-05T15:16:53.187Z"
   },
   {
    "duration": 468,
    "start_time": "2025-05-05T15:16:53.248Z"
   },
   {
    "duration": 3,
    "start_time": "2025-05-05T15:16:53.719Z"
   },
   {
    "duration": 110,
    "start_time": "2025-05-05T15:16:53.724Z"
   },
   {
    "duration": 575,
    "start_time": "2025-05-05T15:16:53.837Z"
   },
   {
    "duration": 354,
    "start_time": "2025-05-05T15:16:54.415Z"
   },
   {
    "duration": 482,
    "start_time": "2025-05-05T15:16:54.771Z"
   },
   {
    "duration": 290,
    "start_time": "2025-05-05T15:16:55.255Z"
   },
   {
    "duration": 44,
    "start_time": "2025-05-05T15:16:55.547Z"
   },
   {
    "duration": 708,
    "start_time": "2025-05-05T15:16:55.593Z"
   },
   {
    "duration": 68,
    "start_time": "2025-05-05T15:16:56.304Z"
   },
   {
    "duration": 122,
    "start_time": "2025-05-05T15:16:56.374Z"
   },
   {
    "duration": 465,
    "start_time": "2025-05-05T15:16:56.498Z"
   },
   {
    "duration": 39,
    "start_time": "2025-05-05T15:16:56.965Z"
   },
   {
    "duration": 608,
    "start_time": "2025-05-05T15:16:57.006Z"
   },
   {
    "duration": 280,
    "start_time": "2025-05-05T15:16:57.615Z"
   },
   {
    "duration": 5630,
    "start_time": "2025-05-05T15:16:57.896Z"
   },
   {
    "duration": 38,
    "start_time": "2025-05-05T15:17:03.528Z"
   },
   {
    "duration": 0,
    "start_time": "2025-05-05T15:17:03.568Z"
   },
   {
    "duration": 0,
    "start_time": "2025-05-05T15:17:03.570Z"
   },
   {
    "duration": 0,
    "start_time": "2025-05-05T15:17:03.571Z"
   },
   {
    "duration": 0,
    "start_time": "2025-05-05T15:17:03.573Z"
   },
   {
    "duration": 0,
    "start_time": "2025-05-05T15:17:03.574Z"
   },
   {
    "duration": 0,
    "start_time": "2025-05-05T15:17:03.575Z"
   },
   {
    "duration": 0,
    "start_time": "2025-05-05T15:17:03.576Z"
   },
   {
    "duration": 0,
    "start_time": "2025-05-05T15:17:03.578Z"
   },
   {
    "duration": 0,
    "start_time": "2025-05-05T15:17:03.579Z"
   },
   {
    "duration": 16004,
    "start_time": "2025-05-05T15:26:29.001Z"
   },
   {
    "duration": 5898,
    "start_time": "2025-05-05T15:48:04.385Z"
   },
   {
    "duration": 1454,
    "start_time": "2025-05-05T15:48:10.286Z"
   },
   {
    "duration": 3,
    "start_time": "2025-05-05T15:48:11.742Z"
   },
   {
    "duration": 29,
    "start_time": "2025-05-05T15:48:11.746Z"
   },
   {
    "duration": 274,
    "start_time": "2025-05-05T15:48:11.777Z"
   },
   {
    "duration": 170,
    "start_time": "2025-05-05T15:48:12.053Z"
   },
   {
    "duration": 1097,
    "start_time": "2025-05-05T15:48:12.225Z"
   },
   {
    "duration": 175,
    "start_time": "2025-05-05T15:48:13.323Z"
   },
   {
    "duration": 300,
    "start_time": "2025-05-05T15:48:13.500Z"
   },
   {
    "duration": 186,
    "start_time": "2025-05-05T15:48:13.802Z"
   },
   {
    "duration": 345,
    "start_time": "2025-05-05T15:48:13.991Z"
   },
   {
    "duration": 524,
    "start_time": "2025-05-05T15:48:14.338Z"
   },
   {
    "duration": 1125,
    "start_time": "2025-05-05T15:48:14.864Z"
   },
   {
    "duration": 204,
    "start_time": "2025-05-05T15:48:15.993Z"
   },
   {
    "duration": 8,
    "start_time": "2025-05-05T15:48:16.199Z"
   },
   {
    "duration": 78,
    "start_time": "2025-05-05T15:48:16.209Z"
   },
   {
    "duration": 108,
    "start_time": "2025-05-05T15:48:16.288Z"
   },
   {
    "duration": 84,
    "start_time": "2025-05-05T15:48:16.398Z"
   },
   {
    "duration": 60,
    "start_time": "2025-05-05T15:48:16.485Z"
   },
   {
    "duration": 46,
    "start_time": "2025-05-05T15:48:16.547Z"
   },
   {
    "duration": 545,
    "start_time": "2025-05-05T15:48:16.595Z"
   },
   {
    "duration": 57,
    "start_time": "2025-05-05T15:48:17.142Z"
   },
   {
    "duration": 24,
    "start_time": "2025-05-05T15:48:17.201Z"
   },
   {
    "duration": 815,
    "start_time": "2025-05-05T15:48:17.227Z"
   },
   {
    "duration": 4,
    "start_time": "2025-05-05T15:48:18.043Z"
   },
   {
    "duration": 22,
    "start_time": "2025-05-05T15:48:18.061Z"
   },
   {
    "duration": 626,
    "start_time": "2025-05-05T15:48:18.085Z"
   },
   {
    "duration": 234,
    "start_time": "2025-05-05T15:48:18.713Z"
   },
   {
    "duration": 340,
    "start_time": "2025-05-05T15:48:18.949Z"
   },
   {
    "duration": 274,
    "start_time": "2025-05-05T15:48:19.290Z"
   },
   {
    "duration": 95,
    "start_time": "2025-05-05T15:48:19.566Z"
   },
   {
    "duration": 344,
    "start_time": "2025-05-05T15:48:19.662Z"
   },
   {
    "duration": 33,
    "start_time": "2025-05-05T15:48:20.008Z"
   },
   {
    "duration": 128,
    "start_time": "2025-05-05T15:48:20.043Z"
   },
   {
    "duration": 374,
    "start_time": "2025-05-05T15:48:20.172Z"
   },
   {
    "duration": 43,
    "start_time": "2025-05-05T15:48:20.547Z"
   },
   {
    "duration": 379,
    "start_time": "2025-05-05T15:48:20.592Z"
   },
   {
    "duration": 281,
    "start_time": "2025-05-05T15:48:20.973Z"
   },
   {
    "duration": 5511,
    "start_time": "2025-05-05T15:48:21.255Z"
   },
   {
    "duration": 1457,
    "start_time": "2025-05-05T15:48:26.769Z"
   },
   {
    "duration": 183,
    "start_time": "2025-05-05T15:48:28.230Z"
   },
   {
    "duration": 5978,
    "start_time": "2025-05-05T16:08:23.508Z"
   },
   {
    "duration": 1503,
    "start_time": "2025-05-05T16:08:29.489Z"
   },
   {
    "duration": 4,
    "start_time": "2025-05-05T16:08:30.993Z"
   },
   {
    "duration": 47,
    "start_time": "2025-05-05T16:08:30.999Z"
   },
   {
    "duration": 54,
    "start_time": "2025-05-05T16:08:31.048Z"
   },
   {
    "duration": 31,
    "start_time": "2025-05-05T16:08:31.104Z"
   },
   {
    "duration": 1045,
    "start_time": "2025-05-05T16:08:31.137Z"
   },
   {
    "duration": 172,
    "start_time": "2025-05-05T16:08:32.184Z"
   },
   {
    "duration": 159,
    "start_time": "2025-05-05T16:08:32.357Z"
   },
   {
    "duration": 188,
    "start_time": "2025-05-05T16:08:32.517Z"
   },
   {
    "duration": 334,
    "start_time": "2025-05-05T16:08:32.707Z"
   },
   {
    "duration": 523,
    "start_time": "2025-05-05T16:08:33.044Z"
   },
   {
    "duration": 1112,
    "start_time": "2025-05-05T16:08:33.568Z"
   },
   {
    "duration": 211,
    "start_time": "2025-05-05T16:08:34.684Z"
   },
   {
    "duration": 10,
    "start_time": "2025-05-05T16:08:34.897Z"
   },
   {
    "duration": 145,
    "start_time": "2025-05-05T16:08:34.910Z"
   },
   {
    "duration": 127,
    "start_time": "2025-05-05T16:08:35.057Z"
   },
   {
    "duration": 78,
    "start_time": "2025-05-05T16:08:35.186Z"
   },
   {
    "duration": 57,
    "start_time": "2025-05-05T16:08:35.266Z"
   },
   {
    "duration": 60,
    "start_time": "2025-05-05T16:08:35.326Z"
   },
   {
    "duration": 785,
    "start_time": "2025-05-05T16:08:35.389Z"
   },
   {
    "duration": 45,
    "start_time": "2025-05-05T16:08:36.175Z"
   },
   {
    "duration": 45,
    "start_time": "2025-05-05T16:08:36.222Z"
   },
   {
    "duration": 506,
    "start_time": "2025-05-05T16:08:36.269Z"
   },
   {
    "duration": 5,
    "start_time": "2025-05-05T16:08:36.777Z"
   },
   {
    "duration": 50,
    "start_time": "2025-05-05T16:08:36.784Z"
   },
   {
    "duration": 549,
    "start_time": "2025-05-05T16:08:36.836Z"
   },
   {
    "duration": 246,
    "start_time": "2025-05-05T16:08:37.387Z"
   },
   {
    "duration": 370,
    "start_time": "2025-05-05T16:08:37.636Z"
   },
   {
    "duration": 271,
    "start_time": "2025-05-05T16:08:38.007Z"
   },
   {
    "duration": 37,
    "start_time": "2025-05-05T16:08:38.280Z"
   },
   {
    "duration": 355,
    "start_time": "2025-05-05T16:08:38.319Z"
   },
   {
    "duration": 33,
    "start_time": "2025-05-05T16:08:38.675Z"
   },
   {
    "duration": 74,
    "start_time": "2025-05-05T16:08:38.709Z"
   },
   {
    "duration": 292,
    "start_time": "2025-05-05T16:08:38.785Z"
   },
   {
    "duration": 35,
    "start_time": "2025-05-05T16:08:39.079Z"
   },
   {
    "duration": 383,
    "start_time": "2025-05-05T16:08:39.117Z"
   },
   {
    "duration": 270,
    "start_time": "2025-05-05T16:08:39.502Z"
   },
   {
    "duration": 5449,
    "start_time": "2025-05-05T16:08:39.774Z"
   },
   {
    "duration": 16364,
    "start_time": "2025-05-05T16:08:45.225Z"
   },
   {
    "duration": 205,
    "start_time": "2025-05-05T16:09:01.593Z"
   },
   {
    "duration": 287734,
    "start_time": "2025-05-05T16:09:01.800Z"
   },
   {
    "duration": 0,
    "start_time": "2025-05-05T16:13:49.535Z"
   },
   {
    "duration": 0,
    "start_time": "2025-05-05T16:13:49.537Z"
   },
   {
    "duration": 0,
    "start_time": "2025-05-05T16:13:49.538Z"
   },
   {
    "duration": 0,
    "start_time": "2025-05-05T16:13:49.539Z"
   },
   {
    "duration": 0,
    "start_time": "2025-05-05T16:13:49.540Z"
   },
   {
    "duration": 0,
    "start_time": "2025-05-05T16:13:49.541Z"
   },
   {
    "duration": 0,
    "start_time": "2025-05-05T16:13:49.543Z"
   },
   {
    "duration": 0,
    "start_time": "2025-05-05T16:13:49.544Z"
   },
   {
    "duration": 13,
    "start_time": "2025-05-05T16:13:52.586Z"
   },
   {
    "duration": 12,
    "start_time": "2025-05-05T16:16:51.962Z"
   },
   {
    "duration": 123,
    "start_time": "2025-05-05T16:16:57.409Z"
   },
   {
    "duration": 13347,
    "start_time": "2025-05-05T16:17:32.604Z"
   },
   {
    "duration": 17,
    "start_time": "2025-05-05T16:18:06.128Z"
   },
   {
    "duration": 794,
    "start_time": "2025-05-05T16:18:22.284Z"
   },
   {
    "duration": 6482,
    "start_time": "2025-05-05T16:27:06.070Z"
   },
   {
    "duration": 1633,
    "start_time": "2025-05-05T16:27:12.555Z"
   },
   {
    "duration": 3,
    "start_time": "2025-05-05T16:27:14.192Z"
   },
   {
    "duration": 57,
    "start_time": "2025-05-05T16:27:14.197Z"
   },
   {
    "duration": 7,
    "start_time": "2025-05-05T16:27:14.257Z"
   },
   {
    "duration": 9,
    "start_time": "2025-05-05T16:27:14.268Z"
   },
   {
    "duration": 1150,
    "start_time": "2025-05-05T16:27:14.280Z"
   },
   {
    "duration": 192,
    "start_time": "2025-05-05T16:27:15.432Z"
   },
   {
    "duration": 183,
    "start_time": "2025-05-05T16:27:15.626Z"
   },
   {
    "duration": 240,
    "start_time": "2025-05-05T16:27:15.811Z"
   },
   {
    "duration": 390,
    "start_time": "2025-05-05T16:27:16.053Z"
   },
   {
    "duration": 651,
    "start_time": "2025-05-05T16:27:16.445Z"
   },
   {
    "duration": 1145,
    "start_time": "2025-05-05T16:27:17.098Z"
   },
   {
    "duration": 198,
    "start_time": "2025-05-05T16:27:18.246Z"
   },
   {
    "duration": 22,
    "start_time": "2025-05-05T16:27:18.445Z"
   },
   {
    "duration": 49,
    "start_time": "2025-05-05T16:27:18.469Z"
   },
   {
    "duration": 129,
    "start_time": "2025-05-05T16:27:18.520Z"
   },
   {
    "duration": 72,
    "start_time": "2025-05-05T16:27:18.651Z"
   },
   {
    "duration": 80,
    "start_time": "2025-05-05T16:27:18.725Z"
   },
   {
    "duration": 54,
    "start_time": "2025-05-05T16:27:18.809Z"
   },
   {
    "duration": 556,
    "start_time": "2025-05-05T16:27:18.867Z"
   },
   {
    "duration": 64,
    "start_time": "2025-05-05T16:27:19.425Z"
   },
   {
    "duration": 32,
    "start_time": "2025-05-05T16:27:19.491Z"
   },
   {
    "duration": 503,
    "start_time": "2025-05-05T16:27:19.525Z"
   },
   {
    "duration": 4,
    "start_time": "2025-05-05T16:27:20.030Z"
   },
   {
    "duration": 79,
    "start_time": "2025-05-05T16:27:20.035Z"
   },
   {
    "duration": 627,
    "start_time": "2025-05-05T16:27:20.115Z"
   },
   {
    "duration": 286,
    "start_time": "2025-05-05T16:27:20.744Z"
   },
   {
    "duration": 410,
    "start_time": "2025-05-05T16:27:21.032Z"
   },
   {
    "duration": 344,
    "start_time": "2025-05-05T16:27:21.444Z"
   },
   {
    "duration": 53,
    "start_time": "2025-05-05T16:27:21.790Z"
   },
   {
    "duration": 440,
    "start_time": "2025-05-05T16:27:21.844Z"
   },
   {
    "duration": 38,
    "start_time": "2025-05-05T16:27:22.291Z"
   },
   {
    "duration": 217,
    "start_time": "2025-05-05T16:27:22.331Z"
   },
   {
    "duration": 369,
    "start_time": "2025-05-05T16:27:22.550Z"
   },
   {
    "duration": 60,
    "start_time": "2025-05-05T16:27:22.921Z"
   },
   {
    "duration": 443,
    "start_time": "2025-05-05T16:27:22.983Z"
   },
   {
    "duration": 349,
    "start_time": "2025-05-05T16:27:23.427Z"
   },
   {
    "duration": 6657,
    "start_time": "2025-05-05T16:27:23.789Z"
   },
   {
    "duration": 24,
    "start_time": "2025-05-05T16:27:30.448Z"
   },
   {
    "duration": 1291,
    "start_time": "2025-05-05T16:27:30.478Z"
   },
   {
    "duration": 0,
    "start_time": "2025-05-05T16:31:44.467Z"
   },
   {
    "duration": 0,
    "start_time": "2025-05-05T16:31:44.469Z"
   },
   {
    "duration": 0,
    "start_time": "2025-05-05T16:31:44.471Z"
   },
   {
    "duration": 0,
    "start_time": "2025-05-05T16:31:44.472Z"
   },
   {
    "duration": 0,
    "start_time": "2025-05-05T16:31:44.474Z"
   },
   {
    "duration": 0,
    "start_time": "2025-05-05T16:31:44.476Z"
   },
   {
    "duration": 0,
    "start_time": "2025-05-05T16:31:44.477Z"
   },
   {
    "duration": 0,
    "start_time": "2025-05-05T16:31:44.480Z"
   },
   {
    "duration": 0,
    "start_time": "2025-05-05T16:31:44.483Z"
   },
   {
    "duration": 0,
    "start_time": "2025-05-05T16:31:44.485Z"
   },
   {
    "duration": 0,
    "start_time": "2025-05-05T16:31:44.487Z"
   },
   {
    "duration": 0,
    "start_time": "2025-05-05T16:31:44.488Z"
   },
   {
    "duration": 0,
    "start_time": "2025-05-05T16:31:44.489Z"
   },
   {
    "duration": 0,
    "start_time": "2025-05-05T16:31:44.491Z"
   },
   {
    "duration": 6954,
    "start_time": "2025-05-05T16:32:41.820Z"
   },
   {
    "duration": 1679,
    "start_time": "2025-05-05T16:32:48.778Z"
   },
   {
    "duration": 4,
    "start_time": "2025-05-05T16:32:50.462Z"
   },
   {
    "duration": 62,
    "start_time": "2025-05-05T16:32:50.469Z"
   },
   {
    "duration": 85,
    "start_time": "2025-05-05T16:32:50.533Z"
   },
   {
    "duration": 38,
    "start_time": "2025-05-05T16:32:50.621Z"
   },
   {
    "duration": 1169,
    "start_time": "2025-05-05T16:32:50.662Z"
   },
   {
    "duration": 216,
    "start_time": "2025-05-05T16:32:51.833Z"
   },
   {
    "duration": 311,
    "start_time": "2025-05-05T16:32:52.051Z"
   },
   {
    "duration": 233,
    "start_time": "2025-05-05T16:32:52.365Z"
   },
   {
    "duration": 369,
    "start_time": "2025-05-05T16:32:52.600Z"
   },
   {
    "duration": 590,
    "start_time": "2025-05-05T16:32:52.971Z"
   },
   {
    "duration": 1076,
    "start_time": "2025-05-05T16:32:53.563Z"
   },
   {
    "duration": 229,
    "start_time": "2025-05-05T16:32:54.642Z"
   },
   {
    "duration": 11,
    "start_time": "2025-05-05T16:32:54.876Z"
   },
   {
    "duration": 56,
    "start_time": "2025-05-05T16:32:54.889Z"
   },
   {
    "duration": 147,
    "start_time": "2025-05-05T16:32:54.948Z"
   },
   {
    "duration": 83,
    "start_time": "2025-05-05T16:32:55.097Z"
   },
   {
    "duration": 54,
    "start_time": "2025-05-05T16:32:55.183Z"
   },
   {
    "duration": 67,
    "start_time": "2025-05-05T16:32:55.239Z"
   },
   {
    "duration": 559,
    "start_time": "2025-05-05T16:32:55.308Z"
   },
   {
    "duration": 41,
    "start_time": "2025-05-05T16:32:55.869Z"
   },
   {
    "duration": 24,
    "start_time": "2025-05-05T16:32:55.912Z"
   },
   {
    "duration": 453,
    "start_time": "2025-05-05T16:32:55.937Z"
   },
   {
    "duration": 3,
    "start_time": "2025-05-05T16:32:56.392Z"
   },
   {
    "duration": 101,
    "start_time": "2025-05-05T16:32:56.397Z"
   },
   {
    "duration": 615,
    "start_time": "2025-05-05T16:32:56.499Z"
   },
   {
    "duration": 248,
    "start_time": "2025-05-05T16:32:57.117Z"
   },
   {
    "duration": 431,
    "start_time": "2025-05-05T16:32:57.367Z"
   },
   {
    "duration": 281,
    "start_time": "2025-05-05T16:32:57.801Z"
   },
   {
    "duration": 38,
    "start_time": "2025-05-05T16:32:58.085Z"
   },
   {
    "duration": 412,
    "start_time": "2025-05-05T16:32:58.125Z"
   },
   {
    "duration": 51,
    "start_time": "2025-05-05T16:32:58.539Z"
   },
   {
    "duration": 164,
    "start_time": "2025-05-05T16:32:58.592Z"
   },
   {
    "duration": 341,
    "start_time": "2025-05-05T16:32:58.758Z"
   },
   {
    "duration": 36,
    "start_time": "2025-05-05T16:32:59.102Z"
   },
   {
    "duration": 456,
    "start_time": "2025-05-05T16:32:59.140Z"
   },
   {
    "duration": 310,
    "start_time": "2025-05-05T16:32:59.597Z"
   },
   {
    "duration": 5839,
    "start_time": "2025-05-05T16:32:59.910Z"
   },
   {
    "duration": 16,
    "start_time": "2025-05-05T16:33:05.751Z"
   },
   {
    "duration": 1175,
    "start_time": "2025-05-05T16:33:05.771Z"
   },
   {
    "duration": 259534,
    "start_time": "2025-05-05T16:33:06.948Z"
   },
   {
    "duration": 257,
    "start_time": "2025-05-05T16:37:26.484Z"
   },
   {
    "duration": 13550,
    "start_time": "2025-05-05T16:37:26.744Z"
   },
   {
    "duration": 131,
    "start_time": "2025-05-05T16:37:40.296Z"
   },
   {
    "duration": 7,
    "start_time": "2025-05-05T16:37:40.429Z"
   },
   {
    "duration": 241,
    "start_time": "2025-05-05T16:37:40.438Z"
   },
   {
    "duration": 0,
    "start_time": "2025-05-05T16:37:40.682Z"
   },
   {
    "duration": 0,
    "start_time": "2025-05-05T16:37:40.683Z"
   },
   {
    "duration": 0,
    "start_time": "2025-05-05T16:37:40.685Z"
   },
   {
    "duration": 0,
    "start_time": "2025-05-05T16:37:40.687Z"
   },
   {
    "duration": 0,
    "start_time": "2025-05-05T16:37:40.689Z"
   },
   {
    "duration": 0,
    "start_time": "2025-05-05T16:37:40.690Z"
   },
   {
    "duration": 0,
    "start_time": "2025-05-05T16:37:40.692Z"
   },
   {
    "duration": 0,
    "start_time": "2025-05-05T16:37:40.694Z"
   },
   {
    "duration": 6900,
    "start_time": "2025-05-05T16:49:01.862Z"
   },
   {
    "duration": 1688,
    "start_time": "2025-05-05T16:49:08.766Z"
   },
   {
    "duration": 5,
    "start_time": "2025-05-05T16:49:10.456Z"
   },
   {
    "duration": 88,
    "start_time": "2025-05-05T16:49:10.464Z"
   },
   {
    "duration": 64,
    "start_time": "2025-05-05T16:49:10.555Z"
   },
   {
    "duration": 44,
    "start_time": "2025-05-05T16:49:10.621Z"
   },
   {
    "duration": 1250,
    "start_time": "2025-05-05T16:49:10.668Z"
   },
   {
    "duration": 184,
    "start_time": "2025-05-05T16:49:11.920Z"
   },
   {
    "duration": 167,
    "start_time": "2025-05-05T16:49:12.106Z"
   },
   {
    "duration": 213,
    "start_time": "2025-05-05T16:49:12.274Z"
   },
   {
    "duration": 387,
    "start_time": "2025-05-05T16:49:12.489Z"
   },
   {
    "duration": 591,
    "start_time": "2025-05-05T16:49:12.878Z"
   },
   {
    "duration": 1237,
    "start_time": "2025-05-05T16:49:13.472Z"
   },
   {
    "duration": 240,
    "start_time": "2025-05-05T16:49:14.713Z"
   },
   {
    "duration": 15,
    "start_time": "2025-05-05T16:49:14.960Z"
   },
   {
    "duration": 59,
    "start_time": "2025-05-05T16:49:14.978Z"
   },
   {
    "duration": 156,
    "start_time": "2025-05-05T16:49:15.038Z"
   },
   {
    "duration": 141,
    "start_time": "2025-05-05T16:49:15.196Z"
   },
   {
    "duration": 118,
    "start_time": "2025-05-05T16:49:15.339Z"
   },
   {
    "duration": 46,
    "start_time": "2025-05-05T16:49:15.459Z"
   },
   {
    "duration": 654,
    "start_time": "2025-05-05T16:49:15.507Z"
   },
   {
    "duration": 52,
    "start_time": "2025-05-05T16:49:16.165Z"
   },
   {
    "duration": 167,
    "start_time": "2025-05-05T16:49:16.218Z"
   },
   {
    "duration": 525,
    "start_time": "2025-05-05T16:49:16.387Z"
   },
   {
    "duration": 4,
    "start_time": "2025-05-05T16:49:16.914Z"
   },
   {
    "duration": 187,
    "start_time": "2025-05-05T16:49:16.919Z"
   },
   {
    "duration": 641,
    "start_time": "2025-05-05T16:49:17.108Z"
   },
   {
    "duration": 263,
    "start_time": "2025-05-05T16:49:17.751Z"
   },
   {
    "duration": 394,
    "start_time": "2025-05-05T16:49:18.016Z"
   },
   {
    "duration": 318,
    "start_time": "2025-05-05T16:49:18.411Z"
   },
   {
    "duration": 60,
    "start_time": "2025-05-05T16:49:18.731Z"
   },
   {
    "duration": 407,
    "start_time": "2025-05-05T16:49:18.793Z"
   },
   {
    "duration": 34,
    "start_time": "2025-05-05T16:49:19.202Z"
   },
   {
    "duration": 94,
    "start_time": "2025-05-05T16:49:19.238Z"
   },
   {
    "duration": 339,
    "start_time": "2025-05-05T16:49:19.334Z"
   },
   {
    "duration": 38,
    "start_time": "2025-05-05T16:49:19.676Z"
   },
   {
    "duration": 445,
    "start_time": "2025-05-05T16:49:19.716Z"
   },
   {
    "duration": 339,
    "start_time": "2025-05-05T16:49:20.164Z"
   },
   {
    "duration": 6426,
    "start_time": "2025-05-05T16:49:20.504Z"
   },
   {
    "duration": 14,
    "start_time": "2025-05-05T16:49:26.932Z"
   },
   {
    "duration": 1312,
    "start_time": "2025-05-05T16:49:26.950Z"
   },
   {
    "duration": 253434,
    "start_time": "2025-05-05T16:49:28.266Z"
   },
   {
    "duration": 230,
    "start_time": "2025-05-05T16:53:41.702Z"
   },
   {
    "duration": 140,
    "start_time": "2025-05-05T16:53:41.934Z"
   },
   {
    "duration": 1524393,
    "start_time": "2025-05-05T16:53:42.077Z"
   },
   {
    "duration": 407,
    "start_time": "2025-05-05T17:19:06.472Z"
   },
   {
    "duration": 194,
    "start_time": "2025-05-05T17:19:06.881Z"
   },
   {
    "duration": 0,
    "start_time": "2025-05-05T17:19:07.077Z"
   },
   {
    "duration": 0,
    "start_time": "2025-05-05T17:19:07.078Z"
   },
   {
    "duration": 0,
    "start_time": "2025-05-05T17:19:07.079Z"
   },
   {
    "duration": 0,
    "start_time": "2025-05-05T17:19:07.080Z"
   },
   {
    "duration": 0,
    "start_time": "2025-05-05T17:19:07.082Z"
   },
   {
    "duration": 0,
    "start_time": "2025-05-05T17:19:07.083Z"
   },
   {
    "duration": 0,
    "start_time": "2025-05-05T17:19:07.084Z"
   },
   {
    "duration": 0,
    "start_time": "2025-05-05T17:19:07.085Z"
   },
   {
    "duration": 0,
    "start_time": "2025-05-05T17:19:07.087Z"
   },
   {
    "duration": 49,
    "start_time": "2025-05-05T17:36:42.911Z"
   },
   {
    "duration": 1529783,
    "start_time": "2025-05-05T17:36:43.552Z"
   },
   {
    "duration": 1951,
    "start_time": "2025-05-05T18:02:13.337Z"
   },
   {
    "duration": 11,
    "start_time": "2025-05-05T18:02:43.666Z"
   },
   {
    "duration": 6011,
    "start_time": "2025-05-05T18:07:39.778Z"
   },
   {
    "duration": 1541,
    "start_time": "2025-05-05T18:07:45.792Z"
   },
   {
    "duration": 3,
    "start_time": "2025-05-05T18:07:47.335Z"
   },
   {
    "duration": 23,
    "start_time": "2025-05-05T18:07:47.340Z"
   },
   {
    "duration": 35,
    "start_time": "2025-05-05T18:07:47.366Z"
   },
   {
    "duration": 23,
    "start_time": "2025-05-05T18:07:47.403Z"
   },
   {
    "duration": 1215,
    "start_time": "2025-05-05T18:07:47.428Z"
   },
   {
    "duration": 157,
    "start_time": "2025-05-05T18:07:48.645Z"
   },
   {
    "duration": 166,
    "start_time": "2025-05-05T18:07:48.804Z"
   },
   {
    "duration": 197,
    "start_time": "2025-05-05T18:07:48.972Z"
   },
   {
    "duration": 326,
    "start_time": "2025-05-05T18:07:49.171Z"
   },
   {
    "duration": 550,
    "start_time": "2025-05-05T18:07:49.498Z"
   },
   {
    "duration": 1058,
    "start_time": "2025-05-05T18:07:50.050Z"
   },
   {
    "duration": 195,
    "start_time": "2025-05-05T18:07:51.111Z"
   },
   {
    "duration": 9,
    "start_time": "2025-05-05T18:07:51.307Z"
   },
   {
    "duration": 107,
    "start_time": "2025-05-05T18:07:51.318Z"
   },
   {
    "duration": 120,
    "start_time": "2025-05-05T18:07:51.427Z"
   },
   {
    "duration": 66,
    "start_time": "2025-05-05T18:07:51.549Z"
   },
   {
    "duration": 67,
    "start_time": "2025-05-05T18:07:51.616Z"
   },
   {
    "duration": 34,
    "start_time": "2025-05-05T18:07:51.685Z"
   },
   {
    "duration": 494,
    "start_time": "2025-05-05T18:07:51.721Z"
   },
   {
    "duration": 58,
    "start_time": "2025-05-05T18:07:52.217Z"
   },
   {
    "duration": 25,
    "start_time": "2025-05-05T18:07:52.276Z"
   },
   {
    "duration": 443,
    "start_time": "2025-05-05T18:07:52.303Z"
   },
   {
    "duration": 13,
    "start_time": "2025-05-05T18:07:52.748Z"
   },
   {
    "duration": 26,
    "start_time": "2025-05-05T18:07:52.763Z"
   },
   {
    "duration": 580,
    "start_time": "2025-05-05T18:07:52.791Z"
   },
   {
    "duration": 233,
    "start_time": "2025-05-05T18:07:53.374Z"
   },
   {
    "duration": 340,
    "start_time": "2025-05-05T18:07:53.608Z"
   },
   {
    "duration": 267,
    "start_time": "2025-05-05T18:07:53.949Z"
   },
   {
    "duration": 44,
    "start_time": "2025-05-05T18:07:54.218Z"
   },
   {
    "duration": 350,
    "start_time": "2025-05-05T18:07:54.264Z"
   },
   {
    "duration": 33,
    "start_time": "2025-05-05T18:07:54.615Z"
   },
   {
    "duration": 105,
    "start_time": "2025-05-05T18:07:54.650Z"
   },
   {
    "duration": 315,
    "start_time": "2025-05-05T18:07:54.757Z"
   },
   {
    "duration": 35,
    "start_time": "2025-05-05T18:07:55.074Z"
   },
   {
    "duration": 512,
    "start_time": "2025-05-05T18:07:55.111Z"
   },
   {
    "duration": 274,
    "start_time": "2025-05-05T18:07:55.625Z"
   },
   {
    "duration": 5685,
    "start_time": "2025-05-05T18:07:55.901Z"
   },
   {
    "duration": 16,
    "start_time": "2025-05-05T18:08:01.587Z"
   },
   {
    "duration": 1045,
    "start_time": "2025-05-05T18:08:01.607Z"
   },
   {
    "duration": 11,
    "start_time": "2025-05-05T18:08:02.653Z"
   },
   {
    "duration": 46755,
    "start_time": "2025-05-05T18:08:02.666Z"
   },
   {
    "duration": 234,
    "start_time": "2025-05-05T18:08:49.422Z"
   },
   {
    "duration": 151,
    "start_time": "2025-05-05T18:08:49.662Z"
   },
   {
    "duration": 5,
    "start_time": "2025-05-05T18:08:49.815Z"
   },
   {
    "duration": 211454,
    "start_time": "2025-05-05T18:08:49.822Z"
   },
   {
    "duration": 413,
    "start_time": "2025-05-05T18:12:21.278Z"
   },
   {
    "duration": 47,
    "start_time": "2025-05-05T18:12:21.762Z"
   },
   {
    "duration": 4,
    "start_time": "2025-05-05T18:12:21.811Z"
   },
   {
    "duration": 299,
    "start_time": "2025-05-05T18:12:21.817Z"
   },
   {
    "duration": 81,
    "start_time": "2025-05-05T18:12:22.118Z"
   },
   {
    "duration": 29527,
    "start_time": "2025-05-05T18:14:54.983Z"
   },
   {
    "duration": 203374,
    "start_time": "2025-05-05T18:15:39.382Z"
   },
   {
    "duration": 1609,
    "start_time": "2025-05-05T18:19:02.759Z"
   },
   {
    "duration": 6190,
    "start_time": "2025-05-05T18:31:38.681Z"
   },
   {
    "duration": 1462,
    "start_time": "2025-05-05T18:31:44.873Z"
   },
   {
    "duration": 3,
    "start_time": "2025-05-05T18:31:46.337Z"
   },
   {
    "duration": 25,
    "start_time": "2025-05-05T18:31:46.342Z"
   },
   {
    "duration": 7,
    "start_time": "2025-05-05T18:31:46.369Z"
   },
   {
    "duration": 31,
    "start_time": "2025-05-05T18:31:46.378Z"
   },
   {
    "duration": 1062,
    "start_time": "2025-05-05T18:31:46.411Z"
   },
   {
    "duration": 222,
    "start_time": "2025-05-05T18:31:47.476Z"
   },
   {
    "duration": 161,
    "start_time": "2025-05-05T18:31:47.700Z"
   },
   {
    "duration": 199,
    "start_time": "2025-05-05T18:31:47.864Z"
   },
   {
    "duration": 346,
    "start_time": "2025-05-05T18:31:48.065Z"
   },
   {
    "duration": 516,
    "start_time": "2025-05-05T18:31:48.413Z"
   },
   {
    "duration": 1087,
    "start_time": "2025-05-05T18:31:48.931Z"
   },
   {
    "duration": 203,
    "start_time": "2025-05-05T18:31:50.022Z"
   },
   {
    "duration": 8,
    "start_time": "2025-05-05T18:31:50.227Z"
   },
   {
    "duration": 90,
    "start_time": "2025-05-05T18:31:50.237Z"
   },
   {
    "duration": 158,
    "start_time": "2025-05-05T18:31:50.329Z"
   },
   {
    "duration": 184,
    "start_time": "2025-05-05T18:31:50.489Z"
   },
   {
    "duration": 62,
    "start_time": "2025-05-05T18:31:50.675Z"
   },
   {
    "duration": 60,
    "start_time": "2025-05-05T18:31:50.738Z"
   },
   {
    "duration": 496,
    "start_time": "2025-05-05T18:31:50.800Z"
   },
   {
    "duration": 44,
    "start_time": "2025-05-05T18:31:51.298Z"
   },
   {
    "duration": 85,
    "start_time": "2025-05-05T18:31:51.344Z"
   },
   {
    "duration": 412,
    "start_time": "2025-05-05T18:31:51.431Z"
   },
   {
    "duration": 4,
    "start_time": "2025-05-05T18:31:51.844Z"
   },
   {
    "duration": 40,
    "start_time": "2025-05-05T18:31:51.861Z"
   },
   {
    "duration": 637,
    "start_time": "2025-05-05T18:31:51.903Z"
   },
   {
    "duration": 255,
    "start_time": "2025-05-05T18:31:52.541Z"
   },
   {
    "duration": 342,
    "start_time": "2025-05-05T18:31:52.799Z"
   },
   {
    "duration": 267,
    "start_time": "2025-05-05T18:31:53.142Z"
   },
   {
    "duration": 36,
    "start_time": "2025-05-05T18:31:53.410Z"
   },
   {
    "duration": 347,
    "start_time": "2025-05-05T18:31:53.460Z"
   },
   {
    "duration": 33,
    "start_time": "2025-05-05T18:31:53.809Z"
   },
   {
    "duration": 72,
    "start_time": "2025-05-05T18:31:53.844Z"
   },
   {
    "duration": 312,
    "start_time": "2025-05-05T18:31:53.918Z"
   },
   {
    "duration": 44,
    "start_time": "2025-05-05T18:31:54.233Z"
   },
   {
    "duration": 413,
    "start_time": "2025-05-05T18:31:54.279Z"
   },
   {
    "duration": 288,
    "start_time": "2025-05-05T18:31:54.694Z"
   },
   {
    "duration": 5666,
    "start_time": "2025-05-05T18:31:54.984Z"
   },
   {
    "duration": 15,
    "start_time": "2025-05-05T18:32:00.651Z"
   },
   {
    "duration": 1112,
    "start_time": "2025-05-05T18:32:00.672Z"
   },
   {
    "duration": 3,
    "start_time": "2025-05-05T18:32:01.787Z"
   },
   {
    "duration": 41921,
    "start_time": "2025-05-05T18:32:01.791Z"
   },
   {
    "duration": 307,
    "start_time": "2025-05-05T18:32:43.714Z"
   },
   {
    "duration": 130,
    "start_time": "2025-05-05T18:32:44.023Z"
   },
   {
    "duration": 5,
    "start_time": "2025-05-05T18:32:44.156Z"
   },
   {
    "duration": 140200,
    "start_time": "2025-05-05T18:32:44.163Z"
   },
   {
    "duration": 419,
    "start_time": "2025-05-05T18:35:04.365Z"
   },
   {
    "duration": 110,
    "start_time": "2025-05-05T18:35:04.786Z"
   },
   {
    "duration": 139,
    "start_time": "2025-05-05T18:35:04.899Z"
   },
   {
    "duration": 188810,
    "start_time": "2025-05-05T18:35:05.041Z"
   },
   {
    "duration": 2005,
    "start_time": "2025-05-05T18:38:13.852Z"
   },
   {
    "duration": 2171,
    "start_time": "2025-05-05T18:40:47.118Z"
   },
   {
    "duration": 131,
    "start_time": "2025-05-05T18:43:34.363Z"
   },
   {
    "duration": 56,
    "start_time": "2025-05-05T18:52:25.868Z"
   },
   {
    "duration": 6201,
    "start_time": "2025-05-05T19:08:51.853Z"
   },
   {
    "duration": 1482,
    "start_time": "2025-05-05T19:08:58.057Z"
   },
   {
    "duration": 3,
    "start_time": "2025-05-05T19:08:59.542Z"
   },
   {
    "duration": 75,
    "start_time": "2025-05-05T19:08:59.548Z"
   },
   {
    "duration": 30,
    "start_time": "2025-05-05T19:08:59.625Z"
   },
   {
    "duration": 17,
    "start_time": "2025-05-05T19:08:59.657Z"
   },
   {
    "duration": 1028,
    "start_time": "2025-05-05T19:08:59.678Z"
   },
   {
    "duration": 172,
    "start_time": "2025-05-05T19:09:00.708Z"
   },
   {
    "duration": 164,
    "start_time": "2025-05-05T19:09:00.882Z"
   },
   {
    "duration": 252,
    "start_time": "2025-05-05T19:09:01.049Z"
   },
   {
    "duration": 363,
    "start_time": "2025-05-05T19:09:01.303Z"
   },
   {
    "duration": 575,
    "start_time": "2025-05-05T19:09:01.667Z"
   },
   {
    "duration": 1123,
    "start_time": "2025-05-05T19:09:02.243Z"
   },
   {
    "duration": 208,
    "start_time": "2025-05-05T19:09:03.368Z"
   },
   {
    "duration": 9,
    "start_time": "2025-05-05T19:09:03.578Z"
   },
   {
    "duration": 131,
    "start_time": "2025-05-05T19:09:03.588Z"
   },
   {
    "duration": 116,
    "start_time": "2025-05-05T19:09:03.722Z"
   },
   {
    "duration": 90,
    "start_time": "2025-05-05T19:09:03.840Z"
   },
   {
    "duration": 63,
    "start_time": "2025-05-05T19:09:03.932Z"
   },
   {
    "duration": 38,
    "start_time": "2025-05-05T19:09:03.997Z"
   },
   {
    "duration": 502,
    "start_time": "2025-05-05T19:09:04.037Z"
   },
   {
    "duration": 58,
    "start_time": "2025-05-05T19:09:04.541Z"
   },
   {
    "duration": 25,
    "start_time": "2025-05-05T19:09:04.601Z"
   },
   {
    "duration": 536,
    "start_time": "2025-05-05T19:09:04.628Z"
   },
   {
    "duration": 4,
    "start_time": "2025-05-05T19:09:05.166Z"
   },
   {
    "duration": 69,
    "start_time": "2025-05-05T19:09:05.172Z"
   },
   {
    "duration": 544,
    "start_time": "2025-05-05T19:09:05.243Z"
   },
   {
    "duration": 238,
    "start_time": "2025-05-05T19:09:05.793Z"
   },
   {
    "duration": 353,
    "start_time": "2025-05-05T19:09:06.033Z"
   },
   {
    "duration": 275,
    "start_time": "2025-05-05T19:09:06.388Z"
   },
   {
    "duration": 54,
    "start_time": "2025-05-05T19:09:06.665Z"
   },
   {
    "duration": 421,
    "start_time": "2025-05-05T19:09:06.721Z"
   },
   {
    "duration": 45,
    "start_time": "2025-05-05T19:09:07.144Z"
   },
   {
    "duration": 278,
    "start_time": "2025-05-05T19:09:07.191Z"
   },
   {
    "duration": 468,
    "start_time": "2025-05-05T19:09:07.472Z"
   },
   {
    "duration": 40,
    "start_time": "2025-05-05T19:09:07.942Z"
   },
   {
    "duration": 395,
    "start_time": "2025-05-05T19:09:07.984Z"
   },
   {
    "duration": 281,
    "start_time": "2025-05-05T19:09:08.381Z"
   },
   {
    "duration": 5560,
    "start_time": "2025-05-05T19:09:08.665Z"
   },
   {
    "duration": 14,
    "start_time": "2025-05-05T19:09:14.228Z"
   },
   {
    "duration": 1038,
    "start_time": "2025-05-05T19:09:14.244Z"
   },
   {
    "duration": 4,
    "start_time": "2025-05-05T19:09:15.284Z"
   },
   {
    "duration": 40996,
    "start_time": "2025-05-05T19:09:15.289Z"
   },
   {
    "duration": 274,
    "start_time": "2025-05-05T19:09:56.287Z"
   },
   {
    "duration": 138,
    "start_time": "2025-05-05T19:09:56.563Z"
   },
   {
    "duration": 4,
    "start_time": "2025-05-05T19:09:56.703Z"
   },
   {
    "duration": 179061,
    "start_time": "2025-05-05T19:09:56.709Z"
   },
   {
    "duration": 491,
    "start_time": "2025-05-05T19:12:55.771Z"
   },
   {
    "duration": 46,
    "start_time": "2025-05-05T19:12:56.264Z"
   },
   {
    "duration": 3,
    "start_time": "2025-05-05T19:12:56.312Z"
   },
   {
    "duration": 190042,
    "start_time": "2025-05-05T19:12:56.316Z"
   },
   {
    "duration": 2183,
    "start_time": "2025-05-05T19:16:06.360Z"
   },
   {
    "duration": 4,
    "start_time": "2025-05-05T19:16:23.542Z"
   },
   {
    "duration": 4,
    "start_time": "2025-05-05T19:16:28.430Z"
   },
   {
    "duration": 3,
    "start_time": "2025-05-05T19:16:31.418Z"
   },
   {
    "duration": 12419,
    "start_time": "2025-05-06T15:10:57.094Z"
   },
   {
    "duration": 1662,
    "start_time": "2025-05-06T15:11:09.515Z"
   },
   {
    "duration": 3,
    "start_time": "2025-05-06T15:11:11.179Z"
   },
   {
    "duration": 17,
    "start_time": "2025-05-06T15:11:11.183Z"
   },
   {
    "duration": 5,
    "start_time": "2025-05-06T15:11:11.203Z"
   },
   {
    "duration": 112,
    "start_time": "2025-05-06T15:11:11.209Z"
   },
   {
    "duration": 1030,
    "start_time": "2025-05-06T15:11:11.323Z"
   },
   {
    "duration": 173,
    "start_time": "2025-05-06T15:11:12.355Z"
   },
   {
    "duration": 169,
    "start_time": "2025-05-06T15:11:12.529Z"
   },
   {
    "duration": 213,
    "start_time": "2025-05-06T15:11:12.700Z"
   },
   {
    "duration": 328,
    "start_time": "2025-05-06T15:11:12.915Z"
   },
   {
    "duration": 545,
    "start_time": "2025-05-06T15:11:13.245Z"
   },
   {
    "duration": 1114,
    "start_time": "2025-05-06T15:11:13.792Z"
   },
   {
    "duration": 199,
    "start_time": "2025-05-06T15:11:14.910Z"
   },
   {
    "duration": 10,
    "start_time": "2025-05-06T15:11:15.112Z"
   },
   {
    "duration": 1190,
    "start_time": "2025-05-06T15:11:15.124Z"
   },
   {
    "duration": 163,
    "start_time": "2025-05-06T15:11:16.316Z"
   },
   {
    "duration": 0,
    "start_time": "2025-05-06T15:11:16.482Z"
   },
   {
    "duration": 0,
    "start_time": "2025-05-06T15:11:16.484Z"
   },
   {
    "duration": 0,
    "start_time": "2025-05-06T15:11:16.486Z"
   },
   {
    "duration": 0,
    "start_time": "2025-05-06T15:11:16.488Z"
   },
   {
    "duration": 0,
    "start_time": "2025-05-06T15:11:16.489Z"
   },
   {
    "duration": 0,
    "start_time": "2025-05-06T15:11:16.490Z"
   },
   {
    "duration": 0,
    "start_time": "2025-05-06T15:11:16.492Z"
   },
   {
    "duration": 0,
    "start_time": "2025-05-06T15:11:16.493Z"
   },
   {
    "duration": 0,
    "start_time": "2025-05-06T15:11:16.494Z"
   },
   {
    "duration": 0,
    "start_time": "2025-05-06T15:11:16.496Z"
   },
   {
    "duration": 0,
    "start_time": "2025-05-06T15:11:16.497Z"
   },
   {
    "duration": 0,
    "start_time": "2025-05-06T15:11:16.499Z"
   },
   {
    "duration": 0,
    "start_time": "2025-05-06T15:11:16.500Z"
   },
   {
    "duration": 0,
    "start_time": "2025-05-06T15:11:16.502Z"
   },
   {
    "duration": 0,
    "start_time": "2025-05-06T15:11:16.503Z"
   },
   {
    "duration": 0,
    "start_time": "2025-05-06T15:11:16.504Z"
   },
   {
    "duration": 0,
    "start_time": "2025-05-06T15:11:16.505Z"
   },
   {
    "duration": 0,
    "start_time": "2025-05-06T15:11:16.507Z"
   },
   {
    "duration": 0,
    "start_time": "2025-05-06T15:11:16.509Z"
   },
   {
    "duration": 0,
    "start_time": "2025-05-06T15:11:16.510Z"
   },
   {
    "duration": 0,
    "start_time": "2025-05-06T15:11:16.511Z"
   },
   {
    "duration": 0,
    "start_time": "2025-05-06T15:11:16.512Z"
   },
   {
    "duration": 0,
    "start_time": "2025-05-06T15:11:16.513Z"
   },
   {
    "duration": 0,
    "start_time": "2025-05-06T15:11:16.515Z"
   },
   {
    "duration": 0,
    "start_time": "2025-05-06T15:11:16.516Z"
   },
   {
    "duration": 0,
    "start_time": "2025-05-06T15:11:16.518Z"
   },
   {
    "duration": 0,
    "start_time": "2025-05-06T15:11:16.520Z"
   },
   {
    "duration": 0,
    "start_time": "2025-05-06T15:11:16.577Z"
   },
   {
    "duration": 0,
    "start_time": "2025-05-06T15:11:16.579Z"
   },
   {
    "duration": 0,
    "start_time": "2025-05-06T15:11:16.581Z"
   },
   {
    "duration": 0,
    "start_time": "2025-05-06T15:11:16.582Z"
   },
   {
    "duration": 0,
    "start_time": "2025-05-06T15:11:16.584Z"
   },
   {
    "duration": 0,
    "start_time": "2025-05-06T15:11:16.589Z"
   },
   {
    "duration": 0,
    "start_time": "2025-05-06T15:11:16.590Z"
   },
   {
    "duration": 0,
    "start_time": "2025-05-06T15:11:16.592Z"
   },
   {
    "duration": 0,
    "start_time": "2025-05-06T15:11:16.594Z"
   },
   {
    "duration": 0,
    "start_time": "2025-05-06T15:11:16.595Z"
   },
   {
    "duration": 28,
    "start_time": "2025-05-06T15:12:04.079Z"
   },
   {
    "duration": 147,
    "start_time": "2025-05-06T15:12:10.603Z"
   },
   {
    "duration": 30,
    "start_time": "2025-05-06T15:12:16.508Z"
   },
   {
    "duration": 30,
    "start_time": "2025-05-06T15:12:32.990Z"
   },
   {
    "duration": 29,
    "start_time": "2025-05-06T15:12:39.051Z"
   },
   {
    "duration": 27,
    "start_time": "2025-05-06T15:14:13.916Z"
   },
   {
    "duration": 54,
    "start_time": "2025-05-06T15:14:22.015Z"
   },
   {
    "duration": 4,
    "start_time": "2025-05-06T15:14:57.455Z"
   },
   {
    "duration": 4,
    "start_time": "2025-05-06T15:17:25.098Z"
   },
   {
    "duration": 5865,
    "start_time": "2025-05-06T15:21:18.920Z"
   },
   {
    "duration": 1464,
    "start_time": "2025-05-06T15:21:24.787Z"
   },
   {
    "duration": 2,
    "start_time": "2025-05-06T15:21:26.254Z"
   },
   {
    "duration": 44,
    "start_time": "2025-05-06T15:21:26.258Z"
   },
   {
    "duration": 21,
    "start_time": "2025-05-06T15:21:26.304Z"
   },
   {
    "duration": 8,
    "start_time": "2025-05-06T15:21:26.327Z"
   },
   {
    "duration": 1002,
    "start_time": "2025-05-06T15:21:26.337Z"
   },
   {
    "duration": 169,
    "start_time": "2025-05-06T15:21:27.340Z"
   },
   {
    "duration": 159,
    "start_time": "2025-05-06T15:21:27.511Z"
   },
   {
    "duration": 193,
    "start_time": "2025-05-06T15:21:27.672Z"
   },
   {
    "duration": 334,
    "start_time": "2025-05-06T15:21:27.867Z"
   },
   {
    "duration": 490,
    "start_time": "2025-05-06T15:21:28.202Z"
   },
   {
    "duration": 1021,
    "start_time": "2025-05-06T15:21:28.694Z"
   },
   {
    "duration": 194,
    "start_time": "2025-05-06T15:21:29.718Z"
   },
   {
    "duration": 9,
    "start_time": "2025-05-06T15:21:29.914Z"
   },
   {
    "duration": 36,
    "start_time": "2025-05-06T15:21:29.925Z"
   },
   {
    "duration": 43,
    "start_time": "2025-05-06T15:21:29.975Z"
   },
   {
    "duration": 162,
    "start_time": "2025-05-06T15:21:30.020Z"
   },
   {
    "duration": 89,
    "start_time": "2025-05-06T15:21:30.184Z"
   },
   {
    "duration": 53,
    "start_time": "2025-05-06T15:21:30.275Z"
   },
   {
    "duration": 73,
    "start_time": "2025-05-06T15:21:30.330Z"
   },
   {
    "duration": 581,
    "start_time": "2025-05-06T15:21:30.405Z"
   },
   {
    "duration": 42,
    "start_time": "2025-05-06T15:21:30.988Z"
   },
   {
    "duration": 104,
    "start_time": "2025-05-06T15:21:31.032Z"
   },
   {
    "duration": 405,
    "start_time": "2025-05-06T15:21:31.138Z"
   },
   {
    "duration": 2,
    "start_time": "2025-05-06T15:21:31.545Z"
   },
   {
    "duration": 15,
    "start_time": "2025-05-06T15:21:31.549Z"
   },
   {
    "duration": 23,
    "start_time": "2025-05-06T15:21:31.567Z"
   },
   {
    "duration": 7,
    "start_time": "2025-05-06T15:21:31.592Z"
   },
   {
    "duration": 187,
    "start_time": "2025-05-06T15:21:31.601Z"
   },
   {
    "duration": 553,
    "start_time": "2025-05-06T15:21:31.790Z"
   },
   {
    "duration": 226,
    "start_time": "2025-05-06T15:21:32.345Z"
   },
   {
    "duration": 318,
    "start_time": "2025-05-06T15:21:32.573Z"
   },
   {
    "duration": 260,
    "start_time": "2025-05-06T15:21:32.893Z"
   },
   {
    "duration": 44,
    "start_time": "2025-05-06T15:21:33.155Z"
   },
   {
    "duration": 347,
    "start_time": "2025-05-06T15:21:33.201Z"
   },
   {
    "duration": 35,
    "start_time": "2025-05-06T15:21:33.550Z"
   },
   {
    "duration": 63,
    "start_time": "2025-05-06T15:21:33.586Z"
   },
   {
    "duration": 413,
    "start_time": "2025-05-06T15:21:33.651Z"
   },
   {
    "duration": 38,
    "start_time": "2025-05-06T15:21:34.065Z"
   },
   {
    "duration": 370,
    "start_time": "2025-05-06T15:21:34.106Z"
   },
   {
    "duration": 257,
    "start_time": "2025-05-06T15:21:34.478Z"
   },
   {
    "duration": 5261,
    "start_time": "2025-05-06T15:21:34.736Z"
   },
   {
    "duration": 14,
    "start_time": "2025-05-06T15:21:39.998Z"
   },
   {
    "duration": 854,
    "start_time": "2025-05-06T15:21:40.013Z"
   },
   {
    "duration": 2,
    "start_time": "2025-05-06T15:21:40.869Z"
   },
   {
    "duration": 36805,
    "start_time": "2025-05-06T15:21:40.876Z"
   },
   {
    "duration": 243,
    "start_time": "2025-05-06T15:22:17.682Z"
   },
   {
    "duration": 114,
    "start_time": "2025-05-06T15:22:17.927Z"
   },
   {
    "duration": 3,
    "start_time": "2025-05-06T15:22:18.043Z"
   },
   {
    "duration": 2640,
    "start_time": "2025-05-06T15:22:18.047Z"
   },
   {
    "duration": 491,
    "start_time": "2025-05-06T15:22:20.688Z"
   },
   {
    "duration": 44,
    "start_time": "2025-05-06T15:22:21.181Z"
   },
   {
    "duration": 3,
    "start_time": "2025-05-06T15:22:21.226Z"
   },
   {
    "duration": 181747,
    "start_time": "2025-05-06T15:22:21.231Z"
   },
   {
    "duration": 2003,
    "start_time": "2025-05-06T15:25:22.980Z"
   },
   {
    "duration": 5618,
    "start_time": "2025-05-06T17:11:40.615Z"
   },
   {
    "duration": 1410,
    "start_time": "2025-05-06T17:11:46.235Z"
   },
   {
    "duration": 3,
    "start_time": "2025-05-06T17:11:47.646Z"
   },
   {
    "duration": 123,
    "start_time": "2025-05-06T17:11:47.650Z"
   },
   {
    "duration": 13,
    "start_time": "2025-05-06T17:11:47.775Z"
   },
   {
    "duration": 8,
    "start_time": "2025-05-06T17:11:47.790Z"
   },
   {
    "duration": 977,
    "start_time": "2025-05-06T17:11:47.800Z"
   },
   {
    "duration": 164,
    "start_time": "2025-05-06T17:11:48.779Z"
   },
   {
    "duration": 163,
    "start_time": "2025-05-06T17:11:48.945Z"
   },
   {
    "duration": 180,
    "start_time": "2025-05-06T17:11:49.110Z"
   },
   {
    "duration": 321,
    "start_time": "2025-05-06T17:11:49.291Z"
   },
   {
    "duration": 480,
    "start_time": "2025-05-06T17:11:49.614Z"
   },
   {
    "duration": 1032,
    "start_time": "2025-05-06T17:11:50.096Z"
   },
   {
    "duration": 191,
    "start_time": "2025-05-06T17:11:51.131Z"
   },
   {
    "duration": 8,
    "start_time": "2025-05-06T17:11:51.324Z"
   },
   {
    "duration": 45,
    "start_time": "2025-05-06T17:11:51.334Z"
   },
   {
    "duration": 44,
    "start_time": "2025-05-06T17:11:51.381Z"
   },
   {
    "duration": 116,
    "start_time": "2025-05-06T17:11:51.426Z"
   },
   {
    "duration": 185,
    "start_time": "2025-05-06T17:11:51.544Z"
   },
   {
    "duration": 81,
    "start_time": "2025-05-06T17:11:51.731Z"
   },
   {
    "duration": 37,
    "start_time": "2025-05-06T17:11:51.814Z"
   },
   {
    "duration": 497,
    "start_time": "2025-05-06T17:11:51.852Z"
   },
   {
    "duration": 57,
    "start_time": "2025-05-06T17:11:52.351Z"
   },
   {
    "duration": 35,
    "start_time": "2025-05-06T17:11:52.410Z"
   },
   {
    "duration": 375,
    "start_time": "2025-05-06T17:11:52.447Z"
   },
   {
    "duration": 2,
    "start_time": "2025-05-06T17:11:52.824Z"
   },
   {
    "duration": 128,
    "start_time": "2025-05-06T17:11:52.828Z"
   },
   {
    "duration": 15,
    "start_time": "2025-05-06T17:11:52.958Z"
   },
   {
    "duration": 24,
    "start_time": "2025-05-06T17:11:52.974Z"
   },
   {
    "duration": 39,
    "start_time": "2025-05-06T17:11:53.000Z"
   },
   {
    "duration": 513,
    "start_time": "2025-05-06T17:11:53.040Z"
   },
   {
    "duration": 221,
    "start_time": "2025-05-06T17:11:53.555Z"
   },
   {
    "duration": 317,
    "start_time": "2025-05-06T17:11:53.778Z"
   },
   {
    "duration": 261,
    "start_time": "2025-05-06T17:11:54.097Z"
   },
   {
    "duration": 39,
    "start_time": "2025-05-06T17:11:54.360Z"
   },
   {
    "duration": 352,
    "start_time": "2025-05-06T17:11:54.400Z"
   },
   {
    "duration": 32,
    "start_time": "2025-05-06T17:11:54.753Z"
   },
   {
    "duration": 170,
    "start_time": "2025-05-06T17:11:54.787Z"
   },
   {
    "duration": 277,
    "start_time": "2025-05-06T17:11:54.958Z"
   },
   {
    "duration": 43,
    "start_time": "2025-05-06T17:11:55.236Z"
   },
   {
    "duration": 375,
    "start_time": "2025-05-06T17:11:55.283Z"
   },
   {
    "duration": 282,
    "start_time": "2025-05-06T17:11:55.660Z"
   },
   {
    "duration": 5366,
    "start_time": "2025-05-06T17:11:55.943Z"
   },
   {
    "duration": 14,
    "start_time": "2025-05-06T17:12:01.311Z"
   },
   {
    "duration": 45,
    "start_time": "2025-05-06T17:12:01.327Z"
   },
   {
    "duration": 44,
    "start_time": "2025-05-06T17:12:01.374Z"
   },
   {
    "duration": 21,
    "start_time": "2025-05-06T17:12:01.420Z"
   },
   {
    "duration": 25,
    "start_time": "2025-05-06T17:12:01.443Z"
   },
   {
    "duration": 173,
    "start_time": "2025-05-06T17:12:01.470Z"
   },
   {
    "duration": 173,
    "start_time": "2025-05-06T17:12:01.645Z"
   },
   {
    "duration": 40,
    "start_time": "2025-05-06T17:12:01.820Z"
   },
   {
    "duration": 69,
    "start_time": "2025-05-06T17:12:01.863Z"
   },
   {
    "duration": 35,
    "start_time": "2025-05-06T17:12:01.934Z"
   },
   {
    "duration": 37,
    "start_time": "2025-05-06T17:12:01.971Z"
   },
   {
    "duration": 23,
    "start_time": "2025-05-06T17:12:02.011Z"
   },
   {
    "duration": 72,
    "start_time": "2025-05-06T17:12:02.039Z"
   },
   {
    "duration": 247,
    "start_time": "2025-05-06T17:12:02.112Z"
   },
   {
    "duration": 128,
    "start_time": "2025-05-06T17:12:02.361Z"
   },
   {
    "duration": 0,
    "start_time": "2025-05-06T17:12:02.491Z"
   },
   {
    "duration": 0,
    "start_time": "2025-05-06T17:12:02.492Z"
   },
   {
    "duration": 0,
    "start_time": "2025-05-06T17:12:02.493Z"
   },
   {
    "duration": 5,
    "start_time": "2025-05-06T17:17:08.427Z"
   },
   {
    "duration": 527,
    "start_time": "2025-05-06T17:17:16.529Z"
   },
   {
    "duration": 213,
    "start_time": "2025-05-06T17:17:36.168Z"
   },
   {
    "duration": 511,
    "start_time": "2025-05-06T17:17:36.384Z"
   },
   {
    "duration": 692635,
    "start_time": "2025-05-06T17:32:31.870Z"
   },
   {
    "duration": 12,
    "start_time": "2025-05-06T17:44:36.574Z"
   },
   {
    "duration": 1215,
    "start_time": "2025-05-06T17:45:57.073Z"
   },
   {
    "duration": 0,
    "start_time": "2025-05-06T17:45:58.290Z"
   },
   {
    "duration": 5840,
    "start_time": "2025-05-06T17:46:29.883Z"
   },
   {
    "duration": 1411,
    "start_time": "2025-05-06T17:46:35.726Z"
   },
   {
    "duration": 3,
    "start_time": "2025-05-06T17:46:37.139Z"
   },
   {
    "duration": 30,
    "start_time": "2025-05-06T17:46:37.143Z"
   },
   {
    "duration": 9,
    "start_time": "2025-05-06T17:46:37.175Z"
   },
   {
    "duration": 16,
    "start_time": "2025-05-06T17:46:37.185Z"
   },
   {
    "duration": 968,
    "start_time": "2025-05-06T17:46:37.202Z"
   },
   {
    "duration": 169,
    "start_time": "2025-05-06T17:46:38.175Z"
   },
   {
    "duration": 159,
    "start_time": "2025-05-06T17:46:38.346Z"
   },
   {
    "duration": 183,
    "start_time": "2025-05-06T17:46:38.507Z"
   },
   {
    "duration": 335,
    "start_time": "2025-05-06T17:46:38.692Z"
   },
   {
    "duration": 493,
    "start_time": "2025-05-06T17:46:39.029Z"
   },
   {
    "duration": 1046,
    "start_time": "2025-05-06T17:46:39.524Z"
   },
   {
    "duration": 198,
    "start_time": "2025-05-06T17:46:40.573Z"
   },
   {
    "duration": 9,
    "start_time": "2025-05-06T17:46:40.773Z"
   },
   {
    "duration": 29,
    "start_time": "2025-05-06T17:46:40.784Z"
   },
   {
    "duration": 62,
    "start_time": "2025-05-06T17:46:40.815Z"
   },
   {
    "duration": 110,
    "start_time": "2025-05-06T17:46:40.879Z"
   },
   {
    "duration": 89,
    "start_time": "2025-05-06T17:46:40.991Z"
   },
   {
    "duration": 55,
    "start_time": "2025-05-06T17:46:41.082Z"
   },
   {
    "duration": 49,
    "start_time": "2025-05-06T17:46:41.139Z"
   },
   {
    "duration": 475,
    "start_time": "2025-05-06T17:46:41.189Z"
   },
   {
    "duration": 54,
    "start_time": "2025-05-06T17:46:41.665Z"
   },
   {
    "duration": 119,
    "start_time": "2025-05-06T17:46:41.722Z"
   },
   {
    "duration": 454,
    "start_time": "2025-05-06T17:46:41.843Z"
   },
   {
    "duration": 3,
    "start_time": "2025-05-06T17:46:42.299Z"
   },
   {
    "duration": 12,
    "start_time": "2025-05-06T17:46:42.304Z"
   },
   {
    "duration": 17,
    "start_time": "2025-05-06T17:46:42.317Z"
   },
   {
    "duration": 17,
    "start_time": "2025-05-06T17:46:42.335Z"
   },
   {
    "duration": 51,
    "start_time": "2025-05-06T17:46:42.353Z"
   },
   {
    "duration": 504,
    "start_time": "2025-05-06T17:46:42.406Z"
   },
   {
    "duration": 218,
    "start_time": "2025-05-06T17:46:42.911Z"
   },
   {
    "duration": 324,
    "start_time": "2025-05-06T17:46:43.131Z"
   },
   {
    "duration": 252,
    "start_time": "2025-05-06T17:46:43.456Z"
   },
   {
    "duration": 35,
    "start_time": "2025-05-06T17:46:43.709Z"
   },
   {
    "duration": 426,
    "start_time": "2025-05-06T17:46:43.746Z"
   },
   {
    "duration": 32,
    "start_time": "2025-05-06T17:46:44.176Z"
   },
   {
    "duration": 71,
    "start_time": "2025-05-06T17:46:44.209Z"
   },
   {
    "duration": 280,
    "start_time": "2025-05-06T17:46:44.282Z"
   },
   {
    "duration": 36,
    "start_time": "2025-05-06T17:46:44.564Z"
   },
   {
    "duration": 397,
    "start_time": "2025-05-06T17:46:44.605Z"
   },
   {
    "duration": 264,
    "start_time": "2025-05-06T17:46:45.003Z"
   },
   {
    "duration": 5265,
    "start_time": "2025-05-06T17:46:45.276Z"
   },
   {
    "duration": 2,
    "start_time": "2025-05-06T17:46:50.543Z"
   },
   {
    "duration": 475,
    "start_time": "2025-05-06T17:46:50.547Z"
   },
   {
    "duration": 0,
    "start_time": "2025-05-06T17:46:51.023Z"
   },
   {
    "duration": 0,
    "start_time": "2025-05-06T17:46:51.025Z"
   },
   {
    "duration": 0,
    "start_time": "2025-05-06T17:46:51.025Z"
   },
   {
    "duration": 0,
    "start_time": "2025-05-06T17:46:51.027Z"
   },
   {
    "duration": 0,
    "start_time": "2025-05-06T17:46:51.028Z"
   },
   {
    "duration": 0,
    "start_time": "2025-05-06T17:46:51.029Z"
   },
   {
    "duration": 0,
    "start_time": "2025-05-06T17:46:51.031Z"
   },
   {
    "duration": 0,
    "start_time": "2025-05-06T17:46:51.032Z"
   },
   {
    "duration": 0,
    "start_time": "2025-05-06T17:46:51.032Z"
   },
   {
    "duration": 0,
    "start_time": "2025-05-06T17:46:51.033Z"
   },
   {
    "duration": 1,
    "start_time": "2025-05-06T17:46:51.034Z"
   },
   {
    "duration": 0,
    "start_time": "2025-05-06T17:46:51.035Z"
   },
   {
    "duration": 0,
    "start_time": "2025-05-06T17:46:51.036Z"
   },
   {
    "duration": 0,
    "start_time": "2025-05-06T17:46:51.037Z"
   },
   {
    "duration": 0,
    "start_time": "2025-05-06T17:46:51.039Z"
   },
   {
    "duration": 0,
    "start_time": "2025-05-06T17:46:51.040Z"
   },
   {
    "duration": 0,
    "start_time": "2025-05-06T17:46:51.041Z"
   },
   {
    "duration": 0,
    "start_time": "2025-05-06T17:46:51.076Z"
   },
   {
    "duration": 0,
    "start_time": "2025-05-06T17:46:51.077Z"
   },
   {
    "duration": 0,
    "start_time": "2025-05-06T17:46:51.079Z"
   },
   {
    "duration": 81,
    "start_time": "2025-05-06T17:47:00.242Z"
   },
   {
    "duration": 14,
    "start_time": "2025-05-06T17:47:03.638Z"
   },
   {
    "duration": 51825,
    "start_time": "2025-05-06T17:48:14.669Z"
   },
   {
    "duration": 14,
    "start_time": "2025-05-06T17:50:22.298Z"
   },
   {
    "duration": 10,
    "start_time": "2025-05-06T17:56:34.993Z"
   },
   {
    "duration": 8871,
    "start_time": "2025-05-06T17:57:05.348Z"
   },
   {
    "duration": 167,
    "start_time": "2025-05-06T18:01:52.428Z"
   },
   {
    "duration": 89,
    "start_time": "2025-05-06T18:02:00.290Z"
   },
   {
    "duration": 1414,
    "start_time": "2025-05-06T18:02:10.438Z"
   },
   {
    "duration": 163,
    "start_time": "2025-05-06T18:03:44.216Z"
   },
   {
    "duration": 172,
    "start_time": "2025-05-06T18:04:03.688Z"
   },
   {
    "duration": 151,
    "start_time": "2025-05-06T18:07:19.965Z"
   },
   {
    "duration": 8473,
    "start_time": "2025-05-06T18:07:58.608Z"
   },
   {
    "duration": 1510,
    "start_time": "2025-05-06T18:08:07.084Z"
   },
   {
    "duration": 3,
    "start_time": "2025-05-06T18:08:08.596Z"
   },
   {
    "duration": 18,
    "start_time": "2025-05-06T18:08:08.600Z"
   },
   {
    "duration": 18,
    "start_time": "2025-05-06T18:08:08.621Z"
   },
   {
    "duration": 25,
    "start_time": "2025-05-06T18:08:08.641Z"
   },
   {
    "duration": 1004,
    "start_time": "2025-05-06T18:08:08.668Z"
   },
   {
    "duration": 167,
    "start_time": "2025-05-06T18:08:09.673Z"
   },
   {
    "duration": 161,
    "start_time": "2025-05-06T18:08:09.841Z"
   },
   {
    "duration": 188,
    "start_time": "2025-05-06T18:08:10.003Z"
   },
   {
    "duration": 332,
    "start_time": "2025-05-06T18:08:10.193Z"
   },
   {
    "duration": 510,
    "start_time": "2025-05-06T18:08:10.526Z"
   },
   {
    "duration": 1083,
    "start_time": "2025-05-06T18:08:11.038Z"
   },
   {
    "duration": 204,
    "start_time": "2025-05-06T18:08:12.124Z"
   },
   {
    "duration": 8,
    "start_time": "2025-05-06T18:08:12.329Z"
   },
   {
    "duration": 47,
    "start_time": "2025-05-06T18:08:12.339Z"
   },
   {
    "duration": 42,
    "start_time": "2025-05-06T18:08:12.387Z"
   },
   {
    "duration": 151,
    "start_time": "2025-05-06T18:08:12.430Z"
   },
   {
    "duration": 74,
    "start_time": "2025-05-06T18:08:12.583Z"
   },
   {
    "duration": 57,
    "start_time": "2025-05-06T18:08:12.658Z"
   },
   {
    "duration": 139,
    "start_time": "2025-05-06T18:08:12.716Z"
   },
   {
    "duration": 460,
    "start_time": "2025-05-06T18:08:12.857Z"
   },
   {
    "duration": 57,
    "start_time": "2025-05-06T18:08:13.319Z"
   },
   {
    "duration": 24,
    "start_time": "2025-05-06T18:08:13.378Z"
   },
   {
    "duration": 498,
    "start_time": "2025-05-06T18:08:13.404Z"
   },
   {
    "duration": 2,
    "start_time": "2025-05-06T18:08:13.904Z"
   },
   {
    "duration": 72,
    "start_time": "2025-05-06T18:08:13.908Z"
   },
   {
    "duration": 18,
    "start_time": "2025-05-06T18:08:13.982Z"
   },
   {
    "duration": 15,
    "start_time": "2025-05-06T18:08:14.001Z"
   },
   {
    "duration": 23,
    "start_time": "2025-05-06T18:08:14.018Z"
   },
   {
    "duration": 423,
    "start_time": "2025-05-06T18:08:14.042Z"
   },
   {
    "duration": 222,
    "start_time": "2025-05-06T18:08:14.467Z"
   },
   {
    "duration": 324,
    "start_time": "2025-05-06T18:08:14.691Z"
   },
   {
    "duration": 264,
    "start_time": "2025-05-06T18:08:15.017Z"
   },
   {
    "duration": 34,
    "start_time": "2025-05-06T18:08:15.282Z"
   },
   {
    "duration": 344,
    "start_time": "2025-05-06T18:08:15.318Z"
   },
   {
    "duration": 41,
    "start_time": "2025-05-06T18:08:15.664Z"
   },
   {
    "duration": 65,
    "start_time": "2025-05-06T18:08:15.706Z"
   },
   {
    "duration": 313,
    "start_time": "2025-05-06T18:08:15.776Z"
   },
   {
    "duration": 36,
    "start_time": "2025-05-06T18:08:16.090Z"
   },
   {
    "duration": 363,
    "start_time": "2025-05-06T18:08:16.130Z"
   },
   {
    "duration": 285,
    "start_time": "2025-05-06T18:08:16.495Z"
   },
   {
    "duration": 5343,
    "start_time": "2025-05-06T18:08:16.782Z"
   },
   {
    "duration": 15,
    "start_time": "2025-05-06T18:08:22.127Z"
   },
   {
    "duration": 4,
    "start_time": "2025-05-06T18:08:22.144Z"
   },
   {
    "duration": 7,
    "start_time": "2025-05-06T18:08:22.149Z"
   },
   {
    "duration": 7,
    "start_time": "2025-05-06T18:08:22.157Z"
   },
   {
    "duration": 11,
    "start_time": "2025-05-06T18:08:22.177Z"
   },
   {
    "duration": 10,
    "start_time": "2025-05-06T18:08:22.190Z"
   },
   {
    "duration": 4,
    "start_time": "2025-05-06T18:08:22.202Z"
   },
   {
    "duration": 4,
    "start_time": "2025-05-06T18:08:22.207Z"
   },
   {
    "duration": 3,
    "start_time": "2025-05-06T18:08:22.213Z"
   },
   {
    "duration": 11,
    "start_time": "2025-05-06T18:08:22.217Z"
   },
   {
    "duration": 7,
    "start_time": "2025-05-06T18:08:22.229Z"
   },
   {
    "duration": 16,
    "start_time": "2025-05-06T18:08:22.238Z"
   },
   {
    "duration": 19,
    "start_time": "2025-05-06T18:08:22.256Z"
   },
   {
    "duration": 200,
    "start_time": "2025-05-06T18:08:22.277Z"
   },
   {
    "duration": 25450,
    "start_time": "2025-05-06T18:08:22.478Z"
   },
   {
    "duration": 0,
    "start_time": "2025-05-06T18:08:47.930Z"
   },
   {
    "duration": 0,
    "start_time": "2025-05-06T18:08:47.932Z"
   },
   {
    "duration": 0,
    "start_time": "2025-05-06T18:08:47.933Z"
   },
   {
    "duration": 0,
    "start_time": "2025-05-06T18:08:47.935Z"
   },
   {
    "duration": 28900,
    "start_time": "2025-05-06T18:09:33.396Z"
   },
   {
    "duration": 13,
    "start_time": "2025-05-06T18:10:14.661Z"
   },
   {
    "duration": 14,
    "start_time": "2025-05-06T18:10:29.388Z"
   },
   {
    "duration": 15,
    "start_time": "2025-05-06T18:10:55.016Z"
   },
   {
    "duration": 29,
    "start_time": "2025-05-06T18:11:10.368Z"
   },
   {
    "duration": 14186,
    "start_time": "2025-05-06T18:11:18.806Z"
   },
   {
    "duration": 206,
    "start_time": "2025-05-06T18:24:04.788Z"
   },
   {
    "duration": 15839,
    "start_time": "2025-05-06T18:36:06.746Z"
   },
   {
    "duration": 12328,
    "start_time": "2025-05-06T18:39:32.363Z"
   },
   {
    "duration": 16511,
    "start_time": "2025-05-06T18:42:19.270Z"
   },
   {
    "duration": 6,
    "start_time": "2025-05-06T18:42:43.074Z"
   },
   {
    "duration": 18830,
    "start_time": "2025-05-06T18:42:56.156Z"
   },
   {
    "duration": 4729,
    "start_time": "2025-05-06T18:44:17.222Z"
   },
   {
    "duration": 20336,
    "start_time": "2025-05-06T18:44:30.210Z"
   },
   {
    "duration": 20477,
    "start_time": "2025-05-06T18:46:51.255Z"
   },
   {
    "duration": 19614,
    "start_time": "2025-05-06T18:47:42.787Z"
   },
   {
    "duration": 21,
    "start_time": "2025-05-06T18:52:55.352Z"
   },
   {
    "duration": 823,
    "start_time": "2025-05-06T18:53:43.375Z"
   },
   {
    "duration": 181,
    "start_time": "2025-05-06T18:54:23.096Z"
   },
   {
    "duration": 225,
    "start_time": "2025-05-06T18:54:32.957Z"
   },
   {
    "duration": 153903,
    "start_time": "2025-05-06T18:54:50.542Z"
   },
   {
    "duration": 49682,
    "start_time": "2025-05-06T18:59:47.360Z"
   },
   {
    "duration": 16900,
    "start_time": "2025-05-06T19:01:22.079Z"
   },
   {
    "duration": 280483,
    "start_time": "2025-05-06T19:01:38.981Z"
   },
   {
    "duration": 8,
    "start_time": "2025-05-06T19:06:32.929Z"
   },
   {
    "duration": 12,
    "start_time": "2025-05-06T19:06:45.776Z"
   },
   {
    "duration": 8562,
    "start_time": "2025-05-06T19:17:04.217Z"
   },
   {
    "duration": 1531,
    "start_time": "2025-05-06T19:17:12.782Z"
   },
   {
    "duration": 3,
    "start_time": "2025-05-06T19:17:14.316Z"
   },
   {
    "duration": 23,
    "start_time": "2025-05-06T19:17:14.321Z"
   },
   {
    "duration": 6,
    "start_time": "2025-05-06T19:17:14.346Z"
   },
   {
    "duration": 6,
    "start_time": "2025-05-06T19:17:14.354Z"
   },
   {
    "duration": 1016,
    "start_time": "2025-05-06T19:17:14.361Z"
   },
   {
    "duration": 175,
    "start_time": "2025-05-06T19:17:15.380Z"
   },
   {
    "duration": 168,
    "start_time": "2025-05-06T19:17:15.557Z"
   },
   {
    "duration": 220,
    "start_time": "2025-05-06T19:17:15.727Z"
   },
   {
    "duration": 337,
    "start_time": "2025-05-06T19:17:15.950Z"
   },
   {
    "duration": 536,
    "start_time": "2025-05-06T19:17:16.290Z"
   },
   {
    "duration": 1112,
    "start_time": "2025-05-06T19:17:16.828Z"
   },
   {
    "duration": 198,
    "start_time": "2025-05-06T19:17:17.946Z"
   },
   {
    "duration": 9,
    "start_time": "2025-05-06T19:17:18.146Z"
   },
   {
    "duration": 167,
    "start_time": "2025-05-06T19:17:18.158Z"
   },
   {
    "duration": 46,
    "start_time": "2025-05-06T19:17:18.327Z"
   },
   {
    "duration": 105,
    "start_time": "2025-05-06T19:17:18.375Z"
   },
   {
    "duration": 70,
    "start_time": "2025-05-06T19:17:18.482Z"
   },
   {
    "duration": 71,
    "start_time": "2025-05-06T19:17:18.554Z"
   },
   {
    "duration": 50,
    "start_time": "2025-05-06T19:17:18.627Z"
   },
   {
    "duration": 572,
    "start_time": "2025-05-06T19:17:18.679Z"
   },
   {
    "duration": 53,
    "start_time": "2025-05-06T19:17:19.253Z"
   },
   {
    "duration": 24,
    "start_time": "2025-05-06T19:17:19.308Z"
   },
   {
    "duration": 484,
    "start_time": "2025-05-06T19:17:19.334Z"
   },
   {
    "duration": 2,
    "start_time": "2025-05-06T19:17:19.820Z"
   },
   {
    "duration": 83,
    "start_time": "2025-05-06T19:17:19.823Z"
   },
   {
    "duration": 16,
    "start_time": "2025-05-06T19:17:19.907Z"
   },
   {
    "duration": 6,
    "start_time": "2025-05-06T19:17:19.925Z"
   },
   {
    "duration": 34,
    "start_time": "2025-05-06T19:17:19.933Z"
   },
   {
    "duration": 438,
    "start_time": "2025-05-06T19:17:19.969Z"
   },
   {
    "duration": 233,
    "start_time": "2025-05-06T19:17:20.409Z"
   },
   {
    "duration": 326,
    "start_time": "2025-05-06T19:17:20.643Z"
   },
   {
    "duration": 266,
    "start_time": "2025-05-06T19:17:20.970Z"
   },
   {
    "duration": 44,
    "start_time": "2025-05-06T19:17:21.238Z"
   },
   {
    "duration": 448,
    "start_time": "2025-05-06T19:17:21.284Z"
   },
   {
    "duration": 42,
    "start_time": "2025-05-06T19:17:21.734Z"
   },
   {
    "duration": 57,
    "start_time": "2025-05-06T19:17:21.779Z"
   },
   {
    "duration": 367,
    "start_time": "2025-05-06T19:17:21.838Z"
   },
   {
    "duration": 36,
    "start_time": "2025-05-06T19:17:22.207Z"
   },
   {
    "duration": 448,
    "start_time": "2025-05-06T19:17:22.249Z"
   },
   {
    "duration": 267,
    "start_time": "2025-05-06T19:17:22.700Z"
   },
   {
    "duration": 5448,
    "start_time": "2025-05-06T19:17:22.969Z"
   },
   {
    "duration": 3,
    "start_time": "2025-05-06T19:17:28.419Z"
   },
   {
    "duration": 8,
    "start_time": "2025-05-06T19:17:28.424Z"
   },
   {
    "duration": 38,
    "start_time": "2025-05-06T19:17:28.433Z"
   },
   {
    "duration": 5,
    "start_time": "2025-05-06T19:17:28.473Z"
   },
   {
    "duration": 7,
    "start_time": "2025-05-06T19:17:28.480Z"
   },
   {
    "duration": 4,
    "start_time": "2025-05-06T19:17:28.489Z"
   },
   {
    "duration": 12,
    "start_time": "2025-05-06T19:17:28.495Z"
   },
   {
    "duration": 21,
    "start_time": "2025-05-06T19:17:28.509Z"
   },
   {
    "duration": 8,
    "start_time": "2025-05-06T19:17:28.532Z"
   },
   {
    "duration": 17,
    "start_time": "2025-05-06T19:17:28.541Z"
   },
   {
    "duration": 5,
    "start_time": "2025-05-06T19:17:28.560Z"
   },
   {
    "duration": 5,
    "start_time": "2025-05-06T19:17:28.567Z"
   },
   {
    "duration": 11,
    "start_time": "2025-05-06T19:17:28.574Z"
   },
   {
    "duration": 42,
    "start_time": "2025-05-06T19:17:28.586Z"
   },
   {
    "duration": 234,
    "start_time": "2025-05-06T19:17:28.631Z"
   },
   {
    "duration": 29744,
    "start_time": "2025-05-06T19:17:28.866Z"
   },
   {
    "duration": 25065,
    "start_time": "2025-05-06T19:17:58.613Z"
   },
   {
    "duration": 25690,
    "start_time": "2025-05-06T19:18:23.680Z"
   },
   {
    "duration": 12,
    "start_time": "2025-05-06T19:18:49.372Z"
   },
   {
    "duration": 7874,
    "start_time": "2025-05-06T19:26:43.387Z"
   },
   {
    "duration": 1472,
    "start_time": "2025-05-06T19:26:51.264Z"
   },
   {
    "duration": 3,
    "start_time": "2025-05-06T19:26:52.737Z"
   },
   {
    "duration": 17,
    "start_time": "2025-05-06T19:26:52.741Z"
   },
   {
    "duration": 41,
    "start_time": "2025-05-06T19:26:52.760Z"
   },
   {
    "duration": 58,
    "start_time": "2025-05-06T19:26:52.802Z"
   },
   {
    "duration": 918,
    "start_time": "2025-05-06T19:26:52.862Z"
   },
   {
    "duration": 158,
    "start_time": "2025-05-06T19:26:53.781Z"
   },
   {
    "duration": 144,
    "start_time": "2025-05-06T19:26:53.940Z"
   },
   {
    "duration": 171,
    "start_time": "2025-05-06T19:26:54.086Z"
   },
   {
    "duration": 309,
    "start_time": "2025-05-06T19:26:54.258Z"
   },
   {
    "duration": 465,
    "start_time": "2025-05-06T19:26:54.568Z"
   },
   {
    "duration": 994,
    "start_time": "2025-05-06T19:26:55.034Z"
   },
   {
    "duration": 198,
    "start_time": "2025-05-06T19:26:56.032Z"
   },
   {
    "duration": 8,
    "start_time": "2025-05-06T19:26:56.232Z"
   },
   {
    "duration": 161,
    "start_time": "2025-05-06T19:26:56.242Z"
   },
   {
    "duration": 62,
    "start_time": "2025-05-06T19:26:56.404Z"
   },
   {
    "duration": 100,
    "start_time": "2025-05-06T19:26:56.467Z"
   },
   {
    "duration": 66,
    "start_time": "2025-05-06T19:26:56.568Z"
   },
   {
    "duration": 64,
    "start_time": "2025-05-06T19:26:56.636Z"
   },
   {
    "duration": 36,
    "start_time": "2025-05-06T19:26:56.702Z"
   },
   {
    "duration": 553,
    "start_time": "2025-05-06T19:26:56.740Z"
   },
   {
    "duration": 41,
    "start_time": "2025-05-06T19:26:57.295Z"
   },
   {
    "duration": 42,
    "start_time": "2025-05-06T19:26:57.337Z"
   },
   {
    "duration": 418,
    "start_time": "2025-05-06T19:26:57.381Z"
   },
   {
    "duration": 2,
    "start_time": "2025-05-06T19:26:57.801Z"
   },
   {
    "duration": 9,
    "start_time": "2025-05-06T19:26:57.804Z"
   },
   {
    "duration": 10,
    "start_time": "2025-05-06T19:26:57.815Z"
   },
   {
    "duration": 28,
    "start_time": "2025-05-06T19:26:57.826Z"
   },
   {
    "duration": 24,
    "start_time": "2025-05-06T19:26:57.856Z"
   },
   {
    "duration": 473,
    "start_time": "2025-05-06T19:26:57.882Z"
   },
   {
    "duration": 212,
    "start_time": "2025-05-06T19:26:58.356Z"
   },
   {
    "duration": 307,
    "start_time": "2025-05-06T19:26:58.569Z"
   },
   {
    "duration": 247,
    "start_time": "2025-05-06T19:26:58.878Z"
   },
   {
    "duration": 34,
    "start_time": "2025-05-06T19:26:59.127Z"
   },
   {
    "duration": 399,
    "start_time": "2025-05-06T19:26:59.163Z"
   },
   {
    "duration": 34,
    "start_time": "2025-05-06T19:26:59.564Z"
   },
   {
    "duration": 56,
    "start_time": "2025-05-06T19:26:59.599Z"
   },
   {
    "duration": 272,
    "start_time": "2025-05-06T19:26:59.657Z"
   },
   {
    "duration": 33,
    "start_time": "2025-05-06T19:26:59.931Z"
   },
   {
    "duration": 348,
    "start_time": "2025-05-06T19:26:59.977Z"
   },
   {
    "duration": 243,
    "start_time": "2025-05-06T19:27:00.326Z"
   },
   {
    "duration": 5102,
    "start_time": "2025-05-06T19:27:00.575Z"
   },
   {
    "duration": 2,
    "start_time": "2025-05-06T19:27:05.679Z"
   },
   {
    "duration": 12,
    "start_time": "2025-05-06T19:27:05.683Z"
   },
   {
    "duration": 12,
    "start_time": "2025-05-06T19:27:05.697Z"
   },
   {
    "duration": 19,
    "start_time": "2025-05-06T19:27:05.711Z"
   },
   {
    "duration": 33,
    "start_time": "2025-05-06T19:27:05.732Z"
   },
   {
    "duration": 29,
    "start_time": "2025-05-06T19:27:05.767Z"
   },
   {
    "duration": 54,
    "start_time": "2025-05-06T19:27:05.798Z"
   },
   {
    "duration": 147,
    "start_time": "2025-05-06T19:27:05.854Z"
   },
   {
    "duration": 34,
    "start_time": "2025-05-06T19:27:06.003Z"
   },
   {
    "duration": 32,
    "start_time": "2025-05-06T19:27:06.038Z"
   },
   {
    "duration": 24,
    "start_time": "2025-05-06T19:27:06.072Z"
   },
   {
    "duration": 11,
    "start_time": "2025-05-06T19:27:06.098Z"
   },
   {
    "duration": 24,
    "start_time": "2025-05-06T19:27:06.111Z"
   },
   {
    "duration": 81,
    "start_time": "2025-05-06T19:27:06.137Z"
   },
   {
    "duration": 403,
    "start_time": "2025-05-06T19:27:06.220Z"
   },
   {
    "duration": 106,
    "start_time": "2025-05-06T19:27:06.625Z"
   },
   {
    "duration": 0,
    "start_time": "2025-05-06T19:27:06.732Z"
   },
   {
    "duration": 0,
    "start_time": "2025-05-06T19:27:06.734Z"
   },
   {
    "duration": 0,
    "start_time": "2025-05-06T19:27:06.735Z"
   },
   {
    "duration": 27143,
    "start_time": "2025-05-06T19:28:45.227Z"
   },
   {
    "duration": 24008,
    "start_time": "2025-05-06T19:29:12.377Z"
   },
   {
    "duration": 25316,
    "start_time": "2025-05-06T19:29:36.387Z"
   },
   {
    "duration": 14,
    "start_time": "2025-05-06T19:32:05.915Z"
   },
   {
    "duration": 12,
    "start_time": "2025-05-06T19:33:53.573Z"
   },
   {
    "duration": 52,
    "start_time": "2025-05-07T07:59:45.098Z"
   },
   {
    "duration": 13243,
    "start_time": "2025-05-07T08:00:18.777Z"
   },
   {
    "duration": 1731,
    "start_time": "2025-05-07T08:00:32.022Z"
   },
   {
    "duration": 3,
    "start_time": "2025-05-07T08:00:33.754Z"
   },
   {
    "duration": 23,
    "start_time": "2025-05-07T08:00:33.759Z"
   },
   {
    "duration": 16,
    "start_time": "2025-05-07T08:00:33.785Z"
   },
   {
    "duration": 15,
    "start_time": "2025-05-07T08:00:33.803Z"
   },
   {
    "duration": 967,
    "start_time": "2025-05-07T08:00:33.820Z"
   },
   {
    "duration": 157,
    "start_time": "2025-05-07T08:00:34.789Z"
   },
   {
    "duration": 159,
    "start_time": "2025-05-07T08:00:34.948Z"
   },
   {
    "duration": 185,
    "start_time": "2025-05-07T08:00:35.109Z"
   },
   {
    "duration": 310,
    "start_time": "2025-05-07T08:00:35.296Z"
   },
   {
    "duration": 472,
    "start_time": "2025-05-07T08:00:35.608Z"
   },
   {
    "duration": 971,
    "start_time": "2025-05-07T08:00:36.082Z"
   },
   {
    "duration": 188,
    "start_time": "2025-05-07T08:00:37.057Z"
   },
   {
    "duration": 8,
    "start_time": "2025-05-07T08:00:37.247Z"
   },
   {
    "duration": 219,
    "start_time": "2025-05-07T08:00:37.257Z"
   },
   {
    "duration": 70,
    "start_time": "2025-05-07T08:00:37.477Z"
   },
   {
    "duration": 124,
    "start_time": "2025-05-07T08:00:37.549Z"
   },
   {
    "duration": 80,
    "start_time": "2025-05-07T08:00:37.676Z"
   },
   {
    "duration": 52,
    "start_time": "2025-05-07T08:00:37.757Z"
   },
   {
    "duration": 55,
    "start_time": "2025-05-07T08:00:37.811Z"
   },
   {
    "duration": 546,
    "start_time": "2025-05-07T08:00:37.868Z"
   },
   {
    "duration": 53,
    "start_time": "2025-05-07T08:00:38.416Z"
   },
   {
    "duration": 82,
    "start_time": "2025-05-07T08:00:38.471Z"
   },
   {
    "duration": 413,
    "start_time": "2025-05-07T08:00:38.555Z"
   },
   {
    "duration": 2,
    "start_time": "2025-05-07T08:00:38.970Z"
   },
   {
    "duration": 21,
    "start_time": "2025-05-07T08:00:38.974Z"
   },
   {
    "duration": 13,
    "start_time": "2025-05-07T08:00:38.998Z"
   },
   {
    "duration": 10,
    "start_time": "2025-05-07T08:00:39.013Z"
   },
   {
    "duration": 35,
    "start_time": "2025-05-07T08:00:39.025Z"
   },
   {
    "duration": 460,
    "start_time": "2025-05-07T08:00:39.062Z"
   },
   {
    "duration": 219,
    "start_time": "2025-05-07T08:00:39.524Z"
   },
   {
    "duration": 321,
    "start_time": "2025-05-07T08:00:39.745Z"
   },
   {
    "duration": 268,
    "start_time": "2025-05-07T08:00:40.068Z"
   },
   {
    "duration": 32,
    "start_time": "2025-05-07T08:00:40.338Z"
   },
   {
    "duration": 365,
    "start_time": "2025-05-07T08:00:40.372Z"
   },
   {
    "duration": 32,
    "start_time": "2025-05-07T08:00:40.739Z"
   },
   {
    "duration": 56,
    "start_time": "2025-05-07T08:00:40.772Z"
   },
   {
    "duration": 278,
    "start_time": "2025-05-07T08:00:40.829Z"
   },
   {
    "duration": 49,
    "start_time": "2025-05-07T08:00:41.109Z"
   },
   {
    "duration": 496,
    "start_time": "2025-05-07T08:00:41.162Z"
   },
   {
    "duration": 259,
    "start_time": "2025-05-07T08:00:41.660Z"
   },
   {
    "duration": 5368,
    "start_time": "2025-05-07T08:00:41.921Z"
   },
   {
    "duration": 3,
    "start_time": "2025-05-07T08:00:47.290Z"
   },
   {
    "duration": 66,
    "start_time": "2025-05-07T08:00:47.295Z"
   },
   {
    "duration": 7,
    "start_time": "2025-05-07T08:00:47.363Z"
   },
   {
    "duration": 5,
    "start_time": "2025-05-07T08:00:47.372Z"
   },
   {
    "duration": 8,
    "start_time": "2025-05-07T08:00:47.379Z"
   },
   {
    "duration": 7,
    "start_time": "2025-05-07T08:00:47.389Z"
   },
   {
    "duration": 8,
    "start_time": "2025-05-07T08:00:47.398Z"
   },
   {
    "duration": 10,
    "start_time": "2025-05-07T08:00:47.408Z"
   },
   {
    "duration": 5,
    "start_time": "2025-05-07T08:00:47.420Z"
   },
   {
    "duration": 20,
    "start_time": "2025-05-07T08:00:47.426Z"
   },
   {
    "duration": 17,
    "start_time": "2025-05-07T08:00:47.447Z"
   },
   {
    "duration": 9,
    "start_time": "2025-05-07T08:00:47.465Z"
   },
   {
    "duration": 5,
    "start_time": "2025-05-07T08:00:47.475Z"
   },
   {
    "duration": 8,
    "start_time": "2025-05-07T08:00:47.482Z"
   },
   {
    "duration": 8,
    "start_time": "2025-05-07T08:00:47.492Z"
   },
   {
    "duration": 21,
    "start_time": "2025-05-07T08:00:47.502Z"
   },
   {
    "duration": 9,
    "start_time": "2025-05-07T08:00:47.525Z"
   },
   {
    "duration": 31,
    "start_time": "2025-05-07T08:00:47.536Z"
   },
   {
    "duration": 10,
    "start_time": "2025-05-07T08:00:47.569Z"
   },
   {
    "duration": 38,
    "start_time": "2025-05-07T08:00:47.581Z"
   },
   {
    "duration": 10,
    "start_time": "2025-05-07T08:00:47.621Z"
   },
   {
    "duration": 11,
    "start_time": "2025-05-07T08:01:12.702Z"
   },
   {
    "duration": 132,
    "start_time": "2025-05-07T08:01:54.836Z"
   },
   {
    "duration": 28,
    "start_time": "2025-05-07T08:03:49.181Z"
   },
   {
    "duration": 33,
    "start_time": "2025-05-07T08:04:02.526Z"
   },
   {
    "duration": 20,
    "start_time": "2025-05-07T08:04:09.337Z"
   },
   {
    "duration": 25,
    "start_time": "2025-05-07T08:05:44.910Z"
   },
   {
    "duration": 22,
    "start_time": "2025-05-07T08:06:09.595Z"
   },
   {
    "duration": 26,
    "start_time": "2025-05-07T08:06:22.127Z"
   },
   {
    "duration": 19,
    "start_time": "2025-05-07T08:06:50.854Z"
   },
   {
    "duration": 20,
    "start_time": "2025-05-07T08:06:58.734Z"
   },
   {
    "duration": 23,
    "start_time": "2025-05-07T08:07:01.681Z"
   },
   {
    "duration": 80,
    "start_time": "2025-05-07T08:09:29.960Z"
   },
   {
    "duration": 84,
    "start_time": "2025-05-07T08:09:38.876Z"
   },
   {
    "duration": 72,
    "start_time": "2025-05-07T08:09:46.301Z"
   },
   {
    "duration": 74,
    "start_time": "2025-05-07T08:09:48.584Z"
   },
   {
    "duration": 70,
    "start_time": "2025-05-07T08:10:17.395Z"
   },
   {
    "duration": 64,
    "start_time": "2025-05-07T08:10:28.449Z"
   },
   {
    "duration": 29,
    "start_time": "2025-05-07T08:14:55.026Z"
   },
   {
    "duration": 810,
    "start_time": "2025-05-07T08:15:10.889Z"
   },
   {
    "duration": 13,
    "start_time": "2025-05-07T08:15:11.701Z"
   },
   {
    "duration": 2,
    "start_time": "2025-05-07T08:19:34.170Z"
   },
   {
    "duration": 8497,
    "start_time": "2025-05-07T08:32:11.660Z"
   },
   {
    "duration": 1476,
    "start_time": "2025-05-07T08:32:20.160Z"
   },
   {
    "duration": 2,
    "start_time": "2025-05-07T08:32:21.638Z"
   },
   {
    "duration": 19,
    "start_time": "2025-05-07T08:32:21.642Z"
   },
   {
    "duration": 9,
    "start_time": "2025-05-07T08:32:21.664Z"
   },
   {
    "duration": 38,
    "start_time": "2025-05-07T08:32:21.674Z"
   },
   {
    "duration": 939,
    "start_time": "2025-05-07T08:32:21.714Z"
   },
   {
    "duration": 181,
    "start_time": "2025-05-07T08:32:22.655Z"
   },
   {
    "duration": 154,
    "start_time": "2025-05-07T08:32:22.838Z"
   },
   {
    "duration": 192,
    "start_time": "2025-05-07T08:32:22.993Z"
   },
   {
    "duration": 326,
    "start_time": "2025-05-07T08:32:23.186Z"
   },
   {
    "duration": 466,
    "start_time": "2025-05-07T08:32:23.514Z"
   },
   {
    "duration": 1004,
    "start_time": "2025-05-07T08:32:23.982Z"
   },
   {
    "duration": 192,
    "start_time": "2025-05-07T08:32:24.990Z"
   },
   {
    "duration": 8,
    "start_time": "2025-05-07T08:32:25.184Z"
   },
   {
    "duration": 52,
    "start_time": "2025-05-07T08:32:25.193Z"
   },
   {
    "duration": 55,
    "start_time": "2025-05-07T08:32:25.247Z"
   },
   {
    "duration": 132,
    "start_time": "2025-05-07T08:32:25.304Z"
   },
   {
    "duration": 142,
    "start_time": "2025-05-07T08:32:25.438Z"
   },
   {
    "duration": 68,
    "start_time": "2025-05-07T08:32:25.581Z"
   },
   {
    "duration": 43,
    "start_time": "2025-05-07T08:32:25.651Z"
   },
   {
    "duration": 540,
    "start_time": "2025-05-07T08:32:25.696Z"
   },
   {
    "duration": 41,
    "start_time": "2025-05-07T08:32:26.238Z"
   },
   {
    "duration": 22,
    "start_time": "2025-05-07T08:32:26.281Z"
   },
   {
    "duration": 415,
    "start_time": "2025-05-07T08:32:26.305Z"
   },
   {
    "duration": 2,
    "start_time": "2025-05-07T08:32:26.722Z"
   },
   {
    "duration": 3,
    "start_time": "2025-05-07T08:32:26.736Z"
   },
   {
    "duration": 11,
    "start_time": "2025-05-07T08:32:26.741Z"
   },
   {
    "duration": 11,
    "start_time": "2025-05-07T08:32:26.754Z"
   },
   {
    "duration": 31,
    "start_time": "2025-05-07T08:32:26.767Z"
   },
   {
    "duration": 423,
    "start_time": "2025-05-07T08:32:26.800Z"
   },
   {
    "duration": 222,
    "start_time": "2025-05-07T08:32:27.225Z"
   },
   {
    "duration": 342,
    "start_time": "2025-05-07T08:32:27.448Z"
   },
   {
    "duration": 258,
    "start_time": "2025-05-07T08:32:27.792Z"
   },
   {
    "duration": 34,
    "start_time": "2025-05-07T08:32:28.052Z"
   },
   {
    "duration": 340,
    "start_time": "2025-05-07T08:32:28.088Z"
   },
   {
    "duration": 33,
    "start_time": "2025-05-07T08:32:28.435Z"
   },
   {
    "duration": 67,
    "start_time": "2025-05-07T08:32:28.469Z"
   },
   {
    "duration": 357,
    "start_time": "2025-05-07T08:32:28.538Z"
   },
   {
    "duration": 46,
    "start_time": "2025-05-07T08:32:28.897Z"
   },
   {
    "duration": 396,
    "start_time": "2025-05-07T08:32:28.953Z"
   },
   {
    "duration": 262,
    "start_time": "2025-05-07T08:32:29.351Z"
   },
   {
    "duration": 5262,
    "start_time": "2025-05-07T08:32:29.615Z"
   },
   {
    "duration": 2,
    "start_time": "2025-05-07T08:32:34.879Z"
   },
   {
    "duration": 34,
    "start_time": "2025-05-07T08:32:34.883Z"
   },
   {
    "duration": 8,
    "start_time": "2025-05-07T08:32:34.919Z"
   },
   {
    "duration": 12,
    "start_time": "2025-05-07T08:32:34.929Z"
   },
   {
    "duration": 10,
    "start_time": "2025-05-07T08:32:34.942Z"
   },
   {
    "duration": 7,
    "start_time": "2025-05-07T08:32:34.953Z"
   },
   {
    "duration": 28,
    "start_time": "2025-05-07T08:32:34.962Z"
   },
   {
    "duration": 17,
    "start_time": "2025-05-07T08:32:34.992Z"
   },
   {
    "duration": 4,
    "start_time": "2025-05-07T08:32:35.011Z"
   },
   {
    "duration": 15,
    "start_time": "2025-05-07T08:32:35.016Z"
   },
   {
    "duration": 8,
    "start_time": "2025-05-07T08:32:35.033Z"
   },
   {
    "duration": 9,
    "start_time": "2025-05-07T08:32:35.043Z"
   },
   {
    "duration": 3,
    "start_time": "2025-05-07T08:32:35.054Z"
   },
   {
    "duration": 12,
    "start_time": "2025-05-07T08:32:35.059Z"
   },
   {
    "duration": 31,
    "start_time": "2025-05-07T08:32:35.073Z"
   },
   {
    "duration": 4,
    "start_time": "2025-05-07T08:32:35.106Z"
   },
   {
    "duration": 14,
    "start_time": "2025-05-07T08:32:35.112Z"
   },
   {
    "duration": 18,
    "start_time": "2025-05-07T08:32:35.128Z"
   },
   {
    "duration": 13,
    "start_time": "2025-05-07T08:32:35.148Z"
   },
   {
    "duration": 33,
    "start_time": "2025-05-07T08:32:35.163Z"
   },
   {
    "duration": 90,
    "start_time": "2025-05-07T08:32:35.198Z"
   },
   {
    "duration": 842,
    "start_time": "2025-05-07T08:32:35.289Z"
   },
   {
    "duration": 2,
    "start_time": "2025-05-07T08:32:36.136Z"
   },
   {
    "duration": 23,
    "start_time": "2025-05-07T08:32:36.140Z"
   },
   {
    "duration": 0,
    "start_time": "2025-05-07T08:32:36.165Z"
   },
   {
    "duration": 27795,
    "start_time": "2025-05-07T08:32:44.241Z"
   },
   {
    "duration": 17018,
    "start_time": "2025-05-07T08:42:26.635Z"
   },
   {
    "duration": 28827,
    "start_time": "2025-05-07T08:42:48.056Z"
   },
   {
    "duration": 8354,
    "start_time": "2025-05-07T08:56:06.595Z"
   },
   {
    "duration": 1493,
    "start_time": "2025-05-07T08:56:14.952Z"
   },
   {
    "duration": 2,
    "start_time": "2025-05-07T08:56:16.447Z"
   },
   {
    "duration": 7,
    "start_time": "2025-05-07T08:56:16.451Z"
   },
   {
    "duration": 19,
    "start_time": "2025-05-07T08:56:16.461Z"
   },
   {
    "duration": 23,
    "start_time": "2025-05-07T08:56:16.482Z"
   },
   {
    "duration": 976,
    "start_time": "2025-05-07T08:56:16.507Z"
   },
   {
    "duration": 171,
    "start_time": "2025-05-07T08:56:17.485Z"
   },
   {
    "duration": 168,
    "start_time": "2025-05-07T08:56:17.659Z"
   },
   {
    "duration": 189,
    "start_time": "2025-05-07T08:56:17.829Z"
   },
   {
    "duration": 332,
    "start_time": "2025-05-07T08:56:18.020Z"
   },
   {
    "duration": 474,
    "start_time": "2025-05-07T08:56:18.354Z"
   },
   {
    "duration": 1036,
    "start_time": "2025-05-07T08:56:18.830Z"
   },
   {
    "duration": 199,
    "start_time": "2025-05-07T08:56:19.870Z"
   },
   {
    "duration": 8,
    "start_time": "2025-05-07T08:56:20.070Z"
   },
   {
    "duration": 39,
    "start_time": "2025-05-07T08:56:20.080Z"
   },
   {
    "duration": 48,
    "start_time": "2025-05-07T08:56:20.121Z"
   },
   {
    "duration": 136,
    "start_time": "2025-05-07T08:56:20.170Z"
   },
   {
    "duration": 87,
    "start_time": "2025-05-07T08:56:20.308Z"
   },
   {
    "duration": 64,
    "start_time": "2025-05-07T08:56:20.397Z"
   },
   {
    "duration": 36,
    "start_time": "2025-05-07T08:56:20.463Z"
   },
   {
    "duration": 557,
    "start_time": "2025-05-07T08:56:20.500Z"
   },
   {
    "duration": 42,
    "start_time": "2025-05-07T08:56:21.058Z"
   },
   {
    "duration": 44,
    "start_time": "2025-05-07T08:56:21.102Z"
   },
   {
    "duration": 405,
    "start_time": "2025-05-07T08:56:21.148Z"
   },
   {
    "duration": 2,
    "start_time": "2025-05-07T08:56:21.555Z"
   },
   {
    "duration": 107,
    "start_time": "2025-05-07T08:56:21.559Z"
   },
   {
    "duration": 34,
    "start_time": "2025-05-07T08:56:21.668Z"
   },
   {
    "duration": 32,
    "start_time": "2025-05-07T08:56:21.704Z"
   },
   {
    "duration": 30,
    "start_time": "2025-05-07T08:56:21.738Z"
   },
   {
    "duration": 437,
    "start_time": "2025-05-07T08:56:21.770Z"
   },
   {
    "duration": 221,
    "start_time": "2025-05-07T08:56:22.209Z"
   },
   {
    "duration": 309,
    "start_time": "2025-05-07T08:56:22.432Z"
   },
   {
    "duration": 252,
    "start_time": "2025-05-07T08:56:22.743Z"
   },
   {
    "duration": 46,
    "start_time": "2025-05-07T08:56:22.997Z"
   },
   {
    "duration": 324,
    "start_time": "2025-05-07T08:56:23.044Z"
   },
   {
    "duration": 32,
    "start_time": "2025-05-07T08:56:23.370Z"
   },
   {
    "duration": 79,
    "start_time": "2025-05-07T08:56:23.404Z"
   },
   {
    "duration": 273,
    "start_time": "2025-05-07T08:56:23.485Z"
   },
   {
    "duration": 33,
    "start_time": "2025-05-07T08:56:23.760Z"
   },
   {
    "duration": 372,
    "start_time": "2025-05-07T08:56:23.797Z"
   },
   {
    "duration": 274,
    "start_time": "2025-05-07T08:56:24.171Z"
   },
   {
    "duration": 5249,
    "start_time": "2025-05-07T08:56:24.448Z"
   },
   {
    "duration": 3,
    "start_time": "2025-05-07T08:56:29.699Z"
   },
   {
    "duration": 33,
    "start_time": "2025-05-07T08:56:29.703Z"
   },
   {
    "duration": 7,
    "start_time": "2025-05-07T08:56:29.737Z"
   },
   {
    "duration": 4,
    "start_time": "2025-05-07T08:56:29.745Z"
   },
   {
    "duration": 16,
    "start_time": "2025-05-07T08:56:29.751Z"
   },
   {
    "duration": 16,
    "start_time": "2025-05-07T08:56:29.768Z"
   },
   {
    "duration": 10,
    "start_time": "2025-05-07T08:56:29.786Z"
   },
   {
    "duration": 57,
    "start_time": "2025-05-07T08:56:29.797Z"
   },
   {
    "duration": 11,
    "start_time": "2025-05-07T08:56:29.856Z"
   },
   {
    "duration": 26,
    "start_time": "2025-05-07T08:56:29.868Z"
   },
   {
    "duration": 10,
    "start_time": "2025-05-07T08:56:29.896Z"
   },
   {
    "duration": 14,
    "start_time": "2025-05-07T08:56:29.907Z"
   },
   {
    "duration": 50,
    "start_time": "2025-05-07T08:56:29.923Z"
   },
   {
    "duration": 13,
    "start_time": "2025-05-07T08:56:29.975Z"
   },
   {
    "duration": 9,
    "start_time": "2025-05-07T08:56:29.990Z"
   },
   {
    "duration": 68,
    "start_time": "2025-05-07T08:56:30.000Z"
   },
   {
    "duration": 47,
    "start_time": "2025-05-07T08:56:30.070Z"
   },
   {
    "duration": 35,
    "start_time": "2025-05-07T08:56:30.119Z"
   },
   {
    "duration": 21,
    "start_time": "2025-05-07T08:56:30.156Z"
   },
   {
    "duration": 51,
    "start_time": "2025-05-07T08:56:30.179Z"
   },
   {
    "duration": 97,
    "start_time": "2025-05-07T08:56:30.231Z"
   },
   {
    "duration": 808,
    "start_time": "2025-05-07T08:56:30.329Z"
   },
   {
    "duration": 2,
    "start_time": "2025-05-07T08:56:31.139Z"
   },
   {
    "duration": 27799,
    "start_time": "2025-05-07T08:56:31.143Z"
   },
   {
    "duration": 14294,
    "start_time": "2025-05-07T08:56:58.944Z"
   },
   {
    "duration": 91,
    "start_time": "2025-05-07T08:57:13.239Z"
   },
   {
    "duration": 0,
    "start_time": "2025-05-07T08:57:13.331Z"
   },
   {
    "duration": 0,
    "start_time": "2025-05-07T08:57:13.333Z"
   },
   {
    "duration": 0,
    "start_time": "2025-05-07T08:57:13.335Z"
   },
   {
    "duration": 2906,
    "start_time": "2025-05-07T08:58:23.819Z"
   },
   {
    "duration": 16,
    "start_time": "2025-05-07T09:20:44.889Z"
   },
   {
    "duration": 8196,
    "start_time": "2025-05-07T09:20:58.182Z"
   },
   {
    "duration": 1478,
    "start_time": "2025-05-07T09:21:06.380Z"
   },
   {
    "duration": 3,
    "start_time": "2025-05-07T09:21:07.860Z"
   },
   {
    "duration": 24,
    "start_time": "2025-05-07T09:21:07.865Z"
   },
   {
    "duration": 49,
    "start_time": "2025-05-07T09:21:07.892Z"
   },
   {
    "duration": 29,
    "start_time": "2025-05-07T09:21:07.943Z"
   },
   {
    "duration": 951,
    "start_time": "2025-05-07T09:21:07.974Z"
   },
   {
    "duration": 189,
    "start_time": "2025-05-07T09:21:08.927Z"
   },
   {
    "duration": 151,
    "start_time": "2025-05-07T09:21:09.117Z"
   },
   {
    "duration": 186,
    "start_time": "2025-05-07T09:21:09.270Z"
   },
   {
    "duration": 307,
    "start_time": "2025-05-07T09:21:09.458Z"
   },
   {
    "duration": 498,
    "start_time": "2025-05-07T09:21:09.767Z"
   },
   {
    "duration": 977,
    "start_time": "2025-05-07T09:21:10.267Z"
   },
   {
    "duration": 188,
    "start_time": "2025-05-07T09:21:11.249Z"
   },
   {
    "duration": 8,
    "start_time": "2025-05-07T09:21:11.439Z"
   },
   {
    "duration": 51,
    "start_time": "2025-05-07T09:21:11.449Z"
   },
   {
    "duration": 57,
    "start_time": "2025-05-07T09:21:11.502Z"
   },
   {
    "duration": 166,
    "start_time": "2025-05-07T09:21:11.561Z"
   },
   {
    "duration": 101,
    "start_time": "2025-05-07T09:21:11.729Z"
   },
   {
    "duration": 52,
    "start_time": "2025-05-07T09:21:11.832Z"
   },
   {
    "duration": 51,
    "start_time": "2025-05-07T09:21:11.886Z"
   },
   {
    "duration": 548,
    "start_time": "2025-05-07T09:21:11.939Z"
   },
   {
    "duration": 49,
    "start_time": "2025-05-07T09:21:12.489Z"
   },
   {
    "duration": 25,
    "start_time": "2025-05-07T09:21:12.540Z"
   },
   {
    "duration": 422,
    "start_time": "2025-05-07T09:21:12.567Z"
   },
   {
    "duration": 2,
    "start_time": "2025-05-07T09:21:12.991Z"
   },
   {
    "duration": 29,
    "start_time": "2025-05-07T09:21:12.995Z"
   },
   {
    "duration": 41,
    "start_time": "2025-05-07T09:21:13.026Z"
   },
   {
    "duration": 35,
    "start_time": "2025-05-07T09:21:13.069Z"
   },
   {
    "duration": 35,
    "start_time": "2025-05-07T09:21:13.105Z"
   },
   {
    "duration": 419,
    "start_time": "2025-05-07T09:21:13.142Z"
   },
   {
    "duration": 229,
    "start_time": "2025-05-07T09:21:13.562Z"
   },
   {
    "duration": 357,
    "start_time": "2025-05-07T09:21:13.793Z"
   },
   {
    "duration": 276,
    "start_time": "2025-05-07T09:21:14.153Z"
   },
   {
    "duration": 42,
    "start_time": "2025-05-07T09:21:14.436Z"
   },
   {
    "duration": 332,
    "start_time": "2025-05-07T09:21:14.480Z"
   },
   {
    "duration": 41,
    "start_time": "2025-05-07T09:21:14.813Z"
   },
   {
    "duration": 71,
    "start_time": "2025-05-07T09:21:14.856Z"
   },
   {
    "duration": 283,
    "start_time": "2025-05-07T09:21:14.929Z"
   },
   {
    "duration": 38,
    "start_time": "2025-05-07T09:21:15.214Z"
   },
   {
    "duration": 371,
    "start_time": "2025-05-07T09:21:15.258Z"
   },
   {
    "duration": 254,
    "start_time": "2025-05-07T09:21:15.631Z"
   },
   {
    "duration": 5365,
    "start_time": "2025-05-07T09:21:15.888Z"
   },
   {
    "duration": 3,
    "start_time": "2025-05-07T09:21:21.255Z"
   },
   {
    "duration": 27,
    "start_time": "2025-05-07T09:21:21.259Z"
   },
   {
    "duration": 40,
    "start_time": "2025-05-07T09:21:21.288Z"
   },
   {
    "duration": 47,
    "start_time": "2025-05-07T09:21:21.330Z"
   },
   {
    "duration": 46,
    "start_time": "2025-05-07T09:21:21.379Z"
   },
   {
    "duration": 40,
    "start_time": "2025-05-07T09:21:21.427Z"
   },
   {
    "duration": 29,
    "start_time": "2025-05-07T09:21:21.469Z"
   },
   {
    "duration": 37,
    "start_time": "2025-05-07T09:21:21.500Z"
   },
   {
    "duration": 103,
    "start_time": "2025-05-07T09:21:21.539Z"
   },
   {
    "duration": 126,
    "start_time": "2025-05-07T09:21:21.643Z"
   },
   {
    "duration": 26,
    "start_time": "2025-05-07T09:21:21.771Z"
   },
   {
    "duration": 15,
    "start_time": "2025-05-07T09:21:21.799Z"
   },
   {
    "duration": 64,
    "start_time": "2025-05-07T09:21:21.816Z"
   },
   {
    "duration": 22,
    "start_time": "2025-05-07T09:21:21.881Z"
   },
   {
    "duration": 51,
    "start_time": "2025-05-07T09:21:21.905Z"
   },
   {
    "duration": 5,
    "start_time": "2025-05-07T09:21:21.958Z"
   },
   {
    "duration": 13,
    "start_time": "2025-05-07T09:21:21.965Z"
   },
   {
    "duration": 28,
    "start_time": "2025-05-07T09:21:21.979Z"
   },
   {
    "duration": 28,
    "start_time": "2025-05-07T09:21:22.008Z"
   },
   {
    "duration": 205,
    "start_time": "2025-05-07T09:21:22.038Z"
   },
   {
    "duration": 0,
    "start_time": "2025-05-07T09:21:22.245Z"
   },
   {
    "duration": 1,
    "start_time": "2025-05-07T09:21:22.246Z"
   },
   {
    "duration": 0,
    "start_time": "2025-05-07T09:21:22.248Z"
   },
   {
    "duration": 0,
    "start_time": "2025-05-07T09:21:22.249Z"
   },
   {
    "duration": 0,
    "start_time": "2025-05-07T09:21:22.250Z"
   },
   {
    "duration": 0,
    "start_time": "2025-05-07T09:21:22.251Z"
   },
   {
    "duration": 0,
    "start_time": "2025-05-07T09:21:22.252Z"
   },
   {
    "duration": 0,
    "start_time": "2025-05-07T09:21:22.253Z"
   },
   {
    "duration": 82,
    "start_time": "2025-05-07T09:22:21.970Z"
   },
   {
    "duration": 297,
    "start_time": "2025-05-07T09:22:23.019Z"
   },
   {
    "duration": 65,
    "start_time": "2025-05-07T09:23:15.393Z"
   },
   {
    "duration": 140,
    "start_time": "2025-05-07T09:23:16.634Z"
   },
   {
    "duration": 167,
    "start_time": "2025-05-07T09:23:30.237Z"
   },
   {
    "duration": 143,
    "start_time": "2025-05-07T09:23:56.432Z"
   },
   {
    "duration": 183,
    "start_time": "2025-05-07T09:24:30.437Z"
   },
   {
    "duration": 65,
    "start_time": "2025-05-07T09:24:42.216Z"
   },
   {
    "duration": 173,
    "start_time": "2025-05-07T09:24:42.473Z"
   },
   {
    "duration": 820,
    "start_time": "2025-05-07T09:25:01.671Z"
   },
   {
    "duration": 3,
    "start_time": "2025-05-07T09:25:06.253Z"
   },
   {
    "duration": 27408,
    "start_time": "2025-05-07T09:25:07.290Z"
   },
   {
    "duration": 22639,
    "start_time": "2025-05-07T09:25:34.700Z"
   },
   {
    "duration": 13,
    "start_time": "2025-05-07T09:25:57.341Z"
   },
   {
    "duration": 0,
    "start_time": "2025-05-07T09:25:57.356Z"
   },
   {
    "duration": 23960,
    "start_time": "2025-05-07T09:27:49.249Z"
   },
   {
    "duration": 13,
    "start_time": "2025-05-07T09:28:52.612Z"
   },
   {
    "duration": 8208,
    "start_time": "2025-05-07T09:30:22.351Z"
   },
   {
    "duration": 1495,
    "start_time": "2025-05-07T09:30:30.561Z"
   },
   {
    "duration": 3,
    "start_time": "2025-05-07T09:30:32.058Z"
   },
   {
    "duration": 45,
    "start_time": "2025-05-07T09:30:32.063Z"
   },
   {
    "duration": 20,
    "start_time": "2025-05-07T09:30:32.110Z"
   },
   {
    "duration": 16,
    "start_time": "2025-05-07T09:30:32.132Z"
   },
   {
    "duration": 933,
    "start_time": "2025-05-07T09:30:32.149Z"
   },
   {
    "duration": 162,
    "start_time": "2025-05-07T09:30:33.084Z"
   },
   {
    "duration": 145,
    "start_time": "2025-05-07T09:30:33.248Z"
   },
   {
    "duration": 203,
    "start_time": "2025-05-07T09:30:33.395Z"
   },
   {
    "duration": 312,
    "start_time": "2025-05-07T09:30:33.600Z"
   },
   {
    "duration": 480,
    "start_time": "2025-05-07T09:30:33.913Z"
   },
   {
    "duration": 1000,
    "start_time": "2025-05-07T09:30:34.396Z"
   },
   {
    "duration": 191,
    "start_time": "2025-05-07T09:30:35.400Z"
   },
   {
    "duration": 9,
    "start_time": "2025-05-07T09:30:35.593Z"
   },
   {
    "duration": 113,
    "start_time": "2025-05-07T09:30:35.604Z"
   },
   {
    "duration": 152,
    "start_time": "2025-05-07T09:30:35.719Z"
   },
   {
    "duration": 147,
    "start_time": "2025-05-07T09:30:35.873Z"
   },
   {
    "duration": 77,
    "start_time": "2025-05-07T09:30:36.022Z"
   },
   {
    "duration": 59,
    "start_time": "2025-05-07T09:30:36.101Z"
   },
   {
    "duration": 37,
    "start_time": "2025-05-07T09:30:36.163Z"
   },
   {
    "duration": 544,
    "start_time": "2025-05-07T09:30:36.202Z"
   },
   {
    "duration": 42,
    "start_time": "2025-05-07T09:30:36.748Z"
   },
   {
    "duration": 98,
    "start_time": "2025-05-07T09:30:36.792Z"
   },
   {
    "duration": 417,
    "start_time": "2025-05-07T09:30:36.892Z"
   },
   {
    "duration": 3,
    "start_time": "2025-05-07T09:30:37.310Z"
   },
   {
    "duration": 20,
    "start_time": "2025-05-07T09:30:37.314Z"
   },
   {
    "duration": 28,
    "start_time": "2025-05-07T09:30:37.336Z"
   },
   {
    "duration": 60,
    "start_time": "2025-05-07T09:30:37.366Z"
   },
   {
    "duration": 35,
    "start_time": "2025-05-07T09:30:37.428Z"
   },
   {
    "duration": 471,
    "start_time": "2025-05-07T09:30:37.465Z"
   },
   {
    "duration": 217,
    "start_time": "2025-05-07T09:30:37.938Z"
   },
   {
    "duration": 316,
    "start_time": "2025-05-07T09:30:38.157Z"
   },
   {
    "duration": 256,
    "start_time": "2025-05-07T09:30:38.474Z"
   },
   {
    "duration": 34,
    "start_time": "2025-05-07T09:30:38.736Z"
   },
   {
    "duration": 407,
    "start_time": "2025-05-07T09:30:38.772Z"
   },
   {
    "duration": 31,
    "start_time": "2025-05-07T09:30:39.181Z"
   },
   {
    "duration": 69,
    "start_time": "2025-05-07T09:30:39.214Z"
   },
   {
    "duration": 278,
    "start_time": "2025-05-07T09:30:39.285Z"
   },
   {
    "duration": 32,
    "start_time": "2025-05-07T09:30:39.565Z"
   },
   {
    "duration": 411,
    "start_time": "2025-05-07T09:30:39.602Z"
   },
   {
    "duration": 258,
    "start_time": "2025-05-07T09:30:40.015Z"
   },
   {
    "duration": 5394,
    "start_time": "2025-05-07T09:30:40.275Z"
   },
   {
    "duration": 3,
    "start_time": "2025-05-07T09:30:45.671Z"
   },
   {
    "duration": 120,
    "start_time": "2025-05-07T09:30:45.675Z"
   },
   {
    "duration": 28,
    "start_time": "2025-05-07T09:30:45.797Z"
   },
   {
    "duration": 7,
    "start_time": "2025-05-07T09:30:45.826Z"
   },
   {
    "duration": 6,
    "start_time": "2025-05-07T09:30:45.835Z"
   },
   {
    "duration": 6,
    "start_time": "2025-05-07T09:30:45.842Z"
   },
   {
    "duration": 13,
    "start_time": "2025-05-07T09:30:45.849Z"
   },
   {
    "duration": 14,
    "start_time": "2025-05-07T09:30:45.864Z"
   },
   {
    "duration": 11,
    "start_time": "2025-05-07T09:30:45.880Z"
   },
   {
    "duration": 35,
    "start_time": "2025-05-07T09:30:45.893Z"
   },
   {
    "duration": 14,
    "start_time": "2025-05-07T09:30:45.929Z"
   },
   {
    "duration": 8,
    "start_time": "2025-05-07T09:30:45.944Z"
   },
   {
    "duration": 4,
    "start_time": "2025-05-07T09:30:45.954Z"
   },
   {
    "duration": 6,
    "start_time": "2025-05-07T09:30:45.960Z"
   },
   {
    "duration": 6,
    "start_time": "2025-05-07T09:30:45.968Z"
   },
   {
    "duration": 25,
    "start_time": "2025-05-07T09:30:45.975Z"
   },
   {
    "duration": 5,
    "start_time": "2025-05-07T09:30:46.001Z"
   },
   {
    "duration": 9,
    "start_time": "2025-05-07T09:30:46.008Z"
   },
   {
    "duration": 19,
    "start_time": "2025-05-07T09:30:46.018Z"
   },
   {
    "duration": 106,
    "start_time": "2025-05-07T09:30:46.038Z"
   },
   {
    "duration": 191,
    "start_time": "2025-05-07T09:30:46.146Z"
   },
   {
    "duration": 827,
    "start_time": "2025-05-07T09:30:46.339Z"
   },
   {
    "duration": 3,
    "start_time": "2025-05-07T09:30:47.167Z"
   },
   {
    "duration": 73029,
    "start_time": "2025-05-07T09:30:47.171Z"
   },
   {
    "duration": 31938,
    "start_time": "2025-05-07T09:32:00.201Z"
   },
   {
    "duration": 47978,
    "start_time": "2025-05-07T09:32:32.141Z"
   },
   {
    "duration": 14,
    "start_time": "2025-05-07T09:33:20.121Z"
   },
   {
    "duration": 180,
    "start_time": "2025-05-07T09:33:20.136Z"
   },
   {
    "duration": 0,
    "start_time": "2025-05-07T09:33:20.318Z"
   },
   {
    "duration": 8116,
    "start_time": "2025-05-07T09:43:45.243Z"
   },
   {
    "duration": 1484,
    "start_time": "2025-05-07T09:43:53.361Z"
   },
   {
    "duration": 3,
    "start_time": "2025-05-07T09:43:54.846Z"
   },
   {
    "duration": 37,
    "start_time": "2025-05-07T09:43:54.851Z"
   },
   {
    "duration": 12,
    "start_time": "2025-05-07T09:43:54.889Z"
   },
   {
    "duration": 14,
    "start_time": "2025-05-07T09:43:54.903Z"
   },
   {
    "duration": 918,
    "start_time": "2025-05-07T09:43:54.919Z"
   },
   {
    "duration": 160,
    "start_time": "2025-05-07T09:43:55.839Z"
   },
   {
    "duration": 154,
    "start_time": "2025-05-07T09:43:56.001Z"
   },
   {
    "duration": 184,
    "start_time": "2025-05-07T09:43:56.158Z"
   },
   {
    "duration": 310,
    "start_time": "2025-05-07T09:43:56.343Z"
   },
   {
    "duration": 482,
    "start_time": "2025-05-07T09:43:56.654Z"
   },
   {
    "duration": 999,
    "start_time": "2025-05-07T09:43:57.138Z"
   },
   {
    "duration": 187,
    "start_time": "2025-05-07T09:43:58.138Z"
   },
   {
    "duration": 12,
    "start_time": "2025-05-07T09:43:58.326Z"
   },
   {
    "duration": 27,
    "start_time": "2025-05-07T09:43:58.340Z"
   },
   {
    "duration": 43,
    "start_time": "2025-05-07T09:43:58.369Z"
   },
   {
    "duration": 106,
    "start_time": "2025-05-07T09:43:58.436Z"
   },
   {
    "duration": 63,
    "start_time": "2025-05-07T09:43:58.544Z"
   },
   {
    "duration": 69,
    "start_time": "2025-05-07T09:43:58.609Z"
   },
   {
    "duration": 37,
    "start_time": "2025-05-07T09:43:58.680Z"
   },
   {
    "duration": 561,
    "start_time": "2025-05-07T09:43:58.718Z"
   },
   {
    "duration": 59,
    "start_time": "2025-05-07T09:43:59.281Z"
   },
   {
    "duration": 24,
    "start_time": "2025-05-07T09:43:59.342Z"
   },
   {
    "duration": 394,
    "start_time": "2025-05-07T09:43:59.367Z"
   },
   {
    "duration": 2,
    "start_time": "2025-05-07T09:43:59.763Z"
   },
   {
    "duration": 102,
    "start_time": "2025-05-07T09:43:59.766Z"
   },
   {
    "duration": 4,
    "start_time": "2025-05-07T09:43:59.873Z"
   },
   {
    "duration": 32,
    "start_time": "2025-05-07T09:43:59.879Z"
   },
   {
    "duration": 54,
    "start_time": "2025-05-07T09:43:59.913Z"
   },
   {
    "duration": 426,
    "start_time": "2025-05-07T09:43:59.969Z"
   },
   {
    "duration": 223,
    "start_time": "2025-05-07T09:44:00.397Z"
   },
   {
    "duration": 316,
    "start_time": "2025-05-07T09:44:00.622Z"
   },
   {
    "duration": 252,
    "start_time": "2025-05-07T09:44:00.940Z"
   },
   {
    "duration": 43,
    "start_time": "2025-05-07T09:44:01.194Z"
   },
   {
    "duration": 332,
    "start_time": "2025-05-07T09:44:01.239Z"
   },
   {
    "duration": 32,
    "start_time": "2025-05-07T09:44:01.572Z"
   },
   {
    "duration": 166,
    "start_time": "2025-05-07T09:44:01.605Z"
   },
   {
    "duration": 289,
    "start_time": "2025-05-07T09:44:01.772Z"
   },
   {
    "duration": 44,
    "start_time": "2025-05-07T09:44:02.063Z"
   },
   {
    "duration": 370,
    "start_time": "2025-05-07T09:44:02.109Z"
   },
   {
    "duration": 265,
    "start_time": "2025-05-07T09:44:02.481Z"
   },
   {
    "duration": 5230,
    "start_time": "2025-05-07T09:44:02.747Z"
   },
   {
    "duration": 3,
    "start_time": "2025-05-07T09:44:07.979Z"
   },
   {
    "duration": 14,
    "start_time": "2025-05-07T09:44:07.983Z"
   },
   {
    "duration": 40,
    "start_time": "2025-05-07T09:44:07.998Z"
   },
   {
    "duration": 16,
    "start_time": "2025-05-07T09:44:08.040Z"
   },
   {
    "duration": 11,
    "start_time": "2025-05-07T09:44:08.058Z"
   },
   {
    "duration": 14,
    "start_time": "2025-05-07T09:44:08.071Z"
   },
   {
    "duration": 17,
    "start_time": "2025-05-07T09:44:08.086Z"
   },
   {
    "duration": 20,
    "start_time": "2025-05-07T09:44:08.104Z"
   },
   {
    "duration": 5,
    "start_time": "2025-05-07T09:44:08.125Z"
   },
   {
    "duration": 16,
    "start_time": "2025-05-07T09:44:08.132Z"
   },
   {
    "duration": 6,
    "start_time": "2025-05-07T09:44:08.150Z"
   },
   {
    "duration": 4,
    "start_time": "2025-05-07T09:44:08.158Z"
   },
   {
    "duration": 6,
    "start_time": "2025-05-07T09:44:08.163Z"
   },
   {
    "duration": 4,
    "start_time": "2025-05-07T09:44:08.171Z"
   },
   {
    "duration": 25,
    "start_time": "2025-05-07T09:44:08.176Z"
   },
   {
    "duration": 15,
    "start_time": "2025-05-07T09:44:08.202Z"
   },
   {
    "duration": 18,
    "start_time": "2025-05-07T09:44:08.219Z"
   },
   {
    "duration": 18,
    "start_time": "2025-05-07T09:44:08.239Z"
   },
   {
    "duration": 93,
    "start_time": "2025-05-07T09:44:08.259Z"
   },
   {
    "duration": 134,
    "start_time": "2025-05-07T09:44:08.353Z"
   },
   {
    "duration": 349,
    "start_time": "2025-05-07T09:44:08.489Z"
   },
   {
    "duration": 2,
    "start_time": "2025-05-07T09:44:08.840Z"
   },
   {
    "duration": 1171,
    "start_time": "2025-05-07T09:44:08.844Z"
   },
   {
    "duration": 0,
    "start_time": "2025-05-07T09:44:10.017Z"
   },
   {
    "duration": 0,
    "start_time": "2025-05-07T09:44:10.018Z"
   },
   {
    "duration": 0,
    "start_time": "2025-05-07T09:44:10.020Z"
   },
   {
    "duration": 0,
    "start_time": "2025-05-07T09:44:10.022Z"
   },
   {
    "duration": 13,
    "start_time": "2025-05-07T09:48:07.089Z"
   },
   {
    "duration": 45,
    "start_time": "2025-05-07T09:48:07.219Z"
   },
   {
    "duration": 75,
    "start_time": "2025-05-07T09:48:07.482Z"
   },
   {
    "duration": 326,
    "start_time": "2025-05-07T09:48:07.678Z"
   },
   {
    "duration": 2,
    "start_time": "2025-05-07T09:48:08.006Z"
   },
   {
    "duration": 55276,
    "start_time": "2025-05-07T09:48:08.010Z"
   },
   {
    "duration": 52357,
    "start_time": "2025-05-07T09:49:03.288Z"
   },
   {
    "duration": 37409,
    "start_time": "2025-05-07T09:49:55.648Z"
   },
   {
    "duration": 13,
    "start_time": "2025-05-07T09:50:33.059Z"
   },
   {
    "duration": 323,
    "start_time": "2025-05-07T10:54:36.019Z"
   },
   {
    "duration": 8119,
    "start_time": "2025-05-07T10:56:26.196Z"
   },
   {
    "duration": 1519,
    "start_time": "2025-05-07T10:56:34.318Z"
   },
   {
    "duration": 3,
    "start_time": "2025-05-07T10:56:35.839Z"
   },
   {
    "duration": 89,
    "start_time": "2025-05-07T10:56:35.843Z"
   },
   {
    "duration": 100,
    "start_time": "2025-05-07T10:56:35.935Z"
   },
   {
    "duration": 24,
    "start_time": "2025-05-07T10:56:36.037Z"
   },
   {
    "duration": 942,
    "start_time": "2025-05-07T10:56:36.063Z"
   },
   {
    "duration": 153,
    "start_time": "2025-05-07T10:56:37.006Z"
   },
   {
    "duration": 191,
    "start_time": "2025-05-07T10:56:37.161Z"
   },
   {
    "duration": 186,
    "start_time": "2025-05-07T10:56:37.354Z"
   },
   {
    "duration": 307,
    "start_time": "2025-05-07T10:56:37.542Z"
   },
   {
    "duration": 467,
    "start_time": "2025-05-07T10:56:37.850Z"
   },
   {
    "duration": 951,
    "start_time": "2025-05-07T10:56:38.318Z"
   },
   {
    "duration": 186,
    "start_time": "2025-05-07T10:56:39.273Z"
   },
   {
    "duration": 9,
    "start_time": "2025-05-07T10:56:39.462Z"
   },
   {
    "duration": 60,
    "start_time": "2025-05-07T10:56:39.473Z"
   },
   {
    "duration": 74,
    "start_time": "2025-05-07T10:56:39.535Z"
   },
   {
    "duration": 110,
    "start_time": "2025-05-07T10:56:39.612Z"
   },
   {
    "duration": 75,
    "start_time": "2025-05-07T10:56:39.724Z"
   },
   {
    "duration": 55,
    "start_time": "2025-05-07T10:56:39.801Z"
   },
   {
    "duration": 34,
    "start_time": "2025-05-07T10:56:39.858Z"
   },
   {
    "duration": 625,
    "start_time": "2025-05-07T10:56:39.894Z"
   },
   {
    "duration": 41,
    "start_time": "2025-05-07T10:56:40.520Z"
   },
   {
    "duration": 23,
    "start_time": "2025-05-07T10:56:40.563Z"
   },
   {
    "duration": 497,
    "start_time": "2025-05-07T10:56:40.588Z"
   },
   {
    "duration": 52,
    "start_time": "2025-05-07T10:56:41.086Z"
   },
   {
    "duration": 27,
    "start_time": "2025-05-07T10:56:41.140Z"
   },
   {
    "duration": 8,
    "start_time": "2025-05-07T10:56:41.168Z"
   },
   {
    "duration": 25,
    "start_time": "2025-05-07T10:56:41.177Z"
   },
   {
    "duration": 42,
    "start_time": "2025-05-07T10:56:41.204Z"
   },
   {
    "duration": 417,
    "start_time": "2025-05-07T10:56:41.248Z"
   },
   {
    "duration": 213,
    "start_time": "2025-05-07T10:56:41.667Z"
   },
   {
    "duration": 305,
    "start_time": "2025-05-07T10:56:41.881Z"
   },
   {
    "duration": 250,
    "start_time": "2025-05-07T10:56:42.188Z"
   },
   {
    "duration": 32,
    "start_time": "2025-05-07T10:56:42.440Z"
   },
   {
    "duration": 325,
    "start_time": "2025-05-07T10:56:42.474Z"
   },
   {
    "duration": 37,
    "start_time": "2025-05-07T10:56:42.801Z"
   },
   {
    "duration": 58,
    "start_time": "2025-05-07T10:56:42.839Z"
   },
   {
    "duration": 296,
    "start_time": "2025-05-07T10:56:42.899Z"
   },
   {
    "duration": 41,
    "start_time": "2025-05-07T10:56:43.197Z"
   },
   {
    "duration": 355,
    "start_time": "2025-05-07T10:56:43.243Z"
   },
   {
    "duration": 249,
    "start_time": "2025-05-07T10:56:43.600Z"
   },
   {
    "duration": 5086,
    "start_time": "2025-05-07T10:56:43.851Z"
   },
   {
    "duration": 3,
    "start_time": "2025-05-07T10:56:48.938Z"
   },
   {
    "duration": 15,
    "start_time": "2025-05-07T10:56:48.943Z"
   },
   {
    "duration": 13,
    "start_time": "2025-05-07T10:56:48.960Z"
   },
   {
    "duration": 15,
    "start_time": "2025-05-07T10:56:48.975Z"
   },
   {
    "duration": 28,
    "start_time": "2025-05-07T10:56:48.992Z"
   },
   {
    "duration": 13,
    "start_time": "2025-05-07T10:56:49.022Z"
   },
   {
    "duration": 22,
    "start_time": "2025-05-07T10:56:49.037Z"
   },
   {
    "duration": 14,
    "start_time": "2025-05-07T10:56:49.061Z"
   },
   {
    "duration": 8,
    "start_time": "2025-05-07T10:56:49.077Z"
   },
   {
    "duration": 13,
    "start_time": "2025-05-07T10:56:49.086Z"
   },
   {
    "duration": 22,
    "start_time": "2025-05-07T10:56:49.101Z"
   },
   {
    "duration": 6,
    "start_time": "2025-05-07T10:56:49.125Z"
   },
   {
    "duration": 12,
    "start_time": "2025-05-07T10:56:49.133Z"
   },
   {
    "duration": 23,
    "start_time": "2025-05-07T10:56:49.146Z"
   },
   {
    "duration": 20,
    "start_time": "2025-05-07T10:56:49.170Z"
   },
   {
    "duration": 7,
    "start_time": "2025-05-07T10:56:49.191Z"
   },
   {
    "duration": 18,
    "start_time": "2025-05-07T10:56:49.199Z"
   },
   {
    "duration": 13,
    "start_time": "2025-05-07T10:56:49.218Z"
   },
   {
    "duration": 87,
    "start_time": "2025-05-07T10:56:49.233Z"
   },
   {
    "duration": 189,
    "start_time": "2025-05-07T10:56:49.322Z"
   },
   {
    "duration": 801,
    "start_time": "2025-05-07T10:56:49.513Z"
   },
   {
    "duration": 2,
    "start_time": "2025-05-07T10:56:50.316Z"
   },
   {
    "duration": 71487,
    "start_time": "2025-05-07T10:56:50.320Z"
   },
   {
    "duration": 29035,
    "start_time": "2025-05-07T10:58:01.809Z"
   },
   {
    "duration": 47941,
    "start_time": "2025-05-07T10:58:30.846Z"
   },
   {
    "duration": 13,
    "start_time": "2025-05-07T10:59:18.789Z"
   },
   {
    "duration": 436,
    "start_time": "2025-05-07T10:59:18.804Z"
   },
   {
    "duration": 5,
    "start_time": "2025-05-07T11:02:05.559Z"
   },
   {
    "duration": 6,
    "start_time": "2025-05-07T11:02:11.134Z"
   },
   {
    "duration": 5,
    "start_time": "2025-05-07T11:02:34.598Z"
   },
   {
    "duration": 5,
    "start_time": "2025-05-07T11:06:03.570Z"
   },
   {
    "duration": 324,
    "start_time": "2025-05-07T11:07:47.782Z"
   },
   {
    "duration": 1052,
    "start_time": "2025-05-07T11:09:10.836Z"
   },
   {
    "duration": 9039,
    "start_time": "2025-05-07T11:38:12.516Z"
   },
   {
    "duration": 1491,
    "start_time": "2025-05-07T11:38:21.557Z"
   },
   {
    "duration": 3,
    "start_time": "2025-05-07T11:38:23.049Z"
   },
   {
    "duration": 26,
    "start_time": "2025-05-07T11:38:23.054Z"
   },
   {
    "duration": 37,
    "start_time": "2025-05-07T11:38:23.081Z"
   },
   {
    "duration": 25,
    "start_time": "2025-05-07T11:38:23.120Z"
   },
   {
    "duration": 935,
    "start_time": "2025-05-07T11:38:23.146Z"
   },
   {
    "duration": 154,
    "start_time": "2025-05-07T11:38:24.083Z"
   },
   {
    "duration": 153,
    "start_time": "2025-05-07T11:38:24.239Z"
   },
   {
    "duration": 203,
    "start_time": "2025-05-07T11:38:24.396Z"
   },
   {
    "duration": 301,
    "start_time": "2025-05-07T11:38:24.601Z"
   },
   {
    "duration": 480,
    "start_time": "2025-05-07T11:38:24.904Z"
   },
   {
    "duration": 957,
    "start_time": "2025-05-07T11:38:25.386Z"
   },
   {
    "duration": 192,
    "start_time": "2025-05-07T11:38:26.345Z"
   },
   {
    "duration": 9,
    "start_time": "2025-05-07T11:38:26.539Z"
   },
   {
    "duration": 38,
    "start_time": "2025-05-07T11:38:26.550Z"
   },
   {
    "duration": 49,
    "start_time": "2025-05-07T11:38:26.591Z"
   },
   {
    "duration": 105,
    "start_time": "2025-05-07T11:38:26.642Z"
   },
   {
    "duration": 55,
    "start_time": "2025-05-07T11:38:26.749Z"
   },
   {
    "duration": 71,
    "start_time": "2025-05-07T11:38:26.806Z"
   },
   {
    "duration": 34,
    "start_time": "2025-05-07T11:38:26.879Z"
   },
   {
    "duration": 565,
    "start_time": "2025-05-07T11:38:26.914Z"
   },
   {
    "duration": 38,
    "start_time": "2025-05-07T11:38:27.481Z"
   },
   {
    "duration": 27,
    "start_time": "2025-05-07T11:38:27.536Z"
   },
   {
    "duration": 438,
    "start_time": "2025-05-07T11:38:27.565Z"
   },
   {
    "duration": 3,
    "start_time": "2025-05-07T11:38:28.005Z"
   },
   {
    "duration": 10,
    "start_time": "2025-05-07T11:38:28.009Z"
   },
   {
    "duration": 54,
    "start_time": "2025-05-07T11:38:28.036Z"
   },
   {
    "duration": 8,
    "start_time": "2025-05-07T11:38:28.092Z"
   },
   {
    "duration": 55,
    "start_time": "2025-05-07T11:38:28.102Z"
   },
   {
    "duration": 455,
    "start_time": "2025-05-07T11:38:28.159Z"
   },
   {
    "duration": 215,
    "start_time": "2025-05-07T11:38:28.616Z"
   },
   {
    "duration": 339,
    "start_time": "2025-05-07T11:38:28.837Z"
   },
   {
    "duration": 252,
    "start_time": "2025-05-07T11:38:29.178Z"
   },
   {
    "duration": 34,
    "start_time": "2025-05-07T11:38:29.436Z"
   },
   {
    "duration": 331,
    "start_time": "2025-05-07T11:38:29.472Z"
   },
   {
    "duration": 41,
    "start_time": "2025-05-07T11:38:29.805Z"
   },
   {
    "duration": 69,
    "start_time": "2025-05-07T11:38:29.848Z"
   },
   {
    "duration": 297,
    "start_time": "2025-05-07T11:38:29.920Z"
   },
   {
    "duration": 43,
    "start_time": "2025-05-07T11:38:30.219Z"
   },
   {
    "duration": 403,
    "start_time": "2025-05-07T11:38:30.264Z"
   },
   {
    "duration": 258,
    "start_time": "2025-05-07T11:38:30.669Z"
   },
   {
    "duration": 5348,
    "start_time": "2025-05-07T11:38:30.937Z"
   },
   {
    "duration": 3,
    "start_time": "2025-05-07T11:38:36.288Z"
   },
   {
    "duration": 101,
    "start_time": "2025-05-07T11:38:36.292Z"
   },
   {
    "duration": 45,
    "start_time": "2025-05-07T11:38:36.394Z"
   },
   {
    "duration": 20,
    "start_time": "2025-05-07T11:38:36.440Z"
   },
   {
    "duration": 87,
    "start_time": "2025-05-07T11:38:36.462Z"
   },
   {
    "duration": 62,
    "start_time": "2025-05-07T11:38:36.550Z"
   },
   {
    "duration": 47,
    "start_time": "2025-05-07T11:38:36.614Z"
   },
   {
    "duration": 62,
    "start_time": "2025-05-07T11:38:36.663Z"
   },
   {
    "duration": 32,
    "start_time": "2025-05-07T11:38:36.727Z"
   },
   {
    "duration": 116,
    "start_time": "2025-05-07T11:38:36.761Z"
   },
   {
    "duration": 67,
    "start_time": "2025-05-07T11:38:36.879Z"
   },
   {
    "duration": 5,
    "start_time": "2025-05-07T11:38:36.948Z"
   },
   {
    "duration": 4,
    "start_time": "2025-05-07T11:38:36.955Z"
   },
   {
    "duration": 15,
    "start_time": "2025-05-07T11:38:36.961Z"
   },
   {
    "duration": 51,
    "start_time": "2025-05-07T11:38:36.977Z"
   },
   {
    "duration": 6,
    "start_time": "2025-05-07T11:38:37.029Z"
   },
   {
    "duration": 21,
    "start_time": "2025-05-07T11:38:37.036Z"
   },
   {
    "duration": 23,
    "start_time": "2025-05-07T11:38:37.059Z"
   },
   {
    "duration": 125,
    "start_time": "2025-05-07T11:38:37.084Z"
   },
   {
    "duration": 162,
    "start_time": "2025-05-07T11:38:37.211Z"
   },
   {
    "duration": 841,
    "start_time": "2025-05-07T11:38:37.375Z"
   },
   {
    "duration": 3,
    "start_time": "2025-05-07T11:38:38.217Z"
   },
   {
    "duration": 72198,
    "start_time": "2025-05-07T11:38:38.221Z"
   },
   {
    "duration": 63626,
    "start_time": "2025-05-07T11:39:50.421Z"
   },
   {
    "duration": 48772,
    "start_time": "2025-05-07T11:40:54.137Z"
   },
   {
    "duration": 11,
    "start_time": "2025-05-07T11:41:42.911Z"
   },
   {
    "duration": 26,
    "start_time": "2025-05-07T11:41:42.924Z"
   },
   {
    "duration": 392,
    "start_time": "2025-05-07T11:41:42.952Z"
   },
   {
    "duration": 13424,
    "start_time": "2025-05-09T04:17:52.953Z"
   },
   {
    "duration": 1712,
    "start_time": "2025-05-09T04:18:06.379Z"
   },
   {
    "duration": 3,
    "start_time": "2025-05-09T04:18:08.093Z"
   },
   {
    "duration": 8,
    "start_time": "2025-05-09T04:18:08.097Z"
   },
   {
    "duration": 8,
    "start_time": "2025-05-09T04:18:08.107Z"
   },
   {
    "duration": 5,
    "start_time": "2025-05-09T04:18:08.117Z"
   },
   {
    "duration": 967,
    "start_time": "2025-05-09T04:18:08.124Z"
   },
   {
    "duration": 170,
    "start_time": "2025-05-09T04:18:09.093Z"
   },
   {
    "duration": 154,
    "start_time": "2025-05-09T04:18:09.265Z"
   },
   {
    "duration": 189,
    "start_time": "2025-05-09T04:18:09.421Z"
   },
   {
    "duration": 353,
    "start_time": "2025-05-09T04:18:09.612Z"
   },
   {
    "duration": 495,
    "start_time": "2025-05-09T04:18:09.967Z"
   },
   {
    "duration": 1016,
    "start_time": "2025-05-09T04:18:10.464Z"
   },
   {
    "duration": 202,
    "start_time": "2025-05-09T04:18:11.484Z"
   },
   {
    "duration": 8,
    "start_time": "2025-05-09T04:18:11.688Z"
   },
   {
    "duration": 51,
    "start_time": "2025-05-09T04:18:11.697Z"
   },
   {
    "duration": 39,
    "start_time": "2025-05-09T04:18:11.750Z"
   },
   {
    "duration": 124,
    "start_time": "2025-05-09T04:18:11.790Z"
   },
   {
    "duration": 75,
    "start_time": "2025-05-09T04:18:11.916Z"
   },
   {
    "duration": 64,
    "start_time": "2025-05-09T04:18:11.993Z"
   },
   {
    "duration": 34,
    "start_time": "2025-05-09T04:18:12.058Z"
   },
   {
    "duration": 572,
    "start_time": "2025-05-09T04:18:12.094Z"
   },
   {
    "duration": 39,
    "start_time": "2025-05-09T04:18:12.668Z"
   },
   {
    "duration": 48,
    "start_time": "2025-05-09T04:18:12.709Z"
   },
   {
    "duration": 413,
    "start_time": "2025-05-09T04:18:12.758Z"
   },
   {
    "duration": 4,
    "start_time": "2025-05-09T04:18:13.173Z"
   },
   {
    "duration": 5,
    "start_time": "2025-05-09T04:18:13.179Z"
   },
   {
    "duration": 20,
    "start_time": "2025-05-09T04:18:13.185Z"
   },
   {
    "duration": 473,
    "start_time": "2025-05-09T04:18:13.207Z"
   },
   {
    "duration": 222,
    "start_time": "2025-05-09T04:18:13.682Z"
   },
   {
    "duration": 323,
    "start_time": "2025-05-09T04:18:13.906Z"
   },
   {
    "duration": 291,
    "start_time": "2025-05-09T04:18:14.230Z"
   },
   {
    "duration": 46,
    "start_time": "2025-05-09T04:18:14.522Z"
   },
   {
    "duration": 353,
    "start_time": "2025-05-09T04:18:14.569Z"
   },
   {
    "duration": 45,
    "start_time": "2025-05-09T04:18:14.924Z"
   },
   {
    "duration": 78,
    "start_time": "2025-05-09T04:18:14.970Z"
   },
   {
    "duration": 301,
    "start_time": "2025-05-09T04:18:15.052Z"
   },
   {
    "duration": 34,
    "start_time": "2025-05-09T04:18:15.354Z"
   },
   {
    "duration": 379,
    "start_time": "2025-05-09T04:18:15.389Z"
   },
   {
    "duration": 268,
    "start_time": "2025-05-09T04:18:15.769Z"
   },
   {
    "duration": 5537,
    "start_time": "2025-05-09T04:18:16.041Z"
   },
   {
    "duration": 85,
    "start_time": "2025-05-09T04:18:21.580Z"
   },
   {
    "duration": 203,
    "start_time": "2025-05-09T04:18:21.666Z"
   },
   {
    "duration": 830,
    "start_time": "2025-05-09T04:18:21.871Z"
   },
   {
    "duration": 3,
    "start_time": "2025-05-09T04:18:22.702Z"
   },
   {
    "duration": 76558,
    "start_time": "2025-05-09T04:18:22.707Z"
   },
   {
    "duration": 30079,
    "start_time": "2025-05-09T04:19:39.267Z"
   },
   {
    "duration": 50177,
    "start_time": "2025-05-09T04:20:09.348Z"
   },
   {
    "duration": 17,
    "start_time": "2025-05-09T04:20:59.526Z"
   },
   {
    "duration": 8,
    "start_time": "2025-05-09T04:20:59.546Z"
   },
   {
    "duration": 405,
    "start_time": "2025-05-09T04:20:59.556Z"
   }
  ],
  "kernelspec": {
   "display_name": "Python 3 (ipykernel)",
   "language": "python",
   "name": "python3"
  },
  "language_info": {
   "codemirror_mode": {
    "name": "ipython",
    "version": 3
   },
   "file_extension": ".py",
   "mimetype": "text/x-python",
   "name": "python",
   "nbconvert_exporter": "python",
   "pygments_lexer": "ipython3",
   "version": "3.9.5"
  },
  "toc": {
   "base_numbering": 1,
   "nav_menu": {},
   "number_sections": true,
   "sideBar": true,
   "skip_h1_title": true,
   "title_cell": "Содержание",
   "title_sidebar": "Contents",
   "toc_cell": true,
   "toc_position": {},
   "toc_section_display": true,
   "toc_window_display": false
  }
 },
 "nbformat": 4,
 "nbformat_minor": 4
}
