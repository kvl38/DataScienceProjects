{
 "cells": [
  {
   "cell_type": "markdown",
   "id": "28daf6d3",
   "metadata": {
    "toc": true
   },
   "source": [
    "<h1>Содержание<span class=\"tocSkip\"></span></h1>\n",
    "<div class=\"toc\"><ul class=\"toc-item\"><li><span><a href=\"#Шаг-1.-Загрузка-данных\" data-toc-modified-id=\"Шаг-1.-Загрузка-данных-1\"><span class=\"toc-item-num\">1&nbsp;&nbsp;</span>Шаг 1. Загрузка данных</a></span></li><li><span><a href=\"#Шаг-2.-Предобработка-данных\" data-toc-modified-id=\"Шаг-2.-Предобработка-данных-2\"><span class=\"toc-item-num\">2&nbsp;&nbsp;</span>Шаг 2. Предобработка данных</a></span><ul class=\"toc-item\"><li><span><a href=\"#Приведем-столбец-date-к-типу-даты-pandas\" data-toc-modified-id=\"Приведем-столбец-date-к-типу-даты-pandas-2.1\"><span class=\"toc-item-num\">2.1&nbsp;&nbsp;</span>Приведем столбец date к типу даты pandas</a></span></li><li><span><a href=\"#Создаем-новый-столбец-с-номером-месяца-на-основе-столбца-date\" data-toc-modified-id=\"Создаем-новый-столбец-с-номером-месяца-на-основе-столбца-date-2.2\"><span class=\"toc-item-num\">2.2&nbsp;&nbsp;</span>Создаем новый столбец с номером месяца на основе столбца date</a></span></li><li><span><a href=\"#Обработаем-пропущенные-значения-и-дубликаты-в-датафреймах\" data-toc-modified-id=\"Обработаем-пропущенные-значения-и-дубликаты-в-датафреймах-2.3\"><span class=\"toc-item-num\">2.3&nbsp;&nbsp;</span>Обработаем пропущенные значения и дубликаты в датафреймах</a></span><ul class=\"toc-item\"><li><span><a href=\"#Исследуем-датафрейм-с-данными-о-пользователях\" data-toc-modified-id=\"Исследуем-датафрейм-с-данными-о-пользователях-2.3.1\"><span class=\"toc-item-num\">2.3.1&nbsp;&nbsp;</span>Исследуем датафрейм с данными о пользователях</a></span></li><li><span><a href=\"#Исследуем-датафреймы-с-данными-о-поездках-и-подписках\" data-toc-modified-id=\"Исследуем-датафреймы-с-данными-о-поездках-и-подписках-2.3.2\"><span class=\"toc-item-num\">2.3.2&nbsp;&nbsp;</span>Исследуем датафреймы с данными о поездках и подписках</a></span></li></ul></li></ul></li><li><span><a href=\"#Шаг-3.-Исследовательский-анализ-данных\" data-toc-modified-id=\"Шаг-3.-Исследовательский-анализ-данных-3\"><span class=\"toc-item-num\">3&nbsp;&nbsp;</span>Шаг 3. Исследовательский анализ данных</a></span><ul class=\"toc-item\"><li><span><a href=\"#Частота-встречаемости-городов\" data-toc-modified-id=\"Частота-встречаемости-городов-3.1\"><span class=\"toc-item-num\">3.1&nbsp;&nbsp;</span>Частота встречаемости городов</a></span></li><li><span><a href=\"#Соотношение-пользователей-с-подпиской-и-без-подписки\" data-toc-modified-id=\"Соотношение-пользователей-с-подпиской-и-без-подписки-3.2\"><span class=\"toc-item-num\">3.2&nbsp;&nbsp;</span>Соотношение пользователей с подпиской и без подписки</a></span></li><li><span><a href=\"#Возраст-пользователей\" data-toc-modified-id=\"Возраст-пользователей-3.3\"><span class=\"toc-item-num\">3.3&nbsp;&nbsp;</span>Возраст пользователей</a></span></li><li><span><a href=\"#Расстояние,-которое-пользователь-преодолел-за-одну-поездку\" data-toc-modified-id=\"Расстояние,-которое-пользователь-преодолел-за-одну-поездку-3.4\"><span class=\"toc-item-num\">3.4&nbsp;&nbsp;</span>Расстояние, которое пользователь преодолел за одну поездку</a></span></li><li><span><a href=\"#Продолжительность-поездок\" data-toc-modified-id=\"Продолжительность-поездок-3.5\"><span class=\"toc-item-num\">3.5&nbsp;&nbsp;</span>Продолжительность поездок</a></span></li></ul></li><li><span><a href=\"#Шаг-4.-Объединение-данных\" data-toc-modified-id=\"Шаг-4.-Объединение-данных-4\"><span class=\"toc-item-num\">4&nbsp;&nbsp;</span>Шаг 4. Объединение данных</a></span><ul class=\"toc-item\"><li><span><a href=\"#Объединим-данные-о-пользователях,-поездках-и-подписках-в-один-датафрейм\" data-toc-modified-id=\"Объединим-данные-о-пользователях,-поездках-и-подписках-в-один-датафрейм-4.1\"><span class=\"toc-item-num\">4.1&nbsp;&nbsp;</span>Объединим данные о пользователях, поездках и подписках в один датафрейм</a></span></li><li><span><a href=\"#Создаем-ещё-два-датафрейма-из-датафрейма,-созданного-на-этапе-4.1\" data-toc-modified-id=\"Создаем-ещё-два-датафрейма-из-датафрейма,-созданного-на-этапе-4.1-4.2\"><span class=\"toc-item-num\">4.2&nbsp;&nbsp;</span>Создаем ещё два датафрейма из датафрейма, созданного на этапе 4.1</a></span><ul class=\"toc-item\"><li><span><a href=\"#C-данными-о-пользователях-без-подписки\" data-toc-modified-id=\"C-данными-о-пользователях-без-подписки-4.2.1\"><span class=\"toc-item-num\">4.2.1&nbsp;&nbsp;</span>C данными о пользователях без подписки</a></span></li><li><span><a href=\"#C-данными-о-пользователях-с-подпиской\" data-toc-modified-id=\"C-данными-о-пользователях-с-подпиской-4.2.2\"><span class=\"toc-item-num\">4.2.2&nbsp;&nbsp;</span>C данными о пользователях с подпиской</a></span></li></ul></li><li><span><a href=\"#Визуализация-информации-о-расстоянии-и-времени-поездок-для-пользователей-обеих-категорий\" data-toc-modified-id=\"Визуализация-информации-о-расстоянии-и-времени-поездок-для-пользователей-обеих-категорий-4.3\"><span class=\"toc-item-num\">4.3&nbsp;&nbsp;</span>Визуализация информации о расстоянии и времени поездок для пользователей обеих категорий</a></span></li></ul></li><li><span><a href=\"#Шаг-5.-Подсчёт-выручки\" data-toc-modified-id=\"Шаг-5.-Подсчёт-выручки-5\"><span class=\"toc-item-num\">5&nbsp;&nbsp;</span>Шаг 5. Подсчёт выручки</a></span><ul class=\"toc-item\"><li><span><a href=\"#Найдем-суммарное-расстояние,-количество-поездок-и-суммарное-время-для-каждого-пользователя-за-каждый-месяц\" data-toc-modified-id=\"Найдем-суммарное-расстояние,-количество-поездок-и-суммарное-время-для-каждого-пользователя-за-каждый-месяц-5.1\"><span class=\"toc-item-num\">5.1&nbsp;&nbsp;</span>Найдем суммарное расстояние, количество поездок и суммарное время для каждого пользователя за каждый месяц</a></span></li><li><span><a href=\"#В-датафрейм-добавим-столбец-с-помесячной-выручкой,-которую-принёс-каждый-пользователь\" data-toc-modified-id=\"В-датафрейм-добавим-столбец-с-помесячной-выручкой,-которую-принёс-каждый-пользователь-5.2\"><span class=\"toc-item-num\">5.2&nbsp;&nbsp;</span>В датафрейм добавим столбец с помесячной выручкой, которую принёс каждый пользователь</a></span></li></ul></li><li><span><a href=\"#Шаг-6.-Проверка-гипотез\" data-toc-modified-id=\"Шаг-6.-Проверка-гипотез-6\"><span class=\"toc-item-num\">6&nbsp;&nbsp;</span>Шаг 6. Проверка гипотез</a></span><ul class=\"toc-item\"><li><span><a href=\"#Тратят-ли-пользователи-с-подпиской-больше-времени-на-поездки?\" data-toc-modified-id=\"Тратят-ли-пользователи-с-подпиской-больше-времени-на-поездки?-6.1\"><span class=\"toc-item-num\">6.1&nbsp;&nbsp;</span>Тратят ли пользователи с подпиской больше времени на поездки?</a></span></li><li><span><a href=\"#Cреднее-расстояние,-которое-проезжают-пользователи-с-подпиской-за-одну-поездку,-не-превышает-3130-метров?\" data-toc-modified-id=\"Cреднее-расстояние,-которое-проезжают-пользователи-с-подпиской-за-одну-поездку,-не-превышает-3130-метров?-6.2\"><span class=\"toc-item-num\">6.2&nbsp;&nbsp;</span>Cреднее расстояние, которое проезжают пользователи с подпиской за одну поездку, не превышает 3130 метров?</a></span></li><li><span><a href=\"#Будет-ли-помесячная-выручка-от-пользователей-с-подпиской-по-месяцам-выше,-чем-выручка-от-пользователей-без-подписки?\" data-toc-modified-id=\"Будет-ли-помесячная-выручка-от-пользователей-с-подпиской-по-месяцам-выше,-чем-выручка-от-пользователей-без-подписки?-6.3\"><span class=\"toc-item-num\">6.3&nbsp;&nbsp;</span>Будет ли помесячная выручка от пользователей с подпиской по месяцам выше, чем выручка от пользователей без подписки?</a></span></li><li><span><a href=\"#Какой-тест-вам-понадобился-бы-для-проверки-этой-гипотезы?\" data-toc-modified-id=\"Какой-тест-вам-понадобился-бы-для-проверки-этой-гипотезы?-6.4\"><span class=\"toc-item-num\">6.4&nbsp;&nbsp;</span>Какой тест вам понадобился бы для проверки этой гипотезы?</a></span></li></ul></li><li><span><a href=\"#Шаг-7.-Распределения\" data-toc-modified-id=\"Шаг-7.-Распределения-7\"><span class=\"toc-item-num\">7&nbsp;&nbsp;</span>Шаг 7. Распределения</a></span><ul class=\"toc-item\"><li><span><a href=\"#\" data-toc-modified-id=\"-7.1\"><span class=\"toc-item-num\">7.1&nbsp;&nbsp;</span></a></span></li><li><span><a href=\"#\" data-toc-modified-id=\"-7.2\"><span class=\"toc-item-num\">7.2&nbsp;&nbsp;</span></a></span></li></ul></li><li><span><a href=\"#Общий-вывод\" data-toc-modified-id=\"Общий-вывод-8\"><span class=\"toc-item-num\">8&nbsp;&nbsp;</span>Общий вывод</a></span></li></ul></div>"
   ]
  },
  {
   "cell_type": "markdown",
   "id": "88e9cff1",
   "metadata": {},
   "source": [
    "# Статистический анализ данных поездок сервиса аренды самокатов\n",
    "\n",
    "В нашем распоряжении находятся данные сервиса аренды самокатов GoFast — информация о пользователях из нескольких городов и их поездках. Необходимо провести cтатистический анализ анализ данных, чтобы выявить зависимости, влияющие на выручку компании и привлечение новых пользователей. \n",
    "\n",
    "Сервис GoFast предоставляет аренду самокатов через мобильное приложение и предлагает два варианта оплаты: \n",
    "* без подписки (стоимость минуты — 8 рублей, старт поездки — 50 рублей)\n",
    "* с подпиской Ultra (абонентская плата — 199 рублей в месяц, стоимость минуты — 6 рублей, старт бесплатный).\n",
    "\n",
    "\n",
    "Цель исследования заключается в проверке следующих гипотез:\n",
    "- пользователи с подпиской тратят в среднем больше времени на поездки, чем пользователи без подписки\n",
    "- среднее расстояние поездки составляет менее 3130 метров\n",
    "- помесячная выручка от пользователей с подпиской выше, чем от пользователей без подписки\n",
    "- количество обращений в техподдержку снизилось после технического обновления приложения"
   ]
  },
  {
   "cell_type": "markdown",
   "id": "c42cbe00",
   "metadata": {},
   "source": [
    "## Загрузка данных"
   ]
  },
  {
   "cell_type": "code",
   "execution_count": null,
   "id": "202476c1-fb37-4b83-9778-87b4ce8c2267",
   "metadata": {},
   "outputs": [],
   "source": [
    "# Импортируем библиотеки\n",
    "import pandas as pd\n",
    "import matplotlib.pyplot as plt\n",
    "import numpy as np"
   ]
  },
  {
   "cell_type": "code",
   "execution_count": 2,
   "id": "eff9f206",
   "metadata": {},
   "outputs": [],
   "source": [
    "user_df = pd.read_csv('/datasets/users_go.csv')\n",
    "ride_df = pd.read_csv('/datasets/rides_go.csv')\n",
    "subs_df = pd.read_csv('/datasets/subscriptions_go.csv')"
   ]
  },
  {
   "cell_type": "markdown",
   "id": "bb5c2981",
   "metadata": {},
   "source": [
    "Изучаем общую информацию о датафрейме с данными пользователей"
   ]
  },
  {
   "cell_type": "code",
   "execution_count": 3,
   "id": "98c084bc",
   "metadata": {},
   "outputs": [
    {
     "data": {
      "text/html": [
       "<div>\n",
       "<style scoped>\n",
       "    .dataframe tbody tr th:only-of-type {\n",
       "        vertical-align: middle;\n",
       "    }\n",
       "\n",
       "    .dataframe tbody tr th {\n",
       "        vertical-align: top;\n",
       "    }\n",
       "\n",
       "    .dataframe thead th {\n",
       "        text-align: right;\n",
       "    }\n",
       "</style>\n",
       "<table border=\"1\" class=\"dataframe\">\n",
       "  <thead>\n",
       "    <tr style=\"text-align: right;\">\n",
       "      <th></th>\n",
       "      <th>user_id</th>\n",
       "      <th>name</th>\n",
       "      <th>age</th>\n",
       "      <th>city</th>\n",
       "      <th>subscription_type</th>\n",
       "    </tr>\n",
       "  </thead>\n",
       "  <tbody>\n",
       "    <tr>\n",
       "      <th>0</th>\n",
       "      <td>1</td>\n",
       "      <td>Кира</td>\n",
       "      <td>22</td>\n",
       "      <td>Тюмень</td>\n",
       "      <td>ultra</td>\n",
       "    </tr>\n",
       "    <tr>\n",
       "      <th>1</th>\n",
       "      <td>2</td>\n",
       "      <td>Станислав</td>\n",
       "      <td>31</td>\n",
       "      <td>Омск</td>\n",
       "      <td>ultra</td>\n",
       "    </tr>\n",
       "    <tr>\n",
       "      <th>2</th>\n",
       "      <td>3</td>\n",
       "      <td>Алексей</td>\n",
       "      <td>20</td>\n",
       "      <td>Москва</td>\n",
       "      <td>ultra</td>\n",
       "    </tr>\n",
       "    <tr>\n",
       "      <th>3</th>\n",
       "      <td>4</td>\n",
       "      <td>Константин</td>\n",
       "      <td>26</td>\n",
       "      <td>Ростов-на-Дону</td>\n",
       "      <td>ultra</td>\n",
       "    </tr>\n",
       "    <tr>\n",
       "      <th>4</th>\n",
       "      <td>5</td>\n",
       "      <td>Адель</td>\n",
       "      <td>28</td>\n",
       "      <td>Омск</td>\n",
       "      <td>ultra</td>\n",
       "    </tr>\n",
       "  </tbody>\n",
       "</table>\n",
       "</div>"
      ],
      "text/plain": [
       "   user_id        name  age            city subscription_type\n",
       "0        1        Кира   22          Тюмень             ultra\n",
       "1        2   Станислав   31            Омск             ultra\n",
       "2        3     Алексей   20          Москва             ultra\n",
       "3        4  Константин   26  Ростов-на-Дону             ultra\n",
       "4        5       Адель   28            Омск             ultra"
      ]
     },
     "execution_count": 3,
     "metadata": {},
     "output_type": "execute_result"
    }
   ],
   "source": [
    "# Выводим первые 5 строк датафрейма\n",
    "user_df.head()"
   ]
  },
  {
   "cell_type": "code",
   "execution_count": 4,
   "id": "55c0b46b",
   "metadata": {},
   "outputs": [
    {
     "name": "stdout",
     "output_type": "stream",
     "text": [
      "<class 'pandas.core.frame.DataFrame'>\n",
      "RangeIndex: 1565 entries, 0 to 1564\n",
      "Data columns (total 5 columns):\n",
      " #   Column             Non-Null Count  Dtype \n",
      "---  ------             --------------  ----- \n",
      " 0   user_id            1565 non-null   int64 \n",
      " 1   name               1565 non-null   object\n",
      " 2   age                1565 non-null   int64 \n",
      " 3   city               1565 non-null   object\n",
      " 4   subscription_type  1565 non-null   object\n",
      "dtypes: int64(2), object(3)\n",
      "memory usage: 61.3+ KB\n"
     ]
    }
   ],
   "source": [
    "# Выводим общую информацию о данных датафрейма\n",
    "user_df.info()"
   ]
  },
  {
   "cell_type": "markdown",
   "id": "75ace48d",
   "metadata": {},
   "source": [
    "Изучаем общую информацию о датафрейме с данными о поездках"
   ]
  },
  {
   "cell_type": "code",
   "execution_count": 5,
   "id": "dcbc10da",
   "metadata": {},
   "outputs": [
    {
     "data": {
      "text/html": [
       "<div>\n",
       "<style scoped>\n",
       "    .dataframe tbody tr th:only-of-type {\n",
       "        vertical-align: middle;\n",
       "    }\n",
       "\n",
       "    .dataframe tbody tr th {\n",
       "        vertical-align: top;\n",
       "    }\n",
       "\n",
       "    .dataframe thead th {\n",
       "        text-align: right;\n",
       "    }\n",
       "</style>\n",
       "<table border=\"1\" class=\"dataframe\">\n",
       "  <thead>\n",
       "    <tr style=\"text-align: right;\">\n",
       "      <th></th>\n",
       "      <th>user_id</th>\n",
       "      <th>distance</th>\n",
       "      <th>duration</th>\n",
       "      <th>date</th>\n",
       "    </tr>\n",
       "  </thead>\n",
       "  <tbody>\n",
       "    <tr>\n",
       "      <th>0</th>\n",
       "      <td>1</td>\n",
       "      <td>4409.919140</td>\n",
       "      <td>25.599769</td>\n",
       "      <td>2021-01-01</td>\n",
       "    </tr>\n",
       "    <tr>\n",
       "      <th>1</th>\n",
       "      <td>1</td>\n",
       "      <td>2617.592153</td>\n",
       "      <td>15.816871</td>\n",
       "      <td>2021-01-18</td>\n",
       "    </tr>\n",
       "    <tr>\n",
       "      <th>2</th>\n",
       "      <td>1</td>\n",
       "      <td>754.159807</td>\n",
       "      <td>6.232113</td>\n",
       "      <td>2021-04-20</td>\n",
       "    </tr>\n",
       "    <tr>\n",
       "      <th>3</th>\n",
       "      <td>1</td>\n",
       "      <td>2694.783254</td>\n",
       "      <td>18.511000</td>\n",
       "      <td>2021-08-11</td>\n",
       "    </tr>\n",
       "    <tr>\n",
       "      <th>4</th>\n",
       "      <td>1</td>\n",
       "      <td>4028.687306</td>\n",
       "      <td>26.265803</td>\n",
       "      <td>2021-08-28</td>\n",
       "    </tr>\n",
       "  </tbody>\n",
       "</table>\n",
       "</div>"
      ],
      "text/plain": [
       "   user_id     distance   duration        date\n",
       "0        1  4409.919140  25.599769  2021-01-01\n",
       "1        1  2617.592153  15.816871  2021-01-18\n",
       "2        1   754.159807   6.232113  2021-04-20\n",
       "3        1  2694.783254  18.511000  2021-08-11\n",
       "4        1  4028.687306  26.265803  2021-08-28"
      ]
     },
     "execution_count": 5,
     "metadata": {},
     "output_type": "execute_result"
    }
   ],
   "source": [
    "# Выводим первые 5 строк датафрейма\n",
    "ride_df.head()"
   ]
  },
  {
   "cell_type": "code",
   "execution_count": 6,
   "id": "06a94579",
   "metadata": {},
   "outputs": [
    {
     "name": "stdout",
     "output_type": "stream",
     "text": [
      "<class 'pandas.core.frame.DataFrame'>\n",
      "RangeIndex: 18068 entries, 0 to 18067\n",
      "Data columns (total 4 columns):\n",
      " #   Column    Non-Null Count  Dtype  \n",
      "---  ------    --------------  -----  \n",
      " 0   user_id   18068 non-null  int64  \n",
      " 1   distance  18068 non-null  float64\n",
      " 2   duration  18068 non-null  float64\n",
      " 3   date      18068 non-null  object \n",
      "dtypes: float64(2), int64(1), object(1)\n",
      "memory usage: 564.8+ KB\n"
     ]
    }
   ],
   "source": [
    "# Выводим общую информацию о данных датафрейма\n",
    "ride_df.info()"
   ]
  },
  {
   "cell_type": "markdown",
   "id": "56dccbac",
   "metadata": {},
   "source": [
    "Изучаем общую информацию о датафрейме с данными о подписках"
   ]
  },
  {
   "cell_type": "code",
   "execution_count": 7,
   "id": "101b3733",
   "metadata": {},
   "outputs": [
    {
     "data": {
      "text/html": [
       "<div>\n",
       "<style scoped>\n",
       "    .dataframe tbody tr th:only-of-type {\n",
       "        vertical-align: middle;\n",
       "    }\n",
       "\n",
       "    .dataframe tbody tr th {\n",
       "        vertical-align: top;\n",
       "    }\n",
       "\n",
       "    .dataframe thead th {\n",
       "        text-align: right;\n",
       "    }\n",
       "</style>\n",
       "<table border=\"1\" class=\"dataframe\">\n",
       "  <thead>\n",
       "    <tr style=\"text-align: right;\">\n",
       "      <th></th>\n",
       "      <th>subscription_type</th>\n",
       "      <th>minute_price</th>\n",
       "      <th>start_ride_price</th>\n",
       "      <th>subscription_fee</th>\n",
       "    </tr>\n",
       "  </thead>\n",
       "  <tbody>\n",
       "    <tr>\n",
       "      <th>0</th>\n",
       "      <td>free</td>\n",
       "      <td>8</td>\n",
       "      <td>50</td>\n",
       "      <td>0</td>\n",
       "    </tr>\n",
       "    <tr>\n",
       "      <th>1</th>\n",
       "      <td>ultra</td>\n",
       "      <td>6</td>\n",
       "      <td>0</td>\n",
       "      <td>199</td>\n",
       "    </tr>\n",
       "  </tbody>\n",
       "</table>\n",
       "</div>"
      ],
      "text/plain": [
       "  subscription_type  minute_price  start_ride_price  subscription_fee\n",
       "0              free             8                50                 0\n",
       "1             ultra             6                 0               199"
      ]
     },
     "execution_count": 7,
     "metadata": {},
     "output_type": "execute_result"
    }
   ],
   "source": [
    "# Выводим первые строки датафрейма\n",
    "subs_df.head()"
   ]
  },
  {
   "cell_type": "code",
   "execution_count": 8,
   "id": "842cd06b",
   "metadata": {},
   "outputs": [
    {
     "name": "stdout",
     "output_type": "stream",
     "text": [
      "<class 'pandas.core.frame.DataFrame'>\n",
      "RangeIndex: 2 entries, 0 to 1\n",
      "Data columns (total 4 columns):\n",
      " #   Column             Non-Null Count  Dtype \n",
      "---  ------             --------------  ----- \n",
      " 0   subscription_type  2 non-null      object\n",
      " 1   minute_price       2 non-null      int64 \n",
      " 2   start_ride_price   2 non-null      int64 \n",
      " 3   subscription_fee   2 non-null      int64 \n",
      "dtypes: int64(3), object(1)\n",
      "memory usage: 192.0+ bytes\n"
     ]
    }
   ],
   "source": [
    "# Выводим общую информацию о данных датафрейма\n",
    "subs_df.info()"
   ]
  },
  {
   "cell_type": "markdown",
   "id": "012e32c9",
   "metadata": {},
   "source": [
    "**Вывод:** На этом этапе были загружены исходные данные и изучены их характеристики"
   ]
  },
  {
   "cell_type": "markdown",
   "id": "e95ebca7",
   "metadata": {},
   "source": [
    "## Предобработка данных"
   ]
  },
  {
   "cell_type": "markdown",
   "id": "e8bb53f6",
   "metadata": {},
   "source": [
    "##### Приведем столбец date к типу даты pandas"
   ]
  },
  {
   "cell_type": "code",
   "execution_count": 9,
   "id": "af6d202c",
   "metadata": {},
   "outputs": [
    {
     "name": "stdout",
     "output_type": "stream",
     "text": [
      "<class 'pandas.core.frame.DataFrame'>\n",
      "RangeIndex: 18068 entries, 0 to 18067\n",
      "Data columns (total 4 columns):\n",
      " #   Column    Non-Null Count  Dtype         \n",
      "---  ------    --------------  -----         \n",
      " 0   user_id   18068 non-null  int64         \n",
      " 1   distance  18068 non-null  float64       \n",
      " 2   duration  18068 non-null  float64       \n",
      " 3   date      18068 non-null  datetime64[ns]\n",
      "dtypes: datetime64[ns](1), float64(2), int64(1)\n",
      "memory usage: 564.8 KB\n"
     ]
    }
   ],
   "source": [
    "# Изменяем тип данных столбца 'date'\n",
    "ride_df['date'] = pd.to_datetime(ride_df['date'], format='%Y-%m-%d')\n",
    "\n",
    "# Проверим, что преобразования выполнены корректно\n",
    "ride_df.info()"
   ]
  },
  {
   "cell_type": "markdown",
   "id": "451c2680",
   "metadata": {},
   "source": [
    "##### Создаем новый столбец с номером месяца на основе столбца date"
   ]
  },
  {
   "cell_type": "code",
   "execution_count": 10,
   "id": "0fa0fa8f",
   "metadata": {},
   "outputs": [
    {
     "data": {
      "text/plain": [
       "Timestamp('2021-01-01 00:00:00')"
      ]
     },
     "execution_count": 10,
     "metadata": {},
     "output_type": "execute_result"
    }
   ],
   "source": [
    "ride_df['date'].min()"
   ]
  },
  {
   "cell_type": "code",
   "execution_count": 11,
   "id": "ae6649e4",
   "metadata": {},
   "outputs": [
    {
     "data": {
      "text/plain": [
       "Timestamp('2021-12-30 00:00:00')"
      ]
     },
     "execution_count": 11,
     "metadata": {},
     "output_type": "execute_result"
    }
   ],
   "source": [
    "ride_df['date'].max()"
   ]
  },
  {
   "cell_type": "markdown",
   "id": "21904e9d",
   "metadata": {},
   "source": [
    "Данные охватывают поездки, совершенные в период с 1 января по 30 декабря 2021 года"
   ]
  },
  {
   "cell_type": "code",
   "execution_count": 12,
   "id": "d9c0a1c9",
   "metadata": {},
   "outputs": [
    {
     "data": {
      "text/html": [
       "<div>\n",
       "<style scoped>\n",
       "    .dataframe tbody tr th:only-of-type {\n",
       "        vertical-align: middle;\n",
       "    }\n",
       "\n",
       "    .dataframe tbody tr th {\n",
       "        vertical-align: top;\n",
       "    }\n",
       "\n",
       "    .dataframe thead th {\n",
       "        text-align: right;\n",
       "    }\n",
       "</style>\n",
       "<table border=\"1\" class=\"dataframe\">\n",
       "  <thead>\n",
       "    <tr style=\"text-align: right;\">\n",
       "      <th></th>\n",
       "      <th>date</th>\n",
       "      <th>month_num</th>\n",
       "    </tr>\n",
       "  </thead>\n",
       "  <tbody>\n",
       "    <tr>\n",
       "      <th>0</th>\n",
       "      <td>2021-01-01</td>\n",
       "      <td>1</td>\n",
       "    </tr>\n",
       "    <tr>\n",
       "      <th>1</th>\n",
       "      <td>2021-01-18</td>\n",
       "      <td>1</td>\n",
       "    </tr>\n",
       "    <tr>\n",
       "      <th>2</th>\n",
       "      <td>2021-04-20</td>\n",
       "      <td>4</td>\n",
       "    </tr>\n",
       "    <tr>\n",
       "      <th>3</th>\n",
       "      <td>2021-08-11</td>\n",
       "      <td>8</td>\n",
       "    </tr>\n",
       "    <tr>\n",
       "      <th>4</th>\n",
       "      <td>2021-08-28</td>\n",
       "      <td>8</td>\n",
       "    </tr>\n",
       "  </tbody>\n",
       "</table>\n",
       "</div>"
      ],
      "text/plain": [
       "        date  month_num\n",
       "0 2021-01-01          1\n",
       "1 2021-01-18          1\n",
       "2 2021-04-20          4\n",
       "3 2021-08-11          8\n",
       "4 2021-08-28          8"
      ]
     },
     "execution_count": 12,
     "metadata": {},
     "output_type": "execute_result"
    }
   ],
   "source": [
    "# Создаем новый столбец 'month_num'\n",
    "ride_df['month_num'] = ride_df['date'].dt.month\n",
    "\n",
    "# Проверим, что преобразования выполнены корректно\n",
    "ride_df[['date', 'month_num']].head()"
   ]
  },
  {
   "cell_type": "markdown",
   "id": "51b421aa",
   "metadata": {},
   "source": [
    "#####  Обработаем пропущенные значения и дубликаты в датафреймах"
   ]
  },
  {
   "cell_type": "markdown",
   "id": "9d69b832",
   "metadata": {},
   "source": [
    "###### Исследуем датафрейм с данными о пользователях"
   ]
  },
  {
   "cell_type": "code",
   "execution_count": 13,
   "id": "aaadaeaa",
   "metadata": {},
   "outputs": [
    {
     "data": {
      "text/plain": [
       "user_id              0\n",
       "name                 0\n",
       "age                  0\n",
       "city                 0\n",
       "subscription_type    0\n",
       "dtype: int64"
      ]
     },
     "execution_count": 13,
     "metadata": {},
     "output_type": "execute_result"
    }
   ],
   "source": [
    "# Проверям количество пропущенных значений\n",
    "user_df.isna().sum()"
   ]
  },
  {
   "cell_type": "code",
   "execution_count": 14,
   "id": "d712eb1c",
   "metadata": {},
   "outputs": [
    {
     "data": {
      "text/plain": [
       "31"
      ]
     },
     "execution_count": 14,
     "metadata": {},
     "output_type": "execute_result"
    }
   ],
   "source": [
    "# Проверяем наличие явных дубликатов\n",
    "user_df.duplicated().sum()"
   ]
  },
  {
   "cell_type": "code",
   "execution_count": 15,
   "id": "71329502",
   "metadata": {},
   "outputs": [
    {
     "name": "stdout",
     "output_type": "stream",
     "text": [
      "<class 'pandas.core.frame.DataFrame'>\n",
      "Int64Index: 1534 entries, 0 to 1533\n",
      "Data columns (total 5 columns):\n",
      " #   Column             Non-Null Count  Dtype \n",
      "---  ------             --------------  ----- \n",
      " 0   user_id            1534 non-null   int64 \n",
      " 1   name               1534 non-null   object\n",
      " 2   age                1534 non-null   int64 \n",
      " 3   city               1534 non-null   object\n",
      " 4   subscription_type  1534 non-null   object\n",
      "dtypes: int64(2), object(3)\n",
      "memory usage: 71.9+ KB\n"
     ]
    }
   ],
   "source": [
    "# Удаляем явные дубликаты\n",
    "user_df = user_df.drop_duplicates()\n",
    "user_df.info()"
   ]
  },
  {
   "cell_type": "markdown",
   "id": "bfb5e679",
   "metadata": {},
   "source": [
    "Явные дубликаты были удалены. Неявные дубликаты и пропуски в данных не обнаружены"
   ]
  },
  {
   "cell_type": "markdown",
   "id": "f39a8d29",
   "metadata": {},
   "source": [
    "###### Исследуем датафреймы с данными о поездках и подписках"
   ]
  },
  {
   "cell_type": "code",
   "execution_count": 16,
   "id": "57294a80",
   "metadata": {},
   "outputs": [
    {
     "data": {
      "text/plain": [
       "user_id      0\n",
       "distance     0\n",
       "duration     0\n",
       "date         0\n",
       "month_num    0\n",
       "dtype: int64"
      ]
     },
     "execution_count": 16,
     "metadata": {},
     "output_type": "execute_result"
    }
   ],
   "source": [
    "# Проверям количество пропущенных значений\n",
    "ride_df.isna().sum()"
   ]
  },
  {
   "cell_type": "code",
   "execution_count": 17,
   "id": "ce93b558",
   "metadata": {},
   "outputs": [
    {
     "data": {
      "text/plain": [
       "0"
      ]
     },
     "execution_count": 17,
     "metadata": {},
     "output_type": "execute_result"
    }
   ],
   "source": [
    "# Проверяем наличие явных дубликатов\n",
    "ride_df.duplicated().sum()"
   ]
  },
  {
   "cell_type": "code",
   "execution_count": 18,
   "id": "6a9afff5",
   "metadata": {},
   "outputs": [
    {
     "data": {
      "text/plain": [
       "subscription_type    0\n",
       "minute_price         0\n",
       "start_ride_price     0\n",
       "subscription_fee     0\n",
       "dtype: int64"
      ]
     },
     "execution_count": 18,
     "metadata": {},
     "output_type": "execute_result"
    }
   ],
   "source": [
    "# Проверям количество пропущенных значений\n",
    "subs_df.isna().sum()"
   ]
  },
  {
   "cell_type": "code",
   "execution_count": 19,
   "id": "af085928",
   "metadata": {},
   "outputs": [
    {
     "data": {
      "text/plain": [
       "0"
      ]
     },
     "execution_count": 19,
     "metadata": {},
     "output_type": "execute_result"
    }
   ],
   "source": [
    "# Проверяем наличие явных дубликатов\n",
    "subs_df.duplicated().sum()"
   ]
  },
  {
   "cell_type": "markdown",
   "id": "2f217a86",
   "metadata": {},
   "source": [
    "Явные, неявные дубликаты и пропуски в данных не обнаружены"
   ]
  },
  {
   "cell_type": "markdown",
   "id": "77a36280",
   "metadata": {},
   "source": [
    "**Вывод:** На этом этапе были изучены исходные данные на наличие пропусков и дубликатов. Лишняя информация была удалена из исходных данных"
   ]
  },
  {
   "cell_type": "code",
   "execution_count": 20,
   "id": "5643b8c5",
   "metadata": {},
   "outputs": [
    {
     "data": {
      "text/plain": [
       "0    4409.92\n",
       "1    2617.59\n",
       "2     754.16\n",
       "3    2694.78\n",
       "4    4028.69\n",
       "Name: distance, dtype: float64"
      ]
     },
     "execution_count": 20,
     "metadata": {},
     "output_type": "execute_result"
    }
   ],
   "source": [
    "ride_df['distance'] = ride_df['distance'].round(2)\n",
    "ride_df['distance'].head()"
   ]
  },
  {
   "cell_type": "markdown",
   "id": "212593c7",
   "metadata": {},
   "source": [
    "## Исследовательский анализ данных"
   ]
  },
  {
   "cell_type": "markdown",
   "id": "be564e70",
   "metadata": {},
   "source": [
    "##### Частота встречаемости городов"
   ]
  },
  {
   "cell_type": "code",
   "execution_count": 23,
   "id": "e3a4274c",
   "metadata": {},
   "outputs": [
    {
     "data": {
      "text/plain": [
       "Пятигорск         219\n",
       "Екатеринбург      204\n",
       "Ростов-на-Дону    198\n",
       "Краснодар         193\n",
       "Сочи              189\n",
       "Омск              183\n",
       "Тюмень            180\n",
       "Москва            168\n",
       "Name: city, dtype: int64"
      ]
     },
     "execution_count": 23,
     "metadata": {},
     "output_type": "execute_result"
    }
   ],
   "source": [
    "# Рассмотрим частоту встречаемости городов\n",
    "user_df['city'].value_counts()"
   ]
  },
  {
   "cell_type": "code",
   "execution_count": 25,
   "id": "cc2bb9bc",
   "metadata": {},
   "outputs": [
    {
     "data": {
      "image/png": "[encoded data removed]",
      "text/plain": [
       "<Figure size 864x576 with 1 Axes>"
      ]
     },
     "metadata": {
      "needs_background": "light"
     },
     "output_type": "display_data"
    }
   ],
   "source": [
    "# Для визуализации полученных данных используем столбчатую диаграмму\n",
    "ax = user_df['city'].value_counts(ascending=True).plot(kind='barh', title='График частоты встречаемости городов', figsize=(12,8))\n",
    "\n",
    "plt.xlabel('Количество пользователей')\n",
    "plt.ylabel('Город')\n",
    "for p in ax.patches:\n",
    "    ax.annotate(f'{p.get_width()}', \n",
    "                (p.get_width(), p.get_y() + p.get_height() / 2), \n",
    "                ha='left', va='center', \n",
    "                fontsize=10, color='black', \n",
    "                xytext=(5, 0), textcoords='offset points')\n",
    "\n",
    "plt.show()"
   ]
  },
  {
   "cell_type": "markdown",
   "id": "1a472533",
   "metadata": {},
   "source": [
    "Всего представлена информация о 8 городах. Чаще всего поездки совершали пользователи из Пятигорска (219), Екатеринбурга (204) и Ростова-на-Дону (198), реже — из Москвы (168), Тюмени (180) и Омска (183)"
   ]
  },
  {
   "cell_type": "markdown",
   "id": "81888be2",
   "metadata": {},
   "source": [
    "##### Соотношение пользователей с подпиской и без подписки"
   ]
  },
  {
   "cell_type": "code",
   "execution_count": 27,
   "id": "5ef813d1",
   "metadata": {},
   "outputs": [
    {
     "data": {
      "text/plain": [
       "free     835\n",
       "ultra    699\n",
       "Name: subscription_type, dtype: int64"
      ]
     },
     "execution_count": 27,
     "metadata": {},
     "output_type": "execute_result"
    }
   ],
   "source": [
    "# Рассмотрим соотношение пользователей с подпиской и без подписки\n",
    "user_df['subscription_type'].value_counts()"
   ]
  },
  {
   "cell_type": "code",
   "execution_count": 29,
   "id": "d2af581f",
   "metadata": {},
   "outputs": [
    {
     "data": {
      "image/png": "[encoded data removed]",
      "text/plain": [
       "<Figure size 432x288 with 1 Axes>"
      ]
     },
     "metadata": {},
     "output_type": "display_data"
    }
   ],
   "source": [
    "ax = user_df['subscription_type'].value_counts().plot(\n",
    "    kind='pie', \n",
    "    autopct='%.0f%%', \n",
    "    startangle=90, \n",
    "    grid=True, \n",
    "    title='Соотношение пользователей с подпиской и без подписки', \n",
    "    ylabel= \"\")\n",
    "\n",
    "plt.show()"
   ]
  },
  {
   "cell_type": "code",
   "execution_count": 30,
   "id": "46e00501",
   "metadata": {},
   "outputs": [
    {
     "data": {
      "text/plain": [
       "1.19"
      ]
     },
     "execution_count": 30,
     "metadata": {},
     "output_type": "execute_result"
    }
   ],
   "source": [
    "# Вычислим, во сколько раз количество пользователей без подписки больше количества пользователей с подпиской\n",
    "round(user_df['subscription_type'].value_counts()['free'] / user_df['subscription_type'].value_counts()['ultra'], 2)"
   ]
  },
  {
   "cell_type": "markdown",
   "id": "98a524f8",
   "metadata": {},
   "source": [
    "Всего представлена информация о 1534 пользователях. Число пользователей без подписки (835) превышает число пользователей с подпиской (699) примерно в 1.19 раза"
   ]
  },
  {
   "cell_type": "markdown",
   "id": "b92561f2",
   "metadata": {},
   "source": [
    "##### Возраст пользователей"
   ]
  },
  {
   "cell_type": "code",
   "execution_count": 32,
   "id": "57828f0c",
   "metadata": {},
   "outputs": [
    {
     "data": {
      "text/plain": [
       "count    1534.000000\n",
       "mean       24.903520\n",
       "std         4.572367\n",
       "min        12.000000\n",
       "25%        22.000000\n",
       "50%        25.000000\n",
       "75%        28.000000\n",
       "max        43.000000\n",
       "Name: age, dtype: float64"
      ]
     },
     "execution_count": 32,
     "metadata": {},
     "output_type": "execute_result"
    }
   ],
   "source": [
    "# Рассмотрим характеристики данных о возрасте пользователей\n",
    "user_df['age'].describe()"
   ]
  },
  {
   "cell_type": "code",
   "execution_count": 34,
   "id": "4ac2b7ca",
   "metadata": {},
   "outputs": [
    {
     "data": {
      "image/png": "[encoded data removed]",
      "text/plain": [
       "<Figure size 432x288 with 1 Axes>"
      ]
     },
     "metadata": {
      "needs_background": "light"
     },
     "output_type": "display_data"
    }
   ],
   "source": [
    "ax = user_df['age'].hist(bins=(user_df['age'].max() - user_df['age'].min()))\n",
    "\n",
    "ax.set_title('Гистограмма распределения возрастов')\n",
    "plt.xlabel('Возраст')\n",
    "plt.ylabel('Частота')\n",
    "\n",
    "plt.show()"
   ]
  },
  {
   "cell_type": "markdown",
   "id": "1812b092",
   "metadata": {},
   "source": [
    "Возраст меньше 18 лет кажется недостоверным, так как арендовать самокат можно только с этого возраста"
   ]
  },
  {
   "cell_type": "code",
   "execution_count": 35,
   "id": "35276f86",
   "metadata": {},
   "outputs": [
    {
     "data": {
      "text/plain": [
       "79"
      ]
     },
     "execution_count": 35,
     "metadata": {},
     "output_type": "execute_result"
    }
   ],
   "source": [
    "# Вычислим количество таких пользователй\n",
    "user_df[user_df['age'] < 18]['user_id'].count()"
   ]
  },
  {
   "cell_type": "code",
   "execution_count": 36,
   "id": "2e86ee5d",
   "metadata": {},
   "outputs": [
    {
     "data": {
      "text/html": [
       "<div>\n",
       "<style scoped>\n",
       "    .dataframe tbody tr th:only-of-type {\n",
       "        vertical-align: middle;\n",
       "    }\n",
       "\n",
       "    .dataframe tbody tr th {\n",
       "        vertical-align: top;\n",
       "    }\n",
       "\n",
       "    .dataframe thead th {\n",
       "        text-align: right;\n",
       "    }\n",
       "</style>\n",
       "<table border=\"1\" class=\"dataframe\">\n",
       "  <thead>\n",
       "    <tr style=\"text-align: right;\">\n",
       "      <th></th>\n",
       "      <th>user_id</th>\n",
       "      <th>distance</th>\n",
       "      <th>duration</th>\n",
       "      <th>date</th>\n",
       "      <th>month_num</th>\n",
       "    </tr>\n",
       "  </thead>\n",
       "  <tbody>\n",
       "    <tr>\n",
       "      <th>197</th>\n",
       "      <td>21</td>\n",
       "      <td>518.34</td>\n",
       "      <td>10.151870</td>\n",
       "      <td>2021-02-03</td>\n",
       "      <td>2</td>\n",
       "    </tr>\n",
       "    <tr>\n",
       "      <th>198</th>\n",
       "      <td>21</td>\n",
       "      <td>2919.37</td>\n",
       "      <td>11.961931</td>\n",
       "      <td>2021-02-12</td>\n",
       "      <td>2</td>\n",
       "    </tr>\n",
       "    <tr>\n",
       "      <th>199</th>\n",
       "      <td>21</td>\n",
       "      <td>2934.47</td>\n",
       "      <td>19.336184</td>\n",
       "      <td>2021-02-19</td>\n",
       "      <td>2</td>\n",
       "    </tr>\n",
       "    <tr>\n",
       "      <th>200</th>\n",
       "      <td>21</td>\n",
       "      <td>3245.35</td>\n",
       "      <td>14.211895</td>\n",
       "      <td>2021-03-19</td>\n",
       "      <td>3</td>\n",
       "    </tr>\n",
       "    <tr>\n",
       "      <th>201</th>\n",
       "      <td>21</td>\n",
       "      <td>3420.68</td>\n",
       "      <td>26.658236</td>\n",
       "      <td>2021-04-24</td>\n",
       "      <td>4</td>\n",
       "    </tr>\n",
       "    <tr>\n",
       "      <th>...</th>\n",
       "      <td>...</td>\n",
       "      <td>...</td>\n",
       "      <td>...</td>\n",
       "      <td>...</td>\n",
       "      <td>...</td>\n",
       "    </tr>\n",
       "    <tr>\n",
       "      <th>17803</th>\n",
       "      <td>1516</td>\n",
       "      <td>2504.18</td>\n",
       "      <td>19.008365</td>\n",
       "      <td>2021-10-08</td>\n",
       "      <td>10</td>\n",
       "    </tr>\n",
       "    <tr>\n",
       "      <th>17804</th>\n",
       "      <td>1516</td>\n",
       "      <td>4257.79</td>\n",
       "      <td>19.027482</td>\n",
       "      <td>2021-10-10</td>\n",
       "      <td>10</td>\n",
       "    </tr>\n",
       "    <tr>\n",
       "      <th>17805</th>\n",
       "      <td>1516</td>\n",
       "      <td>4133.88</td>\n",
       "      <td>17.779611</td>\n",
       "      <td>2021-11-12</td>\n",
       "      <td>11</td>\n",
       "    </tr>\n",
       "    <tr>\n",
       "      <th>17806</th>\n",
       "      <td>1516</td>\n",
       "      <td>3413.33</td>\n",
       "      <td>22.533327</td>\n",
       "      <td>2021-11-19</td>\n",
       "      <td>11</td>\n",
       "    </tr>\n",
       "    <tr>\n",
       "      <th>17807</th>\n",
       "      <td>1516</td>\n",
       "      <td>3424.34</td>\n",
       "      <td>13.783817</td>\n",
       "      <td>2021-11-30</td>\n",
       "      <td>11</td>\n",
       "    </tr>\n",
       "  </tbody>\n",
       "</table>\n",
       "<p>976 rows × 5 columns</p>\n",
       "</div>"
      ],
      "text/plain": [
       "       user_id  distance   duration       date  month_num\n",
       "197         21    518.34  10.151870 2021-02-03          2\n",
       "198         21   2919.37  11.961931 2021-02-12          2\n",
       "199         21   2934.47  19.336184 2021-02-19          2\n",
       "200         21   3245.35  14.211895 2021-03-19          3\n",
       "201         21   3420.68  26.658236 2021-04-24          4\n",
       "...        ...       ...        ...        ...        ...\n",
       "17803     1516   2504.18  19.008365 2021-10-08         10\n",
       "17804     1516   4257.79  19.027482 2021-10-10         10\n",
       "17805     1516   4133.88  17.779611 2021-11-12         11\n",
       "17806     1516   3413.33  22.533327 2021-11-19         11\n",
       "17807     1516   3424.34  13.783817 2021-11-30         11\n",
       "\n",
       "[976 rows x 5 columns]"
      ]
     },
     "execution_count": 36,
     "metadata": {},
     "output_type": "execute_result"
    }
   ],
   "source": [
    "# Определим количество поездок, совершенных пользователями в возрасте до 18 лет\n",
    "ride_df[ride_df['user_id'].isin(user_df[user_df['age'] < 18]['user_id'])]"
   ]
  },
  {
   "cell_type": "markdown",
   "id": "44f6e114",
   "metadata": {},
   "source": [
    "Доля поездок, совершенных пользователями младше 18 лет, составляет 5.5% от общего количества данных. Для дальнейшего исследования возраст не будет играть значимой роли, поэтому оставим эти данные без изменений. Возможно, пользователи могли указать неверный возраст, если система не предусматривает проверки по документам"
   ]
  },
  {
   "cell_type": "code",
   "execution_count": 38,
   "id": "4bc4c78c",
   "metadata": {},
   "outputs": [
    {
     "data": {
      "image/png": "[encoded data removed]",
      "text/plain": [
       "<Figure size 432x288 with 1 Axes>"
      ]
     },
     "metadata": {
      "needs_background": "light"
     },
     "output_type": "display_data"
    }
   ],
   "source": [
    "ax = plt.gca()\n",
    "plt.boxplot(user_df['age'])\n",
    "ax.set_title('Диаграмма размаха распределения возраста пользователей')\n",
    "plt.ylabel('Возраст')\n",
    "plt.show()"
   ]
  },
  {
   "cell_type": "markdown",
   "id": "1cf470b8",
   "metadata": {},
   "source": [
    "50% данных в выборке представляют информацию о пользователях в возрасте от 22 до 28 лет. Медианное значение — 25 лет, максимальное — 43 года, минимальное — 12 лет."
   ]
  },
  {
   "cell_type": "markdown",
   "id": "d706788b",
   "metadata": {},
   "source": [
    "##### Расстояние, которое пользователь преодолел за одну поездку"
   ]
  },
  {
   "cell_type": "code",
   "execution_count": 39,
   "id": "1955cdc6",
   "metadata": {},
   "outputs": [
    {
     "data": {
      "text/plain": [
       "count    18068.000000\n",
       "mean      3070.659992\n",
       "std       1116.831222\n",
       "min          0.860000\n",
       "25%       2543.227500\n",
       "50%       3133.610000\n",
       "75%       3776.220000\n",
       "max       7211.010000\n",
       "Name: distance, dtype: float64"
      ]
     },
     "execution_count": 39,
     "metadata": {},
     "output_type": "execute_result"
    }
   ],
   "source": [
    "# Рассмотрим характеристики данных о расстоянии, которое пользователи преодолевали за одну поездку\n",
    "ride_df['distance'].describe()"
   ]
  },
  {
   "cell_type": "code",
   "execution_count": 41,
   "id": "4efaa8cf",
   "metadata": {},
   "outputs": [
    {
     "data": {
      "image/png": "[encoded data removed]",
      "text/plain": [
       "<Figure size 432x288 with 1 Axes>"
      ]
     },
     "metadata": {
      "needs_background": "light"
     },
     "output_type": "display_data"
    }
   ],
   "source": [
    "ax = plt.gca()\n",
    "plt.boxplot(ride_df['distance'])\n",
    "ax.set_title('Диаграмма размаха распределения расстояния поездок')\n",
    "plt.ylabel('Расстояние')\n",
    "plt.show()"
   ]
  },
  {
   "cell_type": "markdown",
   "id": "7077c0d5",
   "metadata": {},
   "source": [
    "Если судить по диаграмме, то значения меньше 700 метров и больше 5600 метров нужно считать выбросами"
   ]
  },
  {
   "cell_type": "code",
   "execution_count": 42,
   "id": "85c8c69f",
   "metadata": {
    "scrolled": true
   },
   "outputs": [
    {
     "data": {
      "text/html": [
       "<div>\n",
       "<style scoped>\n",
       "    .dataframe tbody tr th:only-of-type {\n",
       "        vertical-align: middle;\n",
       "    }\n",
       "\n",
       "    .dataframe tbody tr th {\n",
       "        vertical-align: top;\n",
       "    }\n",
       "\n",
       "    .dataframe thead th {\n",
       "        text-align: right;\n",
       "    }\n",
       "</style>\n",
       "<table border=\"1\" class=\"dataframe\">\n",
       "  <thead>\n",
       "    <tr style=\"text-align: right;\">\n",
       "      <th></th>\n",
       "      <th>user_id</th>\n",
       "      <th>distance</th>\n",
       "      <th>duration</th>\n",
       "      <th>date</th>\n",
       "      <th>month_num</th>\n",
       "    </tr>\n",
       "  </thead>\n",
       "  <tbody>\n",
       "    <tr>\n",
       "      <th>6312</th>\n",
       "      <td>677</td>\n",
       "      <td>5699.77</td>\n",
       "      <td>18.213792</td>\n",
       "      <td>2021-03-12</td>\n",
       "      <td>3</td>\n",
       "    </tr>\n",
       "    <tr>\n",
       "      <th>6549</th>\n",
       "      <td>702</td>\n",
       "      <td>5924.12</td>\n",
       "      <td>21.156693</td>\n",
       "      <td>2021-11-19</td>\n",
       "      <td>11</td>\n",
       "    </tr>\n",
       "    <tr>\n",
       "      <th>6754</th>\n",
       "      <td>716</td>\n",
       "      <td>5835.53</td>\n",
       "      <td>20.506582</td>\n",
       "      <td>2021-11-05</td>\n",
       "      <td>11</td>\n",
       "    </tr>\n",
       "    <tr>\n",
       "      <th>6788</th>\n",
       "      <td>719</td>\n",
       "      <td>5648.44</td>\n",
       "      <td>19.837195</td>\n",
       "      <td>2021-10-13</td>\n",
       "      <td>10</td>\n",
       "    </tr>\n",
       "    <tr>\n",
       "      <th>6860</th>\n",
       "      <td>724</td>\n",
       "      <td>6225.52</td>\n",
       "      <td>0.500000</td>\n",
       "      <td>2021-12-16</td>\n",
       "      <td>12</td>\n",
       "    </tr>\n",
       "    <tr>\n",
       "      <th>7026</th>\n",
       "      <td>736</td>\n",
       "      <td>5787.74</td>\n",
       "      <td>15.890581</td>\n",
       "      <td>2021-02-09</td>\n",
       "      <td>2</td>\n",
       "    </tr>\n",
       "    <tr>\n",
       "      <th>7043</th>\n",
       "      <td>737</td>\n",
       "      <td>6386.94</td>\n",
       "      <td>25.967345</td>\n",
       "      <td>2021-07-31</td>\n",
       "      <td>7</td>\n",
       "    </tr>\n",
       "    <tr>\n",
       "      <th>7052</th>\n",
       "      <td>738</td>\n",
       "      <td>6059.65</td>\n",
       "      <td>21.149133</td>\n",
       "      <td>2021-05-02</td>\n",
       "      <td>5</td>\n",
       "    </tr>\n",
       "    <tr>\n",
       "      <th>7185</th>\n",
       "      <td>747</td>\n",
       "      <td>6010.19</td>\n",
       "      <td>18.025486</td>\n",
       "      <td>2021-03-10</td>\n",
       "      <td>3</td>\n",
       "    </tr>\n",
       "    <tr>\n",
       "      <th>7313</th>\n",
       "      <td>757</td>\n",
       "      <td>5656.11</td>\n",
       "      <td>29.105144</td>\n",
       "      <td>2021-09-18</td>\n",
       "      <td>9</td>\n",
       "    </tr>\n",
       "  </tbody>\n",
       "</table>\n",
       "</div>"
      ],
      "text/plain": [
       "      user_id  distance   duration       date  month_num\n",
       "6312      677   5699.77  18.213792 2021-03-12          3\n",
       "6549      702   5924.12  21.156693 2021-11-19         11\n",
       "6754      716   5835.53  20.506582 2021-11-05         11\n",
       "6788      719   5648.44  19.837195 2021-10-13         10\n",
       "6860      724   6225.52   0.500000 2021-12-16         12\n",
       "7026      736   5787.74  15.890581 2021-02-09          2\n",
       "7043      737   6386.94  25.967345 2021-07-31          7\n",
       "7052      738   6059.65  21.149133 2021-05-02          5\n",
       "7185      747   6010.19  18.025486 2021-03-10          3\n",
       "7313      757   5656.11  29.105144 2021-09-18          9"
      ]
     },
     "execution_count": 42,
     "metadata": {},
     "output_type": "execute_result"
    }
   ],
   "source": [
    "# Рассмотрим данные о дальних поездках\n",
    "ride_df[ride_df['distance'] > 5600].head(10)"
   ]
  },
  {
   "cell_type": "code",
   "execution_count": 43,
   "id": "197451d4",
   "metadata": {},
   "outputs": [
    {
     "data": {
      "text/plain": [
       "134"
      ]
     },
     "execution_count": 43,
     "metadata": {},
     "output_type": "execute_result"
    }
   ],
   "source": [
    "# Найдем количество таких поездок\n",
    "ride_df[ride_df['distance'] > 5600]['user_id'].count()"
   ]
  },
  {
   "cell_type": "markdown",
   "id": "633ccacf",
   "metadata": {},
   "source": [
    "Во-первых, данных о поездках на расстояние более 5600 метров относительно всей выборки не так много. Во-вторых, в данных присутствуют неточности, такие как слишком короткое время поездки относительно пройденного расстояния и средней скорости электросамоката, которая составляет примерно 25 км/ч. Поэтому эти данные можно исключить из выборки"
   ]
  },
  {
   "cell_type": "code",
   "execution_count": 45,
   "id": "d630d96b",
   "metadata": {},
   "outputs": [
    {
     "data": {
      "text/plain": [
       "924"
      ]
     },
     "execution_count": 45,
     "metadata": {},
     "output_type": "execute_result"
    }
   ],
   "source": [
    "# Найдем количество близких поездок\n",
    "ride_df[ride_df['distance'] < 700]['user_id'].count()"
   ]
  },
  {
   "cell_type": "markdown",
   "id": "eec403e4",
   "metadata": {},
   "source": [
    "Поездок много. Вероятно, люди берут электросамокат, чтобы преодолеть такое расстояние за короткий промежуток времени, так как опаздывают куда-то. Рассмотрим данные, которые противоречат этому, а именно случаи, когда продолжительность поездки превышает 10 минут"
   ]
  },
  {
   "cell_type": "markdown",
   "id": "e956b2f7",
   "metadata": {},
   "source": [
    "Проверим теорию, что на короткие расстояни ездят пользователи с подпиской, так как им не надо платить 50 рублей за возможность взять самокат"
   ]
  },
  {
   "cell_type": "code",
   "execution_count": 48,
   "id": "721b9405",
   "metadata": {},
   "outputs": [
    {
     "data": {
      "text/html": [
       "<div>\n",
       "<style scoped>\n",
       "    .dataframe tbody tr th:only-of-type {\n",
       "        vertical-align: middle;\n",
       "    }\n",
       "\n",
       "    .dataframe tbody tr th {\n",
       "        vertical-align: top;\n",
       "    }\n",
       "\n",
       "    .dataframe thead th {\n",
       "        text-align: right;\n",
       "    }\n",
       "</style>\n",
       "<table border=\"1\" class=\"dataframe\">\n",
       "  <thead>\n",
       "    <tr style=\"text-align: right;\">\n",
       "      <th></th>\n",
       "      <th>user_id</th>\n",
       "      <th>distance</th>\n",
       "      <th>duration</th>\n",
       "      <th>date</th>\n",
       "      <th>month_num</th>\n",
       "      <th>subscription_type</th>\n",
       "    </tr>\n",
       "  </thead>\n",
       "  <tbody>\n",
       "    <tr>\n",
       "      <th>0</th>\n",
       "      <td>1</td>\n",
       "      <td>4409.92</td>\n",
       "      <td>25.599769</td>\n",
       "      <td>2021-01-01</td>\n",
       "      <td>1</td>\n",
       "      <td>ultra</td>\n",
       "    </tr>\n",
       "    <tr>\n",
       "      <th>1</th>\n",
       "      <td>1</td>\n",
       "      <td>2617.59</td>\n",
       "      <td>15.816871</td>\n",
       "      <td>2021-01-18</td>\n",
       "      <td>1</td>\n",
       "      <td>ultra</td>\n",
       "    </tr>\n",
       "    <tr>\n",
       "      <th>2</th>\n",
       "      <td>1</td>\n",
       "      <td>754.16</td>\n",
       "      <td>6.232113</td>\n",
       "      <td>2021-04-20</td>\n",
       "      <td>4</td>\n",
       "      <td>ultra</td>\n",
       "    </tr>\n",
       "    <tr>\n",
       "      <th>3</th>\n",
       "      <td>1</td>\n",
       "      <td>2694.78</td>\n",
       "      <td>18.511000</td>\n",
       "      <td>2021-08-11</td>\n",
       "      <td>8</td>\n",
       "      <td>ultra</td>\n",
       "    </tr>\n",
       "    <tr>\n",
       "      <th>4</th>\n",
       "      <td>1</td>\n",
       "      <td>4028.69</td>\n",
       "      <td>26.265803</td>\n",
       "      <td>2021-08-28</td>\n",
       "      <td>8</td>\n",
       "      <td>ultra</td>\n",
       "    </tr>\n",
       "    <tr>\n",
       "      <th>5</th>\n",
       "      <td>1</td>\n",
       "      <td>2770.89</td>\n",
       "      <td>16.650138</td>\n",
       "      <td>2021-10-09</td>\n",
       "      <td>10</td>\n",
       "      <td>ultra</td>\n",
       "    </tr>\n",
       "    <tr>\n",
       "      <th>6</th>\n",
       "      <td>1</td>\n",
       "      <td>3039.02</td>\n",
       "      <td>14.927879</td>\n",
       "      <td>2021-10-19</td>\n",
       "      <td>10</td>\n",
       "      <td>ultra</td>\n",
       "    </tr>\n",
       "    <tr>\n",
       "      <th>7</th>\n",
       "      <td>1</td>\n",
       "      <td>2842.12</td>\n",
       "      <td>23.117468</td>\n",
       "      <td>2021-11-06</td>\n",
       "      <td>11</td>\n",
       "      <td>ultra</td>\n",
       "    </tr>\n",
       "    <tr>\n",
       "      <th>8</th>\n",
       "      <td>1</td>\n",
       "      <td>3412.69</td>\n",
       "      <td>15.238072</td>\n",
       "      <td>2021-11-14</td>\n",
       "      <td>11</td>\n",
       "      <td>ultra</td>\n",
       "    </tr>\n",
       "    <tr>\n",
       "      <th>9</th>\n",
       "      <td>1</td>\n",
       "      <td>748.69</td>\n",
       "      <td>15.041884</td>\n",
       "      <td>2021-11-22</td>\n",
       "      <td>11</td>\n",
       "      <td>ultra</td>\n",
       "    </tr>\n",
       "  </tbody>\n",
       "</table>\n",
       "</div>"
      ],
      "text/plain": [
       "   user_id  distance   duration       date  month_num subscription_type\n",
       "0        1   4409.92  25.599769 2021-01-01          1             ultra\n",
       "1        1   2617.59  15.816871 2021-01-18          1             ultra\n",
       "2        1    754.16   6.232113 2021-04-20          4             ultra\n",
       "3        1   2694.78  18.511000 2021-08-11          8             ultra\n",
       "4        1   4028.69  26.265803 2021-08-28          8             ultra\n",
       "5        1   2770.89  16.650138 2021-10-09         10             ultra\n",
       "6        1   3039.02  14.927879 2021-10-19         10             ultra\n",
       "7        1   2842.12  23.117468 2021-11-06         11             ultra\n",
       "8        1   3412.69  15.238072 2021-11-14         11             ultra\n",
       "9        1    748.69  15.041884 2021-11-22         11             ultra"
      ]
     },
     "execution_count": 48,
     "metadata": {},
     "output_type": "execute_result"
    }
   ],
   "source": [
    "# Добавим в датафрейм о данных с поездками столбец с данными о типе подписки пользователей\n",
    "ride_df = ride_df.merge(user_df[['user_id', 'subscription_type']], on='user_id', how='left')\n",
    "\n",
    "# Проверим, что преобразования выполнены корректно\n",
    "ride_df.head(10)"
   ]
  },
  {
   "cell_type": "markdown",
   "id": "38630adb",
   "metadata": {},
   "source": [
    "Взять самокат без подписки, чтобы проехать больше 300 метров, еще можно понять, но в обратном случае, на мой взгляд, это будет исключением из правил. Поэтому рассмотрим количество поездок на расстояние до 300 метров без подписки, и если оно окажется небольшим, исключим такие данные"
   ]
  },
  {
   "cell_type": "code",
   "execution_count": 49,
   "id": "b6d64fa1",
   "metadata": {},
   "outputs": [
    {
     "data": {
      "text/plain": [
       "290"
      ]
     },
     "execution_count": 49,
     "metadata": {},
     "output_type": "execute_result"
    }
   ],
   "source": [
    "# Находим число поездок на расстояние до 300 метров без подписки\n",
    "ride_df[(ride_df['distance'] < 300) & (ride_df['subscription_type'] != 'ultra')]['user_id'].count()"
   ]
  },
  {
   "cell_type": "code",
   "execution_count": 50,
   "id": "c46d6a15",
   "metadata": {},
   "outputs": [
    {
     "data": {
      "text/plain": [
       "3"
      ]
     },
     "execution_count": 50,
     "metadata": {},
     "output_type": "execute_result"
    }
   ],
   "source": [
    "# Находим число поездок на расстояние до 300 метров с подпиской\n",
    "ride_df[(ride_df['distance'] < 300) & (ride_df['subscription_type'] == 'ultra')]['user_id'].count()"
   ]
  },
  {
   "cell_type": "markdown",
   "id": "ee4be433",
   "metadata": {},
   "source": [
    "Расстояние более 300 метров для пользователей без подписки еще можно объяснить тем, что они могут использовать самокат как удобный способ добраться до ближайшей остановки или станции. Однако факт того, что они готовы разово потратить 50 рублей на преодоление расстояния менее 300 метров, вызывает вопросы. Это может быть связано с отсутствием других удобных вариантов транспорта на короткие расстояния или с нехваткой времени у пользователей. Значения, близкие к 0, могут свидетельствовать о неисправности самоката в момент начала поездки или о резком изменении планов пользователя"
   ]
  },
  {
   "cell_type": "code",
   "execution_count": 53,
   "id": "e2668af9",
   "metadata": {},
   "outputs": [
    {
     "data": {
      "image/png": "[encoded data removed]",
      "text/plain": [
       "<Figure size 432x288 with 1 Axes>"
      ]
     },
     "metadata": {
      "needs_background": "light"
     },
     "output_type": "display_data"
    }
   ],
   "source": [
    "ax = ride_df['distance'].hist(bins=70)\n",
    "\n",
    "ax.set_title('Гистограмма распределения расстояния поездок')\n",
    "plt.xlabel('Расстояние поездок, в метрах')\n",
    "plt.ylabel('Частота')\n",
    "\n",
    "plt.show()"
   ]
  },
  {
   "cell_type": "markdown",
   "id": "50b15136",
   "metadata": {},
   "source": [
    "Распределение не похоже на нормальное, так как имеет два пика в районе значений 700 метров и 3100 метров"
   ]
  },
  {
   "cell_type": "code",
   "execution_count": 55,
   "id": "59b95d73",
   "metadata": {},
   "outputs": [
    {
     "data": {
      "image/png": "[encoded data removed]",
      "text/plain": [
       "<Figure size 432x288 with 1 Axes>"
      ]
     },
     "metadata": {
      "needs_background": "light"
     },
     "output_type": "display_data"
    }
   ],
   "source": [
    "ax = ride_df[ride_df['subscription_type'] == 'ultra']['distance'].hist(bins=70)\n",
    "\n",
    "ax.set_title('Гистограмма распределения расстояния поездок пользователей с подпиской')\n",
    "plt.xlabel('Расстояние поездок, в метрах')\n",
    "plt.ylabel('Частота')\n",
    "\n",
    "plt.show()"
   ]
  },
  {
   "cell_type": "markdown",
   "id": "0213f0ab",
   "metadata": {},
   "source": [
    "Вероятно, пользователи с подпиской чаще используют самокаты для преодоления расстояния около 1000 метров, чтобы добраться до ближайшей остановки или станции метро. При расстояниях более 2000 метров самокаты становятся основным видом транспорта, когда другие способы передвижения не столь удобны или доступны.А расстояние около 1900 метров не является оптимальным для большинства пользователей"
   ]
  },
  {
   "cell_type": "code",
   "execution_count": 57,
   "id": "d64c1576",
   "metadata": {},
   "outputs": [
    {
     "data": {
      "image/png": "[encoded data removed]",
      "text/plain": [
       "<Figure size 432x288 with 1 Axes>"
      ]
     },
     "metadata": {
      "needs_background": "light"
     },
     "output_type": "display_data"
    }
   ],
   "source": [
    "ax = ride_df[ride_df['subscription_type'] != 'ultra']['distance'].hist(bins=70)\n",
    "\n",
    "ax.set_title('Гистограмма распределения расстояния поездок пользователей без подписки')\n",
    "plt.xlabel('Расстояние поездок, в метрах')\n",
    "plt.ylabel('Частота')\n",
    "\n",
    "plt.show()"
   ]
  },
  {
   "cell_type": "markdown",
   "id": "9a0c83e0",
   "metadata": {},
   "source": [
    "Вероятно, пользователи без подписки часто используют самокаты для преодоления расстояния около 800 метров, чтобы добраться до ближайшей остановки или станции метро. При расстояниях более 1600 метров самокаты становятся основным видом транспорта, когда другие способы передвижения не столь удобны или доступны. А расстояние около 1400 метров не является оптимальным для большинства пользователей"
   ]
  },
  {
   "cell_type": "code",
   "execution_count": 58,
   "id": "329921ed",
   "metadata": {},
   "outputs": [
    {
     "data": {
      "text/plain": [
       "count    18068.000000\n",
       "mean      3070.659992\n",
       "std       1116.831222\n",
       "min          0.860000\n",
       "25%       2543.227500\n",
       "50%       3133.610000\n",
       "75%       3776.220000\n",
       "max       7211.010000\n",
       "Name: distance, dtype: float64"
      ]
     },
     "execution_count": 58,
     "metadata": {},
     "output_type": "execute_result"
    }
   ],
   "source": [
    "# Рассмотрим характеристики обновленных данных \n",
    "ride_df['distance'].describe()"
   ]
  },
  {
   "cell_type": "markdown",
   "id": "880899e5",
   "metadata": {},
   "source": [
    "Для обновленных данных верно следующее: всего представлена информация о 18068 поездках. В среднем пользователи преодолевают 3133 метров за одну поездку. Минимальное расстояние составляет 0.86 метра, а максимальное — 7211 метров. 50% данных описывают поездки в диапазоне от 2543 до 3776 метров"
   ]
  },
  {
   "cell_type": "markdown",
   "id": "4f691a41",
   "metadata": {},
   "source": [
    "##### Продолжительность поездок"
   ]
  },
  {
   "cell_type": "code",
   "execution_count": 59,
   "id": "3d97b173",
   "metadata": {},
   "outputs": [
    {
     "data": {
      "text/plain": [
       "count    18068.000000\n",
       "mean        17.805011\n",
       "std          6.091051\n",
       "min          0.500000\n",
       "25%         13.597563\n",
       "50%         17.678395\n",
       "75%         21.724800\n",
       "max         40.823963\n",
       "Name: duration, dtype: float64"
      ]
     },
     "execution_count": 59,
     "metadata": {},
     "output_type": "execute_result"
    }
   ],
   "source": [
    "# Рассмотрим характеристики данных о продолжительности сессии (в минутах), которое пользователи преодолевали за одну поездку\n",
    "ride_df['duration'].describe()"
   ]
  },
  {
   "cell_type": "code",
   "execution_count": 61,
   "id": "69272c79",
   "metadata": {},
   "outputs": [
    {
     "data": {
      "image/png": "[encoded data removed]",
      "text/plain": [
       "<Figure size 576x360 with 1 Axes>"
      ]
     },
     "metadata": {
      "needs_background": "light"
     },
     "output_type": "display_data"
    }
   ],
   "source": [
    "plt.figure(figsize=(8, 5))\n",
    "ax = plt.gca()\n",
    "plt.boxplot(ride_df['duration'])\n",
    "ax.set_title('Диаграмма размаха распределения продолжительности поездок')\n",
    "plt.ylabel('Продолжительность поездки, в минутах')\n",
    "plt.show()"
   ]
  },
  {
   "cell_type": "markdown",
   "id": "59faeb75",
   "metadata": {},
   "source": [
    "На диаграмме и в данных обнаружены аномальные значения: время поездки равное 0.5 минуты, а также превышающее 33 минуты. Рассмотрим их подробнее"
   ]
  },
  {
   "cell_type": "code",
   "execution_count": 62,
   "id": "52e6c229",
   "metadata": {},
   "outputs": [
    {
     "data": {
      "text/html": [
       "<div>\n",
       "<style scoped>\n",
       "    .dataframe tbody tr th:only-of-type {\n",
       "        vertical-align: middle;\n",
       "    }\n",
       "\n",
       "    .dataframe tbody tr th {\n",
       "        vertical-align: top;\n",
       "    }\n",
       "\n",
       "    .dataframe thead th {\n",
       "        text-align: right;\n",
       "    }\n",
       "</style>\n",
       "<table border=\"1\" class=\"dataframe\">\n",
       "  <thead>\n",
       "    <tr style=\"text-align: right;\">\n",
       "      <th></th>\n",
       "      <th>user_id</th>\n",
       "      <th>distance</th>\n",
       "      <th>duration</th>\n",
       "      <th>date</th>\n",
       "      <th>month_num</th>\n",
       "      <th>subscription_type</th>\n",
       "    </tr>\n",
       "  </thead>\n",
       "  <tbody>\n",
       "    <tr>\n",
       "      <th>6531</th>\n",
       "      <td>701</td>\n",
       "      <td>4196.45</td>\n",
       "      <td>0.5</td>\n",
       "      <td>2021-08-31</td>\n",
       "      <td>8</td>\n",
       "      <td>free</td>\n",
       "    </tr>\n",
       "    <tr>\n",
       "      <th>6570</th>\n",
       "      <td>704</td>\n",
       "      <td>4830.82</td>\n",
       "      <td>0.5</td>\n",
       "      <td>2021-10-14</td>\n",
       "      <td>10</td>\n",
       "      <td>free</td>\n",
       "    </tr>\n",
       "    <tr>\n",
       "      <th>6680</th>\n",
       "      <td>712</td>\n",
       "      <td>4684.00</td>\n",
       "      <td>0.5</td>\n",
       "      <td>2021-03-04</td>\n",
       "      <td>3</td>\n",
       "      <td>free</td>\n",
       "    </tr>\n",
       "    <tr>\n",
       "      <th>6695</th>\n",
       "      <td>713</td>\n",
       "      <td>5215.64</td>\n",
       "      <td>0.5</td>\n",
       "      <td>2021-02-25</td>\n",
       "      <td>2</td>\n",
       "      <td>free</td>\n",
       "    </tr>\n",
       "    <tr>\n",
       "      <th>6768</th>\n",
       "      <td>718</td>\n",
       "      <td>5197.44</td>\n",
       "      <td>0.5</td>\n",
       "      <td>2021-02-11</td>\n",
       "      <td>2</td>\n",
       "      <td>free</td>\n",
       "    </tr>\n",
       "    <tr>\n",
       "      <th>...</th>\n",
       "      <td>...</td>\n",
       "      <td>...</td>\n",
       "      <td>...</td>\n",
       "      <td>...</td>\n",
       "      <td>...</td>\n",
       "      <td>...</td>\n",
       "    </tr>\n",
       "    <tr>\n",
       "      <th>17004</th>\n",
       "      <td>1460</td>\n",
       "      <td>5531.34</td>\n",
       "      <td>0.5</td>\n",
       "      <td>2021-01-19</td>\n",
       "      <td>1</td>\n",
       "      <td>free</td>\n",
       "    </tr>\n",
       "    <tr>\n",
       "      <th>17242</th>\n",
       "      <td>1477</td>\n",
       "      <td>6724.93</td>\n",
       "      <td>0.5</td>\n",
       "      <td>2021-01-12</td>\n",
       "      <td>1</td>\n",
       "      <td>free</td>\n",
       "    </tr>\n",
       "    <tr>\n",
       "      <th>17314</th>\n",
       "      <td>1483</td>\n",
       "      <td>4445.48</td>\n",
       "      <td>0.5</td>\n",
       "      <td>2021-03-06</td>\n",
       "      <td>3</td>\n",
       "      <td>free</td>\n",
       "    </tr>\n",
       "    <tr>\n",
       "      <th>17505</th>\n",
       "      <td>1496</td>\n",
       "      <td>5722.55</td>\n",
       "      <td>0.5</td>\n",
       "      <td>2021-02-14</td>\n",
       "      <td>2</td>\n",
       "      <td>free</td>\n",
       "    </tr>\n",
       "    <tr>\n",
       "      <th>17909</th>\n",
       "      <td>1524</td>\n",
       "      <td>4104.00</td>\n",
       "      <td>0.5</td>\n",
       "      <td>2021-06-18</td>\n",
       "      <td>6</td>\n",
       "      <td>free</td>\n",
       "    </tr>\n",
       "  </tbody>\n",
       "</table>\n",
       "<p>95 rows × 6 columns</p>\n",
       "</div>"
      ],
      "text/plain": [
       "       user_id  distance  duration       date  month_num subscription_type\n",
       "6531       701   4196.45       0.5 2021-08-31          8              free\n",
       "6570       704   4830.82       0.5 2021-10-14         10              free\n",
       "6680       712   4684.00       0.5 2021-03-04          3              free\n",
       "6695       713   5215.64       0.5 2021-02-25          2              free\n",
       "6768       718   5197.44       0.5 2021-02-11          2              free\n",
       "...        ...       ...       ...        ...        ...               ...\n",
       "17004     1460   5531.34       0.5 2021-01-19          1              free\n",
       "17242     1477   6724.93       0.5 2021-01-12          1              free\n",
       "17314     1483   4445.48       0.5 2021-03-06          3              free\n",
       "17505     1496   5722.55       0.5 2021-02-14          2              free\n",
       "17909     1524   4104.00       0.5 2021-06-18          6              free\n",
       "\n",
       "[95 rows x 6 columns]"
      ]
     },
     "execution_count": 62,
     "metadata": {},
     "output_type": "execute_result"
    }
   ],
   "source": [
    "# Изучим данные о поездках, продолжительность которых равно 30 секундам\n",
    "ride_df[ride_df['duration'] == 0.5]"
   ]
  },
  {
   "cell_type": "markdown",
   "id": "28d4331f",
   "metadata": {},
   "source": [
    "В данных содержится информация о 76 поездках длительностью 30 секунд, однако пройденное расстояние не соответствует этому времени. Предлагаю удалить эти данные из выборки, так как их количество не должно существенно повлиять на результаты исследования. В качестве альтернативы можно было бы заменить значения медианным временем, основанным на поездках с аналогичным расстоянием, данные о которых достоверны"
   ]
  },
  {
   "cell_type": "code",
   "execution_count": 65,
   "id": "ee1d8e40",
   "metadata": {
    "scrolled": true
   },
   "outputs": [
    {
     "data": {
      "text/html": [
       "<div>\n",
       "<style scoped>\n",
       "    .dataframe tbody tr th:only-of-type {\n",
       "        vertical-align: middle;\n",
       "    }\n",
       "\n",
       "    .dataframe tbody tr th {\n",
       "        vertical-align: top;\n",
       "    }\n",
       "\n",
       "    .dataframe thead th {\n",
       "        text-align: right;\n",
       "    }\n",
       "</style>\n",
       "<table border=\"1\" class=\"dataframe\">\n",
       "  <thead>\n",
       "    <tr style=\"text-align: right;\">\n",
       "      <th></th>\n",
       "      <th>user_id</th>\n",
       "      <th>distance</th>\n",
       "      <th>duration</th>\n",
       "      <th>date</th>\n",
       "      <th>month_num</th>\n",
       "      <th>subscription_type</th>\n",
       "    </tr>\n",
       "  </thead>\n",
       "  <tbody>\n",
       "    <tr>\n",
       "      <th>42</th>\n",
       "      <td>4</td>\n",
       "      <td>4649.49</td>\n",
       "      <td>35.896929</td>\n",
       "      <td>2021-08-14</td>\n",
       "      <td>8</td>\n",
       "      <td>ultra</td>\n",
       "    </tr>\n",
       "    <tr>\n",
       "      <th>143</th>\n",
       "      <td>15</td>\n",
       "      <td>4187.62</td>\n",
       "      <td>38.125729</td>\n",
       "      <td>2021-01-13</td>\n",
       "      <td>1</td>\n",
       "      <td>ultra</td>\n",
       "    </tr>\n",
       "    <tr>\n",
       "      <th>499</th>\n",
       "      <td>55</td>\n",
       "      <td>4151.08</td>\n",
       "      <td>36.906491</td>\n",
       "      <td>2021-06-30</td>\n",
       "      <td>6</td>\n",
       "      <td>ultra</td>\n",
       "    </tr>\n",
       "    <tr>\n",
       "      <th>524</th>\n",
       "      <td>58</td>\n",
       "      <td>4763.92</td>\n",
       "      <td>35.819603</td>\n",
       "      <td>2021-02-17</td>\n",
       "      <td>2</td>\n",
       "      <td>ultra</td>\n",
       "    </tr>\n",
       "    <tr>\n",
       "      <th>854</th>\n",
       "      <td>91</td>\n",
       "      <td>4444.58</td>\n",
       "      <td>35.222900</td>\n",
       "      <td>2021-11-05</td>\n",
       "      <td>11</td>\n",
       "      <td>ultra</td>\n",
       "    </tr>\n",
       "    <tr>\n",
       "      <th>1004</th>\n",
       "      <td>107</td>\n",
       "      <td>4217.03</td>\n",
       "      <td>34.001998</td>\n",
       "      <td>2021-04-13</td>\n",
       "      <td>4</td>\n",
       "      <td>ultra</td>\n",
       "    </tr>\n",
       "    <tr>\n",
       "      <th>1068</th>\n",
       "      <td>115</td>\n",
       "      <td>4985.34</td>\n",
       "      <td>34.192786</td>\n",
       "      <td>2021-01-11</td>\n",
       "      <td>1</td>\n",
       "      <td>ultra</td>\n",
       "    </tr>\n",
       "    <tr>\n",
       "      <th>1111</th>\n",
       "      <td>119</td>\n",
       "      <td>4060.08</td>\n",
       "      <td>35.360496</td>\n",
       "      <td>2021-05-15</td>\n",
       "      <td>5</td>\n",
       "      <td>ultra</td>\n",
       "    </tr>\n",
       "    <tr>\n",
       "      <th>1266</th>\n",
       "      <td>136</td>\n",
       "      <td>4911.38</td>\n",
       "      <td>34.789324</td>\n",
       "      <td>2021-11-11</td>\n",
       "      <td>11</td>\n",
       "      <td>ultra</td>\n",
       "    </tr>\n",
       "    <tr>\n",
       "      <th>1455</th>\n",
       "      <td>158</td>\n",
       "      <td>3967.29</td>\n",
       "      <td>35.803715</td>\n",
       "      <td>2021-05-09</td>\n",
       "      <td>5</td>\n",
       "      <td>ultra</td>\n",
       "    </tr>\n",
       "    <tr>\n",
       "      <th>1621</th>\n",
       "      <td>174</td>\n",
       "      <td>3794.40</td>\n",
       "      <td>35.766408</td>\n",
       "      <td>2021-12-23</td>\n",
       "      <td>12</td>\n",
       "      <td>ultra</td>\n",
       "    </tr>\n",
       "    <tr>\n",
       "      <th>1679</th>\n",
       "      <td>181</td>\n",
       "      <td>4146.68</td>\n",
       "      <td>34.880066</td>\n",
       "      <td>2021-05-23</td>\n",
       "      <td>5</td>\n",
       "      <td>ultra</td>\n",
       "    </tr>\n",
       "    <tr>\n",
       "      <th>1694</th>\n",
       "      <td>183</td>\n",
       "      <td>4473.80</td>\n",
       "      <td>36.402535</td>\n",
       "      <td>2021-01-02</td>\n",
       "      <td>1</td>\n",
       "      <td>ultra</td>\n",
       "    </tr>\n",
       "    <tr>\n",
       "      <th>1894</th>\n",
       "      <td>205</td>\n",
       "      <td>4218.39</td>\n",
       "      <td>36.310317</td>\n",
       "      <td>2021-08-26</td>\n",
       "      <td>8</td>\n",
       "      <td>ultra</td>\n",
       "    </tr>\n",
       "    <tr>\n",
       "      <th>1998</th>\n",
       "      <td>216</td>\n",
       "      <td>4831.34</td>\n",
       "      <td>38.352763</td>\n",
       "      <td>2021-05-11</td>\n",
       "      <td>5</td>\n",
       "      <td>ultra</td>\n",
       "    </tr>\n",
       "    <tr>\n",
       "      <th>2163</th>\n",
       "      <td>231</td>\n",
       "      <td>4456.24</td>\n",
       "      <td>35.281185</td>\n",
       "      <td>2021-06-14</td>\n",
       "      <td>6</td>\n",
       "      <td>ultra</td>\n",
       "    </tr>\n",
       "    <tr>\n",
       "      <th>2232</th>\n",
       "      <td>239</td>\n",
       "      <td>4262.35</td>\n",
       "      <td>35.574110</td>\n",
       "      <td>2021-02-17</td>\n",
       "      <td>2</td>\n",
       "      <td>ultra</td>\n",
       "    </tr>\n",
       "    <tr>\n",
       "      <th>2264</th>\n",
       "      <td>242</td>\n",
       "      <td>4561.20</td>\n",
       "      <td>35.879259</td>\n",
       "      <td>2021-07-26</td>\n",
       "      <td>7</td>\n",
       "      <td>ultra</td>\n",
       "    </tr>\n",
       "    <tr>\n",
       "      <th>2279</th>\n",
       "      <td>243</td>\n",
       "      <td>3915.22</td>\n",
       "      <td>36.491310</td>\n",
       "      <td>2021-12-30</td>\n",
       "      <td>12</td>\n",
       "      <td>ultra</td>\n",
       "    </tr>\n",
       "    <tr>\n",
       "      <th>2431</th>\n",
       "      <td>259</td>\n",
       "      <td>4207.74</td>\n",
       "      <td>34.951290</td>\n",
       "      <td>2021-06-07</td>\n",
       "      <td>6</td>\n",
       "      <td>ultra</td>\n",
       "    </tr>\n",
       "  </tbody>\n",
       "</table>\n",
       "</div>"
      ],
      "text/plain": [
       "      user_id  distance   duration       date  month_num subscription_type\n",
       "42          4   4649.49  35.896929 2021-08-14          8             ultra\n",
       "143        15   4187.62  38.125729 2021-01-13          1             ultra\n",
       "499        55   4151.08  36.906491 2021-06-30          6             ultra\n",
       "524        58   4763.92  35.819603 2021-02-17          2             ultra\n",
       "854        91   4444.58  35.222900 2021-11-05         11             ultra\n",
       "1004      107   4217.03  34.001998 2021-04-13          4             ultra\n",
       "1068      115   4985.34  34.192786 2021-01-11          1             ultra\n",
       "1111      119   4060.08  35.360496 2021-05-15          5             ultra\n",
       "1266      136   4911.38  34.789324 2021-11-11         11             ultra\n",
       "1455      158   3967.29  35.803715 2021-05-09          5             ultra\n",
       "1621      174   3794.40  35.766408 2021-12-23         12             ultra\n",
       "1679      181   4146.68  34.880066 2021-05-23          5             ultra\n",
       "1694      183   4473.80  36.402535 2021-01-02          1             ultra\n",
       "1894      205   4218.39  36.310317 2021-08-26          8             ultra\n",
       "1998      216   4831.34  38.352763 2021-05-11          5             ultra\n",
       "2163      231   4456.24  35.281185 2021-06-14          6             ultra\n",
       "2232      239   4262.35  35.574110 2021-02-17          2             ultra\n",
       "2264      242   4561.20  35.879259 2021-07-26          7             ultra\n",
       "2279      243   3915.22  36.491310 2021-12-30         12             ultra\n",
       "2431      259   4207.74  34.951290 2021-06-07          6             ultra"
      ]
     },
     "execution_count": 65,
     "metadata": {},
     "output_type": "execute_result"
    }
   ],
   "source": [
    "# Изучим данные о поездках, продолжительность которых превышает 34 минуты \n",
    "ride_df[ride_df['duration'] > 34].head(20)"
   ]
  },
  {
   "cell_type": "code",
   "execution_count": 66,
   "id": "052a1315",
   "metadata": {},
   "outputs": [
    {
     "data": {
      "text/plain": [
       "count      75.000000\n",
       "mean     4472.120267\n",
       "std       502.551767\n",
       "min      3672.450000\n",
       "25%      4142.630000\n",
       "50%      4366.330000\n",
       "75%      4759.175000\n",
       "max      6436.630000\n",
       "Name: distance, dtype: float64"
      ]
     },
     "execution_count": 66,
     "metadata": {},
     "output_type": "execute_result"
    }
   ],
   "source": [
    "# Рассмотрим характеристики данных о пройденном расстоянии для поездок, длительность которых превышает 34 минуты\n",
    "ride_df[ride_df['duration'] > 34]['distance'].describe()"
   ]
  },
  {
   "cell_type": "code",
   "execution_count": 67,
   "id": "75df2d03",
   "metadata": {},
   "outputs": [
    {
     "data": {
      "text/plain": [
       "75"
      ]
     },
     "execution_count": 67,
     "metadata": {},
     "output_type": "execute_result"
    }
   ],
   "source": [
    "# Найдем количество таких поездок\n",
    "ride_df[ride_df['duration'] > 34]['user_id'].count()"
   ]
  },
  {
   "cell_type": "markdown",
   "id": "6e74e69c",
   "metadata": {},
   "source": [
    "Число таких поездок невелико, но данные выглядят достоверно: в среднем пользователи с длительностью поездки более 34 минут преодолевают расстояние в диапазоне от 3672 до 5577 метров. Оставим эти данные в выборке"
   ]
  },
  {
   "cell_type": "code",
   "execution_count": 69,
   "id": "6383e846",
   "metadata": {},
   "outputs": [
    {
     "data": {
      "image/png": "[encoded data removed]",
      "text/plain": [
       "<Figure size 432x288 with 1 Axes>"
      ]
     },
     "metadata": {
      "needs_background": "light"
     },
     "output_type": "display_data"
    }
   ],
   "source": [
    "ax = ride_df['duration'].hist(bins=int(ride_df['duration'].max() - ride_df['duration'].min()))\n",
    "\n",
    "ax.set_title('Гистограмма распределения продолжительности поездок пользователей')\n",
    "plt.xlabel('Продолжительность поездки, в минутах')\n",
    "plt.ylabel('Частота')\n",
    "\n",
    "plt.show()"
   ]
  },
  {
   "cell_type": "code",
   "execution_count": 70,
   "id": "f950272d",
   "metadata": {},
   "outputs": [
    {
     "data": {
      "text/plain": [
       "count    18068.000000\n",
       "mean        17.805011\n",
       "std          6.091051\n",
       "min          0.500000\n",
       "25%         13.597563\n",
       "50%         17.678395\n",
       "75%         21.724800\n",
       "max         40.823963\n",
       "Name: duration, dtype: float64"
      ]
     },
     "execution_count": 70,
     "metadata": {},
     "output_type": "execute_result"
    }
   ],
   "source": [
    "ride_df['duration'].describe()"
   ]
  },
  {
   "cell_type": "markdown",
   "id": "f816912b",
   "metadata": {},
   "source": [
    "Распределение продолжительности поездок пользователей выглядит близким к нормальному. Всего в выборке содержатся данные о 18068 поездках. Среднее время поездки составляет 17.67 минуты, а 50% всех данных находятся в диапазоне от 13.6 до 21.7 минуты, что подтверждает: большинство поездок совершается менее чем за треть часа"
   ]
  },
  {
   "cell_type": "markdown",
   "id": "6418bcd6",
   "metadata": {},
   "source": [
    "**Вывод:** На этом этапе были изучены основные данные, представленные в выборке, а значения, которые кажутся необъективными, были исключены, если их удаление не оказывало значительного влияния на ход исследования"
   ]
  },
  {
   "cell_type": "markdown",
   "id": "4ef51331",
   "metadata": {},
   "source": [
    "## Объединение данных"
   ]
  },
  {
   "cell_type": "markdown",
   "id": "61a6df16",
   "metadata": {},
   "source": [
    "На этапе 3 в таблицу с поездками был добавлен столбец с информацией о типе подписки. Перед объединением данных этот столбец будет исключен, чтобы вернуть таблице первоначальный вид"
   ]
  },
  {
   "cell_type": "code",
   "execution_count": 71,
   "id": "4f896976",
   "metadata": {},
   "outputs": [
    {
     "data": {
      "text/plain": [
       "Index(['user_id', 'distance', 'duration', 'date', 'month_num'], dtype='object')"
      ]
     },
     "execution_count": 71,
     "metadata": {},
     "output_type": "execute_result"
    }
   ],
   "source": [
    "# Удаляем столбец 'subscription_type' из датафрейма ride_df\n",
    "ride_df = ride_df.drop(columns=['subscription_type'])\n",
    "\n",
    "# Проверим, что преобразования выполнены корректно\n",
    "ride_df.columns"
   ]
  },
  {
   "cell_type": "markdown",
   "id": "4c1b738c",
   "metadata": {},
   "source": [
    "##### Объединим данные о пользователях, поездках и подписках в один датафрейм"
   ]
  },
  {
   "cell_type": "code",
   "execution_count": 72,
   "id": "caa8e9f5",
   "metadata": {},
   "outputs": [],
   "source": [
    "# Округляем каждое значение из столбца duration с помощью «потолка»\n",
    "ride_df['duration'] = np.ceil(ride_df['duration']) "
   ]
  },
  {
   "cell_type": "code",
   "execution_count": 73,
   "id": "3ccd2ff4",
   "metadata": {},
   "outputs": [
    {
     "data": {
      "text/html": [
       "<div>\n",
       "<style scoped>\n",
       "    .dataframe tbody tr th:only-of-type {\n",
       "        vertical-align: middle;\n",
       "    }\n",
       "\n",
       "    .dataframe tbody tr th {\n",
       "        vertical-align: top;\n",
       "    }\n",
       "\n",
       "    .dataframe thead th {\n",
       "        text-align: right;\n",
       "    }\n",
       "</style>\n",
       "<table border=\"1\" class=\"dataframe\">\n",
       "  <thead>\n",
       "    <tr style=\"text-align: right;\">\n",
       "      <th></th>\n",
       "      <th>user_id</th>\n",
       "      <th>name</th>\n",
       "      <th>age</th>\n",
       "      <th>city</th>\n",
       "      <th>subscription_type</th>\n",
       "      <th>distance</th>\n",
       "      <th>duration</th>\n",
       "      <th>date</th>\n",
       "      <th>month_num</th>\n",
       "      <th>minute_price</th>\n",
       "      <th>start_ride_price</th>\n",
       "      <th>subscription_fee</th>\n",
       "    </tr>\n",
       "  </thead>\n",
       "  <tbody>\n",
       "    <tr>\n",
       "      <th>0</th>\n",
       "      <td>1</td>\n",
       "      <td>Кира</td>\n",
       "      <td>22</td>\n",
       "      <td>Тюмень</td>\n",
       "      <td>ultra</td>\n",
       "      <td>4409.92</td>\n",
       "      <td>26.0</td>\n",
       "      <td>2021-01-01</td>\n",
       "      <td>1</td>\n",
       "      <td>6</td>\n",
       "      <td>0</td>\n",
       "      <td>199</td>\n",
       "    </tr>\n",
       "    <tr>\n",
       "      <th>1</th>\n",
       "      <td>1</td>\n",
       "      <td>Кира</td>\n",
       "      <td>22</td>\n",
       "      <td>Тюмень</td>\n",
       "      <td>ultra</td>\n",
       "      <td>2617.59</td>\n",
       "      <td>16.0</td>\n",
       "      <td>2021-01-18</td>\n",
       "      <td>1</td>\n",
       "      <td>6</td>\n",
       "      <td>0</td>\n",
       "      <td>199</td>\n",
       "    </tr>\n",
       "    <tr>\n",
       "      <th>2</th>\n",
       "      <td>1</td>\n",
       "      <td>Кира</td>\n",
       "      <td>22</td>\n",
       "      <td>Тюмень</td>\n",
       "      <td>ultra</td>\n",
       "      <td>754.16</td>\n",
       "      <td>7.0</td>\n",
       "      <td>2021-04-20</td>\n",
       "      <td>4</td>\n",
       "      <td>6</td>\n",
       "      <td>0</td>\n",
       "      <td>199</td>\n",
       "    </tr>\n",
       "    <tr>\n",
       "      <th>3</th>\n",
       "      <td>1</td>\n",
       "      <td>Кира</td>\n",
       "      <td>22</td>\n",
       "      <td>Тюмень</td>\n",
       "      <td>ultra</td>\n",
       "      <td>2694.78</td>\n",
       "      <td>19.0</td>\n",
       "      <td>2021-08-11</td>\n",
       "      <td>8</td>\n",
       "      <td>6</td>\n",
       "      <td>0</td>\n",
       "      <td>199</td>\n",
       "    </tr>\n",
       "    <tr>\n",
       "      <th>4</th>\n",
       "      <td>1</td>\n",
       "      <td>Кира</td>\n",
       "      <td>22</td>\n",
       "      <td>Тюмень</td>\n",
       "      <td>ultra</td>\n",
       "      <td>4028.69</td>\n",
       "      <td>27.0</td>\n",
       "      <td>2021-08-28</td>\n",
       "      <td>8</td>\n",
       "      <td>6</td>\n",
       "      <td>0</td>\n",
       "      <td>199</td>\n",
       "    </tr>\n",
       "    <tr>\n",
       "      <th>...</th>\n",
       "      <td>...</td>\n",
       "      <td>...</td>\n",
       "      <td>...</td>\n",
       "      <td>...</td>\n",
       "      <td>...</td>\n",
       "      <td>...</td>\n",
       "      <td>...</td>\n",
       "      <td>...</td>\n",
       "      <td>...</td>\n",
       "      <td>...</td>\n",
       "      <td>...</td>\n",
       "      <td>...</td>\n",
       "    </tr>\n",
       "    <tr>\n",
       "      <th>18063</th>\n",
       "      <td>1534</td>\n",
       "      <td>Альберт</td>\n",
       "      <td>25</td>\n",
       "      <td>Краснодар</td>\n",
       "      <td>free</td>\n",
       "      <td>3781.10</td>\n",
       "      <td>20.0</td>\n",
       "      <td>2021-11-04</td>\n",
       "      <td>11</td>\n",
       "      <td>8</td>\n",
       "      <td>50</td>\n",
       "      <td>0</td>\n",
       "    </tr>\n",
       "    <tr>\n",
       "      <th>18064</th>\n",
       "      <td>1534</td>\n",
       "      <td>Альберт</td>\n",
       "      <td>25</td>\n",
       "      <td>Краснодар</td>\n",
       "      <td>free</td>\n",
       "      <td>2840.42</td>\n",
       "      <td>22.0</td>\n",
       "      <td>2021-11-16</td>\n",
       "      <td>11</td>\n",
       "      <td>8</td>\n",
       "      <td>50</td>\n",
       "      <td>0</td>\n",
       "    </tr>\n",
       "    <tr>\n",
       "      <th>18065</th>\n",
       "      <td>1534</td>\n",
       "      <td>Альберт</td>\n",
       "      <td>25</td>\n",
       "      <td>Краснодар</td>\n",
       "      <td>free</td>\n",
       "      <td>3826.19</td>\n",
       "      <td>19.0</td>\n",
       "      <td>2021-11-18</td>\n",
       "      <td>11</td>\n",
       "      <td>8</td>\n",
       "      <td>50</td>\n",
       "      <td>0</td>\n",
       "    </tr>\n",
       "    <tr>\n",
       "      <th>18066</th>\n",
       "      <td>1534</td>\n",
       "      <td>Альберт</td>\n",
       "      <td>25</td>\n",
       "      <td>Краснодар</td>\n",
       "      <td>free</td>\n",
       "      <td>2902.31</td>\n",
       "      <td>17.0</td>\n",
       "      <td>2021-11-27</td>\n",
       "      <td>11</td>\n",
       "      <td>8</td>\n",
       "      <td>50</td>\n",
       "      <td>0</td>\n",
       "    </tr>\n",
       "    <tr>\n",
       "      <th>18067</th>\n",
       "      <td>1534</td>\n",
       "      <td>Альберт</td>\n",
       "      <td>25</td>\n",
       "      <td>Краснодар</td>\n",
       "      <td>free</td>\n",
       "      <td>2371.71</td>\n",
       "      <td>16.0</td>\n",
       "      <td>2021-12-29</td>\n",
       "      <td>12</td>\n",
       "      <td>8</td>\n",
       "      <td>50</td>\n",
       "      <td>0</td>\n",
       "    </tr>\n",
       "  </tbody>\n",
       "</table>\n",
       "<p>18068 rows × 12 columns</p>\n",
       "</div>"
      ],
      "text/plain": [
       "       user_id     name  age       city subscription_type  distance  duration  \\\n",
       "0            1     Кира   22     Тюмень             ultra   4409.92      26.0   \n",
       "1            1     Кира   22     Тюмень             ultra   2617.59      16.0   \n",
       "2            1     Кира   22     Тюмень             ultra    754.16       7.0   \n",
       "3            1     Кира   22     Тюмень             ultra   2694.78      19.0   \n",
       "4            1     Кира   22     Тюмень             ultra   4028.69      27.0   \n",
       "...        ...      ...  ...        ...               ...       ...       ...   \n",
       "18063     1534  Альберт   25  Краснодар              free   3781.10      20.0   \n",
       "18064     1534  Альберт   25  Краснодар              free   2840.42      22.0   \n",
       "18065     1534  Альберт   25  Краснодар              free   3826.19      19.0   \n",
       "18066     1534  Альберт   25  Краснодар              free   2902.31      17.0   \n",
       "18067     1534  Альберт   25  Краснодар              free   2371.71      16.0   \n",
       "\n",
       "            date  month_num  minute_price  start_ride_price  subscription_fee  \n",
       "0     2021-01-01          1             6                 0               199  \n",
       "1     2021-01-18          1             6                 0               199  \n",
       "2     2021-04-20          4             6                 0               199  \n",
       "3     2021-08-11          8             6                 0               199  \n",
       "4     2021-08-28          8             6                 0               199  \n",
       "...          ...        ...           ...               ...               ...  \n",
       "18063 2021-11-04         11             8                50                 0  \n",
       "18064 2021-11-16         11             8                50                 0  \n",
       "18065 2021-11-18         11             8                50                 0  \n",
       "18066 2021-11-27         11             8                50                 0  \n",
       "18067 2021-12-29         12             8                50                 0  \n",
       "\n",
       "[18068 rows x 12 columns]"
      ]
     },
     "execution_count": 73,
     "metadata": {},
     "output_type": "execute_result"
    }
   ],
   "source": [
    "# Объединяем данные датафреймов user_df и ride_df по столбцу user_id\n",
    "user_trips_df = user_df.merge(ride_df, on='user_id', how='left')\n",
    "\n",
    "# Объединяем данные датафреймов user_trips_df и subs_df по столбцу subscription_type\n",
    "user_trips_df = user_trips_df.merge(subs_df, on='subscription_type', how='inner')\n",
    "\n",
    "# Проверим, что преобразования выполнены корректно\n",
    "user_trips_df"
   ]
  },
  {
   "cell_type": "code",
   "execution_count": 74,
   "id": "bd1d9cd9",
   "metadata": {},
   "outputs": [
    {
     "data": {
      "text/plain": [
       "user_id              0\n",
       "name                 0\n",
       "age                  0\n",
       "city                 0\n",
       "subscription_type    0\n",
       "distance             0\n",
       "duration             0\n",
       "date                 0\n",
       "month_num            0\n",
       "minute_price         0\n",
       "start_ride_price     0\n",
       "subscription_fee     0\n",
       "dtype: int64"
      ]
     },
     "execution_count": 74,
     "metadata": {},
     "output_type": "execute_result"
    }
   ],
   "source": [
    "user_trips_df.isna().sum()"
   ]
  },
  {
   "cell_type": "markdown",
   "id": "bc464986",
   "metadata": {},
   "source": [
    "Объединив информацию, можно более детально изучить данные, которые вызвали вопросы на исследовательском этапе. Например, в выборке обнаружены поездки, совершённые в зимние месяцы в городах, где в ноябре, декабре и январе самокаты убирают с улиц и не используют как средство передвижения"
   ]
  },
  {
   "cell_type": "code",
   "execution_count": 75,
   "id": "a7517fec",
   "metadata": {},
   "outputs": [
    {
     "data": {
      "text/html": [
       "<div>\n",
       "<style scoped>\n",
       "    .dataframe tbody tr th:only-of-type {\n",
       "        vertical-align: middle;\n",
       "    }\n",
       "\n",
       "    .dataframe tbody tr th {\n",
       "        vertical-align: top;\n",
       "    }\n",
       "\n",
       "    .dataframe thead th {\n",
       "        text-align: right;\n",
       "    }\n",
       "</style>\n",
       "<table border=\"1\" class=\"dataframe\">\n",
       "  <thead>\n",
       "    <tr style=\"text-align: right;\">\n",
       "      <th></th>\n",
       "      <th>user_id</th>\n",
       "      <th>name</th>\n",
       "      <th>age</th>\n",
       "      <th>city</th>\n",
       "      <th>subscription_type</th>\n",
       "      <th>distance</th>\n",
       "      <th>duration</th>\n",
       "      <th>date</th>\n",
       "      <th>month_num</th>\n",
       "      <th>minute_price</th>\n",
       "      <th>start_ride_price</th>\n",
       "      <th>subscription_fee</th>\n",
       "    </tr>\n",
       "  </thead>\n",
       "  <tbody>\n",
       "    <tr>\n",
       "      <th>0</th>\n",
       "      <td>1</td>\n",
       "      <td>Кира</td>\n",
       "      <td>22</td>\n",
       "      <td>Тюмень</td>\n",
       "      <td>ultra</td>\n",
       "      <td>4409.92</td>\n",
       "      <td>26.0</td>\n",
       "      <td>2021-01-01</td>\n",
       "      <td>1</td>\n",
       "      <td>6</td>\n",
       "      <td>0</td>\n",
       "      <td>199</td>\n",
       "    </tr>\n",
       "    <tr>\n",
       "      <th>1</th>\n",
       "      <td>1</td>\n",
       "      <td>Кира</td>\n",
       "      <td>22</td>\n",
       "      <td>Тюмень</td>\n",
       "      <td>ultra</td>\n",
       "      <td>2617.59</td>\n",
       "      <td>16.0</td>\n",
       "      <td>2021-01-18</td>\n",
       "      <td>1</td>\n",
       "      <td>6</td>\n",
       "      <td>0</td>\n",
       "      <td>199</td>\n",
       "    </tr>\n",
       "    <tr>\n",
       "      <th>7</th>\n",
       "      <td>1</td>\n",
       "      <td>Кира</td>\n",
       "      <td>22</td>\n",
       "      <td>Тюмень</td>\n",
       "      <td>ultra</td>\n",
       "      <td>2842.12</td>\n",
       "      <td>24.0</td>\n",
       "      <td>2021-11-06</td>\n",
       "      <td>11</td>\n",
       "      <td>6</td>\n",
       "      <td>0</td>\n",
       "      <td>199</td>\n",
       "    </tr>\n",
       "    <tr>\n",
       "      <th>8</th>\n",
       "      <td>1</td>\n",
       "      <td>Кира</td>\n",
       "      <td>22</td>\n",
       "      <td>Тюмень</td>\n",
       "      <td>ultra</td>\n",
       "      <td>3412.69</td>\n",
       "      <td>16.0</td>\n",
       "      <td>2021-11-14</td>\n",
       "      <td>11</td>\n",
       "      <td>6</td>\n",
       "      <td>0</td>\n",
       "      <td>199</td>\n",
       "    </tr>\n",
       "    <tr>\n",
       "      <th>9</th>\n",
       "      <td>1</td>\n",
       "      <td>Кира</td>\n",
       "      <td>22</td>\n",
       "      <td>Тюмень</td>\n",
       "      <td>ultra</td>\n",
       "      <td>748.69</td>\n",
       "      <td>16.0</td>\n",
       "      <td>2021-11-22</td>\n",
       "      <td>11</td>\n",
       "      <td>6</td>\n",
       "      <td>0</td>\n",
       "      <td>199</td>\n",
       "    </tr>\n",
       "    <tr>\n",
       "      <th>...</th>\n",
       "      <td>...</td>\n",
       "      <td>...</td>\n",
       "      <td>...</td>\n",
       "      <td>...</td>\n",
       "      <td>...</td>\n",
       "      <td>...</td>\n",
       "      <td>...</td>\n",
       "      <td>...</td>\n",
       "      <td>...</td>\n",
       "      <td>...</td>\n",
       "      <td>...</td>\n",
       "      <td>...</td>\n",
       "    </tr>\n",
       "    <tr>\n",
       "      <th>18037</th>\n",
       "      <td>1532</td>\n",
       "      <td>Алексей</td>\n",
       "      <td>26</td>\n",
       "      <td>Тюмень</td>\n",
       "      <td>free</td>\n",
       "      <td>662.47</td>\n",
       "      <td>10.0</td>\n",
       "      <td>2021-11-18</td>\n",
       "      <td>11</td>\n",
       "      <td>8</td>\n",
       "      <td>50</td>\n",
       "      <td>0</td>\n",
       "    </tr>\n",
       "    <tr>\n",
       "      <th>18038</th>\n",
       "      <td>1532</td>\n",
       "      <td>Алексей</td>\n",
       "      <td>26</td>\n",
       "      <td>Тюмень</td>\n",
       "      <td>free</td>\n",
       "      <td>3276.68</td>\n",
       "      <td>19.0</td>\n",
       "      <td>2021-11-19</td>\n",
       "      <td>11</td>\n",
       "      <td>8</td>\n",
       "      <td>50</td>\n",
       "      <td>0</td>\n",
       "    </tr>\n",
       "    <tr>\n",
       "      <th>18039</th>\n",
       "      <td>1532</td>\n",
       "      <td>Алексей</td>\n",
       "      <td>26</td>\n",
       "      <td>Тюмень</td>\n",
       "      <td>free</td>\n",
       "      <td>2164.26</td>\n",
       "      <td>12.0</td>\n",
       "      <td>2021-11-22</td>\n",
       "      <td>11</td>\n",
       "      <td>8</td>\n",
       "      <td>50</td>\n",
       "      <td>0</td>\n",
       "    </tr>\n",
       "    <tr>\n",
       "      <th>18040</th>\n",
       "      <td>1532</td>\n",
       "      <td>Алексей</td>\n",
       "      <td>26</td>\n",
       "      <td>Тюмень</td>\n",
       "      <td>free</td>\n",
       "      <td>4551.70</td>\n",
       "      <td>32.0</td>\n",
       "      <td>2021-12-21</td>\n",
       "      <td>12</td>\n",
       "      <td>8</td>\n",
       "      <td>50</td>\n",
       "      <td>0</td>\n",
       "    </tr>\n",
       "    <tr>\n",
       "      <th>18041</th>\n",
       "      <td>1532</td>\n",
       "      <td>Алексей</td>\n",
       "      <td>26</td>\n",
       "      <td>Тюмень</td>\n",
       "      <td>free</td>\n",
       "      <td>1560.19</td>\n",
       "      <td>10.0</td>\n",
       "      <td>2021-12-28</td>\n",
       "      <td>12</td>\n",
       "      <td>8</td>\n",
       "      <td>50</td>\n",
       "      <td>0</td>\n",
       "    </tr>\n",
       "  </tbody>\n",
       "</table>\n",
       "<p>2127 rows × 12 columns</p>\n",
       "</div>"
      ],
      "text/plain": [
       "       user_id     name  age    city subscription_type  distance  duration  \\\n",
       "0            1     Кира   22  Тюмень             ultra   4409.92      26.0   \n",
       "1            1     Кира   22  Тюмень             ultra   2617.59      16.0   \n",
       "7            1     Кира   22  Тюмень             ultra   2842.12      24.0   \n",
       "8            1     Кира   22  Тюмень             ultra   3412.69      16.0   \n",
       "9            1     Кира   22  Тюмень             ultra    748.69      16.0   \n",
       "...        ...      ...  ...     ...               ...       ...       ...   \n",
       "18037     1532  Алексей   26  Тюмень              free    662.47      10.0   \n",
       "18038     1532  Алексей   26  Тюмень              free   3276.68      19.0   \n",
       "18039     1532  Алексей   26  Тюмень              free   2164.26      12.0   \n",
       "18040     1532  Алексей   26  Тюмень              free   4551.70      32.0   \n",
       "18041     1532  Алексей   26  Тюмень              free   1560.19      10.0   \n",
       "\n",
       "            date  month_num  minute_price  start_ride_price  subscription_fee  \n",
       "0     2021-01-01          1             6                 0               199  \n",
       "1     2021-01-18          1             6                 0               199  \n",
       "7     2021-11-06         11             6                 0               199  \n",
       "8     2021-11-14         11             6                 0               199  \n",
       "9     2021-11-22         11             6                 0               199  \n",
       "...          ...        ...           ...               ...               ...  \n",
       "18037 2021-11-18         11             8                50                 0  \n",
       "18038 2021-11-19         11             8                50                 0  \n",
       "18039 2021-11-22         11             8                50                 0  \n",
       "18040 2021-12-21         12             8                50                 0  \n",
       "18041 2021-12-28         12             8                50                 0  \n",
       "\n",
       "[2127 rows x 12 columns]"
      ]
     },
     "execution_count": 75,
     "metadata": {},
     "output_type": "execute_result"
    }
   ],
   "source": [
    "# Вывод данных о поездках, вызывающих вопросы\n",
    "user_trips_df[(user_trips_df['city'].isin(['Тюмень', 'Омск', 'Москва', 'Екатеринбург']) ) & (user_trips_df['month_num'].isin([11,12,1]))]"
   ]
  },
  {
   "cell_type": "markdown",
   "id": "52eacd9e",
   "metadata": {},
   "source": [
    "Доля таких поездок составляет 11.7% от общего количества данных, что выглядит странно и вызывает вопросы"
   ]
  },
  {
   "cell_type": "markdown",
   "id": "a5fef7e1",
   "metadata": {},
   "source": [
    "#####  Создаем ещё два датафрейма из датафрейма, созданного на этапе 4.1"
   ]
  },
  {
   "cell_type": "markdown",
   "id": "0a9df978",
   "metadata": {},
   "source": [
    "###### C данными о пользователях без подписки"
   ]
  },
  {
   "cell_type": "code",
   "execution_count": 76,
   "id": "c92e09fd",
   "metadata": {},
   "outputs": [
    {
     "data": {
      "text/plain": [
       "array(['free'], dtype=object)"
      ]
     },
     "execution_count": 76,
     "metadata": {},
     "output_type": "execute_result"
    }
   ],
   "source": [
    "# Создаем новый датафрейм с данными о пользователях без подписки\n",
    "users_no_subs = user_trips_df[user_trips_df['subscription_type'] == 'free']\n",
    "\n",
    "# Проверим, что преобразования выполнены корректно\n",
    "users_no_subs['subscription_type'].unique()"
   ]
  },
  {
   "cell_type": "code",
   "execution_count": 77,
   "id": "2640819f",
   "metadata": {},
   "outputs": [
    {
     "data": {
      "text/html": [
       "<div>\n",
       "<style scoped>\n",
       "    .dataframe tbody tr th:only-of-type {\n",
       "        vertical-align: middle;\n",
       "    }\n",
       "\n",
       "    .dataframe tbody tr th {\n",
       "        vertical-align: top;\n",
       "    }\n",
       "\n",
       "    .dataframe thead th {\n",
       "        text-align: right;\n",
       "    }\n",
       "</style>\n",
       "<table border=\"1\" class=\"dataframe\">\n",
       "  <thead>\n",
       "    <tr style=\"text-align: right;\">\n",
       "      <th></th>\n",
       "      <th>user_id</th>\n",
       "      <th>name</th>\n",
       "      <th>age</th>\n",
       "      <th>city</th>\n",
       "      <th>subscription_type</th>\n",
       "      <th>distance</th>\n",
       "      <th>duration</th>\n",
       "      <th>date</th>\n",
       "      <th>month_num</th>\n",
       "      <th>minute_price</th>\n",
       "      <th>start_ride_price</th>\n",
       "      <th>subscription_fee</th>\n",
       "    </tr>\n",
       "  </thead>\n",
       "  <tbody>\n",
       "    <tr>\n",
       "      <th>6500</th>\n",
       "      <td>700</td>\n",
       "      <td>Айдар</td>\n",
       "      <td>22</td>\n",
       "      <td>Омск</td>\n",
       "      <td>free</td>\n",
       "      <td>2515.69</td>\n",
       "      <td>15.0</td>\n",
       "      <td>2021-01-02</td>\n",
       "      <td>1</td>\n",
       "      <td>8</td>\n",
       "      <td>50</td>\n",
       "      <td>0</td>\n",
       "    </tr>\n",
       "    <tr>\n",
       "      <th>6501</th>\n",
       "      <td>700</td>\n",
       "      <td>Айдар</td>\n",
       "      <td>22</td>\n",
       "      <td>Омск</td>\n",
       "      <td>free</td>\n",
       "      <td>846.93</td>\n",
       "      <td>17.0</td>\n",
       "      <td>2021-02-01</td>\n",
       "      <td>2</td>\n",
       "      <td>8</td>\n",
       "      <td>50</td>\n",
       "      <td>0</td>\n",
       "    </tr>\n",
       "    <tr>\n",
       "      <th>6502</th>\n",
       "      <td>700</td>\n",
       "      <td>Айдар</td>\n",
       "      <td>22</td>\n",
       "      <td>Омск</td>\n",
       "      <td>free</td>\n",
       "      <td>4004.43</td>\n",
       "      <td>21.0</td>\n",
       "      <td>2021-02-04</td>\n",
       "      <td>2</td>\n",
       "      <td>8</td>\n",
       "      <td>50</td>\n",
       "      <td>0</td>\n",
       "    </tr>\n",
       "    <tr>\n",
       "      <th>6503</th>\n",
       "      <td>700</td>\n",
       "      <td>Айдар</td>\n",
       "      <td>22</td>\n",
       "      <td>Омск</td>\n",
       "      <td>free</td>\n",
       "      <td>1205.91</td>\n",
       "      <td>10.0</td>\n",
       "      <td>2021-02-10</td>\n",
       "      <td>2</td>\n",
       "      <td>8</td>\n",
       "      <td>50</td>\n",
       "      <td>0</td>\n",
       "    </tr>\n",
       "    <tr>\n",
       "      <th>6504</th>\n",
       "      <td>700</td>\n",
       "      <td>Айдар</td>\n",
       "      <td>22</td>\n",
       "      <td>Омск</td>\n",
       "      <td>free</td>\n",
       "      <td>3047.38</td>\n",
       "      <td>18.0</td>\n",
       "      <td>2021-02-14</td>\n",
       "      <td>2</td>\n",
       "      <td>8</td>\n",
       "      <td>50</td>\n",
       "      <td>0</td>\n",
       "    </tr>\n",
       "  </tbody>\n",
       "</table>\n",
       "</div>"
      ],
      "text/plain": [
       "      user_id   name  age  city subscription_type  distance  duration  \\\n",
       "6500      700  Айдар   22  Омск              free   2515.69      15.0   \n",
       "6501      700  Айдар   22  Омск              free    846.93      17.0   \n",
       "6502      700  Айдар   22  Омск              free   4004.43      21.0   \n",
       "6503      700  Айдар   22  Омск              free   1205.91      10.0   \n",
       "6504      700  Айдар   22  Омск              free   3047.38      18.0   \n",
       "\n",
       "           date  month_num  minute_price  start_ride_price  subscription_fee  \n",
       "6500 2021-01-02          1             8                50                 0  \n",
       "6501 2021-02-01          2             8                50                 0  \n",
       "6502 2021-02-04          2             8                50                 0  \n",
       "6503 2021-02-10          2             8                50                 0  \n",
       "6504 2021-02-14          2             8                50                 0  "
      ]
     },
     "execution_count": 77,
     "metadata": {},
     "output_type": "execute_result"
    }
   ],
   "source": [
    "users_no_subs.head()"
   ]
  },
  {
   "cell_type": "markdown",
   "id": "4a992b12",
   "metadata": {},
   "source": [
    "###### C данными о пользователях с подпиской"
   ]
  },
  {
   "cell_type": "code",
   "execution_count": 80,
   "id": "bc2096cf",
   "metadata": {},
   "outputs": [
    {
     "data": {
      "text/plain": [
       "array(['ultra'], dtype=object)"
      ]
     },
     "execution_count": 80,
     "metadata": {},
     "output_type": "execute_result"
    }
   ],
   "source": [
    "# Создаем новый датафрейм с данными о пользователях без подписки\n",
    "users_with_subs = user_trips_df[user_trips_df['subscription_type'] == 'ultra']\n",
    "\n",
    "# Проверим, что преобразования выполнены корректно\n",
    "users_with_subs['subscription_type'].unique()"
   ]
  },
  {
   "cell_type": "code",
   "execution_count": 81,
   "id": "cd34abc6",
   "metadata": {},
   "outputs": [
    {
     "data": {
      "text/html": [
       "<div>\n",
       "<style scoped>\n",
       "    .dataframe tbody tr th:only-of-type {\n",
       "        vertical-align: middle;\n",
       "    }\n",
       "\n",
       "    .dataframe tbody tr th {\n",
       "        vertical-align: top;\n",
       "    }\n",
       "\n",
       "    .dataframe thead th {\n",
       "        text-align: right;\n",
       "    }\n",
       "</style>\n",
       "<table border=\"1\" class=\"dataframe\">\n",
       "  <thead>\n",
       "    <tr style=\"text-align: right;\">\n",
       "      <th></th>\n",
       "      <th>user_id</th>\n",
       "      <th>name</th>\n",
       "      <th>age</th>\n",
       "      <th>city</th>\n",
       "      <th>subscription_type</th>\n",
       "      <th>distance</th>\n",
       "      <th>duration</th>\n",
       "      <th>date</th>\n",
       "      <th>month_num</th>\n",
       "      <th>minute_price</th>\n",
       "      <th>start_ride_price</th>\n",
       "      <th>subscription_fee</th>\n",
       "    </tr>\n",
       "  </thead>\n",
       "  <tbody>\n",
       "    <tr>\n",
       "      <th>0</th>\n",
       "      <td>1</td>\n",
       "      <td>Кира</td>\n",
       "      <td>22</td>\n",
       "      <td>Тюмень</td>\n",
       "      <td>ultra</td>\n",
       "      <td>4409.92</td>\n",
       "      <td>26.0</td>\n",
       "      <td>2021-01-01</td>\n",
       "      <td>1</td>\n",
       "      <td>6</td>\n",
       "      <td>0</td>\n",
       "      <td>199</td>\n",
       "    </tr>\n",
       "    <tr>\n",
       "      <th>1</th>\n",
       "      <td>1</td>\n",
       "      <td>Кира</td>\n",
       "      <td>22</td>\n",
       "      <td>Тюмень</td>\n",
       "      <td>ultra</td>\n",
       "      <td>2617.59</td>\n",
       "      <td>16.0</td>\n",
       "      <td>2021-01-18</td>\n",
       "      <td>1</td>\n",
       "      <td>6</td>\n",
       "      <td>0</td>\n",
       "      <td>199</td>\n",
       "    </tr>\n",
       "    <tr>\n",
       "      <th>2</th>\n",
       "      <td>1</td>\n",
       "      <td>Кира</td>\n",
       "      <td>22</td>\n",
       "      <td>Тюмень</td>\n",
       "      <td>ultra</td>\n",
       "      <td>754.16</td>\n",
       "      <td>7.0</td>\n",
       "      <td>2021-04-20</td>\n",
       "      <td>4</td>\n",
       "      <td>6</td>\n",
       "      <td>0</td>\n",
       "      <td>199</td>\n",
       "    </tr>\n",
       "    <tr>\n",
       "      <th>3</th>\n",
       "      <td>1</td>\n",
       "      <td>Кира</td>\n",
       "      <td>22</td>\n",
       "      <td>Тюмень</td>\n",
       "      <td>ultra</td>\n",
       "      <td>2694.78</td>\n",
       "      <td>19.0</td>\n",
       "      <td>2021-08-11</td>\n",
       "      <td>8</td>\n",
       "      <td>6</td>\n",
       "      <td>0</td>\n",
       "      <td>199</td>\n",
       "    </tr>\n",
       "    <tr>\n",
       "      <th>4</th>\n",
       "      <td>1</td>\n",
       "      <td>Кира</td>\n",
       "      <td>22</td>\n",
       "      <td>Тюмень</td>\n",
       "      <td>ultra</td>\n",
       "      <td>4028.69</td>\n",
       "      <td>27.0</td>\n",
       "      <td>2021-08-28</td>\n",
       "      <td>8</td>\n",
       "      <td>6</td>\n",
       "      <td>0</td>\n",
       "      <td>199</td>\n",
       "    </tr>\n",
       "  </tbody>\n",
       "</table>\n",
       "</div>"
      ],
      "text/plain": [
       "   user_id  name  age    city subscription_type  distance  duration  \\\n",
       "0        1  Кира   22  Тюмень             ultra   4409.92      26.0   \n",
       "1        1  Кира   22  Тюмень             ultra   2617.59      16.0   \n",
       "2        1  Кира   22  Тюмень             ultra    754.16       7.0   \n",
       "3        1  Кира   22  Тюмень             ultra   2694.78      19.0   \n",
       "4        1  Кира   22  Тюмень             ultra   4028.69      27.0   \n",
       "\n",
       "        date  month_num  minute_price  start_ride_price  subscription_fee  \n",
       "0 2021-01-01          1             6                 0               199  \n",
       "1 2021-01-18          1             6                 0               199  \n",
       "2 2021-04-20          4             6                 0               199  \n",
       "3 2021-08-11          8             6                 0               199  \n",
       "4 2021-08-28          8             6                 0               199  "
      ]
     },
     "execution_count": 81,
     "metadata": {},
     "output_type": "execute_result"
    }
   ],
   "source": [
    "users_with_subs.head()"
   ]
  },
  {
   "cell_type": "markdown",
   "id": "0527ea97",
   "metadata": {},
   "source": [
    "##### Визуализация информации о расстоянии и времени поездок для пользователей обеих категорий"
   ]
  },
  {
   "cell_type": "code",
   "execution_count": 84,
   "id": "ff885304",
   "metadata": {},
   "outputs": [
    {
     "data": {
      "image/png": "[encoded data removed]",
      "text/plain": [
       "<Figure size 576x432 with 1 Axes>"
      ]
     },
     "metadata": {
      "needs_background": "light"
     },
     "output_type": "display_data"
    }
   ],
   "source": [
    "# Визуализируем информацию о расстоянии поездок для пользователей обеих категорий\n",
    "plt.figure(figsize=(8, 6))\n",
    "plt.hist(users_no_subs['distance'], label='Без подписки', \n",
    "         bins=30, alpha=0.7, histtype='stepfilled', align='mid', zorder=1)\n",
    "plt.hist(users_with_subs['distance'], label='С подпиской', \n",
    "         bins=30, alpha=0.7, histtype='stepfilled', align='mid', zorder=2)\n",
    "\n",
    "\n",
    "plt.axvline(users_no_subs['distance'].median(), color='blue', linestyle='--', \n",
    "            label='Медиана (без подписки)', zorder=3)\n",
    "plt.axvline(users_with_subs['distance'].median(), color='red', linestyle='--', \n",
    "            label='Медиана (с подпиской)', zorder=3)\n",
    "\n",
    "plt.title('Гистограмма распределения расстояний поездок')\n",
    "plt.xlabel('Расстояние поездок, в метрах')\n",
    "plt.ylabel('Количество поездок')\n",
    "plt.legend()\n",
    "\n",
    "plt.show()"
   ]
  },
  {
   "cell_type": "code",
   "execution_count": 85,
   "id": "5776fea2",
   "metadata": {},
   "outputs": [
    {
     "data": {
      "image/png": "[encoded data removed]",
      "text/plain": [
       "<Figure size 576x432 with 1 Axes>"
      ]
     },
     "metadata": {
      "needs_background": "light"
     },
     "output_type": "display_data"
    }
   ],
   "source": [
    "# Визуализируем информацию о времени поездок для пользователей обеих категорий\n",
    "plt.figure(figsize=(8, 6))\n",
    "plt.hist(users_no_subs['duration'], label='Без подписки', \n",
    "         bins=34, alpha=0.7, histtype='stepfilled', align='mid', zorder=1)\n",
    "plt.hist(users_with_subs['duration'], label='С подпиской', \n",
    "         bins=37, alpha=0.7, histtype='stepfilled', align='mid', zorder=2)\n",
    "\n",
    "plt.axvline(users_no_subs['duration'].median(), color='blue', linestyle='--', \n",
    "            label='Медиана (без подписки)', zorder=3)\n",
    "plt.axvline(users_with_subs['duration'].median(), color='red', linestyle='--', \n",
    "            label='Медиана (с подпиской)', zorder=3)\n",
    "\n",
    "plt.title('Гистограмма распределения времени поездок')\n",
    "plt.xlabel('Время, в минутах')\n",
    "plt.ylabel('Количество поездок')\n",
    "plt.legend()\n",
    "plt.xlim(2, 41)\n",
    "\n",
    "plt.show()"
   ]
  },
  {
   "cell_type": "markdown",
   "id": "14e8c00c",
   "metadata": {},
   "source": [
    "**Вывод:** На этом этапе мы объединили все имеющиеся данные в один датафрейм и на его основе создали два отдельных датафрейма: для пользователей с подпиской и без нее. Также была проведена визуализация информации о расстоянии и времени поездок для обеих категорий пользователей"
   ]
  },
  {
   "cell_type": "markdown",
   "id": "402d620f",
   "metadata": {},
   "source": [
    "## Подсчёт выручки"
   ]
  },
  {
   "cell_type": "markdown",
   "id": "705cc3fb",
   "metadata": {},
   "source": [
    "##### Найдем суммарное расстояние, количество поездок и суммарное время для каждого пользователя за каждый месяц"
   ]
  },
  {
   "cell_type": "code",
   "execution_count": 86,
   "id": "50d6681f",
   "metadata": {},
   "outputs": [
    {
     "data": {
      "text/html": [
       "<div>\n",
       "<style scoped>\n",
       "    .dataframe tbody tr th:only-of-type {\n",
       "        vertical-align: middle;\n",
       "    }\n",
       "\n",
       "    .dataframe tbody tr th {\n",
       "        vertical-align: top;\n",
       "    }\n",
       "\n",
       "    .dataframe thead th {\n",
       "        text-align: right;\n",
       "    }\n",
       "</style>\n",
       "<table border=\"1\" class=\"dataframe\">\n",
       "  <thead>\n",
       "    <tr style=\"text-align: right;\">\n",
       "      <th></th>\n",
       "      <th></th>\n",
       "      <th></th>\n",
       "      <th>total_distance</th>\n",
       "      <th>num_of_trips</th>\n",
       "      <th>total_time</th>\n",
       "      <th>minute_price</th>\n",
       "      <th>start_ride_price</th>\n",
       "      <th>subscription_fee</th>\n",
       "    </tr>\n",
       "    <tr>\n",
       "      <th>user_id</th>\n",
       "      <th>subscription_type</th>\n",
       "      <th>month_num</th>\n",
       "      <th></th>\n",
       "      <th></th>\n",
       "      <th></th>\n",
       "      <th></th>\n",
       "      <th></th>\n",
       "      <th></th>\n",
       "    </tr>\n",
       "  </thead>\n",
       "  <tbody>\n",
       "    <tr>\n",
       "      <th rowspan=\"5\" valign=\"top\">1</th>\n",
       "      <th rowspan=\"5\" valign=\"top\">ultra</th>\n",
       "      <th>1</th>\n",
       "      <td>7027.51</td>\n",
       "      <td>2</td>\n",
       "      <td>42.0</td>\n",
       "      <td>6</td>\n",
       "      <td>0</td>\n",
       "      <td>199</td>\n",
       "    </tr>\n",
       "    <tr>\n",
       "      <th>4</th>\n",
       "      <td>754.16</td>\n",
       "      <td>1</td>\n",
       "      <td>7.0</td>\n",
       "      <td>6</td>\n",
       "      <td>0</td>\n",
       "      <td>199</td>\n",
       "    </tr>\n",
       "    <tr>\n",
       "      <th>8</th>\n",
       "      <td>6723.47</td>\n",
       "      <td>2</td>\n",
       "      <td>46.0</td>\n",
       "      <td>6</td>\n",
       "      <td>0</td>\n",
       "      <td>199</td>\n",
       "    </tr>\n",
       "    <tr>\n",
       "      <th>10</th>\n",
       "      <td>5809.91</td>\n",
       "      <td>2</td>\n",
       "      <td>32.0</td>\n",
       "      <td>6</td>\n",
       "      <td>0</td>\n",
       "      <td>199</td>\n",
       "    </tr>\n",
       "    <tr>\n",
       "      <th>11</th>\n",
       "      <td>7003.50</td>\n",
       "      <td>3</td>\n",
       "      <td>56.0</td>\n",
       "      <td>6</td>\n",
       "      <td>0</td>\n",
       "      <td>199</td>\n",
       "    </tr>\n",
       "    <tr>\n",
       "      <th>...</th>\n",
       "      <th>...</th>\n",
       "      <th>...</th>\n",
       "      <td>...</td>\n",
       "      <td>...</td>\n",
       "      <td>...</td>\n",
       "      <td>...</td>\n",
       "      <td>...</td>\n",
       "      <td>...</td>\n",
       "    </tr>\n",
       "    <tr>\n",
       "      <th rowspan=\"5\" valign=\"top\">1534</th>\n",
       "      <th rowspan=\"5\" valign=\"top\">free</th>\n",
       "      <th>6</th>\n",
       "      <td>3409.47</td>\n",
       "      <td>2</td>\n",
       "      <td>26.0</td>\n",
       "      <td>8</td>\n",
       "      <td>50</td>\n",
       "      <td>0</td>\n",
       "    </tr>\n",
       "    <tr>\n",
       "      <th>8</th>\n",
       "      <td>7622.45</td>\n",
       "      <td>2</td>\n",
       "      <td>48.0</td>\n",
       "      <td>8</td>\n",
       "      <td>50</td>\n",
       "      <td>0</td>\n",
       "    </tr>\n",
       "    <tr>\n",
       "      <th>9</th>\n",
       "      <td>4928.17</td>\n",
       "      <td>1</td>\n",
       "      <td>23.0</td>\n",
       "      <td>8</td>\n",
       "      <td>50</td>\n",
       "      <td>0</td>\n",
       "    </tr>\n",
       "    <tr>\n",
       "      <th>11</th>\n",
       "      <td>13350.02</td>\n",
       "      <td>4</td>\n",
       "      <td>78.0</td>\n",
       "      <td>8</td>\n",
       "      <td>50</td>\n",
       "      <td>0</td>\n",
       "    </tr>\n",
       "    <tr>\n",
       "      <th>12</th>\n",
       "      <td>2371.71</td>\n",
       "      <td>1</td>\n",
       "      <td>16.0</td>\n",
       "      <td>8</td>\n",
       "      <td>50</td>\n",
       "      <td>0</td>\n",
       "    </tr>\n",
       "  </tbody>\n",
       "</table>\n",
       "<p>11331 rows × 6 columns</p>\n",
       "</div>"
      ],
      "text/plain": [
       "                                     total_distance  num_of_trips  total_time  \\\n",
       "user_id subscription_type month_num                                             \n",
       "1       ultra             1                 7027.51             2        42.0   \n",
       "                          4                  754.16             1         7.0   \n",
       "                          8                 6723.47             2        46.0   \n",
       "                          10                5809.91             2        32.0   \n",
       "                          11                7003.50             3        56.0   \n",
       "...                                             ...           ...         ...   \n",
       "1534    free              6                 3409.47             2        26.0   \n",
       "                          8                 7622.45             2        48.0   \n",
       "                          9                 4928.17             1        23.0   \n",
       "                          11               13350.02             4        78.0   \n",
       "                          12                2371.71             1        16.0   \n",
       "\n",
       "                                     minute_price  start_ride_price  \\\n",
       "user_id subscription_type month_num                                   \n",
       "1       ultra             1                     6                 0   \n",
       "                          4                     6                 0   \n",
       "                          8                     6                 0   \n",
       "                          10                    6                 0   \n",
       "                          11                    6                 0   \n",
       "...                                           ...               ...   \n",
       "1534    free              6                     8                50   \n",
       "                          8                     8                50   \n",
       "                          9                     8                50   \n",
       "                          11                    8                50   \n",
       "                          12                    8                50   \n",
       "\n",
       "                                     subscription_fee  \n",
       "user_id subscription_type month_num                    \n",
       "1       ultra             1                       199  \n",
       "                          4                       199  \n",
       "                          8                       199  \n",
       "                          10                      199  \n",
       "                          11                      199  \n",
       "...                                               ...  \n",
       "1534    free              6                         0  \n",
       "                          8                         0  \n",
       "                          9                         0  \n",
       "                          11                        0  \n",
       "                          12                        0  \n",
       "\n",
       "[11331 rows x 6 columns]"
      ]
     },
     "execution_count": 86,
     "metadata": {},
     "output_type": "execute_result"
    }
   ],
   "source": [
    "# Создаем датафрейм с агрегированными данными о поездках на основе датафрейма с объединёнными данными из шага 4\n",
    "agg_user_trips_df = user_trips_df.groupby(['user_id', 'subscription_type', 'month_num']).agg(\n",
    "    total_distance=('distance', 'sum'), num_of_trips=('user_id', 'count'), total_time=('duration', 'sum'), \n",
    "minute_price=('minute_price', 'first'), start_ride_price=('start_ride_price', 'first'), subscription_fee=('subscription_fee', 'first'))\n",
    "\n",
    "# Выводим полученную информацию о пользователе с id = 1\n",
    "agg_user_trips_df"
   ]
  },
  {
   "cell_type": "code",
   "execution_count": 87,
   "id": "d54ec9c8",
   "metadata": {},
   "outputs": [
    {
     "data": {
      "text/plain": [
       "total_distance      0\n",
       "num_of_trips        0\n",
       "total_time          0\n",
       "minute_price        0\n",
       "start_ride_price    0\n",
       "subscription_fee    0\n",
       "dtype: int64"
      ]
     },
     "execution_count": 87,
     "metadata": {},
     "output_type": "execute_result"
    }
   ],
   "source": [
    "agg_user_trips_df.isna().sum()"
   ]
  },
  {
   "cell_type": "code",
   "execution_count": 88,
   "id": "ccc6f63d",
   "metadata": {},
   "outputs": [
    {
     "data": {
      "text/html": [
       "<div>\n",
       "<style scoped>\n",
       "    .dataframe tbody tr th:only-of-type {\n",
       "        vertical-align: middle;\n",
       "    }\n",
       "\n",
       "    .dataframe tbody tr th {\n",
       "        vertical-align: top;\n",
       "    }\n",
       "\n",
       "    .dataframe thead th {\n",
       "        text-align: right;\n",
       "    }\n",
       "</style>\n",
       "<table border=\"1\" class=\"dataframe\">\n",
       "  <thead>\n",
       "    <tr style=\"text-align: right;\">\n",
       "      <th></th>\n",
       "      <th>user_id</th>\n",
       "      <th>name</th>\n",
       "      <th>age</th>\n",
       "      <th>city</th>\n",
       "      <th>subscription_type</th>\n",
       "      <th>distance</th>\n",
       "      <th>duration</th>\n",
       "      <th>date</th>\n",
       "      <th>month_num</th>\n",
       "      <th>minute_price</th>\n",
       "      <th>start_ride_price</th>\n",
       "      <th>subscription_fee</th>\n",
       "    </tr>\n",
       "  </thead>\n",
       "  <tbody>\n",
       "    <tr>\n",
       "      <th>0</th>\n",
       "      <td>1</td>\n",
       "      <td>Кира</td>\n",
       "      <td>22</td>\n",
       "      <td>Тюмень</td>\n",
       "      <td>ultra</td>\n",
       "      <td>4409.92</td>\n",
       "      <td>26.0</td>\n",
       "      <td>2021-01-01</td>\n",
       "      <td>1</td>\n",
       "      <td>6</td>\n",
       "      <td>0</td>\n",
       "      <td>199</td>\n",
       "    </tr>\n",
       "    <tr>\n",
       "      <th>1</th>\n",
       "      <td>1</td>\n",
       "      <td>Кира</td>\n",
       "      <td>22</td>\n",
       "      <td>Тюмень</td>\n",
       "      <td>ultra</td>\n",
       "      <td>2617.59</td>\n",
       "      <td>16.0</td>\n",
       "      <td>2021-01-18</td>\n",
       "      <td>1</td>\n",
       "      <td>6</td>\n",
       "      <td>0</td>\n",
       "      <td>199</td>\n",
       "    </tr>\n",
       "    <tr>\n",
       "      <th>2</th>\n",
       "      <td>1</td>\n",
       "      <td>Кира</td>\n",
       "      <td>22</td>\n",
       "      <td>Тюмень</td>\n",
       "      <td>ultra</td>\n",
       "      <td>754.16</td>\n",
       "      <td>7.0</td>\n",
       "      <td>2021-04-20</td>\n",
       "      <td>4</td>\n",
       "      <td>6</td>\n",
       "      <td>0</td>\n",
       "      <td>199</td>\n",
       "    </tr>\n",
       "    <tr>\n",
       "      <th>3</th>\n",
       "      <td>1</td>\n",
       "      <td>Кира</td>\n",
       "      <td>22</td>\n",
       "      <td>Тюмень</td>\n",
       "      <td>ultra</td>\n",
       "      <td>2694.78</td>\n",
       "      <td>19.0</td>\n",
       "      <td>2021-08-11</td>\n",
       "      <td>8</td>\n",
       "      <td>6</td>\n",
       "      <td>0</td>\n",
       "      <td>199</td>\n",
       "    </tr>\n",
       "    <tr>\n",
       "      <th>4</th>\n",
       "      <td>1</td>\n",
       "      <td>Кира</td>\n",
       "      <td>22</td>\n",
       "      <td>Тюмень</td>\n",
       "      <td>ultra</td>\n",
       "      <td>4028.69</td>\n",
       "      <td>27.0</td>\n",
       "      <td>2021-08-28</td>\n",
       "      <td>8</td>\n",
       "      <td>6</td>\n",
       "      <td>0</td>\n",
       "      <td>199</td>\n",
       "    </tr>\n",
       "    <tr>\n",
       "      <th>5</th>\n",
       "      <td>1</td>\n",
       "      <td>Кира</td>\n",
       "      <td>22</td>\n",
       "      <td>Тюмень</td>\n",
       "      <td>ultra</td>\n",
       "      <td>2770.89</td>\n",
       "      <td>17.0</td>\n",
       "      <td>2021-10-09</td>\n",
       "      <td>10</td>\n",
       "      <td>6</td>\n",
       "      <td>0</td>\n",
       "      <td>199</td>\n",
       "    </tr>\n",
       "    <tr>\n",
       "      <th>6</th>\n",
       "      <td>1</td>\n",
       "      <td>Кира</td>\n",
       "      <td>22</td>\n",
       "      <td>Тюмень</td>\n",
       "      <td>ultra</td>\n",
       "      <td>3039.02</td>\n",
       "      <td>15.0</td>\n",
       "      <td>2021-10-19</td>\n",
       "      <td>10</td>\n",
       "      <td>6</td>\n",
       "      <td>0</td>\n",
       "      <td>199</td>\n",
       "    </tr>\n",
       "    <tr>\n",
       "      <th>7</th>\n",
       "      <td>1</td>\n",
       "      <td>Кира</td>\n",
       "      <td>22</td>\n",
       "      <td>Тюмень</td>\n",
       "      <td>ultra</td>\n",
       "      <td>2842.12</td>\n",
       "      <td>24.0</td>\n",
       "      <td>2021-11-06</td>\n",
       "      <td>11</td>\n",
       "      <td>6</td>\n",
       "      <td>0</td>\n",
       "      <td>199</td>\n",
       "    </tr>\n",
       "    <tr>\n",
       "      <th>8</th>\n",
       "      <td>1</td>\n",
       "      <td>Кира</td>\n",
       "      <td>22</td>\n",
       "      <td>Тюмень</td>\n",
       "      <td>ultra</td>\n",
       "      <td>3412.69</td>\n",
       "      <td>16.0</td>\n",
       "      <td>2021-11-14</td>\n",
       "      <td>11</td>\n",
       "      <td>6</td>\n",
       "      <td>0</td>\n",
       "      <td>199</td>\n",
       "    </tr>\n",
       "    <tr>\n",
       "      <th>9</th>\n",
       "      <td>1</td>\n",
       "      <td>Кира</td>\n",
       "      <td>22</td>\n",
       "      <td>Тюмень</td>\n",
       "      <td>ultra</td>\n",
       "      <td>748.69</td>\n",
       "      <td>16.0</td>\n",
       "      <td>2021-11-22</td>\n",
       "      <td>11</td>\n",
       "      <td>6</td>\n",
       "      <td>0</td>\n",
       "      <td>199</td>\n",
       "    </tr>\n",
       "    <tr>\n",
       "      <th>10</th>\n",
       "      <td>1</td>\n",
       "      <td>Кира</td>\n",
       "      <td>22</td>\n",
       "      <td>Тюмень</td>\n",
       "      <td>ultra</td>\n",
       "      <td>4031.02</td>\n",
       "      <td>18.0</td>\n",
       "      <td>2021-12-14</td>\n",
       "      <td>12</td>\n",
       "      <td>6</td>\n",
       "      <td>0</td>\n",
       "      <td>199</td>\n",
       "    </tr>\n",
       "    <tr>\n",
       "      <th>11</th>\n",
       "      <td>1</td>\n",
       "      <td>Кира</td>\n",
       "      <td>22</td>\n",
       "      <td>Тюмень</td>\n",
       "      <td>ultra</td>\n",
       "      <td>2720.61</td>\n",
       "      <td>10.0</td>\n",
       "      <td>2021-12-22</td>\n",
       "      <td>12</td>\n",
       "      <td>6</td>\n",
       "      <td>0</td>\n",
       "      <td>199</td>\n",
       "    </tr>\n",
       "  </tbody>\n",
       "</table>\n",
       "</div>"
      ],
      "text/plain": [
       "    user_id  name  age    city subscription_type  distance  duration  \\\n",
       "0         1  Кира   22  Тюмень             ultra   4409.92      26.0   \n",
       "1         1  Кира   22  Тюмень             ultra   2617.59      16.0   \n",
       "2         1  Кира   22  Тюмень             ultra    754.16       7.0   \n",
       "3         1  Кира   22  Тюмень             ultra   2694.78      19.0   \n",
       "4         1  Кира   22  Тюмень             ultra   4028.69      27.0   \n",
       "5         1  Кира   22  Тюмень             ultra   2770.89      17.0   \n",
       "6         1  Кира   22  Тюмень             ultra   3039.02      15.0   \n",
       "7         1  Кира   22  Тюмень             ultra   2842.12      24.0   \n",
       "8         1  Кира   22  Тюмень             ultra   3412.69      16.0   \n",
       "9         1  Кира   22  Тюмень             ultra    748.69      16.0   \n",
       "10        1  Кира   22  Тюмень             ultra   4031.02      18.0   \n",
       "11        1  Кира   22  Тюмень             ultra   2720.61      10.0   \n",
       "\n",
       "         date  month_num  minute_price  start_ride_price  subscription_fee  \n",
       "0  2021-01-01          1             6                 0               199  \n",
       "1  2021-01-18          1             6                 0               199  \n",
       "2  2021-04-20          4             6                 0               199  \n",
       "3  2021-08-11          8             6                 0               199  \n",
       "4  2021-08-28          8             6                 0               199  \n",
       "5  2021-10-09         10             6                 0               199  \n",
       "6  2021-10-19         10             6                 0               199  \n",
       "7  2021-11-06         11             6                 0               199  \n",
       "8  2021-11-14         11             6                 0               199  \n",
       "9  2021-11-22         11             6                 0               199  \n",
       "10 2021-12-14         12             6                 0               199  \n",
       "11 2021-12-22         12             6                 0               199  "
      ]
     },
     "execution_count": 88,
     "metadata": {},
     "output_type": "execute_result"
    }
   ],
   "source": [
    "# Проверим, что преобразования выполнены корректно на основе данных пользователя с id = 1\n",
    "user_trips_df[user_trips_df['user_id'] == 1]"
   ]
  },
  {
   "cell_type": "markdown",
   "id": "e1c5b4dc",
   "metadata": {},
   "source": [
    "##### В датафрейм добавим столбец с помесячной выручкой, которую принёс каждый пользователь"
   ]
  },
  {
   "cell_type": "code",
   "execution_count": 90,
   "id": "6804e389",
   "metadata": {},
   "outputs": [
    {
     "data": {
      "text/html": [
       "<div>\n",
       "<style scoped>\n",
       "    .dataframe tbody tr th:only-of-type {\n",
       "        vertical-align: middle;\n",
       "    }\n",
       "\n",
       "    .dataframe tbody tr th {\n",
       "        vertical-align: top;\n",
       "    }\n",
       "\n",
       "    .dataframe thead th {\n",
       "        text-align: right;\n",
       "    }\n",
       "</style>\n",
       "<table border=\"1\" class=\"dataframe\">\n",
       "  <thead>\n",
       "    <tr style=\"text-align: right;\">\n",
       "      <th></th>\n",
       "      <th></th>\n",
       "      <th></th>\n",
       "      <th>total_distance</th>\n",
       "      <th>num_of_trips</th>\n",
       "      <th>total_time</th>\n",
       "      <th>subscription_fee</th>\n",
       "      <th>monthly_revenue</th>\n",
       "    </tr>\n",
       "    <tr>\n",
       "      <th>user_id</th>\n",
       "      <th>subscription_type</th>\n",
       "      <th>month_num</th>\n",
       "      <th></th>\n",
       "      <th></th>\n",
       "      <th></th>\n",
       "      <th></th>\n",
       "      <th></th>\n",
       "    </tr>\n",
       "  </thead>\n",
       "  <tbody>\n",
       "    <tr>\n",
       "      <th rowspan=\"5\" valign=\"top\">1</th>\n",
       "      <th rowspan=\"5\" valign=\"top\">ultra</th>\n",
       "      <th>1</th>\n",
       "      <td>7027.51</td>\n",
       "      <td>2</td>\n",
       "      <td>42.0</td>\n",
       "      <td>199</td>\n",
       "      <td>451.0</td>\n",
       "    </tr>\n",
       "    <tr>\n",
       "      <th>4</th>\n",
       "      <td>754.16</td>\n",
       "      <td>1</td>\n",
       "      <td>7.0</td>\n",
       "      <td>199</td>\n",
       "      <td>241.0</td>\n",
       "    </tr>\n",
       "    <tr>\n",
       "      <th>8</th>\n",
       "      <td>6723.47</td>\n",
       "      <td>2</td>\n",
       "      <td>46.0</td>\n",
       "      <td>199</td>\n",
       "      <td>475.0</td>\n",
       "    </tr>\n",
       "    <tr>\n",
       "      <th>10</th>\n",
       "      <td>5809.91</td>\n",
       "      <td>2</td>\n",
       "      <td>32.0</td>\n",
       "      <td>199</td>\n",
       "      <td>391.0</td>\n",
       "    </tr>\n",
       "    <tr>\n",
       "      <th>11</th>\n",
       "      <td>7003.50</td>\n",
       "      <td>3</td>\n",
       "      <td>56.0</td>\n",
       "      <td>199</td>\n",
       "      <td>535.0</td>\n",
       "    </tr>\n",
       "    <tr>\n",
       "      <th>...</th>\n",
       "      <th>...</th>\n",
       "      <th>...</th>\n",
       "      <td>...</td>\n",
       "      <td>...</td>\n",
       "      <td>...</td>\n",
       "      <td>...</td>\n",
       "      <td>...</td>\n",
       "    </tr>\n",
       "    <tr>\n",
       "      <th rowspan=\"5\" valign=\"top\">1534</th>\n",
       "      <th rowspan=\"5\" valign=\"top\">free</th>\n",
       "      <th>6</th>\n",
       "      <td>3409.47</td>\n",
       "      <td>2</td>\n",
       "      <td>26.0</td>\n",
       "      <td>0</td>\n",
       "      <td>308.0</td>\n",
       "    </tr>\n",
       "    <tr>\n",
       "      <th>8</th>\n",
       "      <td>7622.45</td>\n",
       "      <td>2</td>\n",
       "      <td>48.0</td>\n",
       "      <td>0</td>\n",
       "      <td>484.0</td>\n",
       "    </tr>\n",
       "    <tr>\n",
       "      <th>9</th>\n",
       "      <td>4928.17</td>\n",
       "      <td>1</td>\n",
       "      <td>23.0</td>\n",
       "      <td>0</td>\n",
       "      <td>234.0</td>\n",
       "    </tr>\n",
       "    <tr>\n",
       "      <th>11</th>\n",
       "      <td>13350.02</td>\n",
       "      <td>4</td>\n",
       "      <td>78.0</td>\n",
       "      <td>0</td>\n",
       "      <td>824.0</td>\n",
       "    </tr>\n",
       "    <tr>\n",
       "      <th>12</th>\n",
       "      <td>2371.71</td>\n",
       "      <td>1</td>\n",
       "      <td>16.0</td>\n",
       "      <td>0</td>\n",
       "      <td>178.0</td>\n",
       "    </tr>\n",
       "  </tbody>\n",
       "</table>\n",
       "<p>11331 rows × 5 columns</p>\n",
       "</div>"
      ],
      "text/plain": [
       "                                     total_distance  num_of_trips  total_time  \\\n",
       "user_id subscription_type month_num                                             \n",
       "1       ultra             1                 7027.51             2        42.0   \n",
       "                          4                  754.16             1         7.0   \n",
       "                          8                 6723.47             2        46.0   \n",
       "                          10                5809.91             2        32.0   \n",
       "                          11                7003.50             3        56.0   \n",
       "...                                             ...           ...         ...   \n",
       "1534    free              6                 3409.47             2        26.0   \n",
       "                          8                 7622.45             2        48.0   \n",
       "                          9                 4928.17             1        23.0   \n",
       "                          11               13350.02             4        78.0   \n",
       "                          12                2371.71             1        16.0   \n",
       "\n",
       "                                     subscription_fee  monthly_revenue  \n",
       "user_id subscription_type month_num                                     \n",
       "1       ultra             1                       199            451.0  \n",
       "                          4                       199            241.0  \n",
       "                          8                       199            475.0  \n",
       "                          10                      199            391.0  \n",
       "                          11                      199            535.0  \n",
       "...                                               ...              ...  \n",
       "1534    free              6                         0            308.0  \n",
       "                          8                         0            484.0  \n",
       "                          9                         0            234.0  \n",
       "                          11                        0            824.0  \n",
       "                          12                        0            178.0  \n",
       "\n",
       "[11331 rows x 5 columns]"
      ]
     },
     "execution_count": 90,
     "metadata": {},
     "output_type": "execute_result"
    }
   ],
   "source": [
    "# Добавляем столбец с помесячной выручкой\n",
    "agg_user_trips_df['monthly_revenue'] = agg_user_trips_df['start_ride_price'] * agg_user_trips_df['num_of_trips'] \\\n",
    "            + agg_user_trips_df['minute_price'] * agg_user_trips_df['total_time'] + agg_user_trips_df['subscription_fee']\n",
    "    \n",
    "# Удалим столбцы, содержащие данные о стоимости поездок \n",
    "agg_user_trips_df = agg_user_trips_df.drop(columns=['minute_price', 'start_ride_price'])\n",
    "\n",
    "    \n",
    "    # Проверим, что преобразования выполнены корректно\n",
    "agg_user_trips_df"
   ]
  },
  {
   "cell_type": "code",
   "execution_count": 91,
   "id": "8c6aa36f",
   "metadata": {},
   "outputs": [
    {
     "data": {
      "text/html": [
       "<div>\n",
       "<style scoped>\n",
       "    .dataframe tbody tr th:only-of-type {\n",
       "        vertical-align: middle;\n",
       "    }\n",
       "\n",
       "    .dataframe tbody tr th {\n",
       "        vertical-align: top;\n",
       "    }\n",
       "\n",
       "    .dataframe thead th {\n",
       "        text-align: right;\n",
       "    }\n",
       "</style>\n",
       "<table border=\"1\" class=\"dataframe\">\n",
       "  <thead>\n",
       "    <tr style=\"text-align: right;\">\n",
       "      <th></th>\n",
       "      <th>user_id</th>\n",
       "      <th>name</th>\n",
       "      <th>age</th>\n",
       "      <th>city</th>\n",
       "      <th>subscription_type</th>\n",
       "      <th>distance</th>\n",
       "      <th>duration</th>\n",
       "      <th>date</th>\n",
       "      <th>month_num</th>\n",
       "      <th>minute_price</th>\n",
       "      <th>start_ride_price</th>\n",
       "      <th>subscription_fee</th>\n",
       "    </tr>\n",
       "  </thead>\n",
       "  <tbody>\n",
       "    <tr>\n",
       "      <th>18055</th>\n",
       "      <td>1534</td>\n",
       "      <td>Альберт</td>\n",
       "      <td>25</td>\n",
       "      <td>Краснодар</td>\n",
       "      <td>free</td>\n",
       "      <td>4678.42</td>\n",
       "      <td>16.0</td>\n",
       "      <td>2021-01-20</td>\n",
       "      <td>1</td>\n",
       "      <td>8</td>\n",
       "      <td>50</td>\n",
       "      <td>0</td>\n",
       "    </tr>\n",
       "    <tr>\n",
       "      <th>18056</th>\n",
       "      <td>1534</td>\n",
       "      <td>Альберт</td>\n",
       "      <td>25</td>\n",
       "      <td>Краснодар</td>\n",
       "      <td>free</td>\n",
       "      <td>2103.91</td>\n",
       "      <td>14.0</td>\n",
       "      <td>2021-02-28</td>\n",
       "      <td>2</td>\n",
       "      <td>8</td>\n",
       "      <td>50</td>\n",
       "      <td>0</td>\n",
       "    </tr>\n",
       "    <tr>\n",
       "      <th>18057</th>\n",
       "      <td>1534</td>\n",
       "      <td>Альберт</td>\n",
       "      <td>25</td>\n",
       "      <td>Краснодар</td>\n",
       "      <td>free</td>\n",
       "      <td>3434.29</td>\n",
       "      <td>15.0</td>\n",
       "      <td>2021-04-29</td>\n",
       "      <td>4</td>\n",
       "      <td>8</td>\n",
       "      <td>50</td>\n",
       "      <td>0</td>\n",
       "    </tr>\n",
       "    <tr>\n",
       "      <th>18058</th>\n",
       "      <td>1534</td>\n",
       "      <td>Альберт</td>\n",
       "      <td>25</td>\n",
       "      <td>Краснодар</td>\n",
       "      <td>free</td>\n",
       "      <td>195.45</td>\n",
       "      <td>7.0</td>\n",
       "      <td>2021-06-11</td>\n",
       "      <td>6</td>\n",
       "      <td>8</td>\n",
       "      <td>50</td>\n",
       "      <td>0</td>\n",
       "    </tr>\n",
       "    <tr>\n",
       "      <th>18059</th>\n",
       "      <td>1534</td>\n",
       "      <td>Альберт</td>\n",
       "      <td>25</td>\n",
       "      <td>Краснодар</td>\n",
       "      <td>free</td>\n",
       "      <td>3214.02</td>\n",
       "      <td>19.0</td>\n",
       "      <td>2021-06-18</td>\n",
       "      <td>6</td>\n",
       "      <td>8</td>\n",
       "      <td>50</td>\n",
       "      <td>0</td>\n",
       "    </tr>\n",
       "    <tr>\n",
       "      <th>18060</th>\n",
       "      <td>1534</td>\n",
       "      <td>Альберт</td>\n",
       "      <td>25</td>\n",
       "      <td>Краснодар</td>\n",
       "      <td>free</td>\n",
       "      <td>3644.71</td>\n",
       "      <td>21.0</td>\n",
       "      <td>2021-08-08</td>\n",
       "      <td>8</td>\n",
       "      <td>8</td>\n",
       "      <td>50</td>\n",
       "      <td>0</td>\n",
       "    </tr>\n",
       "    <tr>\n",
       "      <th>18061</th>\n",
       "      <td>1534</td>\n",
       "      <td>Альберт</td>\n",
       "      <td>25</td>\n",
       "      <td>Краснодар</td>\n",
       "      <td>free</td>\n",
       "      <td>3977.74</td>\n",
       "      <td>27.0</td>\n",
       "      <td>2021-08-20</td>\n",
       "      <td>8</td>\n",
       "      <td>8</td>\n",
       "      <td>50</td>\n",
       "      <td>0</td>\n",
       "    </tr>\n",
       "    <tr>\n",
       "      <th>18062</th>\n",
       "      <td>1534</td>\n",
       "      <td>Альберт</td>\n",
       "      <td>25</td>\n",
       "      <td>Краснодар</td>\n",
       "      <td>free</td>\n",
       "      <td>4928.17</td>\n",
       "      <td>23.0</td>\n",
       "      <td>2021-09-13</td>\n",
       "      <td>9</td>\n",
       "      <td>8</td>\n",
       "      <td>50</td>\n",
       "      <td>0</td>\n",
       "    </tr>\n",
       "    <tr>\n",
       "      <th>18063</th>\n",
       "      <td>1534</td>\n",
       "      <td>Альберт</td>\n",
       "      <td>25</td>\n",
       "      <td>Краснодар</td>\n",
       "      <td>free</td>\n",
       "      <td>3781.10</td>\n",
       "      <td>20.0</td>\n",
       "      <td>2021-11-04</td>\n",
       "      <td>11</td>\n",
       "      <td>8</td>\n",
       "      <td>50</td>\n",
       "      <td>0</td>\n",
       "    </tr>\n",
       "    <tr>\n",
       "      <th>18064</th>\n",
       "      <td>1534</td>\n",
       "      <td>Альберт</td>\n",
       "      <td>25</td>\n",
       "      <td>Краснодар</td>\n",
       "      <td>free</td>\n",
       "      <td>2840.42</td>\n",
       "      <td>22.0</td>\n",
       "      <td>2021-11-16</td>\n",
       "      <td>11</td>\n",
       "      <td>8</td>\n",
       "      <td>50</td>\n",
       "      <td>0</td>\n",
       "    </tr>\n",
       "    <tr>\n",
       "      <th>18065</th>\n",
       "      <td>1534</td>\n",
       "      <td>Альберт</td>\n",
       "      <td>25</td>\n",
       "      <td>Краснодар</td>\n",
       "      <td>free</td>\n",
       "      <td>3826.19</td>\n",
       "      <td>19.0</td>\n",
       "      <td>2021-11-18</td>\n",
       "      <td>11</td>\n",
       "      <td>8</td>\n",
       "      <td>50</td>\n",
       "      <td>0</td>\n",
       "    </tr>\n",
       "    <tr>\n",
       "      <th>18066</th>\n",
       "      <td>1534</td>\n",
       "      <td>Альберт</td>\n",
       "      <td>25</td>\n",
       "      <td>Краснодар</td>\n",
       "      <td>free</td>\n",
       "      <td>2902.31</td>\n",
       "      <td>17.0</td>\n",
       "      <td>2021-11-27</td>\n",
       "      <td>11</td>\n",
       "      <td>8</td>\n",
       "      <td>50</td>\n",
       "      <td>0</td>\n",
       "    </tr>\n",
       "    <tr>\n",
       "      <th>18067</th>\n",
       "      <td>1534</td>\n",
       "      <td>Альберт</td>\n",
       "      <td>25</td>\n",
       "      <td>Краснодар</td>\n",
       "      <td>free</td>\n",
       "      <td>2371.71</td>\n",
       "      <td>16.0</td>\n",
       "      <td>2021-12-29</td>\n",
       "      <td>12</td>\n",
       "      <td>8</td>\n",
       "      <td>50</td>\n",
       "      <td>0</td>\n",
       "    </tr>\n",
       "  </tbody>\n",
       "</table>\n",
       "</div>"
      ],
      "text/plain": [
       "       user_id     name  age       city subscription_type  distance  duration  \\\n",
       "18055     1534  Альберт   25  Краснодар              free   4678.42      16.0   \n",
       "18056     1534  Альберт   25  Краснодар              free   2103.91      14.0   \n",
       "18057     1534  Альберт   25  Краснодар              free   3434.29      15.0   \n",
       "18058     1534  Альберт   25  Краснодар              free    195.45       7.0   \n",
       "18059     1534  Альберт   25  Краснодар              free   3214.02      19.0   \n",
       "18060     1534  Альберт   25  Краснодар              free   3644.71      21.0   \n",
       "18061     1534  Альберт   25  Краснодар              free   3977.74      27.0   \n",
       "18062     1534  Альберт   25  Краснодар              free   4928.17      23.0   \n",
       "18063     1534  Альберт   25  Краснодар              free   3781.10      20.0   \n",
       "18064     1534  Альберт   25  Краснодар              free   2840.42      22.0   \n",
       "18065     1534  Альберт   25  Краснодар              free   3826.19      19.0   \n",
       "18066     1534  Альберт   25  Краснодар              free   2902.31      17.0   \n",
       "18067     1534  Альберт   25  Краснодар              free   2371.71      16.0   \n",
       "\n",
       "            date  month_num  minute_price  start_ride_price  subscription_fee  \n",
       "18055 2021-01-20          1             8                50                 0  \n",
       "18056 2021-02-28          2             8                50                 0  \n",
       "18057 2021-04-29          4             8                50                 0  \n",
       "18058 2021-06-11          6             8                50                 0  \n",
       "18059 2021-06-18          6             8                50                 0  \n",
       "18060 2021-08-08          8             8                50                 0  \n",
       "18061 2021-08-20          8             8                50                 0  \n",
       "18062 2021-09-13          9             8                50                 0  \n",
       "18063 2021-11-04         11             8                50                 0  \n",
       "18064 2021-11-16         11             8                50                 0  \n",
       "18065 2021-11-18         11             8                50                 0  \n",
       "18066 2021-11-27         11             8                50                 0  \n",
       "18067 2021-12-29         12             8                50                 0  "
      ]
     },
     "execution_count": 91,
     "metadata": {},
     "output_type": "execute_result"
    }
   ],
   "source": [
    "# Проверим, что преобразования выполнены корректно на основе данных пользователя с id = 1534\n",
    "user_trips_df[user_trips_df['user_id'] == 1534]"
   ]
  },
  {
   "cell_type": "markdown",
   "id": "4db3a6b9",
   "metadata": {},
   "source": [
    "**Вывод:** На этом этапе мы создали датафрейм с агрегированными данными о поездках на основе датафрейма с объединёнными данными из шага 4 и рассчитали помесячную выручку, которую принёс каждый пользователь"
   ]
  },
  {
   "cell_type": "markdown",
   "id": "41545ac0",
   "metadata": {},
   "source": [
    "## Проверка гипотез"
   ]
  },
  {
   "cell_type": "markdown",
   "id": "f3309013",
   "metadata": {},
   "source": [
    "##### Тратят ли пользователи с подпиской больше времени на поездки?"
   ]
  },
  {
   "cell_type": "markdown",
   "id": "f4b1a59d",
   "metadata": {},
   "source": [
    "Нулевая гипотеза формулируется как «Средние этих двух выборок равны». Альтернативная гипотеза - «Среднее время пользователей с подпиской больше среднего времени пользователей без подписки». Применим двухвыборочный t-тест для независимых выборок"
   ]
  },
  {
   "cell_type": "code",
   "execution_count": 93,
   "id": "159d2d22",
   "metadata": {},
   "outputs": [
    {
     "name": "stdout",
     "output_type": "stream",
     "text": [
      "p_value: 1.1814679253701353e-36\n",
      "Отвергаем нулевую гипотезу\n"
     ]
    }
   ],
   "source": [
    "# Импортируем библиотеку \n",
    "import scipy.stats as st\n",
    "\n",
    "# Задаем уровень значимости\n",
    "alpha = 0.05\n",
    "\n",
    "# Проверка гипотезы\n",
    "result_61 = st.ttest_ind(users_with_subs['duration'], users_no_subs['duration'], equal_var=False, alternative='greater')\n",
    "\n",
    "# Выводим на экран значение p_value\n",
    "print('p_value:' , result_61.pvalue)\n",
    "\n",
    "# Выводим на экран результат\n",
    "if result_61.pvalue < alpha:\n",
    "    print('Отвергаем нулевую гипотезу')\n",
    "else:\n",
    "    print('Не отвергаем нулевую гипотезу')"
   ]
  },
  {
   "cell_type": "code",
   "execution_count": 94,
   "id": "82a90abc",
   "metadata": {},
   "outputs": [
    {
     "name": "stdout",
     "output_type": "stream",
     "text": [
      "Среднее значение продолжительности поездок пользователей с подпиской = 19.04\n",
      "Среднее значение продолжительности поездок пользователей без подписки = 17.89\n"
     ]
    }
   ],
   "source": [
    "print(f\"Среднее значение продолжительности поездок пользователей с подпиской = {users_with_subs['duration'].mean().round(2)}\\n\"\n",
    "      f\"Среднее значение продолжительности поездок пользователей без подписки = {users_no_subs['duration'].mean().round(2)}\")"
   ]
  },
  {
   "cell_type": "markdown",
   "id": "5a213637",
   "metadata": {},
   "source": [
    "Cреднее время поездки пользователей с подпиской больше среднего времени поездки пользователей без подписки"
   ]
  },
  {
   "cell_type": "markdown",
   "id": "ad931a90",
   "metadata": {},
   "source": [
    "##### Cреднее расстояние, которое проезжают пользователи с подпиской за одну поездку, не превышает 3130 метров?"
   ]
  },
  {
   "cell_type": "markdown",
   "id": "98074b9b",
   "metadata": {},
   "source": [
    "Нулевая гипотеза формулируется как «Среднее расстояние пользователей с подпиской за одну поездку больше 3130 метров». Альтернативная гипотеза - «Среднее расстояние пользователей с подпиской за одну поездку меньше или равно 3130 метров». Применим одновыборочный t-тест"
   ]
  },
  {
   "cell_type": "code",
   "execution_count": 95,
   "id": "3e322294",
   "metadata": {},
   "outputs": [
    {
     "name": "stdout",
     "output_type": "stream",
     "text": [
      "p_value: 0.9195362605842414\n",
      "Не отвергаем нулевую гипотезу\n"
     ]
    }
   ],
   "source": [
    "# Проверка гипотезы \n",
    "result_62 = st.ttest_1samp(users_with_subs['distance'], 3130, alternative='greater')\n",
    "\n",
    "# Выводим на экран значение p_value\n",
    "print('p_value:' , result_62.pvalue)\n",
    "\n",
    "# Выводим на экран результат\n",
    "if result_62.pvalue < alpha:\n",
    "    print('Отвергаем нулевую гипотезу')\n",
    "else:\n",
    "    print('Не отвергаем нулевую гипотезу')"
   ]
  },
  {
   "cell_type": "code",
   "execution_count": 96,
   "id": "919ff664",
   "metadata": {},
   "outputs": [
    {
     "data": {
      "text/plain": [
       "3115.445430769231"
      ]
     },
     "execution_count": 96,
     "metadata": {},
     "output_type": "execute_result"
    }
   ],
   "source": [
    "# Проверим среднее значение для выборки\n",
    "users_with_subs['distance'].mean()"
   ]
  },
  {
   "cell_type": "markdown",
   "id": "0508bc73",
   "metadata": {},
   "source": [
    "##### Будет ли помесячная выручка от пользователей с подпиской по месяцам выше, чем выручка от пользователей без подписки?"
   ]
  },
  {
   "cell_type": "markdown",
   "id": "3aa58c26",
   "metadata": {},
   "source": [
    "Нулевая гипотеза формулируется как «Помесячная выручка от пользователей с подпиской не превышает помесячной выручки от пользователей без подписки». Альтернативная гипотеза - «Помесячная выручка от пользователей с подпиской выше помесячной выручки от пользователей без подписки». Применим двухвыборочный t-тест для независимых выборок"
   ]
  },
  {
   "cell_type": "code",
   "execution_count": 98,
   "id": "e957972a",
   "metadata": {},
   "outputs": [],
   "source": [
    "# Выделяем данные для пользователей с подпиской и без нее\n",
    "revenue_with_subs = agg_user_trips_df[agg_user_trips_df['subscription_fee'] == 199]['monthly_revenue']\n",
    "revenue_no_subs = agg_user_trips_df[agg_user_trips_df['subscription_fee'] == 0]['monthly_revenue']"
   ]
  },
  {
   "cell_type": "code",
   "execution_count": 99,
   "id": "3e5a089c",
   "metadata": {},
   "outputs": [
    {
     "name": "stdout",
     "output_type": "stream",
     "text": [
      "p_value: 8.874140893976874e-40\n",
      "Отвергаем нулевую гипотезу\n"
     ]
    }
   ],
   "source": [
    "# Проверка гипотезы\n",
    "result_63 = st.ttest_ind(revenue_with_subs, revenue_no_subs, equal_var=False, alternative='greater')\n",
    "\n",
    "# Выводим на экран значение p_value\n",
    "print('p_value:' , result_63.pvalue)\n",
    "\n",
    "# Выводим на экран результат\n",
    "if result_63.pvalue < alpha:\n",
    "    print('Отвергаем нулевую гипотезу')\n",
    "else:\n",
    "    print('Не отвергаем нулевую гипотезу')"
   ]
  },
  {
   "cell_type": "markdown",
   "id": "ddf7f915",
   "metadata": {},
   "source": [
    "##### Какой тест вам понадобился бы для проверки этой гипотезы?"
   ]
  },
  {
   "cell_type": "markdown",
   "id": "0d2a08c1",
   "metadata": {},
   "source": [
    "Представьте такую ситуацию: техническая команда сервиса обновила сервера, с которыми взаимодействует мобильное приложение. Она надеется, что из-за этого количество обращений в техподдержку значимо снизилось. Некоторый файл содержит для каждого пользователя данные о количестве обращений до обновления и после него. Какой тест вам понадобился бы для проверки этой гипотезы?"
   ]
  },
  {
   "cell_type": "markdown",
   "id": "a1493562",
   "metadata": {},
   "source": [
    "*Ответ:* Для этого следовало бы применить двухвыборочный t-тест для зависимых выборок, так как рассматривается одна и та же генеральная совокупность и некоторая переменная измерена два раза для одних и тех же объектов наблюдения — до и после какого-то изменения. Поэтому выборки обязательно должны быть одного размера и согласованы друг с другом"
   ]
  },
  {
   "cell_type": "markdown",
   "id": "46ff3591",
   "metadata": {},
   "source": [
    "**Вывод:** На этом этапе были исследованы две группы пользователей — с подпиской и без неё, и на основании имеющихся данных проверены гипотезы, которые были либо отвергнуты, либо не отвергнуты."
   ]
  },
  {
   "cell_type": "markdown",
   "id": "61213c5e",
   "metadata": {},
   "source": [
    "## Распределения"
   ]
  },
  {
   "cell_type": "markdown",
   "id": "ffb8ab2a",
   "metadata": {},
   "source": [
    "Отделу маркетинга GoFast поставили задачу: нужно провести акцию с раздачей промокодов на один бесплатный месяц подписки, в рамках которой как минимум 100 существующих клиентов должны продлить эту подписку. То есть по завершении периода действия подписки пользователь может либо отказаться от неё, либо продлить, совершив соответствующий платёж. \n",
    "Эта акция уже проводилась ранее и по итогу выяснилось, что после бесплатного пробного периода подписку продлевают \n",
    "10 % пользователей. Выясните, какое минимальное количество промокодов нужно разослать, чтобы вероятность не выполнить план была примерно \n",
    "5 %. Подберите параметры распределения, описывающего эту ситуацию, постройте график распределения и сформулируйте ответ на вопрос о количестве промокодов."
   ]
  },
  {
   "cell_type": "code",
   "execution_count": 100,
   "id": "6282614c",
   "metadata": {},
   "outputs": [
    {
     "name": "stdout",
     "output_type": "stream",
     "text": [
      "Минимальное количество промокодов, которое нужно разослать: 1161\n"
     ]
    }
   ],
   "source": [
    "from scipy.stats import binom\n",
    "\n",
    "# Вероятность продления подписки\n",
    "p = 0.1\n",
    "# Начальное значение для минимального количества промокодов\n",
    "N = 100\n",
    "# Вероятность не выполнить план\n",
    "alpha = 0.05\n",
    "# Целевая минимальная вероятность успешных продлений (хотя бы 100)\n",
    "target = 100\n",
    "\n",
    "# Создаем цикл для подбора подходящего значения параметра N\n",
    "while True:\n",
    "    cdf = binom.cdf(target - 1, N, p)\n",
    "    if cdf <= alpha:\n",
    "        break\n",
    "    N += 1\n",
    "\n",
    "print(f\"Минимальное количество промокодов, которое нужно разослать: {N}\")"
   ]
  },
  {
   "cell_type": "markdown",
   "id": "0af54ee2",
   "metadata": {},
   "source": [
    "Отдел маркетинга рассылает клиентам push-уведомления в мобильном приложении. Клиенты могут открыть его или не открывать. Известно, что уведомления открывают около 40 % получивших клиентов. Отдел планирует разослать 1 млн уведомлений. С помощью аппроксимации постройте примерный график распределения и оцените вероятность того, что уведомление откроют не более 399,5 тыс. пользователей"
   ]
  },
  {
   "cell_type": "code",
   "execution_count": 101,
   "id": "9cf575ff",
   "metadata": {},
   "outputs": [
    {
     "data": {
      "image/png": "[encoded data removed]",
      "text/plain": [
       "<Figure size 432x288 with 1 Axes>"
      ]
     },
     "metadata": {
      "needs_background": "light"
     },
     "output_type": "display_data"
    },
    {
     "name": "stdout",
     "output_type": "stream",
     "text": [
      "Вероятность того, что уведомление откроет не более 399,5 тыс. пользователей: 15.37%\n"
     ]
    }
   ],
   "source": [
    "import numpy as np\n",
    "import matplotlib.pyplot as plt\n",
    "import scipy.stats as stats\n",
    "\n",
    "# зададим функцию, которая выдаёт <num> чисел,\n",
    "# равномерно распределённых от <start> до <stop>\n",
    "def linspace(start, stop, num):\n",
    "    step = (stop - start) / (num - 1)\n",
    "    result = []\n",
    "    for i in range(num):\n",
    "        result.append(start + step * i)\n",
    "    return result\n",
    "\n",
    "# Всего уведомлений\n",
    "n = 1000000\n",
    "# Вероятность открыть уведомление\n",
    "p = 0.4\n",
    "\n",
    "# Параметры нормального распределения\n",
    "mu = n * p\n",
    "sigma = (n * p * (1 - p)) ** 0.5\n",
    "\n",
    "# границы промежутка, в котором будем строить аппроксимацию -\n",
    "# от n*p минус 4 ст.отклонения бином.распределения\n",
    "# до n*p плюс 4 ст.отклонения бином.распределения\n",
    "# (там, где вероятности значений почти не равны нулю)\n",
    "left = int(mu - 4 * sigma)\n",
    "right = int(mu + 4 * sigma)\n",
    "\n",
    "# Создаем диапазон для оси X\n",
    "x = linspace(left, right, 1000)\n",
    "\n",
    "# Рисуем график нормального распределения:\n",
    "\n",
    "theplot = plt.subplot()\n",
    "theplot.plot(x, stats.norm.pdf(x, mu, sigma))\n",
    "x_ticks = linspace(int(mu - 3 * sigma), int(mu + 3 * sigma), 10)\n",
    "theplot.set_xticks(x_ticks)\n",
    "plt.xticks(rotation=90)\n",
    "plt.show()\n",
    "\n",
    "\n",
    "# Стандартизация значения X\n",
    "z = (399500 - mu) / sigma\n",
    "\n",
    "# Вероятность того, что откроют не более 399,5 тыс. пользователей\n",
    "probability = stats.norm.cdf(z)\n",
    "print(f'Вероятность того, что уведомление откроет не более 399,5 тыс. пользователей: {probability * 100:.2f}%')\n"
   ]
  },
  {
   "cell_type": "markdown",
   "id": "ecb32c03",
   "metadata": {},
   "source": [
    "## Общий вывод"
   ]
  },
  {
   "cell_type": "markdown",
   "id": "8d36499d",
   "metadata": {},
   "source": [
    "На этапах *Загрузка данных* и *Предобработка данных* были проведены необходимые преобразования, включая изменение типа данных в столбце с датой поездки и удаление явных дубликатов.\n",
    "\n",
    "Изучив данные, мы выяснили, что информация о поездках поступает из 8 городов. Наибольшее количество поездок приходится на Пятигорск, Екатеринбург и Ростов-на-Дону. В выборке 1534 пользователя, из которых 835 не имеют подписки, что на 19% больше, чем пользователей с подпиской (699). 50% пользователей находятся в возрастной группе от 22 до 28 лет, с медианным возрастом 25 лет.\n",
    "\n",
    "Обновлённые данные показывают информацию о 18068 поездках. Среднее расстояние, преодолеваемое за одну поездку, составляет 3133 метра, с минимальным значением 0.86 метра и максимальным — 7211 метров. 50% всех поездок занимают от 2543 до 3776 метров. Среднее время поездки составляет 17.67 минуты, и 50% всех данных находятся в диапазоне от 13.6 до 21.7 минут, что подтверждает: большинство поездок совершается менее чем за треть часа.\n",
    "\n",
    "Для удобства анализа данные о пользователях, поездках и тарифах были объединены в одну таблицу. Также были созданы таблицы для пользователей с подпиской и без неё, а также агрегированные данные о поездках с помесячной выручкой.\n",
    "\n",
    "Анализ показал, что среднее время поездки пользователей с подпиской больше, чем у пользователей без подписки. Среднее расстояние, которое проезжают пользователи с подпиской, не превышает 3130 метров. А помесячная выручка от пользователей с подпиской в среднем выше, чем от пользователей без подписки."
   ]
  }
 ],
 "metadata": {
  "ExecuteTimeLog": [
   {
    "duration": 47,
    "start_time": "2025-01-09T06:55:19.784Z"
   },
   {
    "duration": 359,
    "start_time": "2025-01-09T06:55:23.134Z"
   },
   {
    "duration": 303,
    "start_time": "2025-01-09T06:55:23.495Z"
   },
   {
    "duration": 14,
    "start_time": "2025-01-09T06:55:23.800Z"
   },
   {
    "duration": 7,
    "start_time": "2025-01-09T06:55:23.816Z"
   },
   {
    "duration": 6,
    "start_time": "2025-01-09T06:55:23.824Z"
   },
   {
    "duration": 12,
    "start_time": "2025-01-09T06:56:15.407Z"
   },
   {
    "duration": 10,
    "start_time": "2025-01-09T06:56:27.305Z"
   },
   {
    "duration": 9,
    "start_time": "2025-01-09T06:56:35.846Z"
   },
   {
    "duration": 8,
    "start_time": "2025-01-09T07:02:34.058Z"
   },
   {
    "duration": 40,
    "start_time": "2025-01-09T07:03:06.953Z"
   },
   {
    "duration": 12,
    "start_time": "2025-01-09T07:03:22.540Z"
   },
   {
    "duration": 12,
    "start_time": "2025-01-09T07:03:32.381Z"
   },
   {
    "duration": 76,
    "start_time": "2025-01-09T07:03:56.809Z"
   },
   {
    "duration": 20,
    "start_time": "2025-01-09T07:04:02.696Z"
   },
   {
    "duration": 17,
    "start_time": "2025-01-09T07:04:27.390Z"
   },
   {
    "duration": 8,
    "start_time": "2025-01-09T07:05:48.888Z"
   },
   {
    "duration": 5,
    "start_time": "2025-01-09T07:05:55.705Z"
   },
   {
    "duration": 10,
    "start_time": "2025-01-09T07:06:20.232Z"
   },
   {
    "duration": 6,
    "start_time": "2025-01-09T07:08:15.941Z"
   },
   {
    "duration": 6,
    "start_time": "2025-01-09T07:11:26.924Z"
   },
   {
    "duration": 16,
    "start_time": "2025-01-09T07:11:50.152Z"
   },
   {
    "duration": 5,
    "start_time": "2025-01-09T07:13:02.422Z"
   },
   {
    "duration": 12,
    "start_time": "2025-01-09T07:13:10.619Z"
   },
   {
    "duration": 4,
    "start_time": "2025-01-09T07:15:35.426Z"
   },
   {
    "duration": 5,
    "start_time": "2025-01-09T07:15:52.226Z"
   },
   {
    "duration": 5,
    "start_time": "2025-01-09T07:16:00.667Z"
   },
   {
    "duration": 5,
    "start_time": "2025-01-09T07:16:05.821Z"
   },
   {
    "duration": 5,
    "start_time": "2025-01-09T07:16:11.862Z"
   },
   {
    "duration": 4,
    "start_time": "2025-01-09T07:16:33.829Z"
   },
   {
    "duration": 5,
    "start_time": "2025-01-09T07:17:04.770Z"
   },
   {
    "duration": 4,
    "start_time": "2025-01-09T07:17:13.912Z"
   },
   {
    "duration": 4,
    "start_time": "2025-01-09T07:17:20.824Z"
   },
   {
    "duration": 4,
    "start_time": "2025-01-09T07:17:31.133Z"
   },
   {
    "duration": 5,
    "start_time": "2025-01-09T07:17:37.555Z"
   },
   {
    "duration": 6,
    "start_time": "2025-01-09T07:18:23.041Z"
   },
   {
    "duration": 8,
    "start_time": "2025-01-09T07:21:10.428Z"
   },
   {
    "duration": 7,
    "start_time": "2025-01-09T07:21:15.120Z"
   },
   {
    "duration": 419,
    "start_time": "2025-01-09T07:22:10.563Z"
   },
   {
    "duration": 66,
    "start_time": "2025-01-09T07:22:10.984Z"
   },
   {
    "duration": 14,
    "start_time": "2025-01-09T07:22:11.052Z"
   },
   {
    "duration": 11,
    "start_time": "2025-01-09T07:22:11.067Z"
   },
   {
    "duration": 8,
    "start_time": "2025-01-09T07:22:11.080Z"
   },
   {
    "duration": 12,
    "start_time": "2025-01-09T07:22:11.089Z"
   },
   {
    "duration": 15,
    "start_time": "2025-01-09T07:22:11.102Z"
   },
   {
    "duration": 14,
    "start_time": "2025-01-09T07:22:11.118Z"
   },
   {
    "duration": 15,
    "start_time": "2025-01-09T07:22:11.133Z"
   },
   {
    "duration": 11,
    "start_time": "2025-01-09T07:22:11.149Z"
   },
   {
    "duration": 5,
    "start_time": "2025-01-09T07:22:11.161Z"
   },
   {
    "duration": 22,
    "start_time": "2025-01-09T07:22:11.167Z"
   },
   {
    "duration": 11,
    "start_time": "2025-01-09T07:22:11.190Z"
   },
   {
    "duration": 3,
    "start_time": "2025-01-09T07:28:38.316Z"
   },
   {
    "duration": 6,
    "start_time": "2025-01-09T07:28:54.571Z"
   },
   {
    "duration": 8,
    "start_time": "2025-01-09T07:29:12.122Z"
   },
   {
    "duration": 67,
    "start_time": "2025-01-09T07:29:26.881Z"
   },
   {
    "duration": 9,
    "start_time": "2025-01-09T07:29:30.949Z"
   },
   {
    "duration": 6,
    "start_time": "2025-01-09T07:30:44.774Z"
   },
   {
    "duration": 7,
    "start_time": "2025-01-09T07:30:46.310Z"
   },
   {
    "duration": 5,
    "start_time": "2025-01-09T07:33:04.954Z"
   },
   {
    "duration": 5,
    "start_time": "2025-01-09T07:33:07.348Z"
   },
   {
    "duration": 5,
    "start_time": "2025-01-09T07:42:01.830Z"
   },
   {
    "duration": 538,
    "start_time": "2025-01-09T07:42:08.808Z"
   },
   {
    "duration": 20,
    "start_time": "2025-01-09T07:42:32.779Z"
   },
   {
    "duration": 13,
    "start_time": "2025-01-09T07:43:34.797Z"
   },
   {
    "duration": 13,
    "start_time": "2025-01-09T07:44:09.648Z"
   },
   {
    "duration": 127,
    "start_time": "2025-01-09T07:44:33.048Z"
   },
   {
    "duration": 135,
    "start_time": "2025-01-09T07:44:43.893Z"
   },
   {
    "duration": 161,
    "start_time": "2025-01-09T07:44:46.972Z"
   },
   {
    "duration": 207,
    "start_time": "2025-01-09T07:45:45.134Z"
   },
   {
    "duration": 3,
    "start_time": "2025-01-09T07:46:14.675Z"
   },
   {
    "duration": 158,
    "start_time": "2025-01-09T07:46:16.773Z"
   },
   {
    "duration": 3,
    "start_time": "2025-01-09T07:46:30.927Z"
   },
   {
    "duration": 155,
    "start_time": "2025-01-09T07:46:33.159Z"
   },
   {
    "duration": 17,
    "start_time": "2025-01-09T07:47:40.302Z"
   },
   {
    "duration": 117,
    "start_time": "2025-01-09T07:48:01.344Z"
   },
   {
    "duration": 117,
    "start_time": "2025-01-09T07:48:17.940Z"
   },
   {
    "duration": 6,
    "start_time": "2025-01-09T07:48:46.408Z"
   },
   {
    "duration": 121,
    "start_time": "2025-01-09T07:49:41.291Z"
   },
   {
    "duration": 118,
    "start_time": "2025-01-09T07:50:29.741Z"
   },
   {
    "duration": 125,
    "start_time": "2025-01-09T07:50:38.255Z"
   },
   {
    "duration": 127,
    "start_time": "2025-01-09T07:50:44.244Z"
   },
   {
    "duration": 5,
    "start_time": "2025-01-09T07:51:51.280Z"
   },
   {
    "duration": 5,
    "start_time": "2025-01-09T07:52:03.148Z"
   },
   {
    "duration": 9,
    "start_time": "2025-01-09T07:52:33.569Z"
   },
   {
    "duration": 8,
    "start_time": "2025-01-09T07:52:45.130Z"
   },
   {
    "duration": 84,
    "start_time": "2025-01-09T07:52:52.755Z"
   },
   {
    "duration": 6,
    "start_time": "2025-01-09T07:53:48.767Z"
   },
   {
    "duration": 5,
    "start_time": "2025-01-09T07:53:54.729Z"
   },
   {
    "duration": 6,
    "start_time": "2025-01-09T07:57:28.529Z"
   },
   {
    "duration": 107,
    "start_time": "2025-01-09T07:57:57.771Z"
   },
   {
    "duration": 5,
    "start_time": "2025-01-09T08:01:47.904Z"
   },
   {
    "duration": 171,
    "start_time": "2025-01-09T08:01:57.185Z"
   },
   {
    "duration": 420,
    "start_time": "2025-01-09T08:02:14.162Z"
   },
   {
    "duration": 64,
    "start_time": "2025-01-09T08:02:14.584Z"
   },
   {
    "duration": 13,
    "start_time": "2025-01-09T08:02:14.650Z"
   },
   {
    "duration": 16,
    "start_time": "2025-01-09T08:02:14.665Z"
   },
   {
    "duration": 128,
    "start_time": "2025-01-09T08:02:14.683Z"
   },
   {
    "duration": 18,
    "start_time": "2025-01-09T08:02:14.813Z"
   },
   {
    "duration": 7,
    "start_time": "2025-01-09T08:02:14.832Z"
   },
   {
    "duration": 20,
    "start_time": "2025-01-09T08:02:14.840Z"
   },
   {
    "duration": 26,
    "start_time": "2025-01-09T08:02:14.862Z"
   },
   {
    "duration": 10,
    "start_time": "2025-01-09T08:02:14.890Z"
   },
   {
    "duration": 5,
    "start_time": "2025-01-09T08:02:14.901Z"
   },
   {
    "duration": 8,
    "start_time": "2025-01-09T08:02:14.907Z"
   },
   {
    "duration": 13,
    "start_time": "2025-01-09T08:02:14.916Z"
   },
   {
    "duration": 8,
    "start_time": "2025-01-09T08:02:14.932Z"
   },
   {
    "duration": 22,
    "start_time": "2025-01-09T08:02:14.941Z"
   },
   {
    "duration": 23,
    "start_time": "2025-01-09T08:02:14.964Z"
   },
   {
    "duration": 4,
    "start_time": "2025-01-09T08:02:14.988Z"
   },
   {
    "duration": 243,
    "start_time": "2025-01-09T08:02:14.993Z"
   },
   {
    "duration": 6,
    "start_time": "2025-01-09T08:02:15.237Z"
   },
   {
    "duration": 172,
    "start_time": "2025-01-09T08:02:15.244Z"
   },
   {
    "duration": 6,
    "start_time": "2025-01-09T08:02:15.418Z"
   },
   {
    "duration": 124,
    "start_time": "2025-01-09T08:02:15.426Z"
   },
   {
    "duration": 97,
    "start_time": "2025-01-09T08:02:48.634Z"
   },
   {
    "duration": 411,
    "start_time": "2025-01-09T08:02:58.167Z"
   },
   {
    "duration": 65,
    "start_time": "2025-01-09T08:02:58.580Z"
   },
   {
    "duration": 13,
    "start_time": "2025-01-09T08:02:58.646Z"
   },
   {
    "duration": 12,
    "start_time": "2025-01-09T08:02:58.661Z"
   },
   {
    "duration": 36,
    "start_time": "2025-01-09T08:02:58.675Z"
   },
   {
    "duration": 32,
    "start_time": "2025-01-09T08:02:58.712Z"
   },
   {
    "duration": 30,
    "start_time": "2025-01-09T08:02:58.746Z"
   },
   {
    "duration": 20,
    "start_time": "2025-01-09T08:02:58.778Z"
   },
   {
    "duration": 31,
    "start_time": "2025-01-09T08:02:58.800Z"
   },
   {
    "duration": 44,
    "start_time": "2025-01-09T08:02:58.833Z"
   },
   {
    "duration": 5,
    "start_time": "2025-01-09T08:02:58.879Z"
   },
   {
    "duration": 9,
    "start_time": "2025-01-09T08:02:58.885Z"
   },
   {
    "duration": 11,
    "start_time": "2025-01-09T08:02:58.895Z"
   },
   {
    "duration": 5,
    "start_time": "2025-01-09T08:02:58.907Z"
   },
   {
    "duration": 10,
    "start_time": "2025-01-09T08:02:58.914Z"
   },
   {
    "duration": 8,
    "start_time": "2025-01-09T08:02:58.926Z"
   },
   {
    "duration": 14,
    "start_time": "2025-01-09T08:02:58.936Z"
   },
   {
    "duration": 239,
    "start_time": "2025-01-09T08:02:58.951Z"
   },
   {
    "duration": 5,
    "start_time": "2025-01-09T08:02:59.192Z"
   },
   {
    "duration": 136,
    "start_time": "2025-01-09T08:02:59.199Z"
   },
   {
    "duration": 5,
    "start_time": "2025-01-09T08:02:59.337Z"
   },
   {
    "duration": 128,
    "start_time": "2025-01-09T08:02:59.343Z"
   },
   {
    "duration": 16,
    "start_time": "2025-01-09T08:04:11.019Z"
   },
   {
    "duration": 10,
    "start_time": "2025-01-09T08:04:22.226Z"
   },
   {
    "duration": 11,
    "start_time": "2025-01-09T08:04:31.930Z"
   },
   {
    "duration": 9,
    "start_time": "2025-01-09T08:04:34.624Z"
   },
   {
    "duration": 9,
    "start_time": "2025-01-09T08:04:43.577Z"
   },
   {
    "duration": 8,
    "start_time": "2025-01-09T08:04:50.831Z"
   },
   {
    "duration": 4,
    "start_time": "2025-01-09T08:06:44.802Z"
   },
   {
    "duration": 6,
    "start_time": "2025-01-09T08:06:50.621Z"
   },
   {
    "duration": 5,
    "start_time": "2025-01-09T08:07:14.946Z"
   },
   {
    "duration": 6,
    "start_time": "2025-01-09T08:07:23.551Z"
   },
   {
    "duration": 6,
    "start_time": "2025-01-09T08:07:37.967Z"
   },
   {
    "duration": 5,
    "start_time": "2025-01-09T08:11:55.870Z"
   },
   {
    "duration": 113,
    "start_time": "2025-01-09T08:12:32.255Z"
   },
   {
    "duration": 138,
    "start_time": "2025-01-09T08:12:37.783Z"
   },
   {
    "duration": 74,
    "start_time": "2025-01-09T08:13:14.768Z"
   },
   {
    "duration": 117,
    "start_time": "2025-01-09T08:13:21.320Z"
   },
   {
    "duration": 123,
    "start_time": "2025-01-09T08:14:04.640Z"
   },
   {
    "duration": 4,
    "start_time": "2025-01-09T08:14:27.849Z"
   },
   {
    "duration": 5,
    "start_time": "2025-01-09T08:14:36.129Z"
   },
   {
    "duration": 4,
    "start_time": "2025-01-09T08:15:19.204Z"
   },
   {
    "duration": 139,
    "start_time": "2025-01-09T08:15:27.296Z"
   },
   {
    "duration": 153,
    "start_time": "2025-01-09T08:15:31.735Z"
   },
   {
    "duration": 4,
    "start_time": "2025-01-09T08:16:36.977Z"
   },
   {
    "duration": 4,
    "start_time": "2025-01-09T08:16:40.894Z"
   },
   {
    "duration": 77,
    "start_time": "2025-01-09T08:17:19.931Z"
   },
   {
    "duration": 8,
    "start_time": "2025-01-09T08:23:44.474Z"
   },
   {
    "duration": 8,
    "start_time": "2025-01-09T08:29:20.660Z"
   },
   {
    "duration": 8,
    "start_time": "2025-01-09T08:29:24.300Z"
   },
   {
    "duration": 3,
    "start_time": "2025-01-09T08:29:49.700Z"
   },
   {
    "duration": 10,
    "start_time": "2025-01-09T08:29:57.194Z"
   },
   {
    "duration": 10,
    "start_time": "2025-01-09T08:30:01.531Z"
   },
   {
    "duration": 88,
    "start_time": "2025-01-09T08:42:34.028Z"
   },
   {
    "duration": 13,
    "start_time": "2025-01-09T08:43:21.285Z"
   },
   {
    "duration": 9,
    "start_time": "2025-01-09T08:44:03.145Z"
   },
   {
    "duration": 10,
    "start_time": "2025-01-09T08:44:05.263Z"
   },
   {
    "duration": 8,
    "start_time": "2025-01-09T08:44:12.782Z"
   },
   {
    "duration": 9,
    "start_time": "2025-01-09T08:44:30.976Z"
   },
   {
    "duration": 211,
    "start_time": "2025-01-09T08:44:59.779Z"
   },
   {
    "duration": 133,
    "start_time": "2025-01-09T08:45:04.198Z"
   },
   {
    "duration": 218,
    "start_time": "2025-01-09T08:45:07.958Z"
   },
   {
    "duration": 367,
    "start_time": "2025-01-09T08:50:46.720Z"
   },
   {
    "duration": 65,
    "start_time": "2025-01-09T08:50:47.089Z"
   },
   {
    "duration": 14,
    "start_time": "2025-01-09T08:50:47.156Z"
   },
   {
    "duration": 19,
    "start_time": "2025-01-09T08:50:47.171Z"
   },
   {
    "duration": 10,
    "start_time": "2025-01-09T08:50:47.191Z"
   },
   {
    "duration": 19,
    "start_time": "2025-01-09T08:50:47.203Z"
   },
   {
    "duration": 7,
    "start_time": "2025-01-09T08:50:47.223Z"
   },
   {
    "duration": 18,
    "start_time": "2025-01-09T08:50:47.231Z"
   },
   {
    "duration": 16,
    "start_time": "2025-01-09T08:50:47.251Z"
   },
   {
    "duration": 21,
    "start_time": "2025-01-09T08:50:47.269Z"
   },
   {
    "duration": 6,
    "start_time": "2025-01-09T08:50:47.291Z"
   },
   {
    "duration": 6,
    "start_time": "2025-01-09T08:50:47.299Z"
   },
   {
    "duration": 10,
    "start_time": "2025-01-09T08:50:47.306Z"
   },
   {
    "duration": 5,
    "start_time": "2025-01-09T08:50:47.319Z"
   },
   {
    "duration": 17,
    "start_time": "2025-01-09T08:50:47.325Z"
   },
   {
    "duration": 26,
    "start_time": "2025-01-09T08:50:47.343Z"
   },
   {
    "duration": 38,
    "start_time": "2025-01-09T08:50:47.370Z"
   },
   {
    "duration": 230,
    "start_time": "2025-01-09T08:50:47.410Z"
   },
   {
    "duration": 5,
    "start_time": "2025-01-09T08:50:47.642Z"
   },
   {
    "duration": 180,
    "start_time": "2025-01-09T08:50:47.648Z"
   },
   {
    "duration": 5,
    "start_time": "2025-01-09T08:50:47.830Z"
   },
   {
    "duration": 107,
    "start_time": "2025-01-09T08:50:47.836Z"
   },
   {
    "duration": 5,
    "start_time": "2025-01-09T08:50:47.945Z"
   },
   {
    "duration": 14,
    "start_time": "2025-01-09T08:50:47.951Z"
   },
   {
    "duration": 167,
    "start_time": "2025-01-09T08:50:47.966Z"
   },
   {
    "duration": 130,
    "start_time": "2025-01-09T08:50:48.134Z"
   },
   {
    "duration": 8,
    "start_time": "2025-01-09T08:50:48.265Z"
   },
   {
    "duration": 96,
    "start_time": "2025-01-09T08:50:48.274Z"
   },
   {
    "duration": 225,
    "start_time": "2025-01-09T08:50:48.372Z"
   },
   {
    "duration": 10,
    "start_time": "2025-01-09T08:50:48.599Z"
   },
   {
    "duration": 8,
    "start_time": "2025-01-09T08:50:48.611Z"
   },
   {
    "duration": 14,
    "start_time": "2025-01-09T08:50:48.620Z"
   },
   {
    "duration": 205,
    "start_time": "2025-01-09T08:52:31.611Z"
   },
   {
    "duration": 214,
    "start_time": "2025-01-09T08:52:45.093Z"
   },
   {
    "duration": 169,
    "start_time": "2025-01-09T09:04:14.943Z"
   },
   {
    "duration": 169,
    "start_time": "2025-01-09T09:04:26.928Z"
   },
   {
    "duration": 10,
    "start_time": "2025-01-09T09:05:41.929Z"
   },
   {
    "duration": 7,
    "start_time": "2025-01-09T09:05:55.410Z"
   },
   {
    "duration": 8,
    "start_time": "2025-01-09T09:06:02.448Z"
   },
   {
    "duration": 8,
    "start_time": "2025-01-09T09:06:28.614Z"
   },
   {
    "duration": 7,
    "start_time": "2025-01-09T09:06:46.469Z"
   },
   {
    "duration": 7,
    "start_time": "2025-01-09T09:06:55.008Z"
   },
   {
    "duration": 398,
    "start_time": "2025-01-09T09:07:34.016Z"
   },
   {
    "duration": 445,
    "start_time": "2025-01-09T09:08:05.171Z"
   },
   {
    "duration": 66,
    "start_time": "2025-01-09T09:08:05.618Z"
   },
   {
    "duration": 14,
    "start_time": "2025-01-09T09:08:05.685Z"
   },
   {
    "duration": 53,
    "start_time": "2025-01-09T09:08:05.701Z"
   },
   {
    "duration": 37,
    "start_time": "2025-01-09T09:08:05.755Z"
   },
   {
    "duration": 28,
    "start_time": "2025-01-09T09:08:05.793Z"
   },
   {
    "duration": 12,
    "start_time": "2025-01-09T09:08:05.823Z"
   },
   {
    "duration": 36,
    "start_time": "2025-01-09T09:08:05.837Z"
   },
   {
    "duration": 43,
    "start_time": "2025-01-09T09:08:05.874Z"
   },
   {
    "duration": 24,
    "start_time": "2025-01-09T09:08:05.920Z"
   },
   {
    "duration": 21,
    "start_time": "2025-01-09T09:08:05.946Z"
   },
   {
    "duration": 12,
    "start_time": "2025-01-09T09:08:05.969Z"
   },
   {
    "duration": 16,
    "start_time": "2025-01-09T09:08:05.983Z"
   },
   {
    "duration": 5,
    "start_time": "2025-01-09T09:08:06.000Z"
   },
   {
    "duration": 27,
    "start_time": "2025-01-09T09:08:06.006Z"
   },
   {
    "duration": 5,
    "start_time": "2025-01-09T09:08:06.035Z"
   },
   {
    "duration": 5,
    "start_time": "2025-01-09T09:08:06.041Z"
   },
   {
    "duration": 235,
    "start_time": "2025-01-09T09:08:06.047Z"
   },
   {
    "duration": 5,
    "start_time": "2025-01-09T09:08:06.284Z"
   },
   {
    "duration": 141,
    "start_time": "2025-01-09T09:08:06.290Z"
   },
   {
    "duration": 4,
    "start_time": "2025-01-09T09:08:06.433Z"
   },
   {
    "duration": 117,
    "start_time": "2025-01-09T09:08:06.439Z"
   },
   {
    "duration": 5,
    "start_time": "2025-01-09T09:08:06.558Z"
   },
   {
    "duration": 24,
    "start_time": "2025-01-09T09:08:06.564Z"
   },
   {
    "duration": 160,
    "start_time": "2025-01-09T09:08:06.589Z"
   },
   {
    "duration": 126,
    "start_time": "2025-01-09T09:08:06.750Z"
   },
   {
    "duration": 22,
    "start_time": "2025-01-09T09:08:06.877Z"
   },
   {
    "duration": 162,
    "start_time": "2025-01-09T09:08:06.901Z"
   },
   {
    "duration": 175,
    "start_time": "2025-01-09T09:08:07.064Z"
   },
   {
    "duration": 11,
    "start_time": "2025-01-09T09:08:07.240Z"
   },
   {
    "duration": 239,
    "start_time": "2025-01-09T09:08:07.252Z"
   },
   {
    "duration": 212,
    "start_time": "2025-01-09T09:08:07.493Z"
   },
   {
    "duration": 400,
    "start_time": "2025-01-09T09:08:07.707Z"
   },
   {
    "duration": 9,
    "start_time": "2025-01-09T09:08:27.043Z"
   },
   {
    "duration": 9,
    "start_time": "2025-01-09T09:08:33.024Z"
   },
   {
    "duration": 8,
    "start_time": "2025-01-09T09:08:51.374Z"
   },
   {
    "duration": 9,
    "start_time": "2025-01-09T09:08:53.039Z"
   },
   {
    "duration": 9,
    "start_time": "2025-01-09T09:09:21.379Z"
   },
   {
    "duration": 21,
    "start_time": "2025-01-09T09:16:27.766Z"
   },
   {
    "duration": 10,
    "start_time": "2025-01-09T09:16:46.726Z"
   },
   {
    "duration": 1177,
    "start_time": "2025-01-09T09:16:49.237Z"
   },
   {
    "duration": 21,
    "start_time": "2025-01-09T09:17:02.704Z"
   },
   {
    "duration": 12,
    "start_time": "2025-01-09T09:17:17.311Z"
   },
   {
    "duration": 26,
    "start_time": "2025-01-09T09:17:20.656Z"
   },
   {
    "duration": 448,
    "start_time": "2025-01-09T09:17:29.777Z"
   },
   {
    "duration": 65,
    "start_time": "2025-01-09T09:17:30.227Z"
   },
   {
    "duration": 14,
    "start_time": "2025-01-09T09:17:30.294Z"
   },
   {
    "duration": 33,
    "start_time": "2025-01-09T09:17:30.310Z"
   },
   {
    "duration": 22,
    "start_time": "2025-01-09T09:17:30.344Z"
   },
   {
    "duration": 45,
    "start_time": "2025-01-09T09:17:30.367Z"
   },
   {
    "duration": 30,
    "start_time": "2025-01-09T09:17:30.413Z"
   },
   {
    "duration": 12,
    "start_time": "2025-01-09T09:17:30.444Z"
   },
   {
    "duration": 18,
    "start_time": "2025-01-09T09:17:30.457Z"
   },
   {
    "duration": 18,
    "start_time": "2025-01-09T09:17:30.480Z"
   },
   {
    "duration": 25,
    "start_time": "2025-01-09T09:17:30.499Z"
   },
   {
    "duration": 12,
    "start_time": "2025-01-09T09:17:30.525Z"
   },
   {
    "duration": 29,
    "start_time": "2025-01-09T09:17:30.538Z"
   },
   {
    "duration": 7,
    "start_time": "2025-01-09T09:17:30.568Z"
   },
   {
    "duration": 25,
    "start_time": "2025-01-09T09:17:30.576Z"
   },
   {
    "duration": 28,
    "start_time": "2025-01-09T09:17:30.603Z"
   },
   {
    "duration": 6,
    "start_time": "2025-01-09T09:17:30.632Z"
   },
   {
    "duration": 235,
    "start_time": "2025-01-09T09:17:30.639Z"
   },
   {
    "duration": 5,
    "start_time": "2025-01-09T09:17:30.875Z"
   },
   {
    "duration": 143,
    "start_time": "2025-01-09T09:17:30.881Z"
   },
   {
    "duration": 6,
    "start_time": "2025-01-09T09:17:31.025Z"
   },
   {
    "duration": 113,
    "start_time": "2025-01-09T09:17:31.032Z"
   },
   {
    "duration": 6,
    "start_time": "2025-01-09T09:17:31.146Z"
   },
   {
    "duration": 40,
    "start_time": "2025-01-09T09:17:31.153Z"
   },
   {
    "duration": 156,
    "start_time": "2025-01-09T09:17:31.195Z"
   },
   {
    "duration": 118,
    "start_time": "2025-01-09T09:17:31.353Z"
   },
   {
    "duration": 16,
    "start_time": "2025-01-09T09:17:31.472Z"
   },
   {
    "duration": 96,
    "start_time": "2025-01-09T09:17:31.491Z"
   },
   {
    "duration": 177,
    "start_time": "2025-01-09T09:17:31.589Z"
   },
   {
    "duration": 26,
    "start_time": "2025-01-09T09:17:31.768Z"
   },
   {
    "duration": 47,
    "start_time": "2025-01-09T09:17:31.795Z"
   },
   {
    "duration": 202,
    "start_time": "2025-01-09T09:17:31.843Z"
   },
   {
    "duration": 218,
    "start_time": "2025-01-09T09:17:32.046Z"
   },
   {
    "duration": 10,
    "start_time": "2025-01-09T09:18:57.715Z"
   },
   {
    "duration": 6,
    "start_time": "2025-01-09T09:19:13.094Z"
   },
   {
    "duration": 9,
    "start_time": "2025-01-09T09:19:15.567Z"
   },
   {
    "duration": 9,
    "start_time": "2025-01-09T09:19:22.729Z"
   },
   {
    "duration": 8,
    "start_time": "2025-01-09T09:19:38.845Z"
   },
   {
    "duration": 9,
    "start_time": "2025-01-09T09:20:51.473Z"
   },
   {
    "duration": 10,
    "start_time": "2025-01-09T09:21:02.565Z"
   },
   {
    "duration": 7,
    "start_time": "2025-01-09T09:21:58.178Z"
   },
   {
    "duration": 176,
    "start_time": "2025-01-09T09:29:03.785Z"
   },
   {
    "duration": 246,
    "start_time": "2025-01-09T09:29:09.931Z"
   },
   {
    "duration": 7,
    "start_time": "2025-01-09T09:53:07.884Z"
   },
   {
    "duration": 9,
    "start_time": "2025-01-09T09:54:24.531Z"
   },
   {
    "duration": 91,
    "start_time": "2025-01-09T09:54:52.700Z"
   },
   {
    "duration": 7,
    "start_time": "2025-01-09T09:55:40.602Z"
   },
   {
    "duration": 11,
    "start_time": "2025-01-09T09:55:55.149Z"
   },
   {
    "duration": 11,
    "start_time": "2025-01-09T09:56:05.259Z"
   },
   {
    "duration": 14,
    "start_time": "2025-01-09T09:56:10.480Z"
   },
   {
    "duration": 14,
    "start_time": "2025-01-09T09:56:26.676Z"
   },
   {
    "duration": 9,
    "start_time": "2025-01-09T09:56:45.044Z"
   },
   {
    "duration": 13,
    "start_time": "2025-01-09T09:59:12.837Z"
   },
   {
    "duration": 9,
    "start_time": "2025-01-09T09:59:29.866Z"
   },
   {
    "duration": 12,
    "start_time": "2025-01-09T10:00:39.122Z"
   },
   {
    "duration": 77,
    "start_time": "2025-01-09T10:04:34.456Z"
   },
   {
    "duration": 8,
    "start_time": "2025-01-09T10:05:00.039Z"
   },
   {
    "duration": 6,
    "start_time": "2025-01-09T10:08:16.449Z"
   },
   {
    "duration": 6,
    "start_time": "2025-01-09T10:08:21.454Z"
   },
   {
    "duration": 8,
    "start_time": "2025-01-09T10:16:07.331Z"
   },
   {
    "duration": 11,
    "start_time": "2025-01-09T10:16:17.737Z"
   },
   {
    "duration": 11,
    "start_time": "2025-01-09T10:16:33.525Z"
   },
   {
    "duration": 12,
    "start_time": "2025-01-09T10:19:00.609Z"
   },
   {
    "duration": 13,
    "start_time": "2025-01-09T10:19:04.189Z"
   },
   {
    "duration": 9,
    "start_time": "2025-01-09T10:19:10.441Z"
   },
   {
    "duration": 8,
    "start_time": "2025-01-09T10:21:53.305Z"
   },
   {
    "duration": 10,
    "start_time": "2025-01-09T10:22:24.619Z"
   },
   {
    "duration": 22,
    "start_time": "2025-01-09T10:23:05.590Z"
   },
   {
    "duration": 8,
    "start_time": "2025-01-09T10:23:23.718Z"
   },
   {
    "duration": 8,
    "start_time": "2025-01-09T10:23:43.598Z"
   },
   {
    "duration": 11,
    "start_time": "2025-01-09T10:24:08.180Z"
   },
   {
    "duration": 11,
    "start_time": "2025-01-09T10:26:26.064Z"
   },
   {
    "duration": 11,
    "start_time": "2025-01-09T10:27:21.893Z"
   },
   {
    "duration": 11,
    "start_time": "2025-01-09T10:27:28.836Z"
   },
   {
    "duration": 7,
    "start_time": "2025-01-09T10:28:38.632Z"
   },
   {
    "duration": 6,
    "start_time": "2025-01-09T10:28:49.550Z"
   },
   {
    "duration": 11,
    "start_time": "2025-01-09T10:29:14.274Z"
   },
   {
    "duration": 11,
    "start_time": "2025-01-09T10:30:08.413Z"
   },
   {
    "duration": 5,
    "start_time": "2025-01-09T10:34:08.347Z"
   },
   {
    "duration": 6,
    "start_time": "2025-01-09T10:34:11.463Z"
   },
   {
    "duration": 416,
    "start_time": "2025-01-09T10:35:23.370Z"
   },
   {
    "duration": 64,
    "start_time": "2025-01-09T10:35:23.788Z"
   },
   {
    "duration": 13,
    "start_time": "2025-01-09T10:35:23.854Z"
   },
   {
    "duration": 10,
    "start_time": "2025-01-09T10:35:23.869Z"
   },
   {
    "duration": 28,
    "start_time": "2025-01-09T10:35:23.880Z"
   },
   {
    "duration": 11,
    "start_time": "2025-01-09T10:35:23.909Z"
   },
   {
    "duration": 6,
    "start_time": "2025-01-09T10:35:23.922Z"
   },
   {
    "duration": 14,
    "start_time": "2025-01-09T10:35:23.929Z"
   },
   {
    "duration": 18,
    "start_time": "2025-01-09T10:35:23.945Z"
   },
   {
    "duration": 10,
    "start_time": "2025-01-09T10:35:23.965Z"
   },
   {
    "duration": 5,
    "start_time": "2025-01-09T10:35:23.976Z"
   },
   {
    "duration": 4,
    "start_time": "2025-01-09T10:35:23.987Z"
   },
   {
    "duration": 10,
    "start_time": "2025-01-09T10:35:23.992Z"
   },
   {
    "duration": 4,
    "start_time": "2025-01-09T10:35:24.004Z"
   },
   {
    "duration": 7,
    "start_time": "2025-01-09T10:35:24.010Z"
   },
   {
    "duration": 4,
    "start_time": "2025-01-09T10:35:24.019Z"
   },
   {
    "duration": 13,
    "start_time": "2025-01-09T10:35:24.024Z"
   },
   {
    "duration": 242,
    "start_time": "2025-01-09T10:35:24.039Z"
   },
   {
    "duration": 5,
    "start_time": "2025-01-09T10:35:24.283Z"
   },
   {
    "duration": 142,
    "start_time": "2025-01-09T10:35:24.289Z"
   },
   {
    "duration": 5,
    "start_time": "2025-01-09T10:35:24.433Z"
   },
   {
    "duration": 115,
    "start_time": "2025-01-09T10:35:24.440Z"
   },
   {
    "duration": 5,
    "start_time": "2025-01-09T10:35:24.557Z"
   },
   {
    "duration": 10,
    "start_time": "2025-01-09T10:35:24.564Z"
   },
   {
    "duration": 157,
    "start_time": "2025-01-09T10:35:24.586Z"
   },
   {
    "duration": 6,
    "start_time": "2025-01-09T10:35:24.744Z"
   },
   {
    "duration": 135,
    "start_time": "2025-01-09T10:35:24.751Z"
   },
   {
    "duration": 7,
    "start_time": "2025-01-09T10:35:24.890Z"
   },
   {
    "duration": 99,
    "start_time": "2025-01-09T10:35:24.898Z"
   },
   {
    "duration": 11,
    "start_time": "2025-01-09T10:35:24.999Z"
   },
   {
    "duration": 6,
    "start_time": "2025-01-09T10:35:25.012Z"
   },
   {
    "duration": 20,
    "start_time": "2025-01-09T10:35:25.020Z"
   },
   {
    "duration": 183,
    "start_time": "2025-01-09T10:35:25.042Z"
   },
   {
    "duration": 15,
    "start_time": "2025-01-09T10:35:25.227Z"
   },
   {
    "duration": 236,
    "start_time": "2025-01-09T10:35:25.243Z"
   },
   {
    "duration": 206,
    "start_time": "2025-01-09T10:35:25.480Z"
   },
   {
    "duration": 7,
    "start_time": "2025-01-09T10:35:25.688Z"
   },
   {
    "duration": 101,
    "start_time": "2025-01-09T10:35:25.697Z"
   },
   {
    "duration": 14,
    "start_time": "2025-01-09T10:35:25.799Z"
   },
   {
    "duration": 10,
    "start_time": "2025-01-09T10:35:25.814Z"
   },
   {
    "duration": 6,
    "start_time": "2025-01-09T10:40:58.144Z"
   },
   {
    "duration": 6,
    "start_time": "2025-01-09T10:41:11.370Z"
   },
   {
    "duration": 11,
    "start_time": "2025-01-09T10:41:15.053Z"
   },
   {
    "duration": 11,
    "start_time": "2025-01-09T10:41:22.240Z"
   },
   {
    "duration": 11,
    "start_time": "2025-01-09T10:41:47.069Z"
   },
   {
    "duration": 5,
    "start_time": "2025-01-09T10:42:17.765Z"
   },
   {
    "duration": 6,
    "start_time": "2025-01-09T10:42:30.559Z"
   },
   {
    "duration": 6,
    "start_time": "2025-01-09T10:42:35.726Z"
   },
   {
    "duration": 10,
    "start_time": "2025-01-09T10:43:05.213Z"
   },
   {
    "duration": 11,
    "start_time": "2025-01-09T10:45:07.759Z"
   },
   {
    "duration": 6,
    "start_time": "2025-01-09T10:46:38.719Z"
   },
   {
    "duration": 10,
    "start_time": "2025-01-09T10:46:40.205Z"
   },
   {
    "duration": 5,
    "start_time": "2025-01-09T10:47:11.811Z"
   },
   {
    "duration": 11,
    "start_time": "2025-01-09T10:47:18.019Z"
   },
   {
    "duration": 10,
    "start_time": "2025-01-09T10:47:59.328Z"
   },
   {
    "duration": 9,
    "start_time": "2025-01-09T10:48:03.115Z"
   },
   {
    "duration": 10,
    "start_time": "2025-01-09T10:50:31.066Z"
   },
   {
    "duration": 10,
    "start_time": "2025-01-09T10:50:40.979Z"
   },
   {
    "duration": 11,
    "start_time": "2025-01-09T10:51:58.855Z"
   },
   {
    "duration": 522,
    "start_time": "2025-01-09T10:52:15.702Z"
   },
   {
    "duration": 140,
    "start_time": "2025-01-09T10:52:25.550Z"
   },
   {
    "duration": 136,
    "start_time": "2025-01-09T10:52:35.726Z"
   },
   {
    "duration": 6,
    "start_time": "2025-01-09T10:58:41.295Z"
   },
   {
    "duration": 12,
    "start_time": "2025-01-09T10:58:51.702Z"
   },
   {
    "duration": 21,
    "start_time": "2025-01-09T10:59:04.384Z"
   },
   {
    "duration": 15,
    "start_time": "2025-01-09T10:59:22.373Z"
   },
   {
    "duration": 8,
    "start_time": "2025-01-09T11:00:18.372Z"
   },
   {
    "duration": 14,
    "start_time": "2025-01-09T11:01:01.232Z"
   },
   {
    "duration": 6,
    "start_time": "2025-01-09T11:02:15.588Z"
   },
   {
    "duration": 7,
    "start_time": "2025-01-09T11:02:16.998Z"
   },
   {
    "duration": 7,
    "start_time": "2025-01-09T11:03:03.102Z"
   },
   {
    "duration": 8,
    "start_time": "2025-01-09T11:03:09.166Z"
   },
   {
    "duration": 398,
    "start_time": "2025-01-09T11:05:41.315Z"
   },
   {
    "duration": 65,
    "start_time": "2025-01-09T11:05:41.715Z"
   },
   {
    "duration": 15,
    "start_time": "2025-01-09T11:05:41.782Z"
   },
   {
    "duration": 11,
    "start_time": "2025-01-09T11:05:41.799Z"
   },
   {
    "duration": 8,
    "start_time": "2025-01-09T11:05:41.811Z"
   },
   {
    "duration": 11,
    "start_time": "2025-01-09T11:05:41.821Z"
   },
   {
    "duration": 6,
    "start_time": "2025-01-09T11:05:41.833Z"
   },
   {
    "duration": 45,
    "start_time": "2025-01-09T11:05:41.841Z"
   },
   {
    "duration": 31,
    "start_time": "2025-01-09T11:05:41.888Z"
   },
   {
    "duration": 8,
    "start_time": "2025-01-09T11:05:41.922Z"
   },
   {
    "duration": 12,
    "start_time": "2025-01-09T11:05:41.932Z"
   },
   {
    "duration": 18,
    "start_time": "2025-01-09T11:05:41.946Z"
   },
   {
    "duration": 16,
    "start_time": "2025-01-09T11:05:41.966Z"
   },
   {
    "duration": 5,
    "start_time": "2025-01-09T11:05:41.984Z"
   },
   {
    "duration": 13,
    "start_time": "2025-01-09T11:05:41.991Z"
   },
   {
    "duration": 9,
    "start_time": "2025-01-09T11:05:42.006Z"
   },
   {
    "duration": 6,
    "start_time": "2025-01-09T11:05:42.016Z"
   },
   {
    "duration": 254,
    "start_time": "2025-01-09T11:05:42.023Z"
   },
   {
    "duration": 10,
    "start_time": "2025-01-09T11:05:42.280Z"
   },
   {
    "duration": 148,
    "start_time": "2025-01-09T11:05:42.291Z"
   },
   {
    "duration": 5,
    "start_time": "2025-01-09T11:05:42.440Z"
   },
   {
    "duration": 113,
    "start_time": "2025-01-09T11:05:42.447Z"
   },
   {
    "duration": 5,
    "start_time": "2025-01-09T11:05:42.562Z"
   },
   {
    "duration": 22,
    "start_time": "2025-01-09T11:05:42.569Z"
   },
   {
    "duration": 175,
    "start_time": "2025-01-09T11:05:42.592Z"
   },
   {
    "duration": 6,
    "start_time": "2025-01-09T11:05:42.769Z"
   },
   {
    "duration": 128,
    "start_time": "2025-01-09T11:05:42.785Z"
   },
   {
    "duration": 8,
    "start_time": "2025-01-09T11:05:42.917Z"
   },
   {
    "duration": 117,
    "start_time": "2025-01-09T11:05:42.926Z"
   },
   {
    "duration": 10,
    "start_time": "2025-01-09T11:05:43.045Z"
   },
   {
    "duration": 14,
    "start_time": "2025-01-09T11:05:43.056Z"
   },
   {
    "duration": 15,
    "start_time": "2025-01-09T11:05:43.071Z"
   },
   {
    "duration": 5,
    "start_time": "2025-01-09T11:05:43.088Z"
   },
   {
    "duration": 17,
    "start_time": "2025-01-09T11:05:43.094Z"
   },
   {
    "duration": 8,
    "start_time": "2025-01-09T11:05:43.113Z"
   },
   {
    "duration": 17,
    "start_time": "2025-01-09T11:05:43.123Z"
   },
   {
    "duration": 7,
    "start_time": "2025-01-09T11:05:43.142Z"
   },
   {
    "duration": 215,
    "start_time": "2025-01-09T11:05:43.150Z"
   },
   {
    "duration": 193,
    "start_time": "2025-01-09T11:05:43.366Z"
   },
   {
    "duration": 188,
    "start_time": "2025-01-09T11:05:43.561Z"
   },
   {
    "duration": 8,
    "start_time": "2025-01-09T11:05:43.750Z"
   },
   {
    "duration": 120,
    "start_time": "2025-01-09T11:05:43.760Z"
   },
   {
    "duration": 21,
    "start_time": "2025-01-09T11:05:43.886Z"
   },
   {
    "duration": 9,
    "start_time": "2025-01-09T11:05:43.909Z"
   },
   {
    "duration": 9,
    "start_time": "2025-01-09T11:06:00.275Z"
   },
   {
    "duration": 7,
    "start_time": "2025-01-09T11:06:21.650Z"
   },
   {
    "duration": 9,
    "start_time": "2025-01-09T11:06:25.555Z"
   },
   {
    "duration": 9,
    "start_time": "2025-01-09T11:09:40.597Z"
   },
   {
    "duration": 7,
    "start_time": "2025-01-09T11:09:51.774Z"
   },
   {
    "duration": 7,
    "start_time": "2025-01-09T11:12:07.797Z"
   },
   {
    "duration": 4,
    "start_time": "2025-01-09T11:12:36.698Z"
   },
   {
    "duration": 410,
    "start_time": "2025-01-09T11:12:56.576Z"
   },
   {
    "duration": 64,
    "start_time": "2025-01-09T11:12:56.988Z"
   },
   {
    "duration": 14,
    "start_time": "2025-01-09T11:12:57.053Z"
   },
   {
    "duration": 9,
    "start_time": "2025-01-09T11:12:57.069Z"
   },
   {
    "duration": 8,
    "start_time": "2025-01-09T11:12:57.079Z"
   },
   {
    "duration": 24,
    "start_time": "2025-01-09T11:12:57.088Z"
   },
   {
    "duration": 11,
    "start_time": "2025-01-09T11:12:57.114Z"
   },
   {
    "duration": 28,
    "start_time": "2025-01-09T11:12:57.127Z"
   },
   {
    "duration": 25,
    "start_time": "2025-01-09T11:12:57.157Z"
   },
   {
    "duration": 10,
    "start_time": "2025-01-09T11:12:57.186Z"
   },
   {
    "duration": 7,
    "start_time": "2025-01-09T11:12:57.197Z"
   },
   {
    "duration": 14,
    "start_time": "2025-01-09T11:12:57.205Z"
   },
   {
    "duration": 17,
    "start_time": "2025-01-09T11:12:57.220Z"
   },
   {
    "duration": 5,
    "start_time": "2025-01-09T11:12:57.238Z"
   },
   {
    "duration": 7,
    "start_time": "2025-01-09T11:12:57.245Z"
   },
   {
    "duration": 5,
    "start_time": "2025-01-09T11:12:57.254Z"
   },
   {
    "duration": 28,
    "start_time": "2025-01-09T11:12:57.260Z"
   },
   {
    "duration": 234,
    "start_time": "2025-01-09T11:12:57.289Z"
   },
   {
    "duration": 7,
    "start_time": "2025-01-09T11:12:57.525Z"
   },
   {
    "duration": 149,
    "start_time": "2025-01-09T11:12:57.534Z"
   },
   {
    "duration": 6,
    "start_time": "2025-01-09T11:12:57.685Z"
   },
   {
    "duration": 116,
    "start_time": "2025-01-09T11:12:57.693Z"
   },
   {
    "duration": 6,
    "start_time": "2025-01-09T11:12:57.811Z"
   },
   {
    "duration": 8,
    "start_time": "2025-01-09T11:12:57.818Z"
   },
   {
    "duration": 173,
    "start_time": "2025-01-09T11:12:57.827Z"
   },
   {
    "duration": 6,
    "start_time": "2025-01-09T11:12:58.001Z"
   },
   {
    "duration": 132,
    "start_time": "2025-01-09T11:12:58.008Z"
   },
   {
    "duration": 7,
    "start_time": "2025-01-09T11:12:58.143Z"
   },
   {
    "duration": 103,
    "start_time": "2025-01-09T11:12:58.152Z"
   },
   {
    "duration": 9,
    "start_time": "2025-01-09T11:12:58.257Z"
   },
   {
    "duration": 20,
    "start_time": "2025-01-09T11:12:58.267Z"
   },
   {
    "duration": 31,
    "start_time": "2025-01-09T11:12:58.288Z"
   },
   {
    "duration": 10,
    "start_time": "2025-01-09T11:12:58.320Z"
   },
   {
    "duration": 12,
    "start_time": "2025-01-09T11:12:58.331Z"
   },
   {
    "duration": 10,
    "start_time": "2025-01-09T11:12:58.345Z"
   },
   {
    "duration": 26,
    "start_time": "2025-01-09T11:12:58.357Z"
   },
   {
    "duration": 9,
    "start_time": "2025-01-09T11:12:58.384Z"
   },
   {
    "duration": 32,
    "start_time": "2025-01-09T11:12:58.394Z"
   },
   {
    "duration": 19,
    "start_time": "2025-01-09T11:12:58.428Z"
   },
   {
    "duration": 180,
    "start_time": "2025-01-09T11:12:58.448Z"
   },
   {
    "duration": 187,
    "start_time": "2025-01-09T11:12:58.630Z"
   },
   {
    "duration": 178,
    "start_time": "2025-01-09T11:12:58.819Z"
   },
   {
    "duration": 8,
    "start_time": "2025-01-09T11:12:58.998Z"
   },
   {
    "duration": 104,
    "start_time": "2025-01-09T11:12:59.008Z"
   },
   {
    "duration": 13,
    "start_time": "2025-01-09T11:12:59.114Z"
   },
   {
    "duration": 26,
    "start_time": "2025-01-09T11:12:59.129Z"
   },
   {
    "duration": 7,
    "start_time": "2025-01-09T11:15:01.904Z"
   },
   {
    "duration": 7,
    "start_time": "2025-01-09T11:15:05.825Z"
   },
   {
    "duration": 13,
    "start_time": "2025-01-09T11:15:42.604Z"
   },
   {
    "duration": 8,
    "start_time": "2025-01-09T11:15:48.944Z"
   },
   {
    "duration": 6,
    "start_time": "2025-01-09T11:16:26.080Z"
   },
   {
    "duration": 399,
    "start_time": "2025-01-09T11:16:33.688Z"
   },
   {
    "duration": 68,
    "start_time": "2025-01-09T11:16:34.088Z"
   },
   {
    "duration": 20,
    "start_time": "2025-01-09T11:16:34.158Z"
   },
   {
    "duration": 13,
    "start_time": "2025-01-09T11:16:34.180Z"
   },
   {
    "duration": 110,
    "start_time": "2025-01-09T11:16:34.195Z"
   },
   {
    "duration": 19,
    "start_time": "2025-01-09T11:16:34.307Z"
   },
   {
    "duration": 9,
    "start_time": "2025-01-09T11:16:34.328Z"
   },
   {
    "duration": 11,
    "start_time": "2025-01-09T11:16:34.338Z"
   },
   {
    "duration": 13,
    "start_time": "2025-01-09T11:16:34.351Z"
   },
   {
    "duration": 10,
    "start_time": "2025-01-09T11:16:34.366Z"
   },
   {
    "duration": 17,
    "start_time": "2025-01-09T11:16:34.377Z"
   },
   {
    "duration": 33,
    "start_time": "2025-01-09T11:16:34.396Z"
   },
   {
    "duration": 40,
    "start_time": "2025-01-09T11:16:34.431Z"
   },
   {
    "duration": 21,
    "start_time": "2025-01-09T11:16:34.474Z"
   },
   {
    "duration": 20,
    "start_time": "2025-01-09T11:16:34.498Z"
   },
   {
    "duration": 13,
    "start_time": "2025-01-09T11:16:34.520Z"
   },
   {
    "duration": 30,
    "start_time": "2025-01-09T11:16:34.534Z"
   },
   {
    "duration": 245,
    "start_time": "2025-01-09T11:16:34.566Z"
   },
   {
    "duration": 6,
    "start_time": "2025-01-09T11:16:34.813Z"
   },
   {
    "duration": 147,
    "start_time": "2025-01-09T11:16:34.820Z"
   },
   {
    "duration": 6,
    "start_time": "2025-01-09T11:16:34.968Z"
   },
   {
    "duration": 142,
    "start_time": "2025-01-09T11:16:34.986Z"
   },
   {
    "duration": 6,
    "start_time": "2025-01-09T11:16:35.129Z"
   },
   {
    "duration": 20,
    "start_time": "2025-01-09T11:16:35.137Z"
   },
   {
    "duration": 161,
    "start_time": "2025-01-09T11:16:35.158Z"
   },
   {
    "duration": 6,
    "start_time": "2025-01-09T11:16:35.320Z"
   },
   {
    "duration": 132,
    "start_time": "2025-01-09T11:16:35.327Z"
   },
   {
    "duration": 8,
    "start_time": "2025-01-09T11:16:35.461Z"
   },
   {
    "duration": 123,
    "start_time": "2025-01-09T11:16:35.470Z"
   },
   {
    "duration": 20,
    "start_time": "2025-01-09T11:16:35.595Z"
   },
   {
    "duration": 30,
    "start_time": "2025-01-09T11:16:35.617Z"
   },
   {
    "duration": 93,
    "start_time": "2025-01-09T11:16:35.649Z"
   },
   {
    "duration": 25,
    "start_time": "2025-01-09T11:16:35.743Z"
   },
   {
    "duration": 23,
    "start_time": "2025-01-09T11:16:35.769Z"
   },
   {
    "duration": 37,
    "start_time": "2025-01-09T11:16:35.794Z"
   },
   {
    "duration": 78,
    "start_time": "2025-01-09T11:16:35.833Z"
   },
   {
    "duration": 214,
    "start_time": "2025-01-09T11:16:35.913Z"
   },
   {
    "duration": 54,
    "start_time": "2025-01-09T11:16:36.128Z"
   },
   {
    "duration": 39,
    "start_time": "2025-01-09T11:16:36.184Z"
   },
   {
    "duration": 271,
    "start_time": "2025-01-09T11:16:36.225Z"
   },
   {
    "duration": 191,
    "start_time": "2025-01-09T11:16:36.501Z"
   },
   {
    "duration": 194,
    "start_time": "2025-01-09T11:16:36.694Z"
   },
   {
    "duration": 9,
    "start_time": "2025-01-09T11:16:36.889Z"
   },
   {
    "duration": 107,
    "start_time": "2025-01-09T11:16:36.900Z"
   },
   {
    "duration": 14,
    "start_time": "2025-01-09T11:16:37.009Z"
   },
   {
    "duration": 20,
    "start_time": "2025-01-09T11:16:37.024Z"
   },
   {
    "duration": 20,
    "start_time": "2025-01-09T11:25:35.282Z"
   },
   {
    "duration": 9,
    "start_time": "2025-01-09T11:25:50.826Z"
   },
   {
    "duration": 439,
    "start_time": "2025-01-09T11:27:21.351Z"
   },
   {
    "duration": 65,
    "start_time": "2025-01-09T11:27:21.792Z"
   },
   {
    "duration": 14,
    "start_time": "2025-01-09T11:27:21.859Z"
   },
   {
    "duration": 19,
    "start_time": "2025-01-09T11:27:21.875Z"
   },
   {
    "duration": 18,
    "start_time": "2025-01-09T11:27:21.896Z"
   },
   {
    "duration": 22,
    "start_time": "2025-01-09T11:27:21.916Z"
   },
   {
    "duration": 18,
    "start_time": "2025-01-09T11:27:21.940Z"
   },
   {
    "duration": 27,
    "start_time": "2025-01-09T11:27:21.959Z"
   },
   {
    "duration": 35,
    "start_time": "2025-01-09T11:27:21.988Z"
   },
   {
    "duration": 11,
    "start_time": "2025-01-09T11:27:22.026Z"
   },
   {
    "duration": 21,
    "start_time": "2025-01-09T11:27:22.039Z"
   },
   {
    "duration": 6,
    "start_time": "2025-01-09T11:27:22.061Z"
   },
   {
    "duration": 11,
    "start_time": "2025-01-09T11:27:22.068Z"
   },
   {
    "duration": 17,
    "start_time": "2025-01-09T11:27:22.081Z"
   },
   {
    "duration": 25,
    "start_time": "2025-01-09T11:27:22.099Z"
   },
   {
    "duration": 8,
    "start_time": "2025-01-09T11:27:22.126Z"
   },
   {
    "duration": 19,
    "start_time": "2025-01-09T11:27:22.135Z"
   },
   {
    "duration": 237,
    "start_time": "2025-01-09T11:27:22.155Z"
   },
   {
    "duration": 5,
    "start_time": "2025-01-09T11:27:22.394Z"
   },
   {
    "duration": 154,
    "start_time": "2025-01-09T11:27:22.401Z"
   },
   {
    "duration": 6,
    "start_time": "2025-01-09T11:27:22.556Z"
   },
   {
    "duration": 124,
    "start_time": "2025-01-09T11:27:22.563Z"
   },
   {
    "duration": 7,
    "start_time": "2025-01-09T11:27:22.689Z"
   },
   {
    "duration": 10,
    "start_time": "2025-01-09T11:27:22.697Z"
   },
   {
    "duration": 180,
    "start_time": "2025-01-09T11:27:22.708Z"
   },
   {
    "duration": 6,
    "start_time": "2025-01-09T11:27:22.890Z"
   },
   {
    "duration": 138,
    "start_time": "2025-01-09T11:27:22.897Z"
   },
   {
    "duration": 8,
    "start_time": "2025-01-09T11:27:23.039Z"
   },
   {
    "duration": 135,
    "start_time": "2025-01-09T11:27:23.048Z"
   },
   {
    "duration": 9,
    "start_time": "2025-01-09T11:27:23.185Z"
   },
   {
    "duration": 21,
    "start_time": "2025-01-09T11:27:23.195Z"
   },
   {
    "duration": 7,
    "start_time": "2025-01-09T11:27:23.217Z"
   },
   {
    "duration": 17,
    "start_time": "2025-01-09T11:27:23.226Z"
   },
   {
    "duration": 24,
    "start_time": "2025-01-09T11:27:23.245Z"
   },
   {
    "duration": 14,
    "start_time": "2025-01-09T11:27:23.270Z"
   },
   {
    "duration": 15,
    "start_time": "2025-01-09T11:27:23.286Z"
   },
   {
    "duration": 8,
    "start_time": "2025-01-09T11:27:23.302Z"
   },
   {
    "duration": 7,
    "start_time": "2025-01-09T11:27:23.312Z"
   },
   {
    "duration": 26,
    "start_time": "2025-01-09T11:27:23.321Z"
   },
   {
    "duration": 190,
    "start_time": "2025-01-09T11:27:23.349Z"
   },
   {
    "duration": 189,
    "start_time": "2025-01-09T11:27:23.541Z"
   },
   {
    "duration": 177,
    "start_time": "2025-01-09T11:27:23.731Z"
   },
   {
    "duration": 7,
    "start_time": "2025-01-09T11:27:23.910Z"
   },
   {
    "duration": 22,
    "start_time": "2025-01-09T11:27:23.919Z"
   },
   {
    "duration": 110,
    "start_time": "2025-01-09T11:27:23.942Z"
   },
   {
    "duration": 13,
    "start_time": "2025-01-09T11:27:24.054Z"
   },
   {
    "duration": 21,
    "start_time": "2025-01-09T11:27:24.069Z"
   },
   {
    "duration": 455,
    "start_time": "2025-01-10T06:54:30.242Z"
   },
   {
    "duration": 304,
    "start_time": "2025-01-10T06:54:30.699Z"
   },
   {
    "duration": 16,
    "start_time": "2025-01-10T06:54:31.005Z"
   },
   {
    "duration": 32,
    "start_time": "2025-01-10T06:54:31.024Z"
   },
   {
    "duration": 18,
    "start_time": "2025-01-10T06:54:31.058Z"
   },
   {
    "duration": 35,
    "start_time": "2025-01-10T06:54:31.078Z"
   },
   {
    "duration": 8,
    "start_time": "2025-01-10T06:54:31.115Z"
   },
   {
    "duration": 26,
    "start_time": "2025-01-10T06:54:31.124Z"
   },
   {
    "duration": 30,
    "start_time": "2025-01-10T06:54:31.152Z"
   },
   {
    "duration": 11,
    "start_time": "2025-01-10T06:54:31.186Z"
   },
   {
    "duration": 14,
    "start_time": "2025-01-10T06:54:31.199Z"
   },
   {
    "duration": 7,
    "start_time": "2025-01-10T06:54:31.215Z"
   },
   {
    "duration": 37,
    "start_time": "2025-01-10T06:54:31.224Z"
   },
   {
    "duration": 10,
    "start_time": "2025-01-10T06:54:31.263Z"
   },
   {
    "duration": 21,
    "start_time": "2025-01-10T06:54:31.275Z"
   },
   {
    "duration": 19,
    "start_time": "2025-01-10T06:54:31.298Z"
   },
   {
    "duration": 56,
    "start_time": "2025-01-10T06:54:31.319Z"
   },
   {
    "duration": 472,
    "start_time": "2025-01-10T06:54:31.377Z"
   },
   {
    "duration": 14,
    "start_time": "2025-01-10T06:54:31.851Z"
   },
   {
    "duration": 181,
    "start_time": "2025-01-10T06:54:31.866Z"
   },
   {
    "duration": 10,
    "start_time": "2025-01-10T06:54:32.049Z"
   },
   {
    "duration": 139,
    "start_time": "2025-01-10T06:54:32.061Z"
   },
   {
    "duration": 7,
    "start_time": "2025-01-10T06:54:32.201Z"
   },
   {
    "duration": 9,
    "start_time": "2025-01-10T06:54:32.210Z"
   },
   {
    "duration": 218,
    "start_time": "2025-01-10T06:54:32.220Z"
   },
   {
    "duration": 7,
    "start_time": "2025-01-10T06:54:32.440Z"
   },
   {
    "duration": 180,
    "start_time": "2025-01-10T06:54:32.460Z"
   },
   {
    "duration": 22,
    "start_time": "2025-01-10T06:54:32.644Z"
   },
   {
    "duration": 124,
    "start_time": "2025-01-10T06:54:32.668Z"
   },
   {
    "duration": 13,
    "start_time": "2025-01-10T06:54:32.794Z"
   },
   {
    "duration": 9,
    "start_time": "2025-01-10T06:54:32.809Z"
   },
   {
    "duration": 36,
    "start_time": "2025-01-10T06:54:32.820Z"
   },
   {
    "duration": 26,
    "start_time": "2025-01-10T06:54:32.858Z"
   },
   {
    "duration": 30,
    "start_time": "2025-01-10T06:54:32.886Z"
   },
   {
    "duration": 10,
    "start_time": "2025-01-10T06:54:32.918Z"
   },
   {
    "duration": 21,
    "start_time": "2025-01-10T06:54:32.930Z"
   },
   {
    "duration": 23,
    "start_time": "2025-01-10T06:54:32.953Z"
   },
   {
    "duration": 12,
    "start_time": "2025-01-10T06:54:32.979Z"
   },
   {
    "duration": 70,
    "start_time": "2025-01-10T06:54:32.993Z"
   },
   {
    "duration": 240,
    "start_time": "2025-01-10T06:54:33.064Z"
   },
   {
    "duration": 254,
    "start_time": "2025-01-10T06:54:33.307Z"
   },
   {
    "duration": 224,
    "start_time": "2025-01-10T06:54:33.563Z"
   },
   {
    "duration": 10,
    "start_time": "2025-01-10T06:54:33.789Z"
   },
   {
    "duration": 14,
    "start_time": "2025-01-10T06:54:33.800Z"
   },
   {
    "duration": 138,
    "start_time": "2025-01-10T06:54:33.816Z"
   },
   {
    "duration": 17,
    "start_time": "2025-01-10T06:54:33.960Z"
   },
   {
    "duration": 9,
    "start_time": "2025-01-10T06:54:33.979Z"
   },
   {
    "duration": 10,
    "start_time": "2025-01-10T06:58:00.139Z"
   },
   {
    "duration": 18,
    "start_time": "2025-01-10T06:59:14.297Z"
   },
   {
    "duration": 17,
    "start_time": "2025-01-10T06:59:30.615Z"
   },
   {
    "duration": 13,
    "start_time": "2025-01-10T07:07:23.260Z"
   },
   {
    "duration": 17,
    "start_time": "2025-01-10T07:07:27.147Z"
   },
   {
    "duration": 10,
    "start_time": "2025-01-10T07:08:13.875Z"
   },
   {
    "duration": 9,
    "start_time": "2025-01-10T07:08:17.880Z"
   },
   {
    "duration": 13,
    "start_time": "2025-01-10T07:08:22.996Z"
   },
   {
    "duration": 10,
    "start_time": "2025-01-10T07:09:12.707Z"
   },
   {
    "duration": 15,
    "start_time": "2025-01-10T07:09:42.752Z"
   },
   {
    "duration": 5,
    "start_time": "2025-01-10T07:12:33.951Z"
   },
   {
    "duration": 13,
    "start_time": "2025-01-10T07:12:41.647Z"
   },
   {
    "duration": 14,
    "start_time": "2025-01-10T07:12:58.236Z"
   },
   {
    "duration": 6,
    "start_time": "2025-01-10T07:14:37.455Z"
   },
   {
    "duration": 188,
    "start_time": "2025-01-10T07:15:29.333Z"
   },
   {
    "duration": 195,
    "start_time": "2025-01-10T07:15:33.887Z"
   },
   {
    "duration": 295,
    "start_time": "2025-01-10T07:15:56.383Z"
   },
   {
    "duration": 189,
    "start_time": "2025-01-10T07:16:01.332Z"
   },
   {
    "duration": 11,
    "start_time": "2025-01-10T07:24:11.279Z"
   },
   {
    "duration": 12,
    "start_time": "2025-01-10T07:25:23.104Z"
   },
   {
    "duration": 16,
    "start_time": "2025-01-10T07:25:29.846Z"
   },
   {
    "duration": 441,
    "start_time": "2025-01-11T08:29:48.466Z"
   },
   {
    "duration": 299,
    "start_time": "2025-01-11T08:29:48.908Z"
   },
   {
    "duration": 15,
    "start_time": "2025-01-11T08:29:49.209Z"
   },
   {
    "duration": 10,
    "start_time": "2025-01-11T08:29:49.225Z"
   },
   {
    "duration": 8,
    "start_time": "2025-01-11T08:29:49.237Z"
   },
   {
    "duration": 10,
    "start_time": "2025-01-11T08:29:49.247Z"
   },
   {
    "duration": 6,
    "start_time": "2025-01-11T08:29:49.259Z"
   },
   {
    "duration": 22,
    "start_time": "2025-01-11T08:29:49.266Z"
   },
   {
    "duration": 14,
    "start_time": "2025-01-11T08:29:49.290Z"
   },
   {
    "duration": 11,
    "start_time": "2025-01-11T08:29:49.306Z"
   },
   {
    "duration": 17,
    "start_time": "2025-01-11T08:29:49.319Z"
   },
   {
    "duration": 12,
    "start_time": "2025-01-11T08:29:49.338Z"
   },
   {
    "duration": 19,
    "start_time": "2025-01-11T08:29:49.351Z"
   },
   {
    "duration": 14,
    "start_time": "2025-01-11T08:29:49.373Z"
   },
   {
    "duration": 8,
    "start_time": "2025-01-11T08:29:49.389Z"
   },
   {
    "duration": 5,
    "start_time": "2025-01-11T08:29:49.398Z"
   },
   {
    "duration": 5,
    "start_time": "2025-01-11T08:29:49.404Z"
   },
   {
    "duration": 448,
    "start_time": "2025-01-11T08:29:49.410Z"
   },
   {
    "duration": 7,
    "start_time": "2025-01-11T08:29:49.860Z"
   },
   {
    "duration": 147,
    "start_time": "2025-01-11T08:29:49.868Z"
   },
   {
    "duration": 5,
    "start_time": "2025-01-11T08:29:50.017Z"
   },
   {
    "duration": 121,
    "start_time": "2025-01-11T08:29:50.023Z"
   },
   {
    "duration": 5,
    "start_time": "2025-01-11T08:29:50.146Z"
   },
   {
    "duration": 13,
    "start_time": "2025-01-11T08:29:50.153Z"
   },
   {
    "duration": 172,
    "start_time": "2025-01-11T08:29:50.167Z"
   },
   {
    "duration": 6,
    "start_time": "2025-01-11T08:29:50.341Z"
   },
   {
    "duration": 127,
    "start_time": "2025-01-11T08:29:50.348Z"
   },
   {
    "duration": 15,
    "start_time": "2025-01-11T08:29:50.477Z"
   },
   {
    "duration": 101,
    "start_time": "2025-01-11T08:29:50.494Z"
   },
   {
    "duration": 10,
    "start_time": "2025-01-11T08:29:50.597Z"
   },
   {
    "duration": 6,
    "start_time": "2025-01-11T08:29:50.609Z"
   },
   {
    "duration": 19,
    "start_time": "2025-01-11T08:29:50.617Z"
   },
   {
    "duration": 12,
    "start_time": "2025-01-11T08:29:50.638Z"
   },
   {
    "duration": 24,
    "start_time": "2025-01-11T08:29:50.652Z"
   },
   {
    "duration": 7,
    "start_time": "2025-01-11T08:29:50.678Z"
   },
   {
    "duration": 25,
    "start_time": "2025-01-11T08:29:50.686Z"
   },
   {
    "duration": 6,
    "start_time": "2025-01-11T08:29:50.713Z"
   },
   {
    "duration": 12,
    "start_time": "2025-01-11T08:29:50.720Z"
   },
   {
    "duration": 24,
    "start_time": "2025-01-11T08:29:50.733Z"
   },
   {
    "duration": 173,
    "start_time": "2025-01-11T08:29:50.758Z"
   },
   {
    "duration": 183,
    "start_time": "2025-01-11T08:29:50.935Z"
   },
   {
    "duration": 185,
    "start_time": "2025-01-11T08:29:51.119Z"
   },
   {
    "duration": 7,
    "start_time": "2025-01-11T08:29:51.305Z"
   },
   {
    "duration": 22,
    "start_time": "2025-01-11T08:29:51.314Z"
   },
   {
    "duration": 103,
    "start_time": "2025-01-11T08:29:51.338Z"
   },
   {
    "duration": 14,
    "start_time": "2025-01-11T08:29:51.443Z"
   },
   {
    "duration": 6,
    "start_time": "2025-01-11T08:29:51.458Z"
   },
   {
    "duration": 32,
    "start_time": "2025-01-11T08:29:51.466Z"
   },
   {
    "duration": 8,
    "start_time": "2025-01-11T08:29:51.499Z"
   },
   {
    "duration": 28,
    "start_time": "2025-01-11T08:29:51.508Z"
   },
   {
    "duration": 164,
    "start_time": "2025-01-11T08:29:51.538Z"
   },
   {
    "duration": 7,
    "start_time": "2025-01-11T08:29:51.704Z"
   },
   {
    "duration": 6,
    "start_time": "2025-01-11T08:31:09.924Z"
   },
   {
    "duration": 81,
    "start_time": "2025-01-11T08:32:08.459Z"
   },
   {
    "duration": 79,
    "start_time": "2025-01-11T08:32:17.833Z"
   },
   {
    "duration": 70,
    "start_time": "2025-01-11T08:32:19.921Z"
   },
   {
    "duration": 15,
    "start_time": "2025-01-11T08:35:24.604Z"
   },
   {
    "duration": 4,
    "start_time": "2025-01-11T08:49:01.243Z"
   },
   {
    "duration": 13,
    "start_time": "2025-01-11T08:50:01.145Z"
   },
   {
    "duration": 11,
    "start_time": "2025-01-11T08:50:02.933Z"
   },
   {
    "duration": 11,
    "start_time": "2025-01-11T08:50:07.479Z"
   },
   {
    "duration": 392,
    "start_time": "2025-01-11T08:50:23.105Z"
   },
   {
    "duration": 70,
    "start_time": "2025-01-11T08:50:23.499Z"
   },
   {
    "duration": 15,
    "start_time": "2025-01-11T08:50:23.571Z"
   },
   {
    "duration": 11,
    "start_time": "2025-01-11T08:50:23.588Z"
   },
   {
    "duration": 8,
    "start_time": "2025-01-11T08:50:23.601Z"
   },
   {
    "duration": 36,
    "start_time": "2025-01-11T08:50:23.610Z"
   },
   {
    "duration": 9,
    "start_time": "2025-01-11T08:50:23.647Z"
   },
   {
    "duration": 9,
    "start_time": "2025-01-11T08:50:23.657Z"
   },
   {
    "duration": 13,
    "start_time": "2025-01-11T08:50:23.667Z"
   },
   {
    "duration": 10,
    "start_time": "2025-01-11T08:50:23.687Z"
   },
   {
    "duration": 6,
    "start_time": "2025-01-11T08:50:23.698Z"
   },
   {
    "duration": 6,
    "start_time": "2025-01-11T08:50:23.706Z"
   },
   {
    "duration": 11,
    "start_time": "2025-01-11T08:50:23.714Z"
   },
   {
    "duration": 5,
    "start_time": "2025-01-11T08:50:23.727Z"
   },
   {
    "duration": 22,
    "start_time": "2025-01-11T08:50:23.733Z"
   },
   {
    "duration": 34,
    "start_time": "2025-01-11T08:50:23.756Z"
   },
   {
    "duration": 6,
    "start_time": "2025-01-11T08:50:23.792Z"
   },
   {
    "duration": 225,
    "start_time": "2025-01-11T08:50:23.800Z"
   },
   {
    "duration": 7,
    "start_time": "2025-01-11T08:50:24.026Z"
   },
   {
    "duration": 149,
    "start_time": "2025-01-11T08:50:24.034Z"
   },
   {
    "duration": 6,
    "start_time": "2025-01-11T08:50:24.187Z"
   },
   {
    "duration": 114,
    "start_time": "2025-01-11T08:50:24.195Z"
   },
   {
    "duration": 5,
    "start_time": "2025-01-11T08:50:24.311Z"
   },
   {
    "duration": 15,
    "start_time": "2025-01-11T08:50:24.317Z"
   },
   {
    "duration": 178,
    "start_time": "2025-01-11T08:50:24.334Z"
   },
   {
    "duration": 6,
    "start_time": "2025-01-11T08:50:24.513Z"
   },
   {
    "duration": 17,
    "start_time": "2025-01-11T08:50:24.520Z"
   },
   {
    "duration": 134,
    "start_time": "2025-01-11T08:50:24.541Z"
   },
   {
    "duration": 8,
    "start_time": "2025-01-11T08:50:24.686Z"
   },
   {
    "duration": 100,
    "start_time": "2025-01-11T08:50:24.695Z"
   },
   {
    "duration": 10,
    "start_time": "2025-01-11T08:50:24.796Z"
   },
   {
    "duration": 6,
    "start_time": "2025-01-11T08:50:24.807Z"
   },
   {
    "duration": 13,
    "start_time": "2025-01-11T08:50:24.814Z"
   },
   {
    "duration": 4,
    "start_time": "2025-01-11T08:50:24.829Z"
   },
   {
    "duration": 22,
    "start_time": "2025-01-11T08:50:24.835Z"
   },
   {
    "duration": 7,
    "start_time": "2025-01-11T08:50:24.858Z"
   },
   {
    "duration": 21,
    "start_time": "2025-01-11T08:50:24.886Z"
   },
   {
    "duration": 6,
    "start_time": "2025-01-11T08:50:24.909Z"
   },
   {
    "duration": 6,
    "start_time": "2025-01-11T08:50:24.917Z"
   },
   {
    "duration": 7,
    "start_time": "2025-01-11T08:50:24.924Z"
   },
   {
    "duration": 212,
    "start_time": "2025-01-11T08:50:24.932Z"
   },
   {
    "duration": 195,
    "start_time": "2025-01-11T08:50:25.146Z"
   },
   {
    "duration": 178,
    "start_time": "2025-01-11T08:50:25.342Z"
   },
   {
    "duration": 11,
    "start_time": "2025-01-11T08:50:25.522Z"
   },
   {
    "duration": 9,
    "start_time": "2025-01-11T08:50:25.535Z"
   },
   {
    "duration": 127,
    "start_time": "2025-01-11T08:50:25.546Z"
   },
   {
    "duration": 23,
    "start_time": "2025-01-11T08:50:25.675Z"
   },
   {
    "duration": 5,
    "start_time": "2025-01-11T08:50:25.700Z"
   },
   {
    "duration": 12,
    "start_time": "2025-01-11T08:50:25.706Z"
   },
   {
    "duration": 8,
    "start_time": "2025-01-11T08:50:25.719Z"
   },
   {
    "duration": 5,
    "start_time": "2025-01-11T08:50:25.728Z"
   },
   {
    "duration": 191,
    "start_time": "2025-01-11T08:50:25.734Z"
   },
   {
    "duration": 8,
    "start_time": "2025-01-11T08:50:25.927Z"
   },
   {
    "duration": 89,
    "start_time": "2025-01-11T08:50:25.936Z"
   },
   {
    "duration": 381,
    "start_time": "2025-01-11T08:50:36.309Z"
   },
   {
    "duration": 65,
    "start_time": "2025-01-11T08:50:36.692Z"
   },
   {
    "duration": 13,
    "start_time": "2025-01-11T08:50:36.759Z"
   },
   {
    "duration": 43,
    "start_time": "2025-01-11T08:50:36.773Z"
   },
   {
    "duration": 10,
    "start_time": "2025-01-11T08:50:36.818Z"
   },
   {
    "duration": 18,
    "start_time": "2025-01-11T08:50:36.829Z"
   },
   {
    "duration": 25,
    "start_time": "2025-01-11T08:50:36.849Z"
   },
   {
    "duration": 17,
    "start_time": "2025-01-11T08:50:36.876Z"
   },
   {
    "duration": 16,
    "start_time": "2025-01-11T08:50:36.894Z"
   },
   {
    "duration": 9,
    "start_time": "2025-01-11T08:50:36.912Z"
   },
   {
    "duration": 14,
    "start_time": "2025-01-11T08:50:36.922Z"
   },
   {
    "duration": 13,
    "start_time": "2025-01-11T08:50:36.937Z"
   },
   {
    "duration": 12,
    "start_time": "2025-01-11T08:50:36.951Z"
   },
   {
    "duration": 5,
    "start_time": "2025-01-11T08:50:36.966Z"
   },
   {
    "duration": 21,
    "start_time": "2025-01-11T08:50:36.972Z"
   },
   {
    "duration": 4,
    "start_time": "2025-01-11T08:50:36.995Z"
   },
   {
    "duration": 10,
    "start_time": "2025-01-11T08:50:37.001Z"
   },
   {
    "duration": 234,
    "start_time": "2025-01-11T08:50:37.012Z"
   },
   {
    "duration": 6,
    "start_time": "2025-01-11T08:50:37.247Z"
   },
   {
    "duration": 137,
    "start_time": "2025-01-11T08:50:37.254Z"
   },
   {
    "duration": 5,
    "start_time": "2025-01-11T08:50:37.393Z"
   },
   {
    "duration": 111,
    "start_time": "2025-01-11T08:50:37.399Z"
   },
   {
    "duration": 6,
    "start_time": "2025-01-11T08:50:37.512Z"
   },
   {
    "duration": 8,
    "start_time": "2025-01-11T08:50:37.519Z"
   },
   {
    "duration": 184,
    "start_time": "2025-01-11T08:50:37.529Z"
   },
   {
    "duration": 6,
    "start_time": "2025-01-11T08:50:37.714Z"
   },
   {
    "duration": 13,
    "start_time": "2025-01-11T08:50:37.721Z"
   },
   {
    "duration": 133,
    "start_time": "2025-01-11T08:50:37.735Z"
   },
   {
    "duration": 20,
    "start_time": "2025-01-11T08:50:37.869Z"
   },
   {
    "duration": 98,
    "start_time": "2025-01-11T08:50:37.890Z"
   },
   {
    "duration": 10,
    "start_time": "2025-01-11T08:50:37.989Z"
   },
   {
    "duration": 7,
    "start_time": "2025-01-11T08:50:38.000Z"
   },
   {
    "duration": 10,
    "start_time": "2025-01-11T08:50:38.008Z"
   },
   {
    "duration": 5,
    "start_time": "2025-01-11T08:50:38.019Z"
   },
   {
    "duration": 14,
    "start_time": "2025-01-11T08:50:38.025Z"
   },
   {
    "duration": 7,
    "start_time": "2025-01-11T08:50:38.040Z"
   },
   {
    "duration": 47,
    "start_time": "2025-01-11T08:50:38.048Z"
   },
   {
    "duration": 7,
    "start_time": "2025-01-11T08:50:38.096Z"
   },
   {
    "duration": 7,
    "start_time": "2025-01-11T08:50:38.104Z"
   },
   {
    "duration": 14,
    "start_time": "2025-01-11T08:50:38.113Z"
   },
   {
    "duration": 197,
    "start_time": "2025-01-11T08:50:38.131Z"
   },
   {
    "duration": 184,
    "start_time": "2025-01-11T08:50:38.329Z"
   },
   {
    "duration": 177,
    "start_time": "2025-01-11T08:50:38.514Z"
   },
   {
    "duration": 7,
    "start_time": "2025-01-11T08:50:38.693Z"
   },
   {
    "duration": 7,
    "start_time": "2025-01-11T08:50:38.701Z"
   },
   {
    "duration": 108,
    "start_time": "2025-01-11T08:50:38.709Z"
   },
   {
    "duration": 14,
    "start_time": "2025-01-11T08:50:38.818Z"
   },
   {
    "duration": 3,
    "start_time": "2025-01-11T08:50:38.834Z"
   },
   {
    "duration": 12,
    "start_time": "2025-01-11T08:50:38.839Z"
   },
   {
    "duration": 7,
    "start_time": "2025-01-11T08:50:38.853Z"
   },
   {
    "duration": 5,
    "start_time": "2025-01-11T08:50:38.886Z"
   },
   {
    "duration": 165,
    "start_time": "2025-01-11T08:50:38.893Z"
   },
   {
    "duration": 8,
    "start_time": "2025-01-11T08:50:39.060Z"
   },
   {
    "duration": 65,
    "start_time": "2025-01-11T08:50:39.069Z"
   },
   {
    "duration": 9,
    "start_time": "2025-01-11T08:55:18.530Z"
   },
   {
    "duration": 12,
    "start_time": "2025-01-11T08:55:25.728Z"
   },
   {
    "duration": 15,
    "start_time": "2025-01-11T08:55:54.141Z"
   },
   {
    "duration": 18,
    "start_time": "2025-01-11T08:56:30.214Z"
   },
   {
    "duration": 5,
    "start_time": "2025-01-11T08:59:20.162Z"
   },
   {
    "duration": 19,
    "start_time": "2025-01-11T08:59:35.269Z"
   },
   {
    "duration": 17,
    "start_time": "2025-01-11T09:02:37.973Z"
   },
   {
    "duration": 13,
    "start_time": "2025-01-11T09:23:46.201Z"
   },
   {
    "duration": 15,
    "start_time": "2025-01-11T09:23:58.730Z"
   },
   {
    "duration": 8,
    "start_time": "2025-01-11T09:24:25.288Z"
   },
   {
    "duration": 7,
    "start_time": "2025-01-11T09:25:51.829Z"
   },
   {
    "duration": 141,
    "start_time": "2025-01-11T09:27:00.927Z"
   },
   {
    "duration": 212,
    "start_time": "2025-01-11T09:27:07.863Z"
   },
   {
    "duration": 131,
    "start_time": "2025-01-11T09:27:11.033Z"
   },
   {
    "duration": 115,
    "start_time": "2025-01-11T09:27:13.457Z"
   },
   {
    "duration": 136,
    "start_time": "2025-01-11T09:27:15.664Z"
   },
   {
    "duration": 166,
    "start_time": "2025-01-11T09:27:18.505Z"
   },
   {
    "duration": 178,
    "start_time": "2025-01-11T09:27:39.982Z"
   },
   {
    "duration": 156,
    "start_time": "2025-01-11T09:31:15.088Z"
   },
   {
    "duration": 172,
    "start_time": "2025-01-11T09:31:32.664Z"
   },
   {
    "duration": 216,
    "start_time": "2025-01-11T09:31:52.630Z"
   },
   {
    "duration": 162,
    "start_time": "2025-01-11T09:31:56.607Z"
   },
   {
    "duration": 144,
    "start_time": "2025-01-11T09:32:04.878Z"
   },
   {
    "duration": 147,
    "start_time": "2025-01-11T09:32:11.395Z"
   },
   {
    "duration": 20,
    "start_time": "2025-01-11T09:38:46.697Z"
   },
   {
    "duration": 14,
    "start_time": "2025-01-11T09:38:55.488Z"
   },
   {
    "duration": 15,
    "start_time": "2025-01-11T09:38:58.833Z"
   },
   {
    "duration": 14,
    "start_time": "2025-01-11T09:39:27.747Z"
   },
   {
    "duration": 15,
    "start_time": "2025-01-11T09:39:36.059Z"
   },
   {
    "duration": 86,
    "start_time": "2025-01-11T09:46:10.330Z"
   },
   {
    "duration": 434,
    "start_time": "2025-01-11T09:46:18.566Z"
   },
   {
    "duration": 68,
    "start_time": "2025-01-11T09:46:19.002Z"
   },
   {
    "duration": 14,
    "start_time": "2025-01-11T09:46:19.072Z"
   },
   {
    "duration": 11,
    "start_time": "2025-01-11T09:46:19.088Z"
   },
   {
    "duration": 11,
    "start_time": "2025-01-11T09:46:19.100Z"
   },
   {
    "duration": 31,
    "start_time": "2025-01-11T09:46:19.112Z"
   },
   {
    "duration": 8,
    "start_time": "2025-01-11T09:46:19.145Z"
   },
   {
    "duration": 22,
    "start_time": "2025-01-11T09:46:19.154Z"
   },
   {
    "duration": 31,
    "start_time": "2025-01-11T09:46:19.177Z"
   },
   {
    "duration": 9,
    "start_time": "2025-01-11T09:46:19.211Z"
   },
   {
    "duration": 7,
    "start_time": "2025-01-11T09:46:19.221Z"
   },
   {
    "duration": 7,
    "start_time": "2025-01-11T09:46:19.230Z"
   },
   {
    "duration": 15,
    "start_time": "2025-01-11T09:46:19.238Z"
   },
   {
    "duration": 41,
    "start_time": "2025-01-11T09:46:19.255Z"
   },
   {
    "duration": 25,
    "start_time": "2025-01-11T09:46:19.297Z"
   },
   {
    "duration": 5,
    "start_time": "2025-01-11T09:46:19.323Z"
   },
   {
    "duration": 7,
    "start_time": "2025-01-11T09:46:19.329Z"
   },
   {
    "duration": 247,
    "start_time": "2025-01-11T09:46:19.338Z"
   },
   {
    "duration": 6,
    "start_time": "2025-01-11T09:46:19.587Z"
   },
   {
    "duration": 142,
    "start_time": "2025-01-11T09:46:19.595Z"
   },
   {
    "duration": 6,
    "start_time": "2025-01-11T09:46:19.739Z"
   },
   {
    "duration": 118,
    "start_time": "2025-01-11T09:46:19.746Z"
   },
   {
    "duration": 6,
    "start_time": "2025-01-11T09:46:19.865Z"
   },
   {
    "duration": 15,
    "start_time": "2025-01-11T09:46:19.873Z"
   },
   {
    "duration": 173,
    "start_time": "2025-01-11T09:46:19.890Z"
   },
   {
    "duration": 6,
    "start_time": "2025-01-11T09:46:20.065Z"
   },
   {
    "duration": 24,
    "start_time": "2025-01-11T09:46:20.073Z"
   },
   {
    "duration": 168,
    "start_time": "2025-01-11T09:46:20.102Z"
   },
   {
    "duration": 21,
    "start_time": "2025-01-11T09:46:20.272Z"
   },
   {
    "duration": 103,
    "start_time": "2025-01-11T09:46:20.295Z"
   },
   {
    "duration": 9,
    "start_time": "2025-01-11T09:46:20.400Z"
   },
   {
    "duration": 25,
    "start_time": "2025-01-11T09:46:20.411Z"
   },
   {
    "duration": 6,
    "start_time": "2025-01-11T09:46:20.438Z"
   },
   {
    "duration": 11,
    "start_time": "2025-01-11T09:46:20.445Z"
   },
   {
    "duration": 13,
    "start_time": "2025-01-11T09:46:20.457Z"
   },
   {
    "duration": 15,
    "start_time": "2025-01-11T09:46:20.472Z"
   },
   {
    "duration": 14,
    "start_time": "2025-01-11T09:46:20.489Z"
   },
   {
    "duration": 7,
    "start_time": "2025-01-11T09:46:20.505Z"
   },
   {
    "duration": 6,
    "start_time": "2025-01-11T09:46:20.513Z"
   },
   {
    "duration": 6,
    "start_time": "2025-01-11T09:46:20.521Z"
   },
   {
    "duration": 219,
    "start_time": "2025-01-11T09:46:20.529Z"
   },
   {
    "duration": 191,
    "start_time": "2025-01-11T09:46:20.750Z"
   },
   {
    "duration": 181,
    "start_time": "2025-01-11T09:46:20.943Z"
   },
   {
    "duration": 7,
    "start_time": "2025-01-11T09:46:21.125Z"
   },
   {
    "duration": 9,
    "start_time": "2025-01-11T09:46:21.134Z"
   },
   {
    "duration": 109,
    "start_time": "2025-01-11T09:46:21.144Z"
   },
   {
    "duration": 14,
    "start_time": "2025-01-11T09:46:21.254Z"
   },
   {
    "duration": 16,
    "start_time": "2025-01-11T09:46:21.270Z"
   },
   {
    "duration": 19,
    "start_time": "2025-01-11T09:46:21.288Z"
   },
   {
    "duration": 17,
    "start_time": "2025-01-11T09:46:21.308Z"
   },
   {
    "duration": 9,
    "start_time": "2025-01-11T09:46:21.327Z"
   },
   {
    "duration": 164,
    "start_time": "2025-01-11T09:46:21.338Z"
   },
   {
    "duration": 8,
    "start_time": "2025-01-11T09:46:21.504Z"
   },
   {
    "duration": 85,
    "start_time": "2025-01-11T09:46:21.513Z"
   },
   {
    "duration": 0,
    "start_time": "2025-01-11T09:46:21.599Z"
   },
   {
    "duration": 0,
    "start_time": "2025-01-11T09:46:21.600Z"
   },
   {
    "duration": 0,
    "start_time": "2025-01-11T09:46:21.601Z"
   },
   {
    "duration": 0,
    "start_time": "2025-01-11T09:46:21.602Z"
   },
   {
    "duration": 0,
    "start_time": "2025-01-11T09:46:21.603Z"
   },
   {
    "duration": 0,
    "start_time": "2025-01-11T09:46:21.604Z"
   },
   {
    "duration": 0,
    "start_time": "2025-01-11T09:46:21.605Z"
   },
   {
    "duration": 0,
    "start_time": "2025-01-11T09:46:21.606Z"
   },
   {
    "duration": 0,
    "start_time": "2025-01-11T09:46:21.607Z"
   },
   {
    "duration": 0,
    "start_time": "2025-01-11T09:46:21.608Z"
   },
   {
    "duration": 0,
    "start_time": "2025-01-11T09:46:21.609Z"
   },
   {
    "duration": 416,
    "start_time": "2025-01-11T09:46:59.893Z"
   },
   {
    "duration": 68,
    "start_time": "2025-01-11T09:47:00.311Z"
   },
   {
    "duration": 15,
    "start_time": "2025-01-11T09:47:00.380Z"
   },
   {
    "duration": 51,
    "start_time": "2025-01-11T09:47:00.397Z"
   },
   {
    "duration": 12,
    "start_time": "2025-01-11T09:47:00.451Z"
   },
   {
    "duration": 25,
    "start_time": "2025-01-11T09:47:00.465Z"
   },
   {
    "duration": 7,
    "start_time": "2025-01-11T09:47:00.492Z"
   },
   {
    "duration": 27,
    "start_time": "2025-01-11T09:47:00.500Z"
   },
   {
    "duration": 27,
    "start_time": "2025-01-11T09:47:00.529Z"
   },
   {
    "duration": 11,
    "start_time": "2025-01-11T09:47:00.558Z"
   },
   {
    "duration": 12,
    "start_time": "2025-01-11T09:47:00.570Z"
   },
   {
    "duration": 9,
    "start_time": "2025-01-11T09:47:00.584Z"
   },
   {
    "duration": 33,
    "start_time": "2025-01-11T09:47:00.594Z"
   },
   {
    "duration": 6,
    "start_time": "2025-01-11T09:47:00.630Z"
   },
   {
    "duration": 12,
    "start_time": "2025-01-11T09:47:00.637Z"
   },
   {
    "duration": 5,
    "start_time": "2025-01-11T09:47:00.650Z"
   },
   {
    "duration": 7,
    "start_time": "2025-01-11T09:47:00.656Z"
   },
   {
    "duration": 236,
    "start_time": "2025-01-11T09:47:00.664Z"
   },
   {
    "duration": 5,
    "start_time": "2025-01-11T09:47:00.902Z"
   },
   {
    "duration": 146,
    "start_time": "2025-01-11T09:47:00.908Z"
   },
   {
    "duration": 5,
    "start_time": "2025-01-11T09:47:01.055Z"
   },
   {
    "duration": 111,
    "start_time": "2025-01-11T09:47:01.062Z"
   },
   {
    "duration": 13,
    "start_time": "2025-01-11T09:47:01.174Z"
   },
   {
    "duration": 7,
    "start_time": "2025-01-11T09:47:01.188Z"
   },
   {
    "duration": 180,
    "start_time": "2025-01-11T09:47:01.197Z"
   },
   {
    "duration": 11,
    "start_time": "2025-01-11T09:47:01.379Z"
   },
   {
    "duration": 57,
    "start_time": "2025-01-11T09:47:01.391Z"
   },
   {
    "duration": 116,
    "start_time": "2025-01-11T09:47:01.450Z"
   },
   {
    "duration": 21,
    "start_time": "2025-01-11T09:47:01.567Z"
   },
   {
    "duration": 99,
    "start_time": "2025-01-11T09:47:01.589Z"
   },
   {
    "duration": 9,
    "start_time": "2025-01-11T09:47:01.689Z"
   },
   {
    "duration": 33,
    "start_time": "2025-01-11T09:47:01.700Z"
   },
   {
    "duration": 13,
    "start_time": "2025-01-11T09:47:01.735Z"
   },
   {
    "duration": 27,
    "start_time": "2025-01-11T09:47:01.750Z"
   },
   {
    "duration": 30,
    "start_time": "2025-01-11T09:47:01.779Z"
   },
   {
    "duration": 59,
    "start_time": "2025-01-11T09:47:01.811Z"
   },
   {
    "duration": 46,
    "start_time": "2025-01-11T09:47:01.872Z"
   },
   {
    "duration": 19,
    "start_time": "2025-01-11T09:47:01.920Z"
   },
   {
    "duration": 20,
    "start_time": "2025-01-11T09:47:01.941Z"
   },
   {
    "duration": 29,
    "start_time": "2025-01-11T09:47:01.962Z"
   },
   {
    "duration": 196,
    "start_time": "2025-01-11T09:47:01.996Z"
   },
   {
    "duration": 186,
    "start_time": "2025-01-11T09:47:02.194Z"
   },
   {
    "duration": 176,
    "start_time": "2025-01-11T09:47:02.381Z"
   },
   {
    "duration": 9,
    "start_time": "2025-01-11T09:47:02.559Z"
   },
   {
    "duration": 36,
    "start_time": "2025-01-11T09:47:02.569Z"
   },
   {
    "duration": 102,
    "start_time": "2025-01-11T09:47:02.606Z"
   },
   {
    "duration": 14,
    "start_time": "2025-01-11T09:47:02.710Z"
   },
   {
    "duration": 26,
    "start_time": "2025-01-11T09:47:02.725Z"
   },
   {
    "duration": 15,
    "start_time": "2025-01-11T09:47:02.753Z"
   },
   {
    "duration": 34,
    "start_time": "2025-01-11T09:47:02.770Z"
   },
   {
    "duration": 38,
    "start_time": "2025-01-11T09:47:02.806Z"
   },
   {
    "duration": 157,
    "start_time": "2025-01-11T09:47:02.845Z"
   },
   {
    "duration": 7,
    "start_time": "2025-01-11T09:47:03.004Z"
   },
   {
    "duration": 26,
    "start_time": "2025-01-11T09:47:03.012Z"
   },
   {
    "duration": 36,
    "start_time": "2025-01-11T09:47:03.040Z"
   },
   {
    "duration": 24,
    "start_time": "2025-01-11T09:47:03.078Z"
   },
   {
    "duration": 43,
    "start_time": "2025-01-11T09:47:03.104Z"
   },
   {
    "duration": 6,
    "start_time": "2025-01-11T09:47:03.149Z"
   },
   {
    "duration": 176,
    "start_time": "2025-01-11T09:47:03.156Z"
   },
   {
    "duration": 206,
    "start_time": "2025-01-11T09:47:03.334Z"
   },
   {
    "duration": 6,
    "start_time": "2025-01-11T09:47:03.542Z"
   },
   {
    "duration": 160,
    "start_time": "2025-01-11T09:47:03.550Z"
   },
   {
    "duration": 174,
    "start_time": "2025-01-11T09:47:03.712Z"
   },
   {
    "duration": 83,
    "start_time": "2025-01-11T09:47:03.888Z"
   },
   {
    "duration": 19,
    "start_time": "2025-01-11T09:47:55.507Z"
   },
   {
    "duration": 15,
    "start_time": "2025-01-11T09:48:55.537Z"
   },
   {
    "duration": 19,
    "start_time": "2025-01-11T09:49:22.532Z"
   },
   {
    "duration": 18,
    "start_time": "2025-01-11T09:50:23.422Z"
   },
   {
    "duration": 19,
    "start_time": "2025-01-11T09:51:56.950Z"
   },
   {
    "duration": 17,
    "start_time": "2025-01-11T09:52:48.602Z"
   },
   {
    "duration": 4,
    "start_time": "2025-01-11T09:53:05.078Z"
   },
   {
    "duration": 5,
    "start_time": "2025-01-11T09:53:20.430Z"
   },
   {
    "duration": 422,
    "start_time": "2025-01-11T09:53:30.571Z"
   },
   {
    "duration": 68,
    "start_time": "2025-01-11T09:53:30.995Z"
   },
   {
    "duration": 14,
    "start_time": "2025-01-11T09:53:31.064Z"
   },
   {
    "duration": 18,
    "start_time": "2025-01-11T09:53:31.081Z"
   },
   {
    "duration": 15,
    "start_time": "2025-01-11T09:53:31.100Z"
   },
   {
    "duration": 29,
    "start_time": "2025-01-11T09:53:31.117Z"
   },
   {
    "duration": 7,
    "start_time": "2025-01-11T09:53:31.148Z"
   },
   {
    "duration": 10,
    "start_time": "2025-01-11T09:53:31.157Z"
   },
   {
    "duration": 13,
    "start_time": "2025-01-11T09:53:31.169Z"
   },
   {
    "duration": 11,
    "start_time": "2025-01-11T09:53:31.186Z"
   },
   {
    "duration": 20,
    "start_time": "2025-01-11T09:53:31.199Z"
   },
   {
    "duration": 6,
    "start_time": "2025-01-11T09:53:31.221Z"
   },
   {
    "duration": 11,
    "start_time": "2025-01-11T09:53:31.228Z"
   },
   {
    "duration": 6,
    "start_time": "2025-01-11T09:53:31.240Z"
   },
   {
    "duration": 9,
    "start_time": "2025-01-11T09:53:31.248Z"
   },
   {
    "duration": 9,
    "start_time": "2025-01-11T09:53:31.258Z"
   },
   {
    "duration": 5,
    "start_time": "2025-01-11T09:53:31.286Z"
   },
   {
    "duration": 250,
    "start_time": "2025-01-11T09:53:31.292Z"
   },
   {
    "duration": 6,
    "start_time": "2025-01-11T09:53:31.544Z"
   },
   {
    "duration": 150,
    "start_time": "2025-01-11T09:53:31.552Z"
   },
   {
    "duration": 6,
    "start_time": "2025-01-11T09:53:31.704Z"
   },
   {
    "duration": 116,
    "start_time": "2025-01-11T09:53:31.712Z"
   },
   {
    "duration": 6,
    "start_time": "2025-01-11T09:53:31.829Z"
   },
   {
    "duration": 67,
    "start_time": "2025-01-11T09:53:31.837Z"
   },
   {
    "duration": 159,
    "start_time": "2025-01-11T09:53:31.906Z"
   },
   {
    "duration": 6,
    "start_time": "2025-01-11T09:53:32.067Z"
   },
   {
    "duration": 29,
    "start_time": "2025-01-11T09:53:32.075Z"
   },
   {
    "duration": 125,
    "start_time": "2025-01-11T09:53:32.109Z"
   },
   {
    "duration": 7,
    "start_time": "2025-01-11T09:53:32.237Z"
   },
   {
    "duration": 102,
    "start_time": "2025-01-11T09:53:32.246Z"
   },
   {
    "duration": 9,
    "start_time": "2025-01-11T09:53:32.350Z"
   },
   {
    "duration": 14,
    "start_time": "2025-01-11T09:53:32.361Z"
   },
   {
    "duration": 6,
    "start_time": "2025-01-11T09:53:32.386Z"
   },
   {
    "duration": 25,
    "start_time": "2025-01-11T09:53:32.393Z"
   },
   {
    "duration": 19,
    "start_time": "2025-01-11T09:53:32.420Z"
   },
   {
    "duration": 20,
    "start_time": "2025-01-11T09:53:32.441Z"
   },
   {
    "duration": 48,
    "start_time": "2025-01-11T09:53:32.463Z"
   },
   {
    "duration": 12,
    "start_time": "2025-01-11T09:53:32.512Z"
   },
   {
    "duration": 9,
    "start_time": "2025-01-11T09:53:32.526Z"
   },
   {
    "duration": 16,
    "start_time": "2025-01-11T09:53:32.537Z"
   },
   {
    "duration": 190,
    "start_time": "2025-01-11T09:53:32.554Z"
   },
   {
    "duration": 190,
    "start_time": "2025-01-11T09:53:32.746Z"
   },
   {
    "duration": 178,
    "start_time": "2025-01-11T09:53:32.938Z"
   },
   {
    "duration": 9,
    "start_time": "2025-01-11T09:53:33.118Z"
   },
   {
    "duration": 21,
    "start_time": "2025-01-11T09:53:33.129Z"
   },
   {
    "duration": 124,
    "start_time": "2025-01-11T09:53:33.151Z"
   },
   {
    "duration": 22,
    "start_time": "2025-01-11T09:53:33.277Z"
   },
   {
    "duration": 39,
    "start_time": "2025-01-11T09:53:33.300Z"
   },
   {
    "duration": 20,
    "start_time": "2025-01-11T09:53:33.341Z"
   },
   {
    "duration": 55,
    "start_time": "2025-01-11T09:53:33.362Z"
   },
   {
    "duration": 96,
    "start_time": "2025-01-11T09:53:33.418Z"
   },
   {
    "duration": 168,
    "start_time": "2025-01-11T09:53:33.516Z"
   },
   {
    "duration": 7,
    "start_time": "2025-01-11T09:53:33.686Z"
   },
   {
    "duration": 12,
    "start_time": "2025-01-11T09:53:33.694Z"
   },
   {
    "duration": 35,
    "start_time": "2025-01-11T09:53:33.707Z"
   },
   {
    "duration": 20,
    "start_time": "2025-01-11T09:53:33.744Z"
   },
   {
    "duration": 41,
    "start_time": "2025-01-11T09:53:33.766Z"
   },
   {
    "duration": 9,
    "start_time": "2025-01-11T09:53:33.808Z"
   },
   {
    "duration": 216,
    "start_time": "2025-01-11T09:53:33.818Z"
   },
   {
    "duration": 213,
    "start_time": "2025-01-11T09:53:34.036Z"
   },
   {
    "duration": 7,
    "start_time": "2025-01-11T09:53:34.251Z"
   },
   {
    "duration": 222,
    "start_time": "2025-01-11T09:53:34.259Z"
   },
   {
    "duration": 175,
    "start_time": "2025-01-11T09:53:34.483Z"
   },
   {
    "duration": 5,
    "start_time": "2025-01-11T09:53:34.659Z"
   },
   {
    "duration": 114,
    "start_time": "2025-01-11T09:53:34.665Z"
   },
   {
    "duration": 18,
    "start_time": "2025-01-11T09:53:51.094Z"
   },
   {
    "duration": 12,
    "start_time": "2025-01-11T09:54:12.307Z"
   },
   {
    "duration": 12,
    "start_time": "2025-01-11T09:54:15.740Z"
   },
   {
    "duration": 10,
    "start_time": "2025-01-11T09:55:32.107Z"
   },
   {
    "duration": 19,
    "start_time": "2025-01-11T09:55:37.939Z"
   },
   {
    "duration": 12,
    "start_time": "2025-01-11T09:55:50.567Z"
   },
   {
    "duration": 10,
    "start_time": "2025-01-11T09:56:07.592Z"
   },
   {
    "duration": 12,
    "start_time": "2025-01-11T09:56:23.514Z"
   },
   {
    "duration": 1991,
    "start_time": "2025-01-11T09:56:48.009Z"
   },
   {
    "duration": 1170,
    "start_time": "2025-01-11T09:57:06.302Z"
   },
   {
    "duration": 395,
    "start_time": "2025-01-11T09:57:11.808Z"
   },
   {
    "duration": 67,
    "start_time": "2025-01-11T09:57:12.206Z"
   },
   {
    "duration": 16,
    "start_time": "2025-01-11T09:57:12.274Z"
   },
   {
    "duration": 14,
    "start_time": "2025-01-11T09:57:12.292Z"
   },
   {
    "duration": 15,
    "start_time": "2025-01-11T09:57:12.308Z"
   },
   {
    "duration": 35,
    "start_time": "2025-01-11T09:57:12.324Z"
   },
   {
    "duration": 6,
    "start_time": "2025-01-11T09:57:12.361Z"
   },
   {
    "duration": 9,
    "start_time": "2025-01-11T09:57:12.369Z"
   },
   {
    "duration": 12,
    "start_time": "2025-01-11T09:57:12.380Z"
   },
   {
    "duration": 10,
    "start_time": "2025-01-11T09:57:12.395Z"
   },
   {
    "duration": 17,
    "start_time": "2025-01-11T09:57:12.406Z"
   },
   {
    "duration": 8,
    "start_time": "2025-01-11T09:57:12.424Z"
   },
   {
    "duration": 23,
    "start_time": "2025-01-11T09:57:12.434Z"
   },
   {
    "duration": 5,
    "start_time": "2025-01-11T09:57:12.458Z"
   },
   {
    "duration": 7,
    "start_time": "2025-01-11T09:57:12.465Z"
   },
   {
    "duration": 5,
    "start_time": "2025-01-11T09:57:12.473Z"
   },
   {
    "duration": 10,
    "start_time": "2025-01-11T09:57:12.486Z"
   },
   {
    "duration": 220,
    "start_time": "2025-01-11T09:57:12.497Z"
   },
   {
    "duration": 6,
    "start_time": "2025-01-11T09:57:12.718Z"
   },
   {
    "duration": 146,
    "start_time": "2025-01-11T09:57:12.726Z"
   },
   {
    "duration": 5,
    "start_time": "2025-01-11T09:57:12.874Z"
   },
   {
    "duration": 106,
    "start_time": "2025-01-11T09:57:12.887Z"
   },
   {
    "duration": 7,
    "start_time": "2025-01-11T09:57:12.995Z"
   },
   {
    "duration": 12,
    "start_time": "2025-01-11T09:57:13.004Z"
   },
   {
    "duration": 174,
    "start_time": "2025-01-11T09:57:13.018Z"
   },
   {
    "duration": 6,
    "start_time": "2025-01-11T09:57:13.194Z"
   },
   {
    "duration": 14,
    "start_time": "2025-01-11T09:57:13.201Z"
   },
   {
    "duration": 136,
    "start_time": "2025-01-11T09:57:13.218Z"
   },
   {
    "duration": 8,
    "start_time": "2025-01-11T09:57:13.356Z"
   },
   {
    "duration": 100,
    "start_time": "2025-01-11T09:57:13.365Z"
   },
   {
    "duration": 10,
    "start_time": "2025-01-11T09:57:13.466Z"
   },
   {
    "duration": 16,
    "start_time": "2025-01-11T09:57:13.487Z"
   },
   {
    "duration": 14,
    "start_time": "2025-01-11T09:57:13.505Z"
   },
   {
    "duration": 5,
    "start_time": "2025-01-11T09:57:13.520Z"
   },
   {
    "duration": 12,
    "start_time": "2025-01-11T09:57:13.526Z"
   },
   {
    "duration": 12,
    "start_time": "2025-01-11T09:57:13.540Z"
   },
   {
    "duration": 14,
    "start_time": "2025-01-11T09:57:13.554Z"
   },
   {
    "duration": 18,
    "start_time": "2025-01-11T09:57:13.569Z"
   },
   {
    "duration": 5,
    "start_time": "2025-01-11T09:57:13.589Z"
   },
   {
    "duration": 10,
    "start_time": "2025-01-11T09:57:13.595Z"
   },
   {
    "duration": 181,
    "start_time": "2025-01-11T09:57:13.606Z"
   },
   {
    "duration": 184,
    "start_time": "2025-01-11T09:57:13.789Z"
   },
   {
    "duration": 172,
    "start_time": "2025-01-11T09:57:13.975Z"
   },
   {
    "duration": 7,
    "start_time": "2025-01-11T09:57:14.148Z"
   },
   {
    "duration": 53,
    "start_time": "2025-01-11T09:57:14.157Z"
   },
   {
    "duration": 95,
    "start_time": "2025-01-11T09:57:14.212Z"
   },
   {
    "duration": 14,
    "start_time": "2025-01-11T09:57:14.308Z"
   },
   {
    "duration": 4,
    "start_time": "2025-01-11T09:57:14.323Z"
   },
   {
    "duration": 17,
    "start_time": "2025-01-11T09:57:14.328Z"
   },
   {
    "duration": 7,
    "start_time": "2025-01-11T09:57:14.346Z"
   },
   {
    "duration": 9,
    "start_time": "2025-01-11T09:57:14.355Z"
   },
   {
    "duration": 179,
    "start_time": "2025-01-11T09:57:14.365Z"
   },
   {
    "duration": 8,
    "start_time": "2025-01-11T09:57:14.546Z"
   },
   {
    "duration": 5,
    "start_time": "2025-01-11T09:57:14.555Z"
   },
   {
    "duration": 28,
    "start_time": "2025-01-11T09:57:14.561Z"
   },
   {
    "duration": 12,
    "start_time": "2025-01-11T09:57:14.590Z"
   },
   {
    "duration": 18,
    "start_time": "2025-01-11T09:57:14.604Z"
   },
   {
    "duration": 7,
    "start_time": "2025-01-11T09:57:14.623Z"
   },
   {
    "duration": 169,
    "start_time": "2025-01-11T09:57:14.632Z"
   },
   {
    "duration": 209,
    "start_time": "2025-01-11T09:57:14.802Z"
   },
   {
    "duration": 6,
    "start_time": "2025-01-11T09:57:15.013Z"
   },
   {
    "duration": 180,
    "start_time": "2025-01-11T09:57:15.021Z"
   },
   {
    "duration": 184,
    "start_time": "2025-01-11T09:57:15.203Z"
   },
   {
    "duration": 1226,
    "start_time": "2025-01-11T09:57:15.389Z"
   },
   {
    "duration": 0,
    "start_time": "2025-01-11T09:57:16.617Z"
   },
   {
    "duration": 18,
    "start_time": "2025-01-11T09:57:20.028Z"
   },
   {
    "duration": 17,
    "start_time": "2025-01-11T09:57:43.397Z"
   },
   {
    "duration": 15,
    "start_time": "2025-01-11T09:57:48.692Z"
   },
   {
    "duration": 1410,
    "start_time": "2025-01-11T09:58:00.074Z"
   },
   {
    "duration": 1157,
    "start_time": "2025-01-11T09:58:05.771Z"
   },
   {
    "duration": 18,
    "start_time": "2025-01-11T09:58:15.740Z"
   },
   {
    "duration": 1089,
    "start_time": "2025-01-11T09:59:01.986Z"
   },
   {
    "duration": 411,
    "start_time": "2025-01-11T09:59:10.869Z"
   },
   {
    "duration": 68,
    "start_time": "2025-01-11T09:59:11.282Z"
   },
   {
    "duration": 14,
    "start_time": "2025-01-11T09:59:11.351Z"
   },
   {
    "duration": 12,
    "start_time": "2025-01-11T09:59:11.366Z"
   },
   {
    "duration": 8,
    "start_time": "2025-01-11T09:59:11.379Z"
   },
   {
    "duration": 9,
    "start_time": "2025-01-11T09:59:11.388Z"
   },
   {
    "duration": 6,
    "start_time": "2025-01-11T09:59:11.399Z"
   },
   {
    "duration": 10,
    "start_time": "2025-01-11T09:59:11.406Z"
   },
   {
    "duration": 12,
    "start_time": "2025-01-11T09:59:11.417Z"
   },
   {
    "duration": 9,
    "start_time": "2025-01-11T09:59:11.432Z"
   },
   {
    "duration": 5,
    "start_time": "2025-01-11T09:59:11.442Z"
   },
   {
    "duration": 65,
    "start_time": "2025-01-11T09:59:11.448Z"
   },
   {
    "duration": 16,
    "start_time": "2025-01-11T09:59:11.514Z"
   },
   {
    "duration": 10,
    "start_time": "2025-01-11T09:59:11.531Z"
   },
   {
    "duration": 8,
    "start_time": "2025-01-11T09:59:11.542Z"
   },
   {
    "duration": 5,
    "start_time": "2025-01-11T09:59:11.551Z"
   },
   {
    "duration": 11,
    "start_time": "2025-01-11T09:59:11.557Z"
   },
   {
    "duration": 224,
    "start_time": "2025-01-11T09:59:11.569Z"
   },
   {
    "duration": 5,
    "start_time": "2025-01-11T09:59:11.795Z"
   },
   {
    "duration": 139,
    "start_time": "2025-01-11T09:59:11.801Z"
   },
   {
    "duration": 5,
    "start_time": "2025-01-11T09:59:11.942Z"
   },
   {
    "duration": 109,
    "start_time": "2025-01-11T09:59:11.948Z"
   },
   {
    "duration": 5,
    "start_time": "2025-01-11T09:59:12.059Z"
   },
   {
    "duration": 21,
    "start_time": "2025-01-11T09:59:12.065Z"
   },
   {
    "duration": 162,
    "start_time": "2025-01-11T09:59:12.088Z"
   },
   {
    "duration": 6,
    "start_time": "2025-01-11T09:59:12.252Z"
   },
   {
    "duration": 14,
    "start_time": "2025-01-11T09:59:12.259Z"
   },
   {
    "duration": 134,
    "start_time": "2025-01-11T09:59:12.288Z"
   },
   {
    "duration": 10,
    "start_time": "2025-01-11T09:59:12.424Z"
   },
   {
    "duration": 106,
    "start_time": "2025-01-11T09:59:12.435Z"
   },
   {
    "duration": 10,
    "start_time": "2025-01-11T09:59:12.542Z"
   },
   {
    "duration": 16,
    "start_time": "2025-01-11T09:59:12.553Z"
   },
   {
    "duration": 21,
    "start_time": "2025-01-11T09:59:12.570Z"
   },
   {
    "duration": 6,
    "start_time": "2025-01-11T09:59:12.593Z"
   },
   {
    "duration": 13,
    "start_time": "2025-01-11T09:59:12.600Z"
   },
   {
    "duration": 7,
    "start_time": "2025-01-11T09:59:12.615Z"
   },
   {
    "duration": 14,
    "start_time": "2025-01-11T09:59:12.623Z"
   },
   {
    "duration": 6,
    "start_time": "2025-01-11T09:59:12.639Z"
   },
   {
    "duration": 13,
    "start_time": "2025-01-11T09:59:12.646Z"
   },
   {
    "duration": 7,
    "start_time": "2025-01-11T09:59:12.686Z"
   },
   {
    "duration": 182,
    "start_time": "2025-01-11T09:59:12.694Z"
   },
   {
    "duration": 183,
    "start_time": "2025-01-11T09:59:12.877Z"
   },
   {
    "duration": 181,
    "start_time": "2025-01-11T09:59:13.062Z"
   },
   {
    "duration": 8,
    "start_time": "2025-01-11T09:59:13.245Z"
   },
   {
    "duration": 8,
    "start_time": "2025-01-11T09:59:13.255Z"
   },
   {
    "duration": 108,
    "start_time": "2025-01-11T09:59:13.265Z"
   },
   {
    "duration": 15,
    "start_time": "2025-01-11T09:59:13.387Z"
   },
   {
    "duration": 5,
    "start_time": "2025-01-11T09:59:13.404Z"
   },
   {
    "duration": 12,
    "start_time": "2025-01-11T09:59:13.410Z"
   },
   {
    "duration": 8,
    "start_time": "2025-01-11T09:59:13.424Z"
   },
   {
    "duration": 5,
    "start_time": "2025-01-11T09:59:13.433Z"
   },
   {
    "duration": 216,
    "start_time": "2025-01-11T09:59:13.439Z"
   },
   {
    "duration": 8,
    "start_time": "2025-01-11T09:59:13.656Z"
   },
   {
    "duration": 5,
    "start_time": "2025-01-11T09:59:13.665Z"
   },
   {
    "duration": 18,
    "start_time": "2025-01-11T09:59:13.671Z"
   },
   {
    "duration": 13,
    "start_time": "2025-01-11T09:59:13.691Z"
   },
   {
    "duration": 18,
    "start_time": "2025-01-11T09:59:13.705Z"
   },
   {
    "duration": 6,
    "start_time": "2025-01-11T09:59:13.724Z"
   },
   {
    "duration": 164,
    "start_time": "2025-01-11T09:59:13.732Z"
   },
   {
    "duration": 195,
    "start_time": "2025-01-11T09:59:13.898Z"
   },
   {
    "duration": 7,
    "start_time": "2025-01-11T09:59:14.094Z"
   },
   {
    "duration": 156,
    "start_time": "2025-01-11T09:59:14.102Z"
   },
   {
    "duration": 179,
    "start_time": "2025-01-11T09:59:14.259Z"
   },
   {
    "duration": 1340,
    "start_time": "2025-01-11T09:59:14.439Z"
   },
   {
    "duration": 0,
    "start_time": "2025-01-11T09:59:15.780Z"
   },
   {
    "duration": 17,
    "start_time": "2025-01-11T10:00:26.815Z"
   },
   {
    "duration": 18,
    "start_time": "2025-01-11T10:00:41.000Z"
   },
   {
    "duration": 19,
    "start_time": "2025-01-11T10:00:48.833Z"
   },
   {
    "duration": 19,
    "start_time": "2025-01-11T10:01:09.324Z"
   },
   {
    "duration": 12,
    "start_time": "2025-01-11T10:03:00.311Z"
   },
   {
    "duration": 74,
    "start_time": "2025-01-11T10:03:12.425Z"
   },
   {
    "duration": 19,
    "start_time": "2025-01-11T10:03:27.476Z"
   },
   {
    "duration": 14,
    "start_time": "2025-01-11T10:07:45.147Z"
   },
   {
    "duration": 14,
    "start_time": "2025-01-11T10:08:30.521Z"
   },
   {
    "duration": 7,
    "start_time": "2025-01-11T10:12:38.459Z"
   },
   {
    "duration": 4,
    "start_time": "2025-01-11T10:12:43.217Z"
   },
   {
    "duration": 14,
    "start_time": "2025-01-11T10:12:49.224Z"
   },
   {
    "duration": 407,
    "start_time": "2025-01-11T10:13:23.687Z"
   },
   {
    "duration": 70,
    "start_time": "2025-01-11T10:13:24.096Z"
   },
   {
    "duration": 14,
    "start_time": "2025-01-11T10:13:24.167Z"
   },
   {
    "duration": 11,
    "start_time": "2025-01-11T10:13:24.183Z"
   },
   {
    "duration": 16,
    "start_time": "2025-01-11T10:13:24.195Z"
   },
   {
    "duration": 13,
    "start_time": "2025-01-11T10:13:24.212Z"
   },
   {
    "duration": 7,
    "start_time": "2025-01-11T10:13:24.226Z"
   },
   {
    "duration": 71,
    "start_time": "2025-01-11T10:13:24.235Z"
   },
   {
    "duration": 25,
    "start_time": "2025-01-11T10:13:24.308Z"
   },
   {
    "duration": 11,
    "start_time": "2025-01-11T10:13:24.338Z"
   },
   {
    "duration": 8,
    "start_time": "2025-01-11T10:13:24.351Z"
   },
   {
    "duration": 12,
    "start_time": "2025-01-11T10:13:24.360Z"
   },
   {
    "duration": 20,
    "start_time": "2025-01-11T10:13:24.373Z"
   },
   {
    "duration": 6,
    "start_time": "2025-01-11T10:13:24.395Z"
   },
   {
    "duration": 9,
    "start_time": "2025-01-11T10:13:24.403Z"
   },
   {
    "duration": 5,
    "start_time": "2025-01-11T10:13:24.414Z"
   },
   {
    "duration": 6,
    "start_time": "2025-01-11T10:13:24.420Z"
   },
   {
    "duration": 261,
    "start_time": "2025-01-11T10:13:24.427Z"
   },
   {
    "duration": 6,
    "start_time": "2025-01-11T10:13:24.690Z"
   },
   {
    "duration": 146,
    "start_time": "2025-01-11T10:13:24.697Z"
   },
   {
    "duration": 5,
    "start_time": "2025-01-11T10:13:24.845Z"
   },
   {
    "duration": 119,
    "start_time": "2025-01-11T10:13:24.852Z"
   },
   {
    "duration": 14,
    "start_time": "2025-01-11T10:13:24.973Z"
   },
   {
    "duration": 9,
    "start_time": "2025-01-11T10:13:24.988Z"
   },
   {
    "duration": 173,
    "start_time": "2025-01-11T10:13:24.998Z"
   },
   {
    "duration": 6,
    "start_time": "2025-01-11T10:13:25.172Z"
   },
   {
    "duration": 14,
    "start_time": "2025-01-11T10:13:25.186Z"
   },
   {
    "duration": 135,
    "start_time": "2025-01-11T10:13:25.204Z"
   },
   {
    "duration": 8,
    "start_time": "2025-01-11T10:13:25.341Z"
   },
   {
    "duration": 120,
    "start_time": "2025-01-11T10:13:25.350Z"
   },
   {
    "duration": 16,
    "start_time": "2025-01-11T10:13:25.471Z"
   },
   {
    "duration": 5,
    "start_time": "2025-01-11T10:13:25.490Z"
   },
   {
    "duration": 10,
    "start_time": "2025-01-11T10:13:25.496Z"
   },
   {
    "duration": 5,
    "start_time": "2025-01-11T10:13:25.507Z"
   },
   {
    "duration": 17,
    "start_time": "2025-01-11T10:13:25.514Z"
   },
   {
    "duration": 28,
    "start_time": "2025-01-11T10:13:25.533Z"
   },
   {
    "duration": 66,
    "start_time": "2025-01-11T10:13:25.563Z"
   },
   {
    "duration": 13,
    "start_time": "2025-01-11T10:13:25.631Z"
   },
   {
    "duration": 9,
    "start_time": "2025-01-11T10:13:25.646Z"
   },
   {
    "duration": 31,
    "start_time": "2025-01-11T10:13:25.656Z"
   },
   {
    "duration": 188,
    "start_time": "2025-01-11T10:13:25.688Z"
   },
   {
    "duration": 188,
    "start_time": "2025-01-11T10:13:25.877Z"
   },
   {
    "duration": 184,
    "start_time": "2025-01-11T10:13:26.067Z"
   },
   {
    "duration": 8,
    "start_time": "2025-01-11T10:13:26.252Z"
   },
   {
    "duration": 52,
    "start_time": "2025-01-11T10:13:26.262Z"
   },
   {
    "duration": 97,
    "start_time": "2025-01-11T10:13:26.315Z"
   },
   {
    "duration": 15,
    "start_time": "2025-01-11T10:13:26.414Z"
   },
   {
    "duration": 4,
    "start_time": "2025-01-11T10:13:26.431Z"
   },
   {
    "duration": 19,
    "start_time": "2025-01-11T10:13:26.437Z"
   },
   {
    "duration": 9,
    "start_time": "2025-01-11T10:13:26.457Z"
   },
   {
    "duration": 21,
    "start_time": "2025-01-11T10:13:26.468Z"
   },
   {
    "duration": 164,
    "start_time": "2025-01-11T10:13:26.491Z"
   },
   {
    "duration": 8,
    "start_time": "2025-01-11T10:13:26.656Z"
   },
   {
    "duration": 5,
    "start_time": "2025-01-11T10:13:26.665Z"
   },
   {
    "duration": 10,
    "start_time": "2025-01-11T10:13:26.686Z"
   },
   {
    "duration": 12,
    "start_time": "2025-01-11T10:13:26.697Z"
   },
   {
    "duration": 19,
    "start_time": "2025-01-11T10:13:26.711Z"
   },
   {
    "duration": 7,
    "start_time": "2025-01-11T10:13:26.731Z"
   },
   {
    "duration": 177,
    "start_time": "2025-01-11T10:13:26.740Z"
   },
   {
    "duration": 209,
    "start_time": "2025-01-11T10:13:26.918Z"
   },
   {
    "duration": 7,
    "start_time": "2025-01-11T10:13:27.129Z"
   },
   {
    "duration": 163,
    "start_time": "2025-01-11T10:13:27.137Z"
   },
   {
    "duration": 186,
    "start_time": "2025-01-11T10:13:27.302Z"
   },
   {
    "duration": 4,
    "start_time": "2025-01-11T10:13:27.490Z"
   },
   {
    "duration": 33,
    "start_time": "2025-01-11T10:13:27.495Z"
   },
   {
    "duration": 99,
    "start_time": "2025-01-11T10:13:27.530Z"
   },
   {
    "duration": 3,
    "start_time": "2025-01-11T10:13:27.632Z"
   },
   {
    "duration": 39,
    "start_time": "2025-01-11T10:13:27.637Z"
   },
   {
    "duration": 416,
    "start_time": "2025-01-11T10:15:36.402Z"
   },
   {
    "duration": 67,
    "start_time": "2025-01-11T10:15:36.820Z"
   },
   {
    "duration": 13,
    "start_time": "2025-01-11T10:15:36.889Z"
   },
   {
    "duration": 14,
    "start_time": "2025-01-11T10:15:36.904Z"
   },
   {
    "duration": 19,
    "start_time": "2025-01-11T10:15:36.919Z"
   },
   {
    "duration": 23,
    "start_time": "2025-01-11T10:15:36.939Z"
   },
   {
    "duration": 14,
    "start_time": "2025-01-11T10:15:36.964Z"
   },
   {
    "duration": 21,
    "start_time": "2025-01-11T10:15:36.980Z"
   },
   {
    "duration": 20,
    "start_time": "2025-01-11T10:15:37.003Z"
   },
   {
    "duration": 10,
    "start_time": "2025-01-11T10:15:37.026Z"
   },
   {
    "duration": 13,
    "start_time": "2025-01-11T10:15:37.037Z"
   },
   {
    "duration": 9,
    "start_time": "2025-01-11T10:15:37.051Z"
   },
   {
    "duration": 20,
    "start_time": "2025-01-11T10:15:37.061Z"
   },
   {
    "duration": 6,
    "start_time": "2025-01-11T10:15:37.082Z"
   },
   {
    "duration": 22,
    "start_time": "2025-01-11T10:15:37.089Z"
   },
   {
    "duration": 6,
    "start_time": "2025-01-11T10:15:37.112Z"
   },
   {
    "duration": 9,
    "start_time": "2025-01-11T10:15:37.119Z"
   },
   {
    "duration": 238,
    "start_time": "2025-01-11T10:15:37.129Z"
   },
   {
    "duration": 5,
    "start_time": "2025-01-11T10:15:37.369Z"
   },
   {
    "duration": 165,
    "start_time": "2025-01-11T10:15:37.387Z"
   },
   {
    "duration": 5,
    "start_time": "2025-01-11T10:15:37.553Z"
   },
   {
    "duration": 104,
    "start_time": "2025-01-11T10:15:37.560Z"
   },
   {
    "duration": 5,
    "start_time": "2025-01-11T10:15:37.665Z"
   },
   {
    "duration": 16,
    "start_time": "2025-01-11T10:15:37.672Z"
   },
   {
    "duration": 161,
    "start_time": "2025-01-11T10:15:37.689Z"
   },
   {
    "duration": 7,
    "start_time": "2025-01-11T10:15:37.852Z"
   },
   {
    "duration": 31,
    "start_time": "2025-01-11T10:15:37.861Z"
   },
   {
    "duration": 130,
    "start_time": "2025-01-11T10:15:37.897Z"
   },
   {
    "duration": 7,
    "start_time": "2025-01-11T10:15:38.029Z"
   },
   {
    "duration": 106,
    "start_time": "2025-01-11T10:15:38.038Z"
   },
   {
    "duration": 10,
    "start_time": "2025-01-11T10:15:38.146Z"
   },
   {
    "duration": 12,
    "start_time": "2025-01-11T10:15:38.157Z"
   },
   {
    "duration": 16,
    "start_time": "2025-01-11T10:15:38.171Z"
   },
   {
    "duration": 30,
    "start_time": "2025-01-11T10:15:38.188Z"
   },
   {
    "duration": 30,
    "start_time": "2025-01-11T10:15:38.220Z"
   },
   {
    "duration": 76,
    "start_time": "2025-01-11T10:15:38.251Z"
   },
   {
    "duration": 31,
    "start_time": "2025-01-11T10:15:38.329Z"
   },
   {
    "duration": 9,
    "start_time": "2025-01-11T10:15:38.362Z"
   },
   {
    "duration": 37,
    "start_time": "2025-01-11T10:15:38.372Z"
   },
   {
    "duration": 33,
    "start_time": "2025-01-11T10:15:38.411Z"
   },
   {
    "duration": 199,
    "start_time": "2025-01-11T10:15:38.446Z"
   },
   {
    "duration": 188,
    "start_time": "2025-01-11T10:15:38.647Z"
   },
   {
    "duration": 176,
    "start_time": "2025-01-11T10:15:38.837Z"
   },
   {
    "duration": 8,
    "start_time": "2025-01-11T10:15:39.015Z"
   },
   {
    "duration": 7,
    "start_time": "2025-01-11T10:15:39.025Z"
   },
   {
    "duration": 112,
    "start_time": "2025-01-11T10:15:39.033Z"
   },
   {
    "duration": 14,
    "start_time": "2025-01-11T10:15:39.147Z"
   },
   {
    "duration": 9,
    "start_time": "2025-01-11T10:15:39.162Z"
   },
   {
    "duration": 20,
    "start_time": "2025-01-11T10:15:39.172Z"
   },
   {
    "duration": 26,
    "start_time": "2025-01-11T10:15:39.193Z"
   },
   {
    "duration": 14,
    "start_time": "2025-01-11T10:15:39.220Z"
   },
   {
    "duration": 166,
    "start_time": "2025-01-11T10:15:39.235Z"
   },
   {
    "duration": 8,
    "start_time": "2025-01-11T10:15:39.402Z"
   },
   {
    "duration": 14,
    "start_time": "2025-01-11T10:15:39.412Z"
   },
   {
    "duration": 14,
    "start_time": "2025-01-11T10:15:39.428Z"
   },
   {
    "duration": 13,
    "start_time": "2025-01-11T10:15:39.445Z"
   },
   {
    "duration": 28,
    "start_time": "2025-01-11T10:15:39.461Z"
   },
   {
    "duration": 24,
    "start_time": "2025-01-11T10:15:39.491Z"
   },
   {
    "duration": 12,
    "start_time": "2025-01-11T10:15:39.517Z"
   },
   {
    "duration": 161,
    "start_time": "2025-01-11T10:15:39.530Z"
   },
   {
    "duration": 227,
    "start_time": "2025-01-11T10:15:39.692Z"
   },
   {
    "duration": 7,
    "start_time": "2025-01-11T10:15:39.920Z"
   },
   {
    "duration": 229,
    "start_time": "2025-01-11T10:15:39.928Z"
   },
   {
    "duration": 167,
    "start_time": "2025-01-11T10:15:40.158Z"
   },
   {
    "duration": 19,
    "start_time": "2025-01-11T10:15:40.327Z"
   },
   {
    "duration": 115,
    "start_time": "2025-01-11T10:15:40.347Z"
   },
   {
    "duration": 30,
    "start_time": "2025-01-11T10:15:40.463Z"
   },
   {
    "duration": 21,
    "start_time": "2025-01-11T10:15:40.494Z"
   },
   {
    "duration": 388,
    "start_time": "2025-01-11T10:17:45.614Z"
   },
   {
    "duration": 67,
    "start_time": "2025-01-11T10:17:46.004Z"
   },
   {
    "duration": 14,
    "start_time": "2025-01-11T10:17:46.072Z"
   },
   {
    "duration": 10,
    "start_time": "2025-01-11T10:17:46.087Z"
   },
   {
    "duration": 12,
    "start_time": "2025-01-11T10:17:46.099Z"
   },
   {
    "duration": 13,
    "start_time": "2025-01-11T10:17:46.112Z"
   },
   {
    "duration": 6,
    "start_time": "2025-01-11T10:17:46.127Z"
   },
   {
    "duration": 9,
    "start_time": "2025-01-11T10:17:46.134Z"
   },
   {
    "duration": 15,
    "start_time": "2025-01-11T10:17:46.145Z"
   },
   {
    "duration": 34,
    "start_time": "2025-01-11T10:17:46.161Z"
   },
   {
    "duration": 5,
    "start_time": "2025-01-11T10:17:46.196Z"
   },
   {
    "duration": 4,
    "start_time": "2025-01-11T10:17:46.203Z"
   },
   {
    "duration": 12,
    "start_time": "2025-01-11T10:17:46.209Z"
   },
   {
    "duration": 5,
    "start_time": "2025-01-11T10:17:46.223Z"
   },
   {
    "duration": 7,
    "start_time": "2025-01-11T10:17:46.230Z"
   },
   {
    "duration": 5,
    "start_time": "2025-01-11T10:17:46.238Z"
   },
   {
    "duration": 7,
    "start_time": "2025-01-11T10:17:46.244Z"
   },
   {
    "duration": 229,
    "start_time": "2025-01-11T10:17:46.286Z"
   },
   {
    "duration": 5,
    "start_time": "2025-01-11T10:17:46.517Z"
   },
   {
    "duration": 143,
    "start_time": "2025-01-11T10:17:46.524Z"
   },
   {
    "duration": 5,
    "start_time": "2025-01-11T10:17:46.669Z"
   },
   {
    "duration": 102,
    "start_time": "2025-01-11T10:17:46.686Z"
   },
   {
    "duration": 5,
    "start_time": "2025-01-11T10:17:46.789Z"
   },
   {
    "duration": 11,
    "start_time": "2025-01-11T10:17:46.796Z"
   },
   {
    "duration": 169,
    "start_time": "2025-01-11T10:17:46.809Z"
   },
   {
    "duration": 10,
    "start_time": "2025-01-11T10:17:46.980Z"
   },
   {
    "duration": 13,
    "start_time": "2025-01-11T10:17:46.991Z"
   },
   {
    "duration": 132,
    "start_time": "2025-01-11T10:17:47.006Z"
   },
   {
    "duration": 8,
    "start_time": "2025-01-11T10:17:47.139Z"
   },
   {
    "duration": 107,
    "start_time": "2025-01-11T10:17:47.148Z"
   },
   {
    "duration": 10,
    "start_time": "2025-01-11T10:17:47.256Z"
   },
   {
    "duration": 21,
    "start_time": "2025-01-11T10:17:47.267Z"
   },
   {
    "duration": 7,
    "start_time": "2025-01-11T10:17:47.289Z"
   },
   {
    "duration": 20,
    "start_time": "2025-01-11T10:17:47.297Z"
   },
   {
    "duration": 35,
    "start_time": "2025-01-11T10:17:47.319Z"
   },
   {
    "duration": 7,
    "start_time": "2025-01-11T10:17:47.356Z"
   },
   {
    "duration": 14,
    "start_time": "2025-01-11T10:17:47.364Z"
   },
   {
    "duration": 6,
    "start_time": "2025-01-11T10:17:47.380Z"
   },
   {
    "duration": 6,
    "start_time": "2025-01-11T10:17:47.388Z"
   },
   {
    "duration": 10,
    "start_time": "2025-01-11T10:17:47.395Z"
   },
   {
    "duration": 186,
    "start_time": "2025-01-11T10:17:47.409Z"
   },
   {
    "duration": 192,
    "start_time": "2025-01-11T10:17:47.596Z"
   },
   {
    "duration": 177,
    "start_time": "2025-01-11T10:17:47.789Z"
   },
   {
    "duration": 7,
    "start_time": "2025-01-11T10:17:47.968Z"
   },
   {
    "duration": 28,
    "start_time": "2025-01-11T10:17:47.976Z"
   },
   {
    "duration": 88,
    "start_time": "2025-01-11T10:17:48.005Z"
   },
   {
    "duration": 14,
    "start_time": "2025-01-11T10:17:48.095Z"
   },
   {
    "duration": 4,
    "start_time": "2025-01-11T10:17:48.111Z"
   },
   {
    "duration": 15,
    "start_time": "2025-01-11T10:17:48.117Z"
   },
   {
    "duration": 14,
    "start_time": "2025-01-11T10:17:48.133Z"
   },
   {
    "duration": 5,
    "start_time": "2025-01-11T10:17:48.148Z"
   },
   {
    "duration": 182,
    "start_time": "2025-01-11T10:17:48.155Z"
   },
   {
    "duration": 8,
    "start_time": "2025-01-11T10:17:48.339Z"
   },
   {
    "duration": 5,
    "start_time": "2025-01-11T10:17:48.348Z"
   },
   {
    "duration": 3,
    "start_time": "2025-01-11T10:17:48.355Z"
   },
   {
    "duration": 29,
    "start_time": "2025-01-11T10:17:48.359Z"
   },
   {
    "duration": 11,
    "start_time": "2025-01-11T10:17:48.390Z"
   },
   {
    "duration": 18,
    "start_time": "2025-01-11T10:17:48.403Z"
   },
   {
    "duration": 6,
    "start_time": "2025-01-11T10:17:48.422Z"
   },
   {
    "duration": 164,
    "start_time": "2025-01-11T10:17:48.430Z"
   },
   {
    "duration": 214,
    "start_time": "2025-01-11T10:17:48.595Z"
   },
   {
    "duration": 6,
    "start_time": "2025-01-11T10:17:48.811Z"
   },
   {
    "duration": 159,
    "start_time": "2025-01-11T10:17:48.819Z"
   },
   {
    "duration": 159,
    "start_time": "2025-01-11T10:17:48.979Z"
   },
   {
    "duration": 19,
    "start_time": "2025-01-11T10:17:49.140Z"
   },
   {
    "duration": 12,
    "start_time": "2025-01-11T10:17:49.160Z"
   },
   {
    "duration": 4,
    "start_time": "2025-01-11T10:17:49.186Z"
   },
   {
    "duration": 13,
    "start_time": "2025-01-11T10:17:49.191Z"
   },
   {
    "duration": 14,
    "start_time": "2025-01-11T10:18:53.650Z"
   },
   {
    "duration": 15,
    "start_time": "2025-01-11T10:18:57.644Z"
   },
   {
    "duration": 102,
    "start_time": "2025-01-11T10:19:00.940Z"
   },
   {
    "duration": 16,
    "start_time": "2025-01-11T10:19:03.933Z"
   },
   {
    "duration": 17,
    "start_time": "2025-01-11T10:31:55.967Z"
   },
   {
    "duration": 17,
    "start_time": "2025-01-11T10:34:13.226Z"
   },
   {
    "duration": 17,
    "start_time": "2025-01-11T10:34:24.362Z"
   },
   {
    "duration": 20,
    "start_time": "2025-01-11T10:34:31.815Z"
   },
   {
    "duration": 12,
    "start_time": "2025-01-11T10:39:24.610Z"
   },
   {
    "duration": 23,
    "start_time": "2025-01-11T10:39:29.486Z"
   },
   {
    "duration": 10,
    "start_time": "2025-01-11T10:39:47.532Z"
   },
   {
    "duration": 14,
    "start_time": "2025-01-11T10:42:33.117Z"
   },
   {
    "duration": 435,
    "start_time": "2025-01-11T10:42:42.265Z"
   },
   {
    "duration": 69,
    "start_time": "2025-01-11T10:42:42.702Z"
   },
   {
    "duration": 15,
    "start_time": "2025-01-11T10:42:42.772Z"
   },
   {
    "duration": 9,
    "start_time": "2025-01-11T10:42:42.789Z"
   },
   {
    "duration": 12,
    "start_time": "2025-01-11T10:42:42.800Z"
   },
   {
    "duration": 9,
    "start_time": "2025-01-11T10:42:42.814Z"
   },
   {
    "duration": 21,
    "start_time": "2025-01-11T10:42:42.825Z"
   },
   {
    "duration": 15,
    "start_time": "2025-01-11T10:42:42.847Z"
   },
   {
    "duration": 24,
    "start_time": "2025-01-11T10:42:42.864Z"
   },
   {
    "duration": 9,
    "start_time": "2025-01-11T10:42:42.891Z"
   },
   {
    "duration": 6,
    "start_time": "2025-01-11T10:42:42.901Z"
   },
   {
    "duration": 20,
    "start_time": "2025-01-11T10:42:42.908Z"
   },
   {
    "duration": 17,
    "start_time": "2025-01-11T10:42:42.930Z"
   },
   {
    "duration": 22,
    "start_time": "2025-01-11T10:42:42.949Z"
   },
   {
    "duration": 22,
    "start_time": "2025-01-11T10:42:42.972Z"
   },
   {
    "duration": 9,
    "start_time": "2025-01-11T10:42:42.996Z"
   },
   {
    "duration": 19,
    "start_time": "2025-01-11T10:42:43.007Z"
   },
   {
    "duration": 246,
    "start_time": "2025-01-11T10:42:43.027Z"
   },
   {
    "duration": 6,
    "start_time": "2025-01-11T10:42:43.275Z"
   },
   {
    "duration": 146,
    "start_time": "2025-01-11T10:42:43.285Z"
   },
   {
    "duration": 5,
    "start_time": "2025-01-11T10:42:43.433Z"
   },
   {
    "duration": 148,
    "start_time": "2025-01-11T10:42:43.440Z"
   },
   {
    "duration": 6,
    "start_time": "2025-01-11T10:42:43.590Z"
   },
   {
    "duration": 11,
    "start_time": "2025-01-11T10:42:43.597Z"
   },
   {
    "duration": 182,
    "start_time": "2025-01-11T10:42:43.609Z"
   },
   {
    "duration": 7,
    "start_time": "2025-01-11T10:42:43.792Z"
   },
   {
    "duration": 15,
    "start_time": "2025-01-11T10:42:43.800Z"
   },
   {
    "duration": 147,
    "start_time": "2025-01-11T10:42:43.819Z"
   },
   {
    "duration": 19,
    "start_time": "2025-01-11T10:42:43.968Z"
   },
   {
    "duration": 104,
    "start_time": "2025-01-11T10:42:43.989Z"
   },
   {
    "duration": 9,
    "start_time": "2025-01-11T10:42:44.095Z"
   },
   {
    "duration": 26,
    "start_time": "2025-01-11T10:42:44.106Z"
   },
   {
    "duration": 10,
    "start_time": "2025-01-11T10:42:44.133Z"
   },
   {
    "duration": 11,
    "start_time": "2025-01-11T10:42:44.145Z"
   },
   {
    "duration": 13,
    "start_time": "2025-01-11T10:42:44.158Z"
   },
   {
    "duration": 16,
    "start_time": "2025-01-11T10:42:44.172Z"
   },
   {
    "duration": 15,
    "start_time": "2025-01-11T10:42:44.189Z"
   },
   {
    "duration": 7,
    "start_time": "2025-01-11T10:42:44.205Z"
   },
   {
    "duration": 15,
    "start_time": "2025-01-11T10:42:44.213Z"
   },
   {
    "duration": 7,
    "start_time": "2025-01-11T10:42:44.229Z"
   },
   {
    "duration": 208,
    "start_time": "2025-01-11T10:42:44.237Z"
   },
   {
    "duration": 182,
    "start_time": "2025-01-11T10:42:44.447Z"
   },
   {
    "duration": 190,
    "start_time": "2025-01-11T10:42:44.631Z"
   },
   {
    "duration": 7,
    "start_time": "2025-01-11T10:42:44.823Z"
   },
   {
    "duration": 6,
    "start_time": "2025-01-11T10:42:44.832Z"
   },
   {
    "duration": 115,
    "start_time": "2025-01-11T10:42:44.840Z"
   },
   {
    "duration": 14,
    "start_time": "2025-01-11T10:42:44.957Z"
   },
   {
    "duration": 17,
    "start_time": "2025-01-11T10:42:44.972Z"
   },
   {
    "duration": 12,
    "start_time": "2025-01-11T10:42:44.990Z"
   },
   {
    "duration": 8,
    "start_time": "2025-01-11T10:42:45.003Z"
   },
   {
    "duration": 50,
    "start_time": "2025-01-11T10:42:45.012Z"
   },
   {
    "duration": 205,
    "start_time": "2025-01-11T10:42:45.064Z"
   },
   {
    "duration": 8,
    "start_time": "2025-01-11T10:42:45.271Z"
   },
   {
    "duration": 27,
    "start_time": "2025-01-11T10:42:45.287Z"
   },
   {
    "duration": 33,
    "start_time": "2025-01-11T10:42:45.316Z"
   },
   {
    "duration": 28,
    "start_time": "2025-01-11T10:42:45.351Z"
   },
   {
    "duration": 19,
    "start_time": "2025-01-11T10:42:45.381Z"
   },
   {
    "duration": 23,
    "start_time": "2025-01-11T10:42:45.401Z"
   },
   {
    "duration": 20,
    "start_time": "2025-01-11T10:42:45.426Z"
   },
   {
    "duration": 174,
    "start_time": "2025-01-11T10:42:45.448Z"
   },
   {
    "duration": 234,
    "start_time": "2025-01-11T10:42:45.624Z"
   },
   {
    "duration": 8,
    "start_time": "2025-01-11T10:42:45.860Z"
   },
   {
    "duration": 169,
    "start_time": "2025-01-11T10:42:45.870Z"
   },
   {
    "duration": 170,
    "start_time": "2025-01-11T10:42:46.040Z"
   },
   {
    "duration": 18,
    "start_time": "2025-01-11T10:42:46.212Z"
   },
   {
    "duration": 14,
    "start_time": "2025-01-11T10:42:46.232Z"
   },
   {
    "duration": 10,
    "start_time": "2025-01-11T10:42:46.248Z"
   },
   {
    "duration": 36,
    "start_time": "2025-01-11T10:42:46.259Z"
   },
   {
    "duration": 5,
    "start_time": "2025-01-11T10:44:01.088Z"
   },
   {
    "duration": 7,
    "start_time": "2025-01-11T10:44:09.450Z"
   },
   {
    "duration": 4,
    "start_time": "2025-01-11T10:44:17.704Z"
   },
   {
    "duration": 15,
    "start_time": "2025-01-11T10:45:12.426Z"
   },
   {
    "duration": 19,
    "start_time": "2025-01-11T10:45:16.846Z"
   },
   {
    "duration": 18,
    "start_time": "2025-01-11T10:45:36.683Z"
   },
   {
    "duration": 17,
    "start_time": "2025-01-11T10:50:30.135Z"
   },
   {
    "duration": 13,
    "start_time": "2025-01-11T10:50:32.916Z"
   },
   {
    "duration": 10,
    "start_time": "2025-01-11T10:50:35.271Z"
   },
   {
    "duration": 17,
    "start_time": "2025-01-11T10:50:36.834Z"
   },
   {
    "duration": 17,
    "start_time": "2025-01-11T10:51:02.083Z"
   },
   {
    "duration": 6,
    "start_time": "2025-01-11T10:51:05.746Z"
   },
   {
    "duration": 18,
    "start_time": "2025-01-11T10:51:10.247Z"
   },
   {
    "duration": 12,
    "start_time": "2025-01-11T10:51:53.727Z"
   },
   {
    "duration": 19,
    "start_time": "2025-01-11T10:56:42.761Z"
   },
   {
    "duration": 84,
    "start_time": "2025-01-11T10:56:58.887Z"
   },
   {
    "duration": 13,
    "start_time": "2025-01-11T10:57:03.691Z"
   },
   {
    "duration": 412,
    "start_time": "2025-01-11T10:57:09.801Z"
   },
   {
    "duration": 68,
    "start_time": "2025-01-11T10:57:10.215Z"
   },
   {
    "duration": 14,
    "start_time": "2025-01-11T10:57:10.284Z"
   },
   {
    "duration": 36,
    "start_time": "2025-01-11T10:57:10.300Z"
   },
   {
    "duration": 10,
    "start_time": "2025-01-11T10:57:10.338Z"
   },
   {
    "duration": 29,
    "start_time": "2025-01-11T10:57:10.349Z"
   },
   {
    "duration": 16,
    "start_time": "2025-01-11T10:57:10.380Z"
   },
   {
    "duration": 38,
    "start_time": "2025-01-11T10:57:10.397Z"
   },
   {
    "duration": 28,
    "start_time": "2025-01-11T10:57:10.436Z"
   },
   {
    "duration": 36,
    "start_time": "2025-01-11T10:57:10.468Z"
   },
   {
    "duration": 11,
    "start_time": "2025-01-11T10:57:10.506Z"
   },
   {
    "duration": 9,
    "start_time": "2025-01-11T10:57:10.518Z"
   },
   {
    "duration": 11,
    "start_time": "2025-01-11T10:57:10.528Z"
   },
   {
    "duration": 5,
    "start_time": "2025-01-11T10:57:10.540Z"
   },
   {
    "duration": 11,
    "start_time": "2025-01-11T10:57:10.547Z"
   },
   {
    "duration": 5,
    "start_time": "2025-01-11T10:57:10.560Z"
   },
   {
    "duration": 27,
    "start_time": "2025-01-11T10:57:10.566Z"
   },
   {
    "duration": 232,
    "start_time": "2025-01-11T10:57:10.594Z"
   },
   {
    "duration": 6,
    "start_time": "2025-01-11T10:57:10.828Z"
   },
   {
    "duration": 138,
    "start_time": "2025-01-11T10:57:10.835Z"
   },
   {
    "duration": 12,
    "start_time": "2025-01-11T10:57:10.974Z"
   },
   {
    "duration": 106,
    "start_time": "2025-01-11T10:57:10.988Z"
   },
   {
    "duration": 6,
    "start_time": "2025-01-11T10:57:11.095Z"
   },
   {
    "duration": 9,
    "start_time": "2025-01-11T10:57:11.103Z"
   },
   {
    "duration": 172,
    "start_time": "2025-01-11T10:57:11.113Z"
   },
   {
    "duration": 6,
    "start_time": "2025-01-11T10:57:11.287Z"
   },
   {
    "duration": 14,
    "start_time": "2025-01-11T10:57:11.295Z"
   },
   {
    "duration": 135,
    "start_time": "2025-01-11T10:57:11.313Z"
   },
   {
    "duration": 8,
    "start_time": "2025-01-11T10:57:11.450Z"
   },
   {
    "duration": 105,
    "start_time": "2025-01-11T10:57:11.460Z"
   },
   {
    "duration": 23,
    "start_time": "2025-01-11T10:57:11.566Z"
   },
   {
    "duration": 5,
    "start_time": "2025-01-11T10:57:11.591Z"
   },
   {
    "duration": 13,
    "start_time": "2025-01-11T10:57:11.598Z"
   },
   {
    "duration": 5,
    "start_time": "2025-01-11T10:57:11.613Z"
   },
   {
    "duration": 14,
    "start_time": "2025-01-11T10:57:11.620Z"
   },
   {
    "duration": 7,
    "start_time": "2025-01-11T10:57:11.636Z"
   },
   {
    "duration": 48,
    "start_time": "2025-01-11T10:57:11.645Z"
   },
   {
    "duration": 7,
    "start_time": "2025-01-11T10:57:11.694Z"
   },
   {
    "duration": 9,
    "start_time": "2025-01-11T10:57:11.702Z"
   },
   {
    "duration": 8,
    "start_time": "2025-01-11T10:57:11.712Z"
   },
   {
    "duration": 190,
    "start_time": "2025-01-11T10:57:11.721Z"
   },
   {
    "duration": 180,
    "start_time": "2025-01-11T10:57:11.912Z"
   },
   {
    "duration": 178,
    "start_time": "2025-01-11T10:57:12.093Z"
   },
   {
    "duration": 15,
    "start_time": "2025-01-11T10:57:12.272Z"
   },
   {
    "duration": 7,
    "start_time": "2025-01-11T10:57:12.288Z"
   },
   {
    "duration": 100,
    "start_time": "2025-01-11T10:57:12.296Z"
   },
   {
    "duration": 14,
    "start_time": "2025-01-11T10:57:12.398Z"
   },
   {
    "duration": 4,
    "start_time": "2025-01-11T10:57:12.413Z"
   },
   {
    "duration": 11,
    "start_time": "2025-01-11T10:57:12.419Z"
   },
   {
    "duration": 14,
    "start_time": "2025-01-11T10:57:12.431Z"
   },
   {
    "duration": 12,
    "start_time": "2025-01-11T10:57:12.447Z"
   },
   {
    "duration": 161,
    "start_time": "2025-01-11T10:57:12.460Z"
   },
   {
    "duration": 7,
    "start_time": "2025-01-11T10:57:12.623Z"
   },
   {
    "duration": 12,
    "start_time": "2025-01-11T10:57:12.631Z"
   },
   {
    "duration": 10,
    "start_time": "2025-01-11T10:57:12.645Z"
   },
   {
    "duration": 10,
    "start_time": "2025-01-11T10:57:12.656Z"
   },
   {
    "duration": 26,
    "start_time": "2025-01-11T10:57:12.667Z"
   },
   {
    "duration": 20,
    "start_time": "2025-01-11T10:57:12.694Z"
   },
   {
    "duration": 7,
    "start_time": "2025-01-11T10:57:12.716Z"
   },
   {
    "duration": 154,
    "start_time": "2025-01-11T10:57:12.724Z"
   },
   {
    "duration": 212,
    "start_time": "2025-01-11T10:57:12.886Z"
   },
   {
    "duration": 7,
    "start_time": "2025-01-11T10:57:13.099Z"
   },
   {
    "duration": 156,
    "start_time": "2025-01-11T10:57:13.108Z"
   },
   {
    "duration": 159,
    "start_time": "2025-01-11T10:57:13.266Z"
   },
   {
    "duration": 16,
    "start_time": "2025-01-11T10:57:13.427Z"
   },
   {
    "duration": 24,
    "start_time": "2025-01-11T10:57:13.445Z"
   },
   {
    "duration": 19,
    "start_time": "2025-01-11T10:57:13.470Z"
   },
   {
    "duration": 4,
    "start_time": "2025-01-11T10:57:13.490Z"
   },
   {
    "duration": 81,
    "start_time": "2025-01-11T10:57:13.495Z"
   },
   {
    "duration": 405,
    "start_time": "2025-01-11T11:04:43.797Z"
   },
   {
    "duration": 65,
    "start_time": "2025-01-11T11:04:44.205Z"
   },
   {
    "duration": 14,
    "start_time": "2025-01-11T11:04:44.271Z"
   },
   {
    "duration": 10,
    "start_time": "2025-01-11T11:04:44.287Z"
   },
   {
    "duration": 7,
    "start_time": "2025-01-11T11:04:44.299Z"
   },
   {
    "duration": 15,
    "start_time": "2025-01-11T11:04:44.308Z"
   },
   {
    "duration": 16,
    "start_time": "2025-01-11T11:04:44.324Z"
   },
   {
    "duration": 9,
    "start_time": "2025-01-11T11:04:44.341Z"
   },
   {
    "duration": 13,
    "start_time": "2025-01-11T11:04:44.351Z"
   },
   {
    "duration": 26,
    "start_time": "2025-01-11T11:04:44.366Z"
   },
   {
    "duration": 5,
    "start_time": "2025-01-11T11:04:44.393Z"
   },
   {
    "duration": 7,
    "start_time": "2025-01-11T11:04:44.399Z"
   },
   {
    "duration": 11,
    "start_time": "2025-01-11T11:04:44.408Z"
   },
   {
    "duration": 5,
    "start_time": "2025-01-11T11:04:44.422Z"
   },
   {
    "duration": 17,
    "start_time": "2025-01-11T11:04:44.429Z"
   },
   {
    "duration": 4,
    "start_time": "2025-01-11T11:04:44.448Z"
   },
   {
    "duration": 5,
    "start_time": "2025-01-11T11:04:44.453Z"
   },
   {
    "duration": 221,
    "start_time": "2025-01-11T11:04:44.486Z"
   },
   {
    "duration": 5,
    "start_time": "2025-01-11T11:04:44.709Z"
   },
   {
    "duration": 136,
    "start_time": "2025-01-11T11:04:44.715Z"
   },
   {
    "duration": 5,
    "start_time": "2025-01-11T11:04:44.853Z"
   },
   {
    "duration": 110,
    "start_time": "2025-01-11T11:04:44.859Z"
   },
   {
    "duration": 6,
    "start_time": "2025-01-11T11:04:44.970Z"
   },
   {
    "duration": 7,
    "start_time": "2025-01-11T11:04:44.986Z"
   },
   {
    "duration": 164,
    "start_time": "2025-01-11T11:04:44.995Z"
   },
   {
    "duration": 5,
    "start_time": "2025-01-11T11:04:45.162Z"
   },
   {
    "duration": 51,
    "start_time": "2025-01-11T11:04:45.168Z"
   },
   {
    "duration": 120,
    "start_time": "2025-01-11T11:04:45.220Z"
   },
   {
    "duration": 7,
    "start_time": "2025-01-11T11:04:45.342Z"
   },
   {
    "duration": 112,
    "start_time": "2025-01-11T11:04:45.350Z"
   },
   {
    "duration": 9,
    "start_time": "2025-01-11T11:04:45.463Z"
   },
   {
    "duration": 6,
    "start_time": "2025-01-11T11:04:45.474Z"
   },
   {
    "duration": 11,
    "start_time": "2025-01-11T11:04:45.486Z"
   },
   {
    "duration": 7,
    "start_time": "2025-01-11T11:04:45.498Z"
   },
   {
    "duration": 29,
    "start_time": "2025-01-11T11:04:45.507Z"
   },
   {
    "duration": 57,
    "start_time": "2025-01-11T11:04:45.537Z"
   },
   {
    "duration": 43,
    "start_time": "2025-01-11T11:04:45.596Z"
   },
   {
    "duration": 7,
    "start_time": "2025-01-11T11:04:45.640Z"
   },
   {
    "duration": 12,
    "start_time": "2025-01-11T11:04:45.648Z"
   },
   {
    "duration": 16,
    "start_time": "2025-01-11T11:04:45.662Z"
   },
   {
    "duration": 176,
    "start_time": "2025-01-11T11:04:45.682Z"
   },
   {
    "duration": 181,
    "start_time": "2025-01-11T11:04:45.860Z"
   },
   {
    "duration": 177,
    "start_time": "2025-01-11T11:04:46.043Z"
   },
   {
    "duration": 7,
    "start_time": "2025-01-11T11:04:46.221Z"
   },
   {
    "duration": 20,
    "start_time": "2025-01-11T11:04:46.230Z"
   },
   {
    "duration": 95,
    "start_time": "2025-01-11T11:04:46.252Z"
   },
   {
    "duration": 15,
    "start_time": "2025-01-11T11:04:46.349Z"
   },
   {
    "duration": 22,
    "start_time": "2025-01-11T11:04:46.366Z"
   },
   {
    "duration": 13,
    "start_time": "2025-01-11T11:04:46.389Z"
   },
   {
    "duration": 12,
    "start_time": "2025-01-11T11:04:46.404Z"
   },
   {
    "duration": 27,
    "start_time": "2025-01-11T11:04:46.418Z"
   },
   {
    "duration": 173,
    "start_time": "2025-01-11T11:04:46.447Z"
   },
   {
    "duration": 8,
    "start_time": "2025-01-11T11:04:46.622Z"
   },
   {
    "duration": 69,
    "start_time": "2025-01-11T11:04:46.633Z"
   },
   {
    "duration": 5,
    "start_time": "2025-01-11T11:04:46.704Z"
   },
   {
    "duration": 38,
    "start_time": "2025-01-11T11:04:46.711Z"
   },
   {
    "duration": 12,
    "start_time": "2025-01-11T11:04:46.751Z"
   },
   {
    "duration": 24,
    "start_time": "2025-01-11T11:04:46.765Z"
   },
   {
    "duration": 10,
    "start_time": "2025-01-11T11:04:46.791Z"
   },
   {
    "duration": 148,
    "start_time": "2025-01-11T11:04:46.802Z"
   },
   {
    "duration": 222,
    "start_time": "2025-01-11T11:04:46.951Z"
   },
   {
    "duration": 13,
    "start_time": "2025-01-11T11:04:47.175Z"
   },
   {
    "duration": 160,
    "start_time": "2025-01-11T11:04:47.190Z"
   },
   {
    "duration": 165,
    "start_time": "2025-01-11T11:04:47.352Z"
   },
   {
    "duration": 17,
    "start_time": "2025-01-11T11:04:47.519Z"
   },
   {
    "duration": 89,
    "start_time": "2025-01-11T11:04:47.537Z"
   },
   {
    "duration": 11,
    "start_time": "2025-01-11T11:04:47.628Z"
   },
   {
    "duration": 4,
    "start_time": "2025-01-11T11:04:47.641Z"
   },
   {
    "duration": 57,
    "start_time": "2025-01-11T11:04:47.646Z"
   },
   {
    "duration": 423,
    "start_time": "2025-01-11T11:14:17.977Z"
   },
   {
    "duration": 66,
    "start_time": "2025-01-11T11:14:18.403Z"
   },
   {
    "duration": 14,
    "start_time": "2025-01-11T11:14:18.470Z"
   },
   {
    "duration": 10,
    "start_time": "2025-01-11T11:14:18.486Z"
   },
   {
    "duration": 14,
    "start_time": "2025-01-11T11:14:18.497Z"
   },
   {
    "duration": 17,
    "start_time": "2025-01-11T11:14:18.513Z"
   },
   {
    "duration": 8,
    "start_time": "2025-01-11T11:14:18.531Z"
   },
   {
    "duration": 18,
    "start_time": "2025-01-11T11:14:18.540Z"
   },
   {
    "duration": 13,
    "start_time": "2025-01-11T11:14:18.560Z"
   },
   {
    "duration": 13,
    "start_time": "2025-01-11T11:14:18.575Z"
   },
   {
    "duration": 4,
    "start_time": "2025-01-11T11:14:18.590Z"
   },
   {
    "duration": 5,
    "start_time": "2025-01-11T11:14:18.596Z"
   },
   {
    "duration": 15,
    "start_time": "2025-01-11T11:14:18.602Z"
   },
   {
    "duration": 5,
    "start_time": "2025-01-11T11:14:18.618Z"
   },
   {
    "duration": 27,
    "start_time": "2025-01-11T11:14:18.624Z"
   },
   {
    "duration": 7,
    "start_time": "2025-01-11T11:14:18.652Z"
   },
   {
    "duration": 16,
    "start_time": "2025-01-11T11:14:18.661Z"
   },
   {
    "duration": 230,
    "start_time": "2025-01-11T11:14:18.679Z"
   },
   {
    "duration": 6,
    "start_time": "2025-01-11T11:14:18.910Z"
   },
   {
    "duration": 147,
    "start_time": "2025-01-11T11:14:18.917Z"
   },
   {
    "duration": 5,
    "start_time": "2025-01-11T11:14:19.066Z"
   },
   {
    "duration": 113,
    "start_time": "2025-01-11T11:14:19.073Z"
   },
   {
    "duration": 6,
    "start_time": "2025-01-11T11:14:19.188Z"
   },
   {
    "duration": 8,
    "start_time": "2025-01-11T11:14:19.195Z"
   },
   {
    "duration": 171,
    "start_time": "2025-01-11T11:14:19.204Z"
   },
   {
    "duration": 11,
    "start_time": "2025-01-11T11:14:19.377Z"
   },
   {
    "duration": 13,
    "start_time": "2025-01-11T11:14:19.389Z"
   },
   {
    "duration": 152,
    "start_time": "2025-01-11T11:14:19.406Z"
   },
   {
    "duration": 9,
    "start_time": "2025-01-11T11:14:19.559Z"
   },
   {
    "duration": 124,
    "start_time": "2025-01-11T11:14:19.569Z"
   },
   {
    "duration": 9,
    "start_time": "2025-01-11T11:14:19.695Z"
   },
   {
    "duration": 5,
    "start_time": "2025-01-11T11:14:19.706Z"
   },
   {
    "duration": 19,
    "start_time": "2025-01-11T11:14:19.712Z"
   },
   {
    "duration": 4,
    "start_time": "2025-01-11T11:14:19.732Z"
   },
   {
    "duration": 15,
    "start_time": "2025-01-11T11:14:19.738Z"
   },
   {
    "duration": 7,
    "start_time": "2025-01-11T11:14:19.754Z"
   },
   {
    "duration": 32,
    "start_time": "2025-01-11T11:14:19.762Z"
   },
   {
    "duration": 6,
    "start_time": "2025-01-11T11:14:19.796Z"
   },
   {
    "duration": 66,
    "start_time": "2025-01-11T11:14:19.803Z"
   },
   {
    "duration": 12,
    "start_time": "2025-01-11T11:14:19.871Z"
   },
   {
    "duration": 174,
    "start_time": "2025-01-11T11:14:19.885Z"
   },
   {
    "duration": 181,
    "start_time": "2025-01-11T11:14:20.061Z"
   },
   {
    "duration": 180,
    "start_time": "2025-01-11T11:14:20.243Z"
   },
   {
    "duration": 7,
    "start_time": "2025-01-11T11:14:20.424Z"
   },
   {
    "duration": 7,
    "start_time": "2025-01-11T11:14:20.433Z"
   },
   {
    "duration": 101,
    "start_time": "2025-01-11T11:14:20.442Z"
   },
   {
    "duration": 13,
    "start_time": "2025-01-11T11:14:20.545Z"
   },
   {
    "duration": 6,
    "start_time": "2025-01-11T11:14:20.560Z"
   },
   {
    "duration": 28,
    "start_time": "2025-01-11T11:14:20.567Z"
   },
   {
    "duration": 7,
    "start_time": "2025-01-11T11:14:20.597Z"
   },
   {
    "duration": 12,
    "start_time": "2025-01-11T11:14:20.605Z"
   },
   {
    "duration": 223,
    "start_time": "2025-01-11T11:14:20.618Z"
   },
   {
    "duration": 8,
    "start_time": "2025-01-11T11:14:20.843Z"
   },
   {
    "duration": 6,
    "start_time": "2025-01-11T11:14:20.853Z"
   },
   {
    "duration": 25,
    "start_time": "2025-01-11T11:14:20.861Z"
   },
   {
    "duration": 34,
    "start_time": "2025-01-11T11:14:20.888Z"
   },
   {
    "duration": 21,
    "start_time": "2025-01-11T11:14:20.923Z"
   },
   {
    "duration": 7,
    "start_time": "2025-01-11T11:14:20.946Z"
   },
   {
    "duration": 160,
    "start_time": "2025-01-11T11:14:20.954Z"
   },
   {
    "duration": 225,
    "start_time": "2025-01-11T11:14:21.116Z"
   },
   {
    "duration": 7,
    "start_time": "2025-01-11T11:14:21.342Z"
   },
   {
    "duration": 161,
    "start_time": "2025-01-11T11:14:21.350Z"
   },
   {
    "duration": 172,
    "start_time": "2025-01-11T11:14:21.513Z"
   },
   {
    "duration": 19,
    "start_time": "2025-01-11T11:14:21.686Z"
   },
   {
    "duration": 20,
    "start_time": "2025-01-11T11:14:21.706Z"
   },
   {
    "duration": 7,
    "start_time": "2025-01-11T11:14:21.727Z"
   },
   {
    "duration": 14,
    "start_time": "2025-01-11T11:14:21.735Z"
   },
   {
    "duration": 15,
    "start_time": "2025-01-11T11:14:21.751Z"
   },
   {
    "duration": 26,
    "start_time": "2025-01-11T11:14:21.767Z"
   },
   {
    "duration": 390,
    "start_time": "2025-01-11T11:27:20.542Z"
   },
   {
    "duration": 67,
    "start_time": "2025-01-11T11:27:20.934Z"
   },
   {
    "duration": 14,
    "start_time": "2025-01-11T11:27:21.003Z"
   },
   {
    "duration": 21,
    "start_time": "2025-01-11T11:27:21.018Z"
   },
   {
    "duration": 8,
    "start_time": "2025-01-11T11:27:21.041Z"
   },
   {
    "duration": 10,
    "start_time": "2025-01-11T11:27:21.050Z"
   },
   {
    "duration": 38,
    "start_time": "2025-01-11T11:27:21.062Z"
   },
   {
    "duration": 14,
    "start_time": "2025-01-11T11:27:21.102Z"
   },
   {
    "duration": 17,
    "start_time": "2025-01-11T11:27:21.118Z"
   },
   {
    "duration": 14,
    "start_time": "2025-01-11T11:27:21.137Z"
   },
   {
    "duration": 9,
    "start_time": "2025-01-11T11:27:21.153Z"
   },
   {
    "duration": 60,
    "start_time": "2025-01-11T11:27:21.164Z"
   },
   {
    "duration": 60,
    "start_time": "2025-01-11T11:27:21.225Z"
   },
   {
    "duration": 18,
    "start_time": "2025-01-11T11:27:21.288Z"
   },
   {
    "duration": 21,
    "start_time": "2025-01-11T11:27:21.307Z"
   },
   {
    "duration": 19,
    "start_time": "2025-01-11T11:27:21.330Z"
   },
   {
    "duration": 38,
    "start_time": "2025-01-11T11:27:21.351Z"
   },
   {
    "duration": 269,
    "start_time": "2025-01-11T11:27:21.391Z"
   },
   {
    "duration": 5,
    "start_time": "2025-01-11T11:27:21.662Z"
   },
   {
    "duration": 144,
    "start_time": "2025-01-11T11:27:21.668Z"
   },
   {
    "duration": 6,
    "start_time": "2025-01-11T11:27:21.813Z"
   },
   {
    "duration": 191,
    "start_time": "2025-01-11T11:27:21.821Z"
   },
   {
    "duration": 6,
    "start_time": "2025-01-11T11:27:22.014Z"
   },
   {
    "duration": 29,
    "start_time": "2025-01-11T11:27:22.021Z"
   },
   {
    "duration": 180,
    "start_time": "2025-01-11T11:27:22.052Z"
   },
   {
    "duration": 7,
    "start_time": "2025-01-11T11:27:22.233Z"
   },
   {
    "duration": 90,
    "start_time": "2025-01-11T11:27:22.242Z"
   },
   {
    "duration": 124,
    "start_time": "2025-01-11T11:27:22.334Z"
   },
   {
    "duration": 9,
    "start_time": "2025-01-11T11:27:22.460Z"
   },
   {
    "duration": 99,
    "start_time": "2025-01-11T11:27:22.471Z"
   },
   {
    "duration": 24,
    "start_time": "2025-01-11T11:27:22.572Z"
   },
   {
    "duration": 24,
    "start_time": "2025-01-11T11:27:22.597Z"
   },
   {
    "duration": 15,
    "start_time": "2025-01-11T11:27:22.623Z"
   },
   {
    "duration": 5,
    "start_time": "2025-01-11T11:27:22.639Z"
   },
   {
    "duration": 32,
    "start_time": "2025-01-11T11:27:22.645Z"
   },
   {
    "duration": 24,
    "start_time": "2025-01-11T11:27:22.679Z"
   },
   {
    "duration": 30,
    "start_time": "2025-01-11T11:27:22.705Z"
   },
   {
    "duration": 68,
    "start_time": "2025-01-11T11:27:22.737Z"
   },
   {
    "duration": 16,
    "start_time": "2025-01-11T11:27:22.806Z"
   },
   {
    "duration": 16,
    "start_time": "2025-01-11T11:27:22.824Z"
   },
   {
    "duration": 178,
    "start_time": "2025-01-11T11:27:22.845Z"
   },
   {
    "duration": 183,
    "start_time": "2025-01-11T11:27:23.025Z"
   },
   {
    "duration": 188,
    "start_time": "2025-01-11T11:27:23.209Z"
   },
   {
    "duration": 8,
    "start_time": "2025-01-11T11:27:23.399Z"
   },
   {
    "duration": 36,
    "start_time": "2025-01-11T11:27:23.408Z"
   },
   {
    "duration": 109,
    "start_time": "2025-01-11T11:27:23.445Z"
   },
   {
    "duration": 14,
    "start_time": "2025-01-11T11:27:23.556Z"
   },
   {
    "duration": 108,
    "start_time": "2025-01-11T11:27:23.571Z"
   },
   {
    "duration": 66,
    "start_time": "2025-01-11T11:27:23.681Z"
   },
   {
    "duration": 18,
    "start_time": "2025-01-11T11:27:23.749Z"
   },
   {
    "duration": 49,
    "start_time": "2025-01-11T11:27:23.769Z"
   },
   {
    "duration": 171,
    "start_time": "2025-01-11T11:27:23.820Z"
   },
   {
    "duration": 7,
    "start_time": "2025-01-11T11:27:23.993Z"
   },
   {
    "duration": 25,
    "start_time": "2025-01-11T11:27:24.002Z"
   },
   {
    "duration": 53,
    "start_time": "2025-01-11T11:27:24.028Z"
   },
   {
    "duration": 56,
    "start_time": "2025-01-11T11:27:24.083Z"
   },
   {
    "duration": 19,
    "start_time": "2025-01-11T11:27:24.141Z"
   },
   {
    "duration": 7,
    "start_time": "2025-01-11T11:27:24.162Z"
   },
   {
    "duration": 167,
    "start_time": "2025-01-11T11:27:24.170Z"
   },
   {
    "duration": 224,
    "start_time": "2025-01-11T11:27:24.339Z"
   },
   {
    "duration": 7,
    "start_time": "2025-01-11T11:27:24.565Z"
   },
   {
    "duration": 187,
    "start_time": "2025-01-11T11:27:24.574Z"
   },
   {
    "duration": 166,
    "start_time": "2025-01-11T11:27:24.763Z"
   },
   {
    "duration": 17,
    "start_time": "2025-01-11T11:27:24.930Z"
   },
   {
    "duration": 12,
    "start_time": "2025-01-11T11:27:24.949Z"
   },
   {
    "duration": 10,
    "start_time": "2025-01-11T11:27:24.963Z"
   },
   {
    "duration": 13,
    "start_time": "2025-01-11T11:27:24.975Z"
   },
   {
    "duration": 18,
    "start_time": "2025-01-11T11:27:24.989Z"
   },
   {
    "duration": 36,
    "start_time": "2025-01-11T11:27:25.009Z"
   },
   {
    "duration": 36,
    "start_time": "2025-01-11T11:27:25.046Z"
   },
   {
    "duration": 407,
    "start_time": "2025-01-11T11:28:51.094Z"
   },
   {
    "duration": 67,
    "start_time": "2025-01-11T11:28:51.503Z"
   },
   {
    "duration": 14,
    "start_time": "2025-01-11T11:28:51.572Z"
   },
   {
    "duration": 16,
    "start_time": "2025-01-11T11:28:51.588Z"
   },
   {
    "duration": 75,
    "start_time": "2025-01-11T11:28:51.606Z"
   },
   {
    "duration": 14,
    "start_time": "2025-01-11T11:28:51.682Z"
   },
   {
    "duration": 26,
    "start_time": "2025-01-11T11:28:51.697Z"
   },
   {
    "duration": 27,
    "start_time": "2025-01-11T11:28:51.725Z"
   },
   {
    "duration": 25,
    "start_time": "2025-01-11T11:28:51.753Z"
   },
   {
    "duration": 48,
    "start_time": "2025-01-11T11:28:51.781Z"
   },
   {
    "duration": 79,
    "start_time": "2025-01-11T11:28:51.831Z"
   },
   {
    "duration": 20,
    "start_time": "2025-01-11T11:28:51.911Z"
   },
   {
    "duration": 25,
    "start_time": "2025-01-11T11:28:51.932Z"
   },
   {
    "duration": 5,
    "start_time": "2025-01-11T11:28:51.959Z"
   },
   {
    "duration": 8,
    "start_time": "2025-01-11T11:28:51.965Z"
   },
   {
    "duration": 8,
    "start_time": "2025-01-11T11:28:51.975Z"
   },
   {
    "duration": 10,
    "start_time": "2025-01-11T11:28:51.984Z"
   },
   {
    "duration": 255,
    "start_time": "2025-01-11T11:28:51.996Z"
   },
   {
    "duration": 5,
    "start_time": "2025-01-11T11:28:52.253Z"
   },
   {
    "duration": 171,
    "start_time": "2025-01-11T11:28:52.259Z"
   },
   {
    "duration": 5,
    "start_time": "2025-01-11T11:28:52.431Z"
   },
   {
    "duration": 112,
    "start_time": "2025-01-11T11:28:52.438Z"
   },
   {
    "duration": 6,
    "start_time": "2025-01-11T11:28:52.552Z"
   },
   {
    "duration": 64,
    "start_time": "2025-01-11T11:28:52.559Z"
   },
   {
    "duration": 182,
    "start_time": "2025-01-11T11:28:52.625Z"
   },
   {
    "duration": 6,
    "start_time": "2025-01-11T11:28:52.809Z"
   },
   {
    "duration": 22,
    "start_time": "2025-01-11T11:28:52.817Z"
   },
   {
    "duration": 122,
    "start_time": "2025-01-11T11:28:52.843Z"
   },
   {
    "duration": 20,
    "start_time": "2025-01-11T11:28:52.967Z"
   },
   {
    "duration": 100,
    "start_time": "2025-01-11T11:28:52.988Z"
   },
   {
    "duration": 11,
    "start_time": "2025-01-11T11:28:53.089Z"
   },
   {
    "duration": 17,
    "start_time": "2025-01-11T11:28:53.101Z"
   },
   {
    "duration": 8,
    "start_time": "2025-01-11T11:28:53.120Z"
   },
   {
    "duration": 6,
    "start_time": "2025-01-11T11:28:53.129Z"
   },
   {
    "duration": 12,
    "start_time": "2025-01-11T11:28:53.137Z"
   },
   {
    "duration": 7,
    "start_time": "2025-01-11T11:28:53.150Z"
   },
   {
    "duration": 15,
    "start_time": "2025-01-11T11:28:53.185Z"
   },
   {
    "duration": 7,
    "start_time": "2025-01-11T11:28:53.202Z"
   },
   {
    "duration": 20,
    "start_time": "2025-01-11T11:28:53.210Z"
   },
   {
    "duration": 9,
    "start_time": "2025-01-11T11:28:53.231Z"
   },
   {
    "duration": 191,
    "start_time": "2025-01-11T11:28:53.241Z"
   },
   {
    "duration": 189,
    "start_time": "2025-01-11T11:28:53.434Z"
   },
   {
    "duration": 184,
    "start_time": "2025-01-11T11:28:53.625Z"
   },
   {
    "duration": 9,
    "start_time": "2025-01-11T11:28:53.811Z"
   },
   {
    "duration": 7,
    "start_time": "2025-01-11T11:28:53.822Z"
   },
   {
    "duration": 111,
    "start_time": "2025-01-11T11:28:53.831Z"
   },
   {
    "duration": 15,
    "start_time": "2025-01-11T11:28:53.944Z"
   },
   {
    "duration": 4,
    "start_time": "2025-01-11T11:28:53.961Z"
   },
   {
    "duration": 28,
    "start_time": "2025-01-11T11:28:53.966Z"
   },
   {
    "duration": 10,
    "start_time": "2025-01-11T11:28:53.996Z"
   },
   {
    "duration": 23,
    "start_time": "2025-01-11T11:28:54.007Z"
   },
   {
    "duration": 159,
    "start_time": "2025-01-11T11:28:54.032Z"
   },
   {
    "duration": 7,
    "start_time": "2025-01-11T11:28:54.193Z"
   },
   {
    "duration": 20,
    "start_time": "2025-01-11T11:28:54.202Z"
   },
   {
    "duration": 76,
    "start_time": "2025-01-11T11:28:54.224Z"
   },
   {
    "duration": 45,
    "start_time": "2025-01-11T11:28:54.302Z"
   },
   {
    "duration": 20,
    "start_time": "2025-01-11T11:28:54.349Z"
   },
   {
    "duration": 11,
    "start_time": "2025-01-11T11:28:54.370Z"
   },
   {
    "duration": 148,
    "start_time": "2025-01-11T11:28:54.383Z"
   },
   {
    "duration": 233,
    "start_time": "2025-01-11T11:28:54.533Z"
   },
   {
    "duration": 7,
    "start_time": "2025-01-11T11:28:54.767Z"
   },
   {
    "duration": 196,
    "start_time": "2025-01-11T11:28:54.776Z"
   },
   {
    "duration": 169,
    "start_time": "2025-01-11T11:28:54.974Z"
   },
   {
    "duration": 19,
    "start_time": "2025-01-11T11:28:55.144Z"
   },
   {
    "duration": 26,
    "start_time": "2025-01-11T11:28:55.164Z"
   },
   {
    "duration": 2,
    "start_time": "2025-01-11T11:28:55.193Z"
   },
   {
    "duration": 4,
    "start_time": "2025-01-11T11:28:55.197Z"
   },
   {
    "duration": 3,
    "start_time": "2025-01-11T11:28:55.202Z"
   },
   {
    "duration": 1229,
    "start_time": "2025-01-11T11:28:55.206Z"
   },
   {
    "duration": 19,
    "start_time": "2025-01-11T11:30:12.636Z"
   },
   {
    "duration": 15,
    "start_time": "2025-01-11T11:33:32.492Z"
   },
   {
    "duration": 374,
    "start_time": "2025-01-11T11:34:20.132Z"
   },
   {
    "duration": 66,
    "start_time": "2025-01-11T11:34:20.508Z"
   },
   {
    "duration": 15,
    "start_time": "2025-01-11T11:34:20.576Z"
   },
   {
    "duration": 11,
    "start_time": "2025-01-11T11:34:20.593Z"
   },
   {
    "duration": 8,
    "start_time": "2025-01-11T11:34:20.606Z"
   },
   {
    "duration": 19,
    "start_time": "2025-01-11T11:34:20.616Z"
   },
   {
    "duration": 46,
    "start_time": "2025-01-11T11:34:20.636Z"
   },
   {
    "duration": 19,
    "start_time": "2025-01-11T11:34:20.684Z"
   },
   {
    "duration": 18,
    "start_time": "2025-01-11T11:34:20.705Z"
   },
   {
    "duration": 10,
    "start_time": "2025-01-11T11:34:20.724Z"
   },
   {
    "duration": 5,
    "start_time": "2025-01-11T11:34:20.736Z"
   },
   {
    "duration": 11,
    "start_time": "2025-01-11T11:34:20.742Z"
   },
   {
    "duration": 88,
    "start_time": "2025-01-11T11:34:20.754Z"
   },
   {
    "duration": 6,
    "start_time": "2025-01-11T11:34:20.846Z"
   },
   {
    "duration": 10,
    "start_time": "2025-01-11T11:34:20.855Z"
   },
   {
    "duration": 7,
    "start_time": "2025-01-11T11:34:20.867Z"
   },
   {
    "duration": 17,
    "start_time": "2025-01-11T11:34:20.876Z"
   },
   {
    "duration": 242,
    "start_time": "2025-01-11T11:34:20.895Z"
   },
   {
    "duration": 6,
    "start_time": "2025-01-11T11:34:21.140Z"
   },
   {
    "duration": 153,
    "start_time": "2025-01-11T11:34:21.148Z"
   },
   {
    "duration": 6,
    "start_time": "2025-01-11T11:34:21.303Z"
   },
   {
    "duration": 114,
    "start_time": "2025-01-11T11:34:21.310Z"
   },
   {
    "duration": 6,
    "start_time": "2025-01-11T11:34:21.426Z"
   },
   {
    "duration": 17,
    "start_time": "2025-01-11T11:34:21.433Z"
   },
   {
    "duration": 169,
    "start_time": "2025-01-11T11:34:21.451Z"
   },
   {
    "duration": 12,
    "start_time": "2025-01-11T11:34:21.622Z"
   },
   {
    "duration": 94,
    "start_time": "2025-01-11T11:34:21.636Z"
   },
   {
    "duration": 118,
    "start_time": "2025-01-11T11:34:21.731Z"
   },
   {
    "duration": 8,
    "start_time": "2025-01-11T11:34:21.851Z"
   },
   {
    "duration": 100,
    "start_time": "2025-01-11T11:34:21.860Z"
   },
   {
    "duration": 10,
    "start_time": "2025-01-11T11:34:21.962Z"
   },
   {
    "duration": 16,
    "start_time": "2025-01-11T11:34:21.973Z"
   },
   {
    "duration": 6,
    "start_time": "2025-01-11T11:34:21.990Z"
   },
   {
    "duration": 13,
    "start_time": "2025-01-11T11:34:21.997Z"
   },
   {
    "duration": 21,
    "start_time": "2025-01-11T11:34:22.011Z"
   },
   {
    "duration": 8,
    "start_time": "2025-01-11T11:34:22.033Z"
   },
   {
    "duration": 18,
    "start_time": "2025-01-11T11:34:22.042Z"
   },
   {
    "duration": 26,
    "start_time": "2025-01-11T11:34:22.061Z"
   },
   {
    "duration": 6,
    "start_time": "2025-01-11T11:34:22.089Z"
   },
   {
    "duration": 6,
    "start_time": "2025-01-11T11:34:22.097Z"
   },
   {
    "duration": 203,
    "start_time": "2025-01-11T11:34:22.107Z"
   },
   {
    "duration": 189,
    "start_time": "2025-01-11T11:34:22.312Z"
   },
   {
    "duration": 184,
    "start_time": "2025-01-11T11:34:22.503Z"
   },
   {
    "duration": 8,
    "start_time": "2025-01-11T11:34:22.688Z"
   },
   {
    "duration": 10,
    "start_time": "2025-01-11T11:34:22.698Z"
   },
   {
    "duration": 106,
    "start_time": "2025-01-11T11:34:22.710Z"
   },
   {
    "duration": 15,
    "start_time": "2025-01-11T11:34:22.818Z"
   },
   {
    "duration": 4,
    "start_time": "2025-01-11T11:34:22.835Z"
   },
   {
    "duration": 19,
    "start_time": "2025-01-11T11:34:22.840Z"
   },
   {
    "duration": 11,
    "start_time": "2025-01-11T11:34:22.861Z"
   },
   {
    "duration": 7,
    "start_time": "2025-01-11T11:34:22.886Z"
   },
   {
    "duration": 161,
    "start_time": "2025-01-11T11:34:22.894Z"
   },
   {
    "duration": 8,
    "start_time": "2025-01-11T11:34:23.056Z"
   },
   {
    "duration": 7,
    "start_time": "2025-01-11T11:34:23.065Z"
   },
   {
    "duration": 3,
    "start_time": "2025-01-11T11:34:23.086Z"
   },
   {
    "duration": 29,
    "start_time": "2025-01-11T11:34:23.091Z"
   },
   {
    "duration": 20,
    "start_time": "2025-01-11T11:34:23.122Z"
   },
   {
    "duration": 7,
    "start_time": "2025-01-11T11:34:23.144Z"
   },
   {
    "duration": 171,
    "start_time": "2025-01-11T11:34:23.152Z"
   },
   {
    "duration": 226,
    "start_time": "2025-01-11T11:34:23.325Z"
   },
   {
    "duration": 7,
    "start_time": "2025-01-11T11:34:23.552Z"
   },
   {
    "duration": 159,
    "start_time": "2025-01-11T11:34:23.561Z"
   },
   {
    "duration": 171,
    "start_time": "2025-01-11T11:34:23.721Z"
   },
   {
    "duration": 18,
    "start_time": "2025-01-11T11:34:23.894Z"
   },
   {
    "duration": 68,
    "start_time": "2025-01-11T11:34:23.914Z"
   },
   {
    "duration": 85,
    "start_time": "2025-01-11T11:34:23.984Z"
   },
   {
    "duration": 0,
    "start_time": "2025-01-11T11:34:24.070Z"
   },
   {
    "duration": 14,
    "start_time": "2025-01-11T11:34:39.642Z"
   },
   {
    "duration": 15,
    "start_time": "2025-01-11T11:36:29.407Z"
   },
   {
    "duration": 406,
    "start_time": "2025-01-11T11:42:51.794Z"
   },
   {
    "duration": 67,
    "start_time": "2025-01-11T11:42:52.202Z"
   },
   {
    "duration": 13,
    "start_time": "2025-01-11T11:42:52.271Z"
   },
   {
    "duration": 34,
    "start_time": "2025-01-11T11:42:52.286Z"
   },
   {
    "duration": 16,
    "start_time": "2025-01-11T11:42:52.321Z"
   },
   {
    "duration": 51,
    "start_time": "2025-01-11T11:42:52.338Z"
   },
   {
    "duration": 23,
    "start_time": "2025-01-11T11:42:52.390Z"
   },
   {
    "duration": 12,
    "start_time": "2025-01-11T11:42:52.415Z"
   },
   {
    "duration": 24,
    "start_time": "2025-01-11T11:42:52.429Z"
   },
   {
    "duration": 13,
    "start_time": "2025-01-11T11:42:52.457Z"
   },
   {
    "duration": 18,
    "start_time": "2025-01-11T11:42:52.471Z"
   },
   {
    "duration": 13,
    "start_time": "2025-01-11T11:42:52.490Z"
   },
   {
    "duration": 16,
    "start_time": "2025-01-11T11:42:52.505Z"
   },
   {
    "duration": 5,
    "start_time": "2025-01-11T11:42:52.522Z"
   },
   {
    "duration": 26,
    "start_time": "2025-01-11T11:42:52.529Z"
   },
   {
    "duration": 42,
    "start_time": "2025-01-11T11:42:52.557Z"
   },
   {
    "duration": 57,
    "start_time": "2025-01-11T11:42:52.601Z"
   },
   {
    "duration": 259,
    "start_time": "2025-01-11T11:42:52.660Z"
   },
   {
    "duration": 5,
    "start_time": "2025-01-11T11:42:52.920Z"
   },
   {
    "duration": 142,
    "start_time": "2025-01-11T11:42:52.926Z"
   },
   {
    "duration": 5,
    "start_time": "2025-01-11T11:42:53.069Z"
   },
   {
    "duration": 112,
    "start_time": "2025-01-11T11:42:53.076Z"
   },
   {
    "duration": 6,
    "start_time": "2025-01-11T11:42:53.189Z"
   },
   {
    "duration": 13,
    "start_time": "2025-01-11T11:42:53.196Z"
   },
   {
    "duration": 169,
    "start_time": "2025-01-11T11:42:53.211Z"
   },
   {
    "duration": 8,
    "start_time": "2025-01-11T11:42:53.382Z"
   },
   {
    "duration": 17,
    "start_time": "2025-01-11T11:42:53.391Z"
   },
   {
    "duration": 127,
    "start_time": "2025-01-11T11:42:53.412Z"
   },
   {
    "duration": 7,
    "start_time": "2025-01-11T11:42:53.541Z"
   },
   {
    "duration": 104,
    "start_time": "2025-01-11T11:42:53.549Z"
   },
   {
    "duration": 10,
    "start_time": "2025-01-11T11:42:53.654Z"
   },
   {
    "duration": 16,
    "start_time": "2025-01-11T11:42:53.666Z"
   },
   {
    "duration": 59,
    "start_time": "2025-01-11T11:42:53.686Z"
   },
   {
    "duration": 7,
    "start_time": "2025-01-11T11:42:53.747Z"
   },
   {
    "duration": 18,
    "start_time": "2025-01-11T11:42:53.756Z"
   },
   {
    "duration": 7,
    "start_time": "2025-01-11T11:42:53.775Z"
   },
   {
    "duration": 14,
    "start_time": "2025-01-11T11:42:53.783Z"
   },
   {
    "duration": 6,
    "start_time": "2025-01-11T11:42:53.799Z"
   },
   {
    "duration": 11,
    "start_time": "2025-01-11T11:42:53.806Z"
   },
   {
    "duration": 6,
    "start_time": "2025-01-11T11:42:53.819Z"
   },
   {
    "duration": 193,
    "start_time": "2025-01-11T11:42:53.826Z"
   },
   {
    "duration": 178,
    "start_time": "2025-01-11T11:42:54.021Z"
   },
   {
    "duration": 178,
    "start_time": "2025-01-11T11:42:54.201Z"
   },
   {
    "duration": 13,
    "start_time": "2025-01-11T11:42:54.380Z"
   },
   {
    "duration": 17,
    "start_time": "2025-01-11T11:42:54.394Z"
   },
   {
    "duration": 97,
    "start_time": "2025-01-11T11:42:54.413Z"
   },
   {
    "duration": 14,
    "start_time": "2025-01-11T11:42:54.512Z"
   },
   {
    "duration": 7,
    "start_time": "2025-01-11T11:42:54.527Z"
   },
   {
    "duration": 11,
    "start_time": "2025-01-11T11:42:54.535Z"
   },
   {
    "duration": 11,
    "start_time": "2025-01-11T11:42:54.548Z"
   },
   {
    "duration": 5,
    "start_time": "2025-01-11T11:42:54.560Z"
   },
   {
    "duration": 161,
    "start_time": "2025-01-11T11:42:54.587Z"
   },
   {
    "duration": 8,
    "start_time": "2025-01-11T11:42:54.750Z"
   },
   {
    "duration": 6,
    "start_time": "2025-01-11T11:42:54.760Z"
   },
   {
    "duration": 4,
    "start_time": "2025-01-11T11:42:54.787Z"
   },
   {
    "duration": 90,
    "start_time": "2025-01-11T11:42:54.792Z"
   },
   {
    "duration": 28,
    "start_time": "2025-01-11T11:42:54.884Z"
   },
   {
    "duration": 7,
    "start_time": "2025-01-11T11:42:54.914Z"
   },
   {
    "duration": 158,
    "start_time": "2025-01-11T11:42:54.923Z"
   },
   {
    "duration": 217,
    "start_time": "2025-01-11T11:42:55.086Z"
   },
   {
    "duration": 6,
    "start_time": "2025-01-11T11:42:55.305Z"
   },
   {
    "duration": 158,
    "start_time": "2025-01-11T11:42:55.313Z"
   },
   {
    "duration": 180,
    "start_time": "2025-01-11T11:42:55.472Z"
   },
   {
    "duration": 89,
    "start_time": "2025-01-11T11:42:55.654Z"
   },
   {
    "duration": 0,
    "start_time": "2025-01-11T11:42:55.745Z"
   },
   {
    "duration": 0,
    "start_time": "2025-01-11T11:42:55.746Z"
   },
   {
    "duration": 0,
    "start_time": "2025-01-11T11:42:55.747Z"
   },
   {
    "duration": 378,
    "start_time": "2025-01-11T11:44:13.722Z"
   },
   {
    "duration": 67,
    "start_time": "2025-01-11T11:44:14.102Z"
   },
   {
    "duration": 13,
    "start_time": "2025-01-11T11:44:14.171Z"
   },
   {
    "duration": 26,
    "start_time": "2025-01-11T11:44:14.186Z"
   },
   {
    "duration": 11,
    "start_time": "2025-01-11T11:44:14.214Z"
   },
   {
    "duration": 10,
    "start_time": "2025-01-11T11:44:14.227Z"
   },
   {
    "duration": 10,
    "start_time": "2025-01-11T11:44:14.239Z"
   },
   {
    "duration": 35,
    "start_time": "2025-01-11T11:44:14.251Z"
   },
   {
    "duration": 18,
    "start_time": "2025-01-11T11:44:14.287Z"
   },
   {
    "duration": 10,
    "start_time": "2025-01-11T11:44:14.307Z"
   },
   {
    "duration": 7,
    "start_time": "2025-01-11T11:44:14.319Z"
   },
   {
    "duration": 6,
    "start_time": "2025-01-11T11:44:14.327Z"
   },
   {
    "duration": 11,
    "start_time": "2025-01-11T11:44:14.335Z"
   },
   {
    "duration": 6,
    "start_time": "2025-01-11T11:44:14.348Z"
   },
   {
    "duration": 37,
    "start_time": "2025-01-11T11:44:14.356Z"
   },
   {
    "duration": 5,
    "start_time": "2025-01-11T11:44:14.395Z"
   },
   {
    "duration": 4,
    "start_time": "2025-01-11T11:44:14.402Z"
   },
   {
    "duration": 251,
    "start_time": "2025-01-11T11:44:14.408Z"
   },
   {
    "duration": 6,
    "start_time": "2025-01-11T11:44:14.660Z"
   },
   {
    "duration": 160,
    "start_time": "2025-01-11T11:44:14.667Z"
   },
   {
    "duration": 6,
    "start_time": "2025-01-11T11:44:14.828Z"
   },
   {
    "duration": 162,
    "start_time": "2025-01-11T11:44:14.835Z"
   },
   {
    "duration": 7,
    "start_time": "2025-01-11T11:44:14.998Z"
   },
   {
    "duration": 53,
    "start_time": "2025-01-11T11:44:15.006Z"
   },
   {
    "duration": 191,
    "start_time": "2025-01-11T11:44:15.061Z"
   },
   {
    "duration": 6,
    "start_time": "2025-01-11T11:44:15.253Z"
   },
   {
    "duration": 37,
    "start_time": "2025-01-11T11:44:15.260Z"
   },
   {
    "duration": 169,
    "start_time": "2025-01-11T11:44:15.299Z"
   },
   {
    "duration": 20,
    "start_time": "2025-01-11T11:44:15.470Z"
   },
   {
    "duration": 112,
    "start_time": "2025-01-11T11:44:15.491Z"
   },
   {
    "duration": 13,
    "start_time": "2025-01-11T11:44:15.605Z"
   },
   {
    "duration": 36,
    "start_time": "2025-01-11T11:44:15.622Z"
   },
   {
    "duration": 18,
    "start_time": "2025-01-11T11:44:15.660Z"
   },
   {
    "duration": 5,
    "start_time": "2025-01-11T11:44:15.680Z"
   },
   {
    "duration": 43,
    "start_time": "2025-01-11T11:44:15.687Z"
   },
   {
    "duration": 43,
    "start_time": "2025-01-11T11:44:15.732Z"
   },
   {
    "duration": 16,
    "start_time": "2025-01-11T11:44:15.776Z"
   },
   {
    "duration": 6,
    "start_time": "2025-01-11T11:44:15.794Z"
   },
   {
    "duration": 16,
    "start_time": "2025-01-11T11:44:15.802Z"
   },
   {
    "duration": 12,
    "start_time": "2025-01-11T11:44:15.819Z"
   },
   {
    "duration": 192,
    "start_time": "2025-01-11T11:44:15.835Z"
   },
   {
    "duration": 184,
    "start_time": "2025-01-11T11:44:16.029Z"
   },
   {
    "duration": 181,
    "start_time": "2025-01-11T11:44:16.214Z"
   },
   {
    "duration": 8,
    "start_time": "2025-01-11T11:44:16.397Z"
   },
   {
    "duration": 22,
    "start_time": "2025-01-11T11:44:16.406Z"
   },
   {
    "duration": 99,
    "start_time": "2025-01-11T11:44:16.429Z"
   },
   {
    "duration": 14,
    "start_time": "2025-01-11T11:44:16.530Z"
   },
   {
    "duration": 6,
    "start_time": "2025-01-11T11:44:16.546Z"
   },
   {
    "duration": 15,
    "start_time": "2025-01-11T11:44:16.554Z"
   },
   {
    "duration": 22,
    "start_time": "2025-01-11T11:44:16.571Z"
   },
   {
    "duration": 6,
    "start_time": "2025-01-11T11:44:16.594Z"
   },
   {
    "duration": 179,
    "start_time": "2025-01-11T11:44:16.602Z"
   },
   {
    "duration": 9,
    "start_time": "2025-01-11T11:44:16.786Z"
   },
   {
    "duration": 15,
    "start_time": "2025-01-11T11:44:16.796Z"
   },
   {
    "duration": 86,
    "start_time": "2025-01-11T11:44:16.813Z"
   },
   {
    "duration": 55,
    "start_time": "2025-01-11T11:44:16.900Z"
   },
   {
    "duration": 20,
    "start_time": "2025-01-11T11:44:16.957Z"
   },
   {
    "duration": 9,
    "start_time": "2025-01-11T11:44:16.979Z"
   },
   {
    "duration": 153,
    "start_time": "2025-01-11T11:44:16.990Z"
   },
   {
    "duration": 231,
    "start_time": "2025-01-11T11:44:17.145Z"
   },
   {
    "duration": 11,
    "start_time": "2025-01-11T11:44:17.378Z"
   },
   {
    "duration": 160,
    "start_time": "2025-01-11T11:44:17.391Z"
   },
   {
    "duration": 174,
    "start_time": "2025-01-11T11:44:17.552Z"
   },
   {
    "duration": 28,
    "start_time": "2025-01-11T11:44:17.727Z"
   },
   {
    "duration": 29,
    "start_time": "2025-01-11T11:44:17.757Z"
   },
   {
    "duration": 15,
    "start_time": "2025-01-11T11:44:17.788Z"
   },
   {
    "duration": 16,
    "start_time": "2025-01-11T11:44:17.804Z"
   },
   {
    "duration": 359,
    "start_time": "2025-01-11T11:47:18.533Z"
   },
   {
    "duration": 66,
    "start_time": "2025-01-11T11:47:18.894Z"
   },
   {
    "duration": 14,
    "start_time": "2025-01-11T11:47:18.961Z"
   },
   {
    "duration": 17,
    "start_time": "2025-01-11T11:47:18.976Z"
   },
   {
    "duration": 18,
    "start_time": "2025-01-11T11:47:18.994Z"
   },
   {
    "duration": 10,
    "start_time": "2025-01-11T11:47:19.014Z"
   },
   {
    "duration": 6,
    "start_time": "2025-01-11T11:47:19.025Z"
   },
   {
    "duration": 14,
    "start_time": "2025-01-11T11:47:19.033Z"
   },
   {
    "duration": 14,
    "start_time": "2025-01-11T11:47:19.049Z"
   },
   {
    "duration": 22,
    "start_time": "2025-01-11T11:47:19.068Z"
   },
   {
    "duration": 6,
    "start_time": "2025-01-11T11:47:19.091Z"
   },
   {
    "duration": 10,
    "start_time": "2025-01-11T11:47:19.099Z"
   },
   {
    "duration": 16,
    "start_time": "2025-01-11T11:47:19.111Z"
   },
   {
    "duration": 6,
    "start_time": "2025-01-11T11:47:19.129Z"
   },
   {
    "duration": 15,
    "start_time": "2025-01-11T11:47:19.137Z"
   },
   {
    "duration": 5,
    "start_time": "2025-01-11T11:47:19.153Z"
   },
   {
    "duration": 4,
    "start_time": "2025-01-11T11:47:19.186Z"
   },
   {
    "duration": 225,
    "start_time": "2025-01-11T11:47:19.192Z"
   },
   {
    "duration": 10,
    "start_time": "2025-01-11T11:47:19.419Z"
   },
   {
    "duration": 168,
    "start_time": "2025-01-11T11:47:19.433Z"
   },
   {
    "duration": 5,
    "start_time": "2025-01-11T11:47:19.602Z"
   },
   {
    "duration": 107,
    "start_time": "2025-01-11T11:47:19.608Z"
   },
   {
    "duration": 5,
    "start_time": "2025-01-11T11:47:19.717Z"
   },
   {
    "duration": 42,
    "start_time": "2025-01-11T11:47:19.723Z"
   },
   {
    "duration": 150,
    "start_time": "2025-01-11T11:47:19.766Z"
   },
   {
    "duration": 5,
    "start_time": "2025-01-11T11:47:19.918Z"
   },
   {
    "duration": 38,
    "start_time": "2025-01-11T11:47:19.925Z"
   },
   {
    "duration": 114,
    "start_time": "2025-01-11T11:47:19.967Z"
   },
   {
    "duration": 7,
    "start_time": "2025-01-11T11:47:20.087Z"
   },
   {
    "duration": 103,
    "start_time": "2025-01-11T11:47:20.096Z"
   },
   {
    "duration": 10,
    "start_time": "2025-01-11T11:47:20.201Z"
   },
   {
    "duration": 6,
    "start_time": "2025-01-11T11:47:20.212Z"
   },
   {
    "duration": 17,
    "start_time": "2025-01-11T11:47:20.219Z"
   },
   {
    "duration": 5,
    "start_time": "2025-01-11T11:47:20.238Z"
   },
   {
    "duration": 13,
    "start_time": "2025-01-11T11:47:20.244Z"
   },
   {
    "duration": 28,
    "start_time": "2025-01-11T11:47:20.259Z"
   },
   {
    "duration": 16,
    "start_time": "2025-01-11T11:47:20.289Z"
   },
   {
    "duration": 6,
    "start_time": "2025-01-11T11:47:20.307Z"
   },
   {
    "duration": 6,
    "start_time": "2025-01-11T11:47:20.314Z"
   },
   {
    "duration": 8,
    "start_time": "2025-01-11T11:47:20.322Z"
   },
   {
    "duration": 197,
    "start_time": "2025-01-11T11:47:20.331Z"
   },
   {
    "duration": 177,
    "start_time": "2025-01-11T11:47:20.529Z"
   },
   {
    "duration": 180,
    "start_time": "2025-01-11T11:47:20.708Z"
   },
   {
    "duration": 8,
    "start_time": "2025-01-11T11:47:20.890Z"
   },
   {
    "duration": 21,
    "start_time": "2025-01-11T11:47:20.900Z"
   },
   {
    "duration": 102,
    "start_time": "2025-01-11T11:47:20.923Z"
   },
   {
    "duration": 14,
    "start_time": "2025-01-11T11:47:21.026Z"
   },
   {
    "duration": 4,
    "start_time": "2025-01-11T11:47:21.042Z"
   },
   {
    "duration": 12,
    "start_time": "2025-01-11T11:47:21.048Z"
   },
   {
    "duration": 27,
    "start_time": "2025-01-11T11:47:21.062Z"
   },
   {
    "duration": 8,
    "start_time": "2025-01-11T11:47:21.090Z"
   },
   {
    "duration": 166,
    "start_time": "2025-01-11T11:47:21.100Z"
   },
   {
    "duration": 8,
    "start_time": "2025-01-11T11:47:21.268Z"
   },
   {
    "duration": 11,
    "start_time": "2025-01-11T11:47:21.287Z"
   },
   {
    "duration": 14,
    "start_time": "2025-01-11T11:47:21.300Z"
   },
   {
    "duration": 43,
    "start_time": "2025-01-11T11:47:21.315Z"
   },
   {
    "duration": 19,
    "start_time": "2025-01-11T11:47:21.360Z"
   },
   {
    "duration": 9,
    "start_time": "2025-01-11T11:47:21.381Z"
   },
   {
    "duration": 141,
    "start_time": "2025-01-11T11:47:21.392Z"
   },
   {
    "duration": 220,
    "start_time": "2025-01-11T11:47:21.535Z"
   },
   {
    "duration": 8,
    "start_time": "2025-01-11T11:47:21.756Z"
   },
   {
    "duration": 176,
    "start_time": "2025-01-11T11:47:21.765Z"
   },
   {
    "duration": 164,
    "start_time": "2025-01-11T11:47:21.942Z"
   },
   {
    "duration": 28,
    "start_time": "2025-01-11T11:47:22.107Z"
   },
   {
    "duration": 13,
    "start_time": "2025-01-11T11:47:22.136Z"
   },
   {
    "duration": 14,
    "start_time": "2025-01-11T11:47:22.151Z"
   },
   {
    "duration": 411,
    "start_time": "2025-01-11T11:47:59.649Z"
   },
   {
    "duration": 67,
    "start_time": "2025-01-11T11:48:00.061Z"
   },
   {
    "duration": 13,
    "start_time": "2025-01-11T11:48:00.130Z"
   },
   {
    "duration": 19,
    "start_time": "2025-01-11T11:48:00.146Z"
   },
   {
    "duration": 34,
    "start_time": "2025-01-11T11:48:00.166Z"
   },
   {
    "duration": 30,
    "start_time": "2025-01-11T11:48:00.201Z"
   },
   {
    "duration": 14,
    "start_time": "2025-01-11T11:48:00.233Z"
   },
   {
    "duration": 25,
    "start_time": "2025-01-11T11:48:00.248Z"
   },
   {
    "duration": 44,
    "start_time": "2025-01-11T11:48:00.275Z"
   },
   {
    "duration": 13,
    "start_time": "2025-01-11T11:48:00.323Z"
   },
   {
    "duration": 36,
    "start_time": "2025-01-11T11:48:00.337Z"
   },
   {
    "duration": 45,
    "start_time": "2025-01-11T11:48:00.375Z"
   },
   {
    "duration": 27,
    "start_time": "2025-01-11T11:48:00.421Z"
   },
   {
    "duration": 6,
    "start_time": "2025-01-11T11:48:00.449Z"
   },
   {
    "duration": 8,
    "start_time": "2025-01-11T11:48:00.456Z"
   },
   {
    "duration": 5,
    "start_time": "2025-01-11T11:48:00.465Z"
   },
   {
    "duration": 17,
    "start_time": "2025-01-11T11:48:00.471Z"
   },
   {
    "duration": 226,
    "start_time": "2025-01-11T11:48:00.489Z"
   },
   {
    "duration": 5,
    "start_time": "2025-01-11T11:48:00.717Z"
   },
   {
    "duration": 168,
    "start_time": "2025-01-11T11:48:00.723Z"
   },
   {
    "duration": 5,
    "start_time": "2025-01-11T11:48:00.893Z"
   },
   {
    "duration": 128,
    "start_time": "2025-01-11T11:48:00.899Z"
   },
   {
    "duration": 5,
    "start_time": "2025-01-11T11:48:01.029Z"
   },
   {
    "duration": 7,
    "start_time": "2025-01-11T11:48:01.035Z"
   },
   {
    "duration": 158,
    "start_time": "2025-01-11T11:48:01.043Z"
   },
   {
    "duration": 13,
    "start_time": "2025-01-11T11:48:01.203Z"
   },
   {
    "duration": 19,
    "start_time": "2025-01-11T11:48:01.218Z"
   },
   {
    "duration": 179,
    "start_time": "2025-01-11T11:48:01.241Z"
   },
   {
    "duration": 7,
    "start_time": "2025-01-11T11:48:01.422Z"
   },
   {
    "duration": 160,
    "start_time": "2025-01-11T11:48:01.431Z"
   },
   {
    "duration": 10,
    "start_time": "2025-01-11T11:48:01.593Z"
   },
   {
    "duration": 36,
    "start_time": "2025-01-11T11:48:01.605Z"
   },
   {
    "duration": 59,
    "start_time": "2025-01-11T11:48:01.643Z"
   },
   {
    "duration": 97,
    "start_time": "2025-01-11T11:48:01.703Z"
   },
   {
    "duration": 27,
    "start_time": "2025-01-11T11:48:01.801Z"
   },
   {
    "duration": 12,
    "start_time": "2025-01-11T11:48:01.830Z"
   },
   {
    "duration": 31,
    "start_time": "2025-01-11T11:48:01.843Z"
   },
   {
    "duration": 29,
    "start_time": "2025-01-11T11:48:01.875Z"
   },
   {
    "duration": 70,
    "start_time": "2025-01-11T11:48:01.906Z"
   },
   {
    "duration": 69,
    "start_time": "2025-01-11T11:48:01.977Z"
   },
   {
    "duration": 214,
    "start_time": "2025-01-11T11:48:02.047Z"
   },
   {
    "duration": 180,
    "start_time": "2025-01-11T11:48:02.262Z"
   },
   {
    "duration": 179,
    "start_time": "2025-01-11T11:48:02.444Z"
   },
   {
    "duration": 8,
    "start_time": "2025-01-11T11:48:02.625Z"
   },
   {
    "duration": 26,
    "start_time": "2025-01-11T11:48:02.634Z"
   },
   {
    "duration": 162,
    "start_time": "2025-01-11T11:48:02.661Z"
   },
   {
    "duration": 14,
    "start_time": "2025-01-11T11:48:02.825Z"
   },
   {
    "duration": 68,
    "start_time": "2025-01-11T11:48:02.840Z"
   },
   {
    "duration": 27,
    "start_time": "2025-01-11T11:48:02.909Z"
   },
   {
    "duration": 21,
    "start_time": "2025-01-11T11:48:02.937Z"
   },
   {
    "duration": 10,
    "start_time": "2025-01-11T11:48:02.960Z"
   },
   {
    "duration": 161,
    "start_time": "2025-01-11T11:48:02.972Z"
   },
   {
    "duration": 8,
    "start_time": "2025-01-11T11:48:03.135Z"
   },
   {
    "duration": 8,
    "start_time": "2025-01-11T11:48:03.144Z"
   },
   {
    "duration": 21,
    "start_time": "2025-01-11T11:48:03.153Z"
   },
   {
    "duration": 47,
    "start_time": "2025-01-11T11:48:03.175Z"
   },
   {
    "duration": 21,
    "start_time": "2025-01-11T11:48:03.224Z"
   },
   {
    "duration": 6,
    "start_time": "2025-01-11T11:48:03.247Z"
   },
   {
    "duration": 149,
    "start_time": "2025-01-11T11:48:03.255Z"
   },
   {
    "duration": 219,
    "start_time": "2025-01-11T11:48:03.406Z"
   },
   {
    "duration": 7,
    "start_time": "2025-01-11T11:48:03.627Z"
   },
   {
    "duration": 158,
    "start_time": "2025-01-11T11:48:03.635Z"
   },
   {
    "duration": 166,
    "start_time": "2025-01-11T11:48:03.794Z"
   },
   {
    "duration": 35,
    "start_time": "2025-01-11T11:48:03.962Z"
   },
   {
    "duration": 37,
    "start_time": "2025-01-11T11:48:03.998Z"
   },
   {
    "duration": 14,
    "start_time": "2025-01-11T11:48:04.036Z"
   },
   {
    "duration": 384,
    "start_time": "2025-01-11T11:49:09.815Z"
   },
   {
    "duration": 67,
    "start_time": "2025-01-11T11:49:10.202Z"
   },
   {
    "duration": 15,
    "start_time": "2025-01-11T11:49:10.271Z"
   },
   {
    "duration": 9,
    "start_time": "2025-01-11T11:49:10.289Z"
   },
   {
    "duration": 12,
    "start_time": "2025-01-11T11:49:10.300Z"
   },
   {
    "duration": 16,
    "start_time": "2025-01-11T11:49:10.313Z"
   },
   {
    "duration": 7,
    "start_time": "2025-01-11T11:49:10.330Z"
   },
   {
    "duration": 12,
    "start_time": "2025-01-11T11:49:10.339Z"
   },
   {
    "duration": 34,
    "start_time": "2025-01-11T11:49:10.353Z"
   },
   {
    "duration": 10,
    "start_time": "2025-01-11T11:49:10.391Z"
   },
   {
    "duration": 5,
    "start_time": "2025-01-11T11:49:10.403Z"
   },
   {
    "duration": 7,
    "start_time": "2025-01-11T11:49:10.410Z"
   },
   {
    "duration": 11,
    "start_time": "2025-01-11T11:49:10.418Z"
   },
   {
    "duration": 14,
    "start_time": "2025-01-11T11:49:10.431Z"
   },
   {
    "duration": 40,
    "start_time": "2025-01-11T11:49:10.447Z"
   },
   {
    "duration": 6,
    "start_time": "2025-01-11T11:49:10.489Z"
   },
   {
    "duration": 14,
    "start_time": "2025-01-11T11:49:10.497Z"
   },
   {
    "duration": 238,
    "start_time": "2025-01-11T11:49:10.513Z"
   },
   {
    "duration": 5,
    "start_time": "2025-01-11T11:49:10.752Z"
   },
   {
    "duration": 148,
    "start_time": "2025-01-11T11:49:10.759Z"
   },
   {
    "duration": 6,
    "start_time": "2025-01-11T11:49:10.908Z"
   },
   {
    "duration": 122,
    "start_time": "2025-01-11T11:49:10.915Z"
   },
   {
    "duration": 6,
    "start_time": "2025-01-11T11:49:11.038Z"
   },
   {
    "duration": 37,
    "start_time": "2025-01-11T11:49:11.045Z"
   },
   {
    "duration": 156,
    "start_time": "2025-01-11T11:49:11.084Z"
   },
   {
    "duration": 6,
    "start_time": "2025-01-11T11:49:11.242Z"
   },
   {
    "duration": 13,
    "start_time": "2025-01-11T11:49:11.249Z"
   },
   {
    "duration": 138,
    "start_time": "2025-01-11T11:49:11.266Z"
   },
   {
    "duration": 8,
    "start_time": "2025-01-11T11:49:11.406Z"
   },
   {
    "duration": 99,
    "start_time": "2025-01-11T11:49:11.415Z"
   },
   {
    "duration": 10,
    "start_time": "2025-01-11T11:49:11.515Z"
   },
   {
    "duration": 21,
    "start_time": "2025-01-11T11:49:11.526Z"
   },
   {
    "duration": 6,
    "start_time": "2025-01-11T11:49:11.549Z"
   },
   {
    "duration": 15,
    "start_time": "2025-01-11T11:49:11.556Z"
   },
   {
    "duration": 16,
    "start_time": "2025-01-11T11:49:11.572Z"
   },
   {
    "duration": 7,
    "start_time": "2025-01-11T11:49:11.589Z"
   },
   {
    "duration": 15,
    "start_time": "2025-01-11T11:49:11.597Z"
   },
   {
    "duration": 7,
    "start_time": "2025-01-11T11:49:11.613Z"
   },
   {
    "duration": 8,
    "start_time": "2025-01-11T11:49:11.621Z"
   },
   {
    "duration": 15,
    "start_time": "2025-01-11T11:49:11.631Z"
   },
   {
    "duration": 195,
    "start_time": "2025-01-11T11:49:11.648Z"
   },
   {
    "duration": 194,
    "start_time": "2025-01-11T11:49:11.845Z"
   },
   {
    "duration": 181,
    "start_time": "2025-01-11T11:49:12.041Z"
   },
   {
    "duration": 8,
    "start_time": "2025-01-11T11:49:12.224Z"
   },
   {
    "duration": 8,
    "start_time": "2025-01-11T11:49:12.234Z"
   },
   {
    "duration": 113,
    "start_time": "2025-01-11T11:49:12.243Z"
   },
   {
    "duration": 28,
    "start_time": "2025-01-11T11:49:12.358Z"
   },
   {
    "duration": 4,
    "start_time": "2025-01-11T11:49:12.388Z"
   },
   {
    "duration": 13,
    "start_time": "2025-01-11T11:49:12.394Z"
   },
   {
    "duration": 26,
    "start_time": "2025-01-11T11:49:12.409Z"
   },
   {
    "duration": 18,
    "start_time": "2025-01-11T11:49:12.436Z"
   },
   {
    "duration": 169,
    "start_time": "2025-01-11T11:49:12.455Z"
   },
   {
    "duration": 8,
    "start_time": "2025-01-11T11:49:12.625Z"
   },
   {
    "duration": 5,
    "start_time": "2025-01-11T11:49:12.635Z"
   },
   {
    "duration": 22,
    "start_time": "2025-01-11T11:49:12.641Z"
   },
   {
    "duration": 46,
    "start_time": "2025-01-11T11:49:12.664Z"
   },
   {
    "duration": 21,
    "start_time": "2025-01-11T11:49:12.711Z"
   },
   {
    "duration": 7,
    "start_time": "2025-01-11T11:49:12.733Z"
   },
   {
    "duration": 154,
    "start_time": "2025-01-11T11:49:12.741Z"
   },
   {
    "duration": 222,
    "start_time": "2025-01-11T11:49:12.897Z"
   },
   {
    "duration": 7,
    "start_time": "2025-01-11T11:49:13.120Z"
   },
   {
    "duration": 164,
    "start_time": "2025-01-11T11:49:13.128Z"
   },
   {
    "duration": 165,
    "start_time": "2025-01-11T11:49:13.294Z"
   },
   {
    "duration": 31,
    "start_time": "2025-01-11T11:49:13.461Z"
   },
   {
    "duration": 14,
    "start_time": "2025-01-11T11:49:13.493Z"
   },
   {
    "duration": 15,
    "start_time": "2025-01-11T11:49:13.508Z"
   },
   {
    "duration": 12,
    "start_time": "2025-01-11T11:49:54.831Z"
   },
   {
    "duration": 13,
    "start_time": "2025-01-11T11:50:54.345Z"
   },
   {
    "duration": 416,
    "start_time": "2025-01-11T11:56:01.672Z"
   },
   {
    "duration": 68,
    "start_time": "2025-01-11T11:56:02.090Z"
   },
   {
    "duration": 14,
    "start_time": "2025-01-11T11:56:02.160Z"
   },
   {
    "duration": 23,
    "start_time": "2025-01-11T11:56:02.176Z"
   },
   {
    "duration": 45,
    "start_time": "2025-01-11T11:56:02.200Z"
   },
   {
    "duration": 10,
    "start_time": "2025-01-11T11:56:02.247Z"
   },
   {
    "duration": 15,
    "start_time": "2025-01-11T11:56:02.258Z"
   },
   {
    "duration": 23,
    "start_time": "2025-01-11T11:56:02.275Z"
   },
   {
    "duration": 20,
    "start_time": "2025-01-11T11:56:02.300Z"
   },
   {
    "duration": 15,
    "start_time": "2025-01-11T11:56:02.323Z"
   },
   {
    "duration": 6,
    "start_time": "2025-01-11T11:56:02.339Z"
   },
   {
    "duration": 6,
    "start_time": "2025-01-11T11:56:02.346Z"
   },
   {
    "duration": 11,
    "start_time": "2025-01-11T11:56:02.353Z"
   },
   {
    "duration": 79,
    "start_time": "2025-01-11T11:56:02.365Z"
   },
   {
    "duration": 14,
    "start_time": "2025-01-11T11:56:02.446Z"
   },
   {
    "duration": 4,
    "start_time": "2025-01-11T11:56:02.462Z"
   },
   {
    "duration": 31,
    "start_time": "2025-01-11T11:56:02.467Z"
   },
   {
    "duration": 247,
    "start_time": "2025-01-11T11:56:02.499Z"
   },
   {
    "duration": 5,
    "start_time": "2025-01-11T11:56:02.748Z"
   },
   {
    "duration": 140,
    "start_time": "2025-01-11T11:56:02.755Z"
   },
   {
    "duration": 6,
    "start_time": "2025-01-11T11:56:02.897Z"
   },
   {
    "duration": 178,
    "start_time": "2025-01-11T11:56:02.905Z"
   },
   {
    "duration": 6,
    "start_time": "2025-01-11T11:56:03.085Z"
   },
   {
    "duration": 22,
    "start_time": "2025-01-11T11:56:03.093Z"
   },
   {
    "duration": 174,
    "start_time": "2025-01-11T11:56:03.117Z"
   },
   {
    "duration": 7,
    "start_time": "2025-01-11T11:56:03.293Z"
   },
   {
    "duration": 27,
    "start_time": "2025-01-11T11:56:03.302Z"
   },
   {
    "duration": 124,
    "start_time": "2025-01-11T11:56:03.334Z"
   },
   {
    "duration": 8,
    "start_time": "2025-01-11T11:56:03.459Z"
   },
   {
    "duration": 110,
    "start_time": "2025-01-11T11:56:03.469Z"
   },
   {
    "duration": 12,
    "start_time": "2025-01-11T11:56:03.581Z"
   },
   {
    "duration": 14,
    "start_time": "2025-01-11T11:56:03.595Z"
   },
   {
    "duration": 22,
    "start_time": "2025-01-11T11:56:03.611Z"
   },
   {
    "duration": 39,
    "start_time": "2025-01-11T11:56:03.635Z"
   },
   {
    "duration": 32,
    "start_time": "2025-01-11T11:56:03.675Z"
   },
   {
    "duration": 7,
    "start_time": "2025-01-11T11:56:03.709Z"
   },
   {
    "duration": 20,
    "start_time": "2025-01-11T11:56:03.717Z"
   },
   {
    "duration": 73,
    "start_time": "2025-01-11T11:56:03.739Z"
   },
   {
    "duration": 41,
    "start_time": "2025-01-11T11:56:03.813Z"
   },
   {
    "duration": 33,
    "start_time": "2025-01-11T11:56:03.856Z"
   },
   {
    "duration": 180,
    "start_time": "2025-01-11T11:56:03.890Z"
   },
   {
    "duration": 181,
    "start_time": "2025-01-11T11:56:04.072Z"
   },
   {
    "duration": 187,
    "start_time": "2025-01-11T11:56:04.255Z"
   },
   {
    "duration": 8,
    "start_time": "2025-01-11T11:56:04.443Z"
   },
   {
    "duration": 7,
    "start_time": "2025-01-11T11:56:04.452Z"
   },
   {
    "duration": 107,
    "start_time": "2025-01-11T11:56:04.461Z"
   },
   {
    "duration": 27,
    "start_time": "2025-01-11T11:56:04.569Z"
   },
   {
    "duration": 13,
    "start_time": "2025-01-11T11:56:04.597Z"
   },
   {
    "duration": 17,
    "start_time": "2025-01-11T11:56:04.612Z"
   },
   {
    "duration": 8,
    "start_time": "2025-01-11T11:56:04.630Z"
   },
   {
    "duration": 16,
    "start_time": "2025-01-11T11:56:04.639Z"
   },
   {
    "duration": 149,
    "start_time": "2025-01-11T11:56:04.657Z"
   },
   {
    "duration": 7,
    "start_time": "2025-01-11T11:56:04.808Z"
   },
   {
    "duration": 4,
    "start_time": "2025-01-11T11:56:04.817Z"
   },
   {
    "duration": 5,
    "start_time": "2025-01-11T11:56:04.823Z"
   },
   {
    "duration": 29,
    "start_time": "2025-01-11T11:56:04.829Z"
   },
   {
    "duration": 44,
    "start_time": "2025-01-11T11:56:04.859Z"
   },
   {
    "duration": 40,
    "start_time": "2025-01-11T11:56:04.904Z"
   },
   {
    "duration": 143,
    "start_time": "2025-01-11T11:56:04.945Z"
   },
   {
    "duration": 220,
    "start_time": "2025-01-11T11:56:05.089Z"
   },
   {
    "duration": 7,
    "start_time": "2025-01-11T11:56:05.311Z"
   },
   {
    "duration": 160,
    "start_time": "2025-01-11T11:56:05.319Z"
   },
   {
    "duration": 198,
    "start_time": "2025-01-11T11:56:05.480Z"
   },
   {
    "duration": 32,
    "start_time": "2025-01-11T11:56:05.679Z"
   },
   {
    "duration": 21,
    "start_time": "2025-01-11T11:56:05.712Z"
   },
   {
    "duration": 75,
    "start_time": "2025-01-11T11:56:05.734Z"
   },
   {
    "duration": 396,
    "start_time": "2025-01-11T11:56:32.509Z"
   },
   {
    "duration": 66,
    "start_time": "2025-01-11T11:56:32.908Z"
   },
   {
    "duration": 14,
    "start_time": "2025-01-11T11:56:32.976Z"
   },
   {
    "duration": 34,
    "start_time": "2025-01-11T11:56:32.993Z"
   },
   {
    "duration": 10,
    "start_time": "2025-01-11T11:56:33.029Z"
   },
   {
    "duration": 11,
    "start_time": "2025-01-11T11:56:33.041Z"
   },
   {
    "duration": 7,
    "start_time": "2025-01-11T11:56:33.054Z"
   },
   {
    "duration": 22,
    "start_time": "2025-01-11T11:56:33.062Z"
   },
   {
    "duration": 23,
    "start_time": "2025-01-11T11:56:33.086Z"
   },
   {
    "duration": 19,
    "start_time": "2025-01-11T11:56:33.111Z"
   },
   {
    "duration": 12,
    "start_time": "2025-01-11T11:56:33.131Z"
   },
   {
    "duration": 6,
    "start_time": "2025-01-11T11:56:33.144Z"
   },
   {
    "duration": 11,
    "start_time": "2025-01-11T11:56:33.152Z"
   },
   {
    "duration": 17,
    "start_time": "2025-01-11T11:56:33.164Z"
   },
   {
    "duration": 16,
    "start_time": "2025-01-11T11:56:33.182Z"
   },
   {
    "duration": 14,
    "start_time": "2025-01-11T11:56:33.200Z"
   },
   {
    "duration": 18,
    "start_time": "2025-01-11T11:56:33.215Z"
   },
   {
    "duration": 253,
    "start_time": "2025-01-11T11:56:33.234Z"
   },
   {
    "duration": 5,
    "start_time": "2025-01-11T11:56:33.489Z"
   },
   {
    "duration": 169,
    "start_time": "2025-01-11T11:56:33.495Z"
   },
   {
    "duration": 5,
    "start_time": "2025-01-11T11:56:33.666Z"
   },
   {
    "duration": 116,
    "start_time": "2025-01-11T11:56:33.672Z"
   },
   {
    "duration": 5,
    "start_time": "2025-01-11T11:56:33.790Z"
   },
   {
    "duration": 22,
    "start_time": "2025-01-11T11:56:33.797Z"
   },
   {
    "duration": 159,
    "start_time": "2025-01-11T11:56:33.820Z"
   },
   {
    "duration": 7,
    "start_time": "2025-01-11T11:56:33.980Z"
   },
   {
    "duration": 61,
    "start_time": "2025-01-11T11:56:33.988Z"
   },
   {
    "duration": 122,
    "start_time": "2025-01-11T11:56:34.053Z"
   },
   {
    "duration": 17,
    "start_time": "2025-01-11T11:56:34.177Z"
   },
   {
    "duration": 102,
    "start_time": "2025-01-11T11:56:34.195Z"
   },
   {
    "duration": 11,
    "start_time": "2025-01-11T11:56:34.299Z"
   },
   {
    "duration": 32,
    "start_time": "2025-01-11T11:56:34.311Z"
   },
   {
    "duration": 7,
    "start_time": "2025-01-11T11:56:34.344Z"
   },
   {
    "duration": 5,
    "start_time": "2025-01-11T11:56:34.353Z"
   },
   {
    "duration": 12,
    "start_time": "2025-01-11T11:56:34.359Z"
   },
   {
    "duration": 15,
    "start_time": "2025-01-11T11:56:34.372Z"
   },
   {
    "duration": 108,
    "start_time": "2025-01-11T11:56:34.389Z"
   },
   {
    "duration": 14,
    "start_time": "2025-01-11T11:56:34.498Z"
   },
   {
    "duration": 21,
    "start_time": "2025-01-11T11:56:34.514Z"
   },
   {
    "duration": 30,
    "start_time": "2025-01-11T11:56:34.537Z"
   },
   {
    "duration": 189,
    "start_time": "2025-01-11T11:56:34.569Z"
   },
   {
    "duration": 190,
    "start_time": "2025-01-11T11:56:34.760Z"
   },
   {
    "duration": 187,
    "start_time": "2025-01-11T11:56:34.952Z"
   },
   {
    "duration": 8,
    "start_time": "2025-01-11T11:56:35.141Z"
   },
   {
    "duration": 17,
    "start_time": "2025-01-11T11:56:35.151Z"
   },
   {
    "duration": 110,
    "start_time": "2025-01-11T11:56:35.170Z"
   },
   {
    "duration": 14,
    "start_time": "2025-01-11T11:56:35.286Z"
   },
   {
    "duration": 33,
    "start_time": "2025-01-11T11:56:35.302Z"
   },
   {
    "duration": 25,
    "start_time": "2025-01-11T11:56:35.337Z"
   },
   {
    "duration": 36,
    "start_time": "2025-01-11T11:56:35.364Z"
   },
   {
    "duration": 21,
    "start_time": "2025-01-11T11:56:35.401Z"
   },
   {
    "duration": 194,
    "start_time": "2025-01-11T11:56:35.424Z"
   },
   {
    "duration": 9,
    "start_time": "2025-01-11T11:56:35.619Z"
   },
   {
    "duration": 8,
    "start_time": "2025-01-11T11:56:35.630Z"
   },
   {
    "duration": 8,
    "start_time": "2025-01-11T11:56:35.639Z"
   },
   {
    "duration": 49,
    "start_time": "2025-01-11T11:56:35.648Z"
   },
   {
    "duration": 23,
    "start_time": "2025-01-11T11:56:35.699Z"
   },
   {
    "duration": 67,
    "start_time": "2025-01-11T11:56:35.723Z"
   },
   {
    "duration": 197,
    "start_time": "2025-01-11T11:56:35.791Z"
   },
   {
    "duration": 233,
    "start_time": "2025-01-11T11:56:35.990Z"
   },
   {
    "duration": 8,
    "start_time": "2025-01-11T11:56:36.225Z"
   },
   {
    "duration": 180,
    "start_time": "2025-01-11T11:56:36.234Z"
   },
   {
    "duration": 177,
    "start_time": "2025-01-11T11:56:36.416Z"
   },
   {
    "duration": 28,
    "start_time": "2025-01-11T11:56:36.594Z"
   },
   {
    "duration": 15,
    "start_time": "2025-01-11T11:56:36.624Z"
   },
   {
    "duration": 1179,
    "start_time": "2025-01-11T11:56:36.641Z"
   },
   {
    "duration": 120,
    "start_time": "2025-01-11T11:58:12.976Z"
   },
   {
    "duration": 14,
    "start_time": "2025-01-11T11:59:19.835Z"
   },
   {
    "duration": 14,
    "start_time": "2025-01-11T11:59:34.260Z"
   },
   {
    "duration": 27,
    "start_time": "2025-01-11T12:08:50.012Z"
   },
   {
    "duration": 1244,
    "start_time": "2025-01-11T12:10:24.935Z"
   },
   {
    "duration": 24,
    "start_time": "2025-01-11T12:12:12.542Z"
   },
   {
    "duration": 46,
    "start_time": "2025-01-11T12:12:35.077Z"
   },
   {
    "duration": 49,
    "start_time": "2025-01-11T12:12:51.367Z"
   },
   {
    "duration": 25,
    "start_time": "2025-01-11T12:13:03.425Z"
   },
   {
    "duration": 388,
    "start_time": "2025-01-11T12:13:07.814Z"
   },
   {
    "duration": 67,
    "start_time": "2025-01-11T12:13:08.204Z"
   },
   {
    "duration": 15,
    "start_time": "2025-01-11T12:13:08.272Z"
   },
   {
    "duration": 11,
    "start_time": "2025-01-11T12:13:08.288Z"
   },
   {
    "duration": 8,
    "start_time": "2025-01-11T12:13:08.302Z"
   },
   {
    "duration": 17,
    "start_time": "2025-01-11T12:13:08.312Z"
   },
   {
    "duration": 7,
    "start_time": "2025-01-11T12:13:08.331Z"
   },
   {
    "duration": 16,
    "start_time": "2025-01-11T12:13:08.340Z"
   },
   {
    "duration": 35,
    "start_time": "2025-01-11T12:13:08.358Z"
   },
   {
    "duration": 11,
    "start_time": "2025-01-11T12:13:08.395Z"
   },
   {
    "duration": 5,
    "start_time": "2025-01-11T12:13:08.407Z"
   },
   {
    "duration": 7,
    "start_time": "2025-01-11T12:13:08.414Z"
   },
   {
    "duration": 14,
    "start_time": "2025-01-11T12:13:08.422Z"
   },
   {
    "duration": 5,
    "start_time": "2025-01-11T12:13:08.439Z"
   },
   {
    "duration": 63,
    "start_time": "2025-01-11T12:13:08.445Z"
   },
   {
    "duration": 14,
    "start_time": "2025-01-11T12:13:08.509Z"
   },
   {
    "duration": 10,
    "start_time": "2025-01-11T12:13:08.525Z"
   },
   {
    "duration": 232,
    "start_time": "2025-01-11T12:13:08.536Z"
   },
   {
    "duration": 5,
    "start_time": "2025-01-11T12:13:08.770Z"
   },
   {
    "duration": 149,
    "start_time": "2025-01-11T12:13:08.777Z"
   },
   {
    "duration": 6,
    "start_time": "2025-01-11T12:13:08.928Z"
   },
   {
    "duration": 112,
    "start_time": "2025-01-11T12:13:08.935Z"
   },
   {
    "duration": 5,
    "start_time": "2025-01-11T12:13:09.049Z"
   },
   {
    "duration": 18,
    "start_time": "2025-01-11T12:13:09.055Z"
   },
   {
    "duration": 155,
    "start_time": "2025-01-11T12:13:09.075Z"
   },
   {
    "duration": 6,
    "start_time": "2025-01-11T12:13:09.232Z"
   },
   {
    "duration": 16,
    "start_time": "2025-01-11T12:13:09.240Z"
   },
   {
    "duration": 138,
    "start_time": "2025-01-11T12:13:09.257Z"
   },
   {
    "duration": 7,
    "start_time": "2025-01-11T12:13:09.397Z"
   },
   {
    "duration": 125,
    "start_time": "2025-01-11T12:13:09.405Z"
   },
   {
    "duration": 9,
    "start_time": "2025-01-11T12:13:09.532Z"
   },
   {
    "duration": 10,
    "start_time": "2025-01-11T12:13:09.543Z"
   },
   {
    "duration": 18,
    "start_time": "2025-01-11T12:13:09.555Z"
   },
   {
    "duration": 5,
    "start_time": "2025-01-11T12:13:09.574Z"
   },
   {
    "duration": 14,
    "start_time": "2025-01-11T12:13:09.585Z"
   },
   {
    "duration": 8,
    "start_time": "2025-01-11T12:13:09.600Z"
   },
   {
    "duration": 18,
    "start_time": "2025-01-11T12:13:09.610Z"
   },
   {
    "duration": 7,
    "start_time": "2025-01-11T12:13:09.629Z"
   },
   {
    "duration": 8,
    "start_time": "2025-01-11T12:13:09.637Z"
   },
   {
    "duration": 40,
    "start_time": "2025-01-11T12:13:09.646Z"
   },
   {
    "duration": 185,
    "start_time": "2025-01-11T12:13:09.690Z"
   },
   {
    "duration": 192,
    "start_time": "2025-01-11T12:13:09.877Z"
   },
   {
    "duration": 180,
    "start_time": "2025-01-11T12:13:10.071Z"
   },
   {
    "duration": 8,
    "start_time": "2025-01-11T12:13:10.253Z"
   },
   {
    "duration": 7,
    "start_time": "2025-01-11T12:13:10.262Z"
   },
   {
    "duration": 103,
    "start_time": "2025-01-11T12:13:10.270Z"
   },
   {
    "duration": 13,
    "start_time": "2025-01-11T12:13:10.386Z"
   },
   {
    "duration": 4,
    "start_time": "2025-01-11T12:13:10.401Z"
   },
   {
    "duration": 18,
    "start_time": "2025-01-11T12:13:10.406Z"
   },
   {
    "duration": 7,
    "start_time": "2025-01-11T12:13:10.425Z"
   },
   {
    "duration": 41,
    "start_time": "2025-01-11T12:13:10.433Z"
   },
   {
    "duration": 187,
    "start_time": "2025-01-11T12:13:10.475Z"
   },
   {
    "duration": 8,
    "start_time": "2025-01-11T12:13:10.663Z"
   },
   {
    "duration": 5,
    "start_time": "2025-01-11T12:13:10.672Z"
   },
   {
    "duration": 5,
    "start_time": "2025-01-11T12:13:10.686Z"
   },
   {
    "duration": 30,
    "start_time": "2025-01-11T12:13:10.693Z"
   },
   {
    "duration": 21,
    "start_time": "2025-01-11T12:13:10.724Z"
   },
   {
    "duration": 7,
    "start_time": "2025-01-11T12:13:10.746Z"
   },
   {
    "duration": 169,
    "start_time": "2025-01-11T12:13:10.754Z"
   },
   {
    "duration": 216,
    "start_time": "2025-01-11T12:13:10.924Z"
   },
   {
    "duration": 7,
    "start_time": "2025-01-11T12:13:11.142Z"
   },
   {
    "duration": 161,
    "start_time": "2025-01-11T12:13:11.150Z"
   },
   {
    "duration": 169,
    "start_time": "2025-01-11T12:13:11.312Z"
   },
   {
    "duration": 28,
    "start_time": "2025-01-11T12:13:11.486Z"
   },
   {
    "duration": 14,
    "start_time": "2025-01-11T12:13:11.515Z"
   },
   {
    "duration": 138,
    "start_time": "2025-01-11T12:13:11.531Z"
   },
   {
    "duration": 17,
    "start_time": "2025-01-11T12:13:11.670Z"
   },
   {
    "duration": 119,
    "start_time": "2025-01-11T12:14:16.260Z"
   },
   {
    "duration": 408,
    "start_time": "2025-01-11T15:09:20.748Z"
   },
   {
    "duration": 217,
    "start_time": "2025-01-11T15:09:21.158Z"
   },
   {
    "duration": 13,
    "start_time": "2025-01-11T15:09:21.377Z"
   },
   {
    "duration": 9,
    "start_time": "2025-01-11T15:09:21.392Z"
   },
   {
    "duration": 12,
    "start_time": "2025-01-11T15:09:21.403Z"
   },
   {
    "duration": 23,
    "start_time": "2025-01-11T15:09:21.417Z"
   },
   {
    "duration": 12,
    "start_time": "2025-01-11T15:09:21.442Z"
   },
   {
    "duration": 10,
    "start_time": "2025-01-11T15:09:21.455Z"
   },
   {
    "duration": 18,
    "start_time": "2025-01-11T15:09:21.467Z"
   },
   {
    "duration": 16,
    "start_time": "2025-01-11T15:09:21.486Z"
   },
   {
    "duration": 102,
    "start_time": "2025-01-11T15:09:21.503Z"
   },
   {
    "duration": 13,
    "start_time": "2025-01-11T15:09:21.606Z"
   },
   {
    "duration": 110,
    "start_time": "2025-01-11T15:09:21.620Z"
   },
   {
    "duration": 21,
    "start_time": "2025-01-11T15:09:21.733Z"
   },
   {
    "duration": 9,
    "start_time": "2025-01-11T15:09:21.755Z"
   },
   {
    "duration": 74,
    "start_time": "2025-01-11T15:09:21.765Z"
   },
   {
    "duration": 7,
    "start_time": "2025-01-11T15:09:21.841Z"
   },
   {
    "duration": 389,
    "start_time": "2025-01-11T15:09:21.850Z"
   },
   {
    "duration": 6,
    "start_time": "2025-01-11T15:09:22.241Z"
   },
   {
    "duration": 142,
    "start_time": "2025-01-11T15:09:22.254Z"
   },
   {
    "duration": 5,
    "start_time": "2025-01-11T15:09:22.398Z"
   },
   {
    "duration": 118,
    "start_time": "2025-01-11T15:09:22.405Z"
   },
   {
    "duration": 6,
    "start_time": "2025-01-11T15:09:22.525Z"
   },
   {
    "duration": 21,
    "start_time": "2025-01-11T15:09:22.533Z"
   },
   {
    "duration": 182,
    "start_time": "2025-01-11T15:09:22.556Z"
   },
   {
    "duration": 16,
    "start_time": "2025-01-11T15:09:22.740Z"
   },
   {
    "duration": 15,
    "start_time": "2025-01-11T15:09:22.758Z"
   },
   {
    "duration": 150,
    "start_time": "2025-01-11T15:09:22.775Z"
   },
   {
    "duration": 7,
    "start_time": "2025-01-11T15:09:22.927Z"
   },
   {
    "duration": 104,
    "start_time": "2025-01-11T15:09:22.936Z"
   },
   {
    "duration": 20,
    "start_time": "2025-01-11T15:09:23.041Z"
   },
   {
    "duration": 5,
    "start_time": "2025-01-11T15:09:23.063Z"
   },
   {
    "duration": 9,
    "start_time": "2025-01-11T15:09:23.069Z"
   },
   {
    "duration": 4,
    "start_time": "2025-01-11T15:09:23.079Z"
   },
   {
    "duration": 13,
    "start_time": "2025-01-11T15:09:23.084Z"
   },
   {
    "duration": 6,
    "start_time": "2025-01-11T15:09:23.099Z"
   },
   {
    "duration": 50,
    "start_time": "2025-01-11T15:09:23.107Z"
   },
   {
    "duration": 7,
    "start_time": "2025-01-11T15:09:23.159Z"
   },
   {
    "duration": 6,
    "start_time": "2025-01-11T15:09:23.167Z"
   },
   {
    "duration": 7,
    "start_time": "2025-01-11T15:09:23.174Z"
   },
   {
    "duration": 209,
    "start_time": "2025-01-11T15:09:23.185Z"
   },
   {
    "duration": 200,
    "start_time": "2025-01-11T15:09:23.395Z"
   },
   {
    "duration": 192,
    "start_time": "2025-01-11T15:09:23.597Z"
   },
   {
    "duration": 8,
    "start_time": "2025-01-11T15:09:23.791Z"
   },
   {
    "duration": 38,
    "start_time": "2025-01-11T15:09:23.800Z"
   },
   {
    "duration": 95,
    "start_time": "2025-01-11T15:09:23.840Z"
   },
   {
    "duration": 23,
    "start_time": "2025-01-11T15:09:23.936Z"
   },
   {
    "duration": 8,
    "start_time": "2025-01-11T15:09:23.960Z"
   },
   {
    "duration": 11,
    "start_time": "2025-01-11T15:09:23.969Z"
   },
   {
    "duration": 7,
    "start_time": "2025-01-11T15:09:23.981Z"
   },
   {
    "duration": 5,
    "start_time": "2025-01-11T15:09:23.989Z"
   },
   {
    "duration": 186,
    "start_time": "2025-01-11T15:09:23.995Z"
   },
   {
    "duration": 7,
    "start_time": "2025-01-11T15:09:24.183Z"
   },
   {
    "duration": 4,
    "start_time": "2025-01-11T15:09:24.192Z"
   },
   {
    "duration": 4,
    "start_time": "2025-01-11T15:09:24.198Z"
   },
   {
    "duration": 52,
    "start_time": "2025-01-11T15:09:24.203Z"
   },
   {
    "duration": 19,
    "start_time": "2025-01-11T15:09:24.257Z"
   },
   {
    "duration": 6,
    "start_time": "2025-01-11T15:09:24.278Z"
   },
   {
    "duration": 203,
    "start_time": "2025-01-11T15:09:24.285Z"
   },
   {
    "duration": 239,
    "start_time": "2025-01-11T15:09:24.489Z"
   },
   {
    "duration": 7,
    "start_time": "2025-01-11T15:09:24.729Z"
   },
   {
    "duration": 171,
    "start_time": "2025-01-11T15:09:24.738Z"
   },
   {
    "duration": 175,
    "start_time": "2025-01-11T15:09:24.911Z"
   },
   {
    "duration": 28,
    "start_time": "2025-01-11T15:09:25.087Z"
   },
   {
    "duration": 13,
    "start_time": "2025-01-11T15:09:25.116Z"
   },
   {
    "duration": 141,
    "start_time": "2025-01-11T15:09:25.130Z"
   },
   {
    "duration": 12,
    "start_time": "2025-01-11T15:09:25.273Z"
   },
   {
    "duration": 409,
    "start_time": "2025-01-11T15:20:17.556Z"
   },
   {
    "duration": 93,
    "start_time": "2025-01-11T15:25:53.941Z"
   },
   {
    "duration": 9,
    "start_time": "2025-01-11T15:26:03.739Z"
   },
   {
    "duration": 173,
    "start_time": "2025-01-11T15:26:07.742Z"
   },
   {
    "duration": 5,
    "start_time": "2025-01-11T15:26:41.150Z"
   },
   {
    "duration": 6,
    "start_time": "2025-01-11T15:29:35.906Z"
   },
   {
    "duration": 5,
    "start_time": "2025-01-11T15:30:33.780Z"
   },
   {
    "duration": 5,
    "start_time": "2025-01-11T15:45:27.968Z"
   },
   {
    "duration": 4,
    "start_time": "2025-01-11T15:46:11.287Z"
   },
   {
    "duration": 8,
    "start_time": "2025-01-11T15:46:38.685Z"
   },
   {
    "duration": 5,
    "start_time": "2025-01-11T15:46:53.650Z"
   },
   {
    "duration": 13,
    "start_time": "2025-01-11T15:55:26.779Z"
   },
   {
    "duration": 17,
    "start_time": "2025-01-11T16:15:40.647Z"
   },
   {
    "duration": 7,
    "start_time": "2025-01-11T16:17:01.405Z"
   },
   {
    "duration": 15,
    "start_time": "2025-01-11T16:18:11.137Z"
   },
   {
    "duration": 6,
    "start_time": "2025-01-11T16:18:37.930Z"
   },
   {
    "duration": 16,
    "start_time": "2025-01-11T16:20:12.115Z"
   },
   {
    "duration": 4,
    "start_time": "2025-01-11T16:20:42.543Z"
   },
   {
    "duration": 4,
    "start_time": "2025-01-11T16:21:31.298Z"
   },
   {
    "duration": 9,
    "start_time": "2025-01-11T16:24:11.643Z"
   },
   {
    "duration": 4,
    "start_time": "2025-01-11T16:24:13.305Z"
   },
   {
    "duration": 4,
    "start_time": "2025-01-11T16:24:20.883Z"
   },
   {
    "duration": 4,
    "start_time": "2025-01-11T16:24:38.336Z"
   },
   {
    "duration": 4,
    "start_time": "2025-01-11T16:24:41.954Z"
   },
   {
    "duration": 5,
    "start_time": "2025-01-11T16:25:03.823Z"
   },
   {
    "duration": 8,
    "start_time": "2025-01-11T16:27:20.159Z"
   },
   {
    "duration": 8,
    "start_time": "2025-01-11T16:27:22.035Z"
   },
   {
    "duration": 9,
    "start_time": "2025-01-11T16:27:23.646Z"
   },
   {
    "duration": 5,
    "start_time": "2025-01-11T16:27:24.915Z"
   },
   {
    "duration": 5,
    "start_time": "2025-01-11T16:27:27.322Z"
   },
   {
    "duration": 8,
    "start_time": "2025-01-11T16:27:38.016Z"
   },
   {
    "duration": 7,
    "start_time": "2025-01-11T16:27:39.358Z"
   },
   {
    "duration": 8,
    "start_time": "2025-01-11T16:28:45.457Z"
   },
   {
    "duration": 6,
    "start_time": "2025-01-11T16:28:46.859Z"
   },
   {
    "duration": 4,
    "start_time": "2025-01-11T16:28:48.789Z"
   },
   {
    "duration": 5,
    "start_time": "2025-01-11T16:28:51.105Z"
   },
   {
    "duration": 5,
    "start_time": "2025-01-11T16:33:58.395Z"
   },
   {
    "duration": 5,
    "start_time": "2025-01-11T16:35:08.903Z"
   },
   {
    "duration": 4,
    "start_time": "2025-01-11T16:35:12.042Z"
   },
   {
    "duration": 5,
    "start_time": "2025-01-11T16:36:06.023Z"
   },
   {
    "duration": 371,
    "start_time": "2025-01-11T16:36:11.914Z"
   },
   {
    "duration": 68,
    "start_time": "2025-01-11T16:36:12.287Z"
   },
   {
    "duration": 14,
    "start_time": "2025-01-11T16:36:12.357Z"
   },
   {
    "duration": 10,
    "start_time": "2025-01-11T16:36:12.372Z"
   },
   {
    "duration": 8,
    "start_time": "2025-01-11T16:36:12.384Z"
   },
   {
    "duration": 16,
    "start_time": "2025-01-11T16:36:12.393Z"
   },
   {
    "duration": 6,
    "start_time": "2025-01-11T16:36:12.410Z"
   },
   {
    "duration": 37,
    "start_time": "2025-01-11T16:36:12.417Z"
   },
   {
    "duration": 15,
    "start_time": "2025-01-11T16:36:12.455Z"
   },
   {
    "duration": 9,
    "start_time": "2025-01-11T16:36:12.471Z"
   },
   {
    "duration": 5,
    "start_time": "2025-01-11T16:36:12.482Z"
   },
   {
    "duration": 8,
    "start_time": "2025-01-11T16:36:12.488Z"
   },
   {
    "duration": 11,
    "start_time": "2025-01-11T16:36:12.497Z"
   },
   {
    "duration": 5,
    "start_time": "2025-01-11T16:36:12.510Z"
   },
   {
    "duration": 43,
    "start_time": "2025-01-11T16:36:12.517Z"
   },
   {
    "duration": 6,
    "start_time": "2025-01-11T16:36:12.562Z"
   },
   {
    "duration": 4,
    "start_time": "2025-01-11T16:36:12.569Z"
   },
   {
    "duration": 259,
    "start_time": "2025-01-11T16:36:12.574Z"
   },
   {
    "duration": 5,
    "start_time": "2025-01-11T16:36:12.835Z"
   },
   {
    "duration": 144,
    "start_time": "2025-01-11T16:36:12.841Z"
   },
   {
    "duration": 4,
    "start_time": "2025-01-11T16:36:12.987Z"
   },
   {
    "duration": 107,
    "start_time": "2025-01-11T16:36:12.992Z"
   },
   {
    "duration": 5,
    "start_time": "2025-01-11T16:36:13.101Z"
   },
   {
    "duration": 7,
    "start_time": "2025-01-11T16:36:13.107Z"
   },
   {
    "duration": 187,
    "start_time": "2025-01-11T16:36:13.116Z"
   },
   {
    "duration": 6,
    "start_time": "2025-01-11T16:36:13.304Z"
   },
   {
    "duration": 35,
    "start_time": "2025-01-11T16:36:13.311Z"
   },
   {
    "duration": 135,
    "start_time": "2025-01-11T16:36:13.347Z"
   },
   {
    "duration": 8,
    "start_time": "2025-01-11T16:36:13.483Z"
   },
   {
    "duration": 108,
    "start_time": "2025-01-11T16:36:13.492Z"
   },
   {
    "duration": 10,
    "start_time": "2025-01-11T16:36:13.602Z"
   },
   {
    "duration": 6,
    "start_time": "2025-01-11T16:36:13.613Z"
   },
   {
    "duration": 6,
    "start_time": "2025-01-11T16:36:13.620Z"
   },
   {
    "duration": 29,
    "start_time": "2025-01-11T16:36:13.627Z"
   },
   {
    "duration": 15,
    "start_time": "2025-01-11T16:36:13.657Z"
   },
   {
    "duration": 7,
    "start_time": "2025-01-11T16:36:13.673Z"
   },
   {
    "duration": 14,
    "start_time": "2025-01-11T16:36:13.682Z"
   },
   {
    "duration": 7,
    "start_time": "2025-01-11T16:36:13.697Z"
   },
   {
    "duration": 6,
    "start_time": "2025-01-11T16:36:13.705Z"
   },
   {
    "duration": 43,
    "start_time": "2025-01-11T16:36:13.713Z"
   },
   {
    "duration": 186,
    "start_time": "2025-01-11T16:36:13.761Z"
   },
   {
    "duration": 194,
    "start_time": "2025-01-11T16:36:13.948Z"
   },
   {
    "duration": 191,
    "start_time": "2025-01-11T16:36:14.143Z"
   },
   {
    "duration": 18,
    "start_time": "2025-01-11T16:36:14.336Z"
   },
   {
    "duration": 8,
    "start_time": "2025-01-11T16:36:14.355Z"
   },
   {
    "duration": 131,
    "start_time": "2025-01-11T16:36:14.364Z"
   },
   {
    "duration": 13,
    "start_time": "2025-01-11T16:36:14.497Z"
   },
   {
    "duration": 8,
    "start_time": "2025-01-11T16:36:14.512Z"
   },
   {
    "duration": 11,
    "start_time": "2025-01-11T16:36:14.523Z"
   },
   {
    "duration": 20,
    "start_time": "2025-01-11T16:36:14.536Z"
   },
   {
    "duration": 6,
    "start_time": "2025-01-11T16:36:14.557Z"
   },
   {
    "duration": 174,
    "start_time": "2025-01-11T16:36:14.564Z"
   },
   {
    "duration": 16,
    "start_time": "2025-01-11T16:36:14.739Z"
   },
   {
    "duration": 5,
    "start_time": "2025-01-11T16:36:14.757Z"
   },
   {
    "duration": 5,
    "start_time": "2025-01-11T16:36:14.763Z"
   },
   {
    "duration": 28,
    "start_time": "2025-01-11T16:36:14.769Z"
   },
   {
    "duration": 19,
    "start_time": "2025-01-11T16:36:14.799Z"
   },
   {
    "duration": 39,
    "start_time": "2025-01-11T16:36:14.819Z"
   },
   {
    "duration": 157,
    "start_time": "2025-01-11T16:36:14.860Z"
   },
   {
    "duration": 263,
    "start_time": "2025-01-11T16:36:15.019Z"
   },
   {
    "duration": 7,
    "start_time": "2025-01-11T16:36:15.284Z"
   },
   {
    "duration": 170,
    "start_time": "2025-01-11T16:36:15.293Z"
   },
   {
    "duration": 189,
    "start_time": "2025-01-11T16:36:15.465Z"
   },
   {
    "duration": 28,
    "start_time": "2025-01-11T16:36:15.655Z"
   },
   {
    "duration": 14,
    "start_time": "2025-01-11T16:36:15.685Z"
   },
   {
    "duration": 135,
    "start_time": "2025-01-11T16:36:15.700Z"
   },
   {
    "duration": 22,
    "start_time": "2025-01-11T16:36:15.837Z"
   },
   {
    "duration": 486,
    "start_time": "2025-01-11T16:36:15.860Z"
   },
   {
    "duration": 0,
    "start_time": "2025-01-11T16:36:16.348Z"
   },
   {
    "duration": 0,
    "start_time": "2025-01-11T16:36:16.349Z"
   },
   {
    "duration": 0,
    "start_time": "2025-01-11T16:36:16.354Z"
   },
   {
    "duration": 0,
    "start_time": "2025-01-11T16:36:16.355Z"
   },
   {
    "duration": 394,
    "start_time": "2025-01-11T16:37:03.575Z"
   },
   {
    "duration": 67,
    "start_time": "2025-01-11T16:37:03.971Z"
   },
   {
    "duration": 13,
    "start_time": "2025-01-11T16:37:04.039Z"
   },
   {
    "duration": 10,
    "start_time": "2025-01-11T16:37:04.054Z"
   },
   {
    "duration": 9,
    "start_time": "2025-01-11T16:37:04.065Z"
   },
   {
    "duration": 21,
    "start_time": "2025-01-11T16:37:04.075Z"
   },
   {
    "duration": 15,
    "start_time": "2025-01-11T16:37:04.098Z"
   },
   {
    "duration": 13,
    "start_time": "2025-01-11T16:37:04.114Z"
   },
   {
    "duration": 25,
    "start_time": "2025-01-11T16:37:04.128Z"
   },
   {
    "duration": 16,
    "start_time": "2025-01-11T16:37:04.157Z"
   },
   {
    "duration": 15,
    "start_time": "2025-01-11T16:37:04.174Z"
   },
   {
    "duration": 6,
    "start_time": "2025-01-11T16:37:04.190Z"
   },
   {
    "duration": 14,
    "start_time": "2025-01-11T16:37:04.197Z"
   },
   {
    "duration": 6,
    "start_time": "2025-01-11T16:37:04.213Z"
   },
   {
    "duration": 8,
    "start_time": "2025-01-11T16:37:04.220Z"
   },
   {
    "duration": 8,
    "start_time": "2025-01-11T16:37:04.229Z"
   },
   {
    "duration": 16,
    "start_time": "2025-01-11T16:37:04.239Z"
   },
   {
    "duration": 275,
    "start_time": "2025-01-11T16:37:04.257Z"
   },
   {
    "duration": 6,
    "start_time": "2025-01-11T16:37:04.534Z"
   },
   {
    "duration": 147,
    "start_time": "2025-01-11T16:37:04.541Z"
   },
   {
    "duration": 5,
    "start_time": "2025-01-11T16:37:04.690Z"
   },
   {
    "duration": 116,
    "start_time": "2025-01-11T16:37:04.697Z"
   },
   {
    "duration": 6,
    "start_time": "2025-01-11T16:37:04.814Z"
   },
   {
    "duration": 24,
    "start_time": "2025-01-11T16:37:04.821Z"
   },
   {
    "duration": 174,
    "start_time": "2025-01-11T16:37:04.847Z"
   },
   {
    "duration": 5,
    "start_time": "2025-01-11T16:37:05.023Z"
   },
   {
    "duration": 24,
    "start_time": "2025-01-11T16:37:05.030Z"
   },
   {
    "duration": 139,
    "start_time": "2025-01-11T16:37:05.058Z"
   },
   {
    "duration": 8,
    "start_time": "2025-01-11T16:37:05.199Z"
   },
   {
    "duration": 101,
    "start_time": "2025-01-11T16:37:05.209Z"
   },
   {
    "duration": 11,
    "start_time": "2025-01-11T16:37:05.311Z"
   },
   {
    "duration": 10,
    "start_time": "2025-01-11T16:37:05.323Z"
   },
   {
    "duration": 20,
    "start_time": "2025-01-11T16:37:05.334Z"
   },
   {
    "duration": 5,
    "start_time": "2025-01-11T16:37:05.356Z"
   },
   {
    "duration": 14,
    "start_time": "2025-01-11T16:37:05.363Z"
   },
   {
    "duration": 7,
    "start_time": "2025-01-11T16:37:05.378Z"
   },
   {
    "duration": 15,
    "start_time": "2025-01-11T16:37:05.386Z"
   },
   {
    "duration": 7,
    "start_time": "2025-01-11T16:37:05.402Z"
   },
   {
    "duration": 5,
    "start_time": "2025-01-11T16:37:05.410Z"
   },
   {
    "duration": 37,
    "start_time": "2025-01-11T16:37:05.417Z"
   },
   {
    "duration": 219,
    "start_time": "2025-01-11T16:37:05.456Z"
   },
   {
    "duration": 192,
    "start_time": "2025-01-11T16:37:05.676Z"
   },
   {
    "duration": 191,
    "start_time": "2025-01-11T16:37:05.870Z"
   },
   {
    "duration": 9,
    "start_time": "2025-01-11T16:37:06.063Z"
   },
   {
    "duration": 13,
    "start_time": "2025-01-11T16:37:06.073Z"
   },
   {
    "duration": 114,
    "start_time": "2025-01-11T16:37:06.087Z"
   },
   {
    "duration": 16,
    "start_time": "2025-01-11T16:37:06.203Z"
   },
   {
    "duration": 26,
    "start_time": "2025-01-11T16:37:06.220Z"
   },
   {
    "duration": 11,
    "start_time": "2025-01-11T16:37:06.248Z"
   },
   {
    "duration": 8,
    "start_time": "2025-01-11T16:37:06.261Z"
   },
   {
    "duration": 5,
    "start_time": "2025-01-11T16:37:06.270Z"
   },
   {
    "duration": 184,
    "start_time": "2025-01-11T16:37:06.276Z"
   },
   {
    "duration": 8,
    "start_time": "2025-01-11T16:37:06.462Z"
   },
   {
    "duration": 5,
    "start_time": "2025-01-11T16:37:06.472Z"
   },
   {
    "duration": 9,
    "start_time": "2025-01-11T16:37:06.478Z"
   },
   {
    "duration": 55,
    "start_time": "2025-01-11T16:37:06.488Z"
   },
   {
    "duration": 21,
    "start_time": "2025-01-11T16:37:06.545Z"
   },
   {
    "duration": 8,
    "start_time": "2025-01-11T16:37:06.568Z"
   },
   {
    "duration": 170,
    "start_time": "2025-01-11T16:37:06.578Z"
   },
   {
    "duration": 247,
    "start_time": "2025-01-11T16:37:06.754Z"
   },
   {
    "duration": 8,
    "start_time": "2025-01-11T16:37:07.002Z"
   },
   {
    "duration": 167,
    "start_time": "2025-01-11T16:37:07.011Z"
   },
   {
    "duration": 174,
    "start_time": "2025-01-11T16:37:07.180Z"
   },
   {
    "duration": 28,
    "start_time": "2025-01-11T16:37:07.355Z"
   },
   {
    "duration": 12,
    "start_time": "2025-01-11T16:37:07.385Z"
   },
   {
    "duration": 135,
    "start_time": "2025-01-11T16:37:07.399Z"
   },
   {
    "duration": 19,
    "start_time": "2025-01-11T16:37:07.535Z"
   },
   {
    "duration": 407,
    "start_time": "2025-01-11T16:37:07.555Z"
   },
   {
    "duration": 5,
    "start_time": "2025-01-11T16:37:07.963Z"
   },
   {
    "duration": 9,
    "start_time": "2025-01-11T16:37:07.969Z"
   },
   {
    "duration": 4,
    "start_time": "2025-01-11T16:37:07.979Z"
   },
   {
    "duration": 4,
    "start_time": "2025-01-11T16:38:46.419Z"
   },
   {
    "duration": 371,
    "start_time": "2025-01-11T17:17:02.992Z"
   },
   {
    "duration": 68,
    "start_time": "2025-01-11T17:17:03.365Z"
   },
   {
    "duration": 14,
    "start_time": "2025-01-11T17:17:03.434Z"
   },
   {
    "duration": 23,
    "start_time": "2025-01-11T17:17:03.449Z"
   },
   {
    "duration": 13,
    "start_time": "2025-01-11T17:17:03.474Z"
   },
   {
    "duration": 11,
    "start_time": "2025-01-11T17:17:03.488Z"
   },
   {
    "duration": 18,
    "start_time": "2025-01-11T17:17:03.500Z"
   },
   {
    "duration": 10,
    "start_time": "2025-01-11T17:17:03.519Z"
   },
   {
    "duration": 33,
    "start_time": "2025-01-11T17:17:03.531Z"
   },
   {
    "duration": 11,
    "start_time": "2025-01-11T17:17:03.565Z"
   },
   {
    "duration": 7,
    "start_time": "2025-01-11T17:17:03.577Z"
   },
   {
    "duration": 5,
    "start_time": "2025-01-11T17:17:03.585Z"
   },
   {
    "duration": 10,
    "start_time": "2025-01-11T17:17:03.591Z"
   },
   {
    "duration": 5,
    "start_time": "2025-01-11T17:17:03.604Z"
   },
   {
    "duration": 45,
    "start_time": "2025-01-11T17:17:03.610Z"
   },
   {
    "duration": 6,
    "start_time": "2025-01-11T17:17:03.656Z"
   },
   {
    "duration": 13,
    "start_time": "2025-01-11T17:17:03.663Z"
   },
   {
    "duration": 259,
    "start_time": "2025-01-11T17:17:03.677Z"
   },
   {
    "duration": 5,
    "start_time": "2025-01-11T17:17:03.938Z"
   },
   {
    "duration": 145,
    "start_time": "2025-01-11T17:17:03.944Z"
   },
   {
    "duration": 5,
    "start_time": "2025-01-11T17:17:04.091Z"
   },
   {
    "duration": 113,
    "start_time": "2025-01-11T17:17:04.097Z"
   },
   {
    "duration": 6,
    "start_time": "2025-01-11T17:17:04.212Z"
   },
   {
    "duration": 27,
    "start_time": "2025-01-11T17:17:04.219Z"
   },
   {
    "duration": 181,
    "start_time": "2025-01-11T17:17:04.247Z"
   },
   {
    "duration": 10,
    "start_time": "2025-01-11T17:17:04.430Z"
   },
   {
    "duration": 18,
    "start_time": "2025-01-11T17:17:04.453Z"
   },
   {
    "duration": 140,
    "start_time": "2025-01-11T17:17:04.472Z"
   },
   {
    "duration": 9,
    "start_time": "2025-01-11T17:17:04.613Z"
   },
   {
    "duration": 110,
    "start_time": "2025-01-11T17:17:04.623Z"
   },
   {
    "duration": 10,
    "start_time": "2025-01-11T17:17:04.735Z"
   },
   {
    "duration": 5,
    "start_time": "2025-01-11T17:17:04.755Z"
   },
   {
    "duration": 15,
    "start_time": "2025-01-11T17:17:04.762Z"
   },
   {
    "duration": 6,
    "start_time": "2025-01-11T17:17:04.779Z"
   },
   {
    "duration": 12,
    "start_time": "2025-01-11T17:17:04.786Z"
   },
   {
    "duration": 8,
    "start_time": "2025-01-11T17:17:04.800Z"
   },
   {
    "duration": 46,
    "start_time": "2025-01-11T17:17:04.809Z"
   },
   {
    "duration": 7,
    "start_time": "2025-01-11T17:17:04.856Z"
   },
   {
    "duration": 10,
    "start_time": "2025-01-11T17:17:04.864Z"
   },
   {
    "duration": 17,
    "start_time": "2025-01-11T17:17:04.876Z"
   },
   {
    "duration": 197,
    "start_time": "2025-01-11T17:17:04.897Z"
   },
   {
    "duration": 188,
    "start_time": "2025-01-11T17:17:05.095Z"
   },
   {
    "duration": 187,
    "start_time": "2025-01-11T17:17:05.285Z"
   },
   {
    "duration": 9,
    "start_time": "2025-01-11T17:17:05.473Z"
   },
   {
    "duration": 10,
    "start_time": "2025-01-11T17:17:05.484Z"
   },
   {
    "duration": 120,
    "start_time": "2025-01-11T17:17:05.495Z"
   },
   {
    "duration": 14,
    "start_time": "2025-01-11T17:17:05.616Z"
   },
   {
    "duration": 18,
    "start_time": "2025-01-11T17:17:05.632Z"
   },
   {
    "duration": 16,
    "start_time": "2025-01-11T17:17:05.653Z"
   },
   {
    "duration": 8,
    "start_time": "2025-01-11T17:17:05.671Z"
   },
   {
    "duration": 25,
    "start_time": "2025-01-11T17:17:05.680Z"
   },
   {
    "duration": 190,
    "start_time": "2025-01-11T17:17:05.707Z"
   },
   {
    "duration": 8,
    "start_time": "2025-01-11T17:17:05.899Z"
   },
   {
    "duration": 48,
    "start_time": "2025-01-11T17:17:05.909Z"
   },
   {
    "duration": 9,
    "start_time": "2025-01-11T17:17:05.959Z"
   },
   {
    "duration": 39,
    "start_time": "2025-01-11T17:17:05.969Z"
   },
   {
    "duration": 22,
    "start_time": "2025-01-11T17:17:06.010Z"
   },
   {
    "duration": 7,
    "start_time": "2025-01-11T17:17:06.034Z"
   },
   {
    "duration": 163,
    "start_time": "2025-01-11T17:17:06.043Z"
   },
   {
    "duration": 240,
    "start_time": "2025-01-11T17:17:06.208Z"
   },
   {
    "duration": 7,
    "start_time": "2025-01-11T17:17:06.453Z"
   },
   {
    "duration": 167,
    "start_time": "2025-01-11T17:17:06.461Z"
   },
   {
    "duration": 171,
    "start_time": "2025-01-11T17:17:06.630Z"
   },
   {
    "duration": 33,
    "start_time": "2025-01-11T17:17:06.802Z"
   },
   {
    "duration": 27,
    "start_time": "2025-01-11T17:17:06.837Z"
   },
   {
    "duration": 139,
    "start_time": "2025-01-11T17:17:06.867Z"
   },
   {
    "duration": 14,
    "start_time": "2025-01-11T17:17:07.008Z"
   },
   {
    "duration": 428,
    "start_time": "2025-01-11T17:17:07.023Z"
   },
   {
    "duration": 5,
    "start_time": "2025-01-11T17:17:07.454Z"
   },
   {
    "duration": 10,
    "start_time": "2025-01-11T17:17:07.461Z"
   },
   {
    "duration": 4,
    "start_time": "2025-01-11T17:17:07.472Z"
   },
   {
    "duration": 102,
    "start_time": "2025-01-11T17:40:23.034Z"
   },
   {
    "duration": 1502,
    "start_time": "2025-01-11T17:42:13.690Z"
   },
   {
    "duration": 1228,
    "start_time": "2025-01-11T17:45:00.297Z"
   },
   {
    "duration": 1136,
    "start_time": "2025-01-11T17:45:50.367Z"
   },
   {
    "duration": 128,
    "start_time": "2025-01-11T17:46:10.487Z"
   },
   {
    "duration": 123,
    "start_time": "2025-01-11T17:46:24.479Z"
   },
   {
    "duration": 1135,
    "start_time": "2025-01-11T17:46:32.596Z"
   },
   {
    "duration": 1254,
    "start_time": "2025-01-11T17:47:03.100Z"
   },
   {
    "duration": 1126,
    "start_time": "2025-01-11T17:47:11.684Z"
   },
   {
    "duration": 1151,
    "start_time": "2025-01-11T17:47:21.757Z"
   },
   {
    "duration": 1331,
    "start_time": "2025-01-11T17:47:30.102Z"
   },
   {
    "duration": 1172,
    "start_time": "2025-01-11T17:47:55.675Z"
   },
   {
    "duration": 168,
    "start_time": "2025-01-11T17:48:20.102Z"
   },
   {
    "duration": 318,
    "start_time": "2025-01-11T17:50:25.615Z"
   },
   {
    "duration": 362,
    "start_time": "2025-01-11T17:56:36.902Z"
   },
   {
    "duration": 1316,
    "start_time": "2025-01-11T17:58:54.884Z"
   },
   {
    "duration": 86,
    "start_time": "2025-01-11T17:59:06.633Z"
   },
   {
    "duration": 13091,
    "start_time": "2025-01-11T17:59:27.613Z"
   },
   {
    "duration": 29,
    "start_time": "2025-01-11T18:00:19.477Z"
   },
   {
    "duration": 333,
    "start_time": "2025-01-11T18:02:02.789Z"
   },
   {
    "duration": 1143,
    "start_time": "2025-01-11T18:09:57.502Z"
   },
   {
    "duration": 1404,
    "start_time": "2025-01-11T18:10:21.744Z"
   },
   {
    "duration": 13228,
    "start_time": "2025-01-11T18:11:09.911Z"
   },
   {
    "duration": 273,
    "start_time": "2025-01-11T18:12:33.636Z"
   },
   {
    "duration": 246,
    "start_time": "2025-01-11T18:12:53.482Z"
   },
   {
    "duration": 271,
    "start_time": "2025-01-11T18:13:01.151Z"
   },
   {
    "duration": 285,
    "start_time": "2025-01-11T18:13:06.824Z"
   },
   {
    "duration": 10229,
    "start_time": "2025-01-11T18:15:33.265Z"
   },
   {
    "duration": 139,
    "start_time": "2025-01-11T18:16:45.696Z"
   },
   {
    "duration": 270,
    "start_time": "2025-01-11T18:17:25.719Z"
   },
   {
    "duration": 136,
    "start_time": "2025-01-11T18:18:18.950Z"
   },
   {
    "duration": 13418,
    "start_time": "2025-01-11T18:18:31.836Z"
   },
   {
    "duration": 236,
    "start_time": "2025-01-11T18:20:11.423Z"
   },
   {
    "duration": 230,
    "start_time": "2025-01-11T18:20:35.941Z"
   },
   {
    "duration": 126,
    "start_time": "2025-01-11T18:21:13.467Z"
   },
   {
    "duration": 152,
    "start_time": "2025-01-11T18:21:24.377Z"
   },
   {
    "duration": 240,
    "start_time": "2025-01-11T18:21:29.469Z"
   },
   {
    "duration": 112,
    "start_time": "2025-01-11T18:21:37.003Z"
   },
   {
    "duration": 115,
    "start_time": "2025-01-11T18:22:41.116Z"
   },
   {
    "duration": 5,
    "start_time": "2025-01-11T18:26:36.541Z"
   },
   {
    "duration": 186,
    "start_time": "2025-01-11T18:28:53.512Z"
   },
   {
    "duration": 181,
    "start_time": "2025-01-11T18:29:23.356Z"
   },
   {
    "duration": 11,
    "start_time": "2025-01-11T18:33:08.849Z"
   },
   {
    "duration": 181,
    "start_time": "2025-01-11T18:33:22.608Z"
   },
   {
    "duration": 1832,
    "start_time": "2025-01-11T18:42:12.857Z"
   },
   {
    "duration": 19,
    "start_time": "2025-01-11T18:42:21.510Z"
   },
   {
    "duration": 32207,
    "start_time": "2025-01-11T18:43:20.564Z"
   },
   {
    "duration": 142,
    "start_time": "2025-01-11T18:47:59.105Z"
   },
   {
    "duration": 140,
    "start_time": "2025-01-11T18:48:44.453Z"
   },
   {
    "duration": 145,
    "start_time": "2025-01-11T18:49:21.922Z"
   },
   {
    "duration": 16076,
    "start_time": "2025-01-11T18:50:28.026Z"
   },
   {
    "duration": 32560,
    "start_time": "2025-01-11T18:51:40.960Z"
   },
   {
    "duration": 126,
    "start_time": "2025-01-11T18:53:11.909Z"
   },
   {
    "duration": 116,
    "start_time": "2025-01-11T18:53:16.075Z"
   },
   {
    "duration": 132,
    "start_time": "2025-01-11T18:53:19.461Z"
   },
   {
    "duration": 127,
    "start_time": "2025-01-11T18:53:22.841Z"
   },
   {
    "duration": 129,
    "start_time": "2025-01-11T18:53:54.962Z"
   },
   {
    "duration": 120,
    "start_time": "2025-01-11T18:54:01.298Z"
   },
   {
    "duration": 135,
    "start_time": "2025-01-11T18:54:15.187Z"
   },
   {
    "duration": 172,
    "start_time": "2025-01-11T18:54:23.430Z"
   },
   {
    "duration": 135,
    "start_time": "2025-01-11T18:54:33.567Z"
   },
   {
    "duration": 133,
    "start_time": "2025-01-11T18:56:10.440Z"
   },
   {
    "duration": 135,
    "start_time": "2025-01-11T18:57:08.773Z"
   },
   {
    "duration": 147,
    "start_time": "2025-01-11T18:58:21.552Z"
   },
   {
    "duration": 179,
    "start_time": "2025-01-11T18:58:50.836Z"
   },
   {
    "duration": 5,
    "start_time": "2025-01-11T19:13:53.479Z"
   },
   {
    "duration": 451,
    "start_time": "2025-01-11T21:12:52.215Z"
   },
   {
    "duration": 215,
    "start_time": "2025-01-11T21:12:52.668Z"
   },
   {
    "duration": 14,
    "start_time": "2025-01-11T21:12:52.885Z"
   },
   {
    "duration": 12,
    "start_time": "2025-01-11T21:12:52.900Z"
   },
   {
    "duration": 29,
    "start_time": "2025-01-11T21:12:52.914Z"
   },
   {
    "duration": 12,
    "start_time": "2025-01-11T21:12:52.946Z"
   },
   {
    "duration": 8,
    "start_time": "2025-01-11T21:12:52.959Z"
   },
   {
    "duration": 11,
    "start_time": "2025-01-11T21:12:52.969Z"
   },
   {
    "duration": 19,
    "start_time": "2025-01-11T21:12:52.982Z"
   },
   {
    "duration": 41,
    "start_time": "2025-01-11T21:12:53.003Z"
   },
   {
    "duration": 6,
    "start_time": "2025-01-11T21:12:53.046Z"
   },
   {
    "duration": 12,
    "start_time": "2025-01-11T21:12:53.054Z"
   },
   {
    "duration": 13,
    "start_time": "2025-01-11T21:12:53.067Z"
   },
   {
    "duration": 5,
    "start_time": "2025-01-11T21:12:53.083Z"
   },
   {
    "duration": 11,
    "start_time": "2025-01-11T21:12:53.090Z"
   },
   {
    "duration": 40,
    "start_time": "2025-01-11T21:12:53.103Z"
   },
   {
    "duration": 5,
    "start_time": "2025-01-11T21:12:53.145Z"
   },
   {
    "duration": 268,
    "start_time": "2025-01-11T21:12:53.151Z"
   },
   {
    "duration": 6,
    "start_time": "2025-01-11T21:12:53.421Z"
   },
   {
    "duration": 159,
    "start_time": "2025-01-11T21:12:53.432Z"
   },
   {
    "duration": 6,
    "start_time": "2025-01-11T21:12:53.593Z"
   },
   {
    "duration": 140,
    "start_time": "2025-01-11T21:12:53.600Z"
   },
   {
    "duration": 7,
    "start_time": "2025-01-11T21:12:53.743Z"
   },
   {
    "duration": 17,
    "start_time": "2025-01-11T21:12:53.752Z"
   },
   {
    "duration": 191,
    "start_time": "2025-01-11T21:12:53.771Z"
   },
   {
    "duration": 7,
    "start_time": "2025-01-11T21:12:53.964Z"
   },
   {
    "duration": 15,
    "start_time": "2025-01-11T21:12:53.973Z"
   },
   {
    "duration": 181,
    "start_time": "2025-01-11T21:12:53.990Z"
   },
   {
    "duration": 9,
    "start_time": "2025-01-11T21:12:54.173Z"
   },
   {
    "duration": 132,
    "start_time": "2025-01-11T21:12:54.184Z"
   },
   {
    "duration": 10,
    "start_time": "2025-01-11T21:12:54.318Z"
   },
   {
    "duration": 17,
    "start_time": "2025-01-11T21:12:54.330Z"
   },
   {
    "duration": 11,
    "start_time": "2025-01-11T21:12:54.349Z"
   },
   {
    "duration": 5,
    "start_time": "2025-01-11T21:12:54.362Z"
   },
   {
    "duration": 12,
    "start_time": "2025-01-11T21:12:54.368Z"
   },
   {
    "duration": 7,
    "start_time": "2025-01-11T21:12:54.382Z"
   },
   {
    "duration": 16,
    "start_time": "2025-01-11T21:12:54.391Z"
   },
   {
    "duration": 36,
    "start_time": "2025-01-11T21:12:54.409Z"
   },
   {
    "duration": 7,
    "start_time": "2025-01-11T21:12:54.447Z"
   },
   {
    "duration": 8,
    "start_time": "2025-01-11T21:12:54.455Z"
   },
   {
    "duration": 220,
    "start_time": "2025-01-11T21:12:54.467Z"
   },
   {
    "duration": 224,
    "start_time": "2025-01-11T21:12:54.689Z"
   },
   {
    "duration": 210,
    "start_time": "2025-01-11T21:12:54.914Z"
   },
   {
    "duration": 9,
    "start_time": "2025-01-11T21:12:55.129Z"
   },
   {
    "duration": 20,
    "start_time": "2025-01-11T21:12:55.139Z"
   },
   {
    "duration": 114,
    "start_time": "2025-01-11T21:12:55.161Z"
   },
   {
    "duration": 17,
    "start_time": "2025-01-11T21:12:55.276Z"
   },
   {
    "duration": 4,
    "start_time": "2025-01-11T21:12:55.295Z"
   },
   {
    "duration": 35,
    "start_time": "2025-01-11T21:12:55.301Z"
   },
   {
    "duration": 9,
    "start_time": "2025-01-11T21:12:55.343Z"
   },
   {
    "duration": 66,
    "start_time": "2025-01-11T21:12:55.354Z"
   },
   {
    "duration": 182,
    "start_time": "2025-01-11T21:12:55.422Z"
   },
   {
    "duration": 8,
    "start_time": "2025-01-11T21:12:55.606Z"
   },
   {
    "duration": 27,
    "start_time": "2025-01-11T21:12:55.616Z"
   },
   {
    "duration": 4,
    "start_time": "2025-01-11T21:12:55.645Z"
   },
   {
    "duration": 53,
    "start_time": "2025-01-11T21:12:55.650Z"
   },
   {
    "duration": 22,
    "start_time": "2025-01-11T21:12:55.704Z"
   },
   {
    "duration": 18,
    "start_time": "2025-01-11T21:12:55.728Z"
   },
   {
    "duration": 174,
    "start_time": "2025-01-11T21:12:55.747Z"
   },
   {
    "duration": 300,
    "start_time": "2025-01-11T21:12:55.923Z"
   },
   {
    "duration": 21,
    "start_time": "2025-01-11T21:12:56.225Z"
   },
   {
    "duration": 169,
    "start_time": "2025-01-11T21:12:56.248Z"
   },
   {
    "duration": 182,
    "start_time": "2025-01-11T21:12:56.418Z"
   },
   {
    "duration": 40,
    "start_time": "2025-01-11T21:12:56.602Z"
   },
   {
    "duration": 14,
    "start_time": "2025-01-11T21:12:56.644Z"
   },
   {
    "duration": 134,
    "start_time": "2025-01-11T21:12:56.659Z"
   },
   {
    "duration": 13,
    "start_time": "2025-01-11T21:12:56.794Z"
   },
   {
    "duration": 451,
    "start_time": "2025-01-11T21:12:56.809Z"
   },
   {
    "duration": 5,
    "start_time": "2025-01-11T21:12:57.262Z"
   },
   {
    "duration": 11,
    "start_time": "2025-01-11T21:12:57.268Z"
   },
   {
    "duration": 5,
    "start_time": "2025-01-11T21:12:57.280Z"
   },
   {
    "duration": 155,
    "start_time": "2025-01-11T21:12:57.286Z"
   },
   {
    "duration": 154,
    "start_time": "2025-01-11T21:12:57.443Z"
   },
   {
    "duration": 11,
    "start_time": "2025-01-11T22:06:33.221Z"
   },
   {
    "duration": 296,
    "start_time": "2025-01-11T22:08:56.115Z"
   },
   {
    "duration": 84,
    "start_time": "2025-01-11T22:12:31.270Z"
   },
   {
    "duration": 4,
    "start_time": "2025-01-11T22:44:15.675Z"
   },
   {
    "duration": 10,
    "start_time": "2025-01-11T22:50:27.055Z"
   },
   {
    "duration": 51,
    "start_time": "2025-01-12T12:23:14.293Z"
   },
   {
    "duration": 419,
    "start_time": "2025-01-12T12:23:19.496Z"
   },
   {
    "duration": 215,
    "start_time": "2025-01-12T12:23:19.917Z"
   },
   {
    "duration": 22,
    "start_time": "2025-01-12T12:23:20.134Z"
   },
   {
    "duration": 11,
    "start_time": "2025-01-12T12:23:20.158Z"
   },
   {
    "duration": 14,
    "start_time": "2025-01-12T12:23:20.171Z"
   },
   {
    "duration": 17,
    "start_time": "2025-01-12T12:23:20.188Z"
   },
   {
    "duration": 35,
    "start_time": "2025-01-12T12:23:20.207Z"
   },
   {
    "duration": 17,
    "start_time": "2025-01-12T12:23:20.245Z"
   },
   {
    "duration": 24,
    "start_time": "2025-01-12T12:23:20.264Z"
   },
   {
    "duration": 5,
    "start_time": "2025-01-12T12:23:20.290Z"
   },
   {
    "duration": 39,
    "start_time": "2025-01-12T12:23:20.298Z"
   },
   {
    "duration": 12,
    "start_time": "2025-01-12T12:23:20.339Z"
   },
   {
    "duration": 8,
    "start_time": "2025-01-12T12:23:20.353Z"
   },
   {
    "duration": 18,
    "start_time": "2025-01-12T12:23:20.366Z"
   },
   {
    "duration": 7,
    "start_time": "2025-01-12T12:23:20.385Z"
   },
   {
    "duration": 8,
    "start_time": "2025-01-12T12:23:20.394Z"
   },
   {
    "duration": 7,
    "start_time": "2025-01-12T12:23:20.437Z"
   },
   {
    "duration": 8,
    "start_time": "2025-01-12T12:23:20.446Z"
   },
   {
    "duration": 11,
    "start_time": "2025-01-12T12:23:20.457Z"
   },
   {
    "duration": 505,
    "start_time": "2025-01-12T12:23:20.469Z"
   },
   {
    "duration": 7,
    "start_time": "2025-01-12T12:23:20.976Z"
   },
   {
    "duration": 165,
    "start_time": "2025-01-12T12:23:20.986Z"
   },
   {
    "duration": 250,
    "start_time": "2025-01-12T12:23:21.154Z"
   },
   {
    "duration": 6,
    "start_time": "2025-01-12T12:23:21.405Z"
   },
   {
    "duration": 148,
    "start_time": "2025-01-12T12:23:21.413Z"
   },
   {
    "duration": 6,
    "start_time": "2025-01-12T12:23:21.563Z"
   },
   {
    "duration": 174,
    "start_time": "2025-01-12T12:23:21.571Z"
   },
   {
    "duration": 10,
    "start_time": "2025-01-12T12:23:21.747Z"
   },
   {
    "duration": 209,
    "start_time": "2025-01-12T12:23:21.760Z"
   },
   {
    "duration": 5,
    "start_time": "2025-01-12T12:23:21.971Z"
   },
   {
    "duration": 24,
    "start_time": "2025-01-12T12:23:21.978Z"
   },
   {
    "duration": 150,
    "start_time": "2025-01-12T12:23:22.004Z"
   },
   {
    "duration": 11,
    "start_time": "2025-01-12T12:23:22.156Z"
   },
   {
    "duration": 135,
    "start_time": "2025-01-12T12:23:22.169Z"
   },
   {
    "duration": 11,
    "start_time": "2025-01-12T12:23:22.306Z"
   },
   {
    "duration": 26,
    "start_time": "2025-01-12T12:23:22.318Z"
   },
   {
    "duration": 13,
    "start_time": "2025-01-12T12:23:22.346Z"
   },
   {
    "duration": 8,
    "start_time": "2025-01-12T12:23:22.361Z"
   },
   {
    "duration": 16,
    "start_time": "2025-01-12T12:23:22.371Z"
   },
   {
    "duration": 9,
    "start_time": "2025-01-12T12:23:22.389Z"
   },
   {
    "duration": 48,
    "start_time": "2025-01-12T12:23:22.403Z"
   },
   {
    "duration": 13,
    "start_time": "2025-01-12T12:23:22.453Z"
   },
   {
    "duration": 17,
    "start_time": "2025-01-12T12:23:22.468Z"
   },
   {
    "duration": 33,
    "start_time": "2025-01-12T12:23:22.487Z"
   },
   {
    "duration": 237,
    "start_time": "2025-01-12T12:23:22.522Z"
   },
   {
    "duration": 244,
    "start_time": "2025-01-12T12:23:22.760Z"
   },
   {
    "duration": 224,
    "start_time": "2025-01-12T12:23:23.006Z"
   },
   {
    "duration": 15,
    "start_time": "2025-01-12T12:23:23.231Z"
   },
   {
    "duration": 10,
    "start_time": "2025-01-12T12:23:23.248Z"
   },
   {
    "duration": 196,
    "start_time": "2025-01-12T12:23:23.260Z"
   },
   {
    "duration": 19,
    "start_time": "2025-01-12T12:23:23.458Z"
   },
   {
    "duration": 5,
    "start_time": "2025-01-12T12:23:23.479Z"
   },
   {
    "duration": 15,
    "start_time": "2025-01-12T12:23:23.486Z"
   },
   {
    "duration": 41,
    "start_time": "2025-01-12T12:23:23.503Z"
   },
   {
    "duration": 10,
    "start_time": "2025-01-12T12:23:23.546Z"
   },
   {
    "duration": 219,
    "start_time": "2025-01-12T12:23:23.558Z"
   },
   {
    "duration": 10,
    "start_time": "2025-01-12T12:23:23.780Z"
   },
   {
    "duration": 7,
    "start_time": "2025-01-12T12:23:23.791Z"
   },
   {
    "duration": 4,
    "start_time": "2025-01-12T12:23:23.800Z"
   },
   {
    "duration": 62,
    "start_time": "2025-01-12T12:23:23.806Z"
   },
   {
    "duration": 33,
    "start_time": "2025-01-12T12:23:23.870Z"
   },
   {
    "duration": 8,
    "start_time": "2025-01-12T12:23:23.905Z"
   },
   {
    "duration": 207,
    "start_time": "2025-01-12T12:23:23.915Z"
   },
   {
    "duration": 203,
    "start_time": "2025-01-12T12:23:24.124Z"
   },
   {
    "duration": 16,
    "start_time": "2025-01-12T12:23:24.329Z"
   },
   {
    "duration": 196,
    "start_time": "2025-01-12T12:23:24.347Z"
   },
   {
    "duration": 200,
    "start_time": "2025-01-12T12:23:24.545Z"
   },
   {
    "duration": 34,
    "start_time": "2025-01-12T12:23:24.747Z"
   },
   {
    "duration": 15,
    "start_time": "2025-01-12T12:23:24.783Z"
   },
   {
    "duration": 156,
    "start_time": "2025-01-12T12:23:24.800Z"
   },
   {
    "duration": 16,
    "start_time": "2025-01-12T12:23:24.958Z"
   },
   {
    "duration": 8,
    "start_time": "2025-01-12T12:23:24.975Z"
   },
   {
    "duration": 562,
    "start_time": "2025-01-12T12:23:24.984Z"
   },
   {
    "duration": 5,
    "start_time": "2025-01-12T12:23:25.548Z"
   },
   {
    "duration": 18,
    "start_time": "2025-01-12T12:23:25.555Z"
   },
   {
    "duration": 4,
    "start_time": "2025-01-12T12:23:25.575Z"
   },
   {
    "duration": 16,
    "start_time": "2025-01-12T12:23:25.581Z"
   },
   {
    "duration": 167,
    "start_time": "2025-01-12T12:23:25.599Z"
   },
   {
    "duration": 159,
    "start_time": "2025-01-12T12:23:25.768Z"
   },
   {
    "duration": 5,
    "start_time": "2025-01-12T12:23:45.437Z"
   },
   {
    "duration": 4,
    "start_time": "2025-01-12T12:30:13.492Z"
   },
   {
    "duration": 6,
    "start_time": "2025-01-12T12:30:25.293Z"
   },
   {
    "duration": 146,
    "start_time": "2025-01-12T12:36:34.132Z"
   },
   {
    "duration": 145,
    "start_time": "2025-01-12T12:37:10.555Z"
   },
   {
    "duration": 183,
    "start_time": "2025-01-12T12:42:14.567Z"
   },
   {
    "duration": 169,
    "start_time": "2025-01-12T12:43:27.663Z"
   },
   {
    "duration": 135,
    "start_time": "2025-01-12T12:44:23.945Z"
   },
   {
    "duration": 138,
    "start_time": "2025-01-12T12:44:30.922Z"
   },
   {
    "duration": 2,
    "start_time": "2025-01-12T12:45:30.563Z"
   },
   {
    "duration": 174,
    "start_time": "2025-01-12T12:47:49.224Z"
   },
   {
    "duration": 208,
    "start_time": "2025-01-12T12:48:12.659Z"
   },
   {
    "duration": 203,
    "start_time": "2025-01-12T12:48:25.944Z"
   },
   {
    "duration": 186,
    "start_time": "2025-01-12T12:48:31.940Z"
   },
   {
    "duration": 296,
    "start_time": "2025-01-12T12:48:50.174Z"
   },
   {
    "duration": 690,
    "start_time": "2025-01-12T12:50:47.747Z"
   },
   {
    "duration": 74,
    "start_time": "2025-01-12T12:50:48.439Z"
   },
   {
    "duration": 17,
    "start_time": "2025-01-12T12:50:48.515Z"
   },
   {
    "duration": 12,
    "start_time": "2025-01-12T12:50:48.534Z"
   },
   {
    "duration": 8,
    "start_time": "2025-01-12T12:50:48.549Z"
   },
   {
    "duration": 10,
    "start_time": "2025-01-12T12:50:48.559Z"
   },
   {
    "duration": 10,
    "start_time": "2025-01-12T12:50:48.571Z"
   },
   {
    "duration": 16,
    "start_time": "2025-01-12T12:50:48.582Z"
   },
   {
    "duration": 14,
    "start_time": "2025-01-12T12:50:48.600Z"
   },
   {
    "duration": 26,
    "start_time": "2025-01-12T12:50:48.616Z"
   },
   {
    "duration": 5,
    "start_time": "2025-01-12T12:50:48.643Z"
   },
   {
    "duration": 21,
    "start_time": "2025-01-12T12:50:48.649Z"
   },
   {
    "duration": 5,
    "start_time": "2025-01-12T12:50:48.671Z"
   },
   {
    "duration": 5,
    "start_time": "2025-01-12T12:50:48.679Z"
   },
   {
    "duration": 16,
    "start_time": "2025-01-12T12:50:48.685Z"
   },
   {
    "duration": 6,
    "start_time": "2025-01-12T12:50:48.702Z"
   },
   {
    "duration": 35,
    "start_time": "2025-01-12T12:50:48.709Z"
   },
   {
    "duration": 6,
    "start_time": "2025-01-12T12:50:48.746Z"
   },
   {
    "duration": 5,
    "start_time": "2025-01-12T12:50:48.753Z"
   },
   {
    "duration": 7,
    "start_time": "2025-01-12T12:50:48.760Z"
   },
   {
    "duration": 10,
    "start_time": "2025-01-12T12:50:48.769Z"
   },
   {
    "duration": 5,
    "start_time": "2025-01-12T12:50:48.780Z"
   },
   {
    "duration": 7,
    "start_time": "2025-01-12T12:50:48.787Z"
   },
   {
    "duration": 3,
    "start_time": "2025-01-12T12:50:48.795Z"
   },
   {
    "duration": 226,
    "start_time": "2025-01-12T12:50:48.838Z"
   },
   {
    "duration": 198,
    "start_time": "2025-01-12T12:50:49.066Z"
   },
   {
    "duration": 6,
    "start_time": "2025-01-12T12:50:49.265Z"
   },
   {
    "duration": 6,
    "start_time": "2025-01-12T12:50:49.273Z"
   },
   {
    "duration": 17,
    "start_time": "2025-01-12T12:50:49.281Z"
   },
   {
    "duration": 99,
    "start_time": "2025-01-12T12:50:49.300Z"
   },
   {
    "duration": 8,
    "start_time": "2025-01-12T12:50:49.401Z"
   },
   {
    "duration": 197,
    "start_time": "2025-01-12T12:50:49.411Z"
   },
   {
    "duration": 5,
    "start_time": "2025-01-12T12:50:49.610Z"
   },
   {
    "duration": 25,
    "start_time": "2025-01-12T12:50:49.617Z"
   },
   {
    "duration": 152,
    "start_time": "2025-01-12T12:50:49.643Z"
   },
   {
    "duration": 8,
    "start_time": "2025-01-12T12:50:49.797Z"
   },
   {
    "duration": 114,
    "start_time": "2025-01-12T12:50:49.807Z"
   },
   {
    "duration": 21,
    "start_time": "2025-01-12T12:50:49.923Z"
   },
   {
    "duration": 7,
    "start_time": "2025-01-12T12:50:49.945Z"
   },
   {
    "duration": 6,
    "start_time": "2025-01-12T12:50:49.954Z"
   },
   {
    "duration": 5,
    "start_time": "2025-01-12T12:50:49.964Z"
   },
   {
    "duration": 14,
    "start_time": "2025-01-12T12:50:49.971Z"
   },
   {
    "duration": 7,
    "start_time": "2025-01-12T12:50:49.986Z"
   },
   {
    "duration": 56,
    "start_time": "2025-01-12T12:50:49.994Z"
   },
   {
    "duration": 7,
    "start_time": "2025-01-12T12:50:50.051Z"
   },
   {
    "duration": 15,
    "start_time": "2025-01-12T12:50:50.059Z"
   },
   {
    "duration": 11,
    "start_time": "2025-01-12T12:50:50.076Z"
   },
   {
    "duration": 217,
    "start_time": "2025-01-12T12:50:50.089Z"
   },
   {
    "duration": 211,
    "start_time": "2025-01-12T12:50:50.307Z"
   },
   {
    "duration": 203,
    "start_time": "2025-01-12T12:50:50.520Z"
   },
   {
    "duration": 17,
    "start_time": "2025-01-12T12:50:50.725Z"
   },
   {
    "duration": 8,
    "start_time": "2025-01-12T12:50:50.743Z"
   },
   {
    "duration": 121,
    "start_time": "2025-01-12T12:50:50.753Z"
   },
   {
    "duration": 15,
    "start_time": "2025-01-12T12:50:50.875Z"
   },
   {
    "duration": 4,
    "start_time": "2025-01-12T12:50:50.892Z"
   },
   {
    "duration": 13,
    "start_time": "2025-01-12T12:50:50.898Z"
   },
   {
    "duration": 27,
    "start_time": "2025-01-12T12:50:50.913Z"
   },
   {
    "duration": 33,
    "start_time": "2025-01-12T12:50:50.942Z"
   },
   {
    "duration": 173,
    "start_time": "2025-01-12T12:50:50.977Z"
   },
   {
    "duration": 8,
    "start_time": "2025-01-12T12:50:51.152Z"
   },
   {
    "duration": 5,
    "start_time": "2025-01-12T12:50:51.162Z"
   },
   {
    "duration": 5,
    "start_time": "2025-01-12T12:50:51.168Z"
   },
   {
    "duration": 30,
    "start_time": "2025-01-12T12:50:51.174Z"
   },
   {
    "duration": 50,
    "start_time": "2025-01-12T12:50:51.206Z"
   },
   {
    "duration": 7,
    "start_time": "2025-01-12T12:50:51.257Z"
   },
   {
    "duration": 180,
    "start_time": "2025-01-12T12:50:51.266Z"
   },
   {
    "duration": 259,
    "start_time": "2025-01-12T12:50:51.448Z"
   },
   {
    "duration": 7,
    "start_time": "2025-01-12T12:50:51.709Z"
   },
   {
    "duration": 188,
    "start_time": "2025-01-12T12:50:51.717Z"
   },
   {
    "duration": 182,
    "start_time": "2025-01-12T12:50:51.906Z"
   },
   {
    "duration": 28,
    "start_time": "2025-01-12T12:50:52.089Z"
   },
   {
    "duration": 31,
    "start_time": "2025-01-12T12:50:52.118Z"
   },
   {
    "duration": 127,
    "start_time": "2025-01-12T12:50:52.151Z"
   },
   {
    "duration": 14,
    "start_time": "2025-01-12T12:50:52.280Z"
   },
   {
    "duration": 15,
    "start_time": "2025-01-12T12:50:52.295Z"
   },
   {
    "duration": 440,
    "start_time": "2025-01-12T12:50:52.311Z"
   },
   {
    "duration": 5,
    "start_time": "2025-01-12T12:50:52.753Z"
   },
   {
    "duration": 23,
    "start_time": "2025-01-12T12:50:52.760Z"
   },
   {
    "duration": 11,
    "start_time": "2025-01-12T12:50:52.785Z"
   },
   {
    "duration": 10,
    "start_time": "2025-01-12T12:50:52.797Z"
   },
   {
    "duration": 134,
    "start_time": "2025-01-12T12:50:52.808Z"
   },
   {
    "duration": 153,
    "start_time": "2025-01-12T12:50:52.944Z"
   },
   {
    "duration": 168,
    "start_time": "2025-01-12T12:53:36.949Z"
   },
   {
    "duration": 82,
    "start_time": "2025-01-12T12:53:53.406Z"
   },
   {
    "duration": 96,
    "start_time": "2025-01-12T12:54:48.848Z"
   },
   {
    "duration": 82,
    "start_time": "2025-01-12T12:55:10.173Z"
   },
   {
    "duration": 83,
    "start_time": "2025-01-12T12:55:31.219Z"
   },
   {
    "duration": 168,
    "start_time": "2025-01-12T12:59:04.779Z"
   },
   {
    "duration": 172,
    "start_time": "2025-01-12T12:59:44.719Z"
   },
   {
    "duration": 185,
    "start_time": "2025-01-12T13:01:34.082Z"
   },
   {
    "duration": 81,
    "start_time": "2025-01-12T13:01:41.929Z"
   },
   {
    "duration": 265,
    "start_time": "2025-01-12T13:01:45.843Z"
   },
   {
    "duration": 195,
    "start_time": "2025-01-12T13:02:29.378Z"
   },
   {
    "duration": 182,
    "start_time": "2025-01-12T13:02:57.722Z"
   },
   {
    "duration": 185,
    "start_time": "2025-01-12T13:03:45.593Z"
   },
   {
    "duration": 199,
    "start_time": "2025-01-12T13:04:09.262Z"
   },
   {
    "duration": 167,
    "start_time": "2025-01-12T13:05:23.416Z"
   },
   {
    "duration": 320,
    "start_time": "2025-01-12T13:05:44.647Z"
   },
   {
    "duration": 180,
    "start_time": "2025-01-12T13:06:07.148Z"
   },
   {
    "duration": 190,
    "start_time": "2025-01-12T13:06:45.411Z"
   },
   {
    "duration": 177,
    "start_time": "2025-01-12T13:06:49.618Z"
   },
   {
    "duration": 204,
    "start_time": "2025-01-12T13:07:31.027Z"
   },
   {
    "duration": 193,
    "start_time": "2025-01-12T13:07:40.932Z"
   },
   {
    "duration": 205,
    "start_time": "2025-01-12T13:08:23.739Z"
   },
   {
    "duration": 188,
    "start_time": "2025-01-12T13:08:41.042Z"
   },
   {
    "duration": 192,
    "start_time": "2025-01-12T13:14:15.585Z"
   },
   {
    "duration": 3,
    "start_time": "2025-01-12T13:14:33.550Z"
   },
   {
    "duration": 114,
    "start_time": "2025-01-12T13:15:15.054Z"
   },
   {
    "duration": 107,
    "start_time": "2025-01-12T13:16:38.601Z"
   },
   {
    "duration": 249,
    "start_time": "2025-01-12T13:17:50.803Z"
   },
   {
    "duration": 116,
    "start_time": "2025-01-12T13:20:01.435Z"
   },
   {
    "duration": 108,
    "start_time": "2025-01-12T13:20:35.619Z"
   },
   {
    "duration": 121,
    "start_time": "2025-01-12T13:20:45.339Z"
   },
   {
    "duration": 106,
    "start_time": "2025-01-12T13:21:30.464Z"
   },
   {
    "duration": 132,
    "start_time": "2025-01-12T13:24:07.383Z"
   },
   {
    "duration": 117,
    "start_time": "2025-01-12T14:32:16.778Z"
   },
   {
    "duration": 105,
    "start_time": "2025-01-12T14:33:50.189Z"
   },
   {
    "duration": 758,
    "start_time": "2025-01-12T14:34:01.270Z"
   },
   {
    "duration": 73,
    "start_time": "2025-01-12T14:34:02.030Z"
   },
   {
    "duration": 14,
    "start_time": "2025-01-12T14:34:02.104Z"
   },
   {
    "duration": 46,
    "start_time": "2025-01-12T14:34:02.119Z"
   },
   {
    "duration": 32,
    "start_time": "2025-01-12T14:34:02.167Z"
   },
   {
    "duration": 24,
    "start_time": "2025-01-12T14:34:02.200Z"
   },
   {
    "duration": 57,
    "start_time": "2025-01-12T14:34:02.226Z"
   },
   {
    "duration": 15,
    "start_time": "2025-01-12T14:34:02.285Z"
   },
   {
    "duration": 31,
    "start_time": "2025-01-12T14:34:02.302Z"
   },
   {
    "duration": 8,
    "start_time": "2025-01-12T14:34:02.335Z"
   },
   {
    "duration": 56,
    "start_time": "2025-01-12T14:34:02.345Z"
   },
   {
    "duration": 15,
    "start_time": "2025-01-12T14:34:02.402Z"
   },
   {
    "duration": 7,
    "start_time": "2025-01-12T14:34:02.419Z"
   },
   {
    "duration": 30,
    "start_time": "2025-01-12T14:34:02.429Z"
   },
   {
    "duration": 30,
    "start_time": "2025-01-12T14:34:02.461Z"
   },
   {
    "duration": 49,
    "start_time": "2025-01-12T14:34:02.493Z"
   },
   {
    "duration": 40,
    "start_time": "2025-01-12T14:34:02.544Z"
   },
   {
    "duration": 8,
    "start_time": "2025-01-12T14:34:02.586Z"
   },
   {
    "duration": 17,
    "start_time": "2025-01-12T14:34:02.637Z"
   },
   {
    "duration": 34,
    "start_time": "2025-01-12T14:34:02.656Z"
   },
   {
    "duration": 30,
    "start_time": "2025-01-12T14:34:02.691Z"
   },
   {
    "duration": 20,
    "start_time": "2025-01-12T14:34:02.723Z"
   },
   {
    "duration": 30,
    "start_time": "2025-01-12T14:34:02.744Z"
   },
   {
    "duration": 30,
    "start_time": "2025-01-12T14:34:02.776Z"
   },
   {
    "duration": 463,
    "start_time": "2025-01-12T14:34:02.808Z"
   },
   {
    "duration": 206,
    "start_time": "2025-01-12T14:34:03.273Z"
   },
   {
    "duration": 6,
    "start_time": "2025-01-12T14:34:03.481Z"
   },
   {
    "duration": 4,
    "start_time": "2025-01-12T14:34:03.489Z"
   },
   {
    "duration": 104,
    "start_time": "2025-01-12T14:34:03.495Z"
   },
   {
    "duration": 6,
    "start_time": "2025-01-12T14:34:03.601Z"
   },
   {
    "duration": 96,
    "start_time": "2025-01-12T14:34:03.609Z"
   },
   {
    "duration": 9,
    "start_time": "2025-01-12T14:34:03.707Z"
   },
   {
    "duration": 17,
    "start_time": "2025-01-12T14:34:03.717Z"
   },
   {
    "duration": 246,
    "start_time": "2025-01-12T14:34:03.737Z"
   },
   {
    "duration": 6,
    "start_time": "2025-01-12T14:34:03.984Z"
   },
   {
    "duration": 55,
    "start_time": "2025-01-12T14:34:03.992Z"
   },
   {
    "duration": 26,
    "start_time": "2025-01-12T14:34:04.048Z"
   },
   {
    "duration": 107,
    "start_time": "2025-01-12T14:34:04.076Z"
   },
   {
    "duration": 9,
    "start_time": "2025-01-12T14:34:04.185Z"
   },
   {
    "duration": 11,
    "start_time": "2025-01-12T14:34:04.196Z"
   },
   {
    "duration": 153,
    "start_time": "2025-01-12T14:34:04.213Z"
   },
   {
    "duration": 12,
    "start_time": "2025-01-12T14:34:04.368Z"
   },
   {
    "duration": 16,
    "start_time": "2025-01-12T14:34:04.382Z"
   },
   {
    "duration": 16,
    "start_time": "2025-01-12T14:34:04.400Z"
   },
   {
    "duration": 6,
    "start_time": "2025-01-12T14:34:04.419Z"
   },
   {
    "duration": 58,
    "start_time": "2025-01-12T14:34:04.427Z"
   },
   {
    "duration": 18,
    "start_time": "2025-01-12T14:34:04.487Z"
   },
   {
    "duration": 20,
    "start_time": "2025-01-12T14:34:04.506Z"
   },
   {
    "duration": 24,
    "start_time": "2025-01-12T14:34:04.528Z"
   },
   {
    "duration": 37,
    "start_time": "2025-01-12T14:34:04.553Z"
   },
   {
    "duration": 19,
    "start_time": "2025-01-12T14:34:04.592Z"
   },
   {
    "duration": 212,
    "start_time": "2025-01-12T14:34:04.613Z"
   },
   {
    "duration": 213,
    "start_time": "2025-01-12T14:34:04.827Z"
   },
   {
    "duration": 211,
    "start_time": "2025-01-12T14:34:05.041Z"
   },
   {
    "duration": 9,
    "start_time": "2025-01-12T14:34:05.254Z"
   },
   {
    "duration": 19,
    "start_time": "2025-01-12T14:34:05.265Z"
   },
   {
    "duration": 125,
    "start_time": "2025-01-12T14:34:05.285Z"
   },
   {
    "duration": 25,
    "start_time": "2025-01-12T14:34:05.412Z"
   },
   {
    "duration": 22,
    "start_time": "2025-01-12T14:34:05.440Z"
   },
   {
    "duration": 17,
    "start_time": "2025-01-12T14:34:05.464Z"
   },
   {
    "duration": 19,
    "start_time": "2025-01-12T14:34:05.483Z"
   },
   {
    "duration": 7,
    "start_time": "2025-01-12T14:34:05.504Z"
   },
   {
    "duration": 198,
    "start_time": "2025-01-12T14:34:05.513Z"
   },
   {
    "duration": 9,
    "start_time": "2025-01-12T14:34:05.713Z"
   },
   {
    "duration": 28,
    "start_time": "2025-01-12T14:34:05.724Z"
   },
   {
    "duration": 48,
    "start_time": "2025-01-12T14:34:05.753Z"
   },
   {
    "duration": 65,
    "start_time": "2025-01-12T14:34:05.802Z"
   },
   {
    "duration": 21,
    "start_time": "2025-01-12T14:34:05.869Z"
   },
   {
    "duration": 8,
    "start_time": "2025-01-12T14:34:05.891Z"
   },
   {
    "duration": 279,
    "start_time": "2025-01-12T14:34:05.901Z"
   },
   {
    "duration": 198,
    "start_time": "2025-01-12T14:34:06.181Z"
   },
   {
    "duration": 8,
    "start_time": "2025-01-12T14:34:06.381Z"
   },
   {
    "duration": 196,
    "start_time": "2025-01-12T14:34:06.390Z"
   },
   {
    "duration": 204,
    "start_time": "2025-01-12T14:34:06.588Z"
   },
   {
    "duration": 34,
    "start_time": "2025-01-12T14:34:06.794Z"
   },
   {
    "duration": 17,
    "start_time": "2025-01-12T14:34:06.839Z"
   },
   {
    "duration": 154,
    "start_time": "2025-01-12T14:34:06.858Z"
   },
   {
    "duration": 16,
    "start_time": "2025-01-12T14:34:07.013Z"
   },
   {
    "duration": 21,
    "start_time": "2025-01-12T14:34:07.030Z"
   },
   {
    "duration": 551,
    "start_time": "2025-01-12T14:34:07.054Z"
   },
   {
    "duration": 7,
    "start_time": "2025-01-12T14:34:07.607Z"
   },
   {
    "duration": 28,
    "start_time": "2025-01-12T14:34:07.615Z"
   },
   {
    "duration": 5,
    "start_time": "2025-01-12T14:34:07.645Z"
   },
   {
    "duration": 18,
    "start_time": "2025-01-12T14:34:07.651Z"
   },
   {
    "duration": 137,
    "start_time": "2025-01-12T14:34:07.671Z"
   },
   {
    "duration": 164,
    "start_time": "2025-01-12T14:34:07.809Z"
   },
   {
    "duration": 82,
    "start_time": "2025-01-12T14:41:45.515Z"
   },
   {
    "duration": 669,
    "start_time": "2025-01-12T14:49:15.581Z"
   },
   {
    "duration": 72,
    "start_time": "2025-01-12T14:49:16.256Z"
   },
   {
    "duration": 12,
    "start_time": "2025-01-12T14:49:16.330Z"
   },
   {
    "duration": 14,
    "start_time": "2025-01-12T14:49:16.344Z"
   },
   {
    "duration": 9,
    "start_time": "2025-01-12T14:49:16.360Z"
   },
   {
    "duration": 15,
    "start_time": "2025-01-12T14:49:16.370Z"
   },
   {
    "duration": 7,
    "start_time": "2025-01-12T14:49:16.386Z"
   },
   {
    "duration": 15,
    "start_time": "2025-01-12T14:49:16.394Z"
   },
   {
    "duration": 43,
    "start_time": "2025-01-12T14:49:16.412Z"
   },
   {
    "duration": 5,
    "start_time": "2025-01-12T14:49:16.457Z"
   },
   {
    "duration": 5,
    "start_time": "2025-01-12T14:49:16.464Z"
   },
   {
    "duration": 11,
    "start_time": "2025-01-12T14:49:16.470Z"
   },
   {
    "duration": 5,
    "start_time": "2025-01-12T14:49:16.483Z"
   },
   {
    "duration": 45,
    "start_time": "2025-01-12T14:49:16.492Z"
   },
   {
    "duration": 15,
    "start_time": "2025-01-12T14:49:16.540Z"
   },
   {
    "duration": 6,
    "start_time": "2025-01-12T14:49:16.557Z"
   },
   {
    "duration": 9,
    "start_time": "2025-01-12T14:49:16.565Z"
   },
   {
    "duration": 6,
    "start_time": "2025-01-12T14:49:16.575Z"
   },
   {
    "duration": 5,
    "start_time": "2025-01-12T14:49:16.583Z"
   },
   {
    "duration": 13,
    "start_time": "2025-01-12T14:49:16.589Z"
   },
   {
    "duration": 67,
    "start_time": "2025-01-12T14:49:16.604Z"
   },
   {
    "duration": 2,
    "start_time": "2025-01-12T14:49:16.673Z"
   },
   {
    "duration": 7,
    "start_time": "2025-01-12T14:49:16.676Z"
   },
   {
    "duration": 4,
    "start_time": "2025-01-12T14:49:16.685Z"
   },
   {
    "duration": 260,
    "start_time": "2025-01-12T14:49:16.691Z"
   },
   {
    "duration": 215,
    "start_time": "2025-01-12T14:49:16.954Z"
   },
   {
    "duration": 5,
    "start_time": "2025-01-12T14:49:17.171Z"
   },
   {
    "duration": 4,
    "start_time": "2025-01-12T14:49:17.177Z"
   },
   {
    "duration": 113,
    "start_time": "2025-01-12T14:49:17.182Z"
   },
   {
    "duration": 6,
    "start_time": "2025-01-12T14:49:17.296Z"
   },
   {
    "duration": 103,
    "start_time": "2025-01-12T14:49:17.303Z"
   },
   {
    "duration": 8,
    "start_time": "2025-01-12T14:49:17.408Z"
   },
   {
    "duration": 3,
    "start_time": "2025-01-12T14:49:17.418Z"
   },
   {
    "duration": 258,
    "start_time": "2025-01-12T14:49:17.422Z"
   },
   {
    "duration": 5,
    "start_time": "2025-01-12T14:49:17.682Z"
   },
   {
    "duration": 21,
    "start_time": "2025-01-12T14:49:17.688Z"
   },
   {
    "duration": 2,
    "start_time": "2025-01-12T14:49:17.710Z"
   },
   {
    "duration": 127,
    "start_time": "2025-01-12T14:49:17.714Z"
   },
   {
    "duration": 13,
    "start_time": "2025-01-12T14:49:17.844Z"
   },
   {
    "duration": 9,
    "start_time": "2025-01-12T14:49:17.859Z"
   },
   {
    "duration": 130,
    "start_time": "2025-01-12T14:49:17.873Z"
   },
   {
    "duration": 11,
    "start_time": "2025-01-12T14:49:18.005Z"
   },
   {
    "duration": 5,
    "start_time": "2025-01-12T14:49:18.017Z"
   },
   {
    "duration": 3,
    "start_time": "2025-01-12T14:49:18.040Z"
   },
   {
    "duration": 7,
    "start_time": "2025-01-12T14:49:18.045Z"
   },
   {
    "duration": 3,
    "start_time": "2025-01-12T14:49:18.054Z"
   },
   {
    "duration": 7,
    "start_time": "2025-01-12T14:49:18.059Z"
   },
   {
    "duration": 18,
    "start_time": "2025-01-12T14:49:18.067Z"
   },
   {
    "duration": 7,
    "start_time": "2025-01-12T14:49:18.087Z"
   },
   {
    "duration": 45,
    "start_time": "2025-01-12T14:49:18.096Z"
   },
   {
    "duration": 6,
    "start_time": "2025-01-12T14:49:18.143Z"
   },
   {
    "duration": 271,
    "start_time": "2025-01-12T14:49:18.151Z"
   },
   {
    "duration": 250,
    "start_time": "2025-01-12T14:49:18.423Z"
   },
   {
    "duration": 226,
    "start_time": "2025-01-12T14:49:18.676Z"
   },
   {
    "duration": 9,
    "start_time": "2025-01-12T14:49:18.903Z"
   },
   {
    "duration": 31,
    "start_time": "2025-01-12T14:49:18.914Z"
   },
   {
    "duration": 120,
    "start_time": "2025-01-12T14:49:18.947Z"
   },
   {
    "duration": 17,
    "start_time": "2025-01-12T14:49:19.068Z"
   },
   {
    "duration": 8,
    "start_time": "2025-01-12T14:49:19.086Z"
   },
   {
    "duration": 12,
    "start_time": "2025-01-12T14:49:19.096Z"
   },
   {
    "duration": 29,
    "start_time": "2025-01-12T14:49:19.110Z"
   },
   {
    "duration": 7,
    "start_time": "2025-01-12T14:49:19.142Z"
   },
   {
    "duration": 213,
    "start_time": "2025-01-12T14:49:19.151Z"
   },
   {
    "duration": 9,
    "start_time": "2025-01-12T14:49:19.366Z"
   },
   {
    "duration": 6,
    "start_time": "2025-01-12T14:49:19.376Z"
   },
   {
    "duration": 5,
    "start_time": "2025-01-12T14:49:19.384Z"
   },
   {
    "duration": 55,
    "start_time": "2025-01-12T14:49:19.391Z"
   },
   {
    "duration": 23,
    "start_time": "2025-01-12T14:49:19.448Z"
   },
   {
    "duration": 7,
    "start_time": "2025-01-12T14:49:19.473Z"
   },
   {
    "duration": 300,
    "start_time": "2025-01-12T14:49:19.482Z"
   },
   {
    "duration": 206,
    "start_time": "2025-01-12T14:49:19.783Z"
   },
   {
    "duration": 7,
    "start_time": "2025-01-12T14:49:19.991Z"
   },
   {
    "duration": 209,
    "start_time": "2025-01-12T14:49:19.999Z"
   },
   {
    "duration": 207,
    "start_time": "2025-01-12T14:49:20.209Z"
   },
   {
    "duration": 45,
    "start_time": "2025-01-12T14:49:20.418Z"
   },
   {
    "duration": 15,
    "start_time": "2025-01-12T14:49:20.464Z"
   },
   {
    "duration": 157,
    "start_time": "2025-01-12T14:49:20.480Z"
   },
   {
    "duration": 22,
    "start_time": "2025-01-12T14:49:20.639Z"
   },
   {
    "duration": 6,
    "start_time": "2025-01-12T14:49:20.662Z"
   },
   {
    "duration": 502,
    "start_time": "2025-01-12T14:49:20.670Z"
   },
   {
    "duration": 6,
    "start_time": "2025-01-12T14:49:21.174Z"
   },
   {
    "duration": 13,
    "start_time": "2025-01-12T14:49:21.182Z"
   },
   {
    "duration": 5,
    "start_time": "2025-01-12T14:49:21.196Z"
   },
   {
    "duration": 9,
    "start_time": "2025-01-12T14:49:21.203Z"
   },
   {
    "duration": 152,
    "start_time": "2025-01-12T14:49:21.238Z"
   },
   {
    "duration": 157,
    "start_time": "2025-01-12T14:49:21.392Z"
   },
   {
    "duration": 223,
    "start_time": "2025-01-12T14:50:05.497Z"
   },
   {
    "duration": 220,
    "start_time": "2025-01-12T14:51:13.027Z"
   },
   {
    "duration": 219,
    "start_time": "2025-01-12T14:52:23.877Z"
   },
   {
    "duration": 1685,
    "start_time": "2025-01-12T14:54:30.515Z"
   },
   {
    "duration": 679,
    "start_time": "2025-01-12T14:55:04.069Z"
   },
   {
    "duration": 72,
    "start_time": "2025-01-12T14:55:04.750Z"
   },
   {
    "duration": 12,
    "start_time": "2025-01-12T14:55:04.824Z"
   },
   {
    "duration": 54,
    "start_time": "2025-01-12T14:55:04.838Z"
   },
   {
    "duration": 93,
    "start_time": "2025-01-12T14:55:04.894Z"
   },
   {
    "duration": 53,
    "start_time": "2025-01-12T14:55:04.988Z"
   },
   {
    "duration": 33,
    "start_time": "2025-01-12T14:55:05.043Z"
   },
   {
    "duration": 35,
    "start_time": "2025-01-12T14:55:05.078Z"
   },
   {
    "duration": 27,
    "start_time": "2025-01-12T14:55:05.115Z"
   },
   {
    "duration": 24,
    "start_time": "2025-01-12T14:55:05.144Z"
   },
   {
    "duration": 30,
    "start_time": "2025-01-12T14:55:05.170Z"
   },
   {
    "duration": 30,
    "start_time": "2025-01-12T14:55:05.201Z"
   },
   {
    "duration": 41,
    "start_time": "2025-01-12T14:55:05.233Z"
   },
   {
    "duration": 20,
    "start_time": "2025-01-12T14:55:05.277Z"
   },
   {
    "duration": 35,
    "start_time": "2025-01-12T14:55:05.299Z"
   },
   {
    "duration": 30,
    "start_time": "2025-01-12T14:55:05.336Z"
   },
   {
    "duration": 15,
    "start_time": "2025-01-12T14:55:05.367Z"
   },
   {
    "duration": 18,
    "start_time": "2025-01-12T14:55:05.384Z"
   },
   {
    "duration": 32,
    "start_time": "2025-01-12T14:55:05.404Z"
   },
   {
    "duration": 37,
    "start_time": "2025-01-12T14:55:05.437Z"
   },
   {
    "duration": 61,
    "start_time": "2025-01-12T14:55:05.475Z"
   },
   {
    "duration": 24,
    "start_time": "2025-01-12T14:55:05.538Z"
   },
   {
    "duration": 38,
    "start_time": "2025-01-12T14:55:05.564Z"
   },
   {
    "duration": 55,
    "start_time": "2025-01-12T14:55:05.604Z"
   },
   {
    "duration": 230,
    "start_time": "2025-01-12T14:55:05.661Z"
   },
   {
    "duration": 191,
    "start_time": "2025-01-12T14:55:05.893Z"
   },
   {
    "duration": 5,
    "start_time": "2025-01-12T14:55:06.086Z"
   },
   {
    "duration": 33,
    "start_time": "2025-01-12T14:55:06.092Z"
   },
   {
    "duration": 139,
    "start_time": "2025-01-12T14:55:06.127Z"
   },
   {
    "duration": 5,
    "start_time": "2025-01-12T14:55:06.268Z"
   },
   {
    "duration": 94,
    "start_time": "2025-01-12T14:55:06.275Z"
   },
   {
    "duration": 8,
    "start_time": "2025-01-12T14:55:06.371Z"
   },
   {
    "duration": 35,
    "start_time": "2025-01-12T14:55:06.380Z"
   },
   {
    "duration": 241,
    "start_time": "2025-01-12T14:55:06.417Z"
   },
   {
    "duration": 6,
    "start_time": "2025-01-12T14:55:06.660Z"
   },
   {
    "duration": 34,
    "start_time": "2025-01-12T14:55:06.668Z"
   },
   {
    "duration": 31,
    "start_time": "2025-01-12T14:55:06.704Z"
   },
   {
    "duration": 157,
    "start_time": "2025-01-12T14:55:06.737Z"
   },
   {
    "duration": 10,
    "start_time": "2025-01-12T14:55:06.897Z"
   },
   {
    "duration": 53,
    "start_time": "2025-01-12T14:55:06.909Z"
   },
   {
    "duration": 158,
    "start_time": "2025-01-12T14:55:06.966Z"
   },
   {
    "duration": 19,
    "start_time": "2025-01-12T14:55:07.126Z"
   },
   {
    "duration": 30,
    "start_time": "2025-01-12T14:55:07.147Z"
   },
   {
    "duration": 32,
    "start_time": "2025-01-12T14:55:07.179Z"
   },
   {
    "duration": 23,
    "start_time": "2025-01-12T14:55:07.213Z"
   },
   {
    "duration": 32,
    "start_time": "2025-01-12T14:55:07.238Z"
   },
   {
    "duration": 40,
    "start_time": "2025-01-12T14:55:07.272Z"
   },
   {
    "duration": 36,
    "start_time": "2025-01-12T14:55:07.314Z"
   },
   {
    "duration": 20,
    "start_time": "2025-01-12T14:55:07.352Z"
   },
   {
    "duration": 26,
    "start_time": "2025-01-12T14:55:07.374Z"
   },
   {
    "duration": 28,
    "start_time": "2025-01-12T14:55:07.402Z"
   },
   {
    "duration": 21,
    "start_time": "2025-01-12T14:55:07.432Z"
   },
   {
    "duration": 234,
    "start_time": "2025-01-12T14:55:07.455Z"
   },
   {
    "duration": 3,
    "start_time": "2025-01-12T14:55:07.691Z"
   },
   {
    "duration": 245,
    "start_time": "2025-01-12T14:55:07.696Z"
   },
   {
    "duration": 215,
    "start_time": "2025-01-12T14:55:07.943Z"
   },
   {
    "duration": 9,
    "start_time": "2025-01-12T14:55:08.160Z"
   },
   {
    "duration": 16,
    "start_time": "2025-01-12T14:55:08.171Z"
   },
   {
    "duration": 139,
    "start_time": "2025-01-12T14:55:08.190Z"
   },
   {
    "duration": 17,
    "start_time": "2025-01-12T14:55:08.337Z"
   },
   {
    "duration": 5,
    "start_time": "2025-01-12T14:55:08.357Z"
   },
   {
    "duration": 43,
    "start_time": "2025-01-12T14:55:08.364Z"
   },
   {
    "duration": 36,
    "start_time": "2025-01-12T14:55:08.409Z"
   },
   {
    "duration": 18,
    "start_time": "2025-01-12T14:55:08.448Z"
   },
   {
    "duration": 186,
    "start_time": "2025-01-12T14:55:08.468Z"
   },
   {
    "duration": 13,
    "start_time": "2025-01-12T14:55:08.655Z"
   },
   {
    "duration": 38,
    "start_time": "2025-01-12T14:55:08.670Z"
   },
   {
    "duration": 31,
    "start_time": "2025-01-12T14:55:08.710Z"
   },
   {
    "duration": 53,
    "start_time": "2025-01-12T14:55:08.743Z"
   },
   {
    "duration": 47,
    "start_time": "2025-01-12T14:55:08.798Z"
   },
   {
    "duration": 69,
    "start_time": "2025-01-12T14:55:08.848Z"
   },
   {
    "duration": 277,
    "start_time": "2025-01-12T14:55:08.918Z"
   },
   {
    "duration": 197,
    "start_time": "2025-01-12T14:55:09.198Z"
   },
   {
    "duration": 9,
    "start_time": "2025-01-12T14:55:09.397Z"
   },
   {
    "duration": 185,
    "start_time": "2025-01-12T14:55:09.408Z"
   },
   {
    "duration": 199,
    "start_time": "2025-01-12T14:55:09.595Z"
   },
   {
    "duration": 43,
    "start_time": "2025-01-12T14:55:09.796Z"
   },
   {
    "duration": 52,
    "start_time": "2025-01-12T14:55:09.841Z"
   },
   {
    "duration": 165,
    "start_time": "2025-01-12T14:55:09.894Z"
   },
   {
    "duration": 14,
    "start_time": "2025-01-12T14:55:10.062Z"
   },
   {
    "duration": 32,
    "start_time": "2025-01-12T14:55:10.078Z"
   },
   {
    "duration": 530,
    "start_time": "2025-01-12T14:55:10.112Z"
   },
   {
    "duration": 5,
    "start_time": "2025-01-12T14:55:10.644Z"
   },
   {
    "duration": 37,
    "start_time": "2025-01-12T14:55:10.651Z"
   },
   {
    "duration": 15,
    "start_time": "2025-01-12T14:55:10.690Z"
   },
   {
    "duration": 23,
    "start_time": "2025-01-12T14:55:10.707Z"
   },
   {
    "duration": 157,
    "start_time": "2025-01-12T14:55:10.732Z"
   },
   {
    "duration": 154,
    "start_time": "2025-01-12T14:55:10.891Z"
   },
   {
    "duration": 1434,
    "start_time": "2025-01-12T14:56:36.582Z"
   },
   {
    "duration": 719,
    "start_time": "2025-01-12T14:56:46.159Z"
   },
   {
    "duration": 74,
    "start_time": "2025-01-12T14:56:46.881Z"
   },
   {
    "duration": 11,
    "start_time": "2025-01-12T14:56:46.957Z"
   },
   {
    "duration": 39,
    "start_time": "2025-01-12T14:56:46.970Z"
   },
   {
    "duration": 12,
    "start_time": "2025-01-12T14:56:47.012Z"
   },
   {
    "duration": 14,
    "start_time": "2025-01-12T14:56:47.026Z"
   },
   {
    "duration": 8,
    "start_time": "2025-01-12T14:56:47.041Z"
   },
   {
    "duration": 17,
    "start_time": "2025-01-12T14:56:47.050Z"
   },
   {
    "duration": 14,
    "start_time": "2025-01-12T14:56:47.069Z"
   },
   {
    "duration": 5,
    "start_time": "2025-01-12T14:56:47.085Z"
   },
   {
    "duration": 7,
    "start_time": "2025-01-12T14:56:47.092Z"
   },
   {
    "duration": 40,
    "start_time": "2025-01-12T14:56:47.101Z"
   },
   {
    "duration": 8,
    "start_time": "2025-01-12T14:56:47.143Z"
   },
   {
    "duration": 6,
    "start_time": "2025-01-12T14:56:47.153Z"
   },
   {
    "duration": 14,
    "start_time": "2025-01-12T14:56:47.160Z"
   },
   {
    "duration": 6,
    "start_time": "2025-01-12T14:56:47.176Z"
   },
   {
    "duration": 10,
    "start_time": "2025-01-12T14:56:47.184Z"
   },
   {
    "duration": 46,
    "start_time": "2025-01-12T14:56:47.196Z"
   },
   {
    "duration": 9,
    "start_time": "2025-01-12T14:56:47.244Z"
   },
   {
    "duration": 6,
    "start_time": "2025-01-12T14:56:47.255Z"
   },
   {
    "duration": 8,
    "start_time": "2025-01-12T14:56:47.263Z"
   },
   {
    "duration": 2,
    "start_time": "2025-01-12T14:56:47.273Z"
   },
   {
    "duration": 5,
    "start_time": "2025-01-12T14:56:47.277Z"
   },
   {
    "duration": 18,
    "start_time": "2025-01-12T14:56:47.284Z"
   },
   {
    "duration": 245,
    "start_time": "2025-01-12T14:56:47.304Z"
   },
   {
    "duration": 205,
    "start_time": "2025-01-12T14:56:47.550Z"
   },
   {
    "duration": 6,
    "start_time": "2025-01-12T14:56:47.756Z"
   },
   {
    "duration": 2,
    "start_time": "2025-01-12T14:56:47.767Z"
   },
   {
    "duration": 96,
    "start_time": "2025-01-12T14:56:47.771Z"
   },
   {
    "duration": 6,
    "start_time": "2025-01-12T14:56:47.869Z"
   },
   {
    "duration": 96,
    "start_time": "2025-01-12T14:56:47.877Z"
   },
   {
    "duration": 9,
    "start_time": "2025-01-12T14:56:47.975Z"
   },
   {
    "duration": 3,
    "start_time": "2025-01-12T14:56:47.986Z"
   },
   {
    "duration": 263,
    "start_time": "2025-01-12T14:56:47.991Z"
   },
   {
    "duration": 7,
    "start_time": "2025-01-12T14:56:48.258Z"
   },
   {
    "duration": 23,
    "start_time": "2025-01-12T14:56:48.270Z"
   },
   {
    "duration": 3,
    "start_time": "2025-01-12T14:56:48.295Z"
   },
   {
    "duration": 133,
    "start_time": "2025-01-12T14:56:48.300Z"
   },
   {
    "duration": 9,
    "start_time": "2025-01-12T14:56:48.438Z"
   },
   {
    "duration": 3,
    "start_time": "2025-01-12T14:56:48.448Z"
   },
   {
    "duration": 134,
    "start_time": "2025-01-12T14:56:48.453Z"
   },
   {
    "duration": 12,
    "start_time": "2025-01-12T14:56:48.594Z"
   },
   {
    "duration": 20,
    "start_time": "2025-01-12T14:56:48.608Z"
   },
   {
    "duration": 4,
    "start_time": "2025-01-12T14:56:48.630Z"
   },
   {
    "duration": 8,
    "start_time": "2025-01-12T14:56:48.637Z"
   },
   {
    "duration": 3,
    "start_time": "2025-01-12T14:56:48.646Z"
   },
   {
    "duration": 9,
    "start_time": "2025-01-12T14:56:48.651Z"
   },
   {
    "duration": 18,
    "start_time": "2025-01-12T14:56:48.662Z"
   },
   {
    "duration": 8,
    "start_time": "2025-01-12T14:56:48.682Z"
   },
   {
    "duration": 7,
    "start_time": "2025-01-12T14:56:48.692Z"
   },
   {
    "duration": 36,
    "start_time": "2025-01-12T14:56:48.701Z"
   },
   {
    "duration": 3,
    "start_time": "2025-01-12T14:56:48.739Z"
   },
   {
    "duration": 232,
    "start_time": "2025-01-12T14:56:48.743Z"
   },
   {
    "duration": 2,
    "start_time": "2025-01-12T14:56:48.977Z"
   },
   {
    "duration": 249,
    "start_time": "2025-01-12T14:56:48.981Z"
   },
   {
    "duration": 2,
    "start_time": "2025-01-12T14:56:49.237Z"
   },
   {
    "duration": 226,
    "start_time": "2025-01-12T14:56:49.241Z"
   },
   {
    "duration": 9,
    "start_time": "2025-01-12T14:56:49.468Z"
   },
   {
    "duration": 8,
    "start_time": "2025-01-12T14:56:49.479Z"
   },
   {
    "duration": 122,
    "start_time": "2025-01-12T14:56:49.488Z"
   },
   {
    "duration": 17,
    "start_time": "2025-01-12T14:56:49.611Z"
   },
   {
    "duration": 5,
    "start_time": "2025-01-12T14:56:49.637Z"
   },
   {
    "duration": 12,
    "start_time": "2025-01-12T14:56:49.643Z"
   },
   {
    "duration": 14,
    "start_time": "2025-01-12T14:56:49.657Z"
   },
   {
    "duration": 5,
    "start_time": "2025-01-12T14:56:49.673Z"
   },
   {
    "duration": 198,
    "start_time": "2025-01-12T14:56:49.680Z"
   },
   {
    "duration": 9,
    "start_time": "2025-01-12T14:56:49.880Z"
   },
   {
    "duration": 5,
    "start_time": "2025-01-12T14:56:49.890Z"
   },
   {
    "duration": 5,
    "start_time": "2025-01-12T14:56:49.897Z"
   },
   {
    "duration": 55,
    "start_time": "2025-01-12T14:56:49.903Z"
   },
   {
    "duration": 21,
    "start_time": "2025-01-12T14:56:49.960Z"
   },
   {
    "duration": 7,
    "start_time": "2025-01-12T14:56:49.983Z"
   },
   {
    "duration": 278,
    "start_time": "2025-01-12T14:56:49.992Z"
   },
   {
    "duration": 194,
    "start_time": "2025-01-12T14:56:50.271Z"
   },
   {
    "duration": 8,
    "start_time": "2025-01-12T14:56:50.467Z"
   },
   {
    "duration": 188,
    "start_time": "2025-01-12T14:56:50.477Z"
   },
   {
    "duration": 186,
    "start_time": "2025-01-12T14:56:50.666Z"
   },
   {
    "duration": 27,
    "start_time": "2025-01-12T14:56:50.854Z"
   },
   {
    "duration": 35,
    "start_time": "2025-01-12T14:56:50.882Z"
   },
   {
    "duration": 123,
    "start_time": "2025-01-12T14:56:50.918Z"
   },
   {
    "duration": 14,
    "start_time": "2025-01-12T14:56:51.043Z"
   },
   {
    "duration": 4,
    "start_time": "2025-01-12T14:56:51.062Z"
   },
   {
    "duration": 471,
    "start_time": "2025-01-12T14:56:51.067Z"
   },
   {
    "duration": 5,
    "start_time": "2025-01-12T14:56:51.540Z"
   },
   {
    "duration": 11,
    "start_time": "2025-01-12T14:56:51.546Z"
   },
   {
    "duration": 5,
    "start_time": "2025-01-12T14:56:51.558Z"
   },
   {
    "duration": 43,
    "start_time": "2025-01-12T14:56:51.565Z"
   },
   {
    "duration": 148,
    "start_time": "2025-01-12T14:56:51.610Z"
   },
   {
    "duration": 151,
    "start_time": "2025-01-12T14:56:51.759Z"
   },
   {
    "duration": 126,
    "start_time": "2025-01-12T14:59:09.135Z"
   },
   {
    "duration": 126,
    "start_time": "2025-01-12T14:59:58.084Z"
   },
   {
    "duration": 79,
    "start_time": "2025-01-12T15:00:26.021Z"
   },
   {
    "duration": 199,
    "start_time": "2025-01-12T15:00:34.468Z"
   },
   {
    "duration": 111,
    "start_time": "2025-01-12T15:00:45.245Z"
   },
   {
    "duration": 244,
    "start_time": "2025-01-12T15:01:16.557Z"
   },
   {
    "duration": 143,
    "start_time": "2025-01-12T15:01:34.553Z"
   },
   {
    "duration": 123,
    "start_time": "2025-01-12T15:01:48.077Z"
   },
   {
    "duration": 115,
    "start_time": "2025-01-12T15:01:53.511Z"
   },
   {
    "duration": 720,
    "start_time": "2025-01-12T15:02:24.134Z"
   },
   {
    "duration": 71,
    "start_time": "2025-01-12T15:02:24.856Z"
   },
   {
    "duration": 12,
    "start_time": "2025-01-12T15:02:24.929Z"
   },
   {
    "duration": 74,
    "start_time": "2025-01-12T15:02:24.944Z"
   },
   {
    "duration": 20,
    "start_time": "2025-01-12T15:02:25.019Z"
   },
   {
    "duration": 39,
    "start_time": "2025-01-12T15:02:25.041Z"
   },
   {
    "duration": 27,
    "start_time": "2025-01-12T15:02:25.083Z"
   },
   {
    "duration": 29,
    "start_time": "2025-01-12T15:02:25.112Z"
   },
   {
    "duration": 40,
    "start_time": "2025-01-12T15:02:25.144Z"
   },
   {
    "duration": 22,
    "start_time": "2025-01-12T15:02:25.188Z"
   },
   {
    "duration": 28,
    "start_time": "2025-01-12T15:02:25.212Z"
   },
   {
    "duration": 28,
    "start_time": "2025-01-12T15:02:25.242Z"
   },
   {
    "duration": 23,
    "start_time": "2025-01-12T15:02:25.271Z"
   },
   {
    "duration": 21,
    "start_time": "2025-01-12T15:02:25.296Z"
   },
   {
    "duration": 32,
    "start_time": "2025-01-12T15:02:25.319Z"
   },
   {
    "duration": 27,
    "start_time": "2025-01-12T15:02:25.354Z"
   },
   {
    "duration": 35,
    "start_time": "2025-01-12T15:02:25.383Z"
   },
   {
    "duration": 28,
    "start_time": "2025-01-12T15:02:25.420Z"
   },
   {
    "duration": 33,
    "start_time": "2025-01-12T15:02:25.450Z"
   },
   {
    "duration": 34,
    "start_time": "2025-01-12T15:02:25.485Z"
   },
   {
    "duration": 21,
    "start_time": "2025-01-12T15:02:25.521Z"
   },
   {
    "duration": 61,
    "start_time": "2025-01-12T15:02:25.543Z"
   },
   {
    "duration": 23,
    "start_time": "2025-01-12T15:02:25.605Z"
   },
   {
    "duration": 14,
    "start_time": "2025-01-12T15:02:25.630Z"
   },
   {
    "duration": 230,
    "start_time": "2025-01-12T15:02:25.646Z"
   },
   {
    "duration": 206,
    "start_time": "2025-01-12T15:02:25.878Z"
   },
   {
    "duration": 6,
    "start_time": "2025-01-12T15:02:26.087Z"
   },
   {
    "duration": 16,
    "start_time": "2025-01-12T15:02:26.097Z"
   },
   {
    "duration": 98,
    "start_time": "2025-01-12T15:02:26.115Z"
   },
   {
    "duration": 6,
    "start_time": "2025-01-12T15:02:26.215Z"
   },
   {
    "duration": 96,
    "start_time": "2025-01-12T15:02:26.222Z"
   },
   {
    "duration": 19,
    "start_time": "2025-01-12T15:02:26.320Z"
   },
   {
    "duration": 15,
    "start_time": "2025-01-12T15:02:26.341Z"
   },
   {
    "duration": 250,
    "start_time": "2025-01-12T15:02:26.358Z"
   },
   {
    "duration": 5,
    "start_time": "2025-01-12T15:02:26.610Z"
   },
   {
    "duration": 41,
    "start_time": "2025-01-12T15:02:26.618Z"
   },
   {
    "duration": 2,
    "start_time": "2025-01-12T15:02:26.662Z"
   },
   {
    "duration": 129,
    "start_time": "2025-01-12T15:02:26.667Z"
   },
   {
    "duration": 9,
    "start_time": "2025-01-12T15:02:26.798Z"
   },
   {
    "duration": 2,
    "start_time": "2025-01-12T15:02:26.809Z"
   },
   {
    "duration": 154,
    "start_time": "2025-01-12T15:02:26.813Z"
   },
   {
    "duration": 11,
    "start_time": "2025-01-12T15:02:26.969Z"
   },
   {
    "duration": 9,
    "start_time": "2025-01-12T15:02:26.982Z"
   },
   {
    "duration": 22,
    "start_time": "2025-01-12T15:02:26.992Z"
   },
   {
    "duration": 20,
    "start_time": "2025-01-12T15:02:27.016Z"
   },
   {
    "duration": 5,
    "start_time": "2025-01-12T15:02:27.038Z"
   },
   {
    "duration": 14,
    "start_time": "2025-01-12T15:02:27.044Z"
   },
   {
    "duration": 21,
    "start_time": "2025-01-12T15:02:27.060Z"
   },
   {
    "duration": 8,
    "start_time": "2025-01-12T15:02:27.083Z"
   },
   {
    "duration": 26,
    "start_time": "2025-01-12T15:02:27.093Z"
   },
   {
    "duration": 7,
    "start_time": "2025-01-12T15:02:27.121Z"
   },
   {
    "duration": 13,
    "start_time": "2025-01-12T15:02:27.129Z"
   },
   {
    "duration": 285,
    "start_time": "2025-01-12T15:02:27.145Z"
   },
   {
    "duration": 5,
    "start_time": "2025-01-12T15:02:27.432Z"
   },
   {
    "duration": 284,
    "start_time": "2025-01-12T15:02:27.439Z"
   },
   {
    "duration": 2,
    "start_time": "2025-01-12T15:02:27.726Z"
   },
   {
    "duration": 242,
    "start_time": "2025-01-12T15:02:27.738Z"
   },
   {
    "duration": 9,
    "start_time": "2025-01-12T15:02:27.981Z"
   },
   {
    "duration": 8,
    "start_time": "2025-01-12T15:02:27.992Z"
   },
   {
    "duration": 3,
    "start_time": "2025-01-12T15:02:28.001Z"
   },
   {
    "duration": 164,
    "start_time": "2025-01-12T15:02:28.005Z"
   },
   {
    "duration": 17,
    "start_time": "2025-01-12T15:02:28.171Z"
   },
   {
    "duration": 16,
    "start_time": "2025-01-12T15:02:28.190Z"
   },
   {
    "duration": 20,
    "start_time": "2025-01-12T15:02:28.207Z"
   },
   {
    "duration": 9,
    "start_time": "2025-01-12T15:02:28.238Z"
   },
   {
    "duration": 17,
    "start_time": "2025-01-12T15:02:28.250Z"
   },
   {
    "duration": 291,
    "start_time": "2025-01-12T15:02:28.269Z"
   },
   {
    "duration": 12,
    "start_time": "2025-01-12T15:02:28.561Z"
   },
   {
    "duration": 7,
    "start_time": "2025-01-12T15:02:28.575Z"
   },
   {
    "duration": 11,
    "start_time": "2025-01-12T15:02:28.584Z"
   },
   {
    "duration": 82,
    "start_time": "2025-01-12T15:02:28.596Z"
   },
   {
    "duration": 56,
    "start_time": "2025-01-12T15:02:28.681Z"
   },
   {
    "duration": 12,
    "start_time": "2025-01-12T15:02:28.738Z"
   },
   {
    "duration": 288,
    "start_time": "2025-01-12T15:02:28.752Z"
   },
   {
    "duration": 207,
    "start_time": "2025-01-12T15:02:29.042Z"
   },
   {
    "duration": 10,
    "start_time": "2025-01-12T15:02:29.251Z"
   },
   {
    "duration": 195,
    "start_time": "2025-01-12T15:02:29.263Z"
   },
   {
    "duration": 208,
    "start_time": "2025-01-12T15:02:29.459Z"
   },
   {
    "duration": 50,
    "start_time": "2025-01-12T15:02:29.668Z"
   },
   {
    "duration": 33,
    "start_time": "2025-01-12T15:02:29.719Z"
   },
   {
    "duration": 139,
    "start_time": "2025-01-12T15:02:29.754Z"
   },
   {
    "duration": 36,
    "start_time": "2025-01-12T15:02:29.902Z"
   },
   {
    "duration": 6,
    "start_time": "2025-01-12T15:02:29.941Z"
   },
   {
    "duration": 604,
    "start_time": "2025-01-12T15:02:29.949Z"
   },
   {
    "duration": 6,
    "start_time": "2025-01-12T15:02:30.556Z"
   },
   {
    "duration": 36,
    "start_time": "2025-01-12T15:02:30.564Z"
   },
   {
    "duration": 6,
    "start_time": "2025-01-12T15:02:30.602Z"
   },
   {
    "duration": 40,
    "start_time": "2025-01-12T15:02:30.610Z"
   },
   {
    "duration": 165,
    "start_time": "2025-01-12T15:02:30.654Z"
   },
   {
    "duration": 185,
    "start_time": "2025-01-12T15:02:30.821Z"
   },
   {
    "duration": 698,
    "start_time": "2025-01-12T15:16:11.273Z"
   },
   {
    "duration": 71,
    "start_time": "2025-01-12T15:16:11.973Z"
   },
   {
    "duration": 12,
    "start_time": "2025-01-12T15:16:12.046Z"
   },
   {
    "duration": 11,
    "start_time": "2025-01-12T15:16:12.060Z"
   },
   {
    "duration": 20,
    "start_time": "2025-01-12T15:16:12.073Z"
   },
   {
    "duration": 18,
    "start_time": "2025-01-12T15:16:12.095Z"
   },
   {
    "duration": 7,
    "start_time": "2025-01-12T15:16:12.115Z"
   },
   {
    "duration": 23,
    "start_time": "2025-01-12T15:16:12.123Z"
   },
   {
    "duration": 16,
    "start_time": "2025-01-12T15:16:12.148Z"
   },
   {
    "duration": 5,
    "start_time": "2025-01-12T15:16:12.166Z"
   },
   {
    "duration": 8,
    "start_time": "2025-01-12T15:16:12.172Z"
   },
   {
    "duration": 13,
    "start_time": "2025-01-12T15:16:12.182Z"
   },
   {
    "duration": 7,
    "start_time": "2025-01-12T15:16:12.196Z"
   },
   {
    "duration": 6,
    "start_time": "2025-01-12T15:16:12.236Z"
   },
   {
    "duration": 12,
    "start_time": "2025-01-12T15:16:12.244Z"
   },
   {
    "duration": 6,
    "start_time": "2025-01-12T15:16:12.258Z"
   },
   {
    "duration": 9,
    "start_time": "2025-01-12T15:16:12.265Z"
   },
   {
    "duration": 6,
    "start_time": "2025-01-12T15:16:12.275Z"
   },
   {
    "duration": 6,
    "start_time": "2025-01-12T15:16:12.282Z"
   },
   {
    "duration": 48,
    "start_time": "2025-01-12T15:16:12.290Z"
   },
   {
    "duration": 10,
    "start_time": "2025-01-12T15:16:12.340Z"
   },
   {
    "duration": 3,
    "start_time": "2025-01-12T15:16:12.352Z"
   },
   {
    "duration": 7,
    "start_time": "2025-01-12T15:16:12.356Z"
   },
   {
    "duration": 4,
    "start_time": "2025-01-12T15:16:12.364Z"
   },
   {
    "duration": 246,
    "start_time": "2025-01-12T15:16:12.370Z"
   },
   {
    "duration": 219,
    "start_time": "2025-01-12T15:16:12.618Z"
   },
   {
    "duration": 6,
    "start_time": "2025-01-12T15:16:12.838Z"
   },
   {
    "duration": 6,
    "start_time": "2025-01-12T15:16:12.846Z"
   },
   {
    "duration": 92,
    "start_time": "2025-01-12T15:16:12.854Z"
   },
   {
    "duration": 7,
    "start_time": "2025-01-12T15:16:12.948Z"
   },
   {
    "duration": 105,
    "start_time": "2025-01-12T15:16:12.957Z"
   },
   {
    "duration": 10,
    "start_time": "2025-01-12T15:16:13.064Z"
   },
   {
    "duration": 8,
    "start_time": "2025-01-12T15:16:13.076Z"
   },
   {
    "duration": 243,
    "start_time": "2025-01-12T15:16:13.086Z"
   },
   {
    "duration": 9,
    "start_time": "2025-01-12T15:16:13.331Z"
   },
   {
    "duration": 15,
    "start_time": "2025-01-12T15:16:13.342Z"
   },
   {
    "duration": 2,
    "start_time": "2025-01-12T15:16:13.359Z"
   },
   {
    "duration": 129,
    "start_time": "2025-01-12T15:16:13.362Z"
   },
   {
    "duration": 9,
    "start_time": "2025-01-12T15:16:13.493Z"
   },
   {
    "duration": 2,
    "start_time": "2025-01-12T15:16:13.504Z"
   },
   {
    "duration": 128,
    "start_time": "2025-01-12T15:16:13.511Z"
   },
   {
    "duration": 10,
    "start_time": "2025-01-12T15:16:13.641Z"
   },
   {
    "duration": 5,
    "start_time": "2025-01-12T15:16:13.653Z"
   },
   {
    "duration": 6,
    "start_time": "2025-01-12T15:16:13.659Z"
   },
   {
    "duration": 6,
    "start_time": "2025-01-12T15:16:13.666Z"
   },
   {
    "duration": 2,
    "start_time": "2025-01-12T15:16:13.673Z"
   },
   {
    "duration": 9,
    "start_time": "2025-01-12T15:16:13.677Z"
   },
   {
    "duration": 19,
    "start_time": "2025-01-12T15:16:13.687Z"
   },
   {
    "duration": 35,
    "start_time": "2025-01-12T15:16:13.708Z"
   },
   {
    "duration": 7,
    "start_time": "2025-01-12T15:16:13.745Z"
   },
   {
    "duration": 4,
    "start_time": "2025-01-12T15:16:13.754Z"
   },
   {
    "duration": 9,
    "start_time": "2025-01-12T15:16:13.759Z"
   },
   {
    "duration": 243,
    "start_time": "2025-01-12T15:16:13.769Z"
   },
   {
    "duration": 2,
    "start_time": "2025-01-12T15:16:14.014Z"
   },
   {
    "duration": 243,
    "start_time": "2025-01-12T15:16:14.018Z"
   },
   {
    "duration": 3,
    "start_time": "2025-01-12T15:16:14.262Z"
   },
   {
    "duration": 236,
    "start_time": "2025-01-12T15:16:14.266Z"
   },
   {
    "duration": 9,
    "start_time": "2025-01-12T15:16:14.504Z"
   },
   {
    "duration": 26,
    "start_time": "2025-01-12T15:16:14.515Z"
   },
   {
    "duration": 3,
    "start_time": "2025-01-12T15:16:14.543Z"
   },
   {
    "duration": 134,
    "start_time": "2025-01-12T15:16:14.547Z"
   },
   {
    "duration": 16,
    "start_time": "2025-01-12T15:16:14.682Z"
   },
   {
    "duration": 4,
    "start_time": "2025-01-12T15:16:14.700Z"
   },
   {
    "duration": 5,
    "start_time": "2025-01-12T15:16:14.705Z"
   },
   {
    "duration": 31,
    "start_time": "2025-01-12T15:16:14.712Z"
   },
   {
    "duration": 12,
    "start_time": "2025-01-12T15:16:14.745Z"
   },
   {
    "duration": 5,
    "start_time": "2025-01-12T15:16:14.759Z"
   },
   {
    "duration": 201,
    "start_time": "2025-01-12T15:16:14.766Z"
   },
   {
    "duration": 9,
    "start_time": "2025-01-12T15:16:14.969Z"
   },
   {
    "duration": 5,
    "start_time": "2025-01-12T15:16:14.980Z"
   },
   {
    "duration": 5,
    "start_time": "2025-01-12T15:16:14.987Z"
   },
   {
    "duration": 59,
    "start_time": "2025-01-12T15:16:14.993Z"
   },
   {
    "duration": 21,
    "start_time": "2025-01-12T15:16:15.054Z"
   },
   {
    "duration": 31,
    "start_time": "2025-01-12T15:16:15.077Z"
   },
   {
    "duration": 268,
    "start_time": "2025-01-12T15:16:15.110Z"
   },
   {
    "duration": 198,
    "start_time": "2025-01-12T15:16:15.380Z"
   },
   {
    "duration": 7,
    "start_time": "2025-01-12T15:16:15.580Z"
   },
   {
    "duration": 181,
    "start_time": "2025-01-12T15:16:15.589Z"
   },
   {
    "duration": 210,
    "start_time": "2025-01-12T15:16:15.772Z"
   },
   {
    "duration": 33,
    "start_time": "2025-01-12T15:16:15.984Z"
   },
   {
    "duration": 32,
    "start_time": "2025-01-12T15:16:16.019Z"
   },
   {
    "duration": 138,
    "start_time": "2025-01-12T15:16:16.052Z"
   },
   {
    "duration": 15,
    "start_time": "2025-01-12T15:16:16.191Z"
   },
   {
    "duration": 5,
    "start_time": "2025-01-12T15:16:16.208Z"
   },
   {
    "duration": 527,
    "start_time": "2025-01-12T15:16:16.214Z"
   },
   {
    "duration": 5,
    "start_time": "2025-01-12T15:16:16.743Z"
   },
   {
    "duration": 19,
    "start_time": "2025-01-12T15:16:16.749Z"
   },
   {
    "duration": 5,
    "start_time": "2025-01-12T15:16:16.769Z"
   },
   {
    "duration": 10,
    "start_time": "2025-01-12T15:16:16.776Z"
   },
   {
    "duration": 162,
    "start_time": "2025-01-12T15:16:16.787Z"
   },
   {
    "duration": 152,
    "start_time": "2025-01-12T15:16:16.951Z"
   },
   {
    "duration": 714,
    "start_time": "2025-01-12T15:22:57.742Z"
   },
   {
    "duration": 72,
    "start_time": "2025-01-12T15:22:58.458Z"
   },
   {
    "duration": 14,
    "start_time": "2025-01-12T15:22:58.531Z"
   },
   {
    "duration": 17,
    "start_time": "2025-01-12T15:22:58.547Z"
   },
   {
    "duration": 10,
    "start_time": "2025-01-12T15:22:58.565Z"
   },
   {
    "duration": 12,
    "start_time": "2025-01-12T15:22:58.576Z"
   },
   {
    "duration": 7,
    "start_time": "2025-01-12T15:22:58.589Z"
   },
   {
    "duration": 15,
    "start_time": "2025-01-12T15:22:58.597Z"
   },
   {
    "duration": 32,
    "start_time": "2025-01-12T15:22:58.614Z"
   },
   {
    "duration": 5,
    "start_time": "2025-01-12T15:22:58.649Z"
   },
   {
    "duration": 5,
    "start_time": "2025-01-12T15:22:58.655Z"
   },
   {
    "duration": 21,
    "start_time": "2025-01-12T15:22:58.661Z"
   },
   {
    "duration": 6,
    "start_time": "2025-01-12T15:22:58.683Z"
   },
   {
    "duration": 20,
    "start_time": "2025-01-12T15:22:58.690Z"
   },
   {
    "duration": 43,
    "start_time": "2025-01-12T15:22:58.712Z"
   },
   {
    "duration": 7,
    "start_time": "2025-01-12T15:22:58.756Z"
   },
   {
    "duration": 8,
    "start_time": "2025-01-12T15:22:58.765Z"
   },
   {
    "duration": 6,
    "start_time": "2025-01-12T15:22:58.775Z"
   },
   {
    "duration": 5,
    "start_time": "2025-01-12T15:22:58.783Z"
   },
   {
    "duration": 8,
    "start_time": "2025-01-12T15:22:58.789Z"
   },
   {
    "duration": 46,
    "start_time": "2025-01-12T15:22:58.799Z"
   },
   {
    "duration": 2,
    "start_time": "2025-01-12T15:22:58.847Z"
   },
   {
    "duration": 9,
    "start_time": "2025-01-12T15:22:58.850Z"
   },
   {
    "duration": 3,
    "start_time": "2025-01-12T15:22:58.861Z"
   },
   {
    "duration": 221,
    "start_time": "2025-01-12T15:22:58.865Z"
   },
   {
    "duration": 194,
    "start_time": "2025-01-12T15:22:59.088Z"
   },
   {
    "duration": 6,
    "start_time": "2025-01-12T15:22:59.283Z"
   },
   {
    "duration": 2,
    "start_time": "2025-01-12T15:22:59.293Z"
   },
   {
    "duration": 97,
    "start_time": "2025-01-12T15:22:59.297Z"
   },
   {
    "duration": 6,
    "start_time": "2025-01-12T15:22:59.396Z"
   },
   {
    "duration": 94,
    "start_time": "2025-01-12T15:22:59.404Z"
   },
   {
    "duration": 9,
    "start_time": "2025-01-12T15:22:59.499Z"
   },
   {
    "duration": 4,
    "start_time": "2025-01-12T15:22:59.509Z"
   },
   {
    "duration": 240,
    "start_time": "2025-01-12T15:22:59.514Z"
   },
   {
    "duration": 5,
    "start_time": "2025-01-12T15:22:59.756Z"
   },
   {
    "duration": 16,
    "start_time": "2025-01-12T15:22:59.763Z"
   },
   {
    "duration": 2,
    "start_time": "2025-01-12T15:22:59.781Z"
   },
   {
    "duration": 122,
    "start_time": "2025-01-12T15:22:59.784Z"
   },
   {
    "duration": 10,
    "start_time": "2025-01-12T15:22:59.908Z"
   },
   {
    "duration": 17,
    "start_time": "2025-01-12T15:22:59.920Z"
   },
   {
    "duration": 115,
    "start_time": "2025-01-12T15:22:59.938Z"
   },
   {
    "duration": 12,
    "start_time": "2025-01-12T15:23:00.055Z"
   },
   {
    "duration": 43,
    "start_time": "2025-01-12T15:23:00.069Z"
   },
   {
    "duration": 33,
    "start_time": "2025-01-12T15:23:00.115Z"
   },
   {
    "duration": 37,
    "start_time": "2025-01-12T15:23:00.150Z"
   },
   {
    "duration": 26,
    "start_time": "2025-01-12T15:23:00.189Z"
   },
   {
    "duration": 11,
    "start_time": "2025-01-12T15:23:00.217Z"
   },
   {
    "duration": 45,
    "start_time": "2025-01-12T15:23:00.230Z"
   },
   {
    "duration": 12,
    "start_time": "2025-01-12T15:23:00.277Z"
   },
   {
    "duration": 24,
    "start_time": "2025-01-12T15:23:00.291Z"
   },
   {
    "duration": 31,
    "start_time": "2025-01-12T15:23:00.317Z"
   },
   {
    "duration": 21,
    "start_time": "2025-01-12T15:23:00.350Z"
   },
   {
    "duration": 248,
    "start_time": "2025-01-12T15:23:00.373Z"
   },
   {
    "duration": 3,
    "start_time": "2025-01-12T15:23:00.622Z"
   },
   {
    "duration": 241,
    "start_time": "2025-01-12T15:23:00.626Z"
   },
   {
    "duration": 2,
    "start_time": "2025-01-12T15:23:00.869Z"
   },
   {
    "duration": 307,
    "start_time": "2025-01-12T15:23:00.872Z"
   },
   {
    "duration": 8,
    "start_time": "2025-01-12T15:23:01.181Z"
   },
   {
    "duration": 12,
    "start_time": "2025-01-12T15:23:01.191Z"
   },
   {
    "duration": 12,
    "start_time": "2025-01-12T15:23:01.205Z"
   },
   {
    "duration": 129,
    "start_time": "2025-01-12T15:23:01.219Z"
   },
   {
    "duration": 15,
    "start_time": "2025-01-12T15:23:01.350Z"
   },
   {
    "duration": 8,
    "start_time": "2025-01-12T15:23:01.366Z"
   },
   {
    "duration": 26,
    "start_time": "2025-01-12T15:23:01.375Z"
   },
   {
    "duration": 13,
    "start_time": "2025-01-12T15:23:01.402Z"
   },
   {
    "duration": 24,
    "start_time": "2025-01-12T15:23:01.417Z"
   },
   {
    "duration": 14,
    "start_time": "2025-01-12T15:23:01.443Z"
   },
   {
    "duration": 180,
    "start_time": "2025-01-12T15:23:01.459Z"
   },
   {
    "duration": 8,
    "start_time": "2025-01-12T15:23:01.641Z"
   },
   {
    "duration": 20,
    "start_time": "2025-01-12T15:23:01.651Z"
   },
   {
    "duration": 5,
    "start_time": "2025-01-12T15:23:01.673Z"
   },
   {
    "duration": 46,
    "start_time": "2025-01-12T15:23:01.679Z"
   },
   {
    "duration": 23,
    "start_time": "2025-01-12T15:23:01.727Z"
   },
   {
    "duration": 51,
    "start_time": "2025-01-12T15:23:01.752Z"
   },
   {
    "duration": 265,
    "start_time": "2025-01-12T15:23:01.805Z"
   },
   {
    "duration": 225,
    "start_time": "2025-01-12T15:23:02.071Z"
   },
   {
    "duration": 7,
    "start_time": "2025-01-12T15:23:02.298Z"
   },
   {
    "duration": 193,
    "start_time": "2025-01-12T15:23:02.307Z"
   },
   {
    "duration": 192,
    "start_time": "2025-01-12T15:23:02.502Z"
   },
   {
    "duration": 31,
    "start_time": "2025-01-12T15:23:02.695Z"
   },
   {
    "duration": 16,
    "start_time": "2025-01-12T15:23:02.737Z"
   },
   {
    "duration": 162,
    "start_time": "2025-01-12T15:23:02.758Z"
   },
   {
    "duration": 17,
    "start_time": "2025-01-12T15:23:02.922Z"
   },
   {
    "duration": 44,
    "start_time": "2025-01-12T15:23:02.941Z"
   },
   {
    "duration": 444,
    "start_time": "2025-01-12T15:23:02.987Z"
   },
   {
    "duration": 6,
    "start_time": "2025-01-12T15:23:03.433Z"
   },
   {
    "duration": 139,
    "start_time": "2025-01-12T15:23:03.441Z"
   },
   {
    "duration": 6,
    "start_time": "2025-01-12T15:23:03.581Z"
   },
   {
    "duration": 11,
    "start_time": "2025-01-12T15:23:03.588Z"
   },
   {
    "duration": 142,
    "start_time": "2025-01-12T15:23:03.601Z"
   },
   {
    "duration": 155,
    "start_time": "2025-01-12T15:23:03.745Z"
   },
   {
    "duration": 210,
    "start_time": "2025-01-12T15:28:00.743Z"
   },
   {
    "duration": 298,
    "start_time": "2025-01-12T15:28:29.447Z"
   },
   {
    "duration": 191,
    "start_time": "2025-01-12T15:28:52.701Z"
   },
   {
    "duration": 15,
    "start_time": "2025-01-12T15:44:56.366Z"
   },
   {
    "duration": 13,
    "start_time": "2025-01-12T15:45:00.393Z"
   },
   {
    "duration": 9,
    "start_time": "2025-01-12T15:45:13.534Z"
   },
   {
    "duration": 13,
    "start_time": "2025-01-12T15:45:18.545Z"
   },
   {
    "duration": 10,
    "start_time": "2025-01-12T15:46:35.685Z"
   },
   {
    "duration": 637,
    "start_time": "2025-01-12T15:46:40.790Z"
   },
   {
    "duration": 71,
    "start_time": "2025-01-12T15:46:41.438Z"
   },
   {
    "duration": 12,
    "start_time": "2025-01-12T15:46:41.511Z"
   },
   {
    "duration": 11,
    "start_time": "2025-01-12T15:46:41.524Z"
   },
   {
    "duration": 11,
    "start_time": "2025-01-12T15:46:41.537Z"
   },
   {
    "duration": 21,
    "start_time": "2025-01-12T15:46:41.550Z"
   },
   {
    "duration": 7,
    "start_time": "2025-01-12T15:46:41.573Z"
   },
   {
    "duration": 13,
    "start_time": "2025-01-12T15:46:41.582Z"
   },
   {
    "duration": 45,
    "start_time": "2025-01-12T15:46:41.597Z"
   },
   {
    "duration": 4,
    "start_time": "2025-01-12T15:46:41.643Z"
   },
   {
    "duration": 9,
    "start_time": "2025-01-12T15:46:41.649Z"
   },
   {
    "duration": 15,
    "start_time": "2025-01-12T15:46:41.660Z"
   },
   {
    "duration": 5,
    "start_time": "2025-01-12T15:46:41.677Z"
   },
   {
    "duration": 5,
    "start_time": "2025-01-12T15:46:41.685Z"
   },
   {
    "duration": 55,
    "start_time": "2025-01-12T15:46:41.692Z"
   },
   {
    "duration": 5,
    "start_time": "2025-01-12T15:46:41.749Z"
   },
   {
    "duration": 11,
    "start_time": "2025-01-12T15:46:41.755Z"
   },
   {
    "duration": 5,
    "start_time": "2025-01-12T15:46:41.768Z"
   },
   {
    "duration": 5,
    "start_time": "2025-01-12T15:46:41.774Z"
   },
   {
    "duration": 5,
    "start_time": "2025-01-12T15:46:41.780Z"
   },
   {
    "duration": 54,
    "start_time": "2025-01-12T15:46:41.787Z"
   },
   {
    "duration": 2,
    "start_time": "2025-01-12T15:46:41.843Z"
   },
   {
    "duration": 18,
    "start_time": "2025-01-12T15:46:41.846Z"
   },
   {
    "duration": 4,
    "start_time": "2025-01-12T15:46:41.865Z"
   },
   {
    "duration": 224,
    "start_time": "2025-01-12T15:46:41.871Z"
   },
   {
    "duration": 203,
    "start_time": "2025-01-12T15:46:42.097Z"
   },
   {
    "duration": 6,
    "start_time": "2025-01-12T15:46:42.301Z"
   },
   {
    "duration": 3,
    "start_time": "2025-01-12T15:46:42.309Z"
   },
   {
    "duration": 101,
    "start_time": "2025-01-12T15:46:42.314Z"
   },
   {
    "duration": 7,
    "start_time": "2025-01-12T15:46:42.416Z"
   },
   {
    "duration": 96,
    "start_time": "2025-01-12T15:46:42.425Z"
   },
   {
    "duration": 21,
    "start_time": "2025-01-12T15:46:42.522Z"
   },
   {
    "duration": 15,
    "start_time": "2025-01-12T15:46:42.544Z"
   },
   {
    "duration": 229,
    "start_time": "2025-01-12T15:46:42.561Z"
   },
   {
    "duration": 6,
    "start_time": "2025-01-12T15:46:42.791Z"
   },
   {
    "duration": 15,
    "start_time": "2025-01-12T15:46:42.799Z"
   },
   {
    "duration": 22,
    "start_time": "2025-01-12T15:46:42.816Z"
   },
   {
    "duration": 107,
    "start_time": "2025-01-12T15:46:42.840Z"
   },
   {
    "duration": 8,
    "start_time": "2025-01-12T15:46:42.949Z"
   },
   {
    "duration": 21,
    "start_time": "2025-01-12T15:46:42.959Z"
   },
   {
    "duration": 122,
    "start_time": "2025-01-12T15:46:42.985Z"
   },
   {
    "duration": 11,
    "start_time": "2025-01-12T15:46:43.108Z"
   },
   {
    "duration": 19,
    "start_time": "2025-01-12T15:46:43.121Z"
   },
   {
    "duration": 34,
    "start_time": "2025-01-12T15:46:43.142Z"
   },
   {
    "duration": 19,
    "start_time": "2025-01-12T15:46:43.179Z"
   },
   {
    "duration": 9,
    "start_time": "2025-01-12T15:46:43.201Z"
   },
   {
    "duration": 11,
    "start_time": "2025-01-12T15:46:43.212Z"
   },
   {
    "duration": 41,
    "start_time": "2025-01-12T15:46:43.225Z"
   },
   {
    "duration": 8,
    "start_time": "2025-01-12T15:46:43.267Z"
   },
   {
    "duration": 7,
    "start_time": "2025-01-12T15:46:43.276Z"
   },
   {
    "duration": 3,
    "start_time": "2025-01-12T15:46:43.285Z"
   },
   {
    "duration": 5,
    "start_time": "2025-01-12T15:46:43.289Z"
   },
   {
    "duration": 229,
    "start_time": "2025-01-12T15:46:43.296Z"
   },
   {
    "duration": 3,
    "start_time": "2025-01-12T15:46:43.526Z"
   },
   {
    "duration": 241,
    "start_time": "2025-01-12T15:46:43.537Z"
   },
   {
    "duration": 3,
    "start_time": "2025-01-12T15:46:43.780Z"
   },
   {
    "duration": 241,
    "start_time": "2025-01-12T15:46:43.785Z"
   },
   {
    "duration": 16,
    "start_time": "2025-01-12T15:46:44.027Z"
   },
   {
    "duration": 14,
    "start_time": "2025-01-12T15:46:44.045Z"
   },
   {
    "duration": 15,
    "start_time": "2025-01-12T15:46:44.061Z"
   },
   {
    "duration": 136,
    "start_time": "2025-01-12T15:46:44.078Z"
   },
   {
    "duration": 22,
    "start_time": "2025-01-12T15:46:44.216Z"
   },
   {
    "duration": 4,
    "start_time": "2025-01-12T15:46:44.240Z"
   },
   {
    "duration": 21,
    "start_time": "2025-01-12T15:46:44.246Z"
   },
   {
    "duration": 15,
    "start_time": "2025-01-12T15:46:44.270Z"
   },
   {
    "duration": 10,
    "start_time": "2025-01-12T15:46:44.286Z"
   },
   {
    "duration": 6,
    "start_time": "2025-01-12T15:46:44.297Z"
   },
   {
    "duration": 3,
    "start_time": "2025-01-12T15:46:44.336Z"
   },
   {
    "duration": 215,
    "start_time": "2025-01-12T15:46:44.341Z"
   },
   {
    "duration": 9,
    "start_time": "2025-01-12T15:46:44.558Z"
   },
   {
    "duration": 5,
    "start_time": "2025-01-12T15:46:44.568Z"
   },
   {
    "duration": 8,
    "start_time": "2025-01-12T15:46:44.575Z"
   },
   {
    "duration": 60,
    "start_time": "2025-01-12T15:46:44.584Z"
   },
   {
    "duration": 9,
    "start_time": "2025-01-12T15:46:44.646Z"
   },
   {
    "duration": 23,
    "start_time": "2025-01-12T15:46:44.656Z"
   },
   {
    "duration": 8,
    "start_time": "2025-01-12T15:46:44.680Z"
   },
   {
    "duration": 290,
    "start_time": "2025-01-12T15:46:44.690Z"
   },
   {
    "duration": 197,
    "start_time": "2025-01-12T15:46:44.981Z"
   },
   {
    "duration": 7,
    "start_time": "2025-01-12T15:46:45.180Z"
   },
   {
    "duration": 238,
    "start_time": "2025-01-12T15:46:45.189Z"
   },
   {
    "duration": 194,
    "start_time": "2025-01-12T15:46:45.429Z"
   },
   {
    "duration": 35,
    "start_time": "2025-01-12T15:46:45.625Z"
   },
   {
    "duration": 15,
    "start_time": "2025-01-12T15:46:45.662Z"
   },
   {
    "duration": 144,
    "start_time": "2025-01-12T15:46:45.678Z"
   },
   {
    "duration": 19,
    "start_time": "2025-01-12T15:46:45.823Z"
   },
   {
    "duration": 10,
    "start_time": "2025-01-12T15:46:45.843Z"
   },
   {
    "duration": 514,
    "start_time": "2025-01-12T15:46:45.855Z"
   },
   {
    "duration": 5,
    "start_time": "2025-01-12T15:46:46.371Z"
   },
   {
    "duration": 40,
    "start_time": "2025-01-12T15:46:46.377Z"
   },
   {
    "duration": 4,
    "start_time": "2025-01-12T15:46:46.419Z"
   },
   {
    "duration": 13,
    "start_time": "2025-01-12T15:46:46.425Z"
   },
   {
    "duration": 139,
    "start_time": "2025-01-12T15:46:46.439Z"
   },
   {
    "duration": 162,
    "start_time": "2025-01-12T15:46:46.579Z"
   },
   {
    "duration": 701,
    "start_time": "2025-01-12T15:52:49.953Z"
   },
   {
    "duration": 71,
    "start_time": "2025-01-12T15:52:50.656Z"
   },
   {
    "duration": 12,
    "start_time": "2025-01-12T15:52:50.729Z"
   },
   {
    "duration": 15,
    "start_time": "2025-01-12T15:52:50.743Z"
   },
   {
    "duration": 22,
    "start_time": "2025-01-12T15:52:50.761Z"
   },
   {
    "duration": 13,
    "start_time": "2025-01-12T15:52:50.785Z"
   },
   {
    "duration": 7,
    "start_time": "2025-01-12T15:52:50.800Z"
   },
   {
    "duration": 9,
    "start_time": "2025-01-12T15:52:50.809Z"
   },
   {
    "duration": 36,
    "start_time": "2025-01-12T15:52:50.820Z"
   },
   {
    "duration": 5,
    "start_time": "2025-01-12T15:52:50.858Z"
   },
   {
    "duration": 7,
    "start_time": "2025-01-12T15:52:50.865Z"
   },
   {
    "duration": 20,
    "start_time": "2025-01-12T15:52:50.873Z"
   },
   {
    "duration": 65,
    "start_time": "2025-01-12T15:52:50.894Z"
   },
   {
    "duration": 41,
    "start_time": "2025-01-12T15:52:50.962Z"
   },
   {
    "duration": 13,
    "start_time": "2025-01-12T15:52:51.005Z"
   },
   {
    "duration": 5,
    "start_time": "2025-01-12T15:52:51.020Z"
   },
   {
    "duration": 31,
    "start_time": "2025-01-12T15:52:51.027Z"
   },
   {
    "duration": 6,
    "start_time": "2025-01-12T15:52:51.060Z"
   },
   {
    "duration": 6,
    "start_time": "2025-01-12T15:52:51.068Z"
   },
   {
    "duration": 42,
    "start_time": "2025-01-12T15:52:51.075Z"
   },
   {
    "duration": 22,
    "start_time": "2025-01-12T15:52:51.118Z"
   },
   {
    "duration": 6,
    "start_time": "2025-01-12T15:52:51.142Z"
   },
   {
    "duration": 8,
    "start_time": "2025-01-12T15:52:51.149Z"
   },
   {
    "duration": 5,
    "start_time": "2025-01-12T15:52:51.160Z"
   },
   {
    "duration": 244,
    "start_time": "2025-01-12T15:52:51.166Z"
   },
   {
    "duration": 214,
    "start_time": "2025-01-12T15:52:51.411Z"
   },
   {
    "duration": 11,
    "start_time": "2025-01-12T15:52:51.627Z"
   },
   {
    "duration": 3,
    "start_time": "2025-01-12T15:52:51.640Z"
   },
   {
    "duration": 102,
    "start_time": "2025-01-12T15:52:51.645Z"
   },
   {
    "duration": 11,
    "start_time": "2025-01-12T15:52:51.750Z"
   },
   {
    "duration": 104,
    "start_time": "2025-01-12T15:52:51.763Z"
   },
   {
    "duration": 8,
    "start_time": "2025-01-12T15:52:51.869Z"
   },
   {
    "duration": 4,
    "start_time": "2025-01-12T15:52:51.878Z"
   },
   {
    "duration": 245,
    "start_time": "2025-01-12T15:52:51.883Z"
   },
   {
    "duration": 11,
    "start_time": "2025-01-12T15:52:52.130Z"
   },
   {
    "duration": 38,
    "start_time": "2025-01-12T15:52:52.142Z"
   },
   {
    "duration": 10,
    "start_time": "2025-01-12T15:52:52.181Z"
   },
   {
    "duration": 108,
    "start_time": "2025-01-12T15:52:52.193Z"
   },
   {
    "duration": 8,
    "start_time": "2025-01-12T15:52:52.303Z"
   },
   {
    "duration": 2,
    "start_time": "2025-01-12T15:52:52.313Z"
   },
   {
    "duration": 151,
    "start_time": "2025-01-12T15:52:52.320Z"
   },
   {
    "duration": 12,
    "start_time": "2025-01-12T15:52:52.473Z"
   },
   {
    "duration": 15,
    "start_time": "2025-01-12T15:52:52.486Z"
   },
   {
    "duration": 12,
    "start_time": "2025-01-12T15:52:52.503Z"
   },
   {
    "duration": 15,
    "start_time": "2025-01-12T15:52:52.516Z"
   },
   {
    "duration": 7,
    "start_time": "2025-01-12T15:52:52.533Z"
   },
   {
    "duration": 4,
    "start_time": "2025-01-12T15:52:52.541Z"
   },
   {
    "duration": 20,
    "start_time": "2025-01-12T15:52:52.546Z"
   },
   {
    "duration": 8,
    "start_time": "2025-01-12T15:52:52.567Z"
   },
   {
    "duration": 8,
    "start_time": "2025-01-12T15:52:52.577Z"
   },
   {
    "duration": 3,
    "start_time": "2025-01-12T15:52:52.586Z"
   },
   {
    "duration": 3,
    "start_time": "2025-01-12T15:52:52.591Z"
   },
   {
    "duration": 278,
    "start_time": "2025-01-12T15:52:52.596Z"
   },
   {
    "duration": 2,
    "start_time": "2025-01-12T15:52:52.876Z"
   },
   {
    "duration": 237,
    "start_time": "2025-01-12T15:52:52.880Z"
   },
   {
    "duration": 2,
    "start_time": "2025-01-12T15:52:53.119Z"
   },
   {
    "duration": 229,
    "start_time": "2025-01-12T15:52:53.122Z"
   },
   {
    "duration": 9,
    "start_time": "2025-01-12T15:52:53.353Z"
   },
   {
    "duration": 8,
    "start_time": "2025-01-12T15:52:53.364Z"
   },
   {
    "duration": 7,
    "start_time": "2025-01-12T15:52:53.374Z"
   },
   {
    "duration": 149,
    "start_time": "2025-01-12T15:52:53.382Z"
   },
   {
    "duration": 22,
    "start_time": "2025-01-12T15:52:53.533Z"
   },
   {
    "duration": 36,
    "start_time": "2025-01-12T15:52:53.558Z"
   },
   {
    "duration": 40,
    "start_time": "2025-01-12T15:52:53.596Z"
   },
   {
    "duration": 51,
    "start_time": "2025-01-12T15:52:53.638Z"
   },
   {
    "duration": 24,
    "start_time": "2025-01-12T15:52:53.691Z"
   },
   {
    "duration": 35,
    "start_time": "2025-01-12T15:52:53.716Z"
   },
   {
    "duration": 8,
    "start_time": "2025-01-12T15:52:53.754Z"
   },
   {
    "duration": 229,
    "start_time": "2025-01-12T15:52:53.764Z"
   },
   {
    "duration": 9,
    "start_time": "2025-01-12T15:52:53.994Z"
   },
   {
    "duration": 8,
    "start_time": "2025-01-12T15:52:54.004Z"
   },
   {
    "duration": 23,
    "start_time": "2025-01-12T15:52:54.014Z"
   },
   {
    "duration": 39,
    "start_time": "2025-01-12T15:52:54.039Z"
   },
   {
    "duration": 10,
    "start_time": "2025-01-12T15:52:54.080Z"
   },
   {
    "duration": 23,
    "start_time": "2025-01-12T15:52:54.091Z"
   },
   {
    "duration": 31,
    "start_time": "2025-01-12T15:52:54.116Z"
   },
   {
    "duration": 284,
    "start_time": "2025-01-12T15:52:54.149Z"
   },
   {
    "duration": 203,
    "start_time": "2025-01-12T15:52:54.437Z"
   },
   {
    "duration": 10,
    "start_time": "2025-01-12T15:52:54.642Z"
   },
   {
    "duration": 203,
    "start_time": "2025-01-12T15:52:54.654Z"
   },
   {
    "duration": 189,
    "start_time": "2025-01-12T15:52:54.859Z"
   },
   {
    "duration": 30,
    "start_time": "2025-01-12T15:52:55.050Z"
   },
   {
    "duration": 15,
    "start_time": "2025-01-12T15:52:55.082Z"
   },
   {
    "duration": 161,
    "start_time": "2025-01-12T15:52:55.099Z"
   },
   {
    "duration": 16,
    "start_time": "2025-01-12T15:52:55.262Z"
   },
   {
    "duration": 5,
    "start_time": "2025-01-12T15:52:55.280Z"
   },
   {
    "duration": 546,
    "start_time": "2025-01-12T15:52:55.287Z"
   },
   {
    "duration": 8,
    "start_time": "2025-01-12T15:52:55.837Z"
   },
   {
    "duration": 10,
    "start_time": "2025-01-12T15:52:55.847Z"
   },
   {
    "duration": 5,
    "start_time": "2025-01-12T15:52:55.859Z"
   },
   {
    "duration": 17,
    "start_time": "2025-01-12T15:52:55.865Z"
   },
   {
    "duration": 154,
    "start_time": "2025-01-12T15:52:55.883Z"
   },
   {
    "duration": 163,
    "start_time": "2025-01-12T15:52:56.039Z"
   },
   {
    "duration": 704,
    "start_time": "2025-01-12T16:02:39.124Z"
   },
   {
    "duration": 70,
    "start_time": "2025-01-12T16:02:39.830Z"
   },
   {
    "duration": 11,
    "start_time": "2025-01-12T16:02:39.902Z"
   },
   {
    "duration": 10,
    "start_time": "2025-01-12T16:02:39.915Z"
   },
   {
    "duration": 13,
    "start_time": "2025-01-12T16:02:39.927Z"
   },
   {
    "duration": 18,
    "start_time": "2025-01-12T16:02:39.943Z"
   },
   {
    "duration": 7,
    "start_time": "2025-01-12T16:02:39.963Z"
   },
   {
    "duration": 16,
    "start_time": "2025-01-12T16:02:39.971Z"
   },
   {
    "duration": 23,
    "start_time": "2025-01-12T16:02:39.988Z"
   },
   {
    "duration": 7,
    "start_time": "2025-01-12T16:02:40.013Z"
   },
   {
    "duration": 18,
    "start_time": "2025-01-12T16:02:40.021Z"
   },
   {
    "duration": 25,
    "start_time": "2025-01-12T16:02:40.042Z"
   },
   {
    "duration": 7,
    "start_time": "2025-01-12T16:02:40.069Z"
   },
   {
    "duration": 19,
    "start_time": "2025-01-12T16:02:40.079Z"
   },
   {
    "duration": 12,
    "start_time": "2025-01-12T16:02:40.099Z"
   },
   {
    "duration": 6,
    "start_time": "2025-01-12T16:02:40.112Z"
   },
   {
    "duration": 19,
    "start_time": "2025-01-12T16:02:40.119Z"
   },
   {
    "duration": 7,
    "start_time": "2025-01-12T16:02:40.140Z"
   },
   {
    "duration": 8,
    "start_time": "2025-01-12T16:02:40.150Z"
   },
   {
    "duration": 12,
    "start_time": "2025-01-12T16:02:40.160Z"
   },
   {
    "duration": 12,
    "start_time": "2025-01-12T16:02:40.174Z"
   },
   {
    "duration": 3,
    "start_time": "2025-01-12T16:02:40.188Z"
   },
   {
    "duration": 11,
    "start_time": "2025-01-12T16:02:40.193Z"
   },
   {
    "duration": 3,
    "start_time": "2025-01-12T16:02:40.238Z"
   },
   {
    "duration": 224,
    "start_time": "2025-01-12T16:02:40.243Z"
   },
   {
    "duration": 217,
    "start_time": "2025-01-12T16:02:40.468Z"
   },
   {
    "duration": 6,
    "start_time": "2025-01-12T16:02:40.687Z"
   },
   {
    "duration": 12,
    "start_time": "2025-01-12T16:02:40.694Z"
   },
   {
    "duration": 100,
    "start_time": "2025-01-12T16:02:40.707Z"
   },
   {
    "duration": 6,
    "start_time": "2025-01-12T16:02:40.809Z"
   },
   {
    "duration": 97,
    "start_time": "2025-01-12T16:02:40.817Z"
   },
   {
    "duration": 21,
    "start_time": "2025-01-12T16:02:40.916Z"
   },
   {
    "duration": 3,
    "start_time": "2025-01-12T16:02:40.939Z"
   },
   {
    "duration": 252,
    "start_time": "2025-01-12T16:02:40.944Z"
   },
   {
    "duration": 5,
    "start_time": "2025-01-12T16:02:41.198Z"
   },
   {
    "duration": 15,
    "start_time": "2025-01-12T16:02:41.204Z"
   },
   {
    "duration": 2,
    "start_time": "2025-01-12T16:02:41.238Z"
   },
   {
    "duration": 116,
    "start_time": "2025-01-12T16:02:41.242Z"
   },
   {
    "duration": 10,
    "start_time": "2025-01-12T16:02:41.359Z"
   },
   {
    "duration": 19,
    "start_time": "2025-01-12T16:02:41.371Z"
   },
   {
    "duration": 114,
    "start_time": "2025-01-12T16:02:41.396Z"
   },
   {
    "duration": 11,
    "start_time": "2025-01-12T16:02:41.512Z"
   },
   {
    "duration": 6,
    "start_time": "2025-01-12T16:02:41.536Z"
   },
   {
    "duration": 3,
    "start_time": "2025-01-12T16:02:41.545Z"
   },
   {
    "duration": 13,
    "start_time": "2025-01-12T16:02:41.550Z"
   },
   {
    "duration": 3,
    "start_time": "2025-01-12T16:02:41.565Z"
   },
   {
    "duration": 3,
    "start_time": "2025-01-12T16:02:41.569Z"
   },
   {
    "duration": 21,
    "start_time": "2025-01-12T16:02:41.574Z"
   },
   {
    "duration": 8,
    "start_time": "2025-01-12T16:02:41.597Z"
   },
   {
    "duration": 12,
    "start_time": "2025-01-12T16:02:41.637Z"
   },
   {
    "duration": 6,
    "start_time": "2025-01-12T16:02:41.651Z"
   },
   {
    "duration": 2,
    "start_time": "2025-01-12T16:02:41.658Z"
   },
   {
    "duration": 253,
    "start_time": "2025-01-12T16:02:41.662Z"
   },
   {
    "duration": 2,
    "start_time": "2025-01-12T16:02:41.917Z"
   },
   {
    "duration": 253,
    "start_time": "2025-01-12T16:02:41.921Z"
   },
   {
    "duration": 3,
    "start_time": "2025-01-12T16:02:42.176Z"
   },
   {
    "duration": 256,
    "start_time": "2025-01-12T16:02:42.181Z"
   },
   {
    "duration": 11,
    "start_time": "2025-01-12T16:02:42.439Z"
   },
   {
    "duration": 12,
    "start_time": "2025-01-12T16:02:42.452Z"
   },
   {
    "duration": 10,
    "start_time": "2025-01-12T16:02:42.465Z"
   },
   {
    "duration": 152,
    "start_time": "2025-01-12T16:02:42.478Z"
   },
   {
    "duration": 19,
    "start_time": "2025-01-12T16:02:42.632Z"
   },
   {
    "duration": 3,
    "start_time": "2025-01-12T16:02:42.654Z"
   },
   {
    "duration": 15,
    "start_time": "2025-01-12T16:02:42.659Z"
   },
   {
    "duration": 12,
    "start_time": "2025-01-12T16:02:42.675Z"
   },
   {
    "duration": 13,
    "start_time": "2025-01-12T16:02:42.689Z"
   },
   {
    "duration": 38,
    "start_time": "2025-01-12T16:02:42.703Z"
   },
   {
    "duration": 3,
    "start_time": "2025-01-12T16:02:42.743Z"
   },
   {
    "duration": 206,
    "start_time": "2025-01-12T16:02:42.749Z"
   },
   {
    "duration": 11,
    "start_time": "2025-01-12T16:02:42.957Z"
   },
   {
    "duration": 43,
    "start_time": "2025-01-12T16:02:42.969Z"
   },
   {
    "duration": 4,
    "start_time": "2025-01-12T16:02:43.013Z"
   },
   {
    "duration": 12,
    "start_time": "2025-01-12T16:02:43.019Z"
   },
   {
    "duration": 10,
    "start_time": "2025-01-12T16:02:43.033Z"
   },
   {
    "duration": 33,
    "start_time": "2025-01-12T16:02:43.045Z"
   },
   {
    "duration": 9,
    "start_time": "2025-01-12T16:02:43.080Z"
   },
   {
    "duration": 126,
    "start_time": "2025-01-12T16:02:43.090Z"
   },
   {
    "duration": 8,
    "start_time": "2025-01-12T16:02:43.218Z"
   },
   {
    "duration": 192,
    "start_time": "2025-01-12T16:02:43.237Z"
   },
   {
    "duration": 209,
    "start_time": "2025-01-12T16:02:43.430Z"
   },
   {
    "duration": 8,
    "start_time": "2025-01-12T16:02:43.641Z"
   },
   {
    "duration": 199,
    "start_time": "2025-01-12T16:02:43.650Z"
   },
   {
    "duration": 195,
    "start_time": "2025-01-12T16:02:43.851Z"
   },
   {
    "duration": 29,
    "start_time": "2025-01-12T16:02:44.049Z"
   },
   {
    "duration": 15,
    "start_time": "2025-01-12T16:02:44.079Z"
   },
   {
    "duration": 148,
    "start_time": "2025-01-12T16:02:44.095Z"
   },
   {
    "duration": 23,
    "start_time": "2025-01-12T16:02:44.246Z"
   },
   {
    "duration": 4,
    "start_time": "2025-01-12T16:02:44.271Z"
   },
   {
    "duration": 541,
    "start_time": "2025-01-12T16:02:44.277Z"
   },
   {
    "duration": 17,
    "start_time": "2025-01-12T16:02:44.820Z"
   },
   {
    "duration": 16,
    "start_time": "2025-01-12T16:02:44.839Z"
   },
   {
    "duration": 6,
    "start_time": "2025-01-12T16:02:44.857Z"
   },
   {
    "duration": 13,
    "start_time": "2025-01-12T16:02:44.865Z"
   },
   {
    "duration": 147,
    "start_time": "2025-01-12T16:02:44.879Z"
   },
   {
    "duration": 169,
    "start_time": "2025-01-12T16:02:45.028Z"
   },
   {
    "duration": 14,
    "start_time": "2025-01-12T16:04:37.078Z"
   },
   {
    "duration": 13,
    "start_time": "2025-01-12T16:07:45.562Z"
   },
   {
    "duration": 275,
    "start_time": "2025-01-12T16:12:55.934Z"
   },
   {
    "duration": 350,
    "start_time": "2025-01-12T16:13:27.400Z"
   },
   {
    "duration": 364,
    "start_time": "2025-01-12T16:13:48.419Z"
   },
   {
    "duration": 203,
    "start_time": "2025-01-12T16:14:41.996Z"
   },
   {
    "duration": 364,
    "start_time": "2025-01-12T16:15:55.975Z"
   },
   {
    "duration": 487,
    "start_time": "2025-01-12T16:16:15.040Z"
   },
   {
    "duration": 462,
    "start_time": "2025-01-12T16:16:21.232Z"
   },
   {
    "duration": 544,
    "start_time": "2025-01-12T16:16:27.321Z"
   },
   {
    "duration": 420,
    "start_time": "2025-01-12T16:17:00.188Z"
   },
   {
    "duration": 428,
    "start_time": "2025-01-12T16:17:15.909Z"
   },
   {
    "duration": 746,
    "start_time": "2025-01-12T16:18:08.095Z"
   },
   {
    "duration": 339,
    "start_time": "2025-01-12T16:19:02.805Z"
   },
   {
    "duration": 393,
    "start_time": "2025-01-12T16:19:10.081Z"
   },
   {
    "duration": 335,
    "start_time": "2025-01-12T16:20:48.147Z"
   },
   {
    "duration": 701,
    "start_time": "2025-01-12T16:21:58.851Z"
   },
   {
    "duration": 71,
    "start_time": "2025-01-12T16:21:59.554Z"
   },
   {
    "duration": 12,
    "start_time": "2025-01-12T16:21:59.627Z"
   },
   {
    "duration": 18,
    "start_time": "2025-01-12T16:21:59.641Z"
   },
   {
    "duration": 9,
    "start_time": "2025-01-12T16:21:59.662Z"
   },
   {
    "duration": 14,
    "start_time": "2025-01-12T16:21:59.673Z"
   },
   {
    "duration": 6,
    "start_time": "2025-01-12T16:21:59.689Z"
   },
   {
    "duration": 10,
    "start_time": "2025-01-12T16:21:59.697Z"
   },
   {
    "duration": 39,
    "start_time": "2025-01-12T16:21:59.708Z"
   },
   {
    "duration": 5,
    "start_time": "2025-01-12T16:21:59.749Z"
   },
   {
    "duration": 4,
    "start_time": "2025-01-12T16:21:59.755Z"
   },
   {
    "duration": 11,
    "start_time": "2025-01-12T16:21:59.761Z"
   },
   {
    "duration": 6,
    "start_time": "2025-01-12T16:21:59.774Z"
   },
   {
    "duration": 7,
    "start_time": "2025-01-12T16:21:59.783Z"
   },
   {
    "duration": 49,
    "start_time": "2025-01-12T16:21:59.792Z"
   },
   {
    "duration": 7,
    "start_time": "2025-01-12T16:21:59.843Z"
   },
   {
    "duration": 12,
    "start_time": "2025-01-12T16:21:59.852Z"
   },
   {
    "duration": 6,
    "start_time": "2025-01-12T16:21:59.865Z"
   },
   {
    "duration": 11,
    "start_time": "2025-01-12T16:21:59.873Z"
   },
   {
    "duration": 7,
    "start_time": "2025-01-12T16:21:59.886Z"
   },
   {
    "duration": 51,
    "start_time": "2025-01-12T16:21:59.894Z"
   },
   {
    "duration": 3,
    "start_time": "2025-01-12T16:21:59.946Z"
   },
   {
    "duration": 12,
    "start_time": "2025-01-12T16:21:59.950Z"
   },
   {
    "duration": 8,
    "start_time": "2025-01-12T16:21:59.964Z"
   },
   {
    "duration": 252,
    "start_time": "2025-01-12T16:21:59.974Z"
   },
   {
    "duration": 240,
    "start_time": "2025-01-12T16:22:00.228Z"
   },
   {
    "duration": 6,
    "start_time": "2025-01-12T16:22:00.469Z"
   },
   {
    "duration": 23,
    "start_time": "2025-01-12T16:22:00.476Z"
   },
   {
    "duration": 103,
    "start_time": "2025-01-12T16:22:00.501Z"
   },
   {
    "duration": 7,
    "start_time": "2025-01-12T16:22:00.605Z"
   },
   {
    "duration": 106,
    "start_time": "2025-01-12T16:22:00.614Z"
   },
   {
    "duration": 16,
    "start_time": "2025-01-12T16:22:00.722Z"
   },
   {
    "duration": 22,
    "start_time": "2025-01-12T16:22:00.741Z"
   },
   {
    "duration": 251,
    "start_time": "2025-01-12T16:22:00.765Z"
   },
   {
    "duration": 5,
    "start_time": "2025-01-12T16:22:01.018Z"
   },
   {
    "duration": 58,
    "start_time": "2025-01-12T16:22:01.024Z"
   },
   {
    "duration": 2,
    "start_time": "2025-01-12T16:22:01.083Z"
   },
   {
    "duration": 115,
    "start_time": "2025-01-12T16:22:01.087Z"
   },
   {
    "duration": 9,
    "start_time": "2025-01-12T16:22:01.203Z"
   },
   {
    "duration": 16,
    "start_time": "2025-01-12T16:22:01.213Z"
   },
   {
    "duration": 133,
    "start_time": "2025-01-12T16:22:01.241Z"
   },
   {
    "duration": 10,
    "start_time": "2025-01-12T16:22:01.376Z"
   },
   {
    "duration": 62,
    "start_time": "2025-01-12T16:22:01.388Z"
   },
   {
    "duration": 14,
    "start_time": "2025-01-12T16:22:01.453Z"
   },
   {
    "duration": 7,
    "start_time": "2025-01-12T16:22:01.468Z"
   },
   {
    "duration": 9,
    "start_time": "2025-01-12T16:22:01.476Z"
   },
   {
    "duration": 7,
    "start_time": "2025-01-12T16:22:01.487Z"
   },
   {
    "duration": 44,
    "start_time": "2025-01-12T16:22:01.495Z"
   },
   {
    "duration": 38,
    "start_time": "2025-01-12T16:22:01.541Z"
   },
   {
    "duration": 12,
    "start_time": "2025-01-12T16:22:01.581Z"
   },
   {
    "duration": 28,
    "start_time": "2025-01-12T16:22:01.594Z"
   },
   {
    "duration": 56,
    "start_time": "2025-01-12T16:22:01.623Z"
   },
   {
    "duration": 246,
    "start_time": "2025-01-12T16:22:01.681Z"
   },
   {
    "duration": 2,
    "start_time": "2025-01-12T16:22:01.928Z"
   },
   {
    "duration": 269,
    "start_time": "2025-01-12T16:22:01.936Z"
   },
   {
    "duration": 3,
    "start_time": "2025-01-12T16:22:02.206Z"
   },
   {
    "duration": 246,
    "start_time": "2025-01-12T16:22:02.210Z"
   },
   {
    "duration": 10,
    "start_time": "2025-01-12T16:22:02.459Z"
   },
   {
    "duration": 23,
    "start_time": "2025-01-12T16:22:02.470Z"
   },
   {
    "duration": 3,
    "start_time": "2025-01-12T16:22:02.494Z"
   },
   {
    "duration": 141,
    "start_time": "2025-01-12T16:22:02.498Z"
   },
   {
    "duration": 20,
    "start_time": "2025-01-12T16:22:02.642Z"
   },
   {
    "duration": 3,
    "start_time": "2025-01-12T16:22:02.664Z"
   },
   {
    "duration": 26,
    "start_time": "2025-01-12T16:22:02.669Z"
   },
   {
    "duration": 14,
    "start_time": "2025-01-12T16:22:02.697Z"
   },
   {
    "duration": 13,
    "start_time": "2025-01-12T16:22:02.738Z"
   },
   {
    "duration": 38,
    "start_time": "2025-01-12T16:22:02.754Z"
   },
   {
    "duration": 2,
    "start_time": "2025-01-12T16:22:02.794Z"
   },
   {
    "duration": 210,
    "start_time": "2025-01-12T16:22:02.798Z"
   },
   {
    "duration": 8,
    "start_time": "2025-01-12T16:22:03.010Z"
   },
   {
    "duration": 49,
    "start_time": "2025-01-12T16:22:03.020Z"
   },
   {
    "duration": 6,
    "start_time": "2025-01-12T16:22:03.071Z"
   },
   {
    "duration": 40,
    "start_time": "2025-01-12T16:22:03.079Z"
   },
   {
    "duration": 10,
    "start_time": "2025-01-12T16:22:03.120Z"
   },
   {
    "duration": 48,
    "start_time": "2025-01-12T16:22:03.131Z"
   },
   {
    "duration": 8,
    "start_time": "2025-01-12T16:22:03.181Z"
   },
   {
    "duration": 35,
    "start_time": "2025-01-12T16:22:03.190Z"
   },
   {
    "duration": 28,
    "start_time": "2025-01-12T16:22:03.226Z"
   },
   {
    "duration": 6,
    "start_time": "2025-01-12T16:22:03.257Z"
   },
   {
    "duration": 113,
    "start_time": "2025-01-12T16:22:03.265Z"
   },
   {
    "duration": 12,
    "start_time": "2025-01-12T16:22:03.379Z"
   },
   {
    "duration": 5,
    "start_time": "2025-01-12T16:22:03.392Z"
   },
   {
    "duration": 14,
    "start_time": "2025-01-12T16:22:03.398Z"
   },
   {
    "duration": 337,
    "start_time": "2025-01-12T16:22:03.414Z"
   },
   {
    "duration": 85,
    "start_time": "2025-01-12T16:22:03.753Z"
   },
   {
    "duration": 22,
    "start_time": "2025-01-12T16:22:03.840Z"
   },
   {
    "duration": 308,
    "start_time": "2025-01-12T16:22:03.864Z"
   },
   {
    "duration": 15,
    "start_time": "2025-01-12T16:22:04.174Z"
   },
   {
    "duration": 19,
    "start_time": "2025-01-12T16:22:04.191Z"
   },
   {
    "duration": 567,
    "start_time": "2025-01-12T16:22:04.212Z"
   },
   {
    "duration": 5,
    "start_time": "2025-01-12T16:22:04.781Z"
   },
   {
    "duration": 39,
    "start_time": "2025-01-12T16:22:04.788Z"
   },
   {
    "duration": 5,
    "start_time": "2025-01-12T16:22:04.829Z"
   },
   {
    "duration": 26,
    "start_time": "2025-01-12T16:22:04.835Z"
   },
   {
    "duration": 137,
    "start_time": "2025-01-12T16:22:04.863Z"
   },
   {
    "duration": 172,
    "start_time": "2025-01-12T16:22:05.002Z"
   },
   {
    "duration": 377,
    "start_time": "2025-01-12T16:23:26.112Z"
   },
   {
    "duration": 388,
    "start_time": "2025-01-12T16:25:28.391Z"
   },
   {
    "duration": 337,
    "start_time": "2025-01-12T16:26:48.003Z"
   },
   {
    "duration": 5,
    "start_time": "2025-01-12T16:27:55.346Z"
   },
   {
    "duration": 324,
    "start_time": "2025-01-12T16:28:11.610Z"
   },
   {
    "duration": 301,
    "start_time": "2025-01-12T16:28:30.566Z"
   },
   {
    "duration": 328,
    "start_time": "2025-01-12T16:28:43.811Z"
   },
   {
    "duration": 299,
    "start_time": "2025-01-12T16:29:43.566Z"
   },
   {
    "duration": 101,
    "start_time": "2025-01-12T16:30:18.944Z"
   },
   {
    "duration": 9,
    "start_time": "2025-01-12T16:30:28.989Z"
   },
   {
    "duration": 322,
    "start_time": "2025-01-12T16:30:54.099Z"
   },
   {
    "duration": 10,
    "start_time": "2025-01-12T16:31:14.904Z"
   },
   {
    "duration": 8,
    "start_time": "2025-01-12T16:31:17.811Z"
   },
   {
    "duration": 335,
    "start_time": "2025-01-12T16:31:25.747Z"
   },
   {
    "duration": 293,
    "start_time": "2025-01-12T16:31:39.473Z"
   },
   {
    "duration": 337,
    "start_time": "2025-01-12T16:32:12.748Z"
   },
   {
    "duration": 688,
    "start_time": "2025-01-12T16:33:14.553Z"
   },
   {
    "duration": 72,
    "start_time": "2025-01-12T16:33:15.243Z"
   },
   {
    "duration": 17,
    "start_time": "2025-01-12T16:33:15.317Z"
   },
   {
    "duration": 28,
    "start_time": "2025-01-12T16:33:15.336Z"
   },
   {
    "duration": 16,
    "start_time": "2025-01-12T16:33:15.367Z"
   },
   {
    "duration": 28,
    "start_time": "2025-01-12T16:33:15.385Z"
   },
   {
    "duration": 11,
    "start_time": "2025-01-12T16:33:15.416Z"
   },
   {
    "duration": 24,
    "start_time": "2025-01-12T16:33:15.429Z"
   },
   {
    "duration": 24,
    "start_time": "2025-01-12T16:33:15.456Z"
   },
   {
    "duration": 4,
    "start_time": "2025-01-12T16:33:15.482Z"
   },
   {
    "duration": 5,
    "start_time": "2025-01-12T16:33:15.488Z"
   },
   {
    "duration": 12,
    "start_time": "2025-01-12T16:33:15.495Z"
   },
   {
    "duration": 6,
    "start_time": "2025-01-12T16:33:15.537Z"
   },
   {
    "duration": 6,
    "start_time": "2025-01-12T16:33:15.546Z"
   },
   {
    "duration": 13,
    "start_time": "2025-01-12T16:33:15.554Z"
   },
   {
    "duration": 6,
    "start_time": "2025-01-12T16:33:15.568Z"
   },
   {
    "duration": 9,
    "start_time": "2025-01-12T16:33:15.576Z"
   },
   {
    "duration": 6,
    "start_time": "2025-01-12T16:33:15.586Z"
   },
   {
    "duration": 44,
    "start_time": "2025-01-12T16:33:15.594Z"
   },
   {
    "duration": 16,
    "start_time": "2025-01-12T16:33:15.640Z"
   },
   {
    "duration": 15,
    "start_time": "2025-01-12T16:33:15.658Z"
   },
   {
    "duration": 7,
    "start_time": "2025-01-12T16:33:15.675Z"
   },
   {
    "duration": 8,
    "start_time": "2025-01-12T16:33:15.685Z"
   },
   {
    "duration": 5,
    "start_time": "2025-01-12T16:33:15.695Z"
   },
   {
    "duration": 237,
    "start_time": "2025-01-12T16:33:15.702Z"
   },
   {
    "duration": 208,
    "start_time": "2025-01-12T16:33:15.941Z"
   },
   {
    "duration": 6,
    "start_time": "2025-01-12T16:33:16.151Z"
   },
   {
    "duration": 12,
    "start_time": "2025-01-12T16:33:16.159Z"
   },
   {
    "duration": 89,
    "start_time": "2025-01-12T16:33:16.174Z"
   },
   {
    "duration": 6,
    "start_time": "2025-01-12T16:33:16.265Z"
   },
   {
    "duration": 89,
    "start_time": "2025-01-12T16:33:16.273Z"
   },
   {
    "duration": 8,
    "start_time": "2025-01-12T16:33:16.364Z"
   },
   {
    "duration": 3,
    "start_time": "2025-01-12T16:33:16.374Z"
   },
   {
    "duration": 255,
    "start_time": "2025-01-12T16:33:16.378Z"
   },
   {
    "duration": 5,
    "start_time": "2025-01-12T16:33:16.637Z"
   },
   {
    "duration": 17,
    "start_time": "2025-01-12T16:33:16.644Z"
   },
   {
    "duration": 3,
    "start_time": "2025-01-12T16:33:16.662Z"
   },
   {
    "duration": 128,
    "start_time": "2025-01-12T16:33:16.667Z"
   },
   {
    "duration": 8,
    "start_time": "2025-01-12T16:33:16.797Z"
   },
   {
    "duration": 3,
    "start_time": "2025-01-12T16:33:16.807Z"
   },
   {
    "duration": 150,
    "start_time": "2025-01-12T16:33:16.815Z"
   },
   {
    "duration": 11,
    "start_time": "2025-01-12T16:33:16.967Z"
   },
   {
    "duration": 10,
    "start_time": "2025-01-12T16:33:16.979Z"
   },
   {
    "duration": 3,
    "start_time": "2025-01-12T16:33:16.991Z"
   },
   {
    "duration": 7,
    "start_time": "2025-01-12T16:33:16.996Z"
   },
   {
    "duration": 7,
    "start_time": "2025-01-12T16:33:17.005Z"
   },
   {
    "duration": 2,
    "start_time": "2025-01-12T16:33:17.014Z"
   },
   {
    "duration": 52,
    "start_time": "2025-01-12T16:33:17.017Z"
   },
   {
    "duration": 8,
    "start_time": "2025-01-12T16:33:17.071Z"
   },
   {
    "duration": 20,
    "start_time": "2025-01-12T16:33:17.081Z"
   },
   {
    "duration": 4,
    "start_time": "2025-01-12T16:33:17.103Z"
   },
   {
    "duration": 3,
    "start_time": "2025-01-12T16:33:17.108Z"
   },
   {
    "duration": 255,
    "start_time": "2025-01-12T16:33:17.112Z"
   },
   {
    "duration": 3,
    "start_time": "2025-01-12T16:33:17.368Z"
   },
   {
    "duration": 254,
    "start_time": "2025-01-12T16:33:17.372Z"
   },
   {
    "duration": 10,
    "start_time": "2025-01-12T16:33:17.627Z"
   },
   {
    "duration": 239,
    "start_time": "2025-01-12T16:33:17.638Z"
   },
   {
    "duration": 9,
    "start_time": "2025-01-12T16:33:17.879Z"
   },
   {
    "duration": 16,
    "start_time": "2025-01-12T16:33:17.889Z"
   },
   {
    "duration": 10,
    "start_time": "2025-01-12T16:33:17.906Z"
   },
   {
    "duration": 133,
    "start_time": "2025-01-12T16:33:17.918Z"
   },
   {
    "duration": 16,
    "start_time": "2025-01-12T16:33:18.053Z"
   },
   {
    "duration": 4,
    "start_time": "2025-01-12T16:33:18.070Z"
   },
   {
    "duration": 17,
    "start_time": "2025-01-12T16:33:18.076Z"
   },
   {
    "duration": 13,
    "start_time": "2025-01-12T16:33:18.094Z"
   },
   {
    "duration": 35,
    "start_time": "2025-01-12T16:33:18.108Z"
   },
   {
    "duration": 17,
    "start_time": "2025-01-12T16:33:18.144Z"
   },
   {
    "duration": 7,
    "start_time": "2025-01-12T16:33:18.162Z"
   },
   {
    "duration": 215,
    "start_time": "2025-01-12T16:33:18.170Z"
   },
   {
    "duration": 10,
    "start_time": "2025-01-12T16:33:18.386Z"
   },
   {
    "duration": 9,
    "start_time": "2025-01-12T16:33:18.397Z"
   },
   {
    "duration": 4,
    "start_time": "2025-01-12T16:33:18.407Z"
   },
   {
    "duration": 52,
    "start_time": "2025-01-12T16:33:18.412Z"
   },
   {
    "duration": 9,
    "start_time": "2025-01-12T16:33:18.466Z"
   },
   {
    "duration": 23,
    "start_time": "2025-01-12T16:33:18.477Z"
   },
   {
    "duration": 39,
    "start_time": "2025-01-12T16:33:18.501Z"
   },
   {
    "duration": 18,
    "start_time": "2025-01-12T16:33:18.541Z"
   },
   {
    "duration": 9,
    "start_time": "2025-01-12T16:33:18.562Z"
   },
   {
    "duration": 2,
    "start_time": "2025-01-12T16:33:18.574Z"
   },
   {
    "duration": 103,
    "start_time": "2025-01-12T16:33:18.578Z"
   },
   {
    "duration": 12,
    "start_time": "2025-01-12T16:33:18.683Z"
   },
   {
    "duration": 15,
    "start_time": "2025-01-12T16:33:18.696Z"
   },
   {
    "duration": 10,
    "start_time": "2025-01-12T16:33:18.713Z"
   },
   {
    "duration": 327,
    "start_time": "2025-01-12T16:33:18.724Z"
   },
   {
    "duration": 313,
    "start_time": "2025-01-12T16:33:19.053Z"
   },
   {
    "duration": 30,
    "start_time": "2025-01-12T16:33:19.368Z"
   },
   {
    "duration": 17,
    "start_time": "2025-01-12T16:33:19.399Z"
   },
   {
    "duration": 152,
    "start_time": "2025-01-12T16:33:19.417Z"
   },
   {
    "duration": 16,
    "start_time": "2025-01-12T16:33:19.571Z"
   },
   {
    "duration": 7,
    "start_time": "2025-01-12T16:33:19.589Z"
   },
   {
    "duration": 465,
    "start_time": "2025-01-12T16:33:19.598Z"
   },
   {
    "duration": 5,
    "start_time": "2025-01-12T16:33:20.064Z"
   },
   {
    "duration": 10,
    "start_time": "2025-01-12T16:33:20.071Z"
   },
   {
    "duration": 14,
    "start_time": "2025-01-12T16:33:20.083Z"
   },
   {
    "duration": 23,
    "start_time": "2025-01-12T16:33:20.099Z"
   },
   {
    "duration": 130,
    "start_time": "2025-01-12T16:33:20.124Z"
   },
   {
    "duration": 162,
    "start_time": "2025-01-12T16:33:20.256Z"
   },
   {
    "duration": 10,
    "start_time": "2025-01-12T16:33:58.233Z"
   },
   {
    "duration": 17,
    "start_time": "2025-01-12T16:34:03.383Z"
   },
   {
    "duration": 9,
    "start_time": "2025-01-12T16:34:08.669Z"
   },
   {
    "duration": 688,
    "start_time": "2025-01-12T16:41:40.629Z"
   },
   {
    "duration": 71,
    "start_time": "2025-01-12T16:41:41.319Z"
   },
   {
    "duration": 11,
    "start_time": "2025-01-12T16:41:41.392Z"
   },
   {
    "duration": 12,
    "start_time": "2025-01-12T16:41:41.405Z"
   },
   {
    "duration": 10,
    "start_time": "2025-01-12T16:41:41.418Z"
   },
   {
    "duration": 40,
    "start_time": "2025-01-12T16:41:41.430Z"
   },
   {
    "duration": 11,
    "start_time": "2025-01-12T16:41:41.472Z"
   },
   {
    "duration": 26,
    "start_time": "2025-01-12T16:41:41.485Z"
   },
   {
    "duration": 14,
    "start_time": "2025-01-12T16:41:41.512Z"
   },
   {
    "duration": 5,
    "start_time": "2025-01-12T16:41:41.529Z"
   },
   {
    "duration": 11,
    "start_time": "2025-01-12T16:41:41.535Z"
   },
   {
    "duration": 14,
    "start_time": "2025-01-12T16:41:41.548Z"
   },
   {
    "duration": 5,
    "start_time": "2025-01-12T16:41:41.564Z"
   },
   {
    "duration": 5,
    "start_time": "2025-01-12T16:41:41.571Z"
   },
   {
    "duration": 12,
    "start_time": "2025-01-12T16:41:41.578Z"
   },
   {
    "duration": 6,
    "start_time": "2025-01-12T16:41:41.591Z"
   },
   {
    "duration": 7,
    "start_time": "2025-01-12T16:41:41.599Z"
   },
   {
    "duration": 7,
    "start_time": "2025-01-12T16:41:41.638Z"
   },
   {
    "duration": 6,
    "start_time": "2025-01-12T16:41:41.647Z"
   },
   {
    "duration": 10,
    "start_time": "2025-01-12T16:41:41.655Z"
   },
   {
    "duration": 8,
    "start_time": "2025-01-12T16:41:41.666Z"
   },
   {
    "duration": 12,
    "start_time": "2025-01-12T16:41:41.676Z"
   },
   {
    "duration": 7,
    "start_time": "2025-01-12T16:41:41.690Z"
   },
   {
    "duration": 7,
    "start_time": "2025-01-12T16:41:41.698Z"
   },
   {
    "duration": 248,
    "start_time": "2025-01-12T16:41:41.707Z"
   },
   {
    "duration": 204,
    "start_time": "2025-01-12T16:41:41.957Z"
   },
   {
    "duration": 6,
    "start_time": "2025-01-12T16:41:42.162Z"
   },
   {
    "duration": 3,
    "start_time": "2025-01-12T16:41:42.172Z"
   },
   {
    "duration": 90,
    "start_time": "2025-01-12T16:41:42.176Z"
   },
   {
    "duration": 6,
    "start_time": "2025-01-12T16:41:42.269Z"
   },
   {
    "duration": 97,
    "start_time": "2025-01-12T16:41:42.277Z"
   },
   {
    "duration": 8,
    "start_time": "2025-01-12T16:41:42.376Z"
   },
   {
    "duration": 12,
    "start_time": "2025-01-12T16:41:42.386Z"
   },
   {
    "duration": 231,
    "start_time": "2025-01-12T16:41:42.399Z"
   },
   {
    "duration": 6,
    "start_time": "2025-01-12T16:41:42.636Z"
   },
   {
    "duration": 20,
    "start_time": "2025-01-12T16:41:42.644Z"
   },
   {
    "duration": 5,
    "start_time": "2025-01-12T16:41:42.665Z"
   },
   {
    "duration": 129,
    "start_time": "2025-01-12T16:41:42.671Z"
   },
   {
    "duration": 9,
    "start_time": "2025-01-12T16:41:42.802Z"
   },
   {
    "duration": 3,
    "start_time": "2025-01-12T16:41:42.812Z"
   },
   {
    "duration": 137,
    "start_time": "2025-01-12T16:41:42.816Z"
   },
   {
    "duration": 13,
    "start_time": "2025-01-12T16:41:42.955Z"
   },
   {
    "duration": 5,
    "start_time": "2025-01-12T16:41:42.970Z"
   },
   {
    "duration": 2,
    "start_time": "2025-01-12T16:41:42.977Z"
   },
   {
    "duration": 6,
    "start_time": "2025-01-12T16:41:42.981Z"
   },
   {
    "duration": 3,
    "start_time": "2025-01-12T16:41:42.989Z"
   },
   {
    "duration": 5,
    "start_time": "2025-01-12T16:41:42.993Z"
   },
   {
    "duration": 51,
    "start_time": "2025-01-12T16:41:42.999Z"
   },
   {
    "duration": 56,
    "start_time": "2025-01-12T16:41:43.052Z"
   },
   {
    "duration": 9,
    "start_time": "2025-01-12T16:41:43.109Z"
   },
   {
    "duration": 10,
    "start_time": "2025-01-12T16:41:43.120Z"
   },
   {
    "duration": 12,
    "start_time": "2025-01-12T16:41:43.131Z"
   },
   {
    "duration": 227,
    "start_time": "2025-01-12T16:41:43.145Z"
   },
   {
    "duration": 2,
    "start_time": "2025-01-12T16:41:43.374Z"
   },
   {
    "duration": 262,
    "start_time": "2025-01-12T16:41:43.377Z"
   },
   {
    "duration": 3,
    "start_time": "2025-01-12T16:41:43.641Z"
   },
   {
    "duration": 265,
    "start_time": "2025-01-12T16:41:43.646Z"
   },
   {
    "duration": 25,
    "start_time": "2025-01-12T16:41:43.913Z"
   },
   {
    "duration": 13,
    "start_time": "2025-01-12T16:41:43.940Z"
   },
   {
    "duration": 2,
    "start_time": "2025-01-12T16:41:43.955Z"
   },
   {
    "duration": 160,
    "start_time": "2025-01-12T16:41:43.959Z"
   },
   {
    "duration": 26,
    "start_time": "2025-01-12T16:41:44.120Z"
   },
   {
    "duration": 4,
    "start_time": "2025-01-12T16:41:44.147Z"
   },
   {
    "duration": 14,
    "start_time": "2025-01-12T16:41:44.153Z"
   },
   {
    "duration": 12,
    "start_time": "2025-01-12T16:41:44.168Z"
   },
   {
    "duration": 9,
    "start_time": "2025-01-12T16:41:44.182Z"
   },
   {
    "duration": 12,
    "start_time": "2025-01-12T16:41:44.192Z"
   },
   {
    "duration": 2,
    "start_time": "2025-01-12T16:41:44.206Z"
   },
   {
    "duration": 222,
    "start_time": "2025-01-12T16:41:44.238Z"
   },
   {
    "duration": 10,
    "start_time": "2025-01-12T16:41:44.462Z"
   },
   {
    "duration": 6,
    "start_time": "2025-01-12T16:41:44.473Z"
   },
   {
    "duration": 18,
    "start_time": "2025-01-12T16:41:44.480Z"
   },
   {
    "duration": 45,
    "start_time": "2025-01-12T16:41:44.500Z"
   },
   {
    "duration": 15,
    "start_time": "2025-01-12T16:41:44.547Z"
   },
   {
    "duration": 22,
    "start_time": "2025-01-12T16:41:44.564Z"
   },
   {
    "duration": 7,
    "start_time": "2025-01-12T16:41:44.588Z"
   },
   {
    "duration": 117,
    "start_time": "2025-01-12T16:41:44.597Z"
   },
   {
    "duration": 6,
    "start_time": "2025-01-12T16:41:44.716Z"
   },
   {
    "duration": 13,
    "start_time": "2025-01-12T16:41:44.724Z"
   },
   {
    "duration": 10,
    "start_time": "2025-01-12T16:41:44.739Z"
   },
   {
    "duration": 18,
    "start_time": "2025-01-12T16:41:44.751Z"
   },
   {
    "duration": 2,
    "start_time": "2025-01-12T16:41:44.775Z"
   },
   {
    "duration": 4,
    "start_time": "2025-01-12T16:41:44.779Z"
   },
   {
    "duration": 319,
    "start_time": "2025-01-12T16:41:44.784Z"
   },
   {
    "duration": 375,
    "start_time": "2025-01-12T16:41:45.105Z"
   },
   {
    "duration": 33,
    "start_time": "2025-01-12T16:41:45.482Z"
   },
   {
    "duration": 20,
    "start_time": "2025-01-12T16:41:45.517Z"
   },
   {
    "duration": 22,
    "start_time": "2025-01-12T16:41:45.540Z"
   },
   {
    "duration": 148,
    "start_time": "2025-01-12T16:41:45.564Z"
   },
   {
    "duration": 24,
    "start_time": "2025-01-12T16:41:45.713Z"
   },
   {
    "duration": 7,
    "start_time": "2025-01-12T16:41:45.739Z"
   },
   {
    "duration": 414,
    "start_time": "2025-01-12T16:41:45.748Z"
   },
   {
    "duration": 5,
    "start_time": "2025-01-12T16:41:46.164Z"
   },
   {
    "duration": 13,
    "start_time": "2025-01-12T16:41:46.170Z"
   },
   {
    "duration": 4,
    "start_time": "2025-01-12T16:41:46.184Z"
   },
   {
    "duration": 17,
    "start_time": "2025-01-12T16:41:46.190Z"
   },
   {
    "duration": 151,
    "start_time": "2025-01-12T16:41:46.209Z"
   },
   {
    "duration": 166,
    "start_time": "2025-01-12T16:41:46.362Z"
   },
   {
    "duration": 740,
    "start_time": "2025-01-12T16:43:34.277Z"
   },
   {
    "duration": 73,
    "start_time": "2025-01-12T16:43:35.019Z"
   },
   {
    "duration": 11,
    "start_time": "2025-01-12T16:43:35.094Z"
   },
   {
    "duration": 19,
    "start_time": "2025-01-12T16:43:35.107Z"
   },
   {
    "duration": 19,
    "start_time": "2025-01-12T16:43:35.128Z"
   },
   {
    "duration": 24,
    "start_time": "2025-01-12T16:43:35.148Z"
   },
   {
    "duration": 20,
    "start_time": "2025-01-12T16:43:35.174Z"
   },
   {
    "duration": 32,
    "start_time": "2025-01-12T16:43:35.196Z"
   },
   {
    "duration": 33,
    "start_time": "2025-01-12T16:43:35.230Z"
   },
   {
    "duration": 25,
    "start_time": "2025-01-12T16:43:35.266Z"
   },
   {
    "duration": 18,
    "start_time": "2025-01-12T16:43:35.293Z"
   },
   {
    "duration": 26,
    "start_time": "2025-01-12T16:43:35.313Z"
   },
   {
    "duration": 48,
    "start_time": "2025-01-12T16:43:35.341Z"
   },
   {
    "duration": 7,
    "start_time": "2025-01-12T16:43:35.390Z"
   },
   {
    "duration": 23,
    "start_time": "2025-01-12T16:43:35.398Z"
   },
   {
    "duration": 12,
    "start_time": "2025-01-12T16:43:35.423Z"
   },
   {
    "duration": 74,
    "start_time": "2025-01-12T16:43:35.437Z"
   },
   {
    "duration": 24,
    "start_time": "2025-01-12T16:43:35.512Z"
   },
   {
    "duration": 11,
    "start_time": "2025-01-12T16:43:35.538Z"
   },
   {
    "duration": 22,
    "start_time": "2025-01-12T16:43:35.550Z"
   },
   {
    "duration": 13,
    "start_time": "2025-01-12T16:43:35.574Z"
   },
   {
    "duration": 12,
    "start_time": "2025-01-12T16:43:35.589Z"
   },
   {
    "duration": 18,
    "start_time": "2025-01-12T16:43:35.602Z"
   },
   {
    "duration": 16,
    "start_time": "2025-01-12T16:43:35.621Z"
   },
   {
    "duration": 240,
    "start_time": "2025-01-12T16:43:35.639Z"
   },
   {
    "duration": 211,
    "start_time": "2025-01-12T16:43:35.880Z"
   },
   {
    "duration": 7,
    "start_time": "2025-01-12T16:43:36.093Z"
   },
   {
    "duration": 3,
    "start_time": "2025-01-12T16:43:36.105Z"
   },
   {
    "duration": 103,
    "start_time": "2025-01-12T16:43:36.110Z"
   },
   {
    "duration": 7,
    "start_time": "2025-01-12T16:43:36.215Z"
   },
   {
    "duration": 118,
    "start_time": "2025-01-12T16:43:36.223Z"
   },
   {
    "duration": 11,
    "start_time": "2025-01-12T16:43:36.344Z"
   },
   {
    "duration": 12,
    "start_time": "2025-01-12T16:43:36.358Z"
   },
   {
    "duration": 248,
    "start_time": "2025-01-12T16:43:36.371Z"
   },
   {
    "duration": 5,
    "start_time": "2025-01-12T16:43:36.621Z"
   },
   {
    "duration": 26,
    "start_time": "2025-01-12T16:43:36.627Z"
   },
   {
    "duration": 15,
    "start_time": "2025-01-12T16:43:36.655Z"
   },
   {
    "duration": 121,
    "start_time": "2025-01-12T16:43:36.671Z"
   },
   {
    "duration": 9,
    "start_time": "2025-01-12T16:43:36.794Z"
   },
   {
    "duration": 2,
    "start_time": "2025-01-12T16:43:36.805Z"
   },
   {
    "duration": 157,
    "start_time": "2025-01-12T16:43:36.808Z"
   },
   {
    "duration": 16,
    "start_time": "2025-01-12T16:43:36.968Z"
   },
   {
    "duration": 12,
    "start_time": "2025-01-12T16:43:36.986Z"
   },
   {
    "duration": 2,
    "start_time": "2025-01-12T16:43:37.000Z"
   },
   {
    "duration": 5,
    "start_time": "2025-01-12T16:43:37.004Z"
   },
   {
    "duration": 26,
    "start_time": "2025-01-12T16:43:37.011Z"
   },
   {
    "duration": 3,
    "start_time": "2025-01-12T16:43:37.040Z"
   },
   {
    "duration": 27,
    "start_time": "2025-01-12T16:43:37.046Z"
   },
   {
    "duration": 7,
    "start_time": "2025-01-12T16:43:37.075Z"
   },
   {
    "duration": 18,
    "start_time": "2025-01-12T16:43:37.084Z"
   },
   {
    "duration": 2,
    "start_time": "2025-01-12T16:43:37.104Z"
   },
   {
    "duration": 4,
    "start_time": "2025-01-12T16:43:37.108Z"
   },
   {
    "duration": 272,
    "start_time": "2025-01-12T16:43:37.113Z"
   },
   {
    "duration": 3,
    "start_time": "2025-01-12T16:43:37.386Z"
   },
   {
    "duration": 270,
    "start_time": "2025-01-12T16:43:37.390Z"
   },
   {
    "duration": 2,
    "start_time": "2025-01-12T16:43:37.663Z"
   },
   {
    "duration": 253,
    "start_time": "2025-01-12T16:43:37.667Z"
   },
   {
    "duration": 17,
    "start_time": "2025-01-12T16:43:37.922Z"
   },
   {
    "duration": 11,
    "start_time": "2025-01-12T16:43:37.941Z"
   },
   {
    "duration": 4,
    "start_time": "2025-01-12T16:43:37.953Z"
   },
   {
    "duration": 147,
    "start_time": "2025-01-12T16:43:37.959Z"
   },
   {
    "duration": 16,
    "start_time": "2025-01-12T16:43:38.107Z"
   },
   {
    "duration": 12,
    "start_time": "2025-01-12T16:43:38.125Z"
   },
   {
    "duration": 31,
    "start_time": "2025-01-12T16:43:38.139Z"
   },
   {
    "duration": 12,
    "start_time": "2025-01-12T16:43:38.172Z"
   },
   {
    "duration": 18,
    "start_time": "2025-01-12T16:43:38.186Z"
   },
   {
    "duration": 5,
    "start_time": "2025-01-12T16:43:38.205Z"
   },
   {
    "duration": 4,
    "start_time": "2025-01-12T16:43:38.213Z"
   },
   {
    "duration": 245,
    "start_time": "2025-01-12T16:43:38.220Z"
   },
   {
    "duration": 10,
    "start_time": "2025-01-12T16:43:38.467Z"
   },
   {
    "duration": 5,
    "start_time": "2025-01-12T16:43:38.479Z"
   },
   {
    "duration": 3,
    "start_time": "2025-01-12T16:43:38.486Z"
   },
   {
    "duration": 69,
    "start_time": "2025-01-12T16:43:38.491Z"
   },
   {
    "duration": 13,
    "start_time": "2025-01-12T16:43:38.563Z"
   },
   {
    "duration": 26,
    "start_time": "2025-01-12T16:43:38.578Z"
   },
   {
    "duration": 31,
    "start_time": "2025-01-12T16:43:38.606Z"
   },
   {
    "duration": 84,
    "start_time": "2025-01-12T16:43:38.639Z"
   },
   {
    "duration": 18,
    "start_time": "2025-01-12T16:43:38.724Z"
   },
   {
    "duration": 5,
    "start_time": "2025-01-12T16:43:38.744Z"
   },
   {
    "duration": 12,
    "start_time": "2025-01-12T16:43:38.752Z"
   },
   {
    "duration": 12,
    "start_time": "2025-01-12T16:43:38.765Z"
   },
   {
    "duration": 3,
    "start_time": "2025-01-12T16:43:38.782Z"
   },
   {
    "duration": 3,
    "start_time": "2025-01-12T16:43:38.786Z"
   },
   {
    "duration": 394,
    "start_time": "2025-01-12T16:43:38.790Z"
   },
   {
    "duration": 330,
    "start_time": "2025-01-12T16:43:39.186Z"
   },
   {
    "duration": 83,
    "start_time": "2025-01-12T16:43:39.518Z"
   },
   {
    "duration": 0,
    "start_time": "2025-01-12T16:43:39.603Z"
   },
   {
    "duration": 0,
    "start_time": "2025-01-12T16:43:39.604Z"
   },
   {
    "duration": 0,
    "start_time": "2025-01-12T16:43:39.605Z"
   },
   {
    "duration": 0,
    "start_time": "2025-01-12T16:43:39.607Z"
   },
   {
    "duration": 0,
    "start_time": "2025-01-12T16:43:39.608Z"
   },
   {
    "duration": 0,
    "start_time": "2025-01-12T16:43:39.609Z"
   },
   {
    "duration": 0,
    "start_time": "2025-01-12T16:43:39.610Z"
   },
   {
    "duration": 0,
    "start_time": "2025-01-12T16:43:39.612Z"
   },
   {
    "duration": 0,
    "start_time": "2025-01-12T16:43:39.613Z"
   },
   {
    "duration": 0,
    "start_time": "2025-01-12T16:43:39.614Z"
   },
   {
    "duration": 0,
    "start_time": "2025-01-12T16:43:39.616Z"
   },
   {
    "duration": 0,
    "start_time": "2025-01-12T16:43:39.617Z"
   },
   {
    "duration": 82,
    "start_time": "2025-01-12T16:44:12.667Z"
   },
   {
    "duration": 44,
    "start_time": "2025-01-12T16:45:14.675Z"
   },
   {
    "duration": 47,
    "start_time": "2025-01-12T16:45:24.176Z"
   },
   {
    "duration": 7,
    "start_time": "2025-01-12T16:45:31.375Z"
   },
   {
    "duration": 682,
    "start_time": "2025-01-12T16:45:39.099Z"
   },
   {
    "duration": 70,
    "start_time": "2025-01-12T16:45:39.783Z"
   },
   {
    "duration": 11,
    "start_time": "2025-01-12T16:45:39.855Z"
   },
   {
    "duration": 18,
    "start_time": "2025-01-12T16:45:39.868Z"
   },
   {
    "duration": 9,
    "start_time": "2025-01-12T16:45:39.887Z"
   },
   {
    "duration": 10,
    "start_time": "2025-01-12T16:45:39.898Z"
   },
   {
    "duration": 7,
    "start_time": "2025-01-12T16:45:39.910Z"
   },
   {
    "duration": 24,
    "start_time": "2025-01-12T16:45:39.919Z"
   },
   {
    "duration": 21,
    "start_time": "2025-01-12T16:45:39.945Z"
   },
   {
    "duration": 4,
    "start_time": "2025-01-12T16:45:39.970Z"
   },
   {
    "duration": 5,
    "start_time": "2025-01-12T16:45:39.976Z"
   },
   {
    "duration": 12,
    "start_time": "2025-01-12T16:45:39.983Z"
   },
   {
    "duration": 43,
    "start_time": "2025-01-12T16:45:39.997Z"
   },
   {
    "duration": 10,
    "start_time": "2025-01-12T16:45:40.042Z"
   },
   {
    "duration": 13,
    "start_time": "2025-01-12T16:45:40.054Z"
   },
   {
    "duration": 13,
    "start_time": "2025-01-12T16:45:40.069Z"
   },
   {
    "duration": 14,
    "start_time": "2025-01-12T16:45:40.083Z"
   },
   {
    "duration": 5,
    "start_time": "2025-01-12T16:45:40.098Z"
   },
   {
    "duration": 4,
    "start_time": "2025-01-12T16:45:40.105Z"
   },
   {
    "duration": 8,
    "start_time": "2025-01-12T16:45:40.137Z"
   },
   {
    "duration": 12,
    "start_time": "2025-01-12T16:45:40.148Z"
   },
   {
    "duration": 2,
    "start_time": "2025-01-12T16:45:40.162Z"
   },
   {
    "duration": 10,
    "start_time": "2025-01-12T16:45:40.166Z"
   },
   {
    "duration": 7,
    "start_time": "2025-01-12T16:45:40.178Z"
   },
   {
    "duration": 253,
    "start_time": "2025-01-12T16:45:40.187Z"
   },
   {
    "duration": 204,
    "start_time": "2025-01-12T16:45:40.442Z"
   },
   {
    "duration": 7,
    "start_time": "2025-01-12T16:45:40.648Z"
   },
   {
    "duration": 3,
    "start_time": "2025-01-12T16:45:40.661Z"
   },
   {
    "duration": 101,
    "start_time": "2025-01-12T16:45:40.665Z"
   },
   {
    "duration": 6,
    "start_time": "2025-01-12T16:45:40.768Z"
   },
   {
    "duration": 100,
    "start_time": "2025-01-12T16:45:40.775Z"
   },
   {
    "duration": 8,
    "start_time": "2025-01-12T16:45:40.877Z"
   },
   {
    "duration": 3,
    "start_time": "2025-01-12T16:45:40.887Z"
   },
   {
    "duration": 266,
    "start_time": "2025-01-12T16:45:40.891Z"
   },
   {
    "duration": 7,
    "start_time": "2025-01-12T16:45:41.159Z"
   },
   {
    "duration": 16,
    "start_time": "2025-01-12T16:45:41.167Z"
   },
   {
    "duration": 3,
    "start_time": "2025-01-12T16:45:41.184Z"
   },
   {
    "duration": 135,
    "start_time": "2025-01-12T16:45:41.188Z"
   },
   {
    "duration": 23,
    "start_time": "2025-01-12T16:45:41.324Z"
   },
   {
    "duration": 4,
    "start_time": "2025-01-12T16:45:41.349Z"
   },
   {
    "duration": 131,
    "start_time": "2025-01-12T16:45:41.354Z"
   },
   {
    "duration": 11,
    "start_time": "2025-01-12T16:45:41.487Z"
   },
   {
    "duration": 28,
    "start_time": "2025-01-12T16:45:41.499Z"
   },
   {
    "duration": 5,
    "start_time": "2025-01-12T16:45:41.528Z"
   },
   {
    "duration": 11,
    "start_time": "2025-01-12T16:45:41.534Z"
   },
   {
    "duration": 3,
    "start_time": "2025-01-12T16:45:41.547Z"
   },
   {
    "duration": 6,
    "start_time": "2025-01-12T16:45:41.552Z"
   },
   {
    "duration": 18,
    "start_time": "2025-01-12T16:45:41.561Z"
   },
   {
    "duration": 7,
    "start_time": "2025-01-12T16:45:41.581Z"
   },
   {
    "duration": 6,
    "start_time": "2025-01-12T16:45:41.590Z"
   },
   {
    "duration": 7,
    "start_time": "2025-01-12T16:45:41.598Z"
   },
   {
    "duration": 31,
    "start_time": "2025-01-12T16:45:41.606Z"
   },
   {
    "duration": 248,
    "start_time": "2025-01-12T16:45:41.639Z"
   },
   {
    "duration": 2,
    "start_time": "2025-01-12T16:45:41.888Z"
   },
   {
    "duration": 256,
    "start_time": "2025-01-12T16:45:41.892Z"
   },
   {
    "duration": 3,
    "start_time": "2025-01-12T16:45:42.151Z"
   },
   {
    "duration": 246,
    "start_time": "2025-01-12T16:45:42.156Z"
   },
   {
    "duration": 11,
    "start_time": "2025-01-12T16:45:42.404Z"
   },
   {
    "duration": 27,
    "start_time": "2025-01-12T16:45:42.417Z"
   },
   {
    "duration": 2,
    "start_time": "2025-01-12T16:45:42.446Z"
   },
   {
    "duration": 144,
    "start_time": "2025-01-12T16:45:42.450Z"
   },
   {
    "duration": 15,
    "start_time": "2025-01-12T16:45:42.595Z"
   },
   {
    "duration": 4,
    "start_time": "2025-01-12T16:45:42.612Z"
   },
   {
    "duration": 29,
    "start_time": "2025-01-12T16:45:42.618Z"
   },
   {
    "duration": 14,
    "start_time": "2025-01-12T16:45:42.648Z"
   },
   {
    "duration": 10,
    "start_time": "2025-01-12T16:45:42.663Z"
   },
   {
    "duration": 5,
    "start_time": "2025-01-12T16:45:42.674Z"
   },
   {
    "duration": 4,
    "start_time": "2025-01-12T16:45:42.680Z"
   },
   {
    "duration": 242,
    "start_time": "2025-01-12T16:45:42.686Z"
   },
   {
    "duration": 12,
    "start_time": "2025-01-12T16:45:42.936Z"
   },
   {
    "duration": 7,
    "start_time": "2025-01-12T16:45:42.949Z"
   },
   {
    "duration": 5,
    "start_time": "2025-01-12T16:45:42.958Z"
   },
   {
    "duration": 34,
    "start_time": "2025-01-12T16:45:42.964Z"
   },
   {
    "duration": 38,
    "start_time": "2025-01-12T16:45:43.000Z"
   },
   {
    "duration": 27,
    "start_time": "2025-01-12T16:45:43.040Z"
   },
   {
    "duration": 42,
    "start_time": "2025-01-12T16:45:43.069Z"
   },
   {
    "duration": 14,
    "start_time": "2025-01-12T16:45:43.113Z"
   },
   {
    "duration": 76,
    "start_time": "2025-01-12T16:45:43.129Z"
   },
   {
    "duration": 3,
    "start_time": "2025-01-12T16:45:43.207Z"
   },
   {
    "duration": 7,
    "start_time": "2025-01-12T16:45:43.212Z"
   },
   {
    "duration": 29,
    "start_time": "2025-01-12T16:45:43.221Z"
   },
   {
    "duration": 3,
    "start_time": "2025-01-12T16:45:43.258Z"
   },
   {
    "duration": 9,
    "start_time": "2025-01-12T16:45:43.263Z"
   },
   {
    "duration": 309,
    "start_time": "2025-01-12T16:45:43.274Z"
   },
   {
    "duration": 312,
    "start_time": "2025-01-12T16:45:43.585Z"
   },
   {
    "duration": 59,
    "start_time": "2025-01-12T16:45:43.898Z"
   },
   {
    "duration": 6,
    "start_time": "2025-01-12T16:45:43.960Z"
   },
   {
    "duration": 30,
    "start_time": "2025-01-12T16:45:43.968Z"
   },
   {
    "duration": 133,
    "start_time": "2025-01-12T16:45:44.000Z"
   },
   {
    "duration": 16,
    "start_time": "2025-01-12T16:45:44.136Z"
   },
   {
    "duration": 7,
    "start_time": "2025-01-12T16:45:44.154Z"
   },
   {
    "duration": 449,
    "start_time": "2025-01-12T16:45:44.163Z"
   },
   {
    "duration": 5,
    "start_time": "2025-01-12T16:45:44.614Z"
   },
   {
    "duration": 27,
    "start_time": "2025-01-12T16:45:44.621Z"
   },
   {
    "duration": 7,
    "start_time": "2025-01-12T16:45:44.650Z"
   },
   {
    "duration": 27,
    "start_time": "2025-01-12T16:45:44.659Z"
   },
   {
    "duration": 144,
    "start_time": "2025-01-12T16:45:44.688Z"
   },
   {
    "duration": 163,
    "start_time": "2025-01-12T16:45:44.834Z"
   },
   {
    "duration": 650,
    "start_time": "2025-01-12T16:52:02.966Z"
   },
   {
    "duration": 75,
    "start_time": "2025-01-12T16:52:03.618Z"
   },
   {
    "duration": 11,
    "start_time": "2025-01-12T16:52:03.694Z"
   },
   {
    "duration": 22,
    "start_time": "2025-01-12T16:52:03.707Z"
   },
   {
    "duration": 24,
    "start_time": "2025-01-12T16:52:03.732Z"
   },
   {
    "duration": 29,
    "start_time": "2025-01-12T16:52:03.758Z"
   },
   {
    "duration": 6,
    "start_time": "2025-01-12T16:52:03.789Z"
   },
   {
    "duration": 16,
    "start_time": "2025-01-12T16:52:03.797Z"
   },
   {
    "duration": 27,
    "start_time": "2025-01-12T16:52:03.814Z"
   },
   {
    "duration": 5,
    "start_time": "2025-01-12T16:52:03.842Z"
   },
   {
    "duration": 21,
    "start_time": "2025-01-12T16:52:03.849Z"
   },
   {
    "duration": 15,
    "start_time": "2025-01-12T16:52:03.872Z"
   },
   {
    "duration": 6,
    "start_time": "2025-01-12T16:52:03.888Z"
   },
   {
    "duration": 8,
    "start_time": "2025-01-12T16:52:03.897Z"
   },
   {
    "duration": 20,
    "start_time": "2025-01-12T16:52:03.907Z"
   },
   {
    "duration": 13,
    "start_time": "2025-01-12T16:52:03.929Z"
   },
   {
    "duration": 38,
    "start_time": "2025-01-12T16:52:03.944Z"
   },
   {
    "duration": 5,
    "start_time": "2025-01-12T16:52:03.983Z"
   },
   {
    "duration": 15,
    "start_time": "2025-01-12T16:52:03.990Z"
   },
   {
    "duration": 24,
    "start_time": "2025-01-12T16:52:04.007Z"
   },
   {
    "duration": 14,
    "start_time": "2025-01-12T16:52:04.033Z"
   },
   {
    "duration": 21,
    "start_time": "2025-01-12T16:52:04.049Z"
   },
   {
    "duration": 5,
    "start_time": "2025-01-12T16:52:04.072Z"
   },
   {
    "duration": 9,
    "start_time": "2025-01-12T16:52:04.079Z"
   },
   {
    "duration": 223,
    "start_time": "2025-01-12T16:52:04.089Z"
   },
   {
    "duration": 200,
    "start_time": "2025-01-12T16:52:04.313Z"
   },
   {
    "duration": 6,
    "start_time": "2025-01-12T16:52:04.515Z"
   },
   {
    "duration": 15,
    "start_time": "2025-01-12T16:52:04.523Z"
   },
   {
    "duration": 106,
    "start_time": "2025-01-12T16:52:04.541Z"
   },
   {
    "duration": 9,
    "start_time": "2025-01-12T16:52:04.649Z"
   },
   {
    "duration": 89,
    "start_time": "2025-01-12T16:52:04.660Z"
   },
   {
    "duration": 11,
    "start_time": "2025-01-12T16:52:04.751Z"
   },
   {
    "duration": 7,
    "start_time": "2025-01-12T16:52:04.763Z"
   },
   {
    "duration": 252,
    "start_time": "2025-01-12T16:52:04.771Z"
   },
   {
    "duration": 13,
    "start_time": "2025-01-12T16:52:05.025Z"
   },
   {
    "duration": 20,
    "start_time": "2025-01-12T16:52:05.040Z"
   },
   {
    "duration": 9,
    "start_time": "2025-01-12T16:52:05.062Z"
   },
   {
    "duration": 151,
    "start_time": "2025-01-12T16:52:05.073Z"
   },
   {
    "duration": 14,
    "start_time": "2025-01-12T16:52:05.226Z"
   },
   {
    "duration": 10,
    "start_time": "2025-01-12T16:52:05.242Z"
   },
   {
    "duration": 135,
    "start_time": "2025-01-12T16:52:05.259Z"
   },
   {
    "duration": 11,
    "start_time": "2025-01-12T16:52:05.396Z"
   },
   {
    "duration": 25,
    "start_time": "2025-01-12T16:52:05.409Z"
   },
   {
    "duration": 25,
    "start_time": "2025-01-12T16:52:05.435Z"
   },
   {
    "duration": 65,
    "start_time": "2025-01-12T16:52:05.462Z"
   },
   {
    "duration": 47,
    "start_time": "2025-01-12T16:52:05.529Z"
   },
   {
    "duration": 63,
    "start_time": "2025-01-12T16:52:05.578Z"
   },
   {
    "duration": 61,
    "start_time": "2025-01-12T16:52:05.643Z"
   },
   {
    "duration": 35,
    "start_time": "2025-01-12T16:52:05.706Z"
   },
   {
    "duration": 16,
    "start_time": "2025-01-12T16:52:05.744Z"
   },
   {
    "duration": 17,
    "start_time": "2025-01-12T16:52:05.763Z"
   },
   {
    "duration": 42,
    "start_time": "2025-01-12T16:52:05.782Z"
   },
   {
    "duration": 233,
    "start_time": "2025-01-12T16:52:05.826Z"
   },
   {
    "duration": 5,
    "start_time": "2025-01-12T16:52:06.061Z"
   },
   {
    "duration": 276,
    "start_time": "2025-01-12T16:52:06.068Z"
   },
   {
    "duration": 3,
    "start_time": "2025-01-12T16:52:06.346Z"
   },
   {
    "duration": 245,
    "start_time": "2025-01-12T16:52:06.351Z"
   },
   {
    "duration": 10,
    "start_time": "2025-01-12T16:52:06.598Z"
   },
   {
    "duration": 13,
    "start_time": "2025-01-12T16:52:06.610Z"
   },
   {
    "duration": 17,
    "start_time": "2025-01-12T16:52:06.637Z"
   },
   {
    "duration": 152,
    "start_time": "2025-01-12T16:52:06.656Z"
   },
   {
    "duration": 16,
    "start_time": "2025-01-12T16:52:06.810Z"
   },
   {
    "duration": 14,
    "start_time": "2025-01-12T16:52:06.842Z"
   },
   {
    "duration": 24,
    "start_time": "2025-01-12T16:52:06.857Z"
   },
   {
    "duration": 19,
    "start_time": "2025-01-12T16:52:06.884Z"
   },
   {
    "duration": 32,
    "start_time": "2025-01-12T16:52:06.905Z"
   },
   {
    "duration": 21,
    "start_time": "2025-01-12T16:52:06.939Z"
   },
   {
    "duration": 18,
    "start_time": "2025-01-12T16:52:06.961Z"
   },
   {
    "duration": 245,
    "start_time": "2025-01-12T16:52:06.981Z"
   },
   {
    "duration": 18,
    "start_time": "2025-01-12T16:52:07.228Z"
   },
   {
    "duration": 16,
    "start_time": "2025-01-12T16:52:07.248Z"
   },
   {
    "duration": 11,
    "start_time": "2025-01-12T16:52:07.266Z"
   },
   {
    "duration": 37,
    "start_time": "2025-01-12T16:52:07.279Z"
   },
   {
    "duration": 24,
    "start_time": "2025-01-12T16:52:07.318Z"
   },
   {
    "duration": 25,
    "start_time": "2025-01-12T16:52:07.345Z"
   },
   {
    "duration": 8,
    "start_time": "2025-01-12T16:52:07.372Z"
   },
   {
    "duration": 47,
    "start_time": "2025-01-12T16:52:07.382Z"
   },
   {
    "duration": 33,
    "start_time": "2025-01-12T16:52:07.431Z"
   },
   {
    "duration": 19,
    "start_time": "2025-01-12T16:52:07.465Z"
   },
   {
    "duration": 103,
    "start_time": "2025-01-12T16:52:07.486Z"
   },
   {
    "duration": 45,
    "start_time": "2025-01-12T16:52:07.590Z"
   },
   {
    "duration": 18,
    "start_time": "2025-01-12T16:52:07.637Z"
   },
   {
    "duration": 14,
    "start_time": "2025-01-12T16:52:07.657Z"
   },
   {
    "duration": 357,
    "start_time": "2025-01-12T16:52:07.673Z"
   },
   {
    "duration": 390,
    "start_time": "2025-01-12T16:52:08.032Z"
   },
   {
    "duration": 68,
    "start_time": "2025-01-12T16:52:08.424Z"
   },
   {
    "duration": 6,
    "start_time": "2025-01-12T16:52:08.494Z"
   },
   {
    "duration": 46,
    "start_time": "2025-01-12T16:52:08.501Z"
   },
   {
    "duration": 32,
    "start_time": "2025-01-12T16:52:08.549Z"
   },
   {
    "duration": 85,
    "start_time": "2025-01-12T16:52:08.583Z"
   },
   {
    "duration": 0,
    "start_time": "2025-01-12T16:52:08.670Z"
   },
   {
    "duration": 0,
    "start_time": "2025-01-12T16:52:08.672Z"
   },
   {
    "duration": 0,
    "start_time": "2025-01-12T16:52:08.674Z"
   },
   {
    "duration": 0,
    "start_time": "2025-01-12T16:52:08.675Z"
   },
   {
    "duration": 0,
    "start_time": "2025-01-12T16:52:08.676Z"
   },
   {
    "duration": 0,
    "start_time": "2025-01-12T16:52:08.677Z"
   },
   {
    "duration": 0,
    "start_time": "2025-01-12T16:52:08.678Z"
   },
   {
    "duration": 0,
    "start_time": "2025-01-12T16:52:08.680Z"
   },
   {
    "duration": 0,
    "start_time": "2025-01-12T16:52:08.681Z"
   },
   {
    "duration": 83,
    "start_time": "2025-01-12T16:52:18.439Z"
   },
   {
    "duration": 15,
    "start_time": "2025-01-12T16:52:36.170Z"
   },
   {
    "duration": 14,
    "start_time": "2025-01-12T16:52:43.096Z"
   },
   {
    "duration": 22,
    "start_time": "2025-01-12T16:52:48.706Z"
   },
   {
    "duration": 717,
    "start_time": "2025-01-12T16:54:34.024Z"
   },
   {
    "duration": 70,
    "start_time": "2025-01-12T16:54:34.743Z"
   },
   {
    "duration": 11,
    "start_time": "2025-01-12T16:54:34.815Z"
   },
   {
    "duration": 11,
    "start_time": "2025-01-12T16:54:34.827Z"
   },
   {
    "duration": 30,
    "start_time": "2025-01-12T16:54:34.840Z"
   },
   {
    "duration": 13,
    "start_time": "2025-01-12T16:54:34.871Z"
   },
   {
    "duration": 6,
    "start_time": "2025-01-12T16:54:34.886Z"
   },
   {
    "duration": 9,
    "start_time": "2025-01-12T16:54:34.893Z"
   },
   {
    "duration": 18,
    "start_time": "2025-01-12T16:54:34.904Z"
   },
   {
    "duration": 3,
    "start_time": "2025-01-12T16:54:34.924Z"
   },
   {
    "duration": 8,
    "start_time": "2025-01-12T16:54:34.937Z"
   },
   {
    "duration": 17,
    "start_time": "2025-01-12T16:54:34.946Z"
   },
   {
    "duration": 6,
    "start_time": "2025-01-12T16:54:34.964Z"
   },
   {
    "duration": 6,
    "start_time": "2025-01-12T16:54:34.973Z"
   },
   {
    "duration": 13,
    "start_time": "2025-01-12T16:54:34.980Z"
   },
   {
    "duration": 12,
    "start_time": "2025-01-12T16:54:34.994Z"
   },
   {
    "duration": 30,
    "start_time": "2025-01-12T16:54:35.007Z"
   },
   {
    "duration": 6,
    "start_time": "2025-01-12T16:54:35.038Z"
   },
   {
    "duration": 25,
    "start_time": "2025-01-12T16:54:35.045Z"
   },
   {
    "duration": 57,
    "start_time": "2025-01-12T16:54:35.071Z"
   },
   {
    "duration": 11,
    "start_time": "2025-01-12T16:54:35.129Z"
   },
   {
    "duration": 14,
    "start_time": "2025-01-12T16:54:35.141Z"
   },
   {
    "duration": 9,
    "start_time": "2025-01-12T16:54:35.157Z"
   },
   {
    "duration": 13,
    "start_time": "2025-01-12T16:54:35.167Z"
   },
   {
    "duration": 218,
    "start_time": "2025-01-12T16:54:35.182Z"
   },
   {
    "duration": 205,
    "start_time": "2025-01-12T16:54:35.402Z"
   },
   {
    "duration": 7,
    "start_time": "2025-01-12T16:54:35.609Z"
   },
   {
    "duration": 10,
    "start_time": "2025-01-12T16:54:35.617Z"
   },
   {
    "duration": 85,
    "start_time": "2025-01-12T16:54:35.638Z"
   },
   {
    "duration": 7,
    "start_time": "2025-01-12T16:54:35.724Z"
   },
   {
    "duration": 79,
    "start_time": "2025-01-12T16:54:35.737Z"
   },
   {
    "duration": 26,
    "start_time": "2025-01-12T16:54:35.817Z"
   },
   {
    "duration": 15,
    "start_time": "2025-01-12T16:54:35.844Z"
   },
   {
    "duration": 228,
    "start_time": "2025-01-12T16:54:35.860Z"
   },
   {
    "duration": 5,
    "start_time": "2025-01-12T16:54:36.089Z"
   },
   {
    "duration": 28,
    "start_time": "2025-01-12T16:54:36.097Z"
   },
   {
    "duration": 2,
    "start_time": "2025-01-12T16:54:36.127Z"
   },
   {
    "duration": 107,
    "start_time": "2025-01-12T16:54:36.136Z"
   },
   {
    "duration": 9,
    "start_time": "2025-01-12T16:54:36.245Z"
   },
   {
    "duration": 39,
    "start_time": "2025-01-12T16:54:36.256Z"
   },
   {
    "duration": 112,
    "start_time": "2025-01-12T16:54:36.300Z"
   },
   {
    "duration": 11,
    "start_time": "2025-01-12T16:54:36.414Z"
   },
   {
    "duration": 12,
    "start_time": "2025-01-12T16:54:36.427Z"
   },
   {
    "duration": 13,
    "start_time": "2025-01-12T16:54:36.441Z"
   },
   {
    "duration": 22,
    "start_time": "2025-01-12T16:54:36.455Z"
   },
   {
    "duration": 27,
    "start_time": "2025-01-12T16:54:36.479Z"
   },
   {
    "duration": 40,
    "start_time": "2025-01-12T16:54:36.508Z"
   },
   {
    "duration": 40,
    "start_time": "2025-01-12T16:54:36.549Z"
   },
   {
    "duration": 8,
    "start_time": "2025-01-12T16:54:36.590Z"
   },
   {
    "duration": 7,
    "start_time": "2025-01-12T16:54:36.600Z"
   },
   {
    "duration": 4,
    "start_time": "2025-01-12T16:54:36.608Z"
   },
   {
    "duration": 3,
    "start_time": "2025-01-12T16:54:36.614Z"
   },
   {
    "duration": 232,
    "start_time": "2025-01-12T16:54:36.618Z"
   },
   {
    "duration": 3,
    "start_time": "2025-01-12T16:54:36.852Z"
   },
   {
    "duration": 284,
    "start_time": "2025-01-12T16:54:36.856Z"
   },
   {
    "duration": 2,
    "start_time": "2025-01-12T16:54:37.142Z"
   },
   {
    "duration": 248,
    "start_time": "2025-01-12T16:54:37.146Z"
   },
   {
    "duration": 9,
    "start_time": "2025-01-12T16:54:37.396Z"
   },
   {
    "duration": 9,
    "start_time": "2025-01-12T16:54:37.407Z"
   },
   {
    "duration": 32,
    "start_time": "2025-01-12T16:54:37.417Z"
   },
   {
    "duration": 133,
    "start_time": "2025-01-12T16:54:37.450Z"
   },
   {
    "duration": 17,
    "start_time": "2025-01-12T16:54:37.585Z"
   },
   {
    "duration": 2,
    "start_time": "2025-01-12T16:54:37.604Z"
   },
   {
    "duration": 33,
    "start_time": "2025-01-12T16:54:37.607Z"
   },
   {
    "duration": 12,
    "start_time": "2025-01-12T16:54:37.642Z"
   },
   {
    "duration": 8,
    "start_time": "2025-01-12T16:54:37.656Z"
   },
   {
    "duration": 5,
    "start_time": "2025-01-12T16:54:37.666Z"
   },
   {
    "duration": 3,
    "start_time": "2025-01-12T16:54:37.673Z"
   },
   {
    "duration": 215,
    "start_time": "2025-01-12T16:54:37.678Z"
   },
   {
    "duration": 9,
    "start_time": "2025-01-12T16:54:37.895Z"
   },
   {
    "duration": 5,
    "start_time": "2025-01-12T16:54:37.906Z"
   },
   {
    "duration": 4,
    "start_time": "2025-01-12T16:54:37.912Z"
   },
   {
    "duration": 31,
    "start_time": "2025-01-12T16:54:37.938Z"
   },
   {
    "duration": 9,
    "start_time": "2025-01-12T16:54:37.971Z"
   },
   {
    "duration": 20,
    "start_time": "2025-01-12T16:54:37.981Z"
   },
   {
    "duration": 35,
    "start_time": "2025-01-12T16:54:38.003Z"
   },
   {
    "duration": 13,
    "start_time": "2025-01-12T16:54:38.040Z"
   },
   {
    "duration": 5,
    "start_time": "2025-01-12T16:54:38.055Z"
   },
   {
    "duration": 9,
    "start_time": "2025-01-12T16:54:38.062Z"
   },
   {
    "duration": 92,
    "start_time": "2025-01-12T16:54:38.073Z"
   },
   {
    "duration": 15,
    "start_time": "2025-01-12T16:54:38.167Z"
   },
   {
    "duration": 6,
    "start_time": "2025-01-12T16:54:38.184Z"
   },
   {
    "duration": 5,
    "start_time": "2025-01-12T16:54:38.191Z"
   },
   {
    "duration": 383,
    "start_time": "2025-01-12T16:54:38.197Z"
   },
   {
    "duration": 305,
    "start_time": "2025-01-12T16:54:38.581Z"
   },
   {
    "duration": 55,
    "start_time": "2025-01-12T16:54:38.888Z"
   },
   {
    "duration": 6,
    "start_time": "2025-01-12T16:54:38.945Z"
   },
   {
    "duration": 15,
    "start_time": "2025-01-12T16:54:38.953Z"
   },
   {
    "duration": 3,
    "start_time": "2025-01-12T16:54:38.970Z"
   },
   {
    "duration": 21,
    "start_time": "2025-01-12T16:54:38.976Z"
   },
   {
    "duration": 52,
    "start_time": "2025-01-12T16:54:38.999Z"
   },
   {
    "duration": 6,
    "start_time": "2025-01-12T16:54:39.052Z"
   },
   {
    "duration": 406,
    "start_time": "2025-01-12T16:54:39.060Z"
   },
   {
    "duration": 5,
    "start_time": "2025-01-12T16:54:39.467Z"
   },
   {
    "duration": 9,
    "start_time": "2025-01-12T16:54:39.474Z"
   },
   {
    "duration": 4,
    "start_time": "2025-01-12T16:54:39.485Z"
   },
   {
    "duration": 10,
    "start_time": "2025-01-12T16:54:39.491Z"
   },
   {
    "duration": 167,
    "start_time": "2025-01-12T16:54:39.502Z"
   },
   {
    "duration": 156,
    "start_time": "2025-01-12T16:54:39.671Z"
   },
   {
    "duration": 675,
    "start_time": "2025-01-12T16:56:46.596Z"
   },
   {
    "duration": 70,
    "start_time": "2025-01-12T16:56:47.273Z"
   },
   {
    "duration": 11,
    "start_time": "2025-01-12T16:56:47.345Z"
   },
   {
    "duration": 11,
    "start_time": "2025-01-12T16:56:47.358Z"
   },
   {
    "duration": 8,
    "start_time": "2025-01-12T16:56:47.371Z"
   },
   {
    "duration": 10,
    "start_time": "2025-01-12T16:56:47.381Z"
   },
   {
    "duration": 7,
    "start_time": "2025-01-12T16:56:47.392Z"
   },
   {
    "duration": 45,
    "start_time": "2025-01-12T16:56:47.401Z"
   },
   {
    "duration": 19,
    "start_time": "2025-01-12T16:56:47.448Z"
   },
   {
    "duration": 5,
    "start_time": "2025-01-12T16:56:47.470Z"
   },
   {
    "duration": 5,
    "start_time": "2025-01-12T16:56:47.477Z"
   },
   {
    "duration": 12,
    "start_time": "2025-01-12T16:56:47.483Z"
   },
   {
    "duration": 91,
    "start_time": "2025-01-12T16:56:47.497Z"
   },
   {
    "duration": 6,
    "start_time": "2025-01-12T16:56:47.590Z"
   },
   {
    "duration": 12,
    "start_time": "2025-01-12T16:56:47.598Z"
   },
   {
    "duration": 6,
    "start_time": "2025-01-12T16:56:47.611Z"
   },
   {
    "duration": 8,
    "start_time": "2025-01-12T16:56:47.619Z"
   },
   {
    "duration": 6,
    "start_time": "2025-01-12T16:56:47.628Z"
   },
   {
    "duration": 8,
    "start_time": "2025-01-12T16:56:47.635Z"
   },
   {
    "duration": 13,
    "start_time": "2025-01-12T16:56:47.644Z"
   },
   {
    "duration": 9,
    "start_time": "2025-01-12T16:56:47.659Z"
   },
   {
    "duration": 2,
    "start_time": "2025-01-12T16:56:47.670Z"
   },
   {
    "duration": 11,
    "start_time": "2025-01-12T16:56:47.674Z"
   },
   {
    "duration": 4,
    "start_time": "2025-01-12T16:56:47.686Z"
   },
   {
    "duration": 222,
    "start_time": "2025-01-12T16:56:47.691Z"
   },
   {
    "duration": 192,
    "start_time": "2025-01-12T16:56:47.914Z"
   },
   {
    "duration": 6,
    "start_time": "2025-01-12T16:56:48.107Z"
   },
   {
    "duration": 2,
    "start_time": "2025-01-12T16:56:48.117Z"
   },
   {
    "duration": 94,
    "start_time": "2025-01-12T16:56:48.121Z"
   },
   {
    "duration": 23,
    "start_time": "2025-01-12T16:56:48.217Z"
   },
   {
    "duration": 112,
    "start_time": "2025-01-12T16:56:48.242Z"
   },
   {
    "duration": 7,
    "start_time": "2025-01-12T16:56:48.356Z"
   },
   {
    "duration": 4,
    "start_time": "2025-01-12T16:56:48.365Z"
   },
   {
    "duration": 237,
    "start_time": "2025-01-12T16:56:48.370Z"
   },
   {
    "duration": 6,
    "start_time": "2025-01-12T16:56:48.608Z"
   },
   {
    "duration": 29,
    "start_time": "2025-01-12T16:56:48.616Z"
   },
   {
    "duration": 3,
    "start_time": "2025-01-12T16:56:48.646Z"
   },
   {
    "duration": 117,
    "start_time": "2025-01-12T16:56:48.650Z"
   },
   {
    "duration": 9,
    "start_time": "2025-01-12T16:56:48.769Z"
   },
   {
    "duration": 3,
    "start_time": "2025-01-12T16:56:48.780Z"
   },
   {
    "duration": 130,
    "start_time": "2025-01-12T16:56:48.785Z"
   },
   {
    "duration": 21,
    "start_time": "2025-01-12T16:56:48.917Z"
   },
   {
    "duration": 13,
    "start_time": "2025-01-12T16:56:48.940Z"
   },
   {
    "duration": 9,
    "start_time": "2025-01-12T16:56:48.955Z"
   },
   {
    "duration": 8,
    "start_time": "2025-01-12T16:56:48.966Z"
   },
   {
    "duration": 7,
    "start_time": "2025-01-12T16:56:48.976Z"
   },
   {
    "duration": 5,
    "start_time": "2025-01-12T16:56:48.985Z"
   },
   {
    "duration": 17,
    "start_time": "2025-01-12T16:56:48.992Z"
   },
   {
    "duration": 7,
    "start_time": "2025-01-12T16:56:49.011Z"
   },
   {
    "duration": 23,
    "start_time": "2025-01-12T16:56:49.020Z"
   },
   {
    "duration": 12,
    "start_time": "2025-01-12T16:56:49.045Z"
   },
   {
    "duration": 3,
    "start_time": "2025-01-12T16:56:49.058Z"
   },
   {
    "duration": 228,
    "start_time": "2025-01-12T16:56:49.062Z"
   },
   {
    "duration": 2,
    "start_time": "2025-01-12T16:56:49.292Z"
   },
   {
    "duration": 245,
    "start_time": "2025-01-12T16:56:49.296Z"
   },
   {
    "duration": 2,
    "start_time": "2025-01-12T16:56:49.543Z"
   },
   {
    "duration": 256,
    "start_time": "2025-01-12T16:56:49.547Z"
   },
   {
    "duration": 8,
    "start_time": "2025-01-12T16:56:49.805Z"
   },
   {
    "duration": 23,
    "start_time": "2025-01-12T16:56:49.815Z"
   },
   {
    "duration": 2,
    "start_time": "2025-01-12T16:56:49.839Z"
   },
   {
    "duration": 122,
    "start_time": "2025-01-12T16:56:49.843Z"
   },
   {
    "duration": 16,
    "start_time": "2025-01-12T16:56:49.966Z"
   },
   {
    "duration": 4,
    "start_time": "2025-01-12T16:56:49.983Z"
   },
   {
    "duration": 15,
    "start_time": "2025-01-12T16:56:49.988Z"
   },
   {
    "duration": 35,
    "start_time": "2025-01-12T16:56:50.005Z"
   },
   {
    "duration": 25,
    "start_time": "2025-01-12T16:56:50.041Z"
   },
   {
    "duration": 14,
    "start_time": "2025-01-12T16:56:50.068Z"
   },
   {
    "duration": 2,
    "start_time": "2025-01-12T16:56:50.084Z"
   },
   {
    "duration": 196,
    "start_time": "2025-01-12T16:56:50.087Z"
   },
   {
    "duration": 9,
    "start_time": "2025-01-12T16:56:50.285Z"
   },
   {
    "duration": 5,
    "start_time": "2025-01-12T16:56:50.296Z"
   },
   {
    "duration": 11,
    "start_time": "2025-01-12T16:56:50.303Z"
   },
   {
    "duration": 49,
    "start_time": "2025-01-12T16:56:50.316Z"
   },
   {
    "duration": 9,
    "start_time": "2025-01-12T16:56:50.366Z"
   },
   {
    "duration": 23,
    "start_time": "2025-01-12T16:56:50.377Z"
   },
   {
    "duration": 8,
    "start_time": "2025-01-12T16:56:50.401Z"
   },
   {
    "duration": 33,
    "start_time": "2025-01-12T16:56:50.410Z"
   },
   {
    "duration": 2,
    "start_time": "2025-01-12T16:56:50.445Z"
   },
   {
    "duration": 93,
    "start_time": "2025-01-12T16:56:50.449Z"
   },
   {
    "duration": 22,
    "start_time": "2025-01-12T16:56:50.544Z"
   },
   {
    "duration": 42,
    "start_time": "2025-01-12T16:56:50.567Z"
   },
   {
    "duration": 3,
    "start_time": "2025-01-12T16:56:50.615Z"
   },
   {
    "duration": 6,
    "start_time": "2025-01-12T16:56:50.619Z"
   },
   {
    "duration": 343,
    "start_time": "2025-01-12T16:56:50.626Z"
   },
   {
    "duration": 301,
    "start_time": "2025-01-12T16:56:50.971Z"
   },
   {
    "duration": 45,
    "start_time": "2025-01-12T16:56:51.273Z"
   },
   {
    "duration": 19,
    "start_time": "2025-01-12T16:56:51.319Z"
   },
   {
    "duration": 31,
    "start_time": "2025-01-12T16:56:51.340Z"
   },
   {
    "duration": 3,
    "start_time": "2025-01-12T16:56:51.372Z"
   },
   {
    "duration": 41,
    "start_time": "2025-01-12T16:56:51.376Z"
   },
   {
    "duration": 14,
    "start_time": "2025-01-12T16:56:51.419Z"
   },
   {
    "duration": 14,
    "start_time": "2025-01-12T16:56:51.434Z"
   },
   {
    "duration": 405,
    "start_time": "2025-01-12T16:56:51.450Z"
   },
   {
    "duration": 5,
    "start_time": "2025-01-12T16:56:51.856Z"
   },
   {
    "duration": 36,
    "start_time": "2025-01-12T16:56:51.862Z"
   },
   {
    "duration": 4,
    "start_time": "2025-01-12T16:56:51.899Z"
   },
   {
    "duration": 8,
    "start_time": "2025-01-12T16:56:51.905Z"
   },
   {
    "duration": 124,
    "start_time": "2025-01-12T16:56:51.915Z"
   },
   {
    "duration": 151,
    "start_time": "2025-01-12T16:56:52.041Z"
   },
   {
    "duration": 318,
    "start_time": "2025-01-12T17:04:50.219Z"
   },
   {
    "duration": 324,
    "start_time": "2025-01-12T17:04:55.539Z"
   },
   {
    "duration": 697,
    "start_time": "2025-01-12T17:05:06.946Z"
   },
   {
    "duration": 71,
    "start_time": "2025-01-12T17:05:07.645Z"
   },
   {
    "duration": 12,
    "start_time": "2025-01-12T17:05:07.718Z"
   },
   {
    "duration": 12,
    "start_time": "2025-01-12T17:05:07.731Z"
   },
   {
    "duration": 9,
    "start_time": "2025-01-12T17:05:07.745Z"
   },
   {
    "duration": 15,
    "start_time": "2025-01-12T17:05:07.755Z"
   },
   {
    "duration": 6,
    "start_time": "2025-01-12T17:05:07.772Z"
   },
   {
    "duration": 10,
    "start_time": "2025-01-12T17:05:07.779Z"
   },
   {
    "duration": 16,
    "start_time": "2025-01-12T17:05:07.791Z"
   },
   {
    "duration": 29,
    "start_time": "2025-01-12T17:05:07.809Z"
   },
   {
    "duration": 4,
    "start_time": "2025-01-12T17:05:07.840Z"
   },
   {
    "duration": 19,
    "start_time": "2025-01-12T17:05:07.846Z"
   },
   {
    "duration": 6,
    "start_time": "2025-01-12T17:05:07.866Z"
   },
   {
    "duration": 6,
    "start_time": "2025-01-12T17:05:07.875Z"
   },
   {
    "duration": 14,
    "start_time": "2025-01-12T17:05:07.883Z"
   },
   {
    "duration": 7,
    "start_time": "2025-01-12T17:05:07.898Z"
   },
   {
    "duration": 10,
    "start_time": "2025-01-12T17:05:07.938Z"
   },
   {
    "duration": 7,
    "start_time": "2025-01-12T17:05:07.949Z"
   },
   {
    "duration": 12,
    "start_time": "2025-01-12T17:05:07.958Z"
   },
   {
    "duration": 7,
    "start_time": "2025-01-12T17:05:07.972Z"
   },
   {
    "duration": 10,
    "start_time": "2025-01-12T17:05:07.981Z"
   },
   {
    "duration": 2,
    "start_time": "2025-01-12T17:05:07.992Z"
   },
   {
    "duration": 42,
    "start_time": "2025-01-12T17:05:07.996Z"
   },
   {
    "duration": 2,
    "start_time": "2025-01-12T17:05:08.040Z"
   },
   {
    "duration": 250,
    "start_time": "2025-01-12T17:05:08.043Z"
   },
   {
    "duration": 206,
    "start_time": "2025-01-12T17:05:08.295Z"
   },
   {
    "duration": 6,
    "start_time": "2025-01-12T17:05:08.503Z"
   },
   {
    "duration": 10,
    "start_time": "2025-01-12T17:05:08.511Z"
   },
   {
    "duration": 93,
    "start_time": "2025-01-12T17:05:08.522Z"
   },
   {
    "duration": 6,
    "start_time": "2025-01-12T17:05:08.617Z"
   },
   {
    "duration": 93,
    "start_time": "2025-01-12T17:05:08.624Z"
   },
   {
    "duration": 23,
    "start_time": "2025-01-12T17:05:08.719Z"
   },
   {
    "duration": 2,
    "start_time": "2025-01-12T17:05:08.744Z"
   },
   {
    "duration": 236,
    "start_time": "2025-01-12T17:05:08.747Z"
   },
   {
    "duration": 5,
    "start_time": "2025-01-12T17:05:08.984Z"
   },
   {
    "duration": 21,
    "start_time": "2025-01-12T17:05:08.991Z"
   },
   {
    "duration": 3,
    "start_time": "2025-01-12T17:05:09.014Z"
   },
   {
    "duration": 121,
    "start_time": "2025-01-12T17:05:09.018Z"
   },
   {
    "duration": 9,
    "start_time": "2025-01-12T17:05:09.141Z"
   },
   {
    "duration": 8,
    "start_time": "2025-01-12T17:05:09.151Z"
   },
   {
    "duration": 121,
    "start_time": "2025-01-12T17:05:09.163Z"
   },
   {
    "duration": 10,
    "start_time": "2025-01-12T17:05:09.286Z"
   },
   {
    "duration": 7,
    "start_time": "2025-01-12T17:05:09.298Z"
   },
   {
    "duration": 4,
    "start_time": "2025-01-12T17:05:09.306Z"
   },
   {
    "duration": 27,
    "start_time": "2025-01-12T17:05:09.311Z"
   },
   {
    "duration": 2,
    "start_time": "2025-01-12T17:05:09.340Z"
   },
   {
    "duration": 3,
    "start_time": "2025-01-12T17:05:09.344Z"
   },
   {
    "duration": 17,
    "start_time": "2025-01-12T17:05:09.349Z"
   },
   {
    "duration": 7,
    "start_time": "2025-01-12T17:05:09.368Z"
   },
   {
    "duration": 7,
    "start_time": "2025-01-12T17:05:09.376Z"
   },
   {
    "duration": 3,
    "start_time": "2025-01-12T17:05:09.384Z"
   },
   {
    "duration": 5,
    "start_time": "2025-01-12T17:05:09.388Z"
   },
   {
    "duration": 251,
    "start_time": "2025-01-12T17:05:09.395Z"
   },
   {
    "duration": 2,
    "start_time": "2025-01-12T17:05:09.648Z"
   },
   {
    "duration": 242,
    "start_time": "2025-01-12T17:05:09.652Z"
   },
   {
    "duration": 2,
    "start_time": "2025-01-12T17:05:09.896Z"
   },
   {
    "duration": 254,
    "start_time": "2025-01-12T17:05:09.900Z"
   },
   {
    "duration": 10,
    "start_time": "2025-01-12T17:05:10.155Z"
   },
   {
    "duration": 10,
    "start_time": "2025-01-12T17:05:10.166Z"
   },
   {
    "duration": 4,
    "start_time": "2025-01-12T17:05:10.178Z"
   },
   {
    "duration": 146,
    "start_time": "2025-01-12T17:05:10.183Z"
   },
   {
    "duration": 16,
    "start_time": "2025-01-12T17:05:10.336Z"
   },
   {
    "duration": 3,
    "start_time": "2025-01-12T17:05:10.354Z"
   },
   {
    "duration": 4,
    "start_time": "2025-01-12T17:05:10.358Z"
   },
   {
    "duration": 15,
    "start_time": "2025-01-12T17:05:10.363Z"
   },
   {
    "duration": 11,
    "start_time": "2025-01-12T17:05:10.379Z"
   },
   {
    "duration": 11,
    "start_time": "2025-01-12T17:05:10.392Z"
   },
   {
    "duration": 4,
    "start_time": "2025-01-12T17:05:10.405Z"
   },
   {
    "duration": 213,
    "start_time": "2025-01-12T17:05:10.438Z"
   },
   {
    "duration": 8,
    "start_time": "2025-01-12T17:05:10.653Z"
   },
   {
    "duration": 9,
    "start_time": "2025-01-12T17:05:10.663Z"
   },
   {
    "duration": 4,
    "start_time": "2025-01-12T17:05:10.674Z"
   },
   {
    "duration": 58,
    "start_time": "2025-01-12T17:05:10.679Z"
   },
   {
    "duration": 11,
    "start_time": "2025-01-12T17:05:10.739Z"
   },
   {
    "duration": 23,
    "start_time": "2025-01-12T17:05:10.752Z"
   },
   {
    "duration": 8,
    "start_time": "2025-01-12T17:05:10.777Z"
   },
   {
    "duration": 13,
    "start_time": "2025-01-12T17:05:10.787Z"
   },
   {
    "duration": 3,
    "start_time": "2025-01-12T17:05:10.838Z"
   },
   {
    "duration": 5,
    "start_time": "2025-01-12T17:05:10.843Z"
   },
   {
    "duration": 98,
    "start_time": "2025-01-12T17:05:10.850Z"
   },
   {
    "duration": 13,
    "start_time": "2025-01-12T17:05:10.949Z"
   },
   {
    "duration": 3,
    "start_time": "2025-01-12T17:05:10.963Z"
   },
   {
    "duration": 2,
    "start_time": "2025-01-12T17:05:10.968Z"
   },
   {
    "duration": 298,
    "start_time": "2025-01-12T17:05:10.971Z"
   },
   {
    "duration": 297,
    "start_time": "2025-01-12T17:05:11.270Z"
   },
   {
    "duration": 45,
    "start_time": "2025-01-12T17:05:11.569Z"
   },
   {
    "duration": 6,
    "start_time": "2025-01-12T17:05:11.615Z"
   },
   {
    "duration": 18,
    "start_time": "2025-01-12T17:05:11.638Z"
   },
   {
    "duration": 15,
    "start_time": "2025-01-12T17:05:11.657Z"
   },
   {
    "duration": 25,
    "start_time": "2025-01-12T17:05:11.674Z"
   },
   {
    "duration": 14,
    "start_time": "2025-01-12T17:05:11.701Z"
   },
   {
    "duration": 23,
    "start_time": "2025-01-12T17:05:11.717Z"
   },
   {
    "duration": 415,
    "start_time": "2025-01-12T17:05:11.741Z"
   },
   {
    "duration": 5,
    "start_time": "2025-01-12T17:05:12.157Z"
   },
   {
    "duration": 10,
    "start_time": "2025-01-12T17:05:12.163Z"
   },
   {
    "duration": 5,
    "start_time": "2025-01-12T17:05:12.174Z"
   },
   {
    "duration": 9,
    "start_time": "2025-01-12T17:05:12.181Z"
   },
   {
    "duration": 153,
    "start_time": "2025-01-12T17:05:12.191Z"
   },
   {
    "duration": 167,
    "start_time": "2025-01-12T17:05:12.346Z"
   },
   {
    "duration": 8,
    "start_time": "2025-01-12T17:05:54.066Z"
   },
   {
    "duration": 338,
    "start_time": "2025-01-12T17:06:34.618Z"
   },
   {
    "duration": 9,
    "start_time": "2025-01-12T17:06:42.988Z"
   },
   {
    "duration": 306,
    "start_time": "2025-01-12T17:07:14.793Z"
   },
   {
    "duration": 22,
    "start_time": "2025-01-12T17:17:50.021Z"
   },
   {
    "duration": 711,
    "start_time": "2025-01-12T17:17:58.715Z"
   },
   {
    "duration": 71,
    "start_time": "2025-01-12T17:17:59.428Z"
   },
   {
    "duration": 12,
    "start_time": "2025-01-12T17:17:59.501Z"
   },
   {
    "duration": 10,
    "start_time": "2025-01-12T17:17:59.515Z"
   },
   {
    "duration": 13,
    "start_time": "2025-01-12T17:17:59.527Z"
   },
   {
    "duration": 12,
    "start_time": "2025-01-12T17:17:59.542Z"
   },
   {
    "duration": 6,
    "start_time": "2025-01-12T17:17:59.556Z"
   },
   {
    "duration": 10,
    "start_time": "2025-01-12T17:17:59.563Z"
   },
   {
    "duration": 24,
    "start_time": "2025-01-12T17:17:59.575Z"
   },
   {
    "duration": 4,
    "start_time": "2025-01-12T17:17:59.602Z"
   },
   {
    "duration": 4,
    "start_time": "2025-01-12T17:17:59.608Z"
   },
   {
    "duration": 32,
    "start_time": "2025-01-12T17:17:59.614Z"
   },
   {
    "duration": 6,
    "start_time": "2025-01-12T17:17:59.647Z"
   },
   {
    "duration": 12,
    "start_time": "2025-01-12T17:17:59.654Z"
   },
   {
    "duration": 12,
    "start_time": "2025-01-12T17:17:59.668Z"
   },
   {
    "duration": 6,
    "start_time": "2025-01-12T17:17:59.681Z"
   },
   {
    "duration": 9,
    "start_time": "2025-01-12T17:17:59.689Z"
   },
   {
    "duration": 6,
    "start_time": "2025-01-12T17:17:59.699Z"
   },
   {
    "duration": 8,
    "start_time": "2025-01-12T17:17:59.738Z"
   },
   {
    "duration": 10,
    "start_time": "2025-01-12T17:17:59.747Z"
   },
   {
    "duration": 9,
    "start_time": "2025-01-12T17:17:59.758Z"
   },
   {
    "duration": 3,
    "start_time": "2025-01-12T17:17:59.768Z"
   },
   {
    "duration": 6,
    "start_time": "2025-01-12T17:17:59.773Z"
   },
   {
    "duration": 3,
    "start_time": "2025-01-12T17:17:59.781Z"
   },
   {
    "duration": 237,
    "start_time": "2025-01-12T17:17:59.785Z"
   },
   {
    "duration": 203,
    "start_time": "2025-01-12T17:18:00.024Z"
   },
   {
    "duration": 11,
    "start_time": "2025-01-12T17:18:00.229Z"
   },
   {
    "duration": 22,
    "start_time": "2025-01-12T17:18:00.245Z"
   },
   {
    "duration": 118,
    "start_time": "2025-01-12T17:18:00.269Z"
   },
   {
    "duration": 7,
    "start_time": "2025-01-12T17:18:00.389Z"
   },
   {
    "duration": 98,
    "start_time": "2025-01-12T17:18:00.398Z"
   },
   {
    "duration": 21,
    "start_time": "2025-01-12T17:18:00.498Z"
   },
   {
    "duration": 24,
    "start_time": "2025-01-12T17:18:00.520Z"
   },
   {
    "duration": 272,
    "start_time": "2025-01-12T17:18:00.546Z"
   },
   {
    "duration": 6,
    "start_time": "2025-01-12T17:18:00.819Z"
   },
   {
    "duration": 16,
    "start_time": "2025-01-12T17:18:00.837Z"
   },
   {
    "duration": 16,
    "start_time": "2025-01-12T17:18:00.855Z"
   },
   {
    "duration": 105,
    "start_time": "2025-01-12T17:18:00.873Z"
   },
   {
    "duration": 8,
    "start_time": "2025-01-12T17:18:00.980Z"
   },
   {
    "duration": 28,
    "start_time": "2025-01-12T17:18:00.990Z"
   },
   {
    "duration": 120,
    "start_time": "2025-01-12T17:18:01.019Z"
   },
   {
    "duration": 12,
    "start_time": "2025-01-12T17:18:01.140Z"
   },
   {
    "duration": 35,
    "start_time": "2025-01-12T17:18:01.153Z"
   },
   {
    "duration": 5,
    "start_time": "2025-01-12T17:18:01.190Z"
   },
   {
    "duration": 21,
    "start_time": "2025-01-12T17:18:01.197Z"
   },
   {
    "duration": 12,
    "start_time": "2025-01-12T17:18:01.220Z"
   },
   {
    "duration": 21,
    "start_time": "2025-01-12T17:18:01.233Z"
   },
   {
    "duration": 29,
    "start_time": "2025-01-12T17:18:01.256Z"
   },
   {
    "duration": 9,
    "start_time": "2025-01-12T17:18:01.287Z"
   },
   {
    "duration": 7,
    "start_time": "2025-01-12T17:18:01.297Z"
   },
   {
    "duration": 18,
    "start_time": "2025-01-12T17:18:01.306Z"
   },
   {
    "duration": 29,
    "start_time": "2025-01-12T17:18:01.325Z"
   },
   {
    "duration": 249,
    "start_time": "2025-01-12T17:18:01.356Z"
   },
   {
    "duration": 2,
    "start_time": "2025-01-12T17:18:01.607Z"
   },
   {
    "duration": 302,
    "start_time": "2025-01-12T17:18:01.610Z"
   },
   {
    "duration": 2,
    "start_time": "2025-01-12T17:18:01.914Z"
   },
   {
    "duration": 243,
    "start_time": "2025-01-12T17:18:01.918Z"
   },
   {
    "duration": 8,
    "start_time": "2025-01-12T17:18:02.163Z"
   },
   {
    "duration": 10,
    "start_time": "2025-01-12T17:18:02.173Z"
   },
   {
    "duration": 2,
    "start_time": "2025-01-12T17:18:02.185Z"
   },
   {
    "duration": 139,
    "start_time": "2025-01-12T17:18:02.189Z"
   },
   {
    "duration": 21,
    "start_time": "2025-01-12T17:18:02.330Z"
   },
   {
    "duration": 15,
    "start_time": "2025-01-12T17:18:02.353Z"
   },
   {
    "duration": 10,
    "start_time": "2025-01-12T17:18:02.370Z"
   },
   {
    "duration": 14,
    "start_time": "2025-01-12T17:18:02.382Z"
   },
   {
    "duration": 18,
    "start_time": "2025-01-12T17:18:02.399Z"
   },
   {
    "duration": 5,
    "start_time": "2025-01-12T17:18:02.419Z"
   },
   {
    "duration": 27,
    "start_time": "2025-01-12T17:18:02.426Z"
   },
   {
    "duration": 219,
    "start_time": "2025-01-12T17:18:02.455Z"
   },
   {
    "duration": 9,
    "start_time": "2025-01-12T17:18:02.676Z"
   },
   {
    "duration": 13,
    "start_time": "2025-01-12T17:18:02.686Z"
   },
   {
    "duration": 4,
    "start_time": "2025-01-12T17:18:02.701Z"
   },
   {
    "duration": 58,
    "start_time": "2025-01-12T17:18:02.707Z"
   },
   {
    "duration": 9,
    "start_time": "2025-01-12T17:18:02.767Z"
   },
   {
    "duration": 25,
    "start_time": "2025-01-12T17:18:02.777Z"
   },
   {
    "duration": 33,
    "start_time": "2025-01-12T17:18:02.804Z"
   },
   {
    "duration": 13,
    "start_time": "2025-01-12T17:18:02.839Z"
   },
   {
    "duration": 24,
    "start_time": "2025-01-12T17:18:02.853Z"
   },
   {
    "duration": 78,
    "start_time": "2025-01-12T17:18:02.878Z"
   },
   {
    "duration": 30,
    "start_time": "2025-01-12T17:18:02.958Z"
   },
   {
    "duration": 21,
    "start_time": "2025-01-12T17:18:02.990Z"
   },
   {
    "duration": 21,
    "start_time": "2025-01-12T17:18:03.017Z"
   },
   {
    "duration": 23,
    "start_time": "2025-01-12T17:18:03.039Z"
   },
   {
    "duration": 297,
    "start_time": "2025-01-12T17:18:03.064Z"
   },
   {
    "duration": 320,
    "start_time": "2025-01-12T17:18:03.363Z"
   },
   {
    "duration": 53,
    "start_time": "2025-01-12T17:18:03.685Z"
   },
   {
    "duration": 6,
    "start_time": "2025-01-12T17:18:03.740Z"
   },
   {
    "duration": 37,
    "start_time": "2025-01-12T17:18:03.747Z"
   },
   {
    "duration": 4,
    "start_time": "2025-01-12T17:18:03.786Z"
   },
   {
    "duration": 34,
    "start_time": "2025-01-12T17:18:03.792Z"
   },
   {
    "duration": 15,
    "start_time": "2025-01-12T17:18:03.827Z"
   },
   {
    "duration": 23,
    "start_time": "2025-01-12T17:18:03.844Z"
   },
   {
    "duration": 585,
    "start_time": "2025-01-12T17:18:03.869Z"
   },
   {
    "duration": 4,
    "start_time": "2025-01-12T17:18:04.456Z"
   },
   {
    "duration": 12,
    "start_time": "2025-01-12T17:18:04.461Z"
   },
   {
    "duration": 7,
    "start_time": "2025-01-12T17:18:04.474Z"
   },
   {
    "duration": 25,
    "start_time": "2025-01-12T17:18:04.482Z"
   },
   {
    "duration": 261,
    "start_time": "2025-01-12T17:18:04.508Z"
   },
   {
    "duration": 214,
    "start_time": "2025-01-12T17:18:04.771Z"
   },
   {
    "duration": 5,
    "start_time": "2025-01-12T17:29:22.282Z"
   },
   {
    "duration": 78,
    "start_time": "2025-01-12T17:31:25.610Z"
   },
   {
    "duration": 81,
    "start_time": "2025-01-12T17:31:40.274Z"
   },
   {
    "duration": 80,
    "start_time": "2025-01-12T17:32:02.751Z"
   },
   {
    "duration": 121,
    "start_time": "2025-01-12T17:32:20.309Z"
   },
   {
    "duration": 172,
    "start_time": "2025-01-12T17:33:00.203Z"
   },
   {
    "duration": 4,
    "start_time": "2025-01-12T17:33:16.234Z"
   },
   {
    "duration": 4,
    "start_time": "2025-01-12T17:33:27.582Z"
   },
   {
    "duration": 4,
    "start_time": "2025-01-12T17:33:42.110Z"
   },
   {
    "duration": 5,
    "start_time": "2025-01-12T17:42:07.643Z"
   },
   {
    "duration": 5,
    "start_time": "2025-01-12T17:42:45.000Z"
   },
   {
    "duration": 4,
    "start_time": "2025-01-12T17:50:00.555Z"
   },
   {
    "duration": 652,
    "start_time": "2025-01-12T17:55:49.873Z"
   },
   {
    "duration": 71,
    "start_time": "2025-01-12T17:55:50.527Z"
   },
   {
    "duration": 11,
    "start_time": "2025-01-12T17:55:50.600Z"
   },
   {
    "duration": 12,
    "start_time": "2025-01-12T17:55:50.613Z"
   },
   {
    "duration": 8,
    "start_time": "2025-01-12T17:55:50.627Z"
   },
   {
    "duration": 12,
    "start_time": "2025-01-12T17:55:50.637Z"
   },
   {
    "duration": 6,
    "start_time": "2025-01-12T17:55:50.651Z"
   },
   {
    "duration": 12,
    "start_time": "2025-01-12T17:55:50.659Z"
   },
   {
    "duration": 14,
    "start_time": "2025-01-12T17:55:50.673Z"
   },
   {
    "duration": 4,
    "start_time": "2025-01-12T17:55:50.688Z"
   },
   {
    "duration": 4,
    "start_time": "2025-01-12T17:55:50.694Z"
   },
   {
    "duration": 44,
    "start_time": "2025-01-12T17:55:50.700Z"
   },
   {
    "duration": 5,
    "start_time": "2025-01-12T17:55:50.746Z"
   },
   {
    "duration": 10,
    "start_time": "2025-01-12T17:55:50.754Z"
   },
   {
    "duration": 11,
    "start_time": "2025-01-12T17:55:50.765Z"
   },
   {
    "duration": 6,
    "start_time": "2025-01-12T17:55:50.777Z"
   },
   {
    "duration": 9,
    "start_time": "2025-01-12T17:55:50.784Z"
   },
   {
    "duration": 5,
    "start_time": "2025-01-12T17:55:50.794Z"
   },
   {
    "duration": 37,
    "start_time": "2025-01-12T17:55:50.801Z"
   },
   {
    "duration": 26,
    "start_time": "2025-01-12T17:55:50.839Z"
   },
   {
    "duration": 31,
    "start_time": "2025-01-12T17:55:50.866Z"
   },
   {
    "duration": 16,
    "start_time": "2025-01-12T17:55:50.899Z"
   },
   {
    "duration": 30,
    "start_time": "2025-01-12T17:55:50.917Z"
   },
   {
    "duration": 11,
    "start_time": "2025-01-12T17:55:50.948Z"
   },
   {
    "duration": 212,
    "start_time": "2025-01-12T17:55:50.961Z"
   },
   {
    "duration": 197,
    "start_time": "2025-01-12T17:55:51.175Z"
   },
   {
    "duration": 7,
    "start_time": "2025-01-12T17:55:51.374Z"
   },
   {
    "duration": 7,
    "start_time": "2025-01-12T17:55:51.382Z"
   },
   {
    "duration": 92,
    "start_time": "2025-01-12T17:55:51.391Z"
   },
   {
    "duration": 6,
    "start_time": "2025-01-12T17:55:51.484Z"
   },
   {
    "duration": 92,
    "start_time": "2025-01-12T17:55:51.492Z"
   },
   {
    "duration": 8,
    "start_time": "2025-01-12T17:55:51.586Z"
   },
   {
    "duration": 20,
    "start_time": "2025-01-12T17:55:51.596Z"
   },
   {
    "duration": 229,
    "start_time": "2025-01-12T17:55:51.618Z"
   },
   {
    "duration": 6,
    "start_time": "2025-01-12T17:55:51.848Z"
   },
   {
    "duration": 34,
    "start_time": "2025-01-12T17:55:51.855Z"
   },
   {
    "duration": 2,
    "start_time": "2025-01-12T17:55:51.890Z"
   },
   {
    "duration": 114,
    "start_time": "2025-01-12T17:55:51.894Z"
   },
   {
    "duration": 8,
    "start_time": "2025-01-12T17:55:52.010Z"
   },
   {
    "duration": 17,
    "start_time": "2025-01-12T17:55:52.020Z"
   },
   {
    "duration": 146,
    "start_time": "2025-01-12T17:55:52.042Z"
   },
   {
    "duration": 12,
    "start_time": "2025-01-12T17:55:52.190Z"
   },
   {
    "duration": 20,
    "start_time": "2025-01-12T17:55:52.204Z"
   },
   {
    "duration": 2,
    "start_time": "2025-01-12T17:55:52.226Z"
   },
   {
    "duration": 10,
    "start_time": "2025-01-12T17:55:52.230Z"
   },
   {
    "duration": 4,
    "start_time": "2025-01-12T17:55:52.242Z"
   },
   {
    "duration": 8,
    "start_time": "2025-01-12T17:55:52.247Z"
   },
   {
    "duration": 17,
    "start_time": "2025-01-12T17:55:52.257Z"
   },
   {
    "duration": 7,
    "start_time": "2025-01-12T17:55:52.276Z"
   },
   {
    "duration": 7,
    "start_time": "2025-01-12T17:55:52.285Z"
   },
   {
    "duration": 6,
    "start_time": "2025-01-12T17:55:52.293Z"
   },
   {
    "duration": 10,
    "start_time": "2025-01-12T17:55:52.301Z"
   },
   {
    "duration": 222,
    "start_time": "2025-01-12T17:55:52.338Z"
   },
   {
    "duration": 2,
    "start_time": "2025-01-12T17:55:52.562Z"
   },
   {
    "duration": 242,
    "start_time": "2025-01-12T17:55:52.566Z"
   },
   {
    "duration": 3,
    "start_time": "2025-01-12T17:55:52.809Z"
   },
   {
    "duration": 229,
    "start_time": "2025-01-12T17:55:52.813Z"
   },
   {
    "duration": 8,
    "start_time": "2025-01-12T17:55:53.043Z"
   },
   {
    "duration": 8,
    "start_time": "2025-01-12T17:55:53.053Z"
   },
   {
    "duration": 3,
    "start_time": "2025-01-12T17:55:53.062Z"
   },
   {
    "duration": 141,
    "start_time": "2025-01-12T17:55:53.067Z"
   },
   {
    "duration": 15,
    "start_time": "2025-01-12T17:55:53.210Z"
   },
   {
    "duration": 2,
    "start_time": "2025-01-12T17:55:53.238Z"
   },
   {
    "duration": 5,
    "start_time": "2025-01-12T17:55:53.241Z"
   },
   {
    "duration": 17,
    "start_time": "2025-01-12T17:55:53.247Z"
   },
   {
    "duration": 8,
    "start_time": "2025-01-12T17:55:53.266Z"
   },
   {
    "duration": 10,
    "start_time": "2025-01-12T17:55:53.275Z"
   },
   {
    "duration": 4,
    "start_time": "2025-01-12T17:55:53.286Z"
   },
   {
    "duration": 215,
    "start_time": "2025-01-12T17:55:53.292Z"
   },
   {
    "duration": 9,
    "start_time": "2025-01-12T17:55:53.508Z"
   },
   {
    "duration": 6,
    "start_time": "2025-01-12T17:55:53.518Z"
   },
   {
    "duration": 8,
    "start_time": "2025-01-12T17:55:53.537Z"
   },
   {
    "duration": 41,
    "start_time": "2025-01-12T17:55:53.546Z"
   },
   {
    "duration": 8,
    "start_time": "2025-01-12T17:55:53.589Z"
   },
   {
    "duration": 28,
    "start_time": "2025-01-12T17:55:53.598Z"
   },
   {
    "duration": 13,
    "start_time": "2025-01-12T17:55:53.628Z"
   },
   {
    "duration": 13,
    "start_time": "2025-01-12T17:55:53.642Z"
   },
   {
    "duration": 6,
    "start_time": "2025-01-12T17:55:53.656Z"
   },
   {
    "duration": 24,
    "start_time": "2025-01-12T17:55:53.663Z"
   },
   {
    "duration": 84,
    "start_time": "2025-01-12T17:55:53.689Z"
   },
   {
    "duration": 12,
    "start_time": "2025-01-12T17:55:53.775Z"
   },
   {
    "duration": 40,
    "start_time": "2025-01-12T17:55:53.788Z"
   },
   {
    "duration": 3,
    "start_time": "2025-01-12T17:55:53.830Z"
   },
   {
    "duration": 320,
    "start_time": "2025-01-12T17:55:53.834Z"
   },
   {
    "duration": 311,
    "start_time": "2025-01-12T17:55:54.155Z"
   },
   {
    "duration": 44,
    "start_time": "2025-01-12T17:55:54.467Z"
   },
   {
    "duration": 6,
    "start_time": "2025-01-12T17:55:54.513Z"
   },
   {
    "duration": 30,
    "start_time": "2025-01-12T17:55:54.520Z"
   },
   {
    "duration": 5,
    "start_time": "2025-01-12T17:55:54.551Z"
   },
   {
    "duration": 28,
    "start_time": "2025-01-12T17:55:54.557Z"
   },
   {
    "duration": 14,
    "start_time": "2025-01-12T17:55:54.587Z"
   },
   {
    "duration": 17,
    "start_time": "2025-01-12T17:55:54.603Z"
   },
   {
    "duration": 431,
    "start_time": "2025-01-12T17:55:54.622Z"
   },
   {
    "duration": 4,
    "start_time": "2025-01-12T17:55:55.055Z"
   },
   {
    "duration": 23,
    "start_time": "2025-01-12T17:55:55.060Z"
   },
   {
    "duration": 7,
    "start_time": "2025-01-12T17:55:55.085Z"
   },
   {
    "duration": 11,
    "start_time": "2025-01-12T17:55:55.093Z"
   },
   {
    "duration": 17,
    "start_time": "2025-01-12T17:55:55.105Z"
   },
   {
    "duration": 19,
    "start_time": "2025-01-12T17:55:55.124Z"
   },
   {
    "duration": 139,
    "start_time": "2025-01-12T17:55:55.145Z"
   },
   {
    "duration": 155,
    "start_time": "2025-01-12T17:55:55.285Z"
   },
   {
    "duration": 2,
    "start_time": "2025-01-12T17:57:29.577Z"
   },
   {
    "duration": 713,
    "start_time": "2025-01-12T17:59:44.215Z"
   },
   {
    "duration": 69,
    "start_time": "2025-01-12T17:59:44.930Z"
   },
   {
    "duration": 13,
    "start_time": "2025-01-12T17:59:45.001Z"
   },
   {
    "duration": 33,
    "start_time": "2025-01-12T17:59:45.016Z"
   },
   {
    "duration": 41,
    "start_time": "2025-01-12T17:59:45.051Z"
   },
   {
    "duration": 33,
    "start_time": "2025-01-12T17:59:45.094Z"
   },
   {
    "duration": 8,
    "start_time": "2025-01-12T17:59:45.129Z"
   },
   {
    "duration": 9,
    "start_time": "2025-01-12T17:59:45.139Z"
   },
   {
    "duration": 17,
    "start_time": "2025-01-12T17:59:45.149Z"
   },
   {
    "duration": 9,
    "start_time": "2025-01-12T17:59:45.168Z"
   },
   {
    "duration": 44,
    "start_time": "2025-01-12T17:59:45.178Z"
   },
   {
    "duration": 54,
    "start_time": "2025-01-12T17:59:45.224Z"
   },
   {
    "duration": 25,
    "start_time": "2025-01-12T17:59:45.280Z"
   },
   {
    "duration": 12,
    "start_time": "2025-01-12T17:59:45.308Z"
   },
   {
    "duration": 40,
    "start_time": "2025-01-12T17:59:45.322Z"
   },
   {
    "duration": 36,
    "start_time": "2025-01-12T17:59:45.364Z"
   },
   {
    "duration": 55,
    "start_time": "2025-01-12T17:59:45.401Z"
   },
   {
    "duration": 24,
    "start_time": "2025-01-12T17:59:45.458Z"
   },
   {
    "duration": 43,
    "start_time": "2025-01-12T17:59:45.484Z"
   },
   {
    "duration": 64,
    "start_time": "2025-01-12T17:59:45.529Z"
   },
   {
    "duration": 35,
    "start_time": "2025-01-12T17:59:45.594Z"
   },
   {
    "duration": 33,
    "start_time": "2025-01-12T17:59:45.631Z"
   },
   {
    "duration": 33,
    "start_time": "2025-01-12T17:59:45.666Z"
   },
   {
    "duration": 28,
    "start_time": "2025-01-12T17:59:45.701Z"
   },
   {
    "duration": 216,
    "start_time": "2025-01-12T17:59:45.731Z"
   },
   {
    "duration": 191,
    "start_time": "2025-01-12T17:59:45.948Z"
   },
   {
    "duration": 6,
    "start_time": "2025-01-12T17:59:46.140Z"
   },
   {
    "duration": 6,
    "start_time": "2025-01-12T17:59:46.148Z"
   },
   {
    "duration": 92,
    "start_time": "2025-01-12T17:59:46.156Z"
   },
   {
    "duration": 6,
    "start_time": "2025-01-12T17:59:46.250Z"
   },
   {
    "duration": 100,
    "start_time": "2025-01-12T17:59:46.258Z"
   },
   {
    "duration": 8,
    "start_time": "2025-01-12T17:59:46.359Z"
   },
   {
    "duration": 16,
    "start_time": "2025-01-12T17:59:46.368Z"
   },
   {
    "duration": 269,
    "start_time": "2025-01-12T17:59:46.386Z"
   },
   {
    "duration": 5,
    "start_time": "2025-01-12T17:59:46.657Z"
   },
   {
    "duration": 46,
    "start_time": "2025-01-12T17:59:46.663Z"
   },
   {
    "duration": 15,
    "start_time": "2025-01-12T17:59:46.711Z"
   },
   {
    "duration": 119,
    "start_time": "2025-01-12T17:59:46.727Z"
   },
   {
    "duration": 9,
    "start_time": "2025-01-12T17:59:46.848Z"
   },
   {
    "duration": 5,
    "start_time": "2025-01-12T17:59:46.859Z"
   },
   {
    "duration": 140,
    "start_time": "2025-01-12T17:59:46.871Z"
   },
   {
    "duration": 11,
    "start_time": "2025-01-12T17:59:47.013Z"
   },
   {
    "duration": 6,
    "start_time": "2025-01-12T17:59:47.036Z"
   },
   {
    "duration": 20,
    "start_time": "2025-01-12T17:59:47.043Z"
   },
   {
    "duration": 20,
    "start_time": "2025-01-12T17:59:47.064Z"
   },
   {
    "duration": 20,
    "start_time": "2025-01-12T17:59:47.085Z"
   },
   {
    "duration": 8,
    "start_time": "2025-01-12T17:59:47.107Z"
   },
   {
    "duration": 31,
    "start_time": "2025-01-12T17:59:47.117Z"
   },
   {
    "duration": 21,
    "start_time": "2025-01-12T17:59:47.150Z"
   },
   {
    "duration": 10,
    "start_time": "2025-01-12T17:59:47.172Z"
   },
   {
    "duration": 8,
    "start_time": "2025-01-12T17:59:47.184Z"
   },
   {
    "duration": 29,
    "start_time": "2025-01-12T17:59:47.194Z"
   },
   {
    "duration": 226,
    "start_time": "2025-01-12T17:59:47.225Z"
   },
   {
    "duration": 2,
    "start_time": "2025-01-12T17:59:47.453Z"
   },
   {
    "duration": 274,
    "start_time": "2025-01-12T17:59:47.456Z"
   },
   {
    "duration": 6,
    "start_time": "2025-01-12T17:59:47.732Z"
   },
   {
    "duration": 224,
    "start_time": "2025-01-12T17:59:47.740Z"
   },
   {
    "duration": 8,
    "start_time": "2025-01-12T17:59:47.965Z"
   },
   {
    "duration": 46,
    "start_time": "2025-01-12T17:59:47.974Z"
   },
   {
    "duration": 24,
    "start_time": "2025-01-12T17:59:48.021Z"
   },
   {
    "duration": 141,
    "start_time": "2025-01-12T17:59:48.047Z"
   },
   {
    "duration": 16,
    "start_time": "2025-01-12T17:59:48.189Z"
   },
   {
    "duration": 6,
    "start_time": "2025-01-12T17:59:48.209Z"
   },
   {
    "duration": 4,
    "start_time": "2025-01-12T17:59:48.218Z"
   },
   {
    "duration": 32,
    "start_time": "2025-01-12T17:59:48.224Z"
   },
   {
    "duration": 15,
    "start_time": "2025-01-12T17:59:48.258Z"
   },
   {
    "duration": 7,
    "start_time": "2025-01-12T17:59:48.276Z"
   },
   {
    "duration": 3,
    "start_time": "2025-01-12T17:59:48.285Z"
   },
   {
    "duration": 251,
    "start_time": "2025-01-12T17:59:48.290Z"
   },
   {
    "duration": 11,
    "start_time": "2025-01-12T17:59:48.543Z"
   },
   {
    "duration": 7,
    "start_time": "2025-01-12T17:59:48.556Z"
   },
   {
    "duration": 5,
    "start_time": "2025-01-12T17:59:48.564Z"
   },
   {
    "duration": 32,
    "start_time": "2025-01-12T17:59:48.570Z"
   },
   {
    "duration": 39,
    "start_time": "2025-01-12T17:59:48.604Z"
   },
   {
    "duration": 27,
    "start_time": "2025-01-12T17:59:48.645Z"
   },
   {
    "duration": 7,
    "start_time": "2025-01-12T17:59:48.674Z"
   },
   {
    "duration": 14,
    "start_time": "2025-01-12T17:59:48.683Z"
   },
   {
    "duration": 7,
    "start_time": "2025-01-12T17:59:48.698Z"
   },
   {
    "duration": 3,
    "start_time": "2025-01-12T17:59:48.706Z"
   },
   {
    "duration": 106,
    "start_time": "2025-01-12T17:59:48.711Z"
   },
   {
    "duration": 19,
    "start_time": "2025-01-12T17:59:48.819Z"
   },
   {
    "duration": 3,
    "start_time": "2025-01-12T17:59:48.839Z"
   },
   {
    "duration": 14,
    "start_time": "2025-01-12T17:59:48.843Z"
   },
   {
    "duration": 303,
    "start_time": "2025-01-12T17:59:48.859Z"
   },
   {
    "duration": 309,
    "start_time": "2025-01-12T17:59:49.164Z"
   },
   {
    "duration": 47,
    "start_time": "2025-01-12T17:59:49.475Z"
   },
   {
    "duration": 18,
    "start_time": "2025-01-12T17:59:49.524Z"
   },
   {
    "duration": 17,
    "start_time": "2025-01-12T17:59:49.544Z"
   },
   {
    "duration": 4,
    "start_time": "2025-01-12T17:59:49.562Z"
   },
   {
    "duration": 24,
    "start_time": "2025-01-12T17:59:49.567Z"
   },
   {
    "duration": 14,
    "start_time": "2025-01-12T17:59:49.593Z"
   },
   {
    "duration": 31,
    "start_time": "2025-01-12T17:59:49.609Z"
   },
   {
    "duration": 408,
    "start_time": "2025-01-12T17:59:49.642Z"
   },
   {
    "duration": 4,
    "start_time": "2025-01-12T17:59:50.052Z"
   },
   {
    "duration": 11,
    "start_time": "2025-01-12T17:59:50.058Z"
   },
   {
    "duration": 9,
    "start_time": "2025-01-12T17:59:50.071Z"
   },
   {
    "duration": 9,
    "start_time": "2025-01-12T17:59:50.081Z"
   },
   {
    "duration": 4,
    "start_time": "2025-01-12T17:59:50.092Z"
   },
   {
    "duration": 18,
    "start_time": "2025-01-12T17:59:50.098Z"
   },
   {
    "duration": 140,
    "start_time": "2025-01-12T17:59:50.118Z"
   },
   {
    "duration": 159,
    "start_time": "2025-01-12T17:59:50.259Z"
   },
   {
    "duration": 710,
    "start_time": "2025-01-12T18:02:54.748Z"
   },
   {
    "duration": 72,
    "start_time": "2025-01-12T18:02:55.459Z"
   },
   {
    "duration": 12,
    "start_time": "2025-01-12T18:02:55.533Z"
   },
   {
    "duration": 11,
    "start_time": "2025-01-12T18:02:55.547Z"
   },
   {
    "duration": 16,
    "start_time": "2025-01-12T18:02:55.560Z"
   },
   {
    "duration": 11,
    "start_time": "2025-01-12T18:02:55.578Z"
   },
   {
    "duration": 8,
    "start_time": "2025-01-12T18:02:55.591Z"
   },
   {
    "duration": 42,
    "start_time": "2025-01-12T18:02:55.601Z"
   },
   {
    "duration": 28,
    "start_time": "2025-01-12T18:02:55.645Z"
   },
   {
    "duration": 4,
    "start_time": "2025-01-12T18:02:55.674Z"
   },
   {
    "duration": 5,
    "start_time": "2025-01-12T18:02:55.681Z"
   },
   {
    "duration": 18,
    "start_time": "2025-01-12T18:02:55.688Z"
   },
   {
    "duration": 7,
    "start_time": "2025-01-12T18:02:55.708Z"
   },
   {
    "duration": 7,
    "start_time": "2025-01-12T18:02:55.737Z"
   },
   {
    "duration": 16,
    "start_time": "2025-01-12T18:02:55.745Z"
   },
   {
    "duration": 6,
    "start_time": "2025-01-12T18:02:55.764Z"
   },
   {
    "duration": 26,
    "start_time": "2025-01-12T18:02:55.771Z"
   },
   {
    "duration": 43,
    "start_time": "2025-01-12T18:02:55.798Z"
   },
   {
    "duration": 7,
    "start_time": "2025-01-12T18:02:55.843Z"
   },
   {
    "duration": 8,
    "start_time": "2025-01-12T18:02:55.852Z"
   },
   {
    "duration": 9,
    "start_time": "2025-01-12T18:02:55.861Z"
   },
   {
    "duration": 4,
    "start_time": "2025-01-12T18:02:55.871Z"
   },
   {
    "duration": 7,
    "start_time": "2025-01-12T18:02:55.876Z"
   },
   {
    "duration": 3,
    "start_time": "2025-01-12T18:02:55.885Z"
   },
   {
    "duration": 250,
    "start_time": "2025-01-12T18:02:55.889Z"
   },
   {
    "duration": 199,
    "start_time": "2025-01-12T18:02:56.141Z"
   },
   {
    "duration": 5,
    "start_time": "2025-01-12T18:02:56.342Z"
   },
   {
    "duration": 4,
    "start_time": "2025-01-12T18:02:56.349Z"
   },
   {
    "duration": 97,
    "start_time": "2025-01-12T18:02:56.355Z"
   },
   {
    "duration": 6,
    "start_time": "2025-01-12T18:02:56.454Z"
   },
   {
    "duration": 100,
    "start_time": "2025-01-12T18:02:56.462Z"
   },
   {
    "duration": 8,
    "start_time": "2025-01-12T18:02:56.564Z"
   },
   {
    "duration": 3,
    "start_time": "2025-01-12T18:02:56.573Z"
   },
   {
    "duration": 240,
    "start_time": "2025-01-12T18:02:56.577Z"
   },
   {
    "duration": 18,
    "start_time": "2025-01-12T18:02:56.819Z"
   },
   {
    "duration": 16,
    "start_time": "2025-01-12T18:02:56.839Z"
   },
   {
    "duration": 3,
    "start_time": "2025-01-12T18:02:56.856Z"
   },
   {
    "duration": 135,
    "start_time": "2025-01-12T18:02:56.860Z"
   },
   {
    "duration": 8,
    "start_time": "2025-01-12T18:02:56.996Z"
   },
   {
    "duration": 2,
    "start_time": "2025-01-12T18:02:57.006Z"
   },
   {
    "duration": 133,
    "start_time": "2025-01-12T18:02:57.013Z"
   },
   {
    "duration": 12,
    "start_time": "2025-01-12T18:02:57.147Z"
   },
   {
    "duration": 11,
    "start_time": "2025-01-12T18:02:57.160Z"
   },
   {
    "duration": 6,
    "start_time": "2025-01-12T18:02:57.173Z"
   },
   {
    "duration": 10,
    "start_time": "2025-01-12T18:02:57.180Z"
   },
   {
    "duration": 2,
    "start_time": "2025-01-12T18:02:57.192Z"
   },
   {
    "duration": 5,
    "start_time": "2025-01-12T18:02:57.196Z"
   },
   {
    "duration": 39,
    "start_time": "2025-01-12T18:02:57.202Z"
   },
   {
    "duration": 44,
    "start_time": "2025-01-12T18:02:57.243Z"
   },
   {
    "duration": 6,
    "start_time": "2025-01-12T18:02:57.289Z"
   },
   {
    "duration": 4,
    "start_time": "2025-01-12T18:02:57.297Z"
   },
   {
    "duration": 9,
    "start_time": "2025-01-12T18:02:57.302Z"
   },
   {
    "duration": 215,
    "start_time": "2025-01-12T18:02:57.312Z"
   },
   {
    "duration": 8,
    "start_time": "2025-01-12T18:02:57.529Z"
   },
   {
    "duration": 237,
    "start_time": "2025-01-12T18:02:57.539Z"
   },
   {
    "duration": 2,
    "start_time": "2025-01-12T18:02:57.778Z"
   },
   {
    "duration": 233,
    "start_time": "2025-01-12T18:02:57.782Z"
   },
   {
    "duration": 20,
    "start_time": "2025-01-12T18:02:58.017Z"
   },
   {
    "duration": 9,
    "start_time": "2025-01-12T18:02:58.038Z"
   },
   {
    "duration": 2,
    "start_time": "2025-01-12T18:02:58.049Z"
   },
   {
    "duration": 138,
    "start_time": "2025-01-12T18:02:58.052Z"
   },
   {
    "duration": 16,
    "start_time": "2025-01-12T18:02:58.191Z"
   },
   {
    "duration": 10,
    "start_time": "2025-01-12T18:02:58.210Z"
   },
   {
    "duration": 16,
    "start_time": "2025-01-12T18:02:58.222Z"
   },
   {
    "duration": 19,
    "start_time": "2025-01-12T18:02:58.241Z"
   },
   {
    "duration": 14,
    "start_time": "2025-01-12T18:02:58.262Z"
   },
   {
    "duration": 6,
    "start_time": "2025-01-12T18:02:58.278Z"
   },
   {
    "duration": 11,
    "start_time": "2025-01-12T18:02:58.285Z"
   },
   {
    "duration": 227,
    "start_time": "2025-01-12T18:02:58.297Z"
   },
   {
    "duration": 17,
    "start_time": "2025-01-12T18:02:58.526Z"
   },
   {
    "duration": 7,
    "start_time": "2025-01-12T18:02:58.544Z"
   },
   {
    "duration": 5,
    "start_time": "2025-01-12T18:02:58.553Z"
   },
   {
    "duration": 41,
    "start_time": "2025-01-12T18:02:58.559Z"
   },
   {
    "duration": 9,
    "start_time": "2025-01-12T18:02:58.602Z"
   },
   {
    "duration": 22,
    "start_time": "2025-01-12T18:02:58.638Z"
   },
   {
    "duration": 8,
    "start_time": "2025-01-12T18:02:58.662Z"
   },
   {
    "duration": 43,
    "start_time": "2025-01-12T18:02:58.672Z"
   },
   {
    "duration": 3,
    "start_time": "2025-01-12T18:02:58.716Z"
   },
   {
    "duration": 6,
    "start_time": "2025-01-12T18:02:58.720Z"
   },
   {
    "duration": 87,
    "start_time": "2025-01-12T18:02:58.727Z"
   },
   {
    "duration": 12,
    "start_time": "2025-01-12T18:02:58.815Z"
   },
   {
    "duration": 17,
    "start_time": "2025-01-12T18:02:58.829Z"
   },
   {
    "duration": 3,
    "start_time": "2025-01-12T18:02:58.848Z"
   },
   {
    "duration": 305,
    "start_time": "2025-01-12T18:02:58.852Z"
   },
   {
    "duration": 311,
    "start_time": "2025-01-12T18:02:59.158Z"
   },
   {
    "duration": 45,
    "start_time": "2025-01-12T18:02:59.471Z"
   },
   {
    "duration": 21,
    "start_time": "2025-01-12T18:02:59.517Z"
   },
   {
    "duration": 15,
    "start_time": "2025-01-12T18:02:59.540Z"
   },
   {
    "duration": 3,
    "start_time": "2025-01-12T18:02:59.557Z"
   },
   {
    "duration": 33,
    "start_time": "2025-01-12T18:02:59.561Z"
   },
   {
    "duration": 15,
    "start_time": "2025-01-12T18:02:59.596Z"
   },
   {
    "duration": 27,
    "start_time": "2025-01-12T18:02:59.613Z"
   },
   {
    "duration": 413,
    "start_time": "2025-01-12T18:02:59.642Z"
   },
   {
    "duration": 4,
    "start_time": "2025-01-12T18:03:00.057Z"
   },
   {
    "duration": 61,
    "start_time": "2025-01-12T18:03:00.063Z"
   },
   {
    "duration": 35,
    "start_time": "2025-01-12T18:03:00.126Z"
   },
   {
    "duration": 41,
    "start_time": "2025-01-12T18:03:00.163Z"
   },
   {
    "duration": 135,
    "start_time": "2025-01-12T18:03:00.206Z"
   },
   {
    "duration": 0,
    "start_time": "2025-01-12T18:03:00.343Z"
   },
   {
    "duration": 0,
    "start_time": "2025-01-12T18:03:00.344Z"
   },
   {
    "duration": 0,
    "start_time": "2025-01-12T18:03:00.345Z"
   },
   {
    "duration": 715,
    "start_time": "2025-01-12T18:29:59.124Z"
   },
   {
    "duration": 72,
    "start_time": "2025-01-12T18:29:59.841Z"
   },
   {
    "duration": 13,
    "start_time": "2025-01-12T18:29:59.916Z"
   },
   {
    "duration": 12,
    "start_time": "2025-01-12T18:29:59.930Z"
   },
   {
    "duration": 18,
    "start_time": "2025-01-12T18:29:59.944Z"
   },
   {
    "duration": 17,
    "start_time": "2025-01-12T18:29:59.964Z"
   },
   {
    "duration": 17,
    "start_time": "2025-01-12T18:29:59.983Z"
   },
   {
    "duration": 68,
    "start_time": "2025-01-12T18:30:00.002Z"
   },
   {
    "duration": 34,
    "start_time": "2025-01-12T18:30:00.071Z"
   },
   {
    "duration": 10,
    "start_time": "2025-01-12T18:30:00.107Z"
   },
   {
    "duration": 28,
    "start_time": "2025-01-12T18:30:00.118Z"
   },
   {
    "duration": 41,
    "start_time": "2025-01-12T18:30:00.148Z"
   },
   {
    "duration": 35,
    "start_time": "2025-01-12T18:30:00.190Z"
   },
   {
    "duration": 44,
    "start_time": "2025-01-12T18:30:00.229Z"
   },
   {
    "duration": 59,
    "start_time": "2025-01-12T18:30:00.274Z"
   },
   {
    "duration": 50,
    "start_time": "2025-01-12T18:30:00.335Z"
   },
   {
    "duration": 39,
    "start_time": "2025-01-12T18:30:00.386Z"
   },
   {
    "duration": 36,
    "start_time": "2025-01-12T18:30:00.426Z"
   },
   {
    "duration": 52,
    "start_time": "2025-01-12T18:30:00.464Z"
   },
   {
    "duration": 29,
    "start_time": "2025-01-12T18:30:00.518Z"
   },
   {
    "duration": 45,
    "start_time": "2025-01-12T18:30:00.549Z"
   },
   {
    "duration": 23,
    "start_time": "2025-01-12T18:30:00.595Z"
   },
   {
    "duration": 40,
    "start_time": "2025-01-12T18:30:00.620Z"
   },
   {
    "duration": 17,
    "start_time": "2025-01-12T18:30:00.661Z"
   },
   {
    "duration": 228,
    "start_time": "2025-01-12T18:30:00.679Z"
   },
   {
    "duration": 203,
    "start_time": "2025-01-12T18:30:00.909Z"
   },
   {
    "duration": 5,
    "start_time": "2025-01-12T18:30:01.114Z"
   },
   {
    "duration": 34,
    "start_time": "2025-01-12T18:30:01.121Z"
   },
   {
    "duration": 96,
    "start_time": "2025-01-12T18:30:01.157Z"
   },
   {
    "duration": 6,
    "start_time": "2025-01-12T18:30:01.255Z"
   },
   {
    "duration": 145,
    "start_time": "2025-01-12T18:30:01.263Z"
   },
   {
    "duration": 9,
    "start_time": "2025-01-12T18:30:01.410Z"
   },
   {
    "duration": 46,
    "start_time": "2025-01-12T18:30:01.420Z"
   },
   {
    "duration": 231,
    "start_time": "2025-01-12T18:30:01.468Z"
   },
   {
    "duration": 5,
    "start_time": "2025-01-12T18:30:01.701Z"
   },
   {
    "duration": 34,
    "start_time": "2025-01-12T18:30:01.707Z"
   },
   {
    "duration": 16,
    "start_time": "2025-01-12T18:30:01.743Z"
   },
   {
    "duration": 112,
    "start_time": "2025-01-12T18:30:01.760Z"
   },
   {
    "duration": 8,
    "start_time": "2025-01-12T18:30:01.874Z"
   },
   {
    "duration": 100,
    "start_time": "2025-01-12T18:30:01.884Z"
   },
   {
    "duration": 130,
    "start_time": "2025-01-12T18:30:01.990Z"
   },
   {
    "duration": 16,
    "start_time": "2025-01-12T18:30:02.122Z"
   },
   {
    "duration": 29,
    "start_time": "2025-01-12T18:30:02.139Z"
   },
   {
    "duration": 6,
    "start_time": "2025-01-12T18:30:02.170Z"
   },
   {
    "duration": 14,
    "start_time": "2025-01-12T18:30:02.177Z"
   },
   {
    "duration": 36,
    "start_time": "2025-01-12T18:30:02.193Z"
   },
   {
    "duration": 39,
    "start_time": "2025-01-12T18:30:02.231Z"
   },
   {
    "duration": 41,
    "start_time": "2025-01-12T18:30:02.272Z"
   },
   {
    "duration": 40,
    "start_time": "2025-01-12T18:30:02.315Z"
   },
   {
    "duration": 31,
    "start_time": "2025-01-12T18:30:02.356Z"
   },
   {
    "duration": 18,
    "start_time": "2025-01-12T18:30:02.389Z"
   },
   {
    "duration": 13,
    "start_time": "2025-01-12T18:30:02.409Z"
   },
   {
    "duration": 219,
    "start_time": "2025-01-12T18:30:02.423Z"
   },
   {
    "duration": 2,
    "start_time": "2025-01-12T18:30:02.644Z"
   },
   {
    "duration": 262,
    "start_time": "2025-01-12T18:30:02.647Z"
   },
   {
    "duration": 3,
    "start_time": "2025-01-12T18:30:02.910Z"
   },
   {
    "duration": 249,
    "start_time": "2025-01-12T18:30:02.914Z"
   },
   {
    "duration": 8,
    "start_time": "2025-01-12T18:30:03.164Z"
   },
   {
    "duration": 13,
    "start_time": "2025-01-12T18:30:03.173Z"
   },
   {
    "duration": 7,
    "start_time": "2025-01-12T18:30:03.188Z"
   },
   {
    "duration": 143,
    "start_time": "2025-01-12T18:30:03.197Z"
   },
   {
    "duration": 15,
    "start_time": "2025-01-12T18:30:03.342Z"
   },
   {
    "duration": 20,
    "start_time": "2025-01-12T18:30:03.358Z"
   },
   {
    "duration": 30,
    "start_time": "2025-01-12T18:30:03.380Z"
   },
   {
    "duration": 20,
    "start_time": "2025-01-12T18:30:03.411Z"
   },
   {
    "duration": 8,
    "start_time": "2025-01-12T18:30:03.433Z"
   },
   {
    "duration": 36,
    "start_time": "2025-01-12T18:30:03.443Z"
   },
   {
    "duration": 15,
    "start_time": "2025-01-12T18:30:03.481Z"
   },
   {
    "duration": 209,
    "start_time": "2025-01-12T18:30:03.497Z"
   },
   {
    "duration": 9,
    "start_time": "2025-01-12T18:30:03.708Z"
   },
   {
    "duration": 7,
    "start_time": "2025-01-12T18:30:03.718Z"
   },
   {
    "duration": 6,
    "start_time": "2025-01-12T18:30:03.726Z"
   },
   {
    "duration": 55,
    "start_time": "2025-01-12T18:30:03.733Z"
   },
   {
    "duration": 9,
    "start_time": "2025-01-12T18:30:03.790Z"
   },
   {
    "duration": 29,
    "start_time": "2025-01-12T18:30:03.801Z"
   },
   {
    "duration": 7,
    "start_time": "2025-01-12T18:30:03.832Z"
   },
   {
    "duration": 148,
    "start_time": "2025-01-12T18:30:03.840Z"
   },
   {
    "duration": 11,
    "start_time": "2025-01-12T18:30:03.990Z"
   },
   {
    "duration": 14,
    "start_time": "2025-01-12T18:30:04.002Z"
   },
   {
    "duration": 135,
    "start_time": "2025-01-12T18:30:04.017Z"
   },
   {
    "duration": 12,
    "start_time": "2025-01-12T18:30:04.154Z"
   },
   {
    "duration": 20,
    "start_time": "2025-01-12T18:30:04.167Z"
   },
   {
    "duration": 22,
    "start_time": "2025-01-12T18:30:04.188Z"
   },
   {
    "duration": 435,
    "start_time": "2025-01-12T18:30:04.237Z"
   },
   {
    "duration": 308,
    "start_time": "2025-01-12T18:30:04.673Z"
   },
   {
    "duration": 45,
    "start_time": "2025-01-12T18:30:04.983Z"
   },
   {
    "duration": 5,
    "start_time": "2025-01-12T18:30:05.038Z"
   },
   {
    "duration": 35,
    "start_time": "2025-01-12T18:30:05.045Z"
   },
   {
    "duration": 6,
    "start_time": "2025-01-12T18:30:05.082Z"
   },
   {
    "duration": 25,
    "start_time": "2025-01-12T18:30:05.089Z"
   },
   {
    "duration": 14,
    "start_time": "2025-01-12T18:30:05.115Z"
   },
   {
    "duration": 6,
    "start_time": "2025-01-12T18:30:05.131Z"
   },
   {
    "duration": 419,
    "start_time": "2025-01-12T18:30:05.139Z"
   },
   {
    "duration": 4,
    "start_time": "2025-01-12T18:30:05.560Z"
   },
   {
    "duration": 41,
    "start_time": "2025-01-12T18:30:05.565Z"
   },
   {
    "duration": 22,
    "start_time": "2025-01-12T18:30:05.608Z"
   },
   {
    "duration": 5,
    "start_time": "2025-01-12T18:30:05.631Z"
   },
   {
    "duration": 37,
    "start_time": "2025-01-12T18:30:05.637Z"
   },
   {
    "duration": 17,
    "start_time": "2025-01-12T18:30:05.676Z"
   },
   {
    "duration": 108,
    "start_time": "2025-01-12T18:30:05.695Z"
   },
   {
    "duration": 0,
    "start_time": "2025-01-12T18:30:05.805Z"
   },
   {
    "duration": 0,
    "start_time": "2025-01-12T18:30:05.806Z"
   },
   {
    "duration": 8,
    "start_time": "2025-01-12T18:30:32.495Z"
   },
   {
    "duration": 1039,
    "start_time": "2025-01-12T18:30:57.357Z"
   },
   {
    "duration": 8,
    "start_time": "2025-01-12T18:30:59.884Z"
   },
   {
    "duration": 11,
    "start_time": "2025-01-12T18:31:06.003Z"
   },
   {
    "duration": 6,
    "start_time": "2025-01-12T18:31:08.442Z"
   },
   {
    "duration": 7,
    "start_time": "2025-01-12T18:31:11.854Z"
   },
   {
    "duration": 6,
    "start_time": "2025-01-12T18:32:10.088Z"
   },
   {
    "duration": 5,
    "start_time": "2025-01-12T18:32:14.369Z"
   },
   {
    "duration": 724,
    "start_time": "2025-01-12T18:38:22.413Z"
   },
   {
    "duration": 71,
    "start_time": "2025-01-12T18:38:23.139Z"
   },
   {
    "duration": 11,
    "start_time": "2025-01-12T18:38:23.212Z"
   },
   {
    "duration": 11,
    "start_time": "2025-01-12T18:38:23.225Z"
   },
   {
    "duration": 11,
    "start_time": "2025-01-12T18:38:23.238Z"
   },
   {
    "duration": 24,
    "start_time": "2025-01-12T18:38:23.251Z"
   },
   {
    "duration": 6,
    "start_time": "2025-01-12T18:38:23.277Z"
   },
   {
    "duration": 39,
    "start_time": "2025-01-12T18:38:23.285Z"
   },
   {
    "duration": 23,
    "start_time": "2025-01-12T18:38:23.325Z"
   },
   {
    "duration": 4,
    "start_time": "2025-01-12T18:38:23.349Z"
   },
   {
    "duration": 10,
    "start_time": "2025-01-12T18:38:23.354Z"
   },
   {
    "duration": 11,
    "start_time": "2025-01-12T18:38:23.365Z"
   },
   {
    "duration": 6,
    "start_time": "2025-01-12T18:38:23.377Z"
   },
   {
    "duration": 6,
    "start_time": "2025-01-12T18:38:23.385Z"
   },
   {
    "duration": 12,
    "start_time": "2025-01-12T18:38:23.393Z"
   },
   {
    "duration": 35,
    "start_time": "2025-01-12T18:38:23.407Z"
   },
   {
    "duration": 9,
    "start_time": "2025-01-12T18:38:23.444Z"
   },
   {
    "duration": 6,
    "start_time": "2025-01-12T18:38:23.454Z"
   },
   {
    "duration": 8,
    "start_time": "2025-01-12T18:38:23.461Z"
   },
   {
    "duration": 12,
    "start_time": "2025-01-12T18:38:23.470Z"
   },
   {
    "duration": 8,
    "start_time": "2025-01-12T18:38:23.484Z"
   },
   {
    "duration": 5,
    "start_time": "2025-01-12T18:38:23.493Z"
   },
   {
    "duration": 38,
    "start_time": "2025-01-12T18:38:23.500Z"
   },
   {
    "duration": 7,
    "start_time": "2025-01-12T18:38:23.540Z"
   },
   {
    "duration": 209,
    "start_time": "2025-01-12T18:38:23.548Z"
   },
   {
    "duration": 192,
    "start_time": "2025-01-12T18:38:23.759Z"
   },
   {
    "duration": 6,
    "start_time": "2025-01-12T18:38:23.953Z"
   },
   {
    "duration": 30,
    "start_time": "2025-01-12T18:38:23.960Z"
   },
   {
    "duration": 81,
    "start_time": "2025-01-12T18:38:23.991Z"
   },
   {
    "duration": 5,
    "start_time": "2025-01-12T18:38:24.074Z"
   },
   {
    "duration": 88,
    "start_time": "2025-01-12T18:38:24.081Z"
   },
   {
    "duration": 8,
    "start_time": "2025-01-12T18:38:24.171Z"
   },
   {
    "duration": 17,
    "start_time": "2025-01-12T18:38:24.180Z"
   },
   {
    "duration": 222,
    "start_time": "2025-01-12T18:38:24.199Z"
   },
   {
    "duration": 5,
    "start_time": "2025-01-12T18:38:24.422Z"
   },
   {
    "duration": 31,
    "start_time": "2025-01-12T18:38:24.429Z"
   },
   {
    "duration": 7,
    "start_time": "2025-01-12T18:38:24.462Z"
   },
   {
    "duration": 100,
    "start_time": "2025-01-12T18:38:24.470Z"
   },
   {
    "duration": 8,
    "start_time": "2025-01-12T18:38:24.572Z"
   },
   {
    "duration": 2,
    "start_time": "2025-01-12T18:38:24.581Z"
   },
   {
    "duration": 130,
    "start_time": "2025-01-12T18:38:24.588Z"
   },
   {
    "duration": 18,
    "start_time": "2025-01-12T18:38:24.719Z"
   },
   {
    "duration": 5,
    "start_time": "2025-01-12T18:38:24.738Z"
   },
   {
    "duration": 2,
    "start_time": "2025-01-12T18:38:24.745Z"
   },
   {
    "duration": 6,
    "start_time": "2025-01-12T18:38:24.748Z"
   },
   {
    "duration": 2,
    "start_time": "2025-01-12T18:38:24.756Z"
   },
   {
    "duration": 4,
    "start_time": "2025-01-12T18:38:24.759Z"
   },
   {
    "duration": 19,
    "start_time": "2025-01-12T18:38:24.764Z"
   },
   {
    "duration": 7,
    "start_time": "2025-01-12T18:38:24.785Z"
   },
   {
    "duration": 6,
    "start_time": "2025-01-12T18:38:24.794Z"
   },
   {
    "duration": 2,
    "start_time": "2025-01-12T18:38:24.837Z"
   },
   {
    "duration": 3,
    "start_time": "2025-01-12T18:38:24.841Z"
   },
   {
    "duration": 231,
    "start_time": "2025-01-12T18:38:24.846Z"
   },
   {
    "duration": 3,
    "start_time": "2025-01-12T18:38:25.079Z"
   },
   {
    "duration": 247,
    "start_time": "2025-01-12T18:38:25.083Z"
   },
   {
    "duration": 5,
    "start_time": "2025-01-12T18:38:25.332Z"
   },
   {
    "duration": 236,
    "start_time": "2025-01-12T18:38:25.339Z"
   },
   {
    "duration": 10,
    "start_time": "2025-01-12T18:38:25.577Z"
   },
   {
    "duration": 9,
    "start_time": "2025-01-12T18:38:25.589Z"
   },
   {
    "duration": 3,
    "start_time": "2025-01-12T18:38:25.600Z"
   },
   {
    "duration": 149,
    "start_time": "2025-01-12T18:38:25.605Z"
   },
   {
    "duration": 16,
    "start_time": "2025-01-12T18:38:25.756Z"
   },
   {
    "duration": 2,
    "start_time": "2025-01-12T18:38:25.773Z"
   },
   {
    "duration": 3,
    "start_time": "2025-01-12T18:38:25.777Z"
   },
   {
    "duration": 14,
    "start_time": "2025-01-12T18:38:25.781Z"
   },
   {
    "duration": 8,
    "start_time": "2025-01-12T18:38:25.796Z"
   },
   {
    "duration": 35,
    "start_time": "2025-01-12T18:38:25.806Z"
   },
   {
    "duration": 3,
    "start_time": "2025-01-12T18:38:25.843Z"
   },
   {
    "duration": 223,
    "start_time": "2025-01-12T18:38:25.847Z"
   },
   {
    "duration": 10,
    "start_time": "2025-01-12T18:38:26.072Z"
   },
   {
    "duration": 5,
    "start_time": "2025-01-12T18:38:26.083Z"
   },
   {
    "duration": 6,
    "start_time": "2025-01-12T18:38:26.090Z"
   },
   {
    "duration": 53,
    "start_time": "2025-01-12T18:38:26.097Z"
   },
   {
    "duration": 10,
    "start_time": "2025-01-12T18:38:26.152Z"
   },
   {
    "duration": 21,
    "start_time": "2025-01-12T18:38:26.164Z"
   },
   {
    "duration": 7,
    "start_time": "2025-01-12T18:38:26.187Z"
   },
   {
    "duration": 42,
    "start_time": "2025-01-12T18:38:26.196Z"
   },
   {
    "duration": 3,
    "start_time": "2025-01-12T18:38:26.240Z"
   },
   {
    "duration": 3,
    "start_time": "2025-01-12T18:38:26.245Z"
   },
   {
    "duration": 95,
    "start_time": "2025-01-12T18:38:26.249Z"
   },
   {
    "duration": 13,
    "start_time": "2025-01-12T18:38:26.347Z"
   },
   {
    "duration": 2,
    "start_time": "2025-01-12T18:38:26.362Z"
   },
   {
    "duration": 3,
    "start_time": "2025-01-12T18:38:26.366Z"
   },
   {
    "duration": 296,
    "start_time": "2025-01-12T18:38:26.371Z"
   },
   {
    "duration": 322,
    "start_time": "2025-01-12T18:38:26.670Z"
   },
   {
    "duration": 51,
    "start_time": "2025-01-12T18:38:26.994Z"
   },
   {
    "duration": 5,
    "start_time": "2025-01-12T18:38:27.046Z"
   },
   {
    "duration": 15,
    "start_time": "2025-01-12T18:38:27.053Z"
   },
   {
    "duration": 10,
    "start_time": "2025-01-12T18:38:27.070Z"
   },
   {
    "duration": 23,
    "start_time": "2025-01-12T18:38:27.082Z"
   },
   {
    "duration": 42,
    "start_time": "2025-01-12T18:38:27.107Z"
   },
   {
    "duration": 5,
    "start_time": "2025-01-12T18:38:27.152Z"
   },
   {
    "duration": 408,
    "start_time": "2025-01-12T18:38:27.159Z"
   },
   {
    "duration": 4,
    "start_time": "2025-01-12T18:38:27.569Z"
   },
   {
    "duration": 8,
    "start_time": "2025-01-12T18:38:27.575Z"
   },
   {
    "duration": 22,
    "start_time": "2025-01-12T18:38:27.584Z"
   },
   {
    "duration": 19,
    "start_time": "2025-01-12T18:38:27.608Z"
   },
   {
    "duration": 9,
    "start_time": "2025-01-12T18:38:27.629Z"
   },
   {
    "duration": 11,
    "start_time": "2025-01-12T18:38:27.639Z"
   },
   {
    "duration": 127,
    "start_time": "2025-01-12T18:38:27.652Z"
   },
   {
    "duration": 156,
    "start_time": "2025-01-12T18:38:27.781Z"
   },
   {
    "duration": 694,
    "start_time": "2025-01-12T18:50:54.917Z"
   },
   {
    "duration": 72,
    "start_time": "2025-01-12T18:50:55.613Z"
   },
   {
    "duration": 12,
    "start_time": "2025-01-12T18:50:55.687Z"
   },
   {
    "duration": 11,
    "start_time": "2025-01-12T18:50:55.701Z"
   },
   {
    "duration": 16,
    "start_time": "2025-01-12T18:50:55.714Z"
   },
   {
    "duration": 12,
    "start_time": "2025-01-12T18:50:55.732Z"
   },
   {
    "duration": 7,
    "start_time": "2025-01-12T18:50:55.746Z"
   },
   {
    "duration": 9,
    "start_time": "2025-01-12T18:50:55.755Z"
   },
   {
    "duration": 20,
    "start_time": "2025-01-12T18:50:55.766Z"
   },
   {
    "duration": 4,
    "start_time": "2025-01-12T18:50:55.789Z"
   },
   {
    "duration": 12,
    "start_time": "2025-01-12T18:50:55.795Z"
   },
   {
    "duration": 31,
    "start_time": "2025-01-12T18:50:55.809Z"
   },
   {
    "duration": 6,
    "start_time": "2025-01-12T18:50:55.842Z"
   },
   {
    "duration": 6,
    "start_time": "2025-01-12T18:50:55.850Z"
   },
   {
    "duration": 13,
    "start_time": "2025-01-12T18:50:55.858Z"
   },
   {
    "duration": 6,
    "start_time": "2025-01-12T18:50:55.873Z"
   },
   {
    "duration": 8,
    "start_time": "2025-01-12T18:50:55.881Z"
   },
   {
    "duration": 5,
    "start_time": "2025-01-12T18:50:55.891Z"
   },
   {
    "duration": 5,
    "start_time": "2025-01-12T18:50:55.938Z"
   },
   {
    "duration": 51,
    "start_time": "2025-01-12T18:50:55.944Z"
   },
   {
    "duration": 8,
    "start_time": "2025-01-12T18:50:55.996Z"
   },
   {
    "duration": 2,
    "start_time": "2025-01-12T18:50:56.006Z"
   },
   {
    "duration": 7,
    "start_time": "2025-01-12T18:50:56.009Z"
   },
   {
    "duration": 2,
    "start_time": "2025-01-12T18:50:56.018Z"
   },
   {
    "duration": 204,
    "start_time": "2025-01-12T18:50:56.021Z"
   },
   {
    "duration": 186,
    "start_time": "2025-01-12T18:50:56.227Z"
   },
   {
    "duration": 5,
    "start_time": "2025-01-12T18:50:56.415Z"
   },
   {
    "duration": 3,
    "start_time": "2025-01-12T18:50:56.440Z"
   },
   {
    "duration": 82,
    "start_time": "2025-01-12T18:50:56.445Z"
   },
   {
    "duration": 10,
    "start_time": "2025-01-12T18:50:56.529Z"
   },
   {
    "duration": 86,
    "start_time": "2025-01-12T18:50:56.541Z"
   },
   {
    "duration": 15,
    "start_time": "2025-01-12T18:50:56.629Z"
   },
   {
    "duration": 3,
    "start_time": "2025-01-12T18:50:56.645Z"
   },
   {
    "duration": 262,
    "start_time": "2025-01-12T18:50:56.650Z"
   },
   {
    "duration": 7,
    "start_time": "2025-01-12T18:50:56.914Z"
   },
   {
    "duration": 28,
    "start_time": "2025-01-12T18:50:56.924Z"
   },
   {
    "duration": 2,
    "start_time": "2025-01-12T18:50:56.954Z"
   },
   {
    "duration": 113,
    "start_time": "2025-01-12T18:50:56.958Z"
   },
   {
    "duration": 10,
    "start_time": "2025-01-12T18:50:57.073Z"
   },
   {
    "duration": 6,
    "start_time": "2025-01-12T18:50:57.085Z"
   },
   {
    "duration": 124,
    "start_time": "2025-01-12T18:50:57.092Z"
   },
   {
    "duration": 20,
    "start_time": "2025-01-12T18:50:57.218Z"
   },
   {
    "duration": 14,
    "start_time": "2025-01-12T18:50:57.240Z"
   },
   {
    "duration": 2,
    "start_time": "2025-01-12T18:50:57.255Z"
   },
   {
    "duration": 13,
    "start_time": "2025-01-12T18:50:57.259Z"
   },
   {
    "duration": 5,
    "start_time": "2025-01-12T18:50:57.273Z"
   },
   {
    "duration": 3,
    "start_time": "2025-01-12T18:50:57.280Z"
   },
   {
    "duration": 16,
    "start_time": "2025-01-12T18:50:57.285Z"
   },
   {
    "duration": 7,
    "start_time": "2025-01-12T18:50:57.303Z"
   },
   {
    "duration": 69,
    "start_time": "2025-01-12T18:50:57.311Z"
   },
   {
    "duration": 33,
    "start_time": "2025-01-12T18:50:57.382Z"
   },
   {
    "duration": 8,
    "start_time": "2025-01-12T18:50:57.417Z"
   },
   {
    "duration": 213,
    "start_time": "2025-01-12T18:50:57.426Z"
   },
   {
    "duration": 2,
    "start_time": "2025-01-12T18:50:57.641Z"
   },
   {
    "duration": 247,
    "start_time": "2025-01-12T18:50:57.645Z"
   },
   {
    "duration": 3,
    "start_time": "2025-01-12T18:50:57.893Z"
   },
   {
    "duration": 224,
    "start_time": "2025-01-12T18:50:57.897Z"
   },
   {
    "duration": 17,
    "start_time": "2025-01-12T18:50:58.123Z"
   },
   {
    "duration": 8,
    "start_time": "2025-01-12T18:50:58.141Z"
   },
   {
    "duration": 4,
    "start_time": "2025-01-12T18:50:58.151Z"
   },
   {
    "duration": 163,
    "start_time": "2025-01-12T18:50:58.156Z"
   },
   {
    "duration": 21,
    "start_time": "2025-01-12T18:50:58.320Z"
   },
   {
    "duration": 7,
    "start_time": "2025-01-12T18:50:58.343Z"
   },
   {
    "duration": 6,
    "start_time": "2025-01-12T18:50:58.351Z"
   },
   {
    "duration": 14,
    "start_time": "2025-01-12T18:50:58.358Z"
   },
   {
    "duration": 8,
    "start_time": "2025-01-12T18:50:58.373Z"
   },
   {
    "duration": 5,
    "start_time": "2025-01-12T18:50:58.384Z"
   },
   {
    "duration": 2,
    "start_time": "2025-01-12T18:50:58.390Z"
   },
   {
    "duration": 231,
    "start_time": "2025-01-12T18:50:58.394Z"
   },
   {
    "duration": 13,
    "start_time": "2025-01-12T18:50:58.627Z"
   },
   {
    "duration": 5,
    "start_time": "2025-01-12T18:50:58.642Z"
   },
   {
    "duration": 7,
    "start_time": "2025-01-12T18:50:58.649Z"
   },
   {
    "duration": 37,
    "start_time": "2025-01-12T18:50:58.658Z"
   },
   {
    "duration": 9,
    "start_time": "2025-01-12T18:50:58.696Z"
   },
   {
    "duration": 48,
    "start_time": "2025-01-12T18:50:58.707Z"
   },
   {
    "duration": 9,
    "start_time": "2025-01-12T18:50:58.757Z"
   },
   {
    "duration": 22,
    "start_time": "2025-01-12T18:50:58.767Z"
   },
   {
    "duration": 3,
    "start_time": "2025-01-12T18:50:58.791Z"
   },
   {
    "duration": 24,
    "start_time": "2025-01-12T18:50:58.796Z"
   },
   {
    "duration": 8,
    "start_time": "2025-01-12T18:50:58.899Z"
   },
   {
    "duration": 17,
    "start_time": "2025-01-12T18:50:58.908Z"
   },
   {
    "duration": 2,
    "start_time": "2025-01-12T18:50:58.940Z"
   },
   {
    "duration": 7,
    "start_time": "2025-01-12T18:50:58.943Z"
   },
   {
    "duration": 312,
    "start_time": "2025-01-12T18:50:58.951Z"
   },
   {
    "duration": 301,
    "start_time": "2025-01-12T18:50:59.265Z"
   },
   {
    "duration": 48,
    "start_time": "2025-01-12T18:50:59.567Z"
   },
   {
    "duration": 23,
    "start_time": "2025-01-12T18:50:59.617Z"
   },
   {
    "duration": 16,
    "start_time": "2025-01-12T18:50:59.641Z"
   },
   {
    "duration": 7,
    "start_time": "2025-01-12T18:50:59.659Z"
   },
   {
    "duration": 26,
    "start_time": "2025-01-12T18:50:59.668Z"
   },
   {
    "duration": 14,
    "start_time": "2025-01-12T18:50:59.696Z"
   },
   {
    "duration": 5,
    "start_time": "2025-01-12T18:50:59.736Z"
   },
   {
    "duration": 407,
    "start_time": "2025-01-12T18:50:59.743Z"
   },
   {
    "duration": 4,
    "start_time": "2025-01-12T18:51:00.151Z"
   },
   {
    "duration": 46,
    "start_time": "2025-01-12T18:51:00.157Z"
   },
   {
    "duration": 44,
    "start_time": "2025-01-12T18:51:00.204Z"
   },
   {
    "duration": 58,
    "start_time": "2025-01-12T18:51:00.250Z"
   },
   {
    "duration": 71,
    "start_time": "2025-01-12T18:51:00.309Z"
   },
   {
    "duration": 62,
    "start_time": "2025-01-12T18:51:00.382Z"
   },
   {
    "duration": 192,
    "start_time": "2025-01-12T18:51:00.446Z"
   },
   {
    "duration": 159,
    "start_time": "2025-01-12T18:51:00.640Z"
   },
   {
    "duration": 642,
    "start_time": "2025-01-12T19:06:59.118Z"
   },
   {
    "duration": 62,
    "start_time": "2025-01-12T19:06:59.762Z"
   },
   {
    "duration": 10,
    "start_time": "2025-01-12T19:06:59.826Z"
   },
   {
    "duration": 10,
    "start_time": "2025-01-12T19:06:59.838Z"
   },
   {
    "duration": 20,
    "start_time": "2025-01-12T19:06:59.849Z"
   },
   {
    "duration": 14,
    "start_time": "2025-01-12T19:06:59.870Z"
   },
   {
    "duration": 6,
    "start_time": "2025-01-12T19:06:59.886Z"
   },
   {
    "duration": 9,
    "start_time": "2025-01-12T19:06:59.894Z"
   },
   {
    "duration": 15,
    "start_time": "2025-01-12T19:06:59.904Z"
   },
   {
    "duration": 3,
    "start_time": "2025-01-12T19:06:59.921Z"
   },
   {
    "duration": 5,
    "start_time": "2025-01-12T19:06:59.925Z"
   },
   {
    "duration": 22,
    "start_time": "2025-01-12T19:06:59.931Z"
   },
   {
    "duration": 10,
    "start_time": "2025-01-12T19:06:59.955Z"
   },
   {
    "duration": 5,
    "start_time": "2025-01-12T19:06:59.967Z"
   },
   {
    "duration": 9,
    "start_time": "2025-01-12T19:06:59.974Z"
   },
   {
    "duration": 4,
    "start_time": "2025-01-12T19:06:59.985Z"
   },
   {
    "duration": 7,
    "start_time": "2025-01-12T19:06:59.990Z"
   },
   {
    "duration": 6,
    "start_time": "2025-01-12T19:06:59.998Z"
   },
   {
    "duration": 35,
    "start_time": "2025-01-12T19:07:00.005Z"
   },
   {
    "duration": 34,
    "start_time": "2025-01-12T19:07:00.041Z"
   },
   {
    "duration": 42,
    "start_time": "2025-01-12T19:07:00.076Z"
   },
   {
    "duration": 54,
    "start_time": "2025-01-12T19:07:00.119Z"
   },
   {
    "duration": 65,
    "start_time": "2025-01-12T19:07:00.175Z"
   },
   {
    "duration": 34,
    "start_time": "2025-01-12T19:07:00.242Z"
   },
   {
    "duration": 242,
    "start_time": "2025-01-12T19:07:00.278Z"
   },
   {
    "duration": 172,
    "start_time": "2025-01-12T19:07:00.522Z"
   },
   {
    "duration": 4,
    "start_time": "2025-01-12T19:07:00.696Z"
   },
   {
    "duration": 25,
    "start_time": "2025-01-12T19:07:00.704Z"
   },
   {
    "duration": 101,
    "start_time": "2025-01-12T19:07:00.730Z"
   },
   {
    "duration": 5,
    "start_time": "2025-01-12T19:07:00.833Z"
   },
   {
    "duration": 85,
    "start_time": "2025-01-12T19:07:00.839Z"
   },
   {
    "duration": 6,
    "start_time": "2025-01-12T19:07:00.925Z"
   },
   {
    "duration": 22,
    "start_time": "2025-01-12T19:07:00.933Z"
   },
   {
    "duration": 181,
    "start_time": "2025-01-12T19:07:00.957Z"
   },
   {
    "duration": 5,
    "start_time": "2025-01-12T19:07:01.139Z"
   },
   {
    "duration": 31,
    "start_time": "2025-01-12T19:07:01.152Z"
   },
   {
    "duration": 7,
    "start_time": "2025-01-12T19:07:01.184Z"
   },
   {
    "duration": 111,
    "start_time": "2025-01-12T19:07:01.192Z"
   },
   {
    "duration": 7,
    "start_time": "2025-01-12T19:07:01.304Z"
   },
   {
    "duration": 37,
    "start_time": "2025-01-12T19:07:01.313Z"
   },
   {
    "duration": 133,
    "start_time": "2025-01-12T19:07:01.351Z"
   },
   {
    "duration": 9,
    "start_time": "2025-01-12T19:07:01.486Z"
   },
   {
    "duration": 25,
    "start_time": "2025-01-12T19:07:01.497Z"
   },
   {
    "duration": 17,
    "start_time": "2025-01-12T19:07:01.524Z"
   },
   {
    "duration": 32,
    "start_time": "2025-01-12T19:07:01.543Z"
   },
   {
    "duration": 34,
    "start_time": "2025-01-12T19:07:01.577Z"
   },
   {
    "duration": 19,
    "start_time": "2025-01-12T19:07:01.612Z"
   },
   {
    "duration": 38,
    "start_time": "2025-01-12T19:07:01.633Z"
   },
   {
    "duration": 45,
    "start_time": "2025-01-12T19:07:01.673Z"
   },
   {
    "duration": 25,
    "start_time": "2025-01-12T19:07:01.720Z"
   },
   {
    "duration": 56,
    "start_time": "2025-01-12T19:07:01.746Z"
   },
   {
    "duration": 55,
    "start_time": "2025-01-12T19:07:01.803Z"
   },
   {
    "duration": 184,
    "start_time": "2025-01-12T19:07:01.859Z"
   },
   {
    "duration": 2,
    "start_time": "2025-01-12T19:07:02.044Z"
   },
   {
    "duration": 207,
    "start_time": "2025-01-12T19:07:02.048Z"
   },
   {
    "duration": 2,
    "start_time": "2025-01-12T19:07:02.256Z"
   },
   {
    "duration": 238,
    "start_time": "2025-01-12T19:07:02.260Z"
   },
   {
    "duration": 7,
    "start_time": "2025-01-12T19:07:02.500Z"
   },
   {
    "duration": 32,
    "start_time": "2025-01-12T19:07:02.508Z"
   },
   {
    "duration": 32,
    "start_time": "2025-01-12T19:07:02.541Z"
   },
   {
    "duration": 150,
    "start_time": "2025-01-12T19:07:02.574Z"
   },
   {
    "duration": 13,
    "start_time": "2025-01-12T19:07:02.726Z"
   },
   {
    "duration": 50,
    "start_time": "2025-01-12T19:07:02.740Z"
   },
   {
    "duration": 45,
    "start_time": "2025-01-12T19:07:02.792Z"
   },
   {
    "duration": 25,
    "start_time": "2025-01-12T19:07:02.838Z"
   },
   {
    "duration": 11,
    "start_time": "2025-01-12T19:07:02.864Z"
   },
   {
    "duration": 27,
    "start_time": "2025-01-12T19:07:02.877Z"
   },
   {
    "duration": 23,
    "start_time": "2025-01-12T19:07:02.905Z"
   },
   {
    "duration": 186,
    "start_time": "2025-01-12T19:07:02.929Z"
   },
   {
    "duration": 8,
    "start_time": "2025-01-12T19:07:03.116Z"
   },
   {
    "duration": 8,
    "start_time": "2025-01-12T19:07:03.125Z"
   },
   {
    "duration": 40,
    "start_time": "2025-01-12T19:07:03.134Z"
   },
   {
    "duration": 53,
    "start_time": "2025-01-12T19:07:03.175Z"
   },
   {
    "duration": 8,
    "start_time": "2025-01-12T19:07:03.229Z"
   },
   {
    "duration": 27,
    "start_time": "2025-01-12T19:07:03.238Z"
   },
   {
    "duration": 7,
    "start_time": "2025-01-12T19:07:03.266Z"
   },
   {
    "duration": 84,
    "start_time": "2025-01-12T19:07:03.274Z"
   },
   {
    "duration": 27,
    "start_time": "2025-01-12T19:07:03.359Z"
   },
   {
    "duration": 54,
    "start_time": "2025-01-12T19:07:03.387Z"
   },
   {
    "duration": 24,
    "start_time": "2025-01-12T19:07:03.443Z"
   },
   {
    "duration": 41,
    "start_time": "2025-01-12T19:07:03.468Z"
   },
   {
    "duration": 19,
    "start_time": "2025-01-12T19:07:03.514Z"
   },
   {
    "duration": 23,
    "start_time": "2025-01-12T19:07:03.534Z"
   },
   {
    "duration": 309,
    "start_time": "2025-01-12T19:07:03.558Z"
   },
   {
    "duration": 300,
    "start_time": "2025-01-12T19:07:03.869Z"
   },
   {
    "duration": 40,
    "start_time": "2025-01-12T19:07:04.171Z"
   },
   {
    "duration": 32,
    "start_time": "2025-01-12T19:07:04.212Z"
   },
   {
    "duration": 34,
    "start_time": "2025-01-12T19:07:04.245Z"
   },
   {
    "duration": 40,
    "start_time": "2025-01-12T19:07:04.280Z"
   },
   {
    "duration": 26,
    "start_time": "2025-01-12T19:07:04.322Z"
   },
   {
    "duration": 17,
    "start_time": "2025-01-12T19:07:04.350Z"
   },
   {
    "duration": 19,
    "start_time": "2025-01-12T19:07:04.368Z"
   },
   {
    "duration": 446,
    "start_time": "2025-01-12T19:07:04.388Z"
   },
   {
    "duration": 3,
    "start_time": "2025-01-12T19:07:04.836Z"
   },
   {
    "duration": 73,
    "start_time": "2025-01-12T19:07:04.841Z"
   },
   {
    "duration": 24,
    "start_time": "2025-01-12T19:07:04.916Z"
   },
   {
    "duration": 9,
    "start_time": "2025-01-12T19:07:04.941Z"
   },
   {
    "duration": 8,
    "start_time": "2025-01-12T19:07:04.951Z"
   },
   {
    "duration": 8,
    "start_time": "2025-01-12T19:07:04.960Z"
   },
   {
    "duration": 143,
    "start_time": "2025-01-12T19:07:04.969Z"
   },
   {
    "duration": 136,
    "start_time": "2025-01-12T19:07:05.113Z"
   }
  ],
  "kernelspec": {
   "display_name": "Python [conda env:practicum]",
   "language": "python",
   "name": "conda-env-practicum-py"
  },
  "language_info": {
   "codemirror_mode": {
    "name": "ipython",
    "version": 3
   },
   "file_extension": ".py",
   "mimetype": "text/x-python",
   "name": "python",
   "nbconvert_exporter": "python",
   "pygments_lexer": "ipython3",
   "version": "3.11.12"
  },
  "toc": {
   "base_numbering": 1,
   "nav_menu": {},
   "number_sections": true,
   "sideBar": true,
   "skip_h1_title": true,
   "title_cell": "Содержание",
   "title_sidebar": "Contents",
   "toc_cell": true,
   "toc_position": {
    "height": "calc(100% - 180px)",
    "left": "10px",
    "top": "150px",
    "width": "228.943px"
   },
   "toc_section_display": true,
   "toc_window_display": true
  }
 },
 "nbformat": 4,
 "nbformat_minor": 5
}
