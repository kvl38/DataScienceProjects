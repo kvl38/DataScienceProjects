{
 "cells": [
  {
   "cell_type": "markdown",
   "metadata": {
    "toc": true
   },
   "source": [
    "<h1>Содержание<span class=\"tocSkip\"></span></h1>\n",
    "<div class=\"toc\"><ul class=\"toc-item\"><li><span><a href=\"#Загрузка-данных\" data-toc-modified-id=\"Загрузка-данных-1\"><span class=\"toc-item-num\">1&nbsp;&nbsp;</span>Загрузка данных</a></span></li><li><span><a href=\"#Классические-модели-машинного-обучения\" data-toc-modified-id=\"Классические-модели-машинного-обучения-2\"><span class=\"toc-item-num\">2&nbsp;&nbsp;</span>Классические модели машинного обучения</a></span><ul class=\"toc-item\"><li><span><a href=\"#Подготовка-данных\" data-toc-modified-id=\"Подготовка-данных-2.1\"><span class=\"toc-item-num\">2.1&nbsp;&nbsp;</span>Подготовка данных</a></span></li><li><span><a href=\"#Обучение-моделей\" data-toc-modified-id=\"Обучение-моделей-2.2\"><span class=\"toc-item-num\">2.2&nbsp;&nbsp;</span>Обучение моделей</a></span></li><li><span><a href=\"#Вывод-по-разделу\" data-toc-modified-id=\"Вывод-по-разделу-2.3\"><span class=\"toc-item-num\">2.3&nbsp;&nbsp;</span>Вывод по разделу</a></span></li></ul></li><li><span><a href=\"#Обучение-с-использованием-BERT\" data-toc-modified-id=\"Обучение-с-использованием-BERT-3\"><span class=\"toc-item-num\">3&nbsp;&nbsp;</span>Обучение с использованием BERT</a></span><ul class=\"toc-item\"><li><span><a href=\"#Подготовка-данных\" data-toc-modified-id=\"Подготовка-данных-3.1\"><span class=\"toc-item-num\">3.1&nbsp;&nbsp;</span>Подготовка данных</a></span></li><li><span><a href=\"#Обучение-модели\" data-toc-modified-id=\"Обучение-модели-3.2\"><span class=\"toc-item-num\">3.2&nbsp;&nbsp;</span>Обучение модели</a></span></li><li><span><a href=\"#Вывод-по-разделу\" data-toc-modified-id=\"Вывод-по-разделу-3.3\"><span class=\"toc-item-num\">3.3&nbsp;&nbsp;</span>Вывод по разделу</a></span></li></ul></li><li><span><a href=\"#Тестирование\" data-toc-modified-id=\"Тестирование-4\"><span class=\"toc-item-num\">4&nbsp;&nbsp;</span>Тестирование</a></span></li><li><span><a href=\"#Общий-вывод\" data-toc-modified-id=\"Общий-вывод-5\"><span class=\"toc-item-num\">5&nbsp;&nbsp;</span>Общий вывод</a></span></li></ul></div>"
   ]
  },
  {
   "cell_type": "markdown",
   "metadata": {},
   "source": [
    "# Проект для «Викишоп» с BERT"
   ]
  },
  {
   "cell_type": "markdown",
   "metadata": {},
   "source": [
    "Интернет-магазин «Викишоп» запускает новый сервис. Теперь пользователи могут редактировать и дополнять описания товаров, как в вики-сообществах. То есть клиенты предлагают свои правки и комментируют изменения других. Магазину нужен инструмент, который будет искать токсичные комментарии и отправлять их на модерацию. \n",
    "\n",
    "\n",
    "**Цель:** \n",
    "\n",
    "- Обучить модель классифицировать комментарии на позитивные и негативные. \n",
    "- Построить модель со значением метрики качества *F1* не меньше 0.75. \n",
    "\n",
    "**Описание данных**\n",
    "\n",
    "В нашем распоряжении набор данных с разметкой о токсичности правок. Они находятся в файле `toxic_comments.csv`\n",
    " - *text* — текст комментария \n",
    " - *toxic* — целевой признак"
   ]
  },
  {
   "cell_type": "markdown",
   "metadata": {},
   "source": [
    "## Загрузка данных"
   ]
  },
  {
   "cell_type": "code",
   "execution_count": 7,
   "metadata": {},
   "outputs": [],
   "source": [
    "!pip install transformers -q"
   ]
  },
  {
   "cell_type": "code",
   "execution_count": 8,
   "metadata": {},
   "outputs": [],
   "source": [
    "# Импортируем нужные библиотеки\n",
    "import pandas as pd\n",
    "import matplotlib.pyplot as plt\n",
    "import seaborn as sns\n",
    "import numpy as np\n",
    "import re\n",
    "import nltk\n",
    "from nltk.corpus import stopwords\n",
    "from nltk.stem import WordNetLemmatizer\n",
    "from nltk.corpus import wordnet\n",
    "from nltk.tokenize import word_tokenize  \n",
    "import torch\n",
    "from sklearn.feature_extraction.text import TfidfVectorizer\n",
    "from sklearn.model_selection import train_test_split\n",
    "from sklearn.pipeline import Pipeline\n",
    "from sklearn.model_selection import GridSearchCV, RandomizedSearchCV\n",
    "from sklearn.linear_model import LogisticRegression\n",
    "from sklearn.ensemble import RandomForestClassifier\n",
    "from catboost import CatBoostClassifier\n",
    "from lightgbm import LGBMClassifier\n",
    "from sklearn.metrics import f1_score\n",
    "import transformers\n",
    "from tqdm import tqdm\n",
    "from torch.utils.data import DataLoader, TensorDataset\n",
    "from transformers import DistilBertTokenizer, DistilBertForSequenceClassification\n",
    "from torch.optim import AdamW\n",
    "import torch.nn.utils as nn_utils\n",
    "import warnings"
   ]
  },
  {
   "cell_type": "code",
   "execution_count": 10,
   "metadata": {},
   "outputs": [
    {
     "name": "stderr",
     "output_type": "stream",
     "text": [
      "[nltk_data] Downloading package punkt to /Users/kvl38/nltk_data...\n",
      "[nltk_data]   Package punkt is already up-to-date!\n",
      "[nltk_data] Downloading package wordnet to /Users/kvl38/nltk_data...\n",
      "[nltk_data]   Package wordnet is already up-to-date!\n",
      "[nltk_data] Downloading package averaged_perceptron_tagger to\n",
      "[nltk_data]     /Users/kvl38/nltk_data...\n",
      "[nltk_data]   Package averaged_perceptron_tagger is already up-to-\n",
      "[nltk_data]       date!\n",
      "[nltk_data] Downloading package averaged_perceptron_tagger_eng to\n",
      "[nltk_data]     /Users/kvl38/nltk_data...\n",
      "[nltk_data]   Package averaged_perceptron_tagger_eng is already up-to-\n",
      "[nltk_data]       date!\n"
     ]
    },
    {
     "data": {
      "text/plain": [
       "True"
      ]
     },
     "execution_count": 10,
     "metadata": {},
     "output_type": "execute_result"
    }
   ],
   "source": [
    "pd.options.display.max_colwidth = 0\n",
    "warnings.filterwarnings('ignore')\n",
    "nltk.download('punkt')\n",
    "nltk.download('wordnet')\n",
    "nltk.download('averaged_perceptron_tagger')\n",
    "nltk.download('averaged_perceptron_tagger_eng')"
   ]
  },
  {
   "cell_type": "code",
   "execution_count": 11,
   "metadata": {},
   "outputs": [],
   "source": [
    "# Задаем значения констант\n",
    "RANDOM_STATE = 42\n",
    "TEST_SIZE = 0.25\n",
    "cv = 3"
   ]
  },
  {
   "cell_type": "code",
   "execution_count": 12,
   "metadata": {},
   "outputs": [],
   "source": [
    "# Функция обработки комментария\n",
    "def data_preparation(comment):\n",
    "    \n",
    "    \"\"\"\n",
    "    Очищает и подготавливает текст для анализа в задачах обработки естественного языка (NLP).\n",
    "    Функция возвращает обработанный текст в виде строки.\n",
    "\n",
    "    Parameters\n",
    "    ----------\n",
    "    comment : str\n",
    "        Исходный текстовый комментарий на английском языке.\n",
    "\n",
    "    Returns\n",
    "    -------\n",
    "    str\n",
    "        Предобработанный текст, содержащий только значимые слова в начальной форме, разделённые пробелами.\n",
    "    \"\"\"\n",
    "    \n",
    "    comment = re.sub(r'[^a-zA-Z]', ' ', comment)\n",
    "    comment = comment.lower()\n",
    "    tokens = nltk.word_tokenize(comment)\n",
    "    tags = nltk.pos_tag(tokens)\n",
    "    lemmatized = [ lemmatizer.lemmatize(word, get_wordnet_pos(tag)) for word, tag in tags ]\n",
    "    comment = ' '.join(lemmatized)\n",
    "    return comment"
   ]
  },
  {
   "cell_type": "code",
   "execution_count": 15,
   "metadata": {},
   "outputs": [],
   "source": [
    "# Функция преобразования POS-тега\n",
    "def get_wordnet_pos(tag):\n",
    "    \n",
    "    \"\"\"\n",
    "    Преобразует POS-тег из формата NLTK в формат, поддерживаемый WordNetLemmatizer.\n",
    "    Функция использует первую букву POS-тега, чтобы определить соответствующую часть речи WordNet\n",
    "\n",
    "    Parameters\n",
    "    ----------\n",
    "    tag : str\n",
    "        POS-тег.\n",
    "\n",
    "    Returns\n",
    "    -------\n",
    "    str\n",
    "        Части речи в формате WordNet.\n",
    "    \"\"\"\n",
    "    tag_map = {\n",
    "        'N': wordnet.NOUN,\n",
    "        'V': wordnet.VERB,\n",
    "        'J': wordnet.ADJ,\n",
    "        'R': wordnet.ADV\n",
    "    }\n",
    "    \n",
    "    return tag_map.get(tag[0], wordnet.NOUN)"
   ]
  },
  {
   "cell_type": "code",
   "execution_count": 16,
   "metadata": {},
   "outputs": [
    {
     "data": {
      "text/html": [
       "<div>\n",
       "<style scoped>\n",
       "    .dataframe tbody tr th:only-of-type {\n",
       "        vertical-align: middle;\n",
       "    }\n",
       "\n",
       "    .dataframe tbody tr th {\n",
       "        vertical-align: top;\n",
       "    }\n",
       "\n",
       "    .dataframe thead th {\n",
       "        text-align: right;\n",
       "    }\n",
       "</style>\n",
       "<table border=\"1\" class=\"dataframe\">\n",
       "  <thead>\n",
       "    <tr style=\"text-align: right;\">\n",
       "      <th></th>\n",
       "      <th>Unnamed: 0</th>\n",
       "      <th>text</th>\n",
       "      <th>toxic</th>\n",
       "    </tr>\n",
       "  </thead>\n",
       "  <tbody>\n",
       "    <tr>\n",
       "      <th>0</th>\n",
       "      <td>0</td>\n",
       "      <td>Explanation\\nWhy the edits made under my username Hardcore Metallica Fan were reverted? They weren't vandalisms, just closure on some GAs after I voted at New York Dolls FAC. And please don't remove the template from the talk page since I'm retired now.89.205.38.27</td>\n",
       "      <td>0</td>\n",
       "    </tr>\n",
       "    <tr>\n",
       "      <th>1</th>\n",
       "      <td>1</td>\n",
       "      <td>D'aww! He matches this background colour I'm seemingly stuck with. Thanks.  (talk) 21:51, January 11, 2016 (UTC)</td>\n",
       "      <td>0</td>\n",
       "    </tr>\n",
       "    <tr>\n",
       "      <th>2</th>\n",
       "      <td>2</td>\n",
       "      <td>Hey man, I'm really not trying to edit war. It's just that this guy is constantly removing relevant information and talking to me through edits instead of my talk page. He seems to care more about the formatting than the actual info.</td>\n",
       "      <td>0</td>\n",
       "    </tr>\n",
       "    <tr>\n",
       "      <th>3</th>\n",
       "      <td>3</td>\n",
       "      <td>\"\\nMore\\nI can't make any real suggestions on improvement - I wondered if the section statistics should be later on, or a subsection of \"\"types of accidents\"\"  -I think the references may need tidying so that they are all in the exact same format ie date format etc. I can do that later on, if no-one else does first - if you have any preferences for formatting style on references or want to do it yourself please let me know.\\n\\nThere appears to be a backlog on articles for review so I guess there may be a delay until a reviewer turns up. It's listed in the relevant form eg Wikipedia:Good_article_nominations#Transport  \"</td>\n",
       "      <td>0</td>\n",
       "    </tr>\n",
       "    <tr>\n",
       "      <th>4</th>\n",
       "      <td>4</td>\n",
       "      <td>You, sir, are my hero. Any chance you remember what page that's on?</td>\n",
       "      <td>0</td>\n",
       "    </tr>\n",
       "  </tbody>\n",
       "</table>\n",
       "</div>"
      ],
      "text/plain": [
       "   Unnamed: 0  \\\n",
       "0  0            \n",
       "1  1            \n",
       "2  2            \n",
       "3  3            \n",
       "4  4            \n",
       "\n",
       "                                                                                                                                                                                                                                                                                                                                                                                                                                                                                                                                                                                                                                                 text  \\\n",
       "0  Explanation\\nWhy the edits made under my username Hardcore Metallica Fan were reverted? They weren't vandalisms, just closure on some GAs after I voted at New York Dolls FAC. And please don't remove the template from the talk page since I'm retired now.89.205.38.27                                                                                                                                                                                                                                                                                                                                                                            \n",
       "1  D'aww! He matches this background colour I'm seemingly stuck with. Thanks.  (talk) 21:51, January 11, 2016 (UTC)                                                                                                                                                                                                                                                                                                                                                                                                                                                                                                                                     \n",
       "2  Hey man, I'm really not trying to edit war. It's just that this guy is constantly removing relevant information and talking to me through edits instead of my talk page. He seems to care more about the formatting than the actual info.                                                                                                                                                                                                                                                                                                                                                                                                            \n",
       "3  \"\\nMore\\nI can't make any real suggestions on improvement - I wondered if the section statistics should be later on, or a subsection of \"\"types of accidents\"\"  -I think the references may need tidying so that they are all in the exact same format ie date format etc. I can do that later on, if no-one else does first - if you have any preferences for formatting style on references or want to do it yourself please let me know.\\n\\nThere appears to be a backlog on articles for review so I guess there may be a delay until a reviewer turns up. It's listed in the relevant form eg Wikipedia:Good_article_nominations#Transport  \"   \n",
       "4  You, sir, are my hero. Any chance you remember what page that's on?                                                                                                                                                                                                                                                                                                                                                                                                                                                                                                                                                                                  \n",
       "\n",
       "   toxic  \n",
       "0  0      \n",
       "1  0      \n",
       "2  0      \n",
       "3  0      \n",
       "4  0      "
      ]
     },
     "execution_count": 16,
     "metadata": {},
     "output_type": "execute_result"
    }
   ],
   "source": [
    "# Загружаем данные\n",
    "try:\n",
    "    df = pd.read_csv('https://code.s3.yandex.net/datasets/toxic_comments.csv')\n",
    "    bert_df = df.copy()\n",
    "    \n",
    "except Exception as e:\n",
    "    print(f\"Произошла ошибка: {e}\")\n",
    "\n",
    "# Выводим первые 5 строк загруженных данных\n",
    "df.head()"
   ]
  },
  {
   "cell_type": "code",
   "execution_count": 17,
   "metadata": {},
   "outputs": [
    {
     "name": "stdout",
     "output_type": "stream",
     "text": [
      "<class 'pandas.core.frame.DataFrame'>\n",
      "RangeIndex: 159292 entries, 0 to 159291\n",
      "Data columns (total 3 columns):\n",
      " #   Column      Non-Null Count   Dtype \n",
      "---  ------      --------------   ----- \n",
      " 0   Unnamed: 0  159292 non-null  int64 \n",
      " 1   text        159292 non-null  object\n",
      " 2   toxic       159292 non-null  int64 \n",
      "dtypes: int64(2), object(1)\n",
      "memory usage: 3.6+ MB\n"
     ]
    }
   ],
   "source": [
    "# Выводим основную информацию по загруженным данным\n",
    "df.info()"
   ]
  },
  {
   "cell_type": "code",
   "execution_count": 18,
   "metadata": {},
   "outputs": [
    {
     "data": {
      "text/plain": [
       "Index(['text', 'toxic'], dtype='object')"
      ]
     },
     "execution_count": 18,
     "metadata": {},
     "output_type": "execute_result"
    }
   ],
   "source": [
    "# Удаляем столбец 'Unnamed: 0'\n",
    "del df['Unnamed: 0']\n",
    "\n",
    "# Проверяем корректность преобразований\n",
    "df.columns"
   ]
  },
  {
   "cell_type": "code",
   "execution_count": 19,
   "metadata": {},
   "outputs": [
    {
     "data": {
      "text/html": [
       "<div>\n",
       "<style scoped>\n",
       "    .dataframe tbody tr th:only-of-type {\n",
       "        vertical-align: middle;\n",
       "    }\n",
       "\n",
       "    .dataframe tbody tr th {\n",
       "        vertical-align: top;\n",
       "    }\n",
       "\n",
       "    .dataframe thead th {\n",
       "        text-align: right;\n",
       "    }\n",
       "</style>\n",
       "<table border=\"1\" class=\"dataframe\">\n",
       "  <thead>\n",
       "    <tr style=\"text-align: right;\">\n",
       "      <th></th>\n",
       "      <th>text</th>\n",
       "      <th>toxic</th>\n",
       "    </tr>\n",
       "  </thead>\n",
       "  <tbody>\n",
       "    <tr>\n",
       "      <th>121655</th>\n",
       "      <td>you are a fucking retard</td>\n",
       "      <td>1</td>\n",
       "    </tr>\n",
       "    <tr>\n",
       "      <th>46959</th>\n",
       "      <td>hey ricboom who ever the fuck you are if you go to my schoolim gonna beat the shit out of you</td>\n",
       "      <td>1</td>\n",
       "    </tr>\n",
       "    <tr>\n",
       "      <th>67825</th>\n",
       "      <td>wow its obvious koreans cannot make a single edit without cursing</td>\n",
       "      <td>1</td>\n",
       "    </tr>\n",
       "  </tbody>\n",
       "</table>\n",
       "</div>"
      ],
      "text/plain": [
       "                                                                                                 text  \\\n",
       "121655  you are a fucking retard                                                                        \n",
       "46959   hey ricboom who ever the fuck you are if you go to my schoolim gonna beat the shit out of you   \n",
       "67825   wow its obvious koreans cannot make a single edit without cursing                               \n",
       "\n",
       "        toxic  \n",
       "121655  1      \n",
       "46959   1      \n",
       "67825   1      "
      ]
     },
     "execution_count": 19,
     "metadata": {},
     "output_type": "execute_result"
    }
   ],
   "source": [
    "# Выводим 3 токсичных комментария\n",
    "df[df['toxic'] == 1].sample(3)"
   ]
  },
  {
   "cell_type": "code",
   "execution_count": 20,
   "metadata": {},
   "outputs": [
    {
     "data": {
      "text/plain": [
       "np.int64(0)"
      ]
     },
     "execution_count": 20,
     "metadata": {},
     "output_type": "execute_result"
    }
   ],
   "source": [
    "# Найдем число полных дубликатов\n",
    "df.duplicated().sum()"
   ]
  },
  {
   "cell_type": "code",
   "execution_count": 21,
   "metadata": {},
   "outputs": [
    {
     "data": {
      "text/plain": [
       "text     0\n",
       "toxic    0\n",
       "dtype: int64"
      ]
     },
     "execution_count": 21,
     "metadata": {},
     "output_type": "execute_result"
    }
   ],
   "source": [
    "# Убедимся в отсутствии пропусков\n",
    "df.isnull().sum()"
   ]
  },
  {
   "cell_type": "code",
   "execution_count": 22,
   "metadata": {},
   "outputs": [
    {
     "data": {
      "image/png": "[encoded data removed]",
      "text/plain": [
       "<Figure size 600x600 with 1 Axes>"
      ]
     },
     "metadata": {},
     "output_type": "display_data"
    }
   ],
   "source": [
    "# Строим график распределения классов\n",
    "plt.figure(figsize=(6, 6))\n",
    "sns.countplot(data=df, x='toxic', hue='toxic', palette='deep', edgecolor='black')\n",
    "plt.title('Дисбаланс классов')\n",
    "plt.ylabel('Число комментариев')\n",
    "plt.xlabel('Класс токсичности комментария')\n",
    "plt.show()"
   ]
  },
  {
   "cell_type": "markdown",
   "metadata": {},
   "source": [
    "**Вывод по разделу:**\n",
    "- Датасет содержит информацию о 159292 комментариях и их принадлежности к классу токсичности (токсичный или нет)\n",
    "- Токсичные комментарии обозначены меткой 1 в столбце toxic, нетоксичные — 0\n",
    "- Наблюдается дисбаланс классов: нетоксичных комментариев примерно в 9 раз больше, чем токсичных. Это необходимо учитывать при обучении моделей классификации\n",
    "- Все комментарии написаны на английском языке, поэтому требуется соответствующая языковая обработка\n",
    "- Названия столбцов соответствуют принятым стандартам\n",
    "- Типы данных соответствуют содержанию"
   ]
  },
  {
   "cell_type": "markdown",
   "metadata": {},
   "source": [
    "## Классические модели машинного обучения"
   ]
  },
  {
   "cell_type": "markdown",
   "metadata": {},
   "source": [
    "### Подготовка данных"
   ]
  },
  {
   "cell_type": "code",
   "execution_count": 27,
   "metadata": {},
   "outputs": [
    {
     "name": "stderr",
     "output_type": "stream",
     "text": [
      "[nltk_data] Downloading package stopwords to /Users/kvl38/nltk_data...\n",
      "[nltk_data]   Package stopwords is already up-to-date!\n"
     ]
    }
   ],
   "source": [
    "# Получаем множество стоп-слов\n",
    "nltk.download('stopwords')\n",
    "stopwords = list(set(stopwords.words('english')))"
   ]
  },
  {
   "cell_type": "code",
   "execution_count": 28,
   "metadata": {},
   "outputs": [],
   "source": [
    "# Создаем объект для приведения каждого слова к базовой форме\n",
    "lemmatizer = WordNetLemmatizer()"
   ]
  },
  {
   "cell_type": "code",
   "execution_count": 29,
   "metadata": {},
   "outputs": [
    {
     "data": {
      "text/html": [
       "<div>\n",
       "<style scoped>\n",
       "    .dataframe tbody tr th:only-of-type {\n",
       "        vertical-align: middle;\n",
       "    }\n",
       "\n",
       "    .dataframe tbody tr th {\n",
       "        vertical-align: top;\n",
       "    }\n",
       "\n",
       "    .dataframe thead th {\n",
       "        text-align: right;\n",
       "    }\n",
       "</style>\n",
       "<table border=\"1\" class=\"dataframe\">\n",
       "  <thead>\n",
       "    <tr style=\"text-align: right;\">\n",
       "      <th></th>\n",
       "      <th>text</th>\n",
       "      <th>toxic</th>\n",
       "    </tr>\n",
       "  </thead>\n",
       "  <tbody>\n",
       "    <tr>\n",
       "      <th>0</th>\n",
       "      <td>Explanation\\nWhy the edits made under my username Hardcore Metallica Fan were reverted? They weren't vandalisms, just closure on some GAs after I voted at New York Dolls FAC. And please don't remove the template from the talk page since I'm retired now.89.205.38.27</td>\n",
       "      <td>0</td>\n",
       "    </tr>\n",
       "    <tr>\n",
       "      <th>1</th>\n",
       "      <td>D'aww! He matches this background colour I'm seemingly stuck with. Thanks.  (talk) 21:51, January 11, 2016 (UTC)</td>\n",
       "      <td>0</td>\n",
       "    </tr>\n",
       "  </tbody>\n",
       "</table>\n",
       "</div>"
      ],
      "text/plain": [
       "                                                                                                                                                                                                                                                                        text  \\\n",
       "0  Explanation\\nWhy the edits made under my username Hardcore Metallica Fan were reverted? They weren't vandalisms, just closure on some GAs after I voted at New York Dolls FAC. And please don't remove the template from the talk page since I'm retired now.89.205.38.27   \n",
       "1  D'aww! He matches this background colour I'm seemingly stuck with. Thanks.  (talk) 21:51, January 11, 2016 (UTC)                                                                                                                                                            \n",
       "\n",
       "   toxic  \n",
       "0  0      \n",
       "1  0      "
      ]
     },
     "execution_count": 29,
     "metadata": {},
     "output_type": "execute_result"
    }
   ],
   "source": [
    "# Выводим первые строки до преобразований\n",
    "df.head(2)"
   ]
  },
  {
   "cell_type": "code",
   "execution_count": 30,
   "metadata": {},
   "outputs": [
    {
     "data": {
      "text/html": [
       "<div>\n",
       "<style scoped>\n",
       "    .dataframe tbody tr th:only-of-type {\n",
       "        vertical-align: middle;\n",
       "    }\n",
       "\n",
       "    .dataframe tbody tr th {\n",
       "        vertical-align: top;\n",
       "    }\n",
       "\n",
       "    .dataframe thead th {\n",
       "        text-align: right;\n",
       "    }\n",
       "</style>\n",
       "<table border=\"1\" class=\"dataframe\">\n",
       "  <thead>\n",
       "    <tr style=\"text-align: right;\">\n",
       "      <th></th>\n",
       "      <th>text</th>\n",
       "      <th>toxic</th>\n",
       "      <th>proc_comment</th>\n",
       "    </tr>\n",
       "  </thead>\n",
       "  <tbody>\n",
       "    <tr>\n",
       "      <th>0</th>\n",
       "      <td>Explanation\\nWhy the edits made under my username Hardcore Metallica Fan were reverted? They weren't vandalisms, just closure on some GAs after I voted at New York Dolls FAC. And please don't remove the template from the talk page since I'm retired now.89.205.38.27</td>\n",
       "      <td>0</td>\n",
       "      <td>explanation why the edits make under my username hardcore metallica fan be revert they weren t vandalism just closure on some gas after i vote at new york doll fac and please don t remove the template from the talk page since i m retire now</td>\n",
       "    </tr>\n",
       "    <tr>\n",
       "      <th>1</th>\n",
       "      <td>D'aww! He matches this background colour I'm seemingly stuck with. Thanks.  (talk) 21:51, January 11, 2016 (UTC)</td>\n",
       "      <td>0</td>\n",
       "      <td>d aww he match this background colour i m seemingly stick with thanks talk january utc</td>\n",
       "    </tr>\n",
       "  </tbody>\n",
       "</table>\n",
       "</div>"
      ],
      "text/plain": [
       "                                                                                                                                                                                                                                                                        text  \\\n",
       "0  Explanation\\nWhy the edits made under my username Hardcore Metallica Fan were reverted? They weren't vandalisms, just closure on some GAs after I voted at New York Dolls FAC. And please don't remove the template from the talk page since I'm retired now.89.205.38.27   \n",
       "1  D'aww! He matches this background colour I'm seemingly stuck with. Thanks.  (talk) 21:51, January 11, 2016 (UTC)                                                                                                                                                            \n",
       "\n",
       "   toxic  \\\n",
       "0  0       \n",
       "1  0       \n",
       "\n",
       "                                                                                                                                                                                                                                       proc_comment  \n",
       "0  explanation why the edits make under my username hardcore metallica fan be revert they weren t vandalism just closure on some gas after i vote at new york doll fac and please don t remove the template from the talk page since i m retire now  \n",
       "1  d aww he match this background colour i m seemingly stick with thanks talk january utc                                                                                                                                                            "
      ]
     },
     "execution_count": 30,
     "metadata": {},
     "output_type": "execute_result"
    }
   ],
   "source": [
    "# Приводим комментарии к правильному для обработки виду\n",
    "df['proc_comment'] = df['text'].apply(data_preparation)\n",
    "\n",
    "# Проверяем корректность преобразований\n",
    "df.head(2)"
   ]
  },
  {
   "cell_type": "code",
   "execution_count": 31,
   "metadata": {},
   "outputs": [
    {
     "data": {
      "text/plain": [
       "((119469,), (39823,))"
      ]
     },
     "execution_count": 31,
     "metadata": {},
     "output_type": "execute_result"
    }
   ],
   "source": [
    "# Разделяем исходные данные на обучающую и тестовую выборки с учетом дисбаланса классов\n",
    "X = df['proc_comment']\n",
    "y = df['toxic']\n",
    "\n",
    "X_train, X_test, y_train, y_test = train_test_split(X, \n",
    "                                                    y, \n",
    "                                                    test_size=TEST_SIZE, \n",
    "                                                    random_state=RANDOM_STATE,\n",
    "                                                    stratify=y)\n",
    "# Рассмотрим размеры сформированных выборок\n",
    "X_train.shape, X_test.shape"
   ]
  },
  {
   "cell_type": "code",
   "execution_count": 32,
   "metadata": {},
   "outputs": [],
   "source": [
    "# Векторизация текста с помощью TF-IDF\n",
    "count_tf_idf = TfidfVectorizer(stop_words=stopwords)\n",
    "tf_idf_train = count_tf_idf.fit_transform(X_train)\n",
    "tf_idf_test = count_tf_idf.transform(X_test)"
   ]
  },
  {
   "cell_type": "markdown",
   "metadata": {},
   "source": [
    "### Обучение моделей"
   ]
  },
  {
   "cell_type": "markdown",
   "metadata": {},
   "source": [
    "Подбираем гиперпараметры для каждой модели с помощью GridSearchCV и на кросс-валидации определяем параметры и метрику лучшей модели"
   ]
  },
  {
   "cell_type": "code",
   "execution_count": 48,
   "metadata": {},
   "outputs": [],
   "source": [
    "# Создаём пайплайн\n",
    "pipe = Pipeline([\n",
    "    ('model', LogisticRegression())\n",
    "])\n",
    "\n",
    "param_grid = [\n",
    "    {\n",
    "        'model': [LogisticRegression(penalty='l2', max_iter=500)],\n",
    "        'model__C': [2, 10]\n",
    "    },\n",
    "\n",
    "    {\n",
    "        'model': [RandomForestClassifier(class_weight='balanced', random_state=RANDOM_STATE)],\n",
    "        'model__max_depth': [10, 20]\n",
    "    },\n",
    "\n",
    "    {\n",
    "        'model': [LGBMClassifier(learning_rate=0.1, force_row_wise=True, verbose=-1, random_state=RANDOM_STATE)],\n",
    "        'model__max_depth': [10, 20]\n",
    "    },\n",
    "\n",
    "    {\n",
    "        'model': [CatBoostClassifier(learning_rate=0.1, iterations=50, verbose=0, random_state=RANDOM_STATE)],\n",
    "        'model__depth': [10, 20]\n",
    "    }\n",
    "]"
   ]
  },
  {
   "cell_type": "code",
   "execution_count": 49,
   "metadata": {},
   "outputs": [
    {
     "name": "stdout",
     "output_type": "stream",
     "text": [
      "Параметры лучшей модели:\n",
      " Pipeline(steps=[('model', LogisticRegression(C=10, max_iter=500))])\n"
     ]
    }
   ],
   "source": [
    "# Найдем лучшую модель, используя метрику 'f1'\n",
    "grid = GridSearchCV(pipe, \n",
    "                    param_grid, \n",
    "                    scoring='f1', \n",
    "                    cv=cv, \n",
    "                    n_jobs=1, \n",
    "                    verbose=0)\n",
    "\n",
    "grid.fit(tf_idf_train, y_train)\n",
    "print(\"Параметры лучшей модели:\\n\", grid.best_estimator_)"
   ]
  },
  {
   "cell_type": "code",
   "execution_count": 50,
   "metadata": {},
   "outputs": [
    {
     "name": "stdout",
     "output_type": "stream",
     "text": [
      "Лучшая метрика F1 на обучении: 0.763\n"
     ]
    }
   ],
   "source": [
    "# Выводим полученную метрику\n",
    "print(\"Лучшая метрика F1 на обучении:\", round(grid.best_score_, 3))"
   ]
  },
  {
   "cell_type": "markdown",
   "metadata": {},
   "source": [
    "По результатам кросс-валидации на обучающей выборке лучшее качество показала модель LogisticRegression с метрикой F1 = 0.763"
   ]
  },
  {
   "cell_type": "markdown",
   "metadata": {},
   "source": [
    "### Вывод по разделу"
   ]
  },
  {
   "cell_type": "markdown",
   "metadata": {},
   "source": [
    "На данном этапе были подготовлены данные для моделирования. Текст комментариев был предварительно обработан: удалены все символы, кроме букв, тексты приведены к нижнему регистру, очищены от стоп-слов и преобразованы в векторы признаков с использованием TF-IDF.\n",
    "На полученных признаках были обучены четыре модели классификации: LogisticRegression, RandomForest, LightGBM и CatBoost.\n",
    "На обучающей выборке лучший результат по метрике F1 показала модель LogisticRegression."
   ]
  },
  {
   "cell_type": "markdown",
   "metadata": {},
   "source": [
    "## Обучение с использованием BERT"
   ]
  },
  {
   "cell_type": "markdown",
   "metadata": {},
   "source": [
    "### Подготовка данных"
   ]
  },
  {
   "cell_type": "code",
   "execution_count": 54,
   "metadata": {},
   "outputs": [
    {
     "name": "stdout",
     "output_type": "stream",
     "text": [
      "Using device: cpu\n"
     ]
    }
   ],
   "source": [
    "# Определение устройства\n",
    "device = torch.device('cuda' if torch.cuda.is_available() else 'cpu')\n",
    "print(f'Using device: {device}')"
   ]
  },
  {
   "cell_type": "code",
   "execution_count": 55,
   "metadata": {},
   "outputs": [],
   "source": [
    "# Случайно выбираем 30000 строк для ускорения обучения модели\n",
    "bert_df = bert_df[['text', 'toxic']]\n",
    "bert_df = bert_df.sample(n=60000, random_state=RANDOM_STATE)"
   ]
  },
  {
   "cell_type": "code",
   "execution_count": 56,
   "metadata": {},
   "outputs": [
    {
     "data": {
      "text/plain": [
       "toxic\n",
       "0    53947\n",
       "1    6053 \n",
       "Name: count, dtype: int64"
      ]
     },
     "execution_count": 56,
     "metadata": {},
     "output_type": "execute_result"
    }
   ],
   "source": [
    "# Рассмотрим распределение классов\n",
    "bert_df['toxic'].value_counts()"
   ]
  },
  {
   "cell_type": "code",
   "execution_count": 57,
   "metadata": {},
   "outputs": [
    {
     "data": {
      "image/png": "[encoded data removed]",
      "text/plain": [
       "<Figure size 600x600 with 1 Axes>"
      ]
     },
     "metadata": {},
     "output_type": "display_data"
    }
   ],
   "source": [
    "# Строим график распределения классов\n",
    "plt.figure(figsize=(6, 6))\n",
    "sns.countplot(data=bert_df, x='toxic', hue='toxic', palette='deep', edgecolor='black')\n",
    "plt.title('Дисбаланс классов')\n",
    "plt.ylabel('Число комментариев')\n",
    "plt.xlabel('Класс токсичности комментария')\n",
    "plt.show()"
   ]
  },
  {
   "cell_type": "code",
   "execution_count": 59,
   "metadata": {},
   "outputs": [
    {
     "data": {
      "text/plain": [
       "((36000,), (12000,), (12000,))"
      ]
     },
     "execution_count": 59,
     "metadata": {},
     "output_type": "execute_result"
    }
   ],
   "source": [
    "# Разделяем исходные данные на обучающую, валидационную и тестовую выборки с учетом дисбаланса классов\n",
    "X = bert_df['text']\n",
    "y = bert_df['toxic']\n",
    "\n",
    "X_tmp, X_test, y_tmp, y_test = train_test_split(X.values, \n",
    "                                                y.values, \n",
    "                                                test_size=0.2, \n",
    "                                                random_state=RANDOM_STATE, \n",
    "                                                stratify=y)\n",
    "\n",
    "X_train, X_val, y_train, y_val = train_test_split(X_tmp, \n",
    "                                                  y_tmp, \n",
    "                                                  test_size=0.25, \n",
    "                                                  random_state=RANDOM_STATE, \n",
    "                                                  stratify=y_tmp)\n",
    "\n",
    "# Рассмотрим размеры сформированных выборок\n",
    "X_train.shape, X_val.shape, X_test.shape"
   ]
  },
  {
   "cell_type": "code",
   "execution_count": 60,
   "metadata": {},
   "outputs": [],
   "source": [
    "# Загружаем предобученный токенизатор и преобразуем тексты в формат, подходящий для модели\n",
    "tokenizer = DistilBertTokenizer.from_pretrained('distilbert-base-uncased', do_lower_case=True)\n",
    "\n",
    "train_encodings = tokenizer(list(X_train), truncation=True, padding=True, max_length=64, return_tensors='pt')\n",
    "val_encodings = tokenizer(list(X_val), truncation=True, padding=True, max_length=64, return_tensors='pt')\n",
    "test_encodings = tokenizer(list(X_test), truncation=True, padding=True, max_length=64, return_tensors='pt')"
   ]
  },
  {
   "cell_type": "code",
   "execution_count": 61,
   "metadata": {},
   "outputs": [],
   "source": [
    "# Формируем датасеты из закодированных входных данных и создаём DataLoader-ы для подачи данных в модель батчами\n",
    "train_dataset = TensorDataset(train_encodings['input_ids'], train_encodings['attention_mask'], torch.tensor(y_train))\n",
    "val_dataset = TensorDataset(val_encodings['input_ids'], val_encodings['attention_mask'], torch.tensor(y_val))\n",
    "test_dataset = TensorDataset(test_encodings['input_ids'], test_encodings['attention_mask'], torch.tensor(y_test))\n",
    "\n",
    "train_loader = DataLoader(train_dataset, batch_size=16, shuffle=True)\n",
    "val_loader = DataLoader(val_dataset, batch_size=64)\n",
    "test_loader = DataLoader(test_dataset, batch_size=64)"
   ]
  },
  {
   "cell_type": "markdown",
   "metadata": {},
   "source": [
    "### Обучение модели"
   ]
  },
  {
   "cell_type": "code",
   "execution_count": 63,
   "metadata": {},
   "outputs": [
    {
     "name": "stderr",
     "output_type": "stream",
     "text": [
      "Some weights of DistilBertForSequenceClassification were not initialized from the model checkpoint at distilbert-base-uncased and are newly initialized: ['classifier.bias', 'classifier.weight', 'pre_classifier.bias', 'pre_classifier.weight']\n",
      "You should probably TRAIN this model on a down-stream task to be able to use it for predictions and inference.\n"
     ]
    }
   ],
   "source": [
    "# Загружаем предобученную модель DistilBERT для бинарной классификации и инициализируем оптимизатор AdamW \n",
    "# для обновления параметров модели во время обучения\n",
    "model = DistilBertForSequenceClassification.from_pretrained(\"distilbert-base-uncased\", num_labels=2, ignore_mismatched_sizes=True)\n",
    "model.to(device)\n",
    "optimizer = AdamW(model.parameters(), lr=2e-5, eps=1e-8, weight_decay=0.01)"
   ]
  },
  {
   "cell_type": "code",
   "execution_count": 64,
   "metadata": {},
   "outputs": [
    {
     "name": "stderr",
     "output_type": "stream",
     "text": [
      "Epoch 1: 100%|██████████████████████████████| 2250/2250 [12:08<00:00,  3.09it/s]\n"
     ]
    },
    {
     "name": "stdout",
     "output_type": "stream",
     "text": [
      "Epoch 1 | Train F1: 0.758 | Val F1: 0.776\n"
     ]
    },
    {
     "name": "stderr",
     "output_type": "stream",
     "text": [
      "Epoch 2: 100%|██████████████████████████████| 2250/2250 [12:11<00:00,  3.08it/s]\n"
     ]
    },
    {
     "name": "stdout",
     "output_type": "stream",
     "text": [
      "Epoch 2 | Train F1: 0.872 | Val F1: 0.816\n"
     ]
    }
   ],
   "source": [
    "# Переводим модель в режим обучения и проходим по данным несколько эпох,\n",
    "# для каждого батча считаем предсказания, вычисляем функцию потерь (loss),\n",
    "# делаем обратное распространение ошибки, обновляем веса и выводим F1-score на обучении и валидации по каждой эпохе\n",
    "model.train()\n",
    "for epoch in range(2):\n",
    "    total_loss = 0\n",
    "    all_preds = []\n",
    "    all_labels = []\n",
    "    \n",
    "    for batch in tqdm(train_loader, desc=f\"Epoch {epoch+1}\"):\n",
    "        input_ids, attention_mask, labels = [x.to(device) for x in batch]\n",
    "        optimizer.zero_grad()\n",
    "        outputs = model(input_ids=input_ids, attention_mask=attention_mask, labels=labels)\n",
    "        loss = outputs.loss\n",
    "        loss.backward()\n",
    "        nn_utils.clip_grad_norm_(model.parameters(), 1.0)\n",
    "        optimizer.step()\n",
    "\n",
    "        total_loss += loss.item()\n",
    "        preds = torch.argmax(outputs.logits, dim=1)\n",
    "        all_preds.extend(preds.cpu().numpy())\n",
    "        all_labels.extend(labels.cpu().numpy())\n",
    "\n",
    "    train_f1 = f1_score(all_labels, all_preds)\n",
    "\n",
    "    # Валидация\n",
    "    model.eval()\n",
    "    val_preds = []\n",
    "    val_labels = []\n",
    "    with torch.no_grad():\n",
    "        for batch in val_loader:\n",
    "            input_ids, attention_mask, labels = [x.to(device) for x in batch]\n",
    "            outputs = model(input_ids=input_ids, attention_mask=attention_mask)\n",
    "            preds = torch.argmax(outputs.logits, dim=1)\n",
    "            val_preds.extend(preds.cpu().numpy())\n",
    "            val_labels.extend(labels.cpu().numpy())\n",
    "\n",
    "    val_f1 = f1_score(val_labels, val_preds)\n",
    "    print(f\"Epoch {epoch+1} | Train F1: {round(train_f1, 3)} | Val F1: {round(val_f1, 3)}\")\n",
    "    model.train()"
   ]
  },
  {
   "cell_type": "markdown",
   "metadata": {},
   "source": [
    "### Вывод по разделу"
   ]
  },
  {
   "cell_type": "markdown",
   "metadata": {},
   "source": [
    "На данном этапе была сформирована выборка объёмом 60000 записей из общей совокупности данных — для удобства и эффективности обучения модели DistilBertForSequenceClassification. Тексты были обработаны с использованием предобученного токенизатора DistilBertTokenizer.\n",
    "Обучение модели проводилось в течение двух эпох, поскольку уже на этом этапе она продемонстрировала результат, удовлетворяющий условиям задачи."
   ]
  },
  {
   "cell_type": "markdown",
   "metadata": {},
   "source": [
    "## Тестирование"
   ]
  },
  {
   "cell_type": "markdown",
   "metadata": {},
   "source": [
    "Лучший результат на обучающей выборке показала модель DistilBertForSequenceClassification — её и будем использовать на тестовой выборке"
   ]
  },
  {
   "cell_type": "code",
   "execution_count": 73,
   "metadata": {},
   "outputs": [],
   "source": [
    "# Переводим модель в режим оценки, проходим по тестовым данным без вычисления градиентов,\n",
    "# получаем предсказания и собираем метки и прогнозы для последующего расчёта метрик\n",
    "model.eval()\n",
    "test_preds = []\n",
    "test_labels = []\n",
    "with torch.no_grad():\n",
    "    for batch in test_loader:\n",
    "        input_ids, attention_mask, labels = [x.to(device) for x in batch]\n",
    "        outputs = model(input_ids=input_ids, attention_mask=attention_mask)\n",
    "        preds = torch.argmax(outputs.logits, dim=1)\n",
    "        test_preds.extend(preds.cpu().numpy())\n",
    "        test_labels.extend(labels.cpu().numpy())"
   ]
  },
  {
   "cell_type": "code",
   "execution_count": 74,
   "metadata": {},
   "outputs": [
    {
     "name": "stdout",
     "output_type": "stream",
     "text": [
      "F1-score на тестовой выборке: 0.812\n"
     ]
    }
   ],
   "source": [
    "# Получаем метрику F1 модели\n",
    "f1 = f1_score(test_labels, test_preds)\n",
    "print(f'F1-score на тестовой выборке: {round(f1, 3)}')"
   ]
  },
  {
   "cell_type": "markdown",
   "metadata": {},
   "source": [
    "**Вывод по разделу:**\n",
    "На тестовых данных модель DistilBertForSequenceClassification продемонстрировала результат, соответствующий требованиям задачи. Значения метрик близки к результатам на тренировочной выборке, что указывает на отсутствие переобучения модели."
   ]
  },
  {
   "cell_type": "markdown",
   "metadata": {},
   "source": [
    "## Общий вывод"
   ]
  },
  {
   "cell_type": "markdown",
   "metadata": {},
   "source": [
    "В данном исследовании рассмотрены 159292 комментария с указанием их принадлежности к классу токсичности (токсичный или нет). При этом количество нетоксичных комментариев примерно в 9 раз превышает количество токсичных, что могло повлиять на ход исследования.\n",
    "\n",
    "Для моделей LogisticRegression, RandomForest, LightGBM и CatBoost текст комментариев был предварительно обработан: удалены все символы, кроме букв, приведён к нижнему регистру, очищен от стоп-слов и преобразован в вектор признаков с помощью TF-IDF. После подбора гиперпараметров и обучения моделей с использованием кросс-валидации лучшим результатом стала LogisticRegression с f1_score = 0.799.\n",
    "\n",
    "Для модели DistilBertForSequenceClassification исходный датасет был сокращён до 60000 записей, а тексты обработаны с помощью предобученного токенизатора DistilBertTokenizer. Обучение модели велось в течение двух эпох, что уже позволило достичь метрики f1_score = 0.816.\n",
    "\n",
    "На тестовых данных DistilBertForSequenceClassification показала f1_score = 0.812, что соответствует требованиям задачи."
   ]
  }
 ],
 "metadata": {
  "ExecuteTimeLog": [
   {
    "duration": 2957,
    "start_time": "2025-05-20T13:46:45.273Z"
   },
   {
    "duration": 3,
    "start_time": "2025-05-20T13:46:48.232Z"
   },
   {
    "duration": 168,
    "start_time": "2025-05-20T13:46:48.236Z"
   },
   {
    "duration": 0,
    "start_time": "2025-05-20T13:46:48.406Z"
   },
   {
    "duration": 1,
    "start_time": "2025-05-20T13:46:48.407Z"
   },
   {
    "duration": 2673,
    "start_time": "2025-05-20T13:47:11.399Z"
   },
   {
    "duration": 2537,
    "start_time": "2025-05-20T13:47:14.074Z"
   },
   {
    "duration": 3,
    "start_time": "2025-05-20T13:47:16.612Z"
   },
   {
    "duration": 56,
    "start_time": "2025-05-20T13:47:16.616Z"
   },
   {
    "duration": 4,
    "start_time": "2025-05-20T13:47:16.675Z"
   },
   {
    "duration": 19,
    "start_time": "2025-05-20T13:47:16.680Z"
   },
   {
    "duration": 42,
    "start_time": "2025-05-20T13:47:39.224Z"
   },
   {
    "duration": 241,
    "start_time": "2025-05-20T13:48:32.014Z"
   },
   {
    "duration": 155,
    "start_time": "2025-05-20T13:48:39.364Z"
   },
   {
    "duration": 205,
    "start_time": "2025-05-20T13:48:42.511Z"
   },
   {
    "duration": 32,
    "start_time": "2025-05-20T13:59:26.864Z"
   },
   {
    "duration": 7,
    "start_time": "2025-05-20T13:59:35.372Z"
   },
   {
    "duration": 16,
    "start_time": "2025-05-20T14:00:16.472Z"
   },
   {
    "duration": 159,
    "start_time": "2025-05-20T14:01:18.399Z"
   },
   {
    "duration": 48,
    "start_time": "2025-05-20T14:01:36.908Z"
   },
   {
    "duration": 74,
    "start_time": "2025-05-20T14:02:19.298Z"
   },
   {
    "duration": 129,
    "start_time": "2025-05-20T14:02:25.183Z"
   },
   {
    "duration": 130,
    "start_time": "2025-05-20T14:05:07.237Z"
   },
   {
    "duration": 2767,
    "start_time": "2025-05-20T14:06:36.573Z"
   },
   {
    "duration": 3,
    "start_time": "2025-05-20T14:06:39.342Z"
   },
   {
    "duration": 2526,
    "start_time": "2025-05-20T14:06:39.347Z"
   },
   {
    "duration": 39,
    "start_time": "2025-05-20T14:06:41.875Z"
   },
   {
    "duration": 21,
    "start_time": "2025-05-20T14:06:41.917Z"
   },
   {
    "duration": 32,
    "start_time": "2025-05-20T14:06:41.939Z"
   },
   {
    "duration": 239,
    "start_time": "2025-05-20T14:06:41.973Z"
   },
   {
    "duration": 154,
    "start_time": "2025-05-20T14:06:42.214Z"
   },
   {
    "duration": 7,
    "start_time": "2025-05-20T14:13:46.796Z"
   },
   {
    "duration": 4,
    "start_time": "2025-05-20T14:33:14.543Z"
   },
   {
    "duration": 198,
    "start_time": "2025-05-20T14:33:25.944Z"
   },
   {
    "duration": 2821,
    "start_time": "2025-05-20T14:33:34.644Z"
   },
   {
    "duration": 3,
    "start_time": "2025-05-20T14:33:37.467Z"
   },
   {
    "duration": 2788,
    "start_time": "2025-05-20T14:33:37.471Z"
   },
   {
    "duration": 32,
    "start_time": "2025-05-20T14:33:40.261Z"
   },
   {
    "duration": 5,
    "start_time": "2025-05-20T14:33:40.306Z"
   },
   {
    "duration": 50,
    "start_time": "2025-05-20T14:33:40.313Z"
   },
   {
    "duration": 229,
    "start_time": "2025-05-20T14:33:40.365Z"
   },
   {
    "duration": 146,
    "start_time": "2025-05-20T14:33:40.596Z"
   },
   {
    "duration": 8,
    "start_time": "2025-05-20T14:33:40.743Z"
   },
   {
    "duration": 303,
    "start_time": "2025-05-20T14:33:40.752Z"
   },
   {
    "duration": 3,
    "start_time": "2025-05-20T14:33:41.057Z"
   },
   {
    "duration": 206,
    "start_time": "2025-05-20T14:33:41.062Z"
   },
   {
    "duration": 27,
    "start_time": "2025-05-20T14:34:00.364Z"
   },
   {
    "duration": 4,
    "start_time": "2025-05-20T14:34:20.164Z"
   },
   {
    "duration": 41,
    "start_time": "2025-05-20T14:34:20.993Z"
   },
   {
    "duration": 13,
    "start_time": "2025-05-20T14:50:22.964Z"
   },
   {
    "duration": 7,
    "start_time": "2025-05-20T14:52:18.340Z"
   },
   {
    "duration": 314,
    "start_time": "2025-05-20T14:52:25.938Z"
   },
   {
    "duration": 307,
    "start_time": "2025-05-20T14:52:28.485Z"
   },
   {
    "duration": 11,
    "start_time": "2025-05-20T14:52:34.717Z"
   },
   {
    "duration": 2886,
    "start_time": "2025-05-20T14:52:43.038Z"
   },
   {
    "duration": 3,
    "start_time": "2025-05-20T14:52:45.926Z"
   },
   {
    "duration": 20,
    "start_time": "2025-05-20T14:52:45.931Z"
   },
   {
    "duration": 4853,
    "start_time": "2025-05-20T14:52:45.953Z"
   },
   {
    "duration": 32,
    "start_time": "2025-05-20T14:52:50.808Z"
   },
   {
    "duration": 5,
    "start_time": "2025-05-20T14:52:50.842Z"
   },
   {
    "duration": 23,
    "start_time": "2025-05-20T14:52:50.849Z"
   },
   {
    "duration": 257,
    "start_time": "2025-05-20T14:52:50.874Z"
   },
   {
    "duration": 153,
    "start_time": "2025-05-20T14:52:51.132Z"
   },
   {
    "duration": 221,
    "start_time": "2025-05-20T14:52:51.287Z"
   },
   {
    "duration": 3,
    "start_time": "2025-05-20T14:52:51.509Z"
   },
   {
    "duration": 77,
    "start_time": "2025-05-20T14:52:51.514Z"
   },
   {
    "duration": 492,
    "start_time": "2025-05-20T14:52:51.593Z"
   },
   {
    "duration": 425,
    "start_time": "2025-05-20T14:58:01.406Z"
   },
   {
    "duration": 4,
    "start_time": "2025-05-20T14:58:05.310Z"
   },
   {
    "duration": 237350,
    "start_time": "2025-05-20T14:58:08.125Z"
   },
   {
    "duration": 4,
    "start_time": "2025-05-20T15:04:49.419Z"
   },
   {
    "duration": 3104,
    "start_time": "2025-05-20T15:05:03.130Z"
   },
   {
    "duration": 3,
    "start_time": "2025-05-20T15:05:06.236Z"
   },
   {
    "duration": 43,
    "start_time": "2025-05-20T15:05:06.241Z"
   },
   {
    "duration": 24,
    "start_time": "2025-05-20T15:05:06.286Z"
   },
   {
    "duration": 2407,
    "start_time": "2025-05-20T15:05:06.313Z"
   },
   {
    "duration": 33,
    "start_time": "2025-05-20T15:05:08.722Z"
   },
   {
    "duration": 11,
    "start_time": "2025-05-20T15:05:08.757Z"
   },
   {
    "duration": 45,
    "start_time": "2025-05-20T15:05:08.769Z"
   },
   {
    "duration": 243,
    "start_time": "2025-05-20T15:05:08.816Z"
   },
   {
    "duration": 149,
    "start_time": "2025-05-20T15:05:09.060Z"
   },
   {
    "duration": 192,
    "start_time": "2025-05-20T15:05:09.210Z"
   },
   {
    "duration": 2,
    "start_time": "2025-05-20T15:05:09.404Z"
   },
   {
    "duration": 269,
    "start_time": "2025-05-20T15:05:09.408Z"
   },
   {
    "duration": 94537,
    "start_time": "2025-05-20T15:05:09.680Z"
   },
   {
    "duration": 127,
    "start_time": "2025-05-20T15:06:44.219Z"
   },
   {
    "duration": 184,
    "start_time": "2025-05-20T15:06:44.347Z"
   },
   {
    "duration": 88,
    "start_time": "2025-05-20T15:14:59.453Z"
   },
   {
    "duration": 2981,
    "start_time": "2025-05-21T06:02:38.832Z"
   },
   {
    "duration": 3,
    "start_time": "2025-05-21T06:02:41.815Z"
   },
   {
    "duration": 15,
    "start_time": "2025-05-21T06:02:41.819Z"
   },
   {
    "duration": 9,
    "start_time": "2025-05-21T06:02:41.836Z"
   },
   {
    "duration": 2319,
    "start_time": "2025-05-21T06:02:41.847Z"
   },
   {
    "duration": 31,
    "start_time": "2025-05-21T06:02:44.172Z"
   },
   {
    "duration": 79,
    "start_time": "2025-05-21T06:02:44.204Z"
   },
   {
    "duration": 33,
    "start_time": "2025-05-21T06:02:44.285Z"
   },
   {
    "duration": 239,
    "start_time": "2025-05-21T06:02:44.320Z"
   },
   {
    "duration": 134,
    "start_time": "2025-05-21T06:02:44.568Z"
   },
   {
    "duration": 289,
    "start_time": "2025-05-21T06:02:44.704Z"
   },
   {
    "duration": 3,
    "start_time": "2025-05-21T06:02:44.994Z"
   },
   {
    "duration": 31,
    "start_time": "2025-05-21T06:02:44.998Z"
   },
   {
    "duration": 94864,
    "start_time": "2025-05-21T06:02:45.031Z"
   },
   {
    "duration": 104,
    "start_time": "2025-05-21T06:04:19.897Z"
   },
   {
    "duration": 185,
    "start_time": "2025-05-21T06:04:20.002Z"
   },
   {
    "duration": 52,
    "start_time": "2025-05-21T06:06:03.347Z"
   },
   {
    "duration": 23,
    "start_time": "2025-05-21T07:12:25.250Z"
   },
   {
    "duration": 71,
    "start_time": "2025-05-21T07:12:29.966Z"
   },
   {
    "duration": 23,
    "start_time": "2025-05-21T07:12:36.430Z"
   },
   {
    "duration": 16,
    "start_time": "2025-05-21T07:12:49.898Z"
   },
   {
    "duration": 25,
    "start_time": "2025-05-21T07:13:16.848Z"
   },
   {
    "duration": 271,
    "start_time": "2025-05-21T07:13:23.803Z"
   },
   {
    "duration": 2851,
    "start_time": "2025-05-21T07:14:04.208Z"
   },
   {
    "duration": 5,
    "start_time": "2025-05-21T07:14:07.066Z"
   },
   {
    "duration": 24,
    "start_time": "2025-05-21T07:14:07.073Z"
   },
   {
    "duration": 4,
    "start_time": "2025-05-21T07:14:07.099Z"
   },
   {
    "duration": 2322,
    "start_time": "2025-05-21T07:14:07.105Z"
   },
   {
    "duration": 43,
    "start_time": "2025-05-21T07:14:09.429Z"
   },
   {
    "duration": 10,
    "start_time": "2025-05-21T07:14:09.474Z"
   },
   {
    "duration": 12,
    "start_time": "2025-05-21T07:14:09.486Z"
   },
   {
    "duration": 245,
    "start_time": "2025-05-21T07:14:09.500Z"
   },
   {
    "duration": 30,
    "start_time": "2025-05-21T07:14:09.747Z"
   },
   {
    "duration": 150,
    "start_time": "2025-05-21T07:14:09.779Z"
   },
   {
    "duration": 299,
    "start_time": "2025-05-21T07:14:09.930Z"
   },
   {
    "duration": 6,
    "start_time": "2025-05-21T07:14:10.230Z"
   },
   {
    "duration": 9,
    "start_time": "2025-05-21T07:14:10.238Z"
   },
   {
    "duration": 92433,
    "start_time": "2025-05-21T07:14:10.249Z"
   },
   {
    "duration": 94,
    "start_time": "2025-05-21T07:15:42.683Z"
   },
   {
    "duration": 515,
    "start_time": "2025-05-21T07:15:42.779Z"
   },
   {
    "duration": 0,
    "start_time": "2025-05-21T07:15:43.296Z"
   },
   {
    "duration": 0,
    "start_time": "2025-05-21T07:15:43.297Z"
   },
   {
    "duration": 15,
    "start_time": "2025-05-21T07:23:29.251Z"
   },
   {
    "duration": 367,
    "start_time": "2025-05-21T07:23:36.243Z"
   },
   {
    "duration": 333,
    "start_time": "2025-05-21T07:24:28.443Z"
   },
   {
    "duration": 422,
    "start_time": "2025-05-21T07:25:31.442Z"
   },
   {
    "duration": 1640,
    "start_time": "2025-05-21T07:32:46.432Z"
   },
   {
    "duration": 3012,
    "start_time": "2025-05-21T07:33:18.504Z"
   },
   {
    "duration": 3,
    "start_time": "2025-05-21T07:33:21.518Z"
   },
   {
    "duration": 6,
    "start_time": "2025-05-21T07:33:21.523Z"
   },
   {
    "duration": 8,
    "start_time": "2025-05-21T07:33:21.531Z"
   },
   {
    "duration": 2504,
    "start_time": "2025-05-21T07:33:21.541Z"
   },
   {
    "duration": 40,
    "start_time": "2025-05-21T07:33:24.047Z"
   },
   {
    "duration": 7,
    "start_time": "2025-05-21T07:33:24.088Z"
   },
   {
    "duration": 11,
    "start_time": "2025-05-21T07:33:24.097Z"
   },
   {
    "duration": 261,
    "start_time": "2025-05-21T07:33:24.110Z"
   },
   {
    "duration": 28,
    "start_time": "2025-05-21T07:33:24.372Z"
   },
   {
    "duration": 143,
    "start_time": "2025-05-21T07:33:24.402Z"
   },
   {
    "duration": 257,
    "start_time": "2025-05-21T07:33:24.546Z"
   },
   {
    "duration": 5,
    "start_time": "2025-05-21T07:33:24.805Z"
   },
   {
    "duration": 13,
    "start_time": "2025-05-21T07:33:24.812Z"
   },
   {
    "duration": 95790,
    "start_time": "2025-05-21T07:33:24.827Z"
   },
   {
    "duration": 102,
    "start_time": "2025-05-21T07:35:00.618Z"
   },
   {
    "duration": 6,
    "start_time": "2025-05-21T07:35:00.722Z"
   },
   {
    "duration": 27,
    "start_time": "2025-05-21T07:35:00.729Z"
   },
   {
    "duration": 2114,
    "start_time": "2025-05-21T07:35:00.758Z"
   },
   {
    "duration": 0,
    "start_time": "2025-05-21T07:35:02.874Z"
   },
   {
    "duration": 0,
    "start_time": "2025-05-21T07:35:02.875Z"
   },
   {
    "duration": 0,
    "start_time": "2025-05-21T07:35:02.877Z"
   },
   {
    "duration": 5,
    "start_time": "2025-05-21T07:38:31.994Z"
   },
   {
    "duration": 10,
    "start_time": "2025-05-21T07:40:13.211Z"
   },
   {
    "duration": 11,
    "start_time": "2025-05-21T07:40:20.767Z"
   },
   {
    "duration": 9,
    "start_time": "2025-05-21T07:40:26.261Z"
   },
   {
    "duration": 10,
    "start_time": "2025-05-21T07:40:27.786Z"
   },
   {
    "duration": 16,
    "start_time": "2025-05-21T07:40:37.210Z"
   },
   {
    "duration": 6,
    "start_time": "2025-05-21T07:40:45.749Z"
   },
   {
    "duration": 20,
    "start_time": "2025-05-21T07:41:11.669Z"
   },
   {
    "duration": 6,
    "start_time": "2025-05-21T08:12:28.122Z"
   },
   {
    "duration": 16,
    "start_time": "2025-05-21T08:12:29.097Z"
   },
   {
    "duration": 2859,
    "start_time": "2025-05-21T08:13:46.071Z"
   },
   {
    "duration": 2,
    "start_time": "2025-05-21T08:13:48.932Z"
   },
   {
    "duration": 5,
    "start_time": "2025-05-21T08:13:48.936Z"
   },
   {
    "duration": 6,
    "start_time": "2025-05-21T08:13:48.943Z"
   },
   {
    "duration": 2369,
    "start_time": "2025-05-21T08:13:48.950Z"
   },
   {
    "duration": 50,
    "start_time": "2025-05-21T08:13:51.320Z"
   },
   {
    "duration": 16,
    "start_time": "2025-05-21T08:13:51.372Z"
   },
   {
    "duration": 16,
    "start_time": "2025-05-21T08:13:51.390Z"
   },
   {
    "duration": 243,
    "start_time": "2025-05-21T08:13:51.408Z"
   },
   {
    "duration": 33,
    "start_time": "2025-05-21T08:13:51.653Z"
   },
   {
    "duration": 155,
    "start_time": "2025-05-21T08:13:51.687Z"
   },
   {
    "duration": 332,
    "start_time": "2025-05-21T08:13:51.843Z"
   },
   {
    "duration": 6,
    "start_time": "2025-05-21T08:13:52.176Z"
   },
   {
    "duration": 9,
    "start_time": "2025-05-21T08:13:52.184Z"
   },
   {
    "duration": 92371,
    "start_time": "2025-05-21T08:13:52.194Z"
   },
   {
    "duration": 3,
    "start_time": "2025-05-21T08:15:24.570Z"
   },
   {
    "duration": 36,
    "start_time": "2025-05-21T08:15:24.574Z"
   },
   {
    "duration": 8,
    "start_time": "2025-05-21T08:15:24.611Z"
   },
   {
    "duration": 54,
    "start_time": "2025-05-21T08:15:24.620Z"
   },
   {
    "duration": 175,
    "start_time": "2025-05-21T08:15:24.676Z"
   },
   {
    "duration": 0,
    "start_time": "2025-05-21T08:15:24.853Z"
   },
   {
    "duration": 0,
    "start_time": "2025-05-21T08:15:24.854Z"
   },
   {
    "duration": 0,
    "start_time": "2025-05-21T08:15:24.858Z"
   },
   {
    "duration": 0,
    "start_time": "2025-05-21T08:15:24.858Z"
   },
   {
    "duration": 0,
    "start_time": "2025-05-21T08:15:24.859Z"
   },
   {
    "duration": 0,
    "start_time": "2025-05-21T08:15:24.860Z"
   },
   {
    "duration": 0,
    "start_time": "2025-05-21T08:15:24.861Z"
   },
   {
    "duration": 4,
    "start_time": "2025-05-21T08:36:06.037Z"
   },
   {
    "duration": 17,
    "start_time": "2025-05-21T08:38:11.845Z"
   },
   {
    "duration": 7,
    "start_time": "2025-05-21T08:38:13.833Z"
   },
   {
    "duration": 18,
    "start_time": "2025-05-21T08:38:15.916Z"
   },
   {
    "duration": 4,
    "start_time": "2025-05-21T08:38:35.269Z"
   },
   {
    "duration": 8,
    "start_time": "2025-05-21T08:42:21.409Z"
   },
   {
    "duration": 2802,
    "start_time": "2025-05-21T08:45:25.797Z"
   },
   {
    "duration": 2,
    "start_time": "2025-05-21T08:45:28.601Z"
   },
   {
    "duration": 83,
    "start_time": "2025-05-21T08:45:28.605Z"
   },
   {
    "duration": 5,
    "start_time": "2025-05-21T08:45:28.690Z"
   },
   {
    "duration": 2444,
    "start_time": "2025-05-21T08:45:28.697Z"
   },
   {
    "duration": 42,
    "start_time": "2025-05-21T08:45:31.143Z"
   },
   {
    "duration": 5,
    "start_time": "2025-05-21T08:45:31.187Z"
   },
   {
    "duration": 15,
    "start_time": "2025-05-21T08:45:31.193Z"
   },
   {
    "duration": 254,
    "start_time": "2025-05-21T08:45:31.210Z"
   },
   {
    "duration": 29,
    "start_time": "2025-05-21T08:45:31.466Z"
   },
   {
    "duration": 181,
    "start_time": "2025-05-21T08:45:31.498Z"
   },
   {
    "duration": 309,
    "start_time": "2025-05-21T08:45:31.680Z"
   },
   {
    "duration": 10,
    "start_time": "2025-05-21T08:45:31.991Z"
   },
   {
    "duration": 136,
    "start_time": "2025-05-21T08:45:32.004Z"
   },
   {
    "duration": 88487,
    "start_time": "2025-05-21T08:45:32.143Z"
   },
   {
    "duration": 88,
    "start_time": "2025-05-21T08:47:00.632Z"
   },
   {
    "duration": 11,
    "start_time": "2025-05-21T08:47:00.722Z"
   },
   {
    "duration": 34,
    "start_time": "2025-05-21T08:47:00.735Z"
   },
   {
    "duration": 28,
    "start_time": "2025-05-21T08:47:00.771Z"
   },
   {
    "duration": 15,
    "start_time": "2025-05-21T08:47:00.801Z"
   },
   {
    "duration": 28,
    "start_time": "2025-05-21T08:47:00.819Z"
   },
   {
    "duration": 88,
    "start_time": "2025-05-21T08:47:00.850Z"
   },
   {
    "duration": 191,
    "start_time": "2025-05-21T08:47:00.940Z"
   },
   {
    "duration": 0,
    "start_time": "2025-05-21T08:47:01.133Z"
   },
   {
    "duration": 0,
    "start_time": "2025-05-21T08:47:01.135Z"
   },
   {
    "duration": 0,
    "start_time": "2025-05-21T08:47:01.137Z"
   },
   {
    "duration": 0,
    "start_time": "2025-05-21T08:47:01.138Z"
   },
   {
    "duration": 0,
    "start_time": "2025-05-21T08:47:01.140Z"
   },
   {
    "duration": 0,
    "start_time": "2025-05-21T08:47:01.142Z"
   },
   {
    "duration": 0,
    "start_time": "2025-05-21T08:47:01.144Z"
   },
   {
    "duration": 10,
    "start_time": "2025-05-21T08:47:33.202Z"
   },
   {
    "duration": 8,
    "start_time": "2025-05-21T08:47:35.386Z"
   },
   {
    "duration": 4,
    "start_time": "2025-05-21T08:48:37.274Z"
   },
   {
    "duration": 7028,
    "start_time": "2025-05-21T08:48:50.319Z"
   },
   {
    "duration": 47021,
    "start_time": "2025-05-21T08:49:01.637Z"
   },
   {
    "duration": 23,
    "start_time": "2025-05-21T09:04:07.702Z"
   },
   {
    "duration": 48,
    "start_time": "2025-05-21T09:04:23.743Z"
   },
   {
    "duration": 48,
    "start_time": "2025-05-21T09:04:33.658Z"
   },
   {
    "duration": 24,
    "start_time": "2025-05-21T09:08:22.754Z"
   },
   {
    "duration": 23,
    "start_time": "2025-05-21T09:08:59.174Z"
   },
   {
    "duration": 2748,
    "start_time": "2025-05-21T09:09:09.688Z"
   },
   {
    "duration": 2,
    "start_time": "2025-05-21T09:09:12.439Z"
   },
   {
    "duration": 10,
    "start_time": "2025-05-21T09:09:12.443Z"
   },
   {
    "duration": 8,
    "start_time": "2025-05-21T09:09:12.454Z"
   },
   {
    "duration": 2578,
    "start_time": "2025-05-21T09:09:12.464Z"
   },
   {
    "duration": 43,
    "start_time": "2025-05-21T09:09:15.043Z"
   },
   {
    "duration": 33,
    "start_time": "2025-05-21T09:09:15.088Z"
   },
   {
    "duration": 28,
    "start_time": "2025-05-21T09:09:15.123Z"
   },
   {
    "duration": 260,
    "start_time": "2025-05-21T09:09:15.152Z"
   },
   {
    "duration": 28,
    "start_time": "2025-05-21T09:09:15.413Z"
   },
   {
    "duration": 144,
    "start_time": "2025-05-21T09:09:15.442Z"
   },
   {
    "duration": 301,
    "start_time": "2025-05-21T09:09:15.587Z"
   },
   {
    "duration": 5,
    "start_time": "2025-05-21T09:09:15.890Z"
   },
   {
    "duration": 81,
    "start_time": "2025-05-21T09:09:15.898Z"
   },
   {
    "duration": 86058,
    "start_time": "2025-05-21T09:09:15.980Z"
   },
   {
    "duration": 105,
    "start_time": "2025-05-21T09:10:42.041Z"
   },
   {
    "duration": 12,
    "start_time": "2025-05-21T09:10:42.148Z"
   },
   {
    "duration": 123,
    "start_time": "2025-05-21T09:10:42.161Z"
   },
   {
    "duration": 6,
    "start_time": "2025-05-21T09:10:42.286Z"
   },
   {
    "duration": 6895,
    "start_time": "2025-05-21T09:10:42.294Z"
   },
   {
    "duration": 45278,
    "start_time": "2025-05-21T09:10:49.190Z"
   },
   {
    "duration": 135,
    "start_time": "2025-05-21T09:11:34.470Z"
   },
   {
    "duration": 182,
    "start_time": "2025-05-21T09:11:34.607Z"
   },
   {
    "duration": 0,
    "start_time": "2025-05-21T09:11:34.790Z"
   },
   {
    "duration": 0,
    "start_time": "2025-05-21T09:11:34.792Z"
   },
   {
    "duration": 0,
    "start_time": "2025-05-21T09:11:34.793Z"
   },
   {
    "duration": 0,
    "start_time": "2025-05-21T09:11:34.794Z"
   },
   {
    "duration": 0,
    "start_time": "2025-05-21T09:11:34.795Z"
   },
   {
    "duration": 0,
    "start_time": "2025-05-21T09:11:34.796Z"
   },
   {
    "duration": 0,
    "start_time": "2025-05-21T09:11:34.797Z"
   },
   {
    "duration": 0,
    "start_time": "2025-05-21T09:11:34.798Z"
   },
   {
    "duration": 0,
    "start_time": "2025-05-21T09:11:34.799Z"
   },
   {
    "duration": 0,
    "start_time": "2025-05-21T09:11:34.800Z"
   },
   {
    "duration": 0,
    "start_time": "2025-05-21T09:11:34.801Z"
   },
   {
    "duration": 2832,
    "start_time": "2025-05-21T09:15:20.407Z"
   },
   {
    "duration": 2,
    "start_time": "2025-05-21T09:15:23.241Z"
   },
   {
    "duration": 12,
    "start_time": "2025-05-21T09:15:23.245Z"
   },
   {
    "duration": 5,
    "start_time": "2025-05-21T09:15:23.258Z"
   },
   {
    "duration": 2398,
    "start_time": "2025-05-21T09:15:23.266Z"
   },
   {
    "duration": 35,
    "start_time": "2025-05-21T09:15:25.665Z"
   },
   {
    "duration": 52,
    "start_time": "2025-05-21T09:15:25.702Z"
   },
   {
    "duration": 31,
    "start_time": "2025-05-21T09:15:25.756Z"
   },
   {
    "duration": 229,
    "start_time": "2025-05-21T09:15:25.789Z"
   },
   {
    "duration": 39,
    "start_time": "2025-05-21T09:15:26.020Z"
   },
   {
    "duration": 142,
    "start_time": "2025-05-21T09:15:26.061Z"
   },
   {
    "duration": 223,
    "start_time": "2025-05-21T09:15:26.204Z"
   },
   {
    "duration": 6,
    "start_time": "2025-05-21T09:15:26.429Z"
   },
   {
    "duration": 20,
    "start_time": "2025-05-21T09:15:26.439Z"
   },
   {
    "duration": 87762,
    "start_time": "2025-05-21T09:15:26.461Z"
   },
   {
    "duration": 3,
    "start_time": "2025-05-21T09:16:54.224Z"
   },
   {
    "duration": 118,
    "start_time": "2025-05-21T09:16:54.228Z"
   },
   {
    "duration": 0,
    "start_time": "2025-05-21T09:16:54.348Z"
   },
   {
    "duration": 0,
    "start_time": "2025-05-21T09:16:54.349Z"
   },
   {
    "duration": 0,
    "start_time": "2025-05-21T09:16:54.350Z"
   },
   {
    "duration": 0,
    "start_time": "2025-05-21T09:16:54.352Z"
   },
   {
    "duration": 0,
    "start_time": "2025-05-21T09:16:54.352Z"
   },
   {
    "duration": 0,
    "start_time": "2025-05-21T09:16:54.354Z"
   },
   {
    "duration": 0,
    "start_time": "2025-05-21T09:16:54.355Z"
   },
   {
    "duration": 0,
    "start_time": "2025-05-21T09:16:54.356Z"
   },
   {
    "duration": 0,
    "start_time": "2025-05-21T09:16:54.358Z"
   },
   {
    "duration": 0,
    "start_time": "2025-05-21T09:16:54.359Z"
   },
   {
    "duration": 0,
    "start_time": "2025-05-21T09:16:54.360Z"
   },
   {
    "duration": 0,
    "start_time": "2025-05-21T09:16:54.361Z"
   },
   {
    "duration": 0,
    "start_time": "2025-05-21T09:16:54.362Z"
   },
   {
    "duration": 0,
    "start_time": "2025-05-21T09:16:54.363Z"
   },
   {
    "duration": 0,
    "start_time": "2025-05-21T09:16:54.364Z"
   },
   {
    "duration": 0,
    "start_time": "2025-05-21T09:16:54.365Z"
   },
   {
    "duration": 0,
    "start_time": "2025-05-21T09:16:54.366Z"
   },
   {
    "duration": 151,
    "start_time": "2025-05-21T09:17:28.528Z"
   },
   {
    "duration": 94,
    "start_time": "2025-05-21T09:17:35.383Z"
   },
   {
    "duration": 168,
    "start_time": "2025-05-21T09:17:37.291Z"
   },
   {
    "duration": 7,
    "start_time": "2025-05-21T09:17:52.655Z"
   },
   {
    "duration": 6,
    "start_time": "2025-05-21T09:17:53.476Z"
   },
   {
    "duration": 8,
    "start_time": "2025-05-21T09:18:07.274Z"
   },
   {
    "duration": 25,
    "start_time": "2025-05-21T09:18:09.144Z"
   },
   {
    "duration": 5,
    "start_time": "2025-05-21T09:18:30.707Z"
   },
   {
    "duration": 71,
    "start_time": "2025-05-21T09:21:48.803Z"
   },
   {
    "duration": 4,
    "start_time": "2025-05-21T09:21:50.011Z"
   },
   {
    "duration": 4,
    "start_time": "2025-05-21T09:21:54.180Z"
   },
   {
    "duration": 5,
    "start_time": "2025-05-21T09:21:58.265Z"
   },
   {
    "duration": 17,
    "start_time": "2025-05-21T09:22:01.034Z"
   },
   {
    "duration": 2735,
    "start_time": "2025-05-21T09:22:48.139Z"
   },
   {
    "duration": 3,
    "start_time": "2025-05-21T09:22:50.875Z"
   },
   {
    "duration": 13,
    "start_time": "2025-05-21T09:22:50.879Z"
   },
   {
    "duration": 11,
    "start_time": "2025-05-21T09:22:50.893Z"
   },
   {
    "duration": 2152,
    "start_time": "2025-05-21T09:22:50.906Z"
   },
   {
    "duration": 33,
    "start_time": "2025-05-21T09:22:53.060Z"
   },
   {
    "duration": 5,
    "start_time": "2025-05-21T09:22:53.095Z"
   },
   {
    "duration": 13,
    "start_time": "2025-05-21T09:22:53.102Z"
   },
   {
    "duration": 248,
    "start_time": "2025-05-21T09:22:53.116Z"
   },
   {
    "duration": 29,
    "start_time": "2025-05-21T09:22:53.366Z"
   },
   {
    "duration": 142,
    "start_time": "2025-05-21T09:22:53.396Z"
   },
   {
    "duration": 259,
    "start_time": "2025-05-21T09:22:53.540Z"
   },
   {
    "duration": 5,
    "start_time": "2025-05-21T09:22:53.801Z"
   },
   {
    "duration": 23,
    "start_time": "2025-05-21T09:22:53.809Z"
   },
   {
    "duration": 85132,
    "start_time": "2025-05-21T09:22:53.833Z"
   },
   {
    "duration": 3,
    "start_time": "2025-05-21T09:24:18.966Z"
   },
   {
    "duration": 46498,
    "start_time": "2025-05-21T09:24:18.971Z"
   },
   {
    "duration": 173,
    "start_time": "2025-05-21T09:25:05.558Z"
   },
   {
    "duration": 0,
    "start_time": "2025-05-21T09:25:05.733Z"
   },
   {
    "duration": 0,
    "start_time": "2025-05-21T09:25:05.734Z"
   },
   {
    "duration": 0,
    "start_time": "2025-05-21T09:25:05.735Z"
   },
   {
    "duration": 0,
    "start_time": "2025-05-21T09:25:05.736Z"
   },
   {
    "duration": 0,
    "start_time": "2025-05-21T09:25:05.737Z"
   },
   {
    "duration": 0,
    "start_time": "2025-05-21T09:25:05.738Z"
   },
   {
    "duration": 0,
    "start_time": "2025-05-21T09:25:05.739Z"
   },
   {
    "duration": 0,
    "start_time": "2025-05-21T09:25:05.758Z"
   },
   {
    "duration": 0,
    "start_time": "2025-05-21T09:25:05.760Z"
   },
   {
    "duration": 0,
    "start_time": "2025-05-21T09:25:05.760Z"
   },
   {
    "duration": 0,
    "start_time": "2025-05-21T09:25:05.761Z"
   },
   {
    "duration": 0,
    "start_time": "2025-05-21T09:25:05.763Z"
   },
   {
    "duration": 0,
    "start_time": "2025-05-21T09:25:05.763Z"
   },
   {
    "duration": 0,
    "start_time": "2025-05-21T09:25:05.764Z"
   },
   {
    "duration": 0,
    "start_time": "2025-05-21T09:25:05.765Z"
   },
   {
    "duration": 0,
    "start_time": "2025-05-21T09:25:05.766Z"
   },
   {
    "duration": 0,
    "start_time": "2025-05-21T09:25:05.767Z"
   },
   {
    "duration": 0,
    "start_time": "2025-05-21T09:25:05.769Z"
   },
   {
    "duration": 0,
    "start_time": "2025-05-21T09:25:05.770Z"
   },
   {
    "duration": 0,
    "start_time": "2025-05-21T09:25:05.771Z"
   },
   {
    "duration": 48,
    "start_time": "2025-05-21T09:26:40.169Z"
   },
   {
    "duration": 2842,
    "start_time": "2025-05-21T09:34:04.928Z"
   },
   {
    "duration": 3,
    "start_time": "2025-05-21T09:34:07.772Z"
   },
   {
    "duration": 22,
    "start_time": "2025-05-21T09:34:07.776Z"
   },
   {
    "duration": 6,
    "start_time": "2025-05-21T09:34:07.800Z"
   },
   {
    "duration": 2371,
    "start_time": "2025-05-21T09:34:07.808Z"
   },
   {
    "duration": 31,
    "start_time": "2025-05-21T09:34:10.181Z"
   },
   {
    "duration": 167,
    "start_time": "2025-05-21T09:34:10.214Z"
   },
   {
    "duration": 15,
    "start_time": "2025-05-21T09:34:10.382Z"
   },
   {
    "duration": 222,
    "start_time": "2025-05-21T09:34:10.398Z"
   },
   {
    "duration": 37,
    "start_time": "2025-05-21T09:34:10.622Z"
   },
   {
    "duration": 132,
    "start_time": "2025-05-21T09:34:10.660Z"
   },
   {
    "duration": 298,
    "start_time": "2025-05-21T09:34:10.793Z"
   },
   {
    "duration": 6,
    "start_time": "2025-05-21T09:34:11.093Z"
   },
   {
    "duration": 71,
    "start_time": "2025-05-21T09:34:11.101Z"
   },
   {
    "duration": 86820,
    "start_time": "2025-05-21T09:34:11.174Z"
   },
   {
    "duration": 79,
    "start_time": "2025-05-21T09:35:37.996Z"
   },
   {
    "duration": 6848,
    "start_time": "2025-05-21T09:35:38.076Z"
   },
   {
    "duration": 5,
    "start_time": "2025-05-21T09:35:44.925Z"
   },
   {
    "duration": 129015,
    "start_time": "2025-05-21T09:35:44.932Z"
   },
   {
    "duration": 0,
    "start_time": "2025-05-21T09:37:53.949Z"
   },
   {
    "duration": 0,
    "start_time": "2025-05-21T09:37:53.958Z"
   },
   {
    "duration": 0,
    "start_time": "2025-05-21T09:37:53.959Z"
   },
   {
    "duration": 0,
    "start_time": "2025-05-21T09:37:53.960Z"
   },
   {
    "duration": 0,
    "start_time": "2025-05-21T09:37:53.961Z"
   },
   {
    "duration": 0,
    "start_time": "2025-05-21T09:37:53.962Z"
   },
   {
    "duration": 0,
    "start_time": "2025-05-21T09:37:53.963Z"
   },
   {
    "duration": 5,
    "start_time": "2025-05-21T09:38:17.725Z"
   },
   {
    "duration": 1103699,
    "start_time": "2025-05-21T09:38:19.313Z"
   },
   {
    "duration": 2779,
    "start_time": "2025-05-21T10:03:02.318Z"
   },
   {
    "duration": 3,
    "start_time": "2025-05-21T10:03:05.099Z"
   },
   {
    "duration": 12,
    "start_time": "2025-05-21T10:03:05.103Z"
   },
   {
    "duration": 28,
    "start_time": "2025-05-21T10:03:05.116Z"
   },
   {
    "duration": 2714,
    "start_time": "2025-05-21T10:03:05.147Z"
   },
   {
    "duration": 31,
    "start_time": "2025-05-21T10:03:07.863Z"
   },
   {
    "duration": 4,
    "start_time": "2025-05-21T10:03:07.896Z"
   },
   {
    "duration": 14,
    "start_time": "2025-05-21T10:03:07.902Z"
   },
   {
    "duration": 244,
    "start_time": "2025-05-21T10:03:07.917Z"
   },
   {
    "duration": 27,
    "start_time": "2025-05-21T10:03:08.163Z"
   },
   {
    "duration": 144,
    "start_time": "2025-05-21T10:03:08.191Z"
   },
   {
    "duration": 222,
    "start_time": "2025-05-21T10:03:08.337Z"
   },
   {
    "duration": 7,
    "start_time": "2025-05-21T10:03:08.562Z"
   },
   {
    "duration": 23,
    "start_time": "2025-05-21T10:03:08.572Z"
   },
   {
    "duration": 85776,
    "start_time": "2025-05-21T10:03:08.597Z"
   },
   {
    "duration": 67,
    "start_time": "2025-05-21T10:04:34.375Z"
   },
   {
    "duration": 6698,
    "start_time": "2025-05-21T10:04:34.443Z"
   },
   {
    "duration": 41245,
    "start_time": "2025-05-21T10:04:41.142Z"
   },
   {
    "duration": 4150,
    "start_time": "2025-05-21T10:05:22.388Z"
   },
   {
    "duration": 86824,
    "start_time": "2025-05-21T10:05:26.540Z"
   },
   {
    "duration": 178,
    "start_time": "2025-05-21T10:41:23.295Z"
   },
   {
    "duration": 0,
    "start_time": "2025-05-21T10:41:23.475Z"
   },
   {
    "duration": 0,
    "start_time": "2025-05-21T10:41:23.480Z"
   },
   {
    "duration": 0,
    "start_time": "2025-05-21T10:41:23.481Z"
   },
   {
    "duration": 0,
    "start_time": "2025-05-21T10:41:23.482Z"
   },
   {
    "duration": 0,
    "start_time": "2025-05-21T10:41:23.483Z"
   },
   {
    "duration": 0,
    "start_time": "2025-05-21T10:41:23.484Z"
   },
   {
    "duration": 0,
    "start_time": "2025-05-21T10:41:23.485Z"
   },
   {
    "duration": 0,
    "start_time": "2025-05-21T10:41:23.486Z"
   },
   {
    "duration": 0,
    "start_time": "2025-05-21T10:41:23.487Z"
   },
   {
    "duration": 2799,
    "start_time": "2025-05-21T10:59:52.811Z"
   },
   {
    "duration": 3,
    "start_time": "2025-05-21T10:59:55.611Z"
   },
   {
    "duration": 11,
    "start_time": "2025-05-21T10:59:55.615Z"
   },
   {
    "duration": 9,
    "start_time": "2025-05-21T10:59:55.628Z"
   },
   {
    "duration": 3769,
    "start_time": "2025-05-21T10:59:55.639Z"
   },
   {
    "duration": 33,
    "start_time": "2025-05-21T10:59:59.409Z"
   },
   {
    "duration": 48,
    "start_time": "2025-05-21T10:59:59.444Z"
   },
   {
    "duration": 13,
    "start_time": "2025-05-21T10:59:59.494Z"
   },
   {
    "duration": 230,
    "start_time": "2025-05-21T10:59:59.509Z"
   },
   {
    "duration": 37,
    "start_time": "2025-05-21T10:59:59.741Z"
   },
   {
    "duration": 137,
    "start_time": "2025-05-21T10:59:59.779Z"
   },
   {
    "duration": 302,
    "start_time": "2025-05-21T10:59:59.917Z"
   },
   {
    "duration": 5,
    "start_time": "2025-05-21T11:00:00.220Z"
   },
   {
    "duration": 46,
    "start_time": "2025-05-21T11:00:00.228Z"
   },
   {
    "duration": 85356,
    "start_time": "2025-05-21T11:00:00.275Z"
   },
   {
    "duration": 76,
    "start_time": "2025-05-21T11:01:25.634Z"
   },
   {
    "duration": 6708,
    "start_time": "2025-05-21T11:01:25.711Z"
   },
   {
    "duration": 41260,
    "start_time": "2025-05-21T11:01:32.421Z"
   },
   {
    "duration": 514156,
    "start_time": "2025-05-21T11:02:13.682Z"
   },
   {
    "duration": 83847,
    "start_time": "2025-05-21T11:10:47.840Z"
   },
   {
    "duration": 367731,
    "start_time": "2025-05-21T11:12:11.688Z"
   },
   {
    "duration": 0,
    "start_time": "2025-05-21T11:18:19.421Z"
   },
   {
    "duration": 0,
    "start_time": "2025-05-21T11:18:19.422Z"
   },
   {
    "duration": 0,
    "start_time": "2025-05-21T11:18:19.424Z"
   },
   {
    "duration": 0,
    "start_time": "2025-05-21T11:18:19.425Z"
   },
   {
    "duration": 0,
    "start_time": "2025-05-21T11:18:19.427Z"
   },
   {
    "duration": 0,
    "start_time": "2025-05-21T11:18:19.428Z"
   },
   {
    "duration": 0,
    "start_time": "2025-05-21T11:18:19.430Z"
   },
   {
    "duration": 0,
    "start_time": "2025-05-21T11:18:19.432Z"
   },
   {
    "duration": 0,
    "start_time": "2025-05-21T11:18:19.433Z"
   },
   {
    "duration": 0,
    "start_time": "2025-05-21T11:18:19.434Z"
   },
   {
    "duration": 0,
    "start_time": "2025-05-21T11:18:19.436Z"
   },
   {
    "duration": 150335,
    "start_time": "2025-05-21T11:18:30.253Z"
   },
   {
    "duration": 4339,
    "start_time": "2025-05-21T11:21:12.111Z"
   },
   {
    "duration": 4075,
    "start_time": "2025-05-21T11:21:20.433Z"
   },
   {
    "duration": 5804,
    "start_time": "2025-05-21T11:21:27.460Z"
   },
   {
    "duration": 10567,
    "start_time": "2025-05-21T11:21:36.136Z"
   },
   {
    "duration": 19,
    "start_time": "2025-05-21T11:27:59.469Z"
   },
   {
    "duration": 18,
    "start_time": "2025-05-21T11:29:27.891Z"
   },
   {
    "duration": 3232,
    "start_time": "2025-05-21T11:53:27.563Z"
   },
   {
    "duration": 4,
    "start_time": "2025-05-21T11:53:30.797Z"
   },
   {
    "duration": 50,
    "start_time": "2025-05-21T11:53:30.803Z"
   },
   {
    "duration": 21,
    "start_time": "2025-05-21T11:53:30.855Z"
   },
   {
    "duration": 2428,
    "start_time": "2025-05-21T11:53:30.887Z"
   },
   {
    "duration": 47,
    "start_time": "2025-05-21T11:53:33.317Z"
   },
   {
    "duration": 13,
    "start_time": "2025-05-21T11:53:33.370Z"
   },
   {
    "duration": 18,
    "start_time": "2025-05-21T11:53:33.384Z"
   },
   {
    "duration": 270,
    "start_time": "2025-05-21T11:53:33.403Z"
   },
   {
    "duration": 32,
    "start_time": "2025-05-21T11:53:33.675Z"
   },
   {
    "duration": 191,
    "start_time": "2025-05-21T11:53:33.709Z"
   },
   {
    "duration": 290,
    "start_time": "2025-05-21T11:53:33.902Z"
   },
   {
    "duration": 10,
    "start_time": "2025-05-21T11:53:34.195Z"
   },
   {
    "duration": 6,
    "start_time": "2025-05-21T11:53:34.213Z"
   },
   {
    "duration": 108300,
    "start_time": "2025-05-21T11:53:34.221Z"
   },
   {
    "duration": 102,
    "start_time": "2025-05-21T11:55:22.523Z"
   },
   {
    "duration": 7823,
    "start_time": "2025-05-21T11:55:22.627Z"
   },
   {
    "duration": 45750,
    "start_time": "2025-05-21T11:55:30.452Z"
   },
   {
    "duration": 11138,
    "start_time": "2025-05-21T11:56:16.204Z"
   },
   {
    "duration": 149384,
    "start_time": "2025-05-21T11:56:27.344Z"
   },
   {
    "duration": 160399,
    "start_time": "2025-05-21T11:58:56.730Z"
   },
   {
    "duration": 52306,
    "start_time": "2025-05-21T12:01:37.130Z"
   },
   {
    "duration": 0,
    "start_time": "2025-05-21T12:02:29.438Z"
   },
   {
    "duration": 0,
    "start_time": "2025-05-21T12:08:43.195Z"
   },
   {
    "duration": 53588,
    "start_time": "2025-05-21T12:09:02.825Z"
   },
   {
    "duration": 46441,
    "start_time": "2025-05-21T12:12:22.439Z"
   },
   {
    "duration": 54752,
    "start_time": "2025-05-21T12:13:20.647Z"
   },
   {
    "duration": 124543,
    "start_time": "2025-05-21T12:17:08.116Z"
   },
   {
    "duration": 27,
    "start_time": "2025-05-21T12:19:40.384Z"
   },
   {
    "duration": 32,
    "start_time": "2025-05-21T12:20:06.411Z"
   },
   {
    "duration": 30,
    "start_time": "2025-05-21T12:20:11.361Z"
   },
   {
    "duration": 15,
    "start_time": "2025-05-21T14:13:51.616Z"
   },
   {
    "duration": 3,
    "start_time": "2025-05-21T14:13:54.735Z"
   },
   {
    "duration": 3,
    "start_time": "2025-05-21T14:13:56.032Z"
   },
   {
    "duration": 4,
    "start_time": "2025-05-21T14:14:55.273Z"
   },
   {
    "duration": 4,
    "start_time": "2025-05-21T14:14:57.147Z"
   },
   {
    "duration": 2,
    "start_time": "2025-05-21T14:14:59.387Z"
   },
   {
    "duration": 10,
    "start_time": "2025-05-21T14:15:09.736Z"
   },
   {
    "duration": 9,
    "start_time": "2025-05-21T14:15:13.884Z"
   },
   {
    "duration": 10,
    "start_time": "2025-05-21T14:15:26.985Z"
   },
   {
    "duration": 14,
    "start_time": "2025-05-21T14:36:38.801Z"
   },
   {
    "duration": 19,
    "start_time": "2025-05-21T15:01:35.492Z"
   },
   {
    "duration": 18,
    "start_time": "2025-05-21T15:01:46.803Z"
   }
  ],
  "kernelspec": {
   "display_name": "Python 3 (ipykernel)",
   "language": "python",
   "name": "python3"
  },
  "language_info": {
   "codemirror_mode": {
    "name": "ipython",
    "version": 3
   },
   "file_extension": ".py",
   "mimetype": "text/x-python",
   "name": "python",
   "nbconvert_exporter": "python",
   "pygments_lexer": "ipython3",
   "version": "3.9.5"
  },
  "toc": {
   "base_numbering": 1,
   "nav_menu": {},
   "number_sections": true,
   "sideBar": true,
   "skip_h1_title": true,
   "title_cell": "Содержание",
   "title_sidebar": "Contents",
   "toc_cell": true,
   "toc_position": {
    "height": "calc(100% - 180px)",
    "left": "10px",
    "top": "150px",
    "width": "302.391px"
   },
   "toc_section_display": true,
   "toc_window_display": false
  }
 },
 "nbformat": 4,
 "nbformat_minor": 4
}
